{
 "cells": [
  {
   "cell_type": "markdown",
   "metadata": {},
   "source": [
    "### Extract features from the processed and augmented audio files."
   ]
  },
  {
   "cell_type": "code",
   "execution_count": 1,
   "metadata": {},
   "outputs": [],
   "source": [
    "# Imports\n",
    "import os\n",
    "import random\n",
    "import logging\n",
    "import warnings\n",
    "import gc\n",
    "\n",
    "import numpy as np\n",
    "import pandas as pd\n",
    "from tqdm import tqdm\n",
    "\n",
    "\n",
    "# Data processing and scientific computing\n",
    "from scipy.io import wavfile\n",
    "from scipy.signal import butter, lfilter\n",
    "from scipy.spatial.distance import cosine\n",
    "\n",
    "# Audio processing\n",
    "import librosa\n",
    "import soundfile as sf\n",
    "\n",
    "# Visualization\n",
    "import matplotlib.pyplot as plt\n",
    "import plotly.express as px\n",
    "\n",
    "# Set up logging\n",
    "logging.basicConfig(level=logging.INFO)"
   ]
  },
  {
   "cell_type": "code",
   "execution_count": 2,
   "metadata": {},
   "outputs": [],
   "source": [
    "# Load the prepared csv\n",
    "augmented_data = pd.read_csv(\"augmented_data.csv\")"
   ]
  },
  {
   "cell_type": "code",
   "execution_count": 3,
   "metadata": {},
   "outputs": [
    {
     "data": {
      "text/html": [
       "<div>\n",
       "<style scoped>\n",
       "    .dataframe tbody tr th:only-of-type {\n",
       "        vertical-align: middle;\n",
       "    }\n",
       "\n",
       "    .dataframe tbody tr th {\n",
       "        vertical-align: top;\n",
       "    }\n",
       "\n",
       "    .dataframe thead th {\n",
       "        text-align: right;\n",
       "    }\n",
       "</style>\n",
       "<table border=\"1\" class=\"dataframe\">\n",
       "  <thead>\n",
       "    <tr style=\"text-align: right;\">\n",
       "      <th></th>\n",
       "      <th>genus</th>\n",
       "      <th>species</th>\n",
       "      <th>latitude</th>\n",
       "      <th>longitude</th>\n",
       "      <th>quality</th>\n",
       "      <th>file_name</th>\n",
       "      <th>simplified_type</th>\n",
       "      <th>season</th>\n",
       "      <th>time_of_day</th>\n",
       "      <th>length_seconds</th>\n",
       "      <th>processed_file</th>\n",
       "      <th>augmentations</th>\n",
       "    </tr>\n",
       "  </thead>\n",
       "  <tbody>\n",
       "    <tr>\n",
       "      <th>0</th>\n",
       "      <td>Branta</td>\n",
       "      <td>canadensis</td>\n",
       "      <td>39.2095</td>\n",
       "      <td>-84.7821</td>\n",
       "      <td>A</td>\n",
       "      <td>Branta_canadensis_Whitewater_Township_near__Ha...</td>\n",
       "      <td>Call</td>\n",
       "      <td>Spring</td>\n",
       "      <td>Morning</td>\n",
       "      <td>14</td>\n",
       "      <td>Branta_canadensis_Whitewater_Township_near__Ha...</td>\n",
       "      <td>NaN</td>\n",
       "    </tr>\n",
       "    <tr>\n",
       "      <th>1</th>\n",
       "      <td>Branta</td>\n",
       "      <td>canadensis</td>\n",
       "      <td>39.2095</td>\n",
       "      <td>-84.7821</td>\n",
       "      <td>A</td>\n",
       "      <td>Branta_canadensis_Whitewater_Township_near__Ha...</td>\n",
       "      <td>Call</td>\n",
       "      <td>Spring</td>\n",
       "      <td>Morning</td>\n",
       "      <td>14</td>\n",
       "      <td>Branta_canadensis_Whitewater_Township_near__Ha...</td>\n",
       "      <td>NaN</td>\n",
       "    </tr>\n",
       "    <tr>\n",
       "      <th>2</th>\n",
       "      <td>Branta</td>\n",
       "      <td>canadensis</td>\n",
       "      <td>39.2095</td>\n",
       "      <td>-84.7821</td>\n",
       "      <td>A</td>\n",
       "      <td>Branta_canadensis_Whitewater_Township_near__Ha...</td>\n",
       "      <td>Call</td>\n",
       "      <td>Spring</td>\n",
       "      <td>Morning</td>\n",
       "      <td>14</td>\n",
       "      <td>Branta_canadensis_Whitewater_Township_near__Ha...</td>\n",
       "      <td>NaN</td>\n",
       "    </tr>\n",
       "    <tr>\n",
       "      <th>3</th>\n",
       "      <td>Branta</td>\n",
       "      <td>canadensis</td>\n",
       "      <td>39.2095</td>\n",
       "      <td>-84.7821</td>\n",
       "      <td>A</td>\n",
       "      <td>Branta_canadensis_Whitewater_Township_near__Ha...</td>\n",
       "      <td>Call</td>\n",
       "      <td>Spring</td>\n",
       "      <td>Morning</td>\n",
       "      <td>14</td>\n",
       "      <td>Branta_canadensis_Whitewater_Township_near__Ha...</td>\n",
       "      <td>NaN</td>\n",
       "    </tr>\n",
       "    <tr>\n",
       "      <th>4</th>\n",
       "      <td>Branta</td>\n",
       "      <td>canadensis</td>\n",
       "      <td>39.2095</td>\n",
       "      <td>-84.7821</td>\n",
       "      <td>A</td>\n",
       "      <td>Branta_canadensis_Whitewater_Township_near__Ha...</td>\n",
       "      <td>Call</td>\n",
       "      <td>Spring</td>\n",
       "      <td>Morning</td>\n",
       "      <td>14</td>\n",
       "      <td>Branta_canadensis_Whitewater_Township_near__Ha...</td>\n",
       "      <td>NaN</td>\n",
       "    </tr>\n",
       "  </tbody>\n",
       "</table>\n",
       "</div>"
      ],
      "text/plain": [
       "    genus     species  latitude  longitude quality  \\\n",
       "0  Branta  canadensis   39.2095   -84.7821       A   \n",
       "1  Branta  canadensis   39.2095   -84.7821       A   \n",
       "2  Branta  canadensis   39.2095   -84.7821       A   \n",
       "3  Branta  canadensis   39.2095   -84.7821       A   \n",
       "4  Branta  canadensis   39.2095   -84.7821       A   \n",
       "\n",
       "                                           file_name simplified_type  season  \\\n",
       "0  Branta_canadensis_Whitewater_Township_near__Ha...            Call  Spring   \n",
       "1  Branta_canadensis_Whitewater_Township_near__Ha...            Call  Spring   \n",
       "2  Branta_canadensis_Whitewater_Township_near__Ha...            Call  Spring   \n",
       "3  Branta_canadensis_Whitewater_Township_near__Ha...            Call  Spring   \n",
       "4  Branta_canadensis_Whitewater_Township_near__Ha...            Call  Spring   \n",
       "\n",
       "  time_of_day  length_seconds  \\\n",
       "0     Morning              14   \n",
       "1     Morning              14   \n",
       "2     Morning              14   \n",
       "3     Morning              14   \n",
       "4     Morning              14   \n",
       "\n",
       "                                      processed_file augmentations  \n",
       "0  Branta_canadensis_Whitewater_Township_near__Ha...           NaN  \n",
       "1  Branta_canadensis_Whitewater_Township_near__Ha...           NaN  \n",
       "2  Branta_canadensis_Whitewater_Township_near__Ha...           NaN  \n",
       "3  Branta_canadensis_Whitewater_Township_near__Ha...           NaN  \n",
       "4  Branta_canadensis_Whitewater_Township_near__Ha...           NaN  "
      ]
     },
     "execution_count": 3,
     "metadata": {},
     "output_type": "execute_result"
    }
   ],
   "source": [
    "augmented_data.head()"
   ]
  },
  {
   "cell_type": "code",
   "execution_count": 4,
   "metadata": {},
   "outputs": [],
   "source": [
    "def is_valid_audio(audio, sr, min_duration=0.1, silence_threshold=-60):\n",
    "    \"\"\"Check if the audio segment is valid (not too short and not silent).\"\"\"\n",
    "    duration = librosa.get_duration(y=audio, sr=sr)\n",
    "    if duration < min_duration:\n",
    "        return False\n",
    "    # Check if the audio is mostly silent\n",
    "    db = librosa.amplitude_to_db(np.abs(audio), ref=np.max)\n",
    "    if np.mean(db) < silence_threshold:\n",
    "        return False\n",
    "    return True\n",
    "\n",
    "def extract_features(audio, sr):\n",
    "    mfccs = librosa.feature.mfcc(y=audio, sr=sr, n_mfcc=13)\n",
    "    spectral_centroids = librosa.feature.spectral_centroid(y=audio, sr=sr)[0]\n",
    "    chroma = librosa.feature.chroma_stft(y=audio, sr=sr)\n",
    "    zero_crossing_rate = librosa.feature.zero_crossing_rate(audio)[0]\n",
    "    spectral_rolloff = librosa.feature.spectral_rolloff(y=audio, sr=sr)[0]\n",
    "    return {\n",
    "        'mfccs': mfccs,\n",
    "        'spectral_centroids': spectral_centroids,\n",
    "        'chroma': chroma,\n",
    "        'zero_crossing_rate': zero_crossing_rate,\n",
    "        'spectral_rolloff': spectral_rolloff\n",
    "    }\n",
    "\n",
    "def summarize_feature(feature):\n",
    "    if feature.ndim == 1:\n",
    "        return np.array([np.mean(feature), np.std(feature), np.max(feature)])\n",
    "    elif feature.ndim == 2:\n",
    "        return np.hstack([\n",
    "            np.mean(feature, axis=1),\n",
    "            np.std(feature, axis=1),\n",
    "            np.max(feature, axis=1)\n",
    "        ])\n",
    "    else:\n",
    "        raise ValueError(f\"Unsupported feature dimension: {feature.ndim}\")\n"
   ]
  },
  {
   "cell_type": "code",
   "execution_count": 5,
   "metadata": {},
   "outputs": [],
   "source": [
    "def process_audio_file(file_path):\n",
    "    try:\n",
    "        # Load audio file\n",
    "        audio, sr = librosa.load(file_path, sr=None)\n",
    "        \n",
    "        # Check if audio segment is valid\n",
    "        if not is_valid_audio(audio, sr):\n",
    "            print(f\"Warning: Audio file {file_path} is too short or silent. Skipping.\")\n",
    "            return None\n",
    "\n",
    "        # Extract features\n",
    "        with warnings.catch_warnings():\n",
    "            warnings.simplefilter(\"ignore\")\n",
    "            features = extract_features(audio, sr)\n",
    "        \n",
    "        # Summarize features\n",
    "        feature_summary = {}\n",
    "        for key, value in features.items():\n",
    "            feature_summary[f\"{key}_summary\"] = summarize_feature(value)\n",
    "        \n",
    "        # Create feature vector\n",
    "        feature_vector = np.hstack([\n",
    "            feature_summary['mfccs_summary'],\n",
    "            feature_summary['spectral_centroids_summary'],\n",
    "            feature_summary['chroma_summary'],\n",
    "            feature_summary['zero_crossing_rate_summary'],\n",
    "            feature_summary['spectral_rolloff_summary']\n",
    "        ])\n",
    "        \n",
    "        return feature_vector\n",
    "    except Exception as e:\n",
    "        print(f\"Error processing {file_path}: {str(e)}\")\n",
    "        return None\n",
    "\n",
    "def process_audio_files_batch(df, base_dir, batch_size=500):\n",
    "    feature_data = []\n",
    "    skipped_files = []\n",
    "    \n",
    "    for i in range(0, len(df), batch_size):\n",
    "        batch = df.iloc[i:i+batch_size]\n",
    "        batch_feature_data = []  # Temporary storage for batch features\n",
    "        for _, row in tqdm(batch.iterrows(), total=len(batch)):\n",
    "            possible_paths = [\n",
    "                os.path.join(base_dir, 'Augmented Recordings', row['processed_file']),\n",
    "                os.path.join(base_dir, 'Processed Recordings', row['processed_file'])\n",
    "            ]\n",
    "            \n",
    "            file_path = next((path for path in possible_paths if os.path.exists(path)), None)\n",
    "            \n",
    "            if file_path is None:\n",
    "                print(f\"File not found: {row['processed_file']}\")\n",
    "                skipped_files.append(row['processed_file'])\n",
    "                continue\n",
    "            \n",
    "            feature_vector = process_audio_file(file_path)\n",
    "            \n",
    "            if feature_vector is not None:\n",
    "                batch_feature_data.append({\n",
    "                    'processed_file': row['processed_file'],\n",
    "                    'feature_vector': feature_vector,\n",
    "                })\n",
    "            else:\n",
    "                skipped_files.append(row['processed_file'])\n",
    "            \n",
    "            # More frequent garbage collection to avoid memory overflow\n",
    "            gc.collect()\n",
    "        \n",
    "        # Append batch data to main feature data and save to disk\n",
    "        feature_data.extend(batch_feature_data)\n",
    "        batch_df = pd.DataFrame(batch_feature_data)\n",
    "        batch_df.to_csv(f\"feature_data_batch_{i//batch_size}.csv\", index=False)\n",
    "        \n",
    "        # Clear batch data from memory\n",
    "        batch_feature_data.clear()\n",
    "        gc.collect()\n",
    "\n",
    "    print(f\"Total files skipped: {len(skipped_files)}\")\n",
    "    return feature_data, skipped_files"
   ]
  },
  {
   "cell_type": "code",
   "execution_count": 6,
   "metadata": {},
   "outputs": [
    {
     "name": "stderr",
     "output_type": "stream",
     "text": [
      "  6%|▌         | 28/500 [00:05<00:57,  8.24it/s]"
     ]
    },
    {
     "name": "stdout",
     "output_type": "stream",
     "text": [
      "Warning: Audio file c:\\Users\\16148\\Desktop\\Projects\\bird_call_project\\Processed Recordings\\Branta_canadensis_Miami_Whitewater_Forest_Park_wetlands_Crosby_Township_near__Harrison_Hamilton_County_Ohio_691528_segment_7.wav is too short or silent. Skipping.\n"
     ]
    },
    {
     "name": "stderr",
     "output_type": "stream",
     "text": [
      " 23%|██▎       | 113/500 [00:17<00:49,  7.80it/s]"
     ]
    },
    {
     "name": "stdout",
     "output_type": "stream",
     "text": [
      "Warning: Audio file c:\\Users\\16148\\Desktop\\Projects\\bird_call_project\\Processed Recordings\\Colinus_virginianus_New_Market_Township_near__Hoagland_Highland_County_Ohio_805814_segment_23.wav is too short or silent. Skipping.\n"
     ]
    },
    {
     "name": "stderr",
     "output_type": "stream",
     "text": [
      " 24%|██▍       | 122/500 [00:19<00:49,  7.56it/s]"
     ]
    },
    {
     "name": "stdout",
     "output_type": "stream",
     "text": [
      "Warning: Audio file c:\\Users\\16148\\Desktop\\Projects\\bird_call_project\\Processed Recordings\\Colinus_virginianus_Michigan_Monroe_County_17130_segment_8.wav is too short or silent. Skipping.\n"
     ]
    },
    {
     "name": "stderr",
     "output_type": "stream",
     "text": [
      " 30%|██▉       | 148/500 [00:26<01:37,  3.60it/s]"
     ]
    },
    {
     "name": "stdout",
     "output_type": "stream",
     "text": [
      "Warning: Audio file c:\\Users\\16148\\Desktop\\Projects\\bird_call_project\\Processed Recordings\\Chordeiles_minor_Green_Township_near__Cincinnati_Hamilton_County_Ohio_647199_segment_26.wav is too short or silent. Skipping.\n"
     ]
    },
    {
     "name": "stderr",
     "output_type": "stream",
     "text": [
      " 34%|███▎      | 168/500 [00:32<01:24,  3.93it/s]"
     ]
    },
    {
     "name": "stdout",
     "output_type": "stream",
     "text": [
      "Warning: Audio file c:\\Users\\16148\\Desktop\\Projects\\bird_call_project\\Processed Recordings\\Antrostomus_carolinensis_Brush_Creek_Township_near__West_Union_Adams_County_Ohio_939173_segment_19.wav is too short or silent. Skipping.\n"
     ]
    },
    {
     "name": "stderr",
     "output_type": "stream",
     "text": [
      " 38%|███▊      | 189/500 [00:38<01:21,  3.80it/s]"
     ]
    },
    {
     "name": "stdout",
     "output_type": "stream",
     "text": [
      "Warning: Audio file c:\\Users\\16148\\Desktop\\Projects\\bird_call_project\\Processed Recordings\\Antrostomus_carolinensis_Hamilton_Rd_Adams_Cty_Ohio_939171_segment_20.wav is too short or silent. Skipping.\n"
     ]
    },
    {
     "name": "stderr",
     "output_type": "stream",
     "text": [
      " 50%|████▉     | 248/500 [00:52<00:29,  8.58it/s]"
     ]
    },
    {
     "name": "stdout",
     "output_type": "stream",
     "text": [
      "Warning: Audio file c:\\Users\\16148\\Desktop\\Projects\\bird_call_project\\Processed Recordings\\Antrostomus_vociferus_Sutton_Braxton_County_West_Virginia_929758_segment_29.wav is too short or silent. Skipping.\n"
     ]
    },
    {
     "name": "stderr",
     "output_type": "stream",
     "text": [
      " 56%|█████▌    | 281/500 [00:56<00:25,  8.72it/s]"
     ]
    },
    {
     "name": "stdout",
     "output_type": "stream",
     "text": [
      "Warning: Audio file c:\\Users\\16148\\Desktop\\Projects\\bird_call_project\\Processed Recordings\\Coccyzus_americanus_Magee_Marsh_boardwalk_west_end_262809_segment_26.wav is too short or silent. Skipping.\n"
     ]
    },
    {
     "name": "stderr",
     "output_type": "stream",
     "text": [
      " 57%|█████▋    | 284/500 [00:56<00:24,  8.93it/s]"
     ]
    },
    {
     "name": "stdout",
     "output_type": "stream",
     "text": [
      "Warning: Audio file c:\\Users\\16148\\Desktop\\Projects\\bird_call_project\\Processed Recordings\\Coccyzus_erythropthalmus_Point_Pelee_National_Park_Essex_County_Ontario_910739_segment_2.wav is too short or silent. Skipping.\n"
     ]
    },
    {
     "name": "stderr",
     "output_type": "stream",
     "text": [
      " 58%|█████▊    | 288/500 [00:57<00:23,  8.86it/s]"
     ]
    },
    {
     "name": "stdout",
     "output_type": "stream",
     "text": [
      "Warning: Audio file c:\\Users\\16148\\Desktop\\Projects\\bird_call_project\\Processed Recordings\\Coccyzus_erythropthalmus_Thursby_Rd_near_Singer_Lake_Green_Summit_County_Ohio_376138_segment_3.wav is too short or silent. Skipping.\n"
     ]
    },
    {
     "name": "stderr",
     "output_type": "stream",
     "text": [
      " 59%|█████▉    | 297/500 [00:58<00:23,  8.54it/s]"
     ]
    },
    {
     "name": "stdout",
     "output_type": "stream",
     "text": [
      "Warning: Audio file c:\\Users\\16148\\Desktop\\Projects\\bird_call_project\\Processed Recordings\\Rallus_elegans_Glacier_Ridge_Metro_Park--Honda_Wetlands_103499_segment_4.wav is too short or silent. Skipping.\n"
     ]
    },
    {
     "name": "stderr",
     "output_type": "stream",
     "text": [
      " 61%|██████    | 303/500 [00:59<00:23,  8.35it/s]"
     ]
    },
    {
     "name": "stdout",
     "output_type": "stream",
     "text": [
      "Warning: Audio file c:\\Users\\16148\\Desktop\\Projects\\bird_call_project\\Processed Recordings\\Porzana_carolina_Battelle_Darby_Metro_Park_-_Wetlands_417847_segment_2.wav is too short or silent. Skipping.\n"
     ]
    },
    {
     "name": "stderr",
     "output_type": "stream",
     "text": [
      " 69%|██████▉   | 344/500 [01:04<00:18,  8.65it/s]"
     ]
    },
    {
     "name": "stdout",
     "output_type": "stream",
     "text": [
      "Warning: Audio file c:\\Users\\16148\\Desktop\\Projects\\bird_call_project\\Processed Recordings\\Charadrius_vociferus_Ross_Township_near__Hamilton_Butler_County_Ohio_533371_segment_6.wav is too short or silent. Skipping.\n"
     ]
    },
    {
     "name": "stderr",
     "output_type": "stream",
     "text": [
      " 70%|██████▉   | 348/500 [01:04<00:17,  8.82it/s]"
     ]
    },
    {
     "name": "stdout",
     "output_type": "stream",
     "text": [
      "Warning: Audio file c:\\Users\\16148\\Desktop\\Projects\\bird_call_project\\Processed Recordings\\Calidris_alpina_Ohio_Magee_Marsh_17027_segment_3.wav is too short or silent. Skipping.\n"
     ]
    },
    {
     "name": "stderr",
     "output_type": "stream",
     "text": [
      " 70%|███████   | 352/500 [01:05<00:17,  8.61it/s]"
     ]
    },
    {
     "name": "stdout",
     "output_type": "stream",
     "text": [
      "Warning: Audio file c:\\Users\\16148\\Desktop\\Projects\\bird_call_project\\Processed Recordings\\Scolopax_minor_Brush_Creek_Township_near__West_Union_Adams_County_Ohio_939172_segment_3.wav is too short or silent. Skipping.\n"
     ]
    },
    {
     "name": "stderr",
     "output_type": "stream",
     "text": [
      "100%|██████████| 500/500 [01:24<00:00,  5.92it/s]\n",
      "  1%|          | 3/500 [00:00<00:55,  9.03it/s]"
     ]
    },
    {
     "name": "stdout",
     "output_type": "stream",
     "text": [
      "Warning: Audio file c:\\Users\\16148\\Desktop\\Projects\\bird_call_project\\Processed Recordings\\Scolopax_minor_Maumee_Bay_SP_Ohio_418103_segment_56.wav is too short or silent. Skipping.\n"
     ]
    },
    {
     "name": "stderr",
     "output_type": "stream",
     "text": [
      " 42%|████▏     | 211/500 [00:42<01:13,  3.92it/s]"
     ]
    },
    {
     "name": "stdout",
     "output_type": "stream",
     "text": [
      "Warning: Audio file c:\\Users\\16148\\Desktop\\Projects\\bird_call_project\\Processed Recordings\\Tringa_flavipes_Ohio_Magee_Marsh_17051_segment_2.wav is too short or silent. Skipping.\n"
     ]
    },
    {
     "name": "stderr",
     "output_type": "stream",
     "text": [
      " 43%|████▎     | 215/500 [00:43<01:08,  4.17it/s]"
     ]
    },
    {
     "name": "stdout",
     "output_type": "stream",
     "text": [
      "Warning: Audio file c:\\Users\\16148\\Desktop\\Projects\\bird_call_project\\Processed Recordings\\Tringa_flavipes_Ohio_Magee_Marsh_17050_segment_3.wav is too short or silent. Skipping.\n"
     ]
    },
    {
     "name": "stderr",
     "output_type": "stream",
     "text": [
      " 44%|████▍     | 220/500 [00:45<01:07,  4.16it/s]"
     ]
    },
    {
     "name": "stdout",
     "output_type": "stream",
     "text": [
      "Warning: Audio file c:\\Users\\16148\\Desktop\\Projects\\bird_call_project\\Processed Recordings\\Tringa_flavipes_Ohio_Magee_Marsh_17049_segment_4.wav is too short or silent. Skipping.\n"
     ]
    },
    {
     "name": "stderr",
     "output_type": "stream",
     "text": [
      " 56%|█████▌    | 281/500 [01:03<00:55,  3.92it/s]"
     ]
    },
    {
     "name": "stdout",
     "output_type": "stream",
     "text": [
      "Warning: Audio file c:\\Users\\16148\\Desktop\\Projects\\bird_call_project\\Processed Recordings\\Ardea_alba_Ohio_Ottawa_NWR_17012_segment_2.wav is too short or silent. Skipping.\n"
     ]
    },
    {
     "name": "stderr",
     "output_type": "stream",
     "text": [
      " 58%|█████▊    | 292/500 [01:06<00:57,  3.64it/s]"
     ]
    },
    {
     "name": "stdout",
     "output_type": "stream",
     "text": [
      "Warning: Audio file c:\\Users\\16148\\Desktop\\Projects\\bird_call_project\\Processed Recordings\\Accipiter_cooperii_Michigan_Monroe_County_17115_segment_10.wav is too short or silent. Skipping.\n"
     ]
    },
    {
     "name": "stderr",
     "output_type": "stream",
     "text": [
      " 63%|██████▎   | 314/500 [01:13<00:48,  3.84it/s]"
     ]
    },
    {
     "name": "stdout",
     "output_type": "stream",
     "text": [
      "Warning: Audio file c:\\Users\\16148\\Desktop\\Projects\\bird_call_project\\Processed Recordings\\Buteo_lineatus_Green_Township_near__Cincinnati_Hamilton_County_Ohio_809281_segment_21.wav is too short or silent. Skipping.\n"
     ]
    },
    {
     "name": "stderr",
     "output_type": "stream",
     "text": [
      " 65%|██████▍   | 324/500 [01:16<00:42,  4.14it/s]"
     ]
    },
    {
     "name": "stdout",
     "output_type": "stream",
     "text": [
      "Warning: Audio file c:\\Users\\16148\\Desktop\\Projects\\bird_call_project\\Processed Recordings\\Buteo_lineatus_Miami_Whitewater_Forest_Park_wetlands_Crosby_Township_near__Harrison_Hamilton_County_Ohio_691446_segment_9.wav is too short or silent. Skipping.\n"
     ]
    },
    {
     "name": "stderr",
     "output_type": "stream",
     "text": [
      " 72%|███████▏  | 362/500 [01:27<00:33,  4.17it/s]"
     ]
    },
    {
     "name": "stdout",
     "output_type": "stream",
     "text": [
      "Warning: Audio file c:\\Users\\16148\\Desktop\\Projects\\bird_call_project\\Processed Recordings\\Buteo_jamaicensis_Michigan_Monroe_County_17117_segment_10.wav is too short or silent. Skipping.\n"
     ]
    },
    {
     "name": "stderr",
     "output_type": "stream",
     "text": [
      "100%|██████████| 500/500 [02:05<00:00,  3.97it/s]\n",
      "  6%|▋         | 32/500 [00:08<01:59,  3.92it/s]"
     ]
    },
    {
     "name": "stdout",
     "output_type": "stream",
     "text": [
      "Warning: Audio file c:\\Users\\16148\\Desktop\\Projects\\bird_call_project\\Processed Recordings\\Bubo_virginianus_mount_orab_ohio_664390_segment_29.wav is too short or silent. Skipping.\n"
     ]
    },
    {
     "name": "stderr",
     "output_type": "stream",
     "text": [
      " 29%|██▉       | 147/500 [00:44<01:35,  3.71it/s]"
     ]
    },
    {
     "name": "stdout",
     "output_type": "stream",
     "text": [
      "Warning: Audio file c:\\Users\\16148\\Desktop\\Projects\\bird_call_project\\Processed Recordings\\Megascops_asio_mount_orab_ohio_624995_segment_47.wav is too short or silent. Skipping.\n"
     ]
    },
    {
     "name": "stderr",
     "output_type": "stream",
     "text": [
      " 37%|███▋      | 186/500 [00:55<01:17,  4.05it/s]"
     ]
    },
    {
     "name": "stdout",
     "output_type": "stream",
     "text": [
      "Warning: Audio file c:\\Users\\16148\\Desktop\\Projects\\bird_call_project\\Processed Recordings\\Megascops_asio_mount_orab_ohio_624576_segment_11.wav is too short or silent. Skipping.\n"
     ]
    },
    {
     "name": "stderr",
     "output_type": "stream",
     "text": [
      " 43%|████▎     | 216/500 [01:04<01:14,  3.82it/s]"
     ]
    },
    {
     "name": "stdout",
     "output_type": "stream",
     "text": [
      "Warning: Audio file c:\\Users\\16148\\Desktop\\Projects\\bird_call_project\\Processed Recordings\\Strix_varia_mount_orab_ohio_494579_segment_5.wav is too short or silent. Skipping.\n"
     ]
    },
    {
     "name": "stderr",
     "output_type": "stream",
     "text": [
      " 44%|████▍     | 221/500 [01:06<01:15,  3.68it/s]"
     ]
    },
    {
     "name": "stdout",
     "output_type": "stream",
     "text": [
      "Warning: Audio file c:\\Users\\16148\\Desktop\\Projects\\bird_call_project\\Processed Recordings\\Strix_varia_mount_orab_ohio_494421_segment_4.wav is too short or silent. Skipping.\n"
     ]
    },
    {
     "name": "stderr",
     "output_type": "stream",
     "text": [
      " 53%|█████▎    | 263/500 [01:18<01:01,  3.83it/s]"
     ]
    },
    {
     "name": "stdout",
     "output_type": "stream",
     "text": [
      "Warning: Audio file c:\\Users\\16148\\Desktop\\Projects\\bird_call_project\\Processed Recordings\\Melanerpes_erythrocephalus_Crosby_Township_near__Harrison_Hamilton_County_Ohio_774908_segment_24.wav is too short or silent. Skipping.\n"
     ]
    },
    {
     "name": "stderr",
     "output_type": "stream",
     "text": [
      " 59%|█████▉    | 294/500 [01:27<00:48,  4.21it/s]"
     ]
    },
    {
     "name": "stdout",
     "output_type": "stream",
     "text": [
      "Warning: Audio file c:\\Users\\16148\\Desktop\\Projects\\bird_call_project\\Processed Recordings\\Melanerpes_erythrocephalus_Kendrick_Woods_State_Nature_Preserve_Allen_County_Ohio_698853_segment_29.wav is too short or silent. Skipping.\n",
      "Warning: Audio file c:\\Users\\16148\\Desktop\\Projects\\bird_call_project\\Processed Recordings\\Melanerpes_erythrocephalus_Kendrick_Woods_State_Nature_Preserve_Allen_County_Ohio_698853_segment_30.wav is too short or silent. Skipping.\n"
     ]
    },
    {
     "name": "stderr",
     "output_type": "stream",
     "text": [
      " 60%|█████▉    | 299/500 [01:28<00:55,  3.65it/s]"
     ]
    },
    {
     "name": "stdout",
     "output_type": "stream",
     "text": [
      "Warning: Audio file c:\\Users\\16148\\Desktop\\Projects\\bird_call_project\\Processed Recordings\\Melanerpes_erythrocephalus_Lawrence_Woods_SNP_477578_segment_4.wav is too short or silent. Skipping.\n"
     ]
    },
    {
     "name": "stderr",
     "output_type": "stream",
     "text": [
      " 63%|██████▎   | 313/500 [01:32<00:41,  4.46it/s]"
     ]
    },
    {
     "name": "stdout",
     "output_type": "stream",
     "text": [
      "Warning: Audio file c:\\Users\\16148\\Desktop\\Projects\\bird_call_project\\Processed Recordings\\Melanerpes_erythrocephalus_Pelee_near__Leamington_Essex_County_Ontario_477003_segment_13.wav is too short or silent. Skipping.\n"
     ]
    },
    {
     "name": "stderr",
     "output_type": "stream",
     "text": [
      " 63%|██████▎   | 317/500 [01:33<00:41,  4.46it/s]"
     ]
    },
    {
     "name": "stdout",
     "output_type": "stream",
     "text": [
      "Warning: Audio file c:\\Users\\16148\\Desktop\\Projects\\bird_call_project\\Processed Recordings\\Melanerpes_erythrocephalus_Crosby_Township_near__Harrison_Hamilton_County_Ohio_774907_segment_3.wav is too short or silent. Skipping.\n"
     ]
    },
    {
     "name": "stderr",
     "output_type": "stream",
     "text": [
      " 65%|██████▌   | 326/500 [01:36<00:44,  3.95it/s]"
     ]
    },
    {
     "name": "stdout",
     "output_type": "stream",
     "text": [
      "Warning: Audio file c:\\Users\\16148\\Desktop\\Projects\\bird_call_project\\Processed Recordings\\Melanerpes_carolinus_Miami_Whitewater_Forest_Park_wetlands_Crosby_Township_near__Harrison_Hamilton_County_Ohio_687174_segment_8.wav is too short or silent. Skipping.\n"
     ]
    },
    {
     "name": "stderr",
     "output_type": "stream",
     "text": [
      " 66%|██████▌   | 331/500 [01:37<00:35,  4.73it/s]"
     ]
    },
    {
     "name": "stdout",
     "output_type": "stream",
     "text": [
      "Warning: Audio file c:\\Users\\16148\\Desktop\\Projects\\bird_call_project\\Processed Recordings\\Melanerpes_carolinus_Tanglewood_Lane_Cincinnati_Ohio_302917_segment_4.wav is too short or silent. Skipping.\n"
     ]
    },
    {
     "name": "stderr",
     "output_type": "stream",
     "text": [
      " 92%|█████████▏| 459/500 [02:00<00:04,  8.52it/s]"
     ]
    },
    {
     "name": "stdout",
     "output_type": "stream",
     "text": [
      "Warning: Audio file c:\\Users\\16148\\Desktop\\Projects\\bird_call_project\\Processed Recordings\\Melanerpes_carolinus_Westlake_Cuyahoga_Ohio_115025_segment_12.wav is too short or silent. Skipping.\n"
     ]
    },
    {
     "name": "stderr",
     "output_type": "stream",
     "text": [
      " 92%|█████████▏| 462/500 [02:00<00:04,  8.75it/s]"
     ]
    },
    {
     "name": "stdout",
     "output_type": "stream",
     "text": [
      "Warning: Audio file c:\\Users\\16148\\Desktop\\Projects\\bird_call_project\\Processed Recordings\\Melanerpes_carolinus_Lawrence_Woods_SNP_417981_segment_2.wav is too short or silent. Skipping.\n"
     ]
    },
    {
     "name": "stderr",
     "output_type": "stream",
     "text": [
      " 95%|█████████▍| 474/500 [02:02<00:02,  8.72it/s]"
     ]
    },
    {
     "name": "stdout",
     "output_type": "stream",
     "text": [
      "Warning: Audio file c:\\Users\\16148\\Desktop\\Projects\\bird_call_project\\Processed Recordings\\Sphyrapicus_varius_Tanglewood_Lane_Cincinnati_Ohio_302918_segment_11.wav is too short or silent. Skipping.\n"
     ]
    },
    {
     "name": "stderr",
     "output_type": "stream",
     "text": [
      "100%|██████████| 500/500 [02:05<00:00,  3.99it/s]\n",
      "  2%|▏         | 8/500 [00:00<00:58,  8.43it/s]"
     ]
    },
    {
     "name": "stdout",
     "output_type": "stream",
     "text": [
      "Warning: Audio file c:\\Users\\16148\\Desktop\\Projects\\bird_call_project\\Processed Recordings\\Dryobates_pubescens_Green_Township_near__Cincinnati_Hamilton_County_Ohio_676924_segment_7.wav is too short or silent. Skipping.\n"
     ]
    },
    {
     "name": "stderr",
     "output_type": "stream",
     "text": [
      "  2%|▏         | 11/500 [00:01<00:57,  8.44it/s]"
     ]
    },
    {
     "name": "stdout",
     "output_type": "stream",
     "text": [
      "Warning: Audio file c:\\Users\\16148\\Desktop\\Projects\\bird_call_project\\Processed Recordings\\Dryobates_pubescens_Pelee_near__Leamington_Essex_County_Ontario_476564_segment_2.wav is too short or silent. Skipping.\n"
     ]
    },
    {
     "name": "stderr",
     "output_type": "stream",
     "text": [
      "  4%|▍         | 19/500 [00:02<01:00,  8.01it/s]"
     ]
    },
    {
     "name": "stdout",
     "output_type": "stream",
     "text": [
      "Warning: Audio file c:\\Users\\16148\\Desktop\\Projects\\bird_call_project\\Processed Recordings\\Dryobates_pubescens_Wegerzyn_garden_near__Dayton_Montgomery_County_Ohio_807220_segment_7.wav is too short or silent. Skipping.\n"
     ]
    },
    {
     "name": "stderr",
     "output_type": "stream",
     "text": [
      "  6%|▌         | 28/500 [00:03<01:01,  7.63it/s]"
     ]
    },
    {
     "name": "stdout",
     "output_type": "stream",
     "text": [
      "Warning: Audio file c:\\Users\\16148\\Desktop\\Projects\\bird_call_project\\Processed Recordings\\Leuconotopicus_villosus_Green_Township_near__Lynx_Adams_County_Ohio_302925_segment_8.wav is too short or silent. Skipping.\n"
     ]
    },
    {
     "name": "stderr",
     "output_type": "stream",
     "text": [
      "  8%|▊         | 41/500 [00:05<01:08,  6.73it/s]"
     ]
    },
    {
     "name": "stdout",
     "output_type": "stream",
     "text": [
      "Warning: Audio file c:\\Users\\16148\\Desktop\\Projects\\bird_call_project\\Processed Recordings\\Leuconotopicus_villosus_Miami_Township_near__Cleves_Hamilton_County_Ohio_775844_segment_13.wav is too short or silent. Skipping.\n"
     ]
    },
    {
     "name": "stderr",
     "output_type": "stream",
     "text": [
      " 13%|█▎        | 65/500 [00:09<00:52,  8.32it/s]"
     ]
    },
    {
     "name": "stdout",
     "output_type": "stream",
     "text": [
      "Warning: Audio file c:\\Users\\16148\\Desktop\\Projects\\bird_call_project\\Processed Recordings\\Colaptes_auratus_Green_Township_near__Cincinnati_Hamilton_County_Ohio_807485_segment_22.wav is too short or silent. Skipping.\n"
     ]
    },
    {
     "name": "stderr",
     "output_type": "stream",
     "text": [
      " 18%|█▊        | 88/500 [00:12<00:49,  8.40it/s]"
     ]
    },
    {
     "name": "stdout",
     "output_type": "stream",
     "text": [
      "Warning: Audio file c:\\Users\\16148\\Desktop\\Projects\\bird_call_project\\Processed Recordings\\Colaptes_auratus_Anderson_Township_near__Cincinnati_Hamilton_County_Ohio_542520_segment_22.wav is too short or silent. Skipping.\n"
     ]
    },
    {
     "name": "stderr",
     "output_type": "stream",
     "text": [
      " 33%|███▎      | 165/500 [00:22<00:41,  8.15it/s]"
     ]
    },
    {
     "name": "stdout",
     "output_type": "stream",
     "text": [
      "Warning: Audio file c:\\Users\\16148\\Desktop\\Projects\\bird_call_project\\Processed Recordings\\Dryocopus_pileatus_Harrison_Township_near__Harrison_Hamilton_County_Ohio_691470_segment_76.wav is too short or silent. Skipping.\n"
     ]
    },
    {
     "name": "stderr",
     "output_type": "stream",
     "text": [
      " 34%|███▍      | 171/500 [00:23<00:40,  8.17it/s]"
     ]
    },
    {
     "name": "stdout",
     "output_type": "stream",
     "text": [
      "Warning: Audio file c:\\Users\\16148\\Desktop\\Projects\\bird_call_project\\Processed Recordings\\Dryocopus_pileatus_Harrison_Township_near__Harrison_Hamilton_County_Ohio_728222_segment_5.wav is too short or silent. Skipping.\n"
     ]
    },
    {
     "name": "stderr",
     "output_type": "stream",
     "text": [
      " 40%|████      | 201/500 [00:27<00:40,  7.43it/s]"
     ]
    },
    {
     "name": "stdout",
     "output_type": "stream",
     "text": [
      "Warning: Audio file c:\\Users\\16148\\Desktop\\Projects\\bird_call_project\\Processed Recordings\\Sayornis_phoebe_Harrison_Township_near__Harrison_Hamilton_County_Ohio_713589_segment_8.wav is too short or silent. Skipping.\n"
     ]
    },
    {
     "name": "stderr",
     "output_type": "stream",
     "text": [
      " 42%|████▏     | 212/500 [00:29<00:41,  6.94it/s]"
     ]
    },
    {
     "name": "stdout",
     "output_type": "stream",
     "text": [
      "Warning: Audio file c:\\Users\\16148\\Desktop\\Projects\\bird_call_project\\Processed Recordings\\Sayornis_phoebe_Pelee_near__Leamington_Essex_County_Ontario_476566_segment_12.wav is too short or silent. Skipping.\n"
     ]
    },
    {
     "name": "stderr",
     "output_type": "stream",
     "text": [
      " 45%|████▍     | 224/500 [00:31<00:33,  8.14it/s]"
     ]
    },
    {
     "name": "stdout",
     "output_type": "stream",
     "text": [
      "Warning: Audio file c:\\Users\\16148\\Desktop\\Projects\\bird_call_project\\Processed Recordings\\Contopus_virens_Pelee_near__Leamington_Essex_County_Ontario_476568_segment_9.wav is too short or silent. Skipping.\n"
     ]
    },
    {
     "name": "stderr",
     "output_type": "stream",
     "text": [
      " 47%|████▋     | 237/500 [00:32<00:33,  7.91it/s]"
     ]
    },
    {
     "name": "stdout",
     "output_type": "stream",
     "text": [
      "Warning: Audio file c:\\Users\\16148\\Desktop\\Projects\\bird_call_project\\Processed Recordings\\Contopus_virens_Whitewater_Township_near__Cleves_Hamilton_County_Ohio_928713_segment_12.wav is too short or silent. Skipping.\n"
     ]
    },
    {
     "name": "stderr",
     "output_type": "stream",
     "text": [
      " 54%|█████▍    | 270/500 [00:37<00:27,  8.37it/s]"
     ]
    },
    {
     "name": "stdout",
     "output_type": "stream",
     "text": [
      "Warning: Audio file c:\\Users\\16148\\Desktop\\Projects\\bird_call_project\\Processed Recordings\\Contopus_virens_Whitewater_Township_near__Cleves_Hamilton_County_Ohio_817712_segment_32.wav is too short or silent. Skipping.\n"
     ]
    },
    {
     "name": "stderr",
     "output_type": "stream",
     "text": [
      " 57%|█████▋    | 284/500 [00:39<00:26,  8.19it/s]"
     ]
    },
    {
     "name": "stdout",
     "output_type": "stream",
     "text": [
      "Warning: Audio file c:\\Users\\16148\\Desktop\\Projects\\bird_call_project\\Processed Recordings\\Contopus_virens_Harrison_Township_near__Harrison_Hamilton_County_Ohio_726814_segment_13.wav is too short or silent. Skipping.\n"
     ]
    },
    {
     "name": "stderr",
     "output_type": "stream",
     "text": [
      " 81%|████████  | 405/500 [00:57<00:15,  6.31it/s]"
     ]
    },
    {
     "name": "stdout",
     "output_type": "stream",
     "text": [
      "Warning: Audio file c:\\Users\\16148\\Desktop\\Projects\\bird_call_project\\Processed Recordings\\Empidonax_virescens_Harrison_Township_near__Harrison_Hamilton_County_Ohio_728279_segment_21.wav is too short or silent. Skipping.\n"
     ]
    },
    {
     "name": "stderr",
     "output_type": "stream",
     "text": [
      " 82%|████████▏ | 410/500 [00:58<00:15,  5.77it/s]"
     ]
    },
    {
     "name": "stdout",
     "output_type": "stream",
     "text": [
      "Warning: Audio file c:\\Users\\16148\\Desktop\\Projects\\bird_call_project\\Processed Recordings\\Empidonax_virescens_Harrison_Township_near__Harrison_Hamilton_County_Ohio_728275_segment_5.wav is too short or silent. Skipping.\n"
     ]
    },
    {
     "name": "stderr",
     "output_type": "stream",
     "text": [
      " 97%|█████████▋| 484/500 [01:08<00:01,  8.68it/s]"
     ]
    },
    {
     "name": "stdout",
     "output_type": "stream",
     "text": [
      "Warning: Audio file c:\\Users\\16148\\Desktop\\Projects\\bird_call_project\\Processed Recordings\\Empidonax_traillii_Magee_Marsh_Ohio_298581_segment_3.wav is too short or silent. Skipping.\n"
     ]
    },
    {
     "name": "stderr",
     "output_type": "stream",
     "text": [
      "100%|█████████▉| 499/500 [01:10<00:00,  8.07it/s]"
     ]
    },
    {
     "name": "stdout",
     "output_type": "stream",
     "text": [
      "Warning: Audio file c:\\Users\\16148\\Desktop\\Projects\\bird_call_project\\Processed Recordings\\Empidonax_traillii_Magee_Marsh_Ohio_298355_segment_13.wav is too short or silent. Skipping.\n"
     ]
    },
    {
     "name": "stderr",
     "output_type": "stream",
     "text": [
      "100%|██████████| 500/500 [01:10<00:00,  7.07it/s]\n",
      "  3%|▎         | 16/500 [00:02<00:57,  8.37it/s]"
     ]
    },
    {
     "name": "stdout",
     "output_type": "stream",
     "text": [
      "Warning: Audio file c:\\Users\\16148\\Desktop\\Projects\\bird_call_project\\Processed Recordings\\Empidonax_traillii_Whitewater_Township_near__Harrison_Hamilton_County_Ohio_726752_segment_16.wav is too short or silent. Skipping.\n"
     ]
    },
    {
     "name": "stderr",
     "output_type": "stream",
     "text": [
      "  6%|▌         | 31/500 [00:04<00:56,  8.36it/s]"
     ]
    },
    {
     "name": "stdout",
     "output_type": "stream",
     "text": [
      "Warning: Audio file c:\\Users\\16148\\Desktop\\Projects\\bird_call_project\\Processed Recordings\\Empidonax_traillii_Franklin_Township_near__Wooster_Wayne_County_Ohio_418568_segment_14.wav is too short or silent. Skipping.\n"
     ]
    },
    {
     "name": "stderr",
     "output_type": "stream",
     "text": [
      " 14%|█▍        | 70/500 [00:09<00:49,  8.73it/s]"
     ]
    },
    {
     "name": "stdout",
     "output_type": "stream",
     "text": [
      "Warning: Audio file c:\\Users\\16148\\Desktop\\Projects\\bird_call_project\\Processed Recordings\\Empidonax_traillii_Magee_Marsh_Ohio_298575_segment_38.wav is too short or silent. Skipping.\n"
     ]
    },
    {
     "name": "stderr",
     "output_type": "stream",
     "text": [
      " 16%|█▌        | 80/500 [00:10<00:50,  8.40it/s]"
     ]
    },
    {
     "name": "stdout",
     "output_type": "stream",
     "text": [
      "Warning: Audio file c:\\Users\\16148\\Desktop\\Projects\\bird_call_project\\Processed Recordings\\Empidonax_traillii_Spring_Valley_near__Waynesville_Greene_Cty_Ohio_477603_segment_10.wav is too short or silent. Skipping.\n"
     ]
    },
    {
     "name": "stderr",
     "output_type": "stream",
     "text": [
      " 18%|█▊        | 91/500 [00:12<00:51,  7.91it/s]"
     ]
    },
    {
     "name": "stdout",
     "output_type": "stream",
     "text": [
      "Warning: Audio file c:\\Users\\16148\\Desktop\\Projects\\bird_call_project\\Processed Recordings\\Empidonax_traillii_Cleveland_Cuyahoga_County_Ohio_256648_segment_9.wav is too short or silent. Skipping.\n"
     ]
    },
    {
     "name": "stderr",
     "output_type": "stream",
     "text": [
      " 23%|██▎       | 115/500 [00:15<00:51,  7.50it/s]"
     ]
    },
    {
     "name": "stdout",
     "output_type": "stream",
     "text": [
      "Warning: Audio file c:\\Users\\16148\\Desktop\\Projects\\bird_call_project\\Processed Recordings\\Tyrannus_tyrannus_Dunham_Recreation_Complex_near__Cincinnati_Hamilton_County_Ohio_646450_segment_4.wav is too short or silent. Skipping.\n"
     ]
    },
    {
     "name": "stderr",
     "output_type": "stream",
     "text": [
      " 31%|███       | 156/500 [00:22<00:39,  8.79it/s]"
     ]
    },
    {
     "name": "stdout",
     "output_type": "stream",
     "text": [
      "Warning: Audio file c:\\Users\\16148\\Desktop\\Projects\\bird_call_project\\Processed Recordings\\Myiarchus_crinitus_Miami_Township_near__North_Bend_Hamilton_County_Ohio_646113_segment_40.wav is too short or silent. Skipping.\n"
     ]
    },
    {
     "name": "stderr",
     "output_type": "stream",
     "text": [
      " 45%|████▍     | 223/500 [00:31<00:33,  8.36it/s]"
     ]
    },
    {
     "name": "stdout",
     "output_type": "stream",
     "text": [
      "Warning: Audio file c:\\Users\\16148\\Desktop\\Projects\\bird_call_project\\Processed Recordings\\Myiarchus_crinitus_Berkshire_near__Galena_Delaware_Ohio_124159_segment_13.wav is too short or silent. Skipping.\n"
     ]
    },
    {
     "name": "stderr",
     "output_type": "stream",
     "text": [
      " 45%|████▌     | 227/500 [00:31<00:31,  8.59it/s]"
     ]
    },
    {
     "name": "stdout",
     "output_type": "stream",
     "text": [
      "Warning: Audio file c:\\Users\\16148\\Desktop\\Projects\\bird_call_project\\Processed Recordings\\Vireo_olivaceus_Lawrence_Woods_SNP_417986_segment_3.wav is too short or silent. Skipping.\n"
     ]
    },
    {
     "name": "stderr",
     "output_type": "stream",
     "text": [
      " 65%|██████▌   | 325/500 [00:44<00:19,  8.76it/s]"
     ]
    },
    {
     "name": "stdout",
     "output_type": "stream",
     "text": [
      "Warning: Audio file c:\\Users\\16148\\Desktop\\Projects\\bird_call_project\\Processed Recordings\\Vireo_gilvus_Magee_Marsh_-_boardwalk_Lucas_County_Ohio_827590_segment_47.wav is too short or silent. Skipping.\n"
     ]
    },
    {
     "name": "stderr",
     "output_type": "stream",
     "text": [
      " 70%|██████▉   | 349/500 [00:47<00:17,  8.58it/s]"
     ]
    },
    {
     "name": "stdout",
     "output_type": "stream",
     "text": [
      "Warning: Audio file c:\\Users\\16148\\Desktop\\Projects\\bird_call_project\\Processed Recordings\\Vireo_gilvus_Ross_Township_near__Ross_Butler_County_Ohio_807514_segment_23.wav is too short or silent. Skipping.\n"
     ]
    },
    {
     "name": "stderr",
     "output_type": "stream",
     "text": [
      " 77%|███████▋  | 386/500 [00:52<00:14,  7.72it/s]"
     ]
    },
    {
     "name": "stdout",
     "output_type": "stream",
     "text": [
      "Warning: Audio file c:\\Users\\16148\\Desktop\\Projects\\bird_call_project\\Processed Recordings\\Vireo_gilvus_Whitewater_Township_near__Harrison_Hamilton_County_Ohio_726753_segment_16.wav is too short or silent. Skipping.\n"
     ]
    },
    {
     "name": "stderr",
     "output_type": "stream",
     "text": [
      " 79%|███████▉  | 396/500 [00:53<00:12,  8.15it/s]"
     ]
    },
    {
     "name": "stdout",
     "output_type": "stream",
     "text": [
      "Warning: Audio file c:\\Users\\16148\\Desktop\\Projects\\bird_call_project\\Processed Recordings\\Vireo_gilvus_Pelee_near__Leamington_Essex_County_Ontario_477046_segment_6.wav is too short or silent. Skipping.\n"
     ]
    },
    {
     "name": "stderr",
     "output_type": "stream",
     "text": [
      " 84%|████████▍ | 421/500 [00:57<00:10,  7.39it/s]"
     ]
    },
    {
     "name": "stdout",
     "output_type": "stream",
     "text": [
      "Warning: Audio file c:\\Users\\16148\\Desktop\\Projects\\bird_call_project\\Processed Recordings\\Vireo_gilvus_Magee_Marsh_Ohio_939386_segment_15.wav is too short or silent. Skipping.\n"
     ]
    },
    {
     "name": "stderr",
     "output_type": "stream",
     "text": [
      " 86%|████████▌ | 429/500 [00:59<00:11,  6.22it/s]"
     ]
    },
    {
     "name": "stdout",
     "output_type": "stream",
     "text": [
      "Warning: Audio file c:\\Users\\16148\\Desktop\\Projects\\bird_call_project\\Processed Recordings\\Vireo_gilvus_Benton_Township_near__Rocky_Ridge_Ottawa_County_Ohio_902984_segment_5.wav is too short or silent. Skipping.\n"
     ]
    },
    {
     "name": "stderr",
     "output_type": "stream",
     "text": [
      " 87%|████████▋ | 437/500 [01:00<00:07,  8.82it/s]"
     ]
    },
    {
     "name": "stdout",
     "output_type": "stream",
     "text": [
      "Warning: Audio file c:\\Users\\16148\\Desktop\\Projects\\bird_call_project\\Processed Recordings\\Vireo_gilvus_Benton_Township_near__Rocky_Ridge_Ottawa_County_Ohio_902983_segment_7.wav is too short or silent. Skipping.\n"
     ]
    },
    {
     "name": "stderr",
     "output_type": "stream",
     "text": [
      " 97%|█████████▋| 486/500 [01:08<00:01,  8.19it/s]"
     ]
    },
    {
     "name": "stdout",
     "output_type": "stream",
     "text": [
      "Warning: Audio file c:\\Users\\16148\\Desktop\\Projects\\bird_call_project\\Processed Recordings\\Vireo_gilvus_Magee_Marsh_-_boardwalk_Lucas_County_Ohio_827589_segment_8.wav is too short or silent. Skipping.\n"
     ]
    },
    {
     "name": "stderr",
     "output_type": "stream",
     "text": [
      " 99%|█████████▉| 496/500 [01:09<00:00,  7.48it/s]"
     ]
    },
    {
     "name": "stdout",
     "output_type": "stream",
     "text": [
      "Warning: Audio file c:\\Users\\16148\\Desktop\\Projects\\bird_call_project\\Processed Recordings\\Vireo_gilvus_Tanager_Meadow_Reservable_Shelter_near__Harrison_Hamilton_County_Ohio_807452_segment_9.wav is too short or silent. Skipping.\n"
     ]
    },
    {
     "name": "stderr",
     "output_type": "stream",
     "text": [
      "100%|██████████| 500/500 [01:10<00:00,  7.12it/s]\n",
      " 16%|█▌        | 79/500 [00:10<00:51,  8.15it/s]"
     ]
    },
    {
     "name": "stdout",
     "output_type": "stream",
     "text": [
      "Warning: Audio file c:\\Users\\16148\\Desktop\\Projects\\bird_call_project\\Processed Recordings\\Vireo_gilvus_Magee_Marsh_-_boardwalk_Lucas_County_Ohio_827586_segment_58.wav is too short or silent. Skipping.\n"
     ]
    },
    {
     "name": "stderr",
     "output_type": "stream",
     "text": [
      " 22%|██▏       | 108/500 [00:14<00:52,  7.52it/s]"
     ]
    },
    {
     "name": "stdout",
     "output_type": "stream",
     "text": [
      "Warning: Audio file c:\\Users\\16148\\Desktop\\Projects\\bird_call_project\\Processed Recordings\\Vireo_flavifrons_Harrison_Township_near__Harrison_Hamilton_County_Ohio_719923_segment_27.wav is too short or silent. Skipping.\n"
     ]
    },
    {
     "name": "stderr",
     "output_type": "stream",
     "text": [
      " 24%|██▍       | 120/500 [00:15<00:48,  7.91it/s]"
     ]
    },
    {
     "name": "stdout",
     "output_type": "stream",
     "text": [
      "Warning: Audio file c:\\Users\\16148\\Desktop\\Projects\\bird_call_project\\Processed Recordings\\Vireo_flavifrons_Spring_Valley_near__Waynesville_Greene_Cty_Ohio_477608_segment_11.wav is too short or silent. Skipping.\n"
     ]
    },
    {
     "name": "stderr",
     "output_type": "stream",
     "text": [
      " 25%|██▌       | 127/500 [00:16<00:46,  8.04it/s]"
     ]
    },
    {
     "name": "stdout",
     "output_type": "stream",
     "text": [
      "Warning: Audio file c:\\Users\\16148\\Desktop\\Projects\\bird_call_project\\Processed Recordings\\Vireo_flavifrons_Oak_Openings_Metropark_Ohio_418068_segment_6.wav is too short or silent. Skipping.\n"
     ]
    },
    {
     "name": "stderr",
     "output_type": "stream",
     "text": [
      " 32%|███▏      | 158/500 [00:20<00:42,  8.04it/s]"
     ]
    },
    {
     "name": "stdout",
     "output_type": "stream",
     "text": [
      "Warning: Audio file c:\\Users\\16148\\Desktop\\Projects\\bird_call_project\\Processed Recordings\\Vireo_flavifrons_Lawrence_Woods_SNP_417990_segment_27.wav is too short or silent. Skipping.\n"
     ]
    },
    {
     "name": "stderr",
     "output_type": "stream",
     "text": [
      " 36%|███▌      | 180/500 [00:23<00:36,  8.78it/s]"
     ]
    },
    {
     "name": "stdout",
     "output_type": "stream",
     "text": [
      "Warning: Audio file c:\\Users\\16148\\Desktop\\Projects\\bird_call_project\\Processed Recordings\\Vireo_flavifrons_Lawrence_Woods_SNP_417989_segment_21.wav is too short or silent. Skipping.\n"
     ]
    },
    {
     "name": "stderr",
     "output_type": "stream",
     "text": [
      " 39%|███▉      | 196/500 [00:25<00:41,  7.38it/s]"
     ]
    },
    {
     "name": "stdout",
     "output_type": "stream",
     "text": [
      "Warning: Audio file c:\\Users\\16148\\Desktop\\Projects\\bird_call_project\\Processed Recordings\\Vireo_flavifrons_Shawnee_State_Forest_Scioto_County_Ohio_417452_segment_16.wav is too short or silent. Skipping.\n"
     ]
    },
    {
     "name": "stderr",
     "output_type": "stream",
     "text": [
      " 55%|█████▌    | 275/500 [00:44<00:53,  4.17it/s]"
     ]
    },
    {
     "name": "stdout",
     "output_type": "stream",
     "text": [
      "Warning: Audio file c:\\Users\\16148\\Desktop\\Projects\\bird_call_project\\Processed Recordings\\Vireo_griseus_Crosby_Township_near__New_Haven_Hamilton_County_Ohio_833700_segment_25.wav is too short or silent. Skipping.\n"
     ]
    },
    {
     "name": "stderr",
     "output_type": "stream",
     "text": [
      " 58%|█████▊    | 290/500 [00:48<00:54,  3.87it/s]"
     ]
    },
    {
     "name": "stdout",
     "output_type": "stream",
     "text": [
      "Warning: Audio file c:\\Users\\16148\\Desktop\\Projects\\bird_call_project\\Processed Recordings\\Vireo_griseus_Shawnee_State_Forest_Scioto_County_Ohio_417441_segment_14.wav is too short or silent. Skipping.\n"
     ]
    },
    {
     "name": "stderr",
     "output_type": "stream",
     "text": [
      " 60%|█████▉    | 298/500 [00:51<00:47,  4.21it/s]"
     ]
    },
    {
     "name": "stdout",
     "output_type": "stream",
     "text": [
      "Warning: Audio file c:\\Users\\16148\\Desktop\\Projects\\bird_call_project\\Processed Recordings\\Vireo_griseus_Point_Pelee_ON_83535_segment_7.wav is too short or silent. Skipping.\n"
     ]
    },
    {
     "name": "stderr",
     "output_type": "stream",
     "text": [
      " 66%|██████▌   | 331/500 [00:59<00:38,  4.34it/s]"
     ]
    },
    {
     "name": "stdout",
     "output_type": "stream",
     "text": [
      "Warning: Audio file c:\\Users\\16148\\Desktop\\Projects\\bird_call_project\\Processed Recordings\\Vireo_griseus_Miami_Township_near__North_Bend_Hamilton_County_Ohio_645855_segment_31.wav is too short or silent. Skipping.\n"
     ]
    },
    {
     "name": "stderr",
     "output_type": "stream",
     "text": [
      " 69%|██████▉   | 346/500 [01:04<00:38,  4.03it/s]"
     ]
    },
    {
     "name": "stdout",
     "output_type": "stream",
     "text": [
      "Warning: Audio file c:\\Users\\16148\\Desktop\\Projects\\bird_call_project\\Processed Recordings\\Vireo_griseus_Miami_Township_near__North_Bend_Hamilton_County_Ohio_645853_segment_13.wav is too short or silent. Skipping.\n"
     ]
    },
    {
     "name": "stderr",
     "output_type": "stream",
     "text": [
      " 72%|███████▏  | 358/500 [01:07<00:36,  3.92it/s]"
     ]
    },
    {
     "name": "stdout",
     "output_type": "stream",
     "text": [
      "Warning: Audio file c:\\Users\\16148\\Desktop\\Projects\\bird_call_project\\Processed Recordings\\Vireo_griseus_Three_Creeks_Metro_Park--Confluence_Area_playground_Franklin_County_Ohio_186555_segment_11.wav is too short or silent. Skipping.\n"
     ]
    },
    {
     "name": "stderr",
     "output_type": "stream",
     "text": [
      " 89%|████████▉ | 446/500 [01:34<00:14,  3.82it/s]"
     ]
    },
    {
     "name": "stdout",
     "output_type": "stream",
     "text": [
      "Warning: Audio file c:\\Users\\16148\\Desktop\\Projects\\bird_call_project\\Processed Recordings\\Vireo_bellii_Heritage_Rail-Trail_South_of_Hayden_Run_Rd_~200m_south_of_mile_marker_2_across_from_nest_box_#10_103570_segment_70.wav is too short or silent. Skipping.\n"
     ]
    },
    {
     "name": "stderr",
     "output_type": "stream",
     "text": [
      " 92%|█████████▏| 459/500 [01:38<00:11,  3.62it/s]"
     ]
    },
    {
     "name": "stdout",
     "output_type": "stream",
     "text": [
      "Warning: Audio file c:\\Users\\16148\\Desktop\\Projects\\bird_call_project\\Processed Recordings\\Cyanocitta_cristata_Pelee_near__Leamington_Essex_County_Ontario_476525_segment_5.wav is too short or silent. Skipping.\n"
     ]
    },
    {
     "name": "stderr",
     "output_type": "stream",
     "text": [
      "100%|█████████▉| 498/500 [01:49<00:00,  4.25it/s]"
     ]
    },
    {
     "name": "stdout",
     "output_type": "stream",
     "text": [
      "Warning: Audio file c:\\Users\\16148\\Desktop\\Projects\\bird_call_project\\Processed Recordings\\Cyanocitta_cristata_Cincinnati_Hamilton_County_Ohio_677298_segment_38.wav is too short or silent. Skipping.\n"
     ]
    },
    {
     "name": "stderr",
     "output_type": "stream",
     "text": [
      "100%|██████████| 500/500 [01:49<00:00,  4.55it/s]\n",
      "  1%|          | 4/500 [00:01<01:57,  4.23it/s]"
     ]
    },
    {
     "name": "stdout",
     "output_type": "stream",
     "text": [
      "Warning: Audio file c:\\Users\\16148\\Desktop\\Projects\\bird_call_project\\Processed Recordings\\Cyanocitta_cristata_Green_Township_near__Cincinnati_Hamilton_County_Ohio_672969_segment_5.wav is too short or silent. Skipping.\n"
     ]
    },
    {
     "name": "stderr",
     "output_type": "stream",
     "text": [
      "  2%|▏         | 12/500 [00:04<02:45,  2.95it/s]"
     ]
    },
    {
     "name": "stdout",
     "output_type": "stream",
     "text": [
      "Warning: Audio file c:\\Users\\16148\\Desktop\\Projects\\bird_call_project\\Processed Recordings\\Cyanocitta_cristata_Miami_near__North_Bend_Hamilton_County_Ohio_542143_segment_7.wav is too short or silent. Skipping.\n"
     ]
    },
    {
     "name": "stderr",
     "output_type": "stream",
     "text": [
      "  4%|▎         | 18/500 [00:06<02:27,  3.27it/s]"
     ]
    },
    {
     "name": "stdout",
     "output_type": "stream",
     "text": [
      "Warning: Audio file c:\\Users\\16148\\Desktop\\Projects\\bird_call_project\\Processed Recordings\\Cyanocitta_cristata_Crosby_Township_near__Harrison_Hamilton_County_Ohio_807193_segment_5.wav is too short or silent. Skipping.\n"
     ]
    },
    {
     "name": "stderr",
     "output_type": "stream",
     "text": [
      "  6%|▌         | 31/500 [00:10<02:31,  3.09it/s]"
     ]
    },
    {
     "name": "stdout",
     "output_type": "stream",
     "text": [
      "Warning: Audio file c:\\Users\\16148\\Desktop\\Projects\\bird_call_project\\Processed Recordings\\Cyanocitta_cristata_Green_Township_near__Cincinnati_Hamilton_County_Ohio_672963_segment_12.wav is too short or silent. Skipping.\n"
     ]
    },
    {
     "name": "stderr",
     "output_type": "stream",
     "text": [
      " 21%|██▏       | 107/500 [00:38<01:59,  3.29it/s]"
     ]
    },
    {
     "name": "stdout",
     "output_type": "stream",
     "text": [
      "Warning: Audio file c:\\Users\\16148\\Desktop\\Projects\\bird_call_project\\Processed Recordings\\Corvus_ossifragus_Leamington_Essex_County_Ontario_320736_segment_8.wav is too short or silent. Skipping.\n"
     ]
    },
    {
     "name": "stderr",
     "output_type": "stream",
     "text": [
      " 23%|██▎       | 117/500 [00:41<01:53,  3.38it/s]"
     ]
    },
    {
     "name": "stdout",
     "output_type": "stream",
     "text": [
      "Warning: Audio file c:\\Users\\16148\\Desktop\\Projects\\bird_call_project\\Processed Recordings\\Corvus_ossifragus_Chapel_Hill_Plaza_Cuyahoga_Falls_Summit_County_Ohio_393849_segment_9.wav is too short or silent. Skipping.\n"
     ]
    },
    {
     "name": "stderr",
     "output_type": "stream",
     "text": [
      " 28%|██▊       | 142/500 [00:49<01:31,  3.89it/s]"
     ]
    },
    {
     "name": "stdout",
     "output_type": "stream",
     "text": [
      "Warning: Audio file c:\\Users\\16148\\Desktop\\Projects\\bird_call_project\\Processed Recordings\\Corvus_ossifragus_Howe_Ave_@_Jared__Cuyahoga_Falls_Summit_County_Ohio_398409_segment_2.wav is too short or silent. Skipping.\n"
     ]
    },
    {
     "name": "stderr",
     "output_type": "stream",
     "text": [
      " 30%|██▉       | 149/500 [00:52<01:53,  3.10it/s]"
     ]
    },
    {
     "name": "stdout",
     "output_type": "stream",
     "text": [
      "Warning: Audio file c:\\Users\\16148\\Desktop\\Projects\\bird_call_project\\Processed Recordings\\Baeolophus_bicolor_Ohio_near__Akron_Summit_County_Ohio_376462_segment_6.wav is too short or silent. Skipping.\n"
     ]
    },
    {
     "name": "stderr",
     "output_type": "stream",
     "text": [
      " 32%|███▏      | 159/500 [00:55<01:38,  3.45it/s]"
     ]
    },
    {
     "name": "stdout",
     "output_type": "stream",
     "text": [
      "Warning: Audio file c:\\Users\\16148\\Desktop\\Projects\\bird_call_project\\Processed Recordings\\Baeolophus_bicolor_Harrison_Township_near__Harrison_Hamilton_County_Ohio_807495_segment_9.wav is too short or silent. Skipping.\n"
     ]
    },
    {
     "name": "stderr",
     "output_type": "stream",
     "text": [
      " 36%|███▌      | 178/500 [01:01<01:25,  3.78it/s]"
     ]
    },
    {
     "name": "stdout",
     "output_type": "stream",
     "text": [
      "Warning: Audio file c:\\Users\\16148\\Desktop\\Projects\\bird_call_project\\Processed Recordings\\Baeolophus_bicolor_Miami_Township_near__Cleves_Hamilton_County_Ohio_713584_segment_18.wav is too short or silent. Skipping.\n",
      "Warning: Audio file c:\\Users\\16148\\Desktop\\Projects\\bird_call_project\\Processed Recordings\\Baeolophus_bicolor_Miami_Township_near__Cleves_Hamilton_County_Ohio_713584_segment_19.wav is too short or silent. Skipping.\n"
     ]
    },
    {
     "name": "stderr",
     "output_type": "stream",
     "text": [
      " 40%|████      | 202/500 [01:08<01:10,  4.21it/s]"
     ]
    },
    {
     "name": "stdout",
     "output_type": "stream",
     "text": [
      "Warning: Audio file c:\\Users\\16148\\Desktop\\Projects\\bird_call_project\\Processed Recordings\\Baeolophus_bicolor_Green_Township_near__Cincinnati_Hamilton_County_Ohio_673001_segment_8.wav is too short or silent. Skipping.\n"
     ]
    },
    {
     "name": "stderr",
     "output_type": "stream",
     "text": [
      " 45%|████▌     | 226/500 [01:15<01:19,  3.43it/s]"
     ]
    },
    {
     "name": "stdout",
     "output_type": "stream",
     "text": [
      "Warning: Audio file c:\\Users\\16148\\Desktop\\Projects\\bird_call_project\\Processed Recordings\\Baeolophus_bicolor_Miami_Township_near__Cleves_Hamilton_County_Ohio_645567_segment_23.wav is too short or silent. Skipping.\n"
     ]
    },
    {
     "name": "stderr",
     "output_type": "stream",
     "text": [
      " 47%|████▋     | 237/500 [01:19<01:30,  2.91it/s]"
     ]
    },
    {
     "name": "stdout",
     "output_type": "stream",
     "text": [
      "Warning: Audio file c:\\Users\\16148\\Desktop\\Projects\\bird_call_project\\Processed Recordings\\Baeolophus_bicolor_East_Fork_Lake_SP_Clermont_County_Ohio_416551_segment_7.wav is too short or silent. Skipping.\n"
     ]
    },
    {
     "name": "stderr",
     "output_type": "stream",
     "text": [
      " 50%|█████     | 251/500 [01:25<01:29,  2.77it/s]"
     ]
    },
    {
     "name": "stdout",
     "output_type": "stream",
     "text": [
      "Warning: Audio file c:\\Users\\16148\\Desktop\\Projects\\bird_call_project\\Processed Recordings\\Baeolophus_bicolor_Beachwood_Cuyahoga_County_Ohio_287347_segment_13.wav is too short or silent. Skipping.\n"
     ]
    },
    {
     "name": "stderr",
     "output_type": "stream",
     "text": [
      " 54%|█████▍    | 272/500 [01:33<01:04,  3.56it/s]"
     ]
    },
    {
     "name": "stdout",
     "output_type": "stream",
     "text": [
      "Warning: Audio file c:\\Users\\16148\\Desktop\\Projects\\bird_call_project\\Processed Recordings\\Baeolophus_bicolor_Miami_near__North_Bend_Hamilton_County_Ohio_542144_segment_20.wav is too short or silent. Skipping.\n"
     ]
    },
    {
     "name": "stderr",
     "output_type": "stream",
     "text": [
      " 56%|█████▌    | 278/500 [01:35<01:00,  3.65it/s]"
     ]
    },
    {
     "name": "stdout",
     "output_type": "stream",
     "text": [
      "Warning: Audio file c:\\Users\\16148\\Desktop\\Projects\\bird_call_project\\Processed Recordings\\Baeolophus_bicolor_Painesville_Lake_Ohio_138137_segment_5.wav is too short or silent. Skipping.\n"
     ]
    },
    {
     "name": "stderr",
     "output_type": "stream",
     "text": [
      " 58%|█████▊    | 289/500 [01:38<01:04,  3.28it/s]"
     ]
    },
    {
     "name": "stdout",
     "output_type": "stream",
     "text": [
      "Warning: Audio file c:\\Users\\16148\\Desktop\\Projects\\bird_call_project\\Processed Recordings\\Poecile_carolinensis_Harrison_Township_near__Harrison_Hamilton_County_Ohio_807462_segment_11.wav is too short or silent. Skipping.\n"
     ]
    },
    {
     "name": "stderr",
     "output_type": "stream",
     "text": [
      " 62%|██████▏   | 311/500 [01:43<00:23,  7.99it/s]"
     ]
    },
    {
     "name": "stdout",
     "output_type": "stream",
     "text": [
      "Warning: Audio file c:\\Users\\16148\\Desktop\\Projects\\bird_call_project\\Processed Recordings\\Poecile_carolinensis_Green_Township_near__Cincinnati_Hamilton_County_Ohio_779380_segment_19.wav is too short or silent. Skipping.\n"
     ]
    },
    {
     "name": "stderr",
     "output_type": "stream",
     "text": [
      " 65%|██████▌   | 326/500 [01:45<00:21,  7.96it/s]"
     ]
    },
    {
     "name": "stdout",
     "output_type": "stream",
     "text": [
      "Warning: Audio file c:\\Users\\16148\\Desktop\\Projects\\bird_call_project\\Processed Recordings\\Poecile_carolinensis_Lawrence_Woods_SNP_417998_segment_14.wav is too short or silent. Skipping.\n"
     ]
    },
    {
     "name": "stderr",
     "output_type": "stream",
     "text": [
      " 67%|██████▋   | 333/500 [01:46<00:22,  7.37it/s]"
     ]
    },
    {
     "name": "stdout",
     "output_type": "stream",
     "text": [
      "Warning: Audio file c:\\Users\\16148\\Desktop\\Projects\\bird_call_project\\Processed Recordings\\Poecile_carolinensis_Green_Township_near__Cincinnati_Hamilton_County_Ohio_726700_segment_6.wav is too short or silent. Skipping.\n"
     ]
    },
    {
     "name": "stderr",
     "output_type": "stream",
     "text": [
      " 77%|███████▋  | 384/500 [01:52<00:13,  8.56it/s]"
     ]
    },
    {
     "name": "stdout",
     "output_type": "stream",
     "text": [
      "Warning: Audio file c:\\Users\\16148\\Desktop\\Projects\\bird_call_project\\Processed Recordings\\Poecile_carolinensis_Miami_Township_near__North_Bend_Hamilton_County_Ohio_713595_segment_50.wav is too short or silent. Skipping.\n"
     ]
    },
    {
     "name": "stderr",
     "output_type": "stream",
     "text": [
      " 78%|███████▊  | 389/500 [01:53<00:14,  7.88it/s]"
     ]
    },
    {
     "name": "stdout",
     "output_type": "stream",
     "text": [
      "Warning: Audio file c:\\Users\\16148\\Desktop\\Projects\\bird_call_project\\Processed Recordings\\Poecile_carolinensis_Green_Township_near__Cincinnati_Hamilton_County_Ohio_673007_segment_4.wav is too short or silent. Skipping.\n"
     ]
    },
    {
     "name": "stderr",
     "output_type": "stream",
     "text": [
      " 82%|████████▏ | 412/500 [01:56<00:10,  8.38it/s]"
     ]
    },
    {
     "name": "stdout",
     "output_type": "stream",
     "text": [
      "Warning: Audio file c:\\Users\\16148\\Desktop\\Projects\\bird_call_project\\Processed Recordings\\Poecile_atricapillus_Swanton_Township_near__Swanton_Lucas_County_Ohio_939388_segment_7.wav is too short or silent. Skipping.\n"
     ]
    },
    {
     "name": "stderr",
     "output_type": "stream",
     "text": [
      " 99%|█████████▊| 493/500 [02:07<00:00,  7.44it/s]"
     ]
    },
    {
     "name": "stdout",
     "output_type": "stream",
     "text": [
      "Warning: Audio file c:\\Users\\16148\\Desktop\\Projects\\bird_call_project\\Processed Recordings\\Poecile_atricapillus_Magee_Marsh_-_boardwalk_Lucas_County_Ohio_814911_segment_80.wav is too short or silent. Skipping.\n"
     ]
    },
    {
     "name": "stderr",
     "output_type": "stream",
     "text": [
      "100%|██████████| 500/500 [02:08<00:00,  3.88it/s]\n",
      "  2%|▏         | 11/500 [00:01<01:22,  5.91it/s]"
     ]
    },
    {
     "name": "stdout",
     "output_type": "stream",
     "text": [
      "Warning: Audio file c:\\Users\\16148\\Desktop\\Projects\\bird_call_project\\Processed Recordings\\Poecile_atricapillus_Westlake_Cuyahoga_County_Ohio_726692_segment_5.wav is too short or silent. Skipping.\n"
     ]
    },
    {
     "name": "stderr",
     "output_type": "stream",
     "text": [
      "  8%|▊         | 38/500 [00:05<00:55,  8.35it/s]"
     ]
    },
    {
     "name": "stdout",
     "output_type": "stream",
     "text": [
      "Warning: Audio file c:\\Users\\16148\\Desktop\\Projects\\bird_call_project\\Processed Recordings\\Poecile_atricapillus_Magee_Marsh_boardwalk_west_end_262804_segment_26.wav is too short or silent. Skipping.\n"
     ]
    },
    {
     "name": "stderr",
     "output_type": "stream",
     "text": [
      " 11%|█         | 54/500 [00:07<00:53,  8.29it/s]"
     ]
    },
    {
     "name": "stdout",
     "output_type": "stream",
     "text": [
      "Warning: Audio file c:\\Users\\16148\\Desktop\\Projects\\bird_call_project\\Processed Recordings\\Eremophila_alpestris_Michigan_Monroe_County_16969_segment_4.wav is too short or silent. Skipping.\n"
     ]
    },
    {
     "name": "stderr",
     "output_type": "stream",
     "text": [
      " 15%|█▌        | 76/500 [00:10<00:54,  7.84it/s]"
     ]
    },
    {
     "name": "stdout",
     "output_type": "stream",
     "text": [
      "Warning: Audio file c:\\Users\\16148\\Desktop\\Projects\\bird_call_project\\Processed Recordings\\Eremophila_alpestris_Michigan_Deerfield_11506_segment_21.wav is too short or silent. Skipping.\n"
     ]
    },
    {
     "name": "stderr",
     "output_type": "stream",
     "text": [
      " 36%|███▋      | 182/500 [00:25<00:42,  7.56it/s]"
     ]
    },
    {
     "name": "stdout",
     "output_type": "stream",
     "text": [
      "Warning: Audio file c:\\Users\\16148\\Desktop\\Projects\\bird_call_project\\Processed Recordings\\Tachycineta_bicolor_Magee_Marsh_-_boardwalk_Lucas_County_Ohio_827054_segment_93.wav is too short or silent. Skipping.\n"
     ]
    },
    {
     "name": "stderr",
     "output_type": "stream",
     "text": [
      " 39%|███▉      | 196/500 [00:27<00:40,  7.47it/s]"
     ]
    },
    {
     "name": "stdout",
     "output_type": "stream",
     "text": [
      "Warning: Audio file c:\\Users\\16148\\Desktop\\Projects\\bird_call_project\\Processed Recordings\\Tachycineta_bicolor_Pelee_Shuttle_Stop_near__Leamington_Essex_County_Ontario_477045_segment_7.wav is too short or silent. Skipping.\n"
     ]
    },
    {
     "name": "stderr",
     "output_type": "stream",
     "text": [
      " 40%|████      | 200/500 [00:27<00:40,  7.37it/s]"
     ]
    },
    {
     "name": "stdout",
     "output_type": "stream",
     "text": [
      "Warning: Audio file c:\\Users\\16148\\Desktop\\Projects\\bird_call_project\\Processed Recordings\\Tachycineta_bicolor_Ohio_Crane_Creek_SP_17046_segment_3.wav is too short or silent. Skipping.\n"
     ]
    },
    {
     "name": "stderr",
     "output_type": "stream",
     "text": [
      " 47%|████▋     | 234/500 [00:32<00:33,  7.95it/s]"
     ]
    },
    {
     "name": "stdout",
     "output_type": "stream",
     "text": [
      "Warning: Audio file c:\\Users\\16148\\Desktop\\Projects\\bird_call_project\\Processed Recordings\\Progne_subis_Ottawa_NWR_Lucas_County_Ohio_803616_segment_22.wav is too short or silent. Skipping.\n"
     ]
    },
    {
     "name": "stderr",
     "output_type": "stream",
     "text": [
      " 62%|██████▏   | 311/500 [00:53<00:22,  8.38it/s]"
     ]
    },
    {
     "name": "stdout",
     "output_type": "stream",
     "text": [
      "Warning: Audio file c:\\Users\\16148\\Desktop\\Projects\\bird_call_project\\Processed Recordings\\Progne_subis_Magee_Marsh_Ohio_164751_segment_76.wav is too short or silent. Skipping.\n"
     ]
    },
    {
     "name": "stderr",
     "output_type": "stream",
     "text": [
      " 72%|███████▏  | 361/500 [01:00<00:15,  8.98it/s]"
     ]
    },
    {
     "name": "stdout",
     "output_type": "stream",
     "text": [
      "Warning: Audio file c:\\Users\\16148\\Desktop\\Projects\\bird_call_project\\Processed Recordings\\Hirundo_rustica_Green_Township_near__Cincinnati_Hamilton_County_Ohio_833706_segment_12.wav is too short or silent. Skipping.\n"
     ]
    },
    {
     "name": "stderr",
     "output_type": "stream",
     "text": [
      " 74%|███████▍  | 372/500 [01:01<00:15,  8.36it/s]"
     ]
    },
    {
     "name": "stdout",
     "output_type": "stream",
     "text": [
      "Warning: Audio file c:\\Users\\16148\\Desktop\\Projects\\bird_call_project\\Processed Recordings\\Corthylio_calendula_Ohio_Crane_Creek_SP_17045_segment_10.wav is too short or silent. Skipping.\n"
     ]
    },
    {
     "name": "stderr",
     "output_type": "stream",
     "text": [
      " 80%|████████  | 401/500 [01:04<00:10,  9.67it/s]"
     ]
    },
    {
     "name": "stdout",
     "output_type": "stream",
     "text": [
      "Warning: Audio file c:\\Users\\16148\\Desktop\\Projects\\bird_call_project\\Processed Recordings\\Cistothorus_stellaris_Battelle_Darby_Metro_Park--Cutoff_trail_from_Darby_Creek_Trail_past_barn_to_Darby_Creek_Rd._105741_segment_28.wav is too short or silent. Skipping.\n",
      "Warning: Audio file c:\\Users\\16148\\Desktop\\Projects\\bird_call_project\\Processed Recordings\\Cistothorus_stellaris_Battelle_Darby_Metro_Park--Cutoff_trail_from_Darby_Creek_Trail_past_barn_to_Darby_Creek_Rd._105741_segment_29.wav is too short or silent. Skipping.\n"
     ]
    },
    {
     "name": "stderr",
     "output_type": "stream",
     "text": [
      " 85%|████████▍ | 423/500 [01:07<00:08,  8.59it/s]"
     ]
    },
    {
     "name": "stdout",
     "output_type": "stream",
     "text": [
      "Warning: Audio file c:\\Users\\16148\\Desktop\\Projects\\bird_call_project\\Processed Recordings\\Cistothorus_palustris_Jerusalem_Township_near__Bono_Lucas_County_Ohio_784047_segment_20.wav is too short or silent. Skipping.\n"
     ]
    },
    {
     "name": "stderr",
     "output_type": "stream",
     "text": [
      "100%|██████████| 500/500 [01:18<00:00,  6.38it/s]\n",
      "  1%|▏         | 7/500 [00:01<01:14,  6.62it/s]"
     ]
    },
    {
     "name": "stdout",
     "output_type": "stream",
     "text": [
      "Warning: Audio file c:\\Users\\16148\\Desktop\\Projects\\bird_call_project\\Processed Recordings\\Thryothorus_ludovicianus_Whitewater_Township_near__Cleves_Hamilton_County_Ohio_896572_segment_11.wav is too short or silent. Skipping.\n"
     ]
    },
    {
     "name": "stderr",
     "output_type": "stream",
     "text": [
      "  8%|▊         | 42/500 [00:09<00:56,  8.04it/s]"
     ]
    },
    {
     "name": "stdout",
     "output_type": "stream",
     "text": [
      "Warning: Audio file c:\\Users\\16148\\Desktop\\Projects\\bird_call_project\\Processed Recordings\\Thryothorus_ludovicianus_Green_Township_near__Cincinnati_Hamilton_County_Ohio_726631_segment_8.wav is too short or silent. Skipping.\n"
     ]
    },
    {
     "name": "stderr",
     "output_type": "stream",
     "text": [
      " 22%|██▏       | 111/500 [00:19<00:44,  8.66it/s]"
     ]
    },
    {
     "name": "stdout",
     "output_type": "stream",
     "text": [
      "Warning: Audio file c:\\Users\\16148\\Desktop\\Projects\\bird_call_project\\Processed Recordings\\Thryothorus_ludovicianus_Indian_Lake_Logan_County_Ohio_775052_segment_17.wav is too short or silent. Skipping.\n"
     ]
    },
    {
     "name": "stderr",
     "output_type": "stream",
     "text": [
      " 32%|███▏      | 161/500 [00:25<00:40,  8.29it/s]"
     ]
    },
    {
     "name": "stdout",
     "output_type": "stream",
     "text": [
      "Warning: Audio file c:\\Users\\16148\\Desktop\\Projects\\bird_call_project\\Processed Recordings\\Thryothorus_ludovicianus_Anderson_Township_near__Cincinnati_Hamilton_County_Ohio_542519_segment_37.wav is too short or silent. Skipping.\n"
     ]
    },
    {
     "name": "stderr",
     "output_type": "stream",
     "text": [
      " 53%|█████▎    | 264/500 [00:42<00:33,  7.04it/s]"
     ]
    },
    {
     "name": "stdout",
     "output_type": "stream",
     "text": [
      "Warning: Audio file c:\\Users\\16148\\Desktop\\Projects\\bird_call_project\\Processed Recordings\\Troglodytes_aedon_Green_Township_near__Cincinnati_Hamilton_County_Ohio_726630_segment_15.wav is too short or silent. Skipping.\n"
     ]
    },
    {
     "name": "stderr",
     "output_type": "stream",
     "text": [
      " 55%|█████▌    | 275/500 [00:43<00:32,  6.89it/s]"
     ]
    },
    {
     "name": "stdout",
     "output_type": "stream",
     "text": [
      "Warning: Audio file c:\\Users\\16148\\Desktop\\Projects\\bird_call_project\\Processed Recordings\\Troglodytes_aedon_Miami_Township_near__Cleves_Hamilton_County_Ohio_645572_segment_10.wav is too short or silent. Skipping.\n"
     ]
    },
    {
     "name": "stderr",
     "output_type": "stream",
     "text": [
      " 71%|███████   | 354/500 [00:56<00:20,  7.12it/s]"
     ]
    },
    {
     "name": "stdout",
     "output_type": "stream",
     "text": [
      "Warning: Audio file c:\\Users\\16148\\Desktop\\Projects\\bird_call_project\\Processed Recordings\\Troglodytes_aedon_Magee_Marsh_-_boardwalk_Lucas_County_Ohio_828458_segment_29.wav is too short or silent. Skipping.\n"
     ]
    },
    {
     "name": "stderr",
     "output_type": "stream",
     "text": [
      " 72%|███████▏  | 362/500 [00:57<00:17,  7.77it/s]"
     ]
    },
    {
     "name": "stdout",
     "output_type": "stream",
     "text": [
      "Warning: Audio file c:\\Users\\16148\\Desktop\\Projects\\bird_call_project\\Processed Recordings\\Troglodytes_aedon_Pelee_near__Leamington_Essex_County_Ontario_473225_segment_3.wav is too short or silent. Skipping.\n",
      "Warning: Audio file c:\\Users\\16148\\Desktop\\Projects\\bird_call_project\\Processed Recordings\\Troglodytes_aedon_Orrville_Ohio_53922_segment_0.wav is too short or silent. Skipping.\n"
     ]
    },
    {
     "name": "stderr",
     "output_type": "stream",
     "text": [
      " 73%|███████▎  | 365/500 [00:57<00:16,  8.40it/s]"
     ]
    },
    {
     "name": "stdout",
     "output_type": "stream",
     "text": [
      "Warning: Audio file c:\\Users\\16148\\Desktop\\Projects\\bird_call_project\\Processed Recordings\\Troglodytes_aedon_Orrville_Ohio_53922_segment_2.wav is too short or silent. Skipping.\n",
      "Warning: Audio file c:\\Users\\16148\\Desktop\\Projects\\bird_call_project\\Processed Recordings\\Troglodytes_aedon_Orrville_Ohio_53922_segment_3.wav is too short or silent. Skipping.\n",
      "Warning: Audio file c:\\Users\\16148\\Desktop\\Projects\\bird_call_project\\Processed Recordings\\Troglodytes_aedon_Orrville_Ohio_53922_segment_4.wav is too short or silent. Skipping.\n"
     ]
    },
    {
     "name": "stderr",
     "output_type": "stream",
     "text": [
      " 75%|███████▌  | 377/500 [00:59<00:17,  7.16it/s]"
     ]
    },
    {
     "name": "stdout",
     "output_type": "stream",
     "text": [
      "Warning: Audio file c:\\Users\\16148\\Desktop\\Projects\\bird_call_project\\Processed Recordings\\Troglodytes_aedon_Anderson_Township_near__Cincinnati_Hamilton_County_Ohio_552558_segment_9.wav is too short or silent. Skipping.\n"
     ]
    },
    {
     "name": "stderr",
     "output_type": "stream",
     "text": [
      " 80%|███████▉  | 399/500 [01:02<00:14,  6.93it/s]"
     ]
    },
    {
     "name": "stdout",
     "output_type": "stream",
     "text": [
      "Warning: Audio file c:\\Users\\16148\\Desktop\\Projects\\bird_call_project\\Processed Recordings\\Troglodytes_aedon_Cleveland_Cuyahoga_County_Ohio_256649_segment_21.wav is too short or silent. Skipping.\n"
     ]
    },
    {
     "name": "stderr",
     "output_type": "stream",
     "text": [
      " 84%|████████▍ | 421/500 [01:06<00:11,  6.80it/s]"
     ]
    },
    {
     "name": "stdout",
     "output_type": "stream",
     "text": [
      "Warning: Audio file c:\\Users\\16148\\Desktop\\Projects\\bird_call_project\\Processed Recordings\\Troglodytes_aedon_Ohio_Crane_Creek_SP_17053_segment_21.wav is too short or silent. Skipping.\n"
     ]
    },
    {
     "name": "stderr",
     "output_type": "stream",
     "text": [
      " 85%|████████▌ | 427/500 [01:07<00:10,  6.86it/s]"
     ]
    },
    {
     "name": "stdout",
     "output_type": "stream",
     "text": [
      "Warning: Audio file c:\\Users\\16148\\Desktop\\Projects\\bird_call_project\\Processed Recordings\\Troglodytes_aedon_Ohio_Crane_Creek_SP_17052_segment_5.wav is too short or silent. Skipping.\n"
     ]
    },
    {
     "name": "stderr",
     "output_type": "stream",
     "text": [
      " 99%|█████████▉| 494/500 [01:18<00:00,  7.04it/s]"
     ]
    },
    {
     "name": "stdout",
     "output_type": "stream",
     "text": [
      "Warning: Audio file c:\\Users\\16148\\Desktop\\Projects\\bird_call_project\\Processed Recordings\\Polioptila_caerulea_Point_Pelee_National_Park_near__Wheatley_Essex_County_Ontario_803379_segment_5.wav is too short or silent. Skipping.\n"
     ]
    },
    {
     "name": "stderr",
     "output_type": "stream",
     "text": [
      "100%|██████████| 500/500 [01:19<00:00,  6.30it/s]\n",
      "  1%|▏         | 7/500 [00:01<01:09,  7.06it/s]"
     ]
    },
    {
     "name": "stdout",
     "output_type": "stream",
     "text": [
      "Warning: Audio file c:\\Users\\16148\\Desktop\\Projects\\bird_call_project\\Processed Recordings\\Polioptila_caerulea_Point_Pelee_National_Park_near__Wheatley_Essex_County_Ontario_803378_segment_12.wav is too short or silent. Skipping.\n"
     ]
    },
    {
     "name": "stderr",
     "output_type": "stream",
     "text": [
      "  2%|▏         | 10/500 [00:01<01:08,  7.13it/s]"
     ]
    },
    {
     "name": "stdout",
     "output_type": "stream",
     "text": [
      "Warning: Audio file c:\\Users\\16148\\Desktop\\Projects\\bird_call_project\\Processed Recordings\\Polioptila_caerulea_Pelee_near__Leamington_Essex_County_Ontario_476524_segment_2.wav is too short or silent. Skipping.\n"
     ]
    },
    {
     "name": "stderr",
     "output_type": "stream",
     "text": [
      "  3%|▎         | 14/500 [00:02<01:09,  6.99it/s]"
     ]
    },
    {
     "name": "stdout",
     "output_type": "stream",
     "text": [
      "Warning: Audio file c:\\Users\\16148\\Desktop\\Projects\\bird_call_project\\Processed Recordings\\Polioptila_caerulea_Lawrence_Woods_SNP_417993_segment_3.wav is too short or silent. Skipping.\n"
     ]
    },
    {
     "name": "stderr",
     "output_type": "stream",
     "text": [
      "  8%|▊         | 42/500 [00:06<01:06,  6.91it/s]"
     ]
    },
    {
     "name": "stdout",
     "output_type": "stream",
     "text": [
      "Warning: Audio file c:\\Users\\16148\\Desktop\\Projects\\bird_call_project\\Processed Recordings\\Polioptila_caerulea_East_Fork_Lake_SP_Clermont_County_Ohio_416548_segment_5.wav is too short or silent. Skipping.\n"
     ]
    },
    {
     "name": "stderr",
     "output_type": "stream",
     "text": [
      " 19%|█▊        | 93/500 [00:14<01:01,  6.61it/s]"
     ]
    },
    {
     "name": "stdout",
     "output_type": "stream",
     "text": [
      "Warning: Audio file c:\\Users\\16148\\Desktop\\Projects\\bird_call_project\\Processed Recordings\\Polioptila_caerulea_Magee_Marsh_-_boardwalk_Lucas_County_Ohio_816237_segment_50.wav is too short or silent. Skipping.\n"
     ]
    },
    {
     "name": "stderr",
     "output_type": "stream",
     "text": [
      " 22%|██▏       | 112/500 [00:17<00:54,  7.12it/s]"
     ]
    },
    {
     "name": "stdout",
     "output_type": "stream",
     "text": [
      "Warning: Audio file c:\\Users\\16148\\Desktop\\Projects\\bird_call_project\\Processed Recordings\\Polioptila_caerulea_Magee_Marsh_-_boardwalk_Lucas_County_Ohio_816236_segment_18.wav is too short or silent. Skipping.\n"
     ]
    },
    {
     "name": "stderr",
     "output_type": "stream",
     "text": [
      " 25%|██▌       | 126/500 [00:19<00:54,  6.91it/s]"
     ]
    },
    {
     "name": "stdout",
     "output_type": "stream",
     "text": [
      "Warning: Audio file c:\\Users\\16148\\Desktop\\Projects\\bird_call_project\\Processed Recordings\\Polioptila_caerulea_Dunham_Recreation_Complex_near__Cincinnati_Hamilton_County_Ohio_646424_segment_13.wav is too short or silent. Skipping.\n"
     ]
    },
    {
     "name": "stderr",
     "output_type": "stream",
     "text": [
      " 39%|███▉      | 197/500 [00:31<00:43,  6.94it/s]"
     ]
    },
    {
     "name": "stdout",
     "output_type": "stream",
     "text": [
      "Warning: Audio file c:\\Users\\16148\\Desktop\\Projects\\bird_call_project\\Processed Recordings\\Polioptila_caerulea_Anderson_Township_near__Cincinnati_Hamilton_County_Ohio_552557_segment_12.wav is too short or silent. Skipping.\n"
     ]
    },
    {
     "name": "stderr",
     "output_type": "stream",
     "text": [
      " 59%|█████▉    | 294/500 [00:47<00:30,  6.69it/s]"
     ]
    },
    {
     "name": "stdout",
     "output_type": "stream",
     "text": [
      "Warning: Audio file c:\\Users\\16148\\Desktop\\Projects\\bird_call_project\\Processed Recordings\\Sitta_carolinensis_Fort_Mitchell_Kenton_County_Kentucky_687224_segment_10.wav is too short or silent. Skipping.\n"
     ]
    },
    {
     "name": "stderr",
     "output_type": "stream",
     "text": [
      " 60%|█████▉    | 298/500 [00:48<00:29,  6.74it/s]"
     ]
    },
    {
     "name": "stdout",
     "output_type": "stream",
     "text": [
      "Warning: Audio file c:\\Users\\16148\\Desktop\\Projects\\bird_call_project\\Processed Recordings\\Sitta_carolinensis_Lawrence_Woods_SNP_417999_segment_3.wav is too short or silent. Skipping.\n"
     ]
    },
    {
     "name": "stderr",
     "output_type": "stream",
     "text": [
      " 61%|██████    | 305/500 [00:49<00:28,  6.93it/s]"
     ]
    },
    {
     "name": "stdout",
     "output_type": "stream",
     "text": [
      "Warning: Audio file c:\\Users\\16148\\Desktop\\Projects\\bird_call_project\\Processed Recordings\\Sitta_carolinensis_Green_Township_near__Cincinnati_Hamilton_County_Ohio_673000_segment_6.wav is too short or silent. Skipping.\n"
     ]
    },
    {
     "name": "stderr",
     "output_type": "stream",
     "text": [
      " 71%|███████   | 354/500 [00:57<00:21,  6.90it/s]"
     ]
    },
    {
     "name": "stdout",
     "output_type": "stream",
     "text": [
      "Warning: Audio file c:\\Users\\16148\\Desktop\\Projects\\bird_call_project\\Processed Recordings\\Sitta_carolinensis_Harrison_Township_near__Harrison_Hamilton_County_Ohio_807181_segment_48.wav is too short or silent. Skipping.\n"
     ]
    },
    {
     "name": "stderr",
     "output_type": "stream",
     "text": [
      " 74%|███████▍  | 372/500 [01:00<00:20,  6.29it/s]"
     ]
    },
    {
     "name": "stdout",
     "output_type": "stream",
     "text": [
      "Warning: Audio file c:\\Users\\16148\\Desktop\\Projects\\bird_call_project\\Processed Recordings\\Sitta_canadensis_Cincinnati_Hamilton_County_Ohio_677294_segment_18.wav is too short or silent. Skipping.\n"
     ]
    },
    {
     "name": "stderr",
     "output_type": "stream",
     "text": [
      " 78%|███████▊  | 391/500 [01:03<00:16,  6.76it/s]"
     ]
    },
    {
     "name": "stdout",
     "output_type": "stream",
     "text": [
      "Warning: Audio file c:\\Users\\16148\\Desktop\\Projects\\bird_call_project\\Processed Recordings\\Sitta_canadensis_Cincinnati_Hamilton_County_Ohio_677292_segment_17.wav is too short or silent. Skipping.\n"
     ]
    },
    {
     "name": "stderr",
     "output_type": "stream",
     "text": [
      " 86%|████████▌ | 431/500 [01:10<00:09,  7.04it/s]"
     ]
    },
    {
     "name": "stdout",
     "output_type": "stream",
     "text": [
      "Warning: Audio file c:\\Users\\16148\\Desktop\\Projects\\bird_call_project\\Processed Recordings\\Sitta_canadensis_Cincinnati_Hamilton_County_Ohio_677293_segment_39.wav is too short or silent. Skipping.\n"
     ]
    },
    {
     "name": "stderr",
     "output_type": "stream",
     "text": [
      " 88%|████████▊ | 440/500 [01:11<00:08,  7.03it/s]"
     ]
    },
    {
     "name": "stdout",
     "output_type": "stream",
     "text": [
      "Warning: Audio file c:\\Users\\16148\\Desktop\\Projects\\bird_call_project\\Processed Recordings\\Certhia_americana_Fort_Mitchell_Kenton_County_Kentucky_687202_segment_2.wav is too short or silent. Skipping.\n"
     ]
    },
    {
     "name": "stderr",
     "output_type": "stream",
     "text": [
      "100%|██████████| 500/500 [01:20<00:00,  6.18it/s]\n",
      "  2%|▏         | 9/500 [00:01<01:13,  6.65it/s]"
     ]
    },
    {
     "name": "stdout",
     "output_type": "stream",
     "text": [
      "Warning: Audio file c:\\Users\\16148\\Desktop\\Projects\\bird_call_project\\Processed Recordings\\Dumetella_carolinensis_Magee_Marsh_-_boardwalk_Lucas_County_Ohio_814891_segment_68.wav is too short or silent. Skipping.\n"
     ]
    },
    {
     "name": "stderr",
     "output_type": "stream",
     "text": [
      " 21%|██        | 104/500 [00:17<00:56,  7.00it/s]"
     ]
    },
    {
     "name": "stdout",
     "output_type": "stream",
     "text": [
      "Warning: Audio file c:\\Users\\16148\\Desktop\\Projects\\bird_call_project\\Processed Recordings\\Dumetella_carolinensis_Point_Pelee_National_Park_near__Wheatley_Essex_County_Ontario_805532_segment_8.wav is too short or silent. Skipping.\n"
     ]
    },
    {
     "name": "stderr",
     "output_type": "stream",
     "text": [
      " 25%|██▍       | 124/500 [00:20<00:54,  6.95it/s]"
     ]
    },
    {
     "name": "stdout",
     "output_type": "stream",
     "text": [
      "Warning: Audio file c:\\Users\\16148\\Desktop\\Projects\\bird_call_project\\Processed Recordings\\Dumetella_carolinensis_Pelee_near__Leamington_Essex_County_Ontario_476572_segment_10.wav is too short or silent. Skipping.\n"
     ]
    },
    {
     "name": "stderr",
     "output_type": "stream",
     "text": [
      " 26%|██▋       | 132/500 [00:21<00:51,  7.09it/s]"
     ]
    },
    {
     "name": "stdout",
     "output_type": "stream",
     "text": [
      "Warning: Audio file c:\\Users\\16148\\Desktop\\Projects\\bird_call_project\\Processed Recordings\\Dumetella_carolinensis_Magee_Marsh_-_boardwalk_Lucas_County_Ohio_814890_segment_7.wav is too short or silent. Skipping.\n"
     ]
    },
    {
     "name": "stderr",
     "output_type": "stream",
     "text": [
      " 28%|██▊       | 142/500 [00:23<00:51,  6.97it/s]"
     ]
    },
    {
     "name": "stdout",
     "output_type": "stream",
     "text": [
      "Warning: Audio file c:\\Users\\16148\\Desktop\\Projects\\bird_call_project\\Processed Recordings\\Dumetella_carolinensis_Magee_Marsh_-_boardwalk_Lucas_County_Ohio_814889_segment_9.wav is too short or silent. Skipping.\n"
     ]
    },
    {
     "name": "stderr",
     "output_type": "stream",
     "text": [
      " 31%|███▏      | 157/500 [00:25<00:48,  7.00it/s]"
     ]
    },
    {
     "name": "stdout",
     "output_type": "stream",
     "text": [
      "Warning: Audio file c:\\Users\\16148\\Desktop\\Projects\\bird_call_project\\Processed Recordings\\Dumetella_carolinensis_Whitewater_Township_near__White_Water_Park_Hamilton_County_Ohio_807552_segment_14.wav is too short or silent. Skipping.\n"
     ]
    },
    {
     "name": "stderr",
     "output_type": "stream",
     "text": [
      " 34%|███▍      | 170/500 [00:27<00:49,  6.70it/s]"
     ]
    },
    {
     "name": "stdout",
     "output_type": "stream",
     "text": [
      "Warning: Audio file c:\\Users\\16148\\Desktop\\Projects\\bird_call_project\\Processed Recordings\\Dumetella_carolinensis_Sheldon_Marsh_State_Nature_Preserve_723020_segment_12.wav is too short or silent. Skipping.\n"
     ]
    },
    {
     "name": "stderr",
     "output_type": "stream",
     "text": [
      " 35%|███▌      | 176/500 [00:28<00:47,  6.80it/s]"
     ]
    },
    {
     "name": "stdout",
     "output_type": "stream",
     "text": [
      "Warning: Audio file c:\\Users\\16148\\Desktop\\Projects\\bird_call_project\\Processed Recordings\\Dumetella_carolinensis_Michigan_Petersburg_SGA__31053_segment_5.wav is too short or silent. Skipping.\n"
     ]
    },
    {
     "name": "stderr",
     "output_type": "stream",
     "text": [
      " 38%|███▊      | 188/500 [00:30<00:44,  7.03it/s]"
     ]
    },
    {
     "name": "stdout",
     "output_type": "stream",
     "text": [
      "Warning: Audio file c:\\Users\\16148\\Desktop\\Projects\\bird_call_project\\Processed Recordings\\Dumetella_carolinensis_Ohio_Crane_Creek_SP_17041_segment_11.wav is too short or silent. Skipping.\n"
     ]
    },
    {
     "name": "stderr",
     "output_type": "stream",
     "text": [
      " 47%|████▋     | 236/500 [00:37<00:38,  6.93it/s]"
     ]
    },
    {
     "name": "stdout",
     "output_type": "stream",
     "text": [
      "Warning: Audio file c:\\Users\\16148\\Desktop\\Projects\\bird_call_project\\Processed Recordings\\Dumetella_carolinensis_Magee_Marsh_boardwalk_west_end_262807_segment_47.wav is too short or silent. Skipping.\n"
     ]
    },
    {
     "name": "stderr",
     "output_type": "stream",
     "text": [
      " 58%|█████▊    | 289/500 [00:46<00:31,  6.65it/s]"
     ]
    },
    {
     "name": "stdout",
     "output_type": "stream",
     "text": [
      "Warning: Audio file c:\\Users\\16148\\Desktop\\Projects\\bird_call_project\\Processed Recordings\\Dumetella_carolinensis_Magee_Marsh_boardwalk_west_end_262806_segment_52.wav is too short or silent. Skipping.\n"
     ]
    },
    {
     "name": "stderr",
     "output_type": "stream",
     "text": [
      " 68%|██████▊   | 342/500 [00:55<00:23,  6.72it/s]"
     ]
    },
    {
     "name": "stdout",
     "output_type": "stream",
     "text": [
      "Warning: Audio file c:\\Users\\16148\\Desktop\\Projects\\bird_call_project\\Processed Recordings\\Mimus_polyglottos_Green_Township_near__Cincinnati_Hamilton_County_Ohio_807449_segment_16.wav is too short or silent. Skipping.\n"
     ]
    },
    {
     "name": "stderr",
     "output_type": "stream",
     "text": [
      " 70%|███████   | 350/500 [00:56<00:22,  6.76it/s]"
     ]
    },
    {
     "name": "stdout",
     "output_type": "stream",
     "text": [
      "Warning: Audio file c:\\Users\\16148\\Desktop\\Projects\\bird_call_project\\Processed Recordings\\Mimus_polyglottos_Cincinnati_Hamilton_County_Ohio_677297_segment_7.wav is too short or silent. Skipping.\n"
     ]
    },
    {
     "name": "stderr",
     "output_type": "stream",
     "text": [
      " 86%|████████▌ | 431/500 [01:10<00:09,  6.95it/s]"
     ]
    },
    {
     "name": "stdout",
     "output_type": "stream",
     "text": [
      "Warning: Audio file c:\\Users\\16148\\Desktop\\Projects\\bird_call_project\\Processed Recordings\\Mimus_polyglottos_Cincinnati_Hamilton_County_Ohio_677295_segment_80.wav is too short or silent. Skipping.\n"
     ]
    },
    {
     "name": "stderr",
     "output_type": "stream",
     "text": [
      "100%|██████████| 500/500 [01:20<00:00,  6.18it/s]\n",
      " 22%|██▏       | 108/500 [00:17<00:55,  7.03it/s]"
     ]
    },
    {
     "name": "stdout",
     "output_type": "stream",
     "text": [
      "Warning: Audio file c:\\Users\\16148\\Desktop\\Projects\\bird_call_project\\Processed Recordings\\Toxostoma_rufum_Hanover_Township_Licking_County_Ohio_893646_segment_67.wav is too short or silent. Skipping.\n"
     ]
    },
    {
     "name": "stderr",
     "output_type": "stream",
     "text": [
      " 30%|██▉       | 148/500 [00:23<00:51,  6.90it/s]"
     ]
    },
    {
     "name": "stdout",
     "output_type": "stream",
     "text": [
      "Warning: Audio file c:\\Users\\16148\\Desktop\\Projects\\bird_call_project\\Processed Recordings\\Toxostoma_rufum_Dunham_Recreation_Complex_near__Cincinnati_Hamilton_County_Ohio_646427_segment_11.wav is too short or silent. Skipping.\n"
     ]
    },
    {
     "name": "stderr",
     "output_type": "stream",
     "text": [
      " 34%|███▍      | 170/500 [00:27<00:48,  6.87it/s]"
     ]
    },
    {
     "name": "stdout",
     "output_type": "stream",
     "text": [
      "Warning: Audio file c:\\Users\\16148\\Desktop\\Projects\\bird_call_project\\Processed Recordings\\Toxostoma_rufum_Miami_Township_near__Cleves_Hamilton_County_Ohio_645811_segment_21.wav is too short or silent. Skipping.\n"
     ]
    },
    {
     "name": "stderr",
     "output_type": "stream",
     "text": [
      " 40%|████      | 200/500 [00:32<00:44,  6.79it/s]"
     ]
    },
    {
     "name": "stdout",
     "output_type": "stream",
     "text": [
      "Warning: Audio file c:\\Users\\16148\\Desktop\\Projects\\bird_call_project\\Processed Recordings\\Toxostoma_rufum_Franklin_Township_near__Saint_Marys_Mercer_County_Ohio_637650_segment_29.wav is too short or silent. Skipping.\n"
     ]
    },
    {
     "name": "stderr",
     "output_type": "stream",
     "text": [
      " 50%|█████     | 251/500 [00:40<00:35,  7.08it/s]"
     ]
    },
    {
     "name": "stdout",
     "output_type": "stream",
     "text": [
      "Warning: Audio file c:\\Users\\16148\\Desktop\\Projects\\bird_call_project\\Processed Recordings\\Toxostoma_rufum_Ross_Township_near__Hamilton_Butler_County_Ohio_632519_segment_50.wav is too short or silent. Skipping.\n"
     ]
    },
    {
     "name": "stderr",
     "output_type": "stream",
     "text": [
      " 51%|█████▏    | 257/500 [00:41<00:34,  7.06it/s]"
     ]
    },
    {
     "name": "stdout",
     "output_type": "stream",
     "text": [
      "Warning: Audio file c:\\Users\\16148\\Desktop\\Projects\\bird_call_project\\Processed Recordings\\Toxostoma_rufum_Pelee_near__Leamington_Essex_County_Ontario_476526_segment_5.wav is too short or silent. Skipping.\n"
     ]
    },
    {
     "name": "stderr",
     "output_type": "stream",
     "text": [
      " 57%|█████▋    | 286/500 [00:45<00:32,  6.56it/s]"
     ]
    },
    {
     "name": "stdout",
     "output_type": "stream",
     "text": [
      "Warning: Audio file c:\\Users\\16148\\Desktop\\Projects\\bird_call_project\\Processed Recordings\\Sialia_sialis_Cincinnati_Hamilton_County_Ohio_677299_segment_4.wav is too short or silent. Skipping.\n"
     ]
    },
    {
     "name": "stderr",
     "output_type": "stream",
     "text": [
      " 58%|█████▊    | 291/500 [00:46<00:31,  6.72it/s]"
     ]
    },
    {
     "name": "stdout",
     "output_type": "stream",
     "text": [
      "Warning: Audio file c:\\Users\\16148\\Desktop\\Projects\\bird_call_project\\Processed Recordings\\Sialia_sialis_Michigan_Monroe_County_17169_segment_5.wav is too short or silent. Skipping.\n"
     ]
    },
    {
     "name": "stderr",
     "output_type": "stream",
     "text": [
      " 62%|██████▏   | 309/500 [00:49<00:29,  6.52it/s]"
     ]
    },
    {
     "name": "stdout",
     "output_type": "stream",
     "text": [
      "Warning: Audio file c:\\Users\\16148\\Desktop\\Projects\\bird_call_project\\Processed Recordings\\Hylocichla_mustelina_Whitewater_Township_near__Cleves_Hamilton_County_Ohio_817713_segment_16.wav is too short or silent. Skipping.\n"
     ]
    },
    {
     "name": "stderr",
     "output_type": "stream",
     "text": [
      " 75%|███████▌  | 377/500 [01:00<00:17,  6.92it/s]"
     ]
    },
    {
     "name": "stdout",
     "output_type": "stream",
     "text": [
      "Warning: Audio file c:\\Users\\16148\\Desktop\\Projects\\bird_call_project\\Processed Recordings\\Hylocichla_mustelina_Packer-Hammersmith_Center_near__Oregon_Lucas_County_Ohio_784058_segment_67.wav is too short or silent. Skipping.\n"
     ]
    },
    {
     "name": "stderr",
     "output_type": "stream",
     "text": [
      " 95%|█████████▌| 475/500 [01:16<00:03,  6.78it/s]"
     ]
    },
    {
     "name": "stdout",
     "output_type": "stream",
     "text": [
      "Warning: Audio file c:\\Users\\16148\\Desktop\\Projects\\bird_call_project\\Processed Recordings\\Hylocichla_mustelina_Sharon_Woods_near__Cincinnati_Hamilton_County_Ohio_483768_segment_21.wav is too short or silent. Skipping.\n"
     ]
    },
    {
     "name": "stderr",
     "output_type": "stream",
     "text": [
      " 97%|█████████▋| 487/500 [01:18<00:01,  6.61it/s]"
     ]
    },
    {
     "name": "stdout",
     "output_type": "stream",
     "text": [
      "Warning: Audio file c:\\Users\\16148\\Desktop\\Projects\\bird_call_project\\Processed Recordings\\Hylocichla_mustelina_Prairie_Oaks_Metro_Park--Sycamore_Plains_Area_182009_segment_11.wav is too short or silent. Skipping.\n"
     ]
    },
    {
     "name": "stderr",
     "output_type": "stream",
     "text": [
      "100%|██████████| 500/500 [01:20<00:00,  6.22it/s]\n",
      "  6%|▌         | 31/500 [00:05<01:10,  6.70it/s]"
     ]
    },
    {
     "name": "stdout",
     "output_type": "stream",
     "text": [
      "Warning: Audio file c:\\Users\\16148\\Desktop\\Projects\\bird_call_project\\Processed Recordings\\Catharus_ustulatus_Firestone_Metropark_Summit_County_Ohio_368004_segment_4.wav is too short or silent. Skipping.\n"
     ]
    },
    {
     "name": "stderr",
     "output_type": "stream",
     "text": [
      " 11%|█         | 56/500 [00:09<01:04,  6.90it/s]"
     ]
    },
    {
     "name": "stdout",
     "output_type": "stream",
     "text": [
      "Warning: Audio file c:\\Users\\16148\\Desktop\\Projects\\bird_call_project\\Processed Recordings\\Catharus_ustulatus_Columbus_Ohio_flight_call_recording_station_55203_segment_24.wav is too short or silent. Skipping.\n"
     ]
    },
    {
     "name": "stderr",
     "output_type": "stream",
     "text": [
      " 12%|█▏        | 59/500 [00:10<01:02,  7.06it/s]"
     ]
    },
    {
     "name": "stdout",
     "output_type": "stream",
     "text": [
      "Warning: Audio file c:\\Users\\16148\\Desktop\\Projects\\bird_call_project\\Processed Recordings\\Catharus_minimus_Bricker_Blvd_near_Cranbrook_Elementary_Columbus_OH_127734_segment_2.wav is too short or silent. Skipping.\n"
     ]
    },
    {
     "name": "stderr",
     "output_type": "stream",
     "text": [
      " 16%|█▌        | 79/500 [00:13<01:00,  6.96it/s]"
     ]
    },
    {
     "name": "stdout",
     "output_type": "stream",
     "text": [
      "Warning: Audio file c:\\Users\\16148\\Desktop\\Projects\\bird_call_project\\Processed Recordings\\Catharus_fuscescens_Oak_Openings_Lucas_County_Ohio_803619_segment_19.wav is too short or silent. Skipping.\n"
     ]
    },
    {
     "name": "stderr",
     "output_type": "stream",
     "text": [
      " 24%|██▍       | 121/500 [00:19<00:53,  7.02it/s]"
     ]
    },
    {
     "name": "stdout",
     "output_type": "stream",
     "text": [
      "Warning: Audio file c:\\Users\\16148\\Desktop\\Projects\\bird_call_project\\Processed Recordings\\Turdus_migratorius_Pelee_near__Leamington_Essex_County_Ontario_476494_segment_9.wav is too short or silent. Skipping.\n"
     ]
    },
    {
     "name": "stderr",
     "output_type": "stream",
     "text": [
      " 25%|██▌       | 127/500 [00:20<00:58,  6.39it/s]"
     ]
    },
    {
     "name": "stdout",
     "output_type": "stream",
     "text": [
      "Warning: Audio file c:\\Users\\16148\\Desktop\\Projects\\bird_call_project\\Processed Recordings\\Turdus_migratorius_Green_Township_near__Cincinnati_Hamilton_County_Ohio_807538_segment_7.wav is too short or silent. Skipping.\n"
     ]
    },
    {
     "name": "stderr",
     "output_type": "stream",
     "text": [
      " 41%|████      | 206/500 [00:33<00:41,  7.02it/s]"
     ]
    },
    {
     "name": "stdout",
     "output_type": "stream",
     "text": [
      "Warning: Audio file c:\\Users\\16148\\Desktop\\Projects\\bird_call_project\\Processed Recordings\\Turdus_migratorius_Bricker_Blvd_near_Cranbrook_Elementary_Columbus_OH_103571_segment_59.wav is too short or silent. Skipping.\n"
     ]
    },
    {
     "name": "stderr",
     "output_type": "stream",
     "text": [
      " 44%|████▍     | 221/500 [00:35<00:46,  6.04it/s]"
     ]
    },
    {
     "name": "stdout",
     "output_type": "stream",
     "text": [
      "Warning: Audio file c:\\Users\\16148\\Desktop\\Projects\\bird_call_project\\Processed Recordings\\Spinus_tristis_Miami_Township_near__Yellow_Springs_Greene_County_Ohio_756999_segment_14.wav is too short or silent. Skipping.\n"
     ]
    },
    {
     "name": "stderr",
     "output_type": "stream",
     "text": [
      " 54%|█████▍    | 271/500 [00:43<00:33,  6.91it/s]"
     ]
    },
    {
     "name": "stdout",
     "output_type": "stream",
     "text": [
      "Warning: Audio file c:\\Users\\16148\\Desktop\\Projects\\bird_call_project\\Processed Recordings\\Spinus_tristis_Miami_Township_near__North_Bend_Hamilton_County_Ohio_646115_segment_25.wav is too short or silent. Skipping.\n"
     ]
    },
    {
     "name": "stderr",
     "output_type": "stream",
     "text": [
      " 58%|█████▊    | 289/500 [00:46<00:31,  6.70it/s]"
     ]
    },
    {
     "name": "stdout",
     "output_type": "stream",
     "text": [
      "Warning: Audio file c:\\Users\\16148\\Desktop\\Projects\\bird_call_project\\Processed Recordings\\Ammodramus_savannarum_Michigan_Monroe_County_16953_segment_17.wav is too short or silent. Skipping.\n"
     ]
    },
    {
     "name": "stderr",
     "output_type": "stream",
     "text": [
      " 61%|██████    | 306/500 [00:49<00:27,  7.09it/s]"
     ]
    },
    {
     "name": "stdout",
     "output_type": "stream",
     "text": [
      "Warning: Audio file c:\\Users\\16148\\Desktop\\Projects\\bird_call_project\\Processed Recordings\\Chondestes_grammacus_Ives_Road_Fen_Raisin_Charter_Township_near__Tecumseh_Lenawee_County_Michigan_734597_segment_16.wav is too short or silent. Skipping.\n"
     ]
    },
    {
     "name": "stderr",
     "output_type": "stream",
     "text": [
      " 64%|██████▎   | 318/500 [00:51<00:25,  7.22it/s]"
     ]
    },
    {
     "name": "stdout",
     "output_type": "stream",
     "text": [
      "Warning: Audio file c:\\Users\\16148\\Desktop\\Projects\\bird_call_project\\Processed Recordings\\Chondestes_grammacus_Ives_Road_Fen_Raisin_Charter_Township_near__Tecumseh_Lenawee_County_Michigan_734596_segment_11.wav is too short or silent. Skipping.\n"
     ]
    },
    {
     "name": "stderr",
     "output_type": "stream",
     "text": [
      " 68%|██████▊   | 341/500 [00:54<00:24,  6.52it/s]"
     ]
    },
    {
     "name": "stdout",
     "output_type": "stream",
     "text": [
      "Warning: Audio file c:\\Users\\16148\\Desktop\\Projects\\bird_call_project\\Processed Recordings\\Chondestes_grammacus_Michigan_Petersburg_SGA__31027_segment_22.wav is too short or silent. Skipping.\n"
     ]
    },
    {
     "name": "stderr",
     "output_type": "stream",
     "text": [
      " 74%|███████▍  | 370/500 [00:59<00:18,  6.96it/s]"
     ]
    },
    {
     "name": "stdout",
     "output_type": "stream",
     "text": [
      "Warning: Audio file c:\\Users\\16148\\Desktop\\Projects\\bird_call_project\\Processed Recordings\\Spizella_passerina_Miami_Township_near__Cleves_Hamilton_County_Ohio_645554_segment_28.wav is too short or silent. Skipping.\n"
     ]
    },
    {
     "name": "stderr",
     "output_type": "stream",
     "text": [
      " 75%|███████▌  | 376/500 [01:00<00:18,  6.85it/s]"
     ]
    },
    {
     "name": "stdout",
     "output_type": "stream",
     "text": [
      "Warning: Audio file c:\\Users\\16148\\Desktop\\Projects\\bird_call_project\\Processed Recordings\\Spizella_passerina_Pelee_near__Leamington_Essex_County_Ontario_476560_segment_5.wav is too short or silent. Skipping.\n"
     ]
    },
    {
     "name": "stderr",
     "output_type": "stream",
     "text": [
      " 85%|████████▌ | 427/500 [01:08<00:10,  7.20it/s]"
     ]
    },
    {
     "name": "stdout",
     "output_type": "stream",
     "text": [
      "Warning: Audio file c:\\Users\\16148\\Desktop\\Projects\\bird_call_project\\Processed Recordings\\Spizella_passerina_Miami_near__North_Bend_Hamilton_County_Ohio_542142_segment_31.wav is too short or silent. Skipping.\n"
     ]
    },
    {
     "name": "stderr",
     "output_type": "stream",
     "text": [
      " 90%|█████████ | 452/500 [01:12<00:07,  6.73it/s]"
     ]
    },
    {
     "name": "stdout",
     "output_type": "stream",
     "text": [
      "Warning: Audio file c:\\Users\\16148\\Desktop\\Projects\\bird_call_project\\Processed Recordings\\Spizella_passerina_Michigan_Monroe_County_16984_segment_24.wav is too short or silent. Skipping.\n"
     ]
    },
    {
     "name": "stderr",
     "output_type": "stream",
     "text": [
      " 93%|█████████▎| 464/500 [01:14<00:05,  6.99it/s]"
     ]
    },
    {
     "name": "stdout",
     "output_type": "stream",
     "text": [
      "Warning: Audio file c:\\Users\\16148\\Desktop\\Projects\\bird_call_project\\Processed Recordings\\Spizella_passerina_Michigan_Monroe_County_16983_segment_11.wav is too short or silent. Skipping.\n"
     ]
    },
    {
     "name": "stderr",
     "output_type": "stream",
     "text": [
      " 94%|█████████▍| 472/500 [01:15<00:03,  7.09it/s]"
     ]
    },
    {
     "name": "stdout",
     "output_type": "stream",
     "text": [
      "Warning: Audio file c:\\Users\\16148\\Desktop\\Projects\\bird_call_project\\Processed Recordings\\Spizella_passerina_Michigan_Monroe_County_16981_segment_7.wav is too short or silent. Skipping.\n"
     ]
    },
    {
     "name": "stderr",
     "output_type": "stream",
     "text": [
      " 97%|█████████▋| 484/500 [01:17<00:02,  6.97it/s]"
     ]
    },
    {
     "name": "stdout",
     "output_type": "stream",
     "text": [
      "Warning: Audio file c:\\Users\\16148\\Desktop\\Projects\\bird_call_project\\Processed Recordings\\Spizella_passerina_Michigan_Monroe_County_17172_segment_11.wav is too short or silent. Skipping.\n"
     ]
    },
    {
     "name": "stderr",
     "output_type": "stream",
     "text": [
      "100%|██████████| 500/500 [01:19<00:00,  6.25it/s]\n",
      "  6%|▌         | 30/500 [00:04<01:07,  6.94it/s]"
     ]
    },
    {
     "name": "stdout",
     "output_type": "stream",
     "text": [
      "Warning: Audio file c:\\Users\\16148\\Desktop\\Projects\\bird_call_project\\Processed Recordings\\Spizella_pusilla_Oak_Openings_Metropark_Ohio_418069_segment_7.wav is too short or silent. Skipping.\n"
     ]
    },
    {
     "name": "stderr",
     "output_type": "stream",
     "text": [
      " 11%|█         | 53/500 [00:08<01:07,  6.66it/s]"
     ]
    },
    {
     "name": "stdout",
     "output_type": "stream",
     "text": [
      "Warning: Audio file c:\\Users\\16148\\Desktop\\Projects\\bird_call_project\\Processed Recordings\\Spizella_pusilla_Lawrence_Woods_SNP_417975_segment_22.wav is too short or silent. Skipping.\n"
     ]
    },
    {
     "name": "stderr",
     "output_type": "stream",
     "text": [
      " 13%|█▎        | 67/500 [00:10<01:04,  6.77it/s]"
     ]
    },
    {
     "name": "stdout",
     "output_type": "stream",
     "text": [
      "Warning: Audio file c:\\Users\\16148\\Desktop\\Projects\\bird_call_project\\Processed Recordings\\Spizella_pusilla_Whitewater_Township_near__Harrison_Hamilton_County_Ohio_726763_segment_2.wav is too short or silent. Skipping.\n"
     ]
    },
    {
     "name": "stderr",
     "output_type": "stream",
     "text": [
      " 26%|██▌       | 130/500 [00:20<00:53,  6.94it/s]"
     ]
    },
    {
     "name": "stdout",
     "output_type": "stream",
     "text": [
      "Warning: Audio file c:\\Users\\16148\\Desktop\\Projects\\bird_call_project\\Processed Recordings\\Spizella_pusilla_Michigan_Monroe_County_16986_segment_24.wav is too short or silent. Skipping.\n"
     ]
    },
    {
     "name": "stderr",
     "output_type": "stream",
     "text": [
      " 28%|██▊       | 141/500 [00:22<00:52,  6.84it/s]"
     ]
    },
    {
     "name": "stdout",
     "output_type": "stream",
     "text": [
      "Warning: Audio file c:\\Users\\16148\\Desktop\\Projects\\bird_call_project\\Processed Recordings\\Passerella_iliaca_Firestone_Metropark_Summit_County_Ohio_407934_segment_10.wav is too short or silent. Skipping.\n"
     ]
    },
    {
     "name": "stderr",
     "output_type": "stream",
     "text": [
      " 33%|███▎      | 167/500 [00:26<00:50,  6.61it/s]"
     ]
    },
    {
     "name": "stdout",
     "output_type": "stream",
     "text": [
      "Warning: Audio file c:\\Users\\16148\\Desktop\\Projects\\bird_call_project\\Processed Recordings\\Junco_hyemalis_Pebblebrook_Lane_Moreland_Hills_Ohio_79986_segment_25.wav is too short or silent. Skipping.\n"
     ]
    },
    {
     "name": "stderr",
     "output_type": "stream",
     "text": [
      " 36%|███▌      | 181/500 [00:29<00:47,  6.73it/s]"
     ]
    },
    {
     "name": "stdout",
     "output_type": "stream",
     "text": [
      "Warning: Audio file c:\\Users\\16148\\Desktop\\Projects\\bird_call_project\\Processed Recordings\\Pooecetes_gramineus_Michigan_Monroe_County_17154_segment_6.wav is too short or silent. Skipping.\n"
     ]
    },
    {
     "name": "stderr",
     "output_type": "stream",
     "text": [
      " 38%|███▊      | 190/500 [00:30<00:45,  6.87it/s]"
     ]
    },
    {
     "name": "stdout",
     "output_type": "stream",
     "text": [
      "Warning: Audio file c:\\Users\\16148\\Desktop\\Projects\\bird_call_project\\Processed Recordings\\Pooecetes_gramineus_Michigan_Monroe_County_17095_segment_8.wav is too short or silent. Skipping.\n"
     ]
    },
    {
     "name": "stderr",
     "output_type": "stream",
     "text": [
      " 44%|████▎     | 218/500 [00:34<00:40,  6.91it/s]"
     ]
    },
    {
     "name": "stdout",
     "output_type": "stream",
     "text": [
      "Warning: Audio file c:\\Users\\16148\\Desktop\\Projects\\bird_call_project\\Processed Recordings\\Centronyx_henslowii_Ross_Township_near__Ross_Butler_County_Ohio_807504_segment_7.wav is too short or silent. Skipping.\n"
     ]
    },
    {
     "name": "stderr",
     "output_type": "stream",
     "text": [
      " 45%|████▍     | 224/500 [00:35<00:40,  6.80it/s]"
     ]
    },
    {
     "name": "stdout",
     "output_type": "stream",
     "text": [
      "Warning: Audio file c:\\Users\\16148\\Desktop\\Projects\\bird_call_project\\Processed Recordings\\Centronyx_henslowii_Battelle_Darby_Metro_Park_-_Wetlands_417868_segment_5.wav is too short or silent. Skipping.\n"
     ]
    },
    {
     "name": "stderr",
     "output_type": "stream",
     "text": [
      " 51%|█████     | 253/500 [00:40<00:35,  7.04it/s]"
     ]
    },
    {
     "name": "stdout",
     "output_type": "stream",
     "text": [
      "Warning: Audio file c:\\Users\\16148\\Desktop\\Projects\\bird_call_project\\Processed Recordings\\Centronyx_henslowii_Battelle_Darby_Metro_Park_-_Wetlands_417867_segment_28.wav is too short or silent. Skipping.\n"
     ]
    },
    {
     "name": "stderr",
     "output_type": "stream",
     "text": [
      " 53%|█████▎    | 265/500 [00:42<00:33,  6.93it/s]"
     ]
    },
    {
     "name": "stdout",
     "output_type": "stream",
     "text": [
      "Warning: Audio file c:\\Users\\16148\\Desktop\\Projects\\bird_call_project\\Processed Recordings\\Centronyx_henslowii_Miami_Whitewater_Forest_Park_wetlands_Crosby_Township_near__Harrison_Hamilton_County_Ohio_302926_segment_11.wav is too short or silent. Skipping.\n"
     ]
    },
    {
     "name": "stderr",
     "output_type": "stream",
     "text": [
      " 57%|█████▋    | 286/500 [00:45<00:30,  7.04it/s]"
     ]
    },
    {
     "name": "stdout",
     "output_type": "stream",
     "text": [
      "Warning: Audio file c:\\Users\\16148\\Desktop\\Projects\\bird_call_project\\Processed Recordings\\Melospiza_melodia_Magee_Marsh_-_boardwalk_Lucas_County_Ohio_826141_segment_9.wav is too short or silent. Skipping.\n"
     ]
    },
    {
     "name": "stderr",
     "output_type": "stream",
     "text": [
      " 60%|██████    | 302/500 [00:47<00:28,  7.01it/s]"
     ]
    },
    {
     "name": "stdout",
     "output_type": "stream",
     "text": [
      "Warning: Audio file c:\\Users\\16148\\Desktop\\Projects\\bird_call_project\\Processed Recordings\\Melospiza_melodia_Magee_Marsh_-_boardwalk_Lucas_County_Ohio_826140_segment_14.wav is too short or silent. Skipping.\n"
     ]
    },
    {
     "name": "stderr",
     "output_type": "stream",
     "text": [
      " 64%|██████▍   | 320/500 [00:50<00:26,  6.83it/s]"
     ]
    },
    {
     "name": "stdout",
     "output_type": "stream",
     "text": [
      "Warning: Audio file c:\\Users\\16148\\Desktop\\Projects\\bird_call_project\\Processed Recordings\\Melospiza_melodia_Green_Township_near__Cincinnati_Hamilton_County_Ohio_807468_segment_17.wav is too short or silent. Skipping.\n"
     ]
    },
    {
     "name": "stderr",
     "output_type": "stream",
     "text": [
      " 73%|███████▎  | 366/500 [00:58<00:20,  6.65it/s]"
     ]
    },
    {
     "name": "stdout",
     "output_type": "stream",
     "text": [
      "Warning: Audio file c:\\Users\\16148\\Desktop\\Projects\\bird_call_project\\Processed Recordings\\Melospiza_melodia_Miami_Whitewater_Forest_Park_wetlands_Crosby_Township_near__Harrison_Hamilton_County_Ohio_687157_segment_11.wav is too short or silent. Skipping.\n"
     ]
    },
    {
     "name": "stderr",
     "output_type": "stream",
     "text": [
      " 74%|███████▍  | 372/500 [00:59<00:18,  6.81it/s]"
     ]
    },
    {
     "name": "stdout",
     "output_type": "stream",
     "text": [
      "Warning: Audio file c:\\Users\\16148\\Desktop\\Projects\\bird_call_project\\Processed Recordings\\Melospiza_melodia_Oak_Openings_Metropark_Ohio_418071_segment_6.wav is too short or silent. Skipping.\n"
     ]
    },
    {
     "name": "stderr",
     "output_type": "stream",
     "text": [
      " 77%|███████▋  | 386/500 [01:01<00:18,  6.09it/s]"
     ]
    },
    {
     "name": "stdout",
     "output_type": "stream",
     "text": [
      "Warning: Audio file c:\\Users\\16148\\Desktop\\Projects\\bird_call_project\\Processed Recordings\\Melospiza_melodia_Michigan_Monroe_County_17143_segment_13.wav is too short or silent. Skipping.\n"
     ]
    },
    {
     "name": "stderr",
     "output_type": "stream",
     "text": [
      " 79%|███████▉  | 394/500 [01:03<00:17,  6.16it/s]"
     ]
    },
    {
     "name": "stdout",
     "output_type": "stream",
     "text": [
      "Warning: Audio file c:\\Users\\16148\\Desktop\\Projects\\bird_call_project\\Processed Recordings\\Melospiza_georgiana_Battelle_Darby_Metro_Park_-_Wetlands_417851_segment_2.wav is too short or silent. Skipping.\n"
     ]
    },
    {
     "name": "stderr",
     "output_type": "stream",
     "text": [
      " 80%|████████  | 402/500 [01:04<00:16,  5.90it/s]"
     ]
    },
    {
     "name": "stdout",
     "output_type": "stream",
     "text": [
      "Warning: Audio file c:\\Users\\16148\\Desktop\\Projects\\bird_call_project\\Processed Recordings\\Melospiza_georgiana_Cuyhaoga_National_Forest_57835_segment_8.wav is too short or silent. Skipping.\n"
     ]
    },
    {
     "name": "stderr",
     "output_type": "stream",
     "text": [
      " 94%|█████████▍| 471/500 [01:15<00:04,  6.92it/s]"
     ]
    },
    {
     "name": "stdout",
     "output_type": "stream",
     "text": [
      "Warning: Audio file c:\\Users\\16148\\Desktop\\Projects\\bird_call_project\\Processed Recordings\\Pipilo_erythrophthalmus_Pelee_near__Leamington_Essex_County_Ontario_476567_segment_7.wav is too short or silent. Skipping.\n"
     ]
    },
    {
     "name": "stderr",
     "output_type": "stream",
     "text": [
      "100%|██████████| 500/500 [01:20<00:00,  6.24it/s]\n",
      "  8%|▊         | 38/500 [00:05<01:05,  7.02it/s]"
     ]
    },
    {
     "name": "stdout",
     "output_type": "stream",
     "text": [
      "Warning: Audio file c:\\Users\\16148\\Desktop\\Projects\\bird_call_project\\Processed Recordings\\Pipilo_erythrophthalmus_East_Fork_Lake_SP_Clermont_County_Ohio_416553_segment_20.wav is too short or silent. Skipping.\n"
     ]
    },
    {
     "name": "stderr",
     "output_type": "stream",
     "text": [
      " 11%|█         | 56/500 [00:08<01:02,  7.06it/s]"
     ]
    },
    {
     "name": "stdout",
     "output_type": "stream",
     "text": [
      "Warning: Audio file c:\\Users\\16148\\Desktop\\Projects\\bird_call_project\\Processed Recordings\\Pipilo_erythrophthalmus_Michigan_Petersburg_SGA__31106_segment_17.wav is too short or silent. Skipping.\n"
     ]
    },
    {
     "name": "stderr",
     "output_type": "stream",
     "text": [
      " 13%|█▎        | 65/500 [00:10<01:03,  6.88it/s]"
     ]
    },
    {
     "name": "stdout",
     "output_type": "stream",
     "text": [
      "Warning: Audio file c:\\Users\\16148\\Desktop\\Projects\\bird_call_project\\Processed Recordings\\Pipilo_erythrophthalmus_Michigan_Monroe_County_17150_segment_8.wav is too short or silent. Skipping.\n"
     ]
    },
    {
     "name": "stderr",
     "output_type": "stream",
     "text": [
      " 14%|█▍        | 71/500 [00:10<01:01,  6.95it/s]"
     ]
    },
    {
     "name": "stdout",
     "output_type": "stream",
     "text": [
      "Warning: Audio file c:\\Users\\16148\\Desktop\\Projects\\bird_call_project\\Processed Recordings\\Pipilo_erythrophthalmus_East_Fork_Lake_SP_Clermont_County_Ohio_416552_segment_5.wav is too short or silent. Skipping.\n"
     ]
    },
    {
     "name": "stderr",
     "output_type": "stream",
     "text": [
      " 15%|█▌        | 76/500 [00:11<00:59,  7.07it/s]"
     ]
    },
    {
     "name": "stdout",
     "output_type": "stream",
     "text": [
      "Warning: Audio file c:\\Users\\16148\\Desktop\\Projects\\bird_call_project\\Processed Recordings\\Pipilo_erythrophthalmus_Michigan_Monroe_County_17151_segment_4.wav is too short or silent. Skipping.\n"
     ]
    },
    {
     "name": "stderr",
     "output_type": "stream",
     "text": [
      " 23%|██▎       | 115/500 [00:17<00:55,  6.98it/s]"
     ]
    },
    {
     "name": "stdout",
     "output_type": "stream",
     "text": [
      "Warning: Audio file c:\\Users\\16148\\Desktop\\Projects\\bird_call_project\\Processed Recordings\\Icteria_virens_Miami_Township_near__Cleves_Hamilton_County_Ohio_807580_segment_35.wav is too short or silent. Skipping.\n"
     ]
    },
    {
     "name": "stderr",
     "output_type": "stream",
     "text": [
      " 46%|████▌     | 230/500 [00:36<00:41,  6.53it/s]"
     ]
    },
    {
     "name": "stdout",
     "output_type": "stream",
     "text": [
      "Warning: Audio file c:\\Users\\16148\\Desktop\\Projects\\bird_call_project\\Processed Recordings\\Icterus_galbula_Magee_Marsh_-_boardwalk_Lucas_County_Ohio_818924_segment_11.wav is too short or silent. Skipping.\n"
     ]
    },
    {
     "name": "stderr",
     "output_type": "stream",
     "text": [
      " 48%|████▊     | 241/500 [00:37<00:37,  6.99it/s]"
     ]
    },
    {
     "name": "stdout",
     "output_type": "stream",
     "text": [
      "Warning: Audio file c:\\Users\\16148\\Desktop\\Projects\\bird_call_project\\Processed Recordings\\Icterus_galbula_Point_Pelee_National_Park_near__Wheatley_Essex_County_Ontario_803372_segment_10.wav is too short or silent. Skipping.\n"
     ]
    },
    {
     "name": "stderr",
     "output_type": "stream",
     "text": [
      " 52%|█████▏    | 260/500 [00:41<00:35,  6.76it/s]"
     ]
    },
    {
     "name": "stdout",
     "output_type": "stream",
     "text": [
      "Warning: Audio file c:\\Users\\16148\\Desktop\\Projects\\bird_call_project\\Processed Recordings\\Icterus_galbula_Pelee_near__Leamington_Essex_County_Ontario_476519_segment_4.wav is too short or silent. Skipping.\n"
     ]
    },
    {
     "name": "stderr",
     "output_type": "stream",
     "text": [
      " 90%|█████████ | 452/500 [01:11<00:07,  6.63it/s]"
     ]
    },
    {
     "name": "stdout",
     "output_type": "stream",
     "text": [
      "Warning: Audio file c:\\Users\\16148\\Desktop\\Projects\\bird_call_project\\Processed Recordings\\Icterus_galbula_Magee_Marsh_-_boardwalk_Lucas_County_Ohio_818926_segment_89.wav is too short or silent. Skipping.\n"
     ]
    },
    {
     "name": "stderr",
     "output_type": "stream",
     "text": [
      " 94%|█████████▍| 471/500 [01:14<00:04,  6.86it/s]"
     ]
    },
    {
     "name": "stdout",
     "output_type": "stream",
     "text": [
      "Warning: Audio file c:\\Users\\16148\\Desktop\\Projects\\bird_call_project\\Processed Recordings\\Icterus_galbula_Magee_Marsh_-_boardwalk_Lucas_County_Ohio_818925_segment_16.wav is too short or silent. Skipping.\n"
     ]
    },
    {
     "name": "stderr",
     "output_type": "stream",
     "text": [
      " 96%|█████████▌| 478/500 [01:15<00:03,  6.98it/s]"
     ]
    },
    {
     "name": "stdout",
     "output_type": "stream",
     "text": [
      "Warning: Audio file c:\\Users\\16148\\Desktop\\Projects\\bird_call_project\\Processed Recordings\\Icterus_galbula_Tanager_Meadow_Reservable_Shelter_near__Harrison_Hamilton_County_Ohio_807350_segment_6.wav is too short or silent. Skipping.\n"
     ]
    },
    {
     "name": "stderr",
     "output_type": "stream",
     "text": [
      " 97%|█████████▋| 486/500 [01:17<00:01,  7.01it/s]"
     ]
    },
    {
     "name": "stdout",
     "output_type": "stream",
     "text": [
      "Warning: Audio file c:\\Users\\16148\\Desktop\\Projects\\bird_call_project\\Processed Recordings\\Icterus_galbula_Tanager_Meadow_Reservable_Shelter_near__Harrison_Hamilton_County_Ohio_807347_segment_7.wav is too short or silent. Skipping.\n"
     ]
    },
    {
     "name": "stderr",
     "output_type": "stream",
     "text": [
      "100%|██████████| 500/500 [01:19<00:00,  6.31it/s]\n",
      "  1%|          | 4/500 [00:00<01:08,  7.26it/s]"
     ]
    },
    {
     "name": "stdout",
     "output_type": "stream",
     "text": [
      "Warning: Audio file c:\\Users\\16148\\Desktop\\Projects\\bird_call_project\\Processed Recordings\\Icterus_galbula_Park_End_Dr_Montgomery_County_Ohio_477390_segment_17.wav is too short or silent. Skipping.\n"
     ]
    },
    {
     "name": "stderr",
     "output_type": "stream",
     "text": [
      "  1%|▏         | 7/500 [00:00<01:07,  7.29it/s]"
     ]
    },
    {
     "name": "stdout",
     "output_type": "stream",
     "text": [
      "Warning: Audio file c:\\Users\\16148\\Desktop\\Projects\\bird_call_project\\Processed Recordings\\Icterus_galbula_Magee_Marsh_Ohio_418002_segment_2.wav is too short or silent. Skipping.\n"
     ]
    },
    {
     "name": "stderr",
     "output_type": "stream",
     "text": [
      "  9%|▊         | 43/500 [00:06<01:07,  6.79it/s]"
     ]
    },
    {
     "name": "stdout",
     "output_type": "stream",
     "text": [
      "Warning: Audio file c:\\Users\\16148\\Desktop\\Projects\\bird_call_project\\Processed Recordings\\Icterus_galbula_Michigan_Monroe_County_16971_segment_16.wav is too short or silent. Skipping.\n"
     ]
    },
    {
     "name": "stderr",
     "output_type": "stream",
     "text": [
      " 24%|██▎       | 118/500 [00:19<00:56,  6.77it/s]"
     ]
    },
    {
     "name": "stdout",
     "output_type": "stream",
     "text": [
      "Warning: Audio file c:\\Users\\16148\\Desktop\\Projects\\bird_call_project\\Processed Recordings\\Icterus_spurius_Maumee_Bay_SP_Ohio_806260_segment_32.wav is too short or silent. Skipping.\n"
     ]
    },
    {
     "name": "stderr",
     "output_type": "stream",
     "text": [
      " 37%|███▋      | 184/500 [00:29<00:45,  6.95it/s]"
     ]
    },
    {
     "name": "stdout",
     "output_type": "stream",
     "text": [
      "Warning: Audio file c:\\Users\\16148\\Desktop\\Projects\\bird_call_project\\Processed Recordings\\Icterus_spurius_Heritage_Trail_Metro_Park_Hayden_Run_Rd_parking_area_103503_segment_31.wav is too short or silent. Skipping.\n"
     ]
    },
    {
     "name": "stderr",
     "output_type": "stream",
     "text": [
      " 44%|████▍     | 219/500 [00:35<00:40,  6.94it/s]"
     ]
    },
    {
     "name": "stdout",
     "output_type": "stream",
     "text": [
      "Warning: Audio file c:\\Users\\16148\\Desktop\\Projects\\bird_call_project\\Processed Recordings\\Icterus_spurius_Heritage_Trail_Metro_Park_Hayden_Run_Rd_parking_area_103502_segment_34.wav is too short or silent. Skipping.\n"
     ]
    },
    {
     "name": "stderr",
     "output_type": "stream",
     "text": [
      " 51%|█████     | 255/500 [00:41<00:34,  7.02it/s]"
     ]
    },
    {
     "name": "stdout",
     "output_type": "stream",
     "text": [
      "Warning: Audio file c:\\Users\\16148\\Desktop\\Projects\\bird_call_project\\Processed Recordings\\Icterus_spurius_Michigan_Whiteford_Township_17090_segment_17.wav is too short or silent. Skipping.\n"
     ]
    },
    {
     "name": "stderr",
     "output_type": "stream",
     "text": [
      " 74%|███████▍  | 369/500 [01:00<00:21,  6.10it/s]"
     ]
    },
    {
     "name": "stdout",
     "output_type": "stream",
     "text": [
      "Warning: Audio file c:\\Users\\16148\\Desktop\\Projects\\bird_call_project\\Processed Recordings\\Agelaius_phoeniceus_Magee_Marsh_-_boardwalk_Lucas_County_Ohio_814755_segment_105.wav is too short or silent. Skipping.\n"
     ]
    },
    {
     "name": "stderr",
     "output_type": "stream",
     "text": [
      "100%|██████████| 500/500 [01:21<00:00,  6.14it/s]\n",
      " 17%|█▋        | 84/500 [00:14<01:07,  6.15it/s]"
     ]
    },
    {
     "name": "stdout",
     "output_type": "stream",
     "text": [
      "Warning: Audio file c:\\Users\\16148\\Desktop\\Projects\\bird_call_project\\Processed Recordings\\Agelaius_phoeniceus_Pelee_near__Leamington_Essex_County_Ontario_477032_segment_9.wav is too short or silent. Skipping.\n"
     ]
    },
    {
     "name": "stderr",
     "output_type": "stream",
     "text": [
      " 20%|██        | 101/500 [00:16<00:59,  6.74it/s]"
     ]
    },
    {
     "name": "stdout",
     "output_type": "stream",
     "text": [
      "Warning: Audio file c:\\Users\\16148\\Desktop\\Projects\\bird_call_project\\Processed Recordings\\Agelaius_phoeniceus_Battelle_Darby_Metro_Park_-_Wetlands_417853_segment_15.wav is too short or silent. Skipping.\n"
     ]
    },
    {
     "name": "stderr",
     "output_type": "stream",
     "text": [
      " 24%|██▍       | 122/500 [00:20<00:56,  6.67it/s]"
     ]
    },
    {
     "name": "stdout",
     "output_type": "stream",
     "text": [
      "Warning: Audio file c:\\Users\\16148\\Desktop\\Projects\\bird_call_project\\Processed Recordings\\Agelaius_phoeniceus_Battelle_Darby_Metro_Park_-_Wetlands_417845_segment_20.wav is too short or silent. Skipping.\n"
     ]
    },
    {
     "name": "stderr",
     "output_type": "stream",
     "text": [
      " 28%|██▊       | 139/500 [00:22<00:51,  6.95it/s]"
     ]
    },
    {
     "name": "stdout",
     "output_type": "stream",
     "text": [
      "Warning: Audio file c:\\Users\\16148\\Desktop\\Projects\\bird_call_project\\Processed Recordings\\Agelaius_phoeniceus_Battelle_Darby_Metro_Park_-_Wetlands_737241_segment_2.wav is too short or silent. Skipping.\n"
     ]
    },
    {
     "name": "stderr",
     "output_type": "stream",
     "text": [
      " 32%|███▏      | 159/500 [00:26<00:48,  7.07it/s]"
     ]
    },
    {
     "name": "stdout",
     "output_type": "stream",
     "text": [
      "Warning: Audio file c:\\Users\\16148\\Desktop\\Projects\\bird_call_project\\Processed Recordings\\Agelaius_phoeniceus_Ross_Township_near__Hamilton_Butler_County_Ohio_533370_segment_19.wav is too short or silent. Skipping.\n"
     ]
    },
    {
     "name": "stderr",
     "output_type": "stream",
     "text": [
      " 40%|████      | 200/500 [00:32<00:42,  7.04it/s]"
     ]
    },
    {
     "name": "stdout",
     "output_type": "stream",
     "text": [
      "Warning: Audio file c:\\Users\\16148\\Desktop\\Projects\\bird_call_project\\Processed Recordings\\Agelaius_phoeniceus_Crosby_Township_near__Harrison_Hamilton_County_Ohio_482675_segment_40.wav is too short or silent. Skipping.\n"
     ]
    },
    {
     "name": "stderr",
     "output_type": "stream",
     "text": [
      " 41%|████      | 205/500 [00:33<00:38,  7.62it/s]"
     ]
    },
    {
     "name": "stdout",
     "output_type": "stream",
     "text": [
      "Warning: Audio file c:\\Users\\16148\\Desktop\\Projects\\bird_call_project\\Processed Recordings\\Agelaius_phoeniceus_Case_Farm_Gates_Mills_Ohio_98722_segment_4.wav is too short or silent. Skipping.\n",
      "Warning: Audio file c:\\Users\\16148\\Desktop\\Projects\\bird_call_project\\Processed Recordings\\Agelaius_phoeniceus_Case_Farm_Gates_Mills_Ohio_98722_segment_5.wav is too short or silent. Skipping.\n"
     ]
    },
    {
     "name": "stderr",
     "output_type": "stream",
     "text": [
      " 45%|████▌     | 225/500 [00:36<00:39,  6.93it/s]"
     ]
    },
    {
     "name": "stdout",
     "output_type": "stream",
     "text": [
      "Warning: Audio file c:\\Users\\16148\\Desktop\\Projects\\bird_call_project\\Processed Recordings\\Agelaius_phoeniceus_Case_Farm_Gates_Mills_Ohio_98722_segment_24.wav is too short or silent. Skipping.\n"
     ]
    },
    {
     "name": "stderr",
     "output_type": "stream",
     "text": [
      " 47%|████▋     | 233/500 [00:37<00:39,  6.80it/s]"
     ]
    },
    {
     "name": "stdout",
     "output_type": "stream",
     "text": [
      "Warning: Audio file c:\\Users\\16148\\Desktop\\Projects\\bird_call_project\\Processed Recordings\\Agelaius_phoeniceus_Ohio_Crane_Creek_SP_17011_segment_7.wav is too short or silent. Skipping.\n"
     ]
    },
    {
     "name": "stderr",
     "output_type": "stream",
     "text": [
      " 60%|██████    | 300/500 [00:48<00:32,  6.24it/s]"
     ]
    },
    {
     "name": "stdout",
     "output_type": "stream",
     "text": [
      "Warning: Audio file c:\\Users\\16148\\Desktop\\Projects\\bird_call_project\\Processed Recordings\\Agelaius_phoeniceus_UC_Center_for_Field_Studies_482986_segment_44.wav is too short or silent. Skipping.\n"
     ]
    },
    {
     "name": "stderr",
     "output_type": "stream",
     "text": [
      " 64%|██████▎   | 318/500 [00:51<00:25,  7.06it/s]"
     ]
    },
    {
     "name": "stdout",
     "output_type": "stream",
     "text": [
      "Warning: Audio file c:\\Users\\16148\\Desktop\\Projects\\bird_call_project\\Processed Recordings\\Molothrus_ater_Pelee_near__Leamington_Essex_County_Ontario_476558_segment_5.wav is too short or silent. Skipping.\n"
     ]
    },
    {
     "name": "stderr",
     "output_type": "stream",
     "text": [
      " 66%|██████▌   | 328/500 [00:53<00:24,  7.03it/s]"
     ]
    },
    {
     "name": "stdout",
     "output_type": "stream",
     "text": [
      "Warning: Audio file c:\\Users\\16148\\Desktop\\Projects\\bird_call_project\\Processed Recordings\\Euphagus_carolinus_Michigan_Deerfield_11853_segment_9.wav is too short or silent. Skipping.\n"
     ]
    },
    {
     "name": "stderr",
     "output_type": "stream",
     "text": [
      " 71%|███████   | 355/500 [00:57<00:20,  7.02it/s]"
     ]
    },
    {
     "name": "stdout",
     "output_type": "stream",
     "text": [
      "Warning: Audio file c:\\Users\\16148\\Desktop\\Projects\\bird_call_project\\Processed Recordings\\Euphagus_carolinus_Firestone_Metropark_Summit_County_Ohio_401462_segment_26.wav is too short or silent. Skipping.\n"
     ]
    },
    {
     "name": "stderr",
     "output_type": "stream",
     "text": [
      " 73%|███████▎  | 367/500 [00:59<00:18,  7.02it/s]"
     ]
    },
    {
     "name": "stdout",
     "output_type": "stream",
     "text": [
      "Warning: Audio file c:\\Users\\16148\\Desktop\\Projects\\bird_call_project\\Processed Recordings\\Euphagus_carolinus_Ohio_Crane_Creek_SP_17013_segment_11.wav is too short or silent. Skipping.\n"
     ]
    },
    {
     "name": "stderr",
     "output_type": "stream",
     "text": [
      " 74%|███████▍  | 370/500 [00:59<00:17,  7.24it/s]"
     ]
    },
    {
     "name": "stdout",
     "output_type": "stream",
     "text": [
      "Warning: Audio file c:\\Users\\16148\\Desktop\\Projects\\bird_call_project\\Processed Recordings\\Quiscalus_quiscula_Pelee_near__Leamington_Essex_County_Ontario_476561_segment_2.wav is too short or silent. Skipping.\n"
     ]
    },
    {
     "name": "stderr",
     "output_type": "stream",
     "text": [
      " 77%|███████▋  | 386/500 [01:01<00:16,  7.01it/s]"
     ]
    },
    {
     "name": "stdout",
     "output_type": "stream",
     "text": [
      "Warning: Audio file c:\\Users\\16148\\Desktop\\Projects\\bird_call_project\\Processed Recordings\\Quiscalus_quiscula_Wegerzyn_garden_near__Dayton_Montgomery_County_Ohio_807216_segment_15.wav is too short or silent. Skipping.\n"
     ]
    },
    {
     "name": "stderr",
     "output_type": "stream",
     "text": [
      " 84%|████████▎ | 418/500 [01:06<00:11,  6.98it/s]"
     ]
    },
    {
     "name": "stdout",
     "output_type": "stream",
     "text": [
      "Warning: Audio file c:\\Users\\16148\\Desktop\\Projects\\bird_call_project\\Processed Recordings\\Seiurus_aurocapilla_Harrison_Township_near__Harrison_Hamilton_County_Ohio_726815_segment_14.wav is too short or silent. Skipping.\n"
     ]
    },
    {
     "name": "stderr",
     "output_type": "stream",
     "text": [
      "100%|██████████| 500/500 [01:20<00:00,  6.23it/s]\n",
      "  3%|▎         | 14/500 [00:02<01:16,  6.35it/s]"
     ]
    },
    {
     "name": "stdout",
     "output_type": "stream",
     "text": [
      "Warning: Audio file c:\\Users\\16148\\Desktop\\Projects\\bird_call_project\\Processed Recordings\\Parkesia_motacilla_Upper_Twin_Creek_Rd_Scioto_County_Ohio_417605_segment_4.wav is too short or silent. Skipping.\n"
     ]
    },
    {
     "name": "stderr",
     "output_type": "stream",
     "text": [
      "  6%|▌         | 28/500 [00:04<01:07,  6.95it/s]"
     ]
    },
    {
     "name": "stdout",
     "output_type": "stream",
     "text": [
      "Warning: Audio file c:\\Users\\16148\\Desktop\\Projects\\bird_call_project\\Processed Recordings\\Parkesia_motacilla_Anderson_Township_near__Cincinnati_Hamilton_County_Ohio_542524_segment_12.wav is too short or silent. Skipping.\n"
     ]
    },
    {
     "name": "stderr",
     "output_type": "stream",
     "text": [
      "  8%|▊         | 42/500 [00:06<01:06,  6.93it/s]"
     ]
    },
    {
     "name": "stdout",
     "output_type": "stream",
     "text": [
      "Warning: Audio file c:\\Users\\16148\\Desktop\\Projects\\bird_call_project\\Processed Recordings\\Parkesia_noveboracensis_Magee_Marsh_-_boardwalk_Lucas_County_Ohio_828221_segment_13.wav is too short or silent. Skipping.\n"
     ]
    },
    {
     "name": "stderr",
     "output_type": "stream",
     "text": [
      " 13%|█▎        | 63/500 [00:10<01:02,  7.03it/s]"
     ]
    },
    {
     "name": "stdout",
     "output_type": "stream",
     "text": [
      "Warning: Audio file c:\\Users\\16148\\Desktop\\Projects\\bird_call_project\\Processed Recordings\\Parkesia_noveboracensis_Benton_Township_near__Rocky_Ridge_Ottawa_County_Ohio_902985_segment_13.wav is too short or silent. Skipping.\n"
     ]
    },
    {
     "name": "stderr",
     "output_type": "stream",
     "text": [
      " 16%|█▌        | 80/500 [00:12<00:59,  7.03it/s]"
     ]
    },
    {
     "name": "stdout",
     "output_type": "stream",
     "text": [
      "Warning: Audio file c:\\Users\\16148\\Desktop\\Projects\\bird_call_project\\Processed Recordings\\Parkesia_noveboracensis_Benton_Township_near__Rocky_Ridge_Ottawa_County_Ohio_902982_segment_16.wav is too short or silent. Skipping.\n"
     ]
    },
    {
     "name": "stderr",
     "output_type": "stream",
     "text": [
      " 21%|██        | 105/500 [00:16<00:57,  6.92it/s]"
     ]
    },
    {
     "name": "stdout",
     "output_type": "stream",
     "text": [
      "Warning: Audio file c:\\Users\\16148\\Desktop\\Projects\\bird_call_project\\Processed Recordings\\Vermivora_chrysoptera_Magee_Marsh_-_boardwalk_Lucas_County_Ohio_939868_segment_3.wav is too short or silent. Skipping.\n"
     ]
    },
    {
     "name": "stderr",
     "output_type": "stream",
     "text": [
      " 23%|██▎       | 114/500 [00:18<00:57,  6.71it/s]"
     ]
    },
    {
     "name": "stdout",
     "output_type": "stream",
     "text": [
      "Warning: Audio file c:\\Users\\16148\\Desktop\\Projects\\bird_call_project\\Processed Recordings\\Vermivora_chrysoptera_Delaware_Count_OH_99394_segment_8.wav is too short or silent. Skipping.\n"
     ]
    },
    {
     "name": "stderr",
     "output_type": "stream",
     "text": [
      " 23%|██▎       | 117/500 [00:18<00:56,  6.84it/s]"
     ]
    },
    {
     "name": "stdout",
     "output_type": "stream",
     "text": [
      "Warning: Audio file c:\\Users\\16148\\Desktop\\Projects\\bird_call_project\\Processed Recordings\\Vermivora_chrysoptera_Prairie_Oaks_Metro_Park_99391_segment_2.wav is too short or silent. Skipping.\n"
     ]
    },
    {
     "name": "stderr",
     "output_type": "stream",
     "text": [
      " 27%|██▋       | 135/500 [00:21<00:53,  6.81it/s]"
     ]
    },
    {
     "name": "stdout",
     "output_type": "stream",
     "text": [
      "Warning: Audio file c:\\Users\\16148\\Desktop\\Projects\\bird_call_project\\Processed Recordings\\Vermivora_chrysoptera_Prairie_Oaks_Metro_Park_99390_segment_2.wav is too short or silent. Skipping.\n"
     ]
    },
    {
     "name": "stderr",
     "output_type": "stream",
     "text": [
      " 33%|███▎      | 163/500 [00:25<00:50,  6.71it/s]"
     ]
    },
    {
     "name": "stdout",
     "output_type": "stream",
     "text": [
      "Warning: Audio file c:\\Users\\16148\\Desktop\\Projects\\bird_call_project\\Processed Recordings\\Vermivora_cyanoptera_Irwin_Prairie_SNP_Ohio_418085_segment_27.wav is too short or silent. Skipping.\n"
     ]
    },
    {
     "name": "stderr",
     "output_type": "stream",
     "text": [
      " 37%|███▋      | 183/500 [00:29<00:46,  6.77it/s]"
     ]
    },
    {
     "name": "stdout",
     "output_type": "stream",
     "text": [
      "Warning: Audio file c:\\Users\\16148\\Desktop\\Projects\\bird_call_project\\Processed Recordings\\Vermivora_cyanoptera_Irwin_Prairie_SNP_Ohio_418082_segment_19.wav is too short or silent. Skipping.\n"
     ]
    },
    {
     "name": "stderr",
     "output_type": "stream",
     "text": [
      " 41%|████      | 205/500 [00:32<00:42,  6.93it/s]"
     ]
    },
    {
     "name": "stdout",
     "output_type": "stream",
     "text": [
      "Warning: Audio file c:\\Users\\16148\\Desktop\\Projects\\bird_call_project\\Processed Recordings\\Vermivora_cyanoptera_Oak_Openings_Metropark_Ohio_418074_segment_22.wav is too short or silent. Skipping.\n"
     ]
    },
    {
     "name": "stderr",
     "output_type": "stream",
     "text": [
      " 42%|████▏     | 211/500 [00:33<00:43,  6.68it/s]"
     ]
    },
    {
     "name": "stdout",
     "output_type": "stream",
     "text": [
      "Warning: Audio file c:\\Users\\16148\\Desktop\\Projects\\bird_call_project\\Processed Recordings\\Vermivora_cyanoptera_Shawnee_State_Forest_Scioto_County_Ohio_417455_segment_4.wav is too short or silent. Skipping.\n"
     ]
    },
    {
     "name": "stderr",
     "output_type": "stream",
     "text": [
      " 53%|█████▎    | 267/500 [00:43<00:33,  6.89it/s]"
     ]
    },
    {
     "name": "stdout",
     "output_type": "stream",
     "text": [
      "Warning: Audio file c:\\Users\\16148\\Desktop\\Projects\\bird_call_project\\Processed Recordings\\Vermivora_cyanoptera_Michigan_Petersburg_SGA__31125_segment_13.wav is too short or silent. Skipping.\n"
     ]
    },
    {
     "name": "stderr",
     "output_type": "stream",
     "text": [
      " 60%|██████    | 301/500 [00:48<00:29,  6.84it/s]"
     ]
    },
    {
     "name": "stdout",
     "output_type": "stream",
     "text": [
      "Warning: Audio file c:\\Users\\16148\\Desktop\\Projects\\bird_call_project\\Processed Recordings\\Vermivora_cyanoptera_Michigan_Petersburg_SGA__31123_segment_27.wav is too short or silent. Skipping.\n"
     ]
    },
    {
     "name": "stderr",
     "output_type": "stream",
     "text": [
      " 64%|██████▍   | 320/500 [00:51<00:26,  6.83it/s]"
     ]
    },
    {
     "name": "stdout",
     "output_type": "stream",
     "text": [
      "Warning: Audio file c:\\Users\\16148\\Desktop\\Projects\\bird_call_project\\Processed Recordings\\Mniotilta_varia_Shawnee_State_Forest_Scioto_County_Ohio_939168_segment_18.wav is too short or silent. Skipping.\n"
     ]
    },
    {
     "name": "stderr",
     "output_type": "stream",
     "text": [
      " 66%|██████▌   | 330/500 [00:53<00:24,  6.92it/s]"
     ]
    },
    {
     "name": "stdout",
     "output_type": "stream",
     "text": [
      "Warning: Audio file c:\\Users\\16148\\Desktop\\Projects\\bird_call_project\\Processed Recordings\\Mniotilta_varia_Magee_Marsh_Ohio_418092_segment_9.wav is too short or silent. Skipping.\n"
     ]
    },
    {
     "name": "stderr",
     "output_type": "stream",
     "text": [
      " 76%|███████▌  | 380/500 [01:01<00:17,  6.87it/s]"
     ]
    },
    {
     "name": "stdout",
     "output_type": "stream",
     "text": [
      "Warning: Audio file c:\\Users\\16148\\Desktop\\Projects\\bird_call_project\\Processed Recordings\\Mniotilta_varia_Magee_Marsh_-_boardwalk_Lucas_County_Ohio_827727_segment_49.wav is too short or silent. Skipping.\n"
     ]
    },
    {
     "name": "stderr",
     "output_type": "stream",
     "text": [
      " 77%|███████▋  | 383/500 [01:01<00:16,  7.08it/s]"
     ]
    },
    {
     "name": "stdout",
     "output_type": "stream",
     "text": [
      "Warning: Audio file c:\\Users\\16148\\Desktop\\Projects\\bird_call_project\\Processed Recordings\\Mniotilta_varia_Benton_Township_near__Rocky_Ridge_Ottawa_County_Ohio_902974_segment_2.wav is too short or silent. Skipping.\n"
     ]
    },
    {
     "name": "stderr",
     "output_type": "stream",
     "text": [
      " 78%|███████▊  | 392/500 [01:02<00:15,  6.94it/s]"
     ]
    },
    {
     "name": "stdout",
     "output_type": "stream",
     "text": [
      "Warning: Audio file c:\\Users\\16148\\Desktop\\Projects\\bird_call_project\\Processed Recordings\\Mniotilta_varia_Ohio_Crane_Creek_SP_17015_segment_8.wav is too short or silent. Skipping.\n"
     ]
    },
    {
     "name": "stderr",
     "output_type": "stream",
     "text": [
      " 79%|███████▉  | 395/500 [01:03<00:14,  7.17it/s]"
     ]
    },
    {
     "name": "stdout",
     "output_type": "stream",
     "text": [
      "Warning: Audio file c:\\Users\\16148\\Desktop\\Projects\\bird_call_project\\Processed Recordings\\Mniotilta_varia_Ohio_Crane_Creek_SP_17014_segment_2.wav is too short or silent. Skipping.\n"
     ]
    },
    {
     "name": "stderr",
     "output_type": "stream",
     "text": [
      " 98%|█████████▊| 491/500 [01:18<00:01,  6.76it/s]"
     ]
    },
    {
     "name": "stdout",
     "output_type": "stream",
     "text": [
      "Warning: Audio file c:\\Users\\16148\\Desktop\\Projects\\bird_call_project\\Processed Recordings\\Protonotaria_citrea_Magee_Marsh_-_boardwalk_Lucas_County_Ohio_828067_segment_55.wav is too short or silent. Skipping.\n"
     ]
    },
    {
     "name": "stderr",
     "output_type": "stream",
     "text": [
      "100%|██████████| 500/500 [01:20<00:00,  6.24it/s]\n",
      "  5%|▍         | 23/500 [00:03<01:09,  6.84it/s]"
     ]
    },
    {
     "name": "stdout",
     "output_type": "stream",
     "text": [
      "Warning: Audio file c:\\Users\\16148\\Desktop\\Projects\\bird_call_project\\Processed Recordings\\Protonotaria_citrea_Magee_Marsh_-_boardwalk_Lucas_County_Ohio_828064_segment_31.wav is too short or silent. Skipping.\n"
     ]
    },
    {
     "name": "stderr",
     "output_type": "stream",
     "text": [
      " 11%|█▏        | 57/500 [00:09<01:04,  6.85it/s]"
     ]
    },
    {
     "name": "stdout",
     "output_type": "stream",
     "text": [
      "Warning: Audio file c:\\Users\\16148\\Desktop\\Projects\\bird_call_project\\Processed Recordings\\Protonotaria_citrea_Magee_Marsh_-_boardwalk_Lucas_County_Ohio_828063_segment_9.wav is too short or silent. Skipping.\n"
     ]
    },
    {
     "name": "stderr",
     "output_type": "stream",
     "text": [
      " 13%|█▎        | 63/500 [00:10<01:03,  6.92it/s]"
     ]
    },
    {
     "name": "stdout",
     "output_type": "stream",
     "text": [
      "Warning: Audio file c:\\Users\\16148\\Desktop\\Projects\\bird_call_project\\Processed Recordings\\Protonotaria_citrea_Magee_Marsh_-_boardwalk_Lucas_County_Ohio_828061_segment_5.wav is too short or silent. Skipping.\n"
     ]
    },
    {
     "name": "stderr",
     "output_type": "stream",
     "text": [
      " 15%|█▌        | 75/500 [00:11<01:08,  6.16it/s]"
     ]
    },
    {
     "name": "stdout",
     "output_type": "stream",
     "text": [
      "Warning: Audio file c:\\Users\\16148\\Desktop\\Projects\\bird_call_project\\Processed Recordings\\Protonotaria_citrea_Cuyahoga_Valley_National_Park_Station_Road_area_662929_segment_13.wav is too short or silent. Skipping.\n"
     ]
    },
    {
     "name": "stderr",
     "output_type": "stream",
     "text": [
      " 20%|██        | 102/500 [00:17<01:15,  5.28it/s]"
     ]
    },
    {
     "name": "stdout",
     "output_type": "stream",
     "text": [
      "Warning: Audio file c:\\Users\\16148\\Desktop\\Projects\\bird_call_project\\Processed Recordings\\Protonotaria_citrea_Anderson_Township_near__Cincinnati_Hamilton_County_Ohio_552556_segment_24.wav is too short or silent. Skipping.\n"
     ]
    },
    {
     "name": "stderr",
     "output_type": "stream",
     "text": [
      " 31%|███       | 154/500 [00:25<00:49,  6.97it/s]"
     ]
    },
    {
     "name": "stdout",
     "output_type": "stream",
     "text": [
      "Warning: Audio file c:\\Users\\16148\\Desktop\\Projects\\bird_call_project\\Processed Recordings\\Leiothlypis_peregrina_Benton_Township_near__Rocky_Ridge_Ottawa_County_Ohio_902978_segment_6.wav is too short or silent. Skipping.\n"
     ]
    },
    {
     "name": "stderr",
     "output_type": "stream",
     "text": [
      " 38%|███▊      | 192/500 [00:30<00:43,  7.15it/s]"
     ]
    },
    {
     "name": "stdout",
     "output_type": "stream",
     "text": [
      "Warning: Audio file c:\\Users\\16148\\Desktop\\Projects\\bird_call_project\\Processed Recordings\\Leiothlypis_peregrina_Magee_Marsh_-_Crane_Creek_Ohio_418090_segment_13.wav is too short or silent. Skipping.\n"
     ]
    },
    {
     "name": "stderr",
     "output_type": "stream",
     "text": [
      " 41%|████      | 206/500 [00:33<00:42,  6.90it/s]"
     ]
    },
    {
     "name": "stdout",
     "output_type": "stream",
     "text": [
      "Warning: Audio file c:\\Users\\16148\\Desktop\\Projects\\bird_call_project\\Processed Recordings\\Leiothlypis_celata_Tanglewood_Lane_Cincinnati_Ohio_44329_segment_13.wav is too short or silent. Skipping.\n"
     ]
    },
    {
     "name": "stderr",
     "output_type": "stream",
     "text": [
      " 43%|████▎     | 215/500 [00:34<00:39,  7.14it/s]"
     ]
    },
    {
     "name": "stdout",
     "output_type": "stream",
     "text": [
      "Warning: Audio file c:\\Users\\16148\\Desktop\\Projects\\bird_call_project\\Processed Recordings\\Leiothlypis_ruficapilla_Green_Township_near__Cincinnati_Hamilton_County_Ohio_723591_segment_8.wav is too short or silent. Skipping.\n"
     ]
    },
    {
     "name": "stderr",
     "output_type": "stream",
     "text": [
      " 45%|████▍     | 223/500 [00:35<00:38,  7.10it/s]"
     ]
    },
    {
     "name": "stdout",
     "output_type": "stream",
     "text": [
      "Warning: Audio file c:\\Users\\16148\\Desktop\\Projects\\bird_call_project\\Processed Recordings\\Leiothlypis_ruficapilla_Tanglewood_Lane_Cincinnati_Ohio_44428_segment_7.wav is too short or silent. Skipping.\n"
     ]
    },
    {
     "name": "stderr",
     "output_type": "stream",
     "text": [
      " 48%|████▊     | 239/500 [00:38<00:36,  7.08it/s]"
     ]
    },
    {
     "name": "stdout",
     "output_type": "stream",
     "text": [
      "Warning: Audio file c:\\Users\\16148\\Desktop\\Projects\\bird_call_project\\Processed Recordings\\Oporornis_agilis_Mansfield_Richland_County_Ohio_804330_segment_15.wav is too short or silent. Skipping.\n"
     ]
    },
    {
     "name": "stderr",
     "output_type": "stream",
     "text": [
      " 68%|██████▊   | 342/500 [00:54<00:22,  7.11it/s]"
     ]
    },
    {
     "name": "stdout",
     "output_type": "stream",
     "text": [
      "Warning: Audio file c:\\Users\\16148\\Desktop\\Projects\\bird_call_project\\Processed Recordings\\Oporornis_agilis_Blendon_Woods_Metro_Park--Brookside_Trail_near_Hickory_Ridge_Trail_Columbus_Franklin_County_Ohio_179835_segment_80.wav is too short or silent. Skipping.\n"
     ]
    },
    {
     "name": "stderr",
     "output_type": "stream",
     "text": [
      " 73%|███████▎  | 363/500 [00:57<00:19,  6.90it/s]"
     ]
    },
    {
     "name": "stdout",
     "output_type": "stream",
     "text": [
      "Warning: Audio file c:\\Users\\16148\\Desktop\\Projects\\bird_call_project\\Processed Recordings\\Geothlypis_philadelphia_Green_Township_near__Cincinnati_Hamilton_County_Ohio_723382_segment_5.wav is too short or silent. Skipping.\n"
     ]
    },
    {
     "name": "stderr",
     "output_type": "stream",
     "text": [
      " 74%|███████▎  | 368/500 [00:58<00:18,  7.15it/s]"
     ]
    },
    {
     "name": "stdout",
     "output_type": "stream",
     "text": [
      "Warning: Audio file c:\\Users\\16148\\Desktop\\Projects\\bird_call_project\\Processed Recordings\\Geothlypis_philadelphia_Ohio_near__Akron_Summit_County_Ohio_369829_segment_4.wav is too short or silent. Skipping.\n"
     ]
    },
    {
     "name": "stderr",
     "output_type": "stream",
     "text": [
      " 78%|███████▊  | 388/500 [01:01<00:15,  7.08it/s]"
     ]
    },
    {
     "name": "stdout",
     "output_type": "stream",
     "text": [
      "Warning: Audio file c:\\Users\\16148\\Desktop\\Projects\\bird_call_project\\Processed Recordings\\Geothlypis_formosa_Shawnee_State_Forest_Scioto_County_Ohio_417459_segment_19.wav is too short or silent. Skipping.\n"
     ]
    },
    {
     "name": "stderr",
     "output_type": "stream",
     "text": [
      " 78%|███████▊  | 391/500 [01:01<00:14,  7.28it/s]"
     ]
    },
    {
     "name": "stdout",
     "output_type": "stream",
     "text": [
      "Warning: Audio file c:\\Users\\16148\\Desktop\\Projects\\bird_call_project\\Processed Recordings\\Geothlypis_formosa_Shawnee_State_Forest_Scioto_County_Ohio_939167_segment_2.wav is too short or silent. Skipping.\n"
     ]
    },
    {
     "name": "stderr",
     "output_type": "stream",
     "text": [
      " 82%|████████▏ | 410/500 [01:04<00:12,  7.02it/s]"
     ]
    },
    {
     "name": "stdout",
     "output_type": "stream",
     "text": [
      "Warning: Audio file c:\\Users\\16148\\Desktop\\Projects\\bird_call_project\\Processed Recordings\\Geothlypis_formosa_Whitewater_Township_near__Cleves_Hamilton_County_Ohio_910509_segment_18.wav is too short or silent. Skipping.\n"
     ]
    },
    {
     "name": "stderr",
     "output_type": "stream",
     "text": [
      " 85%|████████▌ | 426/500 [01:07<00:10,  6.88it/s]"
     ]
    },
    {
     "name": "stdout",
     "output_type": "stream",
     "text": [
      "Warning: Audio file c:\\Users\\16148\\Desktop\\Projects\\bird_call_project\\Processed Recordings\\Geothlypis_formosa_Whitewater_Township_near__Cleves_Hamilton_County_Ohio_817715_segment_15.wav is too short or silent. Skipping.\n"
     ]
    },
    {
     "name": "stderr",
     "output_type": "stream",
     "text": [
      " 90%|█████████ | 451/500 [01:11<00:06,  7.01it/s]"
     ]
    },
    {
     "name": "stdout",
     "output_type": "stream",
     "text": [
      "Warning: Audio file c:\\Users\\16148\\Desktop\\Projects\\bird_call_project\\Processed Recordings\\Geothlypis_formosa_Whitewater_Township_near__Cleves_Hamilton_County_Ohio_817714_segment_24.wav is too short or silent. Skipping.\n"
     ]
    },
    {
     "name": "stderr",
     "output_type": "stream",
     "text": [
      " 98%|█████████▊| 491/500 [01:17<00:01,  7.91it/s]"
     ]
    },
    {
     "name": "stdout",
     "output_type": "stream",
     "text": [
      "Warning: Audio file c:\\Users\\16148\\Desktop\\Projects\\bird_call_project\\Processed Recordings\\Geothlypis_formosa_Harrison_Township_near__Harrison_Hamilton_County_Ohio_726820_segment_5.wav is too short or silent. Skipping.\n",
      "Warning: Audio file c:\\Users\\16148\\Desktop\\Projects\\bird_call_project\\Processed Recordings\\Geothlypis_formosa_Harrison_Township_near__Harrison_Hamilton_County_Ohio_726820_segment_6.wav is too short or silent. Skipping.\n"
     ]
    },
    {
     "name": "stderr",
     "output_type": "stream",
     "text": [
      "100%|██████████| 500/500 [01:18<00:00,  6.35it/s]\n",
      "  9%|▉         | 44/500 [00:07<01:07,  6.80it/s]"
     ]
    },
    {
     "name": "stdout",
     "output_type": "stream",
     "text": [
      "Warning: Audio file c:\\Users\\16148\\Desktop\\Projects\\bird_call_project\\Processed Recordings\\Geothlypis_formosa_Columbus_OH--Blendon_Woods_Metro_Park--Hickory_Ridge_Trail_between_Brookside_and_Overlook_Trails_103881_segment_51.wav is too short or silent. Skipping.\n"
     ]
    },
    {
     "name": "stderr",
     "output_type": "stream",
     "text": [
      " 17%|█▋        | 83/500 [00:13<00:59,  7.02it/s]"
     ]
    },
    {
     "name": "stdout",
     "output_type": "stream",
     "text": [
      "Warning: Audio file c:\\Users\\16148\\Desktop\\Projects\\bird_call_project\\Processed Recordings\\Geothlypis_formosa_Harrison_Township_near__Harrison_Hamilton_County_Ohio_728265_segment_17.wav is too short or silent. Skipping.\n"
     ]
    },
    {
     "name": "stderr",
     "output_type": "stream",
     "text": [
      " 24%|██▎       | 118/500 [00:18<00:53,  7.21it/s]"
     ]
    },
    {
     "name": "stdout",
     "output_type": "stream",
     "text": [
      "Warning: Audio file c:\\Users\\16148\\Desktop\\Projects\\bird_call_project\\Processed Recordings\\Geothlypis_trichas_Magee_Marsh_-_boardwalk_Lucas_County_Ohio_828478_segment_34.wav is too short or silent. Skipping.\n"
     ]
    },
    {
     "name": "stderr",
     "output_type": "stream",
     "text": [
      " 26%|██▌       | 129/500 [00:20<00:51,  7.19it/s]"
     ]
    },
    {
     "name": "stdout",
     "output_type": "stream",
     "text": [
      "Warning: Audio file c:\\Users\\16148\\Desktop\\Projects\\bird_call_project\\Processed Recordings\\Geothlypis_trichas_Point_Pelee_National_Park_near__Wheatley_Essex_County_Ontario_803583_segment_10.wav is too short or silent. Skipping.\n"
     ]
    },
    {
     "name": "stderr",
     "output_type": "stream",
     "text": [
      " 30%|███       | 152/500 [00:23<00:49,  7.08it/s]"
     ]
    },
    {
     "name": "stdout",
     "output_type": "stream",
     "text": [
      "Warning: Audio file c:\\Users\\16148\\Desktop\\Projects\\bird_call_project\\Processed Recordings\\Geothlypis_trichas_Whitewater_Township_near__Harrison_Hamilton_County_Ohio_726806_segment_22.wav is too short or silent. Skipping.\n"
     ]
    },
    {
     "name": "stderr",
     "output_type": "stream",
     "text": [
      " 34%|███▍      | 169/500 [00:26<00:47,  7.03it/s]"
     ]
    },
    {
     "name": "stdout",
     "output_type": "stream",
     "text": [
      "Warning: Audio file c:\\Users\\16148\\Desktop\\Projects\\bird_call_project\\Processed Recordings\\Geothlypis_trichas_Miami_Township_near__North_Bend_Hamilton_County_Ohio_646029_segment_16.wav is too short or silent. Skipping.\n"
     ]
    },
    {
     "name": "stderr",
     "output_type": "stream",
     "text": [
      " 37%|███▋      | 186/500 [00:29<00:44,  7.08it/s]"
     ]
    },
    {
     "name": "stdout",
     "output_type": "stream",
     "text": [
      "Warning: Audio file c:\\Users\\16148\\Desktop\\Projects\\bird_call_project\\Processed Recordings\\Geothlypis_trichas_Ohio_near__Peninsula_Summit_County_Ohio_374227_segment_12.wav is too short or silent. Skipping.\n"
     ]
    },
    {
     "name": "stderr",
     "output_type": "stream",
     "text": [
      " 39%|███▉      | 196/500 [00:30<00:42,  7.10it/s]"
     ]
    },
    {
     "name": "stdout",
     "output_type": "stream",
     "text": [
      "Warning: Audio file c:\\Users\\16148\\Desktop\\Projects\\bird_call_project\\Processed Recordings\\Setophaga_citrina_Whitewater_Township_near__Cleves_Hamilton_County_Ohio_910499_segment_9.wav is too short or silent. Skipping.\n"
     ]
    },
    {
     "name": "stderr",
     "output_type": "stream",
     "text": [
      " 41%|████      | 206/500 [00:32<00:43,  6.78it/s]"
     ]
    },
    {
     "name": "stdout",
     "output_type": "stream",
     "text": [
      "Warning: Audio file c:\\Users\\16148\\Desktop\\Projects\\bird_call_project\\Processed Recordings\\Setophaga_citrina_Harrison_Township_near__Harrison_Hamilton_County_Ohio_726821_segment_9.wav is too short or silent. Skipping.\n"
     ]
    },
    {
     "name": "stderr",
     "output_type": "stream",
     "text": [
      " 47%|████▋     | 236/500 [00:36<00:37,  6.98it/s]"
     ]
    },
    {
     "name": "stdout",
     "output_type": "stream",
     "text": [
      "Warning: Audio file c:\\Users\\16148\\Desktop\\Projects\\bird_call_project\\Processed Recordings\\Setophaga_citrina_Brecksville_Cuyahoga_County_Ohio_652287_segment_29.wav is too short or silent. Skipping.\n"
     ]
    },
    {
     "name": "stderr",
     "output_type": "stream",
     "text": [
      " 70%|███████   | 351/500 [00:55<00:19,  7.79it/s]"
     ]
    },
    {
     "name": "stdout",
     "output_type": "stream",
     "text": [
      "Warning: Audio file c:\\Users\\16148\\Desktop\\Projects\\bird_call_project\\Processed Recordings\\Setophaga_ruticilla_Magee_Marsh_-_boardwalk_Lucas_County_Ohio_825241_segment_113.wav is too short or silent. Skipping.\n",
      "Warning: Audio file c:\\Users\\16148\\Desktop\\Projects\\bird_call_project\\Processed Recordings\\Setophaga_ruticilla_Magee_Marsh_-_boardwalk_Lucas_County_Ohio_825241_segment_114.wav is too short or silent. Skipping.\n"
     ]
    },
    {
     "name": "stderr",
     "output_type": "stream",
     "text": [
      " 76%|███████▋  | 382/500 [01:00<00:16,  7.10it/s]"
     ]
    },
    {
     "name": "stdout",
     "output_type": "stream",
     "text": [
      "Warning: Audio file c:\\Users\\16148\\Desktop\\Projects\\bird_call_project\\Processed Recordings\\Setophaga_ruticilla_Pelee_near__Leamington_Essex_County_Ontario_476493_segment_12.wav is too short or silent. Skipping.\n"
     ]
    },
    {
     "name": "stderr",
     "output_type": "stream",
     "text": [
      " 80%|████████  | 402/500 [01:03<00:13,  7.02it/s]"
     ]
    },
    {
     "name": "stdout",
     "output_type": "stream",
     "text": [
      "Warning: Audio file c:\\Users\\16148\\Desktop\\Projects\\bird_call_project\\Processed Recordings\\Setophaga_ruticilla_Paris_near__Ravenna_Portage_County_Ohio_178310_segment_19.wav is too short or silent. Skipping.\n"
     ]
    },
    {
     "name": "stderr",
     "output_type": "stream",
     "text": [
      " 83%|████████▎ | 415/500 [01:05<00:11,  7.09it/s]"
     ]
    },
    {
     "name": "stdout",
     "output_type": "stream",
     "text": [
      "Warning: Audio file c:\\Users\\16148\\Desktop\\Projects\\bird_call_project\\Processed Recordings\\Setophaga_ruticilla_Point_Pelee_ON_83534_segment_12.wav is too short or silent. Skipping.\n"
     ]
    },
    {
     "name": "stderr",
     "output_type": "stream",
     "text": [
      " 95%|█████████▍| 473/500 [01:14<00:04,  6.38it/s]"
     ]
    },
    {
     "name": "stdout",
     "output_type": "stream",
     "text": [
      "Warning: Audio file c:\\Users\\16148\\Desktop\\Projects\\bird_call_project\\Processed Recordings\\Setophaga_ruticilla_Magee_Marsh_-_boardwalk_Lucas_County_Ohio_825242_segment_57.wav is too short or silent. Skipping.\n"
     ]
    },
    {
     "name": "stderr",
     "output_type": "stream",
     "text": [
      "100%|██████████| 500/500 [01:19<00:00,  6.32it/s]\n",
      " 13%|█▎        | 65/500 [00:10<01:02,  6.97it/s]"
     ]
    },
    {
     "name": "stdout",
     "output_type": "stream",
     "text": [
      "Warning: Audio file c:\\Users\\16148\\Desktop\\Projects\\bird_call_project\\Processed Recordings\\Setophaga_ruticilla_Magee_Marsh_-_boardwalk_Lucas_County_Ohio_825240_segment_91.wav is too short or silent. Skipping.\n"
     ]
    },
    {
     "name": "stderr",
     "output_type": "stream",
     "text": [
      " 14%|█▍        | 69/500 [00:10<01:00,  7.12it/s]"
     ]
    },
    {
     "name": "stdout",
     "output_type": "stream",
     "text": [
      "Warning: Audio file c:\\Users\\16148\\Desktop\\Projects\\bird_call_project\\Processed Recordings\\Setophaga_ruticilla_Magee_Marsh_Ohio_418300_segment_3.wav is too short or silent. Skipping.\n"
     ]
    },
    {
     "name": "stderr",
     "output_type": "stream",
     "text": [
      " 16%|█▌        | 81/500 [00:12<00:59,  7.07it/s]"
     ]
    },
    {
     "name": "stdout",
     "output_type": "stream",
     "text": [
      "Warning: Audio file c:\\Users\\16148\\Desktop\\Projects\\bird_call_project\\Processed Recordings\\Setophaga_ruticilla_Magee_Marsh_Ohio_418298_segment_11.wav is too short or silent. Skipping.\n"
     ]
    },
    {
     "name": "stderr",
     "output_type": "stream",
     "text": [
      " 20%|██        | 101/500 [00:15<00:56,  7.11it/s]"
     ]
    },
    {
     "name": "stdout",
     "output_type": "stream",
     "text": [
      "Warning: Audio file c:\\Users\\16148\\Desktop\\Projects\\bird_call_project\\Processed Recordings\\Setophaga_ruticilla_Shawnee_State_Forest_Scioto_County_Ohio_417456_segment_19.wav is too short or silent. Skipping.\n"
     ]
    },
    {
     "name": "stderr",
     "output_type": "stream",
     "text": [
      " 32%|███▏      | 162/500 [00:25<00:47,  7.06it/s]"
     ]
    },
    {
     "name": "stdout",
     "output_type": "stream",
     "text": [
      "Warning: Audio file c:\\Users\\16148\\Desktop\\Projects\\bird_call_project\\Processed Recordings\\Setophaga_kirtlandii_Kinnear_Rd_&_Hess_Blvd_Columbus_OH_103394_segment_60.wav is too short or silent. Skipping.\n"
     ]
    },
    {
     "name": "stderr",
     "output_type": "stream",
     "text": [
      " 35%|███▍      | 173/500 [00:26<00:47,  6.92it/s]"
     ]
    },
    {
     "name": "stdout",
     "output_type": "stream",
     "text": [
      "Warning: Audio file c:\\Users\\16148\\Desktop\\Projects\\bird_call_project\\Processed Recordings\\Setophaga_tigrina_Magee_Marsh_Ohio_418094_segment_10.wav is too short or silent. Skipping.\n"
     ]
    },
    {
     "name": "stderr",
     "output_type": "stream",
     "text": [
      " 36%|███▌      | 180/500 [00:27<00:46,  6.84it/s]"
     ]
    },
    {
     "name": "stdout",
     "output_type": "stream",
     "text": [
      "Warning: Audio file c:\\Users\\16148\\Desktop\\Projects\\bird_call_project\\Processed Recordings\\Setophaga_tigrina_Tanglewood_Lane_Cincinnati_Ohio_44424_segment_6.wav is too short or silent. Skipping.\n"
     ]
    },
    {
     "name": "stderr",
     "output_type": "stream",
     "text": [
      " 43%|████▎     | 214/500 [00:33<00:40,  7.02it/s]"
     ]
    },
    {
     "name": "stdout",
     "output_type": "stream",
     "text": [
      "Warning: Audio file c:\\Users\\16148\\Desktop\\Projects\\bird_call_project\\Processed Recordings\\Setophaga_cerulea_Shawnee_State_Forest_Scioto_County_Ohio_417448_segment_21.wav is too short or silent. Skipping.\n"
     ]
    },
    {
     "name": "stderr",
     "output_type": "stream",
     "text": [
      " 44%|████▍     | 222/500 [00:34<00:39,  7.07it/s]"
     ]
    },
    {
     "name": "stdout",
     "output_type": "stream",
     "text": [
      "Warning: Audio file c:\\Users\\16148\\Desktop\\Projects\\bird_call_project\\Processed Recordings\\Setophaga_cerulea_Miami_Township_near__North_Bend_Hamilton_County_Ohio_646112_segment_7.wav is too short or silent. Skipping.\n"
     ]
    },
    {
     "name": "stderr",
     "output_type": "stream",
     "text": [
      " 52%|█████▏    | 259/500 [00:40<00:34,  7.07it/s]"
     ]
    },
    {
     "name": "stdout",
     "output_type": "stream",
     "text": [
      "Warning: Audio file c:\\Users\\16148\\Desktop\\Projects\\bird_call_project\\Processed Recordings\\Setophaga_americana_Tanager_Meadow_Reservable_Shelter_near__Harrison_Hamilton_County_Ohio_807351_segment_20.wav is too short or silent. Skipping.\n"
     ]
    },
    {
     "name": "stderr",
     "output_type": "stream",
     "text": [
      " 56%|█████▌    | 279/500 [00:43<00:31,  7.08it/s]"
     ]
    },
    {
     "name": "stdout",
     "output_type": "stream",
     "text": [
      "Warning: Audio file c:\\Users\\16148\\Desktop\\Projects\\bird_call_project\\Processed Recordings\\Setophaga_americana_Pelee_near__Leamington_Essex_County_Ontario_476949_segment_3.wav is too short or silent. Skipping.\n"
     ]
    },
    {
     "name": "stderr",
     "output_type": "stream",
     "text": [
      " 60%|█████▉    | 299/500 [00:46<00:27,  7.28it/s]"
     ]
    },
    {
     "name": "stdout",
     "output_type": "stream",
     "text": [
      "Warning: Audio file c:\\Users\\16148\\Desktop\\Projects\\bird_call_project\\Processed Recordings\\Setophaga_americana_Miami_near__North_Bend_Hamilton_County_Ohio_545784_segment_19.wav is too short or silent. Skipping.\n"
     ]
    },
    {
     "name": "stderr",
     "output_type": "stream",
     "text": [
      " 61%|██████    | 304/500 [00:47<00:27,  7.22it/s]"
     ]
    },
    {
     "name": "stdout",
     "output_type": "stream",
     "text": [
      "Warning: Audio file c:\\Users\\16148\\Desktop\\Projects\\bird_call_project\\Processed Recordings\\Setophaga_americana_Ohio_near__Cleveland_Heights_Cuyahoga_County_Ohio_372023_segment_4.wav is too short or silent. Skipping.\n"
     ]
    },
    {
     "name": "stderr",
     "output_type": "stream",
     "text": [
      " 62%|██████▏   | 312/500 [00:48<00:26,  7.12it/s]"
     ]
    },
    {
     "name": "stdout",
     "output_type": "stream",
     "text": [
      "Warning: Audio file c:\\Users\\16148\\Desktop\\Projects\\bird_call_project\\Processed Recordings\\Setophaga_americana_Prairie_Oaks_Metro_Park--Sycamore_Plains_Area_182008_segment_7.wav is too short or silent. Skipping.\n"
     ]
    },
    {
     "name": "stderr",
     "output_type": "stream",
     "text": [
      " 70%|██████▉   | 348/500 [00:54<00:22,  6.81it/s]"
     ]
    },
    {
     "name": "stdout",
     "output_type": "stream",
     "text": [
      "Warning: Audio file c:\\Users\\16148\\Desktop\\Projects\\bird_call_project\\Processed Recordings\\Setophaga_magnolia_Magee_Marsh_-_boardwalk_Lucas_County_Ohio_828025_segment_36.wav is too short or silent. Skipping.\n"
     ]
    },
    {
     "name": "stderr",
     "output_type": "stream",
     "text": [
      " 77%|███████▋  | 383/500 [01:00<00:17,  6.84it/s]"
     ]
    },
    {
     "name": "stdout",
     "output_type": "stream",
     "text": [
      "Warning: Audio file c:\\Users\\16148\\Desktop\\Projects\\bird_call_project\\Processed Recordings\\Setophaga_magnolia_Magee_Marsh_-_boardwalk_Lucas_County_Ohio_828022_segment_33.wav is too short or silent. Skipping.\n"
     ]
    },
    {
     "name": "stderr",
     "output_type": "stream",
     "text": [
      " 87%|████████▋ | 434/500 [01:08<00:09,  7.00it/s]"
     ]
    },
    {
     "name": "stdout",
     "output_type": "stream",
     "text": [
      "Warning: Audio file c:\\Users\\16148\\Desktop\\Projects\\bird_call_project\\Processed Recordings\\Setophaga_magnolia_Ohio_near__Cleveland_Heights_Cuyahoga_County_Ohio_418323_segment_11.wav is too short or silent. Skipping.\n"
     ]
    },
    {
     "name": "stderr",
     "output_type": "stream",
     "text": [
      " 96%|█████████▌| 478/500 [01:15<00:03,  6.95it/s]"
     ]
    },
    {
     "name": "stdout",
     "output_type": "stream",
     "text": [
      "Warning: Audio file c:\\Users\\16148\\Desktop\\Projects\\bird_call_project\\Processed Recordings\\Setophaga_castanea_Park_End_Dr_Montgomery_County_Ohio_477392_segment_30.wav is too short or silent. Skipping.\n"
     ]
    },
    {
     "name": "stderr",
     "output_type": "stream",
     "text": [
      " 98%|█████████▊| 488/500 [01:17<00:01,  6.94it/s]"
     ]
    },
    {
     "name": "stdout",
     "output_type": "stream",
     "text": [
      "Warning: Audio file c:\\Users\\16148\\Desktop\\Projects\\bird_call_project\\Processed Recordings\\Setophaga_castanea_Pelee_near__Leamington_Essex_County_Ontario_476520_segment_9.wav is too short or silent. Skipping.\n"
     ]
    },
    {
     "name": "stderr",
     "output_type": "stream",
     "text": [
      "100%|██████████| 500/500 [01:19<00:00,  6.33it/s]\n",
      "  2%|▏         | 10/500 [00:01<01:10,  6.99it/s]"
     ]
    },
    {
     "name": "stdout",
     "output_type": "stream",
     "text": [
      "Warning: Audio file c:\\Users\\16148\\Desktop\\Projects\\bird_call_project\\Processed Recordings\\Setophaga_castanea_Park_End_Dr_Montgomery_County_Ohio_477393_segment_21.wav is too short or silent. Skipping.\n"
     ]
    },
    {
     "name": "stderr",
     "output_type": "stream",
     "text": [
      "  3%|▎         | 15/500 [00:02<01:10,  6.92it/s]"
     ]
    },
    {
     "name": "stdout",
     "output_type": "stream",
     "text": [
      "Warning: Audio file c:\\Users\\16148\\Desktop\\Projects\\bird_call_project\\Processed Recordings\\Setophaga_fusca_Shawnee_State_Forest_Scioto_County_Ohio_417442_segment_4.wav is too short or silent. Skipping.\n"
     ]
    },
    {
     "name": "stderr",
     "output_type": "stream",
     "text": [
      "  4%|▎         | 18/500 [00:02<01:09,  6.92it/s]"
     ]
    },
    {
     "name": "stdout",
     "output_type": "stream",
     "text": [
      "Warning: Audio file c:\\Users\\16148\\Desktop\\Projects\\bird_call_project\\Processed Recordings\\Setophaga_fusca_Pelee_near__Leamington_Essex_County_Ontario_476522_segment_2.wav is too short or silent. Skipping.\n"
     ]
    },
    {
     "name": "stderr",
     "output_type": "stream",
     "text": [
      "  5%|▌         | 26/500 [00:03<01:07,  7.02it/s]"
     ]
    },
    {
     "name": "stdout",
     "output_type": "stream",
     "text": [
      "Warning: Audio file c:\\Users\\16148\\Desktop\\Projects\\bird_call_project\\Processed Recordings\\Setophaga_aestiva_Magee_Marsh_-_boardwalk_Lucas_County_Ohio_939866_segment_7.wav is too short or silent. Skipping.\n"
     ]
    },
    {
     "name": "stderr",
     "output_type": "stream",
     "text": [
      " 13%|█▎        | 63/500 [00:09<01:04,  6.74it/s]"
     ]
    },
    {
     "name": "stdout",
     "output_type": "stream",
     "text": [
      "Warning: Audio file c:\\Users\\16148\\Desktop\\Projects\\bird_call_project\\Processed Recordings\\Setophaga_aestiva_Magee_Marsh_-_boardwalk_Lucas_County_Ohio_828200_segment_17.wav is too short or silent. Skipping.\n"
     ]
    },
    {
     "name": "stderr",
     "output_type": "stream",
     "text": [
      " 13%|█▎        | 67/500 [00:10<00:56,  7.73it/s]"
     ]
    },
    {
     "name": "stdout",
     "output_type": "stream",
     "text": [
      "Warning: Audio file c:\\Users\\16148\\Desktop\\Projects\\bird_call_project\\Processed Recordings\\Setophaga_aestiva_Magee_Marsh_-_boardwalk_Lucas_County_Ohio_828199_segment_3.wav is too short or silent. Skipping.\n",
      "Warning: Audio file c:\\Users\\16148\\Desktop\\Projects\\bird_call_project\\Processed Recordings\\Setophaga_aestiva_Magee_Marsh_-_boardwalk_Lucas_County_Ohio_828199_segment_4.wav is too short or silent. Skipping.\n"
     ]
    },
    {
     "name": "stderr",
     "output_type": "stream",
     "text": [
      " 18%|█▊        | 88/500 [00:13<00:52,  7.86it/s]"
     ]
    },
    {
     "name": "stdout",
     "output_type": "stream",
     "text": [
      "Warning: Audio file c:\\Users\\16148\\Desktop\\Projects\\bird_call_project\\Processed Recordings\\Setophaga_aestiva_Magee_Marsh_-_boardwalk_Lucas_County_Ohio_828198_segment_19.wav is too short or silent. Skipping.\n",
      "Warning: Audio file c:\\Users\\16148\\Desktop\\Projects\\bird_call_project\\Processed Recordings\\Setophaga_aestiva_Magee_Marsh_-_boardwalk_Lucas_County_Ohio_828198_segment_20.wav is too short or silent. Skipping.\n",
      "Warning: Audio file c:\\Users\\16148\\Desktop\\Projects\\bird_call_project\\Processed Recordings\\Setophaga_aestiva_Magee_Marsh_-_boardwalk_Lucas_County_Ohio_828198_segment_21.wav is too short or silent. Skipping.\n"
     ]
    },
    {
     "name": "stderr",
     "output_type": "stream",
     "text": [
      " 19%|█▉        | 96/500 [00:14<00:56,  7.09it/s]"
     ]
    },
    {
     "name": "stdout",
     "output_type": "stream",
     "text": [
      "Warning: Audio file c:\\Users\\16148\\Desktop\\Projects\\bird_call_project\\Processed Recordings\\Setophaga_aestiva_Magee_Marsh_-_boardwalk_Lucas_County_Ohio_828198_segment_27.wav is too short or silent. Skipping.\n"
     ]
    },
    {
     "name": "stderr",
     "output_type": "stream",
     "text": [
      " 26%|██▌       | 128/500 [00:19<01:06,  5.59it/s]"
     ]
    },
    {
     "name": "stdout",
     "output_type": "stream",
     "text": [
      "Warning: Audio file c:\\Users\\16148\\Desktop\\Projects\\bird_call_project\\Processed Recordings\\Setophaga_aestiva_Magee_Marsh_-_boardwalk_Lucas_County_Ohio_828197_segment_32.wav is too short or silent. Skipping.\n"
     ]
    },
    {
     "name": "stderr",
     "output_type": "stream",
     "text": [
      " 30%|██▉       | 149/500 [00:23<00:56,  6.26it/s]"
     ]
    },
    {
     "name": "stdout",
     "output_type": "stream",
     "text": [
      "Warning: Audio file c:\\Users\\16148\\Desktop\\Projects\\bird_call_project\\Processed Recordings\\Setophaga_aestiva_Whitewater_Township_near__Harrison_Hamilton_County_Ohio_726808_segment_4.wav is too short or silent. Skipping.\n"
     ]
    },
    {
     "name": "stderr",
     "output_type": "stream",
     "text": [
      " 39%|███▊      | 193/500 [00:30<00:43,  7.01it/s]"
     ]
    },
    {
     "name": "stdout",
     "output_type": "stream",
     "text": [
      "Warning: Audio file c:\\Users\\16148\\Desktop\\Projects\\bird_call_project\\Processed Recordings\\Setophaga_aestiva_Ohio_Crane_Creek_SP_17039_segment_8.wav is too short or silent. Skipping.\n"
     ]
    },
    {
     "name": "stderr",
     "output_type": "stream",
     "text": [
      " 43%|████▎     | 216/500 [00:34<00:40,  7.03it/s]"
     ]
    },
    {
     "name": "stdout",
     "output_type": "stream",
     "text": [
      "Warning: Audio file c:\\Users\\16148\\Desktop\\Projects\\bird_call_project\\Processed Recordings\\Setophaga_aestiva_Ohio_Crane_Creek_SP_17037_segment_11.wav is too short or silent. Skipping.\n"
     ]
    },
    {
     "name": "stderr",
     "output_type": "stream",
     "text": [
      " 45%|████▌     | 226/500 [00:35<00:39,  7.02it/s]"
     ]
    },
    {
     "name": "stdout",
     "output_type": "stream",
     "text": [
      "Warning: Audio file c:\\Users\\16148\\Desktop\\Projects\\bird_call_project\\Processed Recordings\\Setophaga_pensylvanica_Pelee_near__Leamington_Essex_County_Ontario_476559_segment_9.wav is too short or silent. Skipping.\n"
     ]
    },
    {
     "name": "stderr",
     "output_type": "stream",
     "text": [
      " 68%|██████▊   | 339/500 [00:53<00:23,  6.92it/s]"
     ]
    },
    {
     "name": "stdout",
     "output_type": "stream",
     "text": [
      "Warning: Audio file c:\\Users\\16148\\Desktop\\Projects\\bird_call_project\\Processed Recordings\\Setophaga_striata_Whitewater_Township_near__Harrison_Hamilton_County_Ohio_726810_segment_9.wav is too short or silent. Skipping.\n"
     ]
    },
    {
     "name": "stderr",
     "output_type": "stream",
     "text": [
      " 75%|███████▍  | 374/500 [00:59<00:18,  6.91it/s]"
     ]
    },
    {
     "name": "stdout",
     "output_type": "stream",
     "text": [
      "Warning: Audio file c:\\Users\\16148\\Desktop\\Projects\\bird_call_project\\Processed Recordings\\Setophaga_caerulescens_Magee_Marsh_-_boardwalk_Lucas_County_Ohio_827750_segment_23.wav is too short or silent. Skipping.\n"
     ]
    },
    {
     "name": "stderr",
     "output_type": "stream",
     "text": [
      " 81%|████████  | 406/500 [01:03<00:12,  7.69it/s]"
     ]
    },
    {
     "name": "stdout",
     "output_type": "stream",
     "text": [
      "Warning: Audio file c:\\Users\\16148\\Desktop\\Projects\\bird_call_project\\Processed Recordings\\Setophaga_palmarum_Ohio_Crane_Creek_SP_17029_segment_7.wav is too short or silent. Skipping.\n"
     ]
    },
    {
     "name": "stderr",
     "output_type": "stream",
     "text": [
      " 91%|█████████▏| 457/500 [01:11<00:05,  8.23it/s]"
     ]
    },
    {
     "name": "stdout",
     "output_type": "stream",
     "text": [
      "Warning: Audio file c:\\Users\\16148\\Desktop\\Projects\\bird_call_project\\Processed Recordings\\Setophaga_pinus_Miami_Township_near__Cleves_Hamilton_County_Ohio_548084_segment_25.wav is too short or silent. Skipping.\n"
     ]
    },
    {
     "name": "stderr",
     "output_type": "stream",
     "text": [
      " 95%|█████████▌| 476/500 [01:14<00:03,  7.14it/s]"
     ]
    },
    {
     "name": "stdout",
     "output_type": "stream",
     "text": [
      "Warning: Audio file c:\\Users\\16148\\Desktop\\Projects\\bird_call_project\\Processed Recordings\\Setophaga_coronata_Anderson_near__Cincinnati_Hamilton_County_Ohio_237811_segment_8.wav is too short or silent. Skipping.\n"
     ]
    },
    {
     "name": "stderr",
     "output_type": "stream",
     "text": [
      "100%|██████████| 500/500 [01:19<00:00,  6.33it/s]\n",
      "  2%|▏         | 11/500 [00:02<01:34,  5.17it/s]"
     ]
    },
    {
     "name": "stdout",
     "output_type": "stream",
     "text": [
      "Warning: Audio file c:\\Users\\16148\\Desktop\\Projects\\bird_call_project\\Processed Recordings\\Setophaga_discolor_Pelee_near__Leamington_Essex_County_Ontario_476995_segment_4.wav is too short or silent. Skipping.\n"
     ]
    },
    {
     "name": "stderr",
     "output_type": "stream",
     "text": [
      "  5%|▍         | 24/500 [00:04<00:59,  8.03it/s]"
     ]
    },
    {
     "name": "stdout",
     "output_type": "stream",
     "text": [
      "Warning: Audio file c:\\Users\\16148\\Desktop\\Projects\\bird_call_project\\Processed Recordings\\Setophaga_virens_Harrison_Township_near__Harrison_Hamilton_County_Ohio_719921_segment_12.wav is too short or silent. Skipping.\n"
     ]
    },
    {
     "name": "stderr",
     "output_type": "stream",
     "text": [
      "  9%|▉         | 46/500 [00:07<00:56,  8.10it/s]"
     ]
    },
    {
     "name": "stdout",
     "output_type": "stream",
     "text": [
      "Warning: Audio file c:\\Users\\16148\\Desktop\\Projects\\bird_call_project\\Processed Recordings\\Cardellina_canadensis_Magee_Marsh_-_boardwalk_Lucas_County_Ohio_827828_segment_21.wav is too short or silent. Skipping.\n"
     ]
    },
    {
     "name": "stderr",
     "output_type": "stream",
     "text": [
      " 13%|█▎        | 63/500 [00:09<01:02,  7.04it/s]"
     ]
    },
    {
     "name": "stdout",
     "output_type": "stream",
     "text": [
      "Warning: Audio file c:\\Users\\16148\\Desktop\\Projects\\bird_call_project\\Processed Recordings\\Cardellina_canadensis_OSU's_Waterman_Farm_wood_lot_Columbus_Franklin_County_Ohio_179691_segment_16.wav is too short or silent. Skipping.\n"
     ]
    },
    {
     "name": "stderr",
     "output_type": "stream",
     "text": [
      " 31%|███       | 153/500 [00:21<00:41,  8.30it/s]"
     ]
    },
    {
     "name": "stdout",
     "output_type": "stream",
     "text": [
      "Warning: Audio file c:\\Users\\16148\\Desktop\\Projects\\bird_call_project\\Processed Recordings\\Cardellina_canadensis_OSU's_Waterman_Farm_wood_lot_Columbus_Franklin_County_Ohio_179679_segment_89.wav is too short or silent. Skipping.\n"
     ]
    },
    {
     "name": "stderr",
     "output_type": "stream",
     "text": [
      " 51%|█████     | 256/500 [00:36<00:34,  7.13it/s]"
     ]
    },
    {
     "name": "stdout",
     "output_type": "stream",
     "text": [
      "Warning: Audio file c:\\Users\\16148\\Desktop\\Projects\\bird_call_project\\Processed Recordings\\Cardellina_canadensis_Michigan_Petersburg_SGA__31133_segment_5.wav is too short or silent. Skipping.\n"
     ]
    },
    {
     "name": "stderr",
     "output_type": "stream",
     "text": [
      " 70%|███████   | 351/500 [01:02<00:36,  4.09it/s]"
     ]
    },
    {
     "name": "stdout",
     "output_type": "stream",
     "text": [
      "Warning: Audio file c:\\Users\\16148\\Desktop\\Projects\\bird_call_project\\Processed Recordings\\Piranga_olivacea_Whitewater_Township_near__Cleves_Hamilton_County_Ohio_896571_segment_11.wav is too short or silent. Skipping.\n"
     ]
    },
    {
     "name": "stderr",
     "output_type": "stream",
     "text": [
      " 71%|███████▏  | 357/500 [01:04<00:33,  4.22it/s]"
     ]
    },
    {
     "name": "stdout",
     "output_type": "stream",
     "text": [
      "Warning: Audio file c:\\Users\\16148\\Desktop\\Projects\\bird_call_project\\Processed Recordings\\Piranga_olivacea_Shawnee_State_Forest_Scioto_County_Ohio_417444_segment_2.wav is too short or silent. Skipping.\n"
     ]
    },
    {
     "name": "stderr",
     "output_type": "stream",
     "text": [
      " 74%|███████▍  | 371/500 [01:08<00:32,  3.97it/s]"
     ]
    },
    {
     "name": "stdout",
     "output_type": "stream",
     "text": [
      "Warning: Audio file c:\\Users\\16148\\Desktop\\Projects\\bird_call_project\\Processed Recordings\\Piranga_olivacea_East_Fork_Lake_SP_Clermont_County_Ohio_416550_segment_13.wav is too short or silent. Skipping.\n"
     ]
    },
    {
     "name": "stderr",
     "output_type": "stream",
     "text": [
      " 79%|███████▉  | 397/500 [01:15<00:25,  4.06it/s]"
     ]
    },
    {
     "name": "stdout",
     "output_type": "stream",
     "text": [
      "Warning: Audio file c:\\Users\\16148\\Desktop\\Projects\\bird_call_project\\Processed Recordings\\Pheucticus_ludovicianus_Harrison_Township_near__Harrison_Hamilton_County_Ohio_726850_segment_25.wav is too short or silent. Skipping.\n"
     ]
    },
    {
     "name": "stderr",
     "output_type": "stream",
     "text": [
      " 81%|████████  | 404/500 [01:16<00:21,  4.38it/s]"
     ]
    },
    {
     "name": "stdout",
     "output_type": "stream",
     "text": [
      "Warning: Audio file c:\\Users\\16148\\Desktop\\Projects\\bird_call_project\\Processed Recordings\\Pheucticus_ludovicianus_Pelee_near__Leamington_Essex_County_Ontario_495791_segment_6.wav is too short or silent. Skipping.\n"
     ]
    },
    {
     "name": "stderr",
     "output_type": "stream",
     "text": [
      " 88%|████████▊ | 438/500 [01:26<00:14,  4.22it/s]"
     ]
    },
    {
     "name": "stdout",
     "output_type": "stream",
     "text": [
      "Warning: Audio file c:\\Users\\16148\\Desktop\\Projects\\bird_call_project\\Processed Recordings\\Pheucticus_ludovicianus_Oak_Openings_Metropark_Ohio_418070_segment_26.wav is too short or silent. Skipping.\n"
     ]
    },
    {
     "name": "stderr",
     "output_type": "stream",
     "text": [
      " 88%|████████▊ | 442/500 [01:27<00:13,  4.27it/s]"
     ]
    },
    {
     "name": "stdout",
     "output_type": "stream",
     "text": [
      "Warning: Audio file c:\\Users\\16148\\Desktop\\Projects\\bird_call_project\\Processed Recordings\\Pheucticus_ludovicianus_Shawnee_State_Forest_Scioto_County_Ohio_417454_segment_3.wav is too short or silent. Skipping.\n"
     ]
    },
    {
     "name": "stderr",
     "output_type": "stream",
     "text": [
      " 89%|████████▉ | 445/500 [01:27<00:11,  4.66it/s]"
     ]
    },
    {
     "name": "stdout",
     "output_type": "stream",
     "text": [
      "Warning: Audio file c:\\Users\\16148\\Desktop\\Projects\\bird_call_project\\Processed Recordings\\Pheucticus_ludovicianus_Point_Pelee_National_Park_Essex_County_Ontario_910738_segment_2.wav is too short or silent. Skipping.\n",
      "Warning: Audio file c:\\Users\\16148\\Desktop\\Projects\\bird_call_project\\Processed Recordings\\Pheucticus_ludovicianus_Point_Pelee_National_Park_Essex_County_Ontario_910738_segment_3.wav is too short or silent. Skipping.\n"
     ]
    },
    {
     "name": "stderr",
     "output_type": "stream",
     "text": [
      " 95%|█████████▍| 474/500 [01:35<00:06,  3.81it/s]"
     ]
    },
    {
     "name": "stdout",
     "output_type": "stream",
     "text": [
      "Warning: Audio file c:\\Users\\16148\\Desktop\\Projects\\bird_call_project\\Processed Recordings\\Pheucticus_ludovicianus_Ohio_Crane_Creek_SP_17044_segment_11.wav is too short or silent. Skipping.\n"
     ]
    },
    {
     "name": "stderr",
     "output_type": "stream",
     "text": [
      "100%|██████████| 500/500 [01:43<00:00,  4.84it/s]\n",
      "  7%|▋         | 33/500 [00:09<02:03,  3.80it/s]"
     ]
    },
    {
     "name": "stdout",
     "output_type": "stream",
     "text": [
      "Warning: Audio file c:\\Users\\16148\\Desktop\\Projects\\bird_call_project\\Processed Recordings\\Cardinalis_cardinalis_Green_Township_near__Cincinnati_Hamilton_County_Ohio_716618_segment_55.wav is too short or silent. Skipping.\n"
     ]
    },
    {
     "name": "stderr",
     "output_type": "stream",
     "text": [
      " 17%|█▋        | 85/500 [00:25<01:43,  4.00it/s]"
     ]
    },
    {
     "name": "stdout",
     "output_type": "stream",
     "text": [
      "Warning: Audio file c:\\Users\\16148\\Desktop\\Projects\\bird_call_project\\Processed Recordings\\Cardinalis_cardinalis_Cincinnati_Hamilton_County_Ohio_677300_segment_26.wav is too short or silent. Skipping.\n"
     ]
    },
    {
     "name": "stderr",
     "output_type": "stream",
     "text": [
      " 65%|██████▍   | 323/500 [01:35<00:43,  4.04it/s]"
     ]
    },
    {
     "name": "stdout",
     "output_type": "stream",
     "text": [
      "Warning: Audio file c:\\Users\\16148\\Desktop\\Projects\\bird_call_project\\Processed Recordings\\Cardinalis_cardinalis_Green_Township_near__Cincinnati_Hamilton_County_Ohio_817703_segment_6.wav is too short or silent. Skipping.\n"
     ]
    },
    {
     "name": "stderr",
     "output_type": "stream",
     "text": [
      " 70%|██████▉   | 348/500 [01:42<00:37,  4.10it/s]"
     ]
    },
    {
     "name": "stdout",
     "output_type": "stream",
     "text": [
      "Warning: Audio file c:\\Users\\16148\\Desktop\\Projects\\bird_call_project\\Processed Recordings\\Cardinalis_cardinalis_Magee_Marsh_-_boardwalk_Lucas_County_Ohio_814887_segment_24.wav is too short or silent. Skipping.\n"
     ]
    },
    {
     "name": "stderr",
     "output_type": "stream",
     "text": [
      " 73%|███████▎  | 366/500 [01:47<00:33,  3.95it/s]"
     ]
    },
    {
     "name": "stdout",
     "output_type": "stream",
     "text": [
      "Warning: Audio file c:\\Users\\16148\\Desktop\\Projects\\bird_call_project\\Processed Recordings\\Cardinalis_cardinalis_Green_Township_near__Cincinnati_Hamilton_County_Ohio_676765_segment_17.wav is too short or silent. Skipping.\n"
     ]
    },
    {
     "name": "stderr",
     "output_type": "stream",
     "text": [
      " 74%|███████▍  | 370/500 [01:48<00:35,  3.69it/s]"
     ]
    },
    {
     "name": "stdout",
     "output_type": "stream",
     "text": [
      "Warning: Audio file c:\\Users\\16148\\Desktop\\Projects\\bird_call_project\\Processed Recordings\\Cardinalis_cardinalis_Green_Township_near__Cincinnati_Hamilton_County_Ohio_673006_segment_3.wav is too short or silent. Skipping.\n"
     ]
    },
    {
     "name": "stderr",
     "output_type": "stream",
     "text": [
      " 75%|███████▍  | 373/500 [01:49<00:30,  4.12it/s]"
     ]
    },
    {
     "name": "stdout",
     "output_type": "stream",
     "text": [
      "Warning: Audio file c:\\Users\\16148\\Desktop\\Projects\\bird_call_project\\Processed Recordings\\Cardinalis_cardinalis_Spring_Valley_near__Waynesville_Greene_Cty_Ohio_477596_segment_2.wav is too short or silent. Skipping.\n"
     ]
    },
    {
     "name": "stderr",
     "output_type": "stream",
     "text": [
      " 76%|███████▌  | 380/500 [01:51<00:29,  4.03it/s]"
     ]
    },
    {
     "name": "stdout",
     "output_type": "stream",
     "text": [
      "Warning: Audio file c:\\Users\\16148\\Desktop\\Projects\\bird_call_project\\Processed Recordings\\Cardinalis_cardinalis_East_Fork_Lake_SP_Clermont_County_Ohio_416549_segment_6.wav is too short or silent. Skipping.\n"
     ]
    },
    {
     "name": "stderr",
     "output_type": "stream",
     "text": [
      " 77%|███████▋  | 387/500 [01:53<00:28,  3.92it/s]"
     ]
    },
    {
     "name": "stdout",
     "output_type": "stream",
     "text": [
      "Warning: Audio file c:\\Users\\16148\\Desktop\\Projects\\bird_call_project\\Processed Recordings\\Spiza_americana_Ohio_near__New_Franklin_Summit_County_Ohio_378358_segment_6.wav is too short or silent. Skipping.\n"
     ]
    },
    {
     "name": "stderr",
     "output_type": "stream",
     "text": [
      " 84%|████████▍ | 420/500 [02:02<00:18,  4.26it/s]"
     ]
    },
    {
     "name": "stdout",
     "output_type": "stream",
     "text": [
      "Warning: Audio file c:\\Users\\16148\\Desktop\\Projects\\bird_call_project\\Processed Recordings\\Spiza_americana_Battelle_Darby_Metro_Park--Grain_Elevator_Wetlands_near_parking_area_105816_segment_32.wav is too short or silent. Skipping.\n"
     ]
    },
    {
     "name": "stderr",
     "output_type": "stream",
     "text": [
      " 88%|████████▊ | 439/500 [02:08<00:16,  3.68it/s]"
     ]
    },
    {
     "name": "stdout",
     "output_type": "stream",
     "text": [
      "Warning: Audio file c:\\Users\\16148\\Desktop\\Projects\\bird_call_project\\Processed Recordings\\Spiza_americana_Michigan_Whiteford_Township_17103_segment_18.wav is too short or silent. Skipping.\n"
     ]
    },
    {
     "name": "stderr",
     "output_type": "stream",
     "text": [
      " 91%|█████████ | 456/500 [02:12<00:10,  4.36it/s]"
     ]
    },
    {
     "name": "stdout",
     "output_type": "stream",
     "text": [
      "Warning: Audio file c:\\Users\\16148\\Desktop\\Projects\\bird_call_project\\Processed Recordings\\Passerina_cyanea_Miami_Township_near__North_Bend_Hamilton_County_Ohio_817717_segment_16.wav is too short or silent. Skipping.\n"
     ]
    },
    {
     "name": "stderr",
     "output_type": "stream",
     "text": [
      " 98%|█████████▊| 491/500 [02:23<00:02,  3.70it/s]"
     ]
    },
    {
     "name": "stdout",
     "output_type": "stream",
     "text": [
      "Warning: Audio file c:\\Users\\16148\\Desktop\\Projects\\bird_call_project\\Processed Recordings\\Passerina_cyanea_Michigan_Monroe_County_17148_segment_6.wav is too short or silent. Skipping.\n"
     ]
    },
    {
     "name": "stderr",
     "output_type": "stream",
     "text": [
      "100%|██████████| 500/500 [02:26<00:00,  3.42it/s]\n",
      "  1%|          | 3/500 [00:01<02:54,  2.85it/s]"
     ]
    },
    {
     "name": "stdout",
     "output_type": "stream",
     "text": [
      "Warning: Audio file c:\\Users\\16148\\Desktop\\Projects\\bird_call_project\\Processed Recordings\\Sonus_naturalis_Chagrin_Falls_Township_near__Moreland_Hills_Cuyahoga_County_Ohio_560021_segment_11.wav is too short or silent. Skipping.\n"
     ]
    },
    {
     "name": "stderr",
     "output_type": "stream",
     "text": [
      "  7%|▋         | 34/500 [00:10<01:56,  3.99it/s]"
     ]
    },
    {
     "name": "stdout",
     "output_type": "stream",
     "text": [
      "Warning: Audio file c:\\Users\\16148\\Desktop\\Projects\\bird_call_project\\Processed Recordings\\Sonus_naturalis_Jerusalem_Township_near__Bono_Lucas_County_Ohio_784063_segment_30.wav is too short or silent. Skipping.\n"
     ]
    },
    {
     "name": "stderr",
     "output_type": "stream",
     "text": [
      " 13%|█▎        | 65/500 [00:20<01:56,  3.75it/s]"
     ]
    },
    {
     "name": "stdout",
     "output_type": "stream",
     "text": [
      "Warning: Audio file c:\\Users\\16148\\Desktop\\Projects\\bird_call_project\\Processed Recordings\\Sonus_naturalis_Lawrence_Woods_SNP_417979_segment_30.wav is too short or silent. Skipping.\n"
     ]
    },
    {
     "name": "stderr",
     "output_type": "stream",
     "text": [
      " 26%|██▌       | 131/500 [00:42<01:40,  3.69it/s]"
     ]
    },
    {
     "name": "stdout",
     "output_type": "stream",
     "text": [
      "Warning: Audio file c:\\Users\\16148\\Desktop\\Projects\\bird_call_project\\Augmented Recordings\\Branta_canadensis_Whitewater_Township_near__Harrison_Hamilton_County_Ohio_726750_segment_3_aug_2.wav is too short or silent. Skipping.\n"
     ]
    },
    {
     "name": "stderr",
     "output_type": "stream",
     "text": [
      " 28%|██▊       | 140/500 [00:44<01:24,  4.28it/s]"
     ]
    },
    {
     "name": "stdout",
     "output_type": "stream",
     "text": [
      "Warning: Audio file c:\\Users\\16148\\Desktop\\Projects\\bird_call_project\\Augmented Recordings\\Branta_canadensis_Lawrence_Woods_SNP_418000_segment_0_aug_2.wav is too short or silent. Skipping.\n"
     ]
    },
    {
     "name": "stderr",
     "output_type": "stream",
     "text": [
      " 40%|████      | 202/500 [01:00<00:38,  7.74it/s]"
     ]
    },
    {
     "name": "stdout",
     "output_type": "stream",
     "text": [
      "Warning: Audio file c:\\Users\\16148\\Desktop\\Projects\\bird_call_project\\Augmented Recordings\\Branta_canadensis_Miami_Whitewater_Forest_Park_wetlands_Crosby_Township_near__Harrison_Hamilton_County_Ohio_691528_segment_7_aug_3.wav is too short or silent. Skipping.\n"
     ]
    },
    {
     "name": "stderr",
     "output_type": "stream",
     "text": [
      " 44%|████▍     | 220/500 [01:03<00:32,  8.50it/s]"
     ]
    },
    {
     "name": "stdout",
     "output_type": "stream",
     "text": [
      "Warning: Audio file c:\\Users\\16148\\Desktop\\Projects\\bird_call_project\\Augmented Recordings\\Cygnus_buccinator_Killdeer_Plains_Wildlife_Management_Area_Wyandot_County_Ohio_713788_segment_5_aug_3.wav is too short or silent. Skipping.\n"
     ]
    },
    {
     "name": "stderr",
     "output_type": "stream",
     "text": [
      " 52%|█████▏    | 259/500 [01:08<00:30,  7.94it/s]"
     ]
    },
    {
     "name": "stdout",
     "output_type": "stream",
     "text": [
      "Warning: Audio file c:\\Users\\16148\\Desktop\\Projects\\bird_call_project\\Augmented Recordings\\Cygnus_buccinator_Killdeer_Plains_Wildlife_Management_Area_Wyandot_County_Ohio_713788_segment_18_aug_3.wav is too short or silent. Skipping.\n"
     ]
    },
    {
     "name": "stderr",
     "output_type": "stream",
     "text": [
      " 53%|█████▎    | 264/500 [01:09<00:33,  7.01it/s]"
     ]
    },
    {
     "name": "stdout",
     "output_type": "stream",
     "text": [
      "Warning: Audio file c:\\Users\\16148\\Desktop\\Projects\\bird_call_project\\Augmented Recordings\\Cygnus_buccinator_Killdeer_Plains_Wildlife_Management_Area_Wyandot_County_Ohio_713788_segment_20_aug_2.wav is too short or silent. Skipping.\n"
     ]
    },
    {
     "name": "stderr",
     "output_type": "stream",
     "text": [
      " 61%|██████    | 306/500 [01:14<00:24,  7.85it/s]"
     ]
    },
    {
     "name": "stdout",
     "output_type": "stream",
     "text": [
      "Warning: Audio file c:\\Users\\16148\\Desktop\\Projects\\bird_call_project\\Augmented Recordings\\Cygnus_buccinator_Killdeer_Plains_Wildlife_Management_Area_Wyandot_County_Ohio_713788_segment_35_aug_2.wav is too short or silent. Skipping.\n"
     ]
    },
    {
     "name": "stderr",
     "output_type": "stream",
     "text": [
      " 70%|██████▉   | 348/500 [01:20<00:21,  6.93it/s]"
     ]
    },
    {
     "name": "stdout",
     "output_type": "stream",
     "text": [
      "Warning: Audio file c:\\Users\\16148\\Desktop\\Projects\\bird_call_project\\Augmented Recordings\\Cygnus_buccinator_Killdeer_Plains_Wildlife_Management_Area_Wyandot_County_Ohio_713788_segment_49_aug_2.wav is too short or silent. Skipping.\n"
     ]
    },
    {
     "name": "stderr",
     "output_type": "stream",
     "text": [
      " 83%|████████▎ | 414/500 [01:31<00:10,  7.87it/s]"
     ]
    },
    {
     "name": "stdout",
     "output_type": "stream",
     "text": [
      "Warning: Audio file c:\\Users\\16148\\Desktop\\Projects\\bird_call_project\\Augmented Recordings\\Colinus_virginianus_New_Market_Township_near__Hoagland_Highland_County_Ohio_805814_segment_10_aug_2.wav is too short or silent. Skipping.\n"
     ]
    },
    {
     "name": "stderr",
     "output_type": "stream",
     "text": [
      " 90%|█████████ | 451/500 [01:36<00:07,  6.25it/s]"
     ]
    },
    {
     "name": "stdout",
     "output_type": "stream",
     "text": [
      "Warning: Audio file c:\\Users\\16148\\Desktop\\Projects\\bird_call_project\\Augmented Recordings\\Colinus_virginianus_New_Market_Township_near__Hoagland_Highland_County_Ohio_805814_segment_22_aug_3.wav is too short or silent. Skipping.\n"
     ]
    },
    {
     "name": "stderr",
     "output_type": "stream",
     "text": [
      " 95%|█████████▌| 476/500 [01:40<00:03,  7.98it/s]"
     ]
    },
    {
     "name": "stdout",
     "output_type": "stream",
     "text": [
      "Warning: Audio file c:\\Users\\16148\\Desktop\\Projects\\bird_call_project\\Augmented Recordings\\Colinus_virginianus_Michigan_Monroe_County_17130_segment_8_aug_1.wav is too short or silent. Skipping.\n"
     ]
    },
    {
     "name": "stderr",
     "output_type": "stream",
     "text": [
      " 97%|█████████▋| 486/500 [01:41<00:01,  8.65it/s]"
     ]
    },
    {
     "name": "stdout",
     "output_type": "stream",
     "text": [
      "Warning: Audio file c:\\Users\\16148\\Desktop\\Projects\\bird_call_project\\Augmented Recordings\\Chordeiles_minor_Green_Township_near__Cincinnati_Hamilton_County_Ohio_647199_segment_2_aug_2.wav is too short or silent. Skipping.\n"
     ]
    },
    {
     "name": "stderr",
     "output_type": "stream",
     "text": [
      "100%|██████████| 500/500 [01:43<00:00,  4.84it/s]\n",
      "  3%|▎         | 16/500 [00:02<01:08,  7.11it/s]"
     ]
    },
    {
     "name": "stdout",
     "output_type": "stream",
     "text": [
      "Warning: Audio file c:\\Users\\16148\\Desktop\\Projects\\bird_call_project\\Augmented Recordings\\Chordeiles_minor_Green_Township_near__Cincinnati_Hamilton_County_Ohio_647199_segment_12_aug_2.wav is too short or silent. Skipping.\n"
     ]
    },
    {
     "name": "stderr",
     "output_type": "stream",
     "text": [
      "  6%|▌         | 30/500 [00:04<01:00,  7.74it/s]"
     ]
    },
    {
     "name": "stdout",
     "output_type": "stream",
     "text": [
      "Warning: Audio file c:\\Users\\16148\\Desktop\\Projects\\bird_call_project\\Augmented Recordings\\Chordeiles_minor_Green_Township_near__Cincinnati_Hamilton_County_Ohio_647199_segment_17_aug_1.wav is too short or silent. Skipping.\n"
     ]
    },
    {
     "name": "stderr",
     "output_type": "stream",
     "text": [
      "  7%|▋         | 36/500 [00:05<00:59,  7.75it/s]"
     ]
    },
    {
     "name": "stdout",
     "output_type": "stream",
     "text": [
      "Warning: Audio file c:\\Users\\16148\\Desktop\\Projects\\bird_call_project\\Augmented Recordings\\Chordeiles_minor_Green_Township_near__Cincinnati_Hamilton_County_Ohio_647199_segment_19_aug_1.wav is too short or silent. Skipping.\n"
     ]
    },
    {
     "name": "stderr",
     "output_type": "stream",
     "text": [
      " 10%|▉         | 48/500 [00:06<00:53,  8.38it/s]"
     ]
    },
    {
     "name": "stdout",
     "output_type": "stream",
     "text": [
      "Warning: Audio file c:\\Users\\16148\\Desktop\\Projects\\bird_call_project\\Augmented Recordings\\Chordeiles_minor_Green_Township_near__Cincinnati_Hamilton_County_Ohio_647199_segment_23_aug_1.wav is too short or silent. Skipping.\n"
     ]
    },
    {
     "name": "stderr",
     "output_type": "stream",
     "text": [
      " 23%|██▎       | 116/500 [00:15<00:41,  9.21it/s]"
     ]
    },
    {
     "name": "stdout",
     "output_type": "stream",
     "text": [
      "Warning: Audio file c:\\Users\\16148\\Desktop\\Projects\\bird_call_project\\Augmented Recordings\\Antrostomus_carolinensis_Brush_Creek_Township_near__West_Union_Adams_County_Ohio_939173_segment_18_aug_3.wav is too short or silent. Skipping.\n",
      "Warning: Audio file c:\\Users\\16148\\Desktop\\Projects\\bird_call_project\\Augmented Recordings\\Antrostomus_carolinensis_Brush_Creek_Township_near__West_Union_Adams_County_Ohio_939173_segment_19_aug_1.wav is too short or silent. Skipping.\n"
     ]
    },
    {
     "name": "stderr",
     "output_type": "stream",
     "text": [
      " 24%|██▍       | 119/500 [00:16<00:45,  8.43it/s]"
     ]
    },
    {
     "name": "stdout",
     "output_type": "stream",
     "text": [
      "Warning: Audio file c:\\Users\\16148\\Desktop\\Projects\\bird_call_project\\Augmented Recordings\\Antrostomus_carolinensis_Brush_Creek_Township_near__West_Union_Adams_County_Ohio_939173_segment_19_aug_3.wav is too short or silent. Skipping.\n"
     ]
    },
    {
     "name": "stderr",
     "output_type": "stream",
     "text": [
      " 30%|██▉       | 148/500 [00:20<00:46,  7.64it/s]"
     ]
    },
    {
     "name": "stdout",
     "output_type": "stream",
     "text": [
      "Warning: Audio file c:\\Users\\16148\\Desktop\\Projects\\bird_call_project\\Augmented Recordings\\Antrostomus_carolinensis_Hamilton_Rd_Adams_Cty_Ohio_939171_segment_9_aug_2.wav is too short or silent. Skipping.\n"
     ]
    },
    {
     "name": "stderr",
     "output_type": "stream",
     "text": [
      " 32%|███▏      | 159/500 [00:21<00:45,  7.49it/s]"
     ]
    },
    {
     "name": "stdout",
     "output_type": "stream",
     "text": [
      "Warning: Audio file c:\\Users\\16148\\Desktop\\Projects\\bird_call_project\\Augmented Recordings\\Antrostomus_carolinensis_Hamilton_Rd_Adams_Cty_Ohio_939171_segment_13_aug_1.wav is too short or silent. Skipping.\n"
     ]
    },
    {
     "name": "stderr",
     "output_type": "stream",
     "text": [
      " 36%|███▋      | 182/500 [00:24<00:36,  8.65it/s]"
     ]
    },
    {
     "name": "stdout",
     "output_type": "stream",
     "text": [
      "Warning: Audio file c:\\Users\\16148\\Desktop\\Projects\\bird_call_project\\Augmented Recordings\\Antrostomus_carolinensis_Hamilton_Rd_Adams_Cty_Ohio_939171_segment_20_aug_3.wav is too short or silent. Skipping.\n"
     ]
    },
    {
     "name": "stderr",
     "output_type": "stream",
     "text": [
      " 43%|████▎     | 213/500 [00:28<00:37,  7.56it/s]"
     ]
    },
    {
     "name": "stdout",
     "output_type": "stream",
     "text": [
      "Warning: Audio file c:\\Users\\16148\\Desktop\\Projects\\bird_call_project\\Augmented Recordings\\Antrostomus_carolinensis_Brush_Creek_Township_near__West_Union_Adams_County_Ohio_804643_segment_10_aug_1.wav is too short or silent. Skipping.\n"
     ]
    },
    {
     "name": "stderr",
     "output_type": "stream",
     "text": [
      " 67%|██████▋   | 337/500 [00:47<00:18,  8.67it/s]"
     ]
    },
    {
     "name": "stdout",
     "output_type": "stream",
     "text": [
      "Warning: Audio file c:\\Users\\16148\\Desktop\\Projects\\bird_call_project\\Augmented Recordings\\Antrostomus_vociferus_Sutton_Braxton_County_West_Virginia_929758_segment_23_aug_2.wav is too short or silent. Skipping.\n"
     ]
    },
    {
     "name": "stderr",
     "output_type": "stream",
     "text": [
      " 71%|███████   | 356/500 [00:50<00:22,  6.26it/s]"
     ]
    },
    {
     "name": "stdout",
     "output_type": "stream",
     "text": [
      "Warning: Audio file c:\\Users\\16148\\Desktop\\Projects\\bird_call_project\\Augmented Recordings\\Antrostomus_vociferus_Sutton_Braxton_County_West_Virginia_929758_segment_29_aug_3.wav is too short or silent. Skipping.\n"
     ]
    },
    {
     "name": "stderr",
     "output_type": "stream",
     "text": [
      " 77%|███████▋  | 384/500 [00:53<00:12,  9.31it/s]"
     ]
    },
    {
     "name": "stdout",
     "output_type": "stream",
     "text": [
      "Warning: Audio file c:\\Users\\16148\\Desktop\\Projects\\bird_call_project\\Augmented Recordings\\Coccyzus_americanus_Magee_Marsh_boardwalk_west_end_262809_segment_3_aug_1.wav is too short or silent. Skipping.\n"
     ]
    },
    {
     "name": "stderr",
     "output_type": "stream",
     "text": [
      " 91%|█████████ | 453/500 [01:03<00:05,  7.94it/s]"
     ]
    },
    {
     "name": "stdout",
     "output_type": "stream",
     "text": [
      "Warning: Audio file c:\\Users\\16148\\Desktop\\Projects\\bird_call_project\\Augmented Recordings\\Coccyzus_americanus_Magee_Marsh_boardwalk_west_end_262809_segment_26_aug_1.wav is too short or silent. Skipping.\n"
     ]
    },
    {
     "name": "stderr",
     "output_type": "stream",
     "text": [
      "100%|██████████| 500/500 [01:09<00:00,  7.22it/s]\n",
      "  0%|          | 2/500 [00:00<00:40, 12.31it/s]"
     ]
    },
    {
     "name": "stdout",
     "output_type": "stream",
     "text": [
      "Warning: Audio file c:\\Users\\16148\\Desktop\\Projects\\bird_call_project\\Augmented Recordings\\Rallus_elegans_Glacier_Ridge_Metro_Park--Honda_Wetlands_103499_segment_4_aug_2.wav is too short or silent. Skipping.\n"
     ]
    },
    {
     "name": "stderr",
     "output_type": "stream",
     "text": [
      " 11%|█         | 54/500 [00:07<00:55,  8.10it/s]"
     ]
    },
    {
     "name": "stdout",
     "output_type": "stream",
     "text": [
      "Warning: Audio file c:\\Users\\16148\\Desktop\\Projects\\bird_call_project\\Augmented Recordings\\Antigone_canadensis_Troy_Township_near__Delaware_Delaware_County_Ohio_625913_segment_7_aug_3.wav is too short or silent. Skipping.\n"
     ]
    },
    {
     "name": "stderr",
     "output_type": "stream",
     "text": [
      " 21%|██▏       | 107/500 [00:14<00:49,  7.99it/s]"
     ]
    },
    {
     "name": "stdout",
     "output_type": "stream",
     "text": [
      "Warning: Audio file c:\\Users\\16148\\Desktop\\Projects\\bird_call_project\\Augmented Recordings\\Charadrius_vociferus_Magee_Marsh_-_boardwalk_Lucas_County_Ohio_817568_segment_12_aug_2.wav is too short or silent. Skipping.\n"
     ]
    },
    {
     "name": "stderr",
     "output_type": "stream",
     "text": [
      " 28%|██▊       | 142/500 [00:19<00:51,  6.95it/s]"
     ]
    },
    {
     "name": "stdout",
     "output_type": "stream",
     "text": [
      "Warning: Audio file c:\\Users\\16148\\Desktop\\Projects\\bird_call_project\\Augmented Recordings\\Charadrius_vociferus_Ross_Township_near__Hamilton_Butler_County_Ohio_533371_segment_6_aug_1.wav is too short or silent. Skipping.\n"
     ]
    },
    {
     "name": "stderr",
     "output_type": "stream",
     "text": [
      " 31%|███       | 155/500 [00:21<00:51,  6.68it/s]"
     ]
    },
    {
     "name": "stdout",
     "output_type": "stream",
     "text": [
      "Warning: Audio file c:\\Users\\16148\\Desktop\\Projects\\bird_call_project\\Augmented Recordings\\Calidris_alpina_Ohio_Magee_Marsh_17027_segment_3_aug_2.wav is too short or silent. Skipping.\n"
     ]
    },
    {
     "name": "stderr",
     "output_type": "stream",
     "text": [
      " 33%|███▎      | 166/500 [00:23<00:46,  7.19it/s]"
     ]
    },
    {
     "name": "stdout",
     "output_type": "stream",
     "text": [
      "Warning: Audio file c:\\Users\\16148\\Desktop\\Projects\\bird_call_project\\Augmented Recordings\\Scolopax_minor_Brush_Creek_Township_near__West_Union_Adams_County_Ohio_939172_segment_3_aug_1.wav is too short or silent. Skipping.\n"
     ]
    },
    {
     "name": "stderr",
     "output_type": "stream",
     "text": [
      " 51%|█████     | 255/500 [00:36<00:32,  7.45it/s]"
     ]
    },
    {
     "name": "stdout",
     "output_type": "stream",
     "text": [
      "Warning: Audio file c:\\Users\\16148\\Desktop\\Projects\\bird_call_project\\Augmented Recordings\\Scolopax_minor_Point_Pelee_National_Park_near__Wheatley_Essex_County_Ontario_837811_segment_29_aug_3.wav is too short or silent. Skipping.\n"
     ]
    },
    {
     "name": "stderr",
     "output_type": "stream",
     "text": [
      " 52%|█████▏    | 259/500 [00:37<00:29,  8.07it/s]"
     ]
    },
    {
     "name": "stdout",
     "output_type": "stream",
     "text": [
      "Warning: Audio file c:\\Users\\16148\\Desktop\\Projects\\bird_call_project\\Augmented Recordings\\Scolopax_minor_Point_Pelee_National_Park_near__Wheatley_Essex_County_Ontario_837811_segment_31_aug_1.wav is too short or silent. Skipping.\n"
     ]
    },
    {
     "name": "stderr",
     "output_type": "stream",
     "text": [
      " 55%|█████▌    | 275/500 [00:39<00:31,  7.15it/s]"
     ]
    },
    {
     "name": "stdout",
     "output_type": "stream",
     "text": [
      "Warning: Audio file c:\\Users\\16148\\Desktop\\Projects\\bird_call_project\\Augmented Recordings\\Scolopax_minor_Point_Pelee_National_Park_near__Wheatley_Essex_County_Ontario_837811_segment_36_aug_2.wav is too short or silent. Skipping.\n"
     ]
    },
    {
     "name": "stderr",
     "output_type": "stream",
     "text": [
      " 57%|█████▋    | 285/500 [00:40<00:27,  7.92it/s]"
     ]
    },
    {
     "name": "stdout",
     "output_type": "stream",
     "text": [
      "Warning: Audio file c:\\Users\\16148\\Desktop\\Projects\\bird_call_project\\Augmented Recordings\\Scolopax_minor_Point_Pelee_National_Park_near__Wheatley_Essex_County_Ontario_837811_segment_39_aug_3.wav is too short or silent. Skipping.\n"
     ]
    },
    {
     "name": "stderr",
     "output_type": "stream",
     "text": [
      " 61%|██████    | 304/500 [00:43<00:24,  7.95it/s]"
     ]
    },
    {
     "name": "stdout",
     "output_type": "stream",
     "text": [
      "Warning: Audio file c:\\Users\\16148\\Desktop\\Projects\\bird_call_project\\Augmented Recordings\\Scolopax_minor_Pelee_near__Leamington_Essex_County_Ontario_476517_segment_2_aug_1.wav is too short or silent. Skipping.\n"
     ]
    },
    {
     "name": "stderr",
     "output_type": "stream",
     "text": [
      " 68%|██████▊   | 342/500 [00:48<00:18,  8.40it/s]"
     ]
    },
    {
     "name": "stdout",
     "output_type": "stream",
     "text": [
      "Warning: Audio file c:\\Users\\16148\\Desktop\\Projects\\bird_call_project\\Augmented Recordings\\Scolopax_minor_Pelee_near__Leamington_Essex_County_Ontario_476517_segment_14_aug_3.wav is too short or silent. Skipping.\n"
     ]
    },
    {
     "name": "stderr",
     "output_type": "stream",
     "text": [
      " 79%|███████▉  | 394/500 [00:55<00:12,  8.17it/s]"
     ]
    },
    {
     "name": "stdout",
     "output_type": "stream",
     "text": [
      "Warning: Audio file c:\\Users\\16148\\Desktop\\Projects\\bird_call_project\\Augmented Recordings\\Scolopax_minor_Maumee_Bay_SP_Ohio_418105_segment_7_aug_1.wav is too short or silent. Skipping.\n"
     ]
    },
    {
     "name": "stderr",
     "output_type": "stream",
     "text": [
      " 80%|████████  | 401/500 [00:56<00:11,  8.50it/s]"
     ]
    },
    {
     "name": "stdout",
     "output_type": "stream",
     "text": [
      "Warning: Audio file c:\\Users\\16148\\Desktop\\Projects\\bird_call_project\\Augmented Recordings\\Scolopax_minor_Maumee_Bay_SP_Ohio_418105_segment_9_aug_2.wav is too short or silent. Skipping.\n"
     ]
    },
    {
     "name": "stderr",
     "output_type": "stream",
     "text": [
      " 87%|████████▋ | 434/500 [01:00<00:08,  8.01it/s]"
     ]
    },
    {
     "name": "stdout",
     "output_type": "stream",
     "text": [
      "Warning: Audio file c:\\Users\\16148\\Desktop\\Projects\\bird_call_project\\Augmented Recordings\\Scolopax_minor_Maumee_Bay_SP_Ohio_418105_segment_20_aug_2.wav is too short or silent. Skipping.\n"
     ]
    },
    {
     "name": "stderr",
     "output_type": "stream",
     "text": [
      " 94%|█████████▎| 468/500 [01:05<00:05,  6.15it/s]"
     ]
    },
    {
     "name": "stdout",
     "output_type": "stream",
     "text": [
      "Warning: Audio file c:\\Users\\16148\\Desktop\\Projects\\bird_call_project\\Augmented Recordings\\Scolopax_minor_Maumee_Bay_SP_Ohio_418103_segment_6_aug_3.wav is too short or silent. Skipping.\n"
     ]
    },
    {
     "name": "stderr",
     "output_type": "stream",
     "text": [
      " 96%|█████████▌| 481/500 [01:08<00:02,  6.56it/s]"
     ]
    },
    {
     "name": "stdout",
     "output_type": "stream",
     "text": [
      "Warning: Audio file c:\\Users\\16148\\Desktop\\Projects\\bird_call_project\\Augmented Recordings\\Scolopax_minor_Maumee_Bay_SP_Ohio_418103_segment_11_aug_1.wav is too short or silent. Skipping.\n"
     ]
    },
    {
     "name": "stderr",
     "output_type": "stream",
     "text": [
      "100%|██████████| 500/500 [01:10<00:00,  7.04it/s]\n",
      "  2%|▏         | 10/500 [00:01<01:11,  6.90it/s]"
     ]
    },
    {
     "name": "stdout",
     "output_type": "stream",
     "text": [
      "Warning: Audio file c:\\Users\\16148\\Desktop\\Projects\\bird_call_project\\Augmented Recordings\\Scolopax_minor_Maumee_Bay_SP_Ohio_418103_segment_20_aug_3.wav is too short or silent. Skipping.\n"
     ]
    },
    {
     "name": "stderr",
     "output_type": "stream",
     "text": [
      "  8%|▊         | 38/500 [00:05<00:57,  8.08it/s]"
     ]
    },
    {
     "name": "stdout",
     "output_type": "stream",
     "text": [
      "Warning: Audio file c:\\Users\\16148\\Desktop\\Projects\\bird_call_project\\Augmented Recordings\\Scolopax_minor_Maumee_Bay_SP_Ohio_418103_segment_30_aug_1.wav is too short or silent. Skipping.\n"
     ]
    },
    {
     "name": "stderr",
     "output_type": "stream",
     "text": [
      "  8%|▊         | 42/500 [00:06<01:00,  7.54it/s]"
     ]
    },
    {
     "name": "stdout",
     "output_type": "stream",
     "text": [
      "Warning: Audio file c:\\Users\\16148\\Desktop\\Projects\\bird_call_project\\Augmented Recordings\\Scolopax_minor_Maumee_Bay_SP_Ohio_418103_segment_31_aug_2.wav is too short or silent. Skipping.\n"
     ]
    },
    {
     "name": "stderr",
     "output_type": "stream",
     "text": [
      " 16%|█▌        | 80/500 [00:11<00:49,  8.43it/s]"
     ]
    },
    {
     "name": "stdout",
     "output_type": "stream",
     "text": [
      "Warning: Audio file c:\\Users\\16148\\Desktop\\Projects\\bird_call_project\\Augmented Recordings\\Scolopax_minor_Maumee_Bay_SP_Ohio_418103_segment_44_aug_1.wav is too short or silent. Skipping.\n"
     ]
    },
    {
     "name": "stderr",
     "output_type": "stream",
     "text": [
      " 23%|██▎       | 116/500 [00:15<00:43,  8.74it/s]"
     ]
    },
    {
     "name": "stdout",
     "output_type": "stream",
     "text": [
      "Warning: Audio file c:\\Users\\16148\\Desktop\\Projects\\bird_call_project\\Augmented Recordings\\Scolopax_minor_Maumee_Bay_SP_Ohio_418103_segment_56_aug_1.wav is too short or silent. Skipping.\n",
      "Warning: Audio file c:\\Users\\16148\\Desktop\\Projects\\bird_call_project\\Augmented Recordings\\Scolopax_minor_Maumee_Bay_SP_Ohio_418103_segment_56_aug_2.wav is too short or silent. Skipping.\n"
     ]
    },
    {
     "name": "stderr",
     "output_type": "stream",
     "text": [
      " 25%|██▌       | 125/500 [00:17<00:46,  7.99it/s]"
     ]
    },
    {
     "name": "stdout",
     "output_type": "stream",
     "text": [
      "Warning: Audio file c:\\Users\\16148\\Desktop\\Projects\\bird_call_project\\Augmented Recordings\\Scolopax_minor_Maumee_Bay_SP_Ohio_418099_segment_2_aug_1.wav is too short or silent. Skipping.\n"
     ]
    },
    {
     "name": "stderr",
     "output_type": "stream",
     "text": [
      " 29%|██▉       | 145/500 [00:19<00:42,  8.41it/s]"
     ]
    },
    {
     "name": "stdout",
     "output_type": "stream",
     "text": [
      "Warning: Audio file c:\\Users\\16148\\Desktop\\Projects\\bird_call_project\\Augmented Recordings\\Scolopax_minor_Maumee_Bay_SP_Ohio_418099_segment_8_aug_3.wav is too short or silent. Skipping.\n"
     ]
    },
    {
     "name": "stderr",
     "output_type": "stream",
     "text": [
      " 36%|███▌      | 181/500 [00:24<00:37,  8.50it/s]"
     ]
    },
    {
     "name": "stdout",
     "output_type": "stream",
     "text": [
      "Warning: Audio file c:\\Users\\16148\\Desktop\\Projects\\bird_call_project\\Augmented Recordings\\Scolopax_minor_Maumee_Bay_SP_Ohio_418099_segment_20_aug_3.wav is too short or silent. Skipping.\n"
     ]
    },
    {
     "name": "stderr",
     "output_type": "stream",
     "text": [
      " 40%|████      | 202/500 [00:27<00:36,  8.21it/s]"
     ]
    },
    {
     "name": "stdout",
     "output_type": "stream",
     "text": [
      "Warning: Audio file c:\\Users\\16148\\Desktop\\Projects\\bird_call_project\\Augmented Recordings\\Scolopax_minor_Maumee_Bay_SP_Ohio_418099_segment_27_aug_3.wav is too short or silent. Skipping.\n"
     ]
    },
    {
     "name": "stderr",
     "output_type": "stream",
     "text": [
      " 46%|████▌     | 230/500 [00:31<00:32,  8.27it/s]"
     ]
    },
    {
     "name": "stdout",
     "output_type": "stream",
     "text": [
      "Warning: Audio file c:\\Users\\16148\\Desktop\\Projects\\bird_call_project\\Augmented Recordings\\Scolopax_minor_Maumee_Bay_SP_Ohio_418099_segment_37_aug_1.wav is too short or silent. Skipping.\n"
     ]
    },
    {
     "name": "stderr",
     "output_type": "stream",
     "text": [
      " 53%|█████▎    | 267/500 [00:35<00:33,  7.06it/s]"
     ]
    },
    {
     "name": "stdout",
     "output_type": "stream",
     "text": [
      "Warning: Audio file c:\\Users\\16148\\Desktop\\Projects\\bird_call_project\\Augmented Recordings\\Scolopax_minor_Maumee_Bay_SP_Ohio_418099_segment_49_aug_2.wav is too short or silent. Skipping.\n"
     ]
    },
    {
     "name": "stderr",
     "output_type": "stream",
     "text": [
      " 63%|██████▎   | 313/500 [00:42<00:27,  6.88it/s]"
     ]
    },
    {
     "name": "stdout",
     "output_type": "stream",
     "text": [
      "Warning: Audio file c:\\Users\\16148\\Desktop\\Projects\\bird_call_project\\Augmented Recordings\\Scolopax_minor_Maumee_Bay_SP_Ohio_418099_segment_65_aug_2.wav is too short or silent. Skipping.\n"
     ]
    },
    {
     "name": "stderr",
     "output_type": "stream",
     "text": [
      " 63%|██████▎   | 317/500 [00:43<00:24,  7.35it/s]"
     ]
    },
    {
     "name": "stdout",
     "output_type": "stream",
     "text": [
      "Warning: Audio file c:\\Users\\16148\\Desktop\\Projects\\bird_call_project\\Augmented Recordings\\Scolopax_minor_Maumee_Bay_SP_Ohio_418099_segment_66_aug_1.wav is too short or silent. Skipping.\n"
     ]
    },
    {
     "name": "stderr",
     "output_type": "stream",
     "text": [
      " 67%|██████▋   | 335/500 [00:45<00:22,  7.49it/s]"
     ]
    },
    {
     "name": "stdout",
     "output_type": "stream",
     "text": [
      "Warning: Audio file c:\\Users\\16148\\Desktop\\Projects\\bird_call_project\\Augmented Recordings\\Scolopax_minor_Columbus_Franklin_County_Ohio_171997_segment_2_aug_1.wav is too short or silent. Skipping.\n"
     ]
    },
    {
     "name": "stderr",
     "output_type": "stream",
     "text": [
      " 71%|███████▏  | 357/500 [00:48<00:18,  7.58it/s]"
     ]
    },
    {
     "name": "stdout",
     "output_type": "stream",
     "text": [
      "Warning: Audio file c:\\Users\\16148\\Desktop\\Projects\\bird_call_project\\Augmented Recordings\\Scolopax_minor_Columbus_Franklin_County_Ohio_171997_segment_9_aug_2.wav is too short or silent. Skipping.\n"
     ]
    },
    {
     "name": "stderr",
     "output_type": "stream",
     "text": [
      " 75%|███████▌  | 375/500 [00:51<00:15,  8.14it/s]"
     ]
    },
    {
     "name": "stdout",
     "output_type": "stream",
     "text": [
      "Warning: Audio file c:\\Users\\16148\\Desktop\\Projects\\bird_call_project\\Augmented Recordings\\Scolopax_minor_Columbus_Franklin_County_Ohio_171997_segment_15_aug_2.wav is too short or silent. Skipping.\n"
     ]
    },
    {
     "name": "stderr",
     "output_type": "stream",
     "text": [
      " 76%|███████▌  | 380/500 [00:52<00:14,  8.01it/s]"
     ]
    },
    {
     "name": "stdout",
     "output_type": "stream",
     "text": [
      "Warning: Audio file c:\\Users\\16148\\Desktop\\Projects\\bird_call_project\\Augmented Recordings\\Scolopax_minor_Columbus_Franklin_County_Ohio_171997_segment_17_aug_1.wav is too short or silent. Skipping.\n"
     ]
    },
    {
     "name": "stderr",
     "output_type": "stream",
     "text": [
      " 79%|███████▉  | 394/500 [00:53<00:13,  8.08it/s]"
     ]
    },
    {
     "name": "stdout",
     "output_type": "stream",
     "text": [
      "Warning: Audio file c:\\Users\\16148\\Desktop\\Projects\\bird_call_project\\Augmented Recordings\\Scolopax_minor_Columbus_Franklin_County_Ohio_171997_segment_21_aug_3.wav is too short or silent. Skipping.\n"
     ]
    },
    {
     "name": "stderr",
     "output_type": "stream",
     "text": [
      " 92%|█████████▏| 460/500 [01:03<00:05,  6.98it/s]"
     ]
    },
    {
     "name": "stdout",
     "output_type": "stream",
     "text": [
      "Warning: Audio file c:\\Users\\16148\\Desktop\\Projects\\bird_call_project\\Augmented Recordings\\Scolopax_minor_Columbus_Franklin_County_Ohio_171997_segment_43_aug_3.wav is too short or silent. Skipping.\n"
     ]
    },
    {
     "name": "stderr",
     "output_type": "stream",
     "text": [
      " 94%|█████████▍| 472/500 [01:05<00:03,  7.95it/s]"
     ]
    },
    {
     "name": "stdout",
     "output_type": "stream",
     "text": [
      "Warning: Audio file c:\\Users\\16148\\Desktop\\Projects\\bird_call_project\\Augmented Recordings\\Scolopax_minor_Columbus_Franklin_County_Ohio_171994_segment_2_aug_3.wav is too short or silent. Skipping.\n"
     ]
    },
    {
     "name": "stderr",
     "output_type": "stream",
     "text": [
      "100%|██████████| 500/500 [01:09<00:00,  7.22it/s]\n",
      " 11%|█▏        | 57/500 [00:07<00:54,  8.07it/s]"
     ]
    },
    {
     "name": "stdout",
     "output_type": "stream",
     "text": [
      "Warning: Audio file c:\\Users\\16148\\Desktop\\Projects\\bird_call_project\\Augmented Recordings\\Scolopax_minor_Columbus_Franklin_County_Ohio_171991_segment_9_aug_1.wav is too short or silent. Skipping.\n",
      "Warning: Audio file c:\\Users\\16148\\Desktop\\Projects\\bird_call_project\\Augmented Recordings\\Scolopax_minor_Columbus_Franklin_County_Ohio_171991_segment_9_aug_3.wav is too short or silent. Skipping.\n"
     ]
    },
    {
     "name": "stderr",
     "output_type": "stream",
     "text": [
      " 17%|█▋        | 86/500 [00:12<00:49,  8.44it/s]"
     ]
    },
    {
     "name": "stdout",
     "output_type": "stream",
     "text": [
      "Warning: Audio file c:\\Users\\16148\\Desktop\\Projects\\bird_call_project\\Augmented Recordings\\Scolopax_minor_Columbus_Franklin_County_Ohio_171991_segment_18_aug_3.wav is too short or silent. Skipping.\n"
     ]
    },
    {
     "name": "stderr",
     "output_type": "stream",
     "text": [
      " 25%|██▍       | 123/500 [00:17<00:47,  7.91it/s]"
     ]
    },
    {
     "name": "stdout",
     "output_type": "stream",
     "text": [
      "Warning: Audio file c:\\Users\\16148\\Desktop\\Projects\\bird_call_project\\Augmented Recordings\\Scolopax_minor_Columbus_Franklin_County_Ohio_171991_segment_31_aug_1.wav is too short or silent. Skipping.\n"
     ]
    },
    {
     "name": "stderr",
     "output_type": "stream",
     "text": [
      " 32%|███▏      | 160/500 [00:23<00:52,  6.49it/s]"
     ]
    },
    {
     "name": "stdout",
     "output_type": "stream",
     "text": [
      "Warning: Audio file c:\\Users\\16148\\Desktop\\Projects\\bird_call_project\\Augmented Recordings\\Scolopax_minor_Columbus_Franklin_County_Ohio_171991_segment_43_aug_3.wav is too short or silent. Skipping.\n"
     ]
    },
    {
     "name": "stderr",
     "output_type": "stream",
     "text": [
      " 37%|███▋      | 183/500 [00:26<00:34,  9.07it/s]"
     ]
    },
    {
     "name": "stdout",
     "output_type": "stream",
     "text": [
      "Warning: Audio file c:\\Users\\16148\\Desktop\\Projects\\bird_call_project\\Augmented Recordings\\Scolopax_minor_Columbus_Franklin_County_Ohio_171991_segment_51_aug_1.wav is too short or silent. Skipping.\n"
     ]
    },
    {
     "name": "stderr",
     "output_type": "stream",
     "text": [
      " 44%|████▍     | 219/500 [00:31<00:42,  6.66it/s]"
     ]
    },
    {
     "name": "stdout",
     "output_type": "stream",
     "text": [
      "Warning: Audio file c:\\Users\\16148\\Desktop\\Projects\\bird_call_project\\Augmented Recordings\\Scolopax_minor_Columbus_Franklin_County_Ohio_171991_segment_63_aug_1.wav is too short or silent. Skipping.\n"
     ]
    },
    {
     "name": "stderr",
     "output_type": "stream",
     "text": [
      " 56%|█████▌    | 278/500 [00:40<00:27,  7.95it/s]"
     ]
    },
    {
     "name": "stdout",
     "output_type": "stream",
     "text": [
      "Warning: Audio file c:\\Users\\16148\\Desktop\\Projects\\bird_call_project\\Augmented Recordings\\Tringa_flavipes_Ohio_Magee_Marsh_17047_segment_1_aug_3.wav is too short or silent. Skipping.\n"
     ]
    },
    {
     "name": "stderr",
     "output_type": "stream",
     "text": [
      " 84%|████████▍ | 419/500 [01:00<00:11,  7.15it/s]"
     ]
    },
    {
     "name": "stdout",
     "output_type": "stream",
     "text": [
      "Warning: Audio file c:\\Users\\16148\\Desktop\\Projects\\bird_call_project\\Augmented Recordings\\Chlidonias_niger_Pelee_near__Leamington_Essex_County_Ontario_476265_segment_2_aug_3.wav is too short or silent. Skipping.\n"
     ]
    },
    {
     "name": "stderr",
     "output_type": "stream",
     "text": [
      " 90%|█████████ | 451/500 [01:07<00:09,  5.40it/s]"
     ]
    },
    {
     "name": "stdout",
     "output_type": "stream",
     "text": [
      "Warning: Audio file c:\\Users\\16148\\Desktop\\Projects\\bird_call_project\\Augmented Recordings\\Ardea_alba_Ohio_Ottawa_NWR_17012_segment_1_aug_3.wav is too short or silent. Skipping.\n"
     ]
    },
    {
     "name": "stderr",
     "output_type": "stream",
     "text": [
      " 91%|█████████ | 454/500 [01:07<00:08,  5.12it/s]"
     ]
    },
    {
     "name": "stdout",
     "output_type": "stream",
     "text": [
      "Warning: Audio file c:\\Users\\16148\\Desktop\\Projects\\bird_call_project\\Augmented Recordings\\Ardea_alba_Ohio_Ottawa_NWR_17012_segment_2_aug_3.wav is too short or silent. Skipping.\n"
     ]
    },
    {
     "name": "stderr",
     "output_type": "stream",
     "text": [
      "100%|██████████| 500/500 [01:17<00:00,  6.48it/s]\n",
      "  2%|▏         | 12/500 [00:02<01:33,  5.24it/s]"
     ]
    },
    {
     "name": "stdout",
     "output_type": "stream",
     "text": [
      "Warning: Audio file c:\\Users\\16148\\Desktop\\Projects\\bird_call_project\\Augmented Recordings\\Buteo_lineatus_Green_Township_near__Cincinnati_Hamilton_County_Ohio_809281_segment_7_aug_3.wav is too short or silent. Skipping.\n"
     ]
    },
    {
     "name": "stderr",
     "output_type": "stream",
     "text": [
      "  8%|▊         | 41/500 [00:07<00:58,  7.82it/s]"
     ]
    },
    {
     "name": "stdout",
     "output_type": "stream",
     "text": [
      "Warning: Audio file c:\\Users\\16148\\Desktop\\Projects\\bird_call_project\\Augmented Recordings\\Buteo_lineatus_Green_Township_near__Cincinnati_Hamilton_County_Ohio_809281_segment_17_aug_2.wav is too short or silent. Skipping.\n"
     ]
    },
    {
     "name": "stderr",
     "output_type": "stream",
     "text": [
      " 11%|█         | 53/500 [00:08<00:55,  8.10it/s]"
     ]
    },
    {
     "name": "stdout",
     "output_type": "stream",
     "text": [
      "Warning: Audio file c:\\Users\\16148\\Desktop\\Projects\\bird_call_project\\Augmented Recordings\\Buteo_lineatus_Green_Township_near__Cincinnati_Hamilton_County_Ohio_809281_segment_21_aug_2.wav is too short or silent. Skipping.\n"
     ]
    },
    {
     "name": "stderr",
     "output_type": "stream",
     "text": [
      " 11%|█         | 56/500 [00:09<00:57,  7.68it/s]"
     ]
    },
    {
     "name": "stdout",
     "output_type": "stream",
     "text": [
      "Warning: Audio file c:\\Users\\16148\\Desktop\\Projects\\bird_call_project\\Augmented Recordings\\Buteo_lineatus_Miami_Whitewater_Forest_Park_wetlands_Crosby_Township_near__Harrison_Hamilton_County_Ohio_691446_segment_0_aug_2.wav is too short or silent. Skipping.\n"
     ]
    },
    {
     "name": "stderr",
     "output_type": "stream",
     "text": [
      " 12%|█▏        | 62/500 [00:10<00:55,  7.87it/s]"
     ]
    },
    {
     "name": "stdout",
     "output_type": "stream",
     "text": [
      "Warning: Audio file c:\\Users\\16148\\Desktop\\Projects\\bird_call_project\\Augmented Recordings\\Buteo_lineatus_Miami_Whitewater_Forest_Park_wetlands_Crosby_Township_near__Harrison_Hamilton_County_Ohio_691446_segment_2_aug_2.wav is too short or silent. Skipping.\n"
     ]
    },
    {
     "name": "stderr",
     "output_type": "stream",
     "text": [
      " 19%|█▉        | 97/500 [00:14<00:48,  8.38it/s]"
     ]
    },
    {
     "name": "stdout",
     "output_type": "stream",
     "text": [
      "Warning: Audio file c:\\Users\\16148\\Desktop\\Projects\\bird_call_project\\Augmented Recordings\\Buteo_lineatus_Tanglewood_Lane_Cincinnati_Ohio_44321_segment_0_aug_1.wav is too short or silent. Skipping.\n"
     ]
    },
    {
     "name": "stderr",
     "output_type": "stream",
     "text": [
      " 20%|██        | 102/500 [00:15<00:45,  8.69it/s]"
     ]
    },
    {
     "name": "stdout",
     "output_type": "stream",
     "text": [
      "Warning: Audio file c:\\Users\\16148\\Desktop\\Projects\\bird_call_project\\Augmented Recordings\\Buteo_lineatus_Tanglewood_Lane_Cincinnati_Ohio_44321_segment_1_aug_3.wav is too short or silent. Skipping.\n"
     ]
    },
    {
     "name": "stderr",
     "output_type": "stream",
     "text": [
      " 25%|██▌       | 127/500 [00:18<00:46,  8.03it/s]"
     ]
    },
    {
     "name": "stdout",
     "output_type": "stream",
     "text": [
      "Warning: Audio file c:\\Users\\16148\\Desktop\\Projects\\bird_call_project\\Augmented Recordings\\Buteo_lineatus_Michigan_Monroe_County_17118_segment_1_aug_1.wav is too short or silent. Skipping.\n"
     ]
    },
    {
     "name": "stderr",
     "output_type": "stream",
     "text": [
      " 39%|███▉      | 196/500 [00:28<00:39,  7.69it/s]"
     ]
    },
    {
     "name": "stdout",
     "output_type": "stream",
     "text": [
      "Warning: Audio file c:\\Users\\16148\\Desktop\\Projects\\bird_call_project\\Augmented Recordings\\Buteo_jamaicensis_Michigan_Monroe_County_17117_segment_10_aug_1.wav is too short or silent. Skipping.\n"
     ]
    },
    {
     "name": "stderr",
     "output_type": "stream",
     "text": [
      " 45%|████▌     | 225/500 [00:32<00:35,  7.82it/s]"
     ]
    },
    {
     "name": "stdout",
     "output_type": "stream",
     "text": [
      "Warning: Audio file c:\\Users\\16148\\Desktop\\Projects\\bird_call_project\\Augmented Recordings\\Buteo_jamaicensis_Michigan_Monroe_County_17116_segment_9_aug_3.wav is too short or silent. Skipping.\n"
     ]
    },
    {
     "name": "stderr",
     "output_type": "stream",
     "text": [
      " 69%|██████▉   | 345/500 [00:52<00:26,  5.86it/s]"
     ]
    },
    {
     "name": "stdout",
     "output_type": "stream",
     "text": [
      "Warning: Audio file c:\\Users\\16148\\Desktop\\Projects\\bird_call_project\\Augmented Recordings\\Bubo_virginianus_mount_orab_ohio_760068_segment_9_aug_1.wav is too short or silent. Skipping.\n"
     ]
    },
    {
     "name": "stderr",
     "output_type": "stream",
     "text": [
      " 72%|███████▏  | 358/500 [00:55<00:23,  5.96it/s]"
     ]
    },
    {
     "name": "stdout",
     "output_type": "stream",
     "text": [
      "Warning: Audio file c:\\Users\\16148\\Desktop\\Projects\\bird_call_project\\Augmented Recordings\\Bubo_virginianus_mount_orab_ohio_760068_segment_13_aug_2.wav is too short or silent. Skipping.\n"
     ]
    },
    {
     "name": "stderr",
     "output_type": "stream",
     "text": [
      " 73%|███████▎  | 363/500 [00:55<00:20,  6.61it/s]"
     ]
    },
    {
     "name": "stdout",
     "output_type": "stream",
     "text": [
      "Warning: Audio file c:\\Users\\16148\\Desktop\\Projects\\bird_call_project\\Augmented Recordings\\Bubo_virginianus_mount_orab_ohio_760068_segment_14_aug_3.wav is too short or silent. Skipping.\n"
     ]
    },
    {
     "name": "stderr",
     "output_type": "stream",
     "text": [
      " 85%|████████▌ | 427/500 [01:06<00:10,  6.90it/s]"
     ]
    },
    {
     "name": "stdout",
     "output_type": "stream",
     "text": [
      "Warning: Audio file c:\\Users\\16148\\Desktop\\Projects\\bird_call_project\\Augmented Recordings\\Bubo_virginianus_mount_orab_ohio_760068_segment_36_aug_1.wav is too short or silent. Skipping.\n"
     ]
    },
    {
     "name": "stderr",
     "output_type": "stream",
     "text": [
      "100%|██████████| 500/500 [01:16<00:00,  6.54it/s]\n",
      " 21%|██        | 106/500 [00:14<00:49,  7.98it/s]"
     ]
    },
    {
     "name": "stdout",
     "output_type": "stream",
     "text": [
      "Warning: Audio file c:\\Users\\16148\\Desktop\\Projects\\bird_call_project\\Augmented Recordings\\Bubo_virginianus_Anderson_Township_near__Cincinnati_Hamilton_County_Ohio_450919_segment_3_aug_3.wav is too short or silent. Skipping.\n"
     ]
    },
    {
     "name": "stderr",
     "output_type": "stream",
     "text": [
      " 37%|███▋      | 184/500 [00:25<00:44,  7.06it/s]"
     ]
    },
    {
     "name": "stdout",
     "output_type": "stream",
     "text": [
      "Warning: Audio file c:\\Users\\16148\\Desktop\\Projects\\bird_call_project\\Augmented Recordings\\Bubo_virginianus_mount_orab_ohio_664390_segment_22_aug_3.wav is too short or silent. Skipping.\n"
     ]
    },
    {
     "name": "stderr",
     "output_type": "stream",
     "text": [
      " 41%|████      | 203/500 [00:27<00:35,  8.30it/s]"
     ]
    },
    {
     "name": "stdout",
     "output_type": "stream",
     "text": [
      "Warning: Audio file c:\\Users\\16148\\Desktop\\Projects\\bird_call_project\\Augmented Recordings\\Bubo_virginianus_mount_orab_ohio_664390_segment_29_aug_1.wav is too short or silent. Skipping.\n"
     ]
    },
    {
     "name": "stderr",
     "output_type": "stream",
     "text": [
      " 68%|██████▊   | 338/500 [00:49<00:29,  5.43it/s]"
     ]
    },
    {
     "name": "stdout",
     "output_type": "stream",
     "text": [
      "Warning: Audio file c:\\Users\\16148\\Desktop\\Projects\\bird_call_project\\Augmented Recordings\\Bubo_virginianus_Wooster_PK_&_Beech_St_near__Mariemont_Hamilton_County_Ohio_757171_segment_23_aug_2.wav is too short or silent. Skipping.\n"
     ]
    },
    {
     "name": "stderr",
     "output_type": "stream",
     "text": [
      " 75%|███████▍  | 374/500 [00:56<00:21,  5.81it/s]"
     ]
    },
    {
     "name": "stdout",
     "output_type": "stream",
     "text": [
      "Warning: Audio file c:\\Users\\16148\\Desktop\\Projects\\bird_call_project\\Augmented Recordings\\Bubo_virginianus_Wooster_PK_&_Beech_St_near__Mariemont_Hamilton_County_Ohio_757171_segment_35_aug_2.wav is too short or silent. Skipping.\n"
     ]
    },
    {
     "name": "stderr",
     "output_type": "stream",
     "text": [
      " 81%|████████  | 404/500 [01:01<00:17,  5.64it/s]"
     ]
    },
    {
     "name": "stdout",
     "output_type": "stream",
     "text": [
      "Warning: Audio file c:\\Users\\16148\\Desktop\\Projects\\bird_call_project\\Augmented Recordings\\Bubo_virginianus_Wooster_PK_&_Beech_St_near__Mariemont_Hamilton_County_Ohio_757171_segment_45_aug_2.wav is too short or silent. Skipping.\n"
     ]
    },
    {
     "name": "stderr",
     "output_type": "stream",
     "text": [
      "100%|██████████| 500/500 [01:15<00:00,  6.65it/s]\n",
      "  7%|▋         | 34/500 [00:05<01:18,  5.95it/s]"
     ]
    },
    {
     "name": "stdout",
     "output_type": "stream",
     "text": [
      "Warning: Audio file c:\\Users\\16148\\Desktop\\Projects\\bird_call_project\\Augmented Recordings\\Megascops_asio_mount_orab_ohio_624995_segment_42_aug_3.wav is too short or silent. Skipping.\n"
     ]
    },
    {
     "name": "stderr",
     "output_type": "stream",
     "text": [
      " 14%|█▍        | 72/500 [00:12<00:57,  7.43it/s]"
     ]
    },
    {
     "name": "stdout",
     "output_type": "stream",
     "text": [
      "Warning: Audio file c:\\Users\\16148\\Desktop\\Projects\\bird_call_project\\Augmented Recordings\\Megascops_asio_mount_orab_ohio_669305_segment_7_aug_1.wav is too short or silent. Skipping.\n"
     ]
    },
    {
     "name": "stderr",
     "output_type": "stream",
     "text": [
      " 17%|█▋        | 87/500 [00:14<00:48,  8.48it/s]"
     ]
    },
    {
     "name": "stdout",
     "output_type": "stream",
     "text": [
      "Warning: Audio file c:\\Users\\16148\\Desktop\\Projects\\bird_call_project\\Augmented Recordings\\Megascops_asio_mount_orab_ohio_669305_segment_12_aug_1.wav is too short or silent. Skipping.\n"
     ]
    },
    {
     "name": "stderr",
     "output_type": "stream",
     "text": [
      " 35%|███▌      | 177/500 [00:27<00:38,  8.42it/s]"
     ]
    },
    {
     "name": "stdout",
     "output_type": "stream",
     "text": [
      "Warning: Audio file c:\\Users\\16148\\Desktop\\Projects\\bird_call_project\\Augmented Recordings\\Megascops_asio_mount_orab_ohio_544849_segment_4_aug_1.wav is too short or silent. Skipping.\n"
     ]
    },
    {
     "name": "stderr",
     "output_type": "stream",
     "text": [
      " 46%|████▋     | 232/500 [00:34<00:33,  7.93it/s]"
     ]
    },
    {
     "name": "stdout",
     "output_type": "stream",
     "text": [
      "Warning: Audio file c:\\Users\\16148\\Desktop\\Projects\\bird_call_project\\Augmented Recordings\\Megascops_asio_mount_orab_ohio_544849_segment_23_aug_2.wav is too short or silent. Skipping.\n"
     ]
    },
    {
     "name": "stderr",
     "output_type": "stream",
     "text": [
      " 50%|█████     | 250/500 [00:36<00:31,  7.95it/s]"
     ]
    },
    {
     "name": "stdout",
     "output_type": "stream",
     "text": [
      "Warning: Audio file c:\\Users\\16148\\Desktop\\Projects\\bird_call_project\\Augmented Recordings\\Strix_varia_mount_orab_ohio_494579_segment_5_aug_2.wav is too short or silent. Skipping.\n"
     ]
    },
    {
     "name": "stderr",
     "output_type": "stream",
     "text": [
      " 68%|██████▊   | 341/500 [00:49<00:19,  8.30it/s]"
     ]
    },
    {
     "name": "stdout",
     "output_type": "stream",
     "text": [
      "Warning: Audio file c:\\Users\\16148\\Desktop\\Projects\\bird_call_project\\Augmented Recordings\\Melanerpes_erythrocephalus_Crosby_Township_near__Harrison_Hamilton_County_Ohio_774908_segment_7_aug_3.wav is too short or silent. Skipping.\n"
     ]
    },
    {
     "name": "stderr",
     "output_type": "stream",
     "text": [
      " 71%|███████   | 355/500 [00:51<00:17,  8.49it/s]"
     ]
    },
    {
     "name": "stdout",
     "output_type": "stream",
     "text": [
      "Warning: Audio file c:\\Users\\16148\\Desktop\\Projects\\bird_call_project\\Augmented Recordings\\Melanerpes_erythrocephalus_Crosby_Township_near__Harrison_Hamilton_County_Ohio_774908_segment_12_aug_2.wav is too short or silent. Skipping.\n"
     ]
    },
    {
     "name": "stderr",
     "output_type": "stream",
     "text": [
      " 74%|███████▍  | 370/500 [00:53<00:15,  8.14it/s]"
     ]
    },
    {
     "name": "stdout",
     "output_type": "stream",
     "text": [
      "Warning: Audio file c:\\Users\\16148\\Desktop\\Projects\\bird_call_project\\Augmented Recordings\\Melanerpes_erythrocephalus_Crosby_Township_near__Harrison_Hamilton_County_Ohio_774908_segment_17_aug_2.wav is too short or silent. Skipping.\n"
     ]
    },
    {
     "name": "stderr",
     "output_type": "stream",
     "text": [
      " 80%|████████  | 402/500 [00:57<00:10,  9.08it/s]"
     ]
    },
    {
     "name": "stdout",
     "output_type": "stream",
     "text": [
      "Warning: Audio file c:\\Users\\16148\\Desktop\\Projects\\bird_call_project\\Augmented Recordings\\Melanerpes_erythrocephalus_Kendrick_Woods_State_Nature_Preserve_Allen_County_Ohio_698853_segment_3_aug_1.wav is too short or silent. Skipping.\n",
      "Warning: Audio file c:\\Users\\16148\\Desktop\\Projects\\bird_call_project\\Augmented Recordings\\Melanerpes_erythrocephalus_Kendrick_Woods_State_Nature_Preserve_Allen_County_Ohio_698853_segment_3_aug_2.wav is too short or silent. Skipping.\n"
     ]
    },
    {
     "name": "stderr",
     "output_type": "stream",
     "text": [
      " 82%|████████▏ | 410/500 [00:58<00:10,  8.66it/s]"
     ]
    },
    {
     "name": "stdout",
     "output_type": "stream",
     "text": [
      "Warning: Audio file c:\\Users\\16148\\Desktop\\Projects\\bird_call_project\\Augmented Recordings\\Melanerpes_erythrocephalus_Kendrick_Woods_State_Nature_Preserve_Allen_County_Ohio_698853_segment_5_aug_3.wav is too short or silent. Skipping.\n"
     ]
    },
    {
     "name": "stderr",
     "output_type": "stream",
     "text": [
      " 83%|████████▎ | 417/500 [00:59<00:10,  7.97it/s]"
     ]
    },
    {
     "name": "stdout",
     "output_type": "stream",
     "text": [
      "Warning: Audio file c:\\Users\\16148\\Desktop\\Projects\\bird_call_project\\Augmented Recordings\\Melanerpes_erythrocephalus_Kendrick_Woods_State_Nature_Preserve_Allen_County_Ohio_698853_segment_8_aug_1.wav is too short or silent. Skipping.\n"
     ]
    },
    {
     "name": "stderr",
     "output_type": "stream",
     "text": [
      " 85%|████████▍ | 423/500 [01:00<00:09,  8.01it/s]"
     ]
    },
    {
     "name": "stdout",
     "output_type": "stream",
     "text": [
      "Warning: Audio file c:\\Users\\16148\\Desktop\\Projects\\bird_call_project\\Augmented Recordings\\Melanerpes_erythrocephalus_Kendrick_Woods_State_Nature_Preserve_Allen_County_Ohio_698853_segment_10_aug_1.wav is too short or silent. Skipping.\n"
     ]
    },
    {
     "name": "stderr",
     "output_type": "stream",
     "text": [
      "100%|██████████| 500/500 [01:10<00:00,  7.07it/s]\n",
      "  0%|          | 2/500 [00:00<00:53,  9.29it/s]"
     ]
    },
    {
     "name": "stdout",
     "output_type": "stream",
     "text": [
      "Warning: Audio file c:\\Users\\16148\\Desktop\\Projects\\bird_call_project\\Augmented Recordings\\Melanerpes_erythrocephalus_Pelee_near__Leamington_Essex_County_Ontario_477003_segment_0_aug_2.wav is too short or silent. Skipping.\n"
     ]
    },
    {
     "name": "stderr",
     "output_type": "stream",
     "text": [
      "  8%|▊         | 40/500 [00:05<00:54,  8.39it/s]"
     ]
    },
    {
     "name": "stdout",
     "output_type": "stream",
     "text": [
      "Warning: Audio file c:\\Users\\16148\\Desktop\\Projects\\bird_call_project\\Augmented Recordings\\Melanerpes_erythrocephalus_Pelee_near__Leamington_Essex_County_Ontario_477003_segment_13_aug_1.wav is too short or silent. Skipping.\n"
     ]
    },
    {
     "name": "stderr",
     "output_type": "stream",
     "text": [
      "  9%|▉         | 45/500 [00:05<00:57,  7.89it/s]"
     ]
    },
    {
     "name": "stdout",
     "output_type": "stream",
     "text": [
      "Warning: Audio file c:\\Users\\16148\\Desktop\\Projects\\bird_call_project\\Augmented Recordings\\Melanerpes_erythrocephalus_Crosby_Township_near__Harrison_Hamilton_County_Ohio_774907_segment_0_aug_3.wav is too short or silent. Skipping.\n"
     ]
    },
    {
     "name": "stderr",
     "output_type": "stream",
     "text": [
      " 11%|█         | 53/500 [00:07<00:56,  7.97it/s]"
     ]
    },
    {
     "name": "stdout",
     "output_type": "stream",
     "text": [
      "Warning: Audio file c:\\Users\\16148\\Desktop\\Projects\\bird_call_project\\Augmented Recordings\\Melanerpes_erythrocephalus_Crosby_Township_near__Harrison_Hamilton_County_Ohio_774907_segment_3_aug_2.wav is too short or silent. Skipping.\n"
     ]
    },
    {
     "name": "stderr",
     "output_type": "stream",
     "text": [
      " 16%|█▌        | 80/500 [00:10<00:47,  8.82it/s]"
     ]
    },
    {
     "name": "stdout",
     "output_type": "stream",
     "text": [
      "Warning: Audio file c:\\Users\\16148\\Desktop\\Projects\\bird_call_project\\Augmented Recordings\\Melanerpes_carolinus_Miami_Whitewater_Forest_Park_wetlands_Crosby_Township_near__Harrison_Hamilton_County_Ohio_687174_segment_8_aug_2.wav is too short or silent. Skipping.\n"
     ]
    },
    {
     "name": "stderr",
     "output_type": "stream",
     "text": [
      " 22%|██▏       | 111/500 [00:15<00:58,  6.67it/s]"
     ]
    },
    {
     "name": "stdout",
     "output_type": "stream",
     "text": [
      "Warning: Audio file c:\\Users\\16148\\Desktop\\Projects\\bird_call_project\\Augmented Recordings\\Melanerpes_carolinus_Wegerzyn_garden_near__Dayton_Montgomery_County_Ohio_807218_segment_4_aug_3.wav is too short or silent. Skipping.\n"
     ]
    },
    {
     "name": "stderr",
     "output_type": "stream",
     "text": [
      " 25%|██▌       | 125/500 [00:16<00:48,  7.79it/s]"
     ]
    },
    {
     "name": "stdout",
     "output_type": "stream",
     "text": [
      "Warning: Audio file c:\\Users\\16148\\Desktop\\Projects\\bird_call_project\\Augmented Recordings\\Melanerpes_carolinus_Wegerzyn_garden_near__Dayton_Montgomery_County_Ohio_807218_segment_9_aug_2.wav is too short or silent. Skipping.\n"
     ]
    },
    {
     "name": "stderr",
     "output_type": "stream",
     "text": [
      " 33%|███▎      | 167/500 [00:23<00:56,  5.94it/s]"
     ]
    },
    {
     "name": "stdout",
     "output_type": "stream",
     "text": [
      "Warning: Audio file c:\\Users\\16148\\Desktop\\Projects\\bird_call_project\\Augmented Recordings\\Melanerpes_carolinus_Wegerzyn_garden_near__Dayton_Montgomery_County_Ohio_807218_segment_23_aug_3.wav is too short or silent. Skipping.\n"
     ]
    },
    {
     "name": "stderr",
     "output_type": "stream",
     "text": [
      " 35%|███▍      | 174/500 [00:24<00:53,  6.06it/s]"
     ]
    },
    {
     "name": "stdout",
     "output_type": "stream",
     "text": [
      "Warning: Audio file c:\\Users\\16148\\Desktop\\Projects\\bird_call_project\\Augmented Recordings\\Melanerpes_carolinus_Wegerzyn_garden_near__Dayton_Montgomery_County_Ohio_807218_segment_25_aug_3.wav is too short or silent. Skipping.\n"
     ]
    },
    {
     "name": "stderr",
     "output_type": "stream",
     "text": [
      " 36%|███▌      | 181/500 [00:26<00:56,  5.66it/s]"
     ]
    },
    {
     "name": "stdout",
     "output_type": "stream",
     "text": [
      "Warning: Audio file c:\\Users\\16148\\Desktop\\Projects\\bird_call_project\\Augmented Recordings\\Melanerpes_carolinus_Wegerzyn_garden_near__Dayton_Montgomery_County_Ohio_807218_segment_28_aug_2.wav is too short or silent. Skipping.\n"
     ]
    },
    {
     "name": "stderr",
     "output_type": "stream",
     "text": [
      " 39%|███▉      | 196/500 [00:29<00:58,  5.20it/s]"
     ]
    },
    {
     "name": "stdout",
     "output_type": "stream",
     "text": [
      "Warning: Audio file c:\\Users\\16148\\Desktop\\Projects\\bird_call_project\\Augmented Recordings\\Melanerpes_carolinus_Wegerzyn_garden_near__Dayton_Montgomery_County_Ohio_807218_segment_33_aug_1.wav is too short or silent. Skipping.\n"
     ]
    },
    {
     "name": "stderr",
     "output_type": "stream",
     "text": [
      " 39%|███▉      | 197/500 [00:29<00:56,  5.35it/s]"
     ]
    },
    {
     "name": "stdout",
     "output_type": "stream",
     "text": [
      "Warning: Audio file c:\\Users\\16148\\Desktop\\Projects\\bird_call_project\\Augmented Recordings\\Melanerpes_carolinus_Wegerzyn_garden_near__Dayton_Montgomery_County_Ohio_807218_segment_33_aug_3.wav is too short or silent. Skipping.\n"
     ]
    },
    {
     "name": "stderr",
     "output_type": "stream",
     "text": [
      " 47%|████▋     | 234/500 [00:35<00:30,  8.65it/s]"
     ]
    },
    {
     "name": "stdout",
     "output_type": "stream",
     "text": [
      "Warning: Audio file c:\\Users\\16148\\Desktop\\Projects\\bird_call_project\\Augmented Recordings\\Melanerpes_carolinus_Harrison_Township_near__Harrison_Hamilton_County_Ohio_728264_segment_6_aug_2.wav is too short or silent. Skipping.\n"
     ]
    },
    {
     "name": "stderr",
     "output_type": "stream",
     "text": [
      " 55%|█████▌    | 275/500 [00:41<00:31,  7.21it/s]"
     ]
    },
    {
     "name": "stdout",
     "output_type": "stream",
     "text": [
      "Warning: Audio file c:\\Users\\16148\\Desktop\\Projects\\bird_call_project\\Augmented Recordings\\Melanerpes_carolinus_Green_Township_near__Cincinnati_Hamilton_County_Ohio_726629_segment_13_aug_3.wav is too short or silent. Skipping.\n"
     ]
    },
    {
     "name": "stderr",
     "output_type": "stream",
     "text": [
      " 60%|█████▉    | 298/500 [00:44<00:25,  7.96it/s]"
     ]
    },
    {
     "name": "stdout",
     "output_type": "stream",
     "text": [
      "Warning: Audio file c:\\Users\\16148\\Desktop\\Projects\\bird_call_project\\Augmented Recordings\\Melanerpes_carolinus_Green_Township_near__Cincinnati_Hamilton_County_Ohio_726629_segment_21_aug_1.wav is too short or silent. Skipping.\n"
     ]
    },
    {
     "name": "stderr",
     "output_type": "stream",
     "text": [
      " 61%|██████    | 303/500 [00:44<00:23,  8.35it/s]"
     ]
    },
    {
     "name": "stdout",
     "output_type": "stream",
     "text": [
      "Warning: Audio file c:\\Users\\16148\\Desktop\\Projects\\bird_call_project\\Augmented Recordings\\Melanerpes_carolinus_Green_Township_near__Cincinnati_Hamilton_County_Ohio_726629_segment_22_aug_3.wav is too short or silent. Skipping.\n"
     ]
    },
    {
     "name": "stderr",
     "output_type": "stream",
     "text": [
      " 64%|██████▍   | 319/500 [00:46<00:21,  8.35it/s]"
     ]
    },
    {
     "name": "stdout",
     "output_type": "stream",
     "text": [
      "Warning: Audio file c:\\Users\\16148\\Desktop\\Projects\\bird_call_project\\Augmented Recordings\\Melanerpes_carolinus_Harrison_Township_near__Harrison_Hamilton_County_Ohio_691526_segment_3_aug_1.wav is too short or silent. Skipping.\n"
     ]
    },
    {
     "name": "stderr",
     "output_type": "stream",
     "text": [
      " 95%|█████████▌| 476/500 [01:08<00:03,  7.97it/s]"
     ]
    },
    {
     "name": "stdout",
     "output_type": "stream",
     "text": [
      "Warning: Audio file c:\\Users\\16148\\Desktop\\Projects\\bird_call_project\\Augmented Recordings\\Melanerpes_carolinus_Westlake_Cuyahoga_Ohio_115025_segment_12_aug_2.wav is too short or silent. Skipping.\n"
     ]
    },
    {
     "name": "stderr",
     "output_type": "stream",
     "text": [
      "100%|██████████| 500/500 [01:12<00:00,  6.93it/s]\n",
      " 15%|█▍        | 74/500 [00:12<01:15,  5.63it/s]"
     ]
    },
    {
     "name": "stdout",
     "output_type": "stream",
     "text": [
      "Warning: Audio file c:\\Users\\16148\\Desktop\\Projects\\bird_call_project\\Augmented Recordings\\Dryobates_pubescens_Point_Pelee_National_Park_near__Wheatley_Essex_County_Ontario_803584_segment_11_aug_2.wav is too short or silent. Skipping.\n"
     ]
    },
    {
     "name": "stderr",
     "output_type": "stream",
     "text": [
      " 18%|█▊        | 89/500 [00:15<01:07,  6.12it/s]"
     ]
    },
    {
     "name": "stdout",
     "output_type": "stream",
     "text": [
      "Warning: Audio file c:\\Users\\16148\\Desktop\\Projects\\bird_call_project\\Augmented Recordings\\Dryobates_pubescens_Point_Pelee_National_Park_near__Wheatley_Essex_County_Ontario_803584_segment_16_aug_1.wav is too short or silent. Skipping.\n"
     ]
    },
    {
     "name": "stderr",
     "output_type": "stream",
     "text": [
      " 21%|██        | 106/500 [00:18<01:09,  5.71it/s]"
     ]
    },
    {
     "name": "stdout",
     "output_type": "stream",
     "text": [
      "Warning: Audio file c:\\Users\\16148\\Desktop\\Projects\\bird_call_project\\Augmented Recordings\\Dryobates_pubescens_Green_Township_near__Cincinnati_Hamilton_County_Ohio_676924_segment_2_aug_1.wav is too short or silent. Skipping.\n"
     ]
    },
    {
     "name": "stderr",
     "output_type": "stream",
     "text": [
      " 26%|██▋       | 132/500 [00:23<00:41,  8.93it/s]"
     ]
    },
    {
     "name": "stdout",
     "output_type": "stream",
     "text": [
      "Warning: Audio file c:\\Users\\16148\\Desktop\\Projects\\bird_call_project\\Augmented Recordings\\Dryobates_pubescens_Pelee_near__Leamington_Essex_County_Ontario_476564_segment_2_aug_2.wav is too short or silent. Skipping.\n",
      "Warning: Audio file c:\\Users\\16148\\Desktop\\Projects\\bird_call_project\\Augmented Recordings\\Dryobates_pubescens_Pelee_near__Leamington_Essex_County_Ontario_476564_segment_2_aug_3.wav is too short or silent. Skipping.\n",
      "Warning: Audio file c:\\Users\\16148\\Desktop\\Projects\\bird_call_project\\Augmented Recordings\\Dryobates_pubescens_Wegerzyn_garden_near__Dayton_Montgomery_County_Ohio_807220_segment_0_aug_1.wav is too short or silent. Skipping.\n"
     ]
    },
    {
     "name": "stderr",
     "output_type": "stream",
     "text": [
      " 45%|████▍     | 224/500 [00:36<00:34,  8.04it/s]"
     ]
    },
    {
     "name": "stdout",
     "output_type": "stream",
     "text": [
      "Warning: Audio file c:\\Users\\16148\\Desktop\\Projects\\bird_call_project\\Augmented Recordings\\Leuconotopicus_villosus_Miami_Township_near__Cleves_Hamilton_County_Ohio_775844_segment_13_aug_1.wav is too short or silent. Skipping.\n"
     ]
    },
    {
     "name": "stderr",
     "output_type": "stream",
     "text": [
      " 58%|█████▊    | 290/500 [00:45<00:25,  8.18it/s]"
     ]
    },
    {
     "name": "stdout",
     "output_type": "stream",
     "text": [
      "Warning: Audio file c:\\Users\\16148\\Desktop\\Projects\\bird_call_project\\Augmented Recordings\\Colaptes_auratus_Green_Township_near__Cincinnati_Hamilton_County_Ohio_807485_segment_21_aug_1.wav is too short or silent. Skipping.\n"
     ]
    },
    {
     "name": "stderr",
     "output_type": "stream",
     "text": [
      " 62%|██████▏   | 309/500 [00:48<00:23,  8.21it/s]"
     ]
    },
    {
     "name": "stdout",
     "output_type": "stream",
     "text": [
      "Warning: Audio file c:\\Users\\16148\\Desktop\\Projects\\bird_call_project\\Augmented Recordings\\Colaptes_auratus_Anderson_Township_near__Cincinnati_Hamilton_County_Ohio_542520_segment_4_aug_2.wav is too short or silent. Skipping.\n"
     ]
    },
    {
     "name": "stderr",
     "output_type": "stream",
     "text": [
      " 67%|██████▋   | 333/500 [00:51<00:23,  7.09it/s]"
     ]
    },
    {
     "name": "stdout",
     "output_type": "stream",
     "text": [
      "Warning: Audio file c:\\Users\\16148\\Desktop\\Projects\\bird_call_project\\Augmented Recordings\\Colaptes_auratus_Anderson_Township_near__Cincinnati_Hamilton_County_Ohio_542520_segment_12_aug_2.wav is too short or silent. Skipping.\n"
     ]
    },
    {
     "name": "stderr",
     "output_type": "stream",
     "text": [
      " 92%|█████████▏| 462/500 [01:09<00:04,  7.96it/s]"
     ]
    },
    {
     "name": "stdout",
     "output_type": "stream",
     "text": [
      "Warning: Audio file c:\\Users\\16148\\Desktop\\Projects\\bird_call_project\\Augmented Recordings\\Dryocopus_pileatus_Harrison_Township_near__Harrison_Hamilton_County_Ohio_691470_segment_32_aug_2.wav is too short or silent. Skipping.\n"
     ]
    },
    {
     "name": "stderr",
     "output_type": "stream",
     "text": [
      "100%|██████████| 500/500 [01:14<00:00,  6.70it/s]\n",
      " 11%|█         | 55/500 [00:07<00:57,  7.75it/s]"
     ]
    },
    {
     "name": "stdout",
     "output_type": "stream",
     "text": [
      "Warning: Audio file c:\\Users\\16148\\Desktop\\Projects\\bird_call_project\\Augmented Recordings\\Dryocopus_pileatus_Harrison_Township_near__Harrison_Hamilton_County_Ohio_691470_segment_63_aug_2.wav is too short or silent. Skipping.\n"
     ]
    },
    {
     "name": "stderr",
     "output_type": "stream",
     "text": [
      " 13%|█▎        | 63/500 [00:08<00:52,  8.32it/s]"
     ]
    },
    {
     "name": "stdout",
     "output_type": "stream",
     "text": [
      "Warning: Audio file c:\\Users\\16148\\Desktop\\Projects\\bird_call_project\\Augmented Recordings\\Dryocopus_pileatus_Harrison_Township_near__Harrison_Hamilton_County_Ohio_691470_segment_67_aug_1.wav is too short or silent. Skipping.\n"
     ]
    },
    {
     "name": "stderr",
     "output_type": "stream",
     "text": [
      " 18%|█▊        | 91/500 [00:12<00:47,  8.70it/s]"
     ]
    },
    {
     "name": "stdout",
     "output_type": "stream",
     "text": [
      "Warning: Audio file c:\\Users\\16148\\Desktop\\Projects\\bird_call_project\\Augmented Recordings\\Dryocopus_pileatus_Harrison_Township_near__Harrison_Hamilton_County_Ohio_691470_segment_76_aug_2.wav is too short or silent. Skipping.\n",
      "Warning: Audio file c:\\Users\\16148\\Desktop\\Projects\\bird_call_project\\Augmented Recordings\\Dryocopus_pileatus_Harrison_Township_near__Harrison_Hamilton_County_Ohio_691470_segment_76_aug_3.wav is too short or silent. Skipping.\n"
     ]
    },
    {
     "name": "stderr",
     "output_type": "stream",
     "text": [
      " 20%|██        | 101/500 [00:13<00:48,  8.15it/s]"
     ]
    },
    {
     "name": "stdout",
     "output_type": "stream",
     "text": [
      "Warning: Audio file c:\\Users\\16148\\Desktop\\Projects\\bird_call_project\\Augmented Recordings\\Dryocopus_pileatus_Harrison_Township_near__Harrison_Hamilton_County_Ohio_728222_segment_2_aug_3.wav is too short or silent. Skipping.\n"
     ]
    },
    {
     "name": "stderr",
     "output_type": "stream",
     "text": [
      " 22%|██▏       | 108/500 [00:14<00:46,  8.35it/s]"
     ]
    },
    {
     "name": "stdout",
     "output_type": "stream",
     "text": [
      "Warning: Audio file c:\\Users\\16148\\Desktop\\Projects\\bird_call_project\\Augmented Recordings\\Dryocopus_pileatus_Harrison_Township_near__Harrison_Hamilton_County_Ohio_728222_segment_5_aug_1.wav is too short or silent. Skipping.\n"
     ]
    },
    {
     "name": "stderr",
     "output_type": "stream",
     "text": [
      " 28%|██▊       | 141/500 [00:19<00:42,  8.37it/s]"
     ]
    },
    {
     "name": "stdout",
     "output_type": "stream",
     "text": [
      "Warning: Audio file c:\\Users\\16148\\Desktop\\Projects\\bird_call_project\\Augmented Recordings\\Sayornis_phoebe_Harrison_Township_near__Harrison_Hamilton_County_Ohio_713591_segment_10_aug_1.wav is too short or silent. Skipping.\n"
     ]
    },
    {
     "name": "stderr",
     "output_type": "stream",
     "text": [
      " 29%|██▉       | 145/500 [00:19<00:40,  8.67it/s]"
     ]
    },
    {
     "name": "stdout",
     "output_type": "stream",
     "text": [
      "Warning: Audio file c:\\Users\\16148\\Desktop\\Projects\\bird_call_project\\Augmented Recordings\\Sayornis_phoebe_Harrison_Township_near__Harrison_Hamilton_County_Ohio_713591_segment_11_aug_2.wav is too short or silent. Skipping.\n"
     ]
    },
    {
     "name": "stderr",
     "output_type": "stream",
     "text": [
      " 37%|███▋      | 186/500 [00:25<00:39,  7.98it/s]"
     ]
    },
    {
     "name": "stdout",
     "output_type": "stream",
     "text": [
      "Warning: Audio file c:\\Users\\16148\\Desktop\\Projects\\bird_call_project\\Augmented Recordings\\Sayornis_phoebe_Harrison_Township_near__Harrison_Hamilton_County_Ohio_713589_segment_4_aug_1.wav is too short or silent. Skipping.\n"
     ]
    },
    {
     "name": "stderr",
     "output_type": "stream",
     "text": [
      " 40%|███▉      | 198/500 [00:27<00:40,  7.41it/s]"
     ]
    },
    {
     "name": "stdout",
     "output_type": "stream",
     "text": [
      "Warning: Audio file c:\\Users\\16148\\Desktop\\Projects\\bird_call_project\\Augmented Recordings\\Sayornis_phoebe_Harrison_Township_near__Harrison_Hamilton_County_Ohio_713589_segment_8_aug_1.wav is too short or silent. Skipping.\n"
     ]
    },
    {
     "name": "stderr",
     "output_type": "stream",
     "text": [
      " 47%|████▋     | 235/500 [00:32<00:41,  6.38it/s]"
     ]
    },
    {
     "name": "stdout",
     "output_type": "stream",
     "text": [
      "Warning: Audio file c:\\Users\\16148\\Desktop\\Projects\\bird_call_project\\Augmented Recordings\\Sayornis_phoebe_Pelee_near__Leamington_Essex_County_Ontario_476566_segment_11_aug_2.wav is too short or silent. Skipping.\n"
     ]
    },
    {
     "name": "stderr",
     "output_type": "stream",
     "text": [
      " 48%|████▊     | 238/500 [00:33<00:39,  6.70it/s]"
     ]
    },
    {
     "name": "stdout",
     "output_type": "stream",
     "text": [
      "Warning: Audio file c:\\Users\\16148\\Desktop\\Projects\\bird_call_project\\Augmented Recordings\\Sayornis_phoebe_Pelee_near__Leamington_Essex_County_Ontario_476566_segment_12_aug_2.wav is too short or silent. Skipping.\n"
     ]
    },
    {
     "name": "stderr",
     "output_type": "stream",
     "text": [
      " 54%|█████▍    | 270/500 [00:37<00:29,  7.89it/s]"
     ]
    },
    {
     "name": "stdout",
     "output_type": "stream",
     "text": [
      "Warning: Audio file c:\\Users\\16148\\Desktop\\Projects\\bird_call_project\\Augmented Recordings\\Contopus_virens_Whitewater_Township_near__Cleves_Hamilton_County_Ohio_928713_segment_0_aug_1.wav is too short or silent. Skipping.\n"
     ]
    },
    {
     "name": "stderr",
     "output_type": "stream",
     "text": [
      " 61%|██████    | 305/500 [00:42<00:24,  7.98it/s]"
     ]
    },
    {
     "name": "stdout",
     "output_type": "stream",
     "text": [
      "Warning: Audio file c:\\Users\\16148\\Desktop\\Projects\\bird_call_project\\Augmented Recordings\\Contopus_virens_Whitewater_Township_near__Cleves_Hamilton_County_Ohio_928713_segment_11_aug_3.wav is too short or silent. Skipping.\n"
     ]
    },
    {
     "name": "stderr",
     "output_type": "stream",
     "text": [
      " 68%|██████▊   | 339/500 [00:47<00:17,  9.03it/s]"
     ]
    },
    {
     "name": "stdout",
     "output_type": "stream",
     "text": [
      "Warning: Audio file c:\\Users\\16148\\Desktop\\Projects\\bird_call_project\\Augmented Recordings\\Contopus_virens_Whitewater_Township_near__Cleves_Hamilton_County_Ohio_817712_segment_10_aug_1.wav is too short or silent. Skipping.\n"
     ]
    },
    {
     "name": "stderr",
     "output_type": "stream",
     "text": [
      " 71%|███████   | 355/500 [00:49<00:18,  7.65it/s]"
     ]
    },
    {
     "name": "stdout",
     "output_type": "stream",
     "text": [
      "Warning: Audio file c:\\Users\\16148\\Desktop\\Projects\\bird_call_project\\Augmented Recordings\\Contopus_virens_Whitewater_Township_near__Cleves_Hamilton_County_Ohio_817712_segment_15_aug_2.wav is too short or silent. Skipping.\n"
     ]
    },
    {
     "name": "stderr",
     "output_type": "stream",
     "text": [
      " 73%|███████▎  | 363/500 [00:50<00:22,  6.22it/s]"
     ]
    },
    {
     "name": "stdout",
     "output_type": "stream",
     "text": [
      "Warning: Audio file c:\\Users\\16148\\Desktop\\Projects\\bird_call_project\\Augmented Recordings\\Contopus_virens_Whitewater_Township_near__Cleves_Hamilton_County_Ohio_817712_segment_18_aug_2.wav is too short or silent. Skipping.\n"
     ]
    },
    {
     "name": "stderr",
     "output_type": "stream",
     "text": [
      " 75%|███████▌  | 375/500 [00:52<00:22,  5.55it/s]"
     ]
    },
    {
     "name": "stdout",
     "output_type": "stream",
     "text": [
      "Warning: Audio file c:\\Users\\16148\\Desktop\\Projects\\bird_call_project\\Augmented Recordings\\Contopus_virens_Whitewater_Township_near__Cleves_Hamilton_County_Ohio_817712_segment_22_aug_2.wav is too short or silent. Skipping.\n"
     ]
    },
    {
     "name": "stderr",
     "output_type": "stream",
     "text": [
      " 85%|████████▌ | 425/500 [01:03<00:12,  5.83it/s]"
     ]
    },
    {
     "name": "stdout",
     "output_type": "stream",
     "text": [
      "Warning: Audio file c:\\Users\\16148\\Desktop\\Projects\\bird_call_project\\Augmented Recordings\\Contopus_virens_Harrison_Township_near__Harrison_Hamilton_County_Ohio_726814_segment_5_aug_3.wav is too short or silent. Skipping.\n"
     ]
    },
    {
     "name": "stderr",
     "output_type": "stream",
     "text": [
      " 87%|████████▋ | 434/500 [01:05<00:10,  6.13it/s]"
     ]
    },
    {
     "name": "stdout",
     "output_type": "stream",
     "text": [
      "Warning: Audio file c:\\Users\\16148\\Desktop\\Projects\\bird_call_project\\Augmented Recordings\\Contopus_virens_Harrison_Township_near__Harrison_Hamilton_County_Ohio_726814_segment_8_aug_3.wav is too short or silent. Skipping.\n"
     ]
    },
    {
     "name": "stderr",
     "output_type": "stream",
     "text": [
      " 89%|████████▉ | 447/500 [01:07<00:08,  6.05it/s]"
     ]
    },
    {
     "name": "stdout",
     "output_type": "stream",
     "text": [
      "Warning: Audio file c:\\Users\\16148\\Desktop\\Projects\\bird_call_project\\Augmented Recordings\\Contopus_virens_Harrison_Township_near__Harrison_Hamilton_County_Ohio_726814_segment_13_aug_2.wav is too short or silent. Skipping.\n"
     ]
    },
    {
     "name": "stderr",
     "output_type": "stream",
     "text": [
      " 96%|█████████▋| 482/500 [01:14<00:03,  5.96it/s]"
     ]
    },
    {
     "name": "stdout",
     "output_type": "stream",
     "text": [
      "Warning: Audio file c:\\Users\\16148\\Desktop\\Projects\\bird_call_project\\Augmented Recordings\\Contopus_virens_Magee_Marsh_boardwalk_west_end_103501_segment_11_aug_1.wav is too short or silent. Skipping.\n"
     ]
    },
    {
     "name": "stderr",
     "output_type": "stream",
     "text": [
      "100%|██████████| 500/500 [01:17<00:00,  6.48it/s]\n",
      " 11%|█▏        | 57/500 [00:08<00:56,  7.91it/s]"
     ]
    },
    {
     "name": "stdout",
     "output_type": "stream",
     "text": [
      "Warning: Audio file c:\\Users\\16148\\Desktop\\Projects\\bird_call_project\\Augmented Recordings\\Contopus_virens_Magee_Marsh_boardwalk_west_end_103501_segment_35_aug_3.wav is too short or silent. Skipping.\n"
     ]
    },
    {
     "name": "stderr",
     "output_type": "stream",
     "text": [
      " 14%|█▍        | 72/500 [00:10<00:54,  7.86it/s]"
     ]
    },
    {
     "name": "stdout",
     "output_type": "stream",
     "text": [
      "Warning: Audio file c:\\Users\\16148\\Desktop\\Projects\\bird_call_project\\Augmented Recordings\\Contopus_virens_Magee_Marsh_boardwalk_west_end_103501_segment_41_aug_3.wav is too short or silent. Skipping.\n"
     ]
    },
    {
     "name": "stderr",
     "output_type": "stream",
     "text": [
      " 31%|███       | 156/500 [00:21<00:43,  7.90it/s]"
     ]
    },
    {
     "name": "stdout",
     "output_type": "stream",
     "text": [
      "Warning: Audio file c:\\Users\\16148\\Desktop\\Projects\\bird_call_project\\Augmented Recordings\\Contopus_virens_Whitewater_Township_near__Cleves_Hamilton_County_Ohio_928711_segment_23_aug_3.wav is too short or silent. Skipping.\n"
     ]
    },
    {
     "name": "stderr",
     "output_type": "stream",
     "text": [
      " 35%|███▍      | 173/500 [00:23<00:40,  8.12it/s]"
     ]
    },
    {
     "name": "stdout",
     "output_type": "stream",
     "text": [
      "Warning: Audio file c:\\Users\\16148\\Desktop\\Projects\\bird_call_project\\Augmented Recordings\\Empidonax_virescens_Miami_Township_near__Cleves_Hamilton_County_Ohio_807573_segment_3_aug_2.wav is too short or silent. Skipping.\n"
     ]
    },
    {
     "name": "stderr",
     "output_type": "stream",
     "text": [
      " 65%|██████▌   | 325/500 [00:44<00:21,  8.30it/s]"
     ]
    },
    {
     "name": "stdout",
     "output_type": "stream",
     "text": [
      "Warning: Audio file c:\\Users\\16148\\Desktop\\Projects\\bird_call_project\\Augmented Recordings\\Empidonax_virescens_Harrison_Township_near__Harrison_Hamilton_County_Ohio_728275_segment_5_aug_1.wav is too short or silent. Skipping.\n"
     ]
    },
    {
     "name": "stderr",
     "output_type": "stream",
     "text": [
      " 71%|███████   | 354/500 [00:48<00:18,  7.93it/s]"
     ]
    },
    {
     "name": "stdout",
     "output_type": "stream",
     "text": [
      "Warning: Audio file c:\\Users\\16148\\Desktop\\Projects\\bird_call_project\\Augmented Recordings\\Empidonax_virescens_Clifton_Gorge_NP_near__Clifton_Greene_County_Ohio_775046_segment_8_aug_3.wav is too short or silent. Skipping.\n"
     ]
    },
    {
     "name": "stderr",
     "output_type": "stream",
     "text": [
      " 79%|███████▉  | 394/500 [00:55<00:13,  8.10it/s]"
     ]
    },
    {
     "name": "stdout",
     "output_type": "stream",
     "text": [
      "Warning: Audio file c:\\Users\\16148\\Desktop\\Projects\\bird_call_project\\Augmented Recordings\\Empidonax_virescens_Harrison_Township_near__Harrison_Hamilton_County_Ohio_728272_segment_1_aug_1.wav is too short or silent. Skipping.\n"
     ]
    },
    {
     "name": "stderr",
     "output_type": "stream",
     "text": [
      " 92%|█████████▏| 459/500 [01:05<00:07,  5.38it/s]"
     ]
    },
    {
     "name": "stdout",
     "output_type": "stream",
     "text": [
      "Warning: Audio file c:\\Users\\16148\\Desktop\\Projects\\bird_call_project\\Augmented Recordings\\Empidonax_virescens_Miami_Township_near__North_Bend_Hamilton_County_Ohio_670407_segment_16_aug_1.wav is too short or silent. Skipping.\n"
     ]
    },
    {
     "name": "stderr",
     "output_type": "stream",
     "text": [
      " 99%|█████████▉| 494/500 [01:11<00:00,  7.87it/s]"
     ]
    },
    {
     "name": "stdout",
     "output_type": "stream",
     "text": [
      "Warning: Audio file c:\\Users\\16148\\Desktop\\Projects\\bird_call_project\\Augmented Recordings\\Empidonax_traillii_Whitewater_Township_near__White_Water_Park_Hamilton_County_Ohio_807543_segment_1_aug_2.wav is too short or silent. Skipping.\n"
     ]
    },
    {
     "name": "stderr",
     "output_type": "stream",
     "text": [
      "100%|██████████| 500/500 [01:12<00:00,  6.88it/s]\n",
      "  9%|▉         | 44/500 [00:06<00:50,  9.10it/s]"
     ]
    },
    {
     "name": "stdout",
     "output_type": "stream",
     "text": [
      "Warning: Audio file c:\\Users\\16148\\Desktop\\Projects\\bird_call_project\\Augmented Recordings\\Empidonax_traillii_Magee_Marsh_Ohio_298581_segment_3_aug_1.wav is too short or silent. Skipping.\n",
      "Warning: Audio file c:\\Users\\16148\\Desktop\\Projects\\bird_call_project\\Augmented Recordings\\Empidonax_traillii_Magee_Marsh_Ohio_298581_segment_3_aug_2.wav is too short or silent. Skipping.\n"
     ]
    },
    {
     "name": "stderr",
     "output_type": "stream",
     "text": [
      " 18%|█▊        | 90/500 [00:12<00:48,  8.46it/s]"
     ]
    },
    {
     "name": "stdout",
     "output_type": "stream",
     "text": [
      "Warning: Audio file c:\\Users\\16148\\Desktop\\Projects\\bird_call_project\\Augmented Recordings\\Empidonax_traillii_Magee_Marsh_Ohio_298355_segment_13_aug_2.wav is too short or silent. Skipping.\n"
     ]
    },
    {
     "name": "stderr",
     "output_type": "stream",
     "text": [
      " 25%|██▌       | 127/500 [00:17<00:57,  6.48it/s]"
     ]
    },
    {
     "name": "stdout",
     "output_type": "stream",
     "text": [
      "Warning: Audio file c:\\Users\\16148\\Desktop\\Projects\\bird_call_project\\Augmented Recordings\\Empidonax_traillii_Whitewater_Township_near__Harrison_Hamilton_County_Ohio_726752_segment_11_aug_3.wav is too short or silent. Skipping.\n"
     ]
    },
    {
     "name": "stderr",
     "output_type": "stream",
     "text": [
      " 28%|██▊       | 140/500 [00:19<00:49,  7.27it/s]"
     ]
    },
    {
     "name": "stdout",
     "output_type": "stream",
     "text": [
      "Warning: Audio file c:\\Users\\16148\\Desktop\\Projects\\bird_call_project\\Augmented Recordings\\Empidonax_traillii_Whitewater_Township_near__Harrison_Hamilton_County_Ohio_726752_segment_16_aug_1.wav is too short or silent. Skipping.\n"
     ]
    },
    {
     "name": "stderr",
     "output_type": "stream",
     "text": [
      " 32%|███▏      | 161/500 [00:22<00:44,  7.57it/s]"
     ]
    },
    {
     "name": "stdout",
     "output_type": "stream",
     "text": [
      "Warning: Audio file c:\\Users\\16148\\Desktop\\Projects\\bird_call_project\\Augmented Recordings\\Empidonax_traillii_Franklin_Township_near__Wooster_Wayne_County_Ohio_418568_segment_6_aug_1.wav is too short or silent. Skipping.\n"
     ]
    },
    {
     "name": "stderr",
     "output_type": "stream",
     "text": [
      " 41%|████      | 203/500 [00:28<00:35,  8.40it/s]"
     ]
    },
    {
     "name": "stdout",
     "output_type": "stream",
     "text": [
      "Warning: Audio file c:\\Users\\16148\\Desktop\\Projects\\bird_call_project\\Augmented Recordings\\Empidonax_traillii_Magee_Marsh_Ohio_298575_segment_5_aug_1.wav is too short or silent. Skipping.\n",
      "Warning: Audio file c:\\Users\\16148\\Desktop\\Projects\\bird_call_project\\Augmented Recordings\\Empidonax_traillii_Magee_Marsh_Ohio_298575_segment_5_aug_3.wav is too short or silent. Skipping.\n"
     ]
    },
    {
     "name": "stderr",
     "output_type": "stream",
     "text": [
      " 43%|████▎     | 214/500 [00:29<00:33,  8.50it/s]"
     ]
    },
    {
     "name": "stdout",
     "output_type": "stream",
     "text": [
      "Warning: Audio file c:\\Users\\16148\\Desktop\\Projects\\bird_call_project\\Augmented Recordings\\Empidonax_traillii_Magee_Marsh_Ohio_298575_segment_8_aug_3.wav is too short or silent. Skipping.\n"
     ]
    },
    {
     "name": "stderr",
     "output_type": "stream",
     "text": [
      " 51%|█████     | 254/500 [00:37<00:46,  5.33it/s]"
     ]
    },
    {
     "name": "stdout",
     "output_type": "stream",
     "text": [
      "Warning: Audio file c:\\Users\\16148\\Desktop\\Projects\\bird_call_project\\Augmented Recordings\\Empidonax_traillii_Magee_Marsh_Ohio_298575_segment_22_aug_2.wav is too short or silent. Skipping.\n"
     ]
    },
    {
     "name": "stderr",
     "output_type": "stream",
     "text": [
      " 60%|█████▉    | 299/500 [00:46<00:30,  6.52it/s]"
     ]
    },
    {
     "name": "stdout",
     "output_type": "stream",
     "text": [
      "Warning: Audio file c:\\Users\\16148\\Desktop\\Projects\\bird_call_project\\Augmented Recordings\\Empidonax_traillii_Magee_Marsh_Ohio_298575_segment_38_aug_1.wav is too short or silent. Skipping.\n"
     ]
    },
    {
     "name": "stderr",
     "output_type": "stream",
     "text": [
      " 64%|██████▍   | 322/500 [00:49<00:22,  8.00it/s]"
     ]
    },
    {
     "name": "stdout",
     "output_type": "stream",
     "text": [
      "Warning: Audio file c:\\Users\\16148\\Desktop\\Projects\\bird_call_project\\Augmented Recordings\\Empidonax_traillii_Spring_Valley_near__Waynesville_Greene_Cty_Ohio_477603_segment_6_aug_3.wav is too short or silent. Skipping.\n"
     ]
    },
    {
     "name": "stderr",
     "output_type": "stream",
     "text": [
      " 67%|██████▋   | 334/500 [00:51<00:19,  8.43it/s]"
     ]
    },
    {
     "name": "stdout",
     "output_type": "stream",
     "text": [
      "Warning: Audio file c:\\Users\\16148\\Desktop\\Projects\\bird_call_project\\Augmented Recordings\\Empidonax_traillii_Spring_Valley_near__Waynesville_Greene_Cty_Ohio_477603_segment_10_aug_3.wav is too short or silent. Skipping.\n"
     ]
    },
    {
     "name": "stderr",
     "output_type": "stream",
     "text": [
      " 76%|███████▌  | 380/500 [00:57<00:14,  8.50it/s]"
     ]
    },
    {
     "name": "stdout",
     "output_type": "stream",
     "text": [
      "Warning: Audio file c:\\Users\\16148\\Desktop\\Projects\\bird_call_project\\Augmented Recordings\\Tyrannus_tyrannus_Point_Pelee_National_Park_near__Wheatley_Essex_County_Ontario_805523_segment_2_aug_1.wav is too short or silent. Skipping.\n"
     ]
    },
    {
     "name": "stderr",
     "output_type": "stream",
     "text": [
      " 87%|████████▋ | 434/500 [01:05<00:07,  8.85it/s]"
     ]
    },
    {
     "name": "stdout",
     "output_type": "stream",
     "text": [
      "Warning: Audio file c:\\Users\\16148\\Desktop\\Projects\\bird_call_project\\Augmented Recordings\\Tyrannus_tyrannus_Dunham_Recreation_Complex_near__Cincinnati_Hamilton_County_Ohio_646450_segment_4_aug_1.wav is too short or silent. Skipping.\n"
     ]
    },
    {
     "name": "stderr",
     "output_type": "stream",
     "text": [
      " 93%|█████████▎| 466/500 [01:09<00:03,  8.57it/s]"
     ]
    },
    {
     "name": "stdout",
     "output_type": "stream",
     "text": [
      "Warning: Audio file c:\\Users\\16148\\Desktop\\Projects\\bird_call_project\\Augmented Recordings\\Myiarchus_crinitus_Miami_Township_near__North_Bend_Hamilton_County_Ohio_646113_segment_9_aug_3.wav is too short or silent. Skipping.\n",
      "Warning: Audio file c:\\Users\\16148\\Desktop\\Projects\\bird_call_project\\Augmented Recordings\\Myiarchus_crinitus_Miami_Township_near__North_Bend_Hamilton_County_Ohio_646113_segment_10_aug_2.wav is too short or silent. Skipping.\n"
     ]
    },
    {
     "name": "stderr",
     "output_type": "stream",
     "text": [
      "100%|██████████| 500/500 [01:14<00:00,  6.74it/s]\n",
      "  2%|▏         | 10/500 [00:01<01:05,  7.51it/s]"
     ]
    },
    {
     "name": "stdout",
     "output_type": "stream",
     "text": [
      "Warning: Audio file c:\\Users\\16148\\Desktop\\Projects\\bird_call_project\\Augmented Recordings\\Myiarchus_crinitus_Miami_Township_near__North_Bend_Hamilton_County_Ohio_646113_segment_24_aug_2.wav is too short or silent. Skipping.\n"
     ]
    },
    {
     "name": "stderr",
     "output_type": "stream",
     "text": [
      "  4%|▎         | 18/500 [00:02<00:58,  8.23it/s]"
     ]
    },
    {
     "name": "stdout",
     "output_type": "stream",
     "text": [
      "Warning: Audio file c:\\Users\\16148\\Desktop\\Projects\\bird_call_project\\Augmented Recordings\\Myiarchus_crinitus_Miami_Township_near__North_Bend_Hamilton_County_Ohio_646113_segment_27_aug_1.wav is too short or silent. Skipping.\n"
     ]
    },
    {
     "name": "stderr",
     "output_type": "stream",
     "text": [
      "  7%|▋         | 36/500 [00:04<00:57,  8.04it/s]"
     ]
    },
    {
     "name": "stdout",
     "output_type": "stream",
     "text": [
      "Warning: Audio file c:\\Users\\16148\\Desktop\\Projects\\bird_call_project\\Augmented Recordings\\Myiarchus_crinitus_Miami_Township_near__North_Bend_Hamilton_County_Ohio_646113_segment_33_aug_1.wav is too short or silent. Skipping.\n"
     ]
    },
    {
     "name": "stderr",
     "output_type": "stream",
     "text": [
      " 10%|█         | 51/500 [00:06<00:56,  8.01it/s]"
     ]
    },
    {
     "name": "stdout",
     "output_type": "stream",
     "text": [
      "Warning: Audio file c:\\Users\\16148\\Desktop\\Projects\\bird_call_project\\Augmented Recordings\\Myiarchus_crinitus_Miami_Township_near__North_Bend_Hamilton_County_Ohio_646113_segment_38_aug_1.wav is too short or silent. Skipping.\n"
     ]
    },
    {
     "name": "stderr",
     "output_type": "stream",
     "text": [
      " 17%|█▋        | 85/500 [00:11<00:45,  9.21it/s]"
     ]
    },
    {
     "name": "stdout",
     "output_type": "stream",
     "text": [
      "Warning: Audio file c:\\Users\\16148\\Desktop\\Projects\\bird_call_project\\Augmented Recordings\\Myiarchus_crinitus_Spring_Valley_near__Waynesville_Greene_Cty_Ohio_477599_segment_8_aug_1.wav is too short or silent. Skipping.\n",
      "Warning: Audio file c:\\Users\\16148\\Desktop\\Projects\\bird_call_project\\Augmented Recordings\\Myiarchus_crinitus_Spring_Valley_near__Waynesville_Greene_Cty_Ohio_477599_segment_8_aug_2.wav is too short or silent. Skipping.\n"
     ]
    },
    {
     "name": "stderr",
     "output_type": "stream",
     "text": [
      " 19%|█▉        | 94/500 [00:12<00:47,  8.56it/s]"
     ]
    },
    {
     "name": "stdout",
     "output_type": "stream",
     "text": [
      "Warning: Audio file c:\\Users\\16148\\Desktop\\Projects\\bird_call_project\\Augmented Recordings\\Myiarchus_crinitus_Spring_Valley_near__Waynesville_Greene_Cty_Ohio_477599_segment_11_aug_2.wav is too short or silent. Skipping.\n",
      "Warning: Audio file c:\\Users\\16148\\Desktop\\Projects\\bird_call_project\\Augmented Recordings\\Myiarchus_crinitus_Spring_Valley_near__Waynesville_Greene_Cty_Ohio_477599_segment_12_aug_1.wav is too short or silent. Skipping.\n"
     ]
    },
    {
     "name": "stderr",
     "output_type": "stream",
     "text": [
      " 32%|███▏      | 160/500 [00:22<00:51,  6.57it/s]"
     ]
    },
    {
     "name": "stdout",
     "output_type": "stream",
     "text": [
      "Warning: Audio file c:\\Users\\16148\\Desktop\\Projects\\bird_call_project\\Augmented Recordings\\Myiarchus_crinitus_Spring_Valley_near__Waynesville_Greene_Cty_Ohio_477599_segment_33_aug_2.wav is too short or silent. Skipping.\n"
     ]
    },
    {
     "name": "stderr",
     "output_type": "stream",
     "text": [
      " 38%|███▊      | 190/500 [00:27<00:46,  6.70it/s]"
     ]
    },
    {
     "name": "stdout",
     "output_type": "stream",
     "text": [
      "Warning: Audio file c:\\Users\\16148\\Desktop\\Projects\\bird_call_project\\Augmented Recordings\\Myiarchus_crinitus_Berkshire_near__Galena_Delaware_Ohio_124160_segment_3_aug_2.wav is too short or silent. Skipping.\n"
     ]
    },
    {
     "name": "stderr",
     "output_type": "stream",
     "text": [
      " 43%|████▎     | 217/500 [00:31<00:37,  7.47it/s]"
     ]
    },
    {
     "name": "stdout",
     "output_type": "stream",
     "text": [
      "Warning: Audio file c:\\Users\\16148\\Desktop\\Projects\\bird_call_project\\Augmented Recordings\\Myiarchus_crinitus_Berkshire_near__Galena_Delaware_Ohio_124159_segment_0_aug_2.wav is too short or silent. Skipping.\n",
      "Warning: Audio file c:\\Users\\16148\\Desktop\\Projects\\bird_call_project\\Augmented Recordings\\Myiarchus_crinitus_Berkshire_near__Galena_Delaware_Ohio_124159_segment_0_aug_3.wav is too short or silent. Skipping.\n"
     ]
    },
    {
     "name": "stderr",
     "output_type": "stream",
     "text": [
      " 53%|█████▎    | 267/500 [00:39<00:29,  7.97it/s]"
     ]
    },
    {
     "name": "stdout",
     "output_type": "stream",
     "text": [
      "Warning: Audio file c:\\Users\\16148\\Desktop\\Projects\\bird_call_project\\Augmented Recordings\\Vireo_olivaceus_Lawrence_Woods_SNP_417986_segment_3_aug_1.wav is too short or silent. Skipping.\n"
     ]
    },
    {
     "name": "stderr",
     "output_type": "stream",
     "text": [
      " 68%|██████▊   | 340/500 [00:48<00:20,  7.89it/s]"
     ]
    },
    {
     "name": "stdout",
     "output_type": "stream",
     "text": [
      "Warning: Audio file c:\\Users\\16148\\Desktop\\Projects\\bird_call_project\\Augmented Recordings\\Vireo_olivaceus_Magee_Marsh_-_boardwalk_Lucas_County_Ohio_827607_segment_23_aug_2.wav is too short or silent. Skipping.\n"
     ]
    },
    {
     "name": "stderr",
     "output_type": "stream",
     "text": [
      " 75%|███████▍  | 373/500 [00:53<00:19,  6.60it/s]"
     ]
    },
    {
     "name": "stdout",
     "output_type": "stream",
     "text": [
      "Warning: Audio file c:\\Users\\16148\\Desktop\\Projects\\bird_call_project\\Augmented Recordings\\Vireo_gilvus_Magee_Marsh_-_boardwalk_Lucas_County_Ohio_827591_segment_5_aug_2.wav is too short or silent. Skipping.\n"
     ]
    },
    {
     "name": "stderr",
     "output_type": "stream",
     "text": [
      " 75%|███████▌  | 376/500 [00:53<00:19,  6.52it/s]"
     ]
    },
    {
     "name": "stdout",
     "output_type": "stream",
     "text": [
      "Warning: Audio file c:\\Users\\16148\\Desktop\\Projects\\bird_call_project\\Augmented Recordings\\Vireo_gilvus_Magee_Marsh_-_boardwalk_Lucas_County_Ohio_827591_segment_6_aug_2.wav is too short or silent. Skipping.\n"
     ]
    },
    {
     "name": "stderr",
     "output_type": "stream",
     "text": [
      " 82%|████████▏ | 411/500 [01:00<00:17,  4.97it/s]"
     ]
    },
    {
     "name": "stdout",
     "output_type": "stream",
     "text": [
      "Warning: Audio file c:\\Users\\16148\\Desktop\\Projects\\bird_call_project\\Augmented Recordings\\Vireo_gilvus_Magee_Marsh_-_boardwalk_Lucas_County_Ohio_827591_segment_18_aug_2.wav is too short or silent. Skipping.\n"
     ]
    },
    {
     "name": "stderr",
     "output_type": "stream",
     "text": [
      " 88%|████████▊ | 442/500 [01:06<00:11,  4.97it/s]"
     ]
    },
    {
     "name": "stdout",
     "output_type": "stream",
     "text": [
      "Warning: Audio file c:\\Users\\16148\\Desktop\\Projects\\bird_call_project\\Augmented Recordings\\Vireo_gilvus_Magee_Marsh_-_boardwalk_Lucas_County_Ohio_827590_segment_7_aug_3.wav is too short or silent. Skipping.\n"
     ]
    },
    {
     "name": "stderr",
     "output_type": "stream",
     "text": [
      " 89%|████████▉ | 445/500 [01:07<00:10,  5.42it/s]"
     ]
    },
    {
     "name": "stdout",
     "output_type": "stream",
     "text": [
      "Warning: Audio file c:\\Users\\16148\\Desktop\\Projects\\bird_call_project\\Augmented Recordings\\Vireo_gilvus_Magee_Marsh_-_boardwalk_Lucas_County_Ohio_827590_segment_8_aug_2.wav is too short or silent. Skipping.\n"
     ]
    },
    {
     "name": "stderr",
     "output_type": "stream",
     "text": [
      " 90%|█████████ | 450/500 [01:08<00:07,  6.65it/s]"
     ]
    },
    {
     "name": "stdout",
     "output_type": "stream",
     "text": [
      "Warning: Audio file c:\\Users\\16148\\Desktop\\Projects\\bird_call_project\\Augmented Recordings\\Vireo_gilvus_Magee_Marsh_-_boardwalk_Lucas_County_Ohio_827590_segment_10_aug_1.wav is too short or silent. Skipping.\n"
     ]
    },
    {
     "name": "stderr",
     "output_type": "stream",
     "text": [
      " 95%|█████████▍| 473/500 [01:11<00:03,  8.31it/s]"
     ]
    },
    {
     "name": "stdout",
     "output_type": "stream",
     "text": [
      "Warning: Audio file c:\\Users\\16148\\Desktop\\Projects\\bird_call_project\\Augmented Recordings\\Vireo_gilvus_Magee_Marsh_-_boardwalk_Lucas_County_Ohio_827590_segment_17_aug_3.wav is too short or silent. Skipping.\n"
     ]
    },
    {
     "name": "stderr",
     "output_type": "stream",
     "text": [
      "100%|██████████| 500/500 [01:16<00:00,  6.57it/s]\n",
      "  2%|▏         | 10/500 [00:01<01:09,  7.00it/s]"
     ]
    },
    {
     "name": "stdout",
     "output_type": "stream",
     "text": [
      "Warning: Audio file c:\\Users\\16148\\Desktop\\Projects\\bird_call_project\\Augmented Recordings\\Vireo_gilvus_Magee_Marsh_-_boardwalk_Lucas_County_Ohio_827590_segment_30_aug_1.wav is too short or silent. Skipping.\n"
     ]
    },
    {
     "name": "stderr",
     "output_type": "stream",
     "text": [
      " 12%|█▏        | 62/500 [00:09<01:19,  5.49it/s]"
     ]
    },
    {
     "name": "stdout",
     "output_type": "stream",
     "text": [
      "Warning: Audio file c:\\Users\\16148\\Desktop\\Projects\\bird_call_project\\Augmented Recordings\\Vireo_gilvus_Magee_Marsh_-_boardwalk_Lucas_County_Ohio_827590_segment_47_aug_3.wav is too short or silent. Skipping.\n"
     ]
    },
    {
     "name": "stderr",
     "output_type": "stream",
     "text": [
      " 16%|█▌        | 78/500 [00:12<01:27,  4.83it/s]"
     ]
    },
    {
     "name": "stdout",
     "output_type": "stream",
     "text": [
      "Warning: Audio file c:\\Users\\16148\\Desktop\\Projects\\bird_call_project\\Augmented Recordings\\Vireo_gilvus_Ross_Township_near__Ross_Butler_County_Ohio_807514_segment_5_aug_1.wav is too short or silent. Skipping.\n"
     ]
    },
    {
     "name": "stderr",
     "output_type": "stream",
     "text": [
      " 19%|█▊        | 93/500 [00:15<01:12,  5.59it/s]"
     ]
    },
    {
     "name": "stdout",
     "output_type": "stream",
     "text": [
      "Warning: Audio file c:\\Users\\16148\\Desktop\\Projects\\bird_call_project\\Augmented Recordings\\Vireo_gilvus_Ross_Township_near__Ross_Butler_County_Ohio_807514_segment_9_aug_3.wav is too short or silent. Skipping.\n"
     ]
    },
    {
     "name": "stderr",
     "output_type": "stream",
     "text": [
      " 30%|██▉       | 149/500 [00:27<01:05,  5.34it/s]"
     ]
    },
    {
     "name": "stdout",
     "output_type": "stream",
     "text": [
      "Warning: Audio file c:\\Users\\16148\\Desktop\\Projects\\bird_call_project\\Augmented Recordings\\Vireo_gilvus_Point_Pelee_National_Park_near__Wheatley_Essex_County_Ontario_806076_segment_5_aug_2.wav is too short or silent. Skipping.\n"
     ]
    },
    {
     "name": "stderr",
     "output_type": "stream",
     "text": [
      " 41%|████      | 204/500 [00:35<00:37,  7.89it/s]"
     ]
    },
    {
     "name": "stdout",
     "output_type": "stream",
     "text": [
      "Warning: Audio file c:\\Users\\16148\\Desktop\\Projects\\bird_call_project\\Augmented Recordings\\Vireo_gilvus_Whitewater_Township_near__Harrison_Hamilton_County_Ohio_726753_segment_3_aug_3.wav is too short or silent. Skipping.\n"
     ]
    },
    {
     "name": "stderr",
     "output_type": "stream",
     "text": [
      " 42%|████▏     | 208/500 [00:35<00:36,  8.08it/s]"
     ]
    },
    {
     "name": "stdout",
     "output_type": "stream",
     "text": [
      "Warning: Audio file c:\\Users\\16148\\Desktop\\Projects\\bird_call_project\\Augmented Recordings\\Vireo_gilvus_Whitewater_Township_near__Harrison_Hamilton_County_Ohio_726753_segment_5_aug_1.wav is too short or silent. Skipping.\n"
     ]
    },
    {
     "name": "stderr",
     "output_type": "stream",
     "text": [
      " 50%|█████     | 250/500 [00:43<00:46,  5.41it/s]"
     ]
    },
    {
     "name": "stdout",
     "output_type": "stream",
     "text": [
      "Warning: Audio file c:\\Users\\16148\\Desktop\\Projects\\bird_call_project\\Augmented Recordings\\Vireo_gilvus_Spring_Valley_near__Waynesville_Greene_Cty_Ohio_477609_segment_2_aug_2.wav is too short or silent. Skipping.\n"
     ]
    },
    {
     "name": "stderr",
     "output_type": "stream",
     "text": [
      " 51%|█████     | 255/500 [00:44<00:43,  5.62it/s]"
     ]
    },
    {
     "name": "stdout",
     "output_type": "stream",
     "text": [
      "Warning: Audio file c:\\Users\\16148\\Desktop\\Projects\\bird_call_project\\Augmented Recordings\\Vireo_gilvus_Pelee_near__Leamington_Essex_County_Ontario_477046_segment_0_aug_3.wav is too short or silent. Skipping.\n"
     ]
    },
    {
     "name": "stderr",
     "output_type": "stream",
     "text": [
      " 70%|███████   | 350/500 [01:03<00:19,  7.54it/s]"
     ]
    },
    {
     "name": "stdout",
     "output_type": "stream",
     "text": [
      "Warning: Audio file c:\\Users\\16148\\Desktop\\Projects\\bird_call_project\\Augmented Recordings\\Vireo_gilvus_Magee_Marsh_Ohio_939386_segment_14_aug_2.wav is too short or silent. Skipping.\n"
     ]
    },
    {
     "name": "stderr",
     "output_type": "stream",
     "text": [
      " 71%|███████   | 353/500 [01:03<00:16,  8.73it/s]"
     ]
    },
    {
     "name": "stdout",
     "output_type": "stream",
     "text": [
      "Warning: Audio file c:\\Users\\16148\\Desktop\\Projects\\bird_call_project\\Augmented Recordings\\Vireo_gilvus_Magee_Marsh_Ohio_939386_segment_15_aug_2.wav is too short or silent. Skipping.\n",
      "Warning: Audio file c:\\Users\\16148\\Desktop\\Projects\\bird_call_project\\Augmented Recordings\\Vireo_gilvus_Magee_Marsh_Ohio_939386_segment_15_aug_3.wav is too short or silent. Skipping.\n"
     ]
    },
    {
     "name": "stderr",
     "output_type": "stream",
     "text": [
      " 72%|███████▏  | 358/500 [01:04<00:17,  8.33it/s]"
     ]
    },
    {
     "name": "stdout",
     "output_type": "stream",
     "text": [
      "Warning: Audio file c:\\Users\\16148\\Desktop\\Projects\\bird_call_project\\Augmented Recordings\\Vireo_gilvus_Benton_Township_near__Rocky_Ridge_Ottawa_County_Ohio_902984_segment_1_aug_1.wav is too short or silent. Skipping.\n"
     ]
    },
    {
     "name": "stderr",
     "output_type": "stream",
     "text": [
      " 78%|███████▊  | 392/500 [01:09<00:13,  8.08it/s]"
     ]
    },
    {
     "name": "stdout",
     "output_type": "stream",
     "text": [
      "Warning: Audio file c:\\Users\\16148\\Desktop\\Projects\\bird_call_project\\Augmented Recordings\\Vireo_gilvus_Benton_Township_near__Rocky_Ridge_Ottawa_County_Ohio_902983_segment_7_aug_2.wav is too short or silent. Skipping.\n"
     ]
    },
    {
     "name": "stderr",
     "output_type": "stream",
     "text": [
      " 83%|████████▎ | 417/500 [01:12<00:10,  8.29it/s]"
     ]
    },
    {
     "name": "stdout",
     "output_type": "stream",
     "text": [
      "Warning: Audio file c:\\Users\\16148\\Desktop\\Projects\\bird_call_project\\Augmented Recordings\\Vireo_gilvus_Magee_Marsh_-_boardwalk_Lucas_County_Ohio_827594_segment_7_aug_3.wav is too short or silent. Skipping.\n"
     ]
    },
    {
     "name": "stderr",
     "output_type": "stream",
     "text": [
      " 87%|████████▋ | 436/500 [01:15<00:07,  8.45it/s]"
     ]
    },
    {
     "name": "stdout",
     "output_type": "stream",
     "text": [
      "Warning: Audio file c:\\Users\\16148\\Desktop\\Projects\\bird_call_project\\Augmented Recordings\\Vireo_gilvus_Magee_Marsh_-_boardwalk_Lucas_County_Ohio_827593_segment_1_aug_1.wav is too short or silent. Skipping.\n"
     ]
    },
    {
     "name": "stderr",
     "output_type": "stream",
     "text": [
      "100%|██████████| 500/500 [01:24<00:00,  5.94it/s]\n",
      "  8%|▊         | 38/500 [00:05<00:58,  7.86it/s]"
     ]
    },
    {
     "name": "stdout",
     "output_type": "stream",
     "text": [
      "Warning: Audio file c:\\Users\\16148\\Desktop\\Projects\\bird_call_project\\Augmented Recordings\\Vireo_gilvus_Magee_Marsh_-_boardwalk_Lucas_County_Ohio_827589_segment_8_aug_2.wav is too short or silent. Skipping.\n",
      "Warning: Audio file c:\\Users\\16148\\Desktop\\Projects\\bird_call_project\\Augmented Recordings\\Vireo_gilvus_Magee_Marsh_-_boardwalk_Lucas_County_Ohio_827589_segment_8_aug_3.wav is too short or silent. Skipping.\n"
     ]
    },
    {
     "name": "stderr",
     "output_type": "stream",
     "text": [
      " 14%|█▎        | 68/500 [00:09<00:56,  7.65it/s]"
     ]
    },
    {
     "name": "stdout",
     "output_type": "stream",
     "text": [
      "Warning: Audio file c:\\Users\\16148\\Desktop\\Projects\\bird_call_project\\Augmented Recordings\\Vireo_gilvus_Tanager_Meadow_Reservable_Shelter_near__Harrison_Hamilton_County_Ohio_807452_segment_9_aug_1.wav is too short or silent. Skipping.\n",
      "Warning: Audio file c:\\Users\\16148\\Desktop\\Projects\\bird_call_project\\Augmented Recordings\\Vireo_gilvus_Tanager_Meadow_Reservable_Shelter_near__Harrison_Hamilton_County_Ohio_807452_segment_9_aug_3.wav is too short or silent. Skipping.\n"
     ]
    },
    {
     "name": "stderr",
     "output_type": "stream",
     "text": [
      " 17%|█▋        | 87/500 [00:12<00:48,  8.54it/s]"
     ]
    },
    {
     "name": "stdout",
     "output_type": "stream",
     "text": [
      "Warning: Audio file c:\\Users\\16148\\Desktop\\Projects\\bird_call_project\\Augmented Recordings\\Vireo_gilvus_Magee_Marsh_-_boardwalk_Lucas_County_Ohio_827588_segment_5_aug_2.wav is too short or silent. Skipping.\n"
     ]
    },
    {
     "name": "stderr",
     "output_type": "stream",
     "text": [
      " 27%|██▋       | 133/500 [00:19<00:53,  6.87it/s]"
     ]
    },
    {
     "name": "stdout",
     "output_type": "stream",
     "text": [
      "Warning: Audio file c:\\Users\\16148\\Desktop\\Projects\\bird_call_project\\Augmented Recordings\\Vireo_gilvus_Magee_Marsh_-_boardwalk_Lucas_County_Ohio_827588_segment_21_aug_1.wav is too short or silent. Skipping.\n"
     ]
    },
    {
     "name": "stderr",
     "output_type": "stream",
     "text": [
      " 39%|███▊      | 193/500 [00:28<00:35,  8.64it/s]"
     ]
    },
    {
     "name": "stdout",
     "output_type": "stream",
     "text": [
      "Warning: Audio file c:\\Users\\16148\\Desktop\\Projects\\bird_call_project\\Augmented Recordings\\Vireo_gilvus_Magee_Marsh_-_boardwalk_Lucas_County_Ohio_827586_segment_15_aug_3.wav is too short or silent. Skipping.\n"
     ]
    },
    {
     "name": "stderr",
     "output_type": "stream",
     "text": [
      " 41%|████      | 206/500 [00:29<00:36,  8.01it/s]"
     ]
    },
    {
     "name": "stdout",
     "output_type": "stream",
     "text": [
      "Warning: Audio file c:\\Users\\16148\\Desktop\\Projects\\bird_call_project\\Augmented Recordings\\Vireo_gilvus_Magee_Marsh_-_boardwalk_Lucas_County_Ohio_827586_segment_20_aug_1.wav is too short or silent. Skipping.\n"
     ]
    },
    {
     "name": "stderr",
     "output_type": "stream",
     "text": [
      " 61%|██████    | 304/500 [00:42<00:23,  8.49it/s]"
     ]
    },
    {
     "name": "stdout",
     "output_type": "stream",
     "text": [
      "Warning: Audio file c:\\Users\\16148\\Desktop\\Projects\\bird_call_project\\Augmented Recordings\\Vireo_gilvus_Magee_Marsh_-_boardwalk_Lucas_County_Ohio_827586_segment_52_aug_3.wav is too short or silent. Skipping.\n"
     ]
    },
    {
     "name": "stderr",
     "output_type": "stream",
     "text": [
      " 73%|███████▎  | 365/500 [00:50<00:15,  8.63it/s]"
     ]
    },
    {
     "name": "stdout",
     "output_type": "stream",
     "text": [
      "Warning: Audio file c:\\Users\\16148\\Desktop\\Projects\\bird_call_project\\Augmented Recordings\\Vireo_flavifrons_Harrison_Township_near__Harrison_Hamilton_County_Ohio_719923_segment_15_aug_1.wav is too short or silent. Skipping.\n"
     ]
    },
    {
     "name": "stderr",
     "output_type": "stream",
     "text": [
      " 76%|███████▋  | 382/500 [00:52<00:13,  8.46it/s]"
     ]
    },
    {
     "name": "stdout",
     "output_type": "stream",
     "text": [
      "Warning: Audio file c:\\Users\\16148\\Desktop\\Projects\\bird_call_project\\Augmented Recordings\\Vireo_flavifrons_Harrison_Township_near__Harrison_Hamilton_County_Ohio_719923_segment_20_aug_3.wav is too short or silent. Skipping.\n"
     ]
    },
    {
     "name": "stderr",
     "output_type": "stream",
     "text": [
      " 88%|████████▊ | 439/500 [01:00<00:07,  8.47it/s]"
     ]
    },
    {
     "name": "stdout",
     "output_type": "stream",
     "text": [
      "Warning: Audio file c:\\Users\\16148\\Desktop\\Projects\\bird_call_project\\Augmented Recordings\\Vireo_flavifrons_Spring_Valley_near__Waynesville_Greene_Cty_Ohio_477608_segment_11_aug_3.wav is too short or silent. Skipping.\n"
     ]
    },
    {
     "name": "stderr",
     "output_type": "stream",
     "text": [
      " 92%|█████████▏| 458/500 [01:02<00:05,  8.32it/s]"
     ]
    },
    {
     "name": "stdout",
     "output_type": "stream",
     "text": [
      "Warning: Audio file c:\\Users\\16148\\Desktop\\Projects\\bird_call_project\\Augmented Recordings\\Vireo_flavifrons_Oak_Openings_Metropark_Ohio_418068_segment_6_aug_1.wav is too short or silent. Skipping.\n"
     ]
    },
    {
     "name": "stderr",
     "output_type": "stream",
     "text": [
      " 95%|█████████▌| 475/500 [01:04<00:02,  8.51it/s]"
     ]
    },
    {
     "name": "stdout",
     "output_type": "stream",
     "text": [
      "Warning: Audio file c:\\Users\\16148\\Desktop\\Projects\\bird_call_project\\Augmented Recordings\\Vireo_flavifrons_Lawrence_Woods_SNP_417990_segment_1_aug_3.wav is too short or silent. Skipping.\n"
     ]
    },
    {
     "name": "stderr",
     "output_type": "stream",
     "text": [
      "100%|██████████| 500/500 [01:07<00:00,  7.36it/s]\n",
      " 10%|█         | 51/500 [00:06<00:50,  8.95it/s]"
     ]
    },
    {
     "name": "stdout",
     "output_type": "stream",
     "text": [
      "Warning: Audio file c:\\Users\\16148\\Desktop\\Projects\\bird_call_project\\Augmented Recordings\\Vireo_flavifrons_Lawrence_Woods_SNP_417990_segment_27_aug_1.wav is too short or silent. Skipping.\n"
     ]
    },
    {
     "name": "stderr",
     "output_type": "stream",
     "text": [
      " 20%|█▉        | 99/500 [00:12<00:46,  8.54it/s]"
     ]
    },
    {
     "name": "stdout",
     "output_type": "stream",
     "text": [
      "Warning: Audio file c:\\Users\\16148\\Desktop\\Projects\\bird_call_project\\Augmented Recordings\\Vireo_flavifrons_Lawrence_Woods_SNP_417989_segment_15_aug_1.wav is too short or silent. Skipping.\n"
     ]
    },
    {
     "name": "stderr",
     "output_type": "stream",
     "text": [
      " 23%|██▎       | 117/500 [00:15<00:46,  8.26it/s]"
     ]
    },
    {
     "name": "stdout",
     "output_type": "stream",
     "text": [
      "Warning: Audio file c:\\Users\\16148\\Desktop\\Projects\\bird_call_project\\Augmented Recordings\\Vireo_flavifrons_Lawrence_Woods_SNP_417989_segment_21_aug_1.wav is too short or silent. Skipping.\n"
     ]
    },
    {
     "name": "stderr",
     "output_type": "stream",
     "text": [
      " 29%|██▉       | 146/500 [00:18<00:41,  8.48it/s]"
     ]
    },
    {
     "name": "stdout",
     "output_type": "stream",
     "text": [
      "Warning: Audio file c:\\Users\\16148\\Desktop\\Projects\\bird_call_project\\Augmented Recordings\\Vireo_flavifrons_Shawnee_State_Forest_Scioto_County_Ohio_417452_segment_8_aug_3.wav is too short or silent. Skipping.\n"
     ]
    },
    {
     "name": "stderr",
     "output_type": "stream",
     "text": [
      " 37%|███▋      | 187/500 [00:23<00:35,  8.84it/s]"
     ]
    },
    {
     "name": "stdout",
     "output_type": "stream",
     "text": [
      "Warning: Audio file c:\\Users\\16148\\Desktop\\Projects\\bird_call_project\\Augmented Recordings\\Vireo_flavifrons_Miami_Township_near__North_Bend_Hamilton_County_Ohio_645966_segment_6_aug_2.wav is too short or silent. Skipping.\n"
     ]
    },
    {
     "name": "stderr",
     "output_type": "stream",
     "text": [
      " 40%|████      | 200/500 [00:25<00:36,  8.27it/s]"
     ]
    },
    {
     "name": "stdout",
     "output_type": "stream",
     "text": [
      "Warning: Audio file c:\\Users\\16148\\Desktop\\Projects\\bird_call_project\\Augmented Recordings\\Vireo_flavifrons_East_Fork_Lake_SP_Clermont_County_Ohio_477410_segment_0_aug_3.wav is too short or silent. Skipping.\n"
     ]
    },
    {
     "name": "stderr",
     "output_type": "stream",
     "text": [
      " 49%|████▉     | 244/500 [00:31<00:31,  8.11it/s]"
     ]
    },
    {
     "name": "stdout",
     "output_type": "stream",
     "text": [
      "Warning: Audio file c:\\Users\\16148\\Desktop\\Projects\\bird_call_project\\Augmented Recordings\\Vireo_flavifrons_East_Fork_Lake_SP_Clermont_County_Ohio_477410_segment_15_aug_2.wav is too short or silent. Skipping.\n"
     ]
    },
    {
     "name": "stderr",
     "output_type": "stream",
     "text": [
      " 50%|█████     | 252/500 [00:32<00:29,  8.27it/s]"
     ]
    },
    {
     "name": "stdout",
     "output_type": "stream",
     "text": [
      "Warning: Audio file c:\\Users\\16148\\Desktop\\Projects\\bird_call_project\\Augmented Recordings\\Vireo_flavifrons_Prairie_Oaks_Metro_Park--Sycamore_Plains_Area_182007_segment_1_aug_1.wav is too short or silent. Skipping.\n"
     ]
    },
    {
     "name": "stderr",
     "output_type": "stream",
     "text": [
      " 51%|█████     | 255/500 [00:32<00:26,  9.29it/s]"
     ]
    },
    {
     "name": "stdout",
     "output_type": "stream",
     "text": [
      "Warning: Audio file c:\\Users\\16148\\Desktop\\Projects\\bird_call_project\\Augmented Recordings\\Vireo_flavifrons_Prairie_Oaks_Metro_Park--Sycamore_Plains_Area_182007_segment_2_aug_1.wav is too short or silent. Skipping.\n"
     ]
    },
    {
     "name": "stderr",
     "output_type": "stream",
     "text": [
      " 52%|█████▏    | 259/500 [00:33<00:27,  8.66it/s]"
     ]
    },
    {
     "name": "stdout",
     "output_type": "stream",
     "text": [
      "Warning: Audio file c:\\Users\\16148\\Desktop\\Projects\\bird_call_project\\Augmented Recordings\\Vireo_flavifrons_Prairie_Oaks_Metro_Park--Sycamore_Plains_Area_182007_segment_3_aug_2.wav is too short or silent. Skipping.\n"
     ]
    },
    {
     "name": "stderr",
     "output_type": "stream",
     "text": [
      " 62%|██████▏   | 310/500 [00:39<00:20,  9.49it/s]"
     ]
    },
    {
     "name": "stdout",
     "output_type": "stream",
     "text": [
      "Warning: Audio file c:\\Users\\16148\\Desktop\\Projects\\bird_call_project\\Augmented Recordings\\Vireo_flavifrons_Prairie_Oaks_Metro_Park--Sycamore_Plains_Area_182007_segment_20_aug_2.wav is too short or silent. Skipping.\n"
     ]
    },
    {
     "name": "stderr",
     "output_type": "stream",
     "text": [
      " 82%|████████▏ | 412/500 [00:52<00:10,  8.19it/s]"
     ]
    },
    {
     "name": "stdout",
     "output_type": "stream",
     "text": [
      "Warning: Audio file c:\\Users\\16148\\Desktop\\Projects\\bird_call_project\\Augmented Recordings\\Vireo_griseus_Shawnee_State_Forest_Scioto_County_Ohio_417441_segment_2_aug_2.wav is too short or silent. Skipping.\n"
     ]
    },
    {
     "name": "stderr",
     "output_type": "stream",
     "text": [
      " 89%|████████▉ | 445/500 [00:57<00:06,  8.24it/s]"
     ]
    },
    {
     "name": "stdout",
     "output_type": "stream",
     "text": [
      "Warning: Audio file c:\\Users\\16148\\Desktop\\Projects\\bird_call_project\\Augmented Recordings\\Vireo_griseus_Shawnee_State_Forest_Scioto_County_Ohio_417441_segment_14_aug_2.wav is too short or silent. Skipping.\n"
     ]
    },
    {
     "name": "stderr",
     "output_type": "stream",
     "text": [
      " 94%|█████████▍| 470/500 [01:00<00:03,  8.39it/s]"
     ]
    },
    {
     "name": "stdout",
     "output_type": "stream",
     "text": [
      "Warning: Audio file c:\\Users\\16148\\Desktop\\Projects\\bird_call_project\\Augmented Recordings\\Vireo_griseus_Point_Pelee_ON_83535_segment_7_aug_3.wav is too short or silent. Skipping.\n"
     ]
    },
    {
     "name": "stderr",
     "output_type": "stream",
     "text": [
      " 95%|█████████▌| 477/500 [01:01<00:02,  8.54it/s]"
     ]
    },
    {
     "name": "stdout",
     "output_type": "stream",
     "text": [
      "Warning: Audio file c:\\Users\\16148\\Desktop\\Projects\\bird_call_project\\Augmented Recordings\\Vireo_griseus_Miami_Township_near__North_Bend_Hamilton_County_Ohio_645855_segment_1_aug_1.wav is too short or silent. Skipping.\n",
      "Warning: Audio file c:\\Users\\16148\\Desktop\\Projects\\bird_call_project\\Augmented Recordings\\Vireo_griseus_Miami_Township_near__North_Bend_Hamilton_County_Ohio_645855_segment_1_aug_3.wav is too short or silent. Skipping.\n"
     ]
    },
    {
     "name": "stderr",
     "output_type": "stream",
     "text": [
      "100%|██████████| 500/500 [01:03<00:00,  7.82it/s]\n",
      "  9%|▊         | 43/500 [00:05<00:52,  8.72it/s]"
     ]
    },
    {
     "name": "stdout",
     "output_type": "stream",
     "text": [
      "Warning: Audio file c:\\Users\\16148\\Desktop\\Projects\\bird_call_project\\Augmented Recordings\\Vireo_griseus_Miami_Township_near__North_Bend_Hamilton_County_Ohio_645855_segment_23_aug_1.wav is too short or silent. Skipping.\n"
     ]
    },
    {
     "name": "stderr",
     "output_type": "stream",
     "text": [
      " 12%|█▏        | 58/500 [00:07<00:48,  9.05it/s]"
     ]
    },
    {
     "name": "stdout",
     "output_type": "stream",
     "text": [
      "Warning: Audio file c:\\Users\\16148\\Desktop\\Projects\\bird_call_project\\Augmented Recordings\\Vireo_griseus_Miami_Township_near__North_Bend_Hamilton_County_Ohio_645855_segment_28_aug_1.wav is too short or silent. Skipping.\n"
     ]
    },
    {
     "name": "stderr",
     "output_type": "stream",
     "text": [
      " 17%|█▋        | 87/500 [00:11<00:49,  8.39it/s]"
     ]
    },
    {
     "name": "stdout",
     "output_type": "stream",
     "text": [
      "Warning: Audio file c:\\Users\\16148\\Desktop\\Projects\\bird_call_project\\Augmented Recordings\\Vireo_griseus_Miami_Township_near__North_Bend_Hamilton_County_Ohio_645853_segment_4_aug_3.wav is too short or silent. Skipping.\n"
     ]
    },
    {
     "name": "stderr",
     "output_type": "stream",
     "text": [
      " 23%|██▎       | 113/500 [00:14<00:46,  8.25it/s]"
     ]
    },
    {
     "name": "stdout",
     "output_type": "stream",
     "text": [
      "Warning: Audio file c:\\Users\\16148\\Desktop\\Projects\\bird_call_project\\Augmented Recordings\\Vireo_griseus_Miami_Township_near__North_Bend_Hamilton_County_Ohio_645853_segment_13_aug_2.wav is too short or silent. Skipping.\n"
     ]
    },
    {
     "name": "stderr",
     "output_type": "stream",
     "text": [
      " 28%|██▊       | 141/500 [00:18<00:43,  8.24it/s]"
     ]
    },
    {
     "name": "stdout",
     "output_type": "stream",
     "text": [
      "Warning: Audio file c:\\Users\\16148\\Desktop\\Projects\\bird_call_project\\Augmented Recordings\\Vireo_griseus_Three_Creeks_Metro_Park--Confluence_Area_playground_Franklin_County_Ohio_186555_segment_8_aug_3.wav is too short or silent. Skipping.\n"
     ]
    },
    {
     "name": "stderr",
     "output_type": "stream",
     "text": [
      " 43%|████▎     | 216/500 [00:27<00:32,  8.67it/s]"
     ]
    },
    {
     "name": "stdout",
     "output_type": "stream",
     "text": [
      "Warning: Audio file c:\\Users\\16148\\Desktop\\Projects\\bird_call_project\\Augmented Recordings\\Vireo_bellii_Heritage_Rail-Trail_South_of_Hayden_Run_Rd_~200m_south_of_mile_marker_2_across_from_nest_box_#10_103570_segment_4_aug_3.wav is too short or silent. Skipping.\n"
     ]
    },
    {
     "name": "stderr",
     "output_type": "stream",
     "text": [
      " 46%|████▌     | 231/500 [00:29<00:30,  8.77it/s]"
     ]
    },
    {
     "name": "stdout",
     "output_type": "stream",
     "text": [
      "Warning: Audio file c:\\Users\\16148\\Desktop\\Projects\\bird_call_project\\Augmented Recordings\\Vireo_bellii_Heritage_Rail-Trail_South_of_Hayden_Run_Rd_~200m_south_of_mile_marker_2_across_from_nest_box_#10_103570_segment_9_aug_3.wav is too short or silent. Skipping.\n"
     ]
    },
    {
     "name": "stderr",
     "output_type": "stream",
     "text": [
      " 75%|███████▌  | 376/500 [00:47<00:14,  8.58it/s]"
     ]
    },
    {
     "name": "stdout",
     "output_type": "stream",
     "text": [
      "Warning: Audio file c:\\Users\\16148\\Desktop\\Projects\\bird_call_project\\Augmented Recordings\\Vireo_bellii_Heritage_Rail-Trail_South_of_Hayden_Run_Rd_~200m_south_of_mile_marker_2_across_from_nest_box_#10_103570_segment_58_aug_1.wav is too short or silent. Skipping.\n"
     ]
    },
    {
     "name": "stderr",
     "output_type": "stream",
     "text": [
      " 84%|████████▍ | 419/500 [00:53<00:09,  8.50it/s]"
     ]
    },
    {
     "name": "stdout",
     "output_type": "stream",
     "text": [
      "Warning: Audio file c:\\Users\\16148\\Desktop\\Projects\\bird_call_project\\Augmented Recordings\\Vireo_bellii_Heritage_Rail-Trail_south_of_Hayden_Run_Rd_near_mowed_path_BEVI_#1_103569_segment_1_aug_2.wav is too short or silent. Skipping.\n"
     ]
    },
    {
     "name": "stderr",
     "output_type": "stream",
     "text": [
      " 94%|█████████▍| 470/500 [00:59<00:03,  8.92it/s]"
     ]
    },
    {
     "name": "stdout",
     "output_type": "stream",
     "text": [
      "Warning: Audio file c:\\Users\\16148\\Desktop\\Projects\\bird_call_project\\Augmented Recordings\\Cyanocitta_cristata_Cincinnati_Hamilton_County_Ohio_677298_segment_5_aug_2.wav is too short or silent. Skipping.\n"
     ]
    },
    {
     "name": "stderr",
     "output_type": "stream",
     "text": [
      "100%|██████████| 500/500 [01:03<00:00,  7.87it/s]\n",
      "  7%|▋         | 33/500 [00:04<00:53,  8.81it/s]"
     ]
    },
    {
     "name": "stdout",
     "output_type": "stream",
     "text": [
      "Warning: Audio file c:\\Users\\16148\\Desktop\\Projects\\bird_call_project\\Augmented Recordings\\Cyanocitta_cristata_Cincinnati_Hamilton_County_Ohio_677298_segment_27_aug_2.wav is too short or silent. Skipping.\n"
     ]
    },
    {
     "name": "stderr",
     "output_type": "stream",
     "text": [
      " 14%|█▎        | 68/500 [00:08<00:54,  8.00it/s]"
     ]
    },
    {
     "name": "stdout",
     "output_type": "stream",
     "text": [
      "Warning: Audio file c:\\Users\\16148\\Desktop\\Projects\\bird_call_project\\Augmented Recordings\\Cyanocitta_cristata_Green_Township_near__Cincinnati_Hamilton_County_Ohio_672969_segment_1_aug_1.wav is too short or silent. Skipping.\n"
     ]
    },
    {
     "name": "stderr",
     "output_type": "stream",
     "text": [
      " 16%|█▌        | 80/500 [00:10<00:44,  9.36it/s]"
     ]
    },
    {
     "name": "stdout",
     "output_type": "stream",
     "text": [
      "Warning: Audio file c:\\Users\\16148\\Desktop\\Projects\\bird_call_project\\Augmented Recordings\\Cyanocitta_cristata_Green_Township_near__Cincinnati_Hamilton_County_Ohio_672969_segment_5_aug_1.wav is too short or silent. Skipping.\n",
      "Warning: Audio file c:\\Users\\16148\\Desktop\\Projects\\bird_call_project\\Augmented Recordings\\Cyanocitta_cristata_Green_Township_near__Cincinnati_Hamilton_County_Ohio_672969_segment_5_aug_2.wav is too short or silent. Skipping.\n"
     ]
    },
    {
     "name": "stderr",
     "output_type": "stream",
     "text": [
      " 25%|██▍       | 124/500 [00:15<00:45,  8.33it/s]"
     ]
    },
    {
     "name": "stdout",
     "output_type": "stream",
     "text": [
      "Warning: Audio file c:\\Users\\16148\\Desktop\\Projects\\bird_call_project\\Augmented Recordings\\Cyanocitta_cristata_Crosby_Township_near__Harrison_Hamilton_County_Ohio_807193_segment_5_aug_3.wav is too short or silent. Skipping.\n"
     ]
    },
    {
     "name": "stderr",
     "output_type": "stream",
     "text": [
      " 32%|███▏      | 162/500 [00:20<00:42,  7.96it/s]"
     ]
    },
    {
     "name": "stdout",
     "output_type": "stream",
     "text": [
      "Warning: Audio file c:\\Users\\16148\\Desktop\\Projects\\bird_call_project\\Augmented Recordings\\Cyanocitta_cristata_Green_Township_near__Cincinnati_Hamilton_County_Ohio_672963_segment_12_aug_2.wav is too short or silent. Skipping.\n"
     ]
    },
    {
     "name": "stderr",
     "output_type": "stream",
     "text": [
      " 33%|███▎      | 165/500 [00:20<00:39,  8.38it/s]"
     ]
    },
    {
     "name": "stdout",
     "output_type": "stream",
     "text": [
      "Warning: Audio file c:\\Users\\16148\\Desktop\\Projects\\bird_call_project\\Augmented Recordings\\Cyanocitta_cristata_Ohio_near__Cleveland_Heights_Cuyahoga_County_Ohio_418322_segment_0_aug_2.wav is too short or silent. Skipping.\n"
     ]
    },
    {
     "name": "stderr",
     "output_type": "stream",
     "text": [
      " 36%|███▌      | 178/500 [00:22<00:36,  8.93it/s]"
     ]
    },
    {
     "name": "stdout",
     "output_type": "stream",
     "text": [
      "Warning: Audio file c:\\Users\\16148\\Desktop\\Projects\\bird_call_project\\Augmented Recordings\\Cyanocitta_cristata_Ohio_near__Cleveland_Heights_Cuyahoga_County_Ohio_418322_segment_4_aug_3.wav is too short or silent. Skipping.\n"
     ]
    },
    {
     "name": "stderr",
     "output_type": "stream",
     "text": [
      " 45%|████▌     | 225/500 [00:28<00:33,  8.26it/s]"
     ]
    },
    {
     "name": "stdout",
     "output_type": "stream",
     "text": [
      "Warning: Audio file c:\\Users\\16148\\Desktop\\Projects\\bird_call_project\\Augmented Recordings\\Corvus_brachyrhynchos_Harrison_Township_near__Harrison_Hamilton_County_Ohio_691531_segment_15_aug_2.wav is too short or silent. Skipping.\n"
     ]
    },
    {
     "name": "stderr",
     "output_type": "stream",
     "text": [
      " 60%|██████    | 300/500 [00:38<00:22,  8.83it/s]"
     ]
    },
    {
     "name": "stdout",
     "output_type": "stream",
     "text": [
      "Warning: Audio file c:\\Users\\16148\\Desktop\\Projects\\bird_call_project\\Augmented Recordings\\Corvus_brachyrhynchos_Harrison_Township_near__Harrison_Hamilton_County_Ohio_691531_segment_40_aug_1.wav is too short or silent. Skipping.\n",
      "Warning: Audio file c:\\Users\\16148\\Desktop\\Projects\\bird_call_project\\Augmented Recordings\\Corvus_brachyrhynchos_Harrison_Township_near__Harrison_Hamilton_County_Ohio_691531_segment_40_aug_2.wav is too short or silent. Skipping.\n"
     ]
    },
    {
     "name": "stderr",
     "output_type": "stream",
     "text": [
      " 62%|██████▏   | 308/500 [00:39<00:22,  8.48it/s]"
     ]
    },
    {
     "name": "stdout",
     "output_type": "stream",
     "text": [
      "Warning: Audio file c:\\Users\\16148\\Desktop\\Projects\\bird_call_project\\Augmented Recordings\\Corvus_brachyrhynchos_mount_orab_ohio_691189_segment_2_aug_1.wav is too short or silent. Skipping.\n"
     ]
    },
    {
     "name": "stderr",
     "output_type": "stream",
     "text": [
      " 68%|██████▊   | 340/500 [00:43<00:18,  8.63it/s]"
     ]
    },
    {
     "name": "stdout",
     "output_type": "stream",
     "text": [
      "Warning: Audio file c:\\Users\\16148\\Desktop\\Projects\\bird_call_project\\Augmented Recordings\\Corvus_brachyrhynchos_mount_orab_ohio_691189_segment_12_aug_3.wav is too short or silent. Skipping.\n"
     ]
    },
    {
     "name": "stderr",
     "output_type": "stream",
     "text": [
      " 72%|███████▏  | 359/500 [00:45<00:16,  8.41it/s]"
     ]
    },
    {
     "name": "stdout",
     "output_type": "stream",
     "text": [
      "Warning: Audio file c:\\Users\\16148\\Desktop\\Projects\\bird_call_project\\Augmented Recordings\\Corvus_brachyrhynchos_Ross_Township_near__Hamilton_Butler_County_Ohio_533366_segment_6_aug_1.wav is too short or silent. Skipping.\n"
     ]
    },
    {
     "name": "stderr",
     "output_type": "stream",
     "text": [
      " 73%|███████▎  | 364/500 [00:46<00:16,  8.28it/s]"
     ]
    },
    {
     "name": "stdout",
     "output_type": "stream",
     "text": [
      "Warning: Audio file c:\\Users\\16148\\Desktop\\Projects\\bird_call_project\\Augmented Recordings\\Corvus_brachyrhynchos_Ross_Township_near__Hamilton_Butler_County_Ohio_533366_segment_7_aug_3.wav is too short or silent. Skipping.\n"
     ]
    },
    {
     "name": "stderr",
     "output_type": "stream",
     "text": [
      " 77%|███████▋  | 383/500 [00:48<00:13,  8.68it/s]"
     ]
    },
    {
     "name": "stdout",
     "output_type": "stream",
     "text": [
      "Warning: Audio file c:\\Users\\16148\\Desktop\\Projects\\bird_call_project\\Augmented Recordings\\Corvus_ossifragus_Leamington_Essex_County_Ontario_320736_segment_6_aug_1.wav is too short or silent. Skipping.\n"
     ]
    },
    {
     "name": "stderr",
     "output_type": "stream",
     "text": [
      " 84%|████████▎ | 418/500 [00:52<00:08,  9.30it/s]"
     ]
    },
    {
     "name": "stdout",
     "output_type": "stream",
     "text": [
      "Warning: Audio file c:\\Users\\16148\\Desktop\\Projects\\bird_call_project\\Augmented Recordings\\Corvus_ossifragus_Chapel_Hill_Plaza_Cuyahoga_Falls_Summit_County_Ohio_393849_segment_8_aug_3.wav is too short or silent. Skipping.\n"
     ]
    },
    {
     "name": "stderr",
     "output_type": "stream",
     "text": [
      " 96%|█████████▋| 482/500 [01:01<00:02,  8.16it/s]"
     ]
    },
    {
     "name": "stdout",
     "output_type": "stream",
     "text": [
      "Warning: Audio file c:\\Users\\16148\\Desktop\\Projects\\bird_call_project\\Augmented Recordings\\Corvus_ossifragus_S_Green_Rd_&_Cedar_Rd_near__University_Heights_Cuyahoga_County_Ohio_268223_segment_20_aug_1.wav is too short or silent. Skipping.\n"
     ]
    },
    {
     "name": "stderr",
     "output_type": "stream",
     "text": [
      " 99%|█████████▉| 495/500 [01:02<00:00,  8.62it/s]"
     ]
    },
    {
     "name": "stdout",
     "output_type": "stream",
     "text": [
      "Warning: Audio file c:\\Users\\16148\\Desktop\\Projects\\bird_call_project\\Augmented Recordings\\Corvus_ossifragus_Howe_Ave_@_Jared__Cuyahoga_Falls_Summit_County_Ohio_398409_segment_2_aug_2.wav is too short or silent. Skipping.\n"
     ]
    },
    {
     "name": "stderr",
     "output_type": "stream",
     "text": [
      "100%|██████████| 500/500 [01:03<00:00,  7.88it/s]\n",
      "  8%|▊         | 41/500 [00:05<00:54,  8.47it/s]"
     ]
    },
    {
     "name": "stdout",
     "output_type": "stream",
     "text": [
      "Warning: Audio file c:\\Users\\16148\\Desktop\\Projects\\bird_call_project\\Augmented Recordings\\Baeolophus_bicolor_Harrison_Township_near__Harrison_Hamilton_County_Ohio_807495_segment_7_aug_3.wav is too short or silent. Skipping.\n"
     ]
    },
    {
     "name": "stderr",
     "output_type": "stream",
     "text": [
      "  9%|▉         | 46/500 [00:05<00:52,  8.60it/s]"
     ]
    },
    {
     "name": "stdout",
     "output_type": "stream",
     "text": [
      "Warning: Audio file c:\\Users\\16148\\Desktop\\Projects\\bird_call_project\\Augmented Recordings\\Baeolophus_bicolor_Harrison_Township_near__Harrison_Hamilton_County_Ohio_807495_segment_9_aug_2.wav is too short or silent. Skipping.\n"
     ]
    },
    {
     "name": "stderr",
     "output_type": "stream",
     "text": [
      " 17%|█▋        | 84/500 [00:10<00:49,  8.47it/s]"
     ]
    },
    {
     "name": "stdout",
     "output_type": "stream",
     "text": [
      "Warning: Audio file c:\\Users\\16148\\Desktop\\Projects\\bird_call_project\\Augmented Recordings\\Baeolophus_bicolor_Miami_Township_near__Cleves_Hamilton_County_Ohio_713584_segment_12_aug_1.wav is too short or silent. Skipping.\n"
     ]
    },
    {
     "name": "stderr",
     "output_type": "stream",
     "text": [
      " 21%|██        | 105/500 [00:13<00:45,  8.65it/s]"
     ]
    },
    {
     "name": "stdout",
     "output_type": "stream",
     "text": [
      "Warning: Audio file c:\\Users\\16148\\Desktop\\Projects\\bird_call_project\\Augmented Recordings\\Baeolophus_bicolor_Miami_Township_near__Cleves_Hamilton_County_Ohio_713584_segment_19_aug_1.wav is too short or silent. Skipping.\n",
      "Warning: Audio file c:\\Users\\16148\\Desktop\\Projects\\bird_call_project\\Augmented Recordings\\Baeolophus_bicolor_Miami_Township_near__Cleves_Hamilton_County_Ohio_713584_segment_19_aug_3.wav is too short or silent. Skipping.\n"
     ]
    },
    {
     "name": "stderr",
     "output_type": "stream",
     "text": [
      " 49%|████▉     | 247/500 [00:32<00:32,  7.68it/s]"
     ]
    },
    {
     "name": "stdout",
     "output_type": "stream",
     "text": [
      "Warning: Audio file c:\\Users\\16148\\Desktop\\Projects\\bird_call_project\\Augmented Recordings\\Baeolophus_bicolor_Miami_Township_near__Cleves_Hamilton_County_Ohio_645567_segment_23_aug_2.wav is too short or silent. Skipping.\n"
     ]
    },
    {
     "name": "stderr",
     "output_type": "stream",
     "text": [
      " 55%|█████▍    | 274/500 [00:35<00:26,  8.55it/s]"
     ]
    },
    {
     "name": "stdout",
     "output_type": "stream",
     "text": [
      "Warning: Audio file c:\\Users\\16148\\Desktop\\Projects\\bird_call_project\\Augmented Recordings\\Baeolophus_bicolor_East_Fork_Lake_SP_Clermont_County_Ohio_416551_segment_5_aug_2.wav is too short or silent. Skipping.\n"
     ]
    },
    {
     "name": "stderr",
     "output_type": "stream",
     "text": [
      " 60%|██████    | 301/500 [00:39<00:24,  8.17it/s]"
     ]
    },
    {
     "name": "stdout",
     "output_type": "stream",
     "text": [
      "Warning: Audio file c:\\Users\\16148\\Desktop\\Projects\\bird_call_project\\Augmented Recordings\\Baeolophus_bicolor_Beachwood_Cuyahoga_County_Ohio_287347_segment_6_aug_2.wav is too short or silent. Skipping.\n"
     ]
    },
    {
     "name": "stderr",
     "output_type": "stream",
     "text": [
      " 64%|██████▍   | 322/500 [00:41<00:18,  9.65it/s]"
     ]
    },
    {
     "name": "stdout",
     "output_type": "stream",
     "text": [
      "Warning: Audio file c:\\Users\\16148\\Desktop\\Projects\\bird_call_project\\Augmented Recordings\\Baeolophus_bicolor_Beachwood_Cuyahoga_County_Ohio_287347_segment_13_aug_2.wav is too short or silent. Skipping.\n",
      "Warning: Audio file c:\\Users\\16148\\Desktop\\Projects\\bird_call_project\\Augmented Recordings\\Baeolophus_bicolor_Beachwood_Cuyahoga_County_Ohio_287347_segment_13_aug_3.wav is too short or silent. Skipping.\n"
     ]
    },
    {
     "name": "stderr",
     "output_type": "stream",
     "text": [
      " 67%|██████▋   | 334/500 [00:43<00:19,  8.64it/s]"
     ]
    },
    {
     "name": "stdout",
     "output_type": "stream",
     "text": [
      "Warning: Audio file c:\\Users\\16148\\Desktop\\Projects\\bird_call_project\\Augmented Recordings\\Baeolophus_bicolor_Miami_near__North_Bend_Hamilton_County_Ohio_542144_segment_3_aug_2.wav is too short or silent. Skipping.\n"
     ]
    },
    {
     "name": "stderr",
     "output_type": "stream",
     "text": [
      " 72%|███████▏  | 361/500 [00:46<00:16,  8.65it/s]"
     ]
    },
    {
     "name": "stdout",
     "output_type": "stream",
     "text": [
      "Warning: Audio file c:\\Users\\16148\\Desktop\\Projects\\bird_call_project\\Augmented Recordings\\Baeolophus_bicolor_Miami_near__North_Bend_Hamilton_County_Ohio_542144_segment_12_aug_2.wav is too short or silent. Skipping.\n"
     ]
    },
    {
     "name": "stderr",
     "output_type": "stream",
     "text": [
      " 78%|███████▊  | 388/500 [00:50<00:13,  8.33it/s]"
     ]
    },
    {
     "name": "stdout",
     "output_type": "stream",
     "text": [
      "Warning: Audio file c:\\Users\\16148\\Desktop\\Projects\\bird_call_project\\Augmented Recordings\\Baeolophus_bicolor_Painesville_Lake_Ohio_138137_segment_0_aug_2.wav is too short or silent. Skipping.\n"
     ]
    },
    {
     "name": "stderr",
     "output_type": "stream",
     "text": [
      " 82%|████████▏ | 409/500 [00:52<00:11,  8.24it/s]"
     ]
    },
    {
     "name": "stdout",
     "output_type": "stream",
     "text": [
      "Warning: Audio file c:\\Users\\16148\\Desktop\\Projects\\bird_call_project\\Augmented Recordings\\Poecile_carolinensis_Harrison_Township_near__Harrison_Hamilton_County_Ohio_807462_segment_1_aug_2.wav is too short or silent. Skipping.\n"
     ]
    },
    {
     "name": "stderr",
     "output_type": "stream",
     "text": [
      " 83%|████████▎ | 417/500 [00:53<00:10,  8.15it/s]"
     ]
    },
    {
     "name": "stdout",
     "output_type": "stream",
     "text": [
      "Warning: Audio file c:\\Users\\16148\\Desktop\\Projects\\bird_call_project\\Augmented Recordings\\Poecile_carolinensis_Harrison_Township_near__Harrison_Hamilton_County_Ohio_807462_segment_4_aug_1.wav is too short or silent. Skipping.\n"
     ]
    },
    {
     "name": "stderr",
     "output_type": "stream",
     "text": [
      " 95%|█████████▍| 473/500 [01:01<00:03,  8.35it/s]"
     ]
    },
    {
     "name": "stdout",
     "output_type": "stream",
     "text": [
      "Warning: Audio file c:\\Users\\16148\\Desktop\\Projects\\bird_call_project\\Augmented Recordings\\Poecile_carolinensis_Green_Township_near__Cincinnati_Hamilton_County_Ohio_779380_segment_10_aug_3.wav is too short or silent. Skipping.\n"
     ]
    },
    {
     "name": "stderr",
     "output_type": "stream",
     "text": [
      "100%|██████████| 500/500 [01:04<00:00,  7.70it/s]\n",
      " 18%|█▊        | 90/500 [00:12<00:50,  8.18it/s]"
     ]
    },
    {
     "name": "stdout",
     "output_type": "stream",
     "text": [
      "Warning: Audio file c:\\Users\\16148\\Desktop\\Projects\\bird_call_project\\Augmented Recordings\\Poecile_carolinensis_Miami_Township_near__North_Bend_Hamilton_County_Ohio_713595_segment_7_aug_3.wav is too short or silent. Skipping.\n"
     ]
    },
    {
     "name": "stderr",
     "output_type": "stream",
     "text": [
      " 26%|██▋       | 132/500 [00:17<00:44,  8.22it/s]"
     ]
    },
    {
     "name": "stdout",
     "output_type": "stream",
     "text": [
      "Warning: Audio file c:\\Users\\16148\\Desktop\\Projects\\bird_call_project\\Augmented Recordings\\Poecile_carolinensis_Miami_Township_near__North_Bend_Hamilton_County_Ohio_713595_segment_21_aug_3.wav is too short or silent. Skipping.\n"
     ]
    },
    {
     "name": "stderr",
     "output_type": "stream",
     "text": [
      " 32%|███▏      | 162/500 [00:21<00:40,  8.38it/s]"
     ]
    },
    {
     "name": "stdout",
     "output_type": "stream",
     "text": [
      "Warning: Audio file c:\\Users\\16148\\Desktop\\Projects\\bird_call_project\\Augmented Recordings\\Poecile_carolinensis_Miami_Township_near__North_Bend_Hamilton_County_Ohio_713595_segment_31_aug_3.wav is too short or silent. Skipping.\n"
     ]
    },
    {
     "name": "stderr",
     "output_type": "stream",
     "text": [
      " 46%|████▌     | 230/500 [00:30<00:29,  9.07it/s]"
     ]
    },
    {
     "name": "stdout",
     "output_type": "stream",
     "text": [
      "Warning: Audio file c:\\Users\\16148\\Desktop\\Projects\\bird_call_project\\Augmented Recordings\\Poecile_carolinensis_Green_Township_near__Cincinnati_Hamilton_County_Ohio_673007_segment_4_aug_3.wav is too short or silent. Skipping.\n"
     ]
    },
    {
     "name": "stderr",
     "output_type": "stream",
     "text": [
      " 55%|█████▌    | 276/500 [00:36<00:27,  8.12it/s]"
     ]
    },
    {
     "name": "stdout",
     "output_type": "stream",
     "text": [
      "Warning: Audio file c:\\Users\\16148\\Desktop\\Projects\\bird_call_project\\Augmented Recordings\\Poecile_carolinensis_Lawrence_Woods_SNP_417997_segment_5_aug_3.wav is too short or silent. Skipping.\n"
     ]
    },
    {
     "name": "stderr",
     "output_type": "stream",
     "text": [
      " 83%|████████▎ | 416/500 [00:55<00:10,  8.01it/s]"
     ]
    },
    {
     "name": "stdout",
     "output_type": "stream",
     "text": [
      "Warning: Audio file c:\\Users\\16148\\Desktop\\Projects\\bird_call_project\\Augmented Recordings\\Poecile_atricapillus_Magee_Marsh_-_boardwalk_Lucas_County_Ohio_814911_segment_38_aug_2.wav is too short or silent. Skipping.\n"
     ]
    },
    {
     "name": "stderr",
     "output_type": "stream",
     "text": [
      "100%|██████████| 500/500 [01:06<00:00,  7.50it/s]\n",
      " 15%|█▍        | 73/500 [00:09<00:50,  8.40it/s]"
     ]
    },
    {
     "name": "stdout",
     "output_type": "stream",
     "text": [
      "Warning: Audio file c:\\Users\\16148\\Desktop\\Projects\\bird_call_project\\Augmented Recordings\\Poecile_atricapillus_Point_Pelee_National_Park_near__Wheatley_Essex_County_Ontario_803377_segment_10_aug_3.wav is too short or silent. Skipping.\n"
     ]
    },
    {
     "name": "stderr",
     "output_type": "stream",
     "text": [
      " 20%|██        | 102/500 [00:13<00:49,  8.06it/s]"
     ]
    },
    {
     "name": "stdout",
     "output_type": "stream",
     "text": [
      "Warning: Audio file c:\\Users\\16148\\Desktop\\Projects\\bird_call_project\\Augmented Recordings\\Poecile_atricapillus_Magee_Marsh_boardwalk_west_end_262804_segment_2_aug_2.wav is too short or silent. Skipping.\n"
     ]
    },
    {
     "name": "stderr",
     "output_type": "stream",
     "text": [
      " 23%|██▎       | 116/500 [00:15<00:48,  7.97it/s]"
     ]
    },
    {
     "name": "stdout",
     "output_type": "stream",
     "text": [
      "Warning: Audio file c:\\Users\\16148\\Desktop\\Projects\\bird_call_project\\Augmented Recordings\\Poecile_atricapillus_Magee_Marsh_boardwalk_west_end_262804_segment_7_aug_1.wav is too short or silent. Skipping.\n"
     ]
    },
    {
     "name": "stderr",
     "output_type": "stream",
     "text": [
      " 35%|███▌      | 176/500 [00:23<00:40,  8.04it/s]"
     ]
    },
    {
     "name": "stdout",
     "output_type": "stream",
     "text": [
      "Warning: Audio file c:\\Users\\16148\\Desktop\\Projects\\bird_call_project\\Augmented Recordings\\Eremophila_alpestris_Dublin_Township_near__Rockford_Mercer_County_Ohio_716604_segment_0_aug_1.wav is too short or silent. Skipping.\n"
     ]
    },
    {
     "name": "stderr",
     "output_type": "stream",
     "text": [
      " 36%|███▌      | 180/500 [00:23<00:38,  8.30it/s]"
     ]
    },
    {
     "name": "stdout",
     "output_type": "stream",
     "text": [
      "Warning: Audio file c:\\Users\\16148\\Desktop\\Projects\\bird_call_project\\Augmented Recordings\\Eremophila_alpestris_Dublin_Township_near__Rockford_Mercer_County_Ohio_716604_segment_1_aug_2.wav is too short or silent. Skipping.\n"
     ]
    },
    {
     "name": "stderr",
     "output_type": "stream",
     "text": [
      " 40%|███▉      | 198/500 [00:26<00:34,  8.68it/s]"
     ]
    },
    {
     "name": "stdout",
     "output_type": "stream",
     "text": [
      "Warning: Audio file c:\\Users\\16148\\Desktop\\Projects\\bird_call_project\\Augmented Recordings\\Eremophila_alpestris_Dublin_Township_near__Rockford_Mercer_County_Ohio_716604_segment_7_aug_2.wav is too short or silent. Skipping.\n"
     ]
    },
    {
     "name": "stderr",
     "output_type": "stream",
     "text": [
      " 42%|████▏     | 208/500 [00:27<00:34,  8.45it/s]"
     ]
    },
    {
     "name": "stdout",
     "output_type": "stream",
     "text": [
      "Warning: Audio file c:\\Users\\16148\\Desktop\\Projects\\bird_call_project\\Augmented Recordings\\Eremophila_alpestris_Dublin_Township_near__Rockford_Mercer_County_Ohio_716604_segment_10_aug_3.wav is too short or silent. Skipping.\n"
     ]
    },
    {
     "name": "stderr",
     "output_type": "stream",
     "text": [
      " 48%|████▊     | 239/500 [00:31<00:30,  8.51it/s]"
     ]
    },
    {
     "name": "stdout",
     "output_type": "stream",
     "text": [
      "Warning: Audio file c:\\Users\\16148\\Desktop\\Projects\\bird_call_project\\Augmented Recordings\\Eremophila_alpestris_Michigan_Deerfield_11506_segment_5_aug_1.wav is too short or silent. Skipping.\n"
     ]
    },
    {
     "name": "stderr",
     "output_type": "stream",
     "text": [
      " 53%|█████▎    | 266/500 [00:34<00:28,  8.27it/s]"
     ]
    },
    {
     "name": "stdout",
     "output_type": "stream",
     "text": [
      "Warning: Audio file c:\\Users\\16148\\Desktop\\Projects\\bird_call_project\\Augmented Recordings\\Eremophila_alpestris_Michigan_Deerfield_11506_segment_14_aug_1.wav is too short or silent. Skipping.\n"
     ]
    },
    {
     "name": "stderr",
     "output_type": "stream",
     "text": [
      " 58%|█████▊    | 289/500 [00:37<00:26,  8.09it/s]"
     ]
    },
    {
     "name": "stdout",
     "output_type": "stream",
     "text": [
      "Warning: Audio file c:\\Users\\16148\\Desktop\\Projects\\bird_call_project\\Augmented Recordings\\Eremophila_alpestris_Michigan_Deerfield_11506_segment_21_aug_3.wav is too short or silent. Skipping.\n"
     ]
    },
    {
     "name": "stderr",
     "output_type": "stream",
     "text": [
      " 59%|█████▊    | 293/500 [00:38<00:23,  8.88it/s]"
     ]
    },
    {
     "name": "stdout",
     "output_type": "stream",
     "text": [
      "Warning: Audio file c:\\Users\\16148\\Desktop\\Projects\\bird_call_project\\Augmented Recordings\\Eremophila_alpestris_Michigan_Deerfield_11505_segment_1_aug_1.wav is too short or silent. Skipping.\n"
     ]
    },
    {
     "name": "stderr",
     "output_type": "stream",
     "text": [
      " 78%|███████▊  | 389/500 [00:50<00:13,  8.19it/s]"
     ]
    },
    {
     "name": "stdout",
     "output_type": "stream",
     "text": [
      "Warning: Audio file c:\\Users\\16148\\Desktop\\Projects\\bird_call_project\\Augmented Recordings\\Tachycineta_bicolor_Magee_Marsh_-_boardwalk_Lucas_County_Ohio_827054_segment_21_aug_1.wav is too short or silent. Skipping.\n"
     ]
    },
    {
     "name": "stderr",
     "output_type": "stream",
     "text": [
      " 80%|███████▉  | 399/500 [00:51<00:11,  8.49it/s]"
     ]
    },
    {
     "name": "stdout",
     "output_type": "stream",
     "text": [
      "Warning: Audio file c:\\Users\\16148\\Desktop\\Projects\\bird_call_project\\Augmented Recordings\\Tachycineta_bicolor_Magee_Marsh_-_boardwalk_Lucas_County_Ohio_827054_segment_24_aug_2.wav is too short or silent. Skipping.\n"
     ]
    },
    {
     "name": "stderr",
     "output_type": "stream",
     "text": [
      " 84%|████████▍ | 421/500 [00:54<00:09,  8.52it/s]"
     ]
    },
    {
     "name": "stdout",
     "output_type": "stream",
     "text": [
      "Warning: Audio file c:\\Users\\16148\\Desktop\\Projects\\bird_call_project\\Augmented Recordings\\Tachycineta_bicolor_Magee_Marsh_-_boardwalk_Lucas_County_Ohio_827054_segment_31_aug_3.wav is too short or silent. Skipping.\n"
     ]
    },
    {
     "name": "stderr",
     "output_type": "stream",
     "text": [
      " 90%|████████▉ | 448/500 [00:58<00:06,  8.22it/s]"
     ]
    },
    {
     "name": "stdout",
     "output_type": "stream",
     "text": [
      "Warning: Audio file c:\\Users\\16148\\Desktop\\Projects\\bird_call_project\\Augmented Recordings\\Tachycineta_bicolor_Magee_Marsh_-_boardwalk_Lucas_County_Ohio_827054_segment_40_aug_3.wav is too short or silent. Skipping.\n"
     ]
    },
    {
     "name": "stderr",
     "output_type": "stream",
     "text": [
      "100%|██████████| 500/500 [01:05<00:00,  7.69it/s]\n",
      " 10%|█         | 52/500 [00:06<00:52,  8.47it/s]"
     ]
    },
    {
     "name": "stdout",
     "output_type": "stream",
     "text": [
      "Warning: Audio file c:\\Users\\16148\\Desktop\\Projects\\bird_call_project\\Augmented Recordings\\Tachycineta_bicolor_Magee_Marsh_-_boardwalk_Lucas_County_Ohio_827054_segment_75_aug_2.wav is too short or silent. Skipping.\n"
     ]
    },
    {
     "name": "stderr",
     "output_type": "stream",
     "text": [
      " 16%|█▌        | 78/500 [00:10<00:51,  8.18it/s]"
     ]
    },
    {
     "name": "stdout",
     "output_type": "stream",
     "text": [
      "Warning: Audio file c:\\Users\\16148\\Desktop\\Projects\\bird_call_project\\Augmented Recordings\\Tachycineta_bicolor_Magee_Marsh_-_boardwalk_Lucas_County_Ohio_827054_segment_84_aug_1.wav is too short or silent. Skipping.\n"
     ]
    },
    {
     "name": "stderr",
     "output_type": "stream",
     "text": [
      " 25%|██▌       | 127/500 [00:16<00:44,  8.45it/s]"
     ]
    },
    {
     "name": "stdout",
     "output_type": "stream",
     "text": [
      "Warning: Audio file c:\\Users\\16148\\Desktop\\Projects\\bird_call_project\\Augmented Recordings\\Tachycineta_bicolor_Pelee_Shuttle_Stop_near__Leamington_Essex_County_Ontario_477045_segment_1_aug_2.wav is too short or silent. Skipping.\n"
     ]
    },
    {
     "name": "stderr",
     "output_type": "stream",
     "text": [
      " 29%|██▉       | 144/500 [00:18<00:44,  8.09it/s]"
     ]
    },
    {
     "name": "stdout",
     "output_type": "stream",
     "text": [
      "Warning: Audio file c:\\Users\\16148\\Desktop\\Projects\\bird_call_project\\Augmented Recordings\\Tachycineta_bicolor_Pelee_Shuttle_Stop_near__Leamington_Essex_County_Ontario_477045_segment_7_aug_1.wav is too short or silent. Skipping.\n"
     ]
    },
    {
     "name": "stderr",
     "output_type": "stream",
     "text": [
      " 42%|████▏     | 209/500 [00:27<00:33,  8.67it/s]"
     ]
    },
    {
     "name": "stdout",
     "output_type": "stream",
     "text": [
      "Warning: Audio file c:\\Users\\16148\\Desktop\\Projects\\bird_call_project\\Augmented Recordings\\Progne_subis_Ottawa_NWR_Lucas_County_Ohio_803616_segment_6_aug_3.wav is too short or silent. Skipping.\n"
     ]
    },
    {
     "name": "stderr",
     "output_type": "stream",
     "text": [
      " 49%|████▉     | 247/500 [00:32<00:30,  8.30it/s]"
     ]
    },
    {
     "name": "stdout",
     "output_type": "stream",
     "text": [
      "Warning: Audio file c:\\Users\\16148\\Desktop\\Projects\\bird_call_project\\Augmented Recordings\\Progne_subis_Ottawa_NWR_Lucas_County_Ohio_803616_segment_19_aug_2.wav is too short or silent. Skipping.\n"
     ]
    },
    {
     "name": "stderr",
     "output_type": "stream",
     "text": [
      " 55%|█████▌    | 277/500 [00:36<00:25,  8.86it/s]"
     ]
    },
    {
     "name": "stdout",
     "output_type": "stream",
     "text": [
      "Warning: Audio file c:\\Users\\16148\\Desktop\\Projects\\bird_call_project\\Augmented Recordings\\Progne_subis_Magee_Marsh_Ohio_164751_segment_8_aug_2.wav is too short or silent. Skipping.\n"
     ]
    },
    {
     "name": "stderr",
     "output_type": "stream",
     "text": [
      " 66%|██████▌   | 331/500 [00:43<00:20,  8.18it/s]"
     ]
    },
    {
     "name": "stdout",
     "output_type": "stream",
     "text": [
      "Warning: Audio file c:\\Users\\16148\\Desktop\\Projects\\bird_call_project\\Augmented Recordings\\Progne_subis_Magee_Marsh_Ohio_164751_segment_27_aug_2.wav is too short or silent. Skipping.\n"
     ]
    },
    {
     "name": "stderr",
     "output_type": "stream",
     "text": [
      " 70%|██████▉   | 348/500 [00:45<00:18,  8.28it/s]"
     ]
    },
    {
     "name": "stdout",
     "output_type": "stream",
     "text": [
      "Warning: Audio file c:\\Users\\16148\\Desktop\\Projects\\bird_call_project\\Augmented Recordings\\Progne_subis_Magee_Marsh_Ohio_164751_segment_33_aug_1.wav is too short or silent. Skipping.\n"
     ]
    },
    {
     "name": "stderr",
     "output_type": "stream",
     "text": [
      " 95%|█████████▍| 473/500 [01:01<00:03,  8.08it/s]"
     ]
    },
    {
     "name": "stdout",
     "output_type": "stream",
     "text": [
      "Warning: Audio file c:\\Users\\16148\\Desktop\\Projects\\bird_call_project\\Augmented Recordings\\Progne_subis_Magee_Marsh_Ohio_164751_segment_74_aug_3.wav is too short or silent. Skipping.\n"
     ]
    },
    {
     "name": "stderr",
     "output_type": "stream",
     "text": [
      " 96%|█████████▌| 479/500 [01:02<00:02,  8.04it/s]"
     ]
    },
    {
     "name": "stdout",
     "output_type": "stream",
     "text": [
      "Warning: Audio file c:\\Users\\16148\\Desktop\\Projects\\bird_call_project\\Augmented Recordings\\Progne_subis_Magee_Marsh_Ohio_164751_segment_76_aug_3.wav is too short or silent. Skipping.\n"
     ]
    },
    {
     "name": "stderr",
     "output_type": "stream",
     "text": [
      "100%|██████████| 500/500 [01:05<00:00,  7.64it/s]\n",
      "  4%|▎         | 18/500 [00:02<00:57,  8.46it/s]"
     ]
    },
    {
     "name": "stdout",
     "output_type": "stream",
     "text": [
      "Warning: Audio file c:\\Users\\16148\\Desktop\\Projects\\bird_call_project\\Augmented Recordings\\Progne_subis_Magee_Marsh_Ohio_164748_segment_12_aug_3.wav is too short or silent. Skipping.\n"
     ]
    },
    {
     "name": "stderr",
     "output_type": "stream",
     "text": [
      "  7%|▋         | 36/500 [00:04<00:54,  8.55it/s]"
     ]
    },
    {
     "name": "stdout",
     "output_type": "stream",
     "text": [
      "Warning: Audio file c:\\Users\\16148\\Desktop\\Projects\\bird_call_project\\Augmented Recordings\\Progne_subis_Magee_Marsh_Ohio_164748_segment_18_aug_3.wav is too short or silent. Skipping.\n"
     ]
    },
    {
     "name": "stderr",
     "output_type": "stream",
     "text": [
      " 14%|█▍        | 71/500 [00:09<00:46,  9.14it/s]"
     ]
    },
    {
     "name": "stdout",
     "output_type": "stream",
     "text": [
      "Warning: Audio file c:\\Users\\16148\\Desktop\\Projects\\bird_call_project\\Augmented Recordings\\Progne_subis_Whitewater_Township_near__Cleves_Hamilton_County_Ohio_817716_segment_8_aug_2.wav is too short or silent. Skipping.\n"
     ]
    },
    {
     "name": "stderr",
     "output_type": "stream",
     "text": [
      " 25%|██▍       | 124/500 [00:16<00:46,  8.08it/s]"
     ]
    },
    {
     "name": "stdout",
     "output_type": "stream",
     "text": [
      "Warning: Audio file c:\\Users\\16148\\Desktop\\Projects\\bird_call_project\\Augmented Recordings\\Hirundo_rustica_Green_Township_near__Cincinnati_Hamilton_County_Ohio_833706_segment_11_aug_1.wav is too short or silent. Skipping.\n"
     ]
    },
    {
     "name": "stderr",
     "output_type": "stream",
     "text": [
      " 32%|███▏      | 161/500 [00:21<00:42,  8.05it/s]"
     ]
    },
    {
     "name": "stdout",
     "output_type": "stream",
     "text": [
      "Warning: Audio file c:\\Users\\16148\\Desktop\\Projects\\bird_call_project\\Augmented Recordings\\Corthylio_calendula_Ohio_Crane_Creek_SP_17045_segment_10_aug_2.wav is too short or silent. Skipping.\n"
     ]
    },
    {
     "name": "stderr",
     "output_type": "stream",
     "text": [
      " 35%|███▌      | 177/500 [00:23<00:40,  7.95it/s]"
     ]
    },
    {
     "name": "stdout",
     "output_type": "stream",
     "text": [
      "Warning: Audio file c:\\Users\\16148\\Desktop\\Projects\\bird_call_project\\Augmented Recordings\\Cistothorus_stellaris_Battelle_Darby_Metro_Park--Cutoff_trail_from_Darby_Creek_Trail_past_barn_to_Darby_Creek_Rd._105741_segment_4_aug_3.wav is too short or silent. Skipping.\n"
     ]
    },
    {
     "name": "stderr",
     "output_type": "stream",
     "text": [
      " 63%|██████▎   | 315/500 [00:41<00:22,  8.21it/s]"
     ]
    },
    {
     "name": "stdout",
     "output_type": "stream",
     "text": [
      "Warning: Audio file c:\\Users\\16148\\Desktop\\Projects\\bird_call_project\\Augmented Recordings\\Cistothorus_palustris_Jerusalem_Township_near__Bono_Lucas_County_Ohio_784047_segment_20_aug_3.wav is too short or silent. Skipping.\n"
     ]
    },
    {
     "name": "stderr",
     "output_type": "stream",
     "text": [
      " 66%|██████▌   | 328/500 [00:42<00:20,  8.38it/s]"
     ]
    },
    {
     "name": "stdout",
     "output_type": "stream",
     "text": [
      "Warning: Audio file c:\\Users\\16148\\Desktop\\Projects\\bird_call_project\\Augmented Recordings\\Cistothorus_palustris_Battelle_Darby_Metro_Park_-_Wetlands_417866_segment_4_aug_1.wav is too short or silent. Skipping.\n"
     ]
    },
    {
     "name": "stderr",
     "output_type": "stream",
     "text": [
      "100%|██████████| 500/500 [01:06<00:00,  7.57it/s]\n",
      "  3%|▎         | 17/500 [00:02<00:57,  8.35it/s]"
     ]
    },
    {
     "name": "stdout",
     "output_type": "stream",
     "text": [
      "Warning: Audio file c:\\Users\\16148\\Desktop\\Projects\\bird_call_project\\Augmented Recordings\\Cistothorus_palustris_Ohio_Ottawa_NWR_178295_segment_28_aug_1.wav is too short or silent. Skipping.\n"
     ]
    },
    {
     "name": "stderr",
     "output_type": "stream",
     "text": [
      "  5%|▍         | 24/500 [00:03<00:58,  8.07it/s]"
     ]
    },
    {
     "name": "stdout",
     "output_type": "stream",
     "text": [
      "Warning: Audio file c:\\Users\\16148\\Desktop\\Projects\\bird_call_project\\Augmented Recordings\\Cistothorus_palustris_Ohio_Ottawa_NWR_178295_segment_30_aug_2.wav is too short or silent. Skipping.\n"
     ]
    },
    {
     "name": "stderr",
     "output_type": "stream",
     "text": [
      " 14%|█▍        | 69/500 [00:09<00:52,  8.16it/s]"
     ]
    },
    {
     "name": "stdout",
     "output_type": "stream",
     "text": [
      "Warning: Audio file c:\\Users\\16148\\Desktop\\Projects\\bird_call_project\\Augmented Recordings\\Thryothorus_ludovicianus_Whitewater_Township_near__Cleves_Hamilton_County_Ohio_896572_segment_11_aug_2.wav is too short or silent. Skipping.\n"
     ]
    },
    {
     "name": "stderr",
     "output_type": "stream",
     "text": [
      " 15%|█▌        | 76/500 [00:09<00:47,  8.95it/s]"
     ]
    },
    {
     "name": "stdout",
     "output_type": "stream",
     "text": [
      "Warning: Audio file c:\\Users\\16148\\Desktop\\Projects\\bird_call_project\\Augmented Recordings\\Thryothorus_ludovicianus_Camp_Henry_near__Wheatley_Essex_County_Ontario_840733_segment_1_aug_3.wav is too short or silent. Skipping.\n"
     ]
    },
    {
     "name": "stderr",
     "output_type": "stream",
     "text": [
      " 28%|██▊       | 141/500 [00:18<00:42,  8.44it/s]"
     ]
    },
    {
     "name": "stdout",
     "output_type": "stream",
     "text": [
      "Warning: Audio file c:\\Users\\16148\\Desktop\\Projects\\bird_call_project\\Augmented Recordings\\Thryothorus_ludovicianus_Green_Township_near__Cincinnati_Hamilton_County_Ohio_726631_segment_0_aug_2.wav is too short or silent. Skipping.\n"
     ]
    },
    {
     "name": "stderr",
     "output_type": "stream",
     "text": [
      " 30%|██▉       | 148/500 [00:19<00:42,  8.35it/s]"
     ]
    },
    {
     "name": "stdout",
     "output_type": "stream",
     "text": [
      "Warning: Audio file c:\\Users\\16148\\Desktop\\Projects\\bird_call_project\\Augmented Recordings\\Thryothorus_ludovicianus_Green_Township_near__Cincinnati_Hamilton_County_Ohio_726631_segment_2_aug_3.wav is too short or silent. Skipping.\n"
     ]
    },
    {
     "name": "stderr",
     "output_type": "stream",
     "text": [
      " 33%|███▎      | 165/500 [00:21<00:37,  8.82it/s]"
     ]
    },
    {
     "name": "stdout",
     "output_type": "stream",
     "text": [
      "Warning: Audio file c:\\Users\\16148\\Desktop\\Projects\\bird_call_project\\Augmented Recordings\\Thryothorus_ludovicianus_Green_Township_near__Cincinnati_Hamilton_County_Ohio_726631_segment_8_aug_2.wav is too short or silent. Skipping.\n",
      "Warning: Audio file c:\\Users\\16148\\Desktop\\Projects\\bird_call_project\\Augmented Recordings\\Thryothorus_ludovicianus_Green_Township_near__Cincinnati_Hamilton_County_Ohio_726631_segment_8_aug_3.wav is too short or silent. Skipping.\n"
     ]
    },
    {
     "name": "stderr",
     "output_type": "stream",
     "text": [
      " 38%|███▊      | 188/500 [00:24<00:37,  8.41it/s]"
     ]
    },
    {
     "name": "stdout",
     "output_type": "stream",
     "text": [
      "Warning: Audio file c:\\Users\\16148\\Desktop\\Projects\\bird_call_project\\Augmented Recordings\\Thryothorus_ludovicianus_Spring_Valley_near__Waynesville_Greene_Cty_Ohio_477595_segment_7_aug_1.wav is too short or silent. Skipping.\n"
     ]
    },
    {
     "name": "stderr",
     "output_type": "stream",
     "text": [
      " 51%|█████     | 255/500 [00:33<00:31,  7.87it/s]"
     ]
    },
    {
     "name": "stdout",
     "output_type": "stream",
     "text": [
      "Warning: Audio file c:\\Users\\16148\\Desktop\\Projects\\bird_call_project\\Augmented Recordings\\Thryothorus_ludovicianus_East_Fork_Lake_SP_Clermont_County_Ohio_416559_segment_8_aug_2.wav is too short or silent. Skipping.\n"
     ]
    },
    {
     "name": "stderr",
     "output_type": "stream",
     "text": [
      " 73%|███████▎  | 363/500 [00:48<00:16,  8.06it/s]"
     ]
    },
    {
     "name": "stdout",
     "output_type": "stream",
     "text": [
      "Warning: Audio file c:\\Users\\16148\\Desktop\\Projects\\bird_call_project\\Augmented Recordings\\Thryothorus_ludovicianus_Indian_Lake_Logan_County_Ohio_775052_segment_16_aug_2.wav is too short or silent. Skipping.\n"
     ]
    },
    {
     "name": "stderr",
     "output_type": "stream",
     "text": [
      " 73%|███████▎  | 366/500 [00:48<00:16,  8.27it/s]"
     ]
    },
    {
     "name": "stdout",
     "output_type": "stream",
     "text": [
      "Warning: Audio file c:\\Users\\16148\\Desktop\\Projects\\bird_call_project\\Augmented Recordings\\Thryothorus_ludovicianus_Indian_Lake_Logan_County_Ohio_775052_segment_17_aug_2.wav is too short or silent. Skipping.\n"
     ]
    },
    {
     "name": "stderr",
     "output_type": "stream",
     "text": [
      " 81%|████████▏ | 407/500 [00:53<00:11,  8.26it/s]"
     ]
    },
    {
     "name": "stdout",
     "output_type": "stream",
     "text": [
      "Warning: Audio file c:\\Users\\16148\\Desktop\\Projects\\bird_call_project\\Augmented Recordings\\Thryothorus_ludovicianus_Anderson_Township_near__Cincinnati_Hamilton_County_Ohio_542519_segment_1_aug_1.wav is too short or silent. Skipping.\n"
     ]
    },
    {
     "name": "stderr",
     "output_type": "stream",
     "text": [
      " 85%|████████▌ | 427/500 [00:56<00:08,  8.51it/s]"
     ]
    },
    {
     "name": "stdout",
     "output_type": "stream",
     "text": [
      "Warning: Audio file c:\\Users\\16148\\Desktop\\Projects\\bird_call_project\\Augmented Recordings\\Thryothorus_ludovicianus_Anderson_Township_near__Cincinnati_Hamilton_County_Ohio_542519_segment_7_aug_3.wav is too short or silent. Skipping.\n"
     ]
    },
    {
     "name": "stderr",
     "output_type": "stream",
     "text": [
      " 96%|█████████▌| 480/500 [01:03<00:02,  8.89it/s]"
     ]
    },
    {
     "name": "stdout",
     "output_type": "stream",
     "text": [
      "Warning: Audio file c:\\Users\\16148\\Desktop\\Projects\\bird_call_project\\Augmented Recordings\\Thryothorus_ludovicianus_Anderson_Township_near__Cincinnati_Hamilton_County_Ohio_542519_segment_25_aug_2.wav is too short or silent. Skipping.\n"
     ]
    },
    {
     "name": "stderr",
     "output_type": "stream",
     "text": [
      "100%|██████████| 500/500 [01:06<00:00,  7.57it/s]\n",
      "  5%|▌         | 26/500 [00:03<00:56,  8.36it/s]"
     ]
    },
    {
     "name": "stdout",
     "output_type": "stream",
     "text": [
      "Warning: Audio file c:\\Users\\16148\\Desktop\\Projects\\bird_call_project\\Augmented Recordings\\Thryothorus_ludovicianus_Park_End_Dr_Montgomery_County_Ohio_477391_segment_2_aug_3.wav is too short or silent. Skipping.\n"
     ]
    },
    {
     "name": "stderr",
     "output_type": "stream",
     "text": [
      " 43%|████▎     | 217/500 [00:28<00:34,  8.12it/s]"
     ]
    },
    {
     "name": "stdout",
     "output_type": "stream",
     "text": [
      "Warning: Audio file c:\\Users\\16148\\Desktop\\Projects\\bird_call_project\\Augmented Recordings\\Troglodytes_hiemalis_Miami_Township_near__North_Bend_Hamilton_County_Ohio_713587_segment_8_aug_2.wav is too short or silent. Skipping.\n"
     ]
    },
    {
     "name": "stderr",
     "output_type": "stream",
     "text": [
      " 46%|████▌     | 229/500 [00:29<00:31,  8.58it/s]"
     ]
    },
    {
     "name": "stdout",
     "output_type": "stream",
     "text": [
      "Warning: Audio file c:\\Users\\16148\\Desktop\\Projects\\bird_call_project\\Augmented Recordings\\Troglodytes_hiemalis_Miami_Township_near__North_Bend_Hamilton_County_Ohio_713587_segment_12_aug_2.wav is too short or silent. Skipping.\n"
     ]
    },
    {
     "name": "stderr",
     "output_type": "stream",
     "text": [
      " 47%|████▋     | 236/500 [00:30<00:31,  8.37it/s]"
     ]
    },
    {
     "name": "stdout",
     "output_type": "stream",
     "text": [
      "Warning: Audio file c:\\Users\\16148\\Desktop\\Projects\\bird_call_project\\Augmented Recordings\\Troglodytes_hiemalis_Miami_Township_near__North_Bend_Hamilton_County_Ohio_713587_segment_14_aug_3.wav is too short or silent. Skipping.\n"
     ]
    },
    {
     "name": "stderr",
     "output_type": "stream",
     "text": [
      " 64%|██████▍   | 321/500 [00:42<00:20,  8.62it/s]"
     ]
    },
    {
     "name": "stdout",
     "output_type": "stream",
     "text": [
      "Warning: Audio file c:\\Users\\16148\\Desktop\\Projects\\bird_call_project\\Augmented Recordings\\Troglodytes_aedon_Green_Township_near__Cincinnati_Hamilton_County_Ohio_726630_segment_15_aug_1.wav is too short or silent. Skipping.\n"
     ]
    },
    {
     "name": "stderr",
     "output_type": "stream",
     "text": [
      " 67%|██████▋   | 335/500 [00:43<00:20,  8.06it/s]"
     ]
    },
    {
     "name": "stdout",
     "output_type": "stream",
     "text": [
      "Warning: Audio file c:\\Users\\16148\\Desktop\\Projects\\bird_call_project\\Augmented Recordings\\Troglodytes_aedon_Miami_Township_near__Cleves_Hamilton_County_Ohio_645572_segment_3_aug_3.wav is too short or silent. Skipping.\n"
     ]
    },
    {
     "name": "stderr",
     "output_type": "stream",
     "text": [
      " 71%|███████   | 354/500 [00:46<00:18,  7.99it/s]"
     ]
    },
    {
     "name": "stdout",
     "output_type": "stream",
     "text": [
      "Warning: Audio file c:\\Users\\16148\\Desktop\\Projects\\bird_call_project\\Augmented Recordings\\Troglodytes_aedon_Miami_Township_near__Cleves_Hamilton_County_Ohio_645572_segment_10_aug_1.wav is too short or silent. Skipping.\n"
     ]
    },
    {
     "name": "stderr",
     "output_type": "stream",
     "text": [
      " 76%|███████▌  | 381/500 [00:49<00:14,  8.10it/s]"
     ]
    },
    {
     "name": "stdout",
     "output_type": "stream",
     "text": [
      "Warning: Audio file c:\\Users\\16148\\Desktop\\Projects\\bird_call_project\\Augmented Recordings\\Troglodytes_aedon_Cleveland_Heights_Ohio_67466_segment_8_aug_1.wav is too short or silent. Skipping.\n"
     ]
    },
    {
     "name": "stderr",
     "output_type": "stream",
     "text": [
      " 86%|████████▌ | 428/500 [00:56<00:08,  8.40it/s]"
     ]
    },
    {
     "name": "stdout",
     "output_type": "stream",
     "text": [
      "Warning: Audio file c:\\Users\\16148\\Desktop\\Projects\\bird_call_project\\Augmented Recordings\\Troglodytes_aedon_Cleveland_Heights_Ohio_67466_segment_24_aug_3.wav is too short or silent. Skipping.\n"
     ]
    },
    {
     "name": "stderr",
     "output_type": "stream",
     "text": [
      " 88%|████████▊ | 442/500 [00:58<00:07,  8.25it/s]"
     ]
    },
    {
     "name": "stdout",
     "output_type": "stream",
     "text": [
      "Warning: Audio file c:\\Users\\16148\\Desktop\\Projects\\bird_call_project\\Augmented Recordings\\Troglodytes_aedon_Cleveland_Heights_Ohio_67466_segment_29_aug_2.wav is too short or silent. Skipping.\n"
     ]
    },
    {
     "name": "stderr",
     "output_type": "stream",
     "text": [
      " 89%|████████▉ | 446/500 [00:58<00:06,  8.24it/s]"
     ]
    },
    {
     "name": "stdout",
     "output_type": "stream",
     "text": [
      "Warning: Audio file c:\\Users\\16148\\Desktop\\Projects\\bird_call_project\\Augmented Recordings\\Troglodytes_aedon_Cleveland_Heights_Ohio_67466_segment_30_aug_3.wav is too short or silent. Skipping.\n"
     ]
    },
    {
     "name": "stderr",
     "output_type": "stream",
     "text": [
      "100%|██████████| 500/500 [01:05<00:00,  7.59it/s]\n",
      " 10%|▉         | 48/500 [00:06<00:55,  8.11it/s]"
     ]
    },
    {
     "name": "stdout",
     "output_type": "stream",
     "text": [
      "Warning: Audio file c:\\Users\\16148\\Desktop\\Projects\\bird_call_project\\Augmented Recordings\\Troglodytes_aedon_Magee_Marsh_-_boardwalk_Lucas_County_Ohio_828458_segment_15_aug_3.wav is too short or silent. Skipping.\n"
     ]
    },
    {
     "name": "stderr",
     "output_type": "stream",
     "text": [
      " 20%|██        | 101/500 [00:13<00:43,  9.19it/s]"
     ]
    },
    {
     "name": "stdout",
     "output_type": "stream",
     "text": [
      "Warning: Audio file c:\\Users\\16148\\Desktop\\Projects\\bird_call_project\\Augmented Recordings\\Troglodytes_aedon_Pelee_near__Leamington_Essex_County_Ontario_476573_segment_3_aug_2.wav is too short or silent. Skipping.\n"
     ]
    },
    {
     "name": "stderr",
     "output_type": "stream",
     "text": [
      " 22%|██▏       | 112/500 [00:14<00:41,  9.32it/s]"
     ]
    },
    {
     "name": "stdout",
     "output_type": "stream",
     "text": [
      "Warning: Audio file c:\\Users\\16148\\Desktop\\Projects\\bird_call_project\\Augmented Recordings\\Troglodytes_aedon_Pelee_near__Leamington_Essex_County_Ontario_473225_segment_3_aug_1.wav is too short or silent. Skipping.\n",
      "Warning: Audio file c:\\Users\\16148\\Desktop\\Projects\\bird_call_project\\Augmented Recordings\\Troglodytes_aedon_Pelee_near__Leamington_Essex_County_Ontario_473225_segment_3_aug_2.wav is too short or silent. Skipping.\n"
     ]
    },
    {
     "name": "stderr",
     "output_type": "stream",
     "text": [
      " 23%|██▎       | 117/500 [00:15<00:44,  8.52it/s]"
     ]
    },
    {
     "name": "stdout",
     "output_type": "stream",
     "text": [
      "Warning: Audio file c:\\Users\\16148\\Desktop\\Projects\\bird_call_project\\Augmented Recordings\\Troglodytes_aedon_Orrville_Ohio_53922_segment_0_aug_3.wav is too short or silent. Skipping.\n"
     ]
    },
    {
     "name": "stderr",
     "output_type": "stream",
     "text": [
      " 25%|██▍       | 123/500 [00:16<00:37, 10.07it/s]"
     ]
    },
    {
     "name": "stdout",
     "output_type": "stream",
     "text": [
      "Warning: Audio file c:\\Users\\16148\\Desktop\\Projects\\bird_call_project\\Augmented Recordings\\Troglodytes_aedon_Orrville_Ohio_53922_segment_2_aug_2.wav is too short or silent. Skipping.\n",
      "Warning: Audio file c:\\Users\\16148\\Desktop\\Projects\\bird_call_project\\Augmented Recordings\\Troglodytes_aedon_Orrville_Ohio_53922_segment_2_aug_3.wav is too short or silent. Skipping.\n",
      "Warning: Audio file c:\\Users\\16148\\Desktop\\Projects\\bird_call_project\\Augmented Recordings\\Troglodytes_aedon_Orrville_Ohio_53922_segment_3_aug_1.wav is too short or silent. Skipping.\n"
     ]
    },
    {
     "name": "stderr",
     "output_type": "stream",
     "text": [
      " 25%|██▌       | 126/500 [00:16<00:38,  9.76it/s]"
     ]
    },
    {
     "name": "stdout",
     "output_type": "stream",
     "text": [
      "Warning: Audio file c:\\Users\\16148\\Desktop\\Projects\\bird_call_project\\Augmented Recordings\\Troglodytes_aedon_Orrville_Ohio_53922_segment_3_aug_3.wav is too short or silent. Skipping.\n",
      "Warning: Audio file c:\\Users\\16148\\Desktop\\Projects\\bird_call_project\\Augmented Recordings\\Troglodytes_aedon_Orrville_Ohio_53922_segment_4_aug_1.wav is too short or silent. Skipping.\n",
      "Warning: Audio file c:\\Users\\16148\\Desktop\\Projects\\bird_call_project\\Augmented Recordings\\Troglodytes_aedon_Orrville_Ohio_53922_segment_4_aug_2.wav is too short or silent. Skipping.\n"
     ]
    },
    {
     "name": "stderr",
     "output_type": "stream",
     "text": [
      " 38%|███▊      | 189/500 [00:25<00:39,  7.80it/s]"
     ]
    },
    {
     "name": "stdout",
     "output_type": "stream",
     "text": [
      "Warning: Audio file c:\\Users\\16148\\Desktop\\Projects\\bird_call_project\\Augmented Recordings\\Troglodytes_aedon_Cleveland_Cuyahoga_County_Ohio_256649_segment_9_aug_3.wav is too short or silent. Skipping.\n"
     ]
    },
    {
     "name": "stderr",
     "output_type": "stream",
     "text": [
      " 45%|████▍     | 224/500 [00:29<00:32,  8.57it/s]"
     ]
    },
    {
     "name": "stdout",
     "output_type": "stream",
     "text": [
      "Warning: Audio file c:\\Users\\16148\\Desktop\\Projects\\bird_call_project\\Augmented Recordings\\Troglodytes_aedon_Cleveland_Cuyahoga_County_Ohio_256649_segment_21_aug_1.wav is too short or silent. Skipping.\n",
      "Warning: Audio file c:\\Users\\16148\\Desktop\\Projects\\bird_call_project\\Augmented Recordings\\Troglodytes_aedon_Cleveland_Cuyahoga_County_Ohio_256649_segment_21_aug_2.wav is too short or silent. Skipping.\n"
     ]
    },
    {
     "name": "stderr",
     "output_type": "stream",
     "text": [
      " 46%|████▌     | 230/500 [00:30<00:31,  8.53it/s]"
     ]
    },
    {
     "name": "stdout",
     "output_type": "stream",
     "text": [
      "Warning: Audio file c:\\Users\\16148\\Desktop\\Projects\\bird_call_project\\Augmented Recordings\\Troglodytes_aedon_Ohio_Crane_Creek_SP_17053_segment_1_aug_2.wav is too short or silent. Skipping.\n"
     ]
    },
    {
     "name": "stderr",
     "output_type": "stream",
     "text": [
      " 50%|█████     | 251/500 [00:33<00:28,  8.73it/s]"
     ]
    },
    {
     "name": "stdout",
     "output_type": "stream",
     "text": [
      "Warning: Audio file c:\\Users\\16148\\Desktop\\Projects\\bird_call_project\\Augmented Recordings\\Troglodytes_aedon_Ohio_Crane_Creek_SP_17053_segment_8_aug_2.wav is too short or silent. Skipping.\n"
     ]
    },
    {
     "name": "stderr",
     "output_type": "stream",
     "text": [
      " 58%|█████▊    | 292/500 [00:38<00:27,  7.67it/s]"
     ]
    },
    {
     "name": "stdout",
     "output_type": "stream",
     "text": [
      "Warning: Audio file c:\\Users\\16148\\Desktop\\Projects\\bird_call_project\\Augmented Recordings\\Troglodytes_aedon_Ohio_Crane_Creek_SP_17052_segment_0_aug_1.wav is too short or silent. Skipping.\n"
     ]
    },
    {
     "name": "stderr",
     "output_type": "stream",
     "text": [
      " 62%|██████▏   | 308/500 [00:40<00:23,  8.28it/s]"
     ]
    },
    {
     "name": "stdout",
     "output_type": "stream",
     "text": [
      "Warning: Audio file c:\\Users\\16148\\Desktop\\Projects\\bird_call_project\\Augmented Recordings\\Troglodytes_aedon_Ohio_Crane_Creek_SP_17052_segment_5_aug_2.wav is too short or silent. Skipping.\n"
     ]
    },
    {
     "name": "stderr",
     "output_type": "stream",
     "text": [
      " 82%|████████▏ | 412/500 [00:54<00:11,  7.91it/s]"
     ]
    },
    {
     "name": "stdout",
     "output_type": "stream",
     "text": [
      "Warning: Audio file c:\\Users\\16148\\Desktop\\Projects\\bird_call_project\\Augmented Recordings\\Troglodytes_aedon_Kendrick_Woods_State_Nature_Preserve_Allen_County_Ohio_775486_segment_34_aug_1.wav is too short or silent. Skipping.\n"
     ]
    },
    {
     "name": "stderr",
     "output_type": "stream",
     "text": [
      " 91%|█████████ | 454/500 [01:00<00:05,  7.98it/s]"
     ]
    },
    {
     "name": "stdout",
     "output_type": "stream",
     "text": [
      "Warning: Audio file c:\\Users\\16148\\Desktop\\Projects\\bird_call_project\\Augmented Recordings\\Troglodytes_aedon_Kendrick_Woods_State_Nature_Preserve_Allen_County_Ohio_775486_segment_48_aug_1.wav is too short or silent. Skipping.\n"
     ]
    },
    {
     "name": "stderr",
     "output_type": "stream",
     "text": [
      "100%|██████████| 500/500 [01:06<00:00,  7.56it/s]\n",
      "  2%|▏         | 8/500 [00:00<00:57,  8.60it/s]"
     ]
    },
    {
     "name": "stdout",
     "output_type": "stream",
     "text": [
      "Warning: Audio file c:\\Users\\16148\\Desktop\\Projects\\bird_call_project\\Augmented Recordings\\Polioptila_caerulea_Point_Pelee_National_Park_near__Wheatley_Essex_County_Ontario_803379_segment_5_aug_1.wav is too short or silent. Skipping.\n"
     ]
    },
    {
     "name": "stderr",
     "output_type": "stream",
     "text": [
      "  8%|▊         | 39/500 [00:05<00:54,  8.46it/s]"
     ]
    },
    {
     "name": "stdout",
     "output_type": "stream",
     "text": [
      "Warning: Audio file c:\\Users\\16148\\Desktop\\Projects\\bird_call_project\\Augmented Recordings\\Polioptila_caerulea_Point_Pelee_National_Park_near__Wheatley_Essex_County_Ontario_803378_segment_9_aug_2.wav is too short or silent. Skipping.\n"
     ]
    },
    {
     "name": "stderr",
     "output_type": "stream",
     "text": [
      " 10%|█         | 51/500 [00:06<00:58,  7.73it/s]"
     ]
    },
    {
     "name": "stdout",
     "output_type": "stream",
     "text": [
      "Warning: Audio file c:\\Users\\16148\\Desktop\\Projects\\bird_call_project\\Augmented Recordings\\Polioptila_caerulea_Pelee_near__Leamington_Essex_County_Ontario_476524_segment_0_aug_2.wav is too short or silent. Skipping.\n"
     ]
    },
    {
     "name": "stderr",
     "output_type": "stream",
     "text": [
      " 11%|█         | 56/500 [00:07<00:55,  7.94it/s]"
     ]
    },
    {
     "name": "stdout",
     "output_type": "stream",
     "text": [
      "Warning: Audio file c:\\Users\\16148\\Desktop\\Projects\\bird_call_project\\Augmented Recordings\\Polioptila_caerulea_Pelee_near__Leamington_Essex_County_Ontario_476524_segment_2_aug_1.wav is too short or silent. Skipping.\n"
     ]
    },
    {
     "name": "stderr",
     "output_type": "stream",
     "text": [
      " 54%|█████▎    | 268/500 [00:35<00:28,  8.11it/s]"
     ]
    },
    {
     "name": "stdout",
     "output_type": "stream",
     "text": [
      "Warning: Audio file c:\\Users\\16148\\Desktop\\Projects\\bird_call_project\\Augmented Recordings\\Polioptila_caerulea_Magee_Marsh_-_boardwalk_Lucas_County_Ohio_816237_segment_38_aug_3.wav is too short or silent. Skipping.\n"
     ]
    },
    {
     "name": "stderr",
     "output_type": "stream",
     "text": [
      " 55%|█████▌    | 276/500 [00:37<00:28,  7.90it/s]"
     ]
    },
    {
     "name": "stdout",
     "output_type": "stream",
     "text": [
      "Warning: Audio file c:\\Users\\16148\\Desktop\\Projects\\bird_call_project\\Augmented Recordings\\Polioptila_caerulea_Magee_Marsh_-_boardwalk_Lucas_County_Ohio_816237_segment_41_aug_2.wav is too short or silent. Skipping.\n"
     ]
    },
    {
     "name": "stderr",
     "output_type": "stream",
     "text": [
      " 59%|█████▉    | 297/500 [00:39<00:21,  9.37it/s]"
     ]
    },
    {
     "name": "stdout",
     "output_type": "stream",
     "text": [
      "Warning: Audio file c:\\Users\\16148\\Desktop\\Projects\\bird_call_project\\Augmented Recordings\\Polioptila_caerulea_Magee_Marsh_-_boardwalk_Lucas_County_Ohio_816237_segment_48_aug_2.wav is too short or silent. Skipping.\n",
      "Warning: Audio file c:\\Users\\16148\\Desktop\\Projects\\bird_call_project\\Augmented Recordings\\Polioptila_caerulea_Magee_Marsh_-_boardwalk_Lucas_County_Ohio_816237_segment_48_aug_3.wav is too short or silent. Skipping.\n"
     ]
    },
    {
     "name": "stderr",
     "output_type": "stream",
     "text": [
      " 62%|██████▏   | 312/500 [00:41<00:22,  8.32it/s]"
     ]
    },
    {
     "name": "stdout",
     "output_type": "stream",
     "text": [
      "Warning: Audio file c:\\Users\\16148\\Desktop\\Projects\\bird_call_project\\Augmented Recordings\\Polioptila_caerulea_Magee_Marsh_-_boardwalk_Lucas_County_Ohio_816236_segment_2_aug_2.wav is too short or silent. Skipping.\n"
     ]
    },
    {
     "name": "stderr",
     "output_type": "stream",
     "text": [
      " 72%|███████▏  | 359/500 [00:47<00:16,  8.31it/s]"
     ]
    },
    {
     "name": "stdout",
     "output_type": "stream",
     "text": [
      "Warning: Audio file c:\\Users\\16148\\Desktop\\Projects\\bird_call_project\\Augmented Recordings\\Polioptila_caerulea_Magee_Marsh_-_boardwalk_Lucas_County_Ohio_816236_segment_18_aug_1.wav is too short or silent. Skipping.\n",
      "Warning: Audio file c:\\Users\\16148\\Desktop\\Projects\\bird_call_project\\Augmented Recordings\\Polioptila_caerulea_Magee_Marsh_-_boardwalk_Lucas_County_Ohio_816236_segment_18_aug_3.wav is too short or silent. Skipping.\n"
     ]
    },
    {
     "name": "stderr",
     "output_type": "stream",
     "text": [
      " 80%|████████  | 401/500 [00:53<00:11,  8.60it/s]"
     ]
    },
    {
     "name": "stdout",
     "output_type": "stream",
     "text": [
      "Warning: Audio file c:\\Users\\16148\\Desktop\\Projects\\bird_call_project\\Augmented Recordings\\Polioptila_caerulea_Dunham_Recreation_Complex_near__Cincinnati_Hamilton_County_Ohio_646424_segment_13_aug_1.wav is too short or silent. Skipping.\n",
      "Warning: Audio file c:\\Users\\16148\\Desktop\\Projects\\bird_call_project\\Augmented Recordings\\Polioptila_caerulea_Dunham_Recreation_Complex_near__Cincinnati_Hamilton_County_Ohio_646424_segment_13_aug_3.wav is too short or silent. Skipping.\n"
     ]
    },
    {
     "name": "stderr",
     "output_type": "stream",
     "text": [
      " 84%|████████▍ | 419/500 [00:55<00:09,  8.27it/s]"
     ]
    },
    {
     "name": "stdout",
     "output_type": "stream",
     "text": [
      "Warning: Audio file c:\\Users\\16148\\Desktop\\Projects\\bird_call_project\\Augmented Recordings\\Polioptila_caerulea_Miami_Township_near__Cleves_Hamilton_County_Ohio_645807_segment_5_aug_1.wav is too short or silent. Skipping.\n"
     ]
    },
    {
     "name": "stderr",
     "output_type": "stream",
     "text": [
      " 89%|████████▉ | 444/500 [00:58<00:06,  8.10it/s]"
     ]
    },
    {
     "name": "stdout",
     "output_type": "stream",
     "text": [
      "Warning: Audio file c:\\Users\\16148\\Desktop\\Projects\\bird_call_project\\Augmented Recordings\\Polioptila_caerulea_Miami_Township_near__Cleves_Hamilton_County_Ohio_645807_segment_13_aug_2.wav is too short or silent. Skipping.\n"
     ]
    },
    {
     "name": "stderr",
     "output_type": "stream",
     "text": [
      " 90%|████████▉ | 449/500 [00:59<00:06,  8.49it/s]"
     ]
    },
    {
     "name": "stdout",
     "output_type": "stream",
     "text": [
      "Warning: Audio file c:\\Users\\16148\\Desktop\\Projects\\bird_call_project\\Augmented Recordings\\Polioptila_caerulea_Miami_Township_near__Cleves_Hamilton_County_Ohio_645807_segment_15_aug_1.wav is too short or silent. Skipping.\n"
     ]
    },
    {
     "name": "stderr",
     "output_type": "stream",
     "text": [
      " 92%|█████████▏| 458/500 [01:00<00:04,  8.63it/s]"
     ]
    },
    {
     "name": "stdout",
     "output_type": "stream",
     "text": [
      "Warning: Audio file c:\\Users\\16148\\Desktop\\Projects\\bird_call_project\\Augmented Recordings\\Polioptila_caerulea_Miami_Township_near__Cleves_Hamilton_County_Ohio_645807_segment_18_aug_1.wav is too short or silent. Skipping.\n"
     ]
    },
    {
     "name": "stderr",
     "output_type": "stream",
     "text": [
      " 99%|█████████▊| 493/500 [01:05<00:00,  8.75it/s]"
     ]
    },
    {
     "name": "stdout",
     "output_type": "stream",
     "text": [
      "Warning: Audio file c:\\Users\\16148\\Desktop\\Projects\\bird_call_project\\Augmented Recordings\\Polioptila_caerulea_Miami_Township_near__Cleves_Hamilton_County_Ohio_645807_segment_29_aug_2.wav is too short or silent. Skipping.\n"
     ]
    },
    {
     "name": "stderr",
     "output_type": "stream",
     "text": [
      "100%|██████████| 500/500 [01:06<00:00,  7.57it/s]\n",
      "  8%|▊         | 38/500 [00:05<00:55,  8.35it/s]"
     ]
    },
    {
     "name": "stdout",
     "output_type": "stream",
     "text": [
      "Warning: Audio file c:\\Users\\16148\\Desktop\\Projects\\bird_call_project\\Augmented Recordings\\Polioptila_caerulea_Miami_Township_near__Cleves_Hamilton_County_Ohio_645807_segment_44_aug_3.wav is too short or silent. Skipping.\n"
     ]
    },
    {
     "name": "stderr",
     "output_type": "stream",
     "text": [
      " 41%|████      | 206/500 [00:27<00:36,  7.98it/s]"
     ]
    },
    {
     "name": "stdout",
     "output_type": "stream",
     "text": [
      "Warning: Audio file c:\\Users\\16148\\Desktop\\Projects\\bird_call_project\\Augmented Recordings\\Sitta_carolinensis_Harrison_Township_near__Harrison_Hamilton_County_Ohio_714979_segment_15_aug_3.wav is too short or silent. Skipping.\n"
     ]
    },
    {
     "name": "stderr",
     "output_type": "stream",
     "text": [
      " 48%|████▊     | 240/500 [00:32<00:30,  8.40it/s]"
     ]
    },
    {
     "name": "stdout",
     "output_type": "stream",
     "text": [
      "Warning: Audio file c:\\Users\\16148\\Desktop\\Projects\\bird_call_project\\Augmented Recordings\\Sitta_carolinensis_Harrison_Township_near__Harrison_Hamilton_County_Ohio_714979_segment_29_aug_1.wav is too short or silent. Skipping.\n",
      "Warning: Audio file c:\\Users\\16148\\Desktop\\Projects\\bird_call_project\\Augmented Recordings\\Sitta_carolinensis_Harrison_Township_near__Harrison_Hamilton_County_Ohio_714979_segment_29_aug_3.wav is too short or silent. Skipping.\n"
     ]
    },
    {
     "name": "stderr",
     "output_type": "stream",
     "text": [
      " 53%|█████▎    | 265/500 [00:35<00:28,  8.29it/s]"
     ]
    },
    {
     "name": "stdout",
     "output_type": "stream",
     "text": [
      "Warning: Audio file c:\\Users\\16148\\Desktop\\Projects\\bird_call_project\\Augmented Recordings\\Sitta_carolinensis_Harrison_Township_near__Harrison_Hamilton_County_Ohio_714979_segment_37_aug_2.wav is too short or silent. Skipping.\n"
     ]
    },
    {
     "name": "stderr",
     "output_type": "stream",
     "text": [
      " 56%|█████▋    | 282/500 [00:37<00:24,  8.86it/s]"
     ]
    },
    {
     "name": "stdout",
     "output_type": "stream",
     "text": [
      "Warning: Audio file c:\\Users\\16148\\Desktop\\Projects\\bird_call_project\\Augmented Recordings\\Sitta_carolinensis_Harrison_Township_near__Harrison_Hamilton_County_Ohio_714979_segment_43_aug_1.wav is too short or silent. Skipping.\n"
     ]
    },
    {
     "name": "stderr",
     "output_type": "stream",
     "text": [
      " 80%|███████▉  | 399/500 [00:52<00:10,  9.22it/s]"
     ]
    },
    {
     "name": "stdout",
     "output_type": "stream",
     "text": [
      "Warning: Audio file c:\\Users\\16148\\Desktop\\Projects\\bird_call_project\\Augmented Recordings\\Sitta_carolinensis_Fort_Mitchell_Kenton_County_Kentucky_687224_segment_9_aug_3.wav is too short or silent. Skipping.\n",
      "Warning: Audio file c:\\Users\\16148\\Desktop\\Projects\\bird_call_project\\Augmented Recordings\\Sitta_carolinensis_Fort_Mitchell_Kenton_County_Kentucky_687224_segment_10_aug_1.wav is too short or silent. Skipping.\n"
     ]
    },
    {
     "name": "stderr",
     "output_type": "stream",
     "text": [
      " 94%|█████████▎| 468/500 [01:01<00:03,  8.31it/s]"
     ]
    },
    {
     "name": "stdout",
     "output_type": "stream",
     "text": [
      "Warning: Audio file c:\\Users\\16148\\Desktop\\Projects\\bird_call_project\\Augmented Recordings\\Sitta_carolinensis_Harrison_Township_near__Harrison_Hamilton_County_Ohio_807181_segment_12_aug_1.wav is too short or silent. Skipping.\n"
     ]
    },
    {
     "name": "stderr",
     "output_type": "stream",
     "text": [
      "100%|██████████| 500/500 [01:06<00:00,  7.57it/s]\n",
      " 14%|█▍        | 69/500 [00:09<00:53,  7.99it/s]"
     ]
    },
    {
     "name": "stdout",
     "output_type": "stream",
     "text": [
      "Warning: Audio file c:\\Users\\16148\\Desktop\\Projects\\bird_call_project\\Augmented Recordings\\Sitta_carolinensis_Harrison_Township_near__Harrison_Hamilton_County_Ohio_807181_segment_45_aug_3.wav is too short or silent. Skipping.\n"
     ]
    },
    {
     "name": "stderr",
     "output_type": "stream",
     "text": [
      " 15%|█▌        | 77/500 [00:10<00:49,  8.50it/s]"
     ]
    },
    {
     "name": "stdout",
     "output_type": "stream",
     "text": [
      "Warning: Audio file c:\\Users\\16148\\Desktop\\Projects\\bird_call_project\\Augmented Recordings\\Sitta_carolinensis_Harrison_Township_near__Harrison_Hamilton_County_Ohio_807181_segment_48_aug_2.wav is too short or silent. Skipping.\n"
     ]
    },
    {
     "name": "stderr",
     "output_type": "stream",
     "text": [
      " 27%|██▋       | 133/500 [00:17<00:38,  9.62it/s]"
     ]
    },
    {
     "name": "stdout",
     "output_type": "stream",
     "text": [
      "Warning: Audio file c:\\Users\\16148\\Desktop\\Projects\\bird_call_project\\Augmented Recordings\\Sitta_canadensis_Cincinnati_Hamilton_County_Ohio_677294_segment_18_aug_1.wav is too short or silent. Skipping.\n",
      "Warning: Audio file c:\\Users\\16148\\Desktop\\Projects\\bird_call_project\\Augmented Recordings\\Sitta_canadensis_Cincinnati_Hamilton_County_Ohio_677294_segment_18_aug_2.wav is too short or silent. Skipping.\n"
     ]
    },
    {
     "name": "stderr",
     "output_type": "stream",
     "text": [
      " 34%|███▎      | 168/500 [00:22<00:42,  7.89it/s]"
     ]
    },
    {
     "name": "stdout",
     "output_type": "stream",
     "text": [
      "Warning: Audio file c:\\Users\\16148\\Desktop\\Projects\\bird_call_project\\Augmented Recordings\\Sitta_canadensis_Cincinnati_Hamilton_County_Ohio_677292_segment_10_aug_3.wav is too short or silent. Skipping.\n"
     ]
    },
    {
     "name": "stderr",
     "output_type": "stream",
     "text": [
      " 35%|███▍      | 173/500 [00:22<00:40,  8.16it/s]"
     ]
    },
    {
     "name": "stdout",
     "output_type": "stream",
     "text": [
      "Warning: Audio file c:\\Users\\16148\\Desktop\\Projects\\bird_call_project\\Augmented Recordings\\Sitta_canadensis_Cincinnati_Hamilton_County_Ohio_677292_segment_12_aug_2.wav is too short or silent. Skipping.\n"
     ]
    },
    {
     "name": "stderr",
     "output_type": "stream",
     "text": [
      " 37%|███▋      | 187/500 [00:24<00:37,  8.34it/s]"
     ]
    },
    {
     "name": "stdout",
     "output_type": "stream",
     "text": [
      "Warning: Audio file c:\\Users\\16148\\Desktop\\Projects\\bird_call_project\\Augmented Recordings\\Sitta_canadensis_Cincinnati_Hamilton_County_Ohio_677292_segment_17_aug_1.wav is too short or silent. Skipping.\n",
      "Warning: Audio file c:\\Users\\16148\\Desktop\\Projects\\bird_call_project\\Augmented Recordings\\Sitta_canadensis_Cincinnati_Hamilton_County_Ohio_677292_segment_17_aug_3.wav is too short or silent. Skipping.\n"
     ]
    },
    {
     "name": "stderr",
     "output_type": "stream",
     "text": [
      " 66%|██████▌   | 328/500 [00:43<00:20,  8.22it/s]"
     ]
    },
    {
     "name": "stdout",
     "output_type": "stream",
     "text": [
      "Warning: Audio file c:\\Users\\16148\\Desktop\\Projects\\bird_call_project\\Augmented Recordings\\Certhia_americana_Fort_Mitchell_Kenton_County_Kentucky_687202_segment_2_aug_1.wav is too short or silent. Skipping.\n"
     ]
    },
    {
     "name": "stderr",
     "output_type": "stream",
     "text": [
      " 67%|██████▋   | 337/500 [00:44<00:19,  8.26it/s]"
     ]
    },
    {
     "name": "stdout",
     "output_type": "stream",
     "text": [
      "Warning: Audio file c:\\Users\\16148\\Desktop\\Projects\\bird_call_project\\Augmented Recordings\\Dumetella_carolinensis_Magee_Marsh_-_boardwalk_Lucas_County_Ohio_814891_segment_2_aug_1.wav is too short or silent. Skipping.\n"
     ]
    },
    {
     "name": "stderr",
     "output_type": "stream",
     "text": [
      " 69%|██████▉   | 346/500 [00:45<00:18,  8.54it/s]"
     ]
    },
    {
     "name": "stdout",
     "output_type": "stream",
     "text": [
      "Warning: Audio file c:\\Users\\16148\\Desktop\\Projects\\bird_call_project\\Augmented Recordings\\Dumetella_carolinensis_Magee_Marsh_-_boardwalk_Lucas_County_Ohio_814891_segment_5_aug_1.wav is too short or silent. Skipping.\n"
     ]
    },
    {
     "name": "stderr",
     "output_type": "stream",
     "text": [
      " 75%|███████▌  | 377/500 [00:49<00:15,  8.19it/s]"
     ]
    },
    {
     "name": "stdout",
     "output_type": "stream",
     "text": [
      "Warning: Audio file c:\\Users\\16148\\Desktop\\Projects\\bird_call_project\\Augmented Recordings\\Dumetella_carolinensis_Magee_Marsh_-_boardwalk_Lucas_County_Ohio_814891_segment_15_aug_2.wav is too short or silent. Skipping.\n"
     ]
    },
    {
     "name": "stderr",
     "output_type": "stream",
     "text": [
      " 79%|███████▊  | 393/500 [00:51<00:11,  9.31it/s]"
     ]
    },
    {
     "name": "stdout",
     "output_type": "stream",
     "text": [
      "Warning: Audio file c:\\Users\\16148\\Desktop\\Projects\\bird_call_project\\Augmented Recordings\\Dumetella_carolinensis_Magee_Marsh_-_boardwalk_Lucas_County_Ohio_814891_segment_21_aug_1.wav is too short or silent. Skipping.\n"
     ]
    },
    {
     "name": "stderr",
     "output_type": "stream",
     "text": [
      " 79%|███████▉  | 397/500 [00:52<00:11,  9.13it/s]"
     ]
    },
    {
     "name": "stdout",
     "output_type": "stream",
     "text": [
      "Warning: Audio file c:\\Users\\16148\\Desktop\\Projects\\bird_call_project\\Augmented Recordings\\Dumetella_carolinensis_Magee_Marsh_-_boardwalk_Lucas_County_Ohio_814891_segment_22_aug_1.wav is too short or silent. Skipping.\n"
     ]
    },
    {
     "name": "stderr",
     "output_type": "stream",
     "text": [
      " 82%|████████▏ | 410/500 [00:53<00:09,  9.06it/s]"
     ]
    },
    {
     "name": "stdout",
     "output_type": "stream",
     "text": [
      "Warning: Audio file c:\\Users\\16148\\Desktop\\Projects\\bird_call_project\\Augmented Recordings\\Dumetella_carolinensis_Magee_Marsh_-_boardwalk_Lucas_County_Ohio_814891_segment_26_aug_2.wav is too short or silent. Skipping.\n"
     ]
    },
    {
     "name": "stderr",
     "output_type": "stream",
     "text": [
      " 84%|████████▍ | 420/500 [00:55<00:09,  8.28it/s]"
     ]
    },
    {
     "name": "stdout",
     "output_type": "stream",
     "text": [
      "Warning: Audio file c:\\Users\\16148\\Desktop\\Projects\\bird_call_project\\Augmented Recordings\\Dumetella_carolinensis_Magee_Marsh_-_boardwalk_Lucas_County_Ohio_814891_segment_29_aug_3.wav is too short or silent. Skipping.\n"
     ]
    },
    {
     "name": "stderr",
     "output_type": "stream",
     "text": [
      " 91%|█████████ | 456/500 [00:59<00:05,  8.35it/s]"
     ]
    },
    {
     "name": "stdout",
     "output_type": "stream",
     "text": [
      "Warning: Audio file c:\\Users\\16148\\Desktop\\Projects\\bird_call_project\\Augmented Recordings\\Dumetella_carolinensis_Magee_Marsh_-_boardwalk_Lucas_County_Ohio_814891_segment_41_aug_3.wav is too short or silent. Skipping.\n"
     ]
    },
    {
     "name": "stderr",
     "output_type": "stream",
     "text": [
      " 94%|█████████▍| 469/500 [01:01<00:03,  8.56it/s]"
     ]
    },
    {
     "name": "stdout",
     "output_type": "stream",
     "text": [
      "Warning: Audio file c:\\Users\\16148\\Desktop\\Projects\\bird_call_project\\Augmented Recordings\\Dumetella_carolinensis_Magee_Marsh_-_boardwalk_Lucas_County_Ohio_814891_segment_46_aug_1.wav is too short or silent. Skipping.\n"
     ]
    },
    {
     "name": "stderr",
     "output_type": "stream",
     "text": [
      " 96%|█████████▌| 478/500 [01:02<00:02,  8.33it/s]"
     ]
    },
    {
     "name": "stdout",
     "output_type": "stream",
     "text": [
      "Warning: Audio file c:\\Users\\16148\\Desktop\\Projects\\bird_call_project\\Augmented Recordings\\Dumetella_carolinensis_Magee_Marsh_-_boardwalk_Lucas_County_Ohio_814891_segment_49_aug_1.wav is too short or silent. Skipping.\n"
     ]
    },
    {
     "name": "stderr",
     "output_type": "stream",
     "text": [
      "100%|██████████| 500/500 [01:05<00:00,  7.65it/s]\n",
      " 14%|█▍        | 71/500 [00:09<00:50,  8.53it/s]"
     ]
    },
    {
     "name": "stdout",
     "output_type": "stream",
     "text": [
      "Warning: Audio file c:\\Users\\16148\\Desktop\\Projects\\bird_call_project\\Augmented Recordings\\Dumetella_carolinensis_Magee_Marsh_-_boardwalk_Lucas_County_Ohio_814888_segment_11_aug_1.wav is too short or silent. Skipping.\n"
     ]
    },
    {
     "name": "stderr",
     "output_type": "stream",
     "text": [
      " 21%|██        | 104/500 [00:13<00:48,  8.22it/s]"
     ]
    },
    {
     "name": "stdout",
     "output_type": "stream",
     "text": [
      "Warning: Audio file c:\\Users\\16148\\Desktop\\Projects\\bird_call_project\\Augmented Recordings\\Dumetella_carolinensis_Magee_Marsh_-_boardwalk_Lucas_County_Ohio_814888_segment_23_aug_1.wav is too short or silent. Skipping.\n"
     ]
    },
    {
     "name": "stderr",
     "output_type": "stream",
     "text": [
      " 30%|██▉       | 149/500 [00:19<00:42,  8.21it/s]"
     ]
    },
    {
     "name": "stdout",
     "output_type": "stream",
     "text": [
      "Warning: Audio file c:\\Users\\16148\\Desktop\\Projects\\bird_call_project\\Augmented Recordings\\Dumetella_carolinensis_Magee_Marsh_-_boardwalk_Lucas_County_Ohio_814888_segment_38_aug_1.wav is too short or silent. Skipping.\n"
     ]
    },
    {
     "name": "stderr",
     "output_type": "stream",
     "text": [
      " 48%|████▊     | 240/500 [00:31<00:31,  8.14it/s]"
     ]
    },
    {
     "name": "stdout",
     "output_type": "stream",
     "text": [
      "Warning: Audio file c:\\Users\\16148\\Desktop\\Projects\\bird_call_project\\Augmented Recordings\\Dumetella_carolinensis_Magee_Marsh_-_boardwalk_Lucas_County_Ohio_814888_segment_68_aug_2.wav is too short or silent. Skipping.\n"
     ]
    },
    {
     "name": "stderr",
     "output_type": "stream",
     "text": [
      " 53%|█████▎    | 264/500 [00:34<00:29,  8.10it/s]"
     ]
    },
    {
     "name": "stdout",
     "output_type": "stream",
     "text": [
      "Warning: Audio file c:\\Users\\16148\\Desktop\\Projects\\bird_call_project\\Augmented Recordings\\Dumetella_carolinensis_Magee_Marsh_-_boardwalk_Lucas_County_Ohio_814888_segment_76_aug_2.wav is too short or silent. Skipping.\n"
     ]
    },
    {
     "name": "stderr",
     "output_type": "stream",
     "text": [
      " 62%|██████▏   | 311/500 [00:40<00:23,  8.19it/s]"
     ]
    },
    {
     "name": "stdout",
     "output_type": "stream",
     "text": [
      "Warning: Audio file c:\\Users\\16148\\Desktop\\Projects\\bird_call_project\\Augmented Recordings\\Dumetella_carolinensis_Point_Pelee_National_Park_near__Wheatley_Essex_County_Ontario_805532_segment_6_aug_1.wav is too short or silent. Skipping.\n"
     ]
    },
    {
     "name": "stderr",
     "output_type": "stream",
     "text": [
      " 63%|██████▎   | 317/500 [00:41<00:22,  8.25it/s]"
     ]
    },
    {
     "name": "stdout",
     "output_type": "stream",
     "text": [
      "Warning: Audio file c:\\Users\\16148\\Desktop\\Projects\\bird_call_project\\Augmented Recordings\\Dumetella_carolinensis_Point_Pelee_National_Park_near__Wheatley_Essex_County_Ontario_805532_segment_8_aug_1.wav is too short or silent. Skipping.\n"
     ]
    },
    {
     "name": "stderr",
     "output_type": "stream",
     "text": [
      " 72%|███████▏  | 360/500 [00:47<00:15,  8.77it/s]"
     ]
    },
    {
     "name": "stdout",
     "output_type": "stream",
     "text": [
      "Warning: Audio file c:\\Users\\16148\\Desktop\\Projects\\bird_call_project\\Augmented Recordings\\Dumetella_carolinensis_Pelee_near__Leamington_Essex_County_Ontario_476572_segment_4_aug_2.wav is too short or silent. Skipping.\n"
     ]
    },
    {
     "name": "stderr",
     "output_type": "stream",
     "text": [
      " 74%|███████▍  | 369/500 [00:48<00:15,  8.73it/s]"
     ]
    },
    {
     "name": "stdout",
     "output_type": "stream",
     "text": [
      "Warning: Audio file c:\\Users\\16148\\Desktop\\Projects\\bird_call_project\\Augmented Recordings\\Dumetella_carolinensis_Pelee_near__Leamington_Essex_County_Ontario_476572_segment_7_aug_2.wav is too short or silent. Skipping.\n"
     ]
    },
    {
     "name": "stderr",
     "output_type": "stream",
     "text": [
      " 75%|███████▌  | 375/500 [00:49<00:14,  8.34it/s]"
     ]
    },
    {
     "name": "stdout",
     "output_type": "stream",
     "text": [
      "Warning: Audio file c:\\Users\\16148\\Desktop\\Projects\\bird_call_project\\Augmented Recordings\\Dumetella_carolinensis_Pelee_near__Leamington_Essex_County_Ontario_476572_segment_9_aug_2.wav is too short or silent. Skipping.\n"
     ]
    },
    {
     "name": "stderr",
     "output_type": "stream",
     "text": [
      " 75%|███████▌  | 377/500 [00:49<00:14,  8.62it/s]"
     ]
    },
    {
     "name": "stdout",
     "output_type": "stream",
     "text": [
      "Warning: Audio file c:\\Users\\16148\\Desktop\\Projects\\bird_call_project\\Augmented Recordings\\Dumetella_carolinensis_Pelee_near__Leamington_Essex_County_Ontario_476572_segment_10_aug_2.wav is too short or silent. Skipping.\n",
      "Warning: Audio file c:\\Users\\16148\\Desktop\\Projects\\bird_call_project\\Augmented Recordings\\Dumetella_carolinensis_Pelee_near__Leamington_Essex_County_Ontario_476572_segment_10_aug_3.wav is too short or silent. Skipping.\n"
     ]
    },
    {
     "name": "stderr",
     "output_type": "stream",
     "text": [
      " 76%|███████▋  | 382/500 [00:50<00:13,  8.98it/s]"
     ]
    },
    {
     "name": "stdout",
     "output_type": "stream",
     "text": [
      "Warning: Audio file c:\\Users\\16148\\Desktop\\Projects\\bird_call_project\\Augmented Recordings\\Dumetella_carolinensis_Magee_Marsh_-_boardwalk_Lucas_County_Ohio_814890_segment_0_aug_3.wav is too short or silent. Skipping.\n"
     ]
    },
    {
     "name": "stderr",
     "output_type": "stream",
     "text": [
      " 78%|███████▊  | 389/500 [00:50<00:13,  8.35it/s]"
     ]
    },
    {
     "name": "stdout",
     "output_type": "stream",
     "text": [
      "Warning: Audio file c:\\Users\\16148\\Desktop\\Projects\\bird_call_project\\Augmented Recordings\\Dumetella_carolinensis_Magee_Marsh_-_boardwalk_Lucas_County_Ohio_814890_segment_3_aug_1.wav is too short or silent. Skipping.\n"
     ]
    },
    {
     "name": "stderr",
     "output_type": "stream",
     "text": [
      " 80%|████████  | 402/500 [00:52<00:09,  9.91it/s]"
     ]
    },
    {
     "name": "stdout",
     "output_type": "stream",
     "text": [
      "Warning: Audio file c:\\Users\\16148\\Desktop\\Projects\\bird_call_project\\Augmented Recordings\\Dumetella_carolinensis_Magee_Marsh_-_boardwalk_Lucas_County_Ohio_814890_segment_7_aug_2.wav is too short or silent. Skipping.\n",
      "Warning: Audio file c:\\Users\\16148\\Desktop\\Projects\\bird_call_project\\Augmented Recordings\\Dumetella_carolinensis_Magee_Marsh_-_boardwalk_Lucas_County_Ohio_814890_segment_7_aug_3.wav is too short or silent. Skipping.\n"
     ]
    },
    {
     "name": "stderr",
     "output_type": "stream",
     "text": [
      " 83%|████████▎ | 415/500 [00:53<00:10,  8.42it/s]"
     ]
    },
    {
     "name": "stdout",
     "output_type": "stream",
     "text": [
      "Warning: Audio file c:\\Users\\16148\\Desktop\\Projects\\bird_call_project\\Augmented Recordings\\Dumetella_carolinensis_Magee_Marsh_-_boardwalk_Lucas_County_Ohio_814889_segment_3_aug_3.wav is too short or silent. Skipping.\n"
     ]
    },
    {
     "name": "stderr",
     "output_type": "stream",
     "text": [
      " 91%|█████████▏| 457/500 [00:59<00:05,  8.03it/s]"
     ]
    },
    {
     "name": "stdout",
     "output_type": "stream",
     "text": [
      "Warning: Audio file c:\\Users\\16148\\Desktop\\Projects\\bird_call_project\\Augmented Recordings\\Dumetella_carolinensis_Whitewater_Township_near__White_Water_Park_Hamilton_County_Ohio_807552_segment_8_aug_3.wav is too short or silent. Skipping.\n"
     ]
    },
    {
     "name": "stderr",
     "output_type": "stream",
     "text": [
      " 95%|█████████▌| 475/500 [01:01<00:03,  8.12it/s]"
     ]
    },
    {
     "name": "stdout",
     "output_type": "stream",
     "text": [
      "Warning: Audio file c:\\Users\\16148\\Desktop\\Projects\\bird_call_project\\Augmented Recordings\\Dumetella_carolinensis_Whitewater_Township_near__White_Water_Park_Hamilton_County_Ohio_807552_segment_14_aug_3.wav is too short or silent. Skipping.\n"
     ]
    },
    {
     "name": "stderr",
     "output_type": "stream",
     "text": [
      "100%|██████████| 500/500 [01:05<00:00,  7.65it/s]\n",
      "  2%|▏         | 11/500 [00:01<00:58,  8.30it/s]"
     ]
    },
    {
     "name": "stdout",
     "output_type": "stream",
     "text": [
      "Warning: Audio file c:\\Users\\16148\\Desktop\\Projects\\bird_call_project\\Augmented Recordings\\Dumetella_carolinensis_Sheldon_Marsh_State_Nature_Preserve_723020_segment_11_aug_3.wav is too short or silent. Skipping.\n",
      "Warning: Audio file c:\\Users\\16148\\Desktop\\Projects\\bird_call_project\\Augmented Recordings\\Dumetella_carolinensis_Sheldon_Marsh_State_Nature_Preserve_723020_segment_12_aug_1.wav is too short or silent. Skipping.\n"
     ]
    },
    {
     "name": "stderr",
     "output_type": "stream",
     "text": [
      "  3%|▎         | 14/500 [00:01<01:00,  8.00it/s]"
     ]
    },
    {
     "name": "stdout",
     "output_type": "stream",
     "text": [
      "Warning: Audio file c:\\Users\\16148\\Desktop\\Projects\\bird_call_project\\Augmented Recordings\\Dumetella_carolinensis_Sheldon_Marsh_State_Nature_Preserve_723020_segment_12_aug_3.wav is too short or silent. Skipping.\n"
     ]
    },
    {
     "name": "stderr",
     "output_type": "stream",
     "text": [
      " 14%|█▎        | 68/500 [00:08<00:51,  8.43it/s]"
     ]
    },
    {
     "name": "stdout",
     "output_type": "stream",
     "text": [
      "Warning: Audio file c:\\Users\\16148\\Desktop\\Projects\\bird_call_project\\Augmented Recordings\\Dumetella_carolinensis_Ohio_Crane_Creek_SP_17041_segment_11_aug_3.wav is too short or silent. Skipping.\n"
     ]
    },
    {
     "name": "stderr",
     "output_type": "stream",
     "text": [
      " 16%|█▌        | 78/500 [00:10<00:50,  8.36it/s]"
     ]
    },
    {
     "name": "stdout",
     "output_type": "stream",
     "text": [
      "Warning: Audio file c:\\Users\\16148\\Desktop\\Projects\\bird_call_project\\Augmented Recordings\\Dumetella_carolinensis_Magee_Marsh_boardwalk_west_end_262807_segment_3_aug_1.wav is too short or silent. Skipping.\n"
     ]
    },
    {
     "name": "stderr",
     "output_type": "stream",
     "text": [
      " 20%|█▉        | 99/500 [00:12<00:42,  9.42it/s]"
     ]
    },
    {
     "name": "stdout",
     "output_type": "stream",
     "text": [
      "Warning: Audio file c:\\Users\\16148\\Desktop\\Projects\\bird_call_project\\Augmented Recordings\\Dumetella_carolinensis_Magee_Marsh_boardwalk_west_end_262807_segment_10_aug_1.wav is too short or silent. Skipping.\n"
     ]
    },
    {
     "name": "stderr",
     "output_type": "stream",
     "text": [
      " 32%|███▏      | 160/500 [00:20<00:39,  8.63it/s]"
     ]
    },
    {
     "name": "stdout",
     "output_type": "stream",
     "text": [
      "Warning: Audio file c:\\Users\\16148\\Desktop\\Projects\\bird_call_project\\Augmented Recordings\\Dumetella_carolinensis_Magee_Marsh_boardwalk_west_end_262807_segment_30_aug_2.wav is too short or silent. Skipping.\n"
     ]
    },
    {
     "name": "stderr",
     "output_type": "stream",
     "text": [
      " 36%|███▌      | 178/500 [00:23<00:40,  7.99it/s]"
     ]
    },
    {
     "name": "stdout",
     "output_type": "stream",
     "text": [
      "Warning: Audio file c:\\Users\\16148\\Desktop\\Projects\\bird_call_project\\Augmented Recordings\\Dumetella_carolinensis_Magee_Marsh_boardwalk_west_end_262807_segment_36_aug_2.wav is too short or silent. Skipping.\n"
     ]
    },
    {
     "name": "stderr",
     "output_type": "stream",
     "text": [
      " 38%|███▊      | 190/500 [00:24<00:34,  8.87it/s]"
     ]
    },
    {
     "name": "stdout",
     "output_type": "stream",
     "text": [
      "Warning: Audio file c:\\Users\\16148\\Desktop\\Projects\\bird_call_project\\Augmented Recordings\\Dumetella_carolinensis_Magee_Marsh_boardwalk_west_end_262807_segment_40_aug_2.wav is too short or silent. Skipping.\n"
     ]
    },
    {
     "name": "stderr",
     "output_type": "stream",
     "text": [
      " 42%|████▏     | 210/500 [00:27<00:34,  8.44it/s]"
     ]
    },
    {
     "name": "stdout",
     "output_type": "stream",
     "text": [
      "Warning: Audio file c:\\Users\\16148\\Desktop\\Projects\\bird_call_project\\Augmented Recordings\\Dumetella_carolinensis_Magee_Marsh_boardwalk_west_end_262807_segment_47_aug_1.wav is too short or silent. Skipping.\n"
     ]
    },
    {
     "name": "stderr",
     "output_type": "stream",
     "text": [
      " 52%|█████▏    | 259/500 [00:33<00:30,  8.01it/s]"
     ]
    },
    {
     "name": "stdout",
     "output_type": "stream",
     "text": [
      "Warning: Audio file c:\\Users\\16148\\Desktop\\Projects\\bird_call_project\\Augmented Recordings\\Dumetella_carolinensis_Magee_Marsh_boardwalk_west_end_262806_segment_15_aug_2.wav is too short or silent. Skipping.\n"
     ]
    },
    {
     "name": "stderr",
     "output_type": "stream",
     "text": [
      " 75%|███████▌  | 375/500 [00:49<00:14,  8.65it/s]"
     ]
    },
    {
     "name": "stdout",
     "output_type": "stream",
     "text": [
      "Warning: Audio file c:\\Users\\16148\\Desktop\\Projects\\bird_call_project\\Augmented Recordings\\Mimus_polyglottos_Green_Township_near__Cincinnati_Hamilton_County_Ohio_807536_segment_1_aug_1.wav is too short or silent. Skipping.\n"
     ]
    },
    {
     "name": "stderr",
     "output_type": "stream",
     "text": [
      " 77%|███████▋  | 387/500 [00:50<00:13,  8.34it/s]"
     ]
    },
    {
     "name": "stdout",
     "output_type": "stream",
     "text": [
      "Warning: Audio file c:\\Users\\16148\\Desktop\\Projects\\bird_call_project\\Augmented Recordings\\Mimus_polyglottos_Green_Township_near__Cincinnati_Hamilton_County_Ohio_807536_segment_5_aug_1.wav is too short or silent. Skipping.\n"
     ]
    },
    {
     "name": "stderr",
     "output_type": "stream",
     "text": [
      " 80%|████████  | 401/500 [00:52<00:11,  8.50it/s]"
     ]
    },
    {
     "name": "stdout",
     "output_type": "stream",
     "text": [
      "Warning: Audio file c:\\Users\\16148\\Desktop\\Projects\\bird_call_project\\Augmented Recordings\\Mimus_polyglottos_Green_Township_near__Cincinnati_Hamilton_County_Ohio_807536_segment_9_aug_3.wav is too short or silent. Skipping.\n"
     ]
    },
    {
     "name": "stderr",
     "output_type": "stream",
     "text": [
      " 90%|█████████ | 451/500 [00:59<00:06,  7.98it/s]"
     ]
    },
    {
     "name": "stdout",
     "output_type": "stream",
     "text": [
      "Warning: Audio file c:\\Users\\16148\\Desktop\\Projects\\bird_call_project\\Augmented Recordings\\Mimus_polyglottos_Green_Township_near__Cincinnati_Hamilton_County_Ohio_807536_segment_26_aug_2.wav is too short or silent. Skipping.\n"
     ]
    },
    {
     "name": "stderr",
     "output_type": "stream",
     "text": [
      " 93%|█████████▎| 467/500 [01:01<00:04,  8.23it/s]"
     ]
    },
    {
     "name": "stdout",
     "output_type": "stream",
     "text": [
      "Warning: Audio file c:\\Users\\16148\\Desktop\\Projects\\bird_call_project\\Augmented Recordings\\Mimus_polyglottos_Green_Township_near__Cincinnati_Hamilton_County_Ohio_807536_segment_32_aug_3.wav is too short or silent. Skipping.\n"
     ]
    },
    {
     "name": "stderr",
     "output_type": "stream",
     "text": [
      " 98%|█████████▊| 489/500 [01:03<00:01,  8.79it/s]"
     ]
    },
    {
     "name": "stdout",
     "output_type": "stream",
     "text": [
      "Warning: Audio file c:\\Users\\16148\\Desktop\\Projects\\bird_call_project\\Augmented Recordings\\Mimus_polyglottos_Green_Township_near__Cincinnati_Hamilton_County_Ohio_807449_segment_4_aug_1.wav is too short or silent. Skipping.\n"
     ]
    },
    {
     "name": "stderr",
     "output_type": "stream",
     "text": [
      "100%|██████████| 500/500 [01:05<00:00,  7.65it/s]\n",
      "  1%|          | 4/500 [00:00<01:00,  8.15it/s]"
     ]
    },
    {
     "name": "stdout",
     "output_type": "stream",
     "text": [
      "Warning: Audio file c:\\Users\\16148\\Desktop\\Projects\\bird_call_project\\Augmented Recordings\\Mimus_polyglottos_Green_Township_near__Cincinnati_Hamilton_County_Ohio_807449_segment_9_aug_1.wav is too short or silent. Skipping.\n"
     ]
    },
    {
     "name": "stderr",
     "output_type": "stream",
     "text": [
      "  5%|▌         | 25/500 [00:03<00:52,  9.01it/s]"
     ]
    },
    {
     "name": "stdout",
     "output_type": "stream",
     "text": [
      "Warning: Audio file c:\\Users\\16148\\Desktop\\Projects\\bird_call_project\\Augmented Recordings\\Mimus_polyglottos_Green_Township_near__Cincinnati_Hamilton_County_Ohio_807449_segment_16_aug_1.wav is too short or silent. Skipping.\n",
      "Warning: Audio file c:\\Users\\16148\\Desktop\\Projects\\bird_call_project\\Augmented Recordings\\Mimus_polyglottos_Green_Township_near__Cincinnati_Hamilton_County_Ohio_807449_segment_16_aug_2.wav is too short or silent. Skipping.\n"
     ]
    },
    {
     "name": "stderr",
     "output_type": "stream",
     "text": [
      "  9%|▊         | 43/500 [00:05<00:56,  8.12it/s]"
     ]
    },
    {
     "name": "stdout",
     "output_type": "stream",
     "text": [
      "Warning: Audio file c:\\Users\\16148\\Desktop\\Projects\\bird_call_project\\Augmented Recordings\\Mimus_polyglottos_Cincinnati_Hamilton_County_Ohio_677297_segment_5_aug_1.wav is too short or silent. Skipping.\n"
     ]
    },
    {
     "name": "stderr",
     "output_type": "stream",
     "text": [
      " 10%|█         | 50/500 [00:06<00:56,  7.97it/s]"
     ]
    },
    {
     "name": "stdout",
     "output_type": "stream",
     "text": [
      "Warning: Audio file c:\\Users\\16148\\Desktop\\Projects\\bird_call_project\\Augmented Recordings\\Mimus_polyglottos_Cincinnati_Hamilton_County_Ohio_677297_segment_7_aug_2.wav is too short or silent. Skipping.\n"
     ]
    },
    {
     "name": "stderr",
     "output_type": "stream",
     "text": [
      " 11%|█▏        | 57/500 [00:07<00:51,  8.61it/s]"
     ]
    },
    {
     "name": "stdout",
     "output_type": "stream",
     "text": [
      "Warning: Audio file c:\\Users\\16148\\Desktop\\Projects\\bird_call_project\\Augmented Recordings\\Mimus_polyglottos_Cincinnati_Hamilton_County_Ohio_677295_segment_1_aug_3.wav is too short or silent. Skipping.\n"
     ]
    },
    {
     "name": "stderr",
     "output_type": "stream",
     "text": [
      " 18%|█▊        | 91/500 [00:11<00:47,  8.68it/s]"
     ]
    },
    {
     "name": "stdout",
     "output_type": "stream",
     "text": [
      "Warning: Audio file c:\\Users\\16148\\Desktop\\Projects\\bird_call_project\\Augmented Recordings\\Mimus_polyglottos_Cincinnati_Hamilton_County_Ohio_677295_segment_14_aug_1.wav is too short or silent. Skipping.\n"
     ]
    },
    {
     "name": "stderr",
     "output_type": "stream",
     "text": [
      " 20%|██        | 101/500 [00:13<00:51,  7.81it/s]"
     ]
    },
    {
     "name": "stdout",
     "output_type": "stream",
     "text": [
      "Warning: Audio file c:\\Users\\16148\\Desktop\\Projects\\bird_call_project\\Augmented Recordings\\Mimus_polyglottos_Cincinnati_Hamilton_County_Ohio_677295_segment_17_aug_2.wav is too short or silent. Skipping.\n"
     ]
    },
    {
     "name": "stderr",
     "output_type": "stream",
     "text": [
      " 25%|██▌       | 125/500 [00:16<00:46,  8.10it/s]"
     ]
    },
    {
     "name": "stdout",
     "output_type": "stream",
     "text": [
      "Warning: Audio file c:\\Users\\16148\\Desktop\\Projects\\bird_call_project\\Augmented Recordings\\Mimus_polyglottos_Cincinnati_Hamilton_County_Ohio_677295_segment_26_aug_2.wav is too short or silent. Skipping.\n"
     ]
    },
    {
     "name": "stderr",
     "output_type": "stream",
     "text": [
      " 28%|██▊       | 140/500 [00:18<00:40,  8.97it/s]"
     ]
    },
    {
     "name": "stdout",
     "output_type": "stream",
     "text": [
      "Warning: Audio file c:\\Users\\16148\\Desktop\\Projects\\bird_call_project\\Augmented Recordings\\Mimus_polyglottos_Cincinnati_Hamilton_County_Ohio_677295_segment_31_aug_3.wav is too short or silent. Skipping.\n"
     ]
    },
    {
     "name": "stderr",
     "output_type": "stream",
     "text": [
      " 33%|███▎      | 167/500 [00:21<00:40,  8.15it/s]"
     ]
    },
    {
     "name": "stdout",
     "output_type": "stream",
     "text": [
      "Warning: Audio file c:\\Users\\16148\\Desktop\\Projects\\bird_call_project\\Augmented Recordings\\Mimus_polyglottos_Cincinnati_Hamilton_County_Ohio_677295_segment_40_aug_2.wav is too short or silent. Skipping.\n"
     ]
    },
    {
     "name": "stderr",
     "output_type": "stream",
     "text": [
      " 36%|███▋      | 182/500 [00:23<00:39,  8.02it/s]"
     ]
    },
    {
     "name": "stdout",
     "output_type": "stream",
     "text": [
      "Warning: Audio file c:\\Users\\16148\\Desktop\\Projects\\bird_call_project\\Augmented Recordings\\Mimus_polyglottos_Cincinnati_Hamilton_County_Ohio_677295_segment_45_aug_2.wav is too short or silent. Skipping.\n"
     ]
    },
    {
     "name": "stderr",
     "output_type": "stream",
     "text": [
      " 38%|███▊      | 190/500 [00:24<00:37,  8.30it/s]"
     ]
    },
    {
     "name": "stdout",
     "output_type": "stream",
     "text": [
      "Warning: Audio file c:\\Users\\16148\\Desktop\\Projects\\bird_call_project\\Augmented Recordings\\Mimus_polyglottos_Cincinnati_Hamilton_County_Ohio_677295_segment_48_aug_1.wav is too short or silent. Skipping.\n",
      "Warning: Audio file c:\\Users\\16148\\Desktop\\Projects\\bird_call_project\\Augmented Recordings\\Mimus_polyglottos_Cincinnati_Hamilton_County_Ohio_677295_segment_48_aug_3.wav is too short or silent. Skipping.\n"
     ]
    },
    {
     "name": "stderr",
     "output_type": "stream",
     "text": [
      " 52%|█████▏    | 262/500 [00:34<00:27,  8.52it/s]"
     ]
    },
    {
     "name": "stdout",
     "output_type": "stream",
     "text": [
      "Warning: Audio file c:\\Users\\16148\\Desktop\\Projects\\bird_call_project\\Augmented Recordings\\Mimus_polyglottos_Cincinnati_Hamilton_County_Ohio_677295_segment_72_aug_1.wav is too short or silent. Skipping.\n"
     ]
    },
    {
     "name": "stderr",
     "output_type": "stream",
     "text": [
      " 66%|██████▌   | 330/500 [00:43<00:21,  7.86it/s]"
     ]
    },
    {
     "name": "stdout",
     "output_type": "stream",
     "text": [
      "Warning: Audio file c:\\Users\\16148\\Desktop\\Projects\\bird_call_project\\Augmented Recordings\\Mimus_polyglottos_Dunham_Recreation_Complex_near__Cincinnati_Hamilton_County_Ohio_646400_segment_13_aug_3.wav is too short or silent. Skipping.\n"
     ]
    },
    {
     "name": "stderr",
     "output_type": "stream",
     "text": [
      " 71%|███████   | 354/500 [00:46<00:17,  8.25it/s]"
     ]
    },
    {
     "name": "stdout",
     "output_type": "stream",
     "text": [
      "Warning: Audio file c:\\Users\\16148\\Desktop\\Projects\\bird_call_project\\Augmented Recordings\\Mimus_polyglottos_Dunham_Recreation_Complex_near__Cincinnati_Hamilton_County_Ohio_646400_segment_21_aug_3.wav is too short or silent. Skipping.\n"
     ]
    },
    {
     "name": "stderr",
     "output_type": "stream",
     "text": [
      " 86%|████████▌ | 428/500 [00:56<00:08,  8.42it/s]"
     ]
    },
    {
     "name": "stdout",
     "output_type": "stream",
     "text": [
      "Warning: Audio file c:\\Users\\16148\\Desktop\\Projects\\bird_call_project\\Augmented Recordings\\Mimus_polyglottos_Dunham_Recreation_Complex_near__Cincinnati_Hamilton_County_Ohio_646400_segment_46_aug_2.wav is too short or silent. Skipping.\n"
     ]
    },
    {
     "name": "stderr",
     "output_type": "stream",
     "text": [
      "100%|██████████| 500/500 [01:05<00:00,  7.61it/s]\n",
      "  5%|▍         | 23/500 [00:03<00:56,  8.44it/s]"
     ]
    },
    {
     "name": "stdout",
     "output_type": "stream",
     "text": [
      "Warning: Audio file c:\\Users\\16148\\Desktop\\Projects\\bird_call_project\\Augmented Recordings\\Mimus_polyglottos_Dunham_Recreation_Complex_near__Cincinnati_Hamilton_County_Ohio_646400_segment_78_aug_1.wav is too short or silent. Skipping.\n"
     ]
    },
    {
     "name": "stderr",
     "output_type": "stream",
     "text": [
      " 14%|█▍        | 71/500 [00:09<00:52,  8.18it/s]"
     ]
    },
    {
     "name": "stdout",
     "output_type": "stream",
     "text": [
      "Warning: Audio file c:\\Users\\16148\\Desktop\\Projects\\bird_call_project\\Augmented Recordings\\Mimus_polyglottos_Dunham_Recreation_Complex_near__Cincinnati_Hamilton_County_Ohio_646400_segment_94_aug_1.wav is too short or silent. Skipping.\n"
     ]
    },
    {
     "name": "stderr",
     "output_type": "stream",
     "text": [
      " 15%|█▍        | 74/500 [00:09<00:51,  8.32it/s]"
     ]
    },
    {
     "name": "stdout",
     "output_type": "stream",
     "text": [
      "Warning: Audio file c:\\Users\\16148\\Desktop\\Projects\\bird_call_project\\Augmented Recordings\\Mimus_polyglottos_Dunham_Recreation_Complex_near__Cincinnati_Hamilton_County_Ohio_646400_segment_95_aug_1.wav is too short or silent. Skipping.\n"
     ]
    },
    {
     "name": "stderr",
     "output_type": "stream",
     "text": [
      " 23%|██▎       | 113/500 [00:15<00:46,  8.26it/s]"
     ]
    },
    {
     "name": "stdout",
     "output_type": "stream",
     "text": [
      "Warning: Audio file c:\\Users\\16148\\Desktop\\Projects\\bird_call_project\\Augmented Recordings\\Mimus_polyglottos_Dunham_Recreation_Complex_near__Cincinnati_Hamilton_County_Ohio_646400_segment_108_aug_1.wav is too short or silent. Skipping.\n"
     ]
    },
    {
     "name": "stderr",
     "output_type": "stream",
     "text": [
      " 52%|█████▏    | 260/500 [00:34<00:28,  8.49it/s]"
     ]
    },
    {
     "name": "stdout",
     "output_type": "stream",
     "text": [
      "Warning: Audio file c:\\Users\\16148\\Desktop\\Projects\\bird_call_project\\Augmented Recordings\\Toxostoma_rufum_Hanover_Township_Licking_County_Ohio_893646_segment_48_aug_1.wav is too short or silent. Skipping.\n"
     ]
    },
    {
     "name": "stderr",
     "output_type": "stream",
     "text": [
      " 57%|█████▋    | 284/500 [00:37<00:25,  8.32it/s]"
     ]
    },
    {
     "name": "stdout",
     "output_type": "stream",
     "text": [
      "Warning: Audio file c:\\Users\\16148\\Desktop\\Projects\\bird_call_project\\Augmented Recordings\\Toxostoma_rufum_Hanover_Township_Licking_County_Ohio_893646_segment_56_aug_1.wav is too short or silent. Skipping.\n"
     ]
    },
    {
     "name": "stderr",
     "output_type": "stream",
     "text": [
      " 64%|██████▎   | 318/500 [00:42<00:21,  8.51it/s]"
     ]
    },
    {
     "name": "stdout",
     "output_type": "stream",
     "text": [
      "Warning: Audio file c:\\Users\\16148\\Desktop\\Projects\\bird_call_project\\Augmented Recordings\\Toxostoma_rufum_Hanover_Township_Licking_County_Ohio_893646_segment_67_aug_2.wav is too short or silent. Skipping.\n"
     ]
    },
    {
     "name": "stderr",
     "output_type": "stream",
     "text": [
      " 67%|██████▋   | 336/500 [00:44<00:17,  9.14it/s]"
     ]
    },
    {
     "name": "stdout",
     "output_type": "stream",
     "text": [
      "Warning: Audio file c:\\Users\\16148\\Desktop\\Projects\\bird_call_project\\Augmented Recordings\\Toxostoma_rufum_Point_Pelee_National_Park_near__Wheatley_Essex_County_Ontario_803578_segment_5_aug_3.wav is too short or silent. Skipping.\n"
     ]
    },
    {
     "name": "stderr",
     "output_type": "stream",
     "text": [
      " 77%|███████▋  | 386/500 [00:50<00:13,  8.27it/s]"
     ]
    },
    {
     "name": "stdout",
     "output_type": "stream",
     "text": [
      "Warning: Audio file c:\\Users\\16148\\Desktop\\Projects\\bird_call_project\\Augmented Recordings\\Toxostoma_rufum_Green_Township_near__Cincinnati_Hamilton_County_Ohio_807480_segment_5_aug_1.wav is too short or silent. Skipping.\n"
     ]
    },
    {
     "name": "stderr",
     "output_type": "stream",
     "text": [
      " 84%|████████▍ | 422/500 [00:55<00:09,  7.96it/s]"
     ]
    },
    {
     "name": "stdout",
     "output_type": "stream",
     "text": [
      "Warning: Audio file c:\\Users\\16148\\Desktop\\Projects\\bird_call_project\\Augmented Recordings\\Toxostoma_rufum_Dunham_Recreation_Complex_near__Cincinnati_Hamilton_County_Ohio_646427_segment_7_aug_1.wav is too short or silent. Skipping.\n"
     ]
    },
    {
     "name": "stderr",
     "output_type": "stream",
     "text": [
      " 87%|████████▋ | 434/500 [00:57<00:08,  8.16it/s]"
     ]
    },
    {
     "name": "stdout",
     "output_type": "stream",
     "text": [
      "Warning: Audio file c:\\Users\\16148\\Desktop\\Projects\\bird_call_project\\Augmented Recordings\\Toxostoma_rufum_Dunham_Recreation_Complex_near__Cincinnati_Hamilton_County_Ohio_646427_segment_11_aug_1.wav is too short or silent. Skipping.\n",
      "Warning: Audio file c:\\Users\\16148\\Desktop\\Projects\\bird_call_project\\Augmented Recordings\\Toxostoma_rufum_Dunham_Recreation_Complex_near__Cincinnati_Hamilton_County_Ohio_646427_segment_11_aug_3.wav is too short or silent. Skipping.\n"
     ]
    },
    {
     "name": "stderr",
     "output_type": "stream",
     "text": [
      "100%|█████████▉| 498/500 [01:05<00:00,  8.47it/s]"
     ]
    },
    {
     "name": "stdout",
     "output_type": "stream",
     "text": [
      "Warning: Audio file c:\\Users\\16148\\Desktop\\Projects\\bird_call_project\\Augmented Recordings\\Toxostoma_rufum_Miami_Township_near__Cleves_Hamilton_County_Ohio_645811_segment_20_aug_2.wav is too short or silent. Skipping.\n"
     ]
    },
    {
     "name": "stderr",
     "output_type": "stream",
     "text": [
      "100%|██████████| 500/500 [01:05<00:00,  7.60it/s]\n",
      " 14%|█▍        | 71/500 [00:09<00:52,  8.10it/s]"
     ]
    },
    {
     "name": "stdout",
     "output_type": "stream",
     "text": [
      "Warning: Audio file c:\\Users\\16148\\Desktop\\Projects\\bird_call_project\\Augmented Recordings\\Toxostoma_rufum_Franklin_Township_near__Saint_Marys_Mercer_County_Ohio_637650_segment_22_aug_3.wav is too short or silent. Skipping.\n"
     ]
    },
    {
     "name": "stderr",
     "output_type": "stream",
     "text": [
      " 19%|█▉        | 94/500 [00:12<00:48,  8.42it/s]"
     ]
    },
    {
     "name": "stdout",
     "output_type": "stream",
     "text": [
      "Warning: Audio file c:\\Users\\16148\\Desktop\\Projects\\bird_call_project\\Augmented Recordings\\Toxostoma_rufum_Ross_Township_near__Hamilton_Butler_County_Ohio_632519_segment_0_aug_2.wav is too short or silent. Skipping.\n"
     ]
    },
    {
     "name": "stderr",
     "output_type": "stream",
     "text": [
      " 26%|██▌       | 128/500 [00:16<00:45,  8.19it/s]"
     ]
    },
    {
     "name": "stdout",
     "output_type": "stream",
     "text": [
      "Warning: Audio file c:\\Users\\16148\\Desktop\\Projects\\bird_call_project\\Augmented Recordings\\Toxostoma_rufum_Ross_Township_near__Hamilton_Butler_County_Ohio_632519_segment_11_aug_3.wav is too short or silent. Skipping.\n"
     ]
    },
    {
     "name": "stderr",
     "output_type": "stream",
     "text": [
      " 29%|██▉       | 145/500 [00:19<00:43,  8.09it/s]"
     ]
    },
    {
     "name": "stdout",
     "output_type": "stream",
     "text": [
      "Warning: Audio file c:\\Users\\16148\\Desktop\\Projects\\bird_call_project\\Augmented Recordings\\Toxostoma_rufum_Ross_Township_near__Hamilton_Butler_County_Ohio_632519_segment_17_aug_2.wav is too short or silent. Skipping.\n"
     ]
    },
    {
     "name": "stderr",
     "output_type": "stream",
     "text": [
      " 48%|████▊     | 241/500 [00:31<00:31,  8.30it/s]"
     ]
    },
    {
     "name": "stdout",
     "output_type": "stream",
     "text": [
      "Warning: Audio file c:\\Users\\16148\\Desktop\\Projects\\bird_call_project\\Augmented Recordings\\Toxostoma_rufum_Ross_Township_near__Hamilton_Butler_County_Ohio_632519_segment_49_aug_2.wav is too short or silent. Skipping.\n"
     ]
    },
    {
     "name": "stderr",
     "output_type": "stream",
     "text": [
      " 49%|████▉     | 244/500 [00:31<00:30,  8.35it/s]"
     ]
    },
    {
     "name": "stdout",
     "output_type": "stream",
     "text": [
      "Warning: Audio file c:\\Users\\16148\\Desktop\\Projects\\bird_call_project\\Augmented Recordings\\Toxostoma_rufum_Ross_Township_near__Hamilton_Butler_County_Ohio_632519_segment_50_aug_2.wav is too short or silent. Skipping.\n"
     ]
    },
    {
     "name": "stderr",
     "output_type": "stream",
     "text": [
      " 53%|█████▎    | 267/500 [00:34<00:28,  8.20it/s]"
     ]
    },
    {
     "name": "stdout",
     "output_type": "stream",
     "text": [
      "Warning: Audio file c:\\Users\\16148\\Desktop\\Projects\\bird_call_project\\Augmented Recordings\\Toxostoma_rufum_Virginia_Kendall_Lake_Peninsula_Summit_County_Ohio_412205_segment_1_aug_1.wav is too short or silent. Skipping.\n"
     ]
    },
    {
     "name": "stderr",
     "output_type": "stream",
     "text": [
      " 70%|██████▉   | 348/500 [00:45<00:18,  8.28it/s]"
     ]
    },
    {
     "name": "stdout",
     "output_type": "stream",
     "text": [
      "Warning: Audio file c:\\Users\\16148\\Desktop\\Projects\\bird_call_project\\Augmented Recordings\\Sialia_sialis_Cincinnati_Hamilton_County_Ohio_677299_segment_4_aug_1.wav is too short or silent. Skipping.\n"
     ]
    },
    {
     "name": "stderr",
     "output_type": "stream",
     "text": [
      " 77%|███████▋  | 387/500 [00:50<00:14,  8.06it/s]"
     ]
    },
    {
     "name": "stdout",
     "output_type": "stream",
     "text": [
      "Warning: Audio file c:\\Users\\16148\\Desktop\\Projects\\bird_call_project\\Augmented Recordings\\Hylocichla_mustelina_Whitewater_Township_near__Cleves_Hamilton_County_Ohio_817713_segment_6_aug_1.wav is too short or silent. Skipping.\n"
     ]
    },
    {
     "name": "stderr",
     "output_type": "stream",
     "text": [
      " 80%|████████  | 401/500 [00:52<00:12,  8.06it/s]"
     ]
    },
    {
     "name": "stdout",
     "output_type": "stream",
     "text": [
      "Warning: Audio file c:\\Users\\16148\\Desktop\\Projects\\bird_call_project\\Augmented Recordings\\Hylocichla_mustelina_Whitewater_Township_near__Cleves_Hamilton_County_Ohio_817713_segment_10_aug_3.wav is too short or silent. Skipping.\n"
     ]
    },
    {
     "name": "stderr",
     "output_type": "stream",
     "text": [
      " 89%|████████▉ | 447/500 [00:58<00:06,  8.66it/s]"
     ]
    },
    {
     "name": "stdout",
     "output_type": "stream",
     "text": [
      "Warning: Audio file c:\\Users\\16148\\Desktop\\Projects\\bird_call_project\\Augmented Recordings\\Hylocichla_mustelina_Packer-Hammersmith_Center_near__Oregon_Lucas_County_Ohio_784058_segment_9_aug_1.wav is too short or silent. Skipping.\n"
     ]
    },
    {
     "name": "stderr",
     "output_type": "stream",
     "text": [
      "100%|██████████| 500/500 [01:05<00:00,  7.64it/s]\n",
      "  6%|▌         | 31/500 [00:04<00:56,  8.36it/s]"
     ]
    },
    {
     "name": "stdout",
     "output_type": "stream",
     "text": [
      "Warning: Audio file c:\\Users\\16148\\Desktop\\Projects\\bird_call_project\\Augmented Recordings\\Hylocichla_mustelina_Packer-Hammersmith_Center_near__Oregon_Lucas_County_Ohio_784058_segment_37_aug_1.wav is too short or silent. Skipping.\n"
     ]
    },
    {
     "name": "stderr",
     "output_type": "stream",
     "text": [
      " 11%|█▏        | 57/500 [00:07<00:54,  8.20it/s]"
     ]
    },
    {
     "name": "stdout",
     "output_type": "stream",
     "text": [
      "Warning: Audio file c:\\Users\\16148\\Desktop\\Projects\\bird_call_project\\Augmented Recordings\\Hylocichla_mustelina_Packer-Hammersmith_Center_near__Oregon_Lucas_County_Ohio_784058_segment_45_aug_3.wav is too short or silent. Skipping.\n"
     ]
    },
    {
     "name": "stderr",
     "output_type": "stream",
     "text": [
      " 13%|█▎        | 64/500 [00:08<00:46,  9.30it/s]"
     ]
    },
    {
     "name": "stdout",
     "output_type": "stream",
     "text": [
      "Warning: Audio file c:\\Users\\16148\\Desktop\\Projects\\bird_call_project\\Augmented Recordings\\Hylocichla_mustelina_Packer-Hammersmith_Center_near__Oregon_Lucas_County_Ohio_784058_segment_48_aug_1.wav is too short or silent. Skipping.\n",
      "Warning: Audio file c:\\Users\\16148\\Desktop\\Projects\\bird_call_project\\Augmented Recordings\\Hylocichla_mustelina_Packer-Hammersmith_Center_near__Oregon_Lucas_County_Ohio_784058_segment_48_aug_2.wav is too short or silent. Skipping.\n"
     ]
    },
    {
     "name": "stderr",
     "output_type": "stream",
     "text": [
      " 20%|█▉        | 98/500 [00:12<00:48,  8.28it/s]"
     ]
    },
    {
     "name": "stdout",
     "output_type": "stream",
     "text": [
      "Warning: Audio file c:\\Users\\16148\\Desktop\\Projects\\bird_call_project\\Augmented Recordings\\Hylocichla_mustelina_Packer-Hammersmith_Center_near__Oregon_Lucas_County_Ohio_784058_segment_59_aug_2.wav is too short or silent. Skipping.\n"
     ]
    },
    {
     "name": "stderr",
     "output_type": "stream",
     "text": [
      " 24%|██▍       | 120/500 [00:15<00:45,  8.28it/s]"
     ]
    },
    {
     "name": "stdout",
     "output_type": "stream",
     "text": [
      "Warning: Audio file c:\\Users\\16148\\Desktop\\Projects\\bird_call_project\\Augmented Recordings\\Hylocichla_mustelina_Packer-Hammersmith_Center_near__Oregon_Lucas_County_Ohio_784058_segment_66_aug_3.wav is too short or silent. Skipping.\n",
      "Warning: Audio file c:\\Users\\16148\\Desktop\\Projects\\bird_call_project\\Augmented Recordings\\Hylocichla_mustelina_Packer-Hammersmith_Center_near__Oregon_Lucas_County_Ohio_784058_segment_67_aug_2.wav is too short or silent. Skipping.\n"
     ]
    },
    {
     "name": "stderr",
     "output_type": "stream",
     "text": [
      " 40%|████      | 202/500 [00:26<00:35,  8.41it/s]"
     ]
    },
    {
     "name": "stdout",
     "output_type": "stream",
     "text": [
      "Warning: Audio file c:\\Users\\16148\\Desktop\\Projects\\bird_call_project\\Augmented Recordings\\Hylocichla_mustelina_Magee_Marsh_-_boardwalk_Lucas_County_Ohio_827229_segment_26_aug_1.wav is too short or silent. Skipping.\n"
     ]
    },
    {
     "name": "stderr",
     "output_type": "stream",
     "text": [
      " 47%|████▋     | 234/500 [00:30<00:29,  9.03it/s]"
     ]
    },
    {
     "name": "stdout",
     "output_type": "stream",
     "text": [
      "Warning: Audio file c:\\Users\\16148\\Desktop\\Projects\\bird_call_project\\Augmented Recordings\\Hylocichla_mustelina_Miami_Township_near__North_Bend_Hamilton_County_Ohio_646004_segment_1_aug_3.wav is too short or silent. Skipping.\n"
     ]
    },
    {
     "name": "stderr",
     "output_type": "stream",
     "text": [
      " 68%|██████▊   | 340/500 [00:44<00:19,  8.32it/s]"
     ]
    },
    {
     "name": "stdout",
     "output_type": "stream",
     "text": [
      "Warning: Audio file c:\\Users\\16148\\Desktop\\Projects\\bird_call_project\\Augmented Recordings\\Hylocichla_mustelina_Miami_Township_near__North_Bend_Hamilton_County_Ohio_552552_segment_3_aug_1.wav is too short or silent. Skipping.\n"
     ]
    },
    {
     "name": "stderr",
     "output_type": "stream",
     "text": [
      " 69%|██████▉   | 347/500 [00:45<00:18,  8.15it/s]"
     ]
    },
    {
     "name": "stdout",
     "output_type": "stream",
     "text": [
      "Warning: Audio file c:\\Users\\16148\\Desktop\\Projects\\bird_call_project\\Augmented Recordings\\Hylocichla_mustelina_Miami_Township_near__North_Bend_Hamilton_County_Ohio_552552_segment_5_aug_2.wav is too short or silent. Skipping.\n"
     ]
    },
    {
     "name": "stderr",
     "output_type": "stream",
     "text": [
      " 71%|███████   | 356/500 [00:46<00:17,  8.17it/s]"
     ]
    },
    {
     "name": "stdout",
     "output_type": "stream",
     "text": [
      "Warning: Audio file c:\\Users\\16148\\Desktop\\Projects\\bird_call_project\\Augmented Recordings\\Hylocichla_mustelina_Sharon_Woods_near__Cincinnati_Hamilton_County_Ohio_483768_segment_1_aug_2.wav is too short or silent. Skipping.\n"
     ]
    },
    {
     "name": "stderr",
     "output_type": "stream",
     "text": [
      " 82%|████████▏ | 412/500 [00:53<00:10,  8.60it/s]"
     ]
    },
    {
     "name": "stdout",
     "output_type": "stream",
     "text": [
      "Warning: Audio file c:\\Users\\16148\\Desktop\\Projects\\bird_call_project\\Augmented Recordings\\Hylocichla_mustelina_Sharon_Woods_near__Cincinnati_Hamilton_County_Ohio_483768_segment_21_aug_1.wav is too short or silent. Skipping.\n"
     ]
    },
    {
     "name": "stderr",
     "output_type": "stream",
     "text": [
      " 90%|████████▉ | 449/500 [00:58<00:06,  7.86it/s]"
     ]
    },
    {
     "name": "stdout",
     "output_type": "stream",
     "text": [
      "Warning: Audio file c:\\Users\\16148\\Desktop\\Projects\\bird_call_project\\Augmented Recordings\\Hylocichla_mustelina_Prairie_Oaks_Metro_Park--Sycamore_Plains_Area_182009_segment_11_aug_2.wav is too short or silent. Skipping.\n"
     ]
    },
    {
     "name": "stderr",
     "output_type": "stream",
     "text": [
      " 97%|█████████▋| 487/500 [01:03<00:01,  8.29it/s]"
     ]
    },
    {
     "name": "stdout",
     "output_type": "stream",
     "text": [
      "Warning: Audio file c:\\Users\\16148\\Desktop\\Projects\\bird_call_project\\Augmented Recordings\\Hylocichla_mustelina_Michigan_Monroe_County_16970_segment_2_aug_1.wav is too short or silent. Skipping.\n"
     ]
    },
    {
     "name": "stderr",
     "output_type": "stream",
     "text": [
      "100%|██████████| 500/500 [01:05<00:00,  7.64it/s]\n",
      " 13%|█▎        | 64/500 [00:08<00:56,  7.76it/s]"
     ]
    },
    {
     "name": "stdout",
     "output_type": "stream",
     "text": [
      "Warning: Audio file c:\\Users\\16148\\Desktop\\Projects\\bird_call_project\\Augmented Recordings\\Catharus_ustulatus_Oak_Openings_Metropark_Ohio_418075_segment_4_aug_3.wav is too short or silent. Skipping.\n"
     ]
    },
    {
     "name": "stderr",
     "output_type": "stream",
     "text": [
      " 16%|█▌        | 78/500 [00:10<00:52,  8.09it/s]"
     ]
    },
    {
     "name": "stdout",
     "output_type": "stream",
     "text": [
      "Warning: Audio file c:\\Users\\16148\\Desktop\\Projects\\bird_call_project\\Augmented Recordings\\Catharus_ustulatus_Firestone_Metropark_Summit_County_Ohio_368004_segment_4_aug_2.wav is too short or silent. Skipping.\n"
     ]
    },
    {
     "name": "stderr",
     "output_type": "stream",
     "text": [
      " 28%|██▊       | 142/500 [00:19<00:52,  6.83it/s]"
     ]
    },
    {
     "name": "stdout",
     "output_type": "stream",
     "text": [
      "Warning: Audio file c:\\Users\\16148\\Desktop\\Projects\\bird_call_project\\Augmented Recordings\\Catharus_ustulatus_Columbus_Ohio_flight_call_recording_station_55203_segment_20_aug_3.wav is too short or silent. Skipping.\n"
     ]
    },
    {
     "name": "stderr",
     "output_type": "stream",
     "text": [
      " 32%|███▏      | 161/500 [00:23<00:56,  6.03it/s]"
     ]
    },
    {
     "name": "stdout",
     "output_type": "stream",
     "text": [
      "Warning: Audio file c:\\Users\\16148\\Desktop\\Projects\\bird_call_project\\Augmented Recordings\\Catharus_minimus_Bricker_Blvd_near_Cranbrook_Elementary_Columbus_OH_127734_segment_2_aug_2.wav is too short or silent. Skipping.\n"
     ]
    },
    {
     "name": "stderr",
     "output_type": "stream",
     "text": [
      " 39%|███▉      | 195/500 [00:28<00:42,  7.13it/s]"
     ]
    },
    {
     "name": "stdout",
     "output_type": "stream",
     "text": [
      "Warning: Audio file c:\\Users\\16148\\Desktop\\Projects\\bird_call_project\\Augmented Recordings\\Catharus_fuscescens_Oak_Openings_Lucas_County_Ohio_803619_segment_11_aug_2.wav is too short or silent. Skipping.\n"
     ]
    },
    {
     "name": "stderr",
     "output_type": "stream",
     "text": [
      " 44%|████▎     | 218/500 [00:32<00:36,  7.69it/s]"
     ]
    },
    {
     "name": "stdout",
     "output_type": "stream",
     "text": [
      "Warning: Audio file c:\\Users\\16148\\Desktop\\Projects\\bird_call_project\\Augmented Recordings\\Catharus_fuscescens_Oak_Openings_Lucas_County_Ohio_803619_segment_19_aug_1.wav is too short or silent. Skipping.\n",
      "Warning: Audio file c:\\Users\\16148\\Desktop\\Projects\\bird_call_project\\Augmented Recordings\\Catharus_fuscescens_Oak_Openings_Lucas_County_Ohio_803619_segment_19_aug_3.wav is too short or silent. Skipping.\n"
     ]
    },
    {
     "name": "stderr",
     "output_type": "stream",
     "text": [
      " 56%|█████▌    | 281/500 [00:40<00:25,  8.51it/s]"
     ]
    },
    {
     "name": "stdout",
     "output_type": "stream",
     "text": [
      "Warning: Audio file c:\\Users\\16148\\Desktop\\Projects\\bird_call_project\\Augmented Recordings\\Turdus_migratorius_Pelee_near__Leamington_Essex_County_Ontario_476496_segment_5_aug_1.wav is too short or silent. Skipping.\n"
     ]
    },
    {
     "name": "stderr",
     "output_type": "stream",
     "text": [
      " 68%|██████▊   | 339/500 [00:47<00:18,  8.64it/s]"
     ]
    },
    {
     "name": "stdout",
     "output_type": "stream",
     "text": [
      "Warning: Audio file c:\\Users\\16148\\Desktop\\Projects\\bird_call_project\\Augmented Recordings\\Turdus_migratorius_Pelee_near__Leamington_Essex_County_Ontario_476494_segment_7_aug_2.wav is too short or silent. Skipping.\n"
     ]
    },
    {
     "name": "stderr",
     "output_type": "stream",
     "text": [
      " 74%|███████▎  | 368/500 [00:51<00:14,  8.91it/s]"
     ]
    },
    {
     "name": "stdout",
     "output_type": "stream",
     "text": [
      "Warning: Audio file c:\\Users\\16148\\Desktop\\Projects\\bird_call_project\\Augmented Recordings\\Turdus_migratorius_Green_Township_near__Cincinnati_Hamilton_County_Ohio_807538_segment_7_aug_1.wav is too short or silent. Skipping.\n"
     ]
    },
    {
     "name": "stderr",
     "output_type": "stream",
     "text": [
      "100%|██████████| 500/500 [01:12<00:00,  6.90it/s]\n",
      " 25%|██▍       | 124/500 [00:17<00:44,  8.43it/s]"
     ]
    },
    {
     "name": "stdout",
     "output_type": "stream",
     "text": [
      "Warning: Audio file c:\\Users\\16148\\Desktop\\Projects\\bird_call_project\\Augmented Recordings\\Spinus_tristis_Miami_Township_near__Yellow_Springs_Greene_County_Ohio_756999_segment_8_aug_2.wav is too short or silent. Skipping.\n"
     ]
    },
    {
     "name": "stderr",
     "output_type": "stream",
     "text": [
      " 29%|██▉       | 146/500 [00:20<00:43,  8.16it/s]"
     ]
    },
    {
     "name": "stdout",
     "output_type": "stream",
     "text": [
      "Warning: Audio file c:\\Users\\16148\\Desktop\\Projects\\bird_call_project\\Augmented Recordings\\Spinus_tristis_Michigan_Petersburg_SGA_31023_segment_0_aug_3.wav is too short or silent. Skipping.\n"
     ]
    },
    {
     "name": "stderr",
     "output_type": "stream",
     "text": [
      " 47%|████▋     | 237/500 [00:32<00:28,  9.12it/s]"
     ]
    },
    {
     "name": "stdout",
     "output_type": "stream",
     "text": [
      "Warning: Audio file c:\\Users\\16148\\Desktop\\Projects\\bird_call_project\\Augmented Recordings\\Spinus_tristis_Miami_Township_near__North_Bend_Hamilton_County_Ohio_646115_segment_7_aug_1.wav is too short or silent. Skipping.\n"
     ]
    },
    {
     "name": "stderr",
     "output_type": "stream",
     "text": [
      " 56%|█████▋    | 282/500 [00:38<00:26,  8.26it/s]"
     ]
    },
    {
     "name": "stdout",
     "output_type": "stream",
     "text": [
      "Warning: Audio file c:\\Users\\16148\\Desktop\\Projects\\bird_call_project\\Augmented Recordings\\Spinus_tristis_Miami_Township_near__North_Bend_Hamilton_County_Ohio_646115_segment_22_aug_1.wav is too short or silent. Skipping.\n"
     ]
    },
    {
     "name": "stderr",
     "output_type": "stream",
     "text": [
      " 63%|██████▎   | 313/500 [00:42<00:21,  8.89it/s]"
     ]
    },
    {
     "name": "stdout",
     "output_type": "stream",
     "text": [
      "Warning: Audio file c:\\Users\\16148\\Desktop\\Projects\\bird_call_project\\Augmented Recordings\\Ammodramus_savannarum_Michigan_Monroe_County_16953_segment_6_aug_2.wav is too short or silent. Skipping.\n",
      "Warning: Audio file c:\\Users\\16148\\Desktop\\Projects\\bird_call_project\\Augmented Recordings\\Ammodramus_savannarum_Michigan_Monroe_County_16953_segment_7_aug_1.wav is too short or silent. Skipping.\n"
     ]
    },
    {
     "name": "stderr",
     "output_type": "stream",
     "text": [
      " 69%|██████▉   | 345/500 [00:46<00:18,  8.61it/s]"
     ]
    },
    {
     "name": "stdout",
     "output_type": "stream",
     "text": [
      "Warning: Audio file c:\\Users\\16148\\Desktop\\Projects\\bird_call_project\\Augmented Recordings\\Ammodramus_savannarum_Michigan_Monroe_County_16953_segment_17_aug_1.wav is too short or silent. Skipping.\n"
     ]
    },
    {
     "name": "stderr",
     "output_type": "stream",
     "text": [
      " 76%|███████▌  | 379/500 [00:50<00:12,  9.99it/s]"
     ]
    },
    {
     "name": "stdout",
     "output_type": "stream",
     "text": [
      "Warning: Audio file c:\\Users\\16148\\Desktop\\Projects\\bird_call_project\\Augmented Recordings\\Chondestes_grammacus_Ives_Road_Fen_Raisin_Charter_Township_near__Tecumseh_Lenawee_County_Michigan_734597_segment_10_aug_2.wav is too short or silent. Skipping.\n",
      "Warning: Audio file c:\\Users\\16148\\Desktop\\Projects\\bird_call_project\\Augmented Recordings\\Chondestes_grammacus_Ives_Road_Fen_Raisin_Charter_Township_near__Tecumseh_Lenawee_County_Michigan_734597_segment_10_aug_3.wav is too short or silent. Skipping.\n"
     ]
    },
    {
     "name": "stderr",
     "output_type": "stream",
     "text": [
      " 84%|████████▍ | 420/500 [00:55<00:09,  8.46it/s]"
     ]
    },
    {
     "name": "stdout",
     "output_type": "stream",
     "text": [
      "Warning: Audio file c:\\Users\\16148\\Desktop\\Projects\\bird_call_project\\Augmented Recordings\\Chondestes_grammacus_Ives_Road_Fen_Raisin_Charter_Township_near__Tecumseh_Lenawee_County_Michigan_734596_segment_7_aug_1.wav is too short or silent. Skipping.\n"
     ]
    },
    {
     "name": "stderr",
     "output_type": "stream",
     "text": [
      " 87%|████████▋ | 434/500 [00:57<00:07,  8.38it/s]"
     ]
    },
    {
     "name": "stdout",
     "output_type": "stream",
     "text": [
      "Warning: Audio file c:\\Users\\16148\\Desktop\\Projects\\bird_call_project\\Augmented Recordings\\Chondestes_grammacus_Ives_Road_Fen_Raisin_Charter_Township_near__Tecumseh_Lenawee_County_Michigan_734596_segment_11_aug_3.wav is too short or silent. Skipping.\n"
     ]
    },
    {
     "name": "stderr",
     "output_type": "stream",
     "text": [
      "100%|█████████▉| 498/500 [01:05<00:00,  8.25it/s]"
     ]
    },
    {
     "name": "stdout",
     "output_type": "stream",
     "text": [
      "Warning: Audio file c:\\Users\\16148\\Desktop\\Projects\\bird_call_project\\Augmented Recordings\\Chondestes_grammacus_Michigan_Petersburg_SGA__31027_segment_21_aug_1.wav is too short or silent. Skipping.\n"
     ]
    },
    {
     "name": "stderr",
     "output_type": "stream",
     "text": [
      "100%|██████████| 500/500 [01:06<00:00,  7.57it/s]\n"
     ]
    },
    {
     "name": "stdout",
     "output_type": "stream",
     "text": [
      "Warning: Audio file c:\\Users\\16148\\Desktop\\Projects\\bird_call_project\\Augmented Recordings\\Chondestes_grammacus_Michigan_Petersburg_SGA__31027_segment_22_aug_1.wav is too short or silent. Skipping.\n"
     ]
    },
    {
     "name": "stderr",
     "output_type": "stream",
     "text": [
      "  0%|          | 2/500 [00:00<01:00,  8.24it/s]"
     ]
    },
    {
     "name": "stdout",
     "output_type": "stream",
     "text": [
      "Warning: Audio file c:\\Users\\16148\\Desktop\\Projects\\bird_call_project\\Augmented Recordings\\Chondestes_grammacus_Michigan_Petersburg_SGA__31027_segment_22_aug_2.wav is too short or silent. Skipping.\n"
     ]
    },
    {
     "name": "stderr",
     "output_type": "stream",
     "text": [
      "  3%|▎         | 16/500 [00:02<00:57,  8.37it/s]"
     ]
    },
    {
     "name": "stdout",
     "output_type": "stream",
     "text": [
      "Warning: Audio file c:\\Users\\16148\\Desktop\\Projects\\bird_call_project\\Augmented Recordings\\Spizella_passerina_Miami_Township_near__Cleves_Hamilton_County_Ohio_645554_segment_4_aug_1.wav is too short or silent. Skipping.\n"
     ]
    },
    {
     "name": "stderr",
     "output_type": "stream",
     "text": [
      " 13%|█▎        | 65/500 [00:08<00:51,  8.50it/s]"
     ]
    },
    {
     "name": "stdout",
     "output_type": "stream",
     "text": [
      "Warning: Audio file c:\\Users\\16148\\Desktop\\Projects\\bird_call_project\\Augmented Recordings\\Spizella_passerina_Miami_Township_near__Cleves_Hamilton_County_Ohio_645554_segment_21_aug_2.wav is too short or silent. Skipping.\n"
     ]
    },
    {
     "name": "stderr",
     "output_type": "stream",
     "text": [
      " 18%|█▊        | 88/500 [00:11<00:51,  8.03it/s]"
     ]
    },
    {
     "name": "stdout",
     "output_type": "stream",
     "text": [
      "Warning: Audio file c:\\Users\\16148\\Desktop\\Projects\\bird_call_project\\Augmented Recordings\\Spizella_passerina_Pelee_near__Leamington_Essex_County_Ontario_476560_segment_0_aug_1.wav is too short or silent. Skipping.\n"
     ]
    },
    {
     "name": "stderr",
     "output_type": "stream",
     "text": [
      " 52%|█████▏    | 262/500 [00:34<00:29,  8.14it/s]"
     ]
    },
    {
     "name": "stdout",
     "output_type": "stream",
     "text": [
      "Warning: Audio file c:\\Users\\16148\\Desktop\\Projects\\bird_call_project\\Augmented Recordings\\Spizella_passerina_Michigan_Monroe_County_16984_segment_1_aug_1.wav is too short or silent. Skipping.\n"
     ]
    },
    {
     "name": "stderr",
     "output_type": "stream",
     "text": [
      " 65%|██████▌   | 326/500 [00:42<00:22,  7.87it/s]"
     ]
    },
    {
     "name": "stdout",
     "output_type": "stream",
     "text": [
      "Warning: Audio file c:\\Users\\16148\\Desktop\\Projects\\bird_call_project\\Augmented Recordings\\Spizella_passerina_Michigan_Monroe_County_16984_segment_22_aug_2.wav is too short or silent. Skipping.\n"
     ]
    },
    {
     "name": "stderr",
     "output_type": "stream",
     "text": [
      " 66%|██████▋   | 332/500 [00:43<00:20,  8.33it/s]"
     ]
    },
    {
     "name": "stdout",
     "output_type": "stream",
     "text": [
      "Warning: Audio file c:\\Users\\16148\\Desktop\\Projects\\bird_call_project\\Augmented Recordings\\Spizella_passerina_Michigan_Monroe_County_16984_segment_24_aug_2.wav is too short or silent. Skipping.\n"
     ]
    },
    {
     "name": "stderr",
     "output_type": "stream",
     "text": [
      " 74%|███████▍  | 369/500 [00:48<00:15,  8.27it/s]"
     ]
    },
    {
     "name": "stdout",
     "output_type": "stream",
     "text": [
      "Warning: Audio file c:\\Users\\16148\\Desktop\\Projects\\bird_call_project\\Augmented Recordings\\Spizella_passerina_Michigan_Monroe_County_16983_segment_11_aug_3.wav is too short or silent. Skipping.\n"
     ]
    },
    {
     "name": "stderr",
     "output_type": "stream",
     "text": [
      " 82%|████████▏ | 410/500 [00:53<00:10,  8.49it/s]"
     ]
    },
    {
     "name": "stdout",
     "output_type": "stream",
     "text": [
      "Warning: Audio file c:\\Users\\16148\\Desktop\\Projects\\bird_call_project\\Augmented Recordings\\Spizella_passerina_Michigan_Monroe_County_17172_segment_5_aug_2.wav is too short or silent. Skipping.\n"
     ]
    },
    {
     "name": "stderr",
     "output_type": "stream",
     "text": [
      " 99%|█████████▉| 496/500 [01:05<00:00,  8.21it/s]"
     ]
    },
    {
     "name": "stdout",
     "output_type": "stream",
     "text": [
      "Warning: Audio file c:\\Users\\16148\\Desktop\\Projects\\bird_call_project\\Augmented Recordings\\Spizella_pusilla_Miami_Township_near__Cleves_Hamilton_County_Ohio_807577_segment_13_aug_1.wav is too short or silent. Skipping.\n"
     ]
    },
    {
     "name": "stderr",
     "output_type": "stream",
     "text": [
      "100%|██████████| 500/500 [01:05<00:00,  7.60it/s]\n",
      "  1%|          | 6/500 [00:00<00:59,  8.26it/s]"
     ]
    },
    {
     "name": "stdout",
     "output_type": "stream",
     "text": [
      "Warning: Audio file c:\\Users\\16148\\Desktop\\Projects\\bird_call_project\\Augmented Recordings\\Spizella_pusilla_Miami_Township_near__Cleves_Hamilton_County_Ohio_807577_segment_16_aug_2.wav is too short or silent. Skipping.\n"
     ]
    },
    {
     "name": "stderr",
     "output_type": "stream",
     "text": [
      "  2%|▏         | 10/500 [00:01<01:00,  8.04it/s]"
     ]
    },
    {
     "name": "stdout",
     "output_type": "stream",
     "text": [
      "Warning: Audio file c:\\Users\\16148\\Desktop\\Projects\\bird_call_project\\Augmented Recordings\\Spizella_pusilla_Miami_Township_near__Cleves_Hamilton_County_Ohio_807577_segment_17_aug_3.wav is too short or silent. Skipping.\n"
     ]
    },
    {
     "name": "stderr",
     "output_type": "stream",
     "text": [
      "  3%|▎         | 16/500 [00:02<01:00,  7.98it/s]"
     ]
    },
    {
     "name": "stdout",
     "output_type": "stream",
     "text": [
      "Warning: Audio file c:\\Users\\16148\\Desktop\\Projects\\bird_call_project\\Augmented Recordings\\Spizella_pusilla_Miami_Township_near__Cleves_Hamilton_County_Ohio_807577_segment_19_aug_3.wav is too short or silent. Skipping.\n"
     ]
    },
    {
     "name": "stderr",
     "output_type": "stream",
     "text": [
      "  7%|▋         | 35/500 [00:04<00:56,  8.27it/s]"
     ]
    },
    {
     "name": "stdout",
     "output_type": "stream",
     "text": [
      "Warning: Audio file c:\\Users\\16148\\Desktop\\Projects\\bird_call_project\\Augmented Recordings\\Spizella_pusilla_Miami_Township_near__Cleves_Hamilton_County_Ohio_807577_segment_26_aug_1.wav is too short or silent. Skipping.\n"
     ]
    },
    {
     "name": "stderr",
     "output_type": "stream",
     "text": [
      " 13%|█▎        | 66/500 [00:08<00:54,  7.92it/s]"
     ]
    },
    {
     "name": "stdout",
     "output_type": "stream",
     "text": [
      "Warning: Audio file c:\\Users\\16148\\Desktop\\Projects\\bird_call_project\\Augmented Recordings\\Spizella_pusilla_Oak_Openings_Metropark_Ohio_418069_segment_7_aug_2.wav is too short or silent. Skipping.\n"
     ]
    },
    {
     "name": "stderr",
     "output_type": "stream",
     "text": [
      " 18%|█▊        | 91/500 [00:12<00:49,  8.30it/s]"
     ]
    },
    {
     "name": "stdout",
     "output_type": "stream",
     "text": [
      "Warning: Audio file c:\\Users\\16148\\Desktop\\Projects\\bird_call_project\\Augmented Recordings\\Spizella_pusilla_Lawrence_Woods_SNP_417975_segment_7_aug_3.wav is too short or silent. Skipping.\n"
     ]
    },
    {
     "name": "stderr",
     "output_type": "stream",
     "text": [
      " 37%|███▋      | 187/500 [00:24<00:38,  8.13it/s]"
     ]
    },
    {
     "name": "stdout",
     "output_type": "stream",
     "text": [
      "Warning: Audio file c:\\Users\\16148\\Desktop\\Projects\\bird_call_project\\Augmented Recordings\\Spizella_pusilla_Marseilles_Township_near__Upper_Sandusky_Wyandot_County_Ohio_637645_segment_2_aug_3.wav is too short or silent. Skipping.\n"
     ]
    },
    {
     "name": "stderr",
     "output_type": "stream",
     "text": [
      " 41%|████      | 205/500 [00:27<00:35,  8.28it/s]"
     ]
    },
    {
     "name": "stdout",
     "output_type": "stream",
     "text": [
      "Warning: Audio file c:\\Users\\16148\\Desktop\\Projects\\bird_call_project\\Augmented Recordings\\Spizella_pusilla_Marseilles_Township_near__Upper_Sandusky_Wyandot_County_Ohio_637645_segment_8_aug_3.wav is too short or silent. Skipping.\n"
     ]
    },
    {
     "name": "stderr",
     "output_type": "stream",
     "text": [
      " 45%|████▌     | 225/500 [00:29<00:33,  8.32it/s]"
     ]
    },
    {
     "name": "stdout",
     "output_type": "stream",
     "text": [
      "Warning: Audio file c:\\Users\\16148\\Desktop\\Projects\\bird_call_project\\Augmented Recordings\\Spizella_pusilla_Marseilles_Township_near__Upper_Sandusky_Wyandot_County_Ohio_637645_segment_15_aug_2.wav is too short or silent. Skipping.\n"
     ]
    },
    {
     "name": "stderr",
     "output_type": "stream",
     "text": [
      " 54%|█████▍    | 272/500 [00:35<00:27,  8.44it/s]"
     ]
    },
    {
     "name": "stdout",
     "output_type": "stream",
     "text": [
      "Warning: Audio file c:\\Users\\16148\\Desktop\\Projects\\bird_call_project\\Augmented Recordings\\Spizella_pusilla_Crosby_Township_near__Harrison_Hamilton_County_Ohio_632520_segment_10_aug_1.wav is too short or silent. Skipping.\n"
     ]
    },
    {
     "name": "stderr",
     "output_type": "stream",
     "text": [
      " 59%|█████▉    | 297/500 [00:38<00:25,  8.08it/s]"
     ]
    },
    {
     "name": "stdout",
     "output_type": "stream",
     "text": [
      "Warning: Audio file c:\\Users\\16148\\Desktop\\Projects\\bird_call_project\\Augmented Recordings\\Spizella_pusilla_Michigan_Monroe_County_16986_segment_1_aug_2.wav is too short or silent. Skipping.\n"
     ]
    },
    {
     "name": "stderr",
     "output_type": "stream",
     "text": [
      " 60%|██████    | 300/500 [00:39<00:25,  7.97it/s]"
     ]
    },
    {
     "name": "stdout",
     "output_type": "stream",
     "text": [
      "Warning: Audio file c:\\Users\\16148\\Desktop\\Projects\\bird_call_project\\Augmented Recordings\\Spizella_pusilla_Michigan_Monroe_County_16986_segment_2_aug_2.wav is too short or silent. Skipping.\n"
     ]
    },
    {
     "name": "stderr",
     "output_type": "stream",
     "text": [
      " 86%|████████▌ | 431/500 [00:56<00:08,  8.07it/s]"
     ]
    },
    {
     "name": "stdout",
     "output_type": "stream",
     "text": [
      "Warning: Audio file c:\\Users\\16148\\Desktop\\Projects\\bird_call_project\\Augmented Recordings\\Junco_hyemalis_Pebblebrook_Lane_Moreland_Hills_Ohio_79986_segment_10_aug_1.wav is too short or silent. Skipping.\n"
     ]
    },
    {
     "name": "stderr",
     "output_type": "stream",
     "text": [
      " 92%|█████████▏| 461/500 [01:00<00:04,  8.33it/s]"
     ]
    },
    {
     "name": "stdout",
     "output_type": "stream",
     "text": [
      "Warning: Audio file c:\\Users\\16148\\Desktop\\Projects\\bird_call_project\\Augmented Recordings\\Junco_hyemalis_Pebblebrook_Lane_Moreland_Hills_Ohio_79986_segment_20_aug_1.wav is too short or silent. Skipping.\n"
     ]
    },
    {
     "name": "stderr",
     "output_type": "stream",
     "text": [
      " 96%|█████████▌| 478/500 [01:02<00:02,  8.36it/s]"
     ]
    },
    {
     "name": "stdout",
     "output_type": "stream",
     "text": [
      "Warning: Audio file c:\\Users\\16148\\Desktop\\Projects\\bird_call_project\\Augmented Recordings\\Junco_hyemalis_Pebblebrook_Lane_Moreland_Hills_Ohio_79986_segment_25_aug_3.wav is too short or silent. Skipping.\n"
     ]
    },
    {
     "name": "stderr",
     "output_type": "stream",
     "text": [
      "100%|██████████| 500/500 [01:05<00:00,  7.64it/s]\n",
      "  8%|▊         | 41/500 [00:05<00:55,  8.24it/s]"
     ]
    },
    {
     "name": "stdout",
     "output_type": "stream",
     "text": [
      "Warning: Audio file c:\\Users\\16148\\Desktop\\Projects\\bird_call_project\\Augmented Recordings\\Pooecetes_gramineus_Michigan_Monroe_County_17095_segment_6_aug_3.wav is too short or silent. Skipping.\n",
      "Warning: Audio file c:\\Users\\16148\\Desktop\\Projects\\bird_call_project\\Augmented Recordings\\Pooecetes_gramineus_Michigan_Monroe_County_17095_segment_7_aug_2.wav is too short or silent. Skipping.\n"
     ]
    },
    {
     "name": "stderr",
     "output_type": "stream",
     "text": [
      "  9%|▉         | 46/500 [00:06<00:53,  8.51it/s]"
     ]
    },
    {
     "name": "stdout",
     "output_type": "stream",
     "text": [
      "Warning: Audio file c:\\Users\\16148\\Desktop\\Projects\\bird_call_project\\Augmented Recordings\\Pooecetes_gramineus_Michigan_Monroe_County_17095_segment_8_aug_2.wav is too short or silent. Skipping.\n"
     ]
    },
    {
     "name": "stderr",
     "output_type": "stream",
     "text": [
      " 37%|███▋      | 185/500 [00:24<00:37,  8.34it/s]"
     ]
    },
    {
     "name": "stdout",
     "output_type": "stream",
     "text": [
      "Warning: Audio file c:\\Users\\16148\\Desktop\\Projects\\bird_call_project\\Augmented Recordings\\Centronyx_henslowii_Battelle_Darby_Metro_Park_-_Wetlands_417867_segment_12_aug_3.wav is too short or silent. Skipping.\n"
     ]
    },
    {
     "name": "stderr",
     "output_type": "stream",
     "text": [
      " 45%|████▍     | 223/500 [00:29<00:33,  8.36it/s]"
     ]
    },
    {
     "name": "stdout",
     "output_type": "stream",
     "text": [
      "Warning: Audio file c:\\Users\\16148\\Desktop\\Projects\\bird_call_project\\Augmented Recordings\\Centronyx_henslowii_Battelle_Darby_Metro_Park_-_Wetlands_417867_segment_25_aug_2.wav is too short or silent. Skipping.\n"
     ]
    },
    {
     "name": "stderr",
     "output_type": "stream",
     "text": [
      " 46%|████▋     | 232/500 [00:30<00:28,  9.31it/s]"
     ]
    },
    {
     "name": "stdout",
     "output_type": "stream",
     "text": [
      "Warning: Audio file c:\\Users\\16148\\Desktop\\Projects\\bird_call_project\\Augmented Recordings\\Centronyx_henslowii_Battelle_Darby_Metro_Park_-_Wetlands_417867_segment_28_aug_2.wav is too short or silent. Skipping.\n"
     ]
    },
    {
     "name": "stderr",
     "output_type": "stream",
     "text": [
      " 52%|█████▏    | 258/500 [00:34<00:29,  8.17it/s]"
     ]
    },
    {
     "name": "stdout",
     "output_type": "stream",
     "text": [
      "Warning: Audio file c:\\Users\\16148\\Desktop\\Projects\\bird_call_project\\Augmented Recordings\\Centronyx_henslowii_Miami_Whitewater_Forest_Park_wetlands_Crosby_Township_near__Harrison_Hamilton_County_Ohio_302926_segment_8_aug_1.wav is too short or silent. Skipping.\n"
     ]
    },
    {
     "name": "stderr",
     "output_type": "stream",
     "text": [
      " 58%|█████▊    | 292/500 [00:38<00:25,  8.11it/s]"
     ]
    },
    {
     "name": "stdout",
     "output_type": "stream",
     "text": [
      "Warning: Audio file c:\\Users\\16148\\Desktop\\Projects\\bird_call_project\\Augmented Recordings\\Centronyx_henslowii_Battelle_Darby_Metro_Park--Grain_Elevator_Wetlands_106752_segment_6_aug_2.wav is too short or silent. Skipping.\n"
     ]
    },
    {
     "name": "stderr",
     "output_type": "stream",
     "text": [
      " 63%|██████▎   | 314/500 [00:41<00:22,  8.22it/s]"
     ]
    },
    {
     "name": "stdout",
     "output_type": "stream",
     "text": [
      "Warning: Audio file c:\\Users\\16148\\Desktop\\Projects\\bird_call_project\\Augmented Recordings\\Melospiza_melodia_Magee_Marsh_-_boardwalk_Lucas_County_Ohio_826141_segment_3_aug_3.wav is too short or silent. Skipping.\n"
     ]
    },
    {
     "name": "stderr",
     "output_type": "stream",
     "text": [
      " 66%|██████▋   | 332/500 [00:43<00:19,  8.78it/s]"
     ]
    },
    {
     "name": "stdout",
     "output_type": "stream",
     "text": [
      "Warning: Audio file c:\\Users\\16148\\Desktop\\Projects\\bird_call_project\\Augmented Recordings\\Melospiza_melodia_Magee_Marsh_-_boardwalk_Lucas_County_Ohio_826141_segment_9_aug_3.wav is too short or silent. Skipping.\n"
     ]
    },
    {
     "name": "stderr",
     "output_type": "stream",
     "text": [
      " 68%|██████▊   | 339/500 [00:44<00:17,  9.00it/s]"
     ]
    },
    {
     "name": "stdout",
     "output_type": "stream",
     "text": [
      "Warning: Audio file c:\\Users\\16148\\Desktop\\Projects\\bird_call_project\\Augmented Recordings\\Melospiza_melodia_Magee_Marsh_-_boardwalk_Lucas_County_Ohio_826140_segment_1_aug_1.wav is too short or silent. Skipping.\n",
      "Warning: Audio file c:\\Users\\16148\\Desktop\\Projects\\bird_call_project\\Augmented Recordings\\Melospiza_melodia_Magee_Marsh_-_boardwalk_Lucas_County_Ohio_826140_segment_1_aug_2.wav is too short or silent. Skipping.\n"
     ]
    },
    {
     "name": "stderr",
     "output_type": "stream",
     "text": [
      " 75%|███████▍  | 373/500 [00:49<00:16,  7.92it/s]"
     ]
    },
    {
     "name": "stdout",
     "output_type": "stream",
     "text": [
      "Warning: Audio file c:\\Users\\16148\\Desktop\\Projects\\bird_call_project\\Augmented Recordings\\Melospiza_melodia_Magee_Marsh_-_boardwalk_Lucas_County_Ohio_826140_segment_12_aug_2.wav is too short or silent. Skipping.\n"
     ]
    },
    {
     "name": "stderr",
     "output_type": "stream",
     "text": [
      " 76%|███████▌  | 378/500 [00:50<00:15,  7.95it/s]"
     ]
    },
    {
     "name": "stdout",
     "output_type": "stream",
     "text": [
      "Warning: Audio file c:\\Users\\16148\\Desktop\\Projects\\bird_call_project\\Augmented Recordings\\Melospiza_melodia_Magee_Marsh_-_boardwalk_Lucas_County_Ohio_826140_segment_14_aug_1.wav is too short or silent. Skipping.\n"
     ]
    },
    {
     "name": "stderr",
     "output_type": "stream",
     "text": [
      " 87%|████████▋ | 434/500 [00:57<00:08,  7.99it/s]"
     ]
    },
    {
     "name": "stdout",
     "output_type": "stream",
     "text": [
      "Warning: Audio file c:\\Users\\16148\\Desktop\\Projects\\bird_call_project\\Augmented Recordings\\Melospiza_melodia_Green_Township_near__Cincinnati_Hamilton_County_Ohio_807468_segment_17_aug_3.wav is too short or silent. Skipping.\n"
     ]
    },
    {
     "name": "stderr",
     "output_type": "stream",
     "text": [
      " 96%|█████████▌| 478/500 [01:03<00:02,  7.99it/s]"
     ]
    },
    {
     "name": "stdout",
     "output_type": "stream",
     "text": [
      "Warning: Audio file c:\\Users\\16148\\Desktop\\Projects\\bird_call_project\\Augmented Recordings\\Melospiza_melodia_Battelle_Darby_Metro_Park--Darby_Dan_Training_Loop_trail_SW_corner_105818_segment_4_aug_2.wav is too short or silent. Skipping.\n"
     ]
    },
    {
     "name": "stderr",
     "output_type": "stream",
     "text": [
      "100%|██████████| 500/500 [01:06<00:00,  7.55it/s]"
     ]
    },
    {
     "name": "stdout",
     "output_type": "stream",
     "text": [
      "Warning: Audio file c:\\Users\\16148\\Desktop\\Projects\\bird_call_project\\Augmented Recordings\\Melospiza_melodia_Battelle_Darby_Metro_Park--Darby_Dan_Training_Loop_trail_SW_corner_105818_segment_11_aug_3.wav is too short or silent. Skipping.\n"
     ]
    },
    {
     "name": "stderr",
     "output_type": "stream",
     "text": [
      "\n",
      "  4%|▎         | 18/500 [00:02<00:59,  8.06it/s]"
     ]
    },
    {
     "name": "stdout",
     "output_type": "stream",
     "text": [
      "Warning: Audio file c:\\Users\\16148\\Desktop\\Projects\\bird_call_project\\Augmented Recordings\\Melospiza_melodia_Battelle_Darby_Metro_Park--Darby_Dan_Training_Loop_trail_SW_corner_105818_segment_17_aug_3.wav is too short or silent. Skipping.\n"
     ]
    },
    {
     "name": "stderr",
     "output_type": "stream",
     "text": [
      " 11%|█         | 56/500 [00:07<00:55,  8.03it/s]"
     ]
    },
    {
     "name": "stdout",
     "output_type": "stream",
     "text": [
      "Warning: Audio file c:\\Users\\16148\\Desktop\\Projects\\bird_call_project\\Augmented Recordings\\Melospiza_melodia_Miami_Whitewater_Forest_Park_wetlands_Crosby_Township_near__Harrison_Hamilton_County_Ohio_687157_segment_6_aug_2.wav is too short or silent. Skipping.\n"
     ]
    },
    {
     "name": "stderr",
     "output_type": "stream",
     "text": [
      " 15%|█▌        | 75/500 [00:09<00:50,  8.36it/s]"
     ]
    },
    {
     "name": "stdout",
     "output_type": "stream",
     "text": [
      "Warning: Audio file c:\\Users\\16148\\Desktop\\Projects\\bird_call_project\\Augmented Recordings\\Melospiza_melodia_Oak_Openings_Metropark_Ohio_418071_segment_0_aug_3.wav is too short or silent. Skipping.\n"
     ]
    },
    {
     "name": "stderr",
     "output_type": "stream",
     "text": [
      " 16%|█▌        | 79/500 [00:10<00:49,  8.59it/s]"
     ]
    },
    {
     "name": "stdout",
     "output_type": "stream",
     "text": [
      "Warning: Audio file c:\\Users\\16148\\Desktop\\Projects\\bird_call_project\\Augmented Recordings\\Melospiza_melodia_Oak_Openings_Metropark_Ohio_418071_segment_2_aug_1.wav is too short or silent. Skipping.\n"
     ]
    },
    {
     "name": "stderr",
     "output_type": "stream",
     "text": [
      " 18%|█▊        | 91/500 [00:11<00:49,  8.20it/s]"
     ]
    },
    {
     "name": "stdout",
     "output_type": "stream",
     "text": [
      "Warning: Audio file c:\\Users\\16148\\Desktop\\Projects\\bird_call_project\\Augmented Recordings\\Melospiza_melodia_Oak_Openings_Metropark_Ohio_418071_segment_6_aug_1.wav is too short or silent. Skipping.\n",
      "Warning: Audio file c:\\Users\\16148\\Desktop\\Projects\\bird_call_project\\Augmented Recordings\\Melospiza_melodia_Oak_Openings_Metropark_Ohio_418071_segment_6_aug_3.wav is too short or silent. Skipping.\n"
     ]
    },
    {
     "name": "stderr",
     "output_type": "stream",
     "text": [
      " 20%|██        | 101/500 [00:13<00:47,  8.35it/s]"
     ]
    },
    {
     "name": "stdout",
     "output_type": "stream",
     "text": [
      "Warning: Audio file c:\\Users\\16148\\Desktop\\Projects\\bird_call_project\\Augmented Recordings\\Melospiza_melodia_Michigan_Monroe_County_17143_segment_2_aug_2.wav is too short or silent. Skipping.\n"
     ]
    },
    {
     "name": "stderr",
     "output_type": "stream",
     "text": [
      " 29%|██▉       | 147/500 [00:18<00:40,  8.79it/s]"
     ]
    },
    {
     "name": "stdout",
     "output_type": "stream",
     "text": [
      "Warning: Audio file c:\\Users\\16148\\Desktop\\Projects\\bird_call_project\\Augmented Recordings\\Melospiza_georgiana_Miami_Whitewater_Forest_Park_wetlands_Crosby_Township_near__Harrison_Hamilton_County_Ohio_687137_segment_3_aug_3.wav is too short or silent. Skipping.\n"
     ]
    },
    {
     "name": "stderr",
     "output_type": "stream",
     "text": [
      " 32%|███▏      | 160/500 [00:20<00:42,  7.98it/s]"
     ]
    },
    {
     "name": "stdout",
     "output_type": "stream",
     "text": [
      "Warning: Audio file c:\\Users\\16148\\Desktop\\Projects\\bird_call_project\\Augmented Recordings\\Melospiza_georgiana_Cuyhaoga_National_Forest_57835_segment_1_aug_1.wav is too short or silent. Skipping.\n"
     ]
    },
    {
     "name": "stderr",
     "output_type": "stream",
     "text": [
      " 34%|███▎      | 168/500 [00:21<00:37,  8.82it/s]"
     ]
    },
    {
     "name": "stdout",
     "output_type": "stream",
     "text": [
      "Warning: Audio file c:\\Users\\16148\\Desktop\\Projects\\bird_call_project\\Augmented Recordings\\Melospiza_georgiana_Cuyhaoga_National_Forest_57835_segment_3_aug_3.wav is too short or silent. Skipping.\n"
     ]
    },
    {
     "name": "stderr",
     "output_type": "stream",
     "text": [
      " 40%|████      | 201/500 [00:26<00:36,  8.14it/s]"
     ]
    },
    {
     "name": "stdout",
     "output_type": "stream",
     "text": [
      "Warning: Audio file c:\\Users\\16148\\Desktop\\Projects\\bird_call_project\\Augmented Recordings\\Pipilo_erythrophthalmus_Edge_of_Appalachia_Preserve_Adams_Cty_Ohio_939170_segment_5_aug_3.wav is too short or silent. Skipping.\n"
     ]
    },
    {
     "name": "stderr",
     "output_type": "stream",
     "text": [
      " 41%|████      | 206/500 [00:26<00:35,  8.33it/s]"
     ]
    },
    {
     "name": "stdout",
     "output_type": "stream",
     "text": [
      "Warning: Audio file c:\\Users\\16148\\Desktop\\Projects\\bird_call_project\\Augmented Recordings\\Pipilo_erythrophthalmus_Edge_of_Appalachia_Preserve_Adams_Cty_Ohio_939170_segment_7_aug_2.wav is too short or silent. Skipping.\n"
     ]
    },
    {
     "name": "stderr",
     "output_type": "stream",
     "text": [
      " 44%|████▍     | 221/500 [00:28<00:36,  7.58it/s]"
     ]
    },
    {
     "name": "stdout",
     "output_type": "stream",
     "text": [
      "Warning: Audio file c:\\Users\\16148\\Desktop\\Projects\\bird_call_project\\Augmented Recordings\\Pipilo_erythrophthalmus_Edge_of_Appalachia_Preserve_Adams_Cty_Ohio_939170_segment_13_aug_1.wav is too short or silent. Skipping.\n"
     ]
    },
    {
     "name": "stderr",
     "output_type": "stream",
     "text": [
      " 53%|█████▎    | 265/500 [00:34<00:29,  7.98it/s]"
     ]
    },
    {
     "name": "stdout",
     "output_type": "stream",
     "text": [
      "Warning: Audio file c:\\Users\\16148\\Desktop\\Projects\\bird_call_project\\Augmented Recordings\\Pipilo_erythrophthalmus_Point_Pelee_National_Park_near__Wheatley_Essex_County_Ontario_805531_segment_12_aug_1.wav is too short or silent. Skipping.\n"
     ]
    },
    {
     "name": "stderr",
     "output_type": "stream",
     "text": [
      " 62%|██████▏   | 308/500 [00:40<00:23,  8.14it/s]"
     ]
    },
    {
     "name": "stdout",
     "output_type": "stream",
     "text": [
      "Warning: Audio file c:\\Users\\16148\\Desktop\\Projects\\bird_call_project\\Augmented Recordings\\Pipilo_erythrophthalmus_Miami_Township_near__Cleves_Hamilton_County_Ohio_645749_segment_0_aug_2.wav is too short or silent. Skipping.\n"
     ]
    },
    {
     "name": "stderr",
     "output_type": "stream",
     "text": [
      " 76%|███████▋  | 382/500 [00:49<00:14,  8.10it/s]"
     ]
    },
    {
     "name": "stdout",
     "output_type": "stream",
     "text": [
      "Warning: Audio file c:\\Users\\16148\\Desktop\\Projects\\bird_call_project\\Augmented Recordings\\Pipilo_erythrophthalmus_Pelee_near__Leamington_Essex_County_Ontario_476567_segment_7_aug_1.wav is too short or silent. Skipping.\n"
     ]
    },
    {
     "name": "stderr",
     "output_type": "stream",
     "text": [
      " 80%|████████  | 402/500 [00:52<00:12,  8.04it/s]"
     ]
    },
    {
     "name": "stdout",
     "output_type": "stream",
     "text": [
      "Warning: Audio file c:\\Users\\16148\\Desktop\\Projects\\bird_call_project\\Augmented Recordings\\Pipilo_erythrophthalmus_Brush_Creek_near__West_Union_Adams_County_Ohio_178534_segment_5_aug_3.wav is too short or silent. Skipping.\n"
     ]
    },
    {
     "name": "stderr",
     "output_type": "stream",
     "text": [
      " 83%|████████▎ | 413/500 [00:54<00:10,  8.19it/s]"
     ]
    },
    {
     "name": "stdout",
     "output_type": "stream",
     "text": [
      "Warning: Audio file c:\\Users\\16148\\Desktop\\Projects\\bird_call_project\\Augmented Recordings\\Pipilo_erythrophthalmus_Brush_Creek_near__West_Union_Adams_County_Ohio_178534_segment_9_aug_2.wav is too short or silent. Skipping.\n"
     ]
    },
    {
     "name": "stderr",
     "output_type": "stream",
     "text": [
      " 86%|████████▌ | 430/500 [00:56<00:07,  9.46it/s]"
     ]
    },
    {
     "name": "stdout",
     "output_type": "stream",
     "text": [
      "Warning: Audio file c:\\Users\\16148\\Desktop\\Projects\\bird_call_project\\Augmented Recordings\\Pipilo_erythrophthalmus_Ross_Township_near__Hamilton_Butler_County_Ohio_533333_segment_2_aug_1.wav is too short or silent. Skipping.\n",
      "Warning: Audio file c:\\Users\\16148\\Desktop\\Projects\\bird_call_project\\Augmented Recordings\\Pipilo_erythrophthalmus_Ross_Township_near__Hamilton_Butler_County_Ohio_533333_segment_2_aug_3.wav is too short or silent. Skipping.\n"
     ]
    },
    {
     "name": "stderr",
     "output_type": "stream",
     "text": [
      " 92%|█████████▏| 462/500 [01:00<00:04,  8.57it/s]"
     ]
    },
    {
     "name": "stdout",
     "output_type": "stream",
     "text": [
      "Warning: Audio file c:\\Users\\16148\\Desktop\\Projects\\bird_call_project\\Augmented Recordings\\Pipilo_erythrophthalmus_Ross_Township_near__Hamilton_Butler_County_Ohio_533333_segment_12_aug_3.wav is too short or silent. Skipping.\n"
     ]
    },
    {
     "name": "stderr",
     "output_type": "stream",
     "text": [
      " 95%|█████████▌| 477/500 [01:02<00:02,  7.83it/s]"
     ]
    },
    {
     "name": "stdout",
     "output_type": "stream",
     "text": [
      "Warning: Audio file c:\\Users\\16148\\Desktop\\Projects\\bird_call_project\\Augmented Recordings\\Pipilo_erythrophthalmus_Ross_Township_near__Hamilton_Butler_County_Ohio_533333_segment_17_aug_3.wav is too short or silent. Skipping.\n"
     ]
    },
    {
     "name": "stderr",
     "output_type": "stream",
     "text": [
      " 99%|█████████▉| 494/500 [01:04<00:00,  8.91it/s]"
     ]
    },
    {
     "name": "stdout",
     "output_type": "stream",
     "text": [
      "Warning: Audio file c:\\Users\\16148\\Desktop\\Projects\\bird_call_project\\Augmented Recordings\\Pipilo_erythrophthalmus_Ross_Township_near__Hamilton_Butler_County_Ohio_533333_segment_23_aug_2.wav is too short or silent. Skipping.\n"
     ]
    },
    {
     "name": "stderr",
     "output_type": "stream",
     "text": [
      "100%|██████████| 500/500 [01:05<00:00,  7.67it/s]\n",
      " 10%|▉         | 48/500 [00:06<00:54,  8.29it/s]"
     ]
    },
    {
     "name": "stdout",
     "output_type": "stream",
     "text": [
      "Warning: Audio file c:\\Users\\16148\\Desktop\\Projects\\bird_call_project\\Augmented Recordings\\Pipilo_erythrophthalmus_East_Fork_Lake_SP_Clermont_County_Ohio_416553_segment_8_aug_2.wav is too short or silent. Skipping.\n"
     ]
    },
    {
     "name": "stderr",
     "output_type": "stream",
     "text": [
      " 32%|███▏      | 161/500 [00:21<00:44,  7.58it/s]"
     ]
    },
    {
     "name": "stdout",
     "output_type": "stream",
     "text": [
      "Warning: Audio file c:\\Users\\16148\\Desktop\\Projects\\bird_call_project\\Augmented Recordings\\Pipilo_erythrophthalmus_Michigan_Monroe_County_17150_segment_8_aug_1.wav is too short or silent. Skipping.\n",
      "Warning: Audio file c:\\Users\\16148\\Desktop\\Projects\\bird_call_project\\Augmented Recordings\\Pipilo_erythrophthalmus_Michigan_Monroe_County_17150_segment_8_aug_3.wav is too short or silent. Skipping.\n"
     ]
    },
    {
     "name": "stderr",
     "output_type": "stream",
     "text": [
      " 39%|███▉      | 196/500 [00:25<00:35,  8.53it/s]"
     ]
    },
    {
     "name": "stdout",
     "output_type": "stream",
     "text": [
      "Warning: Audio file c:\\Users\\16148\\Desktop\\Projects\\bird_call_project\\Augmented Recordings\\Pipilo_erythrophthalmus_Michigan_Monroe_County_17151_segment_4_aug_3.wav is too short or silent. Skipping.\n"
     ]
    },
    {
     "name": "stderr",
     "output_type": "stream",
     "text": [
      " 45%|████▍     | 223/500 [00:29<00:33,  8.30it/s]"
     ]
    },
    {
     "name": "stdout",
     "output_type": "stream",
     "text": [
      "Warning: Audio file c:\\Users\\16148\\Desktop\\Projects\\bird_call_project\\Augmented Recordings\\Icteria_virens_Miami_Township_near__Cleves_Hamilton_County_Ohio_807580_segment_5_aug_3.wav is too short or silent. Skipping.\n"
     ]
    },
    {
     "name": "stderr",
     "output_type": "stream",
     "text": [
      " 78%|███████▊  | 389/500 [00:51<00:13,  8.15it/s]"
     ]
    },
    {
     "name": "stdout",
     "output_type": "stream",
     "text": [
      "Warning: Audio file c:\\Users\\16148\\Desktop\\Projects\\bird_call_project\\Augmented Recordings\\Dolichonyx_oryzivorus_Case_Farm_Gates_Mills_Ohio_67480_segment_16_aug_1.wav is too short or silent. Skipping.\n"
     ]
    },
    {
     "name": "stderr",
     "output_type": "stream",
     "text": [
      " 84%|████████▍ | 421/500 [00:55<00:09,  8.58it/s]"
     ]
    },
    {
     "name": "stdout",
     "output_type": "stream",
     "text": [
      "Warning: Audio file c:\\Users\\16148\\Desktop\\Projects\\bird_call_project\\Augmented Recordings\\Sturnella_magna_Voice_of_America_MetroPark_near__Middletown_Butler_County_Ohio_645577_segment_1_aug_3.wav is too short or silent. Skipping.\n"
     ]
    },
    {
     "name": "stderr",
     "output_type": "stream",
     "text": [
      " 85%|████████▌ | 425/500 [00:56<00:08,  8.74it/s]"
     ]
    },
    {
     "name": "stdout",
     "output_type": "stream",
     "text": [
      "Warning: Audio file c:\\Users\\16148\\Desktop\\Projects\\bird_call_project\\Augmented Recordings\\Sturnella_magna_Voice_of_America_MetroPark_near__Middletown_Butler_County_Ohio_645577_segment_3_aug_1.wav is too short or silent. Skipping.\n"
     ]
    },
    {
     "name": "stderr",
     "output_type": "stream",
     "text": [
      " 96%|█████████▌| 478/500 [01:03<00:02,  8.85it/s]"
     ]
    },
    {
     "name": "stdout",
     "output_type": "stream",
     "text": [
      "Warning: Audio file c:\\Users\\16148\\Desktop\\Projects\\bird_call_project\\Augmented Recordings\\Sturnella_magna_Voice_of_America_MetroPark_near__Middletown_Butler_County_Ohio_643650_segment_7_aug_3.wav is too short or silent. Skipping.\n"
     ]
    },
    {
     "name": "stderr",
     "output_type": "stream",
     "text": [
      " 96%|█████████▋| 482/500 [01:03<00:02,  8.48it/s]"
     ]
    },
    {
     "name": "stdout",
     "output_type": "stream",
     "text": [
      "Warning: Audio file c:\\Users\\16148\\Desktop\\Projects\\bird_call_project\\Augmented Recordings\\Sturnella_magna_Voice_of_America_MetroPark_near__Middletown_Butler_County_Ohio_643650_segment_9_aug_1.wav is too short or silent. Skipping.\n"
     ]
    },
    {
     "name": "stderr",
     "output_type": "stream",
     "text": [
      "100%|██████████| 500/500 [01:06<00:00,  7.56it/s]\n",
      "  9%|▉         | 47/500 [00:06<00:55,  8.17it/s]"
     ]
    },
    {
     "name": "stdout",
     "output_type": "stream",
     "text": [
      "Warning: Audio file c:\\Users\\16148\\Desktop\\Projects\\bird_call_project\\Augmented Recordings\\Icterus_galbula_Magee_Marsh_-_boardwalk_Lucas_County_Ohio_820108_segment_18_aug_3.wav is too short or silent. Skipping.\n"
     ]
    },
    {
     "name": "stderr",
     "output_type": "stream",
     "text": [
      " 17%|█▋        | 84/500 [00:11<00:47,  8.79it/s]"
     ]
    },
    {
     "name": "stdout",
     "output_type": "stream",
     "text": [
      "Warning: Audio file c:\\Users\\16148\\Desktop\\Projects\\bird_call_project\\Augmented Recordings\\Icterus_galbula_Magee_Marsh_-_boardwalk_Lucas_County_Ohio_820108_segment_31_aug_1.wav is too short or silent. Skipping.\n"
     ]
    },
    {
     "name": "stderr",
     "output_type": "stream",
     "text": [
      " 31%|███       | 154/500 [00:20<00:43,  7.91it/s]"
     ]
    },
    {
     "name": "stdout",
     "output_type": "stream",
     "text": [
      "Warning: Audio file c:\\Users\\16148\\Desktop\\Projects\\bird_call_project\\Augmented Recordings\\Icterus_galbula_Magee_Marsh_-_boardwalk_Lucas_County_Ohio_818924_segment_11_aug_2.wav is too short or silent. Skipping.\n"
     ]
    },
    {
     "name": "stderr",
     "output_type": "stream",
     "text": [
      " 40%|████      | 200/500 [00:26<00:37,  8.09it/s]"
     ]
    },
    {
     "name": "stdout",
     "output_type": "stream",
     "text": [
      "Warning: Audio file c:\\Users\\16148\\Desktop\\Projects\\bird_call_project\\Augmented Recordings\\Icterus_galbula_Dunham_Recreation_Complex_near__Cincinnati_Hamilton_County_Ohio_646455_segment_0_aug_3.wav is too short or silent. Skipping.\n"
     ]
    },
    {
     "name": "stderr",
     "output_type": "stream",
     "text": [
      " 42%|████▏     | 211/500 [00:27<00:31,  9.09it/s]"
     ]
    },
    {
     "name": "stdout",
     "output_type": "stream",
     "text": [
      "Warning: Audio file c:\\Users\\16148\\Desktop\\Projects\\bird_call_project\\Augmented Recordings\\Icterus_galbula_Dunham_Recreation_Complex_near__Cincinnati_Hamilton_County_Ohio_646455_segment_4_aug_2.wav is too short or silent. Skipping.\n"
     ]
    },
    {
     "name": "stderr",
     "output_type": "stream",
     "text": [
      " 49%|████▉     | 244/500 [00:31<00:32,  7.98it/s]"
     ]
    },
    {
     "name": "stdout",
     "output_type": "stream",
     "text": [
      "Warning: Audio file c:\\Users\\16148\\Desktop\\Projects\\bird_call_project\\Augmented Recordings\\Icterus_galbula_Pelee_near__Leamington_Essex_County_Ontario_476519_segment_4_aug_2.wav is too short or silent. Skipping.\n"
     ]
    },
    {
     "name": "stderr",
     "output_type": "stream",
     "text": [
      " 52%|█████▏    | 262/500 [00:34<00:28,  8.44it/s]"
     ]
    },
    {
     "name": "stdout",
     "output_type": "stream",
     "text": [
      "Warning: Audio file c:\\Users\\16148\\Desktop\\Projects\\bird_call_project\\Augmented Recordings\\Icterus_galbula_Kiser_Lake_SP_Champaign_County_Ohio_938239_segment_5_aug_2.wav is too short or silent. Skipping.\n"
     ]
    },
    {
     "name": "stderr",
     "output_type": "stream",
     "text": [
      " 80%|███████▉  | 399/500 [00:51<00:12,  8.33it/s]"
     ]
    },
    {
     "name": "stdout",
     "output_type": "stream",
     "text": [
      "Warning: Audio file c:\\Users\\16148\\Desktop\\Projects\\bird_call_project\\Augmented Recordings\\Icterus_galbula_Magee_Marsh_-_boardwalk_Lucas_County_Ohio_820109_segment_26_aug_1.wav is too short or silent. Skipping.\n"
     ]
    },
    {
     "name": "stderr",
     "output_type": "stream",
     "text": [
      " 90%|█████████ | 451/500 [00:58<00:05,  9.06it/s]"
     ]
    },
    {
     "name": "stdout",
     "output_type": "stream",
     "text": [
      "Warning: Audio file c:\\Users\\16148\\Desktop\\Projects\\bird_call_project\\Augmented Recordings\\Icterus_galbula_Magee_Marsh_-_boardwalk_Lucas_County_Ohio_820109_segment_43_aug_2.wav is too short or silent. Skipping.\n"
     ]
    },
    {
     "name": "stderr",
     "output_type": "stream",
     "text": [
      " 92%|█████████▏| 462/500 [01:00<00:04,  8.28it/s]"
     ]
    },
    {
     "name": "stdout",
     "output_type": "stream",
     "text": [
      "Warning: Audio file c:\\Users\\16148\\Desktop\\Projects\\bird_call_project\\Augmented Recordings\\Icterus_galbula_Magee_Marsh_-_boardwalk_Lucas_County_Ohio_820109_segment_47_aug_1.wav is too short or silent. Skipping.\n"
     ]
    },
    {
     "name": "stderr",
     "output_type": "stream",
     "text": [
      " 96%|█████████▌| 480/500 [01:02<00:02,  8.45it/s]"
     ]
    },
    {
     "name": "stdout",
     "output_type": "stream",
     "text": [
      "Warning: Audio file c:\\Users\\16148\\Desktop\\Projects\\bird_call_project\\Augmented Recordings\\Icterus_galbula_Magee_Marsh_-_boardwalk_Lucas_County_Ohio_820109_segment_53_aug_1.wav is too short or silent. Skipping.\n"
     ]
    },
    {
     "name": "stderr",
     "output_type": "stream",
     "text": [
      "100%|██████████| 500/500 [01:05<00:00,  7.67it/s]\n",
      "  4%|▍         | 22/500 [00:03<00:58,  8.20it/s]"
     ]
    },
    {
     "name": "stdout",
     "output_type": "stream",
     "text": [
      "Warning: Audio file c:\\Users\\16148\\Desktop\\Projects\\bird_call_project\\Augmented Recordings\\Icterus_galbula_Magee_Marsh_-_boardwalk_Lucas_County_Ohio_820109_segment_67_aug_1.wav is too short or silent. Skipping.\n"
     ]
    },
    {
     "name": "stderr",
     "output_type": "stream",
     "text": [
      "  7%|▋         | 34/500 [00:04<00:55,  8.36it/s]"
     ]
    },
    {
     "name": "stdout",
     "output_type": "stream",
     "text": [
      "Warning: Audio file c:\\Users\\16148\\Desktop\\Projects\\bird_call_project\\Augmented Recordings\\Icterus_galbula_Magee_Marsh_-_boardwalk_Lucas_County_Ohio_820109_segment_71_aug_1.wav is too short or silent. Skipping.\n"
     ]
    },
    {
     "name": "stderr",
     "output_type": "stream",
     "text": [
      "  7%|▋         | 37/500 [00:04<00:54,  8.48it/s]"
     ]
    },
    {
     "name": "stdout",
     "output_type": "stream",
     "text": [
      "Warning: Audio file c:\\Users\\16148\\Desktop\\Projects\\bird_call_project\\Augmented Recordings\\Icterus_galbula_Magee_Marsh_-_boardwalk_Lucas_County_Ohio_820109_segment_72_aug_1.wav is too short or silent. Skipping.\n"
     ]
    },
    {
     "name": "stderr",
     "output_type": "stream",
     "text": [
      " 26%|██▌       | 131/500 [00:17<00:43,  8.48it/s]"
     ]
    },
    {
     "name": "stdout",
     "output_type": "stream",
     "text": [
      "Warning: Audio file c:\\Users\\16148\\Desktop\\Projects\\bird_call_project\\Augmented Recordings\\Icterus_galbula_Magee_Marsh_-_boardwalk_Lucas_County_Ohio_818926_segment_26_aug_2.wav is too short or silent. Skipping.\n"
     ]
    },
    {
     "name": "stderr",
     "output_type": "stream",
     "text": [
      " 28%|██▊       | 140/500 [00:18<00:42,  8.48it/s]"
     ]
    },
    {
     "name": "stdout",
     "output_type": "stream",
     "text": [
      "Warning: Audio file c:\\Users\\16148\\Desktop\\Projects\\bird_call_project\\Augmented Recordings\\Icterus_galbula_Magee_Marsh_-_boardwalk_Lucas_County_Ohio_818926_segment_29_aug_2.wav is too short or silent. Skipping.\n"
     ]
    },
    {
     "name": "stderr",
     "output_type": "stream",
     "text": [
      " 32%|███▏      | 160/500 [00:20<00:40,  8.45it/s]"
     ]
    },
    {
     "name": "stdout",
     "output_type": "stream",
     "text": [
      "Warning: Audio file c:\\Users\\16148\\Desktop\\Projects\\bird_call_project\\Augmented Recordings\\Icterus_galbula_Magee_Marsh_-_boardwalk_Lucas_County_Ohio_818926_segment_37_aug_1.wav is too short or silent. Skipping.\n"
     ]
    },
    {
     "name": "stderr",
     "output_type": "stream",
     "text": [
      " 34%|███▎      | 168/500 [00:21<00:39,  8.32it/s]"
     ]
    },
    {
     "name": "stdout",
     "output_type": "stream",
     "text": [
      "Warning: Audio file c:\\Users\\16148\\Desktop\\Projects\\bird_call_project\\Augmented Recordings\\Icterus_galbula_Magee_Marsh_-_boardwalk_Lucas_County_Ohio_818926_segment_39_aug_3.wav is too short or silent. Skipping.\n"
     ]
    },
    {
     "name": "stderr",
     "output_type": "stream",
     "text": [
      " 35%|███▌      | 177/500 [00:23<00:39,  8.23it/s]"
     ]
    },
    {
     "name": "stdout",
     "output_type": "stream",
     "text": [
      "Warning: Audio file c:\\Users\\16148\\Desktop\\Projects\\bird_call_project\\Augmented Recordings\\Icterus_galbula_Magee_Marsh_-_boardwalk_Lucas_County_Ohio_818926_segment_42_aug_3.wav is too short or silent. Skipping.\n",
      "Warning: Audio file c:\\Users\\16148\\Desktop\\Projects\\bird_call_project\\Augmented Recordings\\Icterus_galbula_Magee_Marsh_-_boardwalk_Lucas_County_Ohio_818926_segment_43_aug_2.wav is too short or silent. Skipping.\n"
     ]
    },
    {
     "name": "stderr",
     "output_type": "stream",
     "text": [
      " 40%|████      | 202/500 [00:26<00:39,  7.48it/s]"
     ]
    },
    {
     "name": "stdout",
     "output_type": "stream",
     "text": [
      "Warning: Audio file c:\\Users\\16148\\Desktop\\Projects\\bird_call_project\\Augmented Recordings\\Icterus_galbula_Magee_Marsh_-_boardwalk_Lucas_County_Ohio_818926_segment_51_aug_1.wav is too short or silent. Skipping.\n"
     ]
    },
    {
     "name": "stderr",
     "output_type": "stream",
     "text": [
      " 44%|████▍     | 219/500 [00:28<00:34,  8.07it/s]"
     ]
    },
    {
     "name": "stdout",
     "output_type": "stream",
     "text": [
      "Warning: Audio file c:\\Users\\16148\\Desktop\\Projects\\bird_call_project\\Augmented Recordings\\Icterus_galbula_Magee_Marsh_-_boardwalk_Lucas_County_Ohio_818926_segment_56_aug_3.wav is too short or silent. Skipping.\n"
     ]
    },
    {
     "name": "stderr",
     "output_type": "stream",
     "text": [
      " 65%|██████▌   | 326/500 [00:42<00:20,  8.35it/s]"
     ]
    },
    {
     "name": "stdout",
     "output_type": "stream",
     "text": [
      "Warning: Audio file c:\\Users\\16148\\Desktop\\Projects\\bird_call_project\\Augmented Recordings\\Icterus_galbula_Magee_Marsh_-_boardwalk_Lucas_County_Ohio_818925_segment_1_aug_2.wav is too short or silent. Skipping.\n"
     ]
    },
    {
     "name": "stderr",
     "output_type": "stream",
     "text": [
      " 66%|██████▌   | 330/500 [00:43<00:19,  8.67it/s]"
     ]
    },
    {
     "name": "stdout",
     "output_type": "stream",
     "text": [
      "Warning: Audio file c:\\Users\\16148\\Desktop\\Projects\\bird_call_project\\Augmented Recordings\\Icterus_galbula_Magee_Marsh_-_boardwalk_Lucas_County_Ohio_818925_segment_2_aug_3.wav is too short or silent. Skipping.\n"
     ]
    },
    {
     "name": "stderr",
     "output_type": "stream",
     "text": [
      " 73%|███████▎  | 367/500 [00:48<00:14,  9.02it/s]"
     ]
    },
    {
     "name": "stdout",
     "output_type": "stream",
     "text": [
      "Warning: Audio file c:\\Users\\16148\\Desktop\\Projects\\bird_call_project\\Augmented Recordings\\Icterus_galbula_Magee_Marsh_-_boardwalk_Lucas_County_Ohio_818925_segment_16_aug_1.wav is too short or silent. Skipping.\n"
     ]
    },
    {
     "name": "stderr",
     "output_type": "stream",
     "text": [
      " 75%|███████▌  | 377/500 [00:49<00:13,  9.23it/s]"
     ]
    },
    {
     "name": "stdout",
     "output_type": "stream",
     "text": [
      "Warning: Audio file c:\\Users\\16148\\Desktop\\Projects\\bird_call_project\\Augmented Recordings\\Icterus_galbula_Tanager_Meadow_Reservable_Shelter_near__Harrison_Hamilton_County_Ohio_807350_segment_2_aug_2.wav is too short or silent. Skipping.\n"
     ]
    },
    {
     "name": "stderr",
     "output_type": "stream",
     "text": [
      " 77%|███████▋  | 384/500 [00:50<00:13,  8.40it/s]"
     ]
    },
    {
     "name": "stdout",
     "output_type": "stream",
     "text": [
      "Warning: Audio file c:\\Users\\16148\\Desktop\\Projects\\bird_call_project\\Augmented Recordings\\Icterus_galbula_Tanager_Meadow_Reservable_Shelter_near__Harrison_Hamilton_County_Ohio_807350_segment_4_aug_3.wav is too short or silent. Skipping.\n"
     ]
    },
    {
     "name": "stderr",
     "output_type": "stream",
     "text": [
      " 87%|████████▋ | 433/500 [00:56<00:08,  7.69it/s]"
     ]
    },
    {
     "name": "stdout",
     "output_type": "stream",
     "text": [
      "Warning: Audio file c:\\Users\\16148\\Desktop\\Projects\\bird_call_project\\Augmented Recordings\\Icterus_galbula_Park_End_Dr_Montgomery_County_Ohio_477390_segment_6_aug_1.wav is too short or silent. Skipping.\n"
     ]
    },
    {
     "name": "stderr",
     "output_type": "stream",
     "text": [
      " 92%|█████████▏| 459/500 [01:00<00:05,  8.14it/s]"
     ]
    },
    {
     "name": "stdout",
     "output_type": "stream",
     "text": [
      "Warning: Audio file c:\\Users\\16148\\Desktop\\Projects\\bird_call_project\\Augmented Recordings\\Icterus_galbula_Park_End_Dr_Montgomery_County_Ohio_477390_segment_14_aug_3.wav is too short or silent. Skipping.\n"
     ]
    },
    {
     "name": "stderr",
     "output_type": "stream",
     "text": [
      "100%|██████████| 500/500 [01:05<00:00,  7.61it/s]\n",
      " 10%|█         | 50/500 [00:07<00:55,  8.14it/s]"
     ]
    },
    {
     "name": "stdout",
     "output_type": "stream",
     "text": [
      "Warning: Audio file c:\\Users\\16148\\Desktop\\Projects\\bird_call_project\\Augmented Recordings\\Icterus_galbula_Michigan_Monroe_County_16971_segment_6_aug_1.wav is too short or silent. Skipping.\n"
     ]
    },
    {
     "name": "stderr",
     "output_type": "stream",
     "text": [
      " 16%|█▋        | 82/500 [00:11<00:53,  7.87it/s]"
     ]
    },
    {
     "name": "stdout",
     "output_type": "stream",
     "text": [
      "Warning: Audio file c:\\Users\\16148\\Desktop\\Projects\\bird_call_project\\Augmented Recordings\\Icterus_galbula_Michigan_Monroe_County_16971_segment_16_aug_3.wav is too short or silent. Skipping.\n"
     ]
    },
    {
     "name": "stderr",
     "output_type": "stream",
     "text": [
      " 21%|██▏       | 107/500 [00:14<00:45,  8.54it/s]"
     ]
    },
    {
     "name": "stdout",
     "output_type": "stream",
     "text": [
      "Warning: Audio file c:\\Users\\16148\\Desktop\\Projects\\bird_call_project\\Augmented Recordings\\Icterus_galbula_Magee_Marsh_-_boardwalk_Lucas_County_Ohio_820106_segment_8_aug_1.wav is too short or silent. Skipping.\n"
     ]
    },
    {
     "name": "stderr",
     "output_type": "stream",
     "text": [
      " 25%|██▌       | 125/500 [00:16<00:43,  8.56it/s]"
     ]
    },
    {
     "name": "stdout",
     "output_type": "stream",
     "text": [
      "Warning: Audio file c:\\Users\\16148\\Desktop\\Projects\\bird_call_project\\Augmented Recordings\\Icterus_galbula_Magee_Marsh_-_boardwalk_Lucas_County_Ohio_820106_segment_14_aug_1.wav is too short or silent. Skipping.\n"
     ]
    },
    {
     "name": "stderr",
     "output_type": "stream",
     "text": [
      " 27%|██▋       | 136/500 [00:18<00:44,  8.26it/s]"
     ]
    },
    {
     "name": "stdout",
     "output_type": "stream",
     "text": [
      "Warning: Audio file c:\\Users\\16148\\Desktop\\Projects\\bird_call_project\\Augmented Recordings\\Icterus_galbula_Magee_Marsh_-_boardwalk_Lucas_County_Ohio_820106_segment_17_aug_3.wav is too short or silent. Skipping.\n"
     ]
    },
    {
     "name": "stderr",
     "output_type": "stream",
     "text": [
      " 34%|███▍      | 172/500 [00:22<00:38,  8.45it/s]"
     ]
    },
    {
     "name": "stdout",
     "output_type": "stream",
     "text": [
      "Warning: Audio file c:\\Users\\16148\\Desktop\\Projects\\bird_call_project\\Augmented Recordings\\Icterus_galbula_Magee_Marsh_-_boardwalk_Lucas_County_Ohio_820106_segment_29_aug_3.wav is too short or silent. Skipping.\n"
     ]
    },
    {
     "name": "stderr",
     "output_type": "stream",
     "text": [
      " 60%|██████    | 302/500 [00:40<00:24,  8.09it/s]"
     ]
    },
    {
     "name": "stdout",
     "output_type": "stream",
     "text": [
      "Warning: Audio file c:\\Users\\16148\\Desktop\\Projects\\bird_call_project\\Augmented Recordings\\Icterus_spurius_Maumee_Bay_SP_Ohio_806260_segment_32_aug_1.wav is too short or silent. Skipping.\n"
     ]
    },
    {
     "name": "stderr",
     "output_type": "stream",
     "text": [
      " 68%|██████▊   | 338/500 [00:44<00:18,  8.54it/s]"
     ]
    },
    {
     "name": "stdout",
     "output_type": "stream",
     "text": [
      "Warning: Audio file c:\\Users\\16148\\Desktop\\Projects\\bird_call_project\\Augmented Recordings\\Icterus_spurius_Ohio_Ottawa_NWR_178296_segment_12_aug_1.wav is too short or silent. Skipping.\n"
     ]
    },
    {
     "name": "stderr",
     "output_type": "stream",
     "text": [
      " 82%|████████▏ | 409/500 [00:53<00:10,  8.40it/s]"
     ]
    },
    {
     "name": "stdout",
     "output_type": "stream",
     "text": [
      "Warning: Audio file c:\\Users\\16148\\Desktop\\Projects\\bird_call_project\\Augmented Recordings\\Icterus_spurius_Heritage_Trail_Metro_Park_Hayden_Run_Rd_parking_area_103503_segment_1_aug_3.wav is too short or silent. Skipping.\n"
     ]
    },
    {
     "name": "stderr",
     "output_type": "stream",
     "text": [
      " 90%|█████████ | 452/500 [00:59<00:05,  8.08it/s]"
     ]
    },
    {
     "name": "stdout",
     "output_type": "stream",
     "text": [
      "Warning: Audio file c:\\Users\\16148\\Desktop\\Projects\\bird_call_project\\Augmented Recordings\\Icterus_spurius_Heritage_Trail_Metro_Park_Hayden_Run_Rd_parking_area_103503_segment_16_aug_1.wav is too short or silent. Skipping.\n"
     ]
    },
    {
     "name": "stderr",
     "output_type": "stream",
     "text": [
      " 98%|█████████▊| 491/500 [01:04<00:01,  7.83it/s]"
     ]
    },
    {
     "name": "stdout",
     "output_type": "stream",
     "text": [
      "Warning: Audio file c:\\Users\\16148\\Desktop\\Projects\\bird_call_project\\Augmented Recordings\\Icterus_spurius_Heritage_Trail_Metro_Park_Hayden_Run_Rd_parking_area_103503_segment_29_aug_1.wav is too short or silent. Skipping.\n"
     ]
    },
    {
     "name": "stderr",
     "output_type": "stream",
     "text": [
      " 99%|█████████▉| 497/500 [01:05<00:00,  9.17it/s]"
     ]
    },
    {
     "name": "stdout",
     "output_type": "stream",
     "text": [
      "Warning: Audio file c:\\Users\\16148\\Desktop\\Projects\\bird_call_project\\Augmented Recordings\\Icterus_spurius_Heritage_Trail_Metro_Park_Hayden_Run_Rd_parking_area_103503_segment_31_aug_1.wav is too short or silent. Skipping.\n",
      "Warning: Audio file c:\\Users\\16148\\Desktop\\Projects\\bird_call_project\\Augmented Recordings\\Icterus_spurius_Heritage_Trail_Metro_Park_Hayden_Run_Rd_parking_area_103503_segment_31_aug_2.wav is too short or silent. Skipping.\n"
     ]
    },
    {
     "name": "stderr",
     "output_type": "stream",
     "text": [
      "100%|██████████| 500/500 [01:05<00:00,  7.60it/s]\n",
      "  5%|▌         | 25/500 [00:03<00:58,  8.06it/s]"
     ]
    },
    {
     "name": "stdout",
     "output_type": "stream",
     "text": [
      "Warning: Audio file c:\\Users\\16148\\Desktop\\Projects\\bird_call_project\\Augmented Recordings\\Icterus_spurius_Heritage_Trail_Metro_Park_Hayden_Run_Rd_parking_area_103502_segment_8_aug_2.wav is too short or silent. Skipping.\n"
     ]
    },
    {
     "name": "stderr",
     "output_type": "stream",
     "text": [
      " 11%|█         | 54/500 [00:07<00:55,  8.00it/s]"
     ]
    },
    {
     "name": "stdout",
     "output_type": "stream",
     "text": [
      "Warning: Audio file c:\\Users\\16148\\Desktop\\Projects\\bird_call_project\\Augmented Recordings\\Icterus_spurius_Heritage_Trail_Metro_Park_Hayden_Run_Rd_parking_area_103502_segment_19_aug_1.wav is too short or silent. Skipping.\n"
     ]
    },
    {
     "name": "stderr",
     "output_type": "stream",
     "text": [
      " 20%|█▉        | 99/500 [00:13<00:48,  8.25it/s]"
     ]
    },
    {
     "name": "stdout",
     "output_type": "stream",
     "text": [
      "Warning: Audio file c:\\Users\\16148\\Desktop\\Projects\\bird_call_project\\Augmented Recordings\\Icterus_spurius_Heritage_Trail_Metro_Park_Hayden_Run_Rd_parking_area_103502_segment_34_aug_1.wav is too short or silent. Skipping.\n"
     ]
    },
    {
     "name": "stderr",
     "output_type": "stream",
     "text": [
      " 23%|██▎       | 113/500 [00:14<00:46,  8.26it/s]"
     ]
    },
    {
     "name": "stdout",
     "output_type": "stream",
     "text": [
      "Warning: Audio file c:\\Users\\16148\\Desktop\\Projects\\bird_call_project\\Augmented Recordings\\Icterus_spurius_Michigan_Whiteford_Township_17091_segment_3_aug_3.wav is too short or silent. Skipping.\n"
     ]
    },
    {
     "name": "stderr",
     "output_type": "stream",
     "text": [
      " 25%|██▍       | 124/500 [00:16<00:49,  7.62it/s]"
     ]
    },
    {
     "name": "stdout",
     "output_type": "stream",
     "text": [
      "Warning: Audio file c:\\Users\\16148\\Desktop\\Projects\\bird_call_project\\Augmented Recordings\\Icterus_spurius_Michigan_Whiteford_Township_17091_segment_7_aug_2.wav is too short or silent. Skipping.\n"
     ]
    },
    {
     "name": "stderr",
     "output_type": "stream",
     "text": [
      " 27%|██▋       | 135/500 [00:17<00:43,  8.39it/s]"
     ]
    },
    {
     "name": "stdout",
     "output_type": "stream",
     "text": [
      "Warning: Audio file c:\\Users\\16148\\Desktop\\Projects\\bird_call_project\\Augmented Recordings\\Icterus_spurius_Michigan_Whiteford_Township_17091_segment_11_aug_1.wav is too short or silent. Skipping.\n"
     ]
    },
    {
     "name": "stderr",
     "output_type": "stream",
     "text": [
      " 31%|███       | 153/500 [00:20<00:43,  8.04it/s]"
     ]
    },
    {
     "name": "stdout",
     "output_type": "stream",
     "text": [
      "Warning: Audio file c:\\Users\\16148\\Desktop\\Projects\\bird_call_project\\Augmented Recordings\\Icterus_spurius_Michigan_Whiteford_Township_17091_segment_17_aug_1.wav is too short or silent. Skipping.\n"
     ]
    },
    {
     "name": "stderr",
     "output_type": "stream",
     "text": [
      " 42%|████▏     | 209/500 [00:27<00:36,  8.02it/s]"
     ]
    },
    {
     "name": "stdout",
     "output_type": "stream",
     "text": [
      "Warning: Audio file c:\\Users\\16148\\Desktop\\Projects\\bird_call_project\\Augmented Recordings\\Icterus_spurius_Michigan_Whiteford_Township_17090_segment_17_aug_3.wav is too short or silent. Skipping.\n",
      "Warning: Audio file c:\\Users\\16148\\Desktop\\Projects\\bird_call_project\\Augmented Recordings\\Agelaius_phoeniceus_Kiser_Lake_SP_Champaign_County_Ohio_938242_segment_0_aug_2.wav is too short or silent. Skipping.\n"
     ]
    },
    {
     "name": "stderr",
     "output_type": "stream",
     "text": [
      " 94%|█████████▍| 470/500 [01:01<00:03,  8.06it/s]"
     ]
    },
    {
     "name": "stdout",
     "output_type": "stream",
     "text": [
      "Warning: Audio file c:\\Users\\16148\\Desktop\\Projects\\bird_call_project\\Augmented Recordings\\Agelaius_phoeniceus_Magee_Marsh_-_boardwalk_Lucas_County_Ohio_814755_segment_78_aug_3.wav is too short or silent. Skipping.\n"
     ]
    },
    {
     "name": "stderr",
     "output_type": "stream",
     "text": [
      " 99%|█████████▉| 494/500 [01:04<00:00,  8.83it/s]"
     ]
    },
    {
     "name": "stdout",
     "output_type": "stream",
     "text": [
      "Warning: Audio file c:\\Users\\16148\\Desktop\\Projects\\bird_call_project\\Augmented Recordings\\Agelaius_phoeniceus_Magee_Marsh_-_boardwalk_Lucas_County_Ohio_814755_segment_86_aug_3.wav is too short or silent. Skipping.\n"
     ]
    },
    {
     "name": "stderr",
     "output_type": "stream",
     "text": [
      "100%|██████████| 500/500 [01:05<00:00,  7.62it/s]\n",
      "  8%|▊         | 40/500 [00:05<00:57,  8.01it/s]"
     ]
    },
    {
     "name": "stdout",
     "output_type": "stream",
     "text": [
      "Warning: Audio file c:\\Users\\16148\\Desktop\\Projects\\bird_call_project\\Augmented Recordings\\Agelaius_phoeniceus_Magee_Marsh_-_boardwalk_Lucas_County_Ohio_814755_segment_102_aug_1.wav is too short or silent. Skipping.\n"
     ]
    },
    {
     "name": "stderr",
     "output_type": "stream",
     "text": [
      " 17%|█▋        | 87/500 [00:11<00:44,  9.22it/s]"
     ]
    },
    {
     "name": "stdout",
     "output_type": "stream",
     "text": [
      "Warning: Audio file c:\\Users\\16148\\Desktop\\Projects\\bird_call_project\\Augmented Recordings\\Agelaius_phoeniceus_Magee_Marsh_-_boardwalk_Lucas_County_Ohio_814755_segment_117_aug_3.wav is too short or silent. Skipping.\n",
      "Warning: Audio file c:\\Users\\16148\\Desktop\\Projects\\bird_call_project\\Augmented Recordings\\Agelaius_phoeniceus_Magee_Marsh_-_boardwalk_Lucas_County_Ohio_814755_segment_118_aug_1.wav is too short or silent. Skipping.\n"
     ]
    },
    {
     "name": "stderr",
     "output_type": "stream",
     "text": [
      " 23%|██▎       | 117/500 [00:15<00:47,  8.05it/s]"
     ]
    },
    {
     "name": "stdout",
     "output_type": "stream",
     "text": [
      "Warning: Audio file c:\\Users\\16148\\Desktop\\Projects\\bird_call_project\\Augmented Recordings\\Agelaius_phoeniceus_Magee_Marsh_-_boardwalk_Lucas_County_Ohio_814755_segment_127_aug_3.wav is too short or silent. Skipping.\n"
     ]
    },
    {
     "name": "stderr",
     "output_type": "stream",
     "text": [
      " 27%|██▋       | 136/500 [00:18<00:44,  8.21it/s]"
     ]
    },
    {
     "name": "stdout",
     "output_type": "stream",
     "text": [
      "Warning: Audio file c:\\Users\\16148\\Desktop\\Projects\\bird_call_project\\Augmented Recordings\\Agelaius_phoeniceus_Magee_Marsh_-_boardwalk_Lucas_County_Ohio_814755_segment_134_aug_1.wav is too short or silent. Skipping.\n"
     ]
    },
    {
     "name": "stderr",
     "output_type": "stream",
     "text": [
      " 32%|███▏      | 161/500 [00:21<00:40,  8.39it/s]"
     ]
    },
    {
     "name": "stdout",
     "output_type": "stream",
     "text": [
      "Warning: Audio file c:\\Users\\16148\\Desktop\\Projects\\bird_call_project\\Augmented Recordings\\Agelaius_phoeniceus_Magee_Marsh_-_boardwalk_Lucas_County_Ohio_814755_segment_142_aug_2.wav is too short or silent. Skipping.\n",
      "Warning: Audio file c:\\Users\\16148\\Desktop\\Projects\\bird_call_project\\Augmented Recordings\\Agelaius_phoeniceus_Magee_Marsh_-_boardwalk_Lucas_County_Ohio_814755_segment_143_aug_1.wav is too short or silent. Skipping.\n"
     ]
    },
    {
     "name": "stderr",
     "output_type": "stream",
     "text": [
      " 33%|███▎      | 167/500 [00:22<00:35,  9.38it/s]"
     ]
    },
    {
     "name": "stdout",
     "output_type": "stream",
     "text": [
      "Warning: Audio file c:\\Users\\16148\\Desktop\\Projects\\bird_call_project\\Augmented Recordings\\Agelaius_phoeniceus_Magee_Marsh_-_boardwalk_Lucas_County_Ohio_814755_segment_144_aug_2.wav is too short or silent. Skipping.\n",
      "Warning: Audio file c:\\Users\\16148\\Desktop\\Projects\\bird_call_project\\Augmented Recordings\\Agelaius_phoeniceus_Magee_Marsh_-_boardwalk_Lucas_County_Ohio_814755_segment_144_aug_3.wav is too short or silent. Skipping.\n"
     ]
    },
    {
     "name": "stderr",
     "output_type": "stream",
     "text": [
      " 41%|████      | 204/500 [00:26<00:34,  8.56it/s]"
     ]
    },
    {
     "name": "stdout",
     "output_type": "stream",
     "text": [
      "Warning: Audio file c:\\Users\\16148\\Desktop\\Projects\\bird_call_project\\Augmented Recordings\\Agelaius_phoeniceus_Magee_Marsh_-_boardwalk_Lucas_County_Ohio_814755_segment_156_aug_3.wav is too short or silent. Skipping.\n"
     ]
    },
    {
     "name": "stderr",
     "output_type": "stream",
     "text": [
      " 63%|██████▎   | 315/500 [00:41<00:23,  8.02it/s]"
     ]
    },
    {
     "name": "stdout",
     "output_type": "stream",
     "text": [
      "Warning: Audio file c:\\Users\\16148\\Desktop\\Projects\\bird_call_project\\Augmented Recordings\\Agelaius_phoeniceus_Magee_Marsh_-_boardwalk_Lucas_County_Ohio_814751_segment_12_aug_3.wav is too short or silent. Skipping.\n"
     ]
    },
    {
     "name": "stderr",
     "output_type": "stream",
     "text": [
      " 75%|███████▌  | 376/500 [00:49<00:13,  8.94it/s]"
     ]
    },
    {
     "name": "stdout",
     "output_type": "stream",
     "text": [
      "Warning: Audio file c:\\Users\\16148\\Desktop\\Projects\\bird_call_project\\Augmented Recordings\\Agelaius_phoeniceus_Magee_Marsh_-_boardwalk_Lucas_County_Ohio_814751_segment_33_aug_1.wav is too short or silent. Skipping.\n"
     ]
    },
    {
     "name": "stderr",
     "output_type": "stream",
     "text": [
      " 86%|████████▌ | 430/500 [00:57<00:08,  8.14it/s]"
     ]
    },
    {
     "name": "stdout",
     "output_type": "stream",
     "text": [
      "Warning: Audio file c:\\Users\\16148\\Desktop\\Projects\\bird_call_project\\Augmented Recordings\\Agelaius_phoeniceus_Magee_Marsh_-_boardwalk_Lucas_County_Ohio_814751_segment_51_aug_1.wav is too short or silent. Skipping.\n"
     ]
    },
    {
     "name": "stderr",
     "output_type": "stream",
     "text": [
      " 87%|████████▋ | 435/500 [00:57<00:07,  8.14it/s]"
     ]
    },
    {
     "name": "stdout",
     "output_type": "stream",
     "text": [
      "Warning: Audio file c:\\Users\\16148\\Desktop\\Projects\\bird_call_project\\Augmented Recordings\\Agelaius_phoeniceus_Magee_Marsh_-_boardwalk_Lucas_County_Ohio_814751_segment_52_aug_3.wav is too short or silent. Skipping.\n"
     ]
    },
    {
     "name": "stderr",
     "output_type": "stream",
     "text": [
      " 96%|█████████▋| 482/500 [01:04<00:02,  8.02it/s]"
     ]
    },
    {
     "name": "stdout",
     "output_type": "stream",
     "text": [
      "Warning: Audio file c:\\Users\\16148\\Desktop\\Projects\\bird_call_project\\Augmented Recordings\\Agelaius_phoeniceus_Magee_Marsh_-_boardwalk_Lucas_County_Ohio_814751_segment_69_aug_2.wav is too short or silent. Skipping.\n"
     ]
    },
    {
     "name": "stderr",
     "output_type": "stream",
     "text": [
      "100%|██████████| 500/500 [01:06<00:00,  7.51it/s]\n",
      "  7%|▋         | 35/500 [00:04<00:51,  9.03it/s]"
     ]
    },
    {
     "name": "stdout",
     "output_type": "stream",
     "text": [
      "Warning: Audio file c:\\Users\\16148\\Desktop\\Projects\\bird_call_project\\Augmented Recordings\\Agelaius_phoeniceus_Wegerzyn_garden_near__Dayton_Montgomery_County_Ohio_807222_segment_13_aug_1.wav is too short or silent. Skipping.\n"
     ]
    },
    {
     "name": "stderr",
     "output_type": "stream",
     "text": [
      " 19%|█▉        | 94/500 [00:12<00:45,  8.94it/s]"
     ]
    },
    {
     "name": "stdout",
     "output_type": "stream",
     "text": [
      "Warning: Audio file c:\\Users\\16148\\Desktop\\Projects\\bird_call_project\\Augmented Recordings\\Agelaius_phoeniceus_Dunham_Recreation_Complex_near__Cincinnati_Hamilton_County_Ohio_646125_segment_14_aug_3.wav is too short or silent. Skipping.\n"
     ]
    },
    {
     "name": "stderr",
     "output_type": "stream",
     "text": [
      " 21%|██        | 103/500 [00:13<00:49,  8.04it/s]"
     ]
    },
    {
     "name": "stdout",
     "output_type": "stream",
     "text": [
      "Warning: Audio file c:\\Users\\16148\\Desktop\\Projects\\bird_call_project\\Augmented Recordings\\Agelaius_phoeniceus_Dunham_Recreation_Complex_near__Cincinnati_Hamilton_County_Ohio_646125_segment_17_aug_3.wav is too short or silent. Skipping.\n"
     ]
    },
    {
     "name": "stderr",
     "output_type": "stream",
     "text": [
      " 24%|██▍       | 122/500 [00:16<00:46,  8.22it/s]"
     ]
    },
    {
     "name": "stdout",
     "output_type": "stream",
     "text": [
      "Warning: Audio file c:\\Users\\16148\\Desktop\\Projects\\bird_call_project\\Augmented Recordings\\Agelaius_phoeniceus_Franklin_Township_near__Saint_Marys_Mercer_County_Ohio_637652_segment_5_aug_1.wav is too short or silent. Skipping.\n"
     ]
    },
    {
     "name": "stderr",
     "output_type": "stream",
     "text": [
      " 39%|███▉      | 194/500 [00:26<00:40,  7.62it/s]"
     ]
    },
    {
     "name": "stdout",
     "output_type": "stream",
     "text": [
      "Warning: Audio file c:\\Users\\16148\\Desktop\\Projects\\bird_call_project\\Augmented Recordings\\Agelaius_phoeniceus_Pelee_near__Leamington_Essex_County_Ontario_477032_segment_9_aug_1.wav is too short or silent. Skipping.\n"
     ]
    },
    {
     "name": "stderr",
     "output_type": "stream",
     "text": [
      " 41%|████      | 206/500 [00:27<00:35,  8.30it/s]"
     ]
    },
    {
     "name": "stdout",
     "output_type": "stream",
     "text": [
      "Warning: Audio file c:\\Users\\16148\\Desktop\\Projects\\bird_call_project\\Augmented Recordings\\Agelaius_phoeniceus_Battelle_Darby_Metro_Park_-_Wetlands_417853_segment_3_aug_1.wav is too short or silent. Skipping.\n"
     ]
    },
    {
     "name": "stderr",
     "output_type": "stream",
     "text": [
      " 43%|████▎     | 216/500 [00:28<00:34,  8.23it/s]"
     ]
    },
    {
     "name": "stdout",
     "output_type": "stream",
     "text": [
      "Warning: Audio file c:\\Users\\16148\\Desktop\\Projects\\bird_call_project\\Augmented Recordings\\Agelaius_phoeniceus_Battelle_Darby_Metro_Park_-_Wetlands_417853_segment_6_aug_2.wav is too short or silent. Skipping.\n"
     ]
    },
    {
     "name": "stderr",
     "output_type": "stream",
     "text": [
      " 58%|█████▊    | 288/500 [00:38<00:26,  8.03it/s]"
     ]
    },
    {
     "name": "stdout",
     "output_type": "stream",
     "text": [
      "Warning: Audio file c:\\Users\\16148\\Desktop\\Projects\\bird_call_project\\Augmented Recordings\\Agelaius_phoeniceus_Battelle_Darby_Metro_Park_-_Wetlands_417845_segment_14_aug_2.wav is too short or silent. Skipping.\n"
     ]
    },
    {
     "name": "stderr",
     "output_type": "stream",
     "text": [
      " 71%|███████   | 355/500 [00:47<00:17,  8.12it/s]"
     ]
    },
    {
     "name": "stdout",
     "output_type": "stream",
     "text": [
      "Warning: Audio file c:\\Users\\16148\\Desktop\\Projects\\bird_call_project\\Augmented Recordings\\Agelaius_phoeniceus_Battelle_Darby_Metro_Park_-_Wetlands_737241_segment_1_aug_3.wav is too short or silent. Skipping.\n"
     ]
    },
    {
     "name": "stderr",
     "output_type": "stream",
     "text": [
      " 84%|████████▎ | 418/500 [00:56<00:10,  8.04it/s]"
     ]
    },
    {
     "name": "stdout",
     "output_type": "stream",
     "text": [
      "Warning: Audio file c:\\Users\\16148\\Desktop\\Projects\\bird_call_project\\Augmented Recordings\\Agelaius_phoeniceus_Ross_Township_near__Hamilton_Butler_County_Ohio_533370_segment_19_aug_3.wav is too short or silent. Skipping.\n"
     ]
    },
    {
     "name": "stderr",
     "output_type": "stream",
     "text": [
      "100%|██████████| 500/500 [01:07<00:00,  7.45it/s]\n",
      "  8%|▊         | 39/500 [00:05<00:56,  8.13it/s]"
     ]
    },
    {
     "name": "stdout",
     "output_type": "stream",
     "text": [
      "Warning: Audio file c:\\Users\\16148\\Desktop\\Projects\\bird_call_project\\Augmented Recordings\\Agelaius_phoeniceus_Crosby_Township_near__Harrison_Hamilton_County_Ohio_482675_segment_40_aug_1.wav is too short or silent. Skipping.\n"
     ]
    },
    {
     "name": "stderr",
     "output_type": "stream",
     "text": [
      " 11%|█         | 54/500 [00:07<00:53,  8.39it/s]"
     ]
    },
    {
     "name": "stdout",
     "output_type": "stream",
     "text": [
      "Warning: Audio file c:\\Users\\16148\\Desktop\\Projects\\bird_call_project\\Augmented Recordings\\Agelaius_phoeniceus_Case_Farm_Gates_Mills_Ohio_98722_segment_4_aug_1.wav is too short or silent. Skipping.\n"
     ]
    },
    {
     "name": "stderr",
     "output_type": "stream",
     "text": [
      " 11%|█▏        | 57/500 [00:07<00:54,  8.05it/s]"
     ]
    },
    {
     "name": "stdout",
     "output_type": "stream",
     "text": [
      "Warning: Audio file c:\\Users\\16148\\Desktop\\Projects\\bird_call_project\\Augmented Recordings\\Agelaius_phoeniceus_Case_Farm_Gates_Mills_Ohio_98722_segment_5_aug_1.wav is too short or silent. Skipping.\n"
     ]
    },
    {
     "name": "stderr",
     "output_type": "stream",
     "text": [
      " 19%|█▉        | 94/500 [00:12<00:49,  8.26it/s]"
     ]
    },
    {
     "name": "stdout",
     "output_type": "stream",
     "text": [
      "Warning: Audio file c:\\Users\\16148\\Desktop\\Projects\\bird_call_project\\Augmented Recordings\\Agelaius_phoeniceus_Case_Farm_Gates_Mills_Ohio_98722_segment_17_aug_2.wav is too short or silent. Skipping.\n"
     ]
    },
    {
     "name": "stderr",
     "output_type": "stream",
     "text": [
      " 28%|██▊       | 138/500 [00:18<00:42,  8.46it/s]"
     ]
    },
    {
     "name": "stdout",
     "output_type": "stream",
     "text": [
      "Warning: Audio file c:\\Users\\16148\\Desktop\\Projects\\bird_call_project\\Augmented Recordings\\Agelaius_phoeniceus_Ohio_Crane_Creek_SP_17011_segment_7_aug_1.wav is too short or silent. Skipping.\n"
     ]
    },
    {
     "name": "stderr",
     "output_type": "stream",
     "text": [
      " 41%|████      | 206/500 [00:27<00:34,  8.45it/s]"
     ]
    },
    {
     "name": "stdout",
     "output_type": "stream",
     "text": [
      "Warning: Audio file c:\\Users\\16148\\Desktop\\Projects\\bird_call_project\\Augmented Recordings\\Agelaius_phoeniceus_Maumee_Bay_State_Park_Lucas_County_Ohio_821130_segment_21_aug_3.wav is too short or silent. Skipping.\n"
     ]
    },
    {
     "name": "stderr",
     "output_type": "stream",
     "text": [
      " 55%|█████▌    | 275/500 [00:36<00:28,  7.91it/s]"
     ]
    },
    {
     "name": "stdout",
     "output_type": "stream",
     "text": [
      "Warning: Audio file c:\\Users\\16148\\Desktop\\Projects\\bird_call_project\\Augmented Recordings\\Agelaius_phoeniceus_UC_Center_for_Field_Studies_482986_segment_22_aug_3.wav is too short or silent. Skipping.\n"
     ]
    },
    {
     "name": "stderr",
     "output_type": "stream",
     "text": [
      " 60%|█████▉    | 298/500 [00:39<00:24,  8.13it/s]"
     ]
    },
    {
     "name": "stdout",
     "output_type": "stream",
     "text": [
      "Warning: Audio file c:\\Users\\16148\\Desktop\\Projects\\bird_call_project\\Augmented Recordings\\Agelaius_phoeniceus_UC_Center_for_Field_Studies_482986_segment_30_aug_2.wav is too short or silent. Skipping.\n"
     ]
    },
    {
     "name": "stderr",
     "output_type": "stream",
     "text": [
      " 69%|██████▉   | 347/500 [00:45<00:19,  8.04it/s]"
     ]
    },
    {
     "name": "stdout",
     "output_type": "stream",
     "text": [
      "Warning: Audio file c:\\Users\\16148\\Desktop\\Projects\\bird_call_project\\Augmented Recordings\\Molothrus_ater_Miami_Township_near__Cleves_Hamilton_County_Ohio_645734_segment_1_aug_3.wav is too short or silent. Skipping.\n"
     ]
    },
    {
     "name": "stderr",
     "output_type": "stream",
     "text": [
      " 79%|███████▊  | 393/500 [00:52<00:13,  7.99it/s]"
     ]
    },
    {
     "name": "stdout",
     "output_type": "stream",
     "text": [
      "Warning: Audio file c:\\Users\\16148\\Desktop\\Projects\\bird_call_project\\Augmented Recordings\\Molothrus_ater_Pelee_near__Leamington_Essex_County_Ontario_476558_segment_5_aug_1.wav is too short or silent. Skipping.\n"
     ]
    },
    {
     "name": "stderr",
     "output_type": "stream",
     "text": [
      " 85%|████████▍ | 424/500 [00:56<00:08,  8.99it/s]"
     ]
    },
    {
     "name": "stdout",
     "output_type": "stream",
     "text": [
      "Warning: Audio file c:\\Users\\16148\\Desktop\\Projects\\bird_call_project\\Augmented Recordings\\Euphagus_carolinus_Michigan_Deerfield_11853_segment_9_aug_2.wav is too short or silent. Skipping.\n",
      "Warning: Audio file c:\\Users\\16148\\Desktop\\Projects\\bird_call_project\\Augmented Recordings\\Euphagus_carolinus_Michigan_Deerfield_11853_segment_9_aug_3.wav is too short or silent. Skipping.\n"
     ]
    },
    {
     "name": "stderr",
     "output_type": "stream",
     "text": [
      " 89%|████████▉ | 444/500 [00:58<00:06,  8.22it/s]"
     ]
    },
    {
     "name": "stdout",
     "output_type": "stream",
     "text": [
      "Warning: Audio file c:\\Users\\16148\\Desktop\\Projects\\bird_call_project\\Augmented Recordings\\Euphagus_carolinus_Firestone_Metropark_Summit_County_Ohio_401462_segment_6_aug_1.wav is too short or silent. Skipping.\n"
     ]
    },
    {
     "name": "stderr",
     "output_type": "stream",
     "text": [
      "100%|██████████| 500/500 [01:06<00:00,  7.52it/s]\n",
      "  1%|          | 4/500 [00:00<00:50,  9.84it/s]"
     ]
    },
    {
     "name": "stdout",
     "output_type": "stream",
     "text": [
      "Warning: Audio file c:\\Users\\16148\\Desktop\\Projects\\bird_call_project\\Augmented Recordings\\Euphagus_carolinus_Firestone_Metropark_Summit_County_Ohio_401462_segment_26_aug_1.wav is too short or silent. Skipping.\n",
      "Warning: Audio file c:\\Users\\16148\\Desktop\\Projects\\bird_call_project\\Augmented Recordings\\Euphagus_carolinus_Firestone_Metropark_Summit_County_Ohio_401462_segment_26_aug_2.wav is too short or silent. Skipping.\n"
     ]
    },
    {
     "name": "stderr",
     "output_type": "stream",
     "text": [
      "  8%|▊         | 40/500 [00:05<00:55,  8.34it/s]"
     ]
    },
    {
     "name": "stdout",
     "output_type": "stream",
     "text": [
      "Warning: Audio file c:\\Users\\16148\\Desktop\\Projects\\bird_call_project\\Augmented Recordings\\Euphagus_carolinus_Ohio_Crane_Creek_SP_17013_segment_11_aug_1.wav is too short or silent. Skipping.\n"
     ]
    },
    {
     "name": "stderr",
     "output_type": "stream",
     "text": [
      "  9%|▉         | 45/500 [00:05<00:50,  9.07it/s]"
     ]
    },
    {
     "name": "stdout",
     "output_type": "stream",
     "text": [
      "Warning: Audio file c:\\Users\\16148\\Desktop\\Projects\\bird_call_project\\Augmented Recordings\\Quiscalus_quiscula_Pelee_near__Leamington_Essex_County_Ontario_476561_segment_0_aug_3.wav is too short or silent. Skipping.\n"
     ]
    },
    {
     "name": "stderr",
     "output_type": "stream",
     "text": [
      " 20%|█▉        | 99/500 [00:13<00:49,  8.17it/s]"
     ]
    },
    {
     "name": "stdout",
     "output_type": "stream",
     "text": [
      "Warning: Audio file c:\\Users\\16148\\Desktop\\Projects\\bird_call_project\\Augmented Recordings\\Quiscalus_quiscula_Wegerzyn_garden_near__Dayton_Montgomery_County_Ohio_807216_segment_15_aug_3.wav is too short or silent. Skipping.\n"
     ]
    },
    {
     "name": "stderr",
     "output_type": "stream",
     "text": [
      " 22%|██▏       | 111/500 [00:14<00:49,  7.79it/s]"
     ]
    },
    {
     "name": "stdout",
     "output_type": "stream",
     "text": [
      "Warning: Audio file c:\\Users\\16148\\Desktop\\Projects\\bird_call_project\\Augmented Recordings\\Seiurus_aurocapilla_Swanton_Township_near__Swanton_Lucas_County_Ohio_784050_segment_3_aug_3.wav is too short or silent. Skipping.\n"
     ]
    },
    {
     "name": "stderr",
     "output_type": "stream",
     "text": [
      " 25%|██▌       | 126/500 [00:16<00:45,  8.15it/s]"
     ]
    },
    {
     "name": "stdout",
     "output_type": "stream",
     "text": [
      "Warning: Audio file c:\\Users\\16148\\Desktop\\Projects\\bird_call_project\\Augmented Recordings\\Seiurus_aurocapilla_Swanton_Township_near__Swanton_Lucas_County_Ohio_784050_segment_8_aug_3.wav is too short or silent. Skipping.\n"
     ]
    },
    {
     "name": "stderr",
     "output_type": "stream",
     "text": [
      " 34%|███▍      | 169/500 [00:22<00:40,  8.19it/s]"
     ]
    },
    {
     "name": "stdout",
     "output_type": "stream",
     "text": [
      "Warning: Audio file c:\\Users\\16148\\Desktop\\Projects\\bird_call_project\\Augmented Recordings\\Seiurus_aurocapilla_Harrison_Township_near__Harrison_Hamilton_County_Ohio_726815_segment_6_aug_1.wav is too short or silent. Skipping.\n"
     ]
    },
    {
     "name": "stderr",
     "output_type": "stream",
     "text": [
      " 45%|████▌     | 226/500 [00:29<00:33,  8.08it/s]"
     ]
    },
    {
     "name": "stdout",
     "output_type": "stream",
     "text": [
      "Warning: Audio file c:\\Users\\16148\\Desktop\\Projects\\bird_call_project\\Augmented Recordings\\Seiurus_aurocapilla_Burlington_Boone_County_Kentucky_552553_segment_10_aug_1.wav is too short or silent. Skipping.\n"
     ]
    },
    {
     "name": "stderr",
     "output_type": "stream",
     "text": [
      " 49%|████▉     | 246/500 [00:32<00:28,  8.90it/s]"
     ]
    },
    {
     "name": "stdout",
     "output_type": "stream",
     "text": [
      "Warning: Audio file c:\\Users\\16148\\Desktop\\Projects\\bird_call_project\\Augmented Recordings\\Seiurus_aurocapilla_Burlington_Boone_County_Kentucky_552553_segment_16_aug_3.wav is too short or silent. Skipping.\n"
     ]
    },
    {
     "name": "stderr",
     "output_type": "stream",
     "text": [
      " 59%|█████▉    | 296/500 [00:39<00:22,  9.12it/s]"
     ]
    },
    {
     "name": "stdout",
     "output_type": "stream",
     "text": [
      "Warning: Audio file c:\\Users\\16148\\Desktop\\Projects\\bird_call_project\\Augmented Recordings\\Parkesia_motacilla_Harrison_Township_near__Harrison_Hamilton_County_Ohio_805820_segment_15_aug_2.wav is too short or silent. Skipping.\n"
     ]
    },
    {
     "name": "stderr",
     "output_type": "stream",
     "text": [
      " 66%|██████▋   | 332/500 [00:43<00:21,  7.97it/s]"
     ]
    },
    {
     "name": "stdout",
     "output_type": "stream",
     "text": [
      "Warning: Audio file c:\\Users\\16148\\Desktop\\Projects\\bird_call_project\\Augmented Recordings\\Parkesia_motacilla_Harrison_Township_near__Harrison_Hamilton_County_Ohio_714922_segment_8_aug_2.wav is too short or silent. Skipping.\n"
     ]
    },
    {
     "name": "stderr",
     "output_type": "stream",
     "text": [
      " 75%|███████▌  | 376/500 [00:49<00:15,  8.02it/s]"
     ]
    },
    {
     "name": "stdout",
     "output_type": "stream",
     "text": [
      "Warning: Audio file c:\\Users\\16148\\Desktop\\Projects\\bird_call_project\\Augmented Recordings\\Parkesia_motacilla_Harrison_Township_near__Harrison_Hamilton_County_Ohio_714922_segment_23_aug_1.wav is too short or silent. Skipping.\n"
     ]
    },
    {
     "name": "stderr",
     "output_type": "stream",
     "text": [
      " 97%|█████████▋| 484/500 [01:03<00:02,  7.90it/s]"
     ]
    },
    {
     "name": "stdout",
     "output_type": "stream",
     "text": [
      "Warning: Audio file c:\\Users\\16148\\Desktop\\Projects\\bird_call_project\\Augmented Recordings\\Parkesia_motacilla_Anderson_Township_near__Cincinnati_Hamilton_County_Ohio_542524_segment_0_aug_1.wav is too short or silent. Skipping.\n",
      "Warning: Audio file c:\\Users\\16148\\Desktop\\Projects\\bird_call_project\\Augmented Recordings\\Parkesia_motacilla_Anderson_Township_near__Cincinnati_Hamilton_County_Ohio_542524_segment_0_aug_3.wav is too short or silent. Skipping.\n"
     ]
    },
    {
     "name": "stderr",
     "output_type": "stream",
     "text": [
      " 98%|█████████▊| 489/500 [01:04<00:01,  8.62it/s]"
     ]
    },
    {
     "name": "stdout",
     "output_type": "stream",
     "text": [
      "Warning: Audio file c:\\Users\\16148\\Desktop\\Projects\\bird_call_project\\Augmented Recordings\\Parkesia_motacilla_Anderson_Township_near__Cincinnati_Hamilton_County_Ohio_542524_segment_1_aug_3.wav is too short or silent. Skipping.\n"
     ]
    },
    {
     "name": "stderr",
     "output_type": "stream",
     "text": [
      "100%|██████████| 500/500 [01:06<00:00,  7.57it/s]\n",
      " 21%|██        | 104/500 [00:13<00:45,  8.77it/s]"
     ]
    },
    {
     "name": "stdout",
     "output_type": "stream",
     "text": [
      "Warning: Audio file c:\\Users\\16148\\Desktop\\Projects\\bird_call_project\\Augmented Recordings\\Parkesia_noveboracensis_Benton_Township_near__Rocky_Ridge_Ottawa_County_Ohio_902985_segment_6_aug_1.wav is too short or silent. Skipping.\n"
     ]
    },
    {
     "name": "stderr",
     "output_type": "stream",
     "text": [
      " 25%|██▌       | 125/500 [00:16<00:45,  8.24it/s]"
     ]
    },
    {
     "name": "stdout",
     "output_type": "stream",
     "text": [
      "Warning: Audio file c:\\Users\\16148\\Desktop\\Projects\\bird_call_project\\Augmented Recordings\\Parkesia_noveboracensis_Benton_Township_near__Rocky_Ridge_Ottawa_County_Ohio_902985_segment_13_aug_1.wav is too short or silent. Skipping.\n"
     ]
    },
    {
     "name": "stderr",
     "output_type": "stream",
     "text": [
      " 58%|█████▊    | 289/500 [00:38<00:27,  7.81it/s]"
     ]
    },
    {
     "name": "stdout",
     "output_type": "stream",
     "text": [
      "Warning: Audio file c:\\Users\\16148\\Desktop\\Projects\\bird_call_project\\Augmented Recordings\\Vermivora_chrysoptera_Prairie_Oaks_Metro_Park_99393_segment_0_aug_3.wav is too short or silent. Skipping.\n",
      "Warning: Audio file c:\\Users\\16148\\Desktop\\Projects\\bird_call_project\\Augmented Recordings\\Vermivora_chrysoptera_Prairie_Oaks_Metro_Park_99393_segment_1_aug_2.wav is too short or silent. Skipping.\n"
     ]
    },
    {
     "name": "stderr",
     "output_type": "stream",
     "text": [
      " 77%|███████▋  | 387/500 [00:51<00:14,  7.95it/s]"
     ]
    },
    {
     "name": "stdout",
     "output_type": "stream",
     "text": [
      "Warning: Audio file c:\\Users\\16148\\Desktop\\Projects\\bird_call_project\\Augmented Recordings\\Vermivora_cyanoptera_Irwin_Prairie_SNP_Ohio_418085_segment_16_aug_2.wav is too short or silent. Skipping.\n"
     ]
    },
    {
     "name": "stderr",
     "output_type": "stream",
     "text": [
      " 81%|████████  | 403/500 [00:53<00:12,  7.94it/s]"
     ]
    },
    {
     "name": "stdout",
     "output_type": "stream",
     "text": [
      "Warning: Audio file c:\\Users\\16148\\Desktop\\Projects\\bird_call_project\\Augmented Recordings\\Vermivora_cyanoptera_Irwin_Prairie_SNP_Ohio_418085_segment_21_aug_3.wav is too short or silent. Skipping.\n"
     ]
    },
    {
     "name": "stderr",
     "output_type": "stream",
     "text": [
      " 83%|████████▎ | 413/500 [00:54<00:10,  8.54it/s]"
     ]
    },
    {
     "name": "stdout",
     "output_type": "stream",
     "text": [
      "Warning: Audio file c:\\Users\\16148\\Desktop\\Projects\\bird_call_project\\Augmented Recordings\\Vermivora_cyanoptera_Irwin_Prairie_SNP_Ohio_418085_segment_25_aug_1.wav is too short or silent. Skipping.\n"
     ]
    },
    {
     "name": "stderr",
     "output_type": "stream",
     "text": [
      " 86%|████████▌ | 429/500 [00:56<00:08,  8.00it/s]"
     ]
    },
    {
     "name": "stdout",
     "output_type": "stream",
     "text": [
      "Warning: Audio file c:\\Users\\16148\\Desktop\\Projects\\bird_call_project\\Augmented Recordings\\Vermivora_cyanoptera_Irwin_Prairie_SNP_Ohio_418082_segment_2_aug_2.wav is too short or silent. Skipping.\n"
     ]
    },
    {
     "name": "stderr",
     "output_type": "stream",
     "text": [
      "100%|██████████| 500/500 [01:06<00:00,  7.57it/s]\n",
      "  8%|▊         | 39/500 [00:05<00:54,  8.51it/s]"
     ]
    },
    {
     "name": "stdout",
     "output_type": "stream",
     "text": [
      "Warning: Audio file c:\\Users\\16148\\Desktop\\Projects\\bird_call_project\\Augmented Recordings\\Vermivora_cyanoptera_Oak_Openings_Metropark_Ohio_418074_segment_18_aug_3.wav is too short or silent. Skipping.\n",
      "Warning: Audio file c:\\Users\\16148\\Desktop\\Projects\\bird_call_project\\Augmented Recordings\\Vermivora_cyanoptera_Oak_Openings_Metropark_Ohio_418074_segment_19_aug_1.wav is too short or silent. Skipping.\n"
     ]
    },
    {
     "name": "stderr",
     "output_type": "stream",
     "text": [
      " 23%|██▎       | 117/500 [00:15<00:47,  7.99it/s]"
     ]
    },
    {
     "name": "stdout",
     "output_type": "stream",
     "text": [
      "Warning: Audio file c:\\Users\\16148\\Desktop\\Projects\\bird_call_project\\Augmented Recordings\\Vermivora_cyanoptera_Oak_Openings_Lucas_County_Ohio_803617_segment_0_aug_1.wav is too short or silent. Skipping.\n"
     ]
    },
    {
     "name": "stderr",
     "output_type": "stream",
     "text": [
      " 46%|████▌     | 230/500 [00:30<00:30,  8.83it/s]"
     ]
    },
    {
     "name": "stdout",
     "output_type": "stream",
     "text": [
      "Warning: Audio file c:\\Users\\16148\\Desktop\\Projects\\bird_call_project\\Augmented Recordings\\Vermivora_cyanoptera_Michigan_Petersburg_SGA__31125_segment_13_aug_3.wav is too short or silent. Skipping.\n"
     ]
    },
    {
     "name": "stderr",
     "output_type": "stream",
     "text": [
      " 51%|█████     | 253/500 [00:33<00:29,  8.46it/s]"
     ]
    },
    {
     "name": "stdout",
     "output_type": "stream",
     "text": [
      "Warning: Audio file c:\\Users\\16148\\Desktop\\Projects\\bird_call_project\\Augmented Recordings\\Vermivora_cyanoptera_Michigan_Petersburg_SGA__31123_segment_1_aug_2.wav is too short or silent. Skipping.\n"
     ]
    },
    {
     "name": "stderr",
     "output_type": "stream",
     "text": [
      " 58%|█████▊    | 290/500 [00:38<00:25,  8.30it/s]"
     ]
    },
    {
     "name": "stdout",
     "output_type": "stream",
     "text": [
      "Warning: Audio file c:\\Users\\16148\\Desktop\\Projects\\bird_call_project\\Augmented Recordings\\Vermivora_cyanoptera_Michigan_Petersburg_SGA__31123_segment_13_aug_3.wav is too short or silent. Skipping.\n"
     ]
    },
    {
     "name": "stderr",
     "output_type": "stream",
     "text": [
      " 68%|██████▊   | 342/500 [00:45<00:18,  8.56it/s]"
     ]
    },
    {
     "name": "stdout",
     "output_type": "stream",
     "text": [
      "Warning: Audio file c:\\Users\\16148\\Desktop\\Projects\\bird_call_project\\Augmented Recordings\\Mniotilta_varia_Shawnee_State_Forest_Scioto_County_Ohio_939168_segment_3_aug_1.wav is too short or silent. Skipping.\n"
     ]
    },
    {
     "name": "stderr",
     "output_type": "stream",
     "text": [
      " 75%|███████▍  | 374/500 [00:49<00:15,  8.15it/s]"
     ]
    },
    {
     "name": "stdout",
     "output_type": "stream",
     "text": [
      "Warning: Audio file c:\\Users\\16148\\Desktop\\Projects\\bird_call_project\\Augmented Recordings\\Mniotilta_varia_Shawnee_State_Forest_Scioto_County_Ohio_939168_segment_13_aug_3.wav is too short or silent. Skipping.\n"
     ]
    },
    {
     "name": "stderr",
     "output_type": "stream",
     "text": [
      " 76%|███████▌  | 378/500 [00:49<00:14,  8.67it/s]"
     ]
    },
    {
     "name": "stdout",
     "output_type": "stream",
     "text": [
      "Warning: Audio file c:\\Users\\16148\\Desktop\\Projects\\bird_call_project\\Augmented Recordings\\Mniotilta_varia_Shawnee_State_Forest_Scioto_County_Ohio_939168_segment_14_aug_3.wav is too short or silent. Skipping.\n"
     ]
    },
    {
     "name": "stderr",
     "output_type": "stream",
     "text": [
      " 78%|███████▊  | 388/500 [00:51<00:12,  9.31it/s]"
     ]
    },
    {
     "name": "stdout",
     "output_type": "stream",
     "text": [
      "Warning: Audio file c:\\Users\\16148\\Desktop\\Projects\\bird_call_project\\Augmented Recordings\\Mniotilta_varia_Shawnee_State_Forest_Scioto_County_Ohio_939168_segment_18_aug_2.wav is too short or silent. Skipping.\n",
      "Warning: Audio file c:\\Users\\16148\\Desktop\\Projects\\bird_call_project\\Augmented Recordings\\Mniotilta_varia_Shawnee_State_Forest_Scioto_County_Ohio_939168_segment_18_aug_3.wav is too short or silent. Skipping.\n"
     ]
    },
    {
     "name": "stderr",
     "output_type": "stream",
     "text": [
      " 80%|███████▉  | 398/500 [00:52<00:11,  8.51it/s]"
     ]
    },
    {
     "name": "stdout",
     "output_type": "stream",
     "text": [
      "Warning: Audio file c:\\Users\\16148\\Desktop\\Projects\\bird_call_project\\Augmented Recordings\\Mniotilta_varia_Magee_Marsh_Ohio_418092_segment_2_aug_3.wav is too short or silent. Skipping.\n"
     ]
    },
    {
     "name": "stderr",
     "output_type": "stream",
     "text": [
      " 83%|████████▎ | 417/500 [00:54<00:09,  8.89it/s]"
     ]
    },
    {
     "name": "stdout",
     "output_type": "stream",
     "text": [
      "Warning: Audio file c:\\Users\\16148\\Desktop\\Projects\\bird_call_project\\Augmented Recordings\\Mniotilta_varia_Magee_Marsh_Ohio_418092_segment_9_aug_1.wav is too short or silent. Skipping.\n",
      "Warning: Audio file c:\\Users\\16148\\Desktop\\Projects\\bird_call_project\\Augmented Recordings\\Mniotilta_varia_Magee_Marsh_Ohio_418092_segment_9_aug_2.wav is too short or silent. Skipping.\n"
     ]
    },
    {
     "name": "stderr",
     "output_type": "stream",
     "text": [
      " 86%|████████▌ | 430/500 [00:56<00:08,  8.38it/s]"
     ]
    },
    {
     "name": "stdout",
     "output_type": "stream",
     "text": [
      "Warning: Audio file c:\\Users\\16148\\Desktop\\Projects\\bird_call_project\\Augmented Recordings\\Mniotilta_varia_Magee_Marsh_-_boardwalk_Lucas_County_Ohio_827727_segment_3_aug_2.wav is too short or silent. Skipping.\n"
     ]
    },
    {
     "name": "stderr",
     "output_type": "stream",
     "text": [
      " 93%|█████████▎| 464/500 [01:01<00:04,  8.16it/s]"
     ]
    },
    {
     "name": "stdout",
     "output_type": "stream",
     "text": [
      "Warning: Audio file c:\\Users\\16148\\Desktop\\Projects\\bird_call_project\\Augmented Recordings\\Mniotilta_varia_Magee_Marsh_-_boardwalk_Lucas_County_Ohio_827727_segment_14_aug_3.wav is too short or silent. Skipping.\n"
     ]
    },
    {
     "name": "stderr",
     "output_type": "stream",
     "text": [
      "100%|██████████| 500/500 [01:05<00:00,  7.59it/s]\n",
      " 14%|█▍        | 70/500 [00:09<00:42, 10.10it/s]"
     ]
    },
    {
     "name": "stdout",
     "output_type": "stream",
     "text": [
      "Warning: Audio file c:\\Users\\16148\\Desktop\\Projects\\bird_call_project\\Augmented Recordings\\Mniotilta_varia_Magee_Marsh_-_boardwalk_Lucas_County_Ohio_827727_segment_49_aug_3.wav is too short or silent. Skipping.\n"
     ]
    },
    {
     "name": "stderr",
     "output_type": "stream",
     "text": [
      " 22%|██▏       | 109/500 [00:14<00:48,  8.05it/s]"
     ]
    },
    {
     "name": "stdout",
     "output_type": "stream",
     "text": [
      "Warning: Audio file c:\\Users\\16148\\Desktop\\Projects\\bird_call_project\\Augmented Recordings\\Mniotilta_varia_Ohio_Crane_Creek_SP_17014_segment_2_aug_1.wav is too short or silent. Skipping.\n"
     ]
    },
    {
     "name": "stderr",
     "output_type": "stream",
     "text": [
      " 30%|███       | 151/500 [00:19<00:43,  8.05it/s]"
     ]
    },
    {
     "name": "stdout",
     "output_type": "stream",
     "text": [
      "Warning: Audio file c:\\Users\\16148\\Desktop\\Projects\\bird_call_project\\Augmented Recordings\\Protonotaria_citrea_Point_Pelee_National_Park_near__Wheatley_Essex_County_Ontario_839864_segment_13_aug_1.wav is too short or silent. Skipping.\n"
     ]
    },
    {
     "name": "stderr",
     "output_type": "stream",
     "text": [
      " 39%|███▊      | 193/500 [00:25<00:38,  7.95it/s]"
     ]
    },
    {
     "name": "stdout",
     "output_type": "stream",
     "text": [
      "Warning: Audio file c:\\Users\\16148\\Desktop\\Projects\\bird_call_project\\Augmented Recordings\\Protonotaria_citrea_Point_Pelee_National_Park_near__Wheatley_Essex_County_Ontario_839864_segment_27_aug_1.wav is too short or silent. Skipping.\n"
     ]
    },
    {
     "name": "stderr",
     "output_type": "stream",
     "text": [
      " 46%|████▌     | 228/500 [00:30<00:31,  8.53it/s]"
     ]
    },
    {
     "name": "stdout",
     "output_type": "stream",
     "text": [
      "Warning: Audio file c:\\Users\\16148\\Desktop\\Projects\\bird_call_project\\Augmented Recordings\\Protonotaria_citrea_Point_Pelee_National_Park_near__Wheatley_Essex_County_Ontario_839864_segment_38_aug_3.wav is too short or silent. Skipping.\n"
     ]
    },
    {
     "name": "stderr",
     "output_type": "stream",
     "text": [
      " 51%|█████▏    | 257/500 [00:34<00:28,  8.51it/s]"
     ]
    },
    {
     "name": "stdout",
     "output_type": "stream",
     "text": [
      "Warning: Audio file c:\\Users\\16148\\Desktop\\Projects\\bird_call_project\\Augmented Recordings\\Protonotaria_citrea_Magee_Marsh_-_boardwalk_Lucas_County_Ohio_828067_segment_8_aug_2.wav is too short or silent. Skipping.\n"
     ]
    },
    {
     "name": "stderr",
     "output_type": "stream",
     "text": [
      " 61%|██████    | 304/500 [00:40<00:24,  8.16it/s]"
     ]
    },
    {
     "name": "stdout",
     "output_type": "stream",
     "text": [
      "Warning: Audio file c:\\Users\\16148\\Desktop\\Projects\\bird_call_project\\Augmented Recordings\\Protonotaria_citrea_Magee_Marsh_-_boardwalk_Lucas_County_Ohio_828067_segment_25_aug_1.wav is too short or silent. Skipping.\n"
     ]
    },
    {
     "name": "stderr",
     "output_type": "stream",
     "text": [
      " 62%|██████▏   | 312/500 [00:41<00:22,  8.53it/s]"
     ]
    },
    {
     "name": "stdout",
     "output_type": "stream",
     "text": [
      "Warning: Audio file c:\\Users\\16148\\Desktop\\Projects\\bird_call_project\\Augmented Recordings\\Protonotaria_citrea_Magee_Marsh_-_boardwalk_Lucas_County_Ohio_828067_segment_27_aug_3.wav is too short or silent. Skipping.\n"
     ]
    },
    {
     "name": "stderr",
     "output_type": "stream",
     "text": [
      " 64%|██████▍   | 321/500 [00:42<00:20,  8.59it/s]"
     ]
    },
    {
     "name": "stdout",
     "output_type": "stream",
     "text": [
      "Warning: Audio file c:\\Users\\16148\\Desktop\\Projects\\bird_call_project\\Augmented Recordings\\Protonotaria_citrea_Magee_Marsh_-_boardwalk_Lucas_County_Ohio_828067_segment_30_aug_3.wav is too short or silent. Skipping.\n"
     ]
    },
    {
     "name": "stderr",
     "output_type": "stream",
     "text": [
      " 67%|██████▋   | 336/500 [00:44<00:19,  8.35it/s]"
     ]
    },
    {
     "name": "stdout",
     "output_type": "stream",
     "text": [
      "Warning: Audio file c:\\Users\\16148\\Desktop\\Projects\\bird_call_project\\Augmented Recordings\\Protonotaria_citrea_Magee_Marsh_-_boardwalk_Lucas_County_Ohio_828067_segment_35_aug_3.wav is too short or silent. Skipping.\n"
     ]
    },
    {
     "name": "stderr",
     "output_type": "stream",
     "text": [
      " 76%|███████▋  | 382/500 [00:50<00:14,  8.12it/s]"
     ]
    },
    {
     "name": "stdout",
     "output_type": "stream",
     "text": [
      "Warning: Audio file c:\\Users\\16148\\Desktop\\Projects\\bird_call_project\\Augmented Recordings\\Protonotaria_citrea_Magee_Marsh_-_boardwalk_Lucas_County_Ohio_828067_segment_52_aug_1.wav is too short or silent. Skipping.\n"
     ]
    },
    {
     "name": "stderr",
     "output_type": "stream",
     "text": [
      " 79%|███████▊  | 393/500 [00:52<00:12,  8.79it/s]"
     ]
    },
    {
     "name": "stdout",
     "output_type": "stream",
     "text": [
      "Warning: Audio file c:\\Users\\16148\\Desktop\\Projects\\bird_call_project\\Augmented Recordings\\Protonotaria_citrea_Magee_Marsh_-_boardwalk_Lucas_County_Ohio_828067_segment_55_aug_2.wav is too short or silent. Skipping.\n",
      "Warning: Audio file c:\\Users\\16148\\Desktop\\Projects\\bird_call_project\\Augmented Recordings\\Protonotaria_citrea_Magee_Marsh_-_boardwalk_Lucas_County_Ohio_828067_segment_55_aug_3.wav is too short or silent. Skipping.\n"
     ]
    },
    {
     "name": "stderr",
     "output_type": "stream",
     "text": [
      " 86%|████████▋ | 432/500 [00:57<00:08,  8.37it/s]"
     ]
    },
    {
     "name": "stdout",
     "output_type": "stream",
     "text": [
      "Warning: Audio file c:\\Users\\16148\\Desktop\\Projects\\bird_call_project\\Augmented Recordings\\Protonotaria_citrea_Magee_Marsh_-_boardwalk_Lucas_County_Ohio_828064_segment_12_aug_3.wav is too short or silent. Skipping.\n"
     ]
    },
    {
     "name": "stderr",
     "output_type": "stream",
     "text": [
      " 96%|█████████▌| 480/500 [01:03<00:02,  9.47it/s]"
     ]
    },
    {
     "name": "stdout",
     "output_type": "stream",
     "text": [
      "Warning: Audio file c:\\Users\\16148\\Desktop\\Projects\\bird_call_project\\Augmented Recordings\\Protonotaria_citrea_Magee_Marsh_-_boardwalk_Lucas_County_Ohio_828064_segment_28_aug_3.wav is too short or silent. Skipping.\n"
     ]
    },
    {
     "name": "stderr",
     "output_type": "stream",
     "text": [
      "100%|██████████| 500/500 [01:05<00:00,  7.58it/s]\n",
      " 18%|█▊        | 89/500 [00:11<00:47,  8.67it/s]"
     ]
    },
    {
     "name": "stdout",
     "output_type": "stream",
     "text": [
      "Warning: Audio file c:\\Users\\16148\\Desktop\\Projects\\bird_call_project\\Augmented Recordings\\Protonotaria_citrea_Magee_Marsh_-_boardwalk_Lucas_County_Ohio_828063_segment_9_aug_2.wav is too short or silent. Skipping.\n"
     ]
    },
    {
     "name": "stderr",
     "output_type": "stream",
     "text": [
      " 39%|███▉      | 197/500 [00:26<00:38,  7.86it/s]"
     ]
    },
    {
     "name": "stdout",
     "output_type": "stream",
     "text": [
      "Warning: Audio file c:\\Users\\16148\\Desktop\\Projects\\bird_call_project\\Augmented Recordings\\Protonotaria_citrea_Anderson_Township_near__Cincinnati_Hamilton_County_Ohio_552556_segment_15_aug_1.wav is too short or silent. Skipping.\n"
     ]
    },
    {
     "name": "stderr",
     "output_type": "stream",
     "text": [
      " 44%|████▍     | 220/500 [00:29<00:33,  8.29it/s]"
     ]
    },
    {
     "name": "stdout",
     "output_type": "stream",
     "text": [
      "Warning: Audio file c:\\Users\\16148\\Desktop\\Projects\\bird_call_project\\Augmented Recordings\\Protonotaria_citrea_Anderson_Township_near__Cincinnati_Hamilton_County_Ohio_552556_segment_22_aug_3.wav is too short or silent. Skipping.\n"
     ]
    },
    {
     "name": "stderr",
     "output_type": "stream",
     "text": [
      " 45%|████▌     | 225/500 [00:29<00:30,  9.15it/s]"
     ]
    },
    {
     "name": "stdout",
     "output_type": "stream",
     "text": [
      "Warning: Audio file c:\\Users\\16148\\Desktop\\Projects\\bird_call_project\\Augmented Recordings\\Protonotaria_citrea_Anderson_Township_near__Cincinnati_Hamilton_County_Ohio_552556_segment_24_aug_2.wav is too short or silent. Skipping.\n",
      "Warning: Audio file c:\\Users\\16148\\Desktop\\Projects\\bird_call_project\\Augmented Recordings\\Protonotaria_citrea_Anderson_Township_near__Cincinnati_Hamilton_County_Ohio_552556_segment_24_aug_3.wav is too short or silent. Skipping.\n"
     ]
    },
    {
     "name": "stderr",
     "output_type": "stream",
     "text": [
      " 50%|█████     | 252/500 [00:33<00:29,  8.33it/s]"
     ]
    },
    {
     "name": "stdout",
     "output_type": "stream",
     "text": [
      "Warning: Audio file c:\\Users\\16148\\Desktop\\Projects\\bird_call_project\\Augmented Recordings\\Leiothlypis_peregrina_Harrison_Township_near__Harrison_Hamilton_County_Ohio_726818_segment_8_aug_2.wav is too short or silent. Skipping.\n"
     ]
    },
    {
     "name": "stderr",
     "output_type": "stream",
     "text": [
      " 57%|█████▋    | 286/500 [00:37<00:26,  8.12it/s]"
     ]
    },
    {
     "name": "stdout",
     "output_type": "stream",
     "text": [
      "Warning: Audio file c:\\Users\\16148\\Desktop\\Projects\\bird_call_project\\Augmented Recordings\\Leiothlypis_peregrina_Tanglewood_Lane_Cincinnati_Ohio_44328_segment_7_aug_3.wav is too short or silent. Skipping.\n"
     ]
    },
    {
     "name": "stderr",
     "output_type": "stream",
     "text": [
      " 60%|██████    | 302/500 [00:39<00:23,  8.55it/s]"
     ]
    },
    {
     "name": "stdout",
     "output_type": "stream",
     "text": [
      "Warning: Audio file c:\\Users\\16148\\Desktop\\Projects\\bird_call_project\\Augmented Recordings\\Leiothlypis_peregrina_Tanglewood_Lane_Cincinnati_Ohio_44328_segment_13_aug_1.wav is too short or silent. Skipping.\n"
     ]
    },
    {
     "name": "stderr",
     "output_type": "stream",
     "text": [
      " 61%|██████    | 305/500 [00:40<00:23,  8.46it/s]"
     ]
    },
    {
     "name": "stdout",
     "output_type": "stream",
     "text": [
      "Warning: Audio file c:\\Users\\16148\\Desktop\\Projects\\bird_call_project\\Augmented Recordings\\Leiothlypis_peregrina_Pipe_Creek_Wildlife_Area_Erie_County_Ohio_803615_segment_0_aug_1.wav is too short or silent. Skipping.\n"
     ]
    },
    {
     "name": "stderr",
     "output_type": "stream",
     "text": [
      " 76%|███████▌  | 381/500 [00:50<00:12,  9.35it/s]"
     ]
    },
    {
     "name": "stdout",
     "output_type": "stream",
     "text": [
      "Warning: Audio file c:\\Users\\16148\\Desktop\\Projects\\bird_call_project\\Augmented Recordings\\Leiothlypis_peregrina_Benton_Township_near__Rocky_Ridge_Ottawa_County_Ohio_902978_segment_6_aug_2.wav is too short or silent. Skipping.\n",
      "Warning: Audio file c:\\Users\\16148\\Desktop\\Projects\\bird_call_project\\Augmented Recordings\\Leiothlypis_peregrina_Benton_Township_near__Rocky_Ridge_Ottawa_County_Ohio_902978_segment_6_aug_3.wav is too short or silent. Skipping.\n"
     ]
    },
    {
     "name": "stderr",
     "output_type": "stream",
     "text": [
      " 83%|████████▎ | 414/500 [00:54<00:09,  8.92it/s]"
     ]
    },
    {
     "name": "stdout",
     "output_type": "stream",
     "text": [
      "Warning: Audio file c:\\Users\\16148\\Desktop\\Projects\\bird_call_project\\Augmented Recordings\\Leiothlypis_peregrina_Magee_Marsh_-_boardwalk_Lucas_County_Ohio_477404_segment_10_aug_2.wav is too short or silent. Skipping.\n"
     ]
    },
    {
     "name": "stderr",
     "output_type": "stream",
     "text": [
      " 84%|████████▍ | 420/500 [00:55<00:08,  9.07it/s]"
     ]
    },
    {
     "name": "stdout",
     "output_type": "stream",
     "text": [
      "Warning: Audio file c:\\Users\\16148\\Desktop\\Projects\\bird_call_project\\Augmented Recordings\\Leiothlypis_peregrina_Magee_Marsh_-_boardwalk_Lucas_County_Ohio_477404_segment_12_aug_2.wav is too short or silent. Skipping.\n"
     ]
    },
    {
     "name": "stderr",
     "output_type": "stream",
     "text": [
      "100%|██████████| 500/500 [01:05<00:00,  7.59it/s]\n",
      "  4%|▎         | 18/500 [00:02<00:57,  8.43it/s]"
     ]
    },
    {
     "name": "stdout",
     "output_type": "stream",
     "text": [
      "Warning: Audio file c:\\Users\\16148\\Desktop\\Projects\\bird_call_project\\Augmented Recordings\\Leiothlypis_celata_Tanglewood_Lane_Cincinnati_Ohio_44329_segment_7_aug_1.wav is too short or silent. Skipping.\n"
     ]
    },
    {
     "name": "stderr",
     "output_type": "stream",
     "text": [
      "  7%|▋         | 35/500 [00:04<00:47,  9.69it/s]"
     ]
    },
    {
     "name": "stdout",
     "output_type": "stream",
     "text": [
      "Warning: Audio file c:\\Users\\16148\\Desktop\\Projects\\bird_call_project\\Augmented Recordings\\Leiothlypis_celata_Tanglewood_Lane_Cincinnati_Ohio_44329_segment_12_aug_3.wav is too short or silent. Skipping.\n",
      "Warning: Audio file c:\\Users\\16148\\Desktop\\Projects\\bird_call_project\\Augmented Recordings\\Leiothlypis_celata_Tanglewood_Lane_Cincinnati_Ohio_44329_segment_13_aug_1.wav is too short or silent. Skipping.\n"
     ]
    },
    {
     "name": "stderr",
     "output_type": "stream",
     "text": [
      " 15%|█▌        | 75/500 [00:09<00:51,  8.28it/s]"
     ]
    },
    {
     "name": "stdout",
     "output_type": "stream",
     "text": [
      "Warning: Audio file c:\\Users\\16148\\Desktop\\Projects\\bird_call_project\\Augmented Recordings\\Leiothlypis_ruficapilla_Tanglewood_Lane_Cincinnati_Ohio_44428_segment_3_aug_1.wav is too short or silent. Skipping.\n"
     ]
    },
    {
     "name": "stderr",
     "output_type": "stream",
     "text": [
      " 18%|█▊        | 89/500 [00:11<00:48,  8.50it/s]"
     ]
    },
    {
     "name": "stdout",
     "output_type": "stream",
     "text": [
      "Warning: Audio file c:\\Users\\16148\\Desktop\\Projects\\bird_call_project\\Augmented Recordings\\Leiothlypis_ruficapilla_Tanglewood_Lane_Cincinnati_Ohio_44428_segment_7_aug_3.wav is too short or silent. Skipping.\n"
     ]
    },
    {
     "name": "stderr",
     "output_type": "stream",
     "text": [
      " 22%|██▏       | 110/500 [00:14<00:45,  8.50it/s]"
     ]
    },
    {
     "name": "stdout",
     "output_type": "stream",
     "text": [
      "Warning: Audio file c:\\Users\\16148\\Desktop\\Projects\\bird_call_project\\Augmented Recordings\\Oporornis_agilis_Mansfield_Richland_County_Ohio_804330_segment_6_aug_3.wav is too short or silent. Skipping.\n"
     ]
    },
    {
     "name": "stderr",
     "output_type": "stream",
     "text": [
      " 29%|██▊       | 143/500 [00:18<00:42,  8.37it/s]"
     ]
    },
    {
     "name": "stdout",
     "output_type": "stream",
     "text": [
      "Warning: Audio file c:\\Users\\16148\\Desktop\\Projects\\bird_call_project\\Augmented Recordings\\Oporornis_agilis_Point_Pelee_National_Park_Essex_County_Ontario_802580_segment_1_aug_3.wav is too short or silent. Skipping.\n"
     ]
    },
    {
     "name": "stderr",
     "output_type": "stream",
     "text": [
      " 33%|███▎      | 163/500 [00:21<00:38,  8.74it/s]"
     ]
    },
    {
     "name": "stdout",
     "output_type": "stream",
     "text": [
      "Warning: Audio file c:\\Users\\16148\\Desktop\\Projects\\bird_call_project\\Augmented Recordings\\Oporornis_agilis_Point_Pelee_National_Park_Essex_County_Ontario_802580_segment_8_aug_2.wav is too short or silent. Skipping.\n"
     ]
    },
    {
     "name": "stderr",
     "output_type": "stream",
     "text": [
      " 44%|████▍     | 220/500 [00:28<00:32,  8.57it/s]"
     ]
    },
    {
     "name": "stdout",
     "output_type": "stream",
     "text": [
      "Warning: Audio file c:\\Users\\16148\\Desktop\\Projects\\bird_call_project\\Augmented Recordings\\Oporornis_agilis_Blendon_Woods_Metro_Park--Brookside_Trail_near_Hickory_Ridge_Trail_Columbus_Franklin_County_Ohio_179835_segment_6_aug_2.wav is too short or silent. Skipping.\n"
     ]
    },
    {
     "name": "stderr",
     "output_type": "stream",
     "text": [
      " 48%|████▊     | 240/500 [00:30<00:32,  8.08it/s]"
     ]
    },
    {
     "name": "stdout",
     "output_type": "stream",
     "text": [
      "Warning: Audio file c:\\Users\\16148\\Desktop\\Projects\\bird_call_project\\Augmented Recordings\\Oporornis_agilis_Blendon_Woods_Metro_Park--Brookside_Trail_near_Hickory_Ridge_Trail_Columbus_Franklin_County_Ohio_179835_segment_13_aug_1.wav is too short or silent. Skipping.\n"
     ]
    },
    {
     "name": "stderr",
     "output_type": "stream",
     "text": [
      " 59%|█████▉    | 295/500 [00:38<00:25,  8.00it/s]"
     ]
    },
    {
     "name": "stdout",
     "output_type": "stream",
     "text": [
      "Warning: Audio file c:\\Users\\16148\\Desktop\\Projects\\bird_call_project\\Augmented Recordings\\Oporornis_agilis_Blendon_Woods_Metro_Park--Brookside_Trail_near_Hickory_Ridge_Trail_Columbus_Franklin_County_Ohio_179835_segment_31_aug_2.wav is too short or silent. Skipping.\n"
     ]
    },
    {
     "name": "stderr",
     "output_type": "stream",
     "text": [
      " 69%|██████▉   | 347/500 [00:45<00:19,  7.73it/s]"
     ]
    },
    {
     "name": "stdout",
     "output_type": "stream",
     "text": [
      "Warning: Audio file c:\\Users\\16148\\Desktop\\Projects\\bird_call_project\\Augmented Recordings\\Oporornis_agilis_Blendon_Woods_Metro_Park--Brookside_Trail_near_Hickory_Ridge_Trail_Columbus_Franklin_County_Ohio_179835_segment_49_aug_3.wav is too short or silent. Skipping.\n"
     ]
    },
    {
     "name": "stderr",
     "output_type": "stream",
     "text": [
      " 72%|███████▏  | 360/500 [00:46<00:16,  8.39it/s]"
     ]
    },
    {
     "name": "stdout",
     "output_type": "stream",
     "text": [
      "Warning: Audio file c:\\Users\\16148\\Desktop\\Projects\\bird_call_project\\Augmented Recordings\\Oporornis_agilis_Blendon_Woods_Metro_Park--Brookside_Trail_near_Hickory_Ridge_Trail_Columbus_Franklin_County_Ohio_179835_segment_54_aug_1.wav is too short or silent. Skipping.\n"
     ]
    },
    {
     "name": "stderr",
     "output_type": "stream",
     "text": [
      "100%|██████████| 500/500 [01:05<00:00,  7.64it/s]\n",
      "  3%|▎         | 13/500 [00:01<00:55,  8.83it/s]"
     ]
    },
    {
     "name": "stdout",
     "output_type": "stream",
     "text": [
      "Warning: Audio file c:\\Users\\16148\\Desktop\\Projects\\bird_call_project\\Augmented Recordings\\Geothlypis_philadelphia_Ohio_near__Akron_Summit_County_Ohio_369829_segment_3_aug_1.wav is too short or silent. Skipping.\n"
     ]
    },
    {
     "name": "stderr",
     "output_type": "stream",
     "text": [
      "  3%|▎         | 16/500 [00:02<00:56,  8.55it/s]"
     ]
    },
    {
     "name": "stdout",
     "output_type": "stream",
     "text": [
      "Warning: Audio file c:\\Users\\16148\\Desktop\\Projects\\bird_call_project\\Augmented Recordings\\Geothlypis_philadelphia_Ohio_near__Akron_Summit_County_Ohio_369829_segment_4_aug_1.wav is too short or silent. Skipping.\n"
     ]
    },
    {
     "name": "stderr",
     "output_type": "stream",
     "text": [
      " 15%|█▌        | 76/500 [00:09<00:49,  8.49it/s]"
     ]
    },
    {
     "name": "stdout",
     "output_type": "stream",
     "text": [
      "Warning: Audio file c:\\Users\\16148\\Desktop\\Projects\\bird_call_project\\Augmented Recordings\\Geothlypis_formosa_Shawnee_State_Forest_Scioto_County_Ohio_417459_segment_19_aug_1.wav is too short or silent. Skipping.\n"
     ]
    },
    {
     "name": "stderr",
     "output_type": "stream",
     "text": [
      " 52%|█████▏    | 262/500 [00:34<00:25,  9.24it/s]"
     ]
    },
    {
     "name": "stdout",
     "output_type": "stream",
     "text": [
      "Warning: Audio file c:\\Users\\16148\\Desktop\\Projects\\bird_call_project\\Augmented Recordings\\Geothlypis_formosa_Whitewater_Township_near__Cleves_Hamilton_County_Ohio_817714_segment_24_aug_1.wav is too short or silent. Skipping.\n",
      "Warning: Audio file c:\\Users\\16148\\Desktop\\Projects\\bird_call_project\\Augmented Recordings\\Geothlypis_formosa_Whitewater_Township_near__Cleves_Hamilton_County_Ohio_817714_segment_24_aug_2.wav is too short or silent. Skipping.\n"
     ]
    },
    {
     "name": "stderr",
     "output_type": "stream",
     "text": [
      " 62%|██████▏   | 312/500 [00:41<00:22,  8.41it/s]"
     ]
    },
    {
     "name": "stdout",
     "output_type": "stream",
     "text": [
      "Warning: Audio file c:\\Users\\16148\\Desktop\\Projects\\bird_call_project\\Augmented Recordings\\Geothlypis_formosa_Oak_Openings_Lucas_County_Ohio_803620_segment_15_aug_3.wav is too short or silent. Skipping.\n"
     ]
    },
    {
     "name": "stderr",
     "output_type": "stream",
     "text": [
      " 68%|██████▊   | 339/500 [00:44<00:20,  8.03it/s]"
     ]
    },
    {
     "name": "stdout",
     "output_type": "stream",
     "text": [
      "Warning: Audio file c:\\Users\\16148\\Desktop\\Projects\\bird_call_project\\Augmented Recordings\\Geothlypis_formosa_Oak_Openings_Lucas_County_Ohio_803620_segment_24_aug_3.wav is too short or silent. Skipping.\n"
     ]
    },
    {
     "name": "stderr",
     "output_type": "stream",
     "text": [
      " 70%|███████   | 352/500 [00:46<00:18,  8.20it/s]"
     ]
    },
    {
     "name": "stdout",
     "output_type": "stream",
     "text": [
      "Warning: Audio file c:\\Users\\16148\\Desktop\\Projects\\bird_call_project\\Augmented Recordings\\Geothlypis_formosa_Oak_Openings_Lucas_County_Ohio_803620_segment_29_aug_1.wav is too short or silent. Skipping.\n"
     ]
    },
    {
     "name": "stderr",
     "output_type": "stream",
     "text": [
      " 76%|███████▌  | 380/500 [00:50<00:14,  8.56it/s]"
     ]
    },
    {
     "name": "stdout",
     "output_type": "stream",
     "text": [
      "Warning: Audio file c:\\Users\\16148\\Desktop\\Projects\\bird_call_project\\Augmented Recordings\\Geothlypis_formosa_Harrison_Township_near__Harrison_Hamilton_County_Ohio_726820_segment_4_aug_2.wav is too short or silent. Skipping.\n",
      "Warning: Audio file c:\\Users\\16148\\Desktop\\Projects\\bird_call_project\\Augmented Recordings\\Geothlypis_formosa_Harrison_Township_near__Harrison_Hamilton_County_Ohio_726820_segment_5_aug_1.wav is too short or silent. Skipping.\n"
     ]
    },
    {
     "name": "stderr",
     "output_type": "stream",
     "text": [
      " 77%|███████▋  | 385/500 [00:50<00:12,  9.05it/s]"
     ]
    },
    {
     "name": "stdout",
     "output_type": "stream",
     "text": [
      "Warning: Audio file c:\\Users\\16148\\Desktop\\Projects\\bird_call_project\\Augmented Recordings\\Geothlypis_formosa_Harrison_Township_near__Harrison_Hamilton_County_Ohio_726820_segment_6_aug_1.wav is too short or silent. Skipping.\n"
     ]
    },
    {
     "name": "stderr",
     "output_type": "stream",
     "text": [
      " 84%|████████▍ | 420/500 [00:55<00:10,  7.74it/s]"
     ]
    },
    {
     "name": "stdout",
     "output_type": "stream",
     "text": [
      "Warning: Audio file c:\\Users\\16148\\Desktop\\Projects\\bird_call_project\\Augmented Recordings\\Geothlypis_formosa_Columbus_OH--Blendon_Woods_Metro_Park--Hickory_Ridge_Trail_between_Brookside_and_Overlook_Trails_103881_segment_10_aug_3.wav is too short or silent. Skipping.\n"
     ]
    },
    {
     "name": "stderr",
     "output_type": "stream",
     "text": [
      " 98%|█████████▊| 492/500 [01:09<00:01,  7.26it/s]"
     ]
    },
    {
     "name": "stdout",
     "output_type": "stream",
     "text": [
      "Warning: Audio file c:\\Users\\16148\\Desktop\\Projects\\bird_call_project\\Augmented Recordings\\Geothlypis_formosa_Columbus_OH--Blendon_Woods_Metro_Park--Hickory_Ridge_Trail_between_Brookside_and_Overlook_Trails_103881_segment_34_aug_3.wav is too short or silent. Skipping.\n"
     ]
    },
    {
     "name": "stderr",
     "output_type": "stream",
     "text": [
      " 99%|█████████▉| 497/500 [01:10<00:00,  7.02it/s]"
     ]
    },
    {
     "name": "stdout",
     "output_type": "stream",
     "text": [
      "Warning: Audio file c:\\Users\\16148\\Desktop\\Projects\\bird_call_project\\Augmented Recordings\\Geothlypis_formosa_Columbus_OH--Blendon_Woods_Metro_Park--Hickory_Ridge_Trail_between_Brookside_and_Overlook_Trails_103881_segment_36_aug_2.wav is too short or silent. Skipping.\n"
     ]
    },
    {
     "name": "stderr",
     "output_type": "stream",
     "text": [
      "100%|██████████| 500/500 [01:11<00:00,  7.04it/s]"
     ]
    },
    {
     "name": "stdout",
     "output_type": "stream",
     "text": [
      "Warning: Audio file c:\\Users\\16148\\Desktop\\Projects\\bird_call_project\\Augmented Recordings\\Geothlypis_formosa_Columbus_OH--Blendon_Woods_Metro_Park--Hickory_Ridge_Trail_between_Brookside_and_Overlook_Trails_103881_segment_37_aug_2.wav is too short or silent. Skipping.\n"
     ]
    },
    {
     "name": "stderr",
     "output_type": "stream",
     "text": [
      "\n",
      "  2%|▏         | 12/500 [00:01<01:04,  7.60it/s]"
     ]
    },
    {
     "name": "stdout",
     "output_type": "stream",
     "text": [
      "Warning: Audio file c:\\Users\\16148\\Desktop\\Projects\\bird_call_project\\Augmented Recordings\\Geothlypis_formosa_Columbus_OH--Blendon_Woods_Metro_Park--Hickory_Ridge_Trail_between_Brookside_and_Overlook_Trails_103881_segment_41_aug_2.wav is too short or silent. Skipping.\n"
     ]
    },
    {
     "name": "stderr",
     "output_type": "stream",
     "text": [
      "  4%|▍         | 21/500 [00:02<00:53,  8.92it/s]"
     ]
    },
    {
     "name": "stdout",
     "output_type": "stream",
     "text": [
      "Warning: Audio file c:\\Users\\16148\\Desktop\\Projects\\bird_call_project\\Augmented Recordings\\Geothlypis_formosa_Columbus_OH--Blendon_Woods_Metro_Park--Hickory_Ridge_Trail_between_Brookside_and_Overlook_Trails_103881_segment_44_aug_2.wav is too short or silent. Skipping.\n"
     ]
    },
    {
     "name": "stderr",
     "output_type": "stream",
     "text": [
      " 19%|█▉        | 95/500 [00:12<00:50,  8.03it/s]"
     ]
    },
    {
     "name": "stdout",
     "output_type": "stream",
     "text": [
      "Warning: Audio file c:\\Users\\16148\\Desktop\\Projects\\bird_call_project\\Augmented Recordings\\Geothlypis_formosa_Michigan_Petersburg_SGA__31280_segment_17_aug_1.wav is too short or silent. Skipping.\n"
     ]
    },
    {
     "name": "stderr",
     "output_type": "stream",
     "text": [
      " 47%|████▋     | 233/500 [00:31<00:34,  7.68it/s]"
     ]
    },
    {
     "name": "stdout",
     "output_type": "stream",
     "text": [
      "Warning: Audio file c:\\Users\\16148\\Desktop\\Projects\\bird_call_project\\Augmented Recordings\\Geothlypis_trichas_Magee_Marsh_-_boardwalk_Lucas_County_Ohio_828478_segment_24_aug_1.wav is too short or silent. Skipping.\n"
     ]
    },
    {
     "name": "stderr",
     "output_type": "stream",
     "text": [
      " 53%|█████▎    | 265/500 [00:35<00:28,  8.22it/s]"
     ]
    },
    {
     "name": "stdout",
     "output_type": "stream",
     "text": [
      "Warning: Audio file c:\\Users\\16148\\Desktop\\Projects\\bird_call_project\\Augmented Recordings\\Geothlypis_trichas_Magee_Marsh_-_boardwalk_Lucas_County_Ohio_828478_segment_34_aug_3.wav is too short or silent. Skipping.\n"
     ]
    },
    {
     "name": "stderr",
     "output_type": "stream",
     "text": [
      " 80%|████████  | 400/500 [00:55<00:18,  5.54it/s]"
     ]
    },
    {
     "name": "stdout",
     "output_type": "stream",
     "text": [
      "Warning: Audio file c:\\Users\\16148\\Desktop\\Projects\\bird_call_project\\Augmented Recordings\\Geothlypis_trichas_Miami_Township_near__North_Bend_Hamilton_County_Ohio_646029_segment_11_aug_2.wav is too short or silent. Skipping.\n"
     ]
    },
    {
     "name": "stderr",
     "output_type": "stream",
     "text": [
      " 81%|████████  | 404/500 [00:56<00:17,  5.39it/s]"
     ]
    },
    {
     "name": "stdout",
     "output_type": "stream",
     "text": [
      "Warning: Audio file c:\\Users\\16148\\Desktop\\Projects\\bird_call_project\\Augmented Recordings\\Geothlypis_trichas_Miami_Township_near__North_Bend_Hamilton_County_Ohio_646029_segment_12_aug_1.wav is too short or silent. Skipping.\n"
     ]
    },
    {
     "name": "stderr",
     "output_type": "stream",
     "text": [
      " 88%|████████▊ | 442/500 [01:01<00:07,  8.11it/s]"
     ]
    },
    {
     "name": "stdout",
     "output_type": "stream",
     "text": [
      "Warning: Audio file c:\\Users\\16148\\Desktop\\Projects\\bird_call_project\\Augmented Recordings\\Geothlypis_trichas_Ohio_near__Peninsula_Summit_County_Ohio_374227_segment_3_aug_3.wav is too short or silent. Skipping.\n"
     ]
    },
    {
     "name": "stderr",
     "output_type": "stream",
     "text": [
      " 90%|█████████ | 451/500 [01:02<00:06,  7.49it/s]"
     ]
    },
    {
     "name": "stdout",
     "output_type": "stream",
     "text": [
      "Warning: Audio file c:\\Users\\16148\\Desktop\\Projects\\bird_call_project\\Augmented Recordings\\Geothlypis_trichas_Ohio_near__Peninsula_Summit_County_Ohio_374227_segment_6_aug_3.wav is too short or silent. Skipping.\n"
     ]
    },
    {
     "name": "stderr",
     "output_type": "stream",
     "text": [
      " 93%|█████████▎| 467/500 [01:04<00:03,  8.83it/s]"
     ]
    },
    {
     "name": "stdout",
     "output_type": "stream",
     "text": [
      "Warning: Audio file c:\\Users\\16148\\Desktop\\Projects\\bird_call_project\\Augmented Recordings\\Geothlypis_trichas_Ohio_near__Peninsula_Summit_County_Ohio_374227_segment_12_aug_2.wav is too short or silent. Skipping.\n"
     ]
    },
    {
     "name": "stderr",
     "output_type": "stream",
     "text": [
      " 98%|█████████▊| 490/500 [01:07<00:01,  7.99it/s]"
     ]
    },
    {
     "name": "stdout",
     "output_type": "stream",
     "text": [
      "Warning: Audio file c:\\Users\\16148\\Desktop\\Projects\\bird_call_project\\Augmented Recordings\\Setophaga_citrina_Whitewater_Township_near__Cleves_Hamilton_County_Ohio_910499_segment_6_aug_3.wav is too short or silent. Skipping.\n"
     ]
    },
    {
     "name": "stderr",
     "output_type": "stream",
     "text": [
      "100%|█████████▉| 499/500 [01:09<00:00,  8.16it/s]"
     ]
    },
    {
     "name": "stdout",
     "output_type": "stream",
     "text": [
      "Warning: Audio file c:\\Users\\16148\\Desktop\\Projects\\bird_call_project\\Augmented Recordings\\Setophaga_citrina_Whitewater_Township_near__Cleves_Hamilton_County_Ohio_910499_segment_9_aug_3.wav is too short or silent. Skipping.\n"
     ]
    },
    {
     "name": "stderr",
     "output_type": "stream",
     "text": [
      "100%|██████████| 500/500 [01:09<00:00,  7.22it/s]\n",
      "  1%|          | 6/500 [00:00<01:04,  7.64it/s]"
     ]
    },
    {
     "name": "stdout",
     "output_type": "stream",
     "text": [
      "Warning: Audio file c:\\Users\\16148\\Desktop\\Projects\\bird_call_project\\Augmented Recordings\\Setophaga_citrina_Harrison_Township_near__Harrison_Hamilton_County_Ohio_726821_segment_2_aug_1.wav is too short or silent. Skipping.\n"
     ]
    },
    {
     "name": "stderr",
     "output_type": "stream",
     "text": [
      "  6%|▌         | 28/500 [00:03<00:57,  8.25it/s]"
     ]
    },
    {
     "name": "stdout",
     "output_type": "stream",
     "text": [
      "Warning: Audio file c:\\Users\\16148\\Desktop\\Projects\\bird_call_project\\Augmented Recordings\\Setophaga_citrina_Harrison_Township_near__Harrison_Hamilton_County_Ohio_726821_segment_9_aug_2.wav is too short or silent. Skipping.\n"
     ]
    },
    {
     "name": "stderr",
     "output_type": "stream",
     "text": [
      " 13%|█▎        | 64/500 [00:08<00:53,  8.10it/s]"
     ]
    },
    {
     "name": "stdout",
     "output_type": "stream",
     "text": [
      "Warning: Audio file c:\\Users\\16148\\Desktop\\Projects\\bird_call_project\\Augmented Recordings\\Setophaga_citrina_Brecksville_Cuyahoga_County_Ohio_652287_segment_11_aug_2.wav is too short or silent. Skipping.\n"
     ]
    },
    {
     "name": "stderr",
     "output_type": "stream",
     "text": [
      " 13%|█▎        | 66/500 [00:08<00:55,  7.75it/s]"
     ]
    },
    {
     "name": "stdout",
     "output_type": "stream",
     "text": [
      "Warning: Audio file c:\\Users\\16148\\Desktop\\Projects\\bird_call_project\\Augmented Recordings\\Setophaga_citrina_Brecksville_Cuyahoga_County_Ohio_652287_segment_12_aug_3.wav is too short or silent. Skipping.\n"
     ]
    },
    {
     "name": "stderr",
     "output_type": "stream",
     "text": [
      " 18%|█▊        | 90/500 [00:13<00:51,  7.93it/s]"
     ]
    },
    {
     "name": "stdout",
     "output_type": "stream",
     "text": [
      "Warning: Audio file c:\\Users\\16148\\Desktop\\Projects\\bird_call_project\\Augmented Recordings\\Setophaga_citrina_Brecksville_Cuyahoga_County_Ohio_652287_segment_20_aug_1.wav is too short or silent. Skipping.\n"
     ]
    },
    {
     "name": "stderr",
     "output_type": "stream",
     "text": [
      " 21%|██        | 106/500 [00:15<00:47,  8.27it/s]"
     ]
    },
    {
     "name": "stdout",
     "output_type": "stream",
     "text": [
      "Warning: Audio file c:\\Users\\16148\\Desktop\\Projects\\bird_call_project\\Augmented Recordings\\Setophaga_citrina_Brecksville_Cuyahoga_County_Ohio_652287_segment_26_aug_2.wav is too short or silent. Skipping.\n"
     ]
    },
    {
     "name": "stderr",
     "output_type": "stream",
     "text": [
      " 23%|██▎       | 115/500 [00:16<00:43,  8.86it/s]"
     ]
    },
    {
     "name": "stdout",
     "output_type": "stream",
     "text": [
      "Warning: Audio file c:\\Users\\16148\\Desktop\\Projects\\bird_call_project\\Augmented Recordings\\Setophaga_citrina_Brecksville_Cuyahoga_County_Ohio_652287_segment_29_aug_2.wav is too short or silent. Skipping.\n"
     ]
    },
    {
     "name": "stderr",
     "output_type": "stream",
     "text": [
      " 30%|███       | 152/500 [00:21<00:43,  7.97it/s]"
     ]
    },
    {
     "name": "stdout",
     "output_type": "stream",
     "text": [
      "Warning: Audio file c:\\Users\\16148\\Desktop\\Projects\\bird_call_project\\Augmented Recordings\\Setophaga_ruticilla_Magee_Marsh_-_boardwalk_Lucas_County_Ohio_825241_segment_10_aug_3.wav is too short or silent. Skipping.\n"
     ]
    },
    {
     "name": "stderr",
     "output_type": "stream",
     "text": [
      " 31%|███▏      | 157/500 [00:21<00:42,  7.98it/s]"
     ]
    },
    {
     "name": "stdout",
     "output_type": "stream",
     "text": [
      "Warning: Audio file c:\\Users\\16148\\Desktop\\Projects\\bird_call_project\\Augmented Recordings\\Setophaga_ruticilla_Magee_Marsh_-_boardwalk_Lucas_County_Ohio_825241_segment_12_aug_2.wav is too short or silent. Skipping.\n"
     ]
    },
    {
     "name": "stderr",
     "output_type": "stream",
     "text": [
      " 46%|████▌     | 230/500 [00:31<00:31,  8.69it/s]"
     ]
    },
    {
     "name": "stdout",
     "output_type": "stream",
     "text": [
      "Warning: Audio file c:\\Users\\16148\\Desktop\\Projects\\bird_call_project\\Augmented Recordings\\Setophaga_ruticilla_Magee_Marsh_-_boardwalk_Lucas_County_Ohio_825241_segment_36_aug_3.wav is too short or silent. Skipping.\n"
     ]
    },
    {
     "name": "stderr",
     "output_type": "stream",
     "text": [
      " 48%|████▊     | 239/500 [00:32<00:30,  8.47it/s]"
     ]
    },
    {
     "name": "stdout",
     "output_type": "stream",
     "text": [
      "Warning: Audio file c:\\Users\\16148\\Desktop\\Projects\\bird_call_project\\Augmented Recordings\\Setophaga_ruticilla_Magee_Marsh_-_boardwalk_Lucas_County_Ohio_825241_segment_39_aug_3.wav is too short or silent. Skipping.\n"
     ]
    },
    {
     "name": "stderr",
     "output_type": "stream",
     "text": [
      " 53%|█████▎    | 267/500 [00:36<00:27,  8.52it/s]"
     ]
    },
    {
     "name": "stdout",
     "output_type": "stream",
     "text": [
      "Warning: Audio file c:\\Users\\16148\\Desktop\\Projects\\bird_call_project\\Augmented Recordings\\Setophaga_ruticilla_Magee_Marsh_-_boardwalk_Lucas_County_Ohio_825241_segment_49_aug_1.wav is too short or silent. Skipping.\n"
     ]
    },
    {
     "name": "stderr",
     "output_type": "stream",
     "text": [
      " 60%|██████    | 301/500 [00:40<00:23,  8.61it/s]"
     ]
    },
    {
     "name": "stdout",
     "output_type": "stream",
     "text": [
      "Warning: Audio file c:\\Users\\16148\\Desktop\\Projects\\bird_call_project\\Augmented Recordings\\Setophaga_ruticilla_Magee_Marsh_-_boardwalk_Lucas_County_Ohio_825241_segment_62_aug_2.wav is too short or silent. Skipping.\n"
     ]
    },
    {
     "name": "stderr",
     "output_type": "stream",
     "text": [
      " 78%|███████▊  | 388/500 [00:52<00:12,  8.77it/s]"
     ]
    },
    {
     "name": "stdout",
     "output_type": "stream",
     "text": [
      "Warning: Audio file c:\\Users\\16148\\Desktop\\Projects\\bird_call_project\\Augmented Recordings\\Setophaga_ruticilla_Magee_Marsh_-_boardwalk_Lucas_County_Ohio_825241_segment_91_aug_2.wav is too short or silent. Skipping.\n"
     ]
    },
    {
     "name": "stderr",
     "output_type": "stream",
     "text": [
      " 79%|███████▉  | 396/500 [00:53<00:13,  7.58it/s]"
     ]
    },
    {
     "name": "stdout",
     "output_type": "stream",
     "text": [
      "Warning: Audio file c:\\Users\\16148\\Desktop\\Projects\\bird_call_project\\Augmented Recordings\\Setophaga_ruticilla_Magee_Marsh_-_boardwalk_Lucas_County_Ohio_825241_segment_94_aug_1.wav is too short or silent. Skipping.\n"
     ]
    },
    {
     "name": "stderr",
     "output_type": "stream",
     "text": [
      " 85%|████████▌ | 425/500 [00:56<00:08,  8.63it/s]"
     ]
    },
    {
     "name": "stdout",
     "output_type": "stream",
     "text": [
      "Warning: Audio file c:\\Users\\16148\\Desktop\\Projects\\bird_call_project\\Augmented Recordings\\Setophaga_ruticilla_Magee_Marsh_-_boardwalk_Lucas_County_Ohio_825241_segment_103_aug_3.wav is too short or silent. Skipping.\n"
     ]
    },
    {
     "name": "stderr",
     "output_type": "stream",
     "text": [
      " 88%|████████▊ | 438/500 [00:58<00:06,  8.89it/s]"
     ]
    },
    {
     "name": "stdout",
     "output_type": "stream",
     "text": [
      "Warning: Audio file c:\\Users\\16148\\Desktop\\Projects\\bird_call_project\\Augmented Recordings\\Setophaga_ruticilla_Magee_Marsh_-_boardwalk_Lucas_County_Ohio_825241_segment_108_aug_1.wav is too short or silent. Skipping.\n"
     ]
    },
    {
     "name": "stderr",
     "output_type": "stream",
     "text": [
      " 91%|█████████ | 455/500 [01:00<00:05,  8.31it/s]"
     ]
    },
    {
     "name": "stdout",
     "output_type": "stream",
     "text": [
      "Warning: Audio file c:\\Users\\16148\\Desktop\\Projects\\bird_call_project\\Augmented Recordings\\Setophaga_ruticilla_Magee_Marsh_-_boardwalk_Lucas_County_Ohio_825241_segment_113_aug_3.wav is too short or silent. Skipping.\n",
      "Warning: Audio file c:\\Users\\16148\\Desktop\\Projects\\bird_call_project\\Augmented Recordings\\Setophaga_ruticilla_Magee_Marsh_-_boardwalk_Lucas_County_Ohio_825241_segment_114_aug_2.wav is too short or silent. Skipping.\n"
     ]
    },
    {
     "name": "stderr",
     "output_type": "stream",
     "text": [
      " 94%|█████████▍| 472/500 [01:03<00:03,  7.98it/s]"
     ]
    },
    {
     "name": "stdout",
     "output_type": "stream",
     "text": [
      "Warning: Audio file c:\\Users\\16148\\Desktop\\Projects\\bird_call_project\\Augmented Recordings\\Setophaga_ruticilla_Miami_Township_near__North_Bend_Hamilton_County_Ohio_645905_segment_4_aug_2.wav is too short or silent. Skipping.\n"
     ]
    },
    {
     "name": "stderr",
     "output_type": "stream",
     "text": [
      " 98%|█████████▊| 490/500 [01:05<00:01,  8.02it/s]"
     ]
    },
    {
     "name": "stdout",
     "output_type": "stream",
     "text": [
      "Warning: Audio file c:\\Users\\16148\\Desktop\\Projects\\bird_call_project\\Augmented Recordings\\Setophaga_ruticilla_Miami_Township_near__North_Bend_Hamilton_County_Ohio_645905_segment_10_aug_2.wav is too short or silent. Skipping.\n"
     ]
    },
    {
     "name": "stderr",
     "output_type": "stream",
     "text": [
      "100%|██████████| 500/500 [01:06<00:00,  7.49it/s]\n",
      "  9%|▉         | 46/500 [00:06<00:55,  8.14it/s]"
     ]
    },
    {
     "name": "stdout",
     "output_type": "stream",
     "text": [
      "Warning: Audio file c:\\Users\\16148\\Desktop\\Projects\\bird_call_project\\Augmented Recordings\\Setophaga_ruticilla_Pelee_near__Leamington_Essex_County_Ontario_476493_segment_12_aug_1.wav is too short or silent. Skipping.\n"
     ]
    },
    {
     "name": "stderr",
     "output_type": "stream",
     "text": [
      " 21%|██        | 103/500 [00:13<00:48,  8.17it/s]"
     ]
    },
    {
     "name": "stdout",
     "output_type": "stream",
     "text": [
      "Warning: Audio file c:\\Users\\16148\\Desktop\\Projects\\bird_call_project\\Augmented Recordings\\Setophaga_ruticilla_Paris_near__Ravenna_Portage_County_Ohio_178310_segment_19_aug_1.wav is too short or silent. Skipping.\n",
      "Warning: Audio file c:\\Users\\16148\\Desktop\\Projects\\bird_call_project\\Augmented Recordings\\Setophaga_ruticilla_Paris_near__Ravenna_Portage_County_Ohio_178310_segment_19_aug_3.wav is too short or silent. Skipping.\n"
     ]
    },
    {
     "name": "stderr",
     "output_type": "stream",
     "text": [
      " 22%|██▏       | 110/500 [00:14<00:49,  7.89it/s]"
     ]
    },
    {
     "name": "stdout",
     "output_type": "stream",
     "text": [
      "Warning: Audio file c:\\Users\\16148\\Desktop\\Projects\\bird_call_project\\Augmented Recordings\\Setophaga_ruticilla_Point_Pelee_ON_83534_segment_1_aug_2.wav is too short or silent. Skipping.\n"
     ]
    },
    {
     "name": "stderr",
     "output_type": "stream",
     "text": [
      " 28%|██▊       | 140/500 [00:18<00:44,  8.08it/s]"
     ]
    },
    {
     "name": "stdout",
     "output_type": "stream",
     "text": [
      "Warning: Audio file c:\\Users\\16148\\Desktop\\Projects\\bird_call_project\\Augmented Recordings\\Setophaga_ruticilla_Point_Pelee_ON_83534_segment_11_aug_2.wav is too short or silent. Skipping.\n"
     ]
    },
    {
     "name": "stderr",
     "output_type": "stream",
     "text": [
      " 29%|██▊       | 143/500 [00:19<00:43,  8.26it/s]"
     ]
    },
    {
     "name": "stdout",
     "output_type": "stream",
     "text": [
      "Warning: Audio file c:\\Users\\16148\\Desktop\\Projects\\bird_call_project\\Augmented Recordings\\Setophaga_ruticilla_Point_Pelee_ON_83534_segment_12_aug_2.wav is too short or silent. Skipping.\n"
     ]
    },
    {
     "name": "stderr",
     "output_type": "stream",
     "text": [
      " 31%|███       | 153/500 [00:20<00:45,  7.59it/s]"
     ]
    },
    {
     "name": "stdout",
     "output_type": "stream",
     "text": [
      "Warning: Audio file c:\\Users\\16148\\Desktop\\Projects\\bird_call_project\\Augmented Recordings\\Setophaga_ruticilla_Magee_Marsh_-_boardwalk_Lucas_County_Ohio_825242_segment_2_aug_3.wav is too short or silent. Skipping.\n"
     ]
    },
    {
     "name": "stderr",
     "output_type": "stream",
     "text": [
      " 37%|███▋      | 187/500 [00:25<00:39,  7.83it/s]"
     ]
    },
    {
     "name": "stdout",
     "output_type": "stream",
     "text": [
      "Warning: Audio file c:\\Users\\16148\\Desktop\\Projects\\bird_call_project\\Augmented Recordings\\Setophaga_ruticilla_Magee_Marsh_-_boardwalk_Lucas_County_Ohio_825242_segment_14_aug_1.wav is too short or silent. Skipping.\n"
     ]
    },
    {
     "name": "stderr",
     "output_type": "stream",
     "text": [
      " 40%|███▉      | 199/500 [00:27<00:38,  7.81it/s]"
     ]
    },
    {
     "name": "stdout",
     "output_type": "stream",
     "text": [
      "Warning: Audio file c:\\Users\\16148\\Desktop\\Projects\\bird_call_project\\Augmented Recordings\\Setophaga_ruticilla_Magee_Marsh_-_boardwalk_Lucas_County_Ohio_825242_segment_18_aug_1.wav is too short or silent. Skipping.\n"
     ]
    },
    {
     "name": "stderr",
     "output_type": "stream",
     "text": [
      " 40%|████      | 202/500 [00:27<00:36,  8.27it/s]"
     ]
    },
    {
     "name": "stdout",
     "output_type": "stream",
     "text": [
      "Warning: Audio file c:\\Users\\16148\\Desktop\\Projects\\bird_call_project\\Augmented Recordings\\Setophaga_ruticilla_Magee_Marsh_-_boardwalk_Lucas_County_Ohio_825242_segment_19_aug_1.wav is too short or silent. Skipping.\n"
     ]
    },
    {
     "name": "stderr",
     "output_type": "stream",
     "text": [
      " 42%|████▏     | 211/500 [00:29<00:36,  8.01it/s]"
     ]
    },
    {
     "name": "stdout",
     "output_type": "stream",
     "text": [
      "Warning: Audio file c:\\Users\\16148\\Desktop\\Projects\\bird_call_project\\Augmented Recordings\\Setophaga_ruticilla_Magee_Marsh_-_boardwalk_Lucas_County_Ohio_825242_segment_22_aug_1.wav is too short or silent. Skipping.\n"
     ]
    },
    {
     "name": "stderr",
     "output_type": "stream",
     "text": [
      " 51%|█████     | 256/500 [00:35<00:28,  8.71it/s]"
     ]
    },
    {
     "name": "stdout",
     "output_type": "stream",
     "text": [
      "Warning: Audio file c:\\Users\\16148\\Desktop\\Projects\\bird_call_project\\Augmented Recordings\\Setophaga_ruticilla_Magee_Marsh_-_boardwalk_Lucas_County_Ohio_825242_segment_37_aug_1.wav is too short or silent. Skipping.\n"
     ]
    },
    {
     "name": "stderr",
     "output_type": "stream",
     "text": [
      " 63%|██████▎   | 316/500 [00:43<00:22,  8.04it/s]"
     ]
    },
    {
     "name": "stdout",
     "output_type": "stream",
     "text": [
      "Warning: Audio file c:\\Users\\16148\\Desktop\\Projects\\bird_call_project\\Augmented Recordings\\Setophaga_ruticilla_Magee_Marsh_-_boardwalk_Lucas_County_Ohio_825242_segment_57_aug_1.wav is too short or silent. Skipping.\n"
     ]
    },
    {
     "name": "stderr",
     "output_type": "stream",
     "text": [
      " 66%|██████▌   | 330/500 [00:44<00:20,  8.30it/s]"
     ]
    },
    {
     "name": "stdout",
     "output_type": "stream",
     "text": [
      "Warning: Audio file c:\\Users\\16148\\Desktop\\Projects\\bird_call_project\\Augmented Recordings\\Setophaga_ruticilla_Magee_Marsh_-_boardwalk_Lucas_County_Ohio_825240_segment_3_aug_3.wav is too short or silent. Skipping.\n"
     ]
    },
    {
     "name": "stderr",
     "output_type": "stream",
     "text": [
      " 67%|██████▋   | 334/500 [00:45<00:20,  7.95it/s]"
     ]
    },
    {
     "name": "stdout",
     "output_type": "stream",
     "text": [
      "Warning: Audio file c:\\Users\\16148\\Desktop\\Projects\\bird_call_project\\Augmented Recordings\\Setophaga_ruticilla_Magee_Marsh_-_boardwalk_Lucas_County_Ohio_825240_segment_5_aug_1.wav is too short or silent. Skipping.\n"
     ]
    },
    {
     "name": "stderr",
     "output_type": "stream",
     "text": [
      " 69%|██████▊   | 343/500 [00:46<00:19,  8.24it/s]"
     ]
    },
    {
     "name": "stdout",
     "output_type": "stream",
     "text": [
      "Warning: Audio file c:\\Users\\16148\\Desktop\\Projects\\bird_call_project\\Augmented Recordings\\Setophaga_ruticilla_Magee_Marsh_-_boardwalk_Lucas_County_Ohio_825240_segment_8_aug_1.wav is too short or silent. Skipping.\n"
     ]
    },
    {
     "name": "stderr",
     "output_type": "stream",
     "text": [
      " 74%|███████▍  | 369/500 [00:50<00:16,  7.73it/s]"
     ]
    },
    {
     "name": "stdout",
     "output_type": "stream",
     "text": [
      "Warning: Audio file c:\\Users\\16148\\Desktop\\Projects\\bird_call_project\\Augmented Recordings\\Setophaga_ruticilla_Magee_Marsh_-_boardwalk_Lucas_County_Ohio_825240_segment_16_aug_3.wav is too short or silent. Skipping.\n"
     ]
    },
    {
     "name": "stderr",
     "output_type": "stream",
     "text": [
      " 79%|███████▉  | 396/500 [00:53<00:12,  8.54it/s]"
     ]
    },
    {
     "name": "stdout",
     "output_type": "stream",
     "text": [
      "Warning: Audio file c:\\Users\\16148\\Desktop\\Projects\\bird_call_project\\Augmented Recordings\\Setophaga_ruticilla_Magee_Marsh_-_boardwalk_Lucas_County_Ohio_825240_segment_25_aug_3.wav is too short or silent. Skipping.\n"
     ]
    },
    {
     "name": "stderr",
     "output_type": "stream",
     "text": [
      " 83%|████████▎ | 417/500 [00:57<00:22,  3.70it/s]"
     ]
    },
    {
     "name": "stdout",
     "output_type": "stream",
     "text": [
      "Warning: Audio file c:\\Users\\16148\\Desktop\\Projects\\bird_call_project\\Augmented Recordings\\Setophaga_ruticilla_Magee_Marsh_-_boardwalk_Lucas_County_Ohio_825240_segment_34_aug_1.wav is too short or silent. Skipping.\n"
     ]
    },
    {
     "name": "stderr",
     "output_type": "stream",
     "text": [
      " 86%|████████▌ | 431/500 [01:00<00:09,  7.40it/s]"
     ]
    },
    {
     "name": "stdout",
     "output_type": "stream",
     "text": [
      "Warning: Audio file c:\\Users\\16148\\Desktop\\Projects\\bird_call_project\\Augmented Recordings\\Setophaga_ruticilla_Magee_Marsh_-_boardwalk_Lucas_County_Ohio_825240_segment_38_aug_2.wav is too short or silent. Skipping.\n"
     ]
    },
    {
     "name": "stderr",
     "output_type": "stream",
     "text": [
      " 97%|█████████▋| 485/500 [01:07<00:01,  7.91it/s]"
     ]
    },
    {
     "name": "stdout",
     "output_type": "stream",
     "text": [
      "Warning: Audio file c:\\Users\\16148\\Desktop\\Projects\\bird_call_project\\Augmented Recordings\\Setophaga_ruticilla_Magee_Marsh_-_boardwalk_Lucas_County_Ohio_825240_segment_56_aug_2.wav is too short or silent. Skipping.\n"
     ]
    },
    {
     "name": "stderr",
     "output_type": "stream",
     "text": [
      "100%|██████████| 500/500 [01:09<00:00,  7.16it/s]\n",
      "  4%|▍         | 21/500 [00:03<01:02,  7.70it/s]"
     ]
    },
    {
     "name": "stdout",
     "output_type": "stream",
     "text": [
      "Warning: Audio file c:\\Users\\16148\\Desktop\\Projects\\bird_call_project\\Augmented Recordings\\Setophaga_ruticilla_Magee_Marsh_-_boardwalk_Lucas_County_Ohio_825240_segment_68_aug_2.wav is too short or silent. Skipping.\n"
     ]
    },
    {
     "name": "stderr",
     "output_type": "stream",
     "text": [
      "  8%|▊         | 38/500 [00:05<00:58,  7.93it/s]"
     ]
    },
    {
     "name": "stdout",
     "output_type": "stream",
     "text": [
      "Warning: Audio file c:\\Users\\16148\\Desktop\\Projects\\bird_call_project\\Augmented Recordings\\Setophaga_ruticilla_Magee_Marsh_-_boardwalk_Lucas_County_Ohio_825240_segment_74_aug_1.wav is too short or silent. Skipping.\n"
     ]
    },
    {
     "name": "stderr",
     "output_type": "stream",
     "text": [
      " 14%|█▍        | 71/500 [00:09<00:53,  8.01it/s]"
     ]
    },
    {
     "name": "stdout",
     "output_type": "stream",
     "text": [
      "Warning: Audio file c:\\Users\\16148\\Desktop\\Projects\\bird_call_project\\Augmented Recordings\\Setophaga_ruticilla_Magee_Marsh_-_boardwalk_Lucas_County_Ohio_825240_segment_85_aug_1.wav is too short or silent. Skipping.\n"
     ]
    },
    {
     "name": "stderr",
     "output_type": "stream",
     "text": [
      " 16%|█▋        | 82/500 [00:11<00:53,  7.82it/s]"
     ]
    },
    {
     "name": "stdout",
     "output_type": "stream",
     "text": [
      "Warning: Audio file c:\\Users\\16148\\Desktop\\Projects\\bird_call_project\\Augmented Recordings\\Setophaga_ruticilla_Magee_Marsh_-_boardwalk_Lucas_County_Ohio_825240_segment_89_aug_3.wav is too short or silent. Skipping.\n"
     ]
    },
    {
     "name": "stderr",
     "output_type": "stream",
     "text": [
      " 20%|█▉        | 99/500 [00:13<00:46,  8.55it/s]"
     ]
    },
    {
     "name": "stdout",
     "output_type": "stream",
     "text": [
      "Warning: Audio file c:\\Users\\16148\\Desktop\\Projects\\bird_call_project\\Augmented Recordings\\Setophaga_ruticilla_Magee_Marsh_Ohio_418300_segment_3_aug_2.wav is too short or silent. Skipping.\n"
     ]
    },
    {
     "name": "stderr",
     "output_type": "stream",
     "text": [
      " 24%|██▍       | 120/500 [00:16<00:47,  8.00it/s]"
     ]
    },
    {
     "name": "stdout",
     "output_type": "stream",
     "text": [
      "Warning: Audio file c:\\Users\\16148\\Desktop\\Projects\\bird_call_project\\Augmented Recordings\\Setophaga_ruticilla_Magee_Marsh_Ohio_418298_segment_6_aug_2.wav is too short or silent. Skipping.\n"
     ]
    },
    {
     "name": "stderr",
     "output_type": "stream",
     "text": [
      " 27%|██▋       | 133/500 [00:17<00:41,  8.89it/s]"
     ]
    },
    {
     "name": "stdout",
     "output_type": "stream",
     "text": [
      "Warning: Audio file c:\\Users\\16148\\Desktop\\Projects\\bird_call_project\\Augmented Recordings\\Setophaga_ruticilla_Magee_Marsh_Ohio_418298_segment_10_aug_3.wav is too short or silent. Skipping.\n",
      "Warning: Audio file c:\\Users\\16148\\Desktop\\Projects\\bird_call_project\\Augmented Recordings\\Setophaga_ruticilla_Magee_Marsh_Ohio_418298_segment_11_aug_1.wav is too short or silent. Skipping.\n"
     ]
    },
    {
     "name": "stderr",
     "output_type": "stream",
     "text": [
      " 36%|███▋      | 182/500 [00:24<00:38,  8.18it/s]"
     ]
    },
    {
     "name": "stdout",
     "output_type": "stream",
     "text": [
      "Warning: Audio file c:\\Users\\16148\\Desktop\\Projects\\bird_call_project\\Augmented Recordings\\Setophaga_ruticilla_Shawnee_State_Forest_Scioto_County_Ohio_417456_segment_16_aug_1.wav is too short or silent. Skipping.\n"
     ]
    },
    {
     "name": "stderr",
     "output_type": "stream",
     "text": [
      " 37%|███▋      | 186/500 [00:24<00:36,  8.54it/s]"
     ]
    },
    {
     "name": "stdout",
     "output_type": "stream",
     "text": [
      "Warning: Audio file c:\\Users\\16148\\Desktop\\Projects\\bird_call_project\\Augmented Recordings\\Setophaga_ruticilla_Shawnee_State_Forest_Scioto_County_Ohio_417456_segment_17_aug_2.wav is too short or silent. Skipping.\n"
     ]
    },
    {
     "name": "stderr",
     "output_type": "stream",
     "text": [
      " 52%|█████▏    | 258/500 [00:34<00:29,  8.23it/s]"
     ]
    },
    {
     "name": "stdout",
     "output_type": "stream",
     "text": [
      "Warning: Audio file c:\\Users\\16148\\Desktop\\Projects\\bird_call_project\\Augmented Recordings\\Setophaga_kirtlandii_Kinnear_Rd_&_Hess_Blvd_Columbus_OH_103394_segment_21_aug_2.wav is too short or silent. Skipping.\n"
     ]
    },
    {
     "name": "stderr",
     "output_type": "stream",
     "text": [
      " 54%|█████▍    | 272/500 [00:35<00:27,  8.21it/s]"
     ]
    },
    {
     "name": "stdout",
     "output_type": "stream",
     "text": [
      "Warning: Audio file c:\\Users\\16148\\Desktop\\Projects\\bird_call_project\\Augmented Recordings\\Setophaga_kirtlandii_Kinnear_Rd_&_Hess_Blvd_Columbus_OH_103394_segment_26_aug_1.wav is too short or silent. Skipping.\n"
     ]
    },
    {
     "name": "stderr",
     "output_type": "stream",
     "text": [
      " 56%|█████▌    | 278/500 [00:36<00:26,  8.25it/s]"
     ]
    },
    {
     "name": "stdout",
     "output_type": "stream",
     "text": [
      "Warning: Audio file c:\\Users\\16148\\Desktop\\Projects\\bird_call_project\\Augmented Recordings\\Setophaga_kirtlandii_Kinnear_Rd_&_Hess_Blvd_Columbus_OH_103394_segment_28_aug_1.wav is too short or silent. Skipping.\n"
     ]
    },
    {
     "name": "stderr",
     "output_type": "stream",
     "text": [
      " 72%|███████▏  | 362/500 [00:47<00:15,  9.13it/s]"
     ]
    },
    {
     "name": "stdout",
     "output_type": "stream",
     "text": [
      "Warning: Audio file c:\\Users\\16148\\Desktop\\Projects\\bird_call_project\\Augmented Recordings\\Setophaga_kirtlandii_Kinnear_Rd_&_Hess_Blvd_Columbus_OH_103394_segment_56_aug_1.wav is too short or silent. Skipping.\n",
      "Warning: Audio file c:\\Users\\16148\\Desktop\\Projects\\bird_call_project\\Augmented Recordings\\Setophaga_kirtlandii_Kinnear_Rd_&_Hess_Blvd_Columbus_OH_103394_segment_56_aug_2.wav is too short or silent. Skipping.\n"
     ]
    },
    {
     "name": "stderr",
     "output_type": "stream",
     "text": [
      " 74%|███████▎  | 368/500 [00:48<00:15,  8.43it/s]"
     ]
    },
    {
     "name": "stdout",
     "output_type": "stream",
     "text": [
      "Warning: Audio file c:\\Users\\16148\\Desktop\\Projects\\bird_call_project\\Augmented Recordings\\Setophaga_kirtlandii_Kinnear_Rd_&_Hess_Blvd_Columbus_OH_103394_segment_59_aug_1.wav is too short or silent. Skipping.\n"
     ]
    },
    {
     "name": "stderr",
     "output_type": "stream",
     "text": [
      " 74%|███████▍  | 371/500 [00:48<00:15,  8.34it/s]"
     ]
    },
    {
     "name": "stdout",
     "output_type": "stream",
     "text": [
      "Warning: Audio file c:\\Users\\16148\\Desktop\\Projects\\bird_call_project\\Augmented Recordings\\Setophaga_kirtlandii_Kinnear_Rd_&_Hess_Blvd_Columbus_OH_103394_segment_60_aug_1.wav is too short or silent. Skipping.\n"
     ]
    },
    {
     "name": "stderr",
     "output_type": "stream",
     "text": [
      " 80%|███████▉  | 398/500 [00:52<00:14,  6.98it/s]"
     ]
    },
    {
     "name": "stdout",
     "output_type": "stream",
     "text": [
      "Warning: Audio file c:\\Users\\16148\\Desktop\\Projects\\bird_call_project\\Augmented Recordings\\Setophaga_tigrina_Magee_Marsh_Ohio_418094_segment_8_aug_3.wav is too short or silent. Skipping.\n"
     ]
    },
    {
     "name": "stderr",
     "output_type": "stream",
     "text": [
      " 81%|████████  | 405/500 [00:53<00:11,  8.30it/s]"
     ]
    },
    {
     "name": "stdout",
     "output_type": "stream",
     "text": [
      "Warning: Audio file c:\\Users\\16148\\Desktop\\Projects\\bird_call_project\\Augmented Recordings\\Setophaga_tigrina_Magee_Marsh_Ohio_418094_segment_10_aug_2.wav is too short or silent. Skipping.\n",
      "Warning: Audio file c:\\Users\\16148\\Desktop\\Projects\\bird_call_project\\Augmented Recordings\\Setophaga_tigrina_Magee_Marsh_Ohio_418094_segment_10_aug_3.wav is too short or silent. Skipping.\n"
     ]
    },
    {
     "name": "stderr",
     "output_type": "stream",
     "text": [
      " 85%|████████▌ | 426/500 [00:56<00:09,  8.03it/s]"
     ]
    },
    {
     "name": "stdout",
     "output_type": "stream",
     "text": [
      "Warning: Audio file c:\\Users\\16148\\Desktop\\Projects\\bird_call_project\\Augmented Recordings\\Setophaga_tigrina_Tanglewood_Lane_Cincinnati_Ohio_44424_segment_6_aug_2.wav is too short or silent. Skipping.\n"
     ]
    },
    {
     "name": "stderr",
     "output_type": "stream",
     "text": [
      " 98%|█████████▊| 492/500 [01:05<00:01,  7.82it/s]"
     ]
    },
    {
     "name": "stdout",
     "output_type": "stream",
     "text": [
      "Warning: Audio file c:\\Users\\16148\\Desktop\\Projects\\bird_call_project\\Augmented Recordings\\Setophaga_cerulea_Shawnee_State_Forest_Scioto_County_Ohio_417448_segment_9_aug_2.wav is too short or silent. Skipping.\n"
     ]
    },
    {
     "name": "stderr",
     "output_type": "stream",
     "text": [
      "100%|██████████| 500/500 [01:06<00:00,  7.54it/s]\n",
      "  4%|▍         | 21/500 [00:03<01:11,  6.70it/s]"
     ]
    },
    {
     "name": "stdout",
     "output_type": "stream",
     "text": [
      "Warning: Audio file c:\\Users\\16148\\Desktop\\Projects\\bird_call_project\\Augmented Recordings\\Setophaga_cerulea_Shawnee_State_Forest_Scioto_County_Ohio_417448_segment_19_aug_3.wav is too short or silent. Skipping.\n"
     ]
    },
    {
     "name": "stderr",
     "output_type": "stream",
     "text": [
      "  5%|▌         | 26/500 [00:03<01:20,  5.86it/s]"
     ]
    },
    {
     "name": "stdout",
     "output_type": "stream",
     "text": [
      "Warning: Audio file c:\\Users\\16148\\Desktop\\Projects\\bird_call_project\\Augmented Recordings\\Setophaga_cerulea_Shawnee_State_Forest_Scioto_County_Ohio_417448_segment_21_aug_1.wav is too short or silent. Skipping.\n"
     ]
    },
    {
     "name": "stderr",
     "output_type": "stream",
     "text": [
      "  6%|▌         | 28/500 [00:04<01:32,  5.10it/s]"
     ]
    },
    {
     "name": "stdout",
     "output_type": "stream",
     "text": [
      "Warning: Audio file c:\\Users\\16148\\Desktop\\Projects\\bird_call_project\\Augmented Recordings\\Setophaga_cerulea_Shawnee_State_Forest_Scioto_County_Ohio_417448_segment_21_aug_3.wav is too short or silent. Skipping.\n"
     ]
    },
    {
     "name": "stderr",
     "output_type": "stream",
     "text": [
      " 10%|█         | 51/500 [00:08<01:00,  7.45it/s]"
     ]
    },
    {
     "name": "stdout",
     "output_type": "stream",
     "text": [
      "Warning: Audio file c:\\Users\\16148\\Desktop\\Projects\\bird_call_project\\Augmented Recordings\\Setophaga_cerulea_Miami_Township_near__North_Bend_Hamilton_County_Ohio_646112_segment_7_aug_1.wav is too short or silent. Skipping.\n"
     ]
    },
    {
     "name": "stderr",
     "output_type": "stream",
     "text": [
      " 14%|█▍        | 69/500 [00:11<00:50,  8.51it/s]"
     ]
    },
    {
     "name": "stdout",
     "output_type": "stream",
     "text": [
      "Warning: Audio file c:\\Users\\16148\\Desktop\\Projects\\bird_call_project\\Augmented Recordings\\Setophaga_cerulea_Shawnee_State_Forest_Scioto_County_Ohio_417453_segment_5_aug_1.wav is too short or silent. Skipping.\n"
     ]
    },
    {
     "name": "stderr",
     "output_type": "stream",
     "text": [
      " 27%|██▋       | 133/500 [00:19<00:44,  8.26it/s]"
     ]
    },
    {
     "name": "stdout",
     "output_type": "stream",
     "text": [
      "Warning: Audio file c:\\Users\\16148\\Desktop\\Projects\\bird_call_project\\Augmented Recordings\\Setophaga_americana_Tanager_Meadow_Reservable_Shelter_near__Harrison_Hamilton_County_Ohio_807351_segment_10_aug_2.wav is too short or silent. Skipping.\n"
     ]
    },
    {
     "name": "stderr",
     "output_type": "stream",
     "text": [
      " 42%|████▏     | 209/500 [00:29<00:36,  8.06it/s]"
     ]
    },
    {
     "name": "stdout",
     "output_type": "stream",
     "text": [
      "Warning: Audio file c:\\Users\\16148\\Desktop\\Projects\\bird_call_project\\Augmented Recordings\\Setophaga_americana_Miami_Township_near__Cleves_Hamilton_County_Ohio_645550_segment_14_aug_3.wav is too short or silent. Skipping.\n"
     ]
    },
    {
     "name": "stderr",
     "output_type": "stream",
     "text": [
      " 50%|█████     | 252/500 [00:35<00:30,  8.06it/s]"
     ]
    },
    {
     "name": "stdout",
     "output_type": "stream",
     "text": [
      "Warning: Audio file c:\\Users\\16148\\Desktop\\Projects\\bird_call_project\\Augmented Recordings\\Setophaga_americana_Miami_near__North_Bend_Hamilton_County_Ohio_545784_segment_9_aug_1.wav is too short or silent. Skipping.\n"
     ]
    },
    {
     "name": "stderr",
     "output_type": "stream",
     "text": [
      " 55%|█████▌    | 276/500 [00:38<00:25,  8.92it/s]"
     ]
    },
    {
     "name": "stdout",
     "output_type": "stream",
     "text": [
      "Warning: Audio file c:\\Users\\16148\\Desktop\\Projects\\bird_call_project\\Augmented Recordings\\Setophaga_americana_Miami_near__North_Bend_Hamilton_County_Ohio_545784_segment_17_aug_1.wav is too short or silent. Skipping.\n"
     ]
    },
    {
     "name": "stderr",
     "output_type": "stream",
     "text": [
      " 56%|█████▋    | 282/500 [00:39<00:24,  8.99it/s]"
     ]
    },
    {
     "name": "stdout",
     "output_type": "stream",
     "text": [
      "Warning: Audio file c:\\Users\\16148\\Desktop\\Projects\\bird_call_project\\Augmented Recordings\\Setophaga_americana_Miami_near__North_Bend_Hamilton_County_Ohio_545784_segment_19_aug_1.wav is too short or silent. Skipping.\n"
     ]
    },
    {
     "name": "stderr",
     "output_type": "stream",
     "text": [
      " 57%|█████▋    | 286/500 [00:39<00:26,  8.20it/s]"
     ]
    },
    {
     "name": "stdout",
     "output_type": "stream",
     "text": [
      "Warning: Audio file c:\\Users\\16148\\Desktop\\Projects\\bird_call_project\\Augmented Recordings\\Setophaga_americana_Ohio_near__Cleveland_Heights_Cuyahoga_County_Ohio_372023_segment_0_aug_2.wav is too short or silent. Skipping.\n"
     ]
    },
    {
     "name": "stderr",
     "output_type": "stream",
     "text": [
      " 59%|█████▊    | 293/500 [00:40<00:25,  8.27it/s]"
     ]
    },
    {
     "name": "stdout",
     "output_type": "stream",
     "text": [
      "Warning: Audio file c:\\Users\\16148\\Desktop\\Projects\\bird_call_project\\Augmented Recordings\\Setophaga_americana_Ohio_near__Cleveland_Heights_Cuyahoga_County_Ohio_372023_segment_2_aug_3.wav is too short or silent. Skipping.\n"
     ]
    },
    {
     "name": "stderr",
     "output_type": "stream",
     "text": [
      " 59%|█████▉    | 295/500 [00:40<00:27,  7.34it/s]"
     ]
    },
    {
     "name": "stdout",
     "output_type": "stream",
     "text": [
      "Warning: Audio file c:\\Users\\16148\\Desktop\\Projects\\bird_call_project\\Augmented Recordings\\Setophaga_americana_Ohio_near__Cleveland_Heights_Cuyahoga_County_Ohio_372023_segment_4_aug_1.wav is too short or silent. Skipping.\n"
     ]
    },
    {
     "name": "stderr",
     "output_type": "stream",
     "text": [
      " 62%|██████▏   | 309/500 [00:43<00:37,  5.05it/s]"
     ]
    },
    {
     "name": "stdout",
     "output_type": "stream",
     "text": [
      "Warning: Audio file c:\\Users\\16148\\Desktop\\Projects\\bird_call_project\\Augmented Recordings\\Setophaga_americana_Prairie_Oaks_Metro_Park--Sycamore_Plains_Area_182008_segment_3_aug_2.wav is too short or silent. Skipping.\n"
     ]
    },
    {
     "name": "stderr",
     "output_type": "stream",
     "text": [
      " 64%|██████▍   | 322/500 [00:46<00:23,  7.52it/s]"
     ]
    },
    {
     "name": "stdout",
     "output_type": "stream",
     "text": [
      "Warning: Audio file c:\\Users\\16148\\Desktop\\Projects\\bird_call_project\\Augmented Recordings\\Setophaga_americana_Prairie_Oaks_Metro_Park--Sycamore_Plains_Area_182008_segment_7_aug_2.wav is too short or silent. Skipping.\n"
     ]
    },
    {
     "name": "stderr",
     "output_type": "stream",
     "text": [
      " 87%|████████▋ | 434/500 [01:01<00:08,  7.92it/s]"
     ]
    },
    {
     "name": "stdout",
     "output_type": "stream",
     "text": [
      "Warning: Audio file c:\\Users\\16148\\Desktop\\Projects\\bird_call_project\\Augmented Recordings\\Setophaga_magnolia_Magee_Marsh_-_boardwalk_Lucas_County_Ohio_828025_segment_36_aug_3.wav is too short or silent. Skipping.\n"
     ]
    },
    {
     "name": "stderr",
     "output_type": "stream",
     "text": [
      " 93%|█████████▎| 467/500 [01:05<00:04,  7.71it/s]"
     ]
    },
    {
     "name": "stdout",
     "output_type": "stream",
     "text": [
      "Warning: Audio file c:\\Users\\16148\\Desktop\\Projects\\bird_call_project\\Augmented Recordings\\Setophaga_magnolia_Magee_Marsh_-_boardwalk_Lucas_County_Ohio_828022_segment_10_aug_3.wav is too short or silent. Skipping.\n"
     ]
    },
    {
     "name": "stderr",
     "output_type": "stream",
     "text": [
      "100%|██████████| 500/500 [01:10<00:00,  7.13it/s]\n",
      "  9%|▉         | 44/500 [00:06<00:57,  7.88it/s]"
     ]
    },
    {
     "name": "stdout",
     "output_type": "stream",
     "text": [
      "Warning: Audio file c:\\Users\\16148\\Desktop\\Projects\\bird_call_project\\Augmented Recordings\\Setophaga_magnolia_Magee_Marsh_-_boardwalk_Lucas_County_Ohio_828020_segment_2_aug_2.wav is too short or silent. Skipping.\n"
     ]
    },
    {
     "name": "stderr",
     "output_type": "stream",
     "text": [
      " 21%|██▏       | 107/500 [00:14<00:47,  8.35it/s]"
     ]
    },
    {
     "name": "stdout",
     "output_type": "stream",
     "text": [
      "Warning: Audio file c:\\Users\\16148\\Desktop\\Projects\\bird_call_project\\Augmented Recordings\\Setophaga_magnolia_Magee_Marsh_-_boardwalk_Lucas_County_Ohio_828020_segment_23_aug_2.wav is too short or silent. Skipping.\n"
     ]
    },
    {
     "name": "stderr",
     "output_type": "stream",
     "text": [
      " 43%|████▎     | 215/500 [00:29<00:34,  8.24it/s]"
     ]
    },
    {
     "name": "stdout",
     "output_type": "stream",
     "text": [
      "Warning: Audio file c:\\Users\\16148\\Desktop\\Projects\\bird_call_project\\Augmented Recordings\\Setophaga_magnolia_Michigan_Petersburg_SGA__31032_segment_9_aug_2.wav is too short or silent. Skipping.\n",
      "Warning: Audio file c:\\Users\\16148\\Desktop\\Projects\\bird_call_project\\Augmented Recordings\\Setophaga_magnolia_Michigan_Petersburg_SGA__31032_segment_10_aug_1.wav is too short or silent. Skipping.\n"
     ]
    },
    {
     "name": "stderr",
     "output_type": "stream",
     "text": [
      " 56%|█████▋    | 282/500 [00:37<00:23,  9.21it/s]"
     ]
    },
    {
     "name": "stdout",
     "output_type": "stream",
     "text": [
      "Warning: Audio file c:\\Users\\16148\\Desktop\\Projects\\bird_call_project\\Augmented Recordings\\Setophaga_castanea_Park_End_Dr_Montgomery_County_Ohio_477392_segment_18_aug_3.wav is too short or silent. Skipping.\n",
      "Warning: Audio file c:\\Users\\16148\\Desktop\\Projects\\bird_call_project\\Augmented Recordings\\Setophaga_castanea_Park_End_Dr_Montgomery_County_Ohio_477392_segment_19_aug_1.wav is too short or silent. Skipping.\n"
     ]
    },
    {
     "name": "stderr",
     "output_type": "stream",
     "text": [
      " 69%|██████▊   | 343/500 [00:45<00:18,  8.49it/s]"
     ]
    },
    {
     "name": "stdout",
     "output_type": "stream",
     "text": [
      "Warning: Audio file c:\\Users\\16148\\Desktop\\Projects\\bird_call_project\\Augmented Recordings\\Setophaga_castanea_Pelee_near__Leamington_Essex_County_Ontario_476520_segment_8_aug_1.wav is too short or silent. Skipping.\n"
     ]
    },
    {
     "name": "stderr",
     "output_type": "stream",
     "text": [
      " 82%|████████▏ | 412/500 [00:54<00:11,  7.73it/s]"
     ]
    },
    {
     "name": "stdout",
     "output_type": "stream",
     "text": [
      "Warning: Audio file c:\\Users\\16148\\Desktop\\Projects\\bird_call_project\\Augmented Recordings\\Setophaga_castanea_Park_End_Dr_Montgomery_County_Ohio_477393_segment_21_aug_1.wav is too short or silent. Skipping.\n"
     ]
    },
    {
     "name": "stderr",
     "output_type": "stream",
     "text": [
      " 84%|████████▍ | 420/500 [00:56<00:10,  7.94it/s]"
     ]
    },
    {
     "name": "stdout",
     "output_type": "stream",
     "text": [
      "Warning: Audio file c:\\Users\\16148\\Desktop\\Projects\\bird_call_project\\Augmented Recordings\\Setophaga_fusca_Shawnee_State_Forest_Scioto_County_Ohio_417442_segment_1_aug_3.wav is too short or silent. Skipping.\n"
     ]
    },
    {
     "name": "stderr",
     "output_type": "stream",
     "text": [
      " 92%|█████████▏| 458/500 [01:01<00:04,  9.06it/s]"
     ]
    },
    {
     "name": "stdout",
     "output_type": "stream",
     "text": [
      "Warning: Audio file c:\\Users\\16148\\Desktop\\Projects\\bird_call_project\\Augmented Recordings\\Setophaga_aestiva_Magee_Marsh_-_boardwalk_Lucas_County_Ohio_939866_segment_7_aug_2.wav is too short or silent. Skipping.\n",
      "Warning: Audio file c:\\Users\\16148\\Desktop\\Projects\\bird_call_project\\Augmented Recordings\\Setophaga_aestiva_Magee_Marsh_-_boardwalk_Lucas_County_Ohio_939866_segment_7_aug_3.wav is too short or silent. Skipping.\n"
     ]
    },
    {
     "name": "stderr",
     "output_type": "stream",
     "text": [
      "100%|██████████| 500/500 [01:06<00:00,  7.51it/s]\n",
      "  4%|▍         | 22/500 [00:03<01:01,  7.77it/s]"
     ]
    },
    {
     "name": "stdout",
     "output_type": "stream",
     "text": [
      "Warning: Audio file c:\\Users\\16148\\Desktop\\Projects\\bird_call_project\\Augmented Recordings\\Setophaga_aestiva_Magee_Marsh_-_boardwalk_Lucas_County_Ohio_828200_segment_1_aug_3.wav is too short or silent. Skipping.\n",
      "Warning: Audio file c:\\Users\\16148\\Desktop\\Projects\\bird_call_project\\Augmented Recordings\\Setophaga_aestiva_Magee_Marsh_-_boardwalk_Lucas_County_Ohio_828200_segment_2_aug_2.wav is too short or silent. Skipping.\n"
     ]
    },
    {
     "name": "stderr",
     "output_type": "stream",
     "text": [
      " 11%|█         | 53/500 [00:06<00:49,  9.10it/s]"
     ]
    },
    {
     "name": "stdout",
     "output_type": "stream",
     "text": [
      "Warning: Audio file c:\\Users\\16148\\Desktop\\Projects\\bird_call_project\\Augmented Recordings\\Setophaga_aestiva_Magee_Marsh_-_boardwalk_Lucas_County_Ohio_828200_segment_12_aug_1.wav is too short or silent. Skipping.\n",
      "Warning: Audio file c:\\Users\\16148\\Desktop\\Projects\\bird_call_project\\Augmented Recordings\\Setophaga_aestiva_Magee_Marsh_-_boardwalk_Lucas_County_Ohio_828200_segment_12_aug_2.wav is too short or silent. Skipping.\n"
     ]
    },
    {
     "name": "stderr",
     "output_type": "stream",
     "text": [
      " 17%|█▋        | 84/500 [00:11<00:52,  7.96it/s]"
     ]
    },
    {
     "name": "stdout",
     "output_type": "stream",
     "text": [
      "Warning: Audio file c:\\Users\\16148\\Desktop\\Projects\\bird_call_project\\Augmented Recordings\\Setophaga_aestiva_Magee_Marsh_-_boardwalk_Lucas_County_Ohio_828199_segment_4_aug_2.wav is too short or silent. Skipping.\n"
     ]
    },
    {
     "name": "stderr",
     "output_type": "stream",
     "text": [
      " 22%|██▏       | 111/500 [00:15<00:47,  8.16it/s]"
     ]
    },
    {
     "name": "stdout",
     "output_type": "stream",
     "text": [
      "Warning: Audio file c:\\Users\\16148\\Desktop\\Projects\\bird_call_project\\Augmented Recordings\\Setophaga_aestiva_Magee_Marsh_-_boardwalk_Lucas_County_Ohio_828198_segment_8_aug_2.wav is too short or silent. Skipping.\n"
     ]
    },
    {
     "name": "stderr",
     "output_type": "stream",
     "text": [
      " 52%|█████▏    | 262/500 [00:36<00:37,  6.38it/s]"
     ]
    },
    {
     "name": "stdout",
     "output_type": "stream",
     "text": [
      "Warning: Audio file c:\\Users\\16148\\Desktop\\Projects\\bird_call_project\\Augmented Recordings\\Setophaga_aestiva_Magee_Marsh_-_boardwalk_Lucas_County_Ohio_828197_segment_32_aug_1.wav is too short or silent. Skipping.\n"
     ]
    },
    {
     "name": "stderr",
     "output_type": "stream",
     "text": [
      " 58%|█████▊    | 292/500 [00:41<00:26,  7.81it/s]"
     ]
    },
    {
     "name": "stdout",
     "output_type": "stream",
     "text": [
      "Warning: Audio file c:\\Users\\16148\\Desktop\\Projects\\bird_call_project\\Augmented Recordings\\Setophaga_aestiva_Magee_Marsh_-_boardwalk_Lucas_County_Ohio_828196_segment_9_aug_3.wav is too short or silent. Skipping.\n"
     ]
    },
    {
     "name": "stderr",
     "output_type": "stream",
     "text": [
      " 60%|██████    | 302/500 [00:42<00:23,  8.57it/s]"
     ]
    },
    {
     "name": "stdout",
     "output_type": "stream",
     "text": [
      "Warning: Audio file c:\\Users\\16148\\Desktop\\Projects\\bird_call_project\\Augmented Recordings\\Setophaga_aestiva_Magee_Marsh_-_boardwalk_Lucas_County_Ohio_828196_segment_14_aug_1.wav is too short or silent. Skipping.\n"
     ]
    },
    {
     "name": "stderr",
     "output_type": "stream",
     "text": [
      " 62%|██████▏   | 308/500 [00:43<00:22,  8.49it/s]"
     ]
    },
    {
     "name": "stdout",
     "output_type": "stream",
     "text": [
      "Warning: Audio file c:\\Users\\16148\\Desktop\\Projects\\bird_call_project\\Augmented Recordings\\Setophaga_aestiva_Whitewater_Township_near__Harrison_Hamilton_County_Ohio_726808_segment_0_aug_1.wav is too short or silent. Skipping.\n"
     ]
    },
    {
     "name": "stderr",
     "output_type": "stream",
     "text": [
      " 64%|██████▍   | 320/500 [00:45<00:21,  8.32it/s]"
     ]
    },
    {
     "name": "stdout",
     "output_type": "stream",
     "text": [
      "Warning: Audio file c:\\Users\\16148\\Desktop\\Projects\\bird_call_project\\Augmented Recordings\\Setophaga_aestiva_Whitewater_Township_near__Harrison_Hamilton_County_Ohio_726808_segment_4_aug_1.wav is too short or silent. Skipping.\n"
     ]
    },
    {
     "name": "stderr",
     "output_type": "stream",
     "text": [
      " 76%|███████▋  | 382/500 [00:53<00:14,  8.15it/s]"
     ]
    },
    {
     "name": "stdout",
     "output_type": "stream",
     "text": [
      "Warning: Audio file c:\\Users\\16148\\Desktop\\Projects\\bird_call_project\\Augmented Recordings\\Setophaga_aestiva_Maumee_Bay_State_Park_Lucas_County_Ohio_803613_segment_4_aug_3.wav is too short or silent. Skipping.\n"
     ]
    },
    {
     "name": "stderr",
     "output_type": "stream",
     "text": [
      " 78%|███████▊  | 390/500 [00:54<00:13,  8.12it/s]"
     ]
    },
    {
     "name": "stdout",
     "output_type": "stream",
     "text": [
      "Warning: Audio file c:\\Users\\16148\\Desktop\\Projects\\bird_call_project\\Augmented Recordings\\Setophaga_aestiva_Maumee_Bay_State_Park_Lucas_County_Ohio_803613_segment_7_aug_2.wav is too short or silent. Skipping.\n"
     ]
    },
    {
     "name": "stderr",
     "output_type": "stream",
     "text": [
      " 83%|████████▎ | 416/500 [00:57<00:10,  8.13it/s]"
     ]
    },
    {
     "name": "stdout",
     "output_type": "stream",
     "text": [
      "Warning: Audio file c:\\Users\\16148\\Desktop\\Projects\\bird_call_project\\Augmented Recordings\\Setophaga_aestiva_Maumee_Bay_State_Park_Lucas_County_Ohio_803613_segment_16_aug_1.wav is too short or silent. Skipping.\n"
     ]
    },
    {
     "name": "stderr",
     "output_type": "stream",
     "text": [
      " 89%|████████▉ | 444/500 [01:01<00:06,  8.08it/s]"
     ]
    },
    {
     "name": "stdout",
     "output_type": "stream",
     "text": [
      "Warning: Audio file c:\\Users\\16148\\Desktop\\Projects\\bird_call_project\\Augmented Recordings\\Setophaga_aestiva_Ohio_Crane_Creek_SP_17039_segment_7_aug_2.wav is too short or silent. Skipping.\n"
     ]
    },
    {
     "name": "stderr",
     "output_type": "stream",
     "text": [
      "100%|██████████| 500/500 [01:08<00:00,  7.26it/s]\n"
     ]
    },
    {
     "name": "stdout",
     "output_type": "stream",
     "text": [
      "Warning: Audio file c:\\Users\\16148\\Desktop\\Projects\\bird_call_project\\Augmented Recordings\\Setophaga_aestiva_Ohio_Crane_Creek_SP_17037_segment_6_aug_1.wav is too short or silent. Skipping.\n"
     ]
    },
    {
     "name": "stderr",
     "output_type": "stream",
     "text": [
      "  1%|          | 6/500 [00:00<00:53,  9.31it/s]"
     ]
    },
    {
     "name": "stdout",
     "output_type": "stream",
     "text": [
      "Warning: Audio file c:\\Users\\16148\\Desktop\\Projects\\bird_call_project\\Augmented Recordings\\Setophaga_aestiva_Ohio_Crane_Creek_SP_17037_segment_8_aug_1.wav is too short or silent. Skipping.\n",
      "Warning: Audio file c:\\Users\\16148\\Desktop\\Projects\\bird_call_project\\Augmented Recordings\\Setophaga_aestiva_Ohio_Crane_Creek_SP_17037_segment_8_aug_2.wav is too short or silent. Skipping.\n"
     ]
    },
    {
     "name": "stderr",
     "output_type": "stream",
     "text": [
      " 16%|█▌        | 80/500 [00:10<00:52,  7.95it/s]"
     ]
    },
    {
     "name": "stdout",
     "output_type": "stream",
     "text": [
      "Warning: Audio file c:\\Users\\16148\\Desktop\\Projects\\bird_call_project\\Augmented Recordings\\Setophaga_pensylvanica_Magee_Marsh_-_boardwalk_Lucas_County_Ohio_827845_segment_11_aug_3.wav is too short or silent. Skipping.\n"
     ]
    },
    {
     "name": "stderr",
     "output_type": "stream",
     "text": [
      " 17%|█▋        | 84/500 [00:11<00:52,  7.91it/s]"
     ]
    },
    {
     "name": "stdout",
     "output_type": "stream",
     "text": [
      "Warning: Audio file c:\\Users\\16148\\Desktop\\Projects\\bird_call_project\\Augmented Recordings\\Setophaga_pensylvanica_Magee_Marsh_-_boardwalk_Lucas_County_Ohio_827845_segment_13_aug_1.wav is too short or silent. Skipping.\n"
     ]
    },
    {
     "name": "stderr",
     "output_type": "stream",
     "text": [
      " 48%|████▊     | 238/500 [00:32<00:33,  7.72it/s]"
     ]
    },
    {
     "name": "stdout",
     "output_type": "stream",
     "text": [
      "Warning: Audio file c:\\Users\\16148\\Desktop\\Projects\\bird_call_project\\Augmented Recordings\\Setophaga_pensylvanica_Magee_Marsh_-_boardwalk_Lucas_County_Ohio_827845_segment_65_aug_2.wav is too short or silent. Skipping.\n"
     ]
    },
    {
     "name": "stderr",
     "output_type": "stream",
     "text": [
      " 48%|████▊     | 242/500 [00:32<00:32,  8.02it/s]"
     ]
    },
    {
     "name": "stdout",
     "output_type": "stream",
     "text": [
      "Warning: Audio file c:\\Users\\16148\\Desktop\\Projects\\bird_call_project\\Augmented Recordings\\Setophaga_pensylvanica_Magee_Marsh_-_boardwalk_Lucas_County_Ohio_827845_segment_66_aug_3.wav is too short or silent. Skipping.\n"
     ]
    },
    {
     "name": "stderr",
     "output_type": "stream",
     "text": [
      " 59%|█████▉    | 296/500 [00:39<00:25,  7.93it/s]"
     ]
    },
    {
     "name": "stdout",
     "output_type": "stream",
     "text": [
      "Warning: Audio file c:\\Users\\16148\\Desktop\\Projects\\bird_call_project\\Augmented Recordings\\Setophaga_pensylvanica_Magee_Marsh_-_boardwalk_Lucas_County_Ohio_827845_segment_85_aug_3.wav is too short or silent. Skipping.\n"
     ]
    },
    {
     "name": "stderr",
     "output_type": "stream",
     "text": [
      " 68%|██████▊   | 342/500 [00:45<00:17,  8.79it/s]"
     ]
    },
    {
     "name": "stdout",
     "output_type": "stream",
     "text": [
      "Warning: Audio file c:\\Users\\16148\\Desktop\\Projects\\bird_call_project\\Augmented Recordings\\Setophaga_pensylvanica_Magee_Marsh_-_boardwalk_Lucas_County_Ohio_827843_segment_1_aug_1.wav is too short or silent. Skipping.\n"
     ]
    },
    {
     "name": "stderr",
     "output_type": "stream",
     "text": [
      " 70%|███████   | 352/500 [00:47<00:19,  7.72it/s]"
     ]
    },
    {
     "name": "stdout",
     "output_type": "stream",
     "text": [
      "Warning: Audio file c:\\Users\\16148\\Desktop\\Projects\\bird_call_project\\Augmented Recordings\\Setophaga_striata_Whitewater_Township_near__Harrison_Hamilton_County_Ohio_726810_segment_1_aug_2.wav is too short or silent. Skipping.\n"
     ]
    },
    {
     "name": "stderr",
     "output_type": "stream",
     "text": [
      " 95%|█████████▌| 477/500 [01:06<00:02,  8.92it/s]"
     ]
    },
    {
     "name": "stdout",
     "output_type": "stream",
     "text": [
      "Warning: Audio file c:\\Users\\16148\\Desktop\\Projects\\bird_call_project\\Augmented Recordings\\Setophaga_caerulescens_Magee_Marsh_-_boardwalk_Lucas_County_Ohio_827750_segment_23_aug_1.wav is too short or silent. Skipping.\n",
      "Warning: Audio file c:\\Users\\16148\\Desktop\\Projects\\bird_call_project\\Augmented Recordings\\Setophaga_caerulescens_Magee_Marsh_-_boardwalk_Lucas_County_Ohio_827750_segment_23_aug_2.wav is too short or silent. Skipping.\n"
     ]
    },
    {
     "name": "stderr",
     "output_type": "stream",
     "text": [
      "100%|██████████| 500/500 [01:09<00:00,  7.22it/s]\n",
      "  1%|          | 4/500 [00:00<01:02,  7.89it/s]"
     ]
    },
    {
     "name": "stdout",
     "output_type": "stream",
     "text": [
      "Warning: Audio file c:\\Users\\16148\\Desktop\\Projects\\bird_call_project\\Augmented Recordings\\Setophaga_palmarum_Ohio_Crane_Creek_SP_17030_segment_8_aug_1.wav is too short or silent. Skipping.\n"
     ]
    },
    {
     "name": "stderr",
     "output_type": "stream",
     "text": [
      " 14%|█▍        | 70/500 [00:09<00:55,  7.80it/s]"
     ]
    },
    {
     "name": "stdout",
     "output_type": "stream",
     "text": [
      "Warning: Audio file c:\\Users\\16148\\Desktop\\Projects\\bird_call_project\\Augmented Recordings\\Setophaga_palmarum_Ohio_Crane_Creek_SP_17029_segment_6_aug_1.wav is too short or silent. Skipping.\n"
     ]
    },
    {
     "name": "stderr",
     "output_type": "stream",
     "text": [
      " 15%|█▌        | 75/500 [00:09<00:51,  8.26it/s]"
     ]
    },
    {
     "name": "stdout",
     "output_type": "stream",
     "text": [
      "Warning: Audio file c:\\Users\\16148\\Desktop\\Projects\\bird_call_project\\Augmented Recordings\\Setophaga_palmarum_Ohio_Crane_Creek_SP_17029_segment_7_aug_3.wav is too short or silent. Skipping.\n"
     ]
    },
    {
     "name": "stderr",
     "output_type": "stream",
     "text": [
      " 24%|██▍       | 122/500 [00:16<00:45,  8.27it/s]"
     ]
    },
    {
     "name": "stdout",
     "output_type": "stream",
     "text": [
      "Warning: Audio file c:\\Users\\16148\\Desktop\\Projects\\bird_call_project\\Augmented Recordings\\Setophaga_pinus_Cuyahoga_Valley_National_Park_Wetmore_Trail_662930_segment_15_aug_2.wav is too short or silent. Skipping.\n"
     ]
    },
    {
     "name": "stderr",
     "output_type": "stream",
     "text": [
      " 26%|██▌       | 128/500 [00:17<00:47,  7.77it/s]"
     ]
    },
    {
     "name": "stdout",
     "output_type": "stream",
     "text": [
      "Warning: Audio file c:\\Users\\16148\\Desktop\\Projects\\bird_call_project\\Augmented Recordings\\Setophaga_pinus_Miami_Township_near__Cleves_Hamilton_County_Ohio_548088_segment_1_aug_2.wav is too short or silent. Skipping.\n"
     ]
    },
    {
     "name": "stderr",
     "output_type": "stream",
     "text": [
      " 38%|███▊      | 189/500 [00:25<00:33,  9.18it/s]"
     ]
    },
    {
     "name": "stdout",
     "output_type": "stream",
     "text": [
      "Warning: Audio file c:\\Users\\16148\\Desktop\\Projects\\bird_call_project\\Augmented Recordings\\Setophaga_pinus_Miami_Township_near__Cleves_Hamilton_County_Ohio_548084_segment_12_aug_3.wav is too short or silent. Skipping.\n"
     ]
    },
    {
     "name": "stderr",
     "output_type": "stream",
     "text": [
      " 39%|███▉      | 195/500 [00:26<00:37,  8.20it/s]"
     ]
    },
    {
     "name": "stdout",
     "output_type": "stream",
     "text": [
      "Warning: Audio file c:\\Users\\16148\\Desktop\\Projects\\bird_call_project\\Augmented Recordings\\Setophaga_pinus_Miami_Township_near__Cleves_Hamilton_County_Ohio_548084_segment_15_aug_3.wav is too short or silent. Skipping.\n"
     ]
    },
    {
     "name": "stderr",
     "output_type": "stream",
     "text": [
      " 43%|████▎     | 216/500 [00:29<00:35,  7.95it/s]"
     ]
    },
    {
     "name": "stdout",
     "output_type": "stream",
     "text": [
      "Warning: Audio file c:\\Users\\16148\\Desktop\\Projects\\bird_call_project\\Augmented Recordings\\Setophaga_pinus_Miami_Township_near__Cleves_Hamilton_County_Ohio_548084_segment_22_aug_3.wav is too short or silent. Skipping.\n"
     ]
    },
    {
     "name": "stderr",
     "output_type": "stream",
     "text": [
      " 45%|████▌     | 225/500 [00:30<00:36,  7.58it/s]"
     ]
    },
    {
     "name": "stdout",
     "output_type": "stream",
     "text": [
      "Warning: Audio file c:\\Users\\16148\\Desktop\\Projects\\bird_call_project\\Augmented Recordings\\Setophaga_pinus_Miami_Township_near__Cleves_Hamilton_County_Ohio_548084_segment_25_aug_3.wav is too short or silent. Skipping.\n"
     ]
    },
    {
     "name": "stderr",
     "output_type": "stream",
     "text": [
      " 54%|█████▍    | 272/500 [00:36<00:28,  8.05it/s]"
     ]
    },
    {
     "name": "stdout",
     "output_type": "stream",
     "text": [
      "Warning: Audio file c:\\Users\\16148\\Desktop\\Projects\\bird_call_project\\Augmented Recordings\\Setophaga_coronata_Anderson_near__Cincinnati_Hamilton_County_Ohio_237811_segment_6_aug_2.wav is too short or silent. Skipping.\n"
     ]
    },
    {
     "name": "stderr",
     "output_type": "stream",
     "text": [
      " 56%|█████▌    | 278/500 [00:37<00:25,  8.61it/s]"
     ]
    },
    {
     "name": "stdout",
     "output_type": "stream",
     "text": [
      "Warning: Audio file c:\\Users\\16148\\Desktop\\Projects\\bird_call_project\\Augmented Recordings\\Setophaga_coronata_Anderson_near__Cincinnati_Hamilton_County_Ohio_237811_segment_8_aug_2.wav is too short or silent. Skipping.\n"
     ]
    },
    {
     "name": "stderr",
     "output_type": "stream",
     "text": [
      " 85%|████████▌ | 427/500 [00:57<00:08,  8.40it/s]"
     ]
    },
    {
     "name": "stdout",
     "output_type": "stream",
     "text": [
      "Warning: Audio file c:\\Users\\16148\\Desktop\\Projects\\bird_call_project\\Augmented Recordings\\Cardellina_canadensis_Magee_Marsh_-_boardwalk_Lucas_County_Ohio_827828_segment_2_aug_1.wav is too short or silent. Skipping.\n"
     ]
    },
    {
     "name": "stderr",
     "output_type": "stream",
     "text": [
      " 90%|█████████ | 451/500 [01:00<00:05,  8.88it/s]"
     ]
    },
    {
     "name": "stdout",
     "output_type": "stream",
     "text": [
      "Warning: Audio file c:\\Users\\16148\\Desktop\\Projects\\bird_call_project\\Augmented Recordings\\Cardellina_canadensis_Magee_Marsh_-_boardwalk_Lucas_County_Ohio_827828_segment_10_aug_1.wav is too short or silent. Skipping.\n",
      "Warning: Audio file c:\\Users\\16148\\Desktop\\Projects\\bird_call_project\\Augmented Recordings\\Cardellina_canadensis_Magee_Marsh_-_boardwalk_Lucas_County_Ohio_827828_segment_10_aug_2.wav is too short or silent. Skipping.\n"
     ]
    },
    {
     "name": "stderr",
     "output_type": "stream",
     "text": [
      " 97%|█████████▋| 485/500 [01:05<00:02,  7.46it/s]"
     ]
    },
    {
     "name": "stdout",
     "output_type": "stream",
     "text": [
      "Warning: Audio file c:\\Users\\16148\\Desktop\\Projects\\bird_call_project\\Augmented Recordings\\Cardellina_canadensis_Magee_Marsh_-_boardwalk_Lucas_County_Ohio_827828_segment_21_aug_2.wav is too short or silent. Skipping.\n"
     ]
    },
    {
     "name": "stderr",
     "output_type": "stream",
     "text": [
      "100%|██████████| 500/500 [01:07<00:00,  7.42it/s]\n",
      "  2%|▏         | 9/500 [00:01<00:59,  8.22it/s]"
     ]
    },
    {
     "name": "stdout",
     "output_type": "stream",
     "text": [
      "Warning: Audio file c:\\Users\\16148\\Desktop\\Projects\\bird_call_project\\Augmented Recordings\\Cardellina_canadensis_OSU's_Waterman_Farm_wood_lot_Columbus_Franklin_County_Ohio_179691_segment_7_aug_2.wav is too short or silent. Skipping.\n",
      "Warning: Audio file c:\\Users\\16148\\Desktop\\Projects\\bird_call_project\\Augmented Recordings\\Cardellina_canadensis_OSU's_Waterman_Farm_wood_lot_Columbus_Franklin_County_Ohio_179691_segment_7_aug_3.wav is too short or silent. Skipping.\n"
     ]
    },
    {
     "name": "stderr",
     "output_type": "stream",
     "text": [
      "  7%|▋         | 33/500 [00:04<00:58,  8.03it/s]"
     ]
    },
    {
     "name": "stdout",
     "output_type": "stream",
     "text": [
      "Warning: Audio file c:\\Users\\16148\\Desktop\\Projects\\bird_call_project\\Augmented Recordings\\Cardellina_canadensis_OSU's_Waterman_Farm_wood_lot_Columbus_Franklin_County_Ohio_179691_segment_15_aug_2.wav is too short or silent. Skipping.\n"
     ]
    },
    {
     "name": "stderr",
     "output_type": "stream",
     "text": [
      "  7%|▋         | 35/500 [00:04<00:59,  7.85it/s]"
     ]
    },
    {
     "name": "stdout",
     "output_type": "stream",
     "text": [
      "Warning: Audio file c:\\Users\\16148\\Desktop\\Projects\\bird_call_project\\Augmented Recordings\\Cardellina_canadensis_OSU's_Waterman_Farm_wood_lot_Columbus_Franklin_County_Ohio_179691_segment_16_aug_2.wav is too short or silent. Skipping.\n",
      "Warning: Audio file c:\\Users\\16148\\Desktop\\Projects\\bird_call_project\\Augmented Recordings\\Cardellina_canadensis_OSU's_Waterman_Farm_wood_lot_Columbus_Franklin_County_Ohio_179691_segment_16_aug_3.wav is too short or silent. Skipping.\n"
     ]
    },
    {
     "name": "stderr",
     "output_type": "stream",
     "text": [
      " 17%|█▋        | 86/500 [00:11<00:53,  7.72it/s]"
     ]
    },
    {
     "name": "stdout",
     "output_type": "stream",
     "text": [
      "Warning: Audio file c:\\Users\\16148\\Desktop\\Projects\\bird_call_project\\Augmented Recordings\\Cardellina_canadensis_OSU's_Waterman_Farm_wood_lot_Columbus_Franklin_County_Ohio_179679_segment_16_aug_1.wav is too short or silent. Skipping.\n"
     ]
    },
    {
     "name": "stderr",
     "output_type": "stream",
     "text": [
      " 40%|███▉      | 198/500 [00:27<00:37,  8.02it/s]"
     ]
    },
    {
     "name": "stdout",
     "output_type": "stream",
     "text": [
      "Warning: Audio file c:\\Users\\16148\\Desktop\\Projects\\bird_call_project\\Augmented Recordings\\Cardellina_canadensis_OSU's_Waterman_Farm_wood_lot_Columbus_Franklin_County_Ohio_179679_segment_53_aug_2.wav is too short or silent. Skipping.\n"
     ]
    },
    {
     "name": "stderr",
     "output_type": "stream",
     "text": [
      " 56%|█████▌    | 281/500 [00:38<00:27,  7.88it/s]"
     ]
    },
    {
     "name": "stdout",
     "output_type": "stream",
     "text": [
      "Warning: Audio file c:\\Users\\16148\\Desktop\\Projects\\bird_call_project\\Augmented Recordings\\Cardellina_canadensis_OSU's_Waterman_Farm_wood_lot_Columbus_Franklin_County_Ohio_179679_segment_81_aug_1.wav is too short or silent. Skipping.\n"
     ]
    },
    {
     "name": "stderr",
     "output_type": "stream",
     "text": [
      " 61%|██████    | 305/500 [00:43<00:32,  6.02it/s]"
     ]
    },
    {
     "name": "stdout",
     "output_type": "stream",
     "text": [
      "Warning: Audio file c:\\Users\\16148\\Desktop\\Projects\\bird_call_project\\Augmented Recordings\\Cardellina_canadensis_OSU's_Waterman_Farm_wood_lot_Columbus_Franklin_County_Ohio_179679_segment_89_aug_1.wav is too short or silent. Skipping.\n",
      "Warning: Audio file c:\\Users\\16148\\Desktop\\Projects\\bird_call_project\\Augmented Recordings\\Cardellina_canadensis_OSU's_Waterman_Farm_wood_lot_Columbus_Franklin_County_Ohio_179679_segment_89_aug_2.wav is too short or silent. Skipping.\n"
     ]
    },
    {
     "name": "stderr",
     "output_type": "stream",
     "text": [
      " 80%|████████  | 402/500 [00:55<00:11,  8.57it/s]"
     ]
    },
    {
     "name": "stdout",
     "output_type": "stream",
     "text": [
      "Warning: Audio file c:\\Users\\16148\\Desktop\\Projects\\bird_call_project\\Augmented Recordings\\Cardellina_canadensis_OSU's_Waterman_Farm_wood_lot_Columbus_Franklin_County_Ohio_179676_segment_31_aug_2.wav is too short or silent. Skipping.\n"
     ]
    },
    {
     "name": "stderr",
     "output_type": "stream",
     "text": [
      " 85%|████████▌ | 425/500 [00:59<00:08,  8.83it/s]"
     ]
    },
    {
     "name": "stdout",
     "output_type": "stream",
     "text": [
      "Warning: Audio file c:\\Users\\16148\\Desktop\\Projects\\bird_call_project\\Augmented Recordings\\Cardellina_canadensis_OSU's_Waterman_Farm_wood_lot_Columbus_Franklin_County_Ohio_179676_segment_39_aug_1.wav is too short or silent. Skipping.\n"
     ]
    },
    {
     "name": "stderr",
     "output_type": "stream",
     "text": [
      " 96%|█████████▌| 479/500 [01:06<00:02,  8.13it/s]"
     ]
    },
    {
     "name": "stdout",
     "output_type": "stream",
     "text": [
      "Warning: Audio file c:\\Users\\16148\\Desktop\\Projects\\bird_call_project\\Augmented Recordings\\Cardellina_canadensis_OSU's_Waterman_Farm_wood_lot_Columbus_Franklin_County_Ohio_179676_segment_57_aug_1.wav is too short or silent. Skipping.\n"
     ]
    },
    {
     "name": "stderr",
     "output_type": "stream",
     "text": [
      "100%|██████████| 500/500 [01:09<00:00,  7.21it/s]\n",
      " 11%|█         | 53/500 [00:07<00:55,  8.07it/s]"
     ]
    },
    {
     "name": "stdout",
     "output_type": "stream",
     "text": [
      "Warning: Audio file c:\\Users\\16148\\Desktop\\Projects\\bird_call_project\\Augmented Recordings\\Cardellina_canadensis_OSU's_Waterman_Farm_wood_lot_Columbus_Franklin_County_Ohio_179676_segment_81_aug_3.wav is too short or silent. Skipping.\n"
     ]
    },
    {
     "name": "stderr",
     "output_type": "stream",
     "text": [
      " 58%|█████▊    | 291/500 [00:38<00:26,  8.02it/s]"
     ]
    },
    {
     "name": "stdout",
     "output_type": "stream",
     "text": [
      "Warning: Audio file c:\\Users\\16148\\Desktop\\Projects\\bird_call_project\\Augmented Recordings\\Cardellina_pusilla_Magee_Marsh_-_boardwalk_Lucas_County_Ohio_828187_segment_61_aug_1.wav is too short or silent. Skipping.\n"
     ]
    },
    {
     "name": "stderr",
     "output_type": "stream",
     "text": [
      " 61%|██████    | 303/500 [00:40<00:24,  7.97it/s]"
     ]
    },
    {
     "name": "stdout",
     "output_type": "stream",
     "text": [
      "Warning: Audio file c:\\Users\\16148\\Desktop\\Projects\\bird_call_project\\Augmented Recordings\\Piranga_rubra_Kitty_Todd_Nature_Preserve_Spencer_Township_Lucas_County_Ohio_923981_segment_2_aug_1.wav is too short or silent. Skipping.\n"
     ]
    },
    {
     "name": "stderr",
     "output_type": "stream",
     "text": [
      " 62%|██████▏   | 309/500 [00:41<00:22,  8.35it/s]"
     ]
    },
    {
     "name": "stdout",
     "output_type": "stream",
     "text": [
      "Warning: Audio file c:\\Users\\16148\\Desktop\\Projects\\bird_call_project\\Augmented Recordings\\Piranga_rubra_Kitty_Todd_Nature_Preserve_Spencer_Township_Lucas_County_Ohio_923981_segment_4_aug_1.wav is too short or silent. Skipping.\n"
     ]
    },
    {
     "name": "stderr",
     "output_type": "stream",
     "text": [
      " 74%|███████▍  | 372/500 [00:49<00:14,  8.96it/s]"
     ]
    },
    {
     "name": "stdout",
     "output_type": "stream",
     "text": [
      "Warning: Audio file c:\\Users\\16148\\Desktop\\Projects\\bird_call_project\\Augmented Recordings\\Piranga_olivacea_Whitewater_Township_near__Cleves_Hamilton_County_Ohio_896571_segment_5_aug_1.wav is too short or silent. Skipping.\n"
     ]
    },
    {
     "name": "stderr",
     "output_type": "stream",
     "text": [
      " 90%|█████████ | 450/500 [00:59<00:05,  8.97it/s]"
     ]
    },
    {
     "name": "stdout",
     "output_type": "stream",
     "text": [
      "Warning: Audio file c:\\Users\\16148\\Desktop\\Projects\\bird_call_project\\Augmented Recordings\\Piranga_olivacea_East_Fork_Lake_SP_Clermont_County_Ohio_416550_segment_13_aug_1.wav is too short or silent. Skipping.\n",
      "Warning: Audio file c:\\Users\\16148\\Desktop\\Projects\\bird_call_project\\Augmented Recordings\\Piranga_olivacea_East_Fork_Lake_SP_Clermont_County_Ohio_416550_segment_13_aug_3.wav is too short or silent. Skipping.\n"
     ]
    },
    {
     "name": "stderr",
     "output_type": "stream",
     "text": [
      " 94%|█████████▍| 470/500 [01:02<00:03,  7.87it/s]"
     ]
    },
    {
     "name": "stdout",
     "output_type": "stream",
     "text": [
      "Warning: Audio file c:\\Users\\16148\\Desktop\\Projects\\bird_call_project\\Augmented Recordings\\Pheucticus_ludovicianus_Harrison_Township_near__Harrison_Hamilton_County_Ohio_726850_segment_5_aug_3.wav is too short or silent. Skipping.\n"
     ]
    },
    {
     "name": "stderr",
     "output_type": "stream",
     "text": [
      "100%|██████████| 500/500 [01:06<00:00,  7.50it/s]\n",
      "  3%|▎         | 15/500 [00:02<01:03,  7.65it/s]"
     ]
    },
    {
     "name": "stdout",
     "output_type": "stream",
     "text": [
      "Warning: Audio file c:\\Users\\16148\\Desktop\\Projects\\bird_call_project\\Augmented Recordings\\Pheucticus_ludovicianus_Harrison_Township_near__Harrison_Hamilton_County_Ohio_726850_segment_20_aug_3.wav is too short or silent. Skipping.\n"
     ]
    },
    {
     "name": "stderr",
     "output_type": "stream",
     "text": [
      " 29%|██▉       | 145/500 [00:20<00:42,  8.41it/s]"
     ]
    },
    {
     "name": "stdout",
     "output_type": "stream",
     "text": [
      "Warning: Audio file c:\\Users\\16148\\Desktop\\Projects\\bird_call_project\\Augmented Recordings\\Pheucticus_ludovicianus_Oak_Openings_Metropark_Ohio_418070_segment_26_aug_1.wav is too short or silent. Skipping.\n",
      "Warning: Audio file c:\\Users\\16148\\Desktop\\Projects\\bird_call_project\\Augmented Recordings\\Pheucticus_ludovicianus_Oak_Openings_Metropark_Ohio_418070_segment_26_aug_2.wav is too short or silent. Skipping.\n"
     ]
    },
    {
     "name": "stderr",
     "output_type": "stream",
     "text": [
      " 32%|███▏      | 158/500 [00:22<00:38,  8.77it/s]"
     ]
    },
    {
     "name": "stdout",
     "output_type": "stream",
     "text": [
      "Warning: Audio file c:\\Users\\16148\\Desktop\\Projects\\bird_call_project\\Augmented Recordings\\Pheucticus_ludovicianus_Shawnee_State_Forest_Scioto_County_Ohio_417454_segment_3_aug_2.wav is too short or silent. Skipping.\n"
     ]
    },
    {
     "name": "stderr",
     "output_type": "stream",
     "text": [
      " 33%|███▎      | 167/500 [00:23<00:43,  7.65it/s]"
     ]
    },
    {
     "name": "stdout",
     "output_type": "stream",
     "text": [
      "Warning: Audio file c:\\Users\\16148\\Desktop\\Projects\\bird_call_project\\Augmented Recordings\\Pheucticus_ludovicianus_Point_Pelee_National_Park_Essex_County_Ontario_910738_segment_2_aug_2.wav is too short or silent. Skipping.\n"
     ]
    },
    {
     "name": "stderr",
     "output_type": "stream",
     "text": [
      " 50%|█████     | 252/500 [00:35<00:55,  4.46it/s]"
     ]
    },
    {
     "name": "stdout",
     "output_type": "stream",
     "text": [
      "Warning: Audio file c:\\Users\\16148\\Desktop\\Projects\\bird_call_project\\Augmented Recordings\\Pheucticus_ludovicianus_Ohio_Crane_Creek_SP_17044_segment_11_aug_1.wav is too short or silent. Skipping.\n"
     ]
    },
    {
     "name": "stderr",
     "output_type": "stream",
     "text": [
      " 56%|█████▌    | 281/500 [00:40<00:30,  7.10it/s]"
     ]
    },
    {
     "name": "stdout",
     "output_type": "stream",
     "text": [
      "Warning: Audio file c:\\Users\\16148\\Desktop\\Projects\\bird_call_project\\Augmented Recordings\\Cardinalis_cardinalis_Green_Township_near__Cincinnati_Hamilton_County_Ohio_716618_segment_5_aug_2.wav is too short or silent. Skipping.\n"
     ]
    },
    {
     "name": "stderr",
     "output_type": "stream",
     "text": [
      " 59%|█████▉    | 297/500 [00:42<00:26,  7.78it/s]"
     ]
    },
    {
     "name": "stdout",
     "output_type": "stream",
     "text": [
      "Warning: Audio file c:\\Users\\16148\\Desktop\\Projects\\bird_call_project\\Augmented Recordings\\Cardinalis_cardinalis_Green_Township_near__Cincinnati_Hamilton_County_Ohio_716618_segment_10_aug_3.wav is too short or silent. Skipping.\n"
     ]
    },
    {
     "name": "stderr",
     "output_type": "stream",
     "text": [
      " 72%|███████▏  | 358/500 [00:50<00:17,  8.01it/s]"
     ]
    },
    {
     "name": "stdout",
     "output_type": "stream",
     "text": [
      "Warning: Audio file c:\\Users\\16148\\Desktop\\Projects\\bird_call_project\\Augmented Recordings\\Cardinalis_cardinalis_Green_Township_near__Cincinnati_Hamilton_County_Ohio_716618_segment_31_aug_1.wav is too short or silent. Skipping.\n"
     ]
    },
    {
     "name": "stderr",
     "output_type": "stream",
     "text": [
      " 92%|█████████▏| 461/500 [01:04<00:04,  8.10it/s]"
     ]
    },
    {
     "name": "stdout",
     "output_type": "stream",
     "text": [
      "Warning: Audio file c:\\Users\\16148\\Desktop\\Projects\\bird_call_project\\Augmented Recordings\\Cardinalis_cardinalis_Miami_Township_near__Cleves_Hamilton_County_Ohio_713583_segment_9_aug_2.wav is too short or silent. Skipping.\n"
     ]
    },
    {
     "name": "stderr",
     "output_type": "stream",
     "text": [
      "100%|██████████| 500/500 [01:09<00:00,  7.18it/s]\n",
      "  1%|          | 3/500 [00:00<00:56,  8.82it/s]"
     ]
    },
    {
     "name": "stdout",
     "output_type": "stream",
     "text": [
      "Warning: Audio file c:\\Users\\16148\\Desktop\\Projects\\bird_call_project\\Augmented Recordings\\Cardinalis_cardinalis_Miami_Township_near__Cleves_Hamilton_County_Ohio_713583_segment_23_aug_2.wav is too short or silent. Skipping.\n"
     ]
    },
    {
     "name": "stderr",
     "output_type": "stream",
     "text": [
      "  5%|▌         | 25/500 [00:03<00:57,  8.33it/s]"
     ]
    },
    {
     "name": "stdout",
     "output_type": "stream",
     "text": [
      "Warning: Audio file c:\\Users\\16148\\Desktop\\Projects\\bird_call_project\\Augmented Recordings\\Cardinalis_cardinalis_Cincinnati_Hamilton_County_Ohio_677300_segment_5_aug_3.wav is too short or silent. Skipping.\n"
     ]
    },
    {
     "name": "stderr",
     "output_type": "stream",
     "text": [
      " 18%|█▊        | 88/500 [00:11<00:51,  7.94it/s]"
     ]
    },
    {
     "name": "stdout",
     "output_type": "stream",
     "text": [
      "Warning: Audio file c:\\Users\\16148\\Desktop\\Projects\\bird_call_project\\Augmented Recordings\\Cardinalis_cardinalis_Cincinnati_Hamilton_County_Ohio_677300_segment_26_aug_3.wav is too short or silent. Skipping.\n"
     ]
    },
    {
     "name": "stderr",
     "output_type": "stream",
     "text": [
      " 24%|██▍       | 122/500 [00:16<00:46,  8.16it/s]"
     ]
    },
    {
     "name": "stdout",
     "output_type": "stream",
     "text": [
      "Warning: Audio file c:\\Users\\16148\\Desktop\\Projects\\bird_call_project\\Augmented Recordings\\Cardinalis_cardinalis_Tanglewood_Lane_Cincinnati_Ohio_302932_segment_12_aug_1.wav is too short or silent. Skipping.\n"
     ]
    },
    {
     "name": "stderr",
     "output_type": "stream",
     "text": [
      " 28%|██▊       | 139/500 [00:18<00:45,  7.97it/s]"
     ]
    },
    {
     "name": "stdout",
     "output_type": "stream",
     "text": [
      "Warning: Audio file c:\\Users\\16148\\Desktop\\Projects\\bird_call_project\\Augmented Recordings\\Cardinalis_cardinalis_Tanglewood_Lane_Cincinnati_Ohio_302932_segment_17_aug_3.wav is too short or silent. Skipping.\n"
     ]
    },
    {
     "name": "stderr",
     "output_type": "stream",
     "text": [
      " 37%|███▋      | 185/500 [00:24<00:34,  9.12it/s]"
     ]
    },
    {
     "name": "stdout",
     "output_type": "stream",
     "text": [
      "Warning: Audio file c:\\Users\\16148\\Desktop\\Projects\\bird_call_project\\Augmented Recordings\\Cardinalis_cardinalis_Tanglewood_Lane_Cincinnati_Ohio_302932_segment_33_aug_1.wav is too short or silent. Skipping.\n"
     ]
    },
    {
     "name": "stderr",
     "output_type": "stream",
     "text": [
      " 46%|████▌     | 230/500 [00:30<00:30,  8.82it/s]"
     ]
    },
    {
     "name": "stdout",
     "output_type": "stream",
     "text": [
      "Warning: Audio file c:\\Users\\16148\\Desktop\\Projects\\bird_call_project\\Augmented Recordings\\Cardinalis_cardinalis_Tanglewood_Lane_Cincinnati_Ohio_302932_segment_48_aug_1.wav is too short or silent. Skipping.\n"
     ]
    },
    {
     "name": "stderr",
     "output_type": "stream",
     "text": [
      " 49%|████▉     | 244/500 [00:32<00:26,  9.50it/s]"
     ]
    },
    {
     "name": "stdout",
     "output_type": "stream",
     "text": [
      "Warning: Audio file c:\\Users\\16148\\Desktop\\Projects\\bird_call_project\\Augmented Recordings\\Cardinalis_cardinalis_Tanglewood_Lane_Cincinnati_Ohio_302932_segment_52_aug_3.wav is too short or silent. Skipping.\n"
     ]
    },
    {
     "name": "stderr",
     "output_type": "stream",
     "text": [
      " 55%|█████▍    | 273/500 [00:36<00:28,  8.06it/s]"
     ]
    },
    {
     "name": "stdout",
     "output_type": "stream",
     "text": [
      "Warning: Audio file c:\\Users\\16148\\Desktop\\Projects\\bird_call_project\\Augmented Recordings\\Cardinalis_cardinalis_Tanglewood_Lane_Cincinnati_Ohio_302932_segment_62_aug_2.wav is too short or silent. Skipping.\n"
     ]
    },
    {
     "name": "stderr",
     "output_type": "stream",
     "text": [
      " 61%|██████▏   | 307/500 [00:41<00:24,  7.89it/s]"
     ]
    },
    {
     "name": "stdout",
     "output_type": "stream",
     "text": [
      "Warning: Audio file c:\\Users\\16148\\Desktop\\Projects\\bird_call_project\\Augmented Recordings\\Cardinalis_cardinalis_Tanglewood_Lane_Cincinnati_Ohio_302932_segment_73_aug_3.wav is too short or silent. Skipping.\n"
     ]
    },
    {
     "name": "stderr",
     "output_type": "stream",
     "text": [
      " 66%|██████▌   | 329/500 [00:44<00:21,  7.84it/s]"
     ]
    },
    {
     "name": "stdout",
     "output_type": "stream",
     "text": [
      "Warning: Audio file c:\\Users\\16148\\Desktop\\Projects\\bird_call_project\\Augmented Recordings\\Cardinalis_cardinalis_Tanglewood_Lane_Cincinnati_Ohio_302932_segment_81_aug_1.wav is too short or silent. Skipping.\n"
     ]
    },
    {
     "name": "stderr",
     "output_type": "stream",
     "text": [
      " 75%|███████▍  | 373/500 [00:50<00:15,  8.21it/s]"
     ]
    },
    {
     "name": "stdout",
     "output_type": "stream",
     "text": [
      "Warning: Audio file c:\\Users\\16148\\Desktop\\Projects\\bird_call_project\\Augmented Recordings\\Cardinalis_cardinalis_Tanglewood_Lane_Cincinnati_Ohio_302932_segment_96_aug_3.wav is too short or silent. Skipping.\n"
     ]
    },
    {
     "name": "stderr",
     "output_type": "stream",
     "text": [
      " 99%|█████████▊| 493/500 [01:06<00:00,  8.00it/s]"
     ]
    },
    {
     "name": "stdout",
     "output_type": "stream",
     "text": [
      "Warning: Audio file c:\\Users\\16148\\Desktop\\Projects\\bird_call_project\\Augmented Recordings\\Cardinalis_cardinalis_Tanglewood_Lane_Cincinnati_Ohio_302932_segment_136_aug_3.wav is too short or silent. Skipping.\n"
     ]
    },
    {
     "name": "stderr",
     "output_type": "stream",
     "text": [
      "100%|██████████| 500/500 [01:07<00:00,  7.42it/s]\n",
      " 18%|█▊        | 92/500 [00:14<00:51,  7.87it/s]"
     ]
    },
    {
     "name": "stdout",
     "output_type": "stream",
     "text": [
      "Warning: Audio file c:\\Users\\16148\\Desktop\\Projects\\bird_call_project\\Augmented Recordings\\Cardinalis_cardinalis_Tanglewood_Lane_Cincinnati_Ohio_302932_segment_169_aug_3.wav is too short or silent. Skipping.\n"
     ]
    },
    {
     "name": "stderr",
     "output_type": "stream",
     "text": [
      " 41%|████      | 204/500 [00:29<00:33,  8.95it/s]"
     ]
    },
    {
     "name": "stdout",
     "output_type": "stream",
     "text": [
      "Warning: Audio file c:\\Users\\16148\\Desktop\\Projects\\bird_call_project\\Augmented Recordings\\Cardinalis_cardinalis_Tanglewood_Lane_Cincinnati_Ohio_302932_segment_209_aug_1.wav is too short or silent. Skipping.\n"
     ]
    },
    {
     "name": "stderr",
     "output_type": "stream",
     "text": [
      " 56%|█████▋    | 282/500 [00:39<00:25,  8.47it/s]"
     ]
    },
    {
     "name": "stdout",
     "output_type": "stream",
     "text": [
      "Warning: Audio file c:\\Users\\16148\\Desktop\\Projects\\bird_call_project\\Augmented Recordings\\Cardinalis_cardinalis_Green_Township_near__Cincinnati_Hamilton_County_Ohio_817703_segment_4_aug_1.wav is too short or silent. Skipping.\n"
     ]
    },
    {
     "name": "stderr",
     "output_type": "stream",
     "text": [
      " 62%|██████▏   | 308/500 [00:43<00:23,  8.22it/s]"
     ]
    },
    {
     "name": "stdout",
     "output_type": "stream",
     "text": [
      "Warning: Audio file c:\\Users\\16148\\Desktop\\Projects\\bird_call_project\\Augmented Recordings\\Cardinalis_cardinalis_Magee_Marsh_-_boardwalk_Lucas_County_Ohio_814887_segment_5_aug_3.wav is too short or silent. Skipping.\n"
     ]
    },
    {
     "name": "stderr",
     "output_type": "stream",
     "text": [
      " 63%|██████▎   | 316/500 [00:44<00:22,  8.23it/s]"
     ]
    },
    {
     "name": "stdout",
     "output_type": "stream",
     "text": [
      "Warning: Audio file c:\\Users\\16148\\Desktop\\Projects\\bird_call_project\\Augmented Recordings\\Cardinalis_cardinalis_Magee_Marsh_-_boardwalk_Lucas_County_Ohio_814887_segment_8_aug_2.wav is too short or silent. Skipping.\n"
     ]
    },
    {
     "name": "stderr",
     "output_type": "stream",
     "text": [
      " 73%|███████▎  | 363/500 [00:50<00:17,  7.80it/s]"
     ]
    },
    {
     "name": "stdout",
     "output_type": "stream",
     "text": [
      "Warning: Audio file c:\\Users\\16148\\Desktop\\Projects\\bird_call_project\\Augmented Recordings\\Cardinalis_cardinalis_Magee_Marsh_-_boardwalk_Lucas_County_Ohio_814887_segment_24_aug_1.wav is too short or silent. Skipping.\n"
     ]
    },
    {
     "name": "stderr",
     "output_type": "stream",
     "text": [
      " 80%|███████▉  | 398/500 [00:55<00:13,  7.61it/s]"
     ]
    },
    {
     "name": "stdout",
     "output_type": "stream",
     "text": [
      "Warning: Audio file c:\\Users\\16148\\Desktop\\Projects\\bird_call_project\\Augmented Recordings\\Cardinalis_cardinalis_Green_Township_near__Cincinnati_Hamilton_County_Ohio_676765_segment_10_aug_3.wav is too short or silent. Skipping.\n"
     ]
    },
    {
     "name": "stderr",
     "output_type": "stream",
     "text": [
      " 86%|████████▌ | 430/500 [00:59<00:08,  8.15it/s]"
     ]
    },
    {
     "name": "stdout",
     "output_type": "stream",
     "text": [
      "Warning: Audio file c:\\Users\\16148\\Desktop\\Projects\\bird_call_project\\Augmented Recordings\\Cardinalis_cardinalis_Green_Township_near__Cincinnati_Hamilton_County_Ohio_673006_segment_3_aug_2.wav is too short or silent. Skipping.\n"
     ]
    },
    {
     "name": "stderr",
     "output_type": "stream",
     "text": [
      " 92%|█████████▏| 459/500 [01:03<00:05,  8.08it/s]"
     ]
    },
    {
     "name": "stdout",
     "output_type": "stream",
     "text": [
      "Warning: Audio file c:\\Users\\16148\\Desktop\\Projects\\bird_call_project\\Augmented Recordings\\Cardinalis_cardinalis_East_Fork_Lake_SP_Clermont_County_Ohio_416549_segment_6_aug_1.wav is too short or silent. Skipping.\n"
     ]
    },
    {
     "name": "stderr",
     "output_type": "stream",
     "text": [
      " 96%|█████████▌| 480/500 [01:06<00:02,  7.29it/s]"
     ]
    },
    {
     "name": "stdout",
     "output_type": "stream",
     "text": [
      "Warning: Audio file c:\\Users\\16148\\Desktop\\Projects\\bird_call_project\\Augmented Recordings\\Spiza_americana_Ohio_near__New_Franklin_Summit_County_Ohio_378358_segment_6_aug_1.wav is too short or silent. Skipping.\n"
     ]
    },
    {
     "name": "stderr",
     "output_type": "stream",
     "text": [
      "100%|██████████| 500/500 [01:08<00:00,  7.26it/s]\n",
      "  4%|▍         | 22/500 [00:02<00:57,  8.36it/s]"
     ]
    },
    {
     "name": "stdout",
     "output_type": "stream",
     "text": [
      "Warning: Audio file c:\\Users\\16148\\Desktop\\Projects\\bird_call_project\\Augmented Recordings\\Spiza_americana_Battelle_Darby_Metro_Park--Grain_Elevator_Wetlands_near_parking_area_105816_segment_13_aug_1.wav is too short or silent. Skipping.\n"
     ]
    },
    {
     "name": "stderr",
     "output_type": "stream",
     "text": [
      "  7%|▋         | 33/500 [00:04<00:57,  8.16it/s]"
     ]
    },
    {
     "name": "stdout",
     "output_type": "stream",
     "text": [
      "Warning: Audio file c:\\Users\\16148\\Desktop\\Projects\\bird_call_project\\Augmented Recordings\\Spiza_americana_Battelle_Darby_Metro_Park--Grain_Elevator_Wetlands_near_parking_area_105816_segment_16_aug_3.wav is too short or silent. Skipping.\n"
     ]
    },
    {
     "name": "stderr",
     "output_type": "stream",
     "text": [
      "  9%|▉         | 47/500 [00:06<00:52,  8.68it/s]"
     ]
    },
    {
     "name": "stdout",
     "output_type": "stream",
     "text": [
      "Warning: Audio file c:\\Users\\16148\\Desktop\\Projects\\bird_call_project\\Augmented Recordings\\Spiza_americana_Battelle_Darby_Metro_Park--Grain_Elevator_Wetlands_near_parking_area_105816_segment_21_aug_2.wav is too short or silent. Skipping.\n"
     ]
    },
    {
     "name": "stderr",
     "output_type": "stream",
     "text": [
      " 13%|█▎        | 66/500 [00:08<00:54,  7.94it/s]"
     ]
    },
    {
     "name": "stdout",
     "output_type": "stream",
     "text": [
      "Warning: Audio file c:\\Users\\16148\\Desktop\\Projects\\bird_call_project\\Augmented Recordings\\Spiza_americana_Battelle_Darby_Metro_Park--Grain_Elevator_Wetlands_near_parking_area_105816_segment_27_aug_3.wav is too short or silent. Skipping.\n"
     ]
    },
    {
     "name": "stderr",
     "output_type": "stream",
     "text": [
      " 16%|█▌        | 81/500 [00:10<00:45,  9.16it/s]"
     ]
    },
    {
     "name": "stdout",
     "output_type": "stream",
     "text": [
      "Warning: Audio file c:\\Users\\16148\\Desktop\\Projects\\bird_call_project\\Augmented Recordings\\Spiza_americana_Battelle_Darby_Metro_Park--Grain_Elevator_Wetlands_near_parking_area_105816_segment_32_aug_3.wav is too short or silent. Skipping.\n",
      "Warning: Audio file c:\\Users\\16148\\Desktop\\Projects\\bird_call_project\\Augmented Recordings\\Spiza_americana_Michigan_Whiteford_Township_17103_segment_0_aug_1.wav is too short or silent. Skipping.\n"
     ]
    },
    {
     "name": "stderr",
     "output_type": "stream",
     "text": [
      " 17%|█▋        | 86/500 [00:11<00:48,  8.54it/s]"
     ]
    },
    {
     "name": "stdout",
     "output_type": "stream",
     "text": [
      "Warning: Audio file c:\\Users\\16148\\Desktop\\Projects\\bird_call_project\\Augmented Recordings\\Spiza_americana_Michigan_Whiteford_Township_17103_segment_1_aug_2.wav is too short or silent. Skipping.\n"
     ]
    },
    {
     "name": "stderr",
     "output_type": "stream",
     "text": [
      " 19%|█▉        | 97/500 [00:12<00:47,  8.57it/s]"
     ]
    },
    {
     "name": "stdout",
     "output_type": "stream",
     "text": [
      "Warning: Audio file c:\\Users\\16148\\Desktop\\Projects\\bird_call_project\\Augmented Recordings\\Spiza_americana_Michigan_Whiteford_Township_17103_segment_5_aug_1.wav is too short or silent. Skipping.\n"
     ]
    },
    {
     "name": "stderr",
     "output_type": "stream",
     "text": [
      " 21%|██▏       | 107/500 [00:13<00:48,  8.17it/s]"
     ]
    },
    {
     "name": "stdout",
     "output_type": "stream",
     "text": [
      "Warning: Audio file c:\\Users\\16148\\Desktop\\Projects\\bird_call_project\\Augmented Recordings\\Spiza_americana_Michigan_Whiteford_Township_17103_segment_8_aug_2.wav is too short or silent. Skipping.\n"
     ]
    },
    {
     "name": "stderr",
     "output_type": "stream",
     "text": [
      " 27%|██▋       | 136/500 [00:17<00:43,  8.44it/s]"
     ]
    },
    {
     "name": "stdout",
     "output_type": "stream",
     "text": [
      "Warning: Audio file c:\\Users\\16148\\Desktop\\Projects\\bird_call_project\\Augmented Recordings\\Spiza_americana_Michigan_Whiteford_Township_17103_segment_18_aug_1.wav is too short or silent. Skipping.\n"
     ]
    },
    {
     "name": "stderr",
     "output_type": "stream",
     "text": [
      " 37%|███▋      | 184/500 [00:24<00:38,  8.25it/s]"
     ]
    },
    {
     "name": "stdout",
     "output_type": "stream",
     "text": [
      "Warning: Audio file c:\\Users\\16148\\Desktop\\Projects\\bird_call_project\\Augmented Recordings\\Passerina_cyanea_Miami_Township_near__North_Bend_Hamilton_County_Ohio_817717_segment_16_aug_1.wav is too short or silent. Skipping.\n",
      "Warning: Audio file c:\\Users\\16148\\Desktop\\Projects\\bird_call_project\\Augmented Recordings\\Passerina_cyanea_Miami_Township_near__North_Bend_Hamilton_County_Ohio_817717_segment_16_aug_3.wav is too short or silent. Skipping.\n"
     ]
    },
    {
     "name": "stderr",
     "output_type": "stream",
     "text": [
      " 52%|█████▏    | 262/500 [00:34<00:28,  8.33it/s]"
     ]
    },
    {
     "name": "stdout",
     "output_type": "stream",
     "text": [
      "Warning: Audio file c:\\Users\\16148\\Desktop\\Projects\\bird_call_project\\Augmented Recordings\\Passerina_cyanea_East_Fork_Lake_SP_Clermont_County_Ohio_416554_segment_11_aug_1.wav is too short or silent. Skipping.\n"
     ]
    },
    {
     "name": "stderr",
     "output_type": "stream",
     "text": [
      " 54%|█████▍    | 271/500 [00:35<00:28,  8.15it/s]"
     ]
    },
    {
     "name": "stdout",
     "output_type": "stream",
     "text": [
      "Warning: Audio file c:\\Users\\16148\\Desktop\\Projects\\bird_call_project\\Augmented Recordings\\Passerina_cyanea_Michigan_Monroe_County_17148_segment_0_aug_1.wav is too short or silent. Skipping.\n"
     ]
    },
    {
     "name": "stderr",
     "output_type": "stream",
     "text": [
      " 58%|█████▊    | 291/500 [00:38<00:26,  7.95it/s]"
     ]
    },
    {
     "name": "stdout",
     "output_type": "stream",
     "text": [
      "Warning: Audio file c:\\Users\\16148\\Desktop\\Projects\\bird_call_project\\Augmented Recordings\\Passerina_cyanea_Michigan_Monroe_County_17148_segment_6_aug_3.wav is too short or silent. Skipping.\n"
     ]
    },
    {
     "name": "stderr",
     "output_type": "stream",
     "text": [
      " 80%|███████▉  | 398/500 [00:53<00:12,  8.24it/s]"
     ]
    },
    {
     "name": "stdout",
     "output_type": "stream",
     "text": [
      "Warning: Audio file c:\\Users\\16148\\Desktop\\Projects\\bird_call_project\\Augmented Recordings\\Sonus_naturalis_Jerusalem_Township_near__Bono_Lucas_County_Ohio_784063_segment_23_aug_2.wav is too short or silent. Skipping.\n"
     ]
    },
    {
     "name": "stderr",
     "output_type": "stream",
     "text": [
      " 85%|████████▌ | 425/500 [00:57<00:09,  8.26it/s]"
     ]
    },
    {
     "name": "stdout",
     "output_type": "stream",
     "text": [
      "Warning: Audio file c:\\Users\\16148\\Desktop\\Projects\\bird_call_project\\Augmented Recordings\\Sonus_naturalis_Lawrence_Woods_SNP_417979_segment_2_aug_2.wav is too short or silent. Skipping.\n"
     ]
    },
    {
     "name": "stderr",
     "output_type": "stream",
     "text": [
      " 89%|████████▉ | 446/500 [01:01<00:14,  3.78it/s]"
     ]
    },
    {
     "name": "stdout",
     "output_type": "stream",
     "text": [
      "Warning: Audio file c:\\Users\\16148\\Desktop\\Projects\\bird_call_project\\Augmented Recordings\\Sonus_naturalis_Lawrence_Woods_SNP_417979_segment_9_aug_3.wav is too short or silent. Skipping.\n"
     ]
    },
    {
     "name": "stderr",
     "output_type": "stream",
     "text": [
      " 90%|█████████ | 450/500 [01:02<00:12,  4.12it/s]"
     ]
    },
    {
     "name": "stdout",
     "output_type": "stream",
     "text": [
      "Warning: Audio file c:\\Users\\16148\\Desktop\\Projects\\bird_call_project\\Augmented Recordings\\Sonus_naturalis_Lawrence_Woods_SNP_417979_segment_11_aug_1.wav is too short or silent. Skipping.\n"
     ]
    },
    {
     "name": "stderr",
     "output_type": "stream",
     "text": [
      " 96%|█████████▋| 482/500 [01:07<00:02,  8.94it/s]"
     ]
    },
    {
     "name": "stdout",
     "output_type": "stream",
     "text": [
      "Warning: Audio file c:\\Users\\16148\\Desktop\\Projects\\bird_call_project\\Augmented Recordings\\Sonus_naturalis_Lawrence_Woods_SNP_417979_segment_21_aug_2.wav is too short or silent. Skipping.\n"
     ]
    },
    {
     "name": "stderr",
     "output_type": "stream",
     "text": [
      "100%|██████████| 500/500 [01:10<00:00,  7.11it/s]\n",
      " 11%|█▏        | 20/174 [00:03<00:24,  6.38it/s]"
     ]
    },
    {
     "name": "stdout",
     "output_type": "stream",
     "text": [
      "Warning: Audio file c:\\Users\\16148\\Desktop\\Projects\\bird_call_project\\Augmented Recordings\\Sonus_naturalis_Buhl-Morton_Road_462269_segment_3_aug_1.wav is too short or silent. Skipping.\n"
     ]
    },
    {
     "name": "stderr",
     "output_type": "stream",
     "text": [
      " 15%|█▍        | 26/174 [00:04<00:22,  6.57it/s]"
     ]
    },
    {
     "name": "stdout",
     "output_type": "stream",
     "text": [
      "Warning: Audio file c:\\Users\\16148\\Desktop\\Projects\\bird_call_project\\Augmented Recordings\\Sonus_naturalis_Buhl-Morton_Road_462269_segment_5_aug_1.wav is too short or silent. Skipping.\n"
     ]
    },
    {
     "name": "stderr",
     "output_type": "stream",
     "text": [
      " 39%|███▉      | 68/174 [00:10<00:13,  7.87it/s]"
     ]
    },
    {
     "name": "stdout",
     "output_type": "stream",
     "text": [
      "Warning: Audio file c:\\Users\\16148\\Desktop\\Projects\\bird_call_project\\Augmented Recordings\\Sonus_naturalis_Buhl-Morton_Road_462269_segment_19_aug_1.wav is too short or silent. Skipping.\n"
     ]
    },
    {
     "name": "stderr",
     "output_type": "stream",
     "text": [
      " 52%|█████▏    | 91/174 [00:13<00:12,  6.79it/s]"
     ]
    },
    {
     "name": "stdout",
     "output_type": "stream",
     "text": [
      "Warning: Audio file c:\\Users\\16148\\Desktop\\Projects\\bird_call_project\\Augmented Recordings\\Sonus_naturalis_Buhl-Morton_Road_462269_segment_26_aug_3.wav is too short or silent. Skipping.\n"
     ]
    },
    {
     "name": "stderr",
     "output_type": "stream",
     "text": [
      " 76%|███████▌  | 132/174 [00:18<00:04,  8.61it/s]"
     ]
    },
    {
     "name": "stdout",
     "output_type": "stream",
     "text": [
      "Warning: Audio file c:\\Users\\16148\\Desktop\\Projects\\bird_call_project\\Augmented Recordings\\Sonus_naturalis_Buhl-Morton_Road_462269_segment_40_aug_2.wav is too short or silent. Skipping.\n"
     ]
    },
    {
     "name": "stderr",
     "output_type": "stream",
     "text": [
      " 82%|████████▏ | 143/174 [00:20<00:03,  8.36it/s]"
     ]
    },
    {
     "name": "stdout",
     "output_type": "stream",
     "text": [
      "Warning: Audio file c:\\Users\\16148\\Desktop\\Projects\\bird_call_project\\Augmented Recordings\\Sonus_naturalis_Buhl-Morton_Road_462269_segment_44_aug_1.wav is too short or silent. Skipping.\n"
     ]
    },
    {
     "name": "stderr",
     "output_type": "stream",
     "text": [
      "100%|██████████| 174/174 [00:24<00:00,  7.16it/s]\n"
     ]
    },
    {
     "name": "stdout",
     "output_type": "stream",
     "text": [
      "Total files skipped: 1437\n",
      "<class 'pandas.core.frame.DataFrame'>\n",
      "Index: 46737 entries, 0 to 48173\n",
      "Data columns (total 13 columns):\n",
      " #   Column           Non-Null Count  Dtype  \n",
      "---  ------           --------------  -----  \n",
      " 0   genus            46737 non-null  object \n",
      " 1   species          46737 non-null  object \n",
      " 2   latitude         46737 non-null  float64\n",
      " 3   longitude        46737 non-null  float64\n",
      " 4   quality          46737 non-null  object \n",
      " 5   file_name        46737 non-null  object \n",
      " 6   simplified_type  46737 non-null  object \n",
      " 7   season           46737 non-null  object \n",
      " 8   time_of_day      46737 non-null  object \n",
      " 9   length_seconds   46737 non-null  int64  \n",
      " 10  processed_file   46737 non-null  object \n",
      " 11  augmentations    35019 non-null  object \n",
      " 12  feature_vector   46737 non-null  object \n",
      "dtypes: float64(2), int64(1), object(10)\n",
      "memory usage: 5.0+ MB\n",
      "None\n",
      "\n",
      "Total files in augmented_data: 48174\n",
      "Files successfully processed: 46737\n",
      "Files skipped (too short or silent): 1437\n",
      "Files in final_data after dropping skipped files: 46737\n"
     ]
    }
   ],
   "source": [
    "# Usage\n",
    "base_dir = os.getcwd()\n",
    "\n",
    "feature_data, skipped_files = process_audio_files_batch(augmented_data, base_dir)\n",
    "\n",
    "# Convert feature_data to DataFrame\n",
    "feature_df = pd.DataFrame(feature_data)\n",
    "\n",
    "# Merge the new feature DataFrame with the existing final_data DataFrame\n",
    "final_data = pd.merge(augmented_data, feature_df, on='processed_file', how='left')\n",
    "\n",
    "# Drop rows corresponding to skipped files\n",
    "final_data = final_data[~final_data['processed_file'].isin(skipped_files)]\n",
    "\n",
    "print(final_data.info())\n",
    "\n",
    "print(f\"\\nTotal files in augmented_data: {len(augmented_data)}\")\n",
    "print(f\"Files successfully processed: {len(feature_df)}\")\n",
    "print(f\"Files skipped (too short or silent): {len(skipped_files)}\")\n",
    "print(f\"Files in final_data after dropping skipped files: {len(final_data)}\")"
   ]
  },
  {
   "cell_type": "code",
   "execution_count": 7,
   "metadata": {},
   "outputs": [
    {
     "name": "stdout",
     "output_type": "stream",
     "text": [
      "<class 'pandas.core.frame.DataFrame'>\n",
      "Index: 46737 entries, 0 to 48173\n",
      "Data columns (total 13 columns):\n",
      " #   Column           Non-Null Count  Dtype  \n",
      "---  ------           --------------  -----  \n",
      " 0   genus            46737 non-null  object \n",
      " 1   species          46737 non-null  object \n",
      " 2   latitude         46737 non-null  float64\n",
      " 3   longitude        46737 non-null  float64\n",
      " 4   quality          46737 non-null  object \n",
      " 5   file_name        46737 non-null  object \n",
      " 6   simplified_type  46737 non-null  object \n",
      " 7   season           46737 non-null  object \n",
      " 8   time_of_day      46737 non-null  object \n",
      " 9   length_seconds   46737 non-null  int64  \n",
      " 10  processed_file   46737 non-null  object \n",
      " 11  augmentations    35019 non-null  object \n",
      " 12  feature_vector   46737 non-null  object \n",
      "dtypes: float64(2), int64(1), object(10)\n",
      "memory usage: 5.0+ MB\n"
     ]
    }
   ],
   "source": [
    "# Review the dataframe\n",
    "final_data.info()"
   ]
  },
  {
   "cell_type": "code",
   "execution_count": 10,
   "metadata": {},
   "outputs": [
    {
     "data": {
      "text/html": [
       "<div>\n",
       "<style scoped>\n",
       "    .dataframe tbody tr th:only-of-type {\n",
       "        vertical-align: middle;\n",
       "    }\n",
       "\n",
       "    .dataframe tbody tr th {\n",
       "        vertical-align: top;\n",
       "    }\n",
       "\n",
       "    .dataframe thead th {\n",
       "        text-align: right;\n",
       "    }\n",
       "</style>\n",
       "<table border=\"1\" class=\"dataframe\">\n",
       "  <thead>\n",
       "    <tr style=\"text-align: right;\">\n",
       "      <th></th>\n",
       "      <th>genus</th>\n",
       "      <th>species</th>\n",
       "      <th>latitude</th>\n",
       "      <th>longitude</th>\n",
       "      <th>quality</th>\n",
       "      <th>file_name</th>\n",
       "      <th>simplified_type</th>\n",
       "      <th>season</th>\n",
       "      <th>time_of_day</th>\n",
       "      <th>length_seconds</th>\n",
       "      <th>processed_file</th>\n",
       "      <th>augmentations</th>\n",
       "      <th>feature_vector</th>\n",
       "    </tr>\n",
       "  </thead>\n",
       "  <tbody>\n",
       "    <tr>\n",
       "      <th>0</th>\n",
       "      <td>Branta</td>\n",
       "      <td>canadensis</td>\n",
       "      <td>39.2095</td>\n",
       "      <td>-84.7821</td>\n",
       "      <td>A</td>\n",
       "      <td>Branta_canadensis_Whitewater_Township_near__Ha...</td>\n",
       "      <td>Call</td>\n",
       "      <td>Spring</td>\n",
       "      <td>Morning</td>\n",
       "      <td>14</td>\n",
       "      <td>Branta_canadensis_Whitewater_Township_near__Ha...</td>\n",
       "      <td>None</td>\n",
       "      <td>[-255.54920959472656, 142.5915069580078, -49.8...</td>\n",
       "    </tr>\n",
       "    <tr>\n",
       "      <th>1</th>\n",
       "      <td>Branta</td>\n",
       "      <td>canadensis</td>\n",
       "      <td>39.2095</td>\n",
       "      <td>-84.7821</td>\n",
       "      <td>A</td>\n",
       "      <td>Branta_canadensis_Whitewater_Township_near__Ha...</td>\n",
       "      <td>Call</td>\n",
       "      <td>Spring</td>\n",
       "      <td>Morning</td>\n",
       "      <td>14</td>\n",
       "      <td>Branta_canadensis_Whitewater_Township_near__Ha...</td>\n",
       "      <td>None</td>\n",
       "      <td>[-267.11663818359375, 140.6734161376953, -51.6...</td>\n",
       "    </tr>\n",
       "    <tr>\n",
       "      <th>2</th>\n",
       "      <td>Branta</td>\n",
       "      <td>canadensis</td>\n",
       "      <td>39.2095</td>\n",
       "      <td>-84.7821</td>\n",
       "      <td>A</td>\n",
       "      <td>Branta_canadensis_Whitewater_Township_near__Ha...</td>\n",
       "      <td>Call</td>\n",
       "      <td>Spring</td>\n",
       "      <td>Morning</td>\n",
       "      <td>14</td>\n",
       "      <td>Branta_canadensis_Whitewater_Township_near__Ha...</td>\n",
       "      <td>None</td>\n",
       "      <td>[-274.216552734375, 131.9573974609375, -51.501...</td>\n",
       "    </tr>\n",
       "    <tr>\n",
       "      <th>3</th>\n",
       "      <td>Branta</td>\n",
       "      <td>canadensis</td>\n",
       "      <td>39.2095</td>\n",
       "      <td>-84.7821</td>\n",
       "      <td>A</td>\n",
       "      <td>Branta_canadensis_Whitewater_Township_near__Ha...</td>\n",
       "      <td>Call</td>\n",
       "      <td>Spring</td>\n",
       "      <td>Morning</td>\n",
       "      <td>14</td>\n",
       "      <td>Branta_canadensis_Whitewater_Township_near__Ha...</td>\n",
       "      <td>None</td>\n",
       "      <td>[-270.9906921386719, 134.13259887695312, -53.0...</td>\n",
       "    </tr>\n",
       "    <tr>\n",
       "      <th>4</th>\n",
       "      <td>Branta</td>\n",
       "      <td>canadensis</td>\n",
       "      <td>39.2095</td>\n",
       "      <td>-84.7821</td>\n",
       "      <td>A</td>\n",
       "      <td>Branta_canadensis_Whitewater_Township_near__Ha...</td>\n",
       "      <td>Call</td>\n",
       "      <td>Spring</td>\n",
       "      <td>Morning</td>\n",
       "      <td>14</td>\n",
       "      <td>Branta_canadensis_Whitewater_Township_near__Ha...</td>\n",
       "      <td>None</td>\n",
       "      <td>[-332.7778015136719, 114.2027816772461, -45.52...</td>\n",
       "    </tr>\n",
       "  </tbody>\n",
       "</table>\n",
       "</div>"
      ],
      "text/plain": [
       "    genus     species  latitude  longitude quality  \\\n",
       "0  Branta  canadensis   39.2095   -84.7821       A   \n",
       "1  Branta  canadensis   39.2095   -84.7821       A   \n",
       "2  Branta  canadensis   39.2095   -84.7821       A   \n",
       "3  Branta  canadensis   39.2095   -84.7821       A   \n",
       "4  Branta  canadensis   39.2095   -84.7821       A   \n",
       "\n",
       "                                           file_name simplified_type  season  \\\n",
       "0  Branta_canadensis_Whitewater_Township_near__Ha...            Call  Spring   \n",
       "1  Branta_canadensis_Whitewater_Township_near__Ha...            Call  Spring   \n",
       "2  Branta_canadensis_Whitewater_Township_near__Ha...            Call  Spring   \n",
       "3  Branta_canadensis_Whitewater_Township_near__Ha...            Call  Spring   \n",
       "4  Branta_canadensis_Whitewater_Township_near__Ha...            Call  Spring   \n",
       "\n",
       "  time_of_day  length_seconds  \\\n",
       "0     Morning              14   \n",
       "1     Morning              14   \n",
       "2     Morning              14   \n",
       "3     Morning              14   \n",
       "4     Morning              14   \n",
       "\n",
       "                                      processed_file augmentations  \\\n",
       "0  Branta_canadensis_Whitewater_Township_near__Ha...          None   \n",
       "1  Branta_canadensis_Whitewater_Township_near__Ha...          None   \n",
       "2  Branta_canadensis_Whitewater_Township_near__Ha...          None   \n",
       "3  Branta_canadensis_Whitewater_Township_near__Ha...          None   \n",
       "4  Branta_canadensis_Whitewater_Township_near__Ha...          None   \n",
       "\n",
       "                                      feature_vector  \n",
       "0  [-255.54920959472656, 142.5915069580078, -49.8...  \n",
       "1  [-267.11663818359375, 140.6734161376953, -51.6...  \n",
       "2  [-274.216552734375, 131.9573974609375, -51.501...  \n",
       "3  [-270.9906921386719, 134.13259887695312, -53.0...  \n",
       "4  [-332.7778015136719, 114.2027816772461, -45.52...  "
      ]
     },
     "execution_count": 10,
     "metadata": {},
     "output_type": "execute_result"
    }
   ],
   "source": [
    "final_data = final_data.fillna(\"None\")\n",
    "final_data.head()"
   ]
  },
  {
   "cell_type": "code",
   "execution_count": 11,
   "metadata": {},
   "outputs": [
    {
     "name": "stdout",
     "output_type": "stream",
     "text": [
      "Processing complete. Summary data saved to 'tabular_data.csv'.\n"
     ]
    }
   ],
   "source": [
    "# Save DataFrame to CSV\n",
    "final_data.to_csv('tabular_data.csv', index=False)\n",
    "\n",
    "print(\"Processing complete. Summary data saved to 'tabular_data.csv'.\")"
   ]
  }
 ],
 "metadata": {
  "kernelspec": {
   "display_name": "dev",
   "language": "python",
   "name": "python3"
  },
  "language_info": {
   "codemirror_mode": {
    "name": "ipython",
    "version": 3
   },
   "file_extension": ".py",
   "mimetype": "text/x-python",
   "name": "python",
   "nbconvert_exporter": "python",
   "pygments_lexer": "ipython3",
   "version": "3.10.14"
  }
 },
 "nbformat": 4,
 "nbformat_minor": 2
}
