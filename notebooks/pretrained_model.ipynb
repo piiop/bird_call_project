{
 "cells": [
  {
   "cell_type": "code",
   "execution_count": 1,
   "metadata": {},
   "outputs": [],
   "source": [
    "# System and utilities\n",
    "import os\n",
    "from pathlib import Path\n",
    "import warnings\n",
    "warnings.filterwarnings('ignore')\n",
    "\n",
    "# Data handling and processing\n",
    "import numpy as np\n",
    "import pandas as pd\n",
    "from tqdm import tqdm\n",
    "import matplotlib.pyplot as plt\n",
    "\n",
    "# Audio processing\n",
    "import librosa\n",
    "\n",
    "# PyTorch imports\n",
    "import torch\n",
    "import torch.nn as nn\n",
    "from torch.utils.data import Dataset, DataLoader\n",
    "from torchvision import models\n",
    "\n",
    "# Local imports\n",
    "from preprocess_birdnet import AudioPreprocessor, create_dataloaders"
   ]
  },
  {
   "cell_type": "code",
   "execution_count": null,
   "metadata": {},
   "outputs": [],
   "source": [
    "# First, we need to install BirdNET-Analyzer\n",
    "# !pip install git+https://github.com/kahst/BirdNET-Analyzer.git"
   ]
  },
  {
   "cell_type": "code",
   "execution_count": 2,
   "metadata": {},
   "outputs": [
    {
     "name": "stdout",
     "output_type": "stream",
     "text": [
      "PyTorch version: 2.5.1+cpu\n",
      "CUDA available: False\n"
     ]
    }
   ],
   "source": [
    "print(f\"PyTorch version: {torch.__version__}\")\n",
    "print(f\"CUDA available: {torch.cuda.is_available()}\")"
   ]
  },
  {
   "cell_type": "code",
   "execution_count": 5,
   "metadata": {},
   "outputs": [],
   "source": [
    "preprocessed_data = pd.read_csv('preprocessed_data.csv')"
   ]
  },
  {
   "cell_type": "code",
   "execution_count": 6,
   "metadata": {},
   "outputs": [
    {
     "name": "stdout",
     "output_type": "stream",
     "text": [
      "<class 'pandas.core.frame.DataFrame'>\n",
      "RangeIndex: 692 entries, 0 to 691\n",
      "Data columns (total 10 columns):\n",
      " #   Column           Non-Null Count  Dtype  \n",
      "---  ------           --------------  -----  \n",
      " 0   genus            692 non-null    object \n",
      " 1   species          692 non-null    object \n",
      " 2   latitude         692 non-null    float64\n",
      " 3   longitude        692 non-null    float64\n",
      " 4   quality          692 non-null    object \n",
      " 5   file_name        692 non-null    object \n",
      " 6   simplified_type  692 non-null    object \n",
      " 7   season           692 non-null    object \n",
      " 8   time_of_day      692 non-null    object \n",
      " 9   length_seconds   692 non-null    int64  \n",
      "dtypes: float64(2), int64(1), object(7)\n",
      "memory usage: 54.2+ KB\n"
     ]
    }
   ],
   "source": [
    "preprocessed_data.info()"
   ]
  },
  {
   "cell_type": "code",
   "execution_count": null,
   "metadata": {},
   "outputs": [],
   "source": [
    "# Run preprocessing if needed\n",
    "if not os.path.exists('Processed_BirdNET/metadata.csv'):\n",
    "    preprocessor = AudioPreprocessor(\n",
    "        source_dir='Original Recordings',\n",
    "        output_dir='Processed_BirdNET'\n",
    "    )\n",
    "    metadata = preprocessor.process_dataset()\n",
    "\n",
    "# Create dataloaders\n",
    "train_loader, val_loader, test_loader = create_dataloaders(\n",
    "    'preprocessed_data.csv',\n",
    "    batch_size=32\n",
    ")"
   ]
  },
  {
   "cell_type": "code",
   "execution_count": null,
   "metadata": {},
   "outputs": [],
   "source": [
    "def visualize_spectrogram(loader):\n",
    "    # Get one batch\n",
    "    batch, labels = next(iter(loader))\n",
    "    \n",
    "    # Take first sample from batch\n",
    "    spec = batch[0].squeeze().numpy()\n",
    "    \n",
    "    plt.figure(figsize=(10, 4))\n",
    "    plt.imshow(spec, aspect='auto', origin='lower')\n",
    "    plt.colorbar(format='%+2.0f dB')\n",
    "    plt.title(f'Mel Spectrogram (shape: {spec.shape})')\n",
    "    plt.show()\n",
    "    \n",
    "    print(f\"Spectrogram shape: {spec.shape}\")\n",
    "    print(f\"Value range: [{spec.min():.2f}, {spec.max():.2f}]\")\n",
    "\n",
    "# Use it after creating your loaders\n",
    "visualize_spectrogram(train_loader)"
   ]
  },
  {
   "cell_type": "code",
   "execution_count": null,
   "metadata": {},
   "outputs": [],
   "source": [
    "def load_pretrained_birdnet():\n",
    "    \"\"\"\n",
    "    Load the pretrained BirdNET model and convert it to PyTorch\n",
    "    \"\"\"\n",
    "    # Load the TensorFlow model\n",
    "    birdnet = tf.saved_model.load(\"path_to_birdnet_savedmodel\")\n",
    "    \n",
    "    # Convert significant layers to PyTorch\n",
    "    class BirdNETFineTune(nn.Module):\n",
    "        def __init__(self, original_model, num_classes):\n",
    "            super(BirdNETFineTune, self).__init__()\n",
    "            \n",
    "            # Copy the architecture and weights from original model\n",
    "            self.features = convert_tf_to_pytorch(original_model)\n",
    "            \n",
    "            # Get the number of features from the original model\n",
    "            num_features = self.features[-1].out_features\n",
    "            \n",
    "            # Add new classification head for your specific number of classes\n",
    "            self.classifier = nn.Sequential(\n",
    "                nn.Linear(num_features, 512),\n",
    "                nn.ReLU(),\n",
    "                nn.Dropout(0.5),\n",
    "                nn.Linear(512, num_classes)\n",
    "            )\n",
    "            \n",
    "        def forward(self, x):\n",
    "            x = self.features(x)\n",
    "            x = self.classifier(x)\n",
    "            return x"
   ]
  },
  {
   "cell_type": "code",
   "execution_count": null,
   "metadata": {},
   "outputs": [],
   "source": [
    "def preprocess_audio(audio_path):\n",
    "    \"\"\"\n",
    "    Preprocess audio file according to BirdNET specifications\n",
    "    \"\"\"\n",
    "    # Load audio using librosa\n",
    "    audio, sr = librosa.load(audio_path, sr=48000)  # BirdNET expects 48kHz\n",
    "    \n",
    "    # Create spectrogram using BirdNET's specific parameters\n",
    "    spec = librosa.feature.melspectrogram(\n",
    "        y=audio,\n",
    "        sr=sr,\n",
    "        n_fft=2048,\n",
    "        hop_length=1024,\n",
    "        n_mels=128,\n",
    "        fmin=0,\n",
    "        fmax=24000\n",
    "    )\n",
    "    \n",
    "    # Convert to log scale\n",
    "    spec = librosa.power_to_db(spec, ref=np.max)\n",
    "    \n",
    "    # Normalize\n",
    "    spec = (spec - spec.mean()) / spec.std()\n",
    "    \n",
    "    return torch.FloatTensor(spec).unsqueeze(0)  # Add channel dimension\n"
   ]
  },
  {
   "cell_type": "code",
   "execution_count": null,
   "metadata": {},
   "outputs": [],
   "source": [
    "def fine_tune_birdnet(num_classes, train_loader):\n",
    "    \"\"\"\n",
    "    Fine-tune BirdNET for your specific dataset\n",
    "    \"\"\"\n",
    "    # Load pretrained model\n",
    "    original_model = load_pretrained_birdnet()\n",
    "    model = BirdNETFineTune(original_model, num_classes)\n",
    "    \n",
    "    # Freeze early layers\n",
    "    for param in model.features[:-2].parameters():\n",
    "        param.requires_grad = False\n",
    "    \n",
    "    # Training setup\n",
    "    criterion = nn.CrossEntropyLoss()\n",
    "    optimizer = torch.optim.Adam(\n",
    "        filter(lambda p: p.requires_grad, model.parameters()),\n",
    "        lr=0.0001\n",
    "    )\n",
    "    \n",
    "    return model, criterion, optimizer"
   ]
  },
  {
   "cell_type": "code",
   "execution_count": null,
   "metadata": {},
   "outputs": [],
   "source": [
    "# Example usage\n",
    "num_classes = 121  # Your number of species\n",
    "model, criterion, optimizer = fine_tune_birdnet(num_classes, train_loader)"
   ]
  },
  {
   "cell_type": "code",
   "execution_count": null,
   "metadata": {},
   "outputs": [],
   "source": []
  }
 ],
 "metadata": {
  "kernelspec": {
   "display_name": "dev",
   "language": "python",
   "name": "python3"
  },
  "language_info": {
   "codemirror_mode": {
    "name": "ipython",
    "version": 3
   },
   "file_extension": ".py",
   "mimetype": "text/x-python",
   "name": "python",
   "nbconvert_exporter": "python",
   "pygments_lexer": "ipython3",
   "version": "3.10.14"
  }
 },
 "nbformat": 4,
 "nbformat_minor": 2
}
