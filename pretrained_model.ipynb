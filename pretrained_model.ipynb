{
 "cells": [
  {
   "cell_type": "code",
   "execution_count": null,
   "metadata": {},
   "outputs": [],
   "source": []
  },
  {
   "cell_type": "markdown",
   "metadata": {},
   "source": [
    "/data/\n",
    "    /species_1/\n",
    "        audio1.wav\n",
    "        audio2.wav\n",
    "    /species_2/\n",
    "        audio1.wav\n",
    "        audio2.wav\n"
   ]
  },
  {
   "cell_type": "code",
   "execution_count": null,
   "metadata": {},
   "outputs": [],
   "source": [
    "import torch\n",
    "import torch.nn as nn\n",
    "import torchaudio\n",
    "import torchvision.models as models\n",
    "\n",
    "# Define or load the BirdNET architecture\n",
    "class BirdNET(nn.Module):\n",
    "    def __init__(self, num_classes):\n",
    "        super(BirdNET, self).__init__()\n",
    "        # Using a ResNet backbone for example\n",
    "        self.backbone = models.resnet18(pretrained=True)\n",
    "        # Freeze early layers to keep pretrained weights\n",
    "        for param in self.backbone.parameters():\n",
    "            param.requires_grad = False\n",
    "\n",
    "        # Replace final layer to match number of bird species\n",
    "        self.backbone.fc = nn.Linear(self.backbone.fc.in_features, num_classes)\n",
    "\n",
    "    def forward(self, x):\n",
    "        return self.backbone(x)\n",
    "\n",
    "# Specify the number of species (classes)\n",
    "num_classes = 10  # Update with your specific number of species\n",
    "model = BirdNET(num_classes)\n"
   ]
  },
  {
   "cell_type": "code",
   "execution_count": null,
   "metadata": {},
   "outputs": [],
   "source": [
    "from torch.utils.data import DataLoader\n",
    "from torchaudio.transforms import MelSpectrogram, AmplitudeToDB\n",
    "import os\n",
    "from PIL import Image\n",
    "\n",
    "# Data preprocessing\n",
    "mel_spectrogram = MelSpectrogram()\n",
    "amplitude_to_db = AmplitudeToDB()\n",
    "\n",
    "class BirdDataset(torch.utils.data.Dataset):\n",
    "    def __init__(self, data_path, transform=None):\n",
    "        self.data_path = data_path\n",
    "        self.transform = transform\n",
    "        self.data = []\n",
    "        self.labels = []\n",
    "        \n",
    "        for label, species in enumerate(os.listdir(data_path)):\n",
    "            species_path = os.path.join(data_path, species)\n",
    "            for file_name in os.listdir(species_path):\n",
    "                if file_name.endswith('.wav'):\n",
    "                    self.data.append(os.path.join(species_path, file_name))\n",
    "                    self.labels.append(label)\n",
    "    \n",
    "    def __len__(self):\n",
    "        return len(self.data)\n",
    "    \n",
    "    def __getitem__(self, idx):\n",
    "        audio_path = self.data[idx]\n",
    "        waveform, sample_rate = torchaudio.load(audio_path)\n",
    "        mel_spec = mel_spectrogram(waveform)\n",
    "        db_spec = amplitude_to_db(mel_spec)\n",
    "        \n",
    "        if self.transform:\n",
    "            db_spec = self.transform(db_spec)\n",
    "        \n",
    "        label = self.labels[idx]\n",
    "        return db_spec, label\n",
    "\n",
    "train_dataset = BirdDataset('/path/to/your/train_data', transform=your_transform)\n",
    "train_loader = DataLoader(train_dataset, batch_size=16, shuffle=True)\n"
   ]
  },
  {
   "cell_type": "code",
   "execution_count": null,
   "metadata": {},
   "outputs": [],
   "source": [
    "# Set up optimizer and loss\n",
    "criterion = nn.CrossEntropyLoss()\n",
    "optimizer = torch.optim.Adam(model.parameters(), lr=0.001)\n",
    "\n",
    "# Fine-tuning loop\n",
    "num_epochs = 5  # Adjust based on your dataset size\n",
    "for epoch in range(num_epochs):\n",
    "    model.train()\n",
    "    running_loss = 0.0\n",
    "    for inputs, labels in train_loader:\n",
    "        optimizer.zero_grad()\n",
    "        outputs = model(inputs)\n",
    "        loss = criterion(outputs, labels)\n",
    "        loss.backward()\n",
    "        optimizer.step()\n",
    "        running_loss += loss.item()\n",
    "    \n",
    "    print(f'Epoch {epoch+1}, Loss: {running_loss/len(train_loader)}')\n"
   ]
  },
  {
   "cell_type": "code",
   "execution_count": null,
   "metadata": {},
   "outputs": [],
   "source": [
    "# Save the fine-tuned model\n",
    "torch.save(model.state_dict(), 'fine_tuned_birdnet.pth')\n",
    "\n",
    "# Evaluate the model\n",
    "model.eval()\n",
    "correct = 0\n",
    "total = 0\n",
    "with torch.no_grad():\n",
    "    for inputs, labels in test_loader:\n",
    "        outputs = model(inputs)\n",
    "        _, predicted = torch.max(outputs, 1)\n",
    "        total += labels.size(0)\n",
    "        correct += (predicted == labels).sum().item()\n",
    "\n",
    "print(f'Accuracy: {100 * correct / total} %')\n"
   ]
  },
  {
   "cell_type": "code",
   "execution_count": null,
   "metadata": {},
   "outputs": [],
   "source": [
    "mport mlflow\n",
    "import mlflow.pytorch\n",
    "\n",
    "with mlflow.start_run():\n",
    "    # Training loop with MLflow logging\n",
    "    for epoch in range(num_epochs):\n",
    "        # Training code with logging added here\n",
    "        mlflow.log_metric(\"training_loss\", running_loss/len(train_loader), step=epoch)\n",
    "    \n",
    "    # Log the final model\n",
    "    mlflow.pytorch.log_model(model, \"fine_tuned_birdnet\")"
   ]
  }
 ],
 "metadata": {
  "language_info": {
   "name": "python"
  }
 },
 "nbformat": 4,
 "nbformat_minor": 2
}
