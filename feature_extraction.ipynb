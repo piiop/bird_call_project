{
 "cells": [
  {
   "cell_type": "markdown",
   "metadata": {},
   "source": [
    "### Extract features from the processed and augmented audio files."
   ]
  },
  {
   "cell_type": "code",
   "execution_count": 8,
   "metadata": {},
   "outputs": [],
   "source": [
    "# Imports\n",
    "import os\n",
    "import random\n",
    "import logging\n",
    "import warnings\n",
    "import gc\n",
    "\n",
    "import numpy as np\n",
    "import pandas as pd\n",
    "from tqdm import tqdm\n",
    "\n",
    "\n",
    "# Data processing and scientific computing\n",
    "from scipy.io import wavfile\n",
    "from scipy.signal import butter, lfilter\n",
    "from scipy.spatial.distance import cosine\n",
    "\n",
    "# Audio processing\n",
    "import librosa\n",
    "import soundfile as sf\n",
    "\n",
    "# Visualization\n",
    "import matplotlib.pyplot as plt\n",
    "import plotly.express as px\n",
    "\n",
    "# Set up logging\n",
    "logging.basicConfig(level=logging.INFO)"
   ]
  },
  {
   "cell_type": "code",
   "execution_count": 9,
   "metadata": {},
   "outputs": [],
   "source": [
    "# Load the prepared csv\n",
    "augmented_data = pd.read_csv(\"augmented_data.csv\")"
   ]
  },
  {
   "cell_type": "code",
   "execution_count": 10,
   "metadata": {},
   "outputs": [
    {
     "data": {
      "text/html": [
       "<div>\n",
       "<style scoped>\n",
       "    .dataframe tbody tr th:only-of-type {\n",
       "        vertical-align: middle;\n",
       "    }\n",
       "\n",
       "    .dataframe tbody tr th {\n",
       "        vertical-align: top;\n",
       "    }\n",
       "\n",
       "    .dataframe thead th {\n",
       "        text-align: right;\n",
       "    }\n",
       "</style>\n",
       "<table border=\"1\" class=\"dataframe\">\n",
       "  <thead>\n",
       "    <tr style=\"text-align: right;\">\n",
       "      <th></th>\n",
       "      <th>genus</th>\n",
       "      <th>species</th>\n",
       "      <th>latitude</th>\n",
       "      <th>longitude</th>\n",
       "      <th>quality</th>\n",
       "      <th>file_name</th>\n",
       "      <th>simplified_type</th>\n",
       "      <th>season</th>\n",
       "      <th>time_of_day</th>\n",
       "      <th>length_seconds</th>\n",
       "      <th>processed_file</th>\n",
       "      <th>augmentations</th>\n",
       "    </tr>\n",
       "  </thead>\n",
       "  <tbody>\n",
       "    <tr>\n",
       "      <th>0</th>\n",
       "      <td>Branta</td>\n",
       "      <td>canadensis</td>\n",
       "      <td>39.2095</td>\n",
       "      <td>-84.7821</td>\n",
       "      <td>A</td>\n",
       "      <td>Branta_canadensis_Whitewater_Township_near__Ha...</td>\n",
       "      <td>Call</td>\n",
       "      <td>Spring</td>\n",
       "      <td>Morning</td>\n",
       "      <td>14</td>\n",
       "      <td>Branta_canadensis_Whitewater_Township_near__Ha...</td>\n",
       "      <td>NaN</td>\n",
       "    </tr>\n",
       "    <tr>\n",
       "      <th>1</th>\n",
       "      <td>Branta</td>\n",
       "      <td>canadensis</td>\n",
       "      <td>39.2095</td>\n",
       "      <td>-84.7821</td>\n",
       "      <td>A</td>\n",
       "      <td>Branta_canadensis_Whitewater_Township_near__Ha...</td>\n",
       "      <td>Call</td>\n",
       "      <td>Spring</td>\n",
       "      <td>Morning</td>\n",
       "      <td>14</td>\n",
       "      <td>Branta_canadensis_Whitewater_Township_near__Ha...</td>\n",
       "      <td>NaN</td>\n",
       "    </tr>\n",
       "    <tr>\n",
       "      <th>2</th>\n",
       "      <td>Branta</td>\n",
       "      <td>canadensis</td>\n",
       "      <td>39.2095</td>\n",
       "      <td>-84.7821</td>\n",
       "      <td>A</td>\n",
       "      <td>Branta_canadensis_Whitewater_Township_near__Ha...</td>\n",
       "      <td>Call</td>\n",
       "      <td>Spring</td>\n",
       "      <td>Morning</td>\n",
       "      <td>14</td>\n",
       "      <td>Branta_canadensis_Whitewater_Township_near__Ha...</td>\n",
       "      <td>NaN</td>\n",
       "    </tr>\n",
       "    <tr>\n",
       "      <th>3</th>\n",
       "      <td>Branta</td>\n",
       "      <td>canadensis</td>\n",
       "      <td>39.2095</td>\n",
       "      <td>-84.7821</td>\n",
       "      <td>A</td>\n",
       "      <td>Branta_canadensis_Whitewater_Township_near__Ha...</td>\n",
       "      <td>Call</td>\n",
       "      <td>Spring</td>\n",
       "      <td>Morning</td>\n",
       "      <td>14</td>\n",
       "      <td>Branta_canadensis_Whitewater_Township_near__Ha...</td>\n",
       "      <td>NaN</td>\n",
       "    </tr>\n",
       "    <tr>\n",
       "      <th>4</th>\n",
       "      <td>Branta</td>\n",
       "      <td>canadensis</td>\n",
       "      <td>39.2095</td>\n",
       "      <td>-84.7821</td>\n",
       "      <td>A</td>\n",
       "      <td>Branta_canadensis_Whitewater_Township_near__Ha...</td>\n",
       "      <td>Call</td>\n",
       "      <td>Spring</td>\n",
       "      <td>Morning</td>\n",
       "      <td>14</td>\n",
       "      <td>Branta_canadensis_Whitewater_Township_near__Ha...</td>\n",
       "      <td>NaN</td>\n",
       "    </tr>\n",
       "  </tbody>\n",
       "</table>\n",
       "</div>"
      ],
      "text/plain": [
       "    genus     species  latitude  longitude quality  \\\n",
       "0  Branta  canadensis   39.2095   -84.7821       A   \n",
       "1  Branta  canadensis   39.2095   -84.7821       A   \n",
       "2  Branta  canadensis   39.2095   -84.7821       A   \n",
       "3  Branta  canadensis   39.2095   -84.7821       A   \n",
       "4  Branta  canadensis   39.2095   -84.7821       A   \n",
       "\n",
       "                                           file_name simplified_type  season  \\\n",
       "0  Branta_canadensis_Whitewater_Township_near__Ha...            Call  Spring   \n",
       "1  Branta_canadensis_Whitewater_Township_near__Ha...            Call  Spring   \n",
       "2  Branta_canadensis_Whitewater_Township_near__Ha...            Call  Spring   \n",
       "3  Branta_canadensis_Whitewater_Township_near__Ha...            Call  Spring   \n",
       "4  Branta_canadensis_Whitewater_Township_near__Ha...            Call  Spring   \n",
       "\n",
       "  time_of_day  length_seconds  \\\n",
       "0     Morning              14   \n",
       "1     Morning              14   \n",
       "2     Morning              14   \n",
       "3     Morning              14   \n",
       "4     Morning              14   \n",
       "\n",
       "                                      processed_file augmentations  \n",
       "0  Branta_canadensis_Whitewater_Township_near__Ha...           NaN  \n",
       "1  Branta_canadensis_Whitewater_Township_near__Ha...           NaN  \n",
       "2  Branta_canadensis_Whitewater_Township_near__Ha...           NaN  \n",
       "3  Branta_canadensis_Whitewater_Township_near__Ha...           NaN  \n",
       "4  Branta_canadensis_Whitewater_Township_near__Ha...           NaN  "
      ]
     },
     "execution_count": 10,
     "metadata": {},
     "output_type": "execute_result"
    }
   ],
   "source": [
    "augmented_data.head()"
   ]
  },
  {
   "cell_type": "code",
   "execution_count": 11,
   "metadata": {},
   "outputs": [],
   "source": [
    "def is_valid_audio(audio, sr, min_duration=0.1, silence_threshold=-60):\n",
    "    \"\"\"Check if the audio segment is valid (not too short and not silent).\"\"\"\n",
    "    duration = librosa.get_duration(y=audio, sr=sr)\n",
    "    if duration < min_duration:\n",
    "        return False\n",
    "\n",
    "    # Check if the audio is mostly silent\n",
    "    db = librosa.amplitude_to_db(np.abs(audio), ref=np.max)\n",
    "    if np.mean(db) < silence_threshold:\n",
    "        return False\n",
    "\n",
    "    return True\n",
    "\n",
    "def extract_features(audio, sr):\n",
    "    # Mel-spectrogram\n",
    "    mel_spec = librosa.feature.melspectrogram(y=audio, sr=sr, n_mels=128)\n",
    "    mel_spec_db = librosa.power_to_db(mel_spec, ref=np.max)\n",
    "    \n",
    "    mfccs = librosa.feature.mfcc(y=audio, sr=sr, n_mfcc=13)\n",
    "    spectral_centroids = librosa.feature.spectral_centroid(y=audio, sr=sr)[0]\n",
    "    chroma = librosa.feature.chroma_stft(y=audio, sr=sr)\n",
    "    zero_crossing_rate = librosa.feature.zero_crossing_rate(audio)[0]\n",
    "    spectral_rolloff = librosa.feature.spectral_rolloff(y=audio, sr=sr)[0]\n",
    "    \n",
    "    return {\n",
    "        'mel_spectrogram_db': mel_spec_db,\n",
    "        'mfccs': mfccs,\n",
    "        'spectral_centroids': spectral_centroids,\n",
    "        'chroma': chroma,\n",
    "        'zero_crossing_rate': zero_crossing_rate,\n",
    "        'spectral_rolloff': spectral_rolloff\n",
    "    }\n",
    "\n",
    "def summarize_feature(feature):\n",
    "    if feature.ndim == 1:\n",
    "        return np.array([np.mean(feature), np.std(feature), np.max(feature)])\n",
    "    elif feature.ndim == 2:\n",
    "        return np.hstack([\n",
    "            np.mean(feature, axis=1),\n",
    "            np.std(feature, axis=1),\n",
    "            np.max(feature, axis=1)\n",
    "        ])\n",
    "    else:\n",
    "        raise ValueError(f\"Unsupported feature dimension: {feature.ndim}\")\n",
    "\n",
    "def save_mel_spectrogram(mel_spec, output_dir, base_filename, sr):\n",
    "    plt.figure(figsize=(10, 4))\n",
    "    librosa.display.specshow(mel_spec, sr=sr, x_axis='time', y_axis='mel')\n",
    "    plt.colorbar(format='%+2.0f dB')\n",
    "    plt.title('Mel-spectrogram')\n",
    "    plt.tight_layout()\n",
    "    plt.savefig(os.path.join(output_dir, f\"{base_filename}_mel_spectrogram.png\"))\n",
    "    plt.close()\n"
   ]
  },
  {
   "cell_type": "code",
   "execution_count": 12,
   "metadata": {},
   "outputs": [],
   "source": [
    "def process_audio_file(file_path, output_dir):\n",
    "    try:\n",
    "        # Load audio file\n",
    "        audio, sr = librosa.load(file_path, sr=None)\n",
    "        \n",
    "        # Check if audio segment is valid\n",
    "        if not is_valid_audio(audio, sr):\n",
    "            print(f\"Warning: Audio file {file_path} is too short or silent. Skipping.\")\n",
    "            return None, None\n",
    "\n",
    "        # Extract features\n",
    "        with warnings.catch_warnings():\n",
    "            warnings.simplefilter(\"ignore\")\n",
    "            features = extract_features(audio, sr)\n",
    "        \n",
    "        # Summarize features\n",
    "        feature_summary = {}\n",
    "        for key, value in features.items():\n",
    "            if key != 'mel_spectrogram_db':\n",
    "                feature_summary[f\"{key}_summary\"] = summarize_feature(value)\n",
    "        \n",
    "        # Create feature vector\n",
    "        feature_vector = np.hstack([\n",
    "            feature_summary.get('mfccs_summary', np.array([])),\n",
    "            feature_summary.get('spectral_centroids_summary', np.array([])),\n",
    "            feature_summary.get('chroma_summary', np.array([])),\n",
    "            feature_summary.get('zero_crossing_rate_summary', np.array([])),\n",
    "            feature_summary.get('spectral_rolloff_summary', np.array([]))\n",
    "        ])\n",
    "        \n",
    "        # Save mel-spectrogram as image\n",
    "        base_filename = os.path.splitext(os.path.basename(file_path))[0]\n",
    "        save_mel_spectrogram(features['mel_spectrogram_db'], output_dir, base_filename, sr)\n",
    "        \n",
    "        return feature_vector, features\n",
    "    except Exception as e:\n",
    "        print(f\"Error processing {file_path}: {str(e)}\")\n",
    "        return None, None\n",
    "\n",
    "def process_audio_files_batch(df, base_dir, batch_size=500):\n",
    "    feature_data = []\n",
    "    skipped_files = []\n",
    "    \n",
    "    for i in range(0, len(df), batch_size):\n",
    "        batch = df.iloc[i:i+batch_size]\n",
    "        batch_feature_data = []  # Temporary storage for batch features\n",
    "        for _, row in tqdm(batch.iterrows(), total=len(batch)):\n",
    "            possible_paths = [\n",
    "                os.path.join(base_dir, 'Augmented Recordings', row['processed_file']),\n",
    "                os.path.join(base_dir, 'Processed Recordings', row['processed_file'])\n",
    "            ]\n",
    "            \n",
    "            file_path = next((path for path in possible_paths if os.path.exists(path)), None)\n",
    "            \n",
    "            if file_path is None:\n",
    "                print(f\"File not found: {row['processed_file']}\")\n",
    "                skipped_files.append(row['processed_file'])\n",
    "                continue\n",
    "            \n",
    "            feature_vector, features = process_audio_file(file_path, output_dir=\"mel-spectrograms\")\n",
    "            \n",
    "            if feature_vector is not None:\n",
    "                batch_feature_data.append({\n",
    "                    'processed_file': row['processed_file'],\n",
    "                    'feature_vector': feature_vector,\n",
    "                })\n",
    "            else:\n",
    "                skipped_files.append(row['processed_file'])\n",
    "            \n",
    "            # More frequent garbage collection to avoid memory overflow\n",
    "            gc.collect()\n",
    "        \n",
    "        # Append batch data to main feature data and save to disk\n",
    "        feature_data.extend(batch_feature_data)\n",
    "        batch_df = pd.DataFrame(batch_feature_data)\n",
    "        batch_df.to_csv(f\"feature_data_batch_{i//batch_size}.csv\", index=False)\n",
    "        \n",
    "        # Clear batch data from memory\n",
    "        batch_feature_data.clear()\n",
    "        gc.collect()\n",
    "\n",
    "    print(f\"Total files skipped: {len(skipped_files)}\")\n",
    "    return feature_data, skipped_files\n"
   ]
  },
  {
   "cell_type": "code",
   "execution_count": 13,
   "metadata": {},
   "outputs": [
    {
     "name": "stdout",
     "output_type": "stream",
     "text": [
      "Testing feature extraction on file: Augmented Recordings\\Setophaga_magnolia_Magee_Marsh_-_boardwalk_Lucas_County_Ohio_828025_segment_5_aug_3.wav\n",
      "mel_spectrogram_db shape: (128, 453)\n",
      "mfccs shape: (13, 453), mean: -7.0931, std: 97.3944\n",
      "spectral_centroids shape: (453,), mean: 2883.1173, std: 1035.0546\n",
      "chroma shape: (12, 453), mean: 0.8048, std: 0.1477\n",
      "zero_crossing_rate shape: (453,), mean: 0.0173, std: 0.0195\n",
      "spectral_rolloff shape: (453,), mean: 6860.2028, std: 2504.3488\n",
      "\n",
      "Summarized Features:\n",
      "mfccs_summary type: numpy.ndarray, shape: (39,), mean: 4.5996, std: 70.4689\n",
      "spectral_centroids_summary type: numpy.ndarray, shape: (3,), mean: 4322.4834, std: 3426.4439\n",
      "chroma_summary type: numpy.ndarray, shape: (36,), mean: 0.6488, std: 0.3681\n",
      "zero_crossing_rate_summary type: numpy.ndarray, shape: (3,), mean: 0.0705, std: 0.0737\n",
      "spectral_rolloff_summary type: numpy.ndarray, shape: (3,), mean: 9122.1031, std: 6525.8239\n",
      "\n",
      "Final feature vector shape: (84,)\n",
      "Mel-spectrogram saved as: Setophaga_magnolia_Magee_Marsh_-_boardwalk_Lucas_County_Ohio_828025_segment_5_aug_3_mel_spectrogram.png in Test\n",
      "Feature extraction test complete.\n"
     ]
    }
   ],
   "source": [
    "# Usage\n",
    "\n",
    "base_dir = os.getcwd()\n",
    "output_dir = 'mel-spectrograms'\n",
    "\n",
    "feature_data, skipped_files = process_audio_files_batch(augmented_data, base_dir)\n",
    "\n",
    "# Convert feature_data to DataFrame\n",
    "feature_df = pd.DataFrame(feature_data)\n",
    "\n",
    "# Merge the new feature DataFrame with the existing final_data DataFrame\n",
    "final_data = pd.merge(augmented_data, feature_df, on='processed_file', how='left')\n",
    "\n",
    "# Drop rows corresponding to skipped files\n",
    "final_data = final_data[~final_data['processed_file'].isin(skipped_files)]\n",
    "\n",
    "print(final_data.info())\n",
    "\n",
    "print(f\"\\nTotal files in augmented_data: {len(augmented_data)}\")\n",
    "print(f\"Files successfully processed: {len(feature_df)}\")\n",
    "print(f\"Files skipped (too short or silent): {len(skipped_files)}\")\n",
    "print(f\"Files in final_data after dropping skipped files: {len(final_data)}\")"
   ]
  },
  {
   "cell_type": "code",
   "execution_count": 7,
   "metadata": {},
   "outputs": [
    {
     "name": "stderr",
     "output_type": "stream",
     "text": [
      "  3%|▎         | 26/1000 [00:07<04:52,  3.33it/s]"
     ]
    },
    {
     "name": "stdout",
     "output_type": "stream",
     "text": [
      "Warning: Audio file c:\\Users\\16148\\Desktop\\Projects\\bird_call_project\\Processed Recordings\\Branta_canadensis_Miami_Whitewater_Forest_Park_wetlands_Crosby_Township_near__Harrison_Hamilton_County_Ohio_691528_segment_7.wav is too short or silent. Skipping.\n"
     ]
    },
    {
     "name": "stderr",
     "output_type": "stream",
     "text": [
      " 11%|█         | 111/1000 [00:32<04:05,  3.63it/s]"
     ]
    },
    {
     "name": "stdout",
     "output_type": "stream",
     "text": [
      "Warning: Audio file c:\\Users\\16148\\Desktop\\Projects\\bird_call_project\\Processed Recordings\\Colinus_virginianus_New_Market_Township_near__Hoagland_Highland_County_Ohio_805814_segment_23.wav is too short or silent. Skipping.\n"
     ]
    },
    {
     "name": "stderr",
     "output_type": "stream",
     "text": [
      " 12%|█▏        | 120/1000 [00:35<04:51,  3.02it/s]"
     ]
    },
    {
     "name": "stdout",
     "output_type": "stream",
     "text": [
      "Warning: Audio file c:\\Users\\16148\\Desktop\\Projects\\bird_call_project\\Processed Recordings\\Colinus_virginianus_Michigan_Monroe_County_17130_segment_8.wav is too short or silent. Skipping.\n"
     ]
    },
    {
     "name": "stderr",
     "output_type": "stream",
     "text": [
      " 15%|█▍        | 147/1000 [00:42<03:59,  3.56it/s]"
     ]
    },
    {
     "name": "stdout",
     "output_type": "stream",
     "text": [
      "Warning: Audio file c:\\Users\\16148\\Desktop\\Projects\\bird_call_project\\Processed Recordings\\Chordeiles_minor_Green_Township_near__Cincinnati_Hamilton_County_Ohio_647199_segment_26.wav is too short or silent. Skipping.\n"
     ]
    },
    {
     "name": "stderr",
     "output_type": "stream",
     "text": [
      " 17%|█▋        | 167/1000 [00:48<04:24,  3.15it/s]"
     ]
    },
    {
     "name": "stdout",
     "output_type": "stream",
     "text": [
      "Warning: Audio file c:\\Users\\16148\\Desktop\\Projects\\bird_call_project\\Processed Recordings\\Antrostomus_carolinensis_Brush_Creek_Township_near__West_Union_Adams_County_Ohio_939173_segment_19.wav is too short or silent. Skipping.\n"
     ]
    },
    {
     "name": "stderr",
     "output_type": "stream",
     "text": [
      " 19%|█▉        | 188/1000 [00:54<04:15,  3.18it/s]"
     ]
    },
    {
     "name": "stdout",
     "output_type": "stream",
     "text": [
      "Warning: Audio file c:\\Users\\16148\\Desktop\\Projects\\bird_call_project\\Processed Recordings\\Antrostomus_carolinensis_Hamilton_Rd_Adams_Cty_Ohio_939171_segment_20.wav is too short or silent. Skipping.\n"
     ]
    },
    {
     "name": "stderr",
     "output_type": "stream",
     "text": [
      " 25%|██▍       | 246/1000 [01:10<03:24,  3.68it/s]"
     ]
    },
    {
     "name": "stdout",
     "output_type": "stream",
     "text": [
      "Warning: Audio file c:\\Users\\16148\\Desktop\\Projects\\bird_call_project\\Processed Recordings\\Antrostomus_vociferus_Sutton_Braxton_County_West_Virginia_929758_segment_29.wav is too short or silent. Skipping.\n"
     ]
    },
    {
     "name": "stderr",
     "output_type": "stream",
     "text": [
      " 28%|██▊       | 279/1000 [01:19<03:18,  3.63it/s]"
     ]
    },
    {
     "name": "stdout",
     "output_type": "stream",
     "text": [
      "Warning: Audio file c:\\Users\\16148\\Desktop\\Projects\\bird_call_project\\Processed Recordings\\Coccyzus_americanus_Magee_Marsh_boardwalk_west_end_262809_segment_26.wav is too short or silent. Skipping.\n"
     ]
    },
    {
     "name": "stderr",
     "output_type": "stream",
     "text": [
      " 28%|██▊       | 282/1000 [01:20<02:45,  4.35it/s]"
     ]
    },
    {
     "name": "stdout",
     "output_type": "stream",
     "text": [
      "Warning: Audio file c:\\Users\\16148\\Desktop\\Projects\\bird_call_project\\Processed Recordings\\Coccyzus_erythropthalmus_Point_Pelee_National_Park_Essex_County_Ontario_910739_segment_2.wav is too short or silent. Skipping.\n"
     ]
    },
    {
     "name": "stderr",
     "output_type": "stream",
     "text": [
      " 29%|██▊       | 286/1000 [01:21<02:53,  4.11it/s]"
     ]
    },
    {
     "name": "stdout",
     "output_type": "stream",
     "text": [
      "Warning: Audio file c:\\Users\\16148\\Desktop\\Projects\\bird_call_project\\Processed Recordings\\Coccyzus_erythropthalmus_Thursby_Rd_near_Singer_Lake_Green_Summit_County_Ohio_376138_segment_3.wav is too short or silent. Skipping.\n"
     ]
    },
    {
     "name": "stderr",
     "output_type": "stream",
     "text": [
      " 30%|██▉       | 295/1000 [01:24<03:18,  3.56it/s]"
     ]
    },
    {
     "name": "stdout",
     "output_type": "stream",
     "text": [
      "Warning: Audio file c:\\Users\\16148\\Desktop\\Projects\\bird_call_project\\Processed Recordings\\Rallus_elegans_Glacier_Ridge_Metro_Park--Honda_Wetlands_103499_segment_4.wav is too short or silent. Skipping.\n"
     ]
    },
    {
     "name": "stderr",
     "output_type": "stream",
     "text": [
      " 30%|███       | 301/1000 [01:25<02:57,  3.93it/s]"
     ]
    },
    {
     "name": "stdout",
     "output_type": "stream",
     "text": [
      "Warning: Audio file c:\\Users\\16148\\Desktop\\Projects\\bird_call_project\\Processed Recordings\\Porzana_carolina_Battelle_Darby_Metro_Park_-_Wetlands_417847_segment_2.wav is too short or silent. Skipping.\n"
     ]
    },
    {
     "name": "stderr",
     "output_type": "stream",
     "text": [
      " 34%|███▍      | 342/1000 [01:36<02:56,  3.72it/s]"
     ]
    },
    {
     "name": "stdout",
     "output_type": "stream",
     "text": [
      "Warning: Audio file c:\\Users\\16148\\Desktop\\Projects\\bird_call_project\\Processed Recordings\\Charadrius_vociferus_Ross_Township_near__Hamilton_Butler_County_Ohio_533371_segment_6.wav is too short or silent. Skipping.\n"
     ]
    },
    {
     "name": "stderr",
     "output_type": "stream",
     "text": [
      " 35%|███▍      | 346/1000 [01:37<02:34,  4.24it/s]"
     ]
    },
    {
     "name": "stdout",
     "output_type": "stream",
     "text": [
      "Warning: Audio file c:\\Users\\16148\\Desktop\\Projects\\bird_call_project\\Processed Recordings\\Calidris_alpina_Ohio_Magee_Marsh_17027_segment_3.wav is too short or silent. Skipping.\n"
     ]
    },
    {
     "name": "stderr",
     "output_type": "stream",
     "text": [
      " 35%|███▌      | 350/1000 [01:37<02:27,  4.42it/s]"
     ]
    },
    {
     "name": "stdout",
     "output_type": "stream",
     "text": [
      "Warning: Audio file c:\\Users\\16148\\Desktop\\Projects\\bird_call_project\\Processed Recordings\\Scolopax_minor_Brush_Creek_Township_near__West_Union_Adams_County_Ohio_939172_segment_3.wav is too short or silent. Skipping.\n"
     ]
    },
    {
     "name": "stderr",
     "output_type": "stream",
     "text": [
      " 50%|█████     | 501/1000 [02:20<02:16,  3.66it/s]"
     ]
    },
    {
     "name": "stdout",
     "output_type": "stream",
     "text": [
      "Warning: Audio file c:\\Users\\16148\\Desktop\\Projects\\bird_call_project\\Processed Recordings\\Scolopax_minor_Maumee_Bay_SP_Ohio_418103_segment_56.wav is too short or silent. Skipping.\n"
     ]
    },
    {
     "name": "stderr",
     "output_type": "stream",
     "text": [
      " 71%|███████   | 710/1000 [03:20<01:24,  3.44it/s]"
     ]
    },
    {
     "name": "stdout",
     "output_type": "stream",
     "text": [
      "Warning: Audio file c:\\Users\\16148\\Desktop\\Projects\\bird_call_project\\Processed Recordings\\Tringa_flavipes_Ohio_Magee_Marsh_17051_segment_2.wav is too short or silent. Skipping.\n"
     ]
    },
    {
     "name": "stderr",
     "output_type": "stream",
     "text": [
      " 71%|███████▏  | 714/1000 [03:21<01:11,  4.02it/s]"
     ]
    },
    {
     "name": "stdout",
     "output_type": "stream",
     "text": [
      "Warning: Audio file c:\\Users\\16148\\Desktop\\Projects\\bird_call_project\\Processed Recordings\\Tringa_flavipes_Ohio_Magee_Marsh_17050_segment_3.wav is too short or silent. Skipping.\n"
     ]
    },
    {
     "name": "stderr",
     "output_type": "stream",
     "text": [
      " 72%|███████▏  | 719/1000 [03:22<01:08,  4.07it/s]"
     ]
    },
    {
     "name": "stdout",
     "output_type": "stream",
     "text": [
      "Warning: Audio file c:\\Users\\16148\\Desktop\\Projects\\bird_call_project\\Processed Recordings\\Tringa_flavipes_Ohio_Magee_Marsh_17049_segment_4.wav is too short or silent. Skipping.\n"
     ]
    },
    {
     "name": "stderr",
     "output_type": "stream",
     "text": [
      " 78%|███████▊  | 780/1000 [03:41<01:01,  3.58it/s]"
     ]
    },
    {
     "name": "stdout",
     "output_type": "stream",
     "text": [
      "Warning: Audio file c:\\Users\\16148\\Desktop\\Projects\\bird_call_project\\Processed Recordings\\Ardea_alba_Ohio_Ottawa_NWR_17012_segment_2.wav is too short or silent. Skipping.\n"
     ]
    },
    {
     "name": "stderr",
     "output_type": "stream",
     "text": [
      " 79%|███████▉  | 791/1000 [03:44<00:56,  3.69it/s]"
     ]
    },
    {
     "name": "stdout",
     "output_type": "stream",
     "text": [
      "Warning: Audio file c:\\Users\\16148\\Desktop\\Projects\\bird_call_project\\Processed Recordings\\Accipiter_cooperii_Michigan_Monroe_County_17115_segment_10.wav is too short or silent. Skipping.\n"
     ]
    },
    {
     "name": "stderr",
     "output_type": "stream",
     "text": [
      " 81%|████████▏ | 813/1000 [03:50<00:51,  3.66it/s]"
     ]
    },
    {
     "name": "stdout",
     "output_type": "stream",
     "text": [
      "Warning: Audio file c:\\Users\\16148\\Desktop\\Projects\\bird_call_project\\Processed Recordings\\Buteo_lineatus_Green_Township_near__Cincinnati_Hamilton_County_Ohio_809281_segment_21.wav is too short or silent. Skipping.\n"
     ]
    },
    {
     "name": "stderr",
     "output_type": "stream",
     "text": [
      " 82%|████████▏ | 823/1000 [03:52<00:48,  3.61it/s]"
     ]
    },
    {
     "name": "stdout",
     "output_type": "stream",
     "text": [
      "Warning: Audio file c:\\Users\\16148\\Desktop\\Projects\\bird_call_project\\Processed Recordings\\Buteo_lineatus_Miami_Whitewater_Forest_Park_wetlands_Crosby_Township_near__Harrison_Hamilton_County_Ohio_691446_segment_9.wav is too short or silent. Skipping.\n"
     ]
    },
    {
     "name": "stderr",
     "output_type": "stream",
     "text": [
      " 86%|████████▌ | 861/1000 [04:03<00:38,  3.57it/s]"
     ]
    },
    {
     "name": "stdout",
     "output_type": "stream",
     "text": [
      "Warning: Audio file c:\\Users\\16148\\Desktop\\Projects\\bird_call_project\\Processed Recordings\\Buteo_jamaicensis_Michigan_Monroe_County_17117_segment_10.wav is too short or silent. Skipping.\n"
     ]
    },
    {
     "name": "stderr",
     "output_type": "stream",
     "text": [
      "100%|██████████| 1000/1000 [04:46<00:00,  3.49it/s]\n",
      "  3%|▎         | 31/1000 [00:08<04:26,  3.64it/s]"
     ]
    },
    {
     "name": "stdout",
     "output_type": "stream",
     "text": [
      "Warning: Audio file c:\\Users\\16148\\Desktop\\Projects\\bird_call_project\\Processed Recordings\\Bubo_virginianus_mount_orab_ohio_664390_segment_29.wav is too short or silent. Skipping.\n"
     ]
    },
    {
     "name": "stderr",
     "output_type": "stream",
     "text": [
      " 15%|█▍        | 146/1000 [00:40<04:37,  3.07it/s]"
     ]
    },
    {
     "name": "stdout",
     "output_type": "stream",
     "text": [
      "Warning: Audio file c:\\Users\\16148\\Desktop\\Projects\\bird_call_project\\Processed Recordings\\Megascops_asio_mount_orab_ohio_624995_segment_47.wav is too short or silent. Skipping.\n"
     ]
    },
    {
     "name": "stderr",
     "output_type": "stream",
     "text": [
      " 18%|█▊        | 185/1000 [00:51<03:48,  3.56it/s]"
     ]
    },
    {
     "name": "stdout",
     "output_type": "stream",
     "text": [
      "Warning: Audio file c:\\Users\\16148\\Desktop\\Projects\\bird_call_project\\Processed Recordings\\Megascops_asio_mount_orab_ohio_624576_segment_11.wav is too short or silent. Skipping.\n"
     ]
    },
    {
     "name": "stderr",
     "output_type": "stream",
     "text": [
      " 22%|██▏       | 215/1000 [01:00<03:37,  3.61it/s]"
     ]
    },
    {
     "name": "stdout",
     "output_type": "stream",
     "text": [
      "Warning: Audio file c:\\Users\\16148\\Desktop\\Projects\\bird_call_project\\Processed Recordings\\Strix_varia_mount_orab_ohio_494579_segment_5.wav is too short or silent. Skipping.\n"
     ]
    },
    {
     "name": "stderr",
     "output_type": "stream",
     "text": [
      " 22%|██▏       | 220/1000 [01:01<03:18,  3.93it/s]"
     ]
    },
    {
     "name": "stdout",
     "output_type": "stream",
     "text": [
      "Warning: Audio file c:\\Users\\16148\\Desktop\\Projects\\bird_call_project\\Processed Recordings\\Strix_varia_mount_orab_ohio_494421_segment_4.wav is too short or silent. Skipping.\n"
     ]
    },
    {
     "name": "stderr",
     "output_type": "stream",
     "text": [
      " 26%|██▌       | 262/1000 [01:20<05:00,  2.45it/s]"
     ]
    },
    {
     "name": "stdout",
     "output_type": "stream",
     "text": [
      "Warning: Audio file c:\\Users\\16148\\Desktop\\Projects\\bird_call_project\\Processed Recordings\\Melanerpes_erythrocephalus_Crosby_Township_near__Harrison_Hamilton_County_Ohio_774908_segment_24.wav is too short or silent. Skipping.\n"
     ]
    },
    {
     "name": "stderr",
     "output_type": "stream",
     "text": [
      " 29%|██▉       | 292/1000 [01:28<03:22,  3.50it/s]"
     ]
    },
    {
     "name": "stdout",
     "output_type": "stream",
     "text": [
      "Warning: Audio file c:\\Users\\16148\\Desktop\\Projects\\bird_call_project\\Processed Recordings\\Melanerpes_erythrocephalus_Kendrick_Woods_State_Nature_Preserve_Allen_County_Ohio_698853_segment_29.wav is too short or silent. Skipping.\n",
      "Warning: Audio file c:\\Users\\16148\\Desktop\\Projects\\bird_call_project\\Processed Recordings\\Melanerpes_erythrocephalus_Kendrick_Woods_State_Nature_Preserve_Allen_County_Ohio_698853_segment_30.wav is too short or silent. Skipping.\n"
     ]
    },
    {
     "name": "stderr",
     "output_type": "stream",
     "text": [
      " 30%|██▉       | 298/1000 [01:29<02:47,  4.19it/s]"
     ]
    },
    {
     "name": "stdout",
     "output_type": "stream",
     "text": [
      "Warning: Audio file c:\\Users\\16148\\Desktop\\Projects\\bird_call_project\\Processed Recordings\\Melanerpes_erythrocephalus_Lawrence_Woods_SNP_477578_segment_4.wav is too short or silent. Skipping.\n"
     ]
    },
    {
     "name": "stderr",
     "output_type": "stream",
     "text": [
      " 31%|███       | 312/1000 [01:33<03:11,  3.59it/s]"
     ]
    },
    {
     "name": "stdout",
     "output_type": "stream",
     "text": [
      "Warning: Audio file c:\\Users\\16148\\Desktop\\Projects\\bird_call_project\\Processed Recordings\\Melanerpes_erythrocephalus_Pelee_near__Leamington_Essex_County_Ontario_477003_segment_13.wav is too short or silent. Skipping.\n"
     ]
    },
    {
     "name": "stderr",
     "output_type": "stream",
     "text": [
      " 32%|███▏      | 316/1000 [01:34<02:49,  4.03it/s]"
     ]
    },
    {
     "name": "stdout",
     "output_type": "stream",
     "text": [
      "Warning: Audio file c:\\Users\\16148\\Desktop\\Projects\\bird_call_project\\Processed Recordings\\Melanerpes_erythrocephalus_Crosby_Township_near__Harrison_Hamilton_County_Ohio_774907_segment_3.wav is too short or silent. Skipping.\n"
     ]
    },
    {
     "name": "stderr",
     "output_type": "stream",
     "text": [
      " 32%|███▎      | 325/1000 [01:36<03:09,  3.57it/s]"
     ]
    },
    {
     "name": "stdout",
     "output_type": "stream",
     "text": [
      "Warning: Audio file c:\\Users\\16148\\Desktop\\Projects\\bird_call_project\\Processed Recordings\\Melanerpes_carolinus_Miami_Whitewater_Forest_Park_wetlands_Crosby_Township_near__Harrison_Hamilton_County_Ohio_687174_segment_8.wav is too short or silent. Skipping.\n"
     ]
    },
    {
     "name": "stderr",
     "output_type": "stream",
     "text": [
      " 33%|███▎      | 330/1000 [01:37<02:49,  3.95it/s]"
     ]
    },
    {
     "name": "stdout",
     "output_type": "stream",
     "text": [
      "Warning: Audio file c:\\Users\\16148\\Desktop\\Projects\\bird_call_project\\Processed Recordings\\Melanerpes_carolinus_Tanglewood_Lane_Cincinnati_Ohio_302917_segment_4.wav is too short or silent. Skipping.\n"
     ]
    },
    {
     "name": "stderr",
     "output_type": "stream",
     "text": [
      " 46%|████▌     | 457/1000 [02:13<02:34,  3.51it/s]"
     ]
    },
    {
     "name": "stdout",
     "output_type": "stream",
     "text": [
      "Warning: Audio file c:\\Users\\16148\\Desktop\\Projects\\bird_call_project\\Processed Recordings\\Melanerpes_carolinus_Westlake_Cuyahoga_Ohio_115025_segment_12.wav is too short or silent. Skipping.\n"
     ]
    },
    {
     "name": "stderr",
     "output_type": "stream",
     "text": [
      " 46%|████▌     | 460/1000 [02:14<02:08,  4.22it/s]"
     ]
    },
    {
     "name": "stdout",
     "output_type": "stream",
     "text": [
      "Warning: Audio file c:\\Users\\16148\\Desktop\\Projects\\bird_call_project\\Processed Recordings\\Melanerpes_carolinus_Lawrence_Woods_SNP_417981_segment_2.wav is too short or silent. Skipping.\n"
     ]
    },
    {
     "name": "stderr",
     "output_type": "stream",
     "text": [
      " 47%|████▋     | 472/1000 [02:17<02:29,  3.54it/s]"
     ]
    },
    {
     "name": "stdout",
     "output_type": "stream",
     "text": [
      "Warning: Audio file c:\\Users\\16148\\Desktop\\Projects\\bird_call_project\\Processed Recordings\\Sphyrapicus_varius_Tanglewood_Lane_Cincinnati_Ohio_302918_segment_11.wav is too short or silent. Skipping.\n"
     ]
    },
    {
     "name": "stderr",
     "output_type": "stream",
     "text": [
      " 51%|█████     | 506/1000 [02:26<02:24,  3.43it/s]"
     ]
    },
    {
     "name": "stdout",
     "output_type": "stream",
     "text": [
      "Warning: Audio file c:\\Users\\16148\\Desktop\\Projects\\bird_call_project\\Processed Recordings\\Dryobates_pubescens_Green_Township_near__Cincinnati_Hamilton_County_Ohio_676924_segment_7.wav is too short or silent. Skipping.\n"
     ]
    },
    {
     "name": "stderr",
     "output_type": "stream",
     "text": [
      " 51%|█████     | 509/1000 [02:27<01:58,  4.14it/s]"
     ]
    },
    {
     "name": "stdout",
     "output_type": "stream",
     "text": [
      "Warning: Audio file c:\\Users\\16148\\Desktop\\Projects\\bird_call_project\\Processed Recordings\\Dryobates_pubescens_Pelee_near__Leamington_Essex_County_Ontario_476564_segment_2.wav is too short or silent. Skipping.\n"
     ]
    },
    {
     "name": "stderr",
     "output_type": "stream",
     "text": [
      " 52%|█████▏    | 517/1000 [02:29<02:12,  3.63it/s]"
     ]
    },
    {
     "name": "stdout",
     "output_type": "stream",
     "text": [
      "Warning: Audio file c:\\Users\\16148\\Desktop\\Projects\\bird_call_project\\Processed Recordings\\Dryobates_pubescens_Wegerzyn_garden_near__Dayton_Montgomery_County_Ohio_807220_segment_7.wav is too short or silent. Skipping.\n"
     ]
    },
    {
     "name": "stderr",
     "output_type": "stream",
     "text": [
      " 53%|█████▎    | 526/1000 [02:31<02:10,  3.62it/s]"
     ]
    },
    {
     "name": "stdout",
     "output_type": "stream",
     "text": [
      "Warning: Audio file c:\\Users\\16148\\Desktop\\Projects\\bird_call_project\\Processed Recordings\\Leuconotopicus_villosus_Green_Township_near__Lynx_Adams_County_Ohio_302925_segment_8.wav is too short or silent. Skipping.\n"
     ]
    },
    {
     "name": "stderr",
     "output_type": "stream",
     "text": [
      " 54%|█████▍    | 540/1000 [02:35<02:10,  3.53it/s]"
     ]
    },
    {
     "name": "stdout",
     "output_type": "stream",
     "text": [
      "Warning: Audio file c:\\Users\\16148\\Desktop\\Projects\\bird_call_project\\Processed Recordings\\Leuconotopicus_villosus_Miami_Township_near__Cleves_Hamilton_County_Ohio_775844_segment_13.wav is too short or silent. Skipping.\n"
     ]
    },
    {
     "name": "stderr",
     "output_type": "stream",
     "text": [
      " 56%|█████▋    | 563/1000 [02:42<02:06,  3.46it/s]"
     ]
    },
    {
     "name": "stdout",
     "output_type": "stream",
     "text": [
      "Warning: Audio file c:\\Users\\16148\\Desktop\\Projects\\bird_call_project\\Processed Recordings\\Colaptes_auratus_Green_Township_near__Cincinnati_Hamilton_County_Ohio_807485_segment_22.wav is too short or silent. Skipping.\n"
     ]
    },
    {
     "name": "stderr",
     "output_type": "stream",
     "text": [
      " 59%|█████▊    | 586/1000 [02:56<04:02,  1.71it/s]"
     ]
    },
    {
     "name": "stdout",
     "output_type": "stream",
     "text": [
      "Warning: Audio file c:\\Users\\16148\\Desktop\\Projects\\bird_call_project\\Processed Recordings\\Colaptes_auratus_Anderson_Township_near__Cincinnati_Hamilton_County_Ohio_542520_segment_22.wav is too short or silent. Skipping.\n"
     ]
    },
    {
     "name": "stderr",
     "output_type": "stream",
     "text": [
      " 66%|██████▋   | 663/1000 [03:19<01:39,  3.37it/s]"
     ]
    },
    {
     "name": "stdout",
     "output_type": "stream",
     "text": [
      "Warning: Audio file c:\\Users\\16148\\Desktop\\Projects\\bird_call_project\\Processed Recordings\\Dryocopus_pileatus_Harrison_Township_near__Harrison_Hamilton_County_Ohio_691470_segment_76.wav is too short or silent. Skipping.\n"
     ]
    },
    {
     "name": "stderr",
     "output_type": "stream",
     "text": [
      " 67%|██████▋   | 669/1000 [03:21<01:30,  3.67it/s]"
     ]
    },
    {
     "name": "stdout",
     "output_type": "stream",
     "text": [
      "Warning: Audio file c:\\Users\\16148\\Desktop\\Projects\\bird_call_project\\Processed Recordings\\Dryocopus_pileatus_Harrison_Township_near__Harrison_Hamilton_County_Ohio_728222_segment_5.wav is too short or silent. Skipping.\n"
     ]
    },
    {
     "name": "stderr",
     "output_type": "stream",
     "text": [
      " 70%|██████▉   | 699/1000 [03:29<01:29,  3.37it/s]"
     ]
    },
    {
     "name": "stdout",
     "output_type": "stream",
     "text": [
      "Warning: Audio file c:\\Users\\16148\\Desktop\\Projects\\bird_call_project\\Processed Recordings\\Sayornis_phoebe_Harrison_Township_near__Harrison_Hamilton_County_Ohio_713589_segment_8.wav is too short or silent. Skipping.\n"
     ]
    },
    {
     "name": "stderr",
     "output_type": "stream",
     "text": [
      " 71%|███████   | 712/1000 [03:33<01:22,  3.48it/s]"
     ]
    },
    {
     "name": "stdout",
     "output_type": "stream",
     "text": [
      "Warning: Audio file c:\\Users\\16148\\Desktop\\Projects\\bird_call_project\\Processed Recordings\\Sayornis_phoebe_Pelee_near__Leamington_Essex_County_Ontario_476566_segment_12.wav is too short or silent. Skipping.\n"
     ]
    },
    {
     "name": "stderr",
     "output_type": "stream",
     "text": [
      " 72%|███████▏  | 722/1000 [03:36<01:22,  3.37it/s]"
     ]
    },
    {
     "name": "stdout",
     "output_type": "stream",
     "text": [
      "Warning: Audio file c:\\Users\\16148\\Desktop\\Projects\\bird_call_project\\Processed Recordings\\Contopus_virens_Pelee_near__Leamington_Essex_County_Ontario_476568_segment_9.wav is too short or silent. Skipping.\n"
     ]
    },
    {
     "name": "stderr",
     "output_type": "stream",
     "text": [
      " 74%|███████▎  | 735/1000 [03:39<01:18,  3.40it/s]"
     ]
    },
    {
     "name": "stdout",
     "output_type": "stream",
     "text": [
      "Warning: Audio file c:\\Users\\16148\\Desktop\\Projects\\bird_call_project\\Processed Recordings\\Contopus_virens_Whitewater_Township_near__Cleves_Hamilton_County_Ohio_928713_segment_12.wav is too short or silent. Skipping.\n"
     ]
    },
    {
     "name": "stderr",
     "output_type": "stream",
     "text": [
      " 77%|███████▋  | 768/1000 [03:49<01:09,  3.35it/s]"
     ]
    },
    {
     "name": "stdout",
     "output_type": "stream",
     "text": [
      "Warning: Audio file c:\\Users\\16148\\Desktop\\Projects\\bird_call_project\\Processed Recordings\\Contopus_virens_Whitewater_Township_near__Cleves_Hamilton_County_Ohio_817712_segment_32.wav is too short or silent. Skipping.\n"
     ]
    },
    {
     "name": "stderr",
     "output_type": "stream",
     "text": [
      " 78%|███████▊  | 782/1000 [03:53<01:01,  3.54it/s]"
     ]
    },
    {
     "name": "stdout",
     "output_type": "stream",
     "text": [
      "Warning: Audio file c:\\Users\\16148\\Desktop\\Projects\\bird_call_project\\Processed Recordings\\Contopus_virens_Harrison_Township_near__Harrison_Hamilton_County_Ohio_726814_segment_13.wav is too short or silent. Skipping.\n"
     ]
    },
    {
     "name": "stderr",
     "output_type": "stream",
     "text": [
      " 90%|█████████ | 903/1000 [04:28<00:28,  3.45it/s]"
     ]
    },
    {
     "name": "stdout",
     "output_type": "stream",
     "text": [
      "Warning: Audio file c:\\Users\\16148\\Desktop\\Projects\\bird_call_project\\Processed Recordings\\Empidonax_virescens_Harrison_Township_near__Harrison_Hamilton_County_Ohio_728279_segment_21.wav is too short or silent. Skipping.\n"
     ]
    },
    {
     "name": "stderr",
     "output_type": "stream",
     "text": [
      " 91%|█████████ | 909/1000 [04:30<00:25,  3.59it/s]"
     ]
    },
    {
     "name": "stdout",
     "output_type": "stream",
     "text": [
      "Warning: Audio file c:\\Users\\16148\\Desktop\\Projects\\bird_call_project\\Processed Recordings\\Empidonax_virescens_Harrison_Township_near__Harrison_Hamilton_County_Ohio_728275_segment_5.wav is too short or silent. Skipping.\n"
     ]
    },
    {
     "name": "stderr",
     "output_type": "stream",
     "text": [
      " 98%|█████████▊| 982/1000 [05:06<00:11,  1.53it/s]"
     ]
    },
    {
     "name": "stdout",
     "output_type": "stream",
     "text": [
      "Warning: Audio file c:\\Users\\16148\\Desktop\\Projects\\bird_call_project\\Processed Recordings\\Empidonax_traillii_Magee_Marsh_Ohio_298581_segment_3.wav is too short or silent. Skipping.\n"
     ]
    },
    {
     "name": "stderr",
     "output_type": "stream",
     "text": [
      "100%|█████████▉| 997/1000 [05:10<00:00,  3.29it/s]"
     ]
    },
    {
     "name": "stdout",
     "output_type": "stream",
     "text": [
      "Warning: Audio file c:\\Users\\16148\\Desktop\\Projects\\bird_call_project\\Processed Recordings\\Empidonax_traillii_Magee_Marsh_Ohio_298355_segment_13.wav is too short or silent. Skipping.\n"
     ]
    },
    {
     "name": "stderr",
     "output_type": "stream",
     "text": [
      "100%|██████████| 1000/1000 [05:10<00:00,  3.22it/s]\n",
      "  1%|▏         | 14/1000 [00:05<05:16,  3.12it/s]"
     ]
    },
    {
     "name": "stdout",
     "output_type": "stream",
     "text": [
      "Warning: Audio file c:\\Users\\16148\\Desktop\\Projects\\bird_call_project\\Processed Recordings\\Empidonax_traillii_Whitewater_Township_near__Harrison_Hamilton_County_Ohio_726752_segment_16.wav is too short or silent. Skipping.\n"
     ]
    },
    {
     "name": "stderr",
     "output_type": "stream",
     "text": [
      "  3%|▎         | 29/1000 [00:09<05:00,  3.23it/s]"
     ]
    },
    {
     "name": "stdout",
     "output_type": "stream",
     "text": [
      "Warning: Audio file c:\\Users\\16148\\Desktop\\Projects\\bird_call_project\\Processed Recordings\\Empidonax_traillii_Franklin_Township_near__Wooster_Wayne_County_Ohio_418568_segment_14.wav is too short or silent. Skipping.\n"
     ]
    },
    {
     "name": "stderr",
     "output_type": "stream",
     "text": [
      "  7%|▋         | 68/1000 [00:22<05:01,  3.09it/s]"
     ]
    },
    {
     "name": "stdout",
     "output_type": "stream",
     "text": [
      "Warning: Audio file c:\\Users\\16148\\Desktop\\Projects\\bird_call_project\\Processed Recordings\\Empidonax_traillii_Magee_Marsh_Ohio_298575_segment_38.wav is too short or silent. Skipping.\n"
     ]
    },
    {
     "name": "stderr",
     "output_type": "stream",
     "text": [
      "  8%|▊         | 79/1000 [00:25<04:49,  3.18it/s]"
     ]
    },
    {
     "name": "stdout",
     "output_type": "stream",
     "text": [
      "Warning: Audio file c:\\Users\\16148\\Desktop\\Projects\\bird_call_project\\Processed Recordings\\Empidonax_traillii_Spring_Valley_near__Waynesville_Greene_Cty_Ohio_477603_segment_10.wav is too short or silent. Skipping.\n"
     ]
    },
    {
     "name": "stderr",
     "output_type": "stream",
     "text": [
      "  9%|▉         | 89/1000 [00:28<04:34,  3.32it/s]"
     ]
    },
    {
     "name": "stdout",
     "output_type": "stream",
     "text": [
      "Warning: Audio file c:\\Users\\16148\\Desktop\\Projects\\bird_call_project\\Processed Recordings\\Empidonax_traillii_Cleveland_Cuyahoga_County_Ohio_256648_segment_9.wav is too short or silent. Skipping.\n"
     ]
    },
    {
     "name": "stderr",
     "output_type": "stream",
     "text": [
      " 11%|█▏        | 113/1000 [00:35<04:40,  3.16it/s]"
     ]
    },
    {
     "name": "stdout",
     "output_type": "stream",
     "text": [
      "Warning: Audio file c:\\Users\\16148\\Desktop\\Projects\\bird_call_project\\Processed Recordings\\Tyrannus_tyrannus_Dunham_Recreation_Complex_near__Cincinnati_Hamilton_County_Ohio_646450_segment_4.wav is too short or silent. Skipping.\n"
     ]
    },
    {
     "name": "stderr",
     "output_type": "stream",
     "text": [
      " 15%|█▌        | 154/1000 [00:48<04:19,  3.26it/s]"
     ]
    },
    {
     "name": "stdout",
     "output_type": "stream",
     "text": [
      "Warning: Audio file c:\\Users\\16148\\Desktop\\Projects\\bird_call_project\\Processed Recordings\\Myiarchus_crinitus_Miami_Township_near__North_Bend_Hamilton_County_Ohio_646113_segment_40.wav is too short or silent. Skipping.\n"
     ]
    },
    {
     "name": "stderr",
     "output_type": "stream",
     "text": [
      " 22%|██▏       | 221/1000 [01:10<03:47,  3.42it/s]"
     ]
    },
    {
     "name": "stdout",
     "output_type": "stream",
     "text": [
      "Warning: Audio file c:\\Users\\16148\\Desktop\\Projects\\bird_call_project\\Processed Recordings\\Myiarchus_crinitus_Berkshire_near__Galena_Delaware_Ohio_124159_segment_13.wav is too short or silent. Skipping.\n"
     ]
    },
    {
     "name": "stderr",
     "output_type": "stream",
     "text": [
      " 22%|██▎       | 225/1000 [01:11<03:26,  3.75it/s]"
     ]
    },
    {
     "name": "stdout",
     "output_type": "stream",
     "text": [
      "Warning: Audio file c:\\Users\\16148\\Desktop\\Projects\\bird_call_project\\Processed Recordings\\Vireo_olivaceus_Lawrence_Woods_SNP_417986_segment_3.wav is too short or silent. Skipping.\n"
     ]
    },
    {
     "name": "stderr",
     "output_type": "stream",
     "text": [
      " 32%|███▏      | 323/1000 [01:41<03:35,  3.14it/s]"
     ]
    },
    {
     "name": "stdout",
     "output_type": "stream",
     "text": [
      "Warning: Audio file c:\\Users\\16148\\Desktop\\Projects\\bird_call_project\\Processed Recordings\\Vireo_gilvus_Magee_Marsh_-_boardwalk_Lucas_County_Ohio_827590_segment_47.wav is too short or silent. Skipping.\n"
     ]
    },
    {
     "name": "stderr",
     "output_type": "stream",
     "text": [
      " 35%|███▍      | 347/1000 [01:49<04:09,  2.61it/s]"
     ]
    },
    {
     "name": "stdout",
     "output_type": "stream",
     "text": [
      "Warning: Audio file c:\\Users\\16148\\Desktop\\Projects\\bird_call_project\\Processed Recordings\\Vireo_gilvus_Ross_Township_near__Ross_Butler_County_Ohio_807514_segment_23.wav is too short or silent. Skipping.\n"
     ]
    },
    {
     "name": "stderr",
     "output_type": "stream",
     "text": [
      " 38%|███▊      | 384/1000 [02:00<02:59,  3.44it/s]"
     ]
    },
    {
     "name": "stdout",
     "output_type": "stream",
     "text": [
      "Warning: Audio file c:\\Users\\16148\\Desktop\\Projects\\bird_call_project\\Processed Recordings\\Vireo_gilvus_Whitewater_Township_near__Harrison_Hamilton_County_Ohio_726753_segment_16.wav is too short or silent. Skipping.\n"
     ]
    },
    {
     "name": "stderr",
     "output_type": "stream",
     "text": [
      " 39%|███▉      | 394/1000 [02:03<02:57,  3.41it/s]"
     ]
    },
    {
     "name": "stdout",
     "output_type": "stream",
     "text": [
      "Warning: Audio file c:\\Users\\16148\\Desktop\\Projects\\bird_call_project\\Processed Recordings\\Vireo_gilvus_Pelee_near__Leamington_Essex_County_Ontario_477046_segment_6.wav is too short or silent. Skipping.\n"
     ]
    },
    {
     "name": "stderr",
     "output_type": "stream",
     "text": [
      " 42%|████▏     | 421/1000 [02:11<03:04,  3.14it/s]"
     ]
    },
    {
     "name": "stdout",
     "output_type": "stream",
     "text": [
      "Warning: Audio file c:\\Users\\16148\\Desktop\\Projects\\bird_call_project\\Processed Recordings\\Vireo_gilvus_Magee_Marsh_Ohio_939386_segment_15.wav is too short or silent. Skipping.\n"
     ]
    },
    {
     "name": "stderr",
     "output_type": "stream",
     "text": [
      " 43%|████▎     | 427/1000 [02:13<02:49,  3.38it/s]"
     ]
    },
    {
     "name": "stdout",
     "output_type": "stream",
     "text": [
      "Warning: Audio file c:\\Users\\16148\\Desktop\\Projects\\bird_call_project\\Processed Recordings\\Vireo_gilvus_Benton_Township_near__Rocky_Ridge_Ottawa_County_Ohio_902984_segment_5.wav is too short or silent. Skipping.\n"
     ]
    },
    {
     "name": "stderr",
     "output_type": "stream",
     "text": [
      " 44%|████▎     | 435/1000 [02:15<02:50,  3.31it/s]"
     ]
    },
    {
     "name": "stdout",
     "output_type": "stream",
     "text": [
      "Warning: Audio file c:\\Users\\16148\\Desktop\\Projects\\bird_call_project\\Processed Recordings\\Vireo_gilvus_Benton_Township_near__Rocky_Ridge_Ottawa_County_Ohio_902983_segment_7.wav is too short or silent. Skipping.\n"
     ]
    },
    {
     "name": "stderr",
     "output_type": "stream",
     "text": [
      " 48%|████▊     | 484/1000 [02:31<02:43,  3.16it/s]"
     ]
    },
    {
     "name": "stdout",
     "output_type": "stream",
     "text": [
      "Warning: Audio file c:\\Users\\16148\\Desktop\\Projects\\bird_call_project\\Processed Recordings\\Vireo_gilvus_Magee_Marsh_-_boardwalk_Lucas_County_Ohio_827589_segment_8.wav is too short or silent. Skipping.\n"
     ]
    },
    {
     "name": "stderr",
     "output_type": "stream",
     "text": [
      " 49%|████▉     | 494/1000 [02:34<02:33,  3.29it/s]"
     ]
    },
    {
     "name": "stdout",
     "output_type": "stream",
     "text": [
      "Warning: Audio file c:\\Users\\16148\\Desktop\\Projects\\bird_call_project\\Processed Recordings\\Vireo_gilvus_Tanager_Meadow_Reservable_Shelter_near__Harrison_Hamilton_County_Ohio_807452_segment_9.wav is too short or silent. Skipping.\n"
     ]
    },
    {
     "name": "stderr",
     "output_type": "stream",
     "text": [
      " 58%|█████▊    | 578/1000 [03:37<05:27,  1.29it/s]"
     ]
    },
    {
     "name": "stdout",
     "output_type": "stream",
     "text": [
      "Warning: Audio file c:\\Users\\16148\\Desktop\\Projects\\bird_call_project\\Processed Recordings\\Vireo_gilvus_Magee_Marsh_-_boardwalk_Lucas_County_Ohio_827586_segment_58.wav is too short or silent. Skipping.\n"
     ]
    },
    {
     "name": "stderr",
     "output_type": "stream",
     "text": [
      " 61%|██████    | 606/1000 [03:59<05:07,  1.28it/s]"
     ]
    },
    {
     "name": "stdout",
     "output_type": "stream",
     "text": [
      "Warning: Audio file c:\\Users\\16148\\Desktop\\Projects\\bird_call_project\\Processed Recordings\\Vireo_flavifrons_Harrison_Township_near__Harrison_Hamilton_County_Ohio_719923_segment_27.wav is too short or silent. Skipping.\n"
     ]
    },
    {
     "name": "stderr",
     "output_type": "stream",
     "text": [
      " 62%|██████▏   | 618/1000 [04:07<04:27,  1.43it/s]"
     ]
    },
    {
     "name": "stdout",
     "output_type": "stream",
     "text": [
      "Warning: Audio file c:\\Users\\16148\\Desktop\\Projects\\bird_call_project\\Processed Recordings\\Vireo_flavifrons_Spring_Valley_near__Waynesville_Greene_Cty_Ohio_477608_segment_11.wav is too short or silent. Skipping.\n"
     ]
    },
    {
     "name": "stderr",
     "output_type": "stream",
     "text": [
      " 62%|██████▎   | 625/1000 [04:11<04:17,  1.46it/s]"
     ]
    },
    {
     "name": "stdout",
     "output_type": "stream",
     "text": [
      "Warning: Audio file c:\\Users\\16148\\Desktop\\Projects\\bird_call_project\\Processed Recordings\\Vireo_flavifrons_Oak_Openings_Metropark_Ohio_418068_segment_6.wav is too short or silent. Skipping.\n"
     ]
    },
    {
     "name": "stderr",
     "output_type": "stream",
     "text": [
      " 66%|██████▌   | 656/1000 [04:33<04:30,  1.27it/s]"
     ]
    },
    {
     "name": "stdout",
     "output_type": "stream",
     "text": [
      "Warning: Audio file c:\\Users\\16148\\Desktop\\Projects\\bird_call_project\\Processed Recordings\\Vireo_flavifrons_Lawrence_Woods_SNP_417990_segment_27.wav is too short or silent. Skipping.\n"
     ]
    },
    {
     "name": "stderr",
     "output_type": "stream",
     "text": [
      " 68%|██████▊   | 678/1000 [04:48<03:59,  1.34it/s]"
     ]
    },
    {
     "name": "stdout",
     "output_type": "stream",
     "text": [
      "Warning: Audio file c:\\Users\\16148\\Desktop\\Projects\\bird_call_project\\Processed Recordings\\Vireo_flavifrons_Lawrence_Woods_SNP_417989_segment_21.wav is too short or silent. Skipping.\n"
     ]
    },
    {
     "name": "stderr",
     "output_type": "stream",
     "text": [
      " 70%|██████▉   | 695/1000 [05:01<03:57,  1.29it/s]"
     ]
    },
    {
     "name": "stdout",
     "output_type": "stream",
     "text": [
      "Warning: Audio file c:\\Users\\16148\\Desktop\\Projects\\bird_call_project\\Processed Recordings\\Vireo_flavifrons_Shawnee_State_Forest_Scioto_County_Ohio_417452_segment_16.wav is too short or silent. Skipping.\n"
     ]
    },
    {
     "name": "stderr",
     "output_type": "stream",
     "text": [
      " 77%|███████▋  | 774/1000 [06:01<02:55,  1.29it/s]"
     ]
    },
    {
     "name": "stdout",
     "output_type": "stream",
     "text": [
      "Warning: Audio file c:\\Users\\16148\\Desktop\\Projects\\bird_call_project\\Processed Recordings\\Vireo_griseus_Crosby_Township_near__New_Haven_Hamilton_County_Ohio_833700_segment_25.wav is too short or silent. Skipping.\n"
     ]
    },
    {
     "name": "stderr",
     "output_type": "stream",
     "text": [
      " 79%|███████▉  | 789/1000 [06:12<02:44,  1.28it/s]"
     ]
    },
    {
     "name": "stdout",
     "output_type": "stream",
     "text": [
      "Warning: Audio file c:\\Users\\16148\\Desktop\\Projects\\bird_call_project\\Processed Recordings\\Vireo_griseus_Shawnee_State_Forest_Scioto_County_Ohio_417441_segment_14.wav is too short or silent. Skipping.\n"
     ]
    },
    {
     "name": "stderr",
     "output_type": "stream",
     "text": [
      " 80%|███████▉  | 797/1000 [06:18<02:33,  1.32it/s]"
     ]
    },
    {
     "name": "stdout",
     "output_type": "stream",
     "text": [
      "Warning: Audio file c:\\Users\\16148\\Desktop\\Projects\\bird_call_project\\Processed Recordings\\Vireo_griseus_Point_Pelee_ON_83535_segment_7.wav is too short or silent. Skipping.\n"
     ]
    },
    {
     "name": "stderr",
     "output_type": "stream",
     "text": [
      " 83%|████████▎ | 830/1000 [06:42<02:10,  1.30it/s]"
     ]
    },
    {
     "name": "stdout",
     "output_type": "stream",
     "text": [
      "Warning: Audio file c:\\Users\\16148\\Desktop\\Projects\\bird_call_project\\Processed Recordings\\Vireo_griseus_Miami_Township_near__North_Bend_Hamilton_County_Ohio_645855_segment_31.wav is too short or silent. Skipping.\n"
     ]
    },
    {
     "name": "stderr",
     "output_type": "stream",
     "text": [
      " 84%|████████▍ | 845/1000 [06:53<01:59,  1.30it/s]"
     ]
    },
    {
     "name": "stdout",
     "output_type": "stream",
     "text": [
      "Warning: Audio file c:\\Users\\16148\\Desktop\\Projects\\bird_call_project\\Processed Recordings\\Vireo_griseus_Miami_Township_near__North_Bend_Hamilton_County_Ohio_645853_segment_13.wav is too short or silent. Skipping.\n"
     ]
    },
    {
     "name": "stderr",
     "output_type": "stream",
     "text": [
      " 86%|████████▌ | 857/1000 [07:02<01:48,  1.32it/s]"
     ]
    },
    {
     "name": "stdout",
     "output_type": "stream",
     "text": [
      "Warning: Audio file c:\\Users\\16148\\Desktop\\Projects\\bird_call_project\\Processed Recordings\\Vireo_griseus_Three_Creeks_Metro_Park--Confluence_Area_playground_Franklin_County_Ohio_186555_segment_11.wav is too short or silent. Skipping.\n"
     ]
    },
    {
     "name": "stderr",
     "output_type": "stream",
     "text": [
      " 94%|█████████▍| 945/1000 [08:09<00:40,  1.36it/s]"
     ]
    },
    {
     "name": "stdout",
     "output_type": "stream",
     "text": [
      "Warning: Audio file c:\\Users\\16148\\Desktop\\Projects\\bird_call_project\\Processed Recordings\\Vireo_bellii_Heritage_Rail-Trail_South_of_Hayden_Run_Rd_~200m_south_of_mile_marker_2_across_from_nest_box_#10_103570_segment_70.wav is too short or silent. Skipping.\n"
     ]
    },
    {
     "name": "stderr",
     "output_type": "stream",
     "text": [
      " 96%|█████████▌| 958/1000 [08:19<00:31,  1.33it/s]"
     ]
    },
    {
     "name": "stdout",
     "output_type": "stream",
     "text": [
      "Warning: Audio file c:\\Users\\16148\\Desktop\\Projects\\bird_call_project\\Processed Recordings\\Cyanocitta_cristata_Pelee_near__Leamington_Essex_County_Ontario_476525_segment_5.wav is too short or silent. Skipping.\n"
     ]
    },
    {
     "name": "stderr",
     "output_type": "stream",
     "text": [
      "100%|█████████▉| 997/1000 [08:47<00:02,  1.34it/s]"
     ]
    },
    {
     "name": "stdout",
     "output_type": "stream",
     "text": [
      "Warning: Audio file c:\\Users\\16148\\Desktop\\Projects\\bird_call_project\\Processed Recordings\\Cyanocitta_cristata_Cincinnati_Hamilton_County_Ohio_677298_segment_38.wav is too short or silent. Skipping.\n"
     ]
    },
    {
     "name": "stderr",
     "output_type": "stream",
     "text": [
      "100%|██████████| 1000/1000 [08:49<00:00,  1.89it/s]"
     ]
    }
   ],
   "source": [
    "# Usage\n",
    "\n",
    "base_dir = os.getcwd()\n",
    "output_dir = 'mel-spectrograms'\n",
    "\n",
    "feature_data, skipped_files = process_audio_files_batch(augmented_data, base_dir)\n",
    "\n",
    "# Convert feature_data to DataFrame\n",
    "feature_df = pd.DataFrame(feature_data)\n",
    "\n",
    "# Merge the new feature DataFrame with the existing final_data DataFrame\n",
    "final_data = pd.merge(augmented_data, feature_df, on='processed_file', how='left')\n",
    "\n",
    "# Drop rows corresponding to skipped files\n",
    "final_data = final_data[~final_data['processed_file'].isin(skipped_files)]\n",
    "\n",
    "print(final_data.info())\n",
    "\n",
    "print(f\"\\nTotal files in augmented_data: {len(augmented_data)}\")\n",
    "print(f\"Files successfully processed: {len(feature_df)}\")\n",
    "print(f\"Files skipped (too short or silent): {len(skipped_files)}\")\n",
    "print(f\"Files in final_data after dropping skipped files: {len(final_data)}\")"
   ]
  },
  {
   "cell_type": "code",
   "execution_count": null,
   "metadata": {},
   "outputs": [],
   "source": [
    "# Review the dataframe\n",
    "final_data.info()"
   ]
  },
  {
   "cell_type": "code",
   "execution_count": null,
   "metadata": {},
   "outputs": [],
   "source": [
    "# Save DataFrame to CSV\n",
    "final_data.to_csv('final_data.csv', index=False)\n",
    "\n",
    "print(\"Processing complete. Summary data saved to 'final_data.csv'.\")"
   ]
  }
 ],
 "metadata": {
  "kernelspec": {
   "display_name": "dev",
   "language": "python",
   "name": "python3"
  },
  "language_info": {
   "codemirror_mode": {
    "name": "ipython",
    "version": 3
   },
   "file_extension": ".py",
   "mimetype": "text/x-python",
   "name": "python",
   "nbconvert_exporter": "python",
   "pygments_lexer": "ipython3",
   "version": "3.10.14"
  }
 },
 "nbformat": 4,
 "nbformat_minor": 2
}
