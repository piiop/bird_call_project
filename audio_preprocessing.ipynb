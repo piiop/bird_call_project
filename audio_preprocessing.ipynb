{
 "cells": [
  {
   "cell_type": "code",
   "execution_count": 69,
   "metadata": {},
   "outputs": [],
   "source": [
    "# Imports\n",
    "import os\n",
    "import random\n",
    "import logging\n",
    "import warnings\n",
    "\n",
    "\n",
    "import numpy as np\n",
    "import pandas as pd\n",
    "from tqdm import tqdm\n",
    "from multiprocessing import Pool\n",
    "import multiprocessing\n",
    "\n",
    "# Data processing and scientific computing\n",
    "from scipy.io import wavfile\n",
    "from scipy.signal import butter, lfilter\n",
    "from scipy.spatial.distance import cosine\n",
    "\n",
    "# Audio processing\n",
    "import librosa\n",
    "import soundfile as sf\n",
    "\n",
    "# Visualization\n",
    "import matplotlib.pyplot as plt\n",
    "import plotly.express as px\n",
    "\n",
    "# Set up logging\n",
    "logging.basicConfig(level=logging.INFO)"
   ]
  },
  {
   "cell_type": "markdown",
   "metadata": {},
   "source": [
    "### Data Cleansing\n",
    "    - Remove low-quality or noisy recordings based on metadata if available, or by manually inspecting a few samples.\n",
    "\t    - It's a good idea to manually inspect some of the longer clips, especially outliers.\n",
    "\t    - - Listen for: a) Consistency of the bird call throughout the clip b) Presence of long periods of silence c) Sudden changes in background noise or environment\n",
    "\t\t- If you find issues, you might consider trimming these clips to the most relevant sections before segmenting.\n",
    "\t\t- - Definitely inspect a sample of low-rated files.\n",
    "\t\t- Listen for: a) Clarity of the bird call b) Signal-to-noise ratio (how clear the bird call is compared to background noise) c) Presence of distortions or artifacts\n",
    "\t\t- Consider setting a threshold for the quality rating, below which you might exclude files from your dataset.\n",
    "\t\t- Determining if a file is too \"noisy\":\n",
    "\n",
    "\t\t- This can be subjective, but here are some approaches: a) Signal-to-Noise Ratio (SNR): Calculate the SNR for each file. Files below a certain threshold could be considered too noisy. b) Spectral analysis: Look at the spectrogram. A very noisy file will have a lot of energy spread across all frequencies. c) Perceptual evaluation: Listen to a sample and rate them yourself. This can help you calibrate your automatic methods."
   ]
  },
  {
   "cell_type": "code",
   "execution_count": 2,
   "metadata": {},
   "outputs": [],
   "source": [
    "data = pd.read_csv('preprocessed_data.csv')"
   ]
  },
  {
   "cell_type": "code",
   "execution_count": 3,
   "metadata": {},
   "outputs": [
    {
     "data": {
      "text/plain": [
       "Index(['genus', 'species', 'latitude', 'longitude', 'quality', 'file_name',\n",
       "       'simplified_type', 'season', 'time_of_day', 'length_seconds'],\n",
       "      dtype='object')"
      ]
     },
     "execution_count": 3,
     "metadata": {},
     "output_type": "execute_result"
    }
   ],
   "source": [
    "data.columns"
   ]
  },
  {
   "cell_type": "code",
   "execution_count": 45,
   "metadata": {},
   "outputs": [
    {
     "data": {
      "text/plain": [
       "file_name\n",
       "Branta_canadensis_Whitewater_Township_near__Harrison_Hamilton_County_Ohio_726750.mp3                 1\n",
       "Molothrus_ater_Lawrence_Woods_SNP_417996.mp3                                                         1\n",
       "Agelaius_phoeniceus_Crosby_Township_near__Harrison_Hamilton_County_Ohio_482675.mp3                   1\n",
       "Agelaius_phoeniceus_Case_Farm_Gates_Mills_Ohio_98722.mp3                                             1\n",
       "Agelaius_phoeniceus_Ohio_Crane_Creek_SP_17011.mp3                                                    1\n",
       "                                                                                                    ..\n",
       "Tachycineta_bicolor_Pelee_Shuttle_Stop_near__Leamington_Essex_County_Ontario_477045.mp3              1\n",
       "Tachycineta_bicolor_Ohio_Crane_Creek_SP_17046.mp3                                                    1\n",
       "Progne_subis_Vermilion_River_Reservation:_Mill_Hollow_near__Vermilion_Erie_County_Ohio_784046.mp3    1\n",
       "Progne_subis_Ottawa_NWR_Lucas_County_Ohio_803616.mp3                                                 1\n",
       "Sonus_naturalis_Maumee_Bay_State_Park_Lucas_County_Ohio_821133.mp3                                   1\n",
       "Name: count, Length: 692, dtype: int64"
      ]
     },
     "execution_count": 45,
     "metadata": {},
     "output_type": "execute_result"
    }
   ],
   "source": [
    "data['file_name'].value_counts()"
   ]
  },
  {
   "cell_type": "markdown",
   "metadata": {},
   "source": [
    "### The metadata contains a column with a 'quality' rating. I'll manually examine those entries."
   ]
  },
  {
   "cell_type": "code",
   "execution_count": 4,
   "metadata": {},
   "outputs": [
    {
     "data": {
      "text/plain": [
       "quality\n",
       "A           274\n",
       "B           262\n",
       "C           116\n",
       "D            32\n",
       "E             4\n",
       "no score      4\n",
       "Name: count, dtype: int64"
      ]
     },
     "execution_count": 4,
     "metadata": {},
     "output_type": "execute_result"
    }
   ],
   "source": [
    "data['quality'].value_counts()"
   ]
  },
  {
   "cell_type": "code",
   "execution_count": 5,
   "metadata": {},
   "outputs": [
    {
     "data": {
      "text/html": [
       "<div>\n",
       "<style scoped>\n",
       "    .dataframe tbody tr th:only-of-type {\n",
       "        vertical-align: middle;\n",
       "    }\n",
       "\n",
       "    .dataframe tbody tr th {\n",
       "        vertical-align: top;\n",
       "    }\n",
       "\n",
       "    .dataframe thead th {\n",
       "        text-align: right;\n",
       "    }\n",
       "</style>\n",
       "<table border=\"1\" class=\"dataframe\">\n",
       "  <thead>\n",
       "    <tr style=\"text-align: right;\">\n",
       "      <th></th>\n",
       "      <th>genus</th>\n",
       "      <th>species</th>\n",
       "      <th>latitude</th>\n",
       "      <th>longitude</th>\n",
       "      <th>quality</th>\n",
       "      <th>file_name</th>\n",
       "      <th>simplified_type</th>\n",
       "      <th>season</th>\n",
       "      <th>time_of_day</th>\n",
       "      <th>length_seconds</th>\n",
       "    </tr>\n",
       "  </thead>\n",
       "  <tbody>\n",
       "    <tr>\n",
       "      <th>182</th>\n",
       "      <td>Vireo</td>\n",
       "      <td>bellii</td>\n",
       "      <td>39.20950</td>\n",
       "      <td>-84.78210</td>\n",
       "      <td>E</td>\n",
       "      <td>Vireo_bellii_Whitewater_Township_near__Harriso...</td>\n",
       "      <td>Song</td>\n",
       "      <td>Summer</td>\n",
       "      <td>Evening</td>\n",
       "      <td>3</td>\n",
       "    </tr>\n",
       "    <tr>\n",
       "      <th>197</th>\n",
       "      <td>Baeolophus</td>\n",
       "      <td>bicolor</td>\n",
       "      <td>40.94200</td>\n",
       "      <td>-81.52360</td>\n",
       "      <td>no score</td>\n",
       "      <td>Baeolophus_bicolor_Ohio_near__Akron_Summit_Cou...</td>\n",
       "      <td>Call</td>\n",
       "      <td>Summer</td>\n",
       "      <td>Morning</td>\n",
       "      <td>15</td>\n",
       "    </tr>\n",
       "    <tr>\n",
       "      <th>227</th>\n",
       "      <td>Tachycineta</td>\n",
       "      <td>bicolor</td>\n",
       "      <td>41.96820</td>\n",
       "      <td>-82.53050</td>\n",
       "      <td>no score</td>\n",
       "      <td>Tachycineta_bicolor_Pelee_near__Leamington_Ess...</td>\n",
       "      <td>Call</td>\n",
       "      <td>Spring</td>\n",
       "      <td>Morning</td>\n",
       "      <td>2</td>\n",
       "    </tr>\n",
       "    <tr>\n",
       "      <th>364</th>\n",
       "      <td>Spizella</td>\n",
       "      <td>passerina</td>\n",
       "      <td>41.93338</td>\n",
       "      <td>-83.54994</td>\n",
       "      <td>E</td>\n",
       "      <td>Spizella_passerina_Michigan_Monroe_County_1717...</td>\n",
       "      <td>Song</td>\n",
       "      <td>Summer</td>\n",
       "      <td>Unknown</td>\n",
       "      <td>28</td>\n",
       "    </tr>\n",
       "    <tr>\n",
       "      <th>365</th>\n",
       "      <td>Spizella</td>\n",
       "      <td>pusilla</td>\n",
       "      <td>39.88880</td>\n",
       "      <td>-82.79780</td>\n",
       "      <td>no score</td>\n",
       "      <td>Spizella_pusilla_Madison_Township_near__Canal_...</td>\n",
       "      <td>Song</td>\n",
       "      <td>Spring</td>\n",
       "      <td>Afternoon</td>\n",
       "      <td>20</td>\n",
       "    </tr>\n",
       "    <tr>\n",
       "      <th>395</th>\n",
       "      <td>Melospiza</td>\n",
       "      <td>melodia</td>\n",
       "      <td>41.93338</td>\n",
       "      <td>-83.54994</td>\n",
       "      <td>E</td>\n",
       "      <td>Melospiza_melodia_Michigan_Monroe_County_17143...</td>\n",
       "      <td>Song</td>\n",
       "      <td>Summer</td>\n",
       "      <td>Unknown</td>\n",
       "      <td>34</td>\n",
       "    </tr>\n",
       "    <tr>\n",
       "      <th>563</th>\n",
       "      <td>Geothlypis</td>\n",
       "      <td>trichas</td>\n",
       "      <td>41.18950</td>\n",
       "      <td>-81.57810</td>\n",
       "      <td>E</td>\n",
       "      <td>Geothlypis_trichas_Ohio_near__Peninsula_Summit...</td>\n",
       "      <td>Song</td>\n",
       "      <td>Summer</td>\n",
       "      <td>Morning</td>\n",
       "      <td>30</td>\n",
       "    </tr>\n",
       "    <tr>\n",
       "      <th>687</th>\n",
       "      <td>Sonus</td>\n",
       "      <td>naturalis</td>\n",
       "      <td>41.43300</td>\n",
       "      <td>-81.41800</td>\n",
       "      <td>no score</td>\n",
       "      <td>Sonus_naturalis_Chagrin_Falls_Township_near__M...</td>\n",
       "      <td>Song</td>\n",
       "      <td>Spring</td>\n",
       "      <td>Afternoon</td>\n",
       "      <td>28</td>\n",
       "    </tr>\n",
       "  </tbody>\n",
       "</table>\n",
       "</div>"
      ],
      "text/plain": [
       "           genus    species  latitude  longitude   quality  \\\n",
       "182        Vireo     bellii  39.20950  -84.78210         E   \n",
       "197   Baeolophus    bicolor  40.94200  -81.52360  no score   \n",
       "227  Tachycineta    bicolor  41.96820  -82.53050  no score   \n",
       "364     Spizella  passerina  41.93338  -83.54994         E   \n",
       "365     Spizella    pusilla  39.88880  -82.79780  no score   \n",
       "395    Melospiza    melodia  41.93338  -83.54994         E   \n",
       "563   Geothlypis    trichas  41.18950  -81.57810         E   \n",
       "687        Sonus  naturalis  41.43300  -81.41800  no score   \n",
       "\n",
       "                                             file_name simplified_type  \\\n",
       "182  Vireo_bellii_Whitewater_Township_near__Harriso...            Song   \n",
       "197  Baeolophus_bicolor_Ohio_near__Akron_Summit_Cou...            Call   \n",
       "227  Tachycineta_bicolor_Pelee_near__Leamington_Ess...            Call   \n",
       "364  Spizella_passerina_Michigan_Monroe_County_1717...            Song   \n",
       "365  Spizella_pusilla_Madison_Township_near__Canal_...            Song   \n",
       "395  Melospiza_melodia_Michigan_Monroe_County_17143...            Song   \n",
       "563  Geothlypis_trichas_Ohio_near__Peninsula_Summit...            Song   \n",
       "687  Sonus_naturalis_Chagrin_Falls_Township_near__M...            Song   \n",
       "\n",
       "     season time_of_day  length_seconds  \n",
       "182  Summer     Evening               3  \n",
       "197  Summer     Morning              15  \n",
       "227  Spring     Morning               2  \n",
       "364  Summer     Unknown              28  \n",
       "365  Spring   Afternoon              20  \n",
       "395  Summer     Unknown              34  \n",
       "563  Summer     Morning              30  \n",
       "687  Spring   Afternoon              28  "
      ]
     },
     "metadata": {},
     "output_type": "display_data"
    }
   ],
   "source": [
    "\n",
    "low_quality_files = data[(data['quality'] == 'E') | (data['quality'] == 'no score')]\n",
    "display(low_quality_files)"
   ]
  },
  {
   "cell_type": "markdown",
   "metadata": {},
   "source": [
    "### Convert mp3 to wav"
   ]
  },
  {
   "cell_type": "code",
   "execution_count": 6,
   "metadata": {},
   "outputs": [],
   "source": [
    "def convert_mp3_to_wav(mp3_path, wav_path):\n",
    "    \"\"\"\n",
    "    Convert an MP3 file to WAV format using librosa and soundfile.\n",
    "    \n",
    "    Args:\n",
    "    mp3_path (str): Path to the input MP3 file\n",
    "    wav_path (str): Path to save the output WAV file\n",
    "    \n",
    "    Returns:\n",
    "    str: Path to the created WAV file\n",
    "    \n",
    "    Raises:\n",
    "    FileNotFoundError: If the input MP3 file is not found\n",
    "    \"\"\"\n",
    "    if not os.path.exists(mp3_path):\n",
    "        raise FileNotFoundError(f\"MP3 file not found: {mp3_path}\")\n",
    "    \n",
    "    # Load the mp3 file\n",
    "    audio, sr = librosa.load(mp3_path, sr=None, mono=False)\n",
    "    \n",
    "    # Save as wav\n",
    "    sf.write(wav_path, audio.T, sr)\n",
    "    \n",
    "    return wav_path\n",
    "\n",
    "def batch_convert_to_wav(data, input_dir, output_dir):\n",
    "    \"\"\"\n",
    "    Convert all MP3 files in the dataset to WAV format.\n",
    "    \n",
    "    Args:\n",
    "    data (pd.DataFrame): DataFrame containing file information\n",
    "    input_dir (str): Directory containing the input MP3 files\n",
    "    output_dir (str): Directory to save the output WAV files\n",
    "    \n",
    "    Returns:\n",
    "    tuple: (pd.DataFrame, list) Updated DataFrame with new file paths and list of files not found\n",
    "    \"\"\"\n",
    "    os.makedirs(output_dir, exist_ok=True)\n",
    "    \n",
    "    new_data = data.copy()\n",
    "    files_not_found = []\n",
    "    \n",
    "    for index, row in new_data.iterrows():\n",
    "        mp3_path = os.path.join(input_dir, row['file_name'])\n",
    "        wav_filename = os.path.splitext(row['file_name'])[0] + '.wav'\n",
    "        wav_path = os.path.join(output_dir, wav_filename)\n",
    "        \n",
    "        try:\n",
    "            convert_mp3_to_wav(mp3_path, wav_path)\n",
    "            new_data.at[index, 'file_name'] = wav_filename\n",
    "        except FileNotFoundError:\n",
    "            files_not_found.append(row['file_name'])\n",
    "            new_data = new_data.drop(index)\n",
    "    \n",
    "    return new_data.reset_index(drop=True), files_not_found"
   ]
  },
  {
   "cell_type": "code",
   "execution_count": 7,
   "metadata": {},
   "outputs": [
    {
     "name": "stdout",
     "output_type": "stream",
     "text": [
      "Converting MP3 files to WAV...\n",
      "Conversion complete. 691 files converted.\n",
      "WAV files saved in: Converted Recordings\n",
      "Number of files not found: 1\n",
      "List of files not found:\n",
      "['Colaptes_auratus_Miami_Township_near__North_Bend_Hamilton_County_Ohio_713588.mp3']\n"
     ]
    }
   ],
   "source": [
    "original_dir = 'Original Recordings'\n",
    "converted_dir = 'Converted Recordings'\n",
    "\n",
    "# Convert the MP3 files to WAV\n",
    "print(\"Converting MP3 files to WAV...\")\n",
    "converted_data, missing_files = batch_convert_to_wav(data, original_dir, converted_dir)\n",
    "\n",
    "# Print summary\n",
    "print(f\"Conversion complete. {len(converted_data)} files converted.\")\n",
    "print(f\"WAV files saved in: {converted_dir}\")\n",
    "print(f\"Number of files not found: {len(missing_files)}\")\n",
    "\n",
    "# If you want to examine the list of missing files\n",
    "print(\"List of files not found:\")\n",
    "print(missing_files)"
   ]
  },
  {
   "cell_type": "code",
   "execution_count": 47,
   "metadata": {},
   "outputs": [
    {
     "data": {
      "text/plain": [
       "file_name\n",
       "Branta_canadensis_Whitewater_Township_near__Harrison_Hamilton_County_Ohio_726750.wav                 1\n",
       "Molothrus_ater_Lawrence_Woods_SNP_417996.wav                                                         1\n",
       "Agelaius_phoeniceus_Crosby_Township_near__Harrison_Hamilton_County_Ohio_482675.wav                   1\n",
       "Agelaius_phoeniceus_Case_Farm_Gates_Mills_Ohio_98722.wav                                             1\n",
       "Agelaius_phoeniceus_Ohio_Crane_Creek_SP_17011.wav                                                    1\n",
       "                                                                                                    ..\n",
       "Tachycineta_bicolor_Ohio_Crane_Creek_SP_17046.wav                                                    1\n",
       "Progne_subis_Vermilion_River_Reservation:_Mill_Hollow_near__Vermilion_Erie_County_Ohio_784046.wav    1\n",
       "Progne_subis_Ottawa_NWR_Lucas_County_Ohio_803616.wav                                                 1\n",
       "Progne_subis_Magee_Marsh_Ohio_164751.wav                                                             1\n",
       "Sonus_naturalis_Maumee_Bay_State_Park_Lucas_County_Ohio_821133.wav                                   1\n",
       "Name: count, Length: 691, dtype: int64"
      ]
     },
     "execution_count": 47,
     "metadata": {},
     "output_type": "execute_result"
    }
   ],
   "source": [
    "converted_data['file_name'].value_counts()"
   ]
  },
  {
   "cell_type": "markdown",
   "metadata": {},
   "source": [
    "\"\"\"\n",
    "Audio Cleaning Functions\n",
    "\n",
    "These functions collectively clean an audio file by:\n",
    "1. Calculating its signal-to-noise ratio (SNR) and filtering out audio that is too noisy.\n",
    "2. Detecting and trimming long silences from the audio.\n",
    "3. Checking for spectral spread, which is an indicator of unwanted noise or anomalies.\n",
    "\n",
    "Main function:\n",
    "- `clean_audio`: Uses `is_too_noisy`, `has_long_silence`, and `check_spectral_spread` to decide if an audio file is suitable for further processing.\n",
    "\"\"\"\n",
    "\n",
    "- **Feature Extraction with Librosa**:\n",
    "    - Extract features like **Mel-spectrograms** and **MFCCs** from each audio file. These features are effective for audio classification tasks.\n",
    "    - Store these features as images (for CNN input) or numerical arrays (for models like Random Forest or RNNs).\n",
    "\n",
    "    - **Audio Standardization**:\n",
    "    - Convert all files to a consistent format (e.g., 16-bit WAV, mono-channel, and a sampling rate like 16 kHz).\n",
    "- **Clip Standardization**:\n",
    "    - Trim or pad each audio clip to a standard duration (e.g., 5 seconds), so all inputs have the same shape."
   ]
  },
  {
   "cell_type": "markdown",
   "metadata": {},
   "source": [
    "### Start with resampling so every file has the same sample rate"
   ]
  },
  {
   "cell_type": "code",
   "execution_count": null,
   "metadata": {},
   "outputs": [],
   "source": [
    "# Define global variable\n",
    "# Define sample rate\n",
    "sr = 44100"
   ]
  },
  {
   "cell_type": "code",
   "execution_count": 8,
   "metadata": {},
   "outputs": [
    {
     "name": "stdout",
     "output_type": "stream",
     "text": [
      "Resampling process complete.\n",
      "Total files checked: 690\n",
      "Files resampled: 311\n"
     ]
    }
   ],
   "source": [
    "\n",
    "def resample_audio(file_path, target_sr=sr):\n",
    "    try:\n",
    "        # Load the audio file\n",
    "        audio, sr = librosa.load(file_path, sr=None)\n",
    "        \n",
    "        # Resample if necessary\n",
    "        if sr != target_sr:\n",
    "            audio = librosa.resample(y=audio, orig_sr=sr, target_sr=target_sr)\n",
    "            \n",
    "            # Overwrite the original file\n",
    "            sf.write(file_path, audio, target_sr)\n",
    "            \n",
    "            return True  # Indicate that resampling was performed\n",
    "        else:\n",
    "            return False  # Indicate that no resampling was needed\n",
    "    except Exception as e:\n",
    "        logging.error(f\"Error processing {file_path}: {str(e)}\")\n",
    "        return None\n",
    "\n",
    "def resample_all_files(directory='Converted Recordings', target_sr=44100):\n",
    "    total_files = 0\n",
    "    resampled_files = 0\n",
    "    error_files = 0\n",
    "    \n",
    "    # Iterate through all files in the directory\n",
    "    for filename in os.listdir(directory):\n",
    "        if filename.endswith('.wav'):  # Assuming we're only processing .wav files\n",
    "            total_files += 1\n",
    "            file_path = os.path.join(directory, filename)\n",
    "            result = resample_audio(file_path, target_sr)\n",
    "            if result is True:\n",
    "                resampled_files += 1\n",
    "            elif result is None:\n",
    "                error_files += 1\n",
    "    \n",
    "    print(f\"Resampling process complete.\")\n",
    "    print(f\"Total files checked: {total_files}\")\n",
    "    print(f\"Files resampled: {resampled_files}\")\n",
    "    if error_files > 0:\n",
    "        print(f\"Files with errors: {error_files}\")\n",
    "\n",
    "# Usage\n",
    "logging.basicConfig(level=logging.ERROR)  # Only log errors\n",
    "resample_all_files('Converted Recordings')"
   ]
  },
  {
   "cell_type": "code",
   "execution_count": 9,
   "metadata": {},
   "outputs": [],
   "source": [
    "def calculate_snr(audio):\n",
    "    \"\"\"Calculate the signal-to-noise ratio of an audio clip.\"\"\"\n",
    "    signal = np.mean(audio**2)\n",
    "    noise = np.mean((audio - np.mean(audio))**2)\n",
    "    snr = 10 * np.log10(signal / noise)\n",
    "    return snr\n",
    "\n",
    "def is_too_noisy(audio, sr, threshold=-20):\n",
    "    \"\"\"Check if audio is too noisy based on its SNR.\"\"\"\n",
    "    snr = calculate_snr(audio)\n",
    "    return snr < threshold\n",
    "\n",
    "def has_long_silence(audio, sr, silence_threshold=-60, min_silence_duration=1.0):\n",
    "    \"\"\"Detects long silences within the audio clip.\"\"\"\n",
    "    intervals = librosa.effects.split(audio, top_db=-silence_threshold)\n",
    "    if len(intervals) > 1:\n",
    "        silence_durations = np.diff(intervals.ravel())[1::2] / sr\n",
    "        return np.any(silence_durations >= min_silence_duration)\n",
    "    return False\n",
    "\n",
    "def check_spectral_spread(audio, sr, threshold=0.8):\n",
    "    \"\"\"Check if the spectral spread exceeds the specified threshold.\"\"\"\n",
    "    spec = np.abs(librosa.stft(audio))\n",
    "    spectral_spread = np.sum(spec > np.mean(spec)) / spec.size\n",
    "    return spectral_spread > threshold\n",
    "\n",
    "def clean_audio(audio, sr, file_path, shared_discarded_files):\n",
    "    \"\"\"Cleans an audio file by removing noise, silence, and checking for spectral spread.\"\"\"\n",
    "    # Get file name for logging\n",
    "    file_name = os.path.basename(file_path)\n",
    "\n",
    "    # Check noise level\n",
    "    if is_too_noisy(audio, sr):\n",
    "        shared_discarded_files.append({'file_path': file_path, 'reason': 'too_noisy', 'snr': calculate_snr(audio)})\n",
    "        return None\n",
    "    \n",
    "    # Check for long silences\n",
    "    if has_long_silence(audio, sr):\n",
    "        audio = librosa.effects.trim(audio, top_db=20)[0]\n",
    "    \n",
    "    # Check spectral spread\n",
    "    if check_spectral_spread(audio, sr):\n",
    "        shared_discarded_files.append({'file_path': file_path, 'reason': 'bad_spectral_spread'})\n",
    "        return None\n",
    "    \n",
    "    return audio"
   ]
  },
  {
   "cell_type": "markdown",
   "metadata": {},
   "source": [
    "### Testing the functions on a single file"
   ]
  },
  {
   "cell_type": "code",
   "execution_count": 11,
   "metadata": {},
   "outputs": [
    {
     "name": "stdout",
     "output_type": "stream",
     "text": [
      "calculate_snr completed. SNR: 2.070876945481359e-06\n",
      "is_too_noisy completed. Result: False\n",
      "has_long_silence completed. Result: False\n",
      "check_spectral_spread completed. Result: False\n",
      "clean_audio completed. Cleaned audio returned: Yes\n",
      "\n",
      "Tested file: Converted Recordings\\Melospiza_melodia_Battelle_Darby_Metro_Park--Darby_Dan_Training_Loop_trail_SW_corner_105818.wav\n"
     ]
    }
   ],
   "source": [
    "\n",
    "\n",
    "# Choose a random file\n",
    "random_file = random.choice(converted_data['file_name'].tolist())\n",
    "file_path = os.path.join('Converted Recordings', random_file)\n",
    "\n",
    "# Load the audio file\n",
    "audio, _ = librosa.load(file_path, sr=sr)\n",
    "\n",
    "# Test calculate_snr function\n",
    "snr = calculate_snr(audio)\n",
    "print(f\"calculate_snr completed. SNR: {snr}\")\n",
    "\n",
    "# Test is_too_noisy function\n",
    "too_noisy = is_too_noisy(audio, sr)\n",
    "print(f\"is_too_noisy completed. Result: {too_noisy}\")\n",
    "\n",
    "# Test has_long_silence function\n",
    "long_silence = has_long_silence(audio, sr)\n",
    "print(f\"has_long_silence completed. Result: {long_silence}\")\n",
    "\n",
    "# Test check_spectral_spread function\n",
    "spectral_spread = check_spectral_spread(audio, sr)\n",
    "print(f\"check_spectral_spread completed. Result: {spectral_spread}\")\n",
    "\n",
    "# Test clean_audio function\n",
    "shared_discarded_files = []\n",
    "cleaned_audio = clean_audio(audio, sr, file_path, shared_discarded_files)\n",
    "print(f\"clean_audio completed. Cleaned audio returned: {'Yes' if cleaned_audio is not None else 'No'}\")\n",
    "if shared_discarded_files:\n",
    "    print(f\"File discarded. Reason: {shared_discarded_files[0]['reason']}\")\n",
    "\n",
    "print(f\"\\nTested file: {file_path}\")"
   ]
  },
  {
   "cell_type": "markdown",
   "metadata": {},
   "source": [
    "### Test duplication functions two files"
   ]
  },
  {
   "cell_type": "code",
   "execution_count": 12,
   "metadata": {},
   "outputs": [],
   "source": [
    "def get_audio_fingerprint(audio, sr):\n",
    "    n_fft = min(2048, len(audio))\n",
    "    mfccs = librosa.feature.mfcc(y=audio, sr=sr, n_mfcc=13, n_fft=n_fft)\n",
    "    return np.mean(mfccs, axis=1)\n",
    "\n",
    "def are_near_duplicates(audio1, sr1, audio2, sr2, threshold=0.99):\n",
    "    if len(audio1) == 0 or len(audio2) == 0:\n",
    "        raise ValueError(\"One or both audio files are empty\")\n",
    "    \n",
    "    if sr1 != sr2:\n",
    "        print(f\"Warning: Sample rates differ ({sr1} vs {sr2}). Resampling may be necessary.\")\n",
    "    \n",
    "    fp1 = get_audio_fingerprint(audio1, sr1)\n",
    "    fp2 = get_audio_fingerprint(audio2, sr2)\n",
    "    \n",
    "    if len(fp1) != len(fp2):\n",
    "        raise ValueError(\"Fingerprints have different lengths\")\n",
    "    \n",
    "    similarity = 1 - cosine(fp1, fp2)\n",
    "    return similarity > threshold\n",
    "\n",
    "def check_audio_duplicates(file_path, shared_duplicates, shared_discarded_files):\n",
    "    try:\n",
    "        # Load the audio\n",
    "        audio, sr = librosa.load(file_path, sr=None)\n",
    "        \n",
    "        # Check for duplicates\n",
    "        for existing_audio, existing_sr, existing_path in shared_duplicates:\n",
    "            if are_near_duplicates(audio, sr, existing_audio, existing_sr):\n",
    "                shared_discarded_files.append((file_path, 'duplicate'))\n",
    "                return True  # It's a duplicate\n",
    "\n",
    "        # If not a duplicate, store the audio and path\n",
    "        shared_duplicates.append((audio, sr, file_path))\n",
    "        return False  # It's not a duplicate\n",
    "    except Exception as e:\n",
    "        logging.error(f\"Error checking duplicates for {file_path}: {str(e)}\")\n",
    "        shared_discarded_files.append((file_path, f'error: {str(e)}'))\n",
    "        return None  # Error occurred\n",
    "\n",
    "def check_and_remove_duplicates(directory='Converted Recordings'):\n",
    "    shared_duplicates = []\n",
    "    shared_discarded_files = []\n",
    "    duplicate_files = []\n",
    "    total_files = 0\n",
    "\n",
    "    # Check each file in the directory for duplicates\n",
    "    for filename in os.listdir(directory):\n",
    "        if filename.endswith('.wav'):  # We're only processing .wav files\n",
    "            total_files += 1\n",
    "            file_path = os.path.join(directory, filename)\n",
    "            is_duplicate = check_audio_duplicates(file_path, shared_duplicates, shared_discarded_files)\n",
    "            if is_duplicate:\n",
    "                duplicate_files.append(file_path)\n",
    "\n",
    "    # Log the results\n",
    "    print(f\"Total files checked: {total_files}\")\n",
    "    print(f\"Duplicate files found: {len(duplicate_files)}\")\n",
    "\n",
    "    return duplicate_files, shared_discarded_files"
   ]
  },
  {
   "cell_type": "code",
   "execution_count": 13,
   "metadata": {},
   "outputs": [
    {
     "name": "stdout",
     "output_type": "stream",
     "text": [
      "Testing get_audio_fingerprint function:\n",
      "get_audio_fingerprint completed for file 1.\n",
      "Fingerprint shape: (13,)\n",
      "Fingerprint: [-382.887      131.52614    -25.590466    42.742638    11.518386\n",
      "   18.056452    -2.9881737   26.282648    12.907345    14.582416\n",
      "    3.7415042   15.959805     2.6299613]\n",
      "get_audio_fingerprint completed for file 2.\n",
      "Fingerprint shape: (13,)\n",
      "Fingerprint: [-428.40958     -6.4183793 -147.9484     -62.548386   -90.87569\n",
      "   21.31862    -40.288704    24.530449   -25.477175    28.19994\n",
      "   -9.91276     24.831785    -3.5105407]\n",
      "\n",
      "Testing are_near_duplicates function:\n",
      "Threshold: 0.95\n",
      "Similarity score: 0.8521050087261923\n",
      "Result: The two files are not near duplicates.\n",
      "Threshold: 0.99\n",
      "Similarity score: 0.8521050087261923\n",
      "Result: The two files are not near duplicates.\n",
      "Threshold: 0.999\n",
      "Similarity score: 0.8521050087261923\n",
      "Result: The two files are not near duplicates.\n",
      "\n",
      "Tested files:\n",
      "File 1: Converted Recordings\\Thryothorus_ludovicianus_Park_End_Dr_Montgomery_County_Ohio_477391.wav\n",
      "File 2: Converted Recordings\\Catharus_minimus_Bricker_Blvd_near_Cranbrook_Elementary_Columbus_OH_127734.wav\n"
     ]
    }
   ],
   "source": [
    "### Check duplicate checking functions on two files\n",
    "\n",
    "# Define sample rate\n",
    "sr = 44100\n",
    "\n",
    "# Choose two random files\n",
    "random_files = random.sample(converted_data['file_name'].tolist(), 2)\n",
    "file_paths = [os.path.join('Converted Recordings', file) for file in random_files]\n",
    "\n",
    "# Load the audio files\n",
    "audio1, _ = librosa.load(file_paths[0], sr=sr)\n",
    "audio2, _ = librosa.load(file_paths[1], sr=sr)\n",
    "\n",
    "# Test get_audio_fingerprint function\n",
    "print(\"Testing get_audio_fingerprint function:\")\n",
    "fingerprint1 = get_audio_fingerprint(audio1, sr)\n",
    "print(f\"get_audio_fingerprint completed for file 1.\")\n",
    "print(f\"Fingerprint shape: {fingerprint1.shape}\")\n",
    "print(f\"Fingerprint: {fingerprint1}\")\n",
    "\n",
    "fingerprint2 = get_audio_fingerprint(audio2, sr)\n",
    "print(f\"get_audio_fingerprint completed for file 2.\")\n",
    "print(f\"Fingerprint shape: {fingerprint2.shape}\")\n",
    "print(f\"Fingerprint: {fingerprint2}\")\n",
    "\n",
    "# Test are_near_duplicates function with different thresholds\n",
    "print(\"\\nTesting are_near_duplicates function:\")\n",
    "thresholds = [0.95, 0.99, 0.999]\n",
    "for threshold in thresholds:\n",
    "    try:\n",
    "        similarity = 1 - cosine(fingerprint1, fingerprint2)\n",
    "        are_duplicates = similarity > threshold\n",
    "        print(f\"Threshold: {threshold}\")\n",
    "        print(f\"Similarity score: {similarity}\")\n",
    "        print(f\"Result: The two files are {'near duplicates' if are_duplicates else 'not near duplicates'}.\")\n",
    "    except ValueError as e:\n",
    "        print(f\"Error occurred: {str(e)}\")\n",
    "\n",
    "print(f\"\\nTested files:\")\n",
    "print(f\"File 1: {file_paths[0]}\")\n",
    "print(f\"File 2: {file_paths[1]}\")"
   ]
  },
  {
   "cell_type": "code",
   "execution_count": 14,
   "metadata": {},
   "outputs": [],
   "source": [
    "# # Apply duplicate checking to all files\n",
    "# logging.basicConfig(level=logging.INFO)\n",
    "# duplicates, discarded_files = check_and_remove_duplicates('Converted Recordings')\n",
    "\n",
    "# print(f\"Duplicate files found: {len(duplicates)}\")\n",
    "# print(\"List of duplicate files:\")\n",
    "# for file in duplicates:\n",
    "#     print(file)\n",
    "\n",
    "# print(f\"\\nTotal discarded files: {len(discarded_files)}\")\n",
    "# print(\"List of discarded files and reasons:\")\n",
    "# for file, reason in discarded_files:\n",
    "#     print(f\"{file}: {reason}\")"
   ]
  },
  {
   "cell_type": "code",
   "execution_count": 15,
   "metadata": {},
   "outputs": [],
   "source": [
    "def process_audio(file_path, shared_discarded_files, target_length=5, overlap=0.5, target_sr=44100):\n",
    "    print(f\"Processing file: {file_path}\")  # For process_audio\n",
    "    try:\n",
    "        # Load and clean the audio\n",
    "        audio, sr = librosa.load(file_path, sr=None)\n",
    "        audio = clean_audio(audio, sr, file_path, shared_discarded_files)\n",
    "        if audio is None:\n",
    "            return None, None\n",
    "        \n",
    "        # Check if audio is shorter than 4410 samples (100ms at 44.1kHz)\n",
    "        if len(audio) < 4410:\n",
    "            shared_discarded_files.append((file_path, 'too_short'))\n",
    "            return None, None\n",
    "            \n",
    "        # Convert target_length to samples\n",
    "        target_samples = int(sr * target_length)\n",
    "        \n",
    "        # If audio is shorter than target length, pad with zeros\n",
    "        if len(audio) < target_samples:\n",
    "            audio = np.pad(audio, (0, target_samples - len(audio)))\n",
    "        \n",
    "        # If audio is longer than target length, segment with overlap\n",
    "        else:\n",
    "            segments = []\n",
    "            for start in range(0, len(audio), int(target_samples * (1 - overlap))):\n",
    "                segment = audio[start:start + target_samples]\n",
    "                if len(segment) == target_samples:\n",
    "                    segments.append(segment)\n",
    "                elif len(segment) > 0:\n",
    "                    segment = np.pad(segment, (0, target_samples - len(segment)))\n",
    "                    segments.append(segment)\n",
    "            audio = np.array(segments)\n",
    "\n",
    "        return audio, sr\n",
    "    except Exception as e:\n",
    "        logging.error(f\"Error processing {file_path}: {str(e)}\")\n",
    "        shared_discarded_files.append((file_path, f'error: {str(e)}'))\n",
    "        return None, None\n"
   ]
  },
  {
   "cell_type": "code",
   "execution_count": 16,
   "metadata": {},
   "outputs": [],
   "source": [
    "def process_file(args):\n",
    "    row, audio_dir, output_dir, shared_discarded_files = args\n",
    "    file_path = os.path.join(audio_dir, row['file_name'])\n",
    "    print(f\"Row: {row['file_name']}\")  # For process_file\n",
    "    if not os.path.exists(file_path):\n",
    "        logging.warning(f\"File not found: {file_path}\")\n",
    "        return None\n",
    "    \n",
    "    processed_audio, sr = process_audio(file_path, shared_discarded_files)\n",
    "    if processed_audio is None:\n",
    "        return None\n",
    "    \n",
    "    processed_data = []\n",
    "    if processed_audio.ndim == 2:\n",
    "        for i, segment in enumerate(processed_audio):\n",
    "            new_row = row.copy()\n",
    "            base_filename = f\"{os.path.splitext(row['file_name'])[0]}_segment_{i}\"\n",
    "            new_row['processed_file'] = f\"{base_filename}.wav\"\n",
    "            wavfile.write(os.path.join(output_dir, new_row['processed_file']), sr, segment)\n",
    "            processed_data.append(new_row)\n",
    "    else:\n",
    "        base_filename = f\"{os.path.splitext(row['file_name'])[0]}_processed\"\n",
    "        row['processed_file'] = f\"{base_filename}.wav\"\n",
    "        wavfile.write(os.path.join(output_dir, row['processed_file']), sr, processed_audio)\n",
    "        processed_data.append(row)\n",
    "    \n",
    "    return processed_data\n"
   ]
  },
  {
   "cell_type": "code",
   "execution_count": 17,
   "metadata": {},
   "outputs": [],
   "source": [
    "def process_dataset(converted_data, audio_dir, output_dir):\n",
    "    manager = multiprocessing.Manager()\n",
    "    shared_discarded_files = manager.list()\n",
    "    \n",
    "    print(f\"Audio directory: {audio_dir}, Output directory: {output_dir}\")\n",
    "    results = []\n",
    "    \n",
    "    for _, row in converted_data.iterrows():\n",
    "        results.append(process_file((row, audio_dir, output_dir, shared_discarded_files)))\n",
    "    \n",
    "    processed_data = [item for sublist in results if sublist is not None for item in sublist]\n",
    "\n",
    "    # Save discarded files to a DataFrame and export as CSV\n",
    "    discard_log_df = pd.DataFrame(list(shared_discarded_files), columns=['file_path', 'reason'])\n",
    "    discard_log_df.to_csv('discarded_audio_log.csv', index=False)\n",
    "\n",
    "    return pd.DataFrame(processed_data)"
   ]
  },
  {
   "cell_type": "code",
   "execution_count": 18,
   "metadata": {},
   "outputs": [],
   "source": [
    "## Testing audio processing functions on a single file\n",
    "\n",
    "# Select a random file\n",
    "random_file = random.choice(converted_data['file_name'])\n",
    "file_path = os.path.join('Converted Recordings', random_file)\n",
    "\n",
    "print(f\"Testing audio processing on file: {random_file}\")\n",
    "\n",
    "# Create a dummy row for testing\n",
    "test_row = pd.Series({'file_name': random_file})\n",
    "\n",
    "# Create necessary directories\n",
    "output_dir = 'Test'\n",
    "os.makedirs(output_dir, exist_ok=True)\n",
    "\n",
    "# Process the audio file\n",
    "processed_audio, sr = process_audio(file_path)\n",
    "\n",
    "if processed_audio is not None:\n",
    "    print(f\"Audio processed successfully.\")\n",
    "    print(f\"Processed audio shape: {processed_audio.shape}\")\n",
    "    print(f\"Sample rate: {sr}\")\n",
    "\n",
    "    # Simulate the process_file function\n",
    "    args = (test_row, 'Converted Recordings', output_dir)\n",
    "    processed_data = process_file(args)\n",
    "\n",
    "    if processed_data is not None:\n",
    "        print(\"\\nProcessed data:\")\n",
    "        for item in processed_data:\n",
    "            print(f\"Processed file: {item['processed_file']}\")\n",
    "        print(f\"Number of segments: {len(processed_data)}\")\n",
    "\n",
    "        # Verify the output files\n",
    "        for item in processed_data:\n",
    "            output_file = os.path.join(output_dir, item['processed_file'])\n",
    "            if os.path.exists(output_file):\n",
    "                print(f\"Output file created: {output_file}\")\n",
    "                # Load and print some information about the output file\n",
    "                audio, sr = librosa.load(output_file, sr=None)\n",
    "                print(f\"Output audio duration: {librosa.get_duration(y=audio, sr=sr):.2f} seconds\")\n",
    "            else:\n",
    "                print(f\"Error: Output file not created: {output_file}\")\n",
    "    else:\n",
    "        print(\"Error: process_file returned None\")\n",
    "else:\n",
    "    print(\"Error: Audio processing failed\")\n",
    "\n",
    "print(\"\\nAudio processing test complete.\")"
   ]
  },
  {
   "cell_type": "code",
   "execution_count": 19,
   "metadata": {},
   "outputs": [
    {
     "name": "stdout",
     "output_type": "stream",
     "text": [
      "Audio directory: Converted Recordings, Output directory: Processed Recordings\n",
      "Row: Branta_canadensis_Whitewater_Township_near__Harrison_Hamilton_County_Ohio_726750.wav\n",
      "Processing file: Converted Recordings\\Branta_canadensis_Whitewater_Township_near__Harrison_Hamilton_County_Ohio_726750.wav\n",
      "Row: Branta_canadensis_Lawrence_Woods_SNP_418000.wav\n",
      "Processing file: Converted Recordings\\Branta_canadensis_Lawrence_Woods_SNP_418000.wav\n",
      "Row: Branta_canadensis_Miami_Whitewater_Forest_Park_wetlands_Crosby_Township_near__Harrison_Hamilton_County_Ohio_691528.wav\n",
      "Processing file: Converted Recordings\\Branta_canadensis_Miami_Whitewater_Forest_Park_wetlands_Crosby_Township_near__Harrison_Hamilton_County_Ohio_691528.wav\n",
      "Row: Cygnus_buccinator_Killdeer_Plains_Wildlife_Management_Area_Wyandot_County_Ohio_713788.wav\n",
      "Processing file: Converted Recordings\\Cygnus_buccinator_Killdeer_Plains_Wildlife_Management_Area_Wyandot_County_Ohio_713788.wav\n",
      "Row: Aix_sponsa_Magee_Marsh_-_boardwalk_Lucas_County_Ohio_815809.wav\n",
      "Processing file: Converted Recordings\\Aix_sponsa_Magee_Marsh_-_boardwalk_Lucas_County_Ohio_815809.wav\n",
      "Row: Anas_acuta_Cincinnati_Hamilton_County_Ohio_855312.wav\n",
      "Processing file: Converted Recordings\\Anas_acuta_Cincinnati_Hamilton_County_Ohio_855312.wav\n",
      "Row: Colinus_virginianus_New_Market_Township_near__Hoagland_Highland_County_Ohio_805814.wav\n",
      "Processing file: Converted Recordings\\Colinus_virginianus_New_Market_Township_near__Hoagland_Highland_County_Ohio_805814.wav\n",
      "Row: Colinus_virginianus_Michigan_Monroe_County_17130.wav\n",
      "Processing file: Converted Recordings\\Colinus_virginianus_Michigan_Monroe_County_17130.wav\n",
      "Row: Colinus_virginianus_Michigan_Monroe_County_17061.wav\n",
      "Processing file: Converted Recordings\\Colinus_virginianus_Michigan_Monroe_County_17061.wav\n",
      "Row: Colinus_virginianus_Michigan_Monroe_County_17060.wav\n",
      "Processing file: Converted Recordings\\Colinus_virginianus_Michigan_Monroe_County_17060.wav\n",
      "Row: Phasianus_colchicus_Michigan_Monroe_County_16976.wav\n",
      "Processing file: Converted Recordings\\Phasianus_colchicus_Michigan_Monroe_County_16976.wav\n",
      "Row: Chordeiles_minor_Green_Township_near__Cincinnati_Hamilton_County_Ohio_647199.wav\n",
      "Processing file: Converted Recordings\\Chordeiles_minor_Green_Township_near__Cincinnati_Hamilton_County_Ohio_647199.wav\n",
      "Row: Antrostomus_carolinensis_Brush_Creek_Township_near__West_Union_Adams_County_Ohio_939173.wav\n",
      "Processing file: Converted Recordings\\Antrostomus_carolinensis_Brush_Creek_Township_near__West_Union_Adams_County_Ohio_939173.wav\n",
      "Row: Antrostomus_carolinensis_Hamilton_Rd_Adams_Cty_Ohio_939171.wav\n",
      "Processing file: Converted Recordings\\Antrostomus_carolinensis_Hamilton_Rd_Adams_Cty_Ohio_939171.wav\n",
      "Row: Antrostomus_carolinensis_Brush_Creek_Township_near__West_Union_Adams_County_Ohio_804643.wav\n",
      "Processing file: Converted Recordings\\Antrostomus_carolinensis_Brush_Creek_Township_near__West_Union_Adams_County_Ohio_804643.wav\n",
      "Row: Antrostomus_carolinensis_Brush_Creek_near__West_Union_Adams_County_Ohio_178533.wav\n",
      "Processing file: Converted Recordings\\Antrostomus_carolinensis_Brush_Creek_near__West_Union_Adams_County_Ohio_178533.wav\n",
      "Row: Antrostomus_vociferus_Sutton_Braxton_County_West_Virginia_929758.wav\n",
      "Processing file: Converted Recordings\\Antrostomus_vociferus_Sutton_Braxton_County_West_Virginia_929758.wav\n",
      "Row: Chaetura_pelagica_Green_Township_near__Cincinnati_Hamilton_County_Ohio_676768.wav\n",
      "Processing file: Converted Recordings\\Chaetura_pelagica_Green_Township_near__Cincinnati_Hamilton_County_Ohio_676768.wav\n",
      "Row: Chaetura_pelagica_Michigan_Monroe_County_17058.wav\n",
      "Processing file: Converted Recordings\\Chaetura_pelagica_Michigan_Monroe_County_17058.wav\n",
      "Row: Coccyzus_americanus_Magee_Marsh_boardwalk_west_end_262809.wav\n",
      "Processing file: Converted Recordings\\Coccyzus_americanus_Magee_Marsh_boardwalk_west_end_262809.wav\n",
      "Row: Coccyzus_erythropthalmus_Point_Pelee_National_Park_Essex_County_Ontario_910739.wav\n",
      "Processing file: Converted Recordings\\Coccyzus_erythropthalmus_Point_Pelee_National_Park_Essex_County_Ontario_910739.wav\n",
      "Row: Coccyzus_erythropthalmus_Thursby_Rd_near_Singer_Lake_Green_Summit_County_Ohio_376138.wav\n",
      "Processing file: Converted Recordings\\Coccyzus_erythropthalmus_Thursby_Rd_near_Singer_Lake_Green_Summit_County_Ohio_376138.wav\n",
      "Row: Zenaida_macroura_Pelee_near__Leamington_Essex_County_Ontario_476933.wav\n",
      "Processing file: Converted Recordings\\Zenaida_macroura_Pelee_near__Leamington_Essex_County_Ontario_476933.wav\n",
      "Row: Rallus_elegans_Battelle_Darby_Metro_Park_-_Wetlands_417850.wav\n",
      "Processing file: Converted Recordings\\Rallus_elegans_Battelle_Darby_Metro_Park_-_Wetlands_417850.wav\n",
      "Row: Rallus_elegans_Glacier_Ridge_Metro_Park--Honda_Wetlands_103499.wav\n",
      "Processing file: Converted Recordings\\Rallus_elegans_Glacier_Ridge_Metro_Park--Honda_Wetlands_103499.wav\n",
      "Row: Porzana_carolina_Ross_Township_near__Ross_Butler_County_Ohio_807518.wav\n",
      "Processing file: Converted Recordings\\Porzana_carolina_Ross_Township_near__Ross_Butler_County_Ohio_807518.wav\n",
      "Row: Porzana_carolina_Battelle_Darby_Metro_Park_-_Wetlands_417847.wav\n",
      "Processing file: Converted Recordings\\Porzana_carolina_Battelle_Darby_Metro_Park_-_Wetlands_417847.wav\n",
      "Row: Porzana_carolina_Battelle_Darby_Metro_Park_-_Wetlands_417849.wav\n",
      "Processing file: Converted Recordings\\Porzana_carolina_Battelle_Darby_Metro_Park_-_Wetlands_417849.wav\n",
      "Row: Antigone_canadensis_Troy_Township_near__Delaware_Delaware_County_Ohio_625913.wav\n",
      "Processing file: Converted Recordings\\Antigone_canadensis_Troy_Township_near__Delaware_Delaware_County_Ohio_625913.wav\n",
      "Row: Charadrius_vociferus_Magee_Marsh_-_boardwalk_Lucas_County_Ohio_817568.wav\n",
      "Processing file: Converted Recordings\\Charadrius_vociferus_Magee_Marsh_-_boardwalk_Lucas_County_Ohio_817568.wav\n",
      "Row: Charadrius_vociferus_Ross_Township_near__Hamilton_Butler_County_Ohio_533371.wav\n",
      "Processing file: Converted Recordings\\Charadrius_vociferus_Ross_Township_near__Hamilton_Butler_County_Ohio_533371.wav\n",
      "Row: Calidris_alpina_Ohio_Magee_Marsh_17027.wav\n",
      "Processing file: Converted Recordings\\Calidris_alpina_Ohio_Magee_Marsh_17027.wav\n",
      "Row: Scolopax_minor_Brush_Creek_Township_near__West_Union_Adams_County_Ohio_939172.wav\n",
      "Processing file: Converted Recordings\\Scolopax_minor_Brush_Creek_Township_near__West_Union_Adams_County_Ohio_939172.wav\n",
      "Row: Scolopax_minor_Point_Pelee_National_Park_near__Wheatley_Essex_County_Ontario_837811.wav\n",
      "Processing file: Converted Recordings\\Scolopax_minor_Point_Pelee_National_Park_near__Wheatley_Essex_County_Ontario_837811.wav\n",
      "Row: Scolopax_minor_Pelee_near__Leamington_Essex_County_Ontario_476517.wav\n",
      "Processing file: Converted Recordings\\Scolopax_minor_Pelee_near__Leamington_Essex_County_Ontario_476517.wav\n",
      "Row: Scolopax_minor_Maumee_Bay_SP_Ohio_418105.wav\n",
      "Processing file: Converted Recordings\\Scolopax_minor_Maumee_Bay_SP_Ohio_418105.wav\n",
      "Row: Scolopax_minor_Maumee_Bay_SP_Ohio_418103.wav\n",
      "Processing file: Converted Recordings\\Scolopax_minor_Maumee_Bay_SP_Ohio_418103.wav\n",
      "Row: Scolopax_minor_Maumee_Bay_SP_Ohio_418101.wav\n",
      "Processing file: Converted Recordings\\Scolopax_minor_Maumee_Bay_SP_Ohio_418101.wav\n",
      "Row: Scolopax_minor_Maumee_Bay_SP_Ohio_418099.wav\n",
      "Processing file: Converted Recordings\\Scolopax_minor_Maumee_Bay_SP_Ohio_418099.wav\n",
      "Row: Scolopax_minor_Columbus_Franklin_County_Ohio_171997.wav\n",
      "Processing file: Converted Recordings\\Scolopax_minor_Columbus_Franklin_County_Ohio_171997.wav\n",
      "Row: Scolopax_minor_Columbus_Franklin_County_Ohio_171994.wav\n",
      "Processing file: Converted Recordings\\Scolopax_minor_Columbus_Franklin_County_Ohio_171994.wav\n",
      "Row: Scolopax_minor_Columbus_Franklin_County_Ohio_171991.wav\n",
      "Processing file: Converted Recordings\\Scolopax_minor_Columbus_Franklin_County_Ohio_171991.wav\n",
      "Row: Scolopax_minor_Pelee_near__Leamington_Essex_County_Ontario_473284.wav\n",
      "Processing file: Converted Recordings\\Scolopax_minor_Pelee_near__Leamington_Essex_County_Ontario_473284.wav\n",
      "Row: Scolopax_minor_Columbus_Ohio_flight_call_recording_station_55153.wav\n",
      "Processing file: Converted Recordings\\Scolopax_minor_Columbus_Ohio_flight_call_recording_station_55153.wav\n",
      "Row: Tringa_solitaria_Ohio_Crane_Creek_SP_17025.wav\n",
      "Processing file: Converted Recordings\\Tringa_solitaria_Ohio_Crane_Creek_SP_17025.wav\n",
      "Row: Tringa_flavipes_Ohio_Magee_Marsh_17051.wav\n",
      "Processing file: Converted Recordings\\Tringa_flavipes_Ohio_Magee_Marsh_17051.wav\n",
      "Row: Tringa_flavipes_Ohio_Magee_Marsh_17050.wav\n",
      "Processing file: Converted Recordings\\Tringa_flavipes_Ohio_Magee_Marsh_17050.wav\n",
      "Row: Tringa_flavipes_Ohio_Magee_Marsh_17049.wav\n",
      "Processing file: Converted Recordings\\Tringa_flavipes_Ohio_Magee_Marsh_17049.wav\n",
      "Row: Tringa_flavipes_Ohio_Magee_Marsh_17048.wav\n",
      "Processing file: Converted Recordings\\Tringa_flavipes_Ohio_Magee_Marsh_17048.wav\n",
      "Row: Tringa_flavipes_Ohio_Magee_Marsh_17047.wav\n",
      "Processing file: Converted Recordings\\Tringa_flavipes_Ohio_Magee_Marsh_17047.wav\n",
      "Row: Chroicocephalus_philadelphia_Point_Pelee_National_Park_near__Wheatley_Essex_County_Ontario_839507.wav\n",
      "Processing file: Converted Recordings\\Chroicocephalus_philadelphia_Point_Pelee_National_Park_near__Wheatley_Essex_County_Ontario_839507.wav\n",
      "Row: Larus_delawarensis_Michigan_Sterling_SP_11860.wav\n",
      "Processing file: Converted Recordings\\Larus_delawarensis_Michigan_Sterling_SP_11860.wav\n",
      "Row: Chlidonias_niger_Pelee_near__Leamington_Essex_County_Ontario_476265.wav\n",
      "Processing file: Converted Recordings\\Chlidonias_niger_Pelee_near__Leamington_Essex_County_Ontario_476265.wav\n",
      "Row: Botaurus_lentiginosus_Battelle_Darby_Metro_Park_-_Wetlands_417864.wav\n",
      "Processing file: Converted Recordings\\Botaurus_lentiginosus_Battelle_Darby_Metro_Park_-_Wetlands_417864.wav\n",
      "Row: Botaurus_lentiginosus_Battelle_Darby_Metro_Park_-_Wetlands_417863.wav\n",
      "Processing file: Converted Recordings\\Botaurus_lentiginosus_Battelle_Darby_Metro_Park_-_Wetlands_417863.wav\n",
      "Row: Botaurus_lentiginosus_Battelle_Darby_Metro_Park_-_Wetlands_417855.wav\n",
      "Processing file: Converted Recordings\\Botaurus_lentiginosus_Battelle_Darby_Metro_Park_-_Wetlands_417855.wav\n",
      "Row: Ardea_alba_Ohio_Ottawa_NWR_17012.wav\n",
      "Processing file: Converted Recordings\\Ardea_alba_Ohio_Ottawa_NWR_17012.wav\n",
      "Row: Accipiter_cooperii_Michigan_Monroe_County_17115.wav\n",
      "Processing file: Converted Recordings\\Accipiter_cooperii_Michigan_Monroe_County_17115.wav\n",
      "Row: Buteo_lineatus_Green_Township_near__Cincinnati_Hamilton_County_Ohio_809281.wav\n",
      "Processing file: Converted Recordings\\Buteo_lineatus_Green_Township_near__Cincinnati_Hamilton_County_Ohio_809281.wav\n",
      "Row: Buteo_lineatus_Miami_Whitewater_Forest_Park_wetlands_Crosby_Township_near__Harrison_Hamilton_County_Ohio_691446.wav\n",
      "Processing file: Converted Recordings\\Buteo_lineatus_Miami_Whitewater_Forest_Park_wetlands_Crosby_Township_near__Harrison_Hamilton_County_Ohio_691446.wav\n",
      "Row: Buteo_lineatus_Green_Township_near__Cincinnati_Hamilton_County_Ohio_673003.wav\n",
      "Processing file: Converted Recordings\\Buteo_lineatus_Green_Township_near__Cincinnati_Hamilton_County_Ohio_673003.wav\n",
      "Row: Buteo_lineatus_Tanglewood_Lane_Cincinnati_Ohio_44321.wav\n",
      "Processing file: Converted Recordings\\Buteo_lineatus_Tanglewood_Lane_Cincinnati_Ohio_44321.wav\n",
      "Row: Buteo_lineatus_Spring_Valley_near__Waynesville_Greene_Cty_Ohio_477606.wav\n",
      "Processing file: Converted Recordings\\Buteo_lineatus_Spring_Valley_near__Waynesville_Greene_Cty_Ohio_477606.wav\n",
      "Row: Buteo_lineatus_Michigan_Monroe_County_17118.wav\n",
      "Processing file: Converted Recordings\\Buteo_lineatus_Michigan_Monroe_County_17118.wav\n",
      "Row: Buteo_jamaicensis_Michigan_Monroe_County_17117.wav\n",
      "Processing file: Converted Recordings\\Buteo_jamaicensis_Michigan_Monroe_County_17117.wav\n",
      "Row: Buteo_jamaicensis_Michigan_Monroe_County_17116.wav\n",
      "Processing file: Converted Recordings\\Buteo_jamaicensis_Michigan_Monroe_County_17116.wav\n",
      "Row: Tyto_furcata_Cuyahoga_Falls_Summit_County_Ohio_580333.wav\n",
      "Processing file: Converted Recordings\\Tyto_furcata_Cuyahoga_Falls_Summit_County_Ohio_580333.wav\n",
      "Row: Bubo_virginianus_Green_Township_near__Mount_Orab_Brown_County_Ohio_760069.wav\n",
      "Processing file: Converted Recordings\\Bubo_virginianus_Green_Township_near__Mount_Orab_Brown_County_Ohio_760069.wav\n",
      "Row: Bubo_virginianus_mount_orab_ohio_760068.wav\n",
      "Processing file: Converted Recordings\\Bubo_virginianus_mount_orab_ohio_760068.wav\n",
      "Row: Bubo_virginianus_Pelee_Shuttle_Stop_near__Leamington_Essex_County_Ontario_476571.wav\n",
      "Processing file: Converted Recordings\\Bubo_virginianus_Pelee_Shuttle_Stop_near__Leamington_Essex_County_Ontario_476571.wav\n",
      "Row: Bubo_virginianus_Anderson_Township_near__Cincinnati_Hamilton_County_Ohio_450919.wav\n",
      "Processing file: Converted Recordings\\Bubo_virginianus_Anderson_Township_near__Cincinnati_Hamilton_County_Ohio_450919.wav\n",
      "Row: Bubo_virginianus_mount_orab_ohio_664390.wav\n",
      "Processing file: Converted Recordings\\Bubo_virginianus_mount_orab_ohio_664390.wav\n",
      "Row: Bubo_virginianus_Battelle_Darby_Creek_Metro_Park--South_of_Darby_Dan_Loop_107584.wav\n",
      "Processing file: Converted Recordings\\Bubo_virginianus_Battelle_Darby_Creek_Metro_Park--South_of_Darby_Dan_Loop_107584.wav\n",
      "Row: Bubo_virginianus_Wooster_PK_&_Beech_St_near__Mariemont_Hamilton_County_Ohio_757171.wav\n",
      "Processing file: Converted Recordings\\Bubo_virginianus_Wooster_PK_&_Beech_St_near__Mariemont_Hamilton_County_Ohio_757171.wav\n",
      "Row: Megascops_asio_mount_orab_ohio_624995.wav\n",
      "Processing file: Converted Recordings\\Megascops_asio_mount_orab_ohio_624995.wav\n",
      "Row: Megascops_asio_mount_orab_ohio_669305.wav\n",
      "Processing file: Converted Recordings\\Megascops_asio_mount_orab_ohio_669305.wav\n",
      "Row: Megascops_asio_mount_orab_ohio_624576.wav\n",
      "Processing file: Converted Recordings\\Megascops_asio_mount_orab_ohio_624576.wav\n",
      "Row: Megascops_asio_mount_orab_ohio_544849.wav\n",
      "Processing file: Converted Recordings\\Megascops_asio_mount_orab_ohio_544849.wav\n",
      "Row: Strix_varia_mount_orab_ohio_494579.wav\n",
      "Processing file: Converted Recordings\\Strix_varia_mount_orab_ohio_494579.wav\n",
      "Row: Strix_varia_mount_orab_ohio_494421.wav\n",
      "Processing file: Converted Recordings\\Strix_varia_mount_orab_ohio_494421.wav\n",
      "Row: Strix_varia_Wayne_Township_near__Pleasant_Plain_Clermont_County_Ohio_446964.wav\n",
      "Processing file: Converted Recordings\\Strix_varia_Wayne_Township_near__Pleasant_Plain_Clermont_County_Ohio_446964.wav\n",
      "Row: Melanerpes_erythrocephalus_Crosby_Township_near__Harrison_Hamilton_County_Ohio_774908.wav\n",
      "Processing file: Converted Recordings\\Melanerpes_erythrocephalus_Crosby_Township_near__Harrison_Hamilton_County_Ohio_774908.wav\n",
      "Row: Melanerpes_erythrocephalus_Kendrick_Woods_State_Nature_Preserve_Allen_County_Ohio_698853.wav\n",
      "Processing file: Converted Recordings\\Melanerpes_erythrocephalus_Kendrick_Woods_State_Nature_Preserve_Allen_County_Ohio_698853.wav\n",
      "Row: Melanerpes_erythrocephalus_Lawrence_Woods_SNP_477578.wav\n",
      "Processing file: Converted Recordings\\Melanerpes_erythrocephalus_Lawrence_Woods_SNP_477578.wav\n",
      "Row: Melanerpes_erythrocephalus_Pelee_near__Leamington_Essex_County_Ontario_477003.wav\n",
      "Processing file: Converted Recordings\\Melanerpes_erythrocephalus_Pelee_near__Leamington_Essex_County_Ontario_477003.wav\n",
      "Row: Melanerpes_erythrocephalus_Crosby_Township_near__Harrison_Hamilton_County_Ohio_774907.wav\n",
      "Processing file: Converted Recordings\\Melanerpes_erythrocephalus_Crosby_Township_near__Harrison_Hamilton_County_Ohio_774907.wav\n",
      "Row: Melanerpes_carolinus_Miami_Whitewater_Forest_Park_wetlands_Crosby_Township_near__Harrison_Hamilton_County_Ohio_687174.wav\n",
      "Processing file: Converted Recordings\\Melanerpes_carolinus_Miami_Whitewater_Forest_Park_wetlands_Crosby_Township_near__Harrison_Hamilton_County_Ohio_687174.wav\n",
      "Row: Melanerpes_carolinus_Tanglewood_Lane_Cincinnati_Ohio_302917.wav\n",
      "Processing file: Converted Recordings\\Melanerpes_carolinus_Tanglewood_Lane_Cincinnati_Ohio_302917.wav\n",
      "Row: Melanerpes_carolinus_Wegerzyn_garden_near__Dayton_Montgomery_County_Ohio_807218.wav\n",
      "Processing file: Converted Recordings\\Melanerpes_carolinus_Wegerzyn_garden_near__Dayton_Montgomery_County_Ohio_807218.wav\n",
      "Row: Melanerpes_carolinus_Harrison_Township_near__Harrison_Hamilton_County_Ohio_728264.wav\n",
      "Processing file: Converted Recordings\\Melanerpes_carolinus_Harrison_Township_near__Harrison_Hamilton_County_Ohio_728264.wav\n",
      "Row: Melanerpes_carolinus_Green_Township_near__Cincinnati_Hamilton_County_Ohio_726629.wav\n",
      "Processing file: Converted Recordings\\Melanerpes_carolinus_Green_Township_near__Cincinnati_Hamilton_County_Ohio_726629.wav\n",
      "Row: Melanerpes_carolinus_Harrison_Township_near__Harrison_Hamilton_County_Ohio_691526.wav\n",
      "Processing file: Converted Recordings\\Melanerpes_carolinus_Harrison_Township_near__Harrison_Hamilton_County_Ohio_691526.wav\n",
      "Row: Melanerpes_carolinus_Green_Township_near__Cincinnati_Hamilton_County_Ohio_672994.wav\n",
      "Processing file: Converted Recordings\\Melanerpes_carolinus_Green_Township_near__Cincinnati_Hamilton_County_Ohio_672994.wav\n",
      "Row: Melanerpes_carolinus_Anderson_Township_near__Cincinnati_Hamilton_County_Ohio_542523.wav\n",
      "Processing file: Converted Recordings\\Melanerpes_carolinus_Anderson_Township_near__Cincinnati_Hamilton_County_Ohio_542523.wav\n",
      "Row: Melanerpes_carolinus_Westlake_Cuyahoga_Ohio_115025.wav\n",
      "Processing file: Converted Recordings\\Melanerpes_carolinus_Westlake_Cuyahoga_Ohio_115025.wav\n",
      "Row: Melanerpes_carolinus_Lawrence_Woods_SNP_417981.wav\n",
      "Processing file: Converted Recordings\\Melanerpes_carolinus_Lawrence_Woods_SNP_417981.wav\n",
      "Row: Sphyrapicus_varius_Tanglewood_Lane_Cincinnati_Ohio_302918.wav\n",
      "Processing file: Converted Recordings\\Sphyrapicus_varius_Tanglewood_Lane_Cincinnati_Ohio_302918.wav\n",
      "Row: Sphyrapicus_varius_Cincinnati_Hamilton_County_Ohio_871471.wav\n",
      "Processing file: Converted Recordings\\Sphyrapicus_varius_Cincinnati_Hamilton_County_Ohio_871471.wav\n",
      "Row: Dryobates_pubescens_Point_Pelee_National_Park_near__Wheatley_Essex_County_Ontario_803584.wav\n",
      "Processing file: Converted Recordings\\Dryobates_pubescens_Point_Pelee_National_Park_near__Wheatley_Essex_County_Ontario_803584.wav\n",
      "Row: Dryobates_pubescens_Green_Township_near__Cincinnati_Hamilton_County_Ohio_676924.wav\n",
      "Processing file: Converted Recordings\\Dryobates_pubescens_Green_Township_near__Cincinnati_Hamilton_County_Ohio_676924.wav\n",
      "Row: Dryobates_pubescens_Pelee_near__Leamington_Essex_County_Ontario_476564.wav\n",
      "Processing file: Converted Recordings\\Dryobates_pubescens_Pelee_near__Leamington_Essex_County_Ontario_476564.wav\n",
      "Row: Dryobates_pubescens_Wegerzyn_garden_near__Dayton_Montgomery_County_Ohio_807220.wav\n",
      "Processing file: Converted Recordings\\Dryobates_pubescens_Wegerzyn_garden_near__Dayton_Montgomery_County_Ohio_807220.wav\n",
      "Row: Leuconotopicus_villosus_Green_Township_near__Lynx_Adams_County_Ohio_302925.wav\n",
      "Processing file: Converted Recordings\\Leuconotopicus_villosus_Green_Township_near__Lynx_Adams_County_Ohio_302925.wav\n",
      "Row: Leuconotopicus_villosus_Miami_Township_near__Cleves_Hamilton_County_Ohio_775844.wav\n",
      "Processing file: Converted Recordings\\Leuconotopicus_villosus_Miami_Township_near__Cleves_Hamilton_County_Ohio_775844.wav\n",
      "Row: Colaptes_auratus_Green_Township_near__Cincinnati_Hamilton_County_Ohio_807485.wav\n",
      "Processing file: Converted Recordings\\Colaptes_auratus_Green_Township_near__Cincinnati_Hamilton_County_Ohio_807485.wav\n",
      "Row: Colaptes_auratus_Anderson_Township_near__Cincinnati_Hamilton_County_Ohio_542520.wav\n",
      "Processing file: Converted Recordings\\Colaptes_auratus_Anderson_Township_near__Cincinnati_Hamilton_County_Ohio_542520.wav\n",
      "Row: Dryocopus_pileatus_Harrison_Township_near__Harrison_Hamilton_County_Ohio_691470.wav\n",
      "Processing file: Converted Recordings\\Dryocopus_pileatus_Harrison_Township_near__Harrison_Hamilton_County_Ohio_691470.wav\n",
      "Row: Dryocopus_pileatus_Harrison_Township_near__Harrison_Hamilton_County_Ohio_728222.wav\n",
      "Processing file: Converted Recordings\\Dryocopus_pileatus_Harrison_Township_near__Harrison_Hamilton_County_Ohio_728222.wav\n",
      "Row: Sayornis_phoebe_Harrison_Township_near__Harrison_Hamilton_County_Ohio_713591.wav\n",
      "Processing file: Converted Recordings\\Sayornis_phoebe_Harrison_Township_near__Harrison_Hamilton_County_Ohio_713591.wav\n",
      "Row: Sayornis_phoebe_Harrison_Township_near__Harrison_Hamilton_County_Ohio_713589.wav\n",
      "Processing file: Converted Recordings\\Sayornis_phoebe_Harrison_Township_near__Harrison_Hamilton_County_Ohio_713589.wav\n",
      "Row: Sayornis_phoebe_Pelee_near__Leamington_Essex_County_Ontario_476566.wav\n",
      "Processing file: Converted Recordings\\Sayornis_phoebe_Pelee_near__Leamington_Essex_County_Ontario_476566.wav\n",
      "Row: Contopus_virens_Pelee_near__Leamington_Essex_County_Ontario_476568.wav\n",
      "Processing file: Converted Recordings\\Contopus_virens_Pelee_near__Leamington_Essex_County_Ontario_476568.wav\n",
      "Row: Contopus_virens_Whitewater_Township_near__Cleves_Hamilton_County_Ohio_928713.wav\n",
      "Processing file: Converted Recordings\\Contopus_virens_Whitewater_Township_near__Cleves_Hamilton_County_Ohio_928713.wav\n",
      "Row: Contopus_virens_Whitewater_Township_near__Cleves_Hamilton_County_Ohio_817712.wav\n",
      "Processing file: Converted Recordings\\Contopus_virens_Whitewater_Township_near__Cleves_Hamilton_County_Ohio_817712.wav\n",
      "Row: Contopus_virens_Harrison_Township_near__Harrison_Hamilton_County_Ohio_726814.wav\n",
      "Processing file: Converted Recordings\\Contopus_virens_Harrison_Township_near__Harrison_Hamilton_County_Ohio_726814.wav\n",
      "Row: Contopus_virens_Spring_Valley_near__Waynesville_Greene_Cty_Ohio_477597.wav\n",
      "Processing file: Converted Recordings\\Contopus_virens_Spring_Valley_near__Waynesville_Greene_Cty_Ohio_477597.wav\n",
      "Row: Contopus_virens_Magee_Marsh_boardwalk_west_end_103501.wav\n",
      "Processing file: Converted Recordings\\Contopus_virens_Magee_Marsh_boardwalk_west_end_103501.wav\n",
      "Row: Contopus_virens_Tuttle_Park_Columbus_Ohio_89366.wav\n",
      "Processing file: Converted Recordings\\Contopus_virens_Tuttle_Park_Columbus_Ohio_89366.wav\n",
      "Row: Contopus_virens_Whitewater_Township_near__Cleves_Hamilton_County_Ohio_928711.wav\n",
      "Processing file: Converted Recordings\\Contopus_virens_Whitewater_Township_near__Cleves_Hamilton_County_Ohio_928711.wav\n",
      "Row: Empidonax_virescens_Miami_Township_near__Cleves_Hamilton_County_Ohio_807573.wav\n",
      "Processing file: Converted Recordings\\Empidonax_virescens_Miami_Township_near__Cleves_Hamilton_County_Ohio_807573.wav\n",
      "Row: Empidonax_virescens_Harrison_Township_near__Harrison_Hamilton_County_Ohio_728279.wav\n",
      "Processing file: Converted Recordings\\Empidonax_virescens_Harrison_Township_near__Harrison_Hamilton_County_Ohio_728279.wav\n",
      "Row: Empidonax_virescens_Harrison_Township_near__Harrison_Hamilton_County_Ohio_728275.wav\n",
      "Processing file: Converted Recordings\\Empidonax_virescens_Harrison_Township_near__Harrison_Hamilton_County_Ohio_728275.wav\n",
      "Row: Empidonax_virescens_Clifton_Gorge_NP_near__Clifton_Greene_County_Ohio_775046.wav\n",
      "Processing file: Converted Recordings\\Empidonax_virescens_Clifton_Gorge_NP_near__Clifton_Greene_County_Ohio_775046.wav\n",
      "Row: Empidonax_virescens_Harrison_Township_near__Harrison_Hamilton_County_Ohio_728272.wav\n",
      "Processing file: Converted Recordings\\Empidonax_virescens_Harrison_Township_near__Harrison_Hamilton_County_Ohio_728272.wav\n",
      "Row: Empidonax_virescens_Miami_Township_near__North_Bend_Hamilton_County_Ohio_670407.wav\n",
      "Processing file: Converted Recordings\\Empidonax_virescens_Miami_Township_near__North_Bend_Hamilton_County_Ohio_670407.wav\n",
      "Row: Empidonax_traillii_Whitewater_Township_near__White_Water_Park_Hamilton_County_Ohio_807543.wav\n",
      "Processing file: Converted Recordings\\Empidonax_traillii_Whitewater_Township_near__White_Water_Park_Hamilton_County_Ohio_807543.wav\n",
      "Row: Empidonax_traillii_Magee_Marsh_Ohio_298581.wav\n",
      "Processing file: Converted Recordings\\Empidonax_traillii_Magee_Marsh_Ohio_298581.wav\n",
      "Row: Empidonax_traillii_Magee_Marsh_Ohio_298355.wav\n",
      "Processing file: Converted Recordings\\Empidonax_traillii_Magee_Marsh_Ohio_298355.wav\n",
      "Row: Empidonax_traillii_Point_Pelee_National_Park_near__Wheatley_Essex_County_Ontario_806079.wav\n",
      "Processing file: Converted Recordings\\Empidonax_traillii_Point_Pelee_National_Park_near__Wheatley_Essex_County_Ontario_806079.wav\n",
      "Row: Empidonax_traillii_Whitewater_Township_near__Harrison_Hamilton_County_Ohio_726752.wav\n",
      "Processing file: Converted Recordings\\Empidonax_traillii_Whitewater_Township_near__Harrison_Hamilton_County_Ohio_726752.wav\n",
      "Row: Empidonax_traillii_Franklin_Township_near__Wooster_Wayne_County_Ohio_418568.wav\n",
      "Processing file: Converted Recordings\\Empidonax_traillii_Franklin_Township_near__Wooster_Wayne_County_Ohio_418568.wav\n",
      "Row: Empidonax_traillii_Magee_Marsh_Ohio_298575.wav\n",
      "Processing file: Converted Recordings\\Empidonax_traillii_Magee_Marsh_Ohio_298575.wav\n",
      "Row: Empidonax_traillii_Spring_Valley_near__Waynesville_Greene_Cty_Ohio_477603.wav\n",
      "Processing file: Converted Recordings\\Empidonax_traillii_Spring_Valley_near__Waynesville_Greene_Cty_Ohio_477603.wav\n",
      "Row: Empidonax_traillii_Cleveland_Cuyahoga_County_Ohio_256648.wav\n",
      "Processing file: Converted Recordings\\Empidonax_traillii_Cleveland_Cuyahoga_County_Ohio_256648.wav\n",
      "Row: Empidonax_traillii_Michigan_Monroe_County_16968.wav\n",
      "Processing file: Converted Recordings\\Empidonax_traillii_Michigan_Monroe_County_16968.wav\n",
      "Row: Tyrannus_tyrannus_Point_Pelee_National_Park_near__Wheatley_Essex_County_Ontario_805523.wav\n",
      "Processing file: Converted Recordings\\Tyrannus_tyrannus_Point_Pelee_National_Park_near__Wheatley_Essex_County_Ontario_805523.wav\n",
      "Row: Tyrannus_tyrannus_Dunham_Recreation_Complex_near__Cincinnati_Hamilton_County_Ohio_646450.wav\n",
      "Processing file: Converted Recordings\\Tyrannus_tyrannus_Dunham_Recreation_Complex_near__Cincinnati_Hamilton_County_Ohio_646450.wav\n",
      "Row: Myiarchus_crinitus_Miami_Township_near__North_Bend_Hamilton_County_Ohio_646113.wav\n",
      "Processing file: Converted Recordings\\Myiarchus_crinitus_Miami_Township_near__North_Bend_Hamilton_County_Ohio_646113.wav\n",
      "Row: Myiarchus_crinitus_Spring_Valley_near__Waynesville_Greene_Cty_Ohio_477599.wav\n",
      "Processing file: Converted Recordings\\Myiarchus_crinitus_Spring_Valley_near__Waynesville_Greene_Cty_Ohio_477599.wav\n",
      "Row: Myiarchus_crinitus_Berkshire_near__Galena_Delaware_Ohio_124160.wav\n",
      "Processing file: Converted Recordings\\Myiarchus_crinitus_Berkshire_near__Galena_Delaware_Ohio_124160.wav\n",
      "Row: Myiarchus_crinitus_Berkshire_near__Galena_Delaware_Ohio_124159.wav\n",
      "Processing file: Converted Recordings\\Myiarchus_crinitus_Berkshire_near__Galena_Delaware_Ohio_124159.wav\n",
      "Row: Vireo_olivaceus_Lawrence_Woods_SNP_417986.wav\n",
      "Processing file: Converted Recordings\\Vireo_olivaceus_Lawrence_Woods_SNP_417986.wav\n",
      "Row: Vireo_olivaceus_Magee_Marsh_-_boardwalk_Lucas_County_Ohio_827607.wav\n",
      "Processing file: Converted Recordings\\Vireo_olivaceus_Magee_Marsh_-_boardwalk_Lucas_County_Ohio_827607.wav\n",
      "Row: Vireo_gilvus_Magee_Marsh_-_boardwalk_Lucas_County_Ohio_827591.wav\n",
      "Processing file: Converted Recordings\\Vireo_gilvus_Magee_Marsh_-_boardwalk_Lucas_County_Ohio_827591.wav\n",
      "Row: Vireo_gilvus_Magee_Marsh_-_boardwalk_Lucas_County_Ohio_827590.wav\n",
      "Processing file: Converted Recordings\\Vireo_gilvus_Magee_Marsh_-_boardwalk_Lucas_County_Ohio_827590.wav\n",
      "Row: Vireo_gilvus_Ross_Township_near__Ross_Butler_County_Ohio_807514.wav\n",
      "Processing file: Converted Recordings\\Vireo_gilvus_Ross_Township_near__Ross_Butler_County_Ohio_807514.wav\n",
      "Row: Vireo_gilvus_Point_Pelee_National_Park_near__Wheatley_Essex_County_Ontario_806076.wav\n",
      "Processing file: Converted Recordings\\Vireo_gilvus_Point_Pelee_National_Park_near__Wheatley_Essex_County_Ontario_806076.wav\n",
      "Row: Vireo_gilvus_Whitewater_Township_near__Harrison_Hamilton_County_Ohio_726753.wav\n",
      "Processing file: Converted Recordings\\Vireo_gilvus_Whitewater_Township_near__Harrison_Hamilton_County_Ohio_726753.wav\n",
      "Row: Vireo_gilvus_Spring_Valley_near__Waynesville_Greene_Cty_Ohio_477609.wav\n",
      "Processing file: Converted Recordings\\Vireo_gilvus_Spring_Valley_near__Waynesville_Greene_Cty_Ohio_477609.wav\n",
      "Row: Vireo_gilvus_Pelee_near__Leamington_Essex_County_Ontario_477046.wav\n",
      "Processing file: Converted Recordings\\Vireo_gilvus_Pelee_near__Leamington_Essex_County_Ontario_477046.wav\n",
      "Row: Vireo_gilvus_Magee_Marsh_Ohio_939387.wav\n",
      "Processing file: Converted Recordings\\Vireo_gilvus_Magee_Marsh_Ohio_939387.wav\n",
      "Row: Vireo_gilvus_Magee_Marsh_Ohio_939386.wav\n",
      "Processing file: Converted Recordings\\Vireo_gilvus_Magee_Marsh_Ohio_939386.wav\n",
      "Row: Vireo_gilvus_Benton_Township_near__Rocky_Ridge_Ottawa_County_Ohio_902984.wav\n",
      "Processing file: Converted Recordings\\Vireo_gilvus_Benton_Township_near__Rocky_Ridge_Ottawa_County_Ohio_902984.wav\n",
      "Row: Vireo_gilvus_Benton_Township_near__Rocky_Ridge_Ottawa_County_Ohio_902983.wav\n",
      "Processing file: Converted Recordings\\Vireo_gilvus_Benton_Township_near__Rocky_Ridge_Ottawa_County_Ohio_902983.wav\n",
      "Row: Vireo_gilvus_Magee_Marsh_-_boardwalk_Lucas_County_Ohio_827594.wav\n",
      "Processing file: Converted Recordings\\Vireo_gilvus_Magee_Marsh_-_boardwalk_Lucas_County_Ohio_827594.wav\n",
      "Row: Vireo_gilvus_Magee_Marsh_-_boardwalk_Lucas_County_Ohio_827593.wav\n",
      "Processing file: Converted Recordings\\Vireo_gilvus_Magee_Marsh_-_boardwalk_Lucas_County_Ohio_827593.wav\n",
      "Row: Vireo_gilvus_Magee_Marsh_-_boardwalk_Lucas_County_Ohio_827592.wav\n",
      "Processing file: Converted Recordings\\Vireo_gilvus_Magee_Marsh_-_boardwalk_Lucas_County_Ohio_827592.wav\n",
      "Row: Vireo_gilvus_Magee_Marsh_-_boardwalk_Lucas_County_Ohio_827589.wav\n",
      "Processing file: Converted Recordings\\Vireo_gilvus_Magee_Marsh_-_boardwalk_Lucas_County_Ohio_827589.wav\n",
      "Row: Vireo_gilvus_Tanager_Meadow_Reservable_Shelter_near__Harrison_Hamilton_County_Ohio_807452.wav\n",
      "Processing file: Converted Recordings\\Vireo_gilvus_Tanager_Meadow_Reservable_Shelter_near__Harrison_Hamilton_County_Ohio_807452.wav\n",
      "Row: Vireo_gilvus_Magee_Marsh_-_boardwalk_Lucas_County_Ohio_827588.wav\n",
      "Processing file: Converted Recordings\\Vireo_gilvus_Magee_Marsh_-_boardwalk_Lucas_County_Ohio_827588.wav\n",
      "Row: Vireo_gilvus_Magee_Marsh_-_boardwalk_Lucas_County_Ohio_827586.wav\n",
      "Processing file: Converted Recordings\\Vireo_gilvus_Magee_Marsh_-_boardwalk_Lucas_County_Ohio_827586.wav\n",
      "Row: Vireo_gilvus_Magee_Marsh_Ohio_418005.wav\n",
      "Processing file: Converted Recordings\\Vireo_gilvus_Magee_Marsh_Ohio_418005.wav\n",
      "Row: Vireo_flavifrons_Harrison_Township_near__Harrison_Hamilton_County_Ohio_719923.wav\n",
      "Processing file: Converted Recordings\\Vireo_flavifrons_Harrison_Township_near__Harrison_Hamilton_County_Ohio_719923.wav\n",
      "Row: Vireo_flavifrons_Spring_Valley_near__Waynesville_Greene_Cty_Ohio_477608.wav\n",
      "Processing file: Converted Recordings\\Vireo_flavifrons_Spring_Valley_near__Waynesville_Greene_Cty_Ohio_477608.wav\n",
      "Row: Vireo_flavifrons_Oak_Openings_Metropark_Ohio_418068.wav\n",
      "Processing file: Converted Recordings\\Vireo_flavifrons_Oak_Openings_Metropark_Ohio_418068.wav\n",
      "Row: Vireo_flavifrons_Lawrence_Woods_SNP_417991.wav\n",
      "Processing file: Converted Recordings\\Vireo_flavifrons_Lawrence_Woods_SNP_417991.wav\n",
      "Row: Vireo_flavifrons_Lawrence_Woods_SNP_417990.wav\n",
      "Processing file: Converted Recordings\\Vireo_flavifrons_Lawrence_Woods_SNP_417990.wav\n",
      "Row: Vireo_flavifrons_Lawrence_Woods_SNP_417989.wav\n",
      "Processing file: Converted Recordings\\Vireo_flavifrons_Lawrence_Woods_SNP_417989.wav\n",
      "Row: Vireo_flavifrons_Shawnee_State_Forest_Scioto_County_Ohio_417452.wav\n",
      "Processing file: Converted Recordings\\Vireo_flavifrons_Shawnee_State_Forest_Scioto_County_Ohio_417452.wav\n",
      "Row: Vireo_flavifrons_Miami_Township_near__North_Bend_Hamilton_County_Ohio_645966.wav\n",
      "Processing file: Converted Recordings\\Vireo_flavifrons_Miami_Township_near__North_Bend_Hamilton_County_Ohio_645966.wav\n",
      "Row: Vireo_flavifrons_East_Fork_Lake_SP_Clermont_County_Ohio_477410.wav\n",
      "Processing file: Converted Recordings\\Vireo_flavifrons_East_Fork_Lake_SP_Clermont_County_Ohio_477410.wav\n",
      "Row: Vireo_flavifrons_Prairie_Oaks_Metro_Park--Sycamore_Plains_Area_182007.wav\n",
      "Processing file: Converted Recordings\\Vireo_flavifrons_Prairie_Oaks_Metro_Park--Sycamore_Plains_Area_182007.wav\n",
      "Row: Vireo_griseus_Crosby_Township_near__New_Haven_Hamilton_County_Ohio_833700.wav\n",
      "Processing file: Converted Recordings\\Vireo_griseus_Crosby_Township_near__New_Haven_Hamilton_County_Ohio_833700.wav\n",
      "Row: Vireo_griseus_Shawnee_State_Forest_Scioto_County_Ohio_417441.wav\n",
      "Processing file: Converted Recordings\\Vireo_griseus_Shawnee_State_Forest_Scioto_County_Ohio_417441.wav\n",
      "Row: Vireo_griseus_Point_Pelee_ON_83535.wav\n",
      "Processing file: Converted Recordings\\Vireo_griseus_Point_Pelee_ON_83535.wav\n",
      "Row: Vireo_griseus_Miami_Township_near__North_Bend_Hamilton_County_Ohio_645855.wav\n",
      "Processing file: Converted Recordings\\Vireo_griseus_Miami_Township_near__North_Bend_Hamilton_County_Ohio_645855.wav\n",
      "Row: Vireo_griseus_Miami_Township_near__North_Bend_Hamilton_County_Ohio_645853.wav\n",
      "Processing file: Converted Recordings\\Vireo_griseus_Miami_Township_near__North_Bend_Hamilton_County_Ohio_645853.wav\n",
      "Row: Vireo_griseus_Three_Creeks_Metro_Park--Confluence_Area_playground_Franklin_County_Ohio_186555.wav\n",
      "Processing file: Converted Recordings\\Vireo_griseus_Three_Creeks_Metro_Park--Confluence_Area_playground_Franklin_County_Ohio_186555.wav\n",
      "Row: Vireo_griseus_Ohio_Crane_Creek_SP_17026.wav\n",
      "Processing file: Converted Recordings\\Vireo_griseus_Ohio_Crane_Creek_SP_17026.wav\n",
      "Row: Vireo_bellii_Heritage_Rail-Trail_South_of_Hayden_Run_Rd_~200m_south_of_mile_marker_2_across_from_nest_box_#10_103570.wav\n",
      "Processing file: Converted Recordings\\Vireo_bellii_Heritage_Rail-Trail_South_of_Hayden_Run_Rd_~200m_south_of_mile_marker_2_across_from_nest_box_#10_103570.wav\n",
      "Row: Vireo_bellii_Heritage_Rail-Trail_south_of_Hayden_Run_Rd_near_mowed_path_BEVI_#1_103569.wav\n",
      "Processing file: Converted Recordings\\Vireo_bellii_Heritage_Rail-Trail_south_of_Hayden_Run_Rd_near_mowed_path_BEVI_#1_103569.wav\n",
      "Row: Vireo_bellii_Whitewater_Township_near__Harrison_Hamilton_County_Ohio_678953.wav\n",
      "Processing file: Converted Recordings\\Vireo_bellii_Whitewater_Township_near__Harrison_Hamilton_County_Ohio_678953.wav\n",
      "Row: Cyanocitta_cristata_Pelee_near__Leamington_Essex_County_Ontario_476525.wav\n",
      "Processing file: Converted Recordings\\Cyanocitta_cristata_Pelee_near__Leamington_Essex_County_Ontario_476525.wav\n",
      "Row: Cyanocitta_cristata_Cincinnati_Hamilton_County_Ohio_677298.wav\n",
      "Processing file: Converted Recordings\\Cyanocitta_cristata_Cincinnati_Hamilton_County_Ohio_677298.wav\n",
      "Row: Cyanocitta_cristata_Green_Township_near__Cincinnati_Hamilton_County_Ohio_672969.wav\n",
      "Processing file: Converted Recordings\\Cyanocitta_cristata_Green_Township_near__Cincinnati_Hamilton_County_Ohio_672969.wav\n",
      "Row: Cyanocitta_cristata_Miami_near__North_Bend_Hamilton_County_Ohio_542143.wav\n",
      "Processing file: Converted Recordings\\Cyanocitta_cristata_Miami_near__North_Bend_Hamilton_County_Ohio_542143.wav\n",
      "Row: Cyanocitta_cristata_Crosby_Township_near__Harrison_Hamilton_County_Ohio_807193.wav\n",
      "Processing file: Converted Recordings\\Cyanocitta_cristata_Crosby_Township_near__Harrison_Hamilton_County_Ohio_807193.wav\n",
      "Row: Cyanocitta_cristata_Green_Township_near__Cincinnati_Hamilton_County_Ohio_672963.wav\n",
      "Processing file: Converted Recordings\\Cyanocitta_cristata_Green_Township_near__Cincinnati_Hamilton_County_Ohio_672963.wav\n",
      "Row: Cyanocitta_cristata_Ohio_near__Cleveland_Heights_Cuyahoga_County_Ohio_418322.wav\n",
      "Processing file: Converted Recordings\\Cyanocitta_cristata_Ohio_near__Cleveland_Heights_Cuyahoga_County_Ohio_418322.wav\n",
      "Row: Corvus_brachyrhynchos_Harrison_Township_near__Harrison_Hamilton_County_Ohio_691531.wav\n",
      "Processing file: Converted Recordings\\Corvus_brachyrhynchos_Harrison_Township_near__Harrison_Hamilton_County_Ohio_691531.wav\n",
      "Row: Corvus_brachyrhynchos_mount_orab_ohio_691189.wav\n",
      "Processing file: Converted Recordings\\Corvus_brachyrhynchos_mount_orab_ohio_691189.wav\n",
      "Row: Corvus_brachyrhynchos_Ross_Township_near__Hamilton_Butler_County_Ohio_533366.wav\n",
      "Processing file: Converted Recordings\\Corvus_brachyrhynchos_Ross_Township_near__Hamilton_Butler_County_Ohio_533366.wav\n",
      "Row: Corvus_ossifragus_Leamington_Essex_County_Ontario_320736.wav\n",
      "Processing file: Converted Recordings\\Corvus_ossifragus_Leamington_Essex_County_Ontario_320736.wav\n",
      "Row: Corvus_ossifragus_Chapel_Hill_Plaza_Cuyahoga_Falls_Summit_County_Ohio_393849.wav\n",
      "Processing file: Converted Recordings\\Corvus_ossifragus_Chapel_Hill_Plaza_Cuyahoga_Falls_Summit_County_Ohio_393849.wav\n",
      "Row: Corvus_ossifragus_S_Green_Rd_&_Cedar_Rd_near__University_Heights_Cuyahoga_County_Ohio_268223.wav\n",
      "Processing file: Converted Recordings\\Corvus_ossifragus_S_Green_Rd_&_Cedar_Rd_near__University_Heights_Cuyahoga_County_Ohio_268223.wav\n",
      "Row: Corvus_ossifragus_Howe_Ave_@_Jared__Cuyahoga_Falls_Summit_County_Ohio_398409.wav\n",
      "Processing file: Converted Recordings\\Corvus_ossifragus_Howe_Ave_@_Jared__Cuyahoga_Falls_Summit_County_Ohio_398409.wav\n",
      "Row: Baeolophus_bicolor_Ohio_near__Akron_Summit_County_Ohio_376462.wav\n",
      "Processing file: Converted Recordings\\Baeolophus_bicolor_Ohio_near__Akron_Summit_County_Ohio_376462.wav\n",
      "Row: Baeolophus_bicolor_Harrison_Township_near__Harrison_Hamilton_County_Ohio_807495.wav\n",
      "Processing file: Converted Recordings\\Baeolophus_bicolor_Harrison_Township_near__Harrison_Hamilton_County_Ohio_807495.wav\n",
      "Row: Baeolophus_bicolor_Miami_Township_near__Cleves_Hamilton_County_Ohio_713584.wav\n",
      "Processing file: Converted Recordings\\Baeolophus_bicolor_Miami_Township_near__Cleves_Hamilton_County_Ohio_713584.wav\n",
      "Row: Baeolophus_bicolor_Miami_Whitewater_Forest_Park_wetlands_Crosby_Township_near__Harrison_Hamilton_County_Ohio_691529.wav\n",
      "Processing file: Converted Recordings\\Baeolophus_bicolor_Miami_Whitewater_Forest_Park_wetlands_Crosby_Township_near__Harrison_Hamilton_County_Ohio_691529.wav\n",
      "Row: Baeolophus_bicolor_Westlake_Cuyahoga_County_Ohio_726688.wav\n",
      "Processing file: Converted Recordings\\Baeolophus_bicolor_Westlake_Cuyahoga_County_Ohio_726688.wav\n",
      "Row: Baeolophus_bicolor_Green_Township_near__Cincinnati_Hamilton_County_Ohio_673001.wav\n",
      "Processing file: Converted Recordings\\Baeolophus_bicolor_Green_Township_near__Cincinnati_Hamilton_County_Ohio_673001.wav\n",
      "Row: Baeolophus_bicolor_Miami_Township_near__Cleves_Hamilton_County_Ohio_645567.wav\n",
      "Processing file: Converted Recordings\\Baeolophus_bicolor_Miami_Township_near__Cleves_Hamilton_County_Ohio_645567.wav\n",
      "Row: Baeolophus_bicolor_515_Park_End_Dr_Montgomery_Cty_OH_493455.wav\n",
      "Processing file: Converted Recordings\\Baeolophus_bicolor_515_Park_End_Dr_Montgomery_Cty_OH_493455.wav\n",
      "Row: Baeolophus_bicolor_East_Fork_Lake_SP_Clermont_County_Ohio_416551.wav\n",
      "Processing file: Converted Recordings\\Baeolophus_bicolor_East_Fork_Lake_SP_Clermont_County_Ohio_416551.wav\n",
      "Row: Baeolophus_bicolor_Beachwood_Cuyahoga_County_Ohio_287347.wav\n",
      "Processing file: Converted Recordings\\Baeolophus_bicolor_Beachwood_Cuyahoga_County_Ohio_287347.wav\n",
      "Row: Baeolophus_bicolor_Beachwood_Cuyahoga_County_Ohio_287345.wav\n",
      "Processing file: Converted Recordings\\Baeolophus_bicolor_Beachwood_Cuyahoga_County_Ohio_287345.wav\n",
      "Row: Baeolophus_bicolor_Miami_near__North_Bend_Hamilton_County_Ohio_542144.wav\n",
      "Processing file: Converted Recordings\\Baeolophus_bicolor_Miami_near__North_Bend_Hamilton_County_Ohio_542144.wav\n",
      "Row: Baeolophus_bicolor_Painesville_Lake_Ohio_138137.wav\n",
      "Processing file: Converted Recordings\\Baeolophus_bicolor_Painesville_Lake_Ohio_138137.wav\n",
      "Row: Poecile_carolinensis_Harrison_Township_near__Harrison_Hamilton_County_Ohio_807462.wav\n",
      "Processing file: Converted Recordings\\Poecile_carolinensis_Harrison_Township_near__Harrison_Hamilton_County_Ohio_807462.wav\n",
      "Row: Poecile_carolinensis_Green_Township_near__Cincinnati_Hamilton_County_Ohio_779380.wav\n",
      "Processing file: Converted Recordings\\Poecile_carolinensis_Green_Township_near__Cincinnati_Hamilton_County_Ohio_779380.wav\n",
      "Row: Poecile_carolinensis_Lawrence_Woods_SNP_417998.wav\n",
      "Processing file: Converted Recordings\\Poecile_carolinensis_Lawrence_Woods_SNP_417998.wav\n",
      "Row: Poecile_carolinensis_Green_Township_near__Cincinnati_Hamilton_County_Ohio_726700.wav\n",
      "Processing file: Converted Recordings\\Poecile_carolinensis_Green_Township_near__Cincinnati_Hamilton_County_Ohio_726700.wav\n",
      "Row: Poecile_carolinensis_Miami_Township_near__North_Bend_Hamilton_County_Ohio_713595.wav\n",
      "Processing file: Converted Recordings\\Poecile_carolinensis_Miami_Township_near__North_Bend_Hamilton_County_Ohio_713595.wav\n",
      "Row: Poecile_carolinensis_Green_Township_near__Cincinnati_Hamilton_County_Ohio_673007.wav\n",
      "Processing file: Converted Recordings\\Poecile_carolinensis_Green_Township_near__Cincinnati_Hamilton_County_Ohio_673007.wav\n",
      "Row: Poecile_carolinensis_Miami_Township_near__North_Bend_Hamilton_County_Ohio_645975.wav\n",
      "Processing file: Converted Recordings\\Poecile_carolinensis_Miami_Township_near__North_Bend_Hamilton_County_Ohio_645975.wav\n",
      "Row: Poecile_carolinensis_Lawrence_Woods_SNP_417997.wav\n",
      "Processing file: Converted Recordings\\Poecile_carolinensis_Lawrence_Woods_SNP_417997.wav\n",
      "Row: Poecile_atricapillus_Swanton_Township_near__Swanton_Lucas_County_Ohio_939388.wav\n",
      "Processing file: Converted Recordings\\Poecile_atricapillus_Swanton_Township_near__Swanton_Lucas_County_Ohio_939388.wav\n",
      "Row: Poecile_atricapillus_Magee_Marsh_-_boardwalk_Lucas_County_Ohio_814911.wav\n",
      "Processing file: Converted Recordings\\Poecile_atricapillus_Magee_Marsh_-_boardwalk_Lucas_County_Ohio_814911.wav\n",
      "Row: Poecile_atricapillus_Point_Pelee_National_Park_near__Wheatley_Essex_County_Ontario_803377.wav\n",
      "Processing file: Converted Recordings\\Poecile_atricapillus_Point_Pelee_National_Park_near__Wheatley_Essex_County_Ontario_803377.wav\n",
      "Row: Poecile_atricapillus_Westlake_Cuyahoga_County_Ohio_726692.wav\n",
      "Processing file: Converted Recordings\\Poecile_atricapillus_Westlake_Cuyahoga_County_Ohio_726692.wav\n",
      "Row: Poecile_atricapillus_Magee_Marsh_boardwalk_west_end_262804.wav\n",
      "Processing file: Converted Recordings\\Poecile_atricapillus_Magee_Marsh_boardwalk_west_end_262804.wav\n",
      "Row: Eremophila_alpestris_Dublin_Township_near__Rockford_Mercer_County_Ohio_716604.wav\n",
      "Processing file: Converted Recordings\\Eremophila_alpestris_Dublin_Township_near__Rockford_Mercer_County_Ohio_716604.wav\n",
      "Row: Eremophila_alpestris_Michigan_Monroe_County_16969.wav\n",
      "Processing file: Converted Recordings\\Eremophila_alpestris_Michigan_Monroe_County_16969.wav\n",
      "Row: Eremophila_alpestris_Michigan_Deerfield_11506.wav\n",
      "Processing file: Converted Recordings\\Eremophila_alpestris_Michigan_Deerfield_11506.wav\n",
      "Row: Eremophila_alpestris_Michigan_Deerfield_11505.wav\n",
      "Processing file: Converted Recordings\\Eremophila_alpestris_Michigan_Deerfield_11505.wav\n",
      "Row: Tachycineta_bicolor_Pelee_near__Leamington_Essex_County_Ontario_475639.wav\n",
      "Processing file: Converted Recordings\\Tachycineta_bicolor_Pelee_near__Leamington_Essex_County_Ontario_475639.wav\n",
      "Row: Tachycineta_bicolor_Point_Pelee_National_Park_near__Wheatley_Essex_County_Ontario_839333.wav\n",
      "Processing file: Converted Recordings\\Tachycineta_bicolor_Point_Pelee_National_Park_near__Wheatley_Essex_County_Ontario_839333.wav\n",
      "Row: Tachycineta_bicolor_Magee_Marsh_-_boardwalk_Lucas_County_Ohio_827054.wav\n",
      "Processing file: Converted Recordings\\Tachycineta_bicolor_Magee_Marsh_-_boardwalk_Lucas_County_Ohio_827054.wav\n",
      "Row: Tachycineta_bicolor_Big_Island_WA_Marion_County_Ohio_737242.wav\n",
      "Processing file: Converted Recordings\\Tachycineta_bicolor_Big_Island_WA_Marion_County_Ohio_737242.wav\n",
      "Row: Tachycineta_bicolor_Pelee_Shuttle_Stop_near__Leamington_Essex_County_Ontario_477045.wav\n",
      "Processing file: Converted Recordings\\Tachycineta_bicolor_Pelee_Shuttle_Stop_near__Leamington_Essex_County_Ontario_477045.wav\n",
      "Row: Tachycineta_bicolor_Ohio_Crane_Creek_SP_17046.wav\n",
      "Processing file: Converted Recordings\\Tachycineta_bicolor_Ohio_Crane_Creek_SP_17046.wav\n",
      "Row: Progne_subis_Vermilion_River_Reservation:_Mill_Hollow_near__Vermilion_Erie_County_Ohio_784046.wav\n",
      "Processing file: Converted Recordings\\Progne_subis_Vermilion_River_Reservation:_Mill_Hollow_near__Vermilion_Erie_County_Ohio_784046.wav\n",
      "Row: Progne_subis_Ottawa_NWR_Lucas_County_Ohio_803616.wav\n",
      "Processing file: Converted Recordings\\Progne_subis_Ottawa_NWR_Lucas_County_Ohio_803616.wav\n",
      "Row: Progne_subis_Magee_Marsh_Ohio_164751.wav\n",
      "Processing file: Converted Recordings\\Progne_subis_Magee_Marsh_Ohio_164751.wav\n",
      "Row: Progne_subis_Magee_Marsh_Ohio_164748.wav\n",
      "Processing file: Converted Recordings\\Progne_subis_Magee_Marsh_Ohio_164748.wav\n",
      "Row: Progne_subis_Whitewater_Township_near__Cleves_Hamilton_County_Ohio_817716.wav\n",
      "Processing file: Converted Recordings\\Progne_subis_Whitewater_Township_near__Cleves_Hamilton_County_Ohio_817716.wav\n",
      "Row: Hirundo_rustica_Green_Township_near__Cincinnati_Hamilton_County_Ohio_833706.wav\n",
      "Processing file: Converted Recordings\\Hirundo_rustica_Green_Township_near__Cincinnati_Hamilton_County_Ohio_833706.wav\n",
      "Row: Corthylio_calendula_Ohio_Crane_Creek_SP_17045.wav\n",
      "Processing file: Converted Recordings\\Corthylio_calendula_Ohio_Crane_Creek_SP_17045.wav\n",
      "Row: Cistothorus_stellaris_Battelle_Darby_Metro_Park--Cutoff_trail_from_Darby_Creek_Trail_past_barn_to_Darby_Creek_Rd._105741.wav\n",
      "Processing file: Converted Recordings\\Cistothorus_stellaris_Battelle_Darby_Metro_Park--Cutoff_trail_from_Darby_Creek_Trail_past_barn_to_Darby_Creek_Rd._105741.wav\n",
      "Row: Cistothorus_palustris_Jerusalem_Township_near__Bono_Lucas_County_Ohio_784047.wav\n",
      "Processing file: Converted Recordings\\Cistothorus_palustris_Jerusalem_Township_near__Bono_Lucas_County_Ohio_784047.wav\n",
      "Row: Cistothorus_palustris_Battelle_Darby_Metro_Park_-_Wetlands_417866.wav\n",
      "Processing file: Converted Recordings\\Cistothorus_palustris_Battelle_Darby_Metro_Park_-_Wetlands_417866.wav\n",
      "Row: Cistothorus_palustris_Battelle_Darby_Metro_Park_-_Wetlands_417865.wav\n",
      "Processing file: Converted Recordings\\Cistothorus_palustris_Battelle_Darby_Metro_Park_-_Wetlands_417865.wav\n",
      "Row: Cistothorus_palustris_Ohio_Ottawa_NWR_316630.wav\n",
      "Processing file: Converted Recordings\\Cistothorus_palustris_Ohio_Ottawa_NWR_316630.wav\n",
      "Row: Cistothorus_palustris_Ohio_Ottawa_NWR_178295.wav\n",
      "Processing file: Converted Recordings\\Cistothorus_palustris_Ohio_Ottawa_NWR_178295.wav\n",
      "Row: Thryothorus_ludovicianus_Whitewater_Township_near__Cleves_Hamilton_County_Ohio_896572.wav\n",
      "Processing file: Converted Recordings\\Thryothorus_ludovicianus_Whitewater_Township_near__Cleves_Hamilton_County_Ohio_896572.wav\n",
      "Row: Thryothorus_ludovicianus_Camp_Henry_near__Wheatley_Essex_County_Ontario_840733.wav\n",
      "Processing file: Converted Recordings\\Thryothorus_ludovicianus_Camp_Henry_near__Wheatley_Essex_County_Ontario_840733.wav\n",
      "Row: Thryothorus_ludovicianus_Point_Pelee_National_Park_near__Wheatley_Essex_County_Ontario_803581.wav\n",
      "Processing file: Converted Recordings\\Thryothorus_ludovicianus_Point_Pelee_National_Park_near__Wheatley_Essex_County_Ontario_803581.wav\n",
      "Row: Thryothorus_ludovicianus_Green_Township_near__Cincinnati_Hamilton_County_Ohio_726631.wav\n",
      "Processing file: Converted Recordings\\Thryothorus_ludovicianus_Green_Township_near__Cincinnati_Hamilton_County_Ohio_726631.wav\n",
      "Row: Thryothorus_ludovicianus_Spring_Valley_near__Waynesville_Greene_Cty_Ohio_477595.wav\n",
      "Processing file: Converted Recordings\\Thryothorus_ludovicianus_Spring_Valley_near__Waynesville_Greene_Cty_Ohio_477595.wav\n",
      "Row: Thryothorus_ludovicianus_East_Fork_Lake_SP_Clermont_County_Ohio_416559.wav\n",
      "Processing file: Converted Recordings\\Thryothorus_ludovicianus_East_Fork_Lake_SP_Clermont_County_Ohio_416559.wav\n",
      "Row: Thryothorus_ludovicianus_Indian_Lake_Logan_County_Ohio_775052.wav\n",
      "Processing file: Converted Recordings\\Thryothorus_ludovicianus_Indian_Lake_Logan_County_Ohio_775052.wav\n",
      "Row: Thryothorus_ludovicianus_Indian_Lake_Logan_County_Ohio_775050.wav\n",
      "Processing file: Converted Recordings\\Thryothorus_ludovicianus_Indian_Lake_Logan_County_Ohio_775050.wav\n",
      "Row: Thryothorus_ludovicianus_Anderson_Township_near__Cincinnati_Hamilton_County_Ohio_542519.wav\n",
      "Processing file: Converted Recordings\\Thryothorus_ludovicianus_Anderson_Township_near__Cincinnati_Hamilton_County_Ohio_542519.wav\n",
      "Row: Thryothorus_ludovicianus_Park_End_Dr_Montgomery_County_Ohio_477391.wav\n",
      "Processing file: Converted Recordings\\Thryothorus_ludovicianus_Park_End_Dr_Montgomery_County_Ohio_477391.wav\n",
      "Row: Thryothorus_ludovicianus_Wegerzyn_garden_near__Dayton_Montgomery_County_Ohio_807207.wav\n",
      "Processing file: Converted Recordings\\Thryothorus_ludovicianus_Wegerzyn_garden_near__Dayton_Montgomery_County_Ohio_807207.wav\n",
      "Row: Thryothorus_ludovicianus_Oak_Openings_Lucas_County_Ohio_804996.wav\n",
      "Processing file: Converted Recordings\\Thryothorus_ludovicianus_Oak_Openings_Lucas_County_Ohio_804996.wav\n",
      "Row: Thryothorus_ludovicianus_Miami_near__North_Bend_Hamilton_County_Ohio_542146.wav\n",
      "Processing file: Converted Recordings\\Thryothorus_ludovicianus_Miami_near__North_Bend_Hamilton_County_Ohio_542146.wav\n",
      "Row: Thryothorus_ludovicianus_Michigan_Whiteford_Township_17104.wav\n",
      "Processing file: Converted Recordings\\Thryothorus_ludovicianus_Michigan_Whiteford_Township_17104.wav\n",
      "Row: Troglodytes_hiemalis_Miami_Township_near__North_Bend_Hamilton_County_Ohio_713587.wav\n",
      "Processing file: Converted Recordings\\Troglodytes_hiemalis_Miami_Township_near__North_Bend_Hamilton_County_Ohio_713587.wav\n",
      "Row: Troglodytes_hiemalis_Boston_Township_near__Peninsula_Summit_County_Ohio_646091.wav\n",
      "Processing file: Converted Recordings\\Troglodytes_hiemalis_Boston_Township_near__Peninsula_Summit_County_Ohio_646091.wav\n",
      "Row: Troglodytes_aedon_Green_Township_near__Cincinnati_Hamilton_County_Ohio_726630.wav\n",
      "Processing file: Converted Recordings\\Troglodytes_aedon_Green_Township_near__Cincinnati_Hamilton_County_Ohio_726630.wav\n",
      "Row: Troglodytes_aedon_Miami_Township_near__Cleves_Hamilton_County_Ohio_645572.wav\n",
      "Processing file: Converted Recordings\\Troglodytes_aedon_Miami_Township_near__Cleves_Hamilton_County_Ohio_645572.wav\n",
      "Row: Troglodytes_aedon_Cleveland_Heights_Ohio_67466.wav\n",
      "Processing file: Converted Recordings\\Troglodytes_aedon_Cleveland_Heights_Ohio_67466.wav\n",
      "Row: Troglodytes_aedon_Magee_Marsh_-_boardwalk_Lucas_County_Ohio_828461.wav\n",
      "Processing file: Converted Recordings\\Troglodytes_aedon_Magee_Marsh_-_boardwalk_Lucas_County_Ohio_828461.wav\n",
      "Row: Troglodytes_aedon_Magee_Marsh_-_boardwalk_Lucas_County_Ohio_828458.wav\n",
      "Processing file: Converted Recordings\\Troglodytes_aedon_Magee_Marsh_-_boardwalk_Lucas_County_Ohio_828458.wav\n",
      "Row: Troglodytes_aedon_Pelee_near__Leamington_Essex_County_Ontario_476573.wav\n",
      "Processing file: Converted Recordings\\Troglodytes_aedon_Pelee_near__Leamington_Essex_County_Ontario_476573.wav\n",
      "Row: Troglodytes_aedon_Pelee_near__Leamington_Essex_County_Ontario_473225.wav\n",
      "Processing file: Converted Recordings\\Troglodytes_aedon_Pelee_near__Leamington_Essex_County_Ontario_473225.wav\n",
      "Row: Troglodytes_aedon_Orrville_Ohio_53922.wav\n",
      "Processing file: Converted Recordings\\Troglodytes_aedon_Orrville_Ohio_53922.wav\n",
      "Row: Troglodytes_aedon_Anderson_Township_near__Cincinnati_Hamilton_County_Ohio_552558.wav\n",
      "Processing file: Converted Recordings\\Troglodytes_aedon_Anderson_Township_near__Cincinnati_Hamilton_County_Ohio_552558.wav\n",
      "Row: Troglodytes_aedon_Cleveland_Cuyahoga_County_Ohio_256649.wav\n",
      "Processing file: Converted Recordings\\Troglodytes_aedon_Cleveland_Cuyahoga_County_Ohio_256649.wav\n",
      "Row: Troglodytes_aedon_Ohio_Crane_Creek_SP_17053.wav\n",
      "Processing file: Converted Recordings\\Troglodytes_aedon_Ohio_Crane_Creek_SP_17053.wav\n",
      "Row: Troglodytes_aedon_Ohio_Crane_Creek_SP_17052.wav\n",
      "Processing file: Converted Recordings\\Troglodytes_aedon_Ohio_Crane_Creek_SP_17052.wav\n",
      "Row: Troglodytes_aedon_Kendrick_Woods_State_Nature_Preserve_Allen_County_Ohio_775486.wav\n",
      "Processing file: Converted Recordings\\Troglodytes_aedon_Kendrick_Woods_State_Nature_Preserve_Allen_County_Ohio_775486.wav\n",
      "Row: Polioptila_caerulea_Point_Pelee_National_Park_near__Wheatley_Essex_County_Ontario_803379.wav\n",
      "Processing file: Converted Recordings\\Polioptila_caerulea_Point_Pelee_National_Park_near__Wheatley_Essex_County_Ontario_803379.wav\n",
      "Row: Polioptila_caerulea_Point_Pelee_National_Park_near__Wheatley_Essex_County_Ontario_803378.wav\n",
      "Processing file: Converted Recordings\\Polioptila_caerulea_Point_Pelee_National_Park_near__Wheatley_Essex_County_Ontario_803378.wav\n",
      "Row: Polioptila_caerulea_Pelee_near__Leamington_Essex_County_Ontario_476524.wav\n",
      "Processing file: Converted Recordings\\Polioptila_caerulea_Pelee_near__Leamington_Essex_County_Ontario_476524.wav\n",
      "Row: Polioptila_caerulea_Lawrence_Woods_SNP_417993.wav\n",
      "Processing file: Converted Recordings\\Polioptila_caerulea_Lawrence_Woods_SNP_417993.wav\n",
      "Row: Polioptila_caerulea_Lawrence_Woods_SNP_417992.wav\n",
      "Processing file: Converted Recordings\\Polioptila_caerulea_Lawrence_Woods_SNP_417992.wav\n",
      "Row: Polioptila_caerulea_East_Fork_Lake_SP_Clermont_County_Ohio_416548.wav\n",
      "Processing file: Converted Recordings\\Polioptila_caerulea_East_Fork_Lake_SP_Clermont_County_Ohio_416548.wav\n",
      "Row: Polioptila_caerulea_Magee_Marsh_-_boardwalk_Lucas_County_Ohio_816237.wav\n",
      "Processing file: Converted Recordings\\Polioptila_caerulea_Magee_Marsh_-_boardwalk_Lucas_County_Ohio_816237.wav\n",
      "Row: Polioptila_caerulea_Magee_Marsh_-_boardwalk_Lucas_County_Ohio_816236.wav\n",
      "Processing file: Converted Recordings\\Polioptila_caerulea_Magee_Marsh_-_boardwalk_Lucas_County_Ohio_816236.wav\n",
      "Row: Polioptila_caerulea_Dunham_Recreation_Complex_near__Cincinnati_Hamilton_County_Ohio_646424.wav\n",
      "Processing file: Converted Recordings\\Polioptila_caerulea_Dunham_Recreation_Complex_near__Cincinnati_Hamilton_County_Ohio_646424.wav\n",
      "Row: Polioptila_caerulea_Miami_Township_near__Cleves_Hamilton_County_Ohio_645807.wav\n",
      "Processing file: Converted Recordings\\Polioptila_caerulea_Miami_Township_near__Cleves_Hamilton_County_Ohio_645807.wav\n",
      "Row: Polioptila_caerulea_Anderson_Township_near__Cincinnati_Hamilton_County_Ohio_552557.wav\n",
      "Processing file: Converted Recordings\\Polioptila_caerulea_Anderson_Township_near__Cincinnati_Hamilton_County_Ohio_552557.wav\n",
      "Row: Polioptila_caerulea_Ohio_Crane_Creek_SP_17017.wav\n",
      "Processing file: Converted Recordings\\Polioptila_caerulea_Ohio_Crane_Creek_SP_17017.wav\n",
      "Row: Sitta_carolinensis_Harrison_Township_near__Harrison_Hamilton_County_Ohio_714979.wav\n",
      "Processing file: Converted Recordings\\Sitta_carolinensis_Harrison_Township_near__Harrison_Hamilton_County_Ohio_714979.wav\n",
      "Row: Sitta_carolinensis_Fort_Mitchell_Kenton_County_Kentucky_687224.wav\n",
      "Processing file: Converted Recordings\\Sitta_carolinensis_Fort_Mitchell_Kenton_County_Kentucky_687224.wav\n",
      "Row: Sitta_carolinensis_Lawrence_Woods_SNP_417999.wav\n",
      "Processing file: Converted Recordings\\Sitta_carolinensis_Lawrence_Woods_SNP_417999.wav\n",
      "Row: Sitta_carolinensis_Green_Township_near__Cincinnati_Hamilton_County_Ohio_673000.wav\n",
      "Processing file: Converted Recordings\\Sitta_carolinensis_Green_Township_near__Cincinnati_Hamilton_County_Ohio_673000.wav\n",
      "Row: Sitta_carolinensis_Harrison_Township_near__Harrison_Hamilton_County_Ohio_807181.wav\n",
      "Processing file: Converted Recordings\\Sitta_carolinensis_Harrison_Township_near__Harrison_Hamilton_County_Ohio_807181.wav\n",
      "Row: Sitta_canadensis_Cincinnati_Hamilton_County_Ohio_677294.wav\n",
      "Processing file: Converted Recordings\\Sitta_canadensis_Cincinnati_Hamilton_County_Ohio_677294.wav\n",
      "Row: Sitta_canadensis_Cincinnati_Hamilton_County_Ohio_677292.wav\n",
      "Processing file: Converted Recordings\\Sitta_canadensis_Cincinnati_Hamilton_County_Ohio_677292.wav\n",
      "Row: Sitta_canadensis_Cincinnati_Hamilton_County_Ohio_677293.wav\n",
      "Processing file: Converted Recordings\\Sitta_canadensis_Cincinnati_Hamilton_County_Ohio_677293.wav\n",
      "Row: Certhia_americana_Point_Pelee_National_Park_near__Wheatley_Essex_County_Ontario_839192.wav\n",
      "Processing file: Converted Recordings\\Certhia_americana_Point_Pelee_National_Park_near__Wheatley_Essex_County_Ontario_839192.wav\n",
      "Row: Certhia_americana_Fort_Mitchell_Kenton_County_Kentucky_687202.wav\n",
      "Processing file: Converted Recordings\\Certhia_americana_Fort_Mitchell_Kenton_County_Kentucky_687202.wav\n",
      "Row: Dumetella_carolinensis_Magee_Marsh_-_boardwalk_Lucas_County_Ohio_814891.wav\n",
      "Processing file: Converted Recordings\\Dumetella_carolinensis_Magee_Marsh_-_boardwalk_Lucas_County_Ohio_814891.wav\n",
      "Row: Dumetella_carolinensis_Magee_Marsh_-_boardwalk_Lucas_County_Ohio_814888.wav\n",
      "Processing file: Converted Recordings\\Dumetella_carolinensis_Magee_Marsh_-_boardwalk_Lucas_County_Ohio_814888.wav\n",
      "Row: Dumetella_carolinensis_Point_Pelee_National_Park_near__Wheatley_Essex_County_Ontario_805532.wav\n",
      "Processing file: Converted Recordings\\Dumetella_carolinensis_Point_Pelee_National_Park_near__Wheatley_Essex_County_Ontario_805532.wav\n",
      "Row: Dumetella_carolinensis_Lawrence_Woods_SNP_477577.wav\n",
      "Processing file: Converted Recordings\\Dumetella_carolinensis_Lawrence_Woods_SNP_477577.wav\n",
      "Row: Dumetella_carolinensis_Pelee_near__Leamington_Essex_County_Ontario_476572.wav\n",
      "Processing file: Converted Recordings\\Dumetella_carolinensis_Pelee_near__Leamington_Essex_County_Ontario_476572.wav\n",
      "Row: Dumetella_carolinensis_Magee_Marsh_-_boardwalk_Lucas_County_Ohio_814890.wav\n",
      "Processing file: Converted Recordings\\Dumetella_carolinensis_Magee_Marsh_-_boardwalk_Lucas_County_Ohio_814890.wav\n",
      "Row: Dumetella_carolinensis_Magee_Marsh_-_boardwalk_Lucas_County_Ohio_814889.wav\n",
      "Processing file: Converted Recordings\\Dumetella_carolinensis_Magee_Marsh_-_boardwalk_Lucas_County_Ohio_814889.wav\n",
      "Row: Dumetella_carolinensis_Whitewater_Township_near__White_Water_Park_Hamilton_County_Ohio_807552.wav\n",
      "Processing file: Converted Recordings\\Dumetella_carolinensis_Whitewater_Township_near__White_Water_Park_Hamilton_County_Ohio_807552.wav\n",
      "Row: Dumetella_carolinensis_Sheldon_Marsh_State_Nature_Preserve_723020.wav\n",
      "Processing file: Converted Recordings\\Dumetella_carolinensis_Sheldon_Marsh_State_Nature_Preserve_723020.wav\n",
      "Row: Dumetella_carolinensis_Michigan_Petersburg_SGA__31053.wav\n",
      "Processing file: Converted Recordings\\Dumetella_carolinensis_Michigan_Petersburg_SGA__31053.wav\n",
      "Row: Dumetella_carolinensis_Ohio_Crane_Creek_SP_17041.wav\n",
      "Processing file: Converted Recordings\\Dumetella_carolinensis_Ohio_Crane_Creek_SP_17041.wav\n",
      "Row: Dumetella_carolinensis_Magee_Marsh_boardwalk_west_end_262807.wav\n",
      "Processing file: Converted Recordings\\Dumetella_carolinensis_Magee_Marsh_boardwalk_west_end_262807.wav\n",
      "Row: Dumetella_carolinensis_Magee_Marsh_boardwalk_west_end_262806.wav\n",
      "Processing file: Converted Recordings\\Dumetella_carolinensis_Magee_Marsh_boardwalk_west_end_262806.wav\n",
      "Row: Mimus_polyglottos_Green_Township_near__Cincinnati_Hamilton_County_Ohio_807536.wav\n",
      "Processing file: Converted Recordings\\Mimus_polyglottos_Green_Township_near__Cincinnati_Hamilton_County_Ohio_807536.wav\n",
      "Row: Mimus_polyglottos_Green_Township_near__Cincinnati_Hamilton_County_Ohio_807449.wav\n",
      "Processing file: Converted Recordings\\Mimus_polyglottos_Green_Township_near__Cincinnati_Hamilton_County_Ohio_807449.wav\n",
      "Row: Mimus_polyglottos_Cincinnati_Hamilton_County_Ohio_677297.wav\n",
      "Processing file: Converted Recordings\\Mimus_polyglottos_Cincinnati_Hamilton_County_Ohio_677297.wav\n",
      "Row: Mimus_polyglottos_Cincinnati_Hamilton_County_Ohio_677295.wav\n",
      "Processing file: Converted Recordings\\Mimus_polyglottos_Cincinnati_Hamilton_County_Ohio_677295.wav\n",
      "Row: Mimus_polyglottos_Dunham_Recreation_Complex_near__Cincinnati_Hamilton_County_Ohio_646400.wav\n",
      "Processing file: Converted Recordings\\Mimus_polyglottos_Dunham_Recreation_Complex_near__Cincinnati_Hamilton_County_Ohio_646400.wav\n",
      "Row: Toxostoma_rufum_Hanover_Township_Licking_County_Ohio_893646.wav\n",
      "Processing file: Converted Recordings\\Toxostoma_rufum_Hanover_Township_Licking_County_Ohio_893646.wav\n",
      "Row: Toxostoma_rufum_Point_Pelee_National_Park_near__Wheatley_Essex_County_Ontario_803578.wav\n",
      "Processing file: Converted Recordings\\Toxostoma_rufum_Point_Pelee_National_Park_near__Wheatley_Essex_County_Ontario_803578.wav\n",
      "Row: Toxostoma_rufum_Green_Township_near__Cincinnati_Hamilton_County_Ohio_807480.wav\n",
      "Processing file: Converted Recordings\\Toxostoma_rufum_Green_Township_near__Cincinnati_Hamilton_County_Ohio_807480.wav\n",
      "Row: Toxostoma_rufum_Dunham_Recreation_Complex_near__Cincinnati_Hamilton_County_Ohio_646427.wav\n",
      "Processing file: Converted Recordings\\Toxostoma_rufum_Dunham_Recreation_Complex_near__Cincinnati_Hamilton_County_Ohio_646427.wav\n",
      "Row: Toxostoma_rufum_Miami_Township_near__Cleves_Hamilton_County_Ohio_645811.wav\n",
      "Processing file: Converted Recordings\\Toxostoma_rufum_Miami_Township_near__Cleves_Hamilton_County_Ohio_645811.wav\n",
      "Row: Toxostoma_rufum_Franklin_Township_near__Saint_Marys_Mercer_County_Ohio_637650.wav\n",
      "Processing file: Converted Recordings\\Toxostoma_rufum_Franklin_Township_near__Saint_Marys_Mercer_County_Ohio_637650.wav\n",
      "Row: Toxostoma_rufum_Ross_Township_near__Hamilton_Butler_County_Ohio_632519.wav\n",
      "Processing file: Converted Recordings\\Toxostoma_rufum_Ross_Township_near__Hamilton_Butler_County_Ohio_632519.wav\n",
      "Row: Toxostoma_rufum_Pelee_near__Leamington_Essex_County_Ontario_476526.wav\n",
      "Processing file: Converted Recordings\\Toxostoma_rufum_Pelee_near__Leamington_Essex_County_Ontario_476526.wav\n",
      "Row: Toxostoma_rufum_Virginia_Kendall_Lake_Peninsula_Summit_County_Ohio_412205.wav\n",
      "Processing file: Converted Recordings\\Toxostoma_rufum_Virginia_Kendall_Lake_Peninsula_Summit_County_Ohio_412205.wav\n",
      "Row: Sturnus_vulgaris_Michigan_Monroe_County_17173.wav\n",
      "Processing file: Converted Recordings\\Sturnus_vulgaris_Michigan_Monroe_County_17173.wav\n",
      "Row: Sialia_sialis_Cincinnati_Hamilton_County_Ohio_677299.wav\n",
      "Processing file: Converted Recordings\\Sialia_sialis_Cincinnati_Hamilton_County_Ohio_677299.wav\n",
      "Row: Sialia_sialis_Michigan_Monroe_County_17169.wav\n",
      "Processing file: Converted Recordings\\Sialia_sialis_Michigan_Monroe_County_17169.wav\n",
      "Row: Hylocichla_mustelina_Whitewater_Township_near__Cleves_Hamilton_County_Ohio_817713.wav\n",
      "Processing file: Converted Recordings\\Hylocichla_mustelina_Whitewater_Township_near__Cleves_Hamilton_County_Ohio_817713.wav\n",
      "Row: Hylocichla_mustelina_Packer-Hammersmith_Center_near__Oregon_Lucas_County_Ohio_784058.wav\n",
      "Processing file: Converted Recordings\\Hylocichla_mustelina_Packer-Hammersmith_Center_near__Oregon_Lucas_County_Ohio_784058.wav\n",
      "Row: Hylocichla_mustelina_Magee_Marsh_-_boardwalk_Lucas_County_Ohio_827229.wav\n",
      "Processing file: Converted Recordings\\Hylocichla_mustelina_Magee_Marsh_-_boardwalk_Lucas_County_Ohio_827229.wav\n",
      "Row: Hylocichla_mustelina_Miami_Township_near__North_Bend_Hamilton_County_Ohio_646004.wav\n",
      "Processing file: Converted Recordings\\Hylocichla_mustelina_Miami_Township_near__North_Bend_Hamilton_County_Ohio_646004.wav\n",
      "Row: Hylocichla_mustelina_Miami_Township_near__North_Bend_Hamilton_County_Ohio_552552.wav\n",
      "Processing file: Converted Recordings\\Hylocichla_mustelina_Miami_Township_near__North_Bend_Hamilton_County_Ohio_552552.wav\n",
      "Row: Hylocichla_mustelina_Sharon_Woods_near__Cincinnati_Hamilton_County_Ohio_483768.wav\n",
      "Processing file: Converted Recordings\\Hylocichla_mustelina_Sharon_Woods_near__Cincinnati_Hamilton_County_Ohio_483768.wav\n",
      "Row: Hylocichla_mustelina_Prairie_Oaks_Metro_Park--Sycamore_Plains_Area_182009.wav\n",
      "Processing file: Converted Recordings\\Hylocichla_mustelina_Prairie_Oaks_Metro_Park--Sycamore_Plains_Area_182009.wav\n",
      "Row: Hylocichla_mustelina_Ohio_Crane_Creek_SP_17042.wav\n",
      "Processing file: Converted Recordings\\Hylocichla_mustelina_Ohio_Crane_Creek_SP_17042.wav\n",
      "Row: Hylocichla_mustelina_Michigan_Monroe_County_16970.wav\n",
      "Processing file: Converted Recordings\\Hylocichla_mustelina_Michigan_Monroe_County_16970.wav\n",
      "Row: Catharus_ustulatus_Oak_Openings_Metropark_Ohio_418075.wav\n",
      "Processing file: Converted Recordings\\Catharus_ustulatus_Oak_Openings_Metropark_Ohio_418075.wav\n",
      "Row: Catharus_ustulatus_Firestone_Metropark_Summit_County_Ohio_368004.wav\n",
      "Processing file: Converted Recordings\\Catharus_ustulatus_Firestone_Metropark_Summit_County_Ohio_368004.wav\n",
      "Row: Catharus_ustulatus_Bricker_Blvd_near_Cranbrook_Elementary_Columbus_OH_127737.wav\n",
      "Processing file: Converted Recordings\\Catharus_ustulatus_Bricker_Blvd_near_Cranbrook_Elementary_Columbus_OH_127737.wav\n",
      "Row: Catharus_ustulatus_Columbus_Ohio_flight_call_recording_station_55203.wav\n",
      "Processing file: Converted Recordings\\Catharus_ustulatus_Columbus_Ohio_flight_call_recording_station_55203.wav\n",
      "Row: Catharus_minimus_Bricker_Blvd_near_Cranbrook_Elementary_Columbus_OH_127734.wav\n",
      "Processing file: Converted Recordings\\Catharus_minimus_Bricker_Blvd_near_Cranbrook_Elementary_Columbus_OH_127734.wav\n",
      "Row: Catharus_fuscescens_Oak_Openings_Lucas_County_Ohio_803619.wav\n",
      "Processing file: Converted Recordings\\Catharus_fuscescens_Oak_Openings_Lucas_County_Ohio_803619.wav\n",
      "Row: Turdus_migratorius_Harrison_Township_near__Harrison_Hamilton_County_Ohio_728269.wav\n",
      "Processing file: Converted Recordings\\Turdus_migratorius_Harrison_Township_near__Harrison_Hamilton_County_Ohio_728269.wav\n",
      "Row: Turdus_migratorius_Pelee_near__Leamington_Essex_County_Ontario_476496.wav\n",
      "Processing file: Converted Recordings\\Turdus_migratorius_Pelee_near__Leamington_Essex_County_Ontario_476496.wav\n",
      "Row: Turdus_migratorius_Pelee_near__Leamington_Essex_County_Ontario_476494.wav\n",
      "Processing file: Converted Recordings\\Turdus_migratorius_Pelee_near__Leamington_Essex_County_Ontario_476494.wav\n",
      "Row: Turdus_migratorius_Green_Township_near__Cincinnati_Hamilton_County_Ohio_807538.wav\n",
      "Processing file: Converted Recordings\\Turdus_migratorius_Green_Township_near__Cincinnati_Hamilton_County_Ohio_807538.wav\n",
      "Row: Turdus_migratorius_Rossford_Wood_County_Ohio_803608.wav\n",
      "Processing file: Converted Recordings\\Turdus_migratorius_Rossford_Wood_County_Ohio_803608.wav\n",
      "Row: Turdus_migratorius_Bricker_Blvd_near_Cranbrook_Elementary_Columbus_OH_103571.wav\n",
      "Processing file: Converted Recordings\\Turdus_migratorius_Bricker_Blvd_near_Cranbrook_Elementary_Columbus_OH_103571.wav\n",
      "Row: Spinus_tristis_Miami_Township_near__Yellow_Springs_Greene_County_Ohio_756999.wav\n",
      "Processing file: Converted Recordings\\Spinus_tristis_Miami_Township_near__Yellow_Springs_Greene_County_Ohio_756999.wav\n",
      "Row: Spinus_tristis_Michigan_Petersburg_SGA_31023.wav\n",
      "Processing file: Converted Recordings\\Spinus_tristis_Michigan_Petersburg_SGA_31023.wav\n",
      "Row: Spinus_tristis_Pelee_near__Leamington_Essex_County_Ontario_476269.wav\n",
      "Processing file: Converted Recordings\\Spinus_tristis_Pelee_near__Leamington_Essex_County_Ontario_476269.wav\n",
      "Row: Spinus_tristis_Miami_Township_near__North_Bend_Hamilton_County_Ohio_646115.wav\n",
      "Processing file: Converted Recordings\\Spinus_tristis_Miami_Township_near__North_Bend_Hamilton_County_Ohio_646115.wav\n",
      "Row: Ammodramus_savannarum_Michigan_Monroe_County_16953.wav\n",
      "Processing file: Converted Recordings\\Ammodramus_savannarum_Michigan_Monroe_County_16953.wav\n",
      "Row: Chondestes_grammacus_Ives_Road_Fen_Raisin_Charter_Township_near__Tecumseh_Lenawee_County_Michigan_734597.wav\n",
      "Processing file: Converted Recordings\\Chondestes_grammacus_Ives_Road_Fen_Raisin_Charter_Township_near__Tecumseh_Lenawee_County_Michigan_734597.wav\n",
      "Row: Chondestes_grammacus_Ives_Road_Fen_Raisin_Charter_Township_near__Tecumseh_Lenawee_County_Michigan_734596.wav\n",
      "Processing file: Converted Recordings\\Chondestes_grammacus_Ives_Road_Fen_Raisin_Charter_Township_near__Tecumseh_Lenawee_County_Michigan_734596.wav\n",
      "Row: Chondestes_grammacus_Michigan_Petersburg_SGA__31027.wav\n",
      "Processing file: Converted Recordings\\Chondestes_grammacus_Michigan_Petersburg_SGA__31027.wav\n",
      "Row: Spizella_passerina_Miami_Township_near__Cleves_Hamilton_County_Ohio_645554.wav\n",
      "Processing file: Converted Recordings\\Spizella_passerina_Miami_Township_near__Cleves_Hamilton_County_Ohio_645554.wav\n",
      "Row: Spizella_passerina_Pelee_near__Leamington_Essex_County_Ontario_476560.wav\n",
      "Processing file: Converted Recordings\\Spizella_passerina_Pelee_near__Leamington_Essex_County_Ontario_476560.wav\n",
      "Row: Spizella_passerina_Michigan_Monroe_County_16985.wav\n",
      "Processing file: Converted Recordings\\Spizella_passerina_Michigan_Monroe_County_16985.wav\n",
      "Row: Spizella_passerina_Miami_near__North_Bend_Hamilton_County_Ohio_542142.wav\n",
      "Processing file: Converted Recordings\\Spizella_passerina_Miami_near__North_Bend_Hamilton_County_Ohio_542142.wav\n",
      "Row: Spizella_passerina_Michigan_Monroe_County_16984.wav\n",
      "Processing file: Converted Recordings\\Spizella_passerina_Michigan_Monroe_County_16984.wav\n",
      "Row: Spizella_passerina_Michigan_Monroe_County_16983.wav\n",
      "Processing file: Converted Recordings\\Spizella_passerina_Michigan_Monroe_County_16983.wav\n",
      "Row: Spizella_passerina_Michigan_Monroe_County_16982.wav\n",
      "Processing file: Converted Recordings\\Spizella_passerina_Michigan_Monroe_County_16982.wav\n",
      "Row: Spizella_passerina_Michigan_Monroe_County_16981.wav\n",
      "Processing file: Converted Recordings\\Spizella_passerina_Michigan_Monroe_County_16981.wav\n",
      "Row: Spizella_passerina_Michigan_Monroe_County_17172.wav\n",
      "Processing file: Converted Recordings\\Spizella_passerina_Michigan_Monroe_County_17172.wav\n",
      "Row: Spizella_pusilla_Madison_Township_near__Canal_Winchester_Franklin_County_Ohio_554398.wav\n",
      "Processing file: Converted Recordings\\Spizella_pusilla_Madison_Township_near__Canal_Winchester_Franklin_County_Ohio_554398.wav\n",
      "Row: Spizella_pusilla_Miami_Township_near__Cleves_Hamilton_County_Ohio_807577.wav\n",
      "Processing file: Converted Recordings\\Spizella_pusilla_Miami_Township_near__Cleves_Hamilton_County_Ohio_807577.wav\n",
      "Row: Spizella_pusilla_Oak_Openings_Metropark_Ohio_418069.wav\n",
      "Processing file: Converted Recordings\\Spizella_pusilla_Oak_Openings_Metropark_Ohio_418069.wav\n",
      "Row: Spizella_pusilla_Lawrence_Woods_SNP_417977.wav\n",
      "Processing file: Converted Recordings\\Spizella_pusilla_Lawrence_Woods_SNP_417977.wav\n",
      "Row: Spizella_pusilla_Lawrence_Woods_SNP_417975.wav\n",
      "Processing file: Converted Recordings\\Spizella_pusilla_Lawrence_Woods_SNP_417975.wav\n",
      "Row: Spizella_pusilla_Oak_Openings_Lucas_County_Ohio_803618.wav\n",
      "Processing file: Converted Recordings\\Spizella_pusilla_Oak_Openings_Lucas_County_Ohio_803618.wav\n",
      "Row: Spizella_pusilla_Whitewater_Township_near__Harrison_Hamilton_County_Ohio_726763.wav\n",
      "Processing file: Converted Recordings\\Spizella_pusilla_Whitewater_Township_near__Harrison_Hamilton_County_Ohio_726763.wav\n",
      "Row: Spizella_pusilla_Marseilles_Township_near__Upper_Sandusky_Wyandot_County_Ohio_637645.wav\n",
      "Processing file: Converted Recordings\\Spizella_pusilla_Marseilles_Township_near__Upper_Sandusky_Wyandot_County_Ohio_637645.wav\n",
      "Row: Spizella_pusilla_East_Fork_Lake_SP_Clermont_County_Ohio_416557.wav\n",
      "Processing file: Converted Recordings\\Spizella_pusilla_East_Fork_Lake_SP_Clermont_County_Ohio_416557.wav\n",
      "Row: Spizella_pusilla_Crosby_Township_near__Harrison_Hamilton_County_Ohio_632520.wav\n",
      "Processing file: Converted Recordings\\Spizella_pusilla_Crosby_Township_near__Harrison_Hamilton_County_Ohio_632520.wav\n",
      "Row: Spizella_pusilla_Michigan_Monroe_County_16986.wav\n",
      "Processing file: Converted Recordings\\Spizella_pusilla_Michigan_Monroe_County_16986.wav\n",
      "Row: Passerella_iliaca_Firestone_Metropark_Summit_County_Ohio_407934.wav\n",
      "Processing file: Converted Recordings\\Passerella_iliaca_Firestone_Metropark_Summit_County_Ohio_407934.wav\n",
      "Row: Junco_hyemalis_Pebblebrook_Lane_Moreland_Hills_Ohio_79986.wav\n",
      "Processing file: Converted Recordings\\Junco_hyemalis_Pebblebrook_Lane_Moreland_Hills_Ohio_79986.wav\n",
      "Row: Zonotrichia_albicollis_Cuyahoga_Falls_Summit_County_Ohio_475087.wav\n",
      "Processing file: Converted Recordings\\Zonotrichia_albicollis_Cuyahoga_Falls_Summit_County_Ohio_475087.wav\n",
      "Row: Pooecetes_gramineus_Michigan_Monroe_County_17154.wav\n",
      "Processing file: Converted Recordings\\Pooecetes_gramineus_Michigan_Monroe_County_17154.wav\n",
      "Row: Pooecetes_gramineus_Michigan_Monroe_County_17095.wav\n",
      "Processing file: Converted Recordings\\Pooecetes_gramineus_Michigan_Monroe_County_17095.wav\n",
      "Row: Pooecetes_gramineus_Michigan_Monroe_County_16978.wav\n",
      "Processing file: Converted Recordings\\Pooecetes_gramineus_Michigan_Monroe_County_16978.wav\n",
      "Row: Centronyx_henslowii_Ross_Township_near__Ross_Butler_County_Ohio_807504.wav\n",
      "Processing file: Converted Recordings\\Centronyx_henslowii_Ross_Township_near__Ross_Butler_County_Ohio_807504.wav\n",
      "Row: Centronyx_henslowii_Battelle_Darby_Metro_Park_-_Wetlands_417868.wav\n",
      "Processing file: Converted Recordings\\Centronyx_henslowii_Battelle_Darby_Metro_Park_-_Wetlands_417868.wav\n",
      "Row: Centronyx_henslowii_Battelle_Darby_Metro_Park_-_Wetlands_417867.wav\n",
      "Processing file: Converted Recordings\\Centronyx_henslowii_Battelle_Darby_Metro_Park_-_Wetlands_417867.wav\n",
      "Row: Centronyx_henslowii_Miami_Whitewater_Forest_Park_wetlands_Crosby_Township_near__Harrison_Hamilton_County_Ohio_302926.wav\n",
      "Processing file: Converted Recordings\\Centronyx_henslowii_Miami_Whitewater_Forest_Park_wetlands_Crosby_Township_near__Harrison_Hamilton_County_Ohio_302926.wav\n",
      "Row: Centronyx_henslowii_Battelle_Darby_Metro_Park--Grain_Elevator_Wetlands_106752.wav\n",
      "Processing file: Converted Recordings\\Centronyx_henslowii_Battelle_Darby_Metro_Park--Grain_Elevator_Wetlands_106752.wav\n",
      "Row: Melospiza_melodia_Magee_Marsh_-_boardwalk_Lucas_County_Ohio_826141.wav\n",
      "Processing file: Converted Recordings\\Melospiza_melodia_Magee_Marsh_-_boardwalk_Lucas_County_Ohio_826141.wav\n",
      "Row: Melospiza_melodia_Magee_Marsh_-_boardwalk_Lucas_County_Ohio_826140.wav\n",
      "Processing file: Converted Recordings\\Melospiza_melodia_Magee_Marsh_-_boardwalk_Lucas_County_Ohio_826140.wav\n",
      "Row: Melospiza_melodia_Green_Township_near__Cincinnati_Hamilton_County_Ohio_807468.wav\n",
      "Processing file: Converted Recordings\\Melospiza_melodia_Green_Township_near__Cincinnati_Hamilton_County_Ohio_807468.wav\n",
      "Row: Melospiza_melodia_Point_Pelee_National_Park_near__Wheatley_Essex_County_Ontario_806074.wav\n",
      "Processing file: Converted Recordings\\Melospiza_melodia_Point_Pelee_National_Park_near__Wheatley_Essex_County_Ontario_806074.wav\n",
      "Row: Melospiza_melodia_Battelle_Darby_Metro_Park--Darby_Dan_Training_Loop_trail_SW_corner_105818.wav\n",
      "Processing file: Converted Recordings\\Melospiza_melodia_Battelle_Darby_Metro_Park--Darby_Dan_Training_Loop_trail_SW_corner_105818.wav\n",
      "Row: Melospiza_melodia_Miami_Whitewater_Forest_Park_wetlands_Crosby_Township_near__Harrison_Hamilton_County_Ohio_687157.wav\n",
      "Processing file: Converted Recordings\\Melospiza_melodia_Miami_Whitewater_Forest_Park_wetlands_Crosby_Township_near__Harrison_Hamilton_County_Ohio_687157.wav\n",
      "Row: Melospiza_melodia_Oak_Openings_Metropark_Ohio_418071.wav\n",
      "Processing file: Converted Recordings\\Melospiza_melodia_Oak_Openings_Metropark_Ohio_418071.wav\n",
      "Row: Melospiza_melodia_Michigan_Monroe_County_16972.wav\n",
      "Processing file: Converted Recordings\\Melospiza_melodia_Michigan_Monroe_County_16972.wav\n",
      "Row: Melospiza_melodia_Michigan_Monroe_County_17143.wav\n",
      "Processing file: Converted Recordings\\Melospiza_melodia_Michigan_Monroe_County_17143.wav\n",
      "Row: Melospiza_georgiana_Miami_Whitewater_Forest_Park_wetlands_Crosby_Township_near__Harrison_Hamilton_County_Ohio_687137.wav\n",
      "Processing file: Converted Recordings\\Melospiza_georgiana_Miami_Whitewater_Forest_Park_wetlands_Crosby_Township_near__Harrison_Hamilton_County_Ohio_687137.wav\n",
      "Row: Melospiza_georgiana_Battelle_Darby_Metro_Park_-_Wetlands_417851.wav\n",
      "Processing file: Converted Recordings\\Melospiza_georgiana_Battelle_Darby_Metro_Park_-_Wetlands_417851.wav\n",
      "Row: Melospiza_georgiana_Pelee_near__Leamington_Essex_County_Ontario_475341.wav\n",
      "Processing file: Converted Recordings\\Melospiza_georgiana_Pelee_near__Leamington_Essex_County_Ontario_475341.wav\n",
      "Row: Melospiza_georgiana_Cuyhaoga_National_Forest_57835.wav\n",
      "Processing file: Converted Recordings\\Melospiza_georgiana_Cuyhaoga_National_Forest_57835.wav\n",
      "Row: Pipilo_erythrophthalmus_Edge_of_Appalachia_Preserve_Adams_Cty_Ohio_939170.wav\n",
      "Processing file: Converted Recordings\\Pipilo_erythrophthalmus_Edge_of_Appalachia_Preserve_Adams_Cty_Ohio_939170.wav\n",
      "Row: Pipilo_erythrophthalmus_Point_Pelee_National_Park_near__Wheatley_Essex_County_Ontario_805531.wav\n",
      "Processing file: Converted Recordings\\Pipilo_erythrophthalmus_Point_Pelee_National_Park_near__Wheatley_Essex_County_Ontario_805531.wav\n",
      "Row: Pipilo_erythrophthalmus_Green_Township_near__Cincinnati_Hamilton_County_Ohio_779377.wav\n",
      "Processing file: Converted Recordings\\Pipilo_erythrophthalmus_Green_Township_near__Cincinnati_Hamilton_County_Ohio_779377.wav\n",
      "Row: Pipilo_erythrophthalmus_Miami_Township_near__Cleves_Hamilton_County_Ohio_645749.wav\n",
      "Processing file: Converted Recordings\\Pipilo_erythrophthalmus_Miami_Township_near__Cleves_Hamilton_County_Ohio_645749.wav\n",
      "Row: Pipilo_erythrophthalmus_Pelee_near__Leamington_Essex_County_Ontario_476567.wav\n",
      "Processing file: Converted Recordings\\Pipilo_erythrophthalmus_Pelee_near__Leamington_Essex_County_Ontario_476567.wav\n",
      "Row: Pipilo_erythrophthalmus_Brush_Creek_near__West_Union_Adams_County_Ohio_178534.wav\n",
      "Processing file: Converted Recordings\\Pipilo_erythrophthalmus_Brush_Creek_near__West_Union_Adams_County_Ohio_178534.wav\n",
      "Row: Pipilo_erythrophthalmus_Ross_Township_near__Hamilton_Butler_County_Ohio_533333.wav\n",
      "Processing file: Converted Recordings\\Pipilo_erythrophthalmus_Ross_Township_near__Hamilton_Butler_County_Ohio_533333.wav\n",
      "Row: Pipilo_erythrophthalmus_Upper_Twin_Creek_Rd_Scioto_County_Ohio_417606.wav\n",
      "Processing file: Converted Recordings\\Pipilo_erythrophthalmus_Upper_Twin_Creek_Rd_Scioto_County_Ohio_417606.wav\n",
      "Row: Pipilo_erythrophthalmus_East_Fork_Lake_SP_Clermont_County_Ohio_416553.wav\n",
      "Processing file: Converted Recordings\\Pipilo_erythrophthalmus_East_Fork_Lake_SP_Clermont_County_Ohio_416553.wav\n",
      "Row: Pipilo_erythrophthalmus_Michigan_Petersburg_SGA__31106.wav\n",
      "Processing file: Converted Recordings\\Pipilo_erythrophthalmus_Michigan_Petersburg_SGA__31106.wav\n",
      "Row: Pipilo_erythrophthalmus_Michigan_Monroe_County_17150.wav\n",
      "Processing file: Converted Recordings\\Pipilo_erythrophthalmus_Michigan_Monroe_County_17150.wav\n",
      "Row: Pipilo_erythrophthalmus_East_Fork_Lake_SP_Clermont_County_Ohio_416552.wav\n",
      "Processing file: Converted Recordings\\Pipilo_erythrophthalmus_East_Fork_Lake_SP_Clermont_County_Ohio_416552.wav\n",
      "Row: Pipilo_erythrophthalmus_Michigan_Petersburg_SGA__31105.wav\n",
      "Processing file: Converted Recordings\\Pipilo_erythrophthalmus_Michigan_Petersburg_SGA__31105.wav\n",
      "Row: Pipilo_erythrophthalmus_Michigan_Monroe_County_17151.wav\n",
      "Processing file: Converted Recordings\\Pipilo_erythrophthalmus_Michigan_Monroe_County_17151.wav\n",
      "Row: Pipilo_erythrophthalmus_Oak_Openings_Lucas_County_Ohio_804997.wav\n",
      "Processing file: Converted Recordings\\Pipilo_erythrophthalmus_Oak_Openings_Lucas_County_Ohio_804997.wav\n",
      "Row: Icteria_virens_Miami_Township_near__Cleves_Hamilton_County_Ohio_807580.wav\n",
      "Processing file: Converted Recordings\\Icteria_virens_Miami_Township_near__Cleves_Hamilton_County_Ohio_807580.wav\n",
      "Row: Icteria_virens_Miami_Township_near__North_Bend_Hamilton_County_Ohio_646037.wav\n",
      "Processing file: Converted Recordings\\Icteria_virens_Miami_Township_near__North_Bend_Hamilton_County_Ohio_646037.wav\n",
      "Row: Dolichonyx_oryzivorus_Case_Farm_Gates_Mills_Ohio_67480.wav\n",
      "Processing file: Converted Recordings\\Dolichonyx_oryzivorus_Case_Farm_Gates_Mills_Ohio_67480.wav\n",
      "Row: Sturnella_neglecta_Riga_Township_near__Ottawa_Lake_Lenawee_County_Michigan_332656.wav\n",
      "Processing file: Converted Recordings\\Sturnella_neglecta_Riga_Township_near__Ottawa_Lake_Lenawee_County_Michigan_332656.wav\n",
      "Row: Sturnella_magna_Voice_of_America_MetroPark_near__Middletown_Butler_County_Ohio_645577.wav\n",
      "Processing file: Converted Recordings\\Sturnella_magna_Voice_of_America_MetroPark_near__Middletown_Butler_County_Ohio_645577.wav\n",
      "Row: Sturnella_magna_Voice_of_America_MetroPark_near__Middletown_Butler_County_Ohio_643650.wav\n",
      "Processing file: Converted Recordings\\Sturnella_magna_Voice_of_America_MetroPark_near__Middletown_Butler_County_Ohio_643650.wav\n",
      "Row: Icterus_galbula_Magee_Marsh_-_boardwalk_Lucas_County_Ohio_820108.wav\n",
      "Processing file: Converted Recordings\\Icterus_galbula_Magee_Marsh_-_boardwalk_Lucas_County_Ohio_820108.wav\n",
      "Row: Icterus_galbula_Magee_Marsh_-_boardwalk_Lucas_County_Ohio_818924.wav\n",
      "Processing file: Converted Recordings\\Icterus_galbula_Magee_Marsh_-_boardwalk_Lucas_County_Ohio_818924.wav\n",
      "Row: Icterus_galbula_Point_Pelee_National_Park_near__Wheatley_Essex_County_Ontario_803372.wav\n",
      "Processing file: Converted Recordings\\Icterus_galbula_Point_Pelee_National_Park_near__Wheatley_Essex_County_Ontario_803372.wav\n",
      "Row: Icterus_galbula_Whitewater_Township_near__Harrison_Hamilton_County_Ohio_726803.wav\n",
      "Processing file: Converted Recordings\\Icterus_galbula_Whitewater_Township_near__Harrison_Hamilton_County_Ohio_726803.wav\n",
      "Row: Icterus_galbula_Dunham_Recreation_Complex_near__Cincinnati_Hamilton_County_Ohio_646455.wav\n",
      "Processing file: Converted Recordings\\Icterus_galbula_Dunham_Recreation_Complex_near__Cincinnati_Hamilton_County_Ohio_646455.wav\n",
      "Row: Icterus_galbula_Pelee_near__Leamington_Essex_County_Ontario_476519.wav\n",
      "Processing file: Converted Recordings\\Icterus_galbula_Pelee_near__Leamington_Essex_County_Ontario_476519.wav\n",
      "Row: Icterus_galbula_Kiser_Lake_SP_Champaign_County_Ohio_938239.wav\n",
      "Processing file: Converted Recordings\\Icterus_galbula_Kiser_Lake_SP_Champaign_County_Ohio_938239.wav\n",
      "Row: Icterus_galbula_Kiser_Lake_SP_Champaign_County_Ohio_938235.wav\n",
      "Processing file: Converted Recordings\\Icterus_galbula_Kiser_Lake_SP_Champaign_County_Ohio_938235.wav\n",
      "Row: Icterus_galbula_Magee_Marsh_-_boardwalk_Lucas_County_Ohio_820109.wav\n",
      "Processing file: Converted Recordings\\Icterus_galbula_Magee_Marsh_-_boardwalk_Lucas_County_Ohio_820109.wav\n",
      "Row: Icterus_galbula_Magee_Marsh_-_boardwalk_Lucas_County_Ohio_818926.wav\n",
      "Processing file: Converted Recordings\\Icterus_galbula_Magee_Marsh_-_boardwalk_Lucas_County_Ohio_818926.wav\n",
      "Row: Icterus_galbula_Magee_Marsh_-_boardwalk_Lucas_County_Ohio_818925.wav\n",
      "Processing file: Converted Recordings\\Icterus_galbula_Magee_Marsh_-_boardwalk_Lucas_County_Ohio_818925.wav\n",
      "Row: Icterus_galbula_Tanager_Meadow_Reservable_Shelter_near__Harrison_Hamilton_County_Ohio_807350.wav\n",
      "Processing file: Converted Recordings\\Icterus_galbula_Tanager_Meadow_Reservable_Shelter_near__Harrison_Hamilton_County_Ohio_807350.wav\n",
      "Row: Icterus_galbula_Tanager_Meadow_Reservable_Shelter_near__Harrison_Hamilton_County_Ohio_807347.wav\n",
      "Processing file: Converted Recordings\\Icterus_galbula_Tanager_Meadow_Reservable_Shelter_near__Harrison_Hamilton_County_Ohio_807347.wav\n",
      "Row: Icterus_galbula_Park_End_Dr_Montgomery_County_Ohio_477390.wav\n",
      "Processing file: Converted Recordings\\Icterus_galbula_Park_End_Dr_Montgomery_County_Ohio_477390.wav\n",
      "Row: Icterus_galbula_Magee_Marsh_Ohio_418002.wav\n",
      "Processing file: Converted Recordings\\Icterus_galbula_Magee_Marsh_Ohio_418002.wav\n",
      "Row: Icterus_galbula_Resthaven_Wildlife_Area_Erie_County_Ohio_217786.wav\n",
      "Processing file: Converted Recordings\\Icterus_galbula_Resthaven_Wildlife_Area_Erie_County_Ohio_217786.wav\n",
      "Row: Icterus_galbula_Michigan_Monroe_County_16971.wav\n",
      "Processing file: Converted Recordings\\Icterus_galbula_Michigan_Monroe_County_16971.wav\n",
      "Row: Icterus_galbula_Magee_Marsh_-_boardwalk_Lucas_County_Ohio_820106.wav\n",
      "Processing file: Converted Recordings\\Icterus_galbula_Magee_Marsh_-_boardwalk_Lucas_County_Ohio_820106.wav\n",
      "Row: Icterus_spurius_Maumee_Bay_SP_Ohio_806260.wav\n",
      "Processing file: Converted Recordings\\Icterus_spurius_Maumee_Bay_SP_Ohio_806260.wav\n",
      "Row: Icterus_spurius_Ohio_Ottawa_NWR_178296.wav\n",
      "Processing file: Converted Recordings\\Icterus_spurius_Ohio_Ottawa_NWR_178296.wav\n",
      "Row: Icterus_spurius_Heritage_Trail_Metro_Park_Hayden_Run_Rd_parking_area_103503.wav\n",
      "Processing file: Converted Recordings\\Icterus_spurius_Heritage_Trail_Metro_Park_Hayden_Run_Rd_parking_area_103503.wav\n",
      "Row: Icterus_spurius_Heritage_Trail_Metro_Park_Hayden_Run_Rd_parking_area_103502.wav\n",
      "Processing file: Converted Recordings\\Icterus_spurius_Heritage_Trail_Metro_Park_Hayden_Run_Rd_parking_area_103502.wav\n",
      "Row: Icterus_spurius_Michigan_Whiteford_Township_17091.wav\n",
      "Processing file: Converted Recordings\\Icterus_spurius_Michigan_Whiteford_Township_17091.wav\n",
      "Row: Icterus_spurius_Michigan_Whiteford_Township_17090.wav\n",
      "Processing file: Converted Recordings\\Icterus_spurius_Michigan_Whiteford_Township_17090.wav\n",
      "Row: Agelaius_phoeniceus_Kiser_Lake_SP_Champaign_County_Ohio_938242.wav\n",
      "Processing file: Converted Recordings\\Agelaius_phoeniceus_Kiser_Lake_SP_Champaign_County_Ohio_938242.wav\n",
      "Row: Agelaius_phoeniceus_Magee_Marsh_-_boardwalk_Lucas_County_Ohio_814755.wav\n",
      "Processing file: Converted Recordings\\Agelaius_phoeniceus_Magee_Marsh_-_boardwalk_Lucas_County_Ohio_814755.wav\n",
      "Row: Agelaius_phoeniceus_Magee_Marsh_-_boardwalk_Lucas_County_Ohio_814751.wav\n",
      "Processing file: Converted Recordings\\Agelaius_phoeniceus_Magee_Marsh_-_boardwalk_Lucas_County_Ohio_814751.wav\n",
      "Row: Agelaius_phoeniceus_Wegerzyn_garden_near__Dayton_Montgomery_County_Ohio_807222.wav\n",
      "Processing file: Converted Recordings\\Agelaius_phoeniceus_Wegerzyn_garden_near__Dayton_Montgomery_County_Ohio_807222.wav\n",
      "Row: Agelaius_phoeniceus_Dunham_Recreation_Complex_near__Cincinnati_Hamilton_County_Ohio_646125.wav\n",
      "Processing file: Converted Recordings\\Agelaius_phoeniceus_Dunham_Recreation_Complex_near__Cincinnati_Hamilton_County_Ohio_646125.wav\n",
      "Row: Agelaius_phoeniceus_Franklin_Township_near__Saint_Marys_Mercer_County_Ohio_637652.wav\n",
      "Processing file: Converted Recordings\\Agelaius_phoeniceus_Franklin_Township_near__Saint_Marys_Mercer_County_Ohio_637652.wav\n",
      "Row: Agelaius_phoeniceus_Pelee_near__Leamington_Essex_County_Ontario_477032.wav\n",
      "Processing file: Converted Recordings\\Agelaius_phoeniceus_Pelee_near__Leamington_Essex_County_Ontario_477032.wav\n",
      "Row: Agelaius_phoeniceus_Battelle_Darby_Metro_Park_-_Wetlands_417853.wav\n",
      "Processing file: Converted Recordings\\Agelaius_phoeniceus_Battelle_Darby_Metro_Park_-_Wetlands_417853.wav\n",
      "Row: Agelaius_phoeniceus_Battelle_Darby_Metro_Park_-_Wetlands_417845.wav\n",
      "Processing file: Converted Recordings\\Agelaius_phoeniceus_Battelle_Darby_Metro_Park_-_Wetlands_417845.wav\n",
      "Row: Agelaius_phoeniceus_Pipe_Creek_Wildlife_Area_Erie_County_Ohio_803614.wav\n",
      "Processing file: Converted Recordings\\Agelaius_phoeniceus_Pipe_Creek_Wildlife_Area_Erie_County_Ohio_803614.wav\n",
      "Row: Agelaius_phoeniceus_Battelle_Darby_Metro_Park_-_Wetlands_737241.wav\n",
      "Processing file: Converted Recordings\\Agelaius_phoeniceus_Battelle_Darby_Metro_Park_-_Wetlands_737241.wav\n",
      "Row: Agelaius_phoeniceus_Ross_Township_near__Hamilton_Butler_County_Ohio_533370.wav\n",
      "Processing file: Converted Recordings\\Agelaius_phoeniceus_Ross_Township_near__Hamilton_Butler_County_Ohio_533370.wav\n",
      "Row: Agelaius_phoeniceus_Crosby_Township_near__Harrison_Hamilton_County_Ohio_482675.wav\n",
      "Processing file: Converted Recordings\\Agelaius_phoeniceus_Crosby_Township_near__Harrison_Hamilton_County_Ohio_482675.wav\n",
      "Row: Agelaius_phoeniceus_Case_Farm_Gates_Mills_Ohio_98722.wav\n",
      "Processing file: Converted Recordings\\Agelaius_phoeniceus_Case_Farm_Gates_Mills_Ohio_98722.wav\n",
      "Row: Agelaius_phoeniceus_Ohio_Crane_Creek_SP_17011.wav\n",
      "Processing file: Converted Recordings\\Agelaius_phoeniceus_Ohio_Crane_Creek_SP_17011.wav\n",
      "Row: Agelaius_phoeniceus_Maumee_Bay_State_Park_Lucas_County_Ohio_821130.wav\n",
      "Processing file: Converted Recordings\\Agelaius_phoeniceus_Maumee_Bay_State_Park_Lucas_County_Ohio_821130.wav\n",
      "Row: Agelaius_phoeniceus_Maumee_Bay_State_Park_Lucas_County_Ohio_821123.wav\n",
      "Processing file: Converted Recordings\\Agelaius_phoeniceus_Maumee_Bay_State_Park_Lucas_County_Ohio_821123.wav\n",
      "Row: Agelaius_phoeniceus_UC_Center_for_Field_Studies_482986.wav\n",
      "Processing file: Converted Recordings\\Agelaius_phoeniceus_UC_Center_for_Field_Studies_482986.wav\n",
      "Row: Molothrus_ater_Miami_Township_near__Cleves_Hamilton_County_Ohio_645734.wav\n",
      "Processing file: Converted Recordings\\Molothrus_ater_Miami_Township_near__Cleves_Hamilton_County_Ohio_645734.wav\n",
      "Row: Molothrus_ater_Pelee_near__Leamington_Essex_County_Ontario_476558.wav\n",
      "Processing file: Converted Recordings\\Molothrus_ater_Pelee_near__Leamington_Essex_County_Ontario_476558.wav\n",
      "Row: Molothrus_ater_Lawrence_Woods_SNP_417996.wav\n",
      "Processing file: Converted Recordings\\Molothrus_ater_Lawrence_Woods_SNP_417996.wav\n",
      "Row: Euphagus_carolinus_Michigan_Deerfield_11853.wav\n",
      "Processing file: Converted Recordings\\Euphagus_carolinus_Michigan_Deerfield_11853.wav\n",
      "Row: Euphagus_carolinus_Firestone_Metropark_Summit_County_Ohio_401462.wav\n",
      "Processing file: Converted Recordings\\Euphagus_carolinus_Firestone_Metropark_Summit_County_Ohio_401462.wav\n",
      "Row: Euphagus_carolinus_Ohio_Crane_Creek_SP_17013.wav\n",
      "Processing file: Converted Recordings\\Euphagus_carolinus_Ohio_Crane_Creek_SP_17013.wav\n",
      "Row: Quiscalus_quiscula_Pelee_near__Leamington_Essex_County_Ontario_476561.wav\n",
      "Processing file: Converted Recordings\\Quiscalus_quiscula_Pelee_near__Leamington_Essex_County_Ontario_476561.wav\n",
      "Row: Quiscalus_quiscula_Wegerzyn_garden_near__Dayton_Montgomery_County_Ohio_807216.wav\n",
      "Processing file: Converted Recordings\\Quiscalus_quiscula_Wegerzyn_garden_near__Dayton_Montgomery_County_Ohio_807216.wav\n",
      "Row: Seiurus_aurocapilla_Swanton_Township_near__Swanton_Lucas_County_Ohio_784050.wav\n",
      "Processing file: Converted Recordings\\Seiurus_aurocapilla_Swanton_Township_near__Swanton_Lucas_County_Ohio_784050.wav\n",
      "Row: Seiurus_aurocapilla_Harrison_Township_near__Harrison_Hamilton_County_Ohio_726815.wav\n",
      "Processing file: Converted Recordings\\Seiurus_aurocapilla_Harrison_Township_near__Harrison_Hamilton_County_Ohio_726815.wav\n",
      "Row: Seiurus_aurocapilla_Shawnee_State_Forest_Scioto_County_Ohio_417447.wav\n",
      "Processing file: Converted Recordings\\Seiurus_aurocapilla_Shawnee_State_Forest_Scioto_County_Ohio_417447.wav\n",
      "Row: Seiurus_aurocapilla_Burlington_Boone_County_Kentucky_552553.wav\n",
      "Processing file: Converted Recordings\\Seiurus_aurocapilla_Burlington_Boone_County_Kentucky_552553.wav\n",
      "Row: Seiurus_aurocapilla_Ohio_Crane_Creek_SP_17021.wav\n",
      "Processing file: Converted Recordings\\Seiurus_aurocapilla_Ohio_Crane_Creek_SP_17021.wav\n",
      "Row: Seiurus_aurocapilla_Ohio_Crane_Creek_SP_17019.wav\n",
      "Processing file: Converted Recordings\\Seiurus_aurocapilla_Ohio_Crane_Creek_SP_17019.wav\n",
      "Row: Seiurus_aurocapilla_Ohio_Crane_Creek_SP_17023.wav\n",
      "Processing file: Converted Recordings\\Seiurus_aurocapilla_Ohio_Crane_Creek_SP_17023.wav\n",
      "Row: Seiurus_aurocapilla_Ohio_Crane_Creek_SP_17022.wav\n",
      "Processing file: Converted Recordings\\Seiurus_aurocapilla_Ohio_Crane_Creek_SP_17022.wav\n",
      "Row: Seiurus_aurocapilla_Ohio_Crane_Creek_SP_17020.wav\n",
      "Processing file: Converted Recordings\\Seiurus_aurocapilla_Ohio_Crane_Creek_SP_17020.wav\n",
      "Row: Parkesia_motacilla_Harrison_Township_near__Harrison_Hamilton_County_Ohio_805820.wav\n",
      "Processing file: Converted Recordings\\Parkesia_motacilla_Harrison_Township_near__Harrison_Hamilton_County_Ohio_805820.wav\n",
      "Row: Parkesia_motacilla_Harrison_Township_near__Harrison_Hamilton_County_Ohio_714922.wav\n",
      "Processing file: Converted Recordings\\Parkesia_motacilla_Harrison_Township_near__Harrison_Hamilton_County_Ohio_714922.wav\n",
      "Row: Parkesia_motacilla_Upper_Twin_Creek_Rd_Scioto_County_Ohio_417605.wav\n",
      "Processing file: Converted Recordings\\Parkesia_motacilla_Upper_Twin_Creek_Rd_Scioto_County_Ohio_417605.wav\n",
      "Row: Parkesia_motacilla_Anderson_Township_near__Cincinnati_Hamilton_County_Ohio_542524.wav\n",
      "Processing file: Converted Recordings\\Parkesia_motacilla_Anderson_Township_near__Cincinnati_Hamilton_County_Ohio_542524.wav\n",
      "Row: Parkesia_noveboracensis_Magee_Marsh_-_boardwalk_Lucas_County_Ohio_828221.wav\n",
      "Processing file: Converted Recordings\\Parkesia_noveboracensis_Magee_Marsh_-_boardwalk_Lucas_County_Ohio_828221.wav\n",
      "Row: Parkesia_noveboracensis_Point_Pelee_National_Park_near__Wheatley_Essex_County_Ontario_804668.wav\n",
      "Processing file: Converted Recordings\\Parkesia_noveboracensis_Point_Pelee_National_Park_near__Wheatley_Essex_County_Ontario_804668.wav\n",
      "Row: Parkesia_noveboracensis_Benton_Township_near__Rocky_Ridge_Ottawa_County_Ohio_902985.wav\n",
      "Processing file: Converted Recordings\\Parkesia_noveboracensis_Benton_Township_near__Rocky_Ridge_Ottawa_County_Ohio_902985.wav\n",
      "Row: Parkesia_noveboracensis_Benton_Township_near__Rocky_Ridge_Ottawa_County_Ohio_902982.wav\n",
      "Processing file: Converted Recordings\\Parkesia_noveboracensis_Benton_Township_near__Rocky_Ridge_Ottawa_County_Ohio_902982.wav\n",
      "Row: Parkesia_noveboracensis_Benton_Township_near__Rocky_Ridge_Ottawa_County_Ohio_902981.wav\n",
      "Processing file: Converted Recordings\\Parkesia_noveboracensis_Benton_Township_near__Rocky_Ridge_Ottawa_County_Ohio_902981.wav\n",
      "Row: Parkesia_noveboracensis_Virginia_Kendall_Lake_Park_Summit_County_Ohio_367525.wav\n",
      "Processing file: Converted Recordings\\Parkesia_noveboracensis_Virginia_Kendall_Lake_Park_Summit_County_Ohio_367525.wav\n",
      "Row: Parkesia_noveboracensis_Ohio_Crane_Creek_SP_17024.wav\n",
      "Processing file: Converted Recordings\\Parkesia_noveboracensis_Ohio_Crane_Creek_SP_17024.wav\n",
      "Row: Vermivora_chrysoptera_Magee_Marsh_-_boardwalk_Lucas_County_Ohio_939868.wav\n",
      "Processing file: Converted Recordings\\Vermivora_chrysoptera_Magee_Marsh_-_boardwalk_Lucas_County_Ohio_939868.wav\n",
      "Row: Vermivora_chrysoptera_Delaware_Count_OH_99394.wav\n",
      "Processing file: Converted Recordings\\Vermivora_chrysoptera_Delaware_Count_OH_99394.wav\n",
      "Row: Vermivora_chrysoptera_Prairie_Oaks_Metro_Park_99391.wav\n",
      "Processing file: Converted Recordings\\Vermivora_chrysoptera_Prairie_Oaks_Metro_Park_99391.wav\n",
      "Row: Vermivora_chrysoptera_Prairie_Oaks_Metro_Park_99393.wav\n",
      "Processing file: Converted Recordings\\Vermivora_chrysoptera_Prairie_Oaks_Metro_Park_99393.wav\n",
      "Row: Vermivora_chrysoptera_Prairie_Oaks_Metro_Park_99390.wav\n",
      "Processing file: Converted Recordings\\Vermivora_chrysoptera_Prairie_Oaks_Metro_Park_99390.wav\n",
      "Row: Vermivora_cyanoptera_Irwin_Prairie_SNP_Ohio_418085.wav\n",
      "Processing file: Converted Recordings\\Vermivora_cyanoptera_Irwin_Prairie_SNP_Ohio_418085.wav\n",
      "Row: Vermivora_cyanoptera_Irwin_Prairie_SNP_Ohio_418083.wav\n",
      "Processing file: Converted Recordings\\Vermivora_cyanoptera_Irwin_Prairie_SNP_Ohio_418083.wav\n",
      "Row: Vermivora_cyanoptera_Irwin_Prairie_SNP_Ohio_418082.wav\n",
      "Processing file: Converted Recordings\\Vermivora_cyanoptera_Irwin_Prairie_SNP_Ohio_418082.wav\n",
      "Row: Vermivora_cyanoptera_Oak_Openings_Metropark_Ohio_418074.wav\n",
      "Processing file: Converted Recordings\\Vermivora_cyanoptera_Oak_Openings_Metropark_Ohio_418074.wav\n",
      "Row: Vermivora_cyanoptera_Shawnee_State_Forest_Scioto_County_Ohio_417455.wav\n",
      "Processing file: Converted Recordings\\Vermivora_cyanoptera_Shawnee_State_Forest_Scioto_County_Ohio_417455.wav\n",
      "Row: Vermivora_cyanoptera_Miami_Whitewater_Forest_Hamilton_County_Ohio_Strimple_Rd._44416.wav\n",
      "Processing file: Converted Recordings\\Vermivora_cyanoptera_Miami_Whitewater_Forest_Hamilton_County_Ohio_Strimple_Rd._44416.wav\n",
      "Row: Vermivora_cyanoptera_Oak_Openings_Lucas_County_Ohio_803617.wav\n",
      "Processing file: Converted Recordings\\Vermivora_cyanoptera_Oak_Openings_Lucas_County_Ohio_803617.wav\n",
      "Row: Vermivora_cyanoptera_Michigan_Petersburg_SGA__31125.wav\n",
      "Processing file: Converted Recordings\\Vermivora_cyanoptera_Michigan_Petersburg_SGA__31125.wav\n",
      "Row: Vermivora_cyanoptera_Michigan_Petersburg_SGA__31124.wav\n",
      "Processing file: Converted Recordings\\Vermivora_cyanoptera_Michigan_Petersburg_SGA__31124.wav\n",
      "Row: Vermivora_cyanoptera_Michigan_Petersburg_SGA__31123.wav\n",
      "Processing file: Converted Recordings\\Vermivora_cyanoptera_Michigan_Petersburg_SGA__31123.wav\n",
      "Row: Mniotilta_varia_Shawnee_State_Forest_Scioto_County_Ohio_939168.wav\n",
      "Processing file: Converted Recordings\\Mniotilta_varia_Shawnee_State_Forest_Scioto_County_Ohio_939168.wav\n",
      "Row: Mniotilta_varia_Magee_Marsh_Ohio_418093.wav\n",
      "Processing file: Converted Recordings\\Mniotilta_varia_Magee_Marsh_Ohio_418093.wav\n",
      "Row: Mniotilta_varia_Magee_Marsh_Ohio_418092.wav\n",
      "Processing file: Converted Recordings\\Mniotilta_varia_Magee_Marsh_Ohio_418092.wav\n",
      "Row: Mniotilta_varia_Magee_Marsh_-_boardwalk_Lucas_County_Ohio_827727.wav\n",
      "Processing file: Converted Recordings\\Mniotilta_varia_Magee_Marsh_-_boardwalk_Lucas_County_Ohio_827727.wav\n",
      "Row: Mniotilta_varia_Benton_Township_near__Rocky_Ridge_Ottawa_County_Ohio_902974.wav\n",
      "Processing file: Converted Recordings\\Mniotilta_varia_Benton_Township_near__Rocky_Ridge_Ottawa_County_Ohio_902974.wav\n",
      "Row: Mniotilta_varia_Ohio_Crane_Creek_SP_17043.wav\n",
      "Processing file: Converted Recordings\\Mniotilta_varia_Ohio_Crane_Creek_SP_17043.wav\n",
      "Row: Mniotilta_varia_Ohio_Crane_Creek_SP_17015.wav\n",
      "Processing file: Converted Recordings\\Mniotilta_varia_Ohio_Crane_Creek_SP_17015.wav\n",
      "Row: Mniotilta_varia_Ohio_Crane_Creek_SP_17014.wav\n",
      "Processing file: Converted Recordings\\Mniotilta_varia_Ohio_Crane_Creek_SP_17014.wav\n",
      "Row: Protonotaria_citrea_Point_Pelee_National_Park_near__Wheatley_Essex_County_Ontario_839864.wav\n",
      "Processing file: Converted Recordings\\Protonotaria_citrea_Point_Pelee_National_Park_near__Wheatley_Essex_County_Ontario_839864.wav\n",
      "Row: Protonotaria_citrea_Magee_Marsh_-_boardwalk_Lucas_County_Ohio_828067.wav\n",
      "Processing file: Converted Recordings\\Protonotaria_citrea_Magee_Marsh_-_boardwalk_Lucas_County_Ohio_828067.wav\n",
      "Row: Protonotaria_citrea_Magee_Marsh_-_boardwalk_Lucas_County_Ohio_828064.wav\n",
      "Processing file: Converted Recordings\\Protonotaria_citrea_Magee_Marsh_-_boardwalk_Lucas_County_Ohio_828064.wav\n",
      "Row: Protonotaria_citrea_Miami_Township_near__North_Bend_Hamilton_County_Ohio_645989.wav\n",
      "Processing file: Converted Recordings\\Protonotaria_citrea_Miami_Township_near__North_Bend_Hamilton_County_Ohio_645989.wav\n",
      "Row: Protonotaria_citrea_Pelee_near__Leamington_Essex_County_Ontario_476998.wav\n",
      "Processing file: Converted Recordings\\Protonotaria_citrea_Pelee_near__Leamington_Essex_County_Ontario_476998.wav\n",
      "Row: Protonotaria_citrea_Magee_Marsh_-_boardwalk_Lucas_County_Ohio_828063.wav\n",
      "Processing file: Converted Recordings\\Protonotaria_citrea_Magee_Marsh_-_boardwalk_Lucas_County_Ohio_828063.wav\n",
      "Row: Protonotaria_citrea_Magee_Marsh_-_boardwalk_Lucas_County_Ohio_828061.wav\n",
      "Processing file: Converted Recordings\\Protonotaria_citrea_Magee_Marsh_-_boardwalk_Lucas_County_Ohio_828061.wav\n",
      "Row: Protonotaria_citrea_Cuyahoga_Valley_National_Park_Station_Road_area_662929.wav\n",
      "Processing file: Converted Recordings\\Protonotaria_citrea_Cuyahoga_Valley_National_Park_Station_Road_area_662929.wav\n",
      "Row: Protonotaria_citrea_Anderson_Township_near__Cincinnati_Hamilton_County_Ohio_552556.wav\n",
      "Processing file: Converted Recordings\\Protonotaria_citrea_Anderson_Township_near__Cincinnati_Hamilton_County_Ohio_552556.wav\n",
      "Row: Leiothlypis_peregrina_Harrison_Township_near__Harrison_Hamilton_County_Ohio_726818.wav\n",
      "Processing file: Converted Recordings\\Leiothlypis_peregrina_Harrison_Township_near__Harrison_Hamilton_County_Ohio_726818.wav\n",
      "Row: Leiothlypis_peregrina_Magee_Marsh_-_Crane_Creek_Ohio_418091.wav\n",
      "Processing file: Converted Recordings\\Leiothlypis_peregrina_Magee_Marsh_-_Crane_Creek_Ohio_418091.wav\n",
      "Row: Leiothlypis_peregrina_Tanglewood_Lane_Cincinnati_Ohio_44328.wav\n",
      "Processing file: Converted Recordings\\Leiothlypis_peregrina_Tanglewood_Lane_Cincinnati_Ohio_44328.wav\n",
      "Row: Leiothlypis_peregrina_Pipe_Creek_Wildlife_Area_Erie_County_Ohio_803615.wav\n",
      "Processing file: Converted Recordings\\Leiothlypis_peregrina_Pipe_Creek_Wildlife_Area_Erie_County_Ohio_803615.wav\n",
      "Row: Leiothlypis_peregrina_Magee_Marsh_Ohio_418302.wav\n",
      "Processing file: Converted Recordings\\Leiothlypis_peregrina_Magee_Marsh_Ohio_418302.wav\n",
      "Row: Leiothlypis_peregrina_Magee_Marsh_Ohio_418006.wav\n",
      "Processing file: Converted Recordings\\Leiothlypis_peregrina_Magee_Marsh_Ohio_418006.wav\n",
      "Row: Leiothlypis_peregrina_Benton_Township_near__Rocky_Ridge_Ottawa_County_Ohio_902978.wav\n",
      "Processing file: Converted Recordings\\Leiothlypis_peregrina_Benton_Township_near__Rocky_Ridge_Ottawa_County_Ohio_902978.wav\n",
      "Row: Leiothlypis_peregrina_Magee_Marsh_-_boardwalk_Lucas_County_Ohio_477404.wav\n",
      "Processing file: Converted Recordings\\Leiothlypis_peregrina_Magee_Marsh_-_boardwalk_Lucas_County_Ohio_477404.wav\n",
      "Row: Leiothlypis_peregrina_Magee_Marsh_Ohio_174389.wav\n",
      "Processing file: Converted Recordings\\Leiothlypis_peregrina_Magee_Marsh_Ohio_174389.wav\n",
      "Row: Leiothlypis_peregrina_Magee_Marsh_-_Crane_Creek_Ohio_418090.wav\n",
      "Processing file: Converted Recordings\\Leiothlypis_peregrina_Magee_Marsh_-_Crane_Creek_Ohio_418090.wav\n",
      "Row: Leiothlypis_celata_Tanglewood_Lane_Cincinnati_Ohio_44329.wav\n",
      "Processing file: Converted Recordings\\Leiothlypis_celata_Tanglewood_Lane_Cincinnati_Ohio_44329.wav\n",
      "Row: Leiothlypis_ruficapilla_Green_Township_near__Cincinnati_Hamilton_County_Ohio_723591.wav\n",
      "Processing file: Converted Recordings\\Leiothlypis_ruficapilla_Green_Township_near__Cincinnati_Hamilton_County_Ohio_723591.wav\n",
      "Row: Leiothlypis_ruficapilla_Tanglewood_Lane_Cincinnati_Ohio_44428.wav\n",
      "Processing file: Converted Recordings\\Leiothlypis_ruficapilla_Tanglewood_Lane_Cincinnati_Ohio_44428.wav\n",
      "Row: Oporornis_agilis_Mansfield_Richland_County_Ohio_804330.wav\n",
      "Processing file: Converted Recordings\\Oporornis_agilis_Mansfield_Richland_County_Ohio_804330.wav\n",
      "Row: Oporornis_agilis_Point_Pelee_National_Park_Essex_County_Ontario_802580.wav\n",
      "Processing file: Converted Recordings\\Oporornis_agilis_Point_Pelee_National_Park_Essex_County_Ontario_802580.wav\n",
      "Row: Oporornis_agilis_Blendon_Woods_Metro_Park--Brookside_Trail_near_Hickory_Ridge_Trail_Columbus_Franklin_County_Ohio_179835.wav\n",
      "Processing file: Converted Recordings\\Oporornis_agilis_Blendon_Woods_Metro_Park--Brookside_Trail_near_Hickory_Ridge_Trail_Columbus_Franklin_County_Ohio_179835.wav\n",
      "Row: Geothlypis_philadelphia_OSU's_Waterman_Farm_wood_lot_Columbus_Franklin_County_Ohio_179681.wav\n",
      "Processing file: Converted Recordings\\Geothlypis_philadelphia_OSU's_Waterman_Farm_wood_lot_Columbus_Franklin_County_Ohio_179681.wav\n",
      "Row: Geothlypis_philadelphia_Green_Township_near__Cincinnati_Hamilton_County_Ohio_723382.wav\n",
      "Processing file: Converted Recordings\\Geothlypis_philadelphia_Green_Township_near__Cincinnati_Hamilton_County_Ohio_723382.wav\n",
      "Row: Geothlypis_philadelphia_Ohio_near__Akron_Summit_County_Ohio_369829.wav\n",
      "Processing file: Converted Recordings\\Geothlypis_philadelphia_Ohio_near__Akron_Summit_County_Ohio_369829.wav\n",
      "Row: Geothlypis_philadelphia_Point_Pelee_National_Park_Essex_County_Ontario_725314.wav\n",
      "Processing file: Converted Recordings\\Geothlypis_philadelphia_Point_Pelee_National_Park_Essex_County_Ontario_725314.wav\n",
      "Row: Geothlypis_formosa_Shawnee_State_Park_Scioto_County_Ohio_417604.wav\n",
      "Processing file: Converted Recordings\\Geothlypis_formosa_Shawnee_State_Park_Scioto_County_Ohio_417604.wav\n",
      "Row: Geothlypis_formosa_Shawnee_State_Forest_Scioto_County_Ohio_417461.wav\n",
      "Processing file: Converted Recordings\\Geothlypis_formosa_Shawnee_State_Forest_Scioto_County_Ohio_417461.wav\n",
      "Row: Geothlypis_formosa_Shawnee_State_Forest_Scioto_County_Ohio_417459.wav\n",
      "Processing file: Converted Recordings\\Geothlypis_formosa_Shawnee_State_Forest_Scioto_County_Ohio_417459.wav\n",
      "Row: Geothlypis_formosa_Shawnee_State_Forest_Scioto_County_Ohio_417458.wav\n",
      "Processing file: Converted Recordings\\Geothlypis_formosa_Shawnee_State_Forest_Scioto_County_Ohio_417458.wav\n",
      "Row: Geothlypis_formosa_Shawnee_State_Forest_Scioto_County_Ohio_939167.wav\n",
      "Processing file: Converted Recordings\\Geothlypis_formosa_Shawnee_State_Forest_Scioto_County_Ohio_939167.wav\n",
      "Row: Geothlypis_formosa_Whitewater_Township_near__Cleves_Hamilton_County_Ohio_910509.wav\n",
      "Processing file: Converted Recordings\\Geothlypis_formosa_Whitewater_Township_near__Cleves_Hamilton_County_Ohio_910509.wav\n",
      "Row: Geothlypis_formosa_Whitewater_Township_near__Cleves_Hamilton_County_Ohio_817715.wav\n",
      "Processing file: Converted Recordings\\Geothlypis_formosa_Whitewater_Township_near__Cleves_Hamilton_County_Ohio_817715.wav\n",
      "Row: Geothlypis_formosa_Whitewater_Township_near__Cleves_Hamilton_County_Ohio_817714.wav\n",
      "Processing file: Converted Recordings\\Geothlypis_formosa_Whitewater_Township_near__Cleves_Hamilton_County_Ohio_817714.wav\n",
      "Row: Geothlypis_formosa_Oak_Openings_Lucas_County_Ohio_803620.wav\n",
      "Processing file: Converted Recordings\\Geothlypis_formosa_Oak_Openings_Lucas_County_Ohio_803620.wav\n",
      "Row: Geothlypis_formosa_Harrison_Township_near__Harrison_Hamilton_County_Ohio_726820.wav\n",
      "Processing file: Converted Recordings\\Geothlypis_formosa_Harrison_Township_near__Harrison_Hamilton_County_Ohio_726820.wav\n",
      "Row: Geothlypis_formosa_Columbus_OH--Blendon_Woods_Metro_Park--Hickory_Ridge_Trail_between_Brookside_and_Overlook_Trails_103881.wav\n",
      "Processing file: Converted Recordings\\Geothlypis_formosa_Columbus_OH--Blendon_Woods_Metro_Park--Hickory_Ridge_Trail_between_Brookside_and_Overlook_Trails_103881.wav\n",
      "Row: Geothlypis_formosa_Michigan_Petersburg_SGA__31280.wav\n",
      "Processing file: Converted Recordings\\Geothlypis_formosa_Michigan_Petersburg_SGA__31280.wav\n",
      "Row: Geothlypis_formosa_Harrison_Township_near__Harrison_Hamilton_County_Ohio_728265.wav\n",
      "Processing file: Converted Recordings\\Geothlypis_formosa_Harrison_Township_near__Harrison_Hamilton_County_Ohio_728265.wav\n",
      "Row: Geothlypis_trichas_Magee_Marsh_-_boardwalk_Lucas_County_Ohio_828478.wav\n",
      "Processing file: Converted Recordings\\Geothlypis_trichas_Magee_Marsh_-_boardwalk_Lucas_County_Ohio_828478.wav\n",
      "Row: Geothlypis_trichas_Point_Pelee_National_Park_near__Wheatley_Essex_County_Ontario_803583.wav\n",
      "Processing file: Converted Recordings\\Geothlypis_trichas_Point_Pelee_National_Park_near__Wheatley_Essex_County_Ontario_803583.wav\n",
      "Row: Geothlypis_trichas_Whitewater_Township_near__Harrison_Hamilton_County_Ohio_726806.wav\n",
      "Processing file: Converted Recordings\\Geothlypis_trichas_Whitewater_Township_near__Harrison_Hamilton_County_Ohio_726806.wav\n",
      "Row: Geothlypis_trichas_Miami_Township_near__North_Bend_Hamilton_County_Ohio_646029.wav\n",
      "Processing file: Converted Recordings\\Geothlypis_trichas_Miami_Township_near__North_Bend_Hamilton_County_Ohio_646029.wav\n",
      "Row: Geothlypis_trichas_Lawrence_Woods_SNP_417980.wav\n",
      "Processing file: Converted Recordings\\Geothlypis_trichas_Lawrence_Woods_SNP_417980.wav\n",
      "Row: Geothlypis_trichas_East_Fork_Lake_SP_Clermont_County_Ohio_416558.wav\n",
      "Processing file: Converted Recordings\\Geothlypis_trichas_East_Fork_Lake_SP_Clermont_County_Ohio_416558.wav\n",
      "Row: Geothlypis_trichas_Battelle_Darby_Metro_Park_-_Wetlands_737240.wav\n",
      "Processing file: Converted Recordings\\Geothlypis_trichas_Battelle_Darby_Metro_Park_-_Wetlands_737240.wav\n",
      "Row: Geothlypis_trichas_Ohio_near__Peninsula_Summit_County_Ohio_374227.wav\n",
      "Processing file: Converted Recordings\\Geothlypis_trichas_Ohio_near__Peninsula_Summit_County_Ohio_374227.wav\n",
      "Row: Setophaga_citrina_Whitewater_Township_near__Cleves_Hamilton_County_Ohio_910499.wav\n",
      "Processing file: Converted Recordings\\Setophaga_citrina_Whitewater_Township_near__Cleves_Hamilton_County_Ohio_910499.wav\n",
      "Row: Setophaga_citrina_Harrison_Township_near__Harrison_Hamilton_County_Ohio_726821.wav\n",
      "Processing file: Converted Recordings\\Setophaga_citrina_Harrison_Township_near__Harrison_Hamilton_County_Ohio_726821.wav\n",
      "Row: Setophaga_citrina_Brecksville_Cuyahoga_County_Ohio_652287.wav\n",
      "Processing file: Converted Recordings\\Setophaga_citrina_Brecksville_Cuyahoga_County_Ohio_652287.wav\n",
      "Row: Setophaga_ruticilla_Magee_Marsh_-_boardwalk_Lucas_County_Ohio_825241.wav\n",
      "Processing file: Converted Recordings\\Setophaga_ruticilla_Magee_Marsh_-_boardwalk_Lucas_County_Ohio_825241.wav\n",
      "Row: Setophaga_ruticilla_Miami_Township_near__North_Bend_Hamilton_County_Ohio_645905.wav\n",
      "Processing file: Converted Recordings\\Setophaga_ruticilla_Miami_Township_near__North_Bend_Hamilton_County_Ohio_645905.wav\n",
      "Row: Setophaga_ruticilla_Pelee_near__Leamington_Essex_County_Ontario_476493.wav\n",
      "Processing file: Converted Recordings\\Setophaga_ruticilla_Pelee_near__Leamington_Essex_County_Ontario_476493.wav\n",
      "Row: Setophaga_ruticilla_Paris_near__Ravenna_Portage_County_Ohio_178310.wav\n",
      "Processing file: Converted Recordings\\Setophaga_ruticilla_Paris_near__Ravenna_Portage_County_Ohio_178310.wav\n",
      "Row: Setophaga_ruticilla_Point_Pelee_ON_83534.wav\n",
      "Processing file: Converted Recordings\\Setophaga_ruticilla_Point_Pelee_ON_83534.wav\n",
      "Row: Setophaga_ruticilla_Magee_Marsh_-_boardwalk_Lucas_County_Ohio_825242.wav\n",
      "Processing file: Converted Recordings\\Setophaga_ruticilla_Magee_Marsh_-_boardwalk_Lucas_County_Ohio_825242.wav\n",
      "Row: Setophaga_ruticilla_Magee_Marsh_-_boardwalk_Lucas_County_Ohio_825240.wav\n",
      "Processing file: Converted Recordings\\Setophaga_ruticilla_Magee_Marsh_-_boardwalk_Lucas_County_Ohio_825240.wav\n",
      "Row: Setophaga_ruticilla_Magee_Marsh_Ohio_418300.wav\n",
      "Processing file: Converted Recordings\\Setophaga_ruticilla_Magee_Marsh_Ohio_418300.wav\n",
      "Row: Setophaga_ruticilla_Magee_Marsh_Ohio_418298.wav\n",
      "Processing file: Converted Recordings\\Setophaga_ruticilla_Magee_Marsh_Ohio_418298.wav\n",
      "Row: Setophaga_ruticilla_Shawnee_State_Forest_Scioto_County_Ohio_417456.wav\n",
      "Processing file: Converted Recordings\\Setophaga_ruticilla_Shawnee_State_Forest_Scioto_County_Ohio_417456.wav\n",
      "Row: Setophaga_ruticilla_Shawnee_State_Forest_Scioto_County_Ohio_417443.wav\n",
      "Processing file: Converted Recordings\\Setophaga_ruticilla_Shawnee_State_Forest_Scioto_County_Ohio_417443.wav\n",
      "Row: Setophaga_kirtlandii_Kinnear_Rd_&_Hess_Blvd_Columbus_OH_103387.wav\n",
      "Processing file: Converted Recordings\\Setophaga_kirtlandii_Kinnear_Rd_&_Hess_Blvd_Columbus_OH_103387.wav\n",
      "Row: Setophaga_kirtlandii_Kinnear_Rd_&_Hess_Blvd_Columbus_OH_103394.wav\n",
      "Processing file: Converted Recordings\\Setophaga_kirtlandii_Kinnear_Rd_&_Hess_Blvd_Columbus_OH_103394.wav\n",
      "Row: Setophaga_tigrina_Magee_Marsh_Ohio_418096.wav\n",
      "Processing file: Converted Recordings\\Setophaga_tigrina_Magee_Marsh_Ohio_418096.wav\n",
      "Row: Setophaga_tigrina_Magee_Marsh_Ohio_418094.wav\n",
      "Processing file: Converted Recordings\\Setophaga_tigrina_Magee_Marsh_Ohio_418094.wav\n",
      "Row: Setophaga_tigrina_Tanglewood_Lane_Cincinnati_Ohio_44424.wav\n",
      "Processing file: Converted Recordings\\Setophaga_tigrina_Tanglewood_Lane_Cincinnati_Ohio_44424.wav\n",
      "Row: Setophaga_tigrina_Tanglewood_Lane_Cincinnati_Ohio_44423.wav\n",
      "Processing file: Converted Recordings\\Setophaga_tigrina_Tanglewood_Lane_Cincinnati_Ohio_44423.wav\n",
      "Row: Setophaga_tigrina_Ohio_Crane_Creek_SP_17040.wav\n",
      "Processing file: Converted Recordings\\Setophaga_tigrina_Ohio_Crane_Creek_SP_17040.wav\n",
      "Row: Setophaga_cerulea_Shawnee_State_Forest_Scioto_County_Ohio_417450.wav\n",
      "Processing file: Converted Recordings\\Setophaga_cerulea_Shawnee_State_Forest_Scioto_County_Ohio_417450.wav\n",
      "Row: Setophaga_cerulea_Shawnee_State_Forest_Scioto_County_Ohio_417448.wav\n",
      "Processing file: Converted Recordings\\Setophaga_cerulea_Shawnee_State_Forest_Scioto_County_Ohio_417448.wav\n",
      "Row: Setophaga_cerulea_Miami_Township_near__North_Bend_Hamilton_County_Ohio_646112.wav\n",
      "Processing file: Converted Recordings\\Setophaga_cerulea_Miami_Township_near__North_Bend_Hamilton_County_Ohio_646112.wav\n",
      "Row: Setophaga_cerulea_Shawnee_State_Forest_Scioto_County_Ohio_417453.wav\n",
      "Processing file: Converted Recordings\\Setophaga_cerulea_Shawnee_State_Forest_Scioto_County_Ohio_417453.wav\n",
      "Row: Setophaga_cerulea_Lawrence_Woods_SNP_417983.wav\n",
      "Processing file: Converted Recordings\\Setophaga_cerulea_Lawrence_Woods_SNP_417983.wav\n",
      "Row: Setophaga_americana_Point_Pelee_National_Park_near__Wheatley_Essex_County_Ontario_839515.wav\n",
      "Processing file: Converted Recordings\\Setophaga_americana_Point_Pelee_National_Park_near__Wheatley_Essex_County_Ontario_839515.wav\n",
      "Row: Setophaga_americana_Magee_Marsh_-_boardwalk_Lucas_County_Ohio_825110.wav\n",
      "Processing file: Converted Recordings\\Setophaga_americana_Magee_Marsh_-_boardwalk_Lucas_County_Ohio_825110.wav\n",
      "Row: Setophaga_americana_Tanager_Meadow_Reservable_Shelter_near__Harrison_Hamilton_County_Ohio_807351.wav\n",
      "Processing file: Converted Recordings\\Setophaga_americana_Tanager_Meadow_Reservable_Shelter_near__Harrison_Hamilton_County_Ohio_807351.wav\n",
      "Row: Setophaga_americana_Miami_Township_near__Cleves_Hamilton_County_Ohio_645550.wav\n",
      "Processing file: Converted Recordings\\Setophaga_americana_Miami_Township_near__Cleves_Hamilton_County_Ohio_645550.wav\n",
      "Row: Setophaga_americana_Pelee_near__Leamington_Essex_County_Ontario_476949.wav\n",
      "Processing file: Converted Recordings\\Setophaga_americana_Pelee_near__Leamington_Essex_County_Ontario_476949.wav\n",
      "Row: Setophaga_americana_Magee_Marsh_Ohio_418297.wav\n",
      "Processing file: Converted Recordings\\Setophaga_americana_Magee_Marsh_Ohio_418297.wav\n",
      "Row: Setophaga_americana_Miami_near__North_Bend_Hamilton_County_Ohio_545784.wav\n",
      "Processing file: Converted Recordings\\Setophaga_americana_Miami_near__North_Bend_Hamilton_County_Ohio_545784.wav\n",
      "Row: Setophaga_americana_Magee_Marsh_Ohio_418004.wav\n",
      "Processing file: Converted Recordings\\Setophaga_americana_Magee_Marsh_Ohio_418004.wav\n",
      "Row: Setophaga_americana_Ohio_near__Cleveland_Heights_Cuyahoga_County_Ohio_372023.wav\n",
      "Processing file: Converted Recordings\\Setophaga_americana_Ohio_near__Cleveland_Heights_Cuyahoga_County_Ohio_372023.wav\n",
      "Row: Setophaga_americana_Prairie_Oaks_Metro_Park--Sycamore_Plains_Area_182008.wav\n",
      "Processing file: Converted Recordings\\Setophaga_americana_Prairie_Oaks_Metro_Park--Sycamore_Plains_Area_182008.wav\n",
      "Row: Setophaga_magnolia_Magee_Marsh_-_boardwalk_Lucas_County_Ohio_828025.wav\n",
      "Processing file: Converted Recordings\\Setophaga_magnolia_Magee_Marsh_-_boardwalk_Lucas_County_Ohio_828025.wav\n",
      "Row: Setophaga_magnolia_Magee_Marsh_-_boardwalk_Lucas_County_Ohio_828022.wav\n",
      "Processing file: Converted Recordings\\Setophaga_magnolia_Magee_Marsh_-_boardwalk_Lucas_County_Ohio_828022.wav\n",
      "Row: Setophaga_magnolia_Magee_Marsh_-_boardwalk_Lucas_County_Ohio_828020.wav\n",
      "Processing file: Converted Recordings\\Setophaga_magnolia_Magee_Marsh_-_boardwalk_Lucas_County_Ohio_828020.wav\n",
      "Row: Setophaga_magnolia_Ohio_near__Cleveland_Heights_Cuyahoga_County_Ohio_418323.wav\n",
      "Processing file: Converted Recordings\\Setophaga_magnolia_Ohio_near__Cleveland_Heights_Cuyahoga_County_Ohio_418323.wav\n",
      "Row: Setophaga_magnolia_Michigan_Petersburg_SGA__31032.wav\n",
      "Processing file: Converted Recordings\\Setophaga_magnolia_Michigan_Petersburg_SGA__31032.wav\n",
      "Row: Setophaga_castanea_Park_End_Dr_Montgomery_County_Ohio_477392.wav\n",
      "Processing file: Converted Recordings\\Setophaga_castanea_Park_End_Dr_Montgomery_County_Ohio_477392.wav\n",
      "Row: Setophaga_castanea_Pelee_near__Leamington_Essex_County_Ontario_476520.wav\n",
      "Processing file: Converted Recordings\\Setophaga_castanea_Pelee_near__Leamington_Essex_County_Ontario_476520.wav\n",
      "Row: Setophaga_castanea_Park_End_Dr_Montgomery_County_Ohio_477393.wav\n",
      "Processing file: Converted Recordings\\Setophaga_castanea_Park_End_Dr_Montgomery_County_Ohio_477393.wav\n",
      "Row: Setophaga_fusca_Shawnee_State_Forest_Scioto_County_Ohio_417442.wav\n",
      "Processing file: Converted Recordings\\Setophaga_fusca_Shawnee_State_Forest_Scioto_County_Ohio_417442.wav\n",
      "Row: Setophaga_fusca_Pelee_near__Leamington_Essex_County_Ontario_476522.wav\n",
      "Processing file: Converted Recordings\\Setophaga_fusca_Pelee_near__Leamington_Essex_County_Ontario_476522.wav\n",
      "Row: Setophaga_aestiva_Magee_Marsh_-_boardwalk_Lucas_County_Ohio_939866.wav\n",
      "Processing file: Converted Recordings\\Setophaga_aestiva_Magee_Marsh_-_boardwalk_Lucas_County_Ohio_939866.wav\n",
      "Row: Setophaga_aestiva_Camp_Henry_near__Wheatley_Essex_County_Ontario_839855.wav\n",
      "Processing file: Converted Recordings\\Setophaga_aestiva_Camp_Henry_near__Wheatley_Essex_County_Ontario_839855.wav\n",
      "Row: Setophaga_aestiva_Magee_Marsh_-_boardwalk_Lucas_County_Ohio_828200.wav\n",
      "Processing file: Converted Recordings\\Setophaga_aestiva_Magee_Marsh_-_boardwalk_Lucas_County_Ohio_828200.wav\n",
      "Row: Setophaga_aestiva_Magee_Marsh_-_boardwalk_Lucas_County_Ohio_828199.wav\n",
      "Processing file: Converted Recordings\\Setophaga_aestiva_Magee_Marsh_-_boardwalk_Lucas_County_Ohio_828199.wav\n",
      "Row: Setophaga_aestiva_Magee_Marsh_-_boardwalk_Lucas_County_Ohio_828198.wav\n",
      "Processing file: Converted Recordings\\Setophaga_aestiva_Magee_Marsh_-_boardwalk_Lucas_County_Ohio_828198.wav\n",
      "Row: Setophaga_aestiva_Magee_Marsh_-_boardwalk_Lucas_County_Ohio_828197.wav\n",
      "Processing file: Converted Recordings\\Setophaga_aestiva_Magee_Marsh_-_boardwalk_Lucas_County_Ohio_828197.wav\n",
      "Row: Setophaga_aestiva_Magee_Marsh_-_boardwalk_Lucas_County_Ohio_828196.wav\n",
      "Processing file: Converted Recordings\\Setophaga_aestiva_Magee_Marsh_-_boardwalk_Lucas_County_Ohio_828196.wav\n",
      "Row: Setophaga_aestiva_Whitewater_Township_near__Harrison_Hamilton_County_Ohio_726808.wav\n",
      "Processing file: Converted Recordings\\Setophaga_aestiva_Whitewater_Township_near__Harrison_Hamilton_County_Ohio_726808.wav\n",
      "Row: Setophaga_aestiva_Pelee_near__Leamington_Essex_County_Ontario_495792.wav\n",
      "Processing file: Converted Recordings\\Setophaga_aestiva_Pelee_near__Leamington_Essex_County_Ontario_495792.wav\n",
      "Row: Setophaga_aestiva_Magee_Marsh_-_Crane_Creek_Ohio_418088.wav\n",
      "Processing file: Converted Recordings\\Setophaga_aestiva_Magee_Marsh_-_Crane_Creek_Ohio_418088.wav\n",
      "Row: Setophaga_aestiva_Maumee_Bay_State_Park_Lucas_County_Ohio_803613.wav\n",
      "Processing file: Converted Recordings\\Setophaga_aestiva_Maumee_Bay_State_Park_Lucas_County_Ohio_803613.wav\n",
      "Row: Setophaga_aestiva_Ohio_Crane_Creek_SP_17039.wav\n",
      "Processing file: Converted Recordings\\Setophaga_aestiva_Ohio_Crane_Creek_SP_17039.wav\n",
      "Row: Setophaga_aestiva_Ohio_Crane_Creek_SP_17038.wav\n",
      "Processing file: Converted Recordings\\Setophaga_aestiva_Ohio_Crane_Creek_SP_17038.wav\n",
      "Row: Setophaga_aestiva_Ohio_Crane_Creek_SP_17037.wav\n",
      "Processing file: Converted Recordings\\Setophaga_aestiva_Ohio_Crane_Creek_SP_17037.wav\n",
      "Row: Setophaga_pensylvanica_Pelee_near__Leamington_Essex_County_Ontario_476559.wav\n",
      "Processing file: Converted Recordings\\Setophaga_pensylvanica_Pelee_near__Leamington_Essex_County_Ontario_476559.wav\n",
      "Row: Setophaga_pensylvanica_Lawrence_Woods_SNP_417994.wav\n",
      "Processing file: Converted Recordings\\Setophaga_pensylvanica_Lawrence_Woods_SNP_417994.wav\n",
      "Row: Setophaga_pensylvanica_Magee_Marsh_-_boardwalk_Lucas_County_Ohio_827845.wav\n",
      "Processing file: Converted Recordings\\Setophaga_pensylvanica_Magee_Marsh_-_boardwalk_Lucas_County_Ohio_827845.wav\n",
      "Row: Setophaga_pensylvanica_Magee_Marsh_-_boardwalk_Lucas_County_Ohio_827843.wav\n",
      "Processing file: Converted Recordings\\Setophaga_pensylvanica_Magee_Marsh_-_boardwalk_Lucas_County_Ohio_827843.wav\n",
      "Row: Setophaga_striata_Whitewater_Township_near__Harrison_Hamilton_County_Ohio_726810.wav\n",
      "Processing file: Converted Recordings\\Setophaga_striata_Whitewater_Township_near__Harrison_Hamilton_County_Ohio_726810.wav\n",
      "Row: Setophaga_striata_Benton_Township_near__Rocky_Ridge_Ottawa_County_Ohio_902977.wav\n",
      "Processing file: Converted Recordings\\Setophaga_striata_Benton_Township_near__Rocky_Ridge_Ottawa_County_Ohio_902977.wav\n",
      "Row: Setophaga_striata_Benton_Township_near__Rocky_Ridge_Ottawa_County_Ohio_902976.wav\n",
      "Processing file: Converted Recordings\\Setophaga_striata_Benton_Township_near__Rocky_Ridge_Ottawa_County_Ohio_902976.wav\n",
      "Row: Setophaga_caerulescens_Magee_Marsh_-_boardwalk_Lucas_County_Ohio_827750.wav\n",
      "Processing file: Converted Recordings\\Setophaga_caerulescens_Magee_Marsh_-_boardwalk_Lucas_County_Ohio_827750.wav\n",
      "Row: Setophaga_palmarum_Ohio_Crane_Creek_SP_17032.wav\n",
      "Processing file: Converted Recordings\\Setophaga_palmarum_Ohio_Crane_Creek_SP_17032.wav\n",
      "Row: Setophaga_palmarum_Ohio_Crane_Creek_SP_17031.wav\n",
      "Processing file: Converted Recordings\\Setophaga_palmarum_Ohio_Crane_Creek_SP_17031.wav\n",
      "Row: Setophaga_palmarum_Ohio_Crane_Creek_SP_17030.wav\n",
      "Processing file: Converted Recordings\\Setophaga_palmarum_Ohio_Crane_Creek_SP_17030.wav\n",
      "Row: Setophaga_palmarum_Ohio_Crane_Creek_SP_17029.wav\n",
      "Processing file: Converted Recordings\\Setophaga_palmarum_Ohio_Crane_Creek_SP_17029.wav\n",
      "Row: Setophaga_pinus_Cuyahoga_Valley_National_Park_Wetmore_Trail_662930.wav\n",
      "Processing file: Converted Recordings\\Setophaga_pinus_Cuyahoga_Valley_National_Park_Wetmore_Trail_662930.wav\n",
      "Row: Setophaga_pinus_Miami_Township_near__Cleves_Hamilton_County_Ohio_548088.wav\n",
      "Processing file: Converted Recordings\\Setophaga_pinus_Miami_Township_near__Cleves_Hamilton_County_Ohio_548088.wav\n",
      "Row: Setophaga_pinus_Miami_Township_near__Cleves_Hamilton_County_Ohio_548084.wav\n",
      "Processing file: Converted Recordings\\Setophaga_pinus_Miami_Township_near__Cleves_Hamilton_County_Ohio_548084.wav\n",
      "Row: Setophaga_coronata_Ohio_Crane_Creek_Sp_17028.wav\n",
      "Processing file: Converted Recordings\\Setophaga_coronata_Ohio_Crane_Creek_Sp_17028.wav\n",
      "Row: Setophaga_coronata_Anderson_near__Cincinnati_Hamilton_County_Ohio_237811.wav\n",
      "Processing file: Converted Recordings\\Setophaga_coronata_Anderson_near__Cincinnati_Hamilton_County_Ohio_237811.wav\n",
      "Row: Setophaga_dominica_Pater_Wildlife_Area_Butler_County_Ohio_44434.wav\n",
      "Processing file: Converted Recordings\\Setophaga_dominica_Pater_Wildlife_Area_Butler_County_Ohio_44434.wav\n",
      "Row: Setophaga_dominica_Miami_Township_near__Cleves_Hamilton_County_Ohio_548090.wav\n",
      "Processing file: Converted Recordings\\Setophaga_dominica_Miami_Township_near__Cleves_Hamilton_County_Ohio_548090.wav\n",
      "Row: Setophaga_discolor_Burlington_Boone_County_Kentucky_552554.wav\n",
      "Processing file: Converted Recordings\\Setophaga_discolor_Burlington_Boone_County_Kentucky_552554.wav\n",
      "Row: Setophaga_discolor_Pelee_near__Leamington_Essex_County_Ontario_476996.wav\n",
      "Processing file: Converted Recordings\\Setophaga_discolor_Pelee_near__Leamington_Essex_County_Ontario_476996.wav\n",
      "Row: Setophaga_discolor_Pelee_near__Leamington_Essex_County_Ontario_476995.wav\n",
      "Processing file: Converted Recordings\\Setophaga_discolor_Pelee_near__Leamington_Essex_County_Ontario_476995.wav\n",
      "Row: Setophaga_virens_Harrison_Township_near__Harrison_Hamilton_County_Ohio_719921.wav\n",
      "Processing file: Converted Recordings\\Setophaga_virens_Harrison_Township_near__Harrison_Hamilton_County_Ohio_719921.wav\n",
      "Row: Cardellina_canadensis_Magee_Marsh_-_boardwalk_Lucas_County_Ohio_827828.wav\n",
      "Processing file: Converted Recordings\\Cardellina_canadensis_Magee_Marsh_-_boardwalk_Lucas_County_Ohio_827828.wav\n",
      "Row: Cardellina_canadensis_OSU's_Waterman_Farm_wood_lot_Columbus_Franklin_County_Ohio_179691.wav\n",
      "Processing file: Converted Recordings\\Cardellina_canadensis_OSU's_Waterman_Farm_wood_lot_Columbus_Franklin_County_Ohio_179691.wav\n",
      "Row: Cardellina_canadensis_OSU's_Waterman_Farm_wood_lot_Columbus_Franklin_County_Ohio_179679.wav\n",
      "Processing file: Converted Recordings\\Cardellina_canadensis_OSU's_Waterman_Farm_wood_lot_Columbus_Franklin_County_Ohio_179679.wav\n",
      "Row: Cardellina_canadensis_OSU's_Waterman_Farm_wood_lot_Columbus_Franklin_County_Ohio_179676.wav\n",
      "Processing file: Converted Recordings\\Cardellina_canadensis_OSU's_Waterman_Farm_wood_lot_Columbus_Franklin_County_Ohio_179676.wav\n",
      "Row: Cardellina_canadensis_Michigan_Petersburg_SGA__31133.wav\n",
      "Processing file: Converted Recordings\\Cardellina_canadensis_Michigan_Petersburg_SGA__31133.wav\n",
      "Row: Cardellina_pusilla_Magee_Marsh_-_boardwalk_Lucas_County_Ohio_828187.wav\n",
      "Processing file: Converted Recordings\\Cardellina_pusilla_Magee_Marsh_-_boardwalk_Lucas_County_Ohio_828187.wav\n",
      "Row: Piranga_rubra_Kitty_Todd_Nature_Preserve_Spencer_Township_Lucas_County_Ohio_923981.wav\n",
      "Processing file: Converted Recordings\\Piranga_rubra_Kitty_Todd_Nature_Preserve_Spencer_Township_Lucas_County_Ohio_923981.wav\n",
      "Row: Piranga_olivacea_Whitewater_Township_near__Cleves_Hamilton_County_Ohio_896571.wav\n",
      "Processing file: Converted Recordings\\Piranga_olivacea_Whitewater_Township_near__Cleves_Hamilton_County_Ohio_896571.wav\n",
      "Row: Piranga_olivacea_Brown_Township_near__Allensville_Vinton_County_Ohio_476090.wav\n",
      "Processing file: Converted Recordings\\Piranga_olivacea_Brown_Township_near__Allensville_Vinton_County_Ohio_476090.wav\n",
      "Row: Piranga_olivacea_Shawnee_State_Forest_Scioto_County_Ohio_417444.wav\n",
      "Processing file: Converted Recordings\\Piranga_olivacea_Shawnee_State_Forest_Scioto_County_Ohio_417444.wav\n",
      "Row: Piranga_olivacea_East_Fork_Lake_SP_Clermont_County_Ohio_416550.wav\n",
      "Processing file: Converted Recordings\\Piranga_olivacea_East_Fork_Lake_SP_Clermont_County_Ohio_416550.wav\n",
      "Row: Pheucticus_ludovicianus_Harrison_Township_near__Harrison_Hamilton_County_Ohio_726850.wav\n",
      "Processing file: Converted Recordings\\Pheucticus_ludovicianus_Harrison_Township_near__Harrison_Hamilton_County_Ohio_726850.wav\n",
      "Row: Pheucticus_ludovicianus_Pelee_near__Leamington_Essex_County_Ontario_495791.wav\n",
      "Processing file: Converted Recordings\\Pheucticus_ludovicianus_Pelee_near__Leamington_Essex_County_Ontario_495791.wav\n",
      "Row: Pheucticus_ludovicianus_Pelee_near__Leamington_Essex_County_Ontario_477036.wav\n",
      "Processing file: Converted Recordings\\Pheucticus_ludovicianus_Pelee_near__Leamington_Essex_County_Ontario_477036.wav\n",
      "Row: Pheucticus_ludovicianus_Oak_Openings_Metropark_Ohio_418070.wav\n",
      "Processing file: Converted Recordings\\Pheucticus_ludovicianus_Oak_Openings_Metropark_Ohio_418070.wav\n",
      "Row: Pheucticus_ludovicianus_Shawnee_State_Forest_Scioto_County_Ohio_417454.wav\n",
      "Processing file: Converted Recordings\\Pheucticus_ludovicianus_Shawnee_State_Forest_Scioto_County_Ohio_417454.wav\n",
      "Row: Pheucticus_ludovicianus_Point_Pelee_National_Park_Essex_County_Ontario_910738.wav\n",
      "Processing file: Converted Recordings\\Pheucticus_ludovicianus_Point_Pelee_National_Park_Essex_County_Ontario_910738.wav\n",
      "Row: Pheucticus_ludovicianus_Maumee_Bay_State_Park_Lucas_County_Ohio_803611.wav\n",
      "Processing file: Converted Recordings\\Pheucticus_ludovicianus_Maumee_Bay_State_Park_Lucas_County_Ohio_803611.wav\n",
      "Row: Pheucticus_ludovicianus_Ohio_Crane_Creek_SP_17044.wav\n",
      "Processing file: Converted Recordings\\Pheucticus_ludovicianus_Ohio_Crane_Creek_SP_17044.wav\n",
      "Row: Cardinalis_cardinalis_Union_Township_near__Cincinnati_Clermont_County_Ohio_727761.wav\n",
      "Processing file: Converted Recordings\\Cardinalis_cardinalis_Union_Township_near__Cincinnati_Clermont_County_Ohio_727761.wav\n",
      "Row: Cardinalis_cardinalis_Green_Township_near__Cincinnati_Hamilton_County_Ohio_716618.wav\n",
      "Processing file: Converted Recordings\\Cardinalis_cardinalis_Green_Township_near__Cincinnati_Hamilton_County_Ohio_716618.wav\n",
      "Row: Cardinalis_cardinalis_Miami_Township_near__Cleves_Hamilton_County_Ohio_713583.wav\n",
      "Processing file: Converted Recordings\\Cardinalis_cardinalis_Miami_Township_near__Cleves_Hamilton_County_Ohio_713583.wav\n",
      "Row: Cardinalis_cardinalis_Cincinnati_Hamilton_County_Ohio_677300.wav\n",
      "Processing file: Converted Recordings\\Cardinalis_cardinalis_Cincinnati_Hamilton_County_Ohio_677300.wav\n",
      "Row: Cardinalis_cardinalis_Miami_Township_near__Cleves_Hamilton_County_Ohio_645816.wav\n",
      "Processing file: Converted Recordings\\Cardinalis_cardinalis_Miami_Township_near__Cleves_Hamilton_County_Ohio_645816.wav\n",
      "Row: Cardinalis_cardinalis_Tanglewood_Lane_Cincinnati_Ohio_302932.wav\n",
      "Processing file: Converted Recordings\\Cardinalis_cardinalis_Tanglewood_Lane_Cincinnati_Ohio_302932.wav\n",
      "Row: Cardinalis_cardinalis_Green_Township_near__Cincinnati_Hamilton_County_Ohio_817703.wav\n",
      "Processing file: Converted Recordings\\Cardinalis_cardinalis_Green_Township_near__Cincinnati_Hamilton_County_Ohio_817703.wav\n",
      "Row: Cardinalis_cardinalis_Magee_Marsh_-_boardwalk_Lucas_County_Ohio_814887.wav\n",
      "Processing file: Converted Recordings\\Cardinalis_cardinalis_Magee_Marsh_-_boardwalk_Lucas_County_Ohio_814887.wav\n",
      "Row: Cardinalis_cardinalis_Green_Township_near__Cincinnati_Hamilton_County_Ohio_676765.wav\n",
      "Processing file: Converted Recordings\\Cardinalis_cardinalis_Green_Township_near__Cincinnati_Hamilton_County_Ohio_676765.wav\n",
      "Row: Cardinalis_cardinalis_Green_Township_near__Cincinnati_Hamilton_County_Ohio_673006.wav\n",
      "Processing file: Converted Recordings\\Cardinalis_cardinalis_Green_Township_near__Cincinnati_Hamilton_County_Ohio_673006.wav\n",
      "Row: Cardinalis_cardinalis_Spring_Valley_near__Waynesville_Greene_Cty_Ohio_477596.wav\n",
      "Processing file: Converted Recordings\\Cardinalis_cardinalis_Spring_Valley_near__Waynesville_Greene_Cty_Ohio_477596.wav\n",
      "Row: Cardinalis_cardinalis_East_Fork_Lake_SP_Clermont_County_Ohio_416549.wav\n",
      "Processing file: Converted Recordings\\Cardinalis_cardinalis_East_Fork_Lake_SP_Clermont_County_Ohio_416549.wav\n",
      "Row: Spiza_americana_Ohio_near__New_Franklin_Summit_County_Ohio_378358.wav\n",
      "Processing file: Converted Recordings\\Spiza_americana_Ohio_near__New_Franklin_Summit_County_Ohio_378358.wav\n",
      "Row: Spiza_americana_Battelle_Darby_Metro_Park--Grain_Elevator_Wetlands_near_parking_area_105816.wav\n",
      "Processing file: Converted Recordings\\Spiza_americana_Battelle_Darby_Metro_Park--Grain_Elevator_Wetlands_near_parking_area_105816.wav\n",
      "Row: Spiza_americana_Michigan_Whiteford_Township_17103.wav\n",
      "Processing file: Converted Recordings\\Spiza_americana_Michigan_Whiteford_Township_17103.wav\n",
      "Row: Passerina_cyanea_Miami_Township_near__North_Bend_Hamilton_County_Ohio_817717.wav\n",
      "Processing file: Converted Recordings\\Passerina_cyanea_Miami_Township_near__North_Bend_Hamilton_County_Ohio_817717.wav\n",
      "Row: Passerina_cyanea_East_Fork_Lake_SP_Clermont_County_Ohio_416556.wav\n",
      "Processing file: Converted Recordings\\Passerina_cyanea_East_Fork_Lake_SP_Clermont_County_Ohio_416556.wav\n",
      "Row: Passerina_cyanea_East_Fork_Lake_SP_Clermont_County_Ohio_416554.wav\n",
      "Processing file: Converted Recordings\\Passerina_cyanea_East_Fork_Lake_SP_Clermont_County_Ohio_416554.wav\n",
      "Row: Passerina_cyanea_East_Fork_Lake_SP_Clermont_County_Ohio_416555.wav\n",
      "Processing file: Converted Recordings\\Passerina_cyanea_East_Fork_Lake_SP_Clermont_County_Ohio_416555.wav\n",
      "Row: Passerina_cyanea_Michigan_Petersburg_SGA__31102.wav\n",
      "Processing file: Converted Recordings\\Passerina_cyanea_Michigan_Petersburg_SGA__31102.wav\n",
      "Row: Passerina_cyanea_Michigan_Monroe_County_17148.wav\n",
      "Processing file: Converted Recordings\\Passerina_cyanea_Michigan_Monroe_County_17148.wav\n",
      "Row: Sonus_naturalis_Chagrin_Falls_Township_near__Moreland_Hills_Cuyahoga_County_Ohio_560021.wav\n",
      "Processing file: Converted Recordings\\Sonus_naturalis_Chagrin_Falls_Township_near__Moreland_Hills_Cuyahoga_County_Ohio_560021.wav\n",
      "Row: Sonus_naturalis_Jerusalem_Township_near__Bono_Lucas_County_Ohio_784063.wav\n",
      "Processing file: Converted Recordings\\Sonus_naturalis_Jerusalem_Township_near__Bono_Lucas_County_Ohio_784063.wav\n",
      "Row: Sonus_naturalis_Lawrence_Woods_SNP_417979.wav\n",
      "Processing file: Converted Recordings\\Sonus_naturalis_Lawrence_Woods_SNP_417979.wav\n",
      "Row: Sonus_naturalis_Buhl-Morton_Road_462269.wav\n",
      "Processing file: Converted Recordings\\Sonus_naturalis_Buhl-Morton_Road_462269.wav\n",
      "Row: Sonus_naturalis_Maumee_Bay_State_Park_Lucas_County_Ohio_821133.wav\n",
      "Processing file: Converted Recordings\\Sonus_naturalis_Maumee_Bay_State_Park_Lucas_County_Ohio_821133.wav\n",
      "Audio Processing Complete\n",
      "\n",
      "Audio processing is complete. There are now 12173 files in the 'Processed Recordings' directory.\n",
      "\n",
      "No files were discarded.\n"
     ]
    }
   ],
   "source": [
    "# Main execution\n",
    "converted_dir = 'Converted Recordings'\n",
    "processed_dir = 'Processed Recordings'\n",
    "\n",
    "# Ensure output directory exists\n",
    "if not os.path.exists(processed_dir):\n",
    "    os.makedirs(processed_dir)\n",
    "\n",
    "processed_data = process_dataset(converted_data, converted_dir, processed_dir)\n",
    "print('Audio Processing Complete')\n",
    "\n",
    "# Filter processed_data to only include files with \"segment\" in the file name\n",
    "processed_data = processed_data[processed_data['processed_file'].str.contains('_segment_')]\n",
    "\n",
    "# Print completion message and count files in Processed Recordings directory\n",
    "processed_file_count = len([f for f in os.listdir(processed_dir) if f.endswith('.wav')])\n",
    "print(f\"\\nAudio processing is complete. There are now {processed_file_count} files in the '{processed_dir}' directory.\")\n",
    "\n",
    "# Output discarded files\n",
    "discard_log_df = pd.read_csv('discarded_audio_log.csv')\n",
    "if not discard_log_df.empty:\n",
    "    print(\"\\nThe following files were discarded:\")\n",
    "    for _, row in discard_log_df.iterrows():\n",
    "        print(f\"{row['file_path']}: {row['reason']}\")\n",
    "else:\n",
    "    print(\"\\nNo files were discarded.\")"
   ]
  },
  {
   "cell_type": "code",
   "execution_count": 20,
   "metadata": {},
   "outputs": [
    {
     "name": "stdout",
     "output_type": "stream",
     "text": [
      "<class 'pandas.core.frame.DataFrame'>\n",
      "Index: 12120 entries, 0 to 690\n",
      "Data columns (total 11 columns):\n",
      " #   Column           Non-Null Count  Dtype  \n",
      "---  ------           --------------  -----  \n",
      " 0   genus            12120 non-null  object \n",
      " 1   species          12120 non-null  object \n",
      " 2   latitude         12120 non-null  float64\n",
      " 3   longitude        12120 non-null  float64\n",
      " 4   quality          12120 non-null  object \n",
      " 5   file_name        12120 non-null  object \n",
      " 6   simplified_type  12120 non-null  object \n",
      " 7   season           12120 non-null  object \n",
      " 8   time_of_day      12120 non-null  object \n",
      " 9   length_seconds   12120 non-null  int64  \n",
      " 10  processed_file   12120 non-null  object \n",
      "dtypes: float64(2), int64(1), object(8)\n",
      "memory usage: 1.1+ MB\n",
      "None\n"
     ]
    },
    {
     "data": {
      "text/html": [
       "<div>\n",
       "<style scoped>\n",
       "    .dataframe tbody tr th:only-of-type {\n",
       "        vertical-align: middle;\n",
       "    }\n",
       "\n",
       "    .dataframe tbody tr th {\n",
       "        vertical-align: top;\n",
       "    }\n",
       "\n",
       "    .dataframe thead th {\n",
       "        text-align: right;\n",
       "    }\n",
       "</style>\n",
       "<table border=\"1\" class=\"dataframe\">\n",
       "  <thead>\n",
       "    <tr style=\"text-align: right;\">\n",
       "      <th></th>\n",
       "      <th>genus</th>\n",
       "      <th>species</th>\n",
       "      <th>latitude</th>\n",
       "      <th>longitude</th>\n",
       "      <th>quality</th>\n",
       "      <th>file_name</th>\n",
       "      <th>simplified_type</th>\n",
       "      <th>season</th>\n",
       "      <th>time_of_day</th>\n",
       "      <th>length_seconds</th>\n",
       "      <th>processed_file</th>\n",
       "    </tr>\n",
       "  </thead>\n",
       "  <tbody>\n",
       "    <tr>\n",
       "      <th>0</th>\n",
       "      <td>Branta</td>\n",
       "      <td>canadensis</td>\n",
       "      <td>39.2095</td>\n",
       "      <td>-84.7821</td>\n",
       "      <td>A</td>\n",
       "      <td>Branta_canadensis_Whitewater_Township_near__Ha...</td>\n",
       "      <td>Call</td>\n",
       "      <td>Spring</td>\n",
       "      <td>Morning</td>\n",
       "      <td>14</td>\n",
       "      <td>Branta_canadensis_Whitewater_Township_near__Ha...</td>\n",
       "    </tr>\n",
       "    <tr>\n",
       "      <th>0</th>\n",
       "      <td>Branta</td>\n",
       "      <td>canadensis</td>\n",
       "      <td>39.2095</td>\n",
       "      <td>-84.7821</td>\n",
       "      <td>A</td>\n",
       "      <td>Branta_canadensis_Whitewater_Township_near__Ha...</td>\n",
       "      <td>Call</td>\n",
       "      <td>Spring</td>\n",
       "      <td>Morning</td>\n",
       "      <td>14</td>\n",
       "      <td>Branta_canadensis_Whitewater_Township_near__Ha...</td>\n",
       "    </tr>\n",
       "    <tr>\n",
       "      <th>0</th>\n",
       "      <td>Branta</td>\n",
       "      <td>canadensis</td>\n",
       "      <td>39.2095</td>\n",
       "      <td>-84.7821</td>\n",
       "      <td>A</td>\n",
       "      <td>Branta_canadensis_Whitewater_Township_near__Ha...</td>\n",
       "      <td>Call</td>\n",
       "      <td>Spring</td>\n",
       "      <td>Morning</td>\n",
       "      <td>14</td>\n",
       "      <td>Branta_canadensis_Whitewater_Township_near__Ha...</td>\n",
       "    </tr>\n",
       "    <tr>\n",
       "      <th>0</th>\n",
       "      <td>Branta</td>\n",
       "      <td>canadensis</td>\n",
       "      <td>39.2095</td>\n",
       "      <td>-84.7821</td>\n",
       "      <td>A</td>\n",
       "      <td>Branta_canadensis_Whitewater_Township_near__Ha...</td>\n",
       "      <td>Call</td>\n",
       "      <td>Spring</td>\n",
       "      <td>Morning</td>\n",
       "      <td>14</td>\n",
       "      <td>Branta_canadensis_Whitewater_Township_near__Ha...</td>\n",
       "    </tr>\n",
       "    <tr>\n",
       "      <th>0</th>\n",
       "      <td>Branta</td>\n",
       "      <td>canadensis</td>\n",
       "      <td>39.2095</td>\n",
       "      <td>-84.7821</td>\n",
       "      <td>A</td>\n",
       "      <td>Branta_canadensis_Whitewater_Township_near__Ha...</td>\n",
       "      <td>Call</td>\n",
       "      <td>Spring</td>\n",
       "      <td>Morning</td>\n",
       "      <td>14</td>\n",
       "      <td>Branta_canadensis_Whitewater_Township_near__Ha...</td>\n",
       "    </tr>\n",
       "  </tbody>\n",
       "</table>\n",
       "</div>"
      ],
      "text/plain": [
       "    genus     species  latitude  longitude quality  \\\n",
       "0  Branta  canadensis   39.2095   -84.7821       A   \n",
       "0  Branta  canadensis   39.2095   -84.7821       A   \n",
       "0  Branta  canadensis   39.2095   -84.7821       A   \n",
       "0  Branta  canadensis   39.2095   -84.7821       A   \n",
       "0  Branta  canadensis   39.2095   -84.7821       A   \n",
       "\n",
       "                                           file_name simplified_type  season  \\\n",
       "0  Branta_canadensis_Whitewater_Township_near__Ha...            Call  Spring   \n",
       "0  Branta_canadensis_Whitewater_Township_near__Ha...            Call  Spring   \n",
       "0  Branta_canadensis_Whitewater_Township_near__Ha...            Call  Spring   \n",
       "0  Branta_canadensis_Whitewater_Township_near__Ha...            Call  Spring   \n",
       "0  Branta_canadensis_Whitewater_Township_near__Ha...            Call  Spring   \n",
       "\n",
       "  time_of_day  length_seconds  \\\n",
       "0     Morning              14   \n",
       "0     Morning              14   \n",
       "0     Morning              14   \n",
       "0     Morning              14   \n",
       "0     Morning              14   \n",
       "\n",
       "                                      processed_file  \n",
       "0  Branta_canadensis_Whitewater_Township_near__Ha...  \n",
       "0  Branta_canadensis_Whitewater_Township_near__Ha...  \n",
       "0  Branta_canadensis_Whitewater_Township_near__Ha...  \n",
       "0  Branta_canadensis_Whitewater_Township_near__Ha...  \n",
       "0  Branta_canadensis_Whitewater_Township_near__Ha...  "
      ]
     },
     "execution_count": 20,
     "metadata": {},
     "output_type": "execute_result"
    }
   ],
   "source": [
    "print(processed_data.info())\n",
    "processed_data.head()"
   ]
  },
  {
   "cell_type": "markdown",
   "metadata": {},
   "source": [
    "### Data Augmentation\n",
    "### Augment the processed audio files.\n",
    "- Pitch Shift\n",
    "- Time Stretch\n",
    "- add_noise\n",
    "- change_speed\n",
    "- apply_filter\n",
    "- add_background\n",
    "- time_shift\n",
    "- augment_audio\n",
    "- "
   ]
  },
  {
   "cell_type": "code",
   "execution_count": 21,
   "metadata": {},
   "outputs": [],
   "source": [
    "\n",
    "def generate_wind_sound(duration, sr):\n",
    "    t = np.linspace(0, duration, int(sr * duration), False)\n",
    "    wind = np.random.normal(0, 0.1, int(sr * duration))\n",
    "    wind_filtered = np.convolve(wind, np.ones(1000)/1000, mode='same')\n",
    "    return wind_filtered / np.max(np.abs(wind_filtered))\n",
    "\n",
    "def generate_leaf_rustle(duration, sr):\n",
    "    t = np.linspace(0, duration, int(sr * duration), False)\n",
    "    leaf = np.random.normal(0, 0.1, int(sr * duration))\n",
    "    envelope = np.exp(-t * 10) * np.sin(2 * np.pi * 2 * t)**2\n",
    "    return leaf * envelope / np.max(np.abs(leaf * envelope))\n",
    "\n",
    "def generate_water_sound(duration, sr):\n",
    "    t = np.linspace(0, duration, int(sr * duration), False)\n",
    "    water = np.random.normal(0, 0.1, int(sr * duration))\n",
    "    water_filtered = np.convolve(water, np.ones(500)/500, mode='same')\n",
    "    ripple = np.sin(2 * np.pi * 2 * t) * np.exp(-t * 2)\n",
    "    return (water_filtered + ripple) / np.max(np.abs(water_filtered + ripple))\n",
    "\n",
    "def mix_nature_sounds(duration, sr):\n",
    "    wind = generate_wind_sound(duration, sr)\n",
    "    leaf = generate_leaf_rustle(duration, sr)\n",
    "    water = generate_water_sound(duration, sr)\n",
    "    \n",
    "    mix = wind * 0.7 + leaf * 0.2 + water * 0.1\n",
    "    return mix / np.max(np.abs(mix))\n",
    "\n",
    "# Generate a 5-second mix of nature-like sounds\n",
    "sr = 44100\n",
    "duration = 5\n",
    "nature_background = mix_nature_sounds(duration, sr)"
   ]
  },
  {
   "cell_type": "code",
   "execution_count": 22,
   "metadata": {},
   "outputs": [],
   "source": [
    "\n",
    "def pitch_shift(audio, sr, n_steps):\n",
    "    n_fft = min(2048, len(audio))\n",
    "    return librosa.effects.pitch_shift(audio, sr=sr, n_steps=n_steps, n_fft=n_fft)\n",
    "\n",
    "def time_stretch(audio, rate):\n",
    "    return librosa.effects.time_stretch(audio, rate=rate)\n",
    "\n",
    "def add_noise(audio, noise_factor):\n",
    "    noise = np.random.randn(len(audio))\n",
    "    augmented_audio = audio + noise_factor * noise\n",
    "    return np.clip(augmented_audio, -1, 1)\n",
    "\n",
    "def change_speed(audio, speed_factor):\n",
    "    return librosa.effects.time_stretch(audio, rate=1/speed_factor)\n",
    "\n",
    "def apply_filter(audio, sr, filter_type='lowpass', cutoff=1000):\n",
    "    nyquist = 0.5 * sr\n",
    "    normal_cutoff = cutoff / nyquist\n",
    "    b, a = butter(4, normal_cutoff, btype=filter_type, analog=False)\n",
    "    return lfilter(b, a, audio)\n",
    "\n",
    "def add_background(audio, background, ratio=0.1):\n",
    "    if len(background) != len(audio):\n",
    "        if len(background) > len(audio):\n",
    "            start = np.random.randint(0, len(background) - len(audio))\n",
    "            background = background[start:start+len(audio)]\n",
    "        else:\n",
    "            background = np.pad(background, (0, len(audio) - len(background)))\n",
    "    \n",
    "    if len(audio) != len(background):\n",
    "        print(f\"Shape mismatch in add_background: audio {len(audio)}, background {len(background)}\")\n",
    "        return audio  # Return original audio if shapes don't match\n",
    "    \n",
    "    return audio + ratio * background\n",
    "\n",
    "def time_shift(audio, shift_max, roll_prob=0.5):\n",
    "    shift = np.random.randint(-shift_max, shift_max)\n",
    "    if random.random() < roll_prob:\n",
    "        return np.roll(audio, shift)\n",
    "    else:\n",
    "        if shift > 0:\n",
    "            return np.pad(audio, (shift, 0))[:len(audio)]\n",
    "        else:\n",
    "            return np.pad(audio, (0, -shift))[:-shift]\n",
    "\n",
    "def augment_audio(audio, sr):\n",
    "    augmentations = [\n",
    "        (pitch_shift, {'n_steps': random.uniform(-2, 2)}),\n",
    "        (time_stretch, {'rate': random.uniform(0.8, 1.2)}),\n",
    "        (add_noise, {'noise_factor': random.uniform(0.001, 0.015)}),\n",
    "        (change_speed, {'speed_factor': random.uniform(0.9, 1.1)}),\n",
    "        (apply_filter, {'filter_type': random.choice(['lowpass', 'highpass']),\n",
    "                        'cutoff': random.uniform(1000, 4000)}),\n",
    "        (time_shift, {'shift_max': int(sr * 0.5)})\n",
    "    ]\n",
    "    \n",
    "    num_augments = random.randint(2, 4)\n",
    "    selected_augments = random.sample(augmentations, num_augments)\n",
    "    \n",
    "    applied_augmentations = []\n",
    "    \n",
    "    for augment_func, params in selected_augments:\n",
    "        if augment_func.__name__ in ['pitch_shift', 'apply_filter']:\n",
    "            audio = augment_func(audio, sr, **params)\n",
    "        else:\n",
    "            audio = augment_func(audio, **params)\n",
    "        applied_augmentations.append(f\"{augment_func.__name__}:{','.join(f'{k}={v}' for k, v in params.items())}\")\n",
    "    \n",
    "    if random.random() < 0.5:\n",
    "        nature_background = mix_nature_sounds(len(audio) / sr, sr)\n",
    "        ratio = random.uniform(0.1, 0.3)\n",
    "        audio = add_background(audio, nature_background, ratio=ratio)\n",
    "        applied_augmentations.append(f\"add_background:ratio={ratio:.2f}\")\n",
    "    \n",
    "    return audio, applied_augmentations\n",
    "\n"
   ]
  },
  {
   "cell_type": "code",
   "execution_count": 23,
   "metadata": {},
   "outputs": [],
   "source": [
    "\n",
    "def augment_and_save(input_file, output_dir, num_augmentations=3):\n",
    "    try:\n",
    "        # Load the audio file\n",
    "        audio, sr = librosa.load(input_file, sr=None)\n",
    "        \n",
    "        augmented_files = []\n",
    "        all_applied_augmentations = []\n",
    "        \n",
    "        for i in range(num_augmentations):\n",
    "            # Apply augmentation\n",
    "            augmented_audio, applied_augmentations = augment_audio(audio, sr)\n",
    "            \n",
    "            # Generate new filename\n",
    "            base_name = os.path.basename(input_file)\n",
    "            name, ext = os.path.splitext(base_name)\n",
    "            new_name = f\"{name}_aug_{i+1}{ext}\"\n",
    "            output_path = os.path.join(output_dir, new_name)\n",
    "            \n",
    "            # Save augmented audio\n",
    "            sf.write(output_path, augmented_audio, sr)\n",
    "            \n",
    "            augmented_files.append(output_path)\n",
    "            all_applied_augmentations.append(';'.join(applied_augmentations))\n",
    "        \n",
    "        return augmented_files, all_applied_augmentations\n",
    "    \n",
    "    except Exception as e:\n",
    "        print(f\"Error processing {input_file}: {str(e)}\")\n",
    "        return [], []\n",
    "\n",
    "\n",
    "def process_dataframe(df, input_dir, output_dir, num_augmentations=3):\n",
    "    new_rows = []\n",
    "    \n",
    "    for _, row in tqdm(df.iterrows(), total=len(df), desc=\"Processing files\"):\n",
    "        input_file = os.path.join(input_dir, row['processed_file'])\n",
    "        augmented_files, augmentations = augment_and_save(input_file, output_dir, num_augmentations)\n",
    "        \n",
    "        for aug_file, aug_details in zip(augmented_files, augmentations):\n",
    "            new_row = row.copy()\n",
    "            new_row['processed_file'] = os.path.relpath(aug_file, output_dir)\n",
    "            new_row['augmentations'] = aug_details\n",
    "            new_rows.append(new_row)\n",
    "    \n",
    "    augmented_df = pd.concat([df, pd.DataFrame(new_rows)], ignore_index=True)\n",
    "    return augmented_df\n"
   ]
  },
  {
   "cell_type": "code",
   "execution_count": 24,
   "metadata": {},
   "outputs": [
    {
     "name": "stdout",
     "output_type": "stream",
     "text": [
      "Testing augmentations on file: Setophaga_ruticilla_Magee_Marsh_-_boardwalk_Lucas_County_Ohio_825242_segment_38.wav\n",
      "Augmentation test complete.\n"
     ]
    }
   ],
   "source": [
    "# Test Augmentation functions\n",
    "# Filter processed_data to only include files with \"segment\" in the file name\n",
    "processed_data = processed_data[processed_data['processed_file'].str.contains('_segment_')]\n",
    "\n",
    "# Convert 'file_name' column to a list\n",
    "file_names = processed_data['processed_file'].tolist()\n",
    "\n",
    "# Select a random file\n",
    "random_file = random.choice(file_names)\n",
    "file_path = os.path.join('Processed Recordings', random_file)\n",
    "\n",
    "# Load the audio file\n",
    "audio, sr = librosa.load(file_path, sr=None)\n",
    "\n",
    "# Create 'Test' directory if it doesn't exist\n",
    "os.makedirs('Test', exist_ok=True)\n",
    "\n",
    "# List of augmentation functions to test\n",
    "augmentation_functions = [\n",
    "    (pitch_shift, {'n_steps': 2}),\n",
    "    (time_stretch, {'rate': 1.2}),\n",
    "    (add_noise, {'noise_factor': 0.01}),\n",
    "    (change_speed, {'speed_factor': 1.1}),\n",
    "    (apply_filter, {'filter_type': 'lowpass', 'cutoff': 2000}),\n",
    "    (time_shift, {'shift_max': int(sr * 0.5)}),\n",
    "    (mix_nature_sounds, {'duration': len(audio) / sr, 'sr': sr})\n",
    "]\n",
    "\n",
    "print(f\"Testing augmentations on file: {random_file}\")\n",
    "\n",
    "# Apply each augmentation function and save the result\n",
    "for i, (func, params) in enumerate(augmentation_functions):\n",
    "    if func.__name__ == 'mix_nature_sounds':\n",
    "        # For mix_nature_sounds, handle it differently as it needs a background\n",
    "        background = func(**params)\n",
    "        augmented = add_background(audio, background, ratio=0.2)\n",
    "    elif func.__name__ in ['time_stretch', 'change_speed', 'add_noise', 'time_shift']:\n",
    "        # These functions don't need sr\n",
    "        augmented = func(audio, **params)\n",
    "    else:\n",
    "        # For pitch_shift and apply_filter, which need sr, pass audio, sr, and params\n",
    "        augmented = func(audio, sr, **params)\n",
    "    \n",
    "    # Generate output filename\n",
    "    output_filename = f\"{os.path.splitext(random_file)[0]}_{func.__name__}.wav\"\n",
    "    output_path = os.path.join('Test', output_filename)\n",
    "    \n",
    "    # Save the augmented audio\n",
    "    sf.write(output_path, augmented, sr)\n",
    "    \n",
    "    print(f\"Saved {output_filename}\")\n",
    "\n",
    "print(\"Augmentation test complete.\")"
   ]
  },
  {
   "cell_type": "code",
   "execution_count": 25,
   "metadata": {},
   "outputs": [
    {
     "name": "stderr",
     "output_type": "stream",
     "text": [
      "Processing files:   0%|          | 12/12120 [00:05<1:23:43,  2.41it/s]c:\\Users\\16148\\anaconda3\\envs\\dev\\lib\\site-packages\\librosa\\core\\spectrum.py:266: UserWarning: n_fft=2048 is too large for input signal of length=784\n",
      "  warnings.warn(\n",
      "Processing files:   0%|          | 16/12120 [00:06<1:03:34,  3.17it/s]c:\\Users\\16148\\anaconda3\\envs\\dev\\lib\\site-packages\\librosa\\core\\spectrum.py:266: UserWarning: n_fft=2048 is too large for input signal of length=556\n",
      "  warnings.warn(\n",
      "Processing files:   0%|          | 17/12120 [00:06<1:02:51,  3.21it/s]"
     ]
    },
    {
     "name": "stdout",
     "output_type": "stream",
     "text": [
      "Error processing Processed Recordings\\Branta_canadensis_Lawrence_Woods_SNP_418000_segment_10.wav: operands could not be broadcast together with shapes (1000,) (521,) \n"
     ]
    },
    {
     "name": "stderr",
     "output_type": "stream",
     "text": [
      "Processing files:   0%|          | 59/12120 [00:23<1:14:38,  2.69it/s]"
     ]
    },
    {
     "name": "stdout",
     "output_type": "stream",
     "text": [
      "Error processing Processed Recordings\\Cygnus_buccinator_Killdeer_Plains_Wildlife_Management_Area_Wyandot_County_Ohio_713788_segment_32.wav: operands could not be broadcast together with shapes (500,) (235,) \n"
     ]
    },
    {
     "name": "stderr",
     "output_type": "stream",
     "text": [
      "Processing files:   1%|          | 135/12120 [00:53<1:16:21,  2.62it/s]c:\\Users\\16148\\anaconda3\\envs\\dev\\lib\\site-packages\\librosa\\core\\spectrum.py:266: UserWarning: n_fft=2048 is too large for input signal of length=1988\n",
      "  warnings.warn(\n",
      "Processing files:   1%|▏         | 174/12120 [01:09<1:10:39,  2.82it/s]c:\\Users\\16148\\anaconda3\\envs\\dev\\lib\\site-packages\\librosa\\core\\spectrum.py:266: UserWarning: n_fft=2048 is too large for input signal of length=718\n",
      "  warnings.warn(\n",
      "Processing files:   2%|▏         | 210/12120 [01:24<1:14:37,  2.66it/s]c:\\Users\\16148\\anaconda3\\envs\\dev\\lib\\site-packages\\librosa\\core\\spectrum.py:266: UserWarning: n_fft=2048 is too large for input signal of length=265\n",
      "  warnings.warn(\n",
      "Processing files:   2%|▏         | 236/12120 [01:33<1:25:26,  2.32it/s]"
     ]
    },
    {
     "name": "stdout",
     "output_type": "stream",
     "text": [
      "Error processing Processed Recordings\\Antrostomus_vociferus_Sutton_Braxton_County_West_Virginia_929758_segment_19.wav: operands could not be broadcast together with shapes (1000,) (585,) \n"
     ]
    },
    {
     "name": "stderr",
     "output_type": "stream",
     "text": [
      "Processing files:   3%|▎         | 309/12120 [02:02<1:06:58,  2.94it/s]c:\\Users\\16148\\anaconda3\\envs\\dev\\lib\\site-packages\\librosa\\core\\spectrum.py:266: UserWarning: n_fft=2048 is too large for input signal of length=162\n",
      "  warnings.warn(\n",
      "Processing files:   4%|▎         | 430/12120 [02:49<1:19:45,  2.44it/s]c:\\Users\\16148\\anaconda3\\envs\\dev\\lib\\site-packages\\librosa\\core\\spectrum.py:266: UserWarning: n_fft=2048 is too large for input signal of length=1278\n",
      "  warnings.warn(\n",
      "Processing files:   4%|▍         | 458/12120 [03:00<1:24:35,  2.30it/s]c:\\Users\\16148\\anaconda3\\envs\\dev\\lib\\site-packages\\librosa\\core\\spectrum.py:266: UserWarning: n_fft=2048 is too large for input signal of length=1522\n",
      "  warnings.warn(\n",
      "Processing files:   4%|▍         | 511/12120 [03:18<1:03:04,  3.07it/s]c:\\Users\\16148\\anaconda3\\envs\\dev\\lib\\site-packages\\librosa\\core\\spectrum.py:266: UserWarning: n_fft=2048 is too large for input signal of length=1548\n",
      "  warnings.warn(\n",
      "Processing files:   5%|▍         | 588/12120 [03:48<59:37,  3.22it/s]  c:\\Users\\16148\\anaconda3\\envs\\dev\\lib\\site-packages\\librosa\\core\\spectrum.py:266: UserWarning: n_fft=2048 is too large for input signal of length=643\n",
      "  warnings.warn(\n",
      "Processing files:   6%|▋         | 768/12120 [04:55<50:28,  3.75it/s]  "
     ]
    },
    {
     "name": "stdout",
     "output_type": "stream",
     "text": [
      "Error processing Processed Recordings\\Chlidonias_niger_Pelee_near__Leamington_Essex_County_Ontario_476265_segment_1.wav: operands could not be broadcast together with shapes (500,) (119,) \n"
     ]
    },
    {
     "name": "stderr",
     "output_type": "stream",
     "text": [
      "Processing files:   7%|▋         | 815/12120 [05:13<1:21:16,  2.32it/s]c:\\Users\\16148\\anaconda3\\envs\\dev\\lib\\site-packages\\librosa\\core\\spectrum.py:266: UserWarning: n_fft=2048 is too large for input signal of length=1939\n",
      "  warnings.warn(\n",
      "Processing files:   7%|▋         | 888/12120 [05:42<1:07:29,  2.77it/s]c:\\Users\\16148\\anaconda3\\envs\\dev\\lib\\site-packages\\librosa\\core\\spectrum.py:266: UserWarning: n_fft=2048 is too large for input signal of length=1765\n",
      "  warnings.warn(\n",
      "c:\\Users\\16148\\anaconda3\\envs\\dev\\lib\\site-packages\\librosa\\core\\spectrum.py:266: UserWarning: n_fft=2048 is too large for input signal of length=1885\n",
      "  warnings.warn(\n",
      "Processing files:   7%|▋         | 905/12120 [05:49<1:25:06,  2.20it/s]c:\\Users\\16148\\anaconda3\\envs\\dev\\lib\\site-packages\\librosa\\core\\spectrum.py:266: UserWarning: n_fft=2048 is too large for input signal of length=197\n",
      "  warnings.warn(\n"
     ]
    },
    {
     "name": "stdout",
     "output_type": "stream",
     "text": [
      "Error processing Processed Recordings\\Bubo_virginianus_mount_orab_ohio_760068_segment_2.wav: operands could not be broadcast together with shapes (500,) (168,) \n"
     ]
    },
    {
     "name": "stderr",
     "output_type": "stream",
     "text": [
      "Processing files:   8%|▊         | 922/12120 [05:56<1:19:28,  2.35it/s]c:\\Users\\16148\\anaconda3\\envs\\dev\\lib\\site-packages\\librosa\\core\\spectrum.py:266: UserWarning: n_fft=2048 is too large for input signal of length=483\n",
      "  warnings.warn(\n",
      "Processing files:   8%|▊         | 939/12120 [06:03<1:15:14,  2.48it/s]c:\\Users\\16148\\anaconda3\\envs\\dev\\lib\\site-packages\\librosa\\core\\spectrum.py:266: UserWarning: n_fft=2048 is too large for input signal of length=1950\n",
      "  warnings.warn(\n",
      "Processing files:   8%|▊         | 980/12120 [06:18<1:29:40,  2.07it/s]c:\\Users\\16148\\anaconda3\\envs\\dev\\lib\\site-packages\\librosa\\core\\spectrum.py:266: UserWarning: n_fft=2048 is too large for input signal of length=1410\n",
      "  warnings.warn(\n",
      "Processing files:   9%|▉         | 1075/12120 [06:54<1:03:51,  2.88it/s]c:\\Users\\16148\\anaconda3\\envs\\dev\\lib\\site-packages\\librosa\\core\\spectrum.py:266: UserWarning: n_fft=2048 is too large for input signal of length=190\n",
      "  warnings.warn(\n",
      "Processing files:  11%|█         | 1323/12120 [08:34<59:15,  3.04it/s]  "
     ]
    },
    {
     "name": "stdout",
     "output_type": "stream",
     "text": [
      "Error processing Processed Recordings\\Melanerpes_carolinus_Miami_Whitewater_Forest_Park_wetlands_Crosby_Township_near__Harrison_Hamilton_County_Ohio_687174_segment_5.wav: operands could not be broadcast together with shapes (500,) (291,) \n"
     ]
    },
    {
     "name": "stderr",
     "output_type": "stream",
     "text": [
      "Processing files:  11%|█▏        | 1366/12120 [08:52<1:17:07,  2.32it/s]c:\\Users\\16148\\anaconda3\\envs\\dev\\lib\\site-packages\\librosa\\core\\spectrum.py:266: UserWarning: n_fft=2048 is too large for input signal of length=492\n",
      "  warnings.warn(\n",
      "Processing files:  11%|█▏        | 1367/12120 [08:52<1:07:05,  2.67it/s]"
     ]
    },
    {
     "name": "stdout",
     "output_type": "stream",
     "text": [
      "Error processing Processed Recordings\\Melanerpes_carolinus_Wegerzyn_garden_near__Dayton_Montgomery_County_Ohio_807218_segment_35.wav: operands could not be broadcast together with shapes (500,) (462,) \n"
     ]
    },
    {
     "name": "stderr",
     "output_type": "stream",
     "text": [
      "Processing files:  12%|█▏        | 1408/12120 [09:07<47:37,  3.75it/s]  "
     ]
    },
    {
     "name": "stdout",
     "output_type": "stream",
     "text": [
      "Error processing Processed Recordings\\Melanerpes_carolinus_Harrison_Township_near__Harrison_Hamilton_County_Ohio_691526_segment_5.wav: operands could not be broadcast together with shapes (1000,) (570,) \n"
     ]
    },
    {
     "name": "stderr",
     "output_type": "stream",
     "text": [
      "Processing files:  12%|█▏        | 1486/12120 [09:37<56:00,  3.16it/s]  "
     ]
    },
    {
     "name": "stdout",
     "output_type": "stream",
     "text": [
      "Error processing Processed Recordings\\Dryobates_pubescens_Point_Pelee_National_Park_near__Wheatley_Essex_County_Ontario_803584_segment_6.wav: operands could not be broadcast together with shapes (1000,) (641,) \n"
     ]
    },
    {
     "name": "stderr",
     "output_type": "stream",
     "text": [
      "Processing files:  14%|█▎        | 1663/12120 [12:38<4:26:07,  1.53s/it]c:\\Users\\16148\\anaconda3\\envs\\dev\\lib\\site-packages\\librosa\\core\\spectrum.py:266: UserWarning: n_fft=2048 is too large for input signal of length=1273\n",
      "  warnings.warn(\n",
      "Processing files:  14%|█▍        | 1679/12120 [13:16<5:11:03,  1.79s/it] c:\\Users\\16148\\anaconda3\\envs\\dev\\lib\\site-packages\\librosa\\core\\spectrum.py:266: UserWarning: n_fft=2048 is too large for input signal of length=540\n",
      "  warnings.warn(\n",
      "Processing files:  14%|█▍        | 1680/12120 [13:17<4:33:56,  1.57s/it]"
     ]
    },
    {
     "name": "stdout",
     "output_type": "stream",
     "text": [
      "Error processing Processed Recordings\\Sayornis_phoebe_Harrison_Township_near__Harrison_Hamilton_County_Ohio_713591_segment_9.wav: operands could not be broadcast together with shapes (1000,) (557,) \n"
     ]
    },
    {
     "name": "stderr",
     "output_type": "stream",
     "text": [
      "Processing files:  14%|█▍        | 1687/12120 [13:26<3:30:10,  1.21s/it]c:\\Users\\16148\\anaconda3\\envs\\dev\\lib\\site-packages\\librosa\\core\\spectrum.py:266: UserWarning: n_fft=2048 is too large for input signal of length=1133\n",
      "  warnings.warn(\n",
      "Processing files:  15%|█▍        | 1770/12120 [15:09<4:15:30,  1.48s/it] c:\\Users\\16148\\anaconda3\\envs\\dev\\lib\\site-packages\\librosa\\core\\spectrum.py:266: UserWarning: n_fft=2048 is too large for input signal of length=1044\n",
      "  warnings.warn(\n",
      "Processing files:  15%|█▍        | 1771/12120 [15:10<3:26:22,  1.20s/it]"
     ]
    },
    {
     "name": "stdout",
     "output_type": "stream",
     "text": [
      "Error processing Processed Recordings\\Contopus_virens_Harrison_Township_near__Harrison_Hamilton_County_Ohio_726814_segment_1.wav: operands could not be broadcast together with shapes (1000,) (985,) \n"
     ]
    },
    {
     "name": "stderr",
     "output_type": "stream",
     "text": [
      "Processing files:  15%|█▌        | 1834/12120 [16:33<3:01:14,  1.06s/it]"
     ]
    },
    {
     "name": "stdout",
     "output_type": "stream",
     "text": [
      "Error processing Processed Recordings\\Contopus_virens_Whitewater_Township_near__Cleves_Hamilton_County_Ohio_928711_segment_4.wav: operands could not be broadcast together with shapes (1000,) (615,) \n"
     ]
    },
    {
     "name": "stderr",
     "output_type": "stream",
     "text": [
      "Processing files:  16%|█▌        | 1882/12120 [17:49<7:28:14,  2.63s/it]c:\\Users\\16148\\anaconda3\\envs\\dev\\lib\\site-packages\\librosa\\core\\spectrum.py:266: UserWarning: n_fft=2048 is too large for input signal of length=1249\n",
      "  warnings.warn(\n",
      "c:\\Users\\16148\\anaconda3\\envs\\dev\\lib\\site-packages\\librosa\\core\\spectrum.py:266: UserWarning: n_fft=2048 is too large for input signal of length=1348\n",
      "  warnings.warn(\n",
      "Processing files:  16%|█▋        | 1986/12120 [20:14<4:24:46,  1.57s/it]c:\\Users\\16148\\anaconda3\\envs\\dev\\lib\\site-packages\\librosa\\core\\spectrum.py:266: UserWarning: n_fft=2048 is too large for input signal of length=1794\n",
      "  warnings.warn(\n",
      "c:\\Users\\16148\\anaconda3\\envs\\dev\\lib\\site-packages\\librosa\\core\\spectrum.py:266: UserWarning: n_fft=2048 is too large for input signal of length=1768\n",
      "  warnings.warn(\n",
      "Processing files:  17%|█▋        | 2021/12120 [21:02<3:33:22,  1.27s/it]"
     ]
    },
    {
     "name": "stdout",
     "output_type": "stream",
     "text": [
      "Error processing Processed Recordings\\Empidonax_traillii_Franklin_Township_near__Wooster_Wayne_County_Ohio_418568_segment_5.wav: operands could not be broadcast together with shapes (500,) (422,) \n"
     ]
    },
    {
     "name": "stderr",
     "output_type": "stream",
     "text": [
      "Processing files:  17%|█▋        | 2067/12120 [22:12<2:43:54,  1.02it/s]"
     ]
    },
    {
     "name": "stdout",
     "output_type": "stream",
     "text": [
      "Error processing Processed Recordings\\Empidonax_traillii_Magee_Marsh_Ohio_298575_segment_36.wav: operands could not be broadcast together with shapes (1000,) (710,) \n"
     ]
    },
    {
     "name": "stderr",
     "output_type": "stream",
     "text": [
      "Processing files:  18%|█▊        | 2157/12120 [22:47<1:19:25,  2.09it/s]c:\\Users\\16148\\anaconda3\\envs\\dev\\lib\\site-packages\\librosa\\core\\spectrum.py:266: UserWarning: n_fft=2048 is too large for input signal of length=1022\n",
      "  warnings.warn(\n",
      "Processing files:  18%|█▊        | 2160/12120 [22:48<1:00:14,  2.76it/s]c:\\Users\\16148\\anaconda3\\envs\\dev\\lib\\site-packages\\librosa\\core\\spectrum.py:266: UserWarning: n_fft=2048 is too large for input signal of length=1551\n",
      "  warnings.warn(\n",
      "Processing files:  18%|█▊        | 2199/12120 [23:03<1:05:55,  2.51it/s]c:\\Users\\16148\\anaconda3\\envs\\dev\\lib\\site-packages\\librosa\\core\\spectrum.py:266: UserWarning: n_fft=2048 is too large for input signal of length=1364\n",
      "  warnings.warn(\n",
      "c:\\Users\\16148\\anaconda3\\envs\\dev\\lib\\site-packages\\librosa\\core\\spectrum.py:266: UserWarning: n_fft=2048 is too large for input signal of length=1444\n",
      "  warnings.warn(\n",
      "Processing files:  19%|█▉        | 2304/12120 [23:44<1:09:07,  2.37it/s]c:\\Users\\16148\\anaconda3\\envs\\dev\\lib\\site-packages\\librosa\\core\\spectrum.py:266: UserWarning: n_fft=2048 is too large for input signal of length=1505\n",
      "  warnings.warn(\n",
      "Processing files:  20%|█▉        | 2397/12120 [24:17<49:55,  3.25it/s]  c:\\Users\\16148\\anaconda3\\envs\\dev\\lib\\site-packages\\librosa\\core\\spectrum.py:266: UserWarning: n_fft=2048 is too large for input signal of length=1604\n",
      "  warnings.warn(\n",
      "Processing files:  20%|██        | 2426/12120 [24:28<1:05:49,  2.45it/s]c:\\Users\\16148\\anaconda3\\envs\\dev\\lib\\site-packages\\librosa\\core\\spectrum.py:266: UserWarning: n_fft=2048 is too large for input signal of length=318\n",
      "  warnings.warn(\n"
     ]
    },
    {
     "name": "stdout",
     "output_type": "stream",
     "text": [
      "Error processing Processed Recordings\\Vireo_gilvus_Benton_Township_near__Rocky_Ridge_Ottawa_County_Ohio_902984_segment_4.wav: operands could not be broadcast together with shapes (500,) (282,) \n"
     ]
    },
    {
     "name": "stderr",
     "output_type": "stream",
     "text": [
      "Processing files:  20%|██        | 2477/12120 [24:47<53:45,  2.99it/s]  c:\\Users\\16148\\anaconda3\\envs\\dev\\lib\\site-packages\\librosa\\core\\spectrum.py:266: UserWarning: n_fft=2048 is too large for input signal of length=1727\n",
      "  warnings.warn(\n",
      "c:\\Users\\16148\\anaconda3\\envs\\dev\\lib\\site-packages\\librosa\\core\\spectrum.py:266: UserWarning: n_fft=2048 is too large for input signal of length=1960\n",
      "  warnings.warn(\n",
      "Processing files:  21%|██        | 2501/12120 [24:55<55:08,  2.91it/s]  "
     ]
    },
    {
     "name": "stdout",
     "output_type": "stream",
     "text": [
      "Error processing Processed Recordings\\Vireo_gilvus_Magee_Marsh_-_boardwalk_Lucas_County_Ohio_827588_segment_6.wav: operands could not be broadcast together with shapes (1000,) (558,) \n"
     ]
    },
    {
     "name": "stderr",
     "output_type": "stream",
     "text": [
      "Processing files:  21%|██        | 2545/12120 [25:11<1:00:21,  2.64it/s]c:\\Users\\16148\\anaconda3\\envs\\dev\\lib\\site-packages\\librosa\\core\\spectrum.py:266: UserWarning: n_fft=2048 is too large for input signal of length=593\n",
      "  warnings.warn(\n",
      "Processing files:  21%|██        | 2554/12120 [25:14<57:40,  2.76it/s]  c:\\Users\\16148\\anaconda3\\envs\\dev\\lib\\site-packages\\librosa\\core\\spectrum.py:266: UserWarning: n_fft=2048 is too large for input signal of length=2024\n",
      "  warnings.warn(\n",
      "Processing files:  22%|██▏       | 2622/12120 [25:40<54:01,  2.93it/s]  c:\\Users\\16148\\anaconda3\\envs\\dev\\lib\\site-packages\\librosa\\core\\spectrum.py:266: UserWarning: n_fft=2048 is too large for input signal of length=1837\n",
      "  warnings.warn(\n",
      "Processing files:  22%|██▏       | 2683/12120 [26:03<58:26,  2.69it/s]  c:\\Users\\16148\\anaconda3\\envs\\dev\\lib\\site-packages\\librosa\\core\\spectrum.py:266: UserWarning: n_fft=2048 is too large for input signal of length=966\n",
      "  warnings.warn(\n",
      "Processing files:  23%|██▎       | 2778/12120 [26:40<59:33,  2.61it/s]  c:\\Users\\16148\\anaconda3\\envs\\dev\\lib\\site-packages\\librosa\\core\\spectrum.py:266: UserWarning: n_fft=2048 is too large for input signal of length=694\n",
      "  warnings.warn(\n",
      "Processing files:  23%|██▎       | 2785/12120 [26:42<58:03,  2.68it/s]c:\\Users\\16148\\anaconda3\\envs\\dev\\lib\\site-packages\\librosa\\core\\spectrum.py:266: UserWarning: n_fft=2048 is too large for input signal of length=648\n",
      "  warnings.warn(\n",
      "Processing files:  23%|██▎       | 2809/12120 [26:51<47:12,  3.29it/s]  c:\\Users\\16148\\anaconda3\\envs\\dev\\lib\\site-packages\\librosa\\core\\spectrum.py:266: UserWarning: n_fft=2048 is too large for input signal of length=838\n",
      "  warnings.warn(\n",
      "Processing files:  24%|██▍       | 2894/12120 [27:24<1:23:45,  1.84it/s]"
     ]
    },
    {
     "name": "stdout",
     "output_type": "stream",
     "text": [
      "Error processing Processed Recordings\\Vireo_bellii_Heritage_Rail-Trail_South_of_Hayden_Run_Rd_~200m_south_of_mile_marker_2_across_from_nest_box_#10_103570_segment_19.wav: operands could not be broadcast together with shapes (1000,) (763,) \n"
     ]
    },
    {
     "name": "stderr",
     "output_type": "stream",
     "text": [
      "Processing files:  24%|██▍       | 2918/12120 [27:32<1:00:29,  2.54it/s]c:\\Users\\16148\\anaconda3\\envs\\dev\\lib\\site-packages\\librosa\\core\\spectrum.py:266: UserWarning: n_fft=2048 is too large for input signal of length=1282\n",
      "  warnings.warn(\n",
      "Processing files:  24%|██▍       | 2934/12120 [27:37<48:25,  3.16it/s]  c:\\Users\\16148\\anaconda3\\envs\\dev\\lib\\site-packages\\librosa\\core\\spectrum.py:266: UserWarning: n_fft=2048 is too large for input signal of length=694\n",
      "  warnings.warn(\n"
     ]
    },
    {
     "name": "stdout",
     "output_type": "stream",
     "text": [
      "Error processing Processed Recordings\\Vireo_bellii_Heritage_Rail-Trail_South_of_Hayden_Run_Rd_~200m_south_of_mile_marker_2_across_from_nest_box_#10_103570_segment_59.wav: operands could not be broadcast together with shapes (1000,) (640,) \n"
     ]
    },
    {
     "name": "stderr",
     "output_type": "stream",
     "text": [
      "Processing files:  24%|██▍       | 2938/12120 [27:39<45:19,  3.38it/s]c:\\Users\\16148\\anaconda3\\envs\\dev\\lib\\site-packages\\librosa\\core\\spectrum.py:266: UserWarning: n_fft=2048 is too large for input signal of length=1232\n",
      "  warnings.warn(\n",
      "Processing files:  24%|██▍       | 2943/12120 [27:40<46:33,  3.28it/s]c:\\Users\\16148\\anaconda3\\envs\\dev\\lib\\site-packages\\librosa\\core\\spectrum.py:266: UserWarning: n_fft=2048 is too large for input signal of length=1963\n",
      "  warnings.warn(\n",
      "Processing files:  25%|██▍       | 3021/12120 [28:09<46:14,  3.28it/s]  "
     ]
    },
    {
     "name": "stdout",
     "output_type": "stream",
     "text": [
      "Error processing Processed Recordings\\Cyanocitta_cristata_Green_Township_near__Cincinnati_Hamilton_County_Ohio_672963_segment_2.wav: operands could not be broadcast together with shapes (1000,) (797,) \n"
     ]
    },
    {
     "name": "stderr",
     "output_type": "stream",
     "text": [
      "Processing files:  26%|██▌       | 3103/12120 [28:40<50:15,  2.99it/s]  c:\\Users\\16148\\anaconda3\\envs\\dev\\lib\\site-packages\\librosa\\core\\spectrum.py:266: UserWarning: n_fft=2048 is too large for input signal of length=1766\n",
      "  warnings.warn(\n",
      "Processing files:  26%|██▌       | 3139/12120 [28:54<56:23,  2.65it/s]  c:\\Users\\16148\\anaconda3\\envs\\dev\\lib\\site-packages\\librosa\\core\\spectrum.py:266: UserWarning: n_fft=2048 is too large for input signal of length=1060\n",
      "  warnings.warn(\n",
      "c:\\Users\\16148\\anaconda3\\envs\\dev\\lib\\site-packages\\librosa\\core\\spectrum.py:266: UserWarning: n_fft=2048 is too large for input signal of length=992\n",
      "  warnings.warn(\n",
      "Processing files:  26%|██▌       | 3140/12120 [28:55<55:10,  2.71it/s]"
     ]
    },
    {
     "name": "stdout",
     "output_type": "stream",
     "text": [
      "Error processing Processed Recordings\\Corvus_ossifragus_Howe_Ave_@_Jared__Cuyahoga_Falls_Summit_County_Ohio_398409_segment_0.wav: operands could not be broadcast together with shapes (1000,) (998,) \n"
     ]
    },
    {
     "name": "stderr",
     "output_type": "stream",
     "text": [
      "Processing files:  26%|██▌       | 3154/12120 [29:02<1:06:32,  2.25it/s]c:\\Users\\16148\\anaconda3\\envs\\dev\\lib\\site-packages\\librosa\\core\\spectrum.py:266: UserWarning: n_fft=2048 is too large for input signal of length=700\n",
      "  warnings.warn(\n",
      "Processing files:  26%|██▌       | 3155/12120 [29:02<57:16,  2.61it/s]  "
     ]
    },
    {
     "name": "stdout",
     "output_type": "stream",
     "text": [
      "Error processing Processed Recordings\\Baeolophus_bicolor_Harrison_Township_near__Harrison_Hamilton_County_Ohio_807495_segment_5.wav: operands could not be broadcast together with shapes (1000,) (776,) \n"
     ]
    },
    {
     "name": "stderr",
     "output_type": "stream",
     "text": [
      "Processing files:  26%|██▌       | 3158/12120 [29:03<52:34,  2.84it/s]c:\\Users\\16148\\anaconda3\\envs\\dev\\lib\\site-packages\\librosa\\core\\spectrum.py:266: UserWarning: n_fft=2048 is too large for input signal of length=159\n",
      "  warnings.warn(\n",
      "Processing files:  26%|██▌       | 3177/12120 [29:10<47:59,  3.11it/s]  "
     ]
    },
    {
     "name": "stdout",
     "output_type": "stream",
     "text": [
      "Error processing Processed Recordings\\Baeolophus_bicolor_Miami_Township_near__Cleves_Hamilton_County_Ohio_713584_segment_17.wav: operands could not be broadcast together with shapes (1000,) (563,) \n"
     ]
    },
    {
     "name": "stderr",
     "output_type": "stream",
     "text": [
      "Processing files:  27%|██▋       | 3239/12120 [29:35<46:45,  3.17it/s]  c:\\Users\\16148\\anaconda3\\envs\\dev\\lib\\site-packages\\librosa\\core\\spectrum.py:266: UserWarning: n_fft=2048 is too large for input signal of length=76\n",
      "  warnings.warn(\n",
      "c:\\Users\\16148\\anaconda3\\envs\\dev\\lib\\site-packages\\librosa\\core\\spectrum.py:266: UserWarning: n_fft=2048 is too large for input signal of length=83\n",
      "  warnings.warn(\n"
     ]
    },
    {
     "name": "stdout",
     "output_type": "stream",
     "text": [
      "Error processing Processed Recordings\\Baeolophus_bicolor_Beachwood_Cuyahoga_County_Ohio_287347_segment_2.wav: operands could not be broadcast together with shapes (500,) (80,) \n"
     ]
    },
    {
     "name": "stderr",
     "output_type": "stream",
     "text": [
      "Processing files:  27%|██▋       | 3312/12120 [30:04<1:04:05,  2.29it/s]c:\\Users\\16148\\anaconda3\\envs\\dev\\lib\\site-packages\\librosa\\core\\spectrum.py:266: UserWarning: n_fft=2048 is too large for input signal of length=1842\n",
      "  warnings.warn(\n",
      "Processing files:  28%|██▊       | 3400/12120 [30:39<47:53,  3.03it/s]  c:\\Users\\16148\\anaconda3\\envs\\dev\\lib\\site-packages\\librosa\\core\\spectrum.py:266: UserWarning: n_fft=2048 is too large for input signal of length=399\n",
      "  warnings.warn(\n",
      "c:\\Users\\16148\\anaconda3\\envs\\dev\\lib\\site-packages\\librosa\\core\\spectrum.py:266: UserWarning: n_fft=2048 is too large for input signal of length=413\n",
      "  warnings.warn(\n"
     ]
    },
    {
     "name": "stdout",
     "output_type": "stream",
     "text": [
      "Error processing Processed Recordings\\Poecile_carolinensis_Lawrence_Woods_SNP_417997_segment_3.wav: operands could not be broadcast together with shapes (500,) (404,) \n"
     ]
    },
    {
     "name": "stderr",
     "output_type": "stream",
     "text": [
      "Processing files:  28%|██▊       | 3415/12120 [30:45<1:02:22,  2.33it/s]c:\\Users\\16148\\anaconda3\\envs\\dev\\lib\\site-packages\\librosa\\core\\spectrum.py:266: UserWarning: n_fft=2048 is too large for input signal of length=602\n",
      "  warnings.warn(\n",
      "Processing files:  29%|██▊       | 3480/12120 [31:49<3:41:55,  1.54s/it]c:\\Users\\16148\\anaconda3\\envs\\dev\\lib\\site-packages\\librosa\\core\\spectrum.py:266: UserWarning: n_fft=2048 is too large for input signal of length=1646\n",
      "  warnings.warn(\n",
      "Processing files:  29%|██▊       | 3481/12120 [31:49<3:16:06,  1.36s/it]"
     ]
    },
    {
     "name": "stdout",
     "output_type": "stream",
     "text": [
      "Error processing Processed Recordings\\Poecile_atricapillus_Magee_Marsh_-_boardwalk_Lucas_County_Ohio_814911_segment_69.wav: operands could not be broadcast together with shapes (1000,) (901,) \n"
     ]
    },
    {
     "name": "stderr",
     "output_type": "stream",
     "text": [
      "Processing files:  29%|██▊       | 3482/12120 [31:51<3:10:33,  1.32s/it]"
     ]
    },
    {
     "name": "stdout",
     "output_type": "stream",
     "text": [
      "Error processing Processed Recordings\\Poecile_atricapillus_Magee_Marsh_-_boardwalk_Lucas_County_Ohio_814911_segment_70.wav: operands could not be broadcast together with shapes (1000,) (630,) \n"
     ]
    },
    {
     "name": "stderr",
     "output_type": "stream",
     "text": [
      "Processing files:  29%|██▉       | 3551/12120 [33:41<4:08:45,  1.74s/it] "
     ]
    },
    {
     "name": "stdout",
     "output_type": "stream",
     "text": [
      "Error processing Processed Recordings\\Eremophila_alpestris_Michigan_Monroe_County_16969_segment_2.wav: operands could not be broadcast together with shapes (1000,) (542,) \n"
     ]
    },
    {
     "name": "stderr",
     "output_type": "stream",
     "text": [
      "Processing files:  29%|██▉       | 3558/12120 [33:53<4:12:48,  1.77s/it]c:\\Users\\16148\\anaconda3\\envs\\dev\\lib\\site-packages\\librosa\\core\\spectrum.py:266: UserWarning: n_fft=2048 is too large for input signal of length=1924\n",
      "  warnings.warn(\n",
      "Processing files:  30%|██▉       | 3576/12120 [34:16<2:54:51,  1.23s/it]c:\\Users\\16148\\anaconda3\\envs\\dev\\lib\\site-packages\\librosa\\core\\spectrum.py:266: UserWarning: n_fft=2048 is too large for input signal of length=506\n",
      "  warnings.warn(\n",
      "Processing files:  30%|███       | 3665/12120 [36:21<2:17:26,  1.03it/s]c:\\Users\\16148\\anaconda3\\envs\\dev\\lib\\site-packages\\librosa\\core\\spectrum.py:266: UserWarning: n_fft=2048 is too large for input signal of length=973\n",
      "  warnings.warn(\n",
      "Processing files:  30%|███       | 3666/12120 [36:22<1:56:33,  1.21it/s]"
     ]
    },
    {
     "name": "stdout",
     "output_type": "stream",
     "text": [
      "Error processing Processed Recordings\\Tachycineta_bicolor_Magee_Marsh_-_boardwalk_Lucas_County_Ohio_827054_segment_78.wav: operands could not be broadcast together with shapes (1000,) (904,) \n"
     ]
    },
    {
     "name": "stderr",
     "output_type": "stream",
     "text": [
      "Processing files:  31%|███       | 3784/12120 [38:53<51:25,  2.70it/s]   c:\\Users\\16148\\anaconda3\\envs\\dev\\lib\\site-packages\\librosa\\core\\spectrum.py:266: UserWarning: n_fft=2048 is too large for input signal of length=4\n",
      "  warnings.warn(\n",
      "Processing files:  32%|███▏      | 3846/12120 [39:38<57:46,  2.39it/s]  c:\\Users\\16148\\anaconda3\\envs\\dev\\lib\\site-packages\\librosa\\core\\spectrum.py:266: UserWarning: n_fft=2048 is too large for input signal of length=693\n",
      "  warnings.warn(\n",
      "Processing files:  32%|███▏      | 3847/12120 [39:38<46:00,  3.00it/s]"
     ]
    },
    {
     "name": "stdout",
     "output_type": "stream",
     "text": [
      "Error processing Processed Recordings\\Progne_subis_Whitewater_Township_near__Cleves_Hamilton_County_Ohio_817716_segment_14.wav: operands could not be broadcast together with shapes (1000,) (713,) \n"
     ]
    },
    {
     "name": "stderr",
     "output_type": "stream",
     "text": [
      "Processing files:  32%|███▏      | 3912/12120 [40:03<39:31,  3.46it/s]  "
     ]
    },
    {
     "name": "stdout",
     "output_type": "stream",
     "text": [
      "Error processing Processed Recordings\\Cistothorus_palustris_Jerusalem_Township_near__Bono_Lucas_County_Ohio_784047_segment_10.wav: operands could not be broadcast together with shapes (1000,) (621,) \n"
     ]
    },
    {
     "name": "stderr",
     "output_type": "stream",
     "text": [
      "Processing files:  33%|███▎      | 3981/12120 [40:30<50:48,  2.67it/s]  c:\\Users\\16148\\anaconda3\\envs\\dev\\lib\\site-packages\\librosa\\core\\spectrum.py:266: UserWarning: n_fft=2048 is too large for input signal of length=641\n",
      "  warnings.warn(\n",
      "Processing files:  33%|███▎      | 3982/12120 [40:30<43:26,  3.12it/s]"
     ]
    },
    {
     "name": "stdout",
     "output_type": "stream",
     "text": [
      "Error processing Processed Recordings\\Cistothorus_palustris_Ohio_Ottawa_NWR_178295_segment_20.wav: operands could not be broadcast together with shapes (1000,) (629,) \n"
     ]
    },
    {
     "name": "stderr",
     "output_type": "stream",
     "text": [
      "Processing files:  33%|███▎      | 4020/12120 [40:44<50:46,  2.66it/s]c:\\Users\\16148\\anaconda3\\envs\\dev\\lib\\site-packages\\librosa\\core\\spectrum.py:266: UserWarning: n_fft=2048 is too large for input signal of length=1066\n",
      "  warnings.warn(\n",
      "Processing files:  33%|███▎      | 4039/12120 [40:53<58:54,  2.29it/s]  c:\\Users\\16148\\anaconda3\\envs\\dev\\lib\\site-packages\\librosa\\core\\spectrum.py:266: UserWarning: n_fft=2048 is too large for input signal of length=631\n",
      "  warnings.warn(\n",
      "Processing files:  34%|███▍      | 4126/12120 [42:11<1:39:54,  1.33it/s]"
     ]
    },
    {
     "name": "stdout",
     "output_type": "stream",
     "text": [
      "Error processing Processed Recordings\\Thryothorus_ludovicianus_Anderson_Township_near__Cincinnati_Hamilton_County_Ohio_542519_segment_3.wav: operands could not be broadcast together with shapes (500,) (51,) \n"
     ]
    },
    {
     "name": "stderr",
     "output_type": "stream",
     "text": [
      "Processing files:  35%|███▍      | 4204/12120 [43:18<1:42:44,  1.28it/s]c:\\Users\\16148\\anaconda3\\envs\\dev\\lib\\site-packages\\librosa\\core\\spectrum.py:266: UserWarning: n_fft=2048 is too large for input signal of length=1259\n",
      "  warnings.warn(\n",
      "Processing files:  35%|███▌      | 4259/12120 [44:09<1:42:12,  1.28it/s]c:\\Users\\16148\\anaconda3\\envs\\dev\\lib\\site-packages\\librosa\\core\\spectrum.py:266: UserWarning: n_fft=2048 is too large for input signal of length=697\n",
      "  warnings.warn(\n",
      "c:\\Users\\16148\\anaconda3\\envs\\dev\\lib\\site-packages\\librosa\\core\\spectrum.py:266: UserWarning: n_fft=2048 is too large for input signal of length=743\n",
      "  warnings.warn(\n",
      "Processing files:  35%|███▌      | 4260/12120 [44:09<1:16:46,  1.71it/s]"
     ]
    },
    {
     "name": "stdout",
     "output_type": "stream",
     "text": [
      "Error processing Processed Recordings\\Troglodytes_aedon_Green_Township_near__Cincinnati_Hamilton_County_Ohio_726630_segment_12.wav: operands could not be broadcast together with shapes (1000,) (765,) \n"
     ]
    },
    {
     "name": "stderr",
     "output_type": "stream",
     "text": [
      "Processing files:  37%|███▋      | 4424/12120 [46:58<1:34:32,  1.36it/s]c:\\Users\\16148\\anaconda3\\envs\\dev\\lib\\site-packages\\librosa\\core\\spectrum.py:266: UserWarning: n_fft=2048 is too large for input signal of length=67\n",
      "  warnings.warn(\n",
      "Processing files:  37%|███▋      | 4425/12120 [46:58<1:13:10,  1.75it/s]"
     ]
    },
    {
     "name": "stdout",
     "output_type": "stream",
     "text": [
      "Error processing Processed Recordings\\Troglodytes_aedon_Ohio_Crane_Creek_SP_17052_segment_4.wav: operands could not be broadcast together with shapes (500,) (58,) \n"
     ]
    },
    {
     "name": "stderr",
     "output_type": "stream",
     "text": [
      "Processing files:  38%|███▊      | 4557/12120 [49:16<1:34:45,  1.33it/s]c:\\Users\\16148\\anaconda3\\envs\\dev\\lib\\site-packages\\librosa\\core\\spectrum.py:266: UserWarning: n_fft=2048 is too large for input signal of length=464\n",
      "  warnings.warn(\n",
      "Processing files:  38%|███▊      | 4558/12120 [49:16<1:11:53,  1.75it/s]"
     ]
    },
    {
     "name": "stdout",
     "output_type": "stream",
     "text": [
      "Error processing Processed Recordings\\Polioptila_caerulea_Magee_Marsh_-_boardwalk_Lucas_County_Ohio_816237_segment_15.wav: operands could not be broadcast together with shapes (1000,) (957,) \n",
      "Error processing Processed Recordings\\Polioptila_caerulea_Magee_Marsh_-_boardwalk_Lucas_County_Ohio_816237_segment_16.wav: operands could not be broadcast together with shapes (1000,) (536,) \n"
     ]
    },
    {
     "name": "stderr",
     "output_type": "stream",
     "text": [
      "Processing files:  38%|███▊      | 4627/12120 [50:22<1:34:40,  1.32it/s]"
     ]
    },
    {
     "name": "stdout",
     "output_type": "stream",
     "text": [
      "Error processing Processed Recordings\\Polioptila_caerulea_Miami_Township_near__Cleves_Hamilton_County_Ohio_645807_segment_1.wav: operands could not be broadcast together with shapes (1000,) (595,) \n"
     ]
    },
    {
     "name": "stderr",
     "output_type": "stream",
     "text": [
      "Processing files:  39%|███▉      | 4720/12120 [51:57<1:33:59,  1.31it/s]c:\\Users\\16148\\anaconda3\\envs\\dev\\lib\\site-packages\\librosa\\core\\spectrum.py:266: UserWarning: n_fft=2048 is too large for input signal of length=888\n",
      "  warnings.warn(\n",
      "Processing files:  40%|███▉      | 4843/12120 [53:51<1:12:01,  1.68it/s]"
     ]
    },
    {
     "name": "stdout",
     "output_type": "stream",
     "text": [
      "Error processing Processed Recordings\\Sitta_carolinensis_Harrison_Township_near__Harrison_Hamilton_County_Ohio_807181_segment_38.wav: operands could not be broadcast together with shapes (1000,) (650,) \n"
     ]
    },
    {
     "name": "stderr",
     "output_type": "stream",
     "text": [
      "Processing files:  41%|████      | 4956/12120 [55:34<1:47:39,  1.11it/s]c:\\Users\\16148\\anaconda3\\envs\\dev\\lib\\site-packages\\librosa\\core\\spectrum.py:266: UserWarning: n_fft=2048 is too large for input signal of length=291\n",
      "  warnings.warn(\n",
      "Processing files:  41%|████      | 4957/12120 [55:35<1:47:53,  1.11it/s]"
     ]
    },
    {
     "name": "stdout",
     "output_type": "stream",
     "text": [
      "Error processing Processed Recordings\\Dumetella_carolinensis_Magee_Marsh_-_boardwalk_Lucas_County_Ohio_814891_segment_17.wav: operands could not be broadcast together with shapes (500,) (313,) \n"
     ]
    },
    {
     "name": "stderr",
     "output_type": "stream",
     "text": [
      "Processing files:  41%|████▏     | 5027/12120 [56:36<1:25:09,  1.39it/s]"
     ]
    },
    {
     "name": "stdout",
     "output_type": "stream",
     "text": [
      "Error processing Processed Recordings\\Dumetella_carolinensis_Magee_Marsh_-_boardwalk_Lucas_County_Ohio_814888_segment_18.wav: operands could not be broadcast together with shapes (1000,) (737,) \n"
     ]
    },
    {
     "name": "stderr",
     "output_type": "stream",
     "text": [
      "Processing files:  42%|████▏     | 5108/12120 [57:40<47:54,  2.44it/s]  c:\\Users\\16148\\anaconda3\\envs\\dev\\lib\\site-packages\\librosa\\core\\spectrum.py:266: UserWarning: n_fft=2048 is too large for input signal of length=492\n",
      "  warnings.warn(\n",
      "Processing files:  42%|████▏     | 5109/12120 [57:41<43:56,  2.66it/s]"
     ]
    },
    {
     "name": "stdout",
     "output_type": "stream",
     "text": [
      "Error processing Processed Recordings\\Dumetella_carolinensis_Lawrence_Woods_SNP_477577_segment_5.wav: operands could not be broadcast together with shapes (500,) (443,) \n"
     ]
    },
    {
     "name": "stderr",
     "output_type": "stream",
     "text": [
      "Processing files:  43%|████▎     | 5164/12120 [58:36<2:38:44,  1.37s/it]"
     ]
    },
    {
     "name": "stdout",
     "output_type": "stream",
     "text": [
      "Error processing Processed Recordings\\Dumetella_carolinensis_Sheldon_Marsh_State_Nature_Preserve_723020_segment_7.wav: operands could not be broadcast together with shapes (1000,) (507,) \n"
     ]
    },
    {
     "name": "stderr",
     "output_type": "stream",
     "text": [
      "Processing files:  43%|████▎     | 5188/12120 [59:07<1:58:27,  1.03s/it]c:\\Users\\16148\\anaconda3\\envs\\dev\\lib\\site-packages\\librosa\\core\\spectrum.py:266: UserWarning: n_fft=2048 is too large for input signal of length=413\n",
      "  warnings.warn(\n",
      "c:\\Users\\16148\\anaconda3\\envs\\dev\\lib\\site-packages\\librosa\\core\\spectrum.py:266: UserWarning: n_fft=2048 is too large for input signal of length=442\n",
      "  warnings.warn(\n",
      "Processing files:  43%|████▎     | 5189/12120 [59:07<1:33:45,  1.23it/s]"
     ]
    },
    {
     "name": "stdout",
     "output_type": "stream",
     "text": [
      "Error processing Processed Recordings\\Dumetella_carolinensis_Magee_Marsh_boardwalk_west_end_262807_segment_1.wav: operands could not be broadcast together with shapes (500,) (475,) \n"
     ]
    },
    {
     "name": "stderr",
     "output_type": "stream",
     "text": [
      "Processing files:  43%|████▎     | 5220/12120 [59:21<1:08:52,  1.67it/s]c:\\Users\\16148\\anaconda3\\envs\\dev\\lib\\site-packages\\librosa\\core\\spectrum.py:266: UserWarning: n_fft=2048 is too large for input signal of length=114\n",
      "  warnings.warn(\n",
      "Processing files:  44%|████▍     | 5318/12120 [1:01:11<1:51:06,  1.02it/s]"
     ]
    },
    {
     "name": "stdout",
     "output_type": "stream",
     "text": [
      "Error processing Processed Recordings\\Mimus_polyglottos_Green_Township_near__Cincinnati_Hamilton_County_Ohio_807536_segment_29.wav: operands could not be broadcast together with shapes (1000,) (526,) \n"
     ]
    },
    {
     "name": "stderr",
     "output_type": "stream",
     "text": [
      "Processing files:  44%|████▍     | 5375/12120 [1:02:54<2:19:43,  1.24s/it] "
     ]
    },
    {
     "name": "stdout",
     "output_type": "stream",
     "text": [
      "Error processing Processed Recordings\\Mimus_polyglottos_Cincinnati_Hamilton_County_Ohio_677295_segment_25.wav: operands could not be broadcast together with shapes (1000,) (927,) \n"
     ]
    },
    {
     "name": "stderr",
     "output_type": "stream",
     "text": [
      "Processing files:  44%|████▍     | 5388/12120 [1:03:12<2:43:07,  1.45s/it]"
     ]
    },
    {
     "name": "stdout",
     "output_type": "stream",
     "text": [
      "Error processing Processed Recordings\\Mimus_polyglottos_Cincinnati_Hamilton_County_Ohio_677295_segment_38.wav: operands could not be broadcast together with shapes (500,) (448,) \n"
     ]
    },
    {
     "name": "stderr",
     "output_type": "stream",
     "text": [
      "Processing files:  45%|████▍     | 5395/12120 [1:03:21<2:04:55,  1.11s/it]c:\\Users\\16148\\anaconda3\\envs\\dev\\lib\\site-packages\\librosa\\core\\spectrum.py:266: UserWarning: n_fft=2048 is too large for input signal of length=1976\n",
      "  warnings.warn(\n",
      "Processing files:  45%|████▍     | 5397/12120 [1:03:22<1:32:49,  1.21it/s]c:\\Users\\16148\\anaconda3\\envs\\dev\\lib\\site-packages\\librosa\\core\\spectrum.py:266: UserWarning: n_fft=2048 is too large for input signal of length=1726\n",
      "  warnings.warn(\n",
      "Processing files:  45%|████▌     | 5460/12120 [1:04:50<2:43:57,  1.48s/it]c:\\Users\\16148\\anaconda3\\envs\\dev\\lib\\site-packages\\librosa\\core\\spectrum.py:266: UserWarning: n_fft=2048 is too large for input signal of length=217\n",
      "  warnings.warn(\n",
      "Processing files:  45%|████▌     | 5503/12120 [1:05:43<47:50,  2.30it/s]  c:\\Users\\16148\\anaconda3\\envs\\dev\\lib\\site-packages\\librosa\\core\\spectrum.py:266: UserWarning: n_fft=2048 is too large for input signal of length=1470\n",
      "  warnings.warn(\n",
      "Processing files:  46%|████▌     | 5537/12120 [1:05:56<43:49,  2.50it/s]"
     ]
    },
    {
     "name": "stdout",
     "output_type": "stream",
     "text": [
      "Error processing Processed Recordings\\Mimus_polyglottos_Dunham_Recreation_Complex_near__Cincinnati_Hamilton_County_Ohio_646400_segment_107.wav: operands could not be broadcast together with shapes (500,) (375,) \n"
     ]
    },
    {
     "name": "stderr",
     "output_type": "stream",
     "text": [
      "Processing files:  46%|████▌     | 5585/12120 [1:06:15<42:51,  2.54it/s]c:\\Users\\16148\\anaconda3\\envs\\dev\\lib\\site-packages\\librosa\\core\\spectrum.py:266: UserWarning: n_fft=2048 is too large for input signal of length=1583\n",
      "  warnings.warn(\n",
      "Processing files:  46%|████▌     | 5590/12120 [1:06:17<41:36,  2.62it/s]c:\\Users\\16148\\anaconda3\\envs\\dev\\lib\\site-packages\\librosa\\core\\spectrum.py:266: UserWarning: n_fft=2048 is too large for input signal of length=806\n",
      "  warnings.warn(\n",
      "c:\\Users\\16148\\anaconda3\\envs\\dev\\lib\\site-packages\\librosa\\core\\spectrum.py:266: UserWarning: n_fft=2048 is too large for input signal of length=828\n",
      "  warnings.warn(\n"
     ]
    },
    {
     "name": "stdout",
     "output_type": "stream",
     "text": [
      "Error processing Processed Recordings\\Toxostoma_rufum_Hanover_Township_Licking_County_Ohio_893646_segment_51.wav: operands could not be broadcast together with shapes (1000,) (764,) \n"
     ]
    },
    {
     "name": "stderr",
     "output_type": "stream",
     "text": [
      "Processing files:  46%|████▌     | 5603/12120 [1:06:22<37:45,  2.88it/s]c:\\Users\\16148\\anaconda3\\envs\\dev\\lib\\site-packages\\librosa\\core\\spectrum.py:266: UserWarning: n_fft=2048 is too large for input signal of length=348\n",
      "  warnings.warn(\n"
     ]
    },
    {
     "name": "stdout",
     "output_type": "stream",
     "text": [
      "Error processing Processed Recordings\\Toxostoma_rufum_Hanover_Township_Licking_County_Ohio_893646_segment_64.wav: operands could not be broadcast together with shapes (500,) (330,) \n"
     ]
    },
    {
     "name": "stderr",
     "output_type": "stream",
     "text": [
      "Processing files:  46%|████▋     | 5607/12120 [1:06:31<4:30:22,  2.49s/it]c:\\Users\\16148\\anaconda3\\envs\\dev\\lib\\site-packages\\librosa\\core\\spectrum.py:266: UserWarning: n_fft=2048 is too large for input signal of length=1372\n",
      "  warnings.warn(\n",
      "Processing files:  47%|████▋     | 5701/12120 [1:07:27<47:57,  2.23it/s]  "
     ]
    },
    {
     "name": "stdout",
     "output_type": "stream",
     "text": [
      "Error processing Processed Recordings\\Toxostoma_rufum_Ross_Township_near__Hamilton_Butler_County_Ohio_632519_segment_2.wav: operands could not be broadcast together with shapes (500,) (41,) \n"
     ]
    },
    {
     "name": "stderr",
     "output_type": "stream",
     "text": [
      "Processing files:  47%|████▋     | 5706/12120 [1:07:29<41:45,  2.56it/s]c:\\Users\\16148\\anaconda3\\envs\\dev\\lib\\site-packages\\librosa\\core\\spectrum.py:266: UserWarning: n_fft=2048 is too large for input signal of length=742\n",
      "  warnings.warn(\n",
      "Processing files:  47%|████▋     | 5732/12120 [1:07:39<44:00,  2.42it/s]c:\\Users\\16148\\anaconda3\\envs\\dev\\lib\\site-packages\\librosa\\core\\spectrum.py:266: UserWarning: n_fft=2048 is too large for input signal of length=1539\n",
      "  warnings.warn(\n",
      "Processing files:  47%|████▋     | 5746/12120 [1:07:45<53:08,  2.00it/s]c:\\Users\\16148\\anaconda3\\envs\\dev\\lib\\site-packages\\librosa\\core\\spectrum.py:266: UserWarning: n_fft=2048 is too large for input signal of length=1518\n",
      "  warnings.warn(\n",
      "Processing files:  48%|████▊     | 5775/12120 [1:08:02<1:50:38,  1.05s/it]"
     ]
    },
    {
     "name": "stdout",
     "output_type": "stream",
     "text": [
      "Error processing Processed Recordings\\Toxostoma_rufum_Virginia_Kendall_Lake_Peninsula_Summit_County_Ohio_412205_segment_18.wav: operands could not be broadcast together with shapes (1000,) (953,) \n"
     ]
    },
    {
     "name": "stderr",
     "output_type": "stream",
     "text": [
      "Processing files:  48%|████▊     | 5842/12120 [1:08:48<36:47,  2.84it/s]  c:\\Users\\16148\\anaconda3\\envs\\dev\\lib\\site-packages\\librosa\\core\\spectrum.py:266: UserWarning: n_fft=2048 is too large for input signal of length=965\n",
      "  warnings.warn(\n",
      "Processing files:  48%|████▊     | 5868/12120 [1:08:57<33:42,  3.09it/s]"
     ]
    },
    {
     "name": "stdout",
     "output_type": "stream",
     "text": [
      "Error processing Processed Recordings\\Hylocichla_mustelina_Packer-Hammersmith_Center_near__Oregon_Lucas_County_Ohio_784058_segment_59.wav: operands could not be broadcast together with shapes (500,) (111,) \n"
     ]
    },
    {
     "name": "stderr",
     "output_type": "stream",
     "text": [
      "Processing files:  49%|████▉     | 5945/12120 [1:10:00<4:35:24,  2.68s/it]c:\\Users\\16148\\anaconda3\\envs\\dev\\lib\\site-packages\\librosa\\core\\spectrum.py:266: UserWarning: n_fft=2048 is too large for input signal of length=1042\n",
      "  warnings.warn(\n",
      "Processing files:  49%|████▉     | 5963/12120 [1:10:31<2:36:31,  1.53s/it]c:\\Users\\16148\\anaconda3\\envs\\dev\\lib\\site-packages\\librosa\\core\\spectrum.py:266: UserWarning: n_fft=2048 is too large for input signal of length=1964\n",
      "  warnings.warn(\n",
      "Processing files:  50%|████▉     | 6001/12120 [1:11:22<40:05,  2.54it/s]  c:\\Users\\16148\\anaconda3\\envs\\dev\\lib\\site-packages\\librosa\\core\\spectrum.py:266: UserWarning: n_fft=2048 is too large for input signal of length=684\n",
      "  warnings.warn(\n"
     ]
    },
    {
     "name": "stdout",
     "output_type": "stream",
     "text": [
      "Error processing Processed Recordings\\Hylocichla_mustelina_Michigan_Monroe_County_16970_segment_5.wav: operands could not be broadcast together with shapes (1000,) (634,) \n"
     ]
    },
    {
     "name": "stderr",
     "output_type": "stream",
     "text": [
      "Processing files:  50%|█████     | 6084/12120 [1:11:57<41:09,  2.44it/s]c:\\Users\\16148\\anaconda3\\envs\\dev\\lib\\site-packages\\librosa\\core\\spectrum.py:266: UserWarning: n_fft=2048 is too large for input signal of length=1119\n",
      "  warnings.warn(\n",
      "Processing files:  50%|█████     | 6085/12120 [1:11:57<33:59,  2.96it/s]"
     ]
    },
    {
     "name": "stdout",
     "output_type": "stream",
     "text": [
      "Error processing Processed Recordings\\Turdus_migratorius_Harrison_Township_near__Harrison_Hamilton_County_Ohio_728269_segment_6.wav: operands could not be broadcast together with shapes (1000,) (964,) \n"
     ]
    },
    {
     "name": "stderr",
     "output_type": "stream",
     "text": [
      "Processing files:  50%|█████     | 6117/12120 [1:12:10<43:26,  2.30it/s]c:\\Users\\16148\\anaconda3\\envs\\dev\\lib\\site-packages\\librosa\\core\\spectrum.py:266: UserWarning: n_fft=2048 is too large for input signal of length=1961\n",
      "  warnings.warn(\n",
      "Processing files:  51%|█████     | 6136/12120 [1:12:17<42:42,  2.34it/s]c:\\Users\\16148\\anaconda3\\envs\\dev\\lib\\site-packages\\librosa\\core\\spectrum.py:266: UserWarning: n_fft=2048 is too large for input signal of length=1699\n",
      "  warnings.warn(\n",
      "Processing files:  51%|█████     | 6161/12120 [1:12:28<36:39,  2.71it/s]c:\\Users\\16148\\anaconda3\\envs\\dev\\lib\\site-packages\\librosa\\core\\spectrum.py:266: UserWarning: n_fft=2048 is too large for input signal of length=1444\n",
      "  warnings.warn(\n",
      "Processing files:  51%|█████     | 6163/12120 [1:12:28<29:18,  3.39it/s]"
     ]
    },
    {
     "name": "stdout",
     "output_type": "stream",
     "text": [
      "Error processing Processed Recordings\\Turdus_migratorius_Bricker_Blvd_near_Cranbrook_Elementary_Columbus_OH_103571_segment_17.wav: operands could not be broadcast together with shapes (500,) (66,) \n"
     ]
    },
    {
     "name": "stderr",
     "output_type": "stream",
     "text": [
      "Processing files:  51%|█████     | 6211/12120 [1:12:47<40:38,  2.42it/s]c:\\Users\\16148\\anaconda3\\envs\\dev\\lib\\site-packages\\librosa\\core\\spectrum.py:266: UserWarning: n_fft=2048 is too large for input signal of length=1585\n",
      "  warnings.warn(\n",
      "Processing files:  51%|█████▏    | 6220/12120 [1:12:51<52:16,  1.88it/s]c:\\Users\\16148\\anaconda3\\envs\\dev\\lib\\site-packages\\librosa\\core\\spectrum.py:266: UserWarning: n_fft=2048 is too large for input signal of length=515\n",
      "  warnings.warn(\n",
      "Processing files:  52%|█████▏    | 6280/12120 [1:13:16<39:40,  2.45it/s]c:\\Users\\16148\\anaconda3\\envs\\dev\\lib\\site-packages\\librosa\\core\\spectrum.py:266: UserWarning: n_fft=2048 is too large for input signal of length=1427\n",
      "  warnings.warn(\n",
      "Processing files:  52%|█████▏    | 6318/12120 [1:13:31<49:44,  1.94it/s]c:\\Users\\16148\\anaconda3\\envs\\dev\\lib\\site-packages\\librosa\\core\\spectrum.py:266: UserWarning: n_fft=2048 is too large for input signal of length=1422\n",
      "  warnings.warn(\n",
      "Processing files:  52%|█████▏    | 6327/12120 [1:13:35<34:25,  2.80it/s]c:\\Users\\16148\\anaconda3\\envs\\dev\\lib\\site-packages\\librosa\\core\\spectrum.py:266: UserWarning: n_fft=2048 is too large for input signal of length=1584\n",
      "  warnings.warn(\n",
      "Processing files:  53%|█████▎    | 6369/12120 [1:13:52<28:09,  3.40it/s]"
     ]
    },
    {
     "name": "stdout",
     "output_type": "stream",
     "text": [
      "Error processing Processed Recordings\\Spizella_passerina_Miami_Township_near__Cleves_Hamilton_County_Ohio_645554_segment_28.wav: operands could not be broadcast together with shapes (1000,) (800,) \n"
     ]
    },
    {
     "name": "stderr",
     "output_type": "stream",
     "text": [
      "Processing files:  54%|█████▎    | 6496/12120 [1:16:35<2:17:15,  1.46s/it]c:\\Users\\16148\\anaconda3\\envs\\dev\\lib\\site-packages\\librosa\\core\\spectrum.py:266: UserWarning: n_fft=2048 is too large for input signal of length=1584\n",
      "  warnings.warn(\n",
      "Processing files:  54%|█████▍    | 6582/12120 [1:18:56<1:36:34,  1.05s/it]c:\\Users\\16148\\anaconda3\\envs\\dev\\lib\\site-packages\\librosa\\core\\spectrum.py:266: UserWarning: n_fft=2048 is too large for input signal of length=94\n",
      "  warnings.warn(\n",
      "Processing files:  54%|█████▍    | 6583/12120 [1:18:57<1:21:48,  1.13it/s]"
     ]
    },
    {
     "name": "stdout",
     "output_type": "stream",
     "text": [
      "Error processing Processed Recordings\\Spizella_pusilla_Marseilles_Township_near__Upper_Sandusky_Wyandot_County_Ohio_637645_segment_16.wav: operands could not be broadcast together with shapes (500,) (94,) \n"
     ]
    },
    {
     "name": "stderr",
     "output_type": "stream",
     "text": [
      "Processing files:  55%|█████▍    | 6625/12120 [1:19:58<2:11:10,  1.43s/it]c:\\Users\\16148\\anaconda3\\envs\\dev\\lib\\site-packages\\librosa\\core\\spectrum.py:266: UserWarning: n_fft=2048 is too large for input signal of length=521\n",
      "  warnings.warn(\n",
      "Processing files:  55%|█████▍    | 6626/12120 [1:19:59<1:57:55,  1.29s/it]"
     ]
    },
    {
     "name": "stdout",
     "output_type": "stream",
     "text": [
      "Error processing Processed Recordings\\Spizella_pusilla_Michigan_Monroe_County_16986_segment_21.wav: operands could not be broadcast together with shapes (1000,) (526,) \n"
     ]
    },
    {
     "name": "stderr",
     "output_type": "stream",
     "text": [
      "Processing files:  55%|█████▌    | 6688/12120 [1:21:44<2:12:26,  1.46s/it]c:\\Users\\16148\\anaconda3\\envs\\dev\\lib\\site-packages\\librosa\\core\\spectrum.py:266: UserWarning: n_fft=2048 is too large for input signal of length=314\n",
      "  warnings.warn(\n"
     ]
    },
    {
     "name": "stdout",
     "output_type": "stream",
     "text": [
      "Error processing Processed Recordings\\Pooecetes_gramineus_Michigan_Monroe_County_17095_segment_8.wav: operands could not be broadcast together with shapes (500,) (301,) \n"
     ]
    },
    {
     "name": "stderr",
     "output_type": "stream",
     "text": [
      "Processing files:  55%|█████▌    | 6695/12120 [1:21:51<1:39:43,  1.10s/it]"
     ]
    },
    {
     "name": "stdout",
     "output_type": "stream",
     "text": [
      "Error processing Processed Recordings\\Pooecetes_gramineus_Michigan_Monroe_County_16978_segment_5.wav: operands could not be broadcast together with shapes (500,) (266,) \n"
     ]
    },
    {
     "name": "stderr",
     "output_type": "stream",
     "text": [
      "Processing files:  56%|█████▌    | 6746/12120 [1:23:13<1:55:58,  1.29s/it]c:\\Users\\16148\\anaconda3\\envs\\dev\\lib\\site-packages\\librosa\\core\\spectrum.py:266: UserWarning: n_fft=2048 is too large for input signal of length=1957\n",
      "  warnings.warn(\n",
      "Processing files:  56%|█████▌    | 6763/12120 [1:23:34<51:37,  1.73it/s]  c:\\Users\\16148\\anaconda3\\envs\\dev\\lib\\site-packages\\librosa\\core\\spectrum.py:266: UserWarning: n_fft=2048 is too large for input signal of length=1757\n",
      "  warnings.warn(\n",
      "Processing files:  56%|█████▌    | 6815/12120 [1:23:53<29:01,  3.05it/s]c:\\Users\\16148\\anaconda3\\envs\\dev\\lib\\site-packages\\librosa\\core\\spectrum.py:266: UserWarning: n_fft=2048 is too large for input signal of length=1652\n",
      "  warnings.warn(\n",
      "Processing files:  57%|█████▋    | 6868/12120 [1:24:13<44:01,  1.99it/s]  c:\\Users\\16148\\anaconda3\\envs\\dev\\lib\\site-packages\\librosa\\core\\spectrum.py:266: UserWarning: n_fft=2048 is too large for input signal of length=1661\n",
      "  warnings.warn(\n",
      "Processing files:  57%|█████▋    | 6908/12120 [1:24:28<25:51,  3.36it/s]c:\\Users\\16148\\anaconda3\\envs\\dev\\lib\\site-packages\\librosa\\core\\spectrum.py:266: UserWarning: n_fft=2048 is too large for input signal of length=104\n",
      "  warnings.warn(\n",
      "c:\\Users\\16148\\anaconda3\\envs\\dev\\lib\\site-packages\\librosa\\core\\spectrum.py:266: UserWarning: n_fft=2048 is too large for input signal of length=110\n",
      "  warnings.warn(\n",
      "Processing files:  57%|█████▋    | 6909/12120 [1:24:28<23:07,  3.75it/s]"
     ]
    },
    {
     "name": "stdout",
     "output_type": "stream",
     "text": [
      "Error processing Processed Recordings\\Pipilo_erythrophthalmus_Edge_of_Appalachia_Preserve_Adams_Cty_Ohio_939170_segment_6.wav: operands could not be broadcast together with shapes (500,) (134,) \n"
     ]
    },
    {
     "name": "stderr",
     "output_type": "stream",
     "text": [
      "Processing files:  58%|█████▊    | 7062/12120 [1:25:26<29:22,  2.87it/s]c:\\Users\\16148\\anaconda3\\envs\\dev\\lib\\site-packages\\librosa\\core\\spectrum.py:266: UserWarning: n_fft=2048 is too large for input signal of length=1126\n",
      "  warnings.warn(\n",
      "Processing files:  59%|█████▊    | 7110/12120 [1:25:45<35:30,  2.35it/s]c:\\Users\\16148\\anaconda3\\envs\\dev\\lib\\site-packages\\librosa\\core\\spectrum.py:266: UserWarning: n_fft=2048 is too large for input signal of length=703\n",
      "  warnings.warn(\n",
      "Processing files:  59%|█████▊    | 7111/12120 [1:25:46<38:32,  2.17it/s]"
     ]
    },
    {
     "name": "stdout",
     "output_type": "stream",
     "text": [
      "Error processing Processed Recordings\\Icteria_virens_Miami_Township_near__Cleves_Hamilton_County_Ohio_807580_segment_32.wav: operands could not be broadcast together with shapes (1000,) (733,) \n"
     ]
    },
    {
     "name": "stderr",
     "output_type": "stream",
     "text": [
      "Processing files:  59%|█████▉    | 7167/12120 [1:26:07<23:58,  3.44it/s]"
     ]
    },
    {
     "name": "stdout",
     "output_type": "stream",
     "text": [
      "Error processing Processed Recordings\\Sturnella_magna_Voice_of_America_MetroPark_near__Middletown_Butler_County_Ohio_643650_segment_4.wav: operands could not be broadcast together with shapes (1000,) (985,) \n"
     ]
    },
    {
     "name": "stderr",
     "output_type": "stream",
     "text": [
      "Processing files:  59%|█████▉    | 7189/12120 [1:26:15<29:46,  2.76it/s]c:\\Users\\16148\\anaconda3\\envs\\dev\\lib\\site-packages\\librosa\\core\\spectrum.py:266: UserWarning: n_fft=2048 is too large for input signal of length=959\n",
      "  warnings.warn(\n",
      "Processing files:  59%|█████▉    | 7190/12120 [1:26:15<25:06,  3.27it/s]"
     ]
    },
    {
     "name": "stdout",
     "output_type": "stream",
     "text": [
      "Error processing Processed Recordings\\Icterus_galbula_Magee_Marsh_-_boardwalk_Lucas_County_Ohio_820108_segment_15.wav: operands could not be broadcast together with shapes (1000,) (869,) \n"
     ]
    },
    {
     "name": "stderr",
     "output_type": "stream",
     "text": [
      "Processing files:  60%|█████▉    | 7212/12120 [1:26:23<27:33,  2.97it/s]c:\\Users\\16148\\anaconda3\\envs\\dev\\lib\\site-packages\\librosa\\core\\spectrum.py:266: UserWarning: n_fft=2048 is too large for input signal of length=1333\n",
      "  warnings.warn(\n",
      "c:\\Users\\16148\\anaconda3\\envs\\dev\\lib\\site-packages\\librosa\\core\\spectrum.py:266: UserWarning: n_fft=2048 is too large for input signal of length=1406\n",
      "  warnings.warn(\n",
      "Processing files:  60%|█████▉    | 7256/12120 [1:26:40<30:07,  2.69it/s]c:\\Users\\16148\\anaconda3\\envs\\dev\\lib\\site-packages\\librosa\\core\\spectrum.py:266: UserWarning: n_fft=2048 is too large for input signal of length=859\n",
      "  warnings.warn(\n",
      "Processing files:  61%|██████    | 7383/12120 [1:27:27<34:45,  2.27it/s]c:\\Users\\16148\\anaconda3\\envs\\dev\\lib\\site-packages\\librosa\\core\\spectrum.py:266: UserWarning: n_fft=2048 is too large for input signal of length=1373\n",
      "  warnings.warn(\n",
      "Processing files:  61%|██████    | 7395/12120 [1:27:31<28:39,  2.75it/s]c:\\Users\\16148\\anaconda3\\envs\\dev\\lib\\site-packages\\librosa\\core\\spectrum.py:266: UserWarning: n_fft=2048 is too large for input signal of length=1907\n",
      "  warnings.warn(\n",
      "Processing files:  61%|██████    | 7409/12120 [1:27:36<26:47,  2.93it/s]"
     ]
    },
    {
     "name": "stdout",
     "output_type": "stream",
     "text": [
      "Error processing Processed Recordings\\Icterus_galbula_Magee_Marsh_-_boardwalk_Lucas_County_Ohio_818926_segment_47.wav: operands could not be broadcast together with shapes (1000,) (752,) \n"
     ]
    },
    {
     "name": "stderr",
     "output_type": "stream",
     "text": [
      "Processing files:  62%|██████▏   | 7478/12120 [1:28:02<24:15,  3.19it/s]c:\\Users\\16148\\anaconda3\\envs\\dev\\lib\\site-packages\\librosa\\core\\spectrum.py:266: UserWarning: n_fft=2048 is too large for input signal of length=724\n",
      "  warnings.warn(\n"
     ]
    },
    {
     "name": "stdout",
     "output_type": "stream",
     "text": [
      "Error processing Processed Recordings\\Icterus_galbula_Tanager_Meadow_Reservable_Shelter_near__Harrison_Hamilton_County_Ohio_807347_segment_1.wav: operands could not be broadcast together with shapes (1000,) (700,) \n"
     ]
    },
    {
     "name": "stderr",
     "output_type": "stream",
     "text": [
      "Processing files:  62%|██████▏   | 7562/12120 [1:28:33<22:21,  3.40it/s]c:\\Users\\16148\\anaconda3\\envs\\dev\\lib\\site-packages\\librosa\\core\\spectrum.py:266: UserWarning: n_fft=2048 is too large for input signal of length=1226\n",
      "  warnings.warn(\n",
      "Processing files:  63%|██████▎   | 7693/12120 [1:29:20<29:33,  2.50it/s]c:\\Users\\16148\\anaconda3\\envs\\dev\\lib\\site-packages\\librosa\\core\\spectrum.py:266: UserWarning: n_fft=2048 is too large for input signal of length=1828\n",
      "  warnings.warn(\n",
      "Processing files:  63%|██████▎   | 7694/12120 [1:29:20<25:44,  2.87it/s]c:\\Users\\16148\\anaconda3\\envs\\dev\\lib\\site-packages\\librosa\\core\\spectrum.py:266: UserWarning: n_fft=2048 is too large for input signal of length=774\n",
      "  warnings.warn(\n",
      "Processing files:  64%|██████▎   | 7716/12120 [1:29:28<30:21,  2.42it/s]c:\\Users\\16148\\anaconda3\\envs\\dev\\lib\\site-packages\\librosa\\core\\spectrum.py:266: UserWarning: n_fft=2048 is too large for input signal of length=520\n",
      "  warnings.warn(\n",
      "Processing files:  64%|██████▎   | 7718/12120 [1:29:29<20:46,  3.53it/s]"
     ]
    },
    {
     "name": "stdout",
     "output_type": "stream",
     "text": [
      "Error processing Processed Recordings\\Icterus_spurius_Heritage_Trail_Metro_Park_Hayden_Run_Rd_parking_area_103502_segment_33.wav: operands could not be broadcast together with shapes (1000,) (564,) \n"
     ]
    },
    {
     "name": "stderr",
     "output_type": "stream",
     "text": [
      "Processing files:  64%|██████▍   | 7783/12120 [1:29:53<30:17,  2.39it/s]c:\\Users\\16148\\anaconda3\\envs\\dev\\lib\\site-packages\\librosa\\core\\spectrum.py:266: UserWarning: n_fft=2048 is too large for input signal of length=1939\n",
      "  warnings.warn(\n",
      "Processing files:  65%|██████▍   | 7819/12120 [1:30:07<26:19,  2.72it/s]"
     ]
    },
    {
     "name": "stdout",
     "output_type": "stream",
     "text": [
      "Error processing Processed Recordings\\Agelaius_phoeniceus_Magee_Marsh_-_boardwalk_Lucas_County_Ohio_814755_segment_56.wav: operands could not be broadcast together with shapes (500,) (17,) \n"
     ]
    },
    {
     "name": "stderr",
     "output_type": "stream",
     "text": [
      "Processing files:  65%|██████▍   | 7832/12120 [1:30:12<24:34,  2.91it/s]c:\\Users\\16148\\anaconda3\\envs\\dev\\lib\\site-packages\\librosa\\core\\spectrum.py:266: UserWarning: n_fft=2048 is too large for input signal of length=1197\n",
      "  warnings.warn(\n",
      "Processing files:  65%|██████▍   | 7857/12120 [1:30:22<28:18,  2.51it/s]"
     ]
    },
    {
     "name": "stdout",
     "output_type": "stream",
     "text": [
      "Error processing Processed Recordings\\Agelaius_phoeniceus_Magee_Marsh_-_boardwalk_Lucas_County_Ohio_814755_segment_95.wav: operands could not be broadcast together with shapes (1000,) (771,) \n"
     ]
    },
    {
     "name": "stderr",
     "output_type": "stream",
     "text": [
      "Processing files:  65%|██████▍   | 7864/12120 [1:30:24<29:47,  2.38it/s]c:\\Users\\16148\\anaconda3\\envs\\dev\\lib\\site-packages\\librosa\\core\\spectrum.py:266: UserWarning: n_fft=2048 is too large for input signal of length=529\n",
      "  warnings.warn(\n",
      "Processing files:  65%|██████▌   | 7903/12120 [1:30:39<20:05,  3.50it/s]"
     ]
    },
    {
     "name": "stdout",
     "output_type": "stream",
     "text": [
      "Error processing Processed Recordings\\Agelaius_phoeniceus_Magee_Marsh_-_boardwalk_Lucas_County_Ohio_814755_segment_140.wav: operands could not be broadcast together with shapes (1000,) (509,) \n"
     ]
    },
    {
     "name": "stderr",
     "output_type": "stream",
     "text": [
      "Processing files:  66%|██████▌   | 8017/12120 [1:31:20<18:39,  3.67it/s]c:\\Users\\16148\\anaconda3\\envs\\dev\\lib\\site-packages\\librosa\\core\\spectrum.py:266: UserWarning: n_fft=2048 is too large for input signal of length=504\n",
      "  warnings.warn(\n",
      "Processing files:  66%|██████▌   | 8018/12120 [1:31:20<17:43,  3.86it/s]"
     ]
    },
    {
     "name": "stdout",
     "output_type": "stream",
     "text": [
      "Error processing Processed Recordings\\Agelaius_phoeniceus_Wegerzyn_garden_near__Dayton_Montgomery_County_Ohio_807222_segment_0.wav: operands could not be broadcast together with shapes (1000,) (516,) \n"
     ]
    },
    {
     "name": "stderr",
     "output_type": "stream",
     "text": [
      "Processing files:  67%|██████▋   | 8067/12120 [1:31:38<23:58,  2.82it/s]c:\\Users\\16148\\anaconda3\\envs\\dev\\lib\\site-packages\\librosa\\core\\spectrum.py:266: UserWarning: n_fft=2048 is too large for input signal of length=1209\n",
      "  warnings.warn(\n",
      "c:\\Users\\16148\\anaconda3\\envs\\dev\\lib\\site-packages\\librosa\\core\\spectrum.py:266: UserWarning: n_fft=2048 is too large for input signal of length=1459\n",
      "  warnings.warn(\n",
      "Processing files:  67%|██████▋   | 8089/12120 [1:31:46<19:25,  3.46it/s]"
     ]
    },
    {
     "name": "stdout",
     "output_type": "stream",
     "text": [
      "Error processing Processed Recordings\\Agelaius_phoeniceus_Battelle_Darby_Metro_Park_-_Wetlands_417853_segment_3.wav: operands could not be broadcast together with shapes (500,) (387,) \n"
     ]
    },
    {
     "name": "stderr",
     "output_type": "stream",
     "text": [
      "Processing files:  67%|██████▋   | 8110/12120 [1:31:54<25:05,  2.66it/s]c:\\Users\\16148\\anaconda3\\envs\\dev\\lib\\site-packages\\librosa\\core\\spectrum.py:266: UserWarning: n_fft=2048 is too large for input signal of length=747\n",
      "  warnings.warn(\n",
      "c:\\Users\\16148\\anaconda3\\envs\\dev\\lib\\site-packages\\librosa\\core\\spectrum.py:266: UserWarning: n_fft=2048 is too large for input signal of length=682\n",
      "  warnings.warn(\n",
      "Processing files:  67%|██████▋   | 8158/12120 [1:32:12<32:03,  2.06it/s]c:\\Users\\16148\\anaconda3\\envs\\dev\\lib\\site-packages\\librosa\\core\\spectrum.py:266: UserWarning: n_fft=2048 is too large for input signal of length=443\n",
      "  warnings.warn(\n",
      "Processing files:  68%|██████▊   | 8212/12120 [1:32:32<26:11,  2.49it/s]c:\\Users\\16148\\anaconda3\\envs\\dev\\lib\\site-packages\\librosa\\core\\spectrum.py:266: UserWarning: n_fft=2048 is too large for input signal of length=427\n",
      "  warnings.warn(\n",
      "c:\\Users\\16148\\anaconda3\\envs\\dev\\lib\\site-packages\\librosa\\core\\spectrum.py:266: UserWarning: n_fft=2048 is too large for input signal of length=423\n",
      "  warnings.warn(\n",
      "Processing files:  69%|██████▊   | 8312/12120 [1:33:12<21:55,  2.90it/s]c:\\Users\\16148\\anaconda3\\envs\\dev\\lib\\site-packages\\librosa\\core\\spectrum.py:266: UserWarning: n_fft=2048 is too large for input signal of length=1921\n",
      "  warnings.warn(\n",
      "Processing files:  69%|██████▉   | 8333/12120 [1:33:21<26:45,  2.36it/s]c:\\Users\\16148\\anaconda3\\envs\\dev\\lib\\site-packages\\librosa\\core\\spectrum.py:266: UserWarning: n_fft=2048 is too large for input signal of length=1656\n",
      "  warnings.warn(\n",
      "Processing files:  70%|██████▉   | 8425/12120 [1:33:56<26:57,  2.28it/s]c:\\Users\\16148\\anaconda3\\envs\\dev\\lib\\site-packages\\librosa\\core\\spectrum.py:266: UserWarning: n_fft=2048 is too large for input signal of length=1790\n",
      "  warnings.warn(\n",
      "Processing files:  70%|██████▉   | 8451/12120 [1:34:06<22:14,  2.75it/s]c:\\Users\\16148\\anaconda3\\envs\\dev\\lib\\site-packages\\librosa\\core\\spectrum.py:266: UserWarning: n_fft=2048 is too large for input signal of length=540\n",
      "  warnings.warn(\n",
      "Processing files:  70%|██████▉   | 8452/12120 [1:34:06<21:12,  2.88it/s]"
     ]
    },
    {
     "name": "stdout",
     "output_type": "stream",
     "text": [
      "Error processing Processed Recordings\\Parkesia_motacilla_Harrison_Township_near__Harrison_Hamilton_County_Ohio_805820_segment_15.wav: operands could not be broadcast together with shapes (1000,) (514,) \n"
     ]
    },
    {
     "name": "stderr",
     "output_type": "stream",
     "text": [
      "Processing files:  70%|██████▉   | 8455/12120 [1:34:07<27:38,  2.21it/s]c:\\Users\\16148\\anaconda3\\envs\\dev\\lib\\site-packages\\librosa\\core\\spectrum.py:266: UserWarning: n_fft=2048 is too large for input signal of length=90\n",
      "  warnings.warn(\n",
      "Processing files:  70%|███████   | 8500/12120 [1:34:23<15:18,  3.94it/s]"
     ]
    },
    {
     "name": "stdout",
     "output_type": "stream",
     "text": [
      "Error processing Processed Recordings\\Parkesia_motacilla_Harrison_Township_near__Harrison_Hamilton_County_Ohio_714922_segment_45.wav: operands could not be broadcast together with shapes (1000,) (782,) \n"
     ]
    },
    {
     "name": "stderr",
     "output_type": "stream",
     "text": [
      "Processing files:  70%|███████   | 8528/12120 [1:34:34<22:01,  2.72it/s]c:\\Users\\16148\\anaconda3\\envs\\dev\\lib\\site-packages\\librosa\\core\\spectrum.py:266: UserWarning: n_fft=2048 is too large for input signal of length=977\n",
      "  warnings.warn(\n",
      "Processing files:  71%|███████   | 8577/12120 [1:34:53<24:08,  2.45it/s]c:\\Users\\16148\\anaconda3\\envs\\dev\\lib\\site-packages\\librosa\\core\\spectrum.py:266: UserWarning: n_fft=2048 is too large for input signal of length=1737\n",
      "  warnings.warn(\n",
      "Processing files:  72%|███████▏  | 8781/12120 [1:36:11<22:43,  2.45it/s]c:\\Users\\16148\\anaconda3\\envs\\dev\\lib\\site-packages\\librosa\\core\\spectrum.py:266: UserWarning: n_fft=2048 is too large for input signal of length=914\n",
      "  warnings.warn(\n",
      "Processing files:  73%|███████▎  | 8811/12120 [1:36:21<23:19,  2.36it/s]c:\\Users\\16148\\anaconda3\\envs\\dev\\lib\\site-packages\\librosa\\core\\spectrum.py:266: UserWarning: n_fft=2048 is too large for input signal of length=1030\n",
      "  warnings.warn(\n",
      "Processing files:  73%|███████▎  | 8887/12120 [1:36:53<26:30,  2.03it/s]"
     ]
    },
    {
     "name": "stdout",
     "output_type": "stream",
     "text": [
      "Error processing Processed Recordings\\Mniotilta_varia_Ohio_Crane_Creek_SP_17015_segment_5.wav: operands could not be broadcast together with shapes (500,) (128,) \n"
     ]
    },
    {
     "name": "stderr",
     "output_type": "stream",
     "text": [
      "Processing files:  74%|███████▍  | 8952/12120 [1:37:19<23:56,  2.21it/s]c:\\Users\\16148\\anaconda3\\envs\\dev\\lib\\site-packages\\librosa\\core\\spectrum.py:266: UserWarning: n_fft=2048 is too large for input signal of length=1800\n",
      "  warnings.warn(\n",
      "Processing files:  74%|███████▍  | 9012/12120 [1:37:43<19:58,  2.59it/s]c:\\Users\\16148\\anaconda3\\envs\\dev\\lib\\site-packages\\librosa\\core\\spectrum.py:266: UserWarning: n_fft=2048 is too large for input signal of length=1556\n",
      "  warnings.warn(\n",
      "Processing files:  74%|███████▍  | 9020/12120 [1:37:45<18:43,  2.76it/s]c:\\Users\\16148\\anaconda3\\envs\\dev\\lib\\site-packages\\librosa\\core\\spectrum.py:266: UserWarning: n_fft=2048 is too large for input signal of length=2042\n",
      "  warnings.warn(\n",
      "c:\\Users\\16148\\anaconda3\\envs\\dev\\lib\\site-packages\\librosa\\core\\spectrum.py:266: UserWarning: n_fft=2048 is too large for input signal of length=1981\n",
      "  warnings.warn(\n",
      "Processing files:  75%|███████▍  | 9040/12120 [1:37:54<21:28,  2.39it/s]"
     ]
    },
    {
     "name": "stdout",
     "output_type": "stream",
     "text": [
      "Error processing Processed Recordings\\Protonotaria_citrea_Pelee_near__Leamington_Essex_County_Ontario_476998_segment_1.wav: operands could not be broadcast together with shapes (1000,) (741,) \n"
     ]
    },
    {
     "name": "stderr",
     "output_type": "stream",
     "text": [
      "Processing files:  75%|███████▍  | 9080/12120 [1:38:09<20:46,  2.44it/s]c:\\Users\\16148\\anaconda3\\envs\\dev\\lib\\site-packages\\librosa\\core\\spectrum.py:266: UserWarning: n_fft=2048 is too large for input signal of length=556\n",
      "  warnings.warn(\n",
      "Processing files:  75%|███████▍  | 9081/12120 [1:38:09<18:17,  2.77it/s]"
     ]
    },
    {
     "name": "stdout",
     "output_type": "stream",
     "text": [
      "Error processing Processed Recordings\\Protonotaria_citrea_Anderson_Township_near__Cincinnati_Hamilton_County_Ohio_552556_segment_4.wav: operands could not be broadcast together with shapes (1000,) (508,) \n"
     ]
    },
    {
     "name": "stderr",
     "output_type": "stream",
     "text": [
      "Processing files:  76%|███████▌  | 9186/12120 [1:38:49<17:19,  2.82it/s]c:\\Users\\16148\\anaconda3\\envs\\dev\\lib\\site-packages\\librosa\\core\\spectrum.py:266: UserWarning: n_fft=2048 is too large for input signal of length=1731\n",
      "  warnings.warn(\n",
      "Processing files:  79%|███████▊  | 9543/12120 [1:41:03<17:33,  2.45it/s]c:\\Users\\16148\\anaconda3\\envs\\dev\\lib\\site-packages\\librosa\\core\\spectrum.py:266: UserWarning: n_fft=2048 is too large for input signal of length=1226\n",
      "  warnings.warn(\n",
      "Processing files:  79%|███████▉  | 9590/12120 [1:41:20<16:45,  2.52it/s]c:\\Users\\16148\\anaconda3\\envs\\dev\\lib\\site-packages\\librosa\\core\\spectrum.py:266: UserWarning: n_fft=2048 is too large for input signal of length=2011\n",
      "  warnings.warn(\n",
      "Processing files:  79%|███████▉  | 9604/12120 [1:41:25<15:05,  2.78it/s]c:\\Users\\16148\\anaconda3\\envs\\dev\\lib\\site-packages\\librosa\\core\\spectrum.py:266: UserWarning: n_fft=2048 is too large for input signal of length=106\n",
      "  warnings.warn(\n",
      "Processing files:  79%|███████▉  | 9606/12120 [1:41:26<11:49,  3.54it/s]"
     ]
    },
    {
     "name": "stdout",
     "output_type": "stream",
     "text": [
      "Error processing Processed Recordings\\Geothlypis_trichas_Magee_Marsh_-_boardwalk_Lucas_County_Ohio_828478_segment_22.wav: operands could not be broadcast together with shapes (500,) (113,) \n"
     ]
    },
    {
     "name": "stderr",
     "output_type": "stream",
     "text": [
      "Processing files:  80%|████████  | 9725/12120 [1:42:10<13:06,  3.04it/s]c:\\Users\\16148\\anaconda3\\envs\\dev\\lib\\site-packages\\librosa\\core\\spectrum.py:266: UserWarning: n_fft=2048 is too large for input signal of length=148\n",
      "  warnings.warn(\n",
      "Processing files:  81%|████████  | 9781/12120 [1:42:30<13:40,  2.85it/s]c:\\Users\\16148\\anaconda3\\envs\\dev\\lib\\site-packages\\librosa\\core\\spectrum.py:266: UserWarning: n_fft=2048 is too large for input signal of length=1191\n",
      "  warnings.warn(\n",
      "Processing files:  81%|████████  | 9783/12120 [1:42:31<15:21,  2.54it/s]c:\\Users\\16148\\anaconda3\\envs\\dev\\lib\\site-packages\\librosa\\core\\spectrum.py:266: UserWarning: n_fft=2048 is too large for input signal of length=2011\n",
      "  warnings.warn(\n",
      "Processing files:  81%|████████  | 9814/12120 [1:42:43<15:43,  2.44it/s]c:\\Users\\16148\\anaconda3\\envs\\dev\\lib\\site-packages\\librosa\\core\\spectrum.py:266: UserWarning: n_fft=2048 is too large for input signal of length=1873\n",
      "  warnings.warn(\n",
      "Processing files:  82%|████████▏ | 9929/12120 [1:43:24<08:57,  4.07it/s]"
     ]
    },
    {
     "name": "stdout",
     "output_type": "stream",
     "text": [
      "Error processing Processed Recordings\\Setophaga_ruticilla_Magee_Marsh_-_boardwalk_Lucas_County_Ohio_825242_segment_13.wav: operands could not be broadcast together with shapes (500,) (342,) \n"
     ]
    },
    {
     "name": "stderr",
     "output_type": "stream",
     "text": [
      "Processing files:  84%|████████▎ | 10129/12120 [1:44:38<14:58,  2.21it/s]c:\\Users\\16148\\anaconda3\\envs\\dev\\lib\\site-packages\\librosa\\core\\spectrum.py:266: UserWarning: n_fft=2048 is too large for input signal of length=1436\n",
      "  warnings.warn(\n",
      "c:\\Users\\16148\\anaconda3\\envs\\dev\\lib\\site-packages\\librosa\\core\\spectrum.py:266: UserWarning: n_fft=2048 is too large for input signal of length=1736\n",
      "  warnings.warn(\n",
      "Processing files:  84%|████████▍ | 10194/12120 [1:45:05<09:28,  3.39it/s]"
     ]
    },
    {
     "name": "stdout",
     "output_type": "stream",
     "text": [
      "Error processing Processed Recordings\\Setophaga_cerulea_Shawnee_State_Forest_Scioto_County_Ohio_417448_segment_2.wav: operands could not be broadcast together with shapes (1000,) (715,) \n"
     ]
    },
    {
     "name": "stderr",
     "output_type": "stream",
     "text": [
      "Processing files:  84%|████████▍ | 10218/12120 [1:45:13<12:27,  2.54it/s]"
     ]
    },
    {
     "name": "stdout",
     "output_type": "stream",
     "text": [
      "Error processing Processed Recordings\\Setophaga_cerulea_Miami_Township_near__North_Bend_Hamilton_County_Ohio_646112_segment_4.wav: operands could not be broadcast together with shapes (500,) (19,) \n"
     ]
    },
    {
     "name": "stderr",
     "output_type": "stream",
     "text": [
      "Processing files:  85%|████████▌ | 10340/12120 [1:45:58<10:08,  2.93it/s]"
     ]
    },
    {
     "name": "stdout",
     "output_type": "stream",
     "text": [
      "Error processing Processed Recordings\\Setophaga_magnolia_Magee_Marsh_-_boardwalk_Lucas_County_Ohio_828025_segment_29.wav: operands could not be broadcast together with shapes (500,) (477,) \n"
     ]
    },
    {
     "name": "stderr",
     "output_type": "stream",
     "text": [
      "Processing files:  85%|████████▌ | 10350/12120 [1:46:02<08:53,  3.32it/s]c:\\Users\\16148\\anaconda3\\envs\\dev\\lib\\site-packages\\librosa\\core\\spectrum.py:266: UserWarning: n_fft=2048 is too large for input signal of length=134\n",
      "  warnings.warn(\n",
      "Processing files:  85%|████████▌ | 10351/12120 [1:46:02<07:22,  4.00it/s]"
     ]
    },
    {
     "name": "stdout",
     "output_type": "stream",
     "text": [
      "Error processing Processed Recordings\\Setophaga_magnolia_Magee_Marsh_-_boardwalk_Lucas_County_Ohio_828022_segment_2.wav: operands could not be broadcast together with shapes (500,) (140,) \n"
     ]
    },
    {
     "name": "stderr",
     "output_type": "stream",
     "text": [
      "Processing files:  86%|████████▌ | 10368/12120 [1:46:09<11:56,  2.44it/s]c:\\Users\\16148\\anaconda3\\envs\\dev\\lib\\site-packages\\librosa\\core\\spectrum.py:266: UserWarning: n_fft=2048 is too large for input signal of length=390\n",
      "  warnings.warn(\n",
      "c:\\Users\\16148\\anaconda3\\envs\\dev\\lib\\site-packages\\librosa\\core\\spectrum.py:266: UserWarning: n_fft=2048 is too large for input signal of length=361\n",
      "  warnings.warn(\n"
     ]
    },
    {
     "name": "stdout",
     "output_type": "stream",
     "text": [
      "Error processing Processed Recordings\\Setophaga_magnolia_Magee_Marsh_-_boardwalk_Lucas_County_Ohio_828022_segment_20.wav: operands could not be broadcast together with shapes (500,) (386,) \n"
     ]
    },
    {
     "name": "stderr",
     "output_type": "stream",
     "text": [
      "Processing files:  86%|████████▌ | 10377/12120 [1:46:11<06:55,  4.20it/s]"
     ]
    },
    {
     "name": "stdout",
     "output_type": "stream",
     "text": [
      "Error processing Processed Recordings\\Setophaga_magnolia_Magee_Marsh_-_boardwalk_Lucas_County_Ohio_828022_segment_28.wav: operands could not be broadcast together with shapes (500,) (160,) \n"
     ]
    },
    {
     "name": "stderr",
     "output_type": "stream",
     "text": [
      "Processing files:  86%|████████▌ | 10386/12120 [1:46:15<12:05,  2.39it/s]c:\\Users\\16148\\anaconda3\\envs\\dev\\lib\\site-packages\\librosa\\core\\spectrum.py:266: UserWarning: n_fft=2048 is too large for input signal of length=280\n",
      "  warnings.warn(\n",
      "Processing files:  86%|████████▌ | 10408/12120 [1:46:23<11:53,  2.40it/s]c:\\Users\\16148\\anaconda3\\envs\\dev\\lib\\site-packages\\librosa\\core\\spectrum.py:266: UserWarning: n_fft=2048 is too large for input signal of length=32\n",
      "  warnings.warn(\n",
      "Processing files:  86%|████████▌ | 10418/12120 [1:46:27<11:12,  2.53it/s]c:\\Users\\16148\\anaconda3\\envs\\dev\\lib\\site-packages\\librosa\\core\\spectrum.py:266: UserWarning: n_fft=2048 is too large for input signal of length=665\n",
      "  warnings.warn(\n",
      "Processing files:  86%|████████▌ | 10419/12120 [1:46:27<10:19,  2.75it/s]"
     ]
    },
    {
     "name": "stdout",
     "output_type": "stream",
     "text": [
      "Error processing Processed Recordings\\Setophaga_magnolia_Magee_Marsh_-_boardwalk_Lucas_County_Ohio_828020_segment_36.wav: operands could not be broadcast together with shapes (1000,) (718,) \n"
     ]
    },
    {
     "name": "stderr",
     "output_type": "stream",
     "text": [
      "Processing files:  87%|████████▋ | 10493/12120 [1:46:57<08:36,  3.15it/s]"
     ]
    },
    {
     "name": "stdout",
     "output_type": "stream",
     "text": [
      "Error processing Processed Recordings\\Setophaga_castanea_Park_End_Dr_Montgomery_County_Ohio_477393_segment_5.wav: operands could not be broadcast together with shapes (1000,) (972,) \n"
     ]
    },
    {
     "name": "stderr",
     "output_type": "stream",
     "text": [
      "Processing files:  89%|████████▊ | 10735/12120 [1:48:29<07:57,  2.90it/s]c:\\Users\\16148\\anaconda3\\envs\\dev\\lib\\site-packages\\librosa\\core\\spectrum.py:266: UserWarning: n_fft=2048 is too large for input signal of length=567\n",
      "  warnings.warn(\n",
      "Processing files:  89%|████████▊ | 10736/12120 [1:48:29<06:52,  3.36it/s]"
     ]
    },
    {
     "name": "stdout",
     "output_type": "stream",
     "text": [
      "Error processing Processed Recordings\\Setophaga_pensylvanica_Magee_Marsh_-_boardwalk_Lucas_County_Ohio_827845_segment_10.wav: operands could not be broadcast together with shapes (1000,) (598,) \n"
     ]
    },
    {
     "name": "stderr",
     "output_type": "stream",
     "text": [
      "Processing files:  89%|████████▉ | 10791/12120 [1:48:51<09:03,  2.45it/s]c:\\Users\\16148\\anaconda3\\envs\\dev\\lib\\site-packages\\librosa\\core\\spectrum.py:266: UserWarning: n_fft=2048 is too large for input signal of length=1850\n",
      "  warnings.warn(\n",
      "Processing files:  89%|████████▉ | 10812/12120 [1:48:59<09:37,  2.26it/s]c:\\Users\\16148\\anaconda3\\envs\\dev\\lib\\site-packages\\librosa\\core\\spectrum.py:266: UserWarning: n_fft=2048 is too large for input signal of length=1700\n",
      "  warnings.warn(\n",
      "Processing files:  89%|████████▉ | 10815/12120 [1:49:00<07:08,  3.05it/s]"
     ]
    },
    {
     "name": "stdout",
     "output_type": "stream",
     "text": [
      "Error processing Processed Recordings\\Setophaga_pensylvanica_Magee_Marsh_-_boardwalk_Lucas_County_Ohio_827845_segment_90.wav: operands could not be broadcast together with shapes (1000,) (761,) \n"
     ]
    },
    {
     "name": "stderr",
     "output_type": "stream",
     "text": [
      "Processing files:  90%|█████████ | 10909/12120 [1:49:35<09:00,  2.24it/s]c:\\Users\\16148\\anaconda3\\envs\\dev\\lib\\site-packages\\librosa\\core\\spectrum.py:266: UserWarning: n_fft=2048 is too large for input signal of length=251\n",
      "  warnings.warn(\n",
      "Processing files:  90%|█████████ | 10910/12120 [1:49:36<08:52,  2.27it/s]"
     ]
    },
    {
     "name": "stdout",
     "output_type": "stream",
     "text": [
      "Error processing Processed Recordings\\Setophaga_pinus_Cuyahoga_Valley_National_Park_Wetmore_Trail_662930_segment_4.wav: operands could not be broadcast together with shapes (500,) (236,) \n"
     ]
    },
    {
     "name": "stderr",
     "output_type": "stream",
     "text": [
      "Processing files:  91%|█████████ | 10978/12120 [1:50:00<07:58,  2.39it/s]"
     ]
    },
    {
     "name": "stdout",
     "output_type": "stream",
     "text": [
      "Error processing Processed Recordings\\Setophaga_dominica_Pater_Wildlife_Area_Butler_County_Ohio_44434_segment_2.wav: operands could not be broadcast together with shapes (500,) (457,) \n"
     ]
    },
    {
     "name": "stderr",
     "output_type": "stream",
     "text": [
      "Processing files:  91%|█████████▏| 11068/12120 [1:50:34<05:08,  3.40it/s]"
     ]
    },
    {
     "name": "stdout",
     "output_type": "stream",
     "text": [
      "Error processing Processed Recordings\\Cardellina_canadensis_OSU's_Waterman_Farm_wood_lot_Columbus_Franklin_County_Ohio_179679_segment_4.wav: operands could not be broadcast together with shapes (500,) (389,) \n"
     ]
    },
    {
     "name": "stderr",
     "output_type": "stream",
     "text": [
      "Processing files:  91%|█████████▏| 11083/12120 [1:50:40<06:30,  2.65it/s]c:\\Users\\16148\\anaconda3\\envs\\dev\\lib\\site-packages\\librosa\\core\\spectrum.py:266: UserWarning: n_fft=2048 is too large for input signal of length=1250\n",
      "  warnings.warn(\n",
      "Processing files:  93%|█████████▎| 11237/12120 [1:51:45<06:41,  2.20it/s]c:\\Users\\16148\\anaconda3\\envs\\dev\\lib\\site-packages\\librosa\\core\\spectrum.py:266: UserWarning: n_fft=2048 is too large for input signal of length=961\n",
      "  warnings.warn(\n",
      "Processing files:  94%|█████████▍| 11436/12120 [1:56:13<12:08,  1.06s/it]"
     ]
    },
    {
     "name": "stdout",
     "output_type": "stream",
     "text": [
      "Error processing Processed Recordings\\Pheucticus_ludovicianus_Oak_Openings_Metropark_Ohio_418070_segment_24.wav: operands could not be broadcast together with shapes (500,) (29,) \n"
     ]
    },
    {
     "name": "stderr",
     "output_type": "stream",
     "text": [
      "Processing files:  95%|█████████▍| 11478/12120 [1:57:41<25:34,  2.39s/it]c:\\Users\\16148\\anaconda3\\envs\\dev\\lib\\site-packages\\librosa\\core\\spectrum.py:266: UserWarning: n_fft=2048 is too large for input signal of length=1059\n",
      "  warnings.warn(\n",
      "Processing files:  95%|█████████▌| 11540/12120 [1:59:06<10:43,  1.11s/it]"
     ]
    },
    {
     "name": "stdout",
     "output_type": "stream",
     "text": [
      "Error processing Processed Recordings\\Cardinalis_cardinalis_Miami_Township_near__Cleves_Hamilton_County_Ohio_713583_segment_6.wav: operands could not be broadcast together with shapes (1000,) (742,) \n"
     ]
    },
    {
     "name": "stderr",
     "output_type": "stream",
     "text": [
      "Processing files:  95%|█████████▌| 11555/12120 [1:59:28<14:48,  1.57s/it]c:\\Users\\16148\\anaconda3\\envs\\dev\\lib\\site-packages\\librosa\\core\\spectrum.py:266: UserWarning: n_fft=2048 is too large for input signal of length=1733\n",
      "  warnings.warn(\n",
      "Processing files:  96%|█████████▌| 11580/12120 [2:00:05<12:56,  1.44s/it]c:\\Users\\16148\\anaconda3\\envs\\dev\\lib\\site-packages\\librosa\\core\\spectrum.py:266: UserWarning: n_fft=2048 is too large for input signal of length=1871\n",
      "  warnings.warn(\n",
      "Processing files:  97%|█████████▋| 11722/12120 [2:02:30<02:06,  3.15it/s]"
     ]
    },
    {
     "name": "stdout",
     "output_type": "stream",
     "text": [
      "Error processing Processed Recordings\\Cardinalis_cardinalis_Tanglewood_Lane_Cincinnati_Ohio_302932_segment_137.wav: operands could not be broadcast together with shapes (1000,) (602,) \n"
     ]
    },
    {
     "name": "stderr",
     "output_type": "stream",
     "text": [
      "Processing files:  97%|█████████▋| 11766/12120 [2:02:45<02:08,  2.76it/s]c:\\Users\\16148\\anaconda3\\envs\\dev\\lib\\site-packages\\librosa\\core\\spectrum.py:266: UserWarning: n_fft=2048 is too large for input signal of length=1338\n",
      "  warnings.warn(\n",
      "Processing files:  97%|█████████▋| 11791/12120 [2:02:55<01:59,  2.75it/s]c:\\Users\\16148\\anaconda3\\envs\\dev\\lib\\site-packages\\librosa\\core\\spectrum.py:266: UserWarning: n_fft=2048 is too large for input signal of length=1108\n",
      "  warnings.warn(\n",
      "Processing files:  98%|█████████▊| 11928/12120 [2:04:05<04:28,  1.40s/it]c:\\Users\\16148\\anaconda3\\envs\\dev\\lib\\site-packages\\librosa\\core\\spectrum.py:266: UserWarning: n_fft=2048 is too large for input signal of length=1564\n",
      "  warnings.warn(\n",
      "Processing files:  99%|█████████▉| 11987/12120 [2:05:27<04:35,  2.07s/it]c:\\Users\\16148\\anaconda3\\envs\\dev\\lib\\site-packages\\librosa\\core\\spectrum.py:266: UserWarning: n_fft=2048 is too large for input signal of length=1831\n",
      "  warnings.warn(\n",
      "c:\\Users\\16148\\anaconda3\\envs\\dev\\lib\\site-packages\\librosa\\core\\spectrum.py:266: UserWarning: n_fft=2048 is too large for input signal of length=1697\n",
      "  warnings.warn(\n",
      "Processing files:  99%|█████████▉| 12012/12120 [2:06:13<02:21,  1.31s/it]"
     ]
    },
    {
     "name": "stdout",
     "output_type": "stream",
     "text": [
      "Error processing Processed Recordings\\Sonus_naturalis_Jerusalem_Township_near__Bono_Lucas_County_Ohio_784063_segment_8.wav: operands could not be broadcast together with shapes (1000,) (767,) \n"
     ]
    },
    {
     "name": "stderr",
     "output_type": "stream",
     "text": [
      "Processing files:  99%|█████████▉| 12045/12120 [2:06:44<00:35,  2.11it/s]c:\\Users\\16148\\anaconda3\\envs\\dev\\lib\\site-packages\\librosa\\core\\spectrum.py:266: UserWarning: n_fft=2048 is too large for input signal of length=1433\n",
      "  warnings.warn(\n",
      "Processing files: 100%|█████████▉| 12060/12120 [2:06:51<00:27,  2.19it/s]"
     ]
    },
    {
     "name": "stdout",
     "output_type": "stream",
     "text": [
      "Error processing Processed Recordings\\Sonus_naturalis_Lawrence_Woods_SNP_417979_segment_25.wav: operands could not be broadcast together with shapes (1000,) (921,) \n"
     ]
    },
    {
     "name": "stderr",
     "output_type": "stream",
     "text": [
      "Processing files: 100%|██████████| 12120/12120 [2:07:19<00:00,  1.59it/s]\n"
     ]
    },
    {
     "name": "stdout",
     "output_type": "stream",
     "text": [
      "Augmentation complete. 36069 new samples created.\n"
     ]
    }
   ],
   "source": [
    "\n",
    "# Apply augmentation to every file\n",
    "input_dir = 'Processed Recordings'\n",
    "output_dir = 'Augmented Recordings'\n",
    "num_augmentations = 3\n",
    "\n",
    "\n",
    "# Process the dataframe\n",
    "augmented_data = process_dataframe(processed_data, input_dir, output_dir, num_augmentations)\n",
    "\n",
    "print(f\"Augmentation complete. {len(augmented_data) - len(processed_data)} new samples created.\")"
   ]
  },
  {
   "cell_type": "markdown",
   "metadata": {},
   "source": [
    "### Extract features from the processed and augmented audio files."
   ]
  },
  {
   "cell_type": "code",
   "execution_count": 40,
   "metadata": {},
   "outputs": [
    {
     "name": "stdout",
     "output_type": "stream",
     "text": [
      "<class 'pandas.core.frame.DataFrame'>\n",
      "RangeIndex: 48189 entries, 0 to 48188\n",
      "Data columns (total 12 columns):\n",
      " #   Column           Non-Null Count  Dtype  \n",
      "---  ------           --------------  -----  \n",
      " 0   genus            48189 non-null  object \n",
      " 1   species          48189 non-null  object \n",
      " 2   latitude         48189 non-null  float64\n",
      " 3   longitude        48189 non-null  float64\n",
      " 4   quality          48189 non-null  object \n",
      " 5   file_name        48189 non-null  object \n",
      " 6   simplified_type  48189 non-null  object \n",
      " 7   season           48189 non-null  object \n",
      " 8   time_of_day      48189 non-null  object \n",
      " 9   length_seconds   48189 non-null  int64  \n",
      " 10  processed_file   48189 non-null  object \n",
      " 11  augmentations    36069 non-null  object \n",
      "dtypes: float64(2), int64(1), object(9)\n",
      "memory usage: 4.4+ MB\n"
     ]
    }
   ],
   "source": [
    "augmented_data.info()"
   ]
  },
  {
   "cell_type": "code",
   "execution_count": 43,
   "metadata": {},
   "outputs": [],
   "source": [
    "augmented_data = augmented_data.fillna(\"None\")"
   ]
  },
  {
   "cell_type": "code",
   "execution_count": 67,
   "metadata": {},
   "outputs": [],
   "source": [
    "def is_valid_audio(audio, sr, min_duration=0.1, silence_threshold=-60):\n",
    "    \"\"\"Check if the audio segment is valid (not too short and not silent).\"\"\"\n",
    "    duration = librosa.get_duration(y=audio, sr=sr)\n",
    "    if duration < min_duration:\n",
    "        return False\n",
    "    \n",
    "    # Check if the audio is mostly silent\n",
    "    db = librosa.amplitude_to_db(np.abs(audio), ref=np.max)\n",
    "    if np.mean(db) < silence_threshold:\n",
    "        return False\n",
    "    \n",
    "    return True\n",
    "\n",
    "\n",
    "def extract_features(audio, sr):\n",
    "    # Mel-spectrogram\n",
    "    mel_spec = librosa.feature.melspectrogram(y=audio, sr=sr, n_mels=128)\n",
    "    mel_spec_db = librosa.power_to_db(mel_spec, ref=np.max)\n",
    "    \n",
    "    # MFCCs\n",
    "    mfccs = librosa.feature.mfcc(y=audio, sr=sr, n_mfcc=13)\n",
    "    \n",
    "    # Spectral Centroid\n",
    "    spectral_centroids = librosa.feature.spectral_centroid(y=audio, sr=sr)[0]\n",
    "    \n",
    "    # Chroma Features\n",
    "    chroma = librosa.feature.chroma_stft(y=audio, sr=sr)\n",
    "    \n",
    "    # Zero Crossing Rate\n",
    "    zero_crossing_rate = librosa.feature.zero_crossing_rate(audio)[0]\n",
    "    \n",
    "    # Spectral Rolloff\n",
    "    spectral_rolloff = librosa.feature.spectral_rolloff(y=audio, sr=sr)[0]\n",
    "    \n",
    "    return {\n",
    "        'mel_spectrogram_db': mel_spec_db,\n",
    "        'mfccs': mfccs,\n",
    "        'spectral_centroids': spectral_centroids,\n",
    "        'chroma': chroma,\n",
    "        'zero_crossing_rate': zero_crossing_rate,\n",
    "        'spectral_rolloff': spectral_rolloff\n",
    "    }\n",
    "\n",
    "def summarize_feature(feature):\n",
    "    if feature.ndim == 1:\n",
    "        return [np.mean(feature), np.std(feature), np.max(feature)]\n",
    "    elif feature.ndim == 2:\n",
    "        return np.hstack([\n",
    "            np.mean(feature, axis=1),\n",
    "            np.std(feature, axis=1),\n",
    "            np.max(feature, axis=1)\n",
    "        ])\n",
    "    \n",
    "def save_mel_spectrogram(mel_spec, output_dir, base_filename, sr):\n",
    "    plt.figure(figsize=(10, 4))\n",
    "    librosa.display.specshow(mel_spec, sr=sr, x_axis='time', y_axis='mel')\n",
    "    plt.colorbar(format='%+2.0f dB')\n",
    "    plt.title('Mel-spectrogram')\n",
    "    plt.tight_layout()\n",
    "    plt.savefig(os.path.join(output_dir, f\"{base_filename}_mel_spectrogram.png\"))\n",
    "    plt.close()\n",
    "    "
   ]
  },
  {
   "cell_type": "code",
   "execution_count": 68,
   "metadata": {},
   "outputs": [],
   "source": [
    "def process_audio_file(file_path, output_dir):\n",
    "    try:\n",
    "        # Load audio file\n",
    "        audio, sr = librosa.load(file_path, sr=None)\n",
    "        \n",
    "        # Check if audio segment is valid\n",
    "        if not is_valid_audio(audio, sr):\n",
    "            print(f\"Warning: Audio file {file_path} is too short or silent. Skipping.\")\n",
    "            return None, None\n",
    "        \n",
    "        # Extract features\n",
    "        with warnings.catch_warnings():\n",
    "            warnings.simplefilter(\"ignore\")\n",
    "            features = extract_features(audio, sr)\n",
    "        \n",
    "        # Summarize features\n",
    "        feature_summary = {}\n",
    "        for key, value in features.items():\n",
    "            if key != 'mel_spectrogram_db':\n",
    "                feature_summary[f\"{key}_summary\"] = summarize_feature(value)\n",
    "        \n",
    "        # Create feature vector\n",
    "        feature_vector = np.hstack([\n",
    "            feature_summary.get('mfccs_summary', np.array([])),\n",
    "            feature_summary.get('spectral_centroids_summary', np.array([])),\n",
    "            feature_summary.get('chroma_summary', np.array([])),\n",
    "            feature_summary.get('zero_crossing_rate_summary', np.array([])),\n",
    "            feature_summary.get('spectral_rolloff_summary', np.array([]))\n",
    "        ])\n",
    "        \n",
    "        # Save mel-spectrogram as image\n",
    "        base_filename = os.path.splitext(os.path.basename(file_path))[0]\n",
    "        save_mel_spectrogram(features['mel_spectrogram_db'], output_dir, base_filename, sr)\n",
    "        \n",
    "        return feature_vector, features\n",
    "    except Exception as e:\n",
    "        print(f\"Error processing {file_path}: {str(e)}\")\n",
    "        return None, None\n",
    "\n",
    "def process_audio_files(df, base_dir, output_dir):\n",
    "    feature_data = []\n",
    "    skipped_files = []\n",
    "    \n",
    "    for _, row in tqdm(df.iterrows(), total=len(df)):\n",
    "        possible_paths = [\n",
    "            os.path.join(base_dir, 'Augmented Recordings', row['processed_file']),\n",
    "            os.path.join(base_dir, 'Processed Recordings', row['processed_file'])\n",
    "        ]\n",
    "        \n",
    "        file_path = next((path for path in possible_paths if os.path.exists(path)), None)\n",
    "        \n",
    "        if file_path is None:\n",
    "            print(f\"File not found: {row['processed_file']}\")\n",
    "            skipped_files.append(row['processed_file'])\n",
    "            continue\n",
    "        \n",
    "        feature_vector, full_features = process_audio_file(file_path, output_dir)\n",
    "        \n",
    "        if feature_vector is not None and full_features is not None:\n",
    "            feature_dict = {\n",
    "                'processed_file': row['processed_file'],\n",
    "                'feature_vector': feature_vector,\n",
    "            }\n",
    "            \n",
    "            # Add full feature arrays\n",
    "            for key, value in full_features.items():\n",
    "                feature_dict[f\"{key}_full\"] = value\n",
    "            \n",
    "            feature_data.append(feature_dict)\n",
    "        else:\n",
    "            skipped_files.append(row['processed_file'])\n",
    "    \n",
    "    print(f\"Total files skipped: {len(skipped_files)}\")\n",
    "    return feature_data, skipped_files"
   ]
  },
  {
   "cell_type": "code",
   "execution_count": 70,
   "metadata": {},
   "outputs": [
    {
     "name": "stderr",
     "output_type": "stream",
     "text": [
      "C:\\Users\\16148\\AppData\\Local\\Temp\\ipykernel_45408\\2274609831.py:6: UserWarning: PySoundFile failed. Trying audioread instead.\n",
      "  audio, sr = librosa.load(file_path, sr=None)\n",
      "c:\\Users\\16148\\anaconda3\\envs\\dev\\lib\\site-packages\\librosa\\core\\audio.py:184: FutureWarning: librosa.core.audio.__audioread_load\n",
      "\tDeprecated as of librosa version 0.10.0.\n",
      "\tIt will be removed in librosa version 1.0.\n",
      "  y, sr_native = __audioread_load(path, offset, duration, dtype)\n"
     ]
    },
    {
     "ename": "FileNotFoundError",
     "evalue": "[Errno 2] No such file or directory: 'Processed Recordings\\\\Poecile_carolinensis_Lawrence_Woods_SNP_417998.wav'",
     "output_type": "error",
     "traceback": [
      "\u001b[1;31m---------------------------------------------------------------------------\u001b[0m",
      "\u001b[1;31mLibsndfileError\u001b[0m                           Traceback (most recent call last)",
      "File \u001b[1;32mc:\\Users\\16148\\anaconda3\\envs\\dev\\lib\\site-packages\\librosa\\core\\audio.py:176\u001b[0m, in \u001b[0;36mload\u001b[1;34m(path, sr, mono, offset, duration, dtype, res_type)\u001b[0m\n\u001b[0;32m    175\u001b[0m \u001b[38;5;28;01mtry\u001b[39;00m:\n\u001b[1;32m--> 176\u001b[0m     y, sr_native \u001b[38;5;241m=\u001b[39m \u001b[43m__soundfile_load\u001b[49m\u001b[43m(\u001b[49m\u001b[43mpath\u001b[49m\u001b[43m,\u001b[49m\u001b[43m \u001b[49m\u001b[43moffset\u001b[49m\u001b[43m,\u001b[49m\u001b[43m \u001b[49m\u001b[43mduration\u001b[49m\u001b[43m,\u001b[49m\u001b[43m \u001b[49m\u001b[43mdtype\u001b[49m\u001b[43m)\u001b[49m\n\u001b[0;32m    178\u001b[0m \u001b[38;5;28;01mexcept\u001b[39;00m sf\u001b[38;5;241m.\u001b[39mSoundFileRuntimeError \u001b[38;5;28;01mas\u001b[39;00m exc:\n\u001b[0;32m    179\u001b[0m     \u001b[38;5;66;03m# If soundfile failed, try audioread instead\u001b[39;00m\n",
      "File \u001b[1;32mc:\\Users\\16148\\anaconda3\\envs\\dev\\lib\\site-packages\\librosa\\core\\audio.py:209\u001b[0m, in \u001b[0;36m__soundfile_load\u001b[1;34m(path, offset, duration, dtype)\u001b[0m\n\u001b[0;32m    207\u001b[0m \u001b[38;5;28;01melse\u001b[39;00m:\n\u001b[0;32m    208\u001b[0m     \u001b[38;5;66;03m# Otherwise, create the soundfile object\u001b[39;00m\n\u001b[1;32m--> 209\u001b[0m     context \u001b[38;5;241m=\u001b[39m \u001b[43msf\u001b[49m\u001b[38;5;241;43m.\u001b[39;49m\u001b[43mSoundFile\u001b[49m\u001b[43m(\u001b[49m\u001b[43mpath\u001b[49m\u001b[43m)\u001b[49m\n\u001b[0;32m    211\u001b[0m \u001b[38;5;28;01mwith\u001b[39;00m context \u001b[38;5;28;01mas\u001b[39;00m sf_desc:\n",
      "File \u001b[1;32mc:\\Users\\16148\\anaconda3\\envs\\dev\\lib\\site-packages\\soundfile.py:658\u001b[0m, in \u001b[0;36mSoundFile.__init__\u001b[1;34m(self, file, mode, samplerate, channels, subtype, endian, format, closefd)\u001b[0m\n\u001b[0;32m    656\u001b[0m \u001b[38;5;28mself\u001b[39m\u001b[38;5;241m.\u001b[39m_info \u001b[38;5;241m=\u001b[39m _create_info_struct(file, mode, samplerate, channels,\n\u001b[0;32m    657\u001b[0m                                  \u001b[38;5;28mformat\u001b[39m, subtype, endian)\n\u001b[1;32m--> 658\u001b[0m \u001b[38;5;28mself\u001b[39m\u001b[38;5;241m.\u001b[39m_file \u001b[38;5;241m=\u001b[39m \u001b[38;5;28;43mself\u001b[39;49m\u001b[38;5;241;43m.\u001b[39;49m\u001b[43m_open\u001b[49m\u001b[43m(\u001b[49m\u001b[43mfile\u001b[49m\u001b[43m,\u001b[49m\u001b[43m \u001b[49m\u001b[43mmode_int\u001b[49m\u001b[43m,\u001b[49m\u001b[43m \u001b[49m\u001b[43mclosefd\u001b[49m\u001b[43m)\u001b[49m\n\u001b[0;32m    659\u001b[0m \u001b[38;5;28;01mif\u001b[39;00m \u001b[38;5;28mset\u001b[39m(mode)\u001b[38;5;241m.\u001b[39missuperset(\u001b[38;5;124m'\u001b[39m\u001b[38;5;124mr+\u001b[39m\u001b[38;5;124m'\u001b[39m) \u001b[38;5;129;01mand\u001b[39;00m \u001b[38;5;28mself\u001b[39m\u001b[38;5;241m.\u001b[39mseekable():\n\u001b[0;32m    660\u001b[0m     \u001b[38;5;66;03m# Move write position to 0 (like in Python file objects)\u001b[39;00m\n",
      "File \u001b[1;32mc:\\Users\\16148\\anaconda3\\envs\\dev\\lib\\site-packages\\soundfile.py:1216\u001b[0m, in \u001b[0;36mSoundFile._open\u001b[1;34m(self, file, mode_int, closefd)\u001b[0m\n\u001b[0;32m   1215\u001b[0m     err \u001b[38;5;241m=\u001b[39m _snd\u001b[38;5;241m.\u001b[39msf_error(file_ptr)\n\u001b[1;32m-> 1216\u001b[0m     \u001b[38;5;28;01mraise\u001b[39;00m LibsndfileError(err, prefix\u001b[38;5;241m=\u001b[39m\u001b[38;5;124m\"\u001b[39m\u001b[38;5;124mError opening \u001b[39m\u001b[38;5;132;01m{0!r}\u001b[39;00m\u001b[38;5;124m: \u001b[39m\u001b[38;5;124m\"\u001b[39m\u001b[38;5;241m.\u001b[39mformat(\u001b[38;5;28mself\u001b[39m\u001b[38;5;241m.\u001b[39mname))\n\u001b[0;32m   1217\u001b[0m \u001b[38;5;28;01mif\u001b[39;00m mode_int \u001b[38;5;241m==\u001b[39m _snd\u001b[38;5;241m.\u001b[39mSFM_WRITE:\n\u001b[0;32m   1218\u001b[0m     \u001b[38;5;66;03m# Due to a bug in libsndfile version <= 1.0.25, frames != 0\u001b[39;00m\n\u001b[0;32m   1219\u001b[0m     \u001b[38;5;66;03m# when opening a named pipe in SFM_WRITE mode.\u001b[39;00m\n\u001b[0;32m   1220\u001b[0m     \u001b[38;5;66;03m# See http://github.com/erikd/libsndfile/issues/77.\u001b[39;00m\n",
      "\u001b[1;31mLibsndfileError\u001b[0m: Error opening 'Processed Recordings\\\\Poecile_carolinensis_Lawrence_Woods_SNP_417998.wav': System error.",
      "\nDuring handling of the above exception, another exception occurred:\n",
      "\u001b[1;31mFileNotFoundError\u001b[0m                         Traceback (most recent call last)",
      "Cell \u001b[1;32mIn[70], line 6\u001b[0m\n\u001b[0;32m      3\u001b[0m file_path \u001b[38;5;241m=\u001b[39m os\u001b[38;5;241m.\u001b[39mpath\u001b[38;5;241m.\u001b[39mjoin(\u001b[38;5;124m'\u001b[39m\u001b[38;5;124mProcessed Recordings\u001b[39m\u001b[38;5;124m'\u001b[39m, random_file)\n\u001b[0;32m      5\u001b[0m \u001b[38;5;66;03m# Load the audio file\u001b[39;00m\n\u001b[1;32m----> 6\u001b[0m audio, sr \u001b[38;5;241m=\u001b[39m \u001b[43mlibrosa\u001b[49m\u001b[38;5;241;43m.\u001b[39;49m\u001b[43mload\u001b[49m\u001b[43m(\u001b[49m\u001b[43mfile_path\u001b[49m\u001b[43m,\u001b[49m\u001b[43m \u001b[49m\u001b[43msr\u001b[49m\u001b[38;5;241;43m=\u001b[39;49m\u001b[38;5;28;43;01mNone\u001b[39;49;00m\u001b[43m)\u001b[49m\n\u001b[0;32m      8\u001b[0m \u001b[38;5;28mprint\u001b[39m(\u001b[38;5;124mf\u001b[39m\u001b[38;5;124m\"\u001b[39m\u001b[38;5;124mTesting feature extraction on file: \u001b[39m\u001b[38;5;132;01m{\u001b[39;00mrandom_file\u001b[38;5;132;01m}\u001b[39;00m\u001b[38;5;124m\"\u001b[39m)\n\u001b[0;32m     10\u001b[0m \u001b[38;5;66;03m# Extract features\u001b[39;00m\n",
      "File \u001b[1;32mc:\\Users\\16148\\anaconda3\\envs\\dev\\lib\\site-packages\\librosa\\core\\audio.py:184\u001b[0m, in \u001b[0;36mload\u001b[1;34m(path, sr, mono, offset, duration, dtype, res_type)\u001b[0m\n\u001b[0;32m    180\u001b[0m \u001b[38;5;28;01mif\u001b[39;00m \u001b[38;5;28misinstance\u001b[39m(path, (\u001b[38;5;28mstr\u001b[39m, pathlib\u001b[38;5;241m.\u001b[39mPurePath)):\n\u001b[0;32m    181\u001b[0m     warnings\u001b[38;5;241m.\u001b[39mwarn(\n\u001b[0;32m    182\u001b[0m         \u001b[38;5;124m\"\u001b[39m\u001b[38;5;124mPySoundFile failed. Trying audioread instead.\u001b[39m\u001b[38;5;124m\"\u001b[39m, stacklevel\u001b[38;5;241m=\u001b[39m\u001b[38;5;241m2\u001b[39m\n\u001b[0;32m    183\u001b[0m     )\n\u001b[1;32m--> 184\u001b[0m     y, sr_native \u001b[38;5;241m=\u001b[39m \u001b[43m__audioread_load\u001b[49m\u001b[43m(\u001b[49m\u001b[43mpath\u001b[49m\u001b[43m,\u001b[49m\u001b[43m \u001b[49m\u001b[43moffset\u001b[49m\u001b[43m,\u001b[49m\u001b[43m \u001b[49m\u001b[43mduration\u001b[49m\u001b[43m,\u001b[49m\u001b[43m \u001b[49m\u001b[43mdtype\u001b[49m\u001b[43m)\u001b[49m\n\u001b[0;32m    185\u001b[0m \u001b[38;5;28;01melse\u001b[39;00m:\n\u001b[0;32m    186\u001b[0m     \u001b[38;5;28;01mraise\u001b[39;00m exc\n",
      "File \u001b[1;32mc:\\Users\\16148\\anaconda3\\envs\\dev\\lib\\site-packages\\decorator.py:232\u001b[0m, in \u001b[0;36mdecorate.<locals>.fun\u001b[1;34m(*args, **kw)\u001b[0m\n\u001b[0;32m    230\u001b[0m \u001b[38;5;28;01mif\u001b[39;00m \u001b[38;5;129;01mnot\u001b[39;00m kwsyntax:\n\u001b[0;32m    231\u001b[0m     args, kw \u001b[38;5;241m=\u001b[39m fix(args, kw, sig)\n\u001b[1;32m--> 232\u001b[0m \u001b[38;5;28;01mreturn\u001b[39;00m caller(func, \u001b[38;5;241m*\u001b[39m(extras \u001b[38;5;241m+\u001b[39m args), \u001b[38;5;241m*\u001b[39m\u001b[38;5;241m*\u001b[39mkw)\n",
      "File \u001b[1;32mc:\\Users\\16148\\anaconda3\\envs\\dev\\lib\\site-packages\\librosa\\util\\decorators.py:59\u001b[0m, in \u001b[0;36mdeprecated.<locals>.__wrapper\u001b[1;34m(func, *args, **kwargs)\u001b[0m\n\u001b[0;32m     50\u001b[0m \u001b[38;5;250m\u001b[39m\u001b[38;5;124;03m\"\"\"Warn the user, and then proceed.\"\"\"\u001b[39;00m\n\u001b[0;32m     51\u001b[0m warnings\u001b[38;5;241m.\u001b[39mwarn(\n\u001b[0;32m     52\u001b[0m     \u001b[38;5;124m\"\u001b[39m\u001b[38;5;132;01m{:s}\u001b[39;00m\u001b[38;5;124m.\u001b[39m\u001b[38;5;132;01m{:s}\u001b[39;00m\u001b[38;5;130;01m\\n\u001b[39;00m\u001b[38;5;130;01m\\t\u001b[39;00m\u001b[38;5;124mDeprecated as of librosa version \u001b[39m\u001b[38;5;132;01m{:s}\u001b[39;00m\u001b[38;5;124m.\u001b[39m\u001b[38;5;124m\"\u001b[39m\n\u001b[0;32m     53\u001b[0m     \u001b[38;5;124m\"\u001b[39m\u001b[38;5;130;01m\\n\u001b[39;00m\u001b[38;5;130;01m\\t\u001b[39;00m\u001b[38;5;124mIt will be removed in librosa version \u001b[39m\u001b[38;5;132;01m{:s}\u001b[39;00m\u001b[38;5;124m.\u001b[39m\u001b[38;5;124m\"\u001b[39m\u001b[38;5;241m.\u001b[39mformat(\n\u001b[1;32m   (...)\u001b[0m\n\u001b[0;32m     57\u001b[0m     stacklevel\u001b[38;5;241m=\u001b[39m\u001b[38;5;241m3\u001b[39m,  \u001b[38;5;66;03m# Would be 2, but the decorator adds a level\u001b[39;00m\n\u001b[0;32m     58\u001b[0m )\n\u001b[1;32m---> 59\u001b[0m \u001b[38;5;28;01mreturn\u001b[39;00m func(\u001b[38;5;241m*\u001b[39margs, \u001b[38;5;241m*\u001b[39m\u001b[38;5;241m*\u001b[39mkwargs)\n",
      "File \u001b[1;32mc:\\Users\\16148\\anaconda3\\envs\\dev\\lib\\site-packages\\librosa\\core\\audio.py:240\u001b[0m, in \u001b[0;36m__audioread_load\u001b[1;34m(path, offset, duration, dtype)\u001b[0m\n\u001b[0;32m    237\u001b[0m     reader \u001b[38;5;241m=\u001b[39m path\n\u001b[0;32m    238\u001b[0m \u001b[38;5;28;01melse\u001b[39;00m:\n\u001b[0;32m    239\u001b[0m     \u001b[38;5;66;03m# If the input was not an audioread object, try to open it\u001b[39;00m\n\u001b[1;32m--> 240\u001b[0m     reader \u001b[38;5;241m=\u001b[39m \u001b[43maudioread\u001b[49m\u001b[38;5;241;43m.\u001b[39;49m\u001b[43maudio_open\u001b[49m\u001b[43m(\u001b[49m\u001b[43mpath\u001b[49m\u001b[43m)\u001b[49m\n\u001b[0;32m    242\u001b[0m \u001b[38;5;28;01mwith\u001b[39;00m reader \u001b[38;5;28;01mas\u001b[39;00m input_file:\n\u001b[0;32m    243\u001b[0m     sr_native \u001b[38;5;241m=\u001b[39m input_file\u001b[38;5;241m.\u001b[39msamplerate\n",
      "File \u001b[1;32mc:\\Users\\16148\\anaconda3\\envs\\dev\\lib\\site-packages\\audioread\\__init__.py:127\u001b[0m, in \u001b[0;36maudio_open\u001b[1;34m(path, backends)\u001b[0m\n\u001b[0;32m    125\u001b[0m \u001b[38;5;28;01mfor\u001b[39;00m BackendClass \u001b[38;5;129;01min\u001b[39;00m backends:\n\u001b[0;32m    126\u001b[0m     \u001b[38;5;28;01mtry\u001b[39;00m:\n\u001b[1;32m--> 127\u001b[0m         \u001b[38;5;28;01mreturn\u001b[39;00m \u001b[43mBackendClass\u001b[49m\u001b[43m(\u001b[49m\u001b[43mpath\u001b[49m\u001b[43m)\u001b[49m\n\u001b[0;32m    128\u001b[0m     \u001b[38;5;28;01mexcept\u001b[39;00m DecodeError:\n\u001b[0;32m    129\u001b[0m         \u001b[38;5;28;01mpass\u001b[39;00m\n",
      "File \u001b[1;32mc:\\Users\\16148\\anaconda3\\envs\\dev\\lib\\site-packages\\audioread\\rawread.py:59\u001b[0m, in \u001b[0;36mRawAudioFile.__init__\u001b[1;34m(self, filename)\u001b[0m\n\u001b[0;32m     58\u001b[0m \u001b[38;5;28;01mdef\u001b[39;00m \u001b[38;5;21m__init__\u001b[39m(\u001b[38;5;28mself\u001b[39m, filename):\n\u001b[1;32m---> 59\u001b[0m     \u001b[38;5;28mself\u001b[39m\u001b[38;5;241m.\u001b[39m_fh \u001b[38;5;241m=\u001b[39m \u001b[38;5;28;43mopen\u001b[39;49m\u001b[43m(\u001b[49m\u001b[43mfilename\u001b[49m\u001b[43m,\u001b[49m\u001b[43m \u001b[49m\u001b[38;5;124;43m'\u001b[39;49m\u001b[38;5;124;43mrb\u001b[39;49m\u001b[38;5;124;43m'\u001b[39;49m\u001b[43m)\u001b[49m\n\u001b[0;32m     61\u001b[0m     \u001b[38;5;28;01mtry\u001b[39;00m:\n\u001b[0;32m     62\u001b[0m         \u001b[38;5;28mself\u001b[39m\u001b[38;5;241m.\u001b[39m_file \u001b[38;5;241m=\u001b[39m aifc\u001b[38;5;241m.\u001b[39mopen(\u001b[38;5;28mself\u001b[39m\u001b[38;5;241m.\u001b[39m_fh)\n",
      "\u001b[1;31mFileNotFoundError\u001b[0m: [Errno 2] No such file or directory: 'Processed Recordings\\\\Poecile_carolinensis_Lawrence_Woods_SNP_417998.wav'"
     ]
    }
   ],
   "source": [
    "# Select a random file\n",
    "random_file = random.choice(augmented_data['processed_file'])\n",
    "possible_paths = [\n",
    "    os.path.join('Augmented Recordings', random_file),\n",
    "    os.path.join('Processed Recordings', random_file)\n",
    "]\n",
    "file_path = next((path for path in possible_paths if os.path.exists(path)), None)\n",
    "\n",
    "if file_path is None:\n",
    "    print(f\"Error: File not found - {random_file}\")\n",
    "else:\n",
    "    print(f\"Testing feature extraction on file: {file_path}\")\n",
    "\n",
    "    # Load the audio file\n",
    "    audio, sr = librosa.load(file_path, sr=None)\n",
    "\n",
    "    # Extract features\n",
    "    features = extract_features(audio, sr)\n",
    "\n",
    "    # Print a summary of each feature\n",
    "    for feature_name, feature_data in features.items():\n",
    "        if feature_name == 'mel_spectrogram_db':\n",
    "            print(f\"{feature_name} shape: {feature_data.shape}\")\n",
    "        else:\n",
    "            print(f\"{feature_name} shape: {feature_data.shape}, mean: {np.mean(feature_data):.4f}, std: {np.std(feature_data):.4f}\")\n",
    "\n",
    "    # Summarize features\n",
    "    feature_summary = {}\n",
    "    for key, value in features.items():\n",
    "        if key != 'mel_spectrogram_db':\n",
    "            feature_summary[f\"{key}_summary\"] = summarize_feature(value)\n",
    "\n",
    "    # Print summary of summarized features\n",
    "    print(\"\\nSummarized Features:\")\n",
    "    for key, value in feature_summary.items():\n",
    "        print(f\"{key} shape: {value.shape}, mean: {np.mean(value):.4f}, std: {np.std(value):.4f}\")\n",
    "\n",
    "    # Create feature vector\n",
    "    feature_vector = np.hstack([\n",
    "        feature_summary.get('mfccs_summary', np.array([])),\n",
    "        feature_summary.get('spectral_centroids_summary', np.array([])),\n",
    "        feature_summary.get('chroma_summary', np.array([])),\n",
    "        feature_summary.get('zero_crossing_rate_summary', np.array([])),\n",
    "        feature_summary.get('spectral_rolloff_summary', np.array([]))\n",
    "    ])\n",
    "\n",
    "    print(f\"\\nFinal feature vector shape: {feature_vector.shape}\")\n",
    "\n",
    "    # Save mel-spectrogram as image\n",
    "    output_dir = 'Test'\n",
    "    os.makedirs(output_dir, exist_ok=True)\n",
    "    base_filename = os.path.splitext(os.path.basename(file_path))[0]\n",
    "    save_mel_spectrogram(features['mel_spectrogram_db'], output_dir, base_filename, sr)\n",
    "\n",
    "    print(f\"Mel-spectrogram saved as: {base_filename}_mel_spectrogram.png in {output_dir}\")\n",
    "\n",
    "print(\"Feature extraction test complete.\")"
   ]
  },
  {
   "cell_type": "code",
   "execution_count": 71,
   "metadata": {},
   "outputs": [
    {
     "name": "stdout",
     "output_type": "stream",
     "text": [
      "Current directory (base_dir): c:\\Users\\16148\\Desktop\\Projects\\bird_call_project\n",
      "Output directory: mel-spectrograms\n"
     ]
    },
    {
     "name": "stderr",
     "output_type": "stream",
     "text": [
      "  0%|          | 26/48189 [00:09<4:54:29,  2.73it/s]"
     ]
    },
    {
     "name": "stdout",
     "output_type": "stream",
     "text": [
      "Warning: Audio file c:\\Users\\16148\\Desktop\\Projects\\bird_call_project\\Processed Recordings\\Branta_canadensis_Miami_Whitewater_Forest_Park_wetlands_Crosby_Township_near__Harrison_Hamilton_County_Ohio_691528_segment_7.wav is too short or silent. Skipping.\n"
     ]
    },
    {
     "name": "stderr",
     "output_type": "stream",
     "text": [
      "  0%|          | 111/48189 [01:26<14:01:05,  1.05s/it]"
     ]
    },
    {
     "name": "stdout",
     "output_type": "stream",
     "text": [
      "Warning: Audio file c:\\Users\\16148\\Desktop\\Projects\\bird_call_project\\Processed Recordings\\Colinus_virginianus_New_Market_Township_near__Hoagland_Highland_County_Ohio_805814_segment_23.wav is too short or silent. Skipping.\n"
     ]
    },
    {
     "name": "stderr",
     "output_type": "stream",
     "text": [
      "  0%|          | 120/48189 [01:37<19:03:42,  1.43s/it]"
     ]
    },
    {
     "name": "stdout",
     "output_type": "stream",
     "text": [
      "Warning: Audio file c:\\Users\\16148\\Desktop\\Projects\\bird_call_project\\Processed Recordings\\Colinus_virginianus_Michigan_Monroe_County_17130_segment_8.wav is too short or silent. Skipping.\n"
     ]
    },
    {
     "name": "stderr",
     "output_type": "stream",
     "text": [
      "  0%|          | 147/48189 [02:08<16:32:27,  1.24s/it]"
     ]
    },
    {
     "name": "stdout",
     "output_type": "stream",
     "text": [
      "Warning: Audio file c:\\Users\\16148\\Desktop\\Projects\\bird_call_project\\Processed Recordings\\Chordeiles_minor_Green_Township_near__Cincinnati_Hamilton_County_Ohio_647199_segment_26.wav is too short or silent. Skipping.\n"
     ]
    },
    {
     "name": "stderr",
     "output_type": "stream",
     "text": [
      "  0%|          | 167/48189 [02:32<15:15:47,  1.14s/it]"
     ]
    },
    {
     "name": "stdout",
     "output_type": "stream",
     "text": [
      "Warning: Audio file c:\\Users\\16148\\Desktop\\Projects\\bird_call_project\\Processed Recordings\\Antrostomus_carolinensis_Brush_Creek_Township_near__West_Union_Adams_County_Ohio_939173_segment_19.wav is too short or silent. Skipping.\n"
     ]
    },
    {
     "name": "stderr",
     "output_type": "stream",
     "text": [
      "  0%|          | 188/48189 [02:56<15:25:05,  1.16s/it]"
     ]
    },
    {
     "name": "stdout",
     "output_type": "stream",
     "text": [
      "Warning: Audio file c:\\Users\\16148\\Desktop\\Projects\\bird_call_project\\Processed Recordings\\Antrostomus_carolinensis_Hamilton_Rd_Adams_Cty_Ohio_939171_segment_20.wav is too short or silent. Skipping.\n"
     ]
    },
    {
     "name": "stderr",
     "output_type": "stream",
     "text": [
      "  1%|          | 246/48189 [03:26<4:25:56,  3.00it/s] "
     ]
    },
    {
     "name": "stdout",
     "output_type": "stream",
     "text": [
      "Warning: Audio file c:\\Users\\16148\\Desktop\\Projects\\bird_call_project\\Processed Recordings\\Antrostomus_vociferus_Sutton_Braxton_County_West_Virginia_929758_segment_29.wav is too short or silent. Skipping.\n"
     ]
    },
    {
     "name": "stderr",
     "output_type": "stream",
     "text": [
      "  1%|          | 279/48189 [03:40<8:08:14,  1.64it/s]"
     ]
    },
    {
     "name": "stdout",
     "output_type": "stream",
     "text": [
      "Warning: Audio file c:\\Users\\16148\\Desktop\\Projects\\bird_call_project\\Processed Recordings\\Coccyzus_americanus_Magee_Marsh_boardwalk_west_end_262809_segment_26.wav is too short or silent. Skipping.\n"
     ]
    },
    {
     "name": "stderr",
     "output_type": "stream",
     "text": [
      "  1%|          | 282/48189 [03:42<8:45:21,  1.52it/s]"
     ]
    },
    {
     "name": "stdout",
     "output_type": "stream",
     "text": [
      "Warning: Audio file c:\\Users\\16148\\Desktop\\Projects\\bird_call_project\\Processed Recordings\\Coccyzus_erythropthalmus_Point_Pelee_National_Park_Essex_County_Ontario_910739_segment_2.wav is too short or silent. Skipping.\n"
     ]
    },
    {
     "name": "stderr",
     "output_type": "stream",
     "text": [
      "  1%|          | 286/48189 [03:45<9:50:26,  1.35it/s]"
     ]
    },
    {
     "name": "stdout",
     "output_type": "stream",
     "text": [
      "Warning: Audio file c:\\Users\\16148\\Desktop\\Projects\\bird_call_project\\Processed Recordings\\Coccyzus_erythropthalmus_Thursby_Rd_near_Singer_Lake_Green_Summit_County_Ohio_376138_segment_3.wav is too short or silent. Skipping.\n"
     ]
    },
    {
     "name": "stderr",
     "output_type": "stream",
     "text": [
      "  1%|          | 295/48189 [03:54<14:00:51,  1.05s/it]"
     ]
    },
    {
     "name": "stdout",
     "output_type": "stream",
     "text": [
      "Warning: Audio file c:\\Users\\16148\\Desktop\\Projects\\bird_call_project\\Processed Recordings\\Rallus_elegans_Glacier_Ridge_Metro_Park--Honda_Wetlands_103499_segment_4.wav is too short or silent. Skipping.\n"
     ]
    },
    {
     "name": "stderr",
     "output_type": "stream",
     "text": [
      "  1%|          | 301/48189 [03:59<13:32:12,  1.02s/it]"
     ]
    },
    {
     "name": "stdout",
     "output_type": "stream",
     "text": [
      "Warning: Audio file c:\\Users\\16148\\Desktop\\Projects\\bird_call_project\\Processed Recordings\\Porzana_carolina_Battelle_Darby_Metro_Park_-_Wetlands_417847_segment_2.wav is too short or silent. Skipping.\n"
     ]
    },
    {
     "name": "stderr",
     "output_type": "stream",
     "text": [
      "  1%|          | 342/48189 [04:44<14:14:19,  1.07s/it]"
     ]
    },
    {
     "name": "stdout",
     "output_type": "stream",
     "text": [
      "Warning: Audio file c:\\Users\\16148\\Desktop\\Projects\\bird_call_project\\Processed Recordings\\Charadrius_vociferus_Ross_Township_near__Hamilton_Butler_County_Ohio_533371_segment_6.wav is too short or silent. Skipping.\n"
     ]
    },
    {
     "name": "stderr",
     "output_type": "stream",
     "text": [
      "  1%|          | 346/48189 [04:48<14:30:48,  1.09s/it]"
     ]
    },
    {
     "name": "stdout",
     "output_type": "stream",
     "text": [
      "Warning: Audio file c:\\Users\\16148\\Desktop\\Projects\\bird_call_project\\Processed Recordings\\Calidris_alpina_Ohio_Magee_Marsh_17027_segment_3.wav is too short or silent. Skipping.\n"
     ]
    },
    {
     "name": "stderr",
     "output_type": "stream",
     "text": [
      "  1%|          | 350/48189 [04:52<14:16:56,  1.07s/it]"
     ]
    },
    {
     "name": "stdout",
     "output_type": "stream",
     "text": [
      "Warning: Audio file c:\\Users\\16148\\Desktop\\Projects\\bird_call_project\\Processed Recordings\\Scolopax_minor_Brush_Creek_Township_near__West_Union_Adams_County_Ohio_939172_segment_3.wav is too short or silent. Skipping.\n"
     ]
    },
    {
     "name": "stderr",
     "output_type": "stream",
     "text": [
      "  1%|          | 501/48189 [07:36<5:13:27,  2.54it/s] "
     ]
    },
    {
     "name": "stdout",
     "output_type": "stream",
     "text": [
      "Warning: Audio file c:\\Users\\16148\\Desktop\\Projects\\bird_call_project\\Processed Recordings\\Scolopax_minor_Maumee_Bay_SP_Ohio_418103_segment_56.wav is too short or silent. Skipping.\n"
     ]
    },
    {
     "name": "stderr",
     "output_type": "stream",
     "text": [
      "  1%|          | 556/48189 [08:00<11:26:12,  1.16it/s]\n"
     ]
    },
    {
     "ename": "KeyboardInterrupt",
     "evalue": "",
     "output_type": "error",
     "traceback": [
      "\u001b[1;31m---------------------------------------------------------------------------\u001b[0m",
      "\u001b[1;31mKeyboardInterrupt\u001b[0m                         Traceback (most recent call last)",
      "Cell \u001b[1;32mIn[71], line 12\u001b[0m\n\u001b[0;32m      9\u001b[0m \u001b[38;5;28mprint\u001b[39m(\u001b[38;5;124mf\u001b[39m\u001b[38;5;124m\"\u001b[39m\u001b[38;5;124mCurrent directory (base_dir): \u001b[39m\u001b[38;5;132;01m{\u001b[39;00mbase_dir\u001b[38;5;132;01m}\u001b[39;00m\u001b[38;5;124m\"\u001b[39m)\n\u001b[0;32m     10\u001b[0m \u001b[38;5;28mprint\u001b[39m(\u001b[38;5;124mf\u001b[39m\u001b[38;5;124m\"\u001b[39m\u001b[38;5;124mOutput directory: \u001b[39m\u001b[38;5;132;01m{\u001b[39;00moutput_dir\u001b[38;5;132;01m}\u001b[39;00m\u001b[38;5;124m\"\u001b[39m)\n\u001b[1;32m---> 12\u001b[0m feature_data \u001b[38;5;241m=\u001b[39m \u001b[43mprocess_audio_files\u001b[49m\u001b[43m(\u001b[49m\u001b[43maugmented_data\u001b[49m\u001b[43m,\u001b[49m\u001b[43m \u001b[49m\u001b[43mbase_dir\u001b[49m\u001b[43m,\u001b[49m\u001b[43m \u001b[49m\u001b[43moutput_dir\u001b[49m\u001b[43m)\u001b[49m\n\u001b[0;32m     14\u001b[0m \u001b[38;5;66;03m# Convert feature_data to DataFrame\u001b[39;00m\n\u001b[0;32m     15\u001b[0m feature_df \u001b[38;5;241m=\u001b[39m pd\u001b[38;5;241m.\u001b[39mDataFrame([{\u001b[38;5;124m'\u001b[39m\u001b[38;5;124mprocessed_file\u001b[39m\u001b[38;5;124m'\u001b[39m: item[\u001b[38;5;124m'\u001b[39m\u001b[38;5;124mprocessed_file\u001b[39m\u001b[38;5;124m'\u001b[39m], \u001b[38;5;124m'\u001b[39m\u001b[38;5;124mfeature_vector\u001b[39m\u001b[38;5;124m'\u001b[39m: item[\u001b[38;5;124m'\u001b[39m\u001b[38;5;124mfeature_vector\u001b[39m\u001b[38;5;124m'\u001b[39m]} \u001b[38;5;28;01mfor\u001b[39;00m item \u001b[38;5;129;01min\u001b[39;00m feature_data])\n",
      "Cell \u001b[1;32mIn[68], line 57\u001b[0m, in \u001b[0;36mprocess_audio_files\u001b[1;34m(df, base_dir, output_dir)\u001b[0m\n\u001b[0;32m     54\u001b[0m     skipped_files \u001b[38;5;241m+\u001b[39m\u001b[38;5;241m=\u001b[39m \u001b[38;5;241m1\u001b[39m\n\u001b[0;32m     55\u001b[0m     \u001b[38;5;28;01mcontinue\u001b[39;00m\n\u001b[1;32m---> 57\u001b[0m feature_vector, full_features \u001b[38;5;241m=\u001b[39m \u001b[43mprocess_audio_file\u001b[49m\u001b[43m(\u001b[49m\u001b[43mfile_path\u001b[49m\u001b[43m,\u001b[49m\u001b[43m \u001b[49m\u001b[43moutput_dir\u001b[49m\u001b[43m)\u001b[49m\n\u001b[0;32m     59\u001b[0m \u001b[38;5;28;01mif\u001b[39;00m feature_vector \u001b[38;5;129;01mis\u001b[39;00m \u001b[38;5;129;01mnot\u001b[39;00m \u001b[38;5;28;01mNone\u001b[39;00m \u001b[38;5;129;01mand\u001b[39;00m full_features \u001b[38;5;129;01mis\u001b[39;00m \u001b[38;5;129;01mnot\u001b[39;00m \u001b[38;5;28;01mNone\u001b[39;00m:\n\u001b[0;32m     60\u001b[0m     feature_dict \u001b[38;5;241m=\u001b[39m {\n\u001b[0;32m     61\u001b[0m         \u001b[38;5;124m'\u001b[39m\u001b[38;5;124mprocessed_file\u001b[39m\u001b[38;5;124m'\u001b[39m: row[\u001b[38;5;124m'\u001b[39m\u001b[38;5;124mprocessed_file\u001b[39m\u001b[38;5;124m'\u001b[39m],\n\u001b[0;32m     62\u001b[0m         \u001b[38;5;124m'\u001b[39m\u001b[38;5;124mfeature_vector\u001b[39m\u001b[38;5;124m'\u001b[39m: feature_vector,\n\u001b[0;32m     63\u001b[0m     }\n",
      "Cell \u001b[1;32mIn[68], line 7\u001b[0m, in \u001b[0;36mprocess_audio_file\u001b[1;34m(file_path, output_dir)\u001b[0m\n\u001b[0;32m      4\u001b[0m audio, sr \u001b[38;5;241m=\u001b[39m librosa\u001b[38;5;241m.\u001b[39mload(file_path, sr\u001b[38;5;241m=\u001b[39m\u001b[38;5;28;01mNone\u001b[39;00m)\n\u001b[0;32m      6\u001b[0m \u001b[38;5;66;03m# Check if audio segment is valid\u001b[39;00m\n\u001b[1;32m----> 7\u001b[0m \u001b[38;5;28;01mif\u001b[39;00m \u001b[38;5;129;01mnot\u001b[39;00m \u001b[43mis_valid_audio\u001b[49m\u001b[43m(\u001b[49m\u001b[43maudio\u001b[49m\u001b[43m,\u001b[49m\u001b[43m \u001b[49m\u001b[43msr\u001b[49m\u001b[43m)\u001b[49m:\n\u001b[0;32m      8\u001b[0m     \u001b[38;5;28mprint\u001b[39m(\u001b[38;5;124mf\u001b[39m\u001b[38;5;124m\"\u001b[39m\u001b[38;5;124mWarning: Audio file \u001b[39m\u001b[38;5;132;01m{\u001b[39;00mfile_path\u001b[38;5;132;01m}\u001b[39;00m\u001b[38;5;124m is too short or silent. Skipping.\u001b[39m\u001b[38;5;124m\"\u001b[39m)\n\u001b[0;32m      9\u001b[0m     \u001b[38;5;28;01mreturn\u001b[39;00m \u001b[38;5;28;01mNone\u001b[39;00m, \u001b[38;5;28;01mNone\u001b[39;00m\n",
      "Cell \u001b[1;32mIn[67], line 8\u001b[0m, in \u001b[0;36mis_valid_audio\u001b[1;34m(audio, sr, min_duration, silence_threshold)\u001b[0m\n\u001b[0;32m      5\u001b[0m     \u001b[38;5;28;01mreturn\u001b[39;00m \u001b[38;5;28;01mFalse\u001b[39;00m\n\u001b[0;32m      7\u001b[0m \u001b[38;5;66;03m# Check if the audio is mostly silent\u001b[39;00m\n\u001b[1;32m----> 8\u001b[0m db \u001b[38;5;241m=\u001b[39m \u001b[43mlibrosa\u001b[49m\u001b[38;5;241;43m.\u001b[39;49m\u001b[43mamplitude_to_db\u001b[49m\u001b[43m(\u001b[49m\u001b[43mnp\u001b[49m\u001b[38;5;241;43m.\u001b[39;49m\u001b[43mabs\u001b[49m\u001b[43m(\u001b[49m\u001b[43maudio\u001b[49m\u001b[43m)\u001b[49m\u001b[43m,\u001b[49m\u001b[43m \u001b[49m\u001b[43mref\u001b[49m\u001b[38;5;241;43m=\u001b[39;49m\u001b[43mnp\u001b[49m\u001b[38;5;241;43m.\u001b[39;49m\u001b[43mmax\u001b[49m\u001b[43m)\u001b[49m\n\u001b[0;32m      9\u001b[0m \u001b[38;5;28;01mif\u001b[39;00m np\u001b[38;5;241m.\u001b[39mmean(db) \u001b[38;5;241m<\u001b[39m silence_threshold:\n\u001b[0;32m     10\u001b[0m     \u001b[38;5;28;01mreturn\u001b[39;00m \u001b[38;5;28;01mFalse\u001b[39;00m\n",
      "File \u001b[1;32mc:\\Users\\16148\\anaconda3\\envs\\dev\\lib\\site-packages\\librosa\\core\\spectrum.py:1972\u001b[0m, in \u001b[0;36mamplitude_to_db\u001b[1;34m(S, ref, amin, top_db)\u001b[0m\n\u001b[0;32m   1969\u001b[0m out_array \u001b[38;5;241m=\u001b[39m magnitude \u001b[38;5;28;01mif\u001b[39;00m \u001b[38;5;28misinstance\u001b[39m(magnitude, np\u001b[38;5;241m.\u001b[39mndarray) \u001b[38;5;28;01melse\u001b[39;00m \u001b[38;5;28;01mNone\u001b[39;00m\n\u001b[0;32m   1970\u001b[0m power \u001b[38;5;241m=\u001b[39m np\u001b[38;5;241m.\u001b[39msquare(magnitude, out\u001b[38;5;241m=\u001b[39mout_array)\n\u001b[1;32m-> 1972\u001b[0m db: np\u001b[38;5;241m.\u001b[39mndarray \u001b[38;5;241m=\u001b[39m \u001b[43mpower_to_db\u001b[49m\u001b[43m(\u001b[49m\u001b[43mpower\u001b[49m\u001b[43m,\u001b[49m\u001b[43m \u001b[49m\u001b[43mref\u001b[49m\u001b[38;5;241;43m=\u001b[39;49m\u001b[43mref_value\u001b[49m\u001b[38;5;241;43m*\u001b[39;49m\u001b[38;5;241;43m*\u001b[39;49m\u001b[38;5;241;43m2\u001b[39;49m\u001b[43m,\u001b[49m\u001b[43m \u001b[49m\u001b[43mamin\u001b[49m\u001b[38;5;241;43m=\u001b[39;49m\u001b[43mamin\u001b[49m\u001b[38;5;241;43m*\u001b[39;49m\u001b[38;5;241;43m*\u001b[39;49m\u001b[38;5;241;43m2\u001b[39;49m\u001b[43m,\u001b[49m\u001b[43m \u001b[49m\u001b[43mtop_db\u001b[49m\u001b[38;5;241;43m=\u001b[39;49m\u001b[43mtop_db\u001b[49m\u001b[43m)\u001b[49m\n\u001b[0;32m   1973\u001b[0m \u001b[38;5;28;01mreturn\u001b[39;00m db\n",
      "File \u001b[1;32mc:\\Users\\16148\\anaconda3\\envs\\dev\\lib\\site-packages\\librosa\\core\\spectrum.py:1814\u001b[0m, in \u001b[0;36mpower_to_db\u001b[1;34m(S, ref, amin, top_db)\u001b[0m\n\u001b[0;32m   1811\u001b[0m \u001b[38;5;28;01melse\u001b[39;00m:\n\u001b[0;32m   1812\u001b[0m     ref_value \u001b[38;5;241m=\u001b[39m np\u001b[38;5;241m.\u001b[39mabs(ref)\n\u001b[1;32m-> 1814\u001b[0m log_spec: np\u001b[38;5;241m.\u001b[39mndarray \u001b[38;5;241m=\u001b[39m \u001b[38;5;241m10.0\u001b[39m \u001b[38;5;241m*\u001b[39m np\u001b[38;5;241m.\u001b[39mlog10(\u001b[43mnp\u001b[49m\u001b[38;5;241;43m.\u001b[39;49m\u001b[43mmaximum\u001b[49m\u001b[43m(\u001b[49m\u001b[43mamin\u001b[49m\u001b[43m,\u001b[49m\u001b[43m \u001b[49m\u001b[43mmagnitude\u001b[49m\u001b[43m)\u001b[49m)\n\u001b[0;32m   1815\u001b[0m log_spec \u001b[38;5;241m-\u001b[39m\u001b[38;5;241m=\u001b[39m \u001b[38;5;241m10.0\u001b[39m \u001b[38;5;241m*\u001b[39m np\u001b[38;5;241m.\u001b[39mlog10(np\u001b[38;5;241m.\u001b[39mmaximum(amin, ref_value))\n\u001b[0;32m   1817\u001b[0m \u001b[38;5;28;01mif\u001b[39;00m top_db \u001b[38;5;129;01mis\u001b[39;00m \u001b[38;5;129;01mnot\u001b[39;00m \u001b[38;5;28;01mNone\u001b[39;00m:\n",
      "\u001b[1;31mKeyboardInterrupt\u001b[0m: "
     ]
    }
   ],
   "source": [
    "# Usage\n",
    "\n",
    "base_dir = os.getcwd()\n",
    "output_dir = 'mel-spectrograms'\n",
    "\n",
    "# Ensure output directory exists\n",
    "os.makedirs(output_dir, exist_ok=True)\n",
    "\n",
    "print(f\"Current directory (base_dir): {base_dir}\")\n",
    "print(f\"Output directory: {output_dir}\")\n",
    "\n",
    "feature_data, skipped_files = process_audio_files(augmented_data, base_dir, output_dir)\n",
    "\n",
    "# Convert feature_data to DataFrame\n",
    "feature_df = pd.DataFrame([{'processed_file': item['processed_file'], 'feature_vector': item['feature_vector']} for item in feature_data])\n",
    "\n",
    "# Merge the new feature DataFrame with the existing final_data DataFrame\n",
    "final_data = pd.merge(augmented_data, feature_df, on='processed_file', how='left')\n",
    "\n",
    "# Drop rows corresponding to skipped files\n",
    "final_data = final_data[~final_data['processed_file'].isin(skipped_files)]\n",
    "\n",
    "print(final_data.info())\n",
    "\n",
    "print(f\"\\nTotal files in augmented_data: {len(augmented_data)}\")\n",
    "print(f\"Files successfully processed: {len(feature_df)}\")\n",
    "print(f\"Files skipped (too short or silent): {len(skipped_files)}\")\n",
    "print(f\"Files in final_data after dropping skipped files: {len(final_data)}\")"
   ]
  },
  {
   "cell_type": "code",
   "execution_count": null,
   "metadata": {},
   "outputs": [],
   "source": [
    "final_data.info()"
   ]
  },
  {
   "cell_type": "code",
   "execution_count": null,
   "metadata": {},
   "outputs": [],
   "source": [
    "# Save DataFrame to CSV\n",
    "final_data.to_csv('final_data.csv', index=False)\n",
    "\n",
    "print(\"Processing complete. Summary data saved to 'final_data.csv'.\")"
   ]
  }
 ],
 "metadata": {
  "kernelspec": {
   "display_name": "dev",
   "language": "python",
   "name": "python3"
  },
  "language_info": {
   "codemirror_mode": {
    "name": "ipython",
    "version": 3
   },
   "file_extension": ".py",
   "mimetype": "text/x-python",
   "name": "python",
   "nbconvert_exporter": "python",
   "pygments_lexer": "ipython3",
   "version": "3.10.14"
  }
 },
 "nbformat": 4,
 "nbformat_minor": 2
}
