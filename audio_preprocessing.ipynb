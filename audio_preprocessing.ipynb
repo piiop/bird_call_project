{
 "cells": [
  {
   "cell_type": "code",
   "execution_count": 1,
   "metadata": {},
   "outputs": [],
   "source": [
    "# Imports\n",
    "import os\n",
    "import random\n",
    "import logging\n",
    "import warnings\n",
    "import gc\n",
    "\n",
    "import numpy as np\n",
    "import pandas as pd\n",
    "from tqdm import tqdm\n",
    "\n",
    "\n",
    "# Data processing and scientific computing\n",
    "from scipy.io import wavfile\n",
    "from scipy.signal import butter, lfilter\n",
    "from scipy.spatial.distance import cosine\n",
    "\n",
    "# Audio processing\n",
    "import librosa\n",
    "import soundfile as sf\n",
    "\n",
    "# Visualization\n",
    "import matplotlib.pyplot as plt\n",
    "import plotly.express as px\n",
    "\n",
    "# Set up logging\n",
    "logging.basicConfig(level=logging.INFO)"
   ]
  },
  {
   "cell_type": "markdown",
   "metadata": {},
   "source": [
    "### Data Cleansing\n",
    "    - Remove low-quality or noisy recordings based on metadata if available, or by manually inspecting a few samples.\n",
    "\t    - It's a good idea to manually inspect some of the longer clips, especially outliers.\n",
    "\t    - - Listen for: a) Consistency of the bird call throughout the clip b) Presence of long periods of silence c) Sudden changes in background noise or environment\n",
    "\t\t- If you find issues, you might consider trimming these clips to the most relevant sections before segmenting.\n",
    "\t\t- - Definitely inspect a sample of low-rated files.\n",
    "\t\t- Listen for: a) Clarity of the bird call b) Signal-to-noise ratio (how clear the bird call is compared to background noise) c) Presence of distortions or artifacts\n",
    "\t\t- Consider setting a threshold for the quality rating, below which you might exclude files from your dataset.\n",
    "\t\t- Determining if a file is too \"noisy\":\n",
    "\n",
    "\t\t- This can be subjective, but here are some approaches: a) Signal-to-Noise Ratio (SNR): Calculate the SNR for each file. Files below a certain threshold could be considered too noisy. b) Spectral analysis: Look at the spectrogram. A very noisy file will have a lot of energy spread across all frequencies. c) Perceptual evaluation: Listen to a sample and rate them yourself. This can help you calibrate your automatic methods."
   ]
  },
  {
   "cell_type": "code",
   "execution_count": 2,
   "metadata": {},
   "outputs": [],
   "source": [
    "data = pd.read_csv('preprocessed_data.csv')"
   ]
  },
  {
   "cell_type": "code",
   "execution_count": 3,
   "metadata": {},
   "outputs": [
    {
     "data": {
      "text/plain": [
       "Index(['genus', 'species', 'latitude', 'longitude', 'quality', 'file_name',\n",
       "       'simplified_type', 'season', 'time_of_day', 'length_seconds'],\n",
       "      dtype='object')"
      ]
     },
     "execution_count": 3,
     "metadata": {},
     "output_type": "execute_result"
    }
   ],
   "source": [
    "data.columns"
   ]
  },
  {
   "cell_type": "code",
   "execution_count": 4,
   "metadata": {},
   "outputs": [
    {
     "data": {
      "text/plain": [
       "file_name\n",
       "Branta_canadensis_Whitewater_Township_near__Harrison_Hamilton_County_Ohio_726750.mp3                 1\n",
       "Molothrus_ater_Lawrence_Woods_SNP_417996.mp3                                                         1\n",
       "Agelaius_phoeniceus_Crosby_Township_near__Harrison_Hamilton_County_Ohio_482675.mp3                   1\n",
       "Agelaius_phoeniceus_Case_Farm_Gates_Mills_Ohio_98722.mp3                                             1\n",
       "Agelaius_phoeniceus_Ohio_Crane_Creek_SP_17011.mp3                                                    1\n",
       "                                                                                                    ..\n",
       "Tachycineta_bicolor_Pelee_Shuttle_Stop_near__Leamington_Essex_County_Ontario_477045.mp3              1\n",
       "Tachycineta_bicolor_Ohio_Crane_Creek_SP_17046.mp3                                                    1\n",
       "Progne_subis_Vermilion_River_Reservation:_Mill_Hollow_near__Vermilion_Erie_County_Ohio_784046.mp3    1\n",
       "Progne_subis_Ottawa_NWR_Lucas_County_Ohio_803616.mp3                                                 1\n",
       "Sonus_naturalis_Maumee_Bay_State_Park_Lucas_County_Ohio_821133.mp3                                   1\n",
       "Name: count, Length: 692, dtype: int64"
      ]
     },
     "execution_count": 4,
     "metadata": {},
     "output_type": "execute_result"
    }
   ],
   "source": [
    "data['file_name'].value_counts()"
   ]
  },
  {
   "cell_type": "markdown",
   "metadata": {},
   "source": [
    "### The metadata contains a column with a 'quality' rating. I'll manually examine those entries."
   ]
  },
  {
   "cell_type": "code",
   "execution_count": 5,
   "metadata": {},
   "outputs": [
    {
     "data": {
      "text/plain": [
       "quality\n",
       "A           274\n",
       "B           262\n",
       "C           116\n",
       "D            32\n",
       "E             4\n",
       "no score      4\n",
       "Name: count, dtype: int64"
      ]
     },
     "execution_count": 5,
     "metadata": {},
     "output_type": "execute_result"
    }
   ],
   "source": [
    "data['quality'].value_counts()"
   ]
  },
  {
   "cell_type": "code",
   "execution_count": 6,
   "metadata": {},
   "outputs": [
    {
     "data": {
      "text/html": [
       "<div>\n",
       "<style scoped>\n",
       "    .dataframe tbody tr th:only-of-type {\n",
       "        vertical-align: middle;\n",
       "    }\n",
       "\n",
       "    .dataframe tbody tr th {\n",
       "        vertical-align: top;\n",
       "    }\n",
       "\n",
       "    .dataframe thead th {\n",
       "        text-align: right;\n",
       "    }\n",
       "</style>\n",
       "<table border=\"1\" class=\"dataframe\">\n",
       "  <thead>\n",
       "    <tr style=\"text-align: right;\">\n",
       "      <th></th>\n",
       "      <th>genus</th>\n",
       "      <th>species</th>\n",
       "      <th>latitude</th>\n",
       "      <th>longitude</th>\n",
       "      <th>quality</th>\n",
       "      <th>file_name</th>\n",
       "      <th>simplified_type</th>\n",
       "      <th>season</th>\n",
       "      <th>time_of_day</th>\n",
       "      <th>length_seconds</th>\n",
       "    </tr>\n",
       "  </thead>\n",
       "  <tbody>\n",
       "    <tr>\n",
       "      <th>182</th>\n",
       "      <td>Vireo</td>\n",
       "      <td>bellii</td>\n",
       "      <td>39.20950</td>\n",
       "      <td>-84.78210</td>\n",
       "      <td>E</td>\n",
       "      <td>Vireo_bellii_Whitewater_Township_near__Harriso...</td>\n",
       "      <td>Song</td>\n",
       "      <td>Summer</td>\n",
       "      <td>Evening</td>\n",
       "      <td>3</td>\n",
       "    </tr>\n",
       "    <tr>\n",
       "      <th>197</th>\n",
       "      <td>Baeolophus</td>\n",
       "      <td>bicolor</td>\n",
       "      <td>40.94200</td>\n",
       "      <td>-81.52360</td>\n",
       "      <td>no score</td>\n",
       "      <td>Baeolophus_bicolor_Ohio_near__Akron_Summit_Cou...</td>\n",
       "      <td>Call</td>\n",
       "      <td>Summer</td>\n",
       "      <td>Morning</td>\n",
       "      <td>15</td>\n",
       "    </tr>\n",
       "    <tr>\n",
       "      <th>227</th>\n",
       "      <td>Tachycineta</td>\n",
       "      <td>bicolor</td>\n",
       "      <td>41.96820</td>\n",
       "      <td>-82.53050</td>\n",
       "      <td>no score</td>\n",
       "      <td>Tachycineta_bicolor_Pelee_near__Leamington_Ess...</td>\n",
       "      <td>Call</td>\n",
       "      <td>Spring</td>\n",
       "      <td>Morning</td>\n",
       "      <td>2</td>\n",
       "    </tr>\n",
       "    <tr>\n",
       "      <th>364</th>\n",
       "      <td>Spizella</td>\n",
       "      <td>passerina</td>\n",
       "      <td>41.93338</td>\n",
       "      <td>-83.54994</td>\n",
       "      <td>E</td>\n",
       "      <td>Spizella_passerina_Michigan_Monroe_County_1717...</td>\n",
       "      <td>Song</td>\n",
       "      <td>Summer</td>\n",
       "      <td>Unknown</td>\n",
       "      <td>28</td>\n",
       "    </tr>\n",
       "    <tr>\n",
       "      <th>365</th>\n",
       "      <td>Spizella</td>\n",
       "      <td>pusilla</td>\n",
       "      <td>39.88880</td>\n",
       "      <td>-82.79780</td>\n",
       "      <td>no score</td>\n",
       "      <td>Spizella_pusilla_Madison_Township_near__Canal_...</td>\n",
       "      <td>Song</td>\n",
       "      <td>Spring</td>\n",
       "      <td>Afternoon</td>\n",
       "      <td>20</td>\n",
       "    </tr>\n",
       "    <tr>\n",
       "      <th>395</th>\n",
       "      <td>Melospiza</td>\n",
       "      <td>melodia</td>\n",
       "      <td>41.93338</td>\n",
       "      <td>-83.54994</td>\n",
       "      <td>E</td>\n",
       "      <td>Melospiza_melodia_Michigan_Monroe_County_17143...</td>\n",
       "      <td>Song</td>\n",
       "      <td>Summer</td>\n",
       "      <td>Unknown</td>\n",
       "      <td>34</td>\n",
       "    </tr>\n",
       "    <tr>\n",
       "      <th>563</th>\n",
       "      <td>Geothlypis</td>\n",
       "      <td>trichas</td>\n",
       "      <td>41.18950</td>\n",
       "      <td>-81.57810</td>\n",
       "      <td>E</td>\n",
       "      <td>Geothlypis_trichas_Ohio_near__Peninsula_Summit...</td>\n",
       "      <td>Song</td>\n",
       "      <td>Summer</td>\n",
       "      <td>Morning</td>\n",
       "      <td>30</td>\n",
       "    </tr>\n",
       "    <tr>\n",
       "      <th>687</th>\n",
       "      <td>Sonus</td>\n",
       "      <td>naturalis</td>\n",
       "      <td>41.43300</td>\n",
       "      <td>-81.41800</td>\n",
       "      <td>no score</td>\n",
       "      <td>Sonus_naturalis_Chagrin_Falls_Township_near__M...</td>\n",
       "      <td>Song</td>\n",
       "      <td>Spring</td>\n",
       "      <td>Afternoon</td>\n",
       "      <td>28</td>\n",
       "    </tr>\n",
       "  </tbody>\n",
       "</table>\n",
       "</div>"
      ],
      "text/plain": [
       "           genus    species  latitude  longitude   quality  \\\n",
       "182        Vireo     bellii  39.20950  -84.78210         E   \n",
       "197   Baeolophus    bicolor  40.94200  -81.52360  no score   \n",
       "227  Tachycineta    bicolor  41.96820  -82.53050  no score   \n",
       "364     Spizella  passerina  41.93338  -83.54994         E   \n",
       "365     Spizella    pusilla  39.88880  -82.79780  no score   \n",
       "395    Melospiza    melodia  41.93338  -83.54994         E   \n",
       "563   Geothlypis    trichas  41.18950  -81.57810         E   \n",
       "687        Sonus  naturalis  41.43300  -81.41800  no score   \n",
       "\n",
       "                                             file_name simplified_type  \\\n",
       "182  Vireo_bellii_Whitewater_Township_near__Harriso...            Song   \n",
       "197  Baeolophus_bicolor_Ohio_near__Akron_Summit_Cou...            Call   \n",
       "227  Tachycineta_bicolor_Pelee_near__Leamington_Ess...            Call   \n",
       "364  Spizella_passerina_Michigan_Monroe_County_1717...            Song   \n",
       "365  Spizella_pusilla_Madison_Township_near__Canal_...            Song   \n",
       "395  Melospiza_melodia_Michigan_Monroe_County_17143...            Song   \n",
       "563  Geothlypis_trichas_Ohio_near__Peninsula_Summit...            Song   \n",
       "687  Sonus_naturalis_Chagrin_Falls_Township_near__M...            Song   \n",
       "\n",
       "     season time_of_day  length_seconds  \n",
       "182  Summer     Evening               3  \n",
       "197  Summer     Morning              15  \n",
       "227  Spring     Morning               2  \n",
       "364  Summer     Unknown              28  \n",
       "365  Spring   Afternoon              20  \n",
       "395  Summer     Unknown              34  \n",
       "563  Summer     Morning              30  \n",
       "687  Spring   Afternoon              28  "
      ]
     },
     "metadata": {},
     "output_type": "display_data"
    }
   ],
   "source": [
    "\n",
    "low_quality_files = data[(data['quality'] == 'E') | (data['quality'] == 'no score')]\n",
    "display(low_quality_files)"
   ]
  },
  {
   "cell_type": "markdown",
   "metadata": {},
   "source": [
    "### Convert mp3 to wav"
   ]
  },
  {
   "cell_type": "code",
   "execution_count": 7,
   "metadata": {},
   "outputs": [],
   "source": [
    "def convert_mp3_to_wav(mp3_path, wav_path):\n",
    "    \"\"\"\n",
    "    Convert an MP3 file to WAV format using librosa and soundfile.\n",
    "    \n",
    "    Args:\n",
    "    mp3_path (str): Path to the input MP3 file\n",
    "    wav_path (str): Path to save the output WAV file\n",
    "    \n",
    "    Returns:\n",
    "    str: Path to the created WAV file\n",
    "    \n",
    "    Raises:\n",
    "    FileNotFoundError: If the input MP3 file is not found\n",
    "    \"\"\"\n",
    "    if not os.path.exists(mp3_path):\n",
    "        raise FileNotFoundError(f\"MP3 file not found: {mp3_path}\")\n",
    "    \n",
    "    # Load the mp3 file\n",
    "    audio, sr = librosa.load(mp3_path, sr=None, mono=False)\n",
    "    \n",
    "    # Save as wav\n",
    "    sf.write(wav_path, audio.T, sr)\n",
    "    \n",
    "    return wav_path\n",
    "\n",
    "def batch_convert_to_wav(data, input_dir, output_dir):\n",
    "    \"\"\"\n",
    "    Convert all MP3 files in the dataset to WAV format.\n",
    "    \n",
    "    Args:\n",
    "    data (pd.DataFrame): DataFrame containing file information\n",
    "    input_dir (str): Directory containing the input MP3 files\n",
    "    output_dir (str): Directory to save the output WAV files\n",
    "    \n",
    "    Returns:\n",
    "    tuple: (pd.DataFrame, list) Updated DataFrame with new file paths and list of files not found\n",
    "    \"\"\"\n",
    "    os.makedirs(output_dir, exist_ok=True)\n",
    "    \n",
    "    new_data = data.copy()\n",
    "    files_not_found = []\n",
    "    \n",
    "    for index, row in new_data.iterrows():\n",
    "        mp3_path = os.path.join(input_dir, row['file_name'])\n",
    "        wav_filename = os.path.splitext(row['file_name'])[0] + '.wav'\n",
    "        wav_path = os.path.join(output_dir, wav_filename)\n",
    "        \n",
    "        try:\n",
    "            convert_mp3_to_wav(mp3_path, wav_path)\n",
    "            new_data.at[index, 'file_name'] = wav_filename\n",
    "        except FileNotFoundError:\n",
    "            files_not_found.append(row['file_name'])\n",
    "            new_data = new_data.drop(index)\n",
    "    \n",
    "    return new_data.reset_index(drop=True), files_not_found"
   ]
  },
  {
   "cell_type": "code",
   "execution_count": 8,
   "metadata": {},
   "outputs": [
    {
     "name": "stdout",
     "output_type": "stream",
     "text": [
      "Converting MP3 files to WAV...\n",
      "Conversion complete. 691 files converted.\n",
      "WAV files saved in: Converted Recordings\n",
      "Number of files not found: 1\n",
      "List of files not found:\n",
      "['Colaptes_auratus_Miami_Township_near__North_Bend_Hamilton_County_Ohio_713588.mp3']\n"
     ]
    }
   ],
   "source": [
    "original_dir = 'Original Recordings'\n",
    "converted_dir = 'Converted Recordings'\n",
    "\n",
    "# Convert the MP3 files to WAV\n",
    "print(\"Converting MP3 files to WAV...\")\n",
    "converted_data, missing_files = batch_convert_to_wav(data, original_dir, converted_dir)\n",
    "\n",
    "# Print summary\n",
    "print(f\"Conversion complete. {len(converted_data)} files converted.\")\n",
    "print(f\"WAV files saved in: {converted_dir}\")\n",
    "print(f\"Number of files not found: {len(missing_files)}\")\n",
    "\n",
    "# If you want to examine the list of missing files\n",
    "print(\"List of files not found:\")\n",
    "print(missing_files)"
   ]
  },
  {
   "cell_type": "code",
   "execution_count": 9,
   "metadata": {},
   "outputs": [
    {
     "data": {
      "text/plain": [
       "file_name\n",
       "Branta_canadensis_Whitewater_Township_near__Harrison_Hamilton_County_Ohio_726750.wav                 1\n",
       "Molothrus_ater_Lawrence_Woods_SNP_417996.wav                                                         1\n",
       "Agelaius_phoeniceus_Crosby_Township_near__Harrison_Hamilton_County_Ohio_482675.wav                   1\n",
       "Agelaius_phoeniceus_Case_Farm_Gates_Mills_Ohio_98722.wav                                             1\n",
       "Agelaius_phoeniceus_Ohio_Crane_Creek_SP_17011.wav                                                    1\n",
       "                                                                                                    ..\n",
       "Tachycineta_bicolor_Ohio_Crane_Creek_SP_17046.wav                                                    1\n",
       "Progne_subis_Vermilion_River_Reservation:_Mill_Hollow_near__Vermilion_Erie_County_Ohio_784046.wav    1\n",
       "Progne_subis_Ottawa_NWR_Lucas_County_Ohio_803616.wav                                                 1\n",
       "Progne_subis_Magee_Marsh_Ohio_164751.wav                                                             1\n",
       "Sonus_naturalis_Maumee_Bay_State_Park_Lucas_County_Ohio_821133.wav                                   1\n",
       "Name: count, Length: 691, dtype: int64"
      ]
     },
     "execution_count": 9,
     "metadata": {},
     "output_type": "execute_result"
    }
   ],
   "source": [
    "converted_data['file_name'].value_counts()"
   ]
  },
  {
   "cell_type": "markdown",
   "metadata": {},
   "source": [
    "\"\"\"\n",
    "Audio Cleaning Functions\n",
    "\n",
    "These functions collectively clean an audio file by:\n",
    "1. Calculating its signal-to-noise ratio (SNR) and filtering out audio that is too noisy.\n",
    "2. Detecting and trimming long silences from the audio.\n",
    "3. Checking for spectral spread, which is an indicator of unwanted noise or anomalies.\n",
    "\n",
    "Main function:\n",
    "- `clean_audio`: Uses `is_too_noisy`, `has_long_silence`, and `check_spectral_spread` to decide if an audio file is suitable for further processing.\n",
    "\"\"\"\n",
    "\n",
    "- **Feature Extraction with Librosa**:\n",
    "    - Extract features like **Mel-spectrograms** and **MFCCs** from each audio file. These features are effective for audio classification tasks.\n",
    "    - Store these features as images (for CNN input) or numerical arrays (for models like Random Forest or RNNs).\n",
    "\n",
    "    - **Audio Standardization**:\n",
    "    - Convert all files to a consistent format (e.g., 16-bit WAV, mono-channel, and a sampling rate like 16 kHz).\n",
    "- **Clip Standardization**:\n",
    "    - Trim or pad each audio clip to a standard duration (e.g., 5 seconds), so all inputs have the same shape."
   ]
  },
  {
   "cell_type": "markdown",
   "metadata": {},
   "source": [
    "### Start with resampling so every file has the same sample rate"
   ]
  },
  {
   "cell_type": "code",
   "execution_count": 10,
   "metadata": {},
   "outputs": [],
   "source": [
    "# Define global variable\n",
    "# Define sample rate\n",
    "sr = 44100"
   ]
  },
  {
   "cell_type": "code",
   "execution_count": 11,
   "metadata": {},
   "outputs": [
    {
     "name": "stdout",
     "output_type": "stream",
     "text": [
      "Resampling process complete.\n",
      "Total files checked: 690\n",
      "Files resampled: 311\n"
     ]
    }
   ],
   "source": [
    "\n",
    "def resample_audio(file_path, target_sr=sr):\n",
    "    try:\n",
    "        # Load the audio file\n",
    "        audio, sr = librosa.load(file_path, sr=None)\n",
    "        \n",
    "        # Resample if necessary\n",
    "        if sr != target_sr:\n",
    "            audio = librosa.resample(y=audio, orig_sr=sr, target_sr=target_sr)\n",
    "            \n",
    "            # Overwrite the original file\n",
    "            sf.write(file_path, audio, target_sr)\n",
    "            \n",
    "            return True  # Indicate that resampling was performed\n",
    "        else:\n",
    "            return False  # Indicate that no resampling was needed\n",
    "    except Exception as e:\n",
    "        logging.error(f\"Error processing {file_path}: {str(e)}\")\n",
    "        return None\n",
    "\n",
    "def resample_all_files(directory='Converted Recordings', target_sr=44100):\n",
    "    total_files = 0\n",
    "    resampled_files = 0\n",
    "    error_files = 0\n",
    "    \n",
    "    # Iterate through all files in the directory\n",
    "    for filename in os.listdir(directory):\n",
    "        if filename.endswith('.wav'):  # Assuming we're only processing .wav files\n",
    "            total_files += 1\n",
    "            file_path = os.path.join(directory, filename)\n",
    "            result = resample_audio(file_path, target_sr)\n",
    "            if result is True:\n",
    "                resampled_files += 1\n",
    "            elif result is None:\n",
    "                error_files += 1\n",
    "    \n",
    "    print(f\"Resampling process complete.\")\n",
    "    print(f\"Total files checked: {total_files}\")\n",
    "    print(f\"Files resampled: {resampled_files}\")\n",
    "    if error_files > 0:\n",
    "        print(f\"Files with errors: {error_files}\")\n",
    "\n",
    "# Usage\n",
    "logging.basicConfig(level=logging.ERROR)  # Only log errors\n",
    "resample_all_files('Converted Recordings')"
   ]
  },
  {
   "cell_type": "code",
   "execution_count": 12,
   "metadata": {},
   "outputs": [],
   "source": [
    "def calculate_snr(audio):\n",
    "    \"\"\"Calculate the signal-to-noise ratio of an audio clip.\"\"\"\n",
    "    signal = np.mean(audio**2)\n",
    "    noise = np.mean((audio - np.mean(audio))**2)\n",
    "    snr = 10 * np.log10(signal / noise)\n",
    "    return snr\n",
    "\n",
    "def is_too_noisy(audio, sr, threshold=-20):\n",
    "    \"\"\"Check if audio is too noisy based on its SNR.\"\"\"\n",
    "    snr = calculate_snr(audio)\n",
    "    return snr < threshold\n",
    "\n",
    "def has_long_silence(audio, sr, silence_threshold=-60, min_silence_duration=1.0):\n",
    "    \"\"\"Detects long silences within the audio clip.\"\"\"\n",
    "    intervals = librosa.effects.split(audio, top_db=-silence_threshold)\n",
    "    if len(intervals) > 1:\n",
    "        silence_durations = np.diff(intervals.ravel())[1::2] / sr\n",
    "        return np.any(silence_durations >= min_silence_duration)\n",
    "    return False\n",
    "\n",
    "def check_spectral_spread(audio, sr, threshold=0.8):\n",
    "    \"\"\"Check if the spectral spread exceeds the specified threshold.\"\"\"\n",
    "    spec = np.abs(librosa.stft(audio))\n",
    "    spectral_spread = np.sum(spec > np.mean(spec)) / spec.size\n",
    "    return spectral_spread > threshold\n",
    "\n",
    "def clean_audio(audio, sr, file_path, shared_discarded_files):\n",
    "    \"\"\"Cleans an audio file by removing noise, silence, and checking for spectral spread.\"\"\"\n",
    "    # Get file name for logging\n",
    "    file_name = os.path.basename(file_path)\n",
    "\n",
    "    # Check noise level\n",
    "    if is_too_noisy(audio, sr):\n",
    "        shared_discarded_files.append({'file_path': file_path, 'reason': 'too_noisy', 'snr': calculate_snr(audio)})\n",
    "        return None\n",
    "    \n",
    "    # Check for long silences\n",
    "    if has_long_silence(audio, sr):\n",
    "        audio = librosa.effects.trim(audio, top_db=20)[0]\n",
    "    \n",
    "    # Check spectral spread\n",
    "    if check_spectral_spread(audio, sr):\n",
    "        shared_discarded_files.append({'file_path': file_path, 'reason': 'bad_spectral_spread'})\n",
    "        return None\n",
    "    \n",
    "    return audio"
   ]
  },
  {
   "cell_type": "markdown",
   "metadata": {},
   "source": [
    "### Testing the functions on a single file"
   ]
  },
  {
   "cell_type": "code",
   "execution_count": 13,
   "metadata": {},
   "outputs": [
    {
     "name": "stdout",
     "output_type": "stream",
     "text": [
      "calculate_snr completed. SNR: 6.730346626682149e-06\n",
      "is_too_noisy completed. Result: False\n",
      "has_long_silence completed. Result: False\n",
      "check_spectral_spread completed. Result: False\n",
      "clean_audio completed. Cleaned audio returned: Yes\n",
      "\n",
      "Tested file: Converted Recordings\\Empidonax_virescens_Harrison_Township_near__Harrison_Hamilton_County_Ohio_728272.wav\n"
     ]
    }
   ],
   "source": [
    "\n",
    "\n",
    "# Choose a random file\n",
    "random_file = random.choice(converted_data['file_name'].tolist())\n",
    "file_path = os.path.join('Converted Recordings', random_file)\n",
    "\n",
    "# Load the audio file\n",
    "audio, _ = librosa.load(file_path, sr=sr)\n",
    "\n",
    "# Test calculate_snr function\n",
    "snr = calculate_snr(audio)\n",
    "print(f\"calculate_snr completed. SNR: {snr}\")\n",
    "\n",
    "# Test is_too_noisy function\n",
    "too_noisy = is_too_noisy(audio, sr)\n",
    "print(f\"is_too_noisy completed. Result: {too_noisy}\")\n",
    "\n",
    "# Test has_long_silence function\n",
    "long_silence = has_long_silence(audio, sr)\n",
    "print(f\"has_long_silence completed. Result: {long_silence}\")\n",
    "\n",
    "# Test check_spectral_spread function\n",
    "spectral_spread = check_spectral_spread(audio, sr)\n",
    "print(f\"check_spectral_spread completed. Result: {spectral_spread}\")\n",
    "\n",
    "# Test clean_audio function\n",
    "shared_discarded_files = []\n",
    "cleaned_audio = clean_audio(audio, sr, file_path, shared_discarded_files)\n",
    "print(f\"clean_audio completed. Cleaned audio returned: {'Yes' if cleaned_audio is not None else 'No'}\")\n",
    "if shared_discarded_files:\n",
    "    print(f\"File discarded. Reason: {shared_discarded_files[0]['reason']}\")\n",
    "\n",
    "print(f\"\\nTested file: {file_path}\")"
   ]
  },
  {
   "cell_type": "markdown",
   "metadata": {},
   "source": [
    "### Test duplication functions two files"
   ]
  },
  {
   "cell_type": "code",
   "execution_count": 14,
   "metadata": {},
   "outputs": [],
   "source": [
    "def get_audio_fingerprint(audio, sr):\n",
    "    n_fft = min(2048, len(audio))\n",
    "    mfccs = librosa.feature.mfcc(y=audio, sr=sr, n_mfcc=13, n_fft=n_fft)\n",
    "    return np.mean(mfccs, axis=1)\n",
    "\n",
    "def are_near_duplicates(audio1, sr1, audio2, sr2, threshold=0.99):\n",
    "    if len(audio1) == 0 or len(audio2) == 0:\n",
    "        raise ValueError(\"One or both audio files are empty\")\n",
    "    \n",
    "    if sr1 != sr2:\n",
    "        print(f\"Warning: Sample rates differ ({sr1} vs {sr2}). Resampling may be necessary.\")\n",
    "    \n",
    "    fp1 = get_audio_fingerprint(audio1, sr1)\n",
    "    fp2 = get_audio_fingerprint(audio2, sr2)\n",
    "    \n",
    "    if len(fp1) != len(fp2):\n",
    "        raise ValueError(\"Fingerprints have different lengths\")\n",
    "    \n",
    "    similarity = 1 - cosine(fp1, fp2)\n",
    "    return similarity > threshold\n",
    "\n",
    "def check_audio_duplicates(file_path, shared_duplicates, shared_discarded_files):\n",
    "    try:\n",
    "        # Load the audio\n",
    "        audio, sr = librosa.load(file_path, sr=None)\n",
    "        \n",
    "        # Check for duplicates\n",
    "        for existing_audio, existing_sr, existing_path in shared_duplicates:\n",
    "            if are_near_duplicates(audio, sr, existing_audio, existing_sr):\n",
    "                shared_discarded_files.append((file_path, 'duplicate'))\n",
    "                return True  # It's a duplicate\n",
    "\n",
    "        # If not a duplicate, store the audio and path\n",
    "        shared_duplicates.append((audio, sr, file_path))\n",
    "        return False  # It's not a duplicate\n",
    "    except Exception as e:\n",
    "        logging.error(f\"Error checking duplicates for {file_path}: {str(e)}\")\n",
    "        shared_discarded_files.append((file_path, f'error: {str(e)}'))\n",
    "        return None  # Error occurred\n",
    "\n",
    "def check_and_remove_duplicates(directory='Converted Recordings'):\n",
    "    shared_duplicates = []\n",
    "    shared_discarded_files = []\n",
    "    duplicate_files = []\n",
    "    total_files = 0\n",
    "\n",
    "    # Check each file in the directory for duplicates\n",
    "    for filename in os.listdir(directory):\n",
    "        if filename.endswith('.wav'):  # We're only processing .wav files\n",
    "            total_files += 1\n",
    "            file_path = os.path.join(directory, filename)\n",
    "            is_duplicate = check_audio_duplicates(file_path, shared_duplicates, shared_discarded_files)\n",
    "            if is_duplicate:\n",
    "                duplicate_files.append(file_path)\n",
    "\n",
    "    # Log the results\n",
    "    print(f\"Total files checked: {total_files}\")\n",
    "    print(f\"Duplicate files found: {len(duplicate_files)}\")\n",
    "\n",
    "    return duplicate_files, shared_discarded_files"
   ]
  },
  {
   "cell_type": "code",
   "execution_count": 15,
   "metadata": {},
   "outputs": [
    {
     "name": "stdout",
     "output_type": "stream",
     "text": [
      "Testing get_audio_fingerprint function:\n",
      "get_audio_fingerprint completed for file 1.\n",
      "Fingerprint shape: (13,)\n",
      "Fingerprint: [-335.4797     117.9705     -53.542744    58.577644   -19.482904\n",
      "   21.448452     8.114096    -2.8787546    8.390721     9.897803\n",
      "   -2.609089     4.336633     9.361945 ]\n",
      "get_audio_fingerprint completed for file 2.\n",
      "Fingerprint shape: (13,)\n",
      "Fingerprint: [-2.8946176e+02  1.0245418e+02 -1.9769826e+00  7.9572072e+00\n",
      "  1.9233978e+01  2.7745043e+01  3.2369759e+00  1.0591698e+01\n",
      "  1.0861780e+01  1.8579466e+01  9.7795129e-02  4.0076404e+00\n",
      " -5.9672439e-01]\n",
      "\n",
      "Testing are_near_duplicates function:\n",
      "Threshold: 0.95\n",
      "Similarity score: 0.9719074631664746\n",
      "Result: The two files are near duplicates.\n",
      "Threshold: 0.99\n",
      "Similarity score: 0.9719074631664746\n",
      "Result: The two files are not near duplicates.\n",
      "Threshold: 0.999\n",
      "Similarity score: 0.9719074631664746\n",
      "Result: The two files are not near duplicates.\n",
      "\n",
      "Tested files:\n",
      "File 1: Converted Recordings\\Sialia_sialis_Cincinnati_Hamilton_County_Ohio_677299.wav\n",
      "File 2: Converted Recordings\\Sitta_carolinensis_Lawrence_Woods_SNP_417999.wav\n"
     ]
    }
   ],
   "source": [
    "### Check duplicate checking functions on two files\n",
    "\n",
    "# Define sample rate\n",
    "sr = 44100\n",
    "\n",
    "# Choose two random files\n",
    "random_files = random.sample(converted_data['file_name'].tolist(), 2)\n",
    "file_paths = [os.path.join('Converted Recordings', file) for file in random_files]\n",
    "\n",
    "# Load the audio files\n",
    "audio1, _ = librosa.load(file_paths[0], sr=sr)\n",
    "audio2, _ = librosa.load(file_paths[1], sr=sr)\n",
    "\n",
    "# Test get_audio_fingerprint function\n",
    "print(\"Testing get_audio_fingerprint function:\")\n",
    "fingerprint1 = get_audio_fingerprint(audio1, sr)\n",
    "print(f\"get_audio_fingerprint completed for file 1.\")\n",
    "print(f\"Fingerprint shape: {fingerprint1.shape}\")\n",
    "print(f\"Fingerprint: {fingerprint1}\")\n",
    "\n",
    "fingerprint2 = get_audio_fingerprint(audio2, sr)\n",
    "print(f\"get_audio_fingerprint completed for file 2.\")\n",
    "print(f\"Fingerprint shape: {fingerprint2.shape}\")\n",
    "print(f\"Fingerprint: {fingerprint2}\")\n",
    "\n",
    "# Test are_near_duplicates function with different thresholds\n",
    "print(\"\\nTesting are_near_duplicates function:\")\n",
    "thresholds = [0.95, 0.99, 0.999]\n",
    "for threshold in thresholds:\n",
    "    try:\n",
    "        similarity = 1 - cosine(fingerprint1, fingerprint2)\n",
    "        are_duplicates = similarity > threshold\n",
    "        print(f\"Threshold: {threshold}\")\n",
    "        print(f\"Similarity score: {similarity}\")\n",
    "        print(f\"Result: The two files are {'near duplicates' if are_duplicates else 'not near duplicates'}.\")\n",
    "    except ValueError as e:\n",
    "        print(f\"Error occurred: {str(e)}\")\n",
    "\n",
    "print(f\"\\nTested files:\")\n",
    "print(f\"File 1: {file_paths[0]}\")\n",
    "print(f\"File 2: {file_paths[1]}\")"
   ]
  },
  {
   "cell_type": "code",
   "execution_count": 16,
   "metadata": {},
   "outputs": [],
   "source": [
    "# # Apply duplicate checking to all files\n",
    "# logging.basicConfig(level=logging.INFO)\n",
    "# duplicates, discarded_files = check_and_remove_duplicates('Converted Recordings')\n",
    "\n",
    "# print(f\"Duplicate files found: {len(duplicates)}\")\n",
    "# print(\"List of duplicate files:\")\n",
    "# for file in duplicates:\n",
    "#     print(file)\n",
    "\n",
    "# print(f\"\\nTotal discarded files: {len(discarded_files)}\")\n",
    "# print(\"List of discarded files and reasons:\")\n",
    "# for file, reason in discarded_files:\n",
    "#     print(f\"{file}: {reason}\")"
   ]
  },
  {
   "cell_type": "code",
   "execution_count": 17,
   "metadata": {},
   "outputs": [],
   "source": [
    "def process_audio(file_path, shared_discarded_files, target_length=5, overlap=0.5, target_sr=44100):\n",
    "    print(f\"Processing file: {file_path}\")  # For process_audio\n",
    "    try:\n",
    "        # Load and clean the audio\n",
    "        audio, sr = librosa.load(file_path, sr=None)\n",
    "        audio = clean_audio(audio, sr, file_path, shared_discarded_files)\n",
    "        if audio is None:\n",
    "            return None, None\n",
    "        \n",
    "        # Check if audio is shorter than 4410 samples (100ms at 44.1kHz)\n",
    "        if len(audio) < 4410:\n",
    "            shared_discarded_files.append((file_path, 'too_short'))\n",
    "            return None, None\n",
    "            \n",
    "        # Convert target_length to samples\n",
    "        target_samples = int(sr * target_length)\n",
    "        \n",
    "        # If audio is shorter than target length, pad with zeros\n",
    "        if len(audio) < target_samples:\n",
    "            audio = np.pad(audio, (0, target_samples - len(audio)))\n",
    "        \n",
    "        # If audio is longer than target length, segment with overlap\n",
    "        else:\n",
    "            segments = []\n",
    "            for start in range(0, len(audio), int(target_samples * (1 - overlap))):\n",
    "                segment = audio[start:start + target_samples]\n",
    "                if len(segment) == target_samples:\n",
    "                    segments.append(segment)\n",
    "                elif len(segment) > 0:\n",
    "                    segment = np.pad(segment, (0, target_samples - len(segment)))\n",
    "                    segments.append(segment)\n",
    "            audio = np.array(segments)\n",
    "\n",
    "            # Final check and padding for all segments\n",
    "        if len(audio.shape) == 1:  # Single segment\n",
    "            if len(audio) < target_samples:\n",
    "                audio = np.pad(audio, (0, target_samples - len(audio)))\n",
    "            elif len(audio) > target_samples:\n",
    "                audio = audio[:target_samples]\n",
    "        else:  # Multiple segments\n",
    "            padded_segments = []\n",
    "            for segment in audio:\n",
    "                if len(segment) < target_samples:\n",
    "                    segment = np.pad(segment, (0, target_samples - len(segment)))\n",
    "                elif len(segment) > target_samples:\n",
    "                    segment = segment[:target_samples]\n",
    "                padded_segments.append(segment)\n",
    "            audio = np.array(padded_segments)\n",
    "\n",
    "        return audio, sr\n",
    "    except Exception as e:\n",
    "        logging.error(f\"Error processing {file_path}: {str(e)}\")\n",
    "        shared_discarded_files.append((file_path, f'error: {str(e)}'))\n",
    "        return None, None\n"
   ]
  },
  {
   "cell_type": "code",
   "execution_count": 18,
   "metadata": {},
   "outputs": [],
   "source": [
    "def process_file(args):\n",
    "    row, audio_dir, output_dir, shared_discarded_files = args\n",
    "    file_path = os.path.join(audio_dir, row['file_name'])\n",
    "    \n",
    "    if not os.path.exists(file_path):\n",
    "        logging.warning(f\"File not found: {file_path}\")\n",
    "        return None\n",
    "    \n",
    "    processed_audio, sr = process_audio(file_path, shared_discarded_files)\n",
    "    if processed_audio is None:\n",
    "        return None\n",
    "    \n",
    "    processed_data = []\n",
    "    if processed_audio.ndim == 2:\n",
    "        for i, segment in enumerate(processed_audio):\n",
    "            new_row = row.copy()\n",
    "            base_filename = f\"{os.path.splitext(row['file_name'])[0]}_segment_{i}\"\n",
    "            new_row['processed_file'] = f\"{base_filename}.wav\"\n",
    "            wavfile.write(os.path.join(output_dir, new_row['processed_file']), sr, segment)\n",
    "            processed_data.append(new_row)\n",
    "    else:\n",
    "        base_filename = f\"{os.path.splitext(row['file_name'])[0]}_processed\"\n",
    "        row['processed_file'] = f\"{base_filename}.wav\"\n",
    "        wavfile.write(os.path.join(output_dir, row['processed_file']), sr, processed_audio)\n",
    "        processed_data.append(row)\n",
    "    \n",
    "    return processed_data\n"
   ]
  },
  {
   "cell_type": "code",
   "execution_count": 19,
   "metadata": {},
   "outputs": [],
   "source": [
    "def process_dataset(converted_data, audio_dir, output_dir):\n",
    "    manager = multiprocessing.Manager()\n",
    "    shared_discarded_files = manager.list()\n",
    "    \n",
    "    print(f\"Audio directory: {audio_dir}, Output directory: {output_dir}\")\n",
    "    results = []\n",
    "    \n",
    "    for _, row in converted_data.iterrows():\n",
    "        results.append(process_file((row, audio_dir, output_dir, shared_discarded_files)))\n",
    "    \n",
    "    processed_data = [item for sublist in results if sublist is not None for item in sublist]\n",
    "\n",
    "    # Save discarded files to a DataFrame and export as CSV\n",
    "    discard_log_df = pd.DataFrame(list(shared_discarded_files), columns=['file_path', 'reason'])\n",
    "    discard_log_df.to_csv('discarded_audio_log.csv', index=False)\n",
    "\n",
    "    return pd.DataFrame(processed_data)"
   ]
  },
  {
   "cell_type": "code",
   "execution_count": 20,
   "metadata": {},
   "outputs": [
    {
     "name": "stdout",
     "output_type": "stream",
     "text": [
      "Testing audio processing on file: Setophaga_caerulescens_Magee_Marsh_-_boardwalk_Lucas_County_Ohio_827750.wav\n",
      "Processing file: Converted Recordings\\Setophaga_caerulescens_Magee_Marsh_-_boardwalk_Lucas_County_Ohio_827750.wav\n",
      "Audio processed successfully.\n",
      "Processed audio shape: (24, 220500)\n",
      "Sample rate: 44100\n",
      "Row: Setophaga_caerulescens_Magee_Marsh_-_boardwalk_Lucas_County_Ohio_827750.wav\n",
      "Processing file: Converted Recordings\\Setophaga_caerulescens_Magee_Marsh_-_boardwalk_Lucas_County_Ohio_827750.wav\n",
      "\n",
      "Processed data:\n",
      "Processed file: Setophaga_caerulescens_Magee_Marsh_-_boardwalk_Lucas_County_Ohio_827750_segment_0.wav\n",
      "Processed file: Setophaga_caerulescens_Magee_Marsh_-_boardwalk_Lucas_County_Ohio_827750_segment_1.wav\n",
      "Processed file: Setophaga_caerulescens_Magee_Marsh_-_boardwalk_Lucas_County_Ohio_827750_segment_2.wav\n",
      "Processed file: Setophaga_caerulescens_Magee_Marsh_-_boardwalk_Lucas_County_Ohio_827750_segment_3.wav\n",
      "Processed file: Setophaga_caerulescens_Magee_Marsh_-_boardwalk_Lucas_County_Ohio_827750_segment_4.wav\n",
      "Processed file: Setophaga_caerulescens_Magee_Marsh_-_boardwalk_Lucas_County_Ohio_827750_segment_5.wav\n",
      "Processed file: Setophaga_caerulescens_Magee_Marsh_-_boardwalk_Lucas_County_Ohio_827750_segment_6.wav\n",
      "Processed file: Setophaga_caerulescens_Magee_Marsh_-_boardwalk_Lucas_County_Ohio_827750_segment_7.wav\n",
      "Processed file: Setophaga_caerulescens_Magee_Marsh_-_boardwalk_Lucas_County_Ohio_827750_segment_8.wav\n",
      "Processed file: Setophaga_caerulescens_Magee_Marsh_-_boardwalk_Lucas_County_Ohio_827750_segment_9.wav\n",
      "Processed file: Setophaga_caerulescens_Magee_Marsh_-_boardwalk_Lucas_County_Ohio_827750_segment_10.wav\n",
      "Processed file: Setophaga_caerulescens_Magee_Marsh_-_boardwalk_Lucas_County_Ohio_827750_segment_11.wav\n",
      "Processed file: Setophaga_caerulescens_Magee_Marsh_-_boardwalk_Lucas_County_Ohio_827750_segment_12.wav\n",
      "Processed file: Setophaga_caerulescens_Magee_Marsh_-_boardwalk_Lucas_County_Ohio_827750_segment_13.wav\n",
      "Processed file: Setophaga_caerulescens_Magee_Marsh_-_boardwalk_Lucas_County_Ohio_827750_segment_14.wav\n",
      "Processed file: Setophaga_caerulescens_Magee_Marsh_-_boardwalk_Lucas_County_Ohio_827750_segment_15.wav\n",
      "Processed file: Setophaga_caerulescens_Magee_Marsh_-_boardwalk_Lucas_County_Ohio_827750_segment_16.wav\n",
      "Processed file: Setophaga_caerulescens_Magee_Marsh_-_boardwalk_Lucas_County_Ohio_827750_segment_17.wav\n",
      "Processed file: Setophaga_caerulescens_Magee_Marsh_-_boardwalk_Lucas_County_Ohio_827750_segment_18.wav\n",
      "Processed file: Setophaga_caerulescens_Magee_Marsh_-_boardwalk_Lucas_County_Ohio_827750_segment_19.wav\n",
      "Processed file: Setophaga_caerulescens_Magee_Marsh_-_boardwalk_Lucas_County_Ohio_827750_segment_20.wav\n",
      "Processed file: Setophaga_caerulescens_Magee_Marsh_-_boardwalk_Lucas_County_Ohio_827750_segment_21.wav\n",
      "Processed file: Setophaga_caerulescens_Magee_Marsh_-_boardwalk_Lucas_County_Ohio_827750_segment_22.wav\n",
      "Processed file: Setophaga_caerulescens_Magee_Marsh_-_boardwalk_Lucas_County_Ohio_827750_segment_23.wav\n",
      "Number of segments: 24\n",
      "Output file created: Test\\Setophaga_caerulescens_Magee_Marsh_-_boardwalk_Lucas_County_Ohio_827750_segment_0.wav\n",
      "Output audio duration: 5.00 seconds\n",
      "Output file created: Test\\Setophaga_caerulescens_Magee_Marsh_-_boardwalk_Lucas_County_Ohio_827750_segment_1.wav\n",
      "Output audio duration: 5.00 seconds\n",
      "Output file created: Test\\Setophaga_caerulescens_Magee_Marsh_-_boardwalk_Lucas_County_Ohio_827750_segment_2.wav\n",
      "Output audio duration: 5.00 seconds\n",
      "Output file created: Test\\Setophaga_caerulescens_Magee_Marsh_-_boardwalk_Lucas_County_Ohio_827750_segment_3.wav\n",
      "Output audio duration: 5.00 seconds\n",
      "Output file created: Test\\Setophaga_caerulescens_Magee_Marsh_-_boardwalk_Lucas_County_Ohio_827750_segment_4.wav\n",
      "Output audio duration: 5.00 seconds\n",
      "Output file created: Test\\Setophaga_caerulescens_Magee_Marsh_-_boardwalk_Lucas_County_Ohio_827750_segment_5.wav\n",
      "Output audio duration: 5.00 seconds\n",
      "Output file created: Test\\Setophaga_caerulescens_Magee_Marsh_-_boardwalk_Lucas_County_Ohio_827750_segment_6.wav\n",
      "Output audio duration: 5.00 seconds\n",
      "Output file created: Test\\Setophaga_caerulescens_Magee_Marsh_-_boardwalk_Lucas_County_Ohio_827750_segment_7.wav\n",
      "Output audio duration: 5.00 seconds\n",
      "Output file created: Test\\Setophaga_caerulescens_Magee_Marsh_-_boardwalk_Lucas_County_Ohio_827750_segment_8.wav\n",
      "Output audio duration: 5.00 seconds\n",
      "Output file created: Test\\Setophaga_caerulescens_Magee_Marsh_-_boardwalk_Lucas_County_Ohio_827750_segment_9.wav\n",
      "Output audio duration: 5.00 seconds\n",
      "Output file created: Test\\Setophaga_caerulescens_Magee_Marsh_-_boardwalk_Lucas_County_Ohio_827750_segment_10.wav\n",
      "Output audio duration: 5.00 seconds\n",
      "Output file created: Test\\Setophaga_caerulescens_Magee_Marsh_-_boardwalk_Lucas_County_Ohio_827750_segment_11.wav\n",
      "Output audio duration: 5.00 seconds\n",
      "Output file created: Test\\Setophaga_caerulescens_Magee_Marsh_-_boardwalk_Lucas_County_Ohio_827750_segment_12.wav\n",
      "Output audio duration: 5.00 seconds\n",
      "Output file created: Test\\Setophaga_caerulescens_Magee_Marsh_-_boardwalk_Lucas_County_Ohio_827750_segment_13.wav\n",
      "Output audio duration: 5.00 seconds\n",
      "Output file created: Test\\Setophaga_caerulescens_Magee_Marsh_-_boardwalk_Lucas_County_Ohio_827750_segment_14.wav\n",
      "Output audio duration: 5.00 seconds\n",
      "Output file created: Test\\Setophaga_caerulescens_Magee_Marsh_-_boardwalk_Lucas_County_Ohio_827750_segment_15.wav\n",
      "Output audio duration: 5.00 seconds\n",
      "Output file created: Test\\Setophaga_caerulescens_Magee_Marsh_-_boardwalk_Lucas_County_Ohio_827750_segment_16.wav\n",
      "Output audio duration: 5.00 seconds\n",
      "Output file created: Test\\Setophaga_caerulescens_Magee_Marsh_-_boardwalk_Lucas_County_Ohio_827750_segment_17.wav\n",
      "Output audio duration: 5.00 seconds\n",
      "Output file created: Test\\Setophaga_caerulescens_Magee_Marsh_-_boardwalk_Lucas_County_Ohio_827750_segment_18.wav\n",
      "Output audio duration: 5.00 seconds\n",
      "Output file created: Test\\Setophaga_caerulescens_Magee_Marsh_-_boardwalk_Lucas_County_Ohio_827750_segment_19.wav\n",
      "Output audio duration: 5.00 seconds\n",
      "Output file created: Test\\Setophaga_caerulescens_Magee_Marsh_-_boardwalk_Lucas_County_Ohio_827750_segment_20.wav\n",
      "Output audio duration: 5.00 seconds\n",
      "Output file created: Test\\Setophaga_caerulescens_Magee_Marsh_-_boardwalk_Lucas_County_Ohio_827750_segment_21.wav\n",
      "Output audio duration: 5.00 seconds\n",
      "Output file created: Test\\Setophaga_caerulescens_Magee_Marsh_-_boardwalk_Lucas_County_Ohio_827750_segment_22.wav\n",
      "Output audio duration: 5.00 seconds\n",
      "Output file created: Test\\Setophaga_caerulescens_Magee_Marsh_-_boardwalk_Lucas_County_Ohio_827750_segment_23.wav\n",
      "Output audio duration: 5.00 seconds\n",
      "\n",
      "Audio processing test complete.\n",
      "\n",
      "No files were discarded.\n"
     ]
    }
   ],
   "source": [
    "## Testing audio processing functions on a single file\n",
    "\n",
    "# Select a random file\n",
    "random_file = random.choice(converted_data['file_name'])\n",
    "file_path = os.path.join('Converted Recordings', random_file)\n",
    "\n",
    "print(f\"Testing audio processing on file: {random_file}\")\n",
    "\n",
    "# Create a dummy row for testing\n",
    "test_row = pd.Series({'file_name': random_file})\n",
    "\n",
    "# Create necessary directories\n",
    "output_dir = 'Test'\n",
    "os.makedirs(output_dir, exist_ok=True)\n",
    "\n",
    "# Create a dummy shared_discarded_files list\n",
    "shared_discarded_files = []\n",
    "\n",
    "# Process the audio file\n",
    "processed_audio, sr = process_audio(file_path, shared_discarded_files)\n",
    "\n",
    "if processed_audio is not None:\n",
    "    print(f\"Audio processed successfully.\")\n",
    "    print(f\"Processed audio shape: {processed_audio.shape}\")\n",
    "    print(f\"Sample rate: {sr}\")\n",
    "\n",
    "    # Simulate the process_file function\n",
    "    args = (test_row, 'Converted Recordings', output_dir, shared_discarded_files)\n",
    "    processed_data = process_file(args)\n",
    "\n",
    "    if processed_data is not None:\n",
    "        print(\"\\nProcessed data:\")\n",
    "        for item in processed_data:\n",
    "            print(f\"Processed file: {item['processed_file']}\")\n",
    "        print(f\"Number of segments: {len(processed_data)}\")\n",
    "\n",
    "        # Verify the output files\n",
    "        for item in processed_data:\n",
    "            output_file = os.path.join(output_dir, item['processed_file'])\n",
    "            if os.path.exists(output_file):\n",
    "                print(f\"Output file created: {output_file}\")\n",
    "                # Load and print some information about the output file\n",
    "                audio, sr = librosa.load(output_file, sr=None)\n",
    "                print(f\"Output audio duration: {librosa.get_duration(y=audio, sr=sr):.2f} seconds\")\n",
    "            else:\n",
    "                print(f\"Error: Output file not created: {output_file}\")\n",
    "    else:\n",
    "        print(\"Error: process_file returned None\")\n",
    "else:\n",
    "    print(\"Error: Audio processing failed\")\n",
    "\n",
    "print(\"\\nAudio processing test complete.\")\n",
    "\n",
    "# Print discarded files, if any\n",
    "if shared_discarded_files:\n",
    "    print(\"\\nDiscarded files:\")\n",
    "    for file, reason in shared_discarded_files:\n",
    "        print(f\"{file}: {reason}\")\n",
    "else:\n",
    "    print(\"\\nNo files were discarded.\")"
   ]
  },
  {
   "cell_type": "code",
   "execution_count": 21,
   "metadata": {},
   "outputs": [
    {
     "name": "stdout",
     "output_type": "stream",
     "text": [
      "Audio directory: Converted Recordings, Output directory: Processed Recordings\n",
      "Row: Branta_canadensis_Whitewater_Township_near__Harrison_Hamilton_County_Ohio_726750.wav\n",
      "Processing file: Converted Recordings\\Branta_canadensis_Whitewater_Township_near__Harrison_Hamilton_County_Ohio_726750.wav\n",
      "Row: Branta_canadensis_Lawrence_Woods_SNP_418000.wav\n",
      "Processing file: Converted Recordings\\Branta_canadensis_Lawrence_Woods_SNP_418000.wav\n",
      "Row: Branta_canadensis_Miami_Whitewater_Forest_Park_wetlands_Crosby_Township_near__Harrison_Hamilton_County_Ohio_691528.wav\n",
      "Processing file: Converted Recordings\\Branta_canadensis_Miami_Whitewater_Forest_Park_wetlands_Crosby_Township_near__Harrison_Hamilton_County_Ohio_691528.wav\n",
      "Row: Cygnus_buccinator_Killdeer_Plains_Wildlife_Management_Area_Wyandot_County_Ohio_713788.wav\n",
      "Processing file: Converted Recordings\\Cygnus_buccinator_Killdeer_Plains_Wildlife_Management_Area_Wyandot_County_Ohio_713788.wav\n",
      "Row: Aix_sponsa_Magee_Marsh_-_boardwalk_Lucas_County_Ohio_815809.wav\n",
      "Processing file: Converted Recordings\\Aix_sponsa_Magee_Marsh_-_boardwalk_Lucas_County_Ohio_815809.wav\n",
      "Row: Anas_acuta_Cincinnati_Hamilton_County_Ohio_855312.wav\n",
      "Processing file: Converted Recordings\\Anas_acuta_Cincinnati_Hamilton_County_Ohio_855312.wav\n",
      "Row: Colinus_virginianus_New_Market_Township_near__Hoagland_Highland_County_Ohio_805814.wav\n",
      "Processing file: Converted Recordings\\Colinus_virginianus_New_Market_Township_near__Hoagland_Highland_County_Ohio_805814.wav\n",
      "Row: Colinus_virginianus_Michigan_Monroe_County_17130.wav\n",
      "Processing file: Converted Recordings\\Colinus_virginianus_Michigan_Monroe_County_17130.wav\n",
      "Row: Colinus_virginianus_Michigan_Monroe_County_17061.wav\n",
      "Processing file: Converted Recordings\\Colinus_virginianus_Michigan_Monroe_County_17061.wav\n",
      "Row: Colinus_virginianus_Michigan_Monroe_County_17060.wav\n",
      "Processing file: Converted Recordings\\Colinus_virginianus_Michigan_Monroe_County_17060.wav\n",
      "Row: Phasianus_colchicus_Michigan_Monroe_County_16976.wav\n",
      "Processing file: Converted Recordings\\Phasianus_colchicus_Michigan_Monroe_County_16976.wav\n",
      "Row: Chordeiles_minor_Green_Township_near__Cincinnati_Hamilton_County_Ohio_647199.wav\n",
      "Processing file: Converted Recordings\\Chordeiles_minor_Green_Township_near__Cincinnati_Hamilton_County_Ohio_647199.wav\n",
      "Row: Antrostomus_carolinensis_Brush_Creek_Township_near__West_Union_Adams_County_Ohio_939173.wav\n",
      "Processing file: Converted Recordings\\Antrostomus_carolinensis_Brush_Creek_Township_near__West_Union_Adams_County_Ohio_939173.wav\n",
      "Row: Antrostomus_carolinensis_Hamilton_Rd_Adams_Cty_Ohio_939171.wav\n",
      "Processing file: Converted Recordings\\Antrostomus_carolinensis_Hamilton_Rd_Adams_Cty_Ohio_939171.wav\n",
      "Row: Antrostomus_carolinensis_Brush_Creek_Township_near__West_Union_Adams_County_Ohio_804643.wav\n",
      "Processing file: Converted Recordings\\Antrostomus_carolinensis_Brush_Creek_Township_near__West_Union_Adams_County_Ohio_804643.wav\n",
      "Row: Antrostomus_carolinensis_Brush_Creek_near__West_Union_Adams_County_Ohio_178533.wav\n",
      "Processing file: Converted Recordings\\Antrostomus_carolinensis_Brush_Creek_near__West_Union_Adams_County_Ohio_178533.wav\n",
      "Row: Antrostomus_vociferus_Sutton_Braxton_County_West_Virginia_929758.wav\n",
      "Processing file: Converted Recordings\\Antrostomus_vociferus_Sutton_Braxton_County_West_Virginia_929758.wav\n",
      "Row: Chaetura_pelagica_Green_Township_near__Cincinnati_Hamilton_County_Ohio_676768.wav\n",
      "Processing file: Converted Recordings\\Chaetura_pelagica_Green_Township_near__Cincinnati_Hamilton_County_Ohio_676768.wav\n",
      "Row: Chaetura_pelagica_Michigan_Monroe_County_17058.wav\n",
      "Processing file: Converted Recordings\\Chaetura_pelagica_Michigan_Monroe_County_17058.wav\n",
      "Row: Coccyzus_americanus_Magee_Marsh_boardwalk_west_end_262809.wav\n",
      "Processing file: Converted Recordings\\Coccyzus_americanus_Magee_Marsh_boardwalk_west_end_262809.wav\n",
      "Row: Coccyzus_erythropthalmus_Point_Pelee_National_Park_Essex_County_Ontario_910739.wav\n",
      "Processing file: Converted Recordings\\Coccyzus_erythropthalmus_Point_Pelee_National_Park_Essex_County_Ontario_910739.wav\n",
      "Row: Coccyzus_erythropthalmus_Thursby_Rd_near_Singer_Lake_Green_Summit_County_Ohio_376138.wav\n",
      "Processing file: Converted Recordings\\Coccyzus_erythropthalmus_Thursby_Rd_near_Singer_Lake_Green_Summit_County_Ohio_376138.wav\n",
      "Row: Zenaida_macroura_Pelee_near__Leamington_Essex_County_Ontario_476933.wav\n",
      "Processing file: Converted Recordings\\Zenaida_macroura_Pelee_near__Leamington_Essex_County_Ontario_476933.wav\n",
      "Row: Rallus_elegans_Battelle_Darby_Metro_Park_-_Wetlands_417850.wav\n",
      "Processing file: Converted Recordings\\Rallus_elegans_Battelle_Darby_Metro_Park_-_Wetlands_417850.wav\n",
      "Row: Rallus_elegans_Glacier_Ridge_Metro_Park--Honda_Wetlands_103499.wav\n",
      "Processing file: Converted Recordings\\Rallus_elegans_Glacier_Ridge_Metro_Park--Honda_Wetlands_103499.wav\n",
      "Row: Porzana_carolina_Ross_Township_near__Ross_Butler_County_Ohio_807518.wav\n",
      "Processing file: Converted Recordings\\Porzana_carolina_Ross_Township_near__Ross_Butler_County_Ohio_807518.wav\n",
      "Row: Porzana_carolina_Battelle_Darby_Metro_Park_-_Wetlands_417847.wav\n",
      "Processing file: Converted Recordings\\Porzana_carolina_Battelle_Darby_Metro_Park_-_Wetlands_417847.wav\n",
      "Row: Porzana_carolina_Battelle_Darby_Metro_Park_-_Wetlands_417849.wav\n",
      "Processing file: Converted Recordings\\Porzana_carolina_Battelle_Darby_Metro_Park_-_Wetlands_417849.wav\n",
      "Row: Antigone_canadensis_Troy_Township_near__Delaware_Delaware_County_Ohio_625913.wav\n",
      "Processing file: Converted Recordings\\Antigone_canadensis_Troy_Township_near__Delaware_Delaware_County_Ohio_625913.wav\n",
      "Row: Charadrius_vociferus_Magee_Marsh_-_boardwalk_Lucas_County_Ohio_817568.wav\n",
      "Processing file: Converted Recordings\\Charadrius_vociferus_Magee_Marsh_-_boardwalk_Lucas_County_Ohio_817568.wav\n",
      "Row: Charadrius_vociferus_Ross_Township_near__Hamilton_Butler_County_Ohio_533371.wav\n",
      "Processing file: Converted Recordings\\Charadrius_vociferus_Ross_Township_near__Hamilton_Butler_County_Ohio_533371.wav\n",
      "Row: Calidris_alpina_Ohio_Magee_Marsh_17027.wav\n",
      "Processing file: Converted Recordings\\Calidris_alpina_Ohio_Magee_Marsh_17027.wav\n",
      "Row: Scolopax_minor_Brush_Creek_Township_near__West_Union_Adams_County_Ohio_939172.wav\n",
      "Processing file: Converted Recordings\\Scolopax_minor_Brush_Creek_Township_near__West_Union_Adams_County_Ohio_939172.wav\n",
      "Row: Scolopax_minor_Point_Pelee_National_Park_near__Wheatley_Essex_County_Ontario_837811.wav\n",
      "Processing file: Converted Recordings\\Scolopax_minor_Point_Pelee_National_Park_near__Wheatley_Essex_County_Ontario_837811.wav\n",
      "Row: Scolopax_minor_Pelee_near__Leamington_Essex_County_Ontario_476517.wav\n",
      "Processing file: Converted Recordings\\Scolopax_minor_Pelee_near__Leamington_Essex_County_Ontario_476517.wav\n",
      "Row: Scolopax_minor_Maumee_Bay_SP_Ohio_418105.wav\n",
      "Processing file: Converted Recordings\\Scolopax_minor_Maumee_Bay_SP_Ohio_418105.wav\n",
      "Row: Scolopax_minor_Maumee_Bay_SP_Ohio_418103.wav\n",
      "Processing file: Converted Recordings\\Scolopax_minor_Maumee_Bay_SP_Ohio_418103.wav\n",
      "Row: Scolopax_minor_Maumee_Bay_SP_Ohio_418101.wav\n",
      "Processing file: Converted Recordings\\Scolopax_minor_Maumee_Bay_SP_Ohio_418101.wav\n",
      "Row: Scolopax_minor_Maumee_Bay_SP_Ohio_418099.wav\n",
      "Processing file: Converted Recordings\\Scolopax_minor_Maumee_Bay_SP_Ohio_418099.wav\n",
      "Row: Scolopax_minor_Columbus_Franklin_County_Ohio_171997.wav\n",
      "Processing file: Converted Recordings\\Scolopax_minor_Columbus_Franklin_County_Ohio_171997.wav\n",
      "Row: Scolopax_minor_Columbus_Franklin_County_Ohio_171994.wav\n",
      "Processing file: Converted Recordings\\Scolopax_minor_Columbus_Franklin_County_Ohio_171994.wav\n",
      "Row: Scolopax_minor_Columbus_Franklin_County_Ohio_171991.wav\n",
      "Processing file: Converted Recordings\\Scolopax_minor_Columbus_Franklin_County_Ohio_171991.wav\n",
      "Row: Scolopax_minor_Pelee_near__Leamington_Essex_County_Ontario_473284.wav\n",
      "Processing file: Converted Recordings\\Scolopax_minor_Pelee_near__Leamington_Essex_County_Ontario_473284.wav\n",
      "Row: Scolopax_minor_Columbus_Ohio_flight_call_recording_station_55153.wav\n",
      "Processing file: Converted Recordings\\Scolopax_minor_Columbus_Ohio_flight_call_recording_station_55153.wav\n",
      "Row: Tringa_solitaria_Ohio_Crane_Creek_SP_17025.wav\n",
      "Processing file: Converted Recordings\\Tringa_solitaria_Ohio_Crane_Creek_SP_17025.wav\n",
      "Row: Tringa_flavipes_Ohio_Magee_Marsh_17051.wav\n",
      "Processing file: Converted Recordings\\Tringa_flavipes_Ohio_Magee_Marsh_17051.wav\n",
      "Row: Tringa_flavipes_Ohio_Magee_Marsh_17050.wav\n",
      "Processing file: Converted Recordings\\Tringa_flavipes_Ohio_Magee_Marsh_17050.wav\n",
      "Row: Tringa_flavipes_Ohio_Magee_Marsh_17049.wav\n",
      "Processing file: Converted Recordings\\Tringa_flavipes_Ohio_Magee_Marsh_17049.wav\n",
      "Row: Tringa_flavipes_Ohio_Magee_Marsh_17048.wav\n",
      "Processing file: Converted Recordings\\Tringa_flavipes_Ohio_Magee_Marsh_17048.wav\n",
      "Row: Tringa_flavipes_Ohio_Magee_Marsh_17047.wav\n",
      "Processing file: Converted Recordings\\Tringa_flavipes_Ohio_Magee_Marsh_17047.wav\n",
      "Row: Chroicocephalus_philadelphia_Point_Pelee_National_Park_near__Wheatley_Essex_County_Ontario_839507.wav\n",
      "Processing file: Converted Recordings\\Chroicocephalus_philadelphia_Point_Pelee_National_Park_near__Wheatley_Essex_County_Ontario_839507.wav\n",
      "Row: Larus_delawarensis_Michigan_Sterling_SP_11860.wav\n",
      "Processing file: Converted Recordings\\Larus_delawarensis_Michigan_Sterling_SP_11860.wav\n",
      "Row: Chlidonias_niger_Pelee_near__Leamington_Essex_County_Ontario_476265.wav\n",
      "Processing file: Converted Recordings\\Chlidonias_niger_Pelee_near__Leamington_Essex_County_Ontario_476265.wav\n",
      "Row: Botaurus_lentiginosus_Battelle_Darby_Metro_Park_-_Wetlands_417864.wav\n",
      "Processing file: Converted Recordings\\Botaurus_lentiginosus_Battelle_Darby_Metro_Park_-_Wetlands_417864.wav\n",
      "Row: Botaurus_lentiginosus_Battelle_Darby_Metro_Park_-_Wetlands_417863.wav\n",
      "Processing file: Converted Recordings\\Botaurus_lentiginosus_Battelle_Darby_Metro_Park_-_Wetlands_417863.wav\n",
      "Row: Botaurus_lentiginosus_Battelle_Darby_Metro_Park_-_Wetlands_417855.wav\n",
      "Processing file: Converted Recordings\\Botaurus_lentiginosus_Battelle_Darby_Metro_Park_-_Wetlands_417855.wav\n",
      "Row: Ardea_alba_Ohio_Ottawa_NWR_17012.wav\n",
      "Processing file: Converted Recordings\\Ardea_alba_Ohio_Ottawa_NWR_17012.wav\n",
      "Row: Accipiter_cooperii_Michigan_Monroe_County_17115.wav\n",
      "Processing file: Converted Recordings\\Accipiter_cooperii_Michigan_Monroe_County_17115.wav\n",
      "Row: Buteo_lineatus_Green_Township_near__Cincinnati_Hamilton_County_Ohio_809281.wav\n",
      "Processing file: Converted Recordings\\Buteo_lineatus_Green_Township_near__Cincinnati_Hamilton_County_Ohio_809281.wav\n",
      "Row: Buteo_lineatus_Miami_Whitewater_Forest_Park_wetlands_Crosby_Township_near__Harrison_Hamilton_County_Ohio_691446.wav\n",
      "Processing file: Converted Recordings\\Buteo_lineatus_Miami_Whitewater_Forest_Park_wetlands_Crosby_Township_near__Harrison_Hamilton_County_Ohio_691446.wav\n",
      "Row: Buteo_lineatus_Green_Township_near__Cincinnati_Hamilton_County_Ohio_673003.wav\n",
      "Processing file: Converted Recordings\\Buteo_lineatus_Green_Township_near__Cincinnati_Hamilton_County_Ohio_673003.wav\n",
      "Row: Buteo_lineatus_Tanglewood_Lane_Cincinnati_Ohio_44321.wav\n",
      "Processing file: Converted Recordings\\Buteo_lineatus_Tanglewood_Lane_Cincinnati_Ohio_44321.wav\n",
      "Row: Buteo_lineatus_Spring_Valley_near__Waynesville_Greene_Cty_Ohio_477606.wav\n",
      "Processing file: Converted Recordings\\Buteo_lineatus_Spring_Valley_near__Waynesville_Greene_Cty_Ohio_477606.wav\n",
      "Row: Buteo_lineatus_Michigan_Monroe_County_17118.wav\n",
      "Processing file: Converted Recordings\\Buteo_lineatus_Michigan_Monroe_County_17118.wav\n",
      "Row: Buteo_jamaicensis_Michigan_Monroe_County_17117.wav\n",
      "Processing file: Converted Recordings\\Buteo_jamaicensis_Michigan_Monroe_County_17117.wav\n",
      "Row: Buteo_jamaicensis_Michigan_Monroe_County_17116.wav\n",
      "Processing file: Converted Recordings\\Buteo_jamaicensis_Michigan_Monroe_County_17116.wav\n",
      "Row: Tyto_furcata_Cuyahoga_Falls_Summit_County_Ohio_580333.wav\n",
      "Processing file: Converted Recordings\\Tyto_furcata_Cuyahoga_Falls_Summit_County_Ohio_580333.wav\n",
      "Row: Bubo_virginianus_Green_Township_near__Mount_Orab_Brown_County_Ohio_760069.wav\n",
      "Processing file: Converted Recordings\\Bubo_virginianus_Green_Township_near__Mount_Orab_Brown_County_Ohio_760069.wav\n",
      "Row: Bubo_virginianus_mount_orab_ohio_760068.wav\n",
      "Processing file: Converted Recordings\\Bubo_virginianus_mount_orab_ohio_760068.wav\n",
      "Row: Bubo_virginianus_Pelee_Shuttle_Stop_near__Leamington_Essex_County_Ontario_476571.wav\n",
      "Processing file: Converted Recordings\\Bubo_virginianus_Pelee_Shuttle_Stop_near__Leamington_Essex_County_Ontario_476571.wav\n",
      "Row: Bubo_virginianus_Anderson_Township_near__Cincinnati_Hamilton_County_Ohio_450919.wav\n",
      "Processing file: Converted Recordings\\Bubo_virginianus_Anderson_Township_near__Cincinnati_Hamilton_County_Ohio_450919.wav\n",
      "Row: Bubo_virginianus_mount_orab_ohio_664390.wav\n",
      "Processing file: Converted Recordings\\Bubo_virginianus_mount_orab_ohio_664390.wav\n",
      "Row: Bubo_virginianus_Battelle_Darby_Creek_Metro_Park--South_of_Darby_Dan_Loop_107584.wav\n",
      "Processing file: Converted Recordings\\Bubo_virginianus_Battelle_Darby_Creek_Metro_Park--South_of_Darby_Dan_Loop_107584.wav\n",
      "Row: Bubo_virginianus_Wooster_PK_&_Beech_St_near__Mariemont_Hamilton_County_Ohio_757171.wav\n",
      "Processing file: Converted Recordings\\Bubo_virginianus_Wooster_PK_&_Beech_St_near__Mariemont_Hamilton_County_Ohio_757171.wav\n",
      "Row: Megascops_asio_mount_orab_ohio_624995.wav\n",
      "Processing file: Converted Recordings\\Megascops_asio_mount_orab_ohio_624995.wav\n",
      "Row: Megascops_asio_mount_orab_ohio_669305.wav\n",
      "Processing file: Converted Recordings\\Megascops_asio_mount_orab_ohio_669305.wav\n",
      "Row: Megascops_asio_mount_orab_ohio_624576.wav\n",
      "Processing file: Converted Recordings\\Megascops_asio_mount_orab_ohio_624576.wav\n",
      "Row: Megascops_asio_mount_orab_ohio_544849.wav\n",
      "Processing file: Converted Recordings\\Megascops_asio_mount_orab_ohio_544849.wav\n",
      "Row: Strix_varia_mount_orab_ohio_494579.wav\n",
      "Processing file: Converted Recordings\\Strix_varia_mount_orab_ohio_494579.wav\n",
      "Row: Strix_varia_mount_orab_ohio_494421.wav\n",
      "Processing file: Converted Recordings\\Strix_varia_mount_orab_ohio_494421.wav\n",
      "Row: Strix_varia_Wayne_Township_near__Pleasant_Plain_Clermont_County_Ohio_446964.wav\n",
      "Processing file: Converted Recordings\\Strix_varia_Wayne_Township_near__Pleasant_Plain_Clermont_County_Ohio_446964.wav\n",
      "Row: Melanerpes_erythrocephalus_Crosby_Township_near__Harrison_Hamilton_County_Ohio_774908.wav\n",
      "Processing file: Converted Recordings\\Melanerpes_erythrocephalus_Crosby_Township_near__Harrison_Hamilton_County_Ohio_774908.wav\n",
      "Row: Melanerpes_erythrocephalus_Kendrick_Woods_State_Nature_Preserve_Allen_County_Ohio_698853.wav\n",
      "Processing file: Converted Recordings\\Melanerpes_erythrocephalus_Kendrick_Woods_State_Nature_Preserve_Allen_County_Ohio_698853.wav\n",
      "Row: Melanerpes_erythrocephalus_Lawrence_Woods_SNP_477578.wav\n",
      "Processing file: Converted Recordings\\Melanerpes_erythrocephalus_Lawrence_Woods_SNP_477578.wav\n",
      "Row: Melanerpes_erythrocephalus_Pelee_near__Leamington_Essex_County_Ontario_477003.wav\n",
      "Processing file: Converted Recordings\\Melanerpes_erythrocephalus_Pelee_near__Leamington_Essex_County_Ontario_477003.wav\n",
      "Row: Melanerpes_erythrocephalus_Crosby_Township_near__Harrison_Hamilton_County_Ohio_774907.wav\n",
      "Processing file: Converted Recordings\\Melanerpes_erythrocephalus_Crosby_Township_near__Harrison_Hamilton_County_Ohio_774907.wav\n",
      "Row: Melanerpes_carolinus_Miami_Whitewater_Forest_Park_wetlands_Crosby_Township_near__Harrison_Hamilton_County_Ohio_687174.wav\n",
      "Processing file: Converted Recordings\\Melanerpes_carolinus_Miami_Whitewater_Forest_Park_wetlands_Crosby_Township_near__Harrison_Hamilton_County_Ohio_687174.wav\n",
      "Row: Melanerpes_carolinus_Tanglewood_Lane_Cincinnati_Ohio_302917.wav\n",
      "Processing file: Converted Recordings\\Melanerpes_carolinus_Tanglewood_Lane_Cincinnati_Ohio_302917.wav\n",
      "Row: Melanerpes_carolinus_Wegerzyn_garden_near__Dayton_Montgomery_County_Ohio_807218.wav\n",
      "Processing file: Converted Recordings\\Melanerpes_carolinus_Wegerzyn_garden_near__Dayton_Montgomery_County_Ohio_807218.wav\n",
      "Row: Melanerpes_carolinus_Harrison_Township_near__Harrison_Hamilton_County_Ohio_728264.wav\n",
      "Processing file: Converted Recordings\\Melanerpes_carolinus_Harrison_Township_near__Harrison_Hamilton_County_Ohio_728264.wav\n",
      "Row: Melanerpes_carolinus_Green_Township_near__Cincinnati_Hamilton_County_Ohio_726629.wav\n",
      "Processing file: Converted Recordings\\Melanerpes_carolinus_Green_Township_near__Cincinnati_Hamilton_County_Ohio_726629.wav\n",
      "Row: Melanerpes_carolinus_Harrison_Township_near__Harrison_Hamilton_County_Ohio_691526.wav\n",
      "Processing file: Converted Recordings\\Melanerpes_carolinus_Harrison_Township_near__Harrison_Hamilton_County_Ohio_691526.wav\n",
      "Row: Melanerpes_carolinus_Green_Township_near__Cincinnati_Hamilton_County_Ohio_672994.wav\n",
      "Processing file: Converted Recordings\\Melanerpes_carolinus_Green_Township_near__Cincinnati_Hamilton_County_Ohio_672994.wav\n",
      "Row: Melanerpes_carolinus_Anderson_Township_near__Cincinnati_Hamilton_County_Ohio_542523.wav\n",
      "Processing file: Converted Recordings\\Melanerpes_carolinus_Anderson_Township_near__Cincinnati_Hamilton_County_Ohio_542523.wav\n",
      "Row: Melanerpes_carolinus_Westlake_Cuyahoga_Ohio_115025.wav\n",
      "Processing file: Converted Recordings\\Melanerpes_carolinus_Westlake_Cuyahoga_Ohio_115025.wav\n",
      "Row: Melanerpes_carolinus_Lawrence_Woods_SNP_417981.wav\n",
      "Processing file: Converted Recordings\\Melanerpes_carolinus_Lawrence_Woods_SNP_417981.wav\n",
      "Row: Sphyrapicus_varius_Tanglewood_Lane_Cincinnati_Ohio_302918.wav\n",
      "Processing file: Converted Recordings\\Sphyrapicus_varius_Tanglewood_Lane_Cincinnati_Ohio_302918.wav\n",
      "Row: Sphyrapicus_varius_Cincinnati_Hamilton_County_Ohio_871471.wav\n",
      "Processing file: Converted Recordings\\Sphyrapicus_varius_Cincinnati_Hamilton_County_Ohio_871471.wav\n",
      "Row: Dryobates_pubescens_Point_Pelee_National_Park_near__Wheatley_Essex_County_Ontario_803584.wav\n",
      "Processing file: Converted Recordings\\Dryobates_pubescens_Point_Pelee_National_Park_near__Wheatley_Essex_County_Ontario_803584.wav\n",
      "Row: Dryobates_pubescens_Green_Township_near__Cincinnati_Hamilton_County_Ohio_676924.wav\n",
      "Processing file: Converted Recordings\\Dryobates_pubescens_Green_Township_near__Cincinnati_Hamilton_County_Ohio_676924.wav\n",
      "Row: Dryobates_pubescens_Pelee_near__Leamington_Essex_County_Ontario_476564.wav\n",
      "Processing file: Converted Recordings\\Dryobates_pubescens_Pelee_near__Leamington_Essex_County_Ontario_476564.wav\n",
      "Row: Dryobates_pubescens_Wegerzyn_garden_near__Dayton_Montgomery_County_Ohio_807220.wav\n",
      "Processing file: Converted Recordings\\Dryobates_pubescens_Wegerzyn_garden_near__Dayton_Montgomery_County_Ohio_807220.wav\n",
      "Row: Leuconotopicus_villosus_Green_Township_near__Lynx_Adams_County_Ohio_302925.wav\n",
      "Processing file: Converted Recordings\\Leuconotopicus_villosus_Green_Township_near__Lynx_Adams_County_Ohio_302925.wav\n",
      "Row: Leuconotopicus_villosus_Miami_Township_near__Cleves_Hamilton_County_Ohio_775844.wav\n",
      "Processing file: Converted Recordings\\Leuconotopicus_villosus_Miami_Township_near__Cleves_Hamilton_County_Ohio_775844.wav\n",
      "Row: Colaptes_auratus_Green_Township_near__Cincinnati_Hamilton_County_Ohio_807485.wav\n",
      "Processing file: Converted Recordings\\Colaptes_auratus_Green_Township_near__Cincinnati_Hamilton_County_Ohio_807485.wav\n",
      "Row: Colaptes_auratus_Anderson_Township_near__Cincinnati_Hamilton_County_Ohio_542520.wav\n",
      "Processing file: Converted Recordings\\Colaptes_auratus_Anderson_Township_near__Cincinnati_Hamilton_County_Ohio_542520.wav\n",
      "Row: Dryocopus_pileatus_Harrison_Township_near__Harrison_Hamilton_County_Ohio_691470.wav\n",
      "Processing file: Converted Recordings\\Dryocopus_pileatus_Harrison_Township_near__Harrison_Hamilton_County_Ohio_691470.wav\n",
      "Row: Dryocopus_pileatus_Harrison_Township_near__Harrison_Hamilton_County_Ohio_728222.wav\n",
      "Processing file: Converted Recordings\\Dryocopus_pileatus_Harrison_Township_near__Harrison_Hamilton_County_Ohio_728222.wav\n",
      "Row: Sayornis_phoebe_Harrison_Township_near__Harrison_Hamilton_County_Ohio_713591.wav\n",
      "Processing file: Converted Recordings\\Sayornis_phoebe_Harrison_Township_near__Harrison_Hamilton_County_Ohio_713591.wav\n",
      "Row: Sayornis_phoebe_Harrison_Township_near__Harrison_Hamilton_County_Ohio_713589.wav\n",
      "Processing file: Converted Recordings\\Sayornis_phoebe_Harrison_Township_near__Harrison_Hamilton_County_Ohio_713589.wav\n",
      "Row: Sayornis_phoebe_Pelee_near__Leamington_Essex_County_Ontario_476566.wav\n",
      "Processing file: Converted Recordings\\Sayornis_phoebe_Pelee_near__Leamington_Essex_County_Ontario_476566.wav\n",
      "Row: Contopus_virens_Pelee_near__Leamington_Essex_County_Ontario_476568.wav\n",
      "Processing file: Converted Recordings\\Contopus_virens_Pelee_near__Leamington_Essex_County_Ontario_476568.wav\n",
      "Row: Contopus_virens_Whitewater_Township_near__Cleves_Hamilton_County_Ohio_928713.wav\n",
      "Processing file: Converted Recordings\\Contopus_virens_Whitewater_Township_near__Cleves_Hamilton_County_Ohio_928713.wav\n",
      "Row: Contopus_virens_Whitewater_Township_near__Cleves_Hamilton_County_Ohio_817712.wav\n",
      "Processing file: Converted Recordings\\Contopus_virens_Whitewater_Township_near__Cleves_Hamilton_County_Ohio_817712.wav\n",
      "Row: Contopus_virens_Harrison_Township_near__Harrison_Hamilton_County_Ohio_726814.wav\n",
      "Processing file: Converted Recordings\\Contopus_virens_Harrison_Township_near__Harrison_Hamilton_County_Ohio_726814.wav\n",
      "Row: Contopus_virens_Spring_Valley_near__Waynesville_Greene_Cty_Ohio_477597.wav\n",
      "Processing file: Converted Recordings\\Contopus_virens_Spring_Valley_near__Waynesville_Greene_Cty_Ohio_477597.wav\n",
      "Row: Contopus_virens_Magee_Marsh_boardwalk_west_end_103501.wav\n",
      "Processing file: Converted Recordings\\Contopus_virens_Magee_Marsh_boardwalk_west_end_103501.wav\n",
      "Row: Contopus_virens_Tuttle_Park_Columbus_Ohio_89366.wav\n",
      "Processing file: Converted Recordings\\Contopus_virens_Tuttle_Park_Columbus_Ohio_89366.wav\n",
      "Row: Contopus_virens_Whitewater_Township_near__Cleves_Hamilton_County_Ohio_928711.wav\n",
      "Processing file: Converted Recordings\\Contopus_virens_Whitewater_Township_near__Cleves_Hamilton_County_Ohio_928711.wav\n",
      "Row: Empidonax_virescens_Miami_Township_near__Cleves_Hamilton_County_Ohio_807573.wav\n",
      "Processing file: Converted Recordings\\Empidonax_virescens_Miami_Township_near__Cleves_Hamilton_County_Ohio_807573.wav\n",
      "Row: Empidonax_virescens_Harrison_Township_near__Harrison_Hamilton_County_Ohio_728279.wav\n",
      "Processing file: Converted Recordings\\Empidonax_virescens_Harrison_Township_near__Harrison_Hamilton_County_Ohio_728279.wav\n",
      "Row: Empidonax_virescens_Harrison_Township_near__Harrison_Hamilton_County_Ohio_728275.wav\n",
      "Processing file: Converted Recordings\\Empidonax_virescens_Harrison_Township_near__Harrison_Hamilton_County_Ohio_728275.wav\n",
      "Row: Empidonax_virescens_Clifton_Gorge_NP_near__Clifton_Greene_County_Ohio_775046.wav\n",
      "Processing file: Converted Recordings\\Empidonax_virescens_Clifton_Gorge_NP_near__Clifton_Greene_County_Ohio_775046.wav\n",
      "Row: Empidonax_virescens_Harrison_Township_near__Harrison_Hamilton_County_Ohio_728272.wav\n",
      "Processing file: Converted Recordings\\Empidonax_virescens_Harrison_Township_near__Harrison_Hamilton_County_Ohio_728272.wav\n",
      "Row: Empidonax_virescens_Miami_Township_near__North_Bend_Hamilton_County_Ohio_670407.wav\n",
      "Processing file: Converted Recordings\\Empidonax_virescens_Miami_Township_near__North_Bend_Hamilton_County_Ohio_670407.wav\n",
      "Row: Empidonax_traillii_Whitewater_Township_near__White_Water_Park_Hamilton_County_Ohio_807543.wav\n",
      "Processing file: Converted Recordings\\Empidonax_traillii_Whitewater_Township_near__White_Water_Park_Hamilton_County_Ohio_807543.wav\n",
      "Row: Empidonax_traillii_Magee_Marsh_Ohio_298581.wav\n",
      "Processing file: Converted Recordings\\Empidonax_traillii_Magee_Marsh_Ohio_298581.wav\n",
      "Row: Empidonax_traillii_Magee_Marsh_Ohio_298355.wav\n",
      "Processing file: Converted Recordings\\Empidonax_traillii_Magee_Marsh_Ohio_298355.wav\n",
      "Row: Empidonax_traillii_Point_Pelee_National_Park_near__Wheatley_Essex_County_Ontario_806079.wav\n",
      "Processing file: Converted Recordings\\Empidonax_traillii_Point_Pelee_National_Park_near__Wheatley_Essex_County_Ontario_806079.wav\n",
      "Row: Empidonax_traillii_Whitewater_Township_near__Harrison_Hamilton_County_Ohio_726752.wav\n",
      "Processing file: Converted Recordings\\Empidonax_traillii_Whitewater_Township_near__Harrison_Hamilton_County_Ohio_726752.wav\n",
      "Row: Empidonax_traillii_Franklin_Township_near__Wooster_Wayne_County_Ohio_418568.wav\n",
      "Processing file: Converted Recordings\\Empidonax_traillii_Franklin_Township_near__Wooster_Wayne_County_Ohio_418568.wav\n",
      "Row: Empidonax_traillii_Magee_Marsh_Ohio_298575.wav\n",
      "Processing file: Converted Recordings\\Empidonax_traillii_Magee_Marsh_Ohio_298575.wav\n",
      "Row: Empidonax_traillii_Spring_Valley_near__Waynesville_Greene_Cty_Ohio_477603.wav\n",
      "Processing file: Converted Recordings\\Empidonax_traillii_Spring_Valley_near__Waynesville_Greene_Cty_Ohio_477603.wav\n",
      "Row: Empidonax_traillii_Cleveland_Cuyahoga_County_Ohio_256648.wav\n",
      "Processing file: Converted Recordings\\Empidonax_traillii_Cleveland_Cuyahoga_County_Ohio_256648.wav\n",
      "Row: Empidonax_traillii_Michigan_Monroe_County_16968.wav\n",
      "Processing file: Converted Recordings\\Empidonax_traillii_Michigan_Monroe_County_16968.wav\n",
      "Row: Tyrannus_tyrannus_Point_Pelee_National_Park_near__Wheatley_Essex_County_Ontario_805523.wav\n",
      "Processing file: Converted Recordings\\Tyrannus_tyrannus_Point_Pelee_National_Park_near__Wheatley_Essex_County_Ontario_805523.wav\n",
      "Row: Tyrannus_tyrannus_Dunham_Recreation_Complex_near__Cincinnati_Hamilton_County_Ohio_646450.wav\n",
      "Processing file: Converted Recordings\\Tyrannus_tyrannus_Dunham_Recreation_Complex_near__Cincinnati_Hamilton_County_Ohio_646450.wav\n",
      "Row: Myiarchus_crinitus_Miami_Township_near__North_Bend_Hamilton_County_Ohio_646113.wav\n",
      "Processing file: Converted Recordings\\Myiarchus_crinitus_Miami_Township_near__North_Bend_Hamilton_County_Ohio_646113.wav\n",
      "Row: Myiarchus_crinitus_Spring_Valley_near__Waynesville_Greene_Cty_Ohio_477599.wav\n",
      "Processing file: Converted Recordings\\Myiarchus_crinitus_Spring_Valley_near__Waynesville_Greene_Cty_Ohio_477599.wav\n",
      "Row: Myiarchus_crinitus_Berkshire_near__Galena_Delaware_Ohio_124160.wav\n",
      "Processing file: Converted Recordings\\Myiarchus_crinitus_Berkshire_near__Galena_Delaware_Ohio_124160.wav\n",
      "Row: Myiarchus_crinitus_Berkshire_near__Galena_Delaware_Ohio_124159.wav\n",
      "Processing file: Converted Recordings\\Myiarchus_crinitus_Berkshire_near__Galena_Delaware_Ohio_124159.wav\n",
      "Row: Vireo_olivaceus_Lawrence_Woods_SNP_417986.wav\n",
      "Processing file: Converted Recordings\\Vireo_olivaceus_Lawrence_Woods_SNP_417986.wav\n",
      "Row: Vireo_olivaceus_Magee_Marsh_-_boardwalk_Lucas_County_Ohio_827607.wav\n",
      "Processing file: Converted Recordings\\Vireo_olivaceus_Magee_Marsh_-_boardwalk_Lucas_County_Ohio_827607.wav\n",
      "Row: Vireo_gilvus_Magee_Marsh_-_boardwalk_Lucas_County_Ohio_827591.wav\n",
      "Processing file: Converted Recordings\\Vireo_gilvus_Magee_Marsh_-_boardwalk_Lucas_County_Ohio_827591.wav\n",
      "Row: Vireo_gilvus_Magee_Marsh_-_boardwalk_Lucas_County_Ohio_827590.wav\n",
      "Processing file: Converted Recordings\\Vireo_gilvus_Magee_Marsh_-_boardwalk_Lucas_County_Ohio_827590.wav\n",
      "Row: Vireo_gilvus_Ross_Township_near__Ross_Butler_County_Ohio_807514.wav\n",
      "Processing file: Converted Recordings\\Vireo_gilvus_Ross_Township_near__Ross_Butler_County_Ohio_807514.wav\n",
      "Row: Vireo_gilvus_Point_Pelee_National_Park_near__Wheatley_Essex_County_Ontario_806076.wav\n",
      "Processing file: Converted Recordings\\Vireo_gilvus_Point_Pelee_National_Park_near__Wheatley_Essex_County_Ontario_806076.wav\n",
      "Row: Vireo_gilvus_Whitewater_Township_near__Harrison_Hamilton_County_Ohio_726753.wav\n",
      "Processing file: Converted Recordings\\Vireo_gilvus_Whitewater_Township_near__Harrison_Hamilton_County_Ohio_726753.wav\n",
      "Row: Vireo_gilvus_Spring_Valley_near__Waynesville_Greene_Cty_Ohio_477609.wav\n",
      "Processing file: Converted Recordings\\Vireo_gilvus_Spring_Valley_near__Waynesville_Greene_Cty_Ohio_477609.wav\n",
      "Row: Vireo_gilvus_Pelee_near__Leamington_Essex_County_Ontario_477046.wav\n",
      "Processing file: Converted Recordings\\Vireo_gilvus_Pelee_near__Leamington_Essex_County_Ontario_477046.wav\n",
      "Row: Vireo_gilvus_Magee_Marsh_Ohio_939387.wav\n",
      "Processing file: Converted Recordings\\Vireo_gilvus_Magee_Marsh_Ohio_939387.wav\n",
      "Row: Vireo_gilvus_Magee_Marsh_Ohio_939386.wav\n",
      "Processing file: Converted Recordings\\Vireo_gilvus_Magee_Marsh_Ohio_939386.wav\n",
      "Row: Vireo_gilvus_Benton_Township_near__Rocky_Ridge_Ottawa_County_Ohio_902984.wav\n",
      "Processing file: Converted Recordings\\Vireo_gilvus_Benton_Township_near__Rocky_Ridge_Ottawa_County_Ohio_902984.wav\n",
      "Row: Vireo_gilvus_Benton_Township_near__Rocky_Ridge_Ottawa_County_Ohio_902983.wav\n",
      "Processing file: Converted Recordings\\Vireo_gilvus_Benton_Township_near__Rocky_Ridge_Ottawa_County_Ohio_902983.wav\n",
      "Row: Vireo_gilvus_Magee_Marsh_-_boardwalk_Lucas_County_Ohio_827594.wav\n",
      "Processing file: Converted Recordings\\Vireo_gilvus_Magee_Marsh_-_boardwalk_Lucas_County_Ohio_827594.wav\n",
      "Row: Vireo_gilvus_Magee_Marsh_-_boardwalk_Lucas_County_Ohio_827593.wav\n",
      "Processing file: Converted Recordings\\Vireo_gilvus_Magee_Marsh_-_boardwalk_Lucas_County_Ohio_827593.wav\n",
      "Row: Vireo_gilvus_Magee_Marsh_-_boardwalk_Lucas_County_Ohio_827592.wav\n",
      "Processing file: Converted Recordings\\Vireo_gilvus_Magee_Marsh_-_boardwalk_Lucas_County_Ohio_827592.wav\n",
      "Row: Vireo_gilvus_Magee_Marsh_-_boardwalk_Lucas_County_Ohio_827589.wav\n",
      "Processing file: Converted Recordings\\Vireo_gilvus_Magee_Marsh_-_boardwalk_Lucas_County_Ohio_827589.wav\n",
      "Row: Vireo_gilvus_Tanager_Meadow_Reservable_Shelter_near__Harrison_Hamilton_County_Ohio_807452.wav\n",
      "Processing file: Converted Recordings\\Vireo_gilvus_Tanager_Meadow_Reservable_Shelter_near__Harrison_Hamilton_County_Ohio_807452.wav\n",
      "Row: Vireo_gilvus_Magee_Marsh_-_boardwalk_Lucas_County_Ohio_827588.wav\n",
      "Processing file: Converted Recordings\\Vireo_gilvus_Magee_Marsh_-_boardwalk_Lucas_County_Ohio_827588.wav\n",
      "Row: Vireo_gilvus_Magee_Marsh_-_boardwalk_Lucas_County_Ohio_827586.wav\n",
      "Processing file: Converted Recordings\\Vireo_gilvus_Magee_Marsh_-_boardwalk_Lucas_County_Ohio_827586.wav\n",
      "Row: Vireo_gilvus_Magee_Marsh_Ohio_418005.wav\n",
      "Processing file: Converted Recordings\\Vireo_gilvus_Magee_Marsh_Ohio_418005.wav\n",
      "Row: Vireo_flavifrons_Harrison_Township_near__Harrison_Hamilton_County_Ohio_719923.wav\n",
      "Processing file: Converted Recordings\\Vireo_flavifrons_Harrison_Township_near__Harrison_Hamilton_County_Ohio_719923.wav\n",
      "Row: Vireo_flavifrons_Spring_Valley_near__Waynesville_Greene_Cty_Ohio_477608.wav\n",
      "Processing file: Converted Recordings\\Vireo_flavifrons_Spring_Valley_near__Waynesville_Greene_Cty_Ohio_477608.wav\n",
      "Row: Vireo_flavifrons_Oak_Openings_Metropark_Ohio_418068.wav\n",
      "Processing file: Converted Recordings\\Vireo_flavifrons_Oak_Openings_Metropark_Ohio_418068.wav\n",
      "Row: Vireo_flavifrons_Lawrence_Woods_SNP_417991.wav\n",
      "Processing file: Converted Recordings\\Vireo_flavifrons_Lawrence_Woods_SNP_417991.wav\n",
      "Row: Vireo_flavifrons_Lawrence_Woods_SNP_417990.wav\n",
      "Processing file: Converted Recordings\\Vireo_flavifrons_Lawrence_Woods_SNP_417990.wav\n",
      "Row: Vireo_flavifrons_Lawrence_Woods_SNP_417989.wav\n",
      "Processing file: Converted Recordings\\Vireo_flavifrons_Lawrence_Woods_SNP_417989.wav\n",
      "Row: Vireo_flavifrons_Shawnee_State_Forest_Scioto_County_Ohio_417452.wav\n",
      "Processing file: Converted Recordings\\Vireo_flavifrons_Shawnee_State_Forest_Scioto_County_Ohio_417452.wav\n",
      "Row: Vireo_flavifrons_Miami_Township_near__North_Bend_Hamilton_County_Ohio_645966.wav\n",
      "Processing file: Converted Recordings\\Vireo_flavifrons_Miami_Township_near__North_Bend_Hamilton_County_Ohio_645966.wav\n",
      "Row: Vireo_flavifrons_East_Fork_Lake_SP_Clermont_County_Ohio_477410.wav\n",
      "Processing file: Converted Recordings\\Vireo_flavifrons_East_Fork_Lake_SP_Clermont_County_Ohio_477410.wav\n",
      "Row: Vireo_flavifrons_Prairie_Oaks_Metro_Park--Sycamore_Plains_Area_182007.wav\n",
      "Processing file: Converted Recordings\\Vireo_flavifrons_Prairie_Oaks_Metro_Park--Sycamore_Plains_Area_182007.wav\n",
      "Row: Vireo_griseus_Crosby_Township_near__New_Haven_Hamilton_County_Ohio_833700.wav\n",
      "Processing file: Converted Recordings\\Vireo_griseus_Crosby_Township_near__New_Haven_Hamilton_County_Ohio_833700.wav\n",
      "Row: Vireo_griseus_Shawnee_State_Forest_Scioto_County_Ohio_417441.wav\n",
      "Processing file: Converted Recordings\\Vireo_griseus_Shawnee_State_Forest_Scioto_County_Ohio_417441.wav\n",
      "Row: Vireo_griseus_Point_Pelee_ON_83535.wav\n",
      "Processing file: Converted Recordings\\Vireo_griseus_Point_Pelee_ON_83535.wav\n",
      "Row: Vireo_griseus_Miami_Township_near__North_Bend_Hamilton_County_Ohio_645855.wav\n",
      "Processing file: Converted Recordings\\Vireo_griseus_Miami_Township_near__North_Bend_Hamilton_County_Ohio_645855.wav\n",
      "Row: Vireo_griseus_Miami_Township_near__North_Bend_Hamilton_County_Ohio_645853.wav\n",
      "Processing file: Converted Recordings\\Vireo_griseus_Miami_Township_near__North_Bend_Hamilton_County_Ohio_645853.wav\n",
      "Row: Vireo_griseus_Three_Creeks_Metro_Park--Confluence_Area_playground_Franklin_County_Ohio_186555.wav\n",
      "Processing file: Converted Recordings\\Vireo_griseus_Three_Creeks_Metro_Park--Confluence_Area_playground_Franklin_County_Ohio_186555.wav\n",
      "Row: Vireo_griseus_Ohio_Crane_Creek_SP_17026.wav\n",
      "Processing file: Converted Recordings\\Vireo_griseus_Ohio_Crane_Creek_SP_17026.wav\n",
      "Row: Vireo_bellii_Heritage_Rail-Trail_South_of_Hayden_Run_Rd_~200m_south_of_mile_marker_2_across_from_nest_box_#10_103570.wav\n",
      "Processing file: Converted Recordings\\Vireo_bellii_Heritage_Rail-Trail_South_of_Hayden_Run_Rd_~200m_south_of_mile_marker_2_across_from_nest_box_#10_103570.wav\n",
      "Row: Vireo_bellii_Heritage_Rail-Trail_south_of_Hayden_Run_Rd_near_mowed_path_BEVI_#1_103569.wav\n",
      "Processing file: Converted Recordings\\Vireo_bellii_Heritage_Rail-Trail_south_of_Hayden_Run_Rd_near_mowed_path_BEVI_#1_103569.wav\n",
      "Row: Vireo_bellii_Whitewater_Township_near__Harrison_Hamilton_County_Ohio_678953.wav\n",
      "Processing file: Converted Recordings\\Vireo_bellii_Whitewater_Township_near__Harrison_Hamilton_County_Ohio_678953.wav\n",
      "Row: Cyanocitta_cristata_Pelee_near__Leamington_Essex_County_Ontario_476525.wav\n",
      "Processing file: Converted Recordings\\Cyanocitta_cristata_Pelee_near__Leamington_Essex_County_Ontario_476525.wav\n",
      "Row: Cyanocitta_cristata_Cincinnati_Hamilton_County_Ohio_677298.wav\n",
      "Processing file: Converted Recordings\\Cyanocitta_cristata_Cincinnati_Hamilton_County_Ohio_677298.wav\n",
      "Row: Cyanocitta_cristata_Green_Township_near__Cincinnati_Hamilton_County_Ohio_672969.wav\n",
      "Processing file: Converted Recordings\\Cyanocitta_cristata_Green_Township_near__Cincinnati_Hamilton_County_Ohio_672969.wav\n",
      "Row: Cyanocitta_cristata_Miami_near__North_Bend_Hamilton_County_Ohio_542143.wav\n",
      "Processing file: Converted Recordings\\Cyanocitta_cristata_Miami_near__North_Bend_Hamilton_County_Ohio_542143.wav\n",
      "Row: Cyanocitta_cristata_Crosby_Township_near__Harrison_Hamilton_County_Ohio_807193.wav\n",
      "Processing file: Converted Recordings\\Cyanocitta_cristata_Crosby_Township_near__Harrison_Hamilton_County_Ohio_807193.wav\n",
      "Row: Cyanocitta_cristata_Green_Township_near__Cincinnati_Hamilton_County_Ohio_672963.wav\n",
      "Processing file: Converted Recordings\\Cyanocitta_cristata_Green_Township_near__Cincinnati_Hamilton_County_Ohio_672963.wav\n",
      "Row: Cyanocitta_cristata_Ohio_near__Cleveland_Heights_Cuyahoga_County_Ohio_418322.wav\n",
      "Processing file: Converted Recordings\\Cyanocitta_cristata_Ohio_near__Cleveland_Heights_Cuyahoga_County_Ohio_418322.wav\n",
      "Row: Corvus_brachyrhynchos_Harrison_Township_near__Harrison_Hamilton_County_Ohio_691531.wav\n",
      "Processing file: Converted Recordings\\Corvus_brachyrhynchos_Harrison_Township_near__Harrison_Hamilton_County_Ohio_691531.wav\n",
      "Row: Corvus_brachyrhynchos_mount_orab_ohio_691189.wav\n",
      "Processing file: Converted Recordings\\Corvus_brachyrhynchos_mount_orab_ohio_691189.wav\n",
      "Row: Corvus_brachyrhynchos_Ross_Township_near__Hamilton_Butler_County_Ohio_533366.wav\n",
      "Processing file: Converted Recordings\\Corvus_brachyrhynchos_Ross_Township_near__Hamilton_Butler_County_Ohio_533366.wav\n",
      "Row: Corvus_ossifragus_Leamington_Essex_County_Ontario_320736.wav\n",
      "Processing file: Converted Recordings\\Corvus_ossifragus_Leamington_Essex_County_Ontario_320736.wav\n",
      "Row: Corvus_ossifragus_Chapel_Hill_Plaza_Cuyahoga_Falls_Summit_County_Ohio_393849.wav\n",
      "Processing file: Converted Recordings\\Corvus_ossifragus_Chapel_Hill_Plaza_Cuyahoga_Falls_Summit_County_Ohio_393849.wav\n",
      "Row: Corvus_ossifragus_S_Green_Rd_&_Cedar_Rd_near__University_Heights_Cuyahoga_County_Ohio_268223.wav\n",
      "Processing file: Converted Recordings\\Corvus_ossifragus_S_Green_Rd_&_Cedar_Rd_near__University_Heights_Cuyahoga_County_Ohio_268223.wav\n",
      "Row: Corvus_ossifragus_Howe_Ave_@_Jared__Cuyahoga_Falls_Summit_County_Ohio_398409.wav\n",
      "Processing file: Converted Recordings\\Corvus_ossifragus_Howe_Ave_@_Jared__Cuyahoga_Falls_Summit_County_Ohio_398409.wav\n",
      "Row: Baeolophus_bicolor_Ohio_near__Akron_Summit_County_Ohio_376462.wav\n",
      "Processing file: Converted Recordings\\Baeolophus_bicolor_Ohio_near__Akron_Summit_County_Ohio_376462.wav\n",
      "Row: Baeolophus_bicolor_Harrison_Township_near__Harrison_Hamilton_County_Ohio_807495.wav\n",
      "Processing file: Converted Recordings\\Baeolophus_bicolor_Harrison_Township_near__Harrison_Hamilton_County_Ohio_807495.wav\n",
      "Row: Baeolophus_bicolor_Miami_Township_near__Cleves_Hamilton_County_Ohio_713584.wav\n",
      "Processing file: Converted Recordings\\Baeolophus_bicolor_Miami_Township_near__Cleves_Hamilton_County_Ohio_713584.wav\n",
      "Row: Baeolophus_bicolor_Miami_Whitewater_Forest_Park_wetlands_Crosby_Township_near__Harrison_Hamilton_County_Ohio_691529.wav\n",
      "Processing file: Converted Recordings\\Baeolophus_bicolor_Miami_Whitewater_Forest_Park_wetlands_Crosby_Township_near__Harrison_Hamilton_County_Ohio_691529.wav\n",
      "Row: Baeolophus_bicolor_Westlake_Cuyahoga_County_Ohio_726688.wav\n",
      "Processing file: Converted Recordings\\Baeolophus_bicolor_Westlake_Cuyahoga_County_Ohio_726688.wav\n",
      "Row: Baeolophus_bicolor_Green_Township_near__Cincinnati_Hamilton_County_Ohio_673001.wav\n",
      "Processing file: Converted Recordings\\Baeolophus_bicolor_Green_Township_near__Cincinnati_Hamilton_County_Ohio_673001.wav\n",
      "Row: Baeolophus_bicolor_Miami_Township_near__Cleves_Hamilton_County_Ohio_645567.wav\n",
      "Processing file: Converted Recordings\\Baeolophus_bicolor_Miami_Township_near__Cleves_Hamilton_County_Ohio_645567.wav\n",
      "Row: Baeolophus_bicolor_515_Park_End_Dr_Montgomery_Cty_OH_493455.wav\n",
      "Processing file: Converted Recordings\\Baeolophus_bicolor_515_Park_End_Dr_Montgomery_Cty_OH_493455.wav\n",
      "Row: Baeolophus_bicolor_East_Fork_Lake_SP_Clermont_County_Ohio_416551.wav\n",
      "Processing file: Converted Recordings\\Baeolophus_bicolor_East_Fork_Lake_SP_Clermont_County_Ohio_416551.wav\n",
      "Row: Baeolophus_bicolor_Beachwood_Cuyahoga_County_Ohio_287347.wav\n",
      "Processing file: Converted Recordings\\Baeolophus_bicolor_Beachwood_Cuyahoga_County_Ohio_287347.wav\n",
      "Row: Baeolophus_bicolor_Beachwood_Cuyahoga_County_Ohio_287345.wav\n",
      "Processing file: Converted Recordings\\Baeolophus_bicolor_Beachwood_Cuyahoga_County_Ohio_287345.wav\n",
      "Row: Baeolophus_bicolor_Miami_near__North_Bend_Hamilton_County_Ohio_542144.wav\n",
      "Processing file: Converted Recordings\\Baeolophus_bicolor_Miami_near__North_Bend_Hamilton_County_Ohio_542144.wav\n",
      "Row: Baeolophus_bicolor_Painesville_Lake_Ohio_138137.wav\n",
      "Processing file: Converted Recordings\\Baeolophus_bicolor_Painesville_Lake_Ohio_138137.wav\n",
      "Row: Poecile_carolinensis_Harrison_Township_near__Harrison_Hamilton_County_Ohio_807462.wav\n",
      "Processing file: Converted Recordings\\Poecile_carolinensis_Harrison_Township_near__Harrison_Hamilton_County_Ohio_807462.wav\n",
      "Row: Poecile_carolinensis_Green_Township_near__Cincinnati_Hamilton_County_Ohio_779380.wav\n",
      "Processing file: Converted Recordings\\Poecile_carolinensis_Green_Township_near__Cincinnati_Hamilton_County_Ohio_779380.wav\n",
      "Row: Poecile_carolinensis_Lawrence_Woods_SNP_417998.wav\n",
      "Processing file: Converted Recordings\\Poecile_carolinensis_Lawrence_Woods_SNP_417998.wav\n",
      "Row: Poecile_carolinensis_Green_Township_near__Cincinnati_Hamilton_County_Ohio_726700.wav\n",
      "Processing file: Converted Recordings\\Poecile_carolinensis_Green_Township_near__Cincinnati_Hamilton_County_Ohio_726700.wav\n",
      "Row: Poecile_carolinensis_Miami_Township_near__North_Bend_Hamilton_County_Ohio_713595.wav\n",
      "Processing file: Converted Recordings\\Poecile_carolinensis_Miami_Township_near__North_Bend_Hamilton_County_Ohio_713595.wav\n",
      "Row: Poecile_carolinensis_Green_Township_near__Cincinnati_Hamilton_County_Ohio_673007.wav\n",
      "Processing file: Converted Recordings\\Poecile_carolinensis_Green_Township_near__Cincinnati_Hamilton_County_Ohio_673007.wav\n",
      "Row: Poecile_carolinensis_Miami_Township_near__North_Bend_Hamilton_County_Ohio_645975.wav\n",
      "Processing file: Converted Recordings\\Poecile_carolinensis_Miami_Township_near__North_Bend_Hamilton_County_Ohio_645975.wav\n",
      "Row: Poecile_carolinensis_Lawrence_Woods_SNP_417997.wav\n",
      "Processing file: Converted Recordings\\Poecile_carolinensis_Lawrence_Woods_SNP_417997.wav\n",
      "Row: Poecile_atricapillus_Swanton_Township_near__Swanton_Lucas_County_Ohio_939388.wav\n",
      "Processing file: Converted Recordings\\Poecile_atricapillus_Swanton_Township_near__Swanton_Lucas_County_Ohio_939388.wav\n",
      "Row: Poecile_atricapillus_Magee_Marsh_-_boardwalk_Lucas_County_Ohio_814911.wav\n",
      "Processing file: Converted Recordings\\Poecile_atricapillus_Magee_Marsh_-_boardwalk_Lucas_County_Ohio_814911.wav\n",
      "Row: Poecile_atricapillus_Point_Pelee_National_Park_near__Wheatley_Essex_County_Ontario_803377.wav\n",
      "Processing file: Converted Recordings\\Poecile_atricapillus_Point_Pelee_National_Park_near__Wheatley_Essex_County_Ontario_803377.wav\n",
      "Row: Poecile_atricapillus_Westlake_Cuyahoga_County_Ohio_726692.wav\n",
      "Processing file: Converted Recordings\\Poecile_atricapillus_Westlake_Cuyahoga_County_Ohio_726692.wav\n",
      "Row: Poecile_atricapillus_Magee_Marsh_boardwalk_west_end_262804.wav\n",
      "Processing file: Converted Recordings\\Poecile_atricapillus_Magee_Marsh_boardwalk_west_end_262804.wav\n",
      "Row: Eremophila_alpestris_Dublin_Township_near__Rockford_Mercer_County_Ohio_716604.wav\n",
      "Processing file: Converted Recordings\\Eremophila_alpestris_Dublin_Township_near__Rockford_Mercer_County_Ohio_716604.wav\n",
      "Row: Eremophila_alpestris_Michigan_Monroe_County_16969.wav\n",
      "Processing file: Converted Recordings\\Eremophila_alpestris_Michigan_Monroe_County_16969.wav\n",
      "Row: Eremophila_alpestris_Michigan_Deerfield_11506.wav\n",
      "Processing file: Converted Recordings\\Eremophila_alpestris_Michigan_Deerfield_11506.wav\n",
      "Row: Eremophila_alpestris_Michigan_Deerfield_11505.wav\n",
      "Processing file: Converted Recordings\\Eremophila_alpestris_Michigan_Deerfield_11505.wav\n",
      "Row: Tachycineta_bicolor_Pelee_near__Leamington_Essex_County_Ontario_475639.wav\n",
      "Processing file: Converted Recordings\\Tachycineta_bicolor_Pelee_near__Leamington_Essex_County_Ontario_475639.wav\n",
      "Row: Tachycineta_bicolor_Point_Pelee_National_Park_near__Wheatley_Essex_County_Ontario_839333.wav\n",
      "Processing file: Converted Recordings\\Tachycineta_bicolor_Point_Pelee_National_Park_near__Wheatley_Essex_County_Ontario_839333.wav\n",
      "Row: Tachycineta_bicolor_Magee_Marsh_-_boardwalk_Lucas_County_Ohio_827054.wav\n",
      "Processing file: Converted Recordings\\Tachycineta_bicolor_Magee_Marsh_-_boardwalk_Lucas_County_Ohio_827054.wav\n",
      "Row: Tachycineta_bicolor_Big_Island_WA_Marion_County_Ohio_737242.wav\n",
      "Processing file: Converted Recordings\\Tachycineta_bicolor_Big_Island_WA_Marion_County_Ohio_737242.wav\n",
      "Row: Tachycineta_bicolor_Pelee_Shuttle_Stop_near__Leamington_Essex_County_Ontario_477045.wav\n",
      "Processing file: Converted Recordings\\Tachycineta_bicolor_Pelee_Shuttle_Stop_near__Leamington_Essex_County_Ontario_477045.wav\n",
      "Row: Tachycineta_bicolor_Ohio_Crane_Creek_SP_17046.wav\n",
      "Processing file: Converted Recordings\\Tachycineta_bicolor_Ohio_Crane_Creek_SP_17046.wav\n",
      "Row: Progne_subis_Vermilion_River_Reservation:_Mill_Hollow_near__Vermilion_Erie_County_Ohio_784046.wav\n",
      "Processing file: Converted Recordings\\Progne_subis_Vermilion_River_Reservation:_Mill_Hollow_near__Vermilion_Erie_County_Ohio_784046.wav\n",
      "Row: Progne_subis_Ottawa_NWR_Lucas_County_Ohio_803616.wav\n",
      "Processing file: Converted Recordings\\Progne_subis_Ottawa_NWR_Lucas_County_Ohio_803616.wav\n",
      "Row: Progne_subis_Magee_Marsh_Ohio_164751.wav\n",
      "Processing file: Converted Recordings\\Progne_subis_Magee_Marsh_Ohio_164751.wav\n",
      "Row: Progne_subis_Magee_Marsh_Ohio_164748.wav\n",
      "Processing file: Converted Recordings\\Progne_subis_Magee_Marsh_Ohio_164748.wav\n",
      "Row: Progne_subis_Whitewater_Township_near__Cleves_Hamilton_County_Ohio_817716.wav\n",
      "Processing file: Converted Recordings\\Progne_subis_Whitewater_Township_near__Cleves_Hamilton_County_Ohio_817716.wav\n",
      "Row: Hirundo_rustica_Green_Township_near__Cincinnati_Hamilton_County_Ohio_833706.wav\n",
      "Processing file: Converted Recordings\\Hirundo_rustica_Green_Township_near__Cincinnati_Hamilton_County_Ohio_833706.wav\n",
      "Row: Corthylio_calendula_Ohio_Crane_Creek_SP_17045.wav\n",
      "Processing file: Converted Recordings\\Corthylio_calendula_Ohio_Crane_Creek_SP_17045.wav\n",
      "Row: Cistothorus_stellaris_Battelle_Darby_Metro_Park--Cutoff_trail_from_Darby_Creek_Trail_past_barn_to_Darby_Creek_Rd._105741.wav\n",
      "Processing file: Converted Recordings\\Cistothorus_stellaris_Battelle_Darby_Metro_Park--Cutoff_trail_from_Darby_Creek_Trail_past_barn_to_Darby_Creek_Rd._105741.wav\n",
      "Row: Cistothorus_palustris_Jerusalem_Township_near__Bono_Lucas_County_Ohio_784047.wav\n",
      "Processing file: Converted Recordings\\Cistothorus_palustris_Jerusalem_Township_near__Bono_Lucas_County_Ohio_784047.wav\n",
      "Row: Cistothorus_palustris_Battelle_Darby_Metro_Park_-_Wetlands_417866.wav\n",
      "Processing file: Converted Recordings\\Cistothorus_palustris_Battelle_Darby_Metro_Park_-_Wetlands_417866.wav\n",
      "Row: Cistothorus_palustris_Battelle_Darby_Metro_Park_-_Wetlands_417865.wav\n",
      "Processing file: Converted Recordings\\Cistothorus_palustris_Battelle_Darby_Metro_Park_-_Wetlands_417865.wav\n",
      "Row: Cistothorus_palustris_Ohio_Ottawa_NWR_316630.wav\n",
      "Processing file: Converted Recordings\\Cistothorus_palustris_Ohio_Ottawa_NWR_316630.wav\n",
      "Row: Cistothorus_palustris_Ohio_Ottawa_NWR_178295.wav\n",
      "Processing file: Converted Recordings\\Cistothorus_palustris_Ohio_Ottawa_NWR_178295.wav\n",
      "Row: Thryothorus_ludovicianus_Whitewater_Township_near__Cleves_Hamilton_County_Ohio_896572.wav\n",
      "Processing file: Converted Recordings\\Thryothorus_ludovicianus_Whitewater_Township_near__Cleves_Hamilton_County_Ohio_896572.wav\n",
      "Row: Thryothorus_ludovicianus_Camp_Henry_near__Wheatley_Essex_County_Ontario_840733.wav\n",
      "Processing file: Converted Recordings\\Thryothorus_ludovicianus_Camp_Henry_near__Wheatley_Essex_County_Ontario_840733.wav\n",
      "Row: Thryothorus_ludovicianus_Point_Pelee_National_Park_near__Wheatley_Essex_County_Ontario_803581.wav\n",
      "Processing file: Converted Recordings\\Thryothorus_ludovicianus_Point_Pelee_National_Park_near__Wheatley_Essex_County_Ontario_803581.wav\n",
      "Row: Thryothorus_ludovicianus_Green_Township_near__Cincinnati_Hamilton_County_Ohio_726631.wav\n",
      "Processing file: Converted Recordings\\Thryothorus_ludovicianus_Green_Township_near__Cincinnati_Hamilton_County_Ohio_726631.wav\n",
      "Row: Thryothorus_ludovicianus_Spring_Valley_near__Waynesville_Greene_Cty_Ohio_477595.wav\n",
      "Processing file: Converted Recordings\\Thryothorus_ludovicianus_Spring_Valley_near__Waynesville_Greene_Cty_Ohio_477595.wav\n",
      "Row: Thryothorus_ludovicianus_East_Fork_Lake_SP_Clermont_County_Ohio_416559.wav\n",
      "Processing file: Converted Recordings\\Thryothorus_ludovicianus_East_Fork_Lake_SP_Clermont_County_Ohio_416559.wav\n",
      "Row: Thryothorus_ludovicianus_Indian_Lake_Logan_County_Ohio_775052.wav\n",
      "Processing file: Converted Recordings\\Thryothorus_ludovicianus_Indian_Lake_Logan_County_Ohio_775052.wav\n",
      "Row: Thryothorus_ludovicianus_Indian_Lake_Logan_County_Ohio_775050.wav\n",
      "Processing file: Converted Recordings\\Thryothorus_ludovicianus_Indian_Lake_Logan_County_Ohio_775050.wav\n",
      "Row: Thryothorus_ludovicianus_Anderson_Township_near__Cincinnati_Hamilton_County_Ohio_542519.wav\n",
      "Processing file: Converted Recordings\\Thryothorus_ludovicianus_Anderson_Township_near__Cincinnati_Hamilton_County_Ohio_542519.wav\n",
      "Row: Thryothorus_ludovicianus_Park_End_Dr_Montgomery_County_Ohio_477391.wav\n",
      "Processing file: Converted Recordings\\Thryothorus_ludovicianus_Park_End_Dr_Montgomery_County_Ohio_477391.wav\n",
      "Row: Thryothorus_ludovicianus_Wegerzyn_garden_near__Dayton_Montgomery_County_Ohio_807207.wav\n",
      "Processing file: Converted Recordings\\Thryothorus_ludovicianus_Wegerzyn_garden_near__Dayton_Montgomery_County_Ohio_807207.wav\n",
      "Row: Thryothorus_ludovicianus_Oak_Openings_Lucas_County_Ohio_804996.wav\n",
      "Processing file: Converted Recordings\\Thryothorus_ludovicianus_Oak_Openings_Lucas_County_Ohio_804996.wav\n",
      "Row: Thryothorus_ludovicianus_Miami_near__North_Bend_Hamilton_County_Ohio_542146.wav\n",
      "Processing file: Converted Recordings\\Thryothorus_ludovicianus_Miami_near__North_Bend_Hamilton_County_Ohio_542146.wav\n",
      "Row: Thryothorus_ludovicianus_Michigan_Whiteford_Township_17104.wav\n",
      "Processing file: Converted Recordings\\Thryothorus_ludovicianus_Michigan_Whiteford_Township_17104.wav\n",
      "Row: Troglodytes_hiemalis_Miami_Township_near__North_Bend_Hamilton_County_Ohio_713587.wav\n",
      "Processing file: Converted Recordings\\Troglodytes_hiemalis_Miami_Township_near__North_Bend_Hamilton_County_Ohio_713587.wav\n",
      "Row: Troglodytes_hiemalis_Boston_Township_near__Peninsula_Summit_County_Ohio_646091.wav\n",
      "Processing file: Converted Recordings\\Troglodytes_hiemalis_Boston_Township_near__Peninsula_Summit_County_Ohio_646091.wav\n",
      "Row: Troglodytes_aedon_Green_Township_near__Cincinnati_Hamilton_County_Ohio_726630.wav\n",
      "Processing file: Converted Recordings\\Troglodytes_aedon_Green_Township_near__Cincinnati_Hamilton_County_Ohio_726630.wav\n",
      "Row: Troglodytes_aedon_Miami_Township_near__Cleves_Hamilton_County_Ohio_645572.wav\n",
      "Processing file: Converted Recordings\\Troglodytes_aedon_Miami_Township_near__Cleves_Hamilton_County_Ohio_645572.wav\n",
      "Row: Troglodytes_aedon_Cleveland_Heights_Ohio_67466.wav\n",
      "Processing file: Converted Recordings\\Troglodytes_aedon_Cleveland_Heights_Ohio_67466.wav\n",
      "Row: Troglodytes_aedon_Magee_Marsh_-_boardwalk_Lucas_County_Ohio_828461.wav\n",
      "Processing file: Converted Recordings\\Troglodytes_aedon_Magee_Marsh_-_boardwalk_Lucas_County_Ohio_828461.wav\n",
      "Row: Troglodytes_aedon_Magee_Marsh_-_boardwalk_Lucas_County_Ohio_828458.wav\n",
      "Processing file: Converted Recordings\\Troglodytes_aedon_Magee_Marsh_-_boardwalk_Lucas_County_Ohio_828458.wav\n",
      "Row: Troglodytes_aedon_Pelee_near__Leamington_Essex_County_Ontario_476573.wav\n",
      "Processing file: Converted Recordings\\Troglodytes_aedon_Pelee_near__Leamington_Essex_County_Ontario_476573.wav\n",
      "Row: Troglodytes_aedon_Pelee_near__Leamington_Essex_County_Ontario_473225.wav\n",
      "Processing file: Converted Recordings\\Troglodytes_aedon_Pelee_near__Leamington_Essex_County_Ontario_473225.wav\n",
      "Row: Troglodytes_aedon_Orrville_Ohio_53922.wav\n",
      "Processing file: Converted Recordings\\Troglodytes_aedon_Orrville_Ohio_53922.wav\n",
      "Row: Troglodytes_aedon_Anderson_Township_near__Cincinnati_Hamilton_County_Ohio_552558.wav\n",
      "Processing file: Converted Recordings\\Troglodytes_aedon_Anderson_Township_near__Cincinnati_Hamilton_County_Ohio_552558.wav\n",
      "Row: Troglodytes_aedon_Cleveland_Cuyahoga_County_Ohio_256649.wav\n",
      "Processing file: Converted Recordings\\Troglodytes_aedon_Cleveland_Cuyahoga_County_Ohio_256649.wav\n",
      "Row: Troglodytes_aedon_Ohio_Crane_Creek_SP_17053.wav\n",
      "Processing file: Converted Recordings\\Troglodytes_aedon_Ohio_Crane_Creek_SP_17053.wav\n",
      "Row: Troglodytes_aedon_Ohio_Crane_Creek_SP_17052.wav\n",
      "Processing file: Converted Recordings\\Troglodytes_aedon_Ohio_Crane_Creek_SP_17052.wav\n",
      "Row: Troglodytes_aedon_Kendrick_Woods_State_Nature_Preserve_Allen_County_Ohio_775486.wav\n",
      "Processing file: Converted Recordings\\Troglodytes_aedon_Kendrick_Woods_State_Nature_Preserve_Allen_County_Ohio_775486.wav\n",
      "Row: Polioptila_caerulea_Point_Pelee_National_Park_near__Wheatley_Essex_County_Ontario_803379.wav\n",
      "Processing file: Converted Recordings\\Polioptila_caerulea_Point_Pelee_National_Park_near__Wheatley_Essex_County_Ontario_803379.wav\n",
      "Row: Polioptila_caerulea_Point_Pelee_National_Park_near__Wheatley_Essex_County_Ontario_803378.wav\n",
      "Processing file: Converted Recordings\\Polioptila_caerulea_Point_Pelee_National_Park_near__Wheatley_Essex_County_Ontario_803378.wav\n",
      "Row: Polioptila_caerulea_Pelee_near__Leamington_Essex_County_Ontario_476524.wav\n",
      "Processing file: Converted Recordings\\Polioptila_caerulea_Pelee_near__Leamington_Essex_County_Ontario_476524.wav\n",
      "Row: Polioptila_caerulea_Lawrence_Woods_SNP_417993.wav\n",
      "Processing file: Converted Recordings\\Polioptila_caerulea_Lawrence_Woods_SNP_417993.wav\n",
      "Row: Polioptila_caerulea_Lawrence_Woods_SNP_417992.wav\n",
      "Processing file: Converted Recordings\\Polioptila_caerulea_Lawrence_Woods_SNP_417992.wav\n",
      "Row: Polioptila_caerulea_East_Fork_Lake_SP_Clermont_County_Ohio_416548.wav\n",
      "Processing file: Converted Recordings\\Polioptila_caerulea_East_Fork_Lake_SP_Clermont_County_Ohio_416548.wav\n",
      "Row: Polioptila_caerulea_Magee_Marsh_-_boardwalk_Lucas_County_Ohio_816237.wav\n",
      "Processing file: Converted Recordings\\Polioptila_caerulea_Magee_Marsh_-_boardwalk_Lucas_County_Ohio_816237.wav\n",
      "Row: Polioptila_caerulea_Magee_Marsh_-_boardwalk_Lucas_County_Ohio_816236.wav\n",
      "Processing file: Converted Recordings\\Polioptila_caerulea_Magee_Marsh_-_boardwalk_Lucas_County_Ohio_816236.wav\n",
      "Row: Polioptila_caerulea_Dunham_Recreation_Complex_near__Cincinnati_Hamilton_County_Ohio_646424.wav\n",
      "Processing file: Converted Recordings\\Polioptila_caerulea_Dunham_Recreation_Complex_near__Cincinnati_Hamilton_County_Ohio_646424.wav\n",
      "Row: Polioptila_caerulea_Miami_Township_near__Cleves_Hamilton_County_Ohio_645807.wav\n",
      "Processing file: Converted Recordings\\Polioptila_caerulea_Miami_Township_near__Cleves_Hamilton_County_Ohio_645807.wav\n",
      "Row: Polioptila_caerulea_Anderson_Township_near__Cincinnati_Hamilton_County_Ohio_552557.wav\n",
      "Processing file: Converted Recordings\\Polioptila_caerulea_Anderson_Township_near__Cincinnati_Hamilton_County_Ohio_552557.wav\n",
      "Row: Polioptila_caerulea_Ohio_Crane_Creek_SP_17017.wav\n",
      "Processing file: Converted Recordings\\Polioptila_caerulea_Ohio_Crane_Creek_SP_17017.wav\n",
      "Row: Sitta_carolinensis_Harrison_Township_near__Harrison_Hamilton_County_Ohio_714979.wav\n",
      "Processing file: Converted Recordings\\Sitta_carolinensis_Harrison_Township_near__Harrison_Hamilton_County_Ohio_714979.wav\n",
      "Row: Sitta_carolinensis_Fort_Mitchell_Kenton_County_Kentucky_687224.wav\n",
      "Processing file: Converted Recordings\\Sitta_carolinensis_Fort_Mitchell_Kenton_County_Kentucky_687224.wav\n",
      "Row: Sitta_carolinensis_Lawrence_Woods_SNP_417999.wav\n",
      "Processing file: Converted Recordings\\Sitta_carolinensis_Lawrence_Woods_SNP_417999.wav\n",
      "Row: Sitta_carolinensis_Green_Township_near__Cincinnati_Hamilton_County_Ohio_673000.wav\n",
      "Processing file: Converted Recordings\\Sitta_carolinensis_Green_Township_near__Cincinnati_Hamilton_County_Ohio_673000.wav\n",
      "Row: Sitta_carolinensis_Harrison_Township_near__Harrison_Hamilton_County_Ohio_807181.wav\n",
      "Processing file: Converted Recordings\\Sitta_carolinensis_Harrison_Township_near__Harrison_Hamilton_County_Ohio_807181.wav\n",
      "Row: Sitta_canadensis_Cincinnati_Hamilton_County_Ohio_677294.wav\n",
      "Processing file: Converted Recordings\\Sitta_canadensis_Cincinnati_Hamilton_County_Ohio_677294.wav\n",
      "Row: Sitta_canadensis_Cincinnati_Hamilton_County_Ohio_677292.wav\n",
      "Processing file: Converted Recordings\\Sitta_canadensis_Cincinnati_Hamilton_County_Ohio_677292.wav\n",
      "Row: Sitta_canadensis_Cincinnati_Hamilton_County_Ohio_677293.wav\n",
      "Processing file: Converted Recordings\\Sitta_canadensis_Cincinnati_Hamilton_County_Ohio_677293.wav\n",
      "Row: Certhia_americana_Point_Pelee_National_Park_near__Wheatley_Essex_County_Ontario_839192.wav\n",
      "Processing file: Converted Recordings\\Certhia_americana_Point_Pelee_National_Park_near__Wheatley_Essex_County_Ontario_839192.wav\n",
      "Row: Certhia_americana_Fort_Mitchell_Kenton_County_Kentucky_687202.wav\n",
      "Processing file: Converted Recordings\\Certhia_americana_Fort_Mitchell_Kenton_County_Kentucky_687202.wav\n",
      "Row: Dumetella_carolinensis_Magee_Marsh_-_boardwalk_Lucas_County_Ohio_814891.wav\n",
      "Processing file: Converted Recordings\\Dumetella_carolinensis_Magee_Marsh_-_boardwalk_Lucas_County_Ohio_814891.wav\n",
      "Row: Dumetella_carolinensis_Magee_Marsh_-_boardwalk_Lucas_County_Ohio_814888.wav\n",
      "Processing file: Converted Recordings\\Dumetella_carolinensis_Magee_Marsh_-_boardwalk_Lucas_County_Ohio_814888.wav\n",
      "Row: Dumetella_carolinensis_Point_Pelee_National_Park_near__Wheatley_Essex_County_Ontario_805532.wav\n",
      "Processing file: Converted Recordings\\Dumetella_carolinensis_Point_Pelee_National_Park_near__Wheatley_Essex_County_Ontario_805532.wav\n",
      "Row: Dumetella_carolinensis_Lawrence_Woods_SNP_477577.wav\n",
      "Processing file: Converted Recordings\\Dumetella_carolinensis_Lawrence_Woods_SNP_477577.wav\n",
      "Row: Dumetella_carolinensis_Pelee_near__Leamington_Essex_County_Ontario_476572.wav\n",
      "Processing file: Converted Recordings\\Dumetella_carolinensis_Pelee_near__Leamington_Essex_County_Ontario_476572.wav\n",
      "Row: Dumetella_carolinensis_Magee_Marsh_-_boardwalk_Lucas_County_Ohio_814890.wav\n",
      "Processing file: Converted Recordings\\Dumetella_carolinensis_Magee_Marsh_-_boardwalk_Lucas_County_Ohio_814890.wav\n",
      "Row: Dumetella_carolinensis_Magee_Marsh_-_boardwalk_Lucas_County_Ohio_814889.wav\n",
      "Processing file: Converted Recordings\\Dumetella_carolinensis_Magee_Marsh_-_boardwalk_Lucas_County_Ohio_814889.wav\n",
      "Row: Dumetella_carolinensis_Whitewater_Township_near__White_Water_Park_Hamilton_County_Ohio_807552.wav\n",
      "Processing file: Converted Recordings\\Dumetella_carolinensis_Whitewater_Township_near__White_Water_Park_Hamilton_County_Ohio_807552.wav\n",
      "Row: Dumetella_carolinensis_Sheldon_Marsh_State_Nature_Preserve_723020.wav\n",
      "Processing file: Converted Recordings\\Dumetella_carolinensis_Sheldon_Marsh_State_Nature_Preserve_723020.wav\n",
      "Row: Dumetella_carolinensis_Michigan_Petersburg_SGA__31053.wav\n",
      "Processing file: Converted Recordings\\Dumetella_carolinensis_Michigan_Petersburg_SGA__31053.wav\n",
      "Row: Dumetella_carolinensis_Ohio_Crane_Creek_SP_17041.wav\n",
      "Processing file: Converted Recordings\\Dumetella_carolinensis_Ohio_Crane_Creek_SP_17041.wav\n",
      "Row: Dumetella_carolinensis_Magee_Marsh_boardwalk_west_end_262807.wav\n",
      "Processing file: Converted Recordings\\Dumetella_carolinensis_Magee_Marsh_boardwalk_west_end_262807.wav\n",
      "Row: Dumetella_carolinensis_Magee_Marsh_boardwalk_west_end_262806.wav\n",
      "Processing file: Converted Recordings\\Dumetella_carolinensis_Magee_Marsh_boardwalk_west_end_262806.wav\n",
      "Row: Mimus_polyglottos_Green_Township_near__Cincinnati_Hamilton_County_Ohio_807536.wav\n",
      "Processing file: Converted Recordings\\Mimus_polyglottos_Green_Township_near__Cincinnati_Hamilton_County_Ohio_807536.wav\n",
      "Row: Mimus_polyglottos_Green_Township_near__Cincinnati_Hamilton_County_Ohio_807449.wav\n",
      "Processing file: Converted Recordings\\Mimus_polyglottos_Green_Township_near__Cincinnati_Hamilton_County_Ohio_807449.wav\n",
      "Row: Mimus_polyglottos_Cincinnati_Hamilton_County_Ohio_677297.wav\n",
      "Processing file: Converted Recordings\\Mimus_polyglottos_Cincinnati_Hamilton_County_Ohio_677297.wav\n",
      "Row: Mimus_polyglottos_Cincinnati_Hamilton_County_Ohio_677295.wav\n",
      "Processing file: Converted Recordings\\Mimus_polyglottos_Cincinnati_Hamilton_County_Ohio_677295.wav\n",
      "Row: Mimus_polyglottos_Dunham_Recreation_Complex_near__Cincinnati_Hamilton_County_Ohio_646400.wav\n",
      "Processing file: Converted Recordings\\Mimus_polyglottos_Dunham_Recreation_Complex_near__Cincinnati_Hamilton_County_Ohio_646400.wav\n",
      "Row: Toxostoma_rufum_Hanover_Township_Licking_County_Ohio_893646.wav\n",
      "Processing file: Converted Recordings\\Toxostoma_rufum_Hanover_Township_Licking_County_Ohio_893646.wav\n",
      "Row: Toxostoma_rufum_Point_Pelee_National_Park_near__Wheatley_Essex_County_Ontario_803578.wav\n",
      "Processing file: Converted Recordings\\Toxostoma_rufum_Point_Pelee_National_Park_near__Wheatley_Essex_County_Ontario_803578.wav\n",
      "Row: Toxostoma_rufum_Green_Township_near__Cincinnati_Hamilton_County_Ohio_807480.wav\n",
      "Processing file: Converted Recordings\\Toxostoma_rufum_Green_Township_near__Cincinnati_Hamilton_County_Ohio_807480.wav\n",
      "Row: Toxostoma_rufum_Dunham_Recreation_Complex_near__Cincinnati_Hamilton_County_Ohio_646427.wav\n",
      "Processing file: Converted Recordings\\Toxostoma_rufum_Dunham_Recreation_Complex_near__Cincinnati_Hamilton_County_Ohio_646427.wav\n",
      "Row: Toxostoma_rufum_Miami_Township_near__Cleves_Hamilton_County_Ohio_645811.wav\n",
      "Processing file: Converted Recordings\\Toxostoma_rufum_Miami_Township_near__Cleves_Hamilton_County_Ohio_645811.wav\n",
      "Row: Toxostoma_rufum_Franklin_Township_near__Saint_Marys_Mercer_County_Ohio_637650.wav\n",
      "Processing file: Converted Recordings\\Toxostoma_rufum_Franklin_Township_near__Saint_Marys_Mercer_County_Ohio_637650.wav\n",
      "Row: Toxostoma_rufum_Ross_Township_near__Hamilton_Butler_County_Ohio_632519.wav\n",
      "Processing file: Converted Recordings\\Toxostoma_rufum_Ross_Township_near__Hamilton_Butler_County_Ohio_632519.wav\n",
      "Row: Toxostoma_rufum_Pelee_near__Leamington_Essex_County_Ontario_476526.wav\n",
      "Processing file: Converted Recordings\\Toxostoma_rufum_Pelee_near__Leamington_Essex_County_Ontario_476526.wav\n",
      "Row: Toxostoma_rufum_Virginia_Kendall_Lake_Peninsula_Summit_County_Ohio_412205.wav\n",
      "Processing file: Converted Recordings\\Toxostoma_rufum_Virginia_Kendall_Lake_Peninsula_Summit_County_Ohio_412205.wav\n",
      "Row: Sturnus_vulgaris_Michigan_Monroe_County_17173.wav\n",
      "Processing file: Converted Recordings\\Sturnus_vulgaris_Michigan_Monroe_County_17173.wav\n",
      "Row: Sialia_sialis_Cincinnati_Hamilton_County_Ohio_677299.wav\n",
      "Processing file: Converted Recordings\\Sialia_sialis_Cincinnati_Hamilton_County_Ohio_677299.wav\n",
      "Row: Sialia_sialis_Michigan_Monroe_County_17169.wav\n",
      "Processing file: Converted Recordings\\Sialia_sialis_Michigan_Monroe_County_17169.wav\n",
      "Row: Hylocichla_mustelina_Whitewater_Township_near__Cleves_Hamilton_County_Ohio_817713.wav\n",
      "Processing file: Converted Recordings\\Hylocichla_mustelina_Whitewater_Township_near__Cleves_Hamilton_County_Ohio_817713.wav\n",
      "Row: Hylocichla_mustelina_Packer-Hammersmith_Center_near__Oregon_Lucas_County_Ohio_784058.wav\n",
      "Processing file: Converted Recordings\\Hylocichla_mustelina_Packer-Hammersmith_Center_near__Oregon_Lucas_County_Ohio_784058.wav\n",
      "Row: Hylocichla_mustelina_Magee_Marsh_-_boardwalk_Lucas_County_Ohio_827229.wav\n",
      "Processing file: Converted Recordings\\Hylocichla_mustelina_Magee_Marsh_-_boardwalk_Lucas_County_Ohio_827229.wav\n",
      "Row: Hylocichla_mustelina_Miami_Township_near__North_Bend_Hamilton_County_Ohio_646004.wav\n",
      "Processing file: Converted Recordings\\Hylocichla_mustelina_Miami_Township_near__North_Bend_Hamilton_County_Ohio_646004.wav\n",
      "Row: Hylocichla_mustelina_Miami_Township_near__North_Bend_Hamilton_County_Ohio_552552.wav\n",
      "Processing file: Converted Recordings\\Hylocichla_mustelina_Miami_Township_near__North_Bend_Hamilton_County_Ohio_552552.wav\n",
      "Row: Hylocichla_mustelina_Sharon_Woods_near__Cincinnati_Hamilton_County_Ohio_483768.wav\n",
      "Processing file: Converted Recordings\\Hylocichla_mustelina_Sharon_Woods_near__Cincinnati_Hamilton_County_Ohio_483768.wav\n",
      "Row: Hylocichla_mustelina_Prairie_Oaks_Metro_Park--Sycamore_Plains_Area_182009.wav\n",
      "Processing file: Converted Recordings\\Hylocichla_mustelina_Prairie_Oaks_Metro_Park--Sycamore_Plains_Area_182009.wav\n",
      "Row: Hylocichla_mustelina_Ohio_Crane_Creek_SP_17042.wav\n",
      "Processing file: Converted Recordings\\Hylocichla_mustelina_Ohio_Crane_Creek_SP_17042.wav\n",
      "Row: Hylocichla_mustelina_Michigan_Monroe_County_16970.wav\n",
      "Processing file: Converted Recordings\\Hylocichla_mustelina_Michigan_Monroe_County_16970.wav\n",
      "Row: Catharus_ustulatus_Oak_Openings_Metropark_Ohio_418075.wav\n",
      "Processing file: Converted Recordings\\Catharus_ustulatus_Oak_Openings_Metropark_Ohio_418075.wav\n",
      "Row: Catharus_ustulatus_Firestone_Metropark_Summit_County_Ohio_368004.wav\n",
      "Processing file: Converted Recordings\\Catharus_ustulatus_Firestone_Metropark_Summit_County_Ohio_368004.wav\n",
      "Row: Catharus_ustulatus_Bricker_Blvd_near_Cranbrook_Elementary_Columbus_OH_127737.wav\n",
      "Processing file: Converted Recordings\\Catharus_ustulatus_Bricker_Blvd_near_Cranbrook_Elementary_Columbus_OH_127737.wav\n",
      "Row: Catharus_ustulatus_Columbus_Ohio_flight_call_recording_station_55203.wav\n",
      "Processing file: Converted Recordings\\Catharus_ustulatus_Columbus_Ohio_flight_call_recording_station_55203.wav\n",
      "Row: Catharus_minimus_Bricker_Blvd_near_Cranbrook_Elementary_Columbus_OH_127734.wav\n",
      "Processing file: Converted Recordings\\Catharus_minimus_Bricker_Blvd_near_Cranbrook_Elementary_Columbus_OH_127734.wav\n",
      "Row: Catharus_fuscescens_Oak_Openings_Lucas_County_Ohio_803619.wav\n",
      "Processing file: Converted Recordings\\Catharus_fuscescens_Oak_Openings_Lucas_County_Ohio_803619.wav\n",
      "Row: Turdus_migratorius_Harrison_Township_near__Harrison_Hamilton_County_Ohio_728269.wav\n",
      "Processing file: Converted Recordings\\Turdus_migratorius_Harrison_Township_near__Harrison_Hamilton_County_Ohio_728269.wav\n",
      "Row: Turdus_migratorius_Pelee_near__Leamington_Essex_County_Ontario_476496.wav\n",
      "Processing file: Converted Recordings\\Turdus_migratorius_Pelee_near__Leamington_Essex_County_Ontario_476496.wav\n",
      "Row: Turdus_migratorius_Pelee_near__Leamington_Essex_County_Ontario_476494.wav\n",
      "Processing file: Converted Recordings\\Turdus_migratorius_Pelee_near__Leamington_Essex_County_Ontario_476494.wav\n",
      "Row: Turdus_migratorius_Green_Township_near__Cincinnati_Hamilton_County_Ohio_807538.wav\n",
      "Processing file: Converted Recordings\\Turdus_migratorius_Green_Township_near__Cincinnati_Hamilton_County_Ohio_807538.wav\n",
      "Row: Turdus_migratorius_Rossford_Wood_County_Ohio_803608.wav\n",
      "Processing file: Converted Recordings\\Turdus_migratorius_Rossford_Wood_County_Ohio_803608.wav\n",
      "Row: Turdus_migratorius_Bricker_Blvd_near_Cranbrook_Elementary_Columbus_OH_103571.wav\n",
      "Processing file: Converted Recordings\\Turdus_migratorius_Bricker_Blvd_near_Cranbrook_Elementary_Columbus_OH_103571.wav\n",
      "Row: Spinus_tristis_Miami_Township_near__Yellow_Springs_Greene_County_Ohio_756999.wav\n",
      "Processing file: Converted Recordings\\Spinus_tristis_Miami_Township_near__Yellow_Springs_Greene_County_Ohio_756999.wav\n",
      "Row: Spinus_tristis_Michigan_Petersburg_SGA_31023.wav\n",
      "Processing file: Converted Recordings\\Spinus_tristis_Michigan_Petersburg_SGA_31023.wav\n",
      "Row: Spinus_tristis_Pelee_near__Leamington_Essex_County_Ontario_476269.wav\n",
      "Processing file: Converted Recordings\\Spinus_tristis_Pelee_near__Leamington_Essex_County_Ontario_476269.wav\n",
      "Row: Spinus_tristis_Miami_Township_near__North_Bend_Hamilton_County_Ohio_646115.wav\n",
      "Processing file: Converted Recordings\\Spinus_tristis_Miami_Township_near__North_Bend_Hamilton_County_Ohio_646115.wav\n",
      "Row: Ammodramus_savannarum_Michigan_Monroe_County_16953.wav\n",
      "Processing file: Converted Recordings\\Ammodramus_savannarum_Michigan_Monroe_County_16953.wav\n",
      "Row: Chondestes_grammacus_Ives_Road_Fen_Raisin_Charter_Township_near__Tecumseh_Lenawee_County_Michigan_734597.wav\n",
      "Processing file: Converted Recordings\\Chondestes_grammacus_Ives_Road_Fen_Raisin_Charter_Township_near__Tecumseh_Lenawee_County_Michigan_734597.wav\n",
      "Row: Chondestes_grammacus_Ives_Road_Fen_Raisin_Charter_Township_near__Tecumseh_Lenawee_County_Michigan_734596.wav\n",
      "Processing file: Converted Recordings\\Chondestes_grammacus_Ives_Road_Fen_Raisin_Charter_Township_near__Tecumseh_Lenawee_County_Michigan_734596.wav\n",
      "Row: Chondestes_grammacus_Michigan_Petersburg_SGA__31027.wav\n",
      "Processing file: Converted Recordings\\Chondestes_grammacus_Michigan_Petersburg_SGA__31027.wav\n",
      "Row: Spizella_passerina_Miami_Township_near__Cleves_Hamilton_County_Ohio_645554.wav\n",
      "Processing file: Converted Recordings\\Spizella_passerina_Miami_Township_near__Cleves_Hamilton_County_Ohio_645554.wav\n",
      "Row: Spizella_passerina_Pelee_near__Leamington_Essex_County_Ontario_476560.wav\n",
      "Processing file: Converted Recordings\\Spizella_passerina_Pelee_near__Leamington_Essex_County_Ontario_476560.wav\n",
      "Row: Spizella_passerina_Michigan_Monroe_County_16985.wav\n",
      "Processing file: Converted Recordings\\Spizella_passerina_Michigan_Monroe_County_16985.wav\n",
      "Row: Spizella_passerina_Miami_near__North_Bend_Hamilton_County_Ohio_542142.wav\n",
      "Processing file: Converted Recordings\\Spizella_passerina_Miami_near__North_Bend_Hamilton_County_Ohio_542142.wav\n",
      "Row: Spizella_passerina_Michigan_Monroe_County_16984.wav\n",
      "Processing file: Converted Recordings\\Spizella_passerina_Michigan_Monroe_County_16984.wav\n",
      "Row: Spizella_passerina_Michigan_Monroe_County_16983.wav\n",
      "Processing file: Converted Recordings\\Spizella_passerina_Michigan_Monroe_County_16983.wav\n",
      "Row: Spizella_passerina_Michigan_Monroe_County_16982.wav\n",
      "Processing file: Converted Recordings\\Spizella_passerina_Michigan_Monroe_County_16982.wav\n",
      "Row: Spizella_passerina_Michigan_Monroe_County_16981.wav\n",
      "Processing file: Converted Recordings\\Spizella_passerina_Michigan_Monroe_County_16981.wav\n",
      "Row: Spizella_passerina_Michigan_Monroe_County_17172.wav\n",
      "Processing file: Converted Recordings\\Spizella_passerina_Michigan_Monroe_County_17172.wav\n",
      "Row: Spizella_pusilla_Madison_Township_near__Canal_Winchester_Franklin_County_Ohio_554398.wav\n",
      "Processing file: Converted Recordings\\Spizella_pusilla_Madison_Township_near__Canal_Winchester_Franklin_County_Ohio_554398.wav\n",
      "Row: Spizella_pusilla_Miami_Township_near__Cleves_Hamilton_County_Ohio_807577.wav\n",
      "Processing file: Converted Recordings\\Spizella_pusilla_Miami_Township_near__Cleves_Hamilton_County_Ohio_807577.wav\n",
      "Row: Spizella_pusilla_Oak_Openings_Metropark_Ohio_418069.wav\n",
      "Processing file: Converted Recordings\\Spizella_pusilla_Oak_Openings_Metropark_Ohio_418069.wav\n",
      "Row: Spizella_pusilla_Lawrence_Woods_SNP_417977.wav\n",
      "Processing file: Converted Recordings\\Spizella_pusilla_Lawrence_Woods_SNP_417977.wav\n",
      "Row: Spizella_pusilla_Lawrence_Woods_SNP_417975.wav\n",
      "Processing file: Converted Recordings\\Spizella_pusilla_Lawrence_Woods_SNP_417975.wav\n",
      "Row: Spizella_pusilla_Oak_Openings_Lucas_County_Ohio_803618.wav\n",
      "Processing file: Converted Recordings\\Spizella_pusilla_Oak_Openings_Lucas_County_Ohio_803618.wav\n",
      "Row: Spizella_pusilla_Whitewater_Township_near__Harrison_Hamilton_County_Ohio_726763.wav\n",
      "Processing file: Converted Recordings\\Spizella_pusilla_Whitewater_Township_near__Harrison_Hamilton_County_Ohio_726763.wav\n",
      "Row: Spizella_pusilla_Marseilles_Township_near__Upper_Sandusky_Wyandot_County_Ohio_637645.wav\n",
      "Processing file: Converted Recordings\\Spizella_pusilla_Marseilles_Township_near__Upper_Sandusky_Wyandot_County_Ohio_637645.wav\n",
      "Row: Spizella_pusilla_East_Fork_Lake_SP_Clermont_County_Ohio_416557.wav\n",
      "Processing file: Converted Recordings\\Spizella_pusilla_East_Fork_Lake_SP_Clermont_County_Ohio_416557.wav\n",
      "Row: Spizella_pusilla_Crosby_Township_near__Harrison_Hamilton_County_Ohio_632520.wav\n",
      "Processing file: Converted Recordings\\Spizella_pusilla_Crosby_Township_near__Harrison_Hamilton_County_Ohio_632520.wav\n",
      "Row: Spizella_pusilla_Michigan_Monroe_County_16986.wav\n",
      "Processing file: Converted Recordings\\Spizella_pusilla_Michigan_Monroe_County_16986.wav\n",
      "Row: Passerella_iliaca_Firestone_Metropark_Summit_County_Ohio_407934.wav\n",
      "Processing file: Converted Recordings\\Passerella_iliaca_Firestone_Metropark_Summit_County_Ohio_407934.wav\n",
      "Row: Junco_hyemalis_Pebblebrook_Lane_Moreland_Hills_Ohio_79986.wav\n",
      "Processing file: Converted Recordings\\Junco_hyemalis_Pebblebrook_Lane_Moreland_Hills_Ohio_79986.wav\n",
      "Row: Zonotrichia_albicollis_Cuyahoga_Falls_Summit_County_Ohio_475087.wav\n",
      "Processing file: Converted Recordings\\Zonotrichia_albicollis_Cuyahoga_Falls_Summit_County_Ohio_475087.wav\n",
      "Row: Pooecetes_gramineus_Michigan_Monroe_County_17154.wav\n",
      "Processing file: Converted Recordings\\Pooecetes_gramineus_Michigan_Monroe_County_17154.wav\n",
      "Row: Pooecetes_gramineus_Michigan_Monroe_County_17095.wav\n",
      "Processing file: Converted Recordings\\Pooecetes_gramineus_Michigan_Monroe_County_17095.wav\n",
      "Row: Pooecetes_gramineus_Michigan_Monroe_County_16978.wav\n",
      "Processing file: Converted Recordings\\Pooecetes_gramineus_Michigan_Monroe_County_16978.wav\n",
      "Row: Centronyx_henslowii_Ross_Township_near__Ross_Butler_County_Ohio_807504.wav\n",
      "Processing file: Converted Recordings\\Centronyx_henslowii_Ross_Township_near__Ross_Butler_County_Ohio_807504.wav\n",
      "Row: Centronyx_henslowii_Battelle_Darby_Metro_Park_-_Wetlands_417868.wav\n",
      "Processing file: Converted Recordings\\Centronyx_henslowii_Battelle_Darby_Metro_Park_-_Wetlands_417868.wav\n",
      "Row: Centronyx_henslowii_Battelle_Darby_Metro_Park_-_Wetlands_417867.wav\n",
      "Processing file: Converted Recordings\\Centronyx_henslowii_Battelle_Darby_Metro_Park_-_Wetlands_417867.wav\n",
      "Row: Centronyx_henslowii_Miami_Whitewater_Forest_Park_wetlands_Crosby_Township_near__Harrison_Hamilton_County_Ohio_302926.wav\n",
      "Processing file: Converted Recordings\\Centronyx_henslowii_Miami_Whitewater_Forest_Park_wetlands_Crosby_Township_near__Harrison_Hamilton_County_Ohio_302926.wav\n",
      "Row: Centronyx_henslowii_Battelle_Darby_Metro_Park--Grain_Elevator_Wetlands_106752.wav\n",
      "Processing file: Converted Recordings\\Centronyx_henslowii_Battelle_Darby_Metro_Park--Grain_Elevator_Wetlands_106752.wav\n",
      "Row: Melospiza_melodia_Magee_Marsh_-_boardwalk_Lucas_County_Ohio_826141.wav\n",
      "Processing file: Converted Recordings\\Melospiza_melodia_Magee_Marsh_-_boardwalk_Lucas_County_Ohio_826141.wav\n",
      "Row: Melospiza_melodia_Magee_Marsh_-_boardwalk_Lucas_County_Ohio_826140.wav\n",
      "Processing file: Converted Recordings\\Melospiza_melodia_Magee_Marsh_-_boardwalk_Lucas_County_Ohio_826140.wav\n",
      "Row: Melospiza_melodia_Green_Township_near__Cincinnati_Hamilton_County_Ohio_807468.wav\n",
      "Processing file: Converted Recordings\\Melospiza_melodia_Green_Township_near__Cincinnati_Hamilton_County_Ohio_807468.wav\n",
      "Row: Melospiza_melodia_Point_Pelee_National_Park_near__Wheatley_Essex_County_Ontario_806074.wav\n",
      "Processing file: Converted Recordings\\Melospiza_melodia_Point_Pelee_National_Park_near__Wheatley_Essex_County_Ontario_806074.wav\n",
      "Row: Melospiza_melodia_Battelle_Darby_Metro_Park--Darby_Dan_Training_Loop_trail_SW_corner_105818.wav\n",
      "Processing file: Converted Recordings\\Melospiza_melodia_Battelle_Darby_Metro_Park--Darby_Dan_Training_Loop_trail_SW_corner_105818.wav\n",
      "Row: Melospiza_melodia_Miami_Whitewater_Forest_Park_wetlands_Crosby_Township_near__Harrison_Hamilton_County_Ohio_687157.wav\n",
      "Processing file: Converted Recordings\\Melospiza_melodia_Miami_Whitewater_Forest_Park_wetlands_Crosby_Township_near__Harrison_Hamilton_County_Ohio_687157.wav\n",
      "Row: Melospiza_melodia_Oak_Openings_Metropark_Ohio_418071.wav\n",
      "Processing file: Converted Recordings\\Melospiza_melodia_Oak_Openings_Metropark_Ohio_418071.wav\n",
      "Row: Melospiza_melodia_Michigan_Monroe_County_16972.wav\n",
      "Processing file: Converted Recordings\\Melospiza_melodia_Michigan_Monroe_County_16972.wav\n",
      "Row: Melospiza_melodia_Michigan_Monroe_County_17143.wav\n",
      "Processing file: Converted Recordings\\Melospiza_melodia_Michigan_Monroe_County_17143.wav\n",
      "Row: Melospiza_georgiana_Miami_Whitewater_Forest_Park_wetlands_Crosby_Township_near__Harrison_Hamilton_County_Ohio_687137.wav\n",
      "Processing file: Converted Recordings\\Melospiza_georgiana_Miami_Whitewater_Forest_Park_wetlands_Crosby_Township_near__Harrison_Hamilton_County_Ohio_687137.wav\n",
      "Row: Melospiza_georgiana_Battelle_Darby_Metro_Park_-_Wetlands_417851.wav\n",
      "Processing file: Converted Recordings\\Melospiza_georgiana_Battelle_Darby_Metro_Park_-_Wetlands_417851.wav\n",
      "Row: Melospiza_georgiana_Pelee_near__Leamington_Essex_County_Ontario_475341.wav\n",
      "Processing file: Converted Recordings\\Melospiza_georgiana_Pelee_near__Leamington_Essex_County_Ontario_475341.wav\n",
      "Row: Melospiza_georgiana_Cuyhaoga_National_Forest_57835.wav\n",
      "Processing file: Converted Recordings\\Melospiza_georgiana_Cuyhaoga_National_Forest_57835.wav\n",
      "Row: Pipilo_erythrophthalmus_Edge_of_Appalachia_Preserve_Adams_Cty_Ohio_939170.wav\n",
      "Processing file: Converted Recordings\\Pipilo_erythrophthalmus_Edge_of_Appalachia_Preserve_Adams_Cty_Ohio_939170.wav\n",
      "Row: Pipilo_erythrophthalmus_Point_Pelee_National_Park_near__Wheatley_Essex_County_Ontario_805531.wav\n",
      "Processing file: Converted Recordings\\Pipilo_erythrophthalmus_Point_Pelee_National_Park_near__Wheatley_Essex_County_Ontario_805531.wav\n",
      "Row: Pipilo_erythrophthalmus_Green_Township_near__Cincinnati_Hamilton_County_Ohio_779377.wav\n",
      "Processing file: Converted Recordings\\Pipilo_erythrophthalmus_Green_Township_near__Cincinnati_Hamilton_County_Ohio_779377.wav\n",
      "Row: Pipilo_erythrophthalmus_Miami_Township_near__Cleves_Hamilton_County_Ohio_645749.wav\n",
      "Processing file: Converted Recordings\\Pipilo_erythrophthalmus_Miami_Township_near__Cleves_Hamilton_County_Ohio_645749.wav\n",
      "Row: Pipilo_erythrophthalmus_Pelee_near__Leamington_Essex_County_Ontario_476567.wav\n",
      "Processing file: Converted Recordings\\Pipilo_erythrophthalmus_Pelee_near__Leamington_Essex_County_Ontario_476567.wav\n",
      "Row: Pipilo_erythrophthalmus_Brush_Creek_near__West_Union_Adams_County_Ohio_178534.wav\n",
      "Processing file: Converted Recordings\\Pipilo_erythrophthalmus_Brush_Creek_near__West_Union_Adams_County_Ohio_178534.wav\n",
      "Row: Pipilo_erythrophthalmus_Ross_Township_near__Hamilton_Butler_County_Ohio_533333.wav\n",
      "Processing file: Converted Recordings\\Pipilo_erythrophthalmus_Ross_Township_near__Hamilton_Butler_County_Ohio_533333.wav\n",
      "Row: Pipilo_erythrophthalmus_Upper_Twin_Creek_Rd_Scioto_County_Ohio_417606.wav\n",
      "Processing file: Converted Recordings\\Pipilo_erythrophthalmus_Upper_Twin_Creek_Rd_Scioto_County_Ohio_417606.wav\n",
      "Row: Pipilo_erythrophthalmus_East_Fork_Lake_SP_Clermont_County_Ohio_416553.wav\n",
      "Processing file: Converted Recordings\\Pipilo_erythrophthalmus_East_Fork_Lake_SP_Clermont_County_Ohio_416553.wav\n",
      "Row: Pipilo_erythrophthalmus_Michigan_Petersburg_SGA__31106.wav\n",
      "Processing file: Converted Recordings\\Pipilo_erythrophthalmus_Michigan_Petersburg_SGA__31106.wav\n",
      "Row: Pipilo_erythrophthalmus_Michigan_Monroe_County_17150.wav\n",
      "Processing file: Converted Recordings\\Pipilo_erythrophthalmus_Michigan_Monroe_County_17150.wav\n",
      "Row: Pipilo_erythrophthalmus_East_Fork_Lake_SP_Clermont_County_Ohio_416552.wav\n",
      "Processing file: Converted Recordings\\Pipilo_erythrophthalmus_East_Fork_Lake_SP_Clermont_County_Ohio_416552.wav\n",
      "Row: Pipilo_erythrophthalmus_Michigan_Petersburg_SGA__31105.wav\n",
      "Processing file: Converted Recordings\\Pipilo_erythrophthalmus_Michigan_Petersburg_SGA__31105.wav\n",
      "Row: Pipilo_erythrophthalmus_Michigan_Monroe_County_17151.wav\n",
      "Processing file: Converted Recordings\\Pipilo_erythrophthalmus_Michigan_Monroe_County_17151.wav\n",
      "Row: Pipilo_erythrophthalmus_Oak_Openings_Lucas_County_Ohio_804997.wav\n",
      "Processing file: Converted Recordings\\Pipilo_erythrophthalmus_Oak_Openings_Lucas_County_Ohio_804997.wav\n",
      "Row: Icteria_virens_Miami_Township_near__Cleves_Hamilton_County_Ohio_807580.wav\n",
      "Processing file: Converted Recordings\\Icteria_virens_Miami_Township_near__Cleves_Hamilton_County_Ohio_807580.wav\n",
      "Row: Icteria_virens_Miami_Township_near__North_Bend_Hamilton_County_Ohio_646037.wav\n",
      "Processing file: Converted Recordings\\Icteria_virens_Miami_Township_near__North_Bend_Hamilton_County_Ohio_646037.wav\n",
      "Row: Dolichonyx_oryzivorus_Case_Farm_Gates_Mills_Ohio_67480.wav\n",
      "Processing file: Converted Recordings\\Dolichonyx_oryzivorus_Case_Farm_Gates_Mills_Ohio_67480.wav\n",
      "Row: Sturnella_neglecta_Riga_Township_near__Ottawa_Lake_Lenawee_County_Michigan_332656.wav\n",
      "Processing file: Converted Recordings\\Sturnella_neglecta_Riga_Township_near__Ottawa_Lake_Lenawee_County_Michigan_332656.wav\n",
      "Row: Sturnella_magna_Voice_of_America_MetroPark_near__Middletown_Butler_County_Ohio_645577.wav\n",
      "Processing file: Converted Recordings\\Sturnella_magna_Voice_of_America_MetroPark_near__Middletown_Butler_County_Ohio_645577.wav\n",
      "Row: Sturnella_magna_Voice_of_America_MetroPark_near__Middletown_Butler_County_Ohio_643650.wav\n",
      "Processing file: Converted Recordings\\Sturnella_magna_Voice_of_America_MetroPark_near__Middletown_Butler_County_Ohio_643650.wav\n",
      "Row: Icterus_galbula_Magee_Marsh_-_boardwalk_Lucas_County_Ohio_820108.wav\n",
      "Processing file: Converted Recordings\\Icterus_galbula_Magee_Marsh_-_boardwalk_Lucas_County_Ohio_820108.wav\n",
      "Row: Icterus_galbula_Magee_Marsh_-_boardwalk_Lucas_County_Ohio_818924.wav\n",
      "Processing file: Converted Recordings\\Icterus_galbula_Magee_Marsh_-_boardwalk_Lucas_County_Ohio_818924.wav\n",
      "Row: Icterus_galbula_Point_Pelee_National_Park_near__Wheatley_Essex_County_Ontario_803372.wav\n",
      "Processing file: Converted Recordings\\Icterus_galbula_Point_Pelee_National_Park_near__Wheatley_Essex_County_Ontario_803372.wav\n",
      "Row: Icterus_galbula_Whitewater_Township_near__Harrison_Hamilton_County_Ohio_726803.wav\n",
      "Processing file: Converted Recordings\\Icterus_galbula_Whitewater_Township_near__Harrison_Hamilton_County_Ohio_726803.wav\n",
      "Row: Icterus_galbula_Dunham_Recreation_Complex_near__Cincinnati_Hamilton_County_Ohio_646455.wav\n",
      "Processing file: Converted Recordings\\Icterus_galbula_Dunham_Recreation_Complex_near__Cincinnati_Hamilton_County_Ohio_646455.wav\n",
      "Row: Icterus_galbula_Pelee_near__Leamington_Essex_County_Ontario_476519.wav\n",
      "Processing file: Converted Recordings\\Icterus_galbula_Pelee_near__Leamington_Essex_County_Ontario_476519.wav\n",
      "Row: Icterus_galbula_Kiser_Lake_SP_Champaign_County_Ohio_938239.wav\n",
      "Processing file: Converted Recordings\\Icterus_galbula_Kiser_Lake_SP_Champaign_County_Ohio_938239.wav\n",
      "Row: Icterus_galbula_Kiser_Lake_SP_Champaign_County_Ohio_938235.wav\n",
      "Processing file: Converted Recordings\\Icterus_galbula_Kiser_Lake_SP_Champaign_County_Ohio_938235.wav\n",
      "Row: Icterus_galbula_Magee_Marsh_-_boardwalk_Lucas_County_Ohio_820109.wav\n",
      "Processing file: Converted Recordings\\Icterus_galbula_Magee_Marsh_-_boardwalk_Lucas_County_Ohio_820109.wav\n",
      "Row: Icterus_galbula_Magee_Marsh_-_boardwalk_Lucas_County_Ohio_818926.wav\n",
      "Processing file: Converted Recordings\\Icterus_galbula_Magee_Marsh_-_boardwalk_Lucas_County_Ohio_818926.wav\n",
      "Row: Icterus_galbula_Magee_Marsh_-_boardwalk_Lucas_County_Ohio_818925.wav\n",
      "Processing file: Converted Recordings\\Icterus_galbula_Magee_Marsh_-_boardwalk_Lucas_County_Ohio_818925.wav\n",
      "Row: Icterus_galbula_Tanager_Meadow_Reservable_Shelter_near__Harrison_Hamilton_County_Ohio_807350.wav\n",
      "Processing file: Converted Recordings\\Icterus_galbula_Tanager_Meadow_Reservable_Shelter_near__Harrison_Hamilton_County_Ohio_807350.wav\n",
      "Row: Icterus_galbula_Tanager_Meadow_Reservable_Shelter_near__Harrison_Hamilton_County_Ohio_807347.wav\n",
      "Processing file: Converted Recordings\\Icterus_galbula_Tanager_Meadow_Reservable_Shelter_near__Harrison_Hamilton_County_Ohio_807347.wav\n",
      "Row: Icterus_galbula_Park_End_Dr_Montgomery_County_Ohio_477390.wav\n",
      "Processing file: Converted Recordings\\Icterus_galbula_Park_End_Dr_Montgomery_County_Ohio_477390.wav\n",
      "Row: Icterus_galbula_Magee_Marsh_Ohio_418002.wav\n",
      "Processing file: Converted Recordings\\Icterus_galbula_Magee_Marsh_Ohio_418002.wav\n",
      "Row: Icterus_galbula_Resthaven_Wildlife_Area_Erie_County_Ohio_217786.wav\n",
      "Processing file: Converted Recordings\\Icterus_galbula_Resthaven_Wildlife_Area_Erie_County_Ohio_217786.wav\n",
      "Row: Icterus_galbula_Michigan_Monroe_County_16971.wav\n",
      "Processing file: Converted Recordings\\Icterus_galbula_Michigan_Monroe_County_16971.wav\n",
      "Row: Icterus_galbula_Magee_Marsh_-_boardwalk_Lucas_County_Ohio_820106.wav\n",
      "Processing file: Converted Recordings\\Icterus_galbula_Magee_Marsh_-_boardwalk_Lucas_County_Ohio_820106.wav\n",
      "Row: Icterus_spurius_Maumee_Bay_SP_Ohio_806260.wav\n",
      "Processing file: Converted Recordings\\Icterus_spurius_Maumee_Bay_SP_Ohio_806260.wav\n",
      "Row: Icterus_spurius_Ohio_Ottawa_NWR_178296.wav\n",
      "Processing file: Converted Recordings\\Icterus_spurius_Ohio_Ottawa_NWR_178296.wav\n",
      "Row: Icterus_spurius_Heritage_Trail_Metro_Park_Hayden_Run_Rd_parking_area_103503.wav\n",
      "Processing file: Converted Recordings\\Icterus_spurius_Heritage_Trail_Metro_Park_Hayden_Run_Rd_parking_area_103503.wav\n",
      "Row: Icterus_spurius_Heritage_Trail_Metro_Park_Hayden_Run_Rd_parking_area_103502.wav\n",
      "Processing file: Converted Recordings\\Icterus_spurius_Heritage_Trail_Metro_Park_Hayden_Run_Rd_parking_area_103502.wav\n",
      "Row: Icterus_spurius_Michigan_Whiteford_Township_17091.wav\n",
      "Processing file: Converted Recordings\\Icterus_spurius_Michigan_Whiteford_Township_17091.wav\n",
      "Row: Icterus_spurius_Michigan_Whiteford_Township_17090.wav\n",
      "Processing file: Converted Recordings\\Icterus_spurius_Michigan_Whiteford_Township_17090.wav\n",
      "Row: Agelaius_phoeniceus_Kiser_Lake_SP_Champaign_County_Ohio_938242.wav\n",
      "Processing file: Converted Recordings\\Agelaius_phoeniceus_Kiser_Lake_SP_Champaign_County_Ohio_938242.wav\n",
      "Row: Agelaius_phoeniceus_Magee_Marsh_-_boardwalk_Lucas_County_Ohio_814755.wav\n",
      "Processing file: Converted Recordings\\Agelaius_phoeniceus_Magee_Marsh_-_boardwalk_Lucas_County_Ohio_814755.wav\n",
      "Row: Agelaius_phoeniceus_Magee_Marsh_-_boardwalk_Lucas_County_Ohio_814751.wav\n",
      "Processing file: Converted Recordings\\Agelaius_phoeniceus_Magee_Marsh_-_boardwalk_Lucas_County_Ohio_814751.wav\n",
      "Row: Agelaius_phoeniceus_Wegerzyn_garden_near__Dayton_Montgomery_County_Ohio_807222.wav\n",
      "Processing file: Converted Recordings\\Agelaius_phoeniceus_Wegerzyn_garden_near__Dayton_Montgomery_County_Ohio_807222.wav\n",
      "Row: Agelaius_phoeniceus_Dunham_Recreation_Complex_near__Cincinnati_Hamilton_County_Ohio_646125.wav\n",
      "Processing file: Converted Recordings\\Agelaius_phoeniceus_Dunham_Recreation_Complex_near__Cincinnati_Hamilton_County_Ohio_646125.wav\n",
      "Row: Agelaius_phoeniceus_Franklin_Township_near__Saint_Marys_Mercer_County_Ohio_637652.wav\n",
      "Processing file: Converted Recordings\\Agelaius_phoeniceus_Franklin_Township_near__Saint_Marys_Mercer_County_Ohio_637652.wav\n",
      "Row: Agelaius_phoeniceus_Pelee_near__Leamington_Essex_County_Ontario_477032.wav\n",
      "Processing file: Converted Recordings\\Agelaius_phoeniceus_Pelee_near__Leamington_Essex_County_Ontario_477032.wav\n",
      "Row: Agelaius_phoeniceus_Battelle_Darby_Metro_Park_-_Wetlands_417853.wav\n",
      "Processing file: Converted Recordings\\Agelaius_phoeniceus_Battelle_Darby_Metro_Park_-_Wetlands_417853.wav\n",
      "Row: Agelaius_phoeniceus_Battelle_Darby_Metro_Park_-_Wetlands_417845.wav\n",
      "Processing file: Converted Recordings\\Agelaius_phoeniceus_Battelle_Darby_Metro_Park_-_Wetlands_417845.wav\n",
      "Row: Agelaius_phoeniceus_Pipe_Creek_Wildlife_Area_Erie_County_Ohio_803614.wav\n",
      "Processing file: Converted Recordings\\Agelaius_phoeniceus_Pipe_Creek_Wildlife_Area_Erie_County_Ohio_803614.wav\n",
      "Row: Agelaius_phoeniceus_Battelle_Darby_Metro_Park_-_Wetlands_737241.wav\n",
      "Processing file: Converted Recordings\\Agelaius_phoeniceus_Battelle_Darby_Metro_Park_-_Wetlands_737241.wav\n",
      "Row: Agelaius_phoeniceus_Ross_Township_near__Hamilton_Butler_County_Ohio_533370.wav\n",
      "Processing file: Converted Recordings\\Agelaius_phoeniceus_Ross_Township_near__Hamilton_Butler_County_Ohio_533370.wav\n",
      "Row: Agelaius_phoeniceus_Crosby_Township_near__Harrison_Hamilton_County_Ohio_482675.wav\n",
      "Processing file: Converted Recordings\\Agelaius_phoeniceus_Crosby_Township_near__Harrison_Hamilton_County_Ohio_482675.wav\n",
      "Row: Agelaius_phoeniceus_Case_Farm_Gates_Mills_Ohio_98722.wav\n",
      "Processing file: Converted Recordings\\Agelaius_phoeniceus_Case_Farm_Gates_Mills_Ohio_98722.wav\n",
      "Row: Agelaius_phoeniceus_Ohio_Crane_Creek_SP_17011.wav\n",
      "Processing file: Converted Recordings\\Agelaius_phoeniceus_Ohio_Crane_Creek_SP_17011.wav\n",
      "Row: Agelaius_phoeniceus_Maumee_Bay_State_Park_Lucas_County_Ohio_821130.wav\n",
      "Processing file: Converted Recordings\\Agelaius_phoeniceus_Maumee_Bay_State_Park_Lucas_County_Ohio_821130.wav\n",
      "Row: Agelaius_phoeniceus_Maumee_Bay_State_Park_Lucas_County_Ohio_821123.wav\n",
      "Processing file: Converted Recordings\\Agelaius_phoeniceus_Maumee_Bay_State_Park_Lucas_County_Ohio_821123.wav\n",
      "Row: Agelaius_phoeniceus_UC_Center_for_Field_Studies_482986.wav\n",
      "Processing file: Converted Recordings\\Agelaius_phoeniceus_UC_Center_for_Field_Studies_482986.wav\n",
      "Row: Molothrus_ater_Miami_Township_near__Cleves_Hamilton_County_Ohio_645734.wav\n",
      "Processing file: Converted Recordings\\Molothrus_ater_Miami_Township_near__Cleves_Hamilton_County_Ohio_645734.wav\n",
      "Row: Molothrus_ater_Pelee_near__Leamington_Essex_County_Ontario_476558.wav\n",
      "Processing file: Converted Recordings\\Molothrus_ater_Pelee_near__Leamington_Essex_County_Ontario_476558.wav\n",
      "Row: Molothrus_ater_Lawrence_Woods_SNP_417996.wav\n",
      "Processing file: Converted Recordings\\Molothrus_ater_Lawrence_Woods_SNP_417996.wav\n",
      "Row: Euphagus_carolinus_Michigan_Deerfield_11853.wav\n",
      "Processing file: Converted Recordings\\Euphagus_carolinus_Michigan_Deerfield_11853.wav\n",
      "Row: Euphagus_carolinus_Firestone_Metropark_Summit_County_Ohio_401462.wav\n",
      "Processing file: Converted Recordings\\Euphagus_carolinus_Firestone_Metropark_Summit_County_Ohio_401462.wav\n",
      "Row: Euphagus_carolinus_Ohio_Crane_Creek_SP_17013.wav\n",
      "Processing file: Converted Recordings\\Euphagus_carolinus_Ohio_Crane_Creek_SP_17013.wav\n",
      "Row: Quiscalus_quiscula_Pelee_near__Leamington_Essex_County_Ontario_476561.wav\n",
      "Processing file: Converted Recordings\\Quiscalus_quiscula_Pelee_near__Leamington_Essex_County_Ontario_476561.wav\n",
      "Row: Quiscalus_quiscula_Wegerzyn_garden_near__Dayton_Montgomery_County_Ohio_807216.wav\n",
      "Processing file: Converted Recordings\\Quiscalus_quiscula_Wegerzyn_garden_near__Dayton_Montgomery_County_Ohio_807216.wav\n",
      "Row: Seiurus_aurocapilla_Swanton_Township_near__Swanton_Lucas_County_Ohio_784050.wav\n",
      "Processing file: Converted Recordings\\Seiurus_aurocapilla_Swanton_Township_near__Swanton_Lucas_County_Ohio_784050.wav\n",
      "Row: Seiurus_aurocapilla_Harrison_Township_near__Harrison_Hamilton_County_Ohio_726815.wav\n",
      "Processing file: Converted Recordings\\Seiurus_aurocapilla_Harrison_Township_near__Harrison_Hamilton_County_Ohio_726815.wav\n",
      "Row: Seiurus_aurocapilla_Shawnee_State_Forest_Scioto_County_Ohio_417447.wav\n",
      "Processing file: Converted Recordings\\Seiurus_aurocapilla_Shawnee_State_Forest_Scioto_County_Ohio_417447.wav\n",
      "Row: Seiurus_aurocapilla_Burlington_Boone_County_Kentucky_552553.wav\n",
      "Processing file: Converted Recordings\\Seiurus_aurocapilla_Burlington_Boone_County_Kentucky_552553.wav\n",
      "Row: Seiurus_aurocapilla_Ohio_Crane_Creek_SP_17021.wav\n",
      "Processing file: Converted Recordings\\Seiurus_aurocapilla_Ohio_Crane_Creek_SP_17021.wav\n",
      "Row: Seiurus_aurocapilla_Ohio_Crane_Creek_SP_17019.wav\n",
      "Processing file: Converted Recordings\\Seiurus_aurocapilla_Ohio_Crane_Creek_SP_17019.wav\n",
      "Row: Seiurus_aurocapilla_Ohio_Crane_Creek_SP_17023.wav\n",
      "Processing file: Converted Recordings\\Seiurus_aurocapilla_Ohio_Crane_Creek_SP_17023.wav\n",
      "Row: Seiurus_aurocapilla_Ohio_Crane_Creek_SP_17022.wav\n",
      "Processing file: Converted Recordings\\Seiurus_aurocapilla_Ohio_Crane_Creek_SP_17022.wav\n",
      "Row: Seiurus_aurocapilla_Ohio_Crane_Creek_SP_17020.wav\n",
      "Processing file: Converted Recordings\\Seiurus_aurocapilla_Ohio_Crane_Creek_SP_17020.wav\n",
      "Row: Parkesia_motacilla_Harrison_Township_near__Harrison_Hamilton_County_Ohio_805820.wav\n",
      "Processing file: Converted Recordings\\Parkesia_motacilla_Harrison_Township_near__Harrison_Hamilton_County_Ohio_805820.wav\n",
      "Row: Parkesia_motacilla_Harrison_Township_near__Harrison_Hamilton_County_Ohio_714922.wav\n",
      "Processing file: Converted Recordings\\Parkesia_motacilla_Harrison_Township_near__Harrison_Hamilton_County_Ohio_714922.wav\n",
      "Row: Parkesia_motacilla_Upper_Twin_Creek_Rd_Scioto_County_Ohio_417605.wav\n",
      "Processing file: Converted Recordings\\Parkesia_motacilla_Upper_Twin_Creek_Rd_Scioto_County_Ohio_417605.wav\n",
      "Row: Parkesia_motacilla_Anderson_Township_near__Cincinnati_Hamilton_County_Ohio_542524.wav\n",
      "Processing file: Converted Recordings\\Parkesia_motacilla_Anderson_Township_near__Cincinnati_Hamilton_County_Ohio_542524.wav\n",
      "Row: Parkesia_noveboracensis_Magee_Marsh_-_boardwalk_Lucas_County_Ohio_828221.wav\n",
      "Processing file: Converted Recordings\\Parkesia_noveboracensis_Magee_Marsh_-_boardwalk_Lucas_County_Ohio_828221.wav\n",
      "Row: Parkesia_noveboracensis_Point_Pelee_National_Park_near__Wheatley_Essex_County_Ontario_804668.wav\n",
      "Processing file: Converted Recordings\\Parkesia_noveboracensis_Point_Pelee_National_Park_near__Wheatley_Essex_County_Ontario_804668.wav\n",
      "Row: Parkesia_noveboracensis_Benton_Township_near__Rocky_Ridge_Ottawa_County_Ohio_902985.wav\n",
      "Processing file: Converted Recordings\\Parkesia_noveboracensis_Benton_Township_near__Rocky_Ridge_Ottawa_County_Ohio_902985.wav\n",
      "Row: Parkesia_noveboracensis_Benton_Township_near__Rocky_Ridge_Ottawa_County_Ohio_902982.wav\n",
      "Processing file: Converted Recordings\\Parkesia_noveboracensis_Benton_Township_near__Rocky_Ridge_Ottawa_County_Ohio_902982.wav\n",
      "Row: Parkesia_noveboracensis_Benton_Township_near__Rocky_Ridge_Ottawa_County_Ohio_902981.wav\n",
      "Processing file: Converted Recordings\\Parkesia_noveboracensis_Benton_Township_near__Rocky_Ridge_Ottawa_County_Ohio_902981.wav\n",
      "Row: Parkesia_noveboracensis_Virginia_Kendall_Lake_Park_Summit_County_Ohio_367525.wav\n",
      "Processing file: Converted Recordings\\Parkesia_noveboracensis_Virginia_Kendall_Lake_Park_Summit_County_Ohio_367525.wav\n",
      "Row: Parkesia_noveboracensis_Ohio_Crane_Creek_SP_17024.wav\n",
      "Processing file: Converted Recordings\\Parkesia_noveboracensis_Ohio_Crane_Creek_SP_17024.wav\n",
      "Row: Vermivora_chrysoptera_Magee_Marsh_-_boardwalk_Lucas_County_Ohio_939868.wav\n",
      "Processing file: Converted Recordings\\Vermivora_chrysoptera_Magee_Marsh_-_boardwalk_Lucas_County_Ohio_939868.wav\n",
      "Row: Vermivora_chrysoptera_Delaware_Count_OH_99394.wav\n",
      "Processing file: Converted Recordings\\Vermivora_chrysoptera_Delaware_Count_OH_99394.wav\n",
      "Row: Vermivora_chrysoptera_Prairie_Oaks_Metro_Park_99391.wav\n",
      "Processing file: Converted Recordings\\Vermivora_chrysoptera_Prairie_Oaks_Metro_Park_99391.wav\n",
      "Row: Vermivora_chrysoptera_Prairie_Oaks_Metro_Park_99393.wav\n",
      "Processing file: Converted Recordings\\Vermivora_chrysoptera_Prairie_Oaks_Metro_Park_99393.wav\n",
      "Row: Vermivora_chrysoptera_Prairie_Oaks_Metro_Park_99390.wav\n",
      "Processing file: Converted Recordings\\Vermivora_chrysoptera_Prairie_Oaks_Metro_Park_99390.wav\n",
      "Row: Vermivora_cyanoptera_Irwin_Prairie_SNP_Ohio_418085.wav\n",
      "Processing file: Converted Recordings\\Vermivora_cyanoptera_Irwin_Prairie_SNP_Ohio_418085.wav\n",
      "Row: Vermivora_cyanoptera_Irwin_Prairie_SNP_Ohio_418083.wav\n",
      "Processing file: Converted Recordings\\Vermivora_cyanoptera_Irwin_Prairie_SNP_Ohio_418083.wav\n",
      "Row: Vermivora_cyanoptera_Irwin_Prairie_SNP_Ohio_418082.wav\n",
      "Processing file: Converted Recordings\\Vermivora_cyanoptera_Irwin_Prairie_SNP_Ohio_418082.wav\n",
      "Row: Vermivora_cyanoptera_Oak_Openings_Metropark_Ohio_418074.wav\n",
      "Processing file: Converted Recordings\\Vermivora_cyanoptera_Oak_Openings_Metropark_Ohio_418074.wav\n",
      "Row: Vermivora_cyanoptera_Shawnee_State_Forest_Scioto_County_Ohio_417455.wav\n",
      "Processing file: Converted Recordings\\Vermivora_cyanoptera_Shawnee_State_Forest_Scioto_County_Ohio_417455.wav\n",
      "Row: Vermivora_cyanoptera_Miami_Whitewater_Forest_Hamilton_County_Ohio_Strimple_Rd._44416.wav\n",
      "Processing file: Converted Recordings\\Vermivora_cyanoptera_Miami_Whitewater_Forest_Hamilton_County_Ohio_Strimple_Rd._44416.wav\n",
      "Row: Vermivora_cyanoptera_Oak_Openings_Lucas_County_Ohio_803617.wav\n",
      "Processing file: Converted Recordings\\Vermivora_cyanoptera_Oak_Openings_Lucas_County_Ohio_803617.wav\n",
      "Row: Vermivora_cyanoptera_Michigan_Petersburg_SGA__31125.wav\n",
      "Processing file: Converted Recordings\\Vermivora_cyanoptera_Michigan_Petersburg_SGA__31125.wav\n",
      "Row: Vermivora_cyanoptera_Michigan_Petersburg_SGA__31124.wav\n",
      "Processing file: Converted Recordings\\Vermivora_cyanoptera_Michigan_Petersburg_SGA__31124.wav\n",
      "Row: Vermivora_cyanoptera_Michigan_Petersburg_SGA__31123.wav\n",
      "Processing file: Converted Recordings\\Vermivora_cyanoptera_Michigan_Petersburg_SGA__31123.wav\n",
      "Row: Mniotilta_varia_Shawnee_State_Forest_Scioto_County_Ohio_939168.wav\n",
      "Processing file: Converted Recordings\\Mniotilta_varia_Shawnee_State_Forest_Scioto_County_Ohio_939168.wav\n",
      "Row: Mniotilta_varia_Magee_Marsh_Ohio_418093.wav\n",
      "Processing file: Converted Recordings\\Mniotilta_varia_Magee_Marsh_Ohio_418093.wav\n",
      "Row: Mniotilta_varia_Magee_Marsh_Ohio_418092.wav\n",
      "Processing file: Converted Recordings\\Mniotilta_varia_Magee_Marsh_Ohio_418092.wav\n",
      "Row: Mniotilta_varia_Magee_Marsh_-_boardwalk_Lucas_County_Ohio_827727.wav\n",
      "Processing file: Converted Recordings\\Mniotilta_varia_Magee_Marsh_-_boardwalk_Lucas_County_Ohio_827727.wav\n",
      "Row: Mniotilta_varia_Benton_Township_near__Rocky_Ridge_Ottawa_County_Ohio_902974.wav\n",
      "Processing file: Converted Recordings\\Mniotilta_varia_Benton_Township_near__Rocky_Ridge_Ottawa_County_Ohio_902974.wav\n",
      "Row: Mniotilta_varia_Ohio_Crane_Creek_SP_17043.wav\n",
      "Processing file: Converted Recordings\\Mniotilta_varia_Ohio_Crane_Creek_SP_17043.wav\n",
      "Row: Mniotilta_varia_Ohio_Crane_Creek_SP_17015.wav\n",
      "Processing file: Converted Recordings\\Mniotilta_varia_Ohio_Crane_Creek_SP_17015.wav\n",
      "Row: Mniotilta_varia_Ohio_Crane_Creek_SP_17014.wav\n",
      "Processing file: Converted Recordings\\Mniotilta_varia_Ohio_Crane_Creek_SP_17014.wav\n",
      "Row: Protonotaria_citrea_Point_Pelee_National_Park_near__Wheatley_Essex_County_Ontario_839864.wav\n",
      "Processing file: Converted Recordings\\Protonotaria_citrea_Point_Pelee_National_Park_near__Wheatley_Essex_County_Ontario_839864.wav\n",
      "Row: Protonotaria_citrea_Magee_Marsh_-_boardwalk_Lucas_County_Ohio_828067.wav\n",
      "Processing file: Converted Recordings\\Protonotaria_citrea_Magee_Marsh_-_boardwalk_Lucas_County_Ohio_828067.wav\n",
      "Row: Protonotaria_citrea_Magee_Marsh_-_boardwalk_Lucas_County_Ohio_828064.wav\n",
      "Processing file: Converted Recordings\\Protonotaria_citrea_Magee_Marsh_-_boardwalk_Lucas_County_Ohio_828064.wav\n",
      "Row: Protonotaria_citrea_Miami_Township_near__North_Bend_Hamilton_County_Ohio_645989.wav\n",
      "Processing file: Converted Recordings\\Protonotaria_citrea_Miami_Township_near__North_Bend_Hamilton_County_Ohio_645989.wav\n",
      "Row: Protonotaria_citrea_Pelee_near__Leamington_Essex_County_Ontario_476998.wav\n",
      "Processing file: Converted Recordings\\Protonotaria_citrea_Pelee_near__Leamington_Essex_County_Ontario_476998.wav\n",
      "Row: Protonotaria_citrea_Magee_Marsh_-_boardwalk_Lucas_County_Ohio_828063.wav\n",
      "Processing file: Converted Recordings\\Protonotaria_citrea_Magee_Marsh_-_boardwalk_Lucas_County_Ohio_828063.wav\n",
      "Row: Protonotaria_citrea_Magee_Marsh_-_boardwalk_Lucas_County_Ohio_828061.wav\n",
      "Processing file: Converted Recordings\\Protonotaria_citrea_Magee_Marsh_-_boardwalk_Lucas_County_Ohio_828061.wav\n",
      "Row: Protonotaria_citrea_Cuyahoga_Valley_National_Park_Station_Road_area_662929.wav\n",
      "Processing file: Converted Recordings\\Protonotaria_citrea_Cuyahoga_Valley_National_Park_Station_Road_area_662929.wav\n",
      "Row: Protonotaria_citrea_Anderson_Township_near__Cincinnati_Hamilton_County_Ohio_552556.wav\n",
      "Processing file: Converted Recordings\\Protonotaria_citrea_Anderson_Township_near__Cincinnati_Hamilton_County_Ohio_552556.wav\n",
      "Row: Leiothlypis_peregrina_Harrison_Township_near__Harrison_Hamilton_County_Ohio_726818.wav\n",
      "Processing file: Converted Recordings\\Leiothlypis_peregrina_Harrison_Township_near__Harrison_Hamilton_County_Ohio_726818.wav\n",
      "Row: Leiothlypis_peregrina_Magee_Marsh_-_Crane_Creek_Ohio_418091.wav\n",
      "Processing file: Converted Recordings\\Leiothlypis_peregrina_Magee_Marsh_-_Crane_Creek_Ohio_418091.wav\n",
      "Row: Leiothlypis_peregrina_Tanglewood_Lane_Cincinnati_Ohio_44328.wav\n",
      "Processing file: Converted Recordings\\Leiothlypis_peregrina_Tanglewood_Lane_Cincinnati_Ohio_44328.wav\n",
      "Row: Leiothlypis_peregrina_Pipe_Creek_Wildlife_Area_Erie_County_Ohio_803615.wav\n",
      "Processing file: Converted Recordings\\Leiothlypis_peregrina_Pipe_Creek_Wildlife_Area_Erie_County_Ohio_803615.wav\n",
      "Row: Leiothlypis_peregrina_Magee_Marsh_Ohio_418302.wav\n",
      "Processing file: Converted Recordings\\Leiothlypis_peregrina_Magee_Marsh_Ohio_418302.wav\n",
      "Row: Leiothlypis_peregrina_Magee_Marsh_Ohio_418006.wav\n",
      "Processing file: Converted Recordings\\Leiothlypis_peregrina_Magee_Marsh_Ohio_418006.wav\n",
      "Row: Leiothlypis_peregrina_Benton_Township_near__Rocky_Ridge_Ottawa_County_Ohio_902978.wav\n",
      "Processing file: Converted Recordings\\Leiothlypis_peregrina_Benton_Township_near__Rocky_Ridge_Ottawa_County_Ohio_902978.wav\n",
      "Row: Leiothlypis_peregrina_Magee_Marsh_-_boardwalk_Lucas_County_Ohio_477404.wav\n",
      "Processing file: Converted Recordings\\Leiothlypis_peregrina_Magee_Marsh_-_boardwalk_Lucas_County_Ohio_477404.wav\n",
      "Row: Leiothlypis_peregrina_Magee_Marsh_Ohio_174389.wav\n",
      "Processing file: Converted Recordings\\Leiothlypis_peregrina_Magee_Marsh_Ohio_174389.wav\n",
      "Row: Leiothlypis_peregrina_Magee_Marsh_-_Crane_Creek_Ohio_418090.wav\n",
      "Processing file: Converted Recordings\\Leiothlypis_peregrina_Magee_Marsh_-_Crane_Creek_Ohio_418090.wav\n",
      "Row: Leiothlypis_celata_Tanglewood_Lane_Cincinnati_Ohio_44329.wav\n",
      "Processing file: Converted Recordings\\Leiothlypis_celata_Tanglewood_Lane_Cincinnati_Ohio_44329.wav\n",
      "Row: Leiothlypis_ruficapilla_Green_Township_near__Cincinnati_Hamilton_County_Ohio_723591.wav\n",
      "Processing file: Converted Recordings\\Leiothlypis_ruficapilla_Green_Township_near__Cincinnati_Hamilton_County_Ohio_723591.wav\n",
      "Row: Leiothlypis_ruficapilla_Tanglewood_Lane_Cincinnati_Ohio_44428.wav\n",
      "Processing file: Converted Recordings\\Leiothlypis_ruficapilla_Tanglewood_Lane_Cincinnati_Ohio_44428.wav\n",
      "Row: Oporornis_agilis_Mansfield_Richland_County_Ohio_804330.wav\n",
      "Processing file: Converted Recordings\\Oporornis_agilis_Mansfield_Richland_County_Ohio_804330.wav\n",
      "Row: Oporornis_agilis_Point_Pelee_National_Park_Essex_County_Ontario_802580.wav\n",
      "Processing file: Converted Recordings\\Oporornis_agilis_Point_Pelee_National_Park_Essex_County_Ontario_802580.wav\n",
      "Row: Oporornis_agilis_Blendon_Woods_Metro_Park--Brookside_Trail_near_Hickory_Ridge_Trail_Columbus_Franklin_County_Ohio_179835.wav\n",
      "Processing file: Converted Recordings\\Oporornis_agilis_Blendon_Woods_Metro_Park--Brookside_Trail_near_Hickory_Ridge_Trail_Columbus_Franklin_County_Ohio_179835.wav\n",
      "Row: Geothlypis_philadelphia_OSU's_Waterman_Farm_wood_lot_Columbus_Franklin_County_Ohio_179681.wav\n",
      "Processing file: Converted Recordings\\Geothlypis_philadelphia_OSU's_Waterman_Farm_wood_lot_Columbus_Franklin_County_Ohio_179681.wav\n",
      "Row: Geothlypis_philadelphia_Green_Township_near__Cincinnati_Hamilton_County_Ohio_723382.wav\n",
      "Processing file: Converted Recordings\\Geothlypis_philadelphia_Green_Township_near__Cincinnati_Hamilton_County_Ohio_723382.wav\n",
      "Row: Geothlypis_philadelphia_Ohio_near__Akron_Summit_County_Ohio_369829.wav\n",
      "Processing file: Converted Recordings\\Geothlypis_philadelphia_Ohio_near__Akron_Summit_County_Ohio_369829.wav\n",
      "Row: Geothlypis_philadelphia_Point_Pelee_National_Park_Essex_County_Ontario_725314.wav\n",
      "Processing file: Converted Recordings\\Geothlypis_philadelphia_Point_Pelee_National_Park_Essex_County_Ontario_725314.wav\n",
      "Row: Geothlypis_formosa_Shawnee_State_Park_Scioto_County_Ohio_417604.wav\n",
      "Processing file: Converted Recordings\\Geothlypis_formosa_Shawnee_State_Park_Scioto_County_Ohio_417604.wav\n",
      "Row: Geothlypis_formosa_Shawnee_State_Forest_Scioto_County_Ohio_417461.wav\n",
      "Processing file: Converted Recordings\\Geothlypis_formosa_Shawnee_State_Forest_Scioto_County_Ohio_417461.wav\n",
      "Row: Geothlypis_formosa_Shawnee_State_Forest_Scioto_County_Ohio_417459.wav\n",
      "Processing file: Converted Recordings\\Geothlypis_formosa_Shawnee_State_Forest_Scioto_County_Ohio_417459.wav\n",
      "Row: Geothlypis_formosa_Shawnee_State_Forest_Scioto_County_Ohio_417458.wav\n",
      "Processing file: Converted Recordings\\Geothlypis_formosa_Shawnee_State_Forest_Scioto_County_Ohio_417458.wav\n",
      "Row: Geothlypis_formosa_Shawnee_State_Forest_Scioto_County_Ohio_939167.wav\n",
      "Processing file: Converted Recordings\\Geothlypis_formosa_Shawnee_State_Forest_Scioto_County_Ohio_939167.wav\n",
      "Row: Geothlypis_formosa_Whitewater_Township_near__Cleves_Hamilton_County_Ohio_910509.wav\n",
      "Processing file: Converted Recordings\\Geothlypis_formosa_Whitewater_Township_near__Cleves_Hamilton_County_Ohio_910509.wav\n",
      "Row: Geothlypis_formosa_Whitewater_Township_near__Cleves_Hamilton_County_Ohio_817715.wav\n",
      "Processing file: Converted Recordings\\Geothlypis_formosa_Whitewater_Township_near__Cleves_Hamilton_County_Ohio_817715.wav\n",
      "Row: Geothlypis_formosa_Whitewater_Township_near__Cleves_Hamilton_County_Ohio_817714.wav\n",
      "Processing file: Converted Recordings\\Geothlypis_formosa_Whitewater_Township_near__Cleves_Hamilton_County_Ohio_817714.wav\n",
      "Row: Geothlypis_formosa_Oak_Openings_Lucas_County_Ohio_803620.wav\n",
      "Processing file: Converted Recordings\\Geothlypis_formosa_Oak_Openings_Lucas_County_Ohio_803620.wav\n",
      "Row: Geothlypis_formosa_Harrison_Township_near__Harrison_Hamilton_County_Ohio_726820.wav\n",
      "Processing file: Converted Recordings\\Geothlypis_formosa_Harrison_Township_near__Harrison_Hamilton_County_Ohio_726820.wav\n",
      "Row: Geothlypis_formosa_Columbus_OH--Blendon_Woods_Metro_Park--Hickory_Ridge_Trail_between_Brookside_and_Overlook_Trails_103881.wav\n",
      "Processing file: Converted Recordings\\Geothlypis_formosa_Columbus_OH--Blendon_Woods_Metro_Park--Hickory_Ridge_Trail_between_Brookside_and_Overlook_Trails_103881.wav\n",
      "Row: Geothlypis_formosa_Michigan_Petersburg_SGA__31280.wav\n",
      "Processing file: Converted Recordings\\Geothlypis_formosa_Michigan_Petersburg_SGA__31280.wav\n",
      "Row: Geothlypis_formosa_Harrison_Township_near__Harrison_Hamilton_County_Ohio_728265.wav\n",
      "Processing file: Converted Recordings\\Geothlypis_formosa_Harrison_Township_near__Harrison_Hamilton_County_Ohio_728265.wav\n",
      "Row: Geothlypis_trichas_Magee_Marsh_-_boardwalk_Lucas_County_Ohio_828478.wav\n",
      "Processing file: Converted Recordings\\Geothlypis_trichas_Magee_Marsh_-_boardwalk_Lucas_County_Ohio_828478.wav\n",
      "Row: Geothlypis_trichas_Point_Pelee_National_Park_near__Wheatley_Essex_County_Ontario_803583.wav\n",
      "Processing file: Converted Recordings\\Geothlypis_trichas_Point_Pelee_National_Park_near__Wheatley_Essex_County_Ontario_803583.wav\n",
      "Row: Geothlypis_trichas_Whitewater_Township_near__Harrison_Hamilton_County_Ohio_726806.wav\n",
      "Processing file: Converted Recordings\\Geothlypis_trichas_Whitewater_Township_near__Harrison_Hamilton_County_Ohio_726806.wav\n",
      "Row: Geothlypis_trichas_Miami_Township_near__North_Bend_Hamilton_County_Ohio_646029.wav\n",
      "Processing file: Converted Recordings\\Geothlypis_trichas_Miami_Township_near__North_Bend_Hamilton_County_Ohio_646029.wav\n",
      "Row: Geothlypis_trichas_Lawrence_Woods_SNP_417980.wav\n",
      "Processing file: Converted Recordings\\Geothlypis_trichas_Lawrence_Woods_SNP_417980.wav\n",
      "Row: Geothlypis_trichas_East_Fork_Lake_SP_Clermont_County_Ohio_416558.wav\n",
      "Processing file: Converted Recordings\\Geothlypis_trichas_East_Fork_Lake_SP_Clermont_County_Ohio_416558.wav\n",
      "Row: Geothlypis_trichas_Battelle_Darby_Metro_Park_-_Wetlands_737240.wav\n",
      "Processing file: Converted Recordings\\Geothlypis_trichas_Battelle_Darby_Metro_Park_-_Wetlands_737240.wav\n",
      "Row: Geothlypis_trichas_Ohio_near__Peninsula_Summit_County_Ohio_374227.wav\n",
      "Processing file: Converted Recordings\\Geothlypis_trichas_Ohio_near__Peninsula_Summit_County_Ohio_374227.wav\n",
      "Row: Setophaga_citrina_Whitewater_Township_near__Cleves_Hamilton_County_Ohio_910499.wav\n",
      "Processing file: Converted Recordings\\Setophaga_citrina_Whitewater_Township_near__Cleves_Hamilton_County_Ohio_910499.wav\n",
      "Row: Setophaga_citrina_Harrison_Township_near__Harrison_Hamilton_County_Ohio_726821.wav\n",
      "Processing file: Converted Recordings\\Setophaga_citrina_Harrison_Township_near__Harrison_Hamilton_County_Ohio_726821.wav\n",
      "Row: Setophaga_citrina_Brecksville_Cuyahoga_County_Ohio_652287.wav\n",
      "Processing file: Converted Recordings\\Setophaga_citrina_Brecksville_Cuyahoga_County_Ohio_652287.wav\n",
      "Row: Setophaga_ruticilla_Magee_Marsh_-_boardwalk_Lucas_County_Ohio_825241.wav\n",
      "Processing file: Converted Recordings\\Setophaga_ruticilla_Magee_Marsh_-_boardwalk_Lucas_County_Ohio_825241.wav\n",
      "Row: Setophaga_ruticilla_Miami_Township_near__North_Bend_Hamilton_County_Ohio_645905.wav\n",
      "Processing file: Converted Recordings\\Setophaga_ruticilla_Miami_Township_near__North_Bend_Hamilton_County_Ohio_645905.wav\n",
      "Row: Setophaga_ruticilla_Pelee_near__Leamington_Essex_County_Ontario_476493.wav\n",
      "Processing file: Converted Recordings\\Setophaga_ruticilla_Pelee_near__Leamington_Essex_County_Ontario_476493.wav\n",
      "Row: Setophaga_ruticilla_Paris_near__Ravenna_Portage_County_Ohio_178310.wav\n",
      "Processing file: Converted Recordings\\Setophaga_ruticilla_Paris_near__Ravenna_Portage_County_Ohio_178310.wav\n",
      "Row: Setophaga_ruticilla_Point_Pelee_ON_83534.wav\n",
      "Processing file: Converted Recordings\\Setophaga_ruticilla_Point_Pelee_ON_83534.wav\n",
      "Row: Setophaga_ruticilla_Magee_Marsh_-_boardwalk_Lucas_County_Ohio_825242.wav\n",
      "Processing file: Converted Recordings\\Setophaga_ruticilla_Magee_Marsh_-_boardwalk_Lucas_County_Ohio_825242.wav\n",
      "Row: Setophaga_ruticilla_Magee_Marsh_-_boardwalk_Lucas_County_Ohio_825240.wav\n",
      "Processing file: Converted Recordings\\Setophaga_ruticilla_Magee_Marsh_-_boardwalk_Lucas_County_Ohio_825240.wav\n",
      "Row: Setophaga_ruticilla_Magee_Marsh_Ohio_418300.wav\n",
      "Processing file: Converted Recordings\\Setophaga_ruticilla_Magee_Marsh_Ohio_418300.wav\n",
      "Row: Setophaga_ruticilla_Magee_Marsh_Ohio_418298.wav\n",
      "Processing file: Converted Recordings\\Setophaga_ruticilla_Magee_Marsh_Ohio_418298.wav\n",
      "Row: Setophaga_ruticilla_Shawnee_State_Forest_Scioto_County_Ohio_417456.wav\n",
      "Processing file: Converted Recordings\\Setophaga_ruticilla_Shawnee_State_Forest_Scioto_County_Ohio_417456.wav\n",
      "Row: Setophaga_ruticilla_Shawnee_State_Forest_Scioto_County_Ohio_417443.wav\n",
      "Processing file: Converted Recordings\\Setophaga_ruticilla_Shawnee_State_Forest_Scioto_County_Ohio_417443.wav\n",
      "Row: Setophaga_kirtlandii_Kinnear_Rd_&_Hess_Blvd_Columbus_OH_103387.wav\n",
      "Processing file: Converted Recordings\\Setophaga_kirtlandii_Kinnear_Rd_&_Hess_Blvd_Columbus_OH_103387.wav\n",
      "Row: Setophaga_kirtlandii_Kinnear_Rd_&_Hess_Blvd_Columbus_OH_103394.wav\n",
      "Processing file: Converted Recordings\\Setophaga_kirtlandii_Kinnear_Rd_&_Hess_Blvd_Columbus_OH_103394.wav\n",
      "Row: Setophaga_tigrina_Magee_Marsh_Ohio_418096.wav\n",
      "Processing file: Converted Recordings\\Setophaga_tigrina_Magee_Marsh_Ohio_418096.wav\n",
      "Row: Setophaga_tigrina_Magee_Marsh_Ohio_418094.wav\n",
      "Processing file: Converted Recordings\\Setophaga_tigrina_Magee_Marsh_Ohio_418094.wav\n",
      "Row: Setophaga_tigrina_Tanglewood_Lane_Cincinnati_Ohio_44424.wav\n",
      "Processing file: Converted Recordings\\Setophaga_tigrina_Tanglewood_Lane_Cincinnati_Ohio_44424.wav\n",
      "Row: Setophaga_tigrina_Tanglewood_Lane_Cincinnati_Ohio_44423.wav\n",
      "Processing file: Converted Recordings\\Setophaga_tigrina_Tanglewood_Lane_Cincinnati_Ohio_44423.wav\n",
      "Row: Setophaga_tigrina_Ohio_Crane_Creek_SP_17040.wav\n",
      "Processing file: Converted Recordings\\Setophaga_tigrina_Ohio_Crane_Creek_SP_17040.wav\n",
      "Row: Setophaga_cerulea_Shawnee_State_Forest_Scioto_County_Ohio_417450.wav\n",
      "Processing file: Converted Recordings\\Setophaga_cerulea_Shawnee_State_Forest_Scioto_County_Ohio_417450.wav\n",
      "Row: Setophaga_cerulea_Shawnee_State_Forest_Scioto_County_Ohio_417448.wav\n",
      "Processing file: Converted Recordings\\Setophaga_cerulea_Shawnee_State_Forest_Scioto_County_Ohio_417448.wav\n",
      "Row: Setophaga_cerulea_Miami_Township_near__North_Bend_Hamilton_County_Ohio_646112.wav\n",
      "Processing file: Converted Recordings\\Setophaga_cerulea_Miami_Township_near__North_Bend_Hamilton_County_Ohio_646112.wav\n",
      "Row: Setophaga_cerulea_Shawnee_State_Forest_Scioto_County_Ohio_417453.wav\n",
      "Processing file: Converted Recordings\\Setophaga_cerulea_Shawnee_State_Forest_Scioto_County_Ohio_417453.wav\n",
      "Row: Setophaga_cerulea_Lawrence_Woods_SNP_417983.wav\n",
      "Processing file: Converted Recordings\\Setophaga_cerulea_Lawrence_Woods_SNP_417983.wav\n",
      "Row: Setophaga_americana_Point_Pelee_National_Park_near__Wheatley_Essex_County_Ontario_839515.wav\n",
      "Processing file: Converted Recordings\\Setophaga_americana_Point_Pelee_National_Park_near__Wheatley_Essex_County_Ontario_839515.wav\n",
      "Row: Setophaga_americana_Magee_Marsh_-_boardwalk_Lucas_County_Ohio_825110.wav\n",
      "Processing file: Converted Recordings\\Setophaga_americana_Magee_Marsh_-_boardwalk_Lucas_County_Ohio_825110.wav\n",
      "Row: Setophaga_americana_Tanager_Meadow_Reservable_Shelter_near__Harrison_Hamilton_County_Ohio_807351.wav\n",
      "Processing file: Converted Recordings\\Setophaga_americana_Tanager_Meadow_Reservable_Shelter_near__Harrison_Hamilton_County_Ohio_807351.wav\n",
      "Row: Setophaga_americana_Miami_Township_near__Cleves_Hamilton_County_Ohio_645550.wav\n",
      "Processing file: Converted Recordings\\Setophaga_americana_Miami_Township_near__Cleves_Hamilton_County_Ohio_645550.wav\n",
      "Row: Setophaga_americana_Pelee_near__Leamington_Essex_County_Ontario_476949.wav\n",
      "Processing file: Converted Recordings\\Setophaga_americana_Pelee_near__Leamington_Essex_County_Ontario_476949.wav\n",
      "Row: Setophaga_americana_Magee_Marsh_Ohio_418297.wav\n",
      "Processing file: Converted Recordings\\Setophaga_americana_Magee_Marsh_Ohio_418297.wav\n",
      "Row: Setophaga_americana_Miami_near__North_Bend_Hamilton_County_Ohio_545784.wav\n",
      "Processing file: Converted Recordings\\Setophaga_americana_Miami_near__North_Bend_Hamilton_County_Ohio_545784.wav\n",
      "Row: Setophaga_americana_Magee_Marsh_Ohio_418004.wav\n",
      "Processing file: Converted Recordings\\Setophaga_americana_Magee_Marsh_Ohio_418004.wav\n",
      "Row: Setophaga_americana_Ohio_near__Cleveland_Heights_Cuyahoga_County_Ohio_372023.wav\n",
      "Processing file: Converted Recordings\\Setophaga_americana_Ohio_near__Cleveland_Heights_Cuyahoga_County_Ohio_372023.wav\n",
      "Row: Setophaga_americana_Prairie_Oaks_Metro_Park--Sycamore_Plains_Area_182008.wav\n",
      "Processing file: Converted Recordings\\Setophaga_americana_Prairie_Oaks_Metro_Park--Sycamore_Plains_Area_182008.wav\n",
      "Row: Setophaga_magnolia_Magee_Marsh_-_boardwalk_Lucas_County_Ohio_828025.wav\n",
      "Processing file: Converted Recordings\\Setophaga_magnolia_Magee_Marsh_-_boardwalk_Lucas_County_Ohio_828025.wav\n",
      "Row: Setophaga_magnolia_Magee_Marsh_-_boardwalk_Lucas_County_Ohio_828022.wav\n",
      "Processing file: Converted Recordings\\Setophaga_magnolia_Magee_Marsh_-_boardwalk_Lucas_County_Ohio_828022.wav\n",
      "Row: Setophaga_magnolia_Magee_Marsh_-_boardwalk_Lucas_County_Ohio_828020.wav\n",
      "Processing file: Converted Recordings\\Setophaga_magnolia_Magee_Marsh_-_boardwalk_Lucas_County_Ohio_828020.wav\n",
      "Row: Setophaga_magnolia_Ohio_near__Cleveland_Heights_Cuyahoga_County_Ohio_418323.wav\n",
      "Processing file: Converted Recordings\\Setophaga_magnolia_Ohio_near__Cleveland_Heights_Cuyahoga_County_Ohio_418323.wav\n",
      "Row: Setophaga_magnolia_Michigan_Petersburg_SGA__31032.wav\n",
      "Processing file: Converted Recordings\\Setophaga_magnolia_Michigan_Petersburg_SGA__31032.wav\n",
      "Row: Setophaga_castanea_Park_End_Dr_Montgomery_County_Ohio_477392.wav\n",
      "Processing file: Converted Recordings\\Setophaga_castanea_Park_End_Dr_Montgomery_County_Ohio_477392.wav\n",
      "Row: Setophaga_castanea_Pelee_near__Leamington_Essex_County_Ontario_476520.wav\n",
      "Processing file: Converted Recordings\\Setophaga_castanea_Pelee_near__Leamington_Essex_County_Ontario_476520.wav\n",
      "Row: Setophaga_castanea_Park_End_Dr_Montgomery_County_Ohio_477393.wav\n",
      "Processing file: Converted Recordings\\Setophaga_castanea_Park_End_Dr_Montgomery_County_Ohio_477393.wav\n",
      "Row: Setophaga_fusca_Shawnee_State_Forest_Scioto_County_Ohio_417442.wav\n",
      "Processing file: Converted Recordings\\Setophaga_fusca_Shawnee_State_Forest_Scioto_County_Ohio_417442.wav\n",
      "Row: Setophaga_fusca_Pelee_near__Leamington_Essex_County_Ontario_476522.wav\n",
      "Processing file: Converted Recordings\\Setophaga_fusca_Pelee_near__Leamington_Essex_County_Ontario_476522.wav\n",
      "Row: Setophaga_aestiva_Magee_Marsh_-_boardwalk_Lucas_County_Ohio_939866.wav\n",
      "Processing file: Converted Recordings\\Setophaga_aestiva_Magee_Marsh_-_boardwalk_Lucas_County_Ohio_939866.wav\n",
      "Row: Setophaga_aestiva_Camp_Henry_near__Wheatley_Essex_County_Ontario_839855.wav\n",
      "Processing file: Converted Recordings\\Setophaga_aestiva_Camp_Henry_near__Wheatley_Essex_County_Ontario_839855.wav\n",
      "Row: Setophaga_aestiva_Magee_Marsh_-_boardwalk_Lucas_County_Ohio_828200.wav\n",
      "Processing file: Converted Recordings\\Setophaga_aestiva_Magee_Marsh_-_boardwalk_Lucas_County_Ohio_828200.wav\n",
      "Row: Setophaga_aestiva_Magee_Marsh_-_boardwalk_Lucas_County_Ohio_828199.wav\n",
      "Processing file: Converted Recordings\\Setophaga_aestiva_Magee_Marsh_-_boardwalk_Lucas_County_Ohio_828199.wav\n",
      "Row: Setophaga_aestiva_Magee_Marsh_-_boardwalk_Lucas_County_Ohio_828198.wav\n",
      "Processing file: Converted Recordings\\Setophaga_aestiva_Magee_Marsh_-_boardwalk_Lucas_County_Ohio_828198.wav\n",
      "Row: Setophaga_aestiva_Magee_Marsh_-_boardwalk_Lucas_County_Ohio_828197.wav\n",
      "Processing file: Converted Recordings\\Setophaga_aestiva_Magee_Marsh_-_boardwalk_Lucas_County_Ohio_828197.wav\n",
      "Row: Setophaga_aestiva_Magee_Marsh_-_boardwalk_Lucas_County_Ohio_828196.wav\n",
      "Processing file: Converted Recordings\\Setophaga_aestiva_Magee_Marsh_-_boardwalk_Lucas_County_Ohio_828196.wav\n",
      "Row: Setophaga_aestiva_Whitewater_Township_near__Harrison_Hamilton_County_Ohio_726808.wav\n",
      "Processing file: Converted Recordings\\Setophaga_aestiva_Whitewater_Township_near__Harrison_Hamilton_County_Ohio_726808.wav\n",
      "Row: Setophaga_aestiva_Pelee_near__Leamington_Essex_County_Ontario_495792.wav\n",
      "Processing file: Converted Recordings\\Setophaga_aestiva_Pelee_near__Leamington_Essex_County_Ontario_495792.wav\n",
      "Row: Setophaga_aestiva_Magee_Marsh_-_Crane_Creek_Ohio_418088.wav\n",
      "Processing file: Converted Recordings\\Setophaga_aestiva_Magee_Marsh_-_Crane_Creek_Ohio_418088.wav\n",
      "Row: Setophaga_aestiva_Maumee_Bay_State_Park_Lucas_County_Ohio_803613.wav\n",
      "Processing file: Converted Recordings\\Setophaga_aestiva_Maumee_Bay_State_Park_Lucas_County_Ohio_803613.wav\n",
      "Row: Setophaga_aestiva_Ohio_Crane_Creek_SP_17039.wav\n",
      "Processing file: Converted Recordings\\Setophaga_aestiva_Ohio_Crane_Creek_SP_17039.wav\n",
      "Row: Setophaga_aestiva_Ohio_Crane_Creek_SP_17038.wav\n",
      "Processing file: Converted Recordings\\Setophaga_aestiva_Ohio_Crane_Creek_SP_17038.wav\n",
      "Row: Setophaga_aestiva_Ohio_Crane_Creek_SP_17037.wav\n",
      "Processing file: Converted Recordings\\Setophaga_aestiva_Ohio_Crane_Creek_SP_17037.wav\n",
      "Row: Setophaga_pensylvanica_Pelee_near__Leamington_Essex_County_Ontario_476559.wav\n",
      "Processing file: Converted Recordings\\Setophaga_pensylvanica_Pelee_near__Leamington_Essex_County_Ontario_476559.wav\n",
      "Row: Setophaga_pensylvanica_Lawrence_Woods_SNP_417994.wav\n",
      "Processing file: Converted Recordings\\Setophaga_pensylvanica_Lawrence_Woods_SNP_417994.wav\n",
      "Row: Setophaga_pensylvanica_Magee_Marsh_-_boardwalk_Lucas_County_Ohio_827845.wav\n",
      "Processing file: Converted Recordings\\Setophaga_pensylvanica_Magee_Marsh_-_boardwalk_Lucas_County_Ohio_827845.wav\n",
      "Row: Setophaga_pensylvanica_Magee_Marsh_-_boardwalk_Lucas_County_Ohio_827843.wav\n",
      "Processing file: Converted Recordings\\Setophaga_pensylvanica_Magee_Marsh_-_boardwalk_Lucas_County_Ohio_827843.wav\n",
      "Row: Setophaga_striata_Whitewater_Township_near__Harrison_Hamilton_County_Ohio_726810.wav\n",
      "Processing file: Converted Recordings\\Setophaga_striata_Whitewater_Township_near__Harrison_Hamilton_County_Ohio_726810.wav\n",
      "Row: Setophaga_striata_Benton_Township_near__Rocky_Ridge_Ottawa_County_Ohio_902977.wav\n",
      "Processing file: Converted Recordings\\Setophaga_striata_Benton_Township_near__Rocky_Ridge_Ottawa_County_Ohio_902977.wav\n",
      "Row: Setophaga_striata_Benton_Township_near__Rocky_Ridge_Ottawa_County_Ohio_902976.wav\n",
      "Processing file: Converted Recordings\\Setophaga_striata_Benton_Township_near__Rocky_Ridge_Ottawa_County_Ohio_902976.wav\n",
      "Row: Setophaga_caerulescens_Magee_Marsh_-_boardwalk_Lucas_County_Ohio_827750.wav\n",
      "Processing file: Converted Recordings\\Setophaga_caerulescens_Magee_Marsh_-_boardwalk_Lucas_County_Ohio_827750.wav\n",
      "Row: Setophaga_palmarum_Ohio_Crane_Creek_SP_17032.wav\n",
      "Processing file: Converted Recordings\\Setophaga_palmarum_Ohio_Crane_Creek_SP_17032.wav\n",
      "Row: Setophaga_palmarum_Ohio_Crane_Creek_SP_17031.wav\n",
      "Processing file: Converted Recordings\\Setophaga_palmarum_Ohio_Crane_Creek_SP_17031.wav\n",
      "Row: Setophaga_palmarum_Ohio_Crane_Creek_SP_17030.wav\n",
      "Processing file: Converted Recordings\\Setophaga_palmarum_Ohio_Crane_Creek_SP_17030.wav\n",
      "Row: Setophaga_palmarum_Ohio_Crane_Creek_SP_17029.wav\n",
      "Processing file: Converted Recordings\\Setophaga_palmarum_Ohio_Crane_Creek_SP_17029.wav\n",
      "Row: Setophaga_pinus_Cuyahoga_Valley_National_Park_Wetmore_Trail_662930.wav\n",
      "Processing file: Converted Recordings\\Setophaga_pinus_Cuyahoga_Valley_National_Park_Wetmore_Trail_662930.wav\n",
      "Row: Setophaga_pinus_Miami_Township_near__Cleves_Hamilton_County_Ohio_548088.wav\n",
      "Processing file: Converted Recordings\\Setophaga_pinus_Miami_Township_near__Cleves_Hamilton_County_Ohio_548088.wav\n",
      "Row: Setophaga_pinus_Miami_Township_near__Cleves_Hamilton_County_Ohio_548084.wav\n",
      "Processing file: Converted Recordings\\Setophaga_pinus_Miami_Township_near__Cleves_Hamilton_County_Ohio_548084.wav\n",
      "Row: Setophaga_coronata_Ohio_Crane_Creek_Sp_17028.wav\n",
      "Processing file: Converted Recordings\\Setophaga_coronata_Ohio_Crane_Creek_Sp_17028.wav\n",
      "Row: Setophaga_coronata_Anderson_near__Cincinnati_Hamilton_County_Ohio_237811.wav\n",
      "Processing file: Converted Recordings\\Setophaga_coronata_Anderson_near__Cincinnati_Hamilton_County_Ohio_237811.wav\n",
      "Row: Setophaga_dominica_Pater_Wildlife_Area_Butler_County_Ohio_44434.wav\n",
      "Processing file: Converted Recordings\\Setophaga_dominica_Pater_Wildlife_Area_Butler_County_Ohio_44434.wav\n",
      "Row: Setophaga_dominica_Miami_Township_near__Cleves_Hamilton_County_Ohio_548090.wav\n",
      "Processing file: Converted Recordings\\Setophaga_dominica_Miami_Township_near__Cleves_Hamilton_County_Ohio_548090.wav\n",
      "Row: Setophaga_discolor_Burlington_Boone_County_Kentucky_552554.wav\n",
      "Processing file: Converted Recordings\\Setophaga_discolor_Burlington_Boone_County_Kentucky_552554.wav\n",
      "Row: Setophaga_discolor_Pelee_near__Leamington_Essex_County_Ontario_476996.wav\n",
      "Processing file: Converted Recordings\\Setophaga_discolor_Pelee_near__Leamington_Essex_County_Ontario_476996.wav\n",
      "Row: Setophaga_discolor_Pelee_near__Leamington_Essex_County_Ontario_476995.wav\n",
      "Processing file: Converted Recordings\\Setophaga_discolor_Pelee_near__Leamington_Essex_County_Ontario_476995.wav\n",
      "Row: Setophaga_virens_Harrison_Township_near__Harrison_Hamilton_County_Ohio_719921.wav\n",
      "Processing file: Converted Recordings\\Setophaga_virens_Harrison_Township_near__Harrison_Hamilton_County_Ohio_719921.wav\n",
      "Row: Cardellina_canadensis_Magee_Marsh_-_boardwalk_Lucas_County_Ohio_827828.wav\n",
      "Processing file: Converted Recordings\\Cardellina_canadensis_Magee_Marsh_-_boardwalk_Lucas_County_Ohio_827828.wav\n",
      "Row: Cardellina_canadensis_OSU's_Waterman_Farm_wood_lot_Columbus_Franklin_County_Ohio_179691.wav\n",
      "Processing file: Converted Recordings\\Cardellina_canadensis_OSU's_Waterman_Farm_wood_lot_Columbus_Franklin_County_Ohio_179691.wav\n",
      "Row: Cardellina_canadensis_OSU's_Waterman_Farm_wood_lot_Columbus_Franklin_County_Ohio_179679.wav\n",
      "Processing file: Converted Recordings\\Cardellina_canadensis_OSU's_Waterman_Farm_wood_lot_Columbus_Franklin_County_Ohio_179679.wav\n",
      "Row: Cardellina_canadensis_OSU's_Waterman_Farm_wood_lot_Columbus_Franklin_County_Ohio_179676.wav\n",
      "Processing file: Converted Recordings\\Cardellina_canadensis_OSU's_Waterman_Farm_wood_lot_Columbus_Franklin_County_Ohio_179676.wav\n",
      "Row: Cardellina_canadensis_Michigan_Petersburg_SGA__31133.wav\n",
      "Processing file: Converted Recordings\\Cardellina_canadensis_Michigan_Petersburg_SGA__31133.wav\n",
      "Row: Cardellina_pusilla_Magee_Marsh_-_boardwalk_Lucas_County_Ohio_828187.wav\n",
      "Processing file: Converted Recordings\\Cardellina_pusilla_Magee_Marsh_-_boardwalk_Lucas_County_Ohio_828187.wav\n",
      "Row: Piranga_rubra_Kitty_Todd_Nature_Preserve_Spencer_Township_Lucas_County_Ohio_923981.wav\n",
      "Processing file: Converted Recordings\\Piranga_rubra_Kitty_Todd_Nature_Preserve_Spencer_Township_Lucas_County_Ohio_923981.wav\n",
      "Row: Piranga_olivacea_Whitewater_Township_near__Cleves_Hamilton_County_Ohio_896571.wav\n",
      "Processing file: Converted Recordings\\Piranga_olivacea_Whitewater_Township_near__Cleves_Hamilton_County_Ohio_896571.wav\n",
      "Row: Piranga_olivacea_Brown_Township_near__Allensville_Vinton_County_Ohio_476090.wav\n",
      "Processing file: Converted Recordings\\Piranga_olivacea_Brown_Township_near__Allensville_Vinton_County_Ohio_476090.wav\n",
      "Row: Piranga_olivacea_Shawnee_State_Forest_Scioto_County_Ohio_417444.wav\n",
      "Processing file: Converted Recordings\\Piranga_olivacea_Shawnee_State_Forest_Scioto_County_Ohio_417444.wav\n",
      "Row: Piranga_olivacea_East_Fork_Lake_SP_Clermont_County_Ohio_416550.wav\n",
      "Processing file: Converted Recordings\\Piranga_olivacea_East_Fork_Lake_SP_Clermont_County_Ohio_416550.wav\n",
      "Row: Pheucticus_ludovicianus_Harrison_Township_near__Harrison_Hamilton_County_Ohio_726850.wav\n",
      "Processing file: Converted Recordings\\Pheucticus_ludovicianus_Harrison_Township_near__Harrison_Hamilton_County_Ohio_726850.wav\n",
      "Row: Pheucticus_ludovicianus_Pelee_near__Leamington_Essex_County_Ontario_495791.wav\n",
      "Processing file: Converted Recordings\\Pheucticus_ludovicianus_Pelee_near__Leamington_Essex_County_Ontario_495791.wav\n",
      "Row: Pheucticus_ludovicianus_Pelee_near__Leamington_Essex_County_Ontario_477036.wav\n",
      "Processing file: Converted Recordings\\Pheucticus_ludovicianus_Pelee_near__Leamington_Essex_County_Ontario_477036.wav\n",
      "Row: Pheucticus_ludovicianus_Oak_Openings_Metropark_Ohio_418070.wav\n",
      "Processing file: Converted Recordings\\Pheucticus_ludovicianus_Oak_Openings_Metropark_Ohio_418070.wav\n",
      "Row: Pheucticus_ludovicianus_Shawnee_State_Forest_Scioto_County_Ohio_417454.wav\n",
      "Processing file: Converted Recordings\\Pheucticus_ludovicianus_Shawnee_State_Forest_Scioto_County_Ohio_417454.wav\n",
      "Row: Pheucticus_ludovicianus_Point_Pelee_National_Park_Essex_County_Ontario_910738.wav\n",
      "Processing file: Converted Recordings\\Pheucticus_ludovicianus_Point_Pelee_National_Park_Essex_County_Ontario_910738.wav\n",
      "Row: Pheucticus_ludovicianus_Maumee_Bay_State_Park_Lucas_County_Ohio_803611.wav\n",
      "Processing file: Converted Recordings\\Pheucticus_ludovicianus_Maumee_Bay_State_Park_Lucas_County_Ohio_803611.wav\n",
      "Row: Pheucticus_ludovicianus_Ohio_Crane_Creek_SP_17044.wav\n",
      "Processing file: Converted Recordings\\Pheucticus_ludovicianus_Ohio_Crane_Creek_SP_17044.wav\n",
      "Row: Cardinalis_cardinalis_Union_Township_near__Cincinnati_Clermont_County_Ohio_727761.wav\n",
      "Processing file: Converted Recordings\\Cardinalis_cardinalis_Union_Township_near__Cincinnati_Clermont_County_Ohio_727761.wav\n",
      "Row: Cardinalis_cardinalis_Green_Township_near__Cincinnati_Hamilton_County_Ohio_716618.wav\n",
      "Processing file: Converted Recordings\\Cardinalis_cardinalis_Green_Township_near__Cincinnati_Hamilton_County_Ohio_716618.wav\n",
      "Row: Cardinalis_cardinalis_Miami_Township_near__Cleves_Hamilton_County_Ohio_713583.wav\n",
      "Processing file: Converted Recordings\\Cardinalis_cardinalis_Miami_Township_near__Cleves_Hamilton_County_Ohio_713583.wav\n",
      "Row: Cardinalis_cardinalis_Cincinnati_Hamilton_County_Ohio_677300.wav\n",
      "Processing file: Converted Recordings\\Cardinalis_cardinalis_Cincinnati_Hamilton_County_Ohio_677300.wav\n",
      "Row: Cardinalis_cardinalis_Miami_Township_near__Cleves_Hamilton_County_Ohio_645816.wav\n",
      "Processing file: Converted Recordings\\Cardinalis_cardinalis_Miami_Township_near__Cleves_Hamilton_County_Ohio_645816.wav\n",
      "Row: Cardinalis_cardinalis_Tanglewood_Lane_Cincinnati_Ohio_302932.wav\n",
      "Processing file: Converted Recordings\\Cardinalis_cardinalis_Tanglewood_Lane_Cincinnati_Ohio_302932.wav\n",
      "Row: Cardinalis_cardinalis_Green_Township_near__Cincinnati_Hamilton_County_Ohio_817703.wav\n",
      "Processing file: Converted Recordings\\Cardinalis_cardinalis_Green_Township_near__Cincinnati_Hamilton_County_Ohio_817703.wav\n",
      "Row: Cardinalis_cardinalis_Magee_Marsh_-_boardwalk_Lucas_County_Ohio_814887.wav\n",
      "Processing file: Converted Recordings\\Cardinalis_cardinalis_Magee_Marsh_-_boardwalk_Lucas_County_Ohio_814887.wav\n",
      "Row: Cardinalis_cardinalis_Green_Township_near__Cincinnati_Hamilton_County_Ohio_676765.wav\n",
      "Processing file: Converted Recordings\\Cardinalis_cardinalis_Green_Township_near__Cincinnati_Hamilton_County_Ohio_676765.wav\n",
      "Row: Cardinalis_cardinalis_Green_Township_near__Cincinnati_Hamilton_County_Ohio_673006.wav\n",
      "Processing file: Converted Recordings\\Cardinalis_cardinalis_Green_Township_near__Cincinnati_Hamilton_County_Ohio_673006.wav\n",
      "Row: Cardinalis_cardinalis_Spring_Valley_near__Waynesville_Greene_Cty_Ohio_477596.wav\n",
      "Processing file: Converted Recordings\\Cardinalis_cardinalis_Spring_Valley_near__Waynesville_Greene_Cty_Ohio_477596.wav\n",
      "Row: Cardinalis_cardinalis_East_Fork_Lake_SP_Clermont_County_Ohio_416549.wav\n",
      "Processing file: Converted Recordings\\Cardinalis_cardinalis_East_Fork_Lake_SP_Clermont_County_Ohio_416549.wav\n",
      "Row: Spiza_americana_Ohio_near__New_Franklin_Summit_County_Ohio_378358.wav\n",
      "Processing file: Converted Recordings\\Spiza_americana_Ohio_near__New_Franklin_Summit_County_Ohio_378358.wav\n",
      "Row: Spiza_americana_Battelle_Darby_Metro_Park--Grain_Elevator_Wetlands_near_parking_area_105816.wav\n",
      "Processing file: Converted Recordings\\Spiza_americana_Battelle_Darby_Metro_Park--Grain_Elevator_Wetlands_near_parking_area_105816.wav\n",
      "Row: Spiza_americana_Michigan_Whiteford_Township_17103.wav\n",
      "Processing file: Converted Recordings\\Spiza_americana_Michigan_Whiteford_Township_17103.wav\n",
      "Row: Passerina_cyanea_Miami_Township_near__North_Bend_Hamilton_County_Ohio_817717.wav\n",
      "Processing file: Converted Recordings\\Passerina_cyanea_Miami_Township_near__North_Bend_Hamilton_County_Ohio_817717.wav\n",
      "Row: Passerina_cyanea_East_Fork_Lake_SP_Clermont_County_Ohio_416556.wav\n",
      "Processing file: Converted Recordings\\Passerina_cyanea_East_Fork_Lake_SP_Clermont_County_Ohio_416556.wav\n",
      "Row: Passerina_cyanea_East_Fork_Lake_SP_Clermont_County_Ohio_416554.wav\n",
      "Processing file: Converted Recordings\\Passerina_cyanea_East_Fork_Lake_SP_Clermont_County_Ohio_416554.wav\n",
      "Row: Passerina_cyanea_East_Fork_Lake_SP_Clermont_County_Ohio_416555.wav\n",
      "Processing file: Converted Recordings\\Passerina_cyanea_East_Fork_Lake_SP_Clermont_County_Ohio_416555.wav\n",
      "Row: Passerina_cyanea_Michigan_Petersburg_SGA__31102.wav\n",
      "Processing file: Converted Recordings\\Passerina_cyanea_Michigan_Petersburg_SGA__31102.wav\n",
      "Row: Passerina_cyanea_Michigan_Monroe_County_17148.wav\n",
      "Processing file: Converted Recordings\\Passerina_cyanea_Michigan_Monroe_County_17148.wav\n",
      "Row: Sonus_naturalis_Chagrin_Falls_Township_near__Moreland_Hills_Cuyahoga_County_Ohio_560021.wav\n",
      "Processing file: Converted Recordings\\Sonus_naturalis_Chagrin_Falls_Township_near__Moreland_Hills_Cuyahoga_County_Ohio_560021.wav\n",
      "Row: Sonus_naturalis_Jerusalem_Township_near__Bono_Lucas_County_Ohio_784063.wav\n",
      "Processing file: Converted Recordings\\Sonus_naturalis_Jerusalem_Township_near__Bono_Lucas_County_Ohio_784063.wav\n",
      "Row: Sonus_naturalis_Lawrence_Woods_SNP_417979.wav\n",
      "Processing file: Converted Recordings\\Sonus_naturalis_Lawrence_Woods_SNP_417979.wav\n",
      "Row: Sonus_naturalis_Buhl-Morton_Road_462269.wav\n",
      "Processing file: Converted Recordings\\Sonus_naturalis_Buhl-Morton_Road_462269.wav\n",
      "Row: Sonus_naturalis_Maumee_Bay_State_Park_Lucas_County_Ohio_821133.wav\n",
      "Processing file: Converted Recordings\\Sonus_naturalis_Maumee_Bay_State_Park_Lucas_County_Ohio_821133.wav\n",
      "Audio Processing Complete\n",
      "\n",
      "Audio processing is complete. There are now 12173 files in the 'Processed Recordings' directory.\n",
      "\n",
      "No files were discarded.\n"
     ]
    }
   ],
   "source": [
    "# Main execution\n",
    "converted_dir = 'Converted Recordings'\n",
    "processed_dir = 'Processed Recordings'\n",
    "\n",
    "# Ensure output directory exists\n",
    "if not os.path.exists(processed_dir):\n",
    "    os.makedirs(processed_dir)\n",
    "\n",
    "processed_data = process_dataset(converted_data, converted_dir, processed_dir)\n",
    "print('Audio Processing Complete')\n",
    "\n",
    "# Filter processed_data to only include files with \"segment\" in the file name\n",
    "processed_data = processed_data[processed_data['processed_file'].str.contains('_segment_')]\n",
    "\n",
    "# Print completion message and count files in Processed Recordings directory\n",
    "processed_file_count = len([f for f in os.listdir(processed_dir) if f.endswith('.wav')])\n",
    "print(f\"\\nAudio processing is complete. There are now {processed_file_count} files in the '{processed_dir}' directory.\")\n",
    "\n",
    "# Output discarded files\n",
    "discard_log_df = pd.read_csv('discarded_audio_log.csv')\n",
    "if not discard_log_df.empty:\n",
    "    print(\"\\nThe following files were discarded:\")\n",
    "    for _, row in discard_log_df.iterrows():\n",
    "        print(f\"{row['file_path']}: {row['reason']}\")\n",
    "else:\n",
    "    print(\"\\nNo files were discarded.\")"
   ]
  },
  {
   "cell_type": "code",
   "execution_count": 22,
   "metadata": {},
   "outputs": [
    {
     "name": "stdout",
     "output_type": "stream",
     "text": [
      "<class 'pandas.core.frame.DataFrame'>\n",
      "Index: 12120 entries, 0 to 690\n",
      "Data columns (total 11 columns):\n",
      " #   Column           Non-Null Count  Dtype  \n",
      "---  ------           --------------  -----  \n",
      " 0   genus            12120 non-null  object \n",
      " 1   species          12120 non-null  object \n",
      " 2   latitude         12120 non-null  float64\n",
      " 3   longitude        12120 non-null  float64\n",
      " 4   quality          12120 non-null  object \n",
      " 5   file_name        12120 non-null  object \n",
      " 6   simplified_type  12120 non-null  object \n",
      " 7   season           12120 non-null  object \n",
      " 8   time_of_day      12120 non-null  object \n",
      " 9   length_seconds   12120 non-null  int64  \n",
      " 10  processed_file   12120 non-null  object \n",
      "dtypes: float64(2), int64(1), object(8)\n",
      "memory usage: 1.1+ MB\n",
      "None\n"
     ]
    },
    {
     "data": {
      "text/html": [
       "<div>\n",
       "<style scoped>\n",
       "    .dataframe tbody tr th:only-of-type {\n",
       "        vertical-align: middle;\n",
       "    }\n",
       "\n",
       "    .dataframe tbody tr th {\n",
       "        vertical-align: top;\n",
       "    }\n",
       "\n",
       "    .dataframe thead th {\n",
       "        text-align: right;\n",
       "    }\n",
       "</style>\n",
       "<table border=\"1\" class=\"dataframe\">\n",
       "  <thead>\n",
       "    <tr style=\"text-align: right;\">\n",
       "      <th></th>\n",
       "      <th>genus</th>\n",
       "      <th>species</th>\n",
       "      <th>latitude</th>\n",
       "      <th>longitude</th>\n",
       "      <th>quality</th>\n",
       "      <th>file_name</th>\n",
       "      <th>simplified_type</th>\n",
       "      <th>season</th>\n",
       "      <th>time_of_day</th>\n",
       "      <th>length_seconds</th>\n",
       "      <th>processed_file</th>\n",
       "    </tr>\n",
       "  </thead>\n",
       "  <tbody>\n",
       "    <tr>\n",
       "      <th>0</th>\n",
       "      <td>Branta</td>\n",
       "      <td>canadensis</td>\n",
       "      <td>39.2095</td>\n",
       "      <td>-84.7821</td>\n",
       "      <td>A</td>\n",
       "      <td>Branta_canadensis_Whitewater_Township_near__Ha...</td>\n",
       "      <td>Call</td>\n",
       "      <td>Spring</td>\n",
       "      <td>Morning</td>\n",
       "      <td>14</td>\n",
       "      <td>Branta_canadensis_Whitewater_Township_near__Ha...</td>\n",
       "    </tr>\n",
       "    <tr>\n",
       "      <th>0</th>\n",
       "      <td>Branta</td>\n",
       "      <td>canadensis</td>\n",
       "      <td>39.2095</td>\n",
       "      <td>-84.7821</td>\n",
       "      <td>A</td>\n",
       "      <td>Branta_canadensis_Whitewater_Township_near__Ha...</td>\n",
       "      <td>Call</td>\n",
       "      <td>Spring</td>\n",
       "      <td>Morning</td>\n",
       "      <td>14</td>\n",
       "      <td>Branta_canadensis_Whitewater_Township_near__Ha...</td>\n",
       "    </tr>\n",
       "    <tr>\n",
       "      <th>0</th>\n",
       "      <td>Branta</td>\n",
       "      <td>canadensis</td>\n",
       "      <td>39.2095</td>\n",
       "      <td>-84.7821</td>\n",
       "      <td>A</td>\n",
       "      <td>Branta_canadensis_Whitewater_Township_near__Ha...</td>\n",
       "      <td>Call</td>\n",
       "      <td>Spring</td>\n",
       "      <td>Morning</td>\n",
       "      <td>14</td>\n",
       "      <td>Branta_canadensis_Whitewater_Township_near__Ha...</td>\n",
       "    </tr>\n",
       "    <tr>\n",
       "      <th>0</th>\n",
       "      <td>Branta</td>\n",
       "      <td>canadensis</td>\n",
       "      <td>39.2095</td>\n",
       "      <td>-84.7821</td>\n",
       "      <td>A</td>\n",
       "      <td>Branta_canadensis_Whitewater_Township_near__Ha...</td>\n",
       "      <td>Call</td>\n",
       "      <td>Spring</td>\n",
       "      <td>Morning</td>\n",
       "      <td>14</td>\n",
       "      <td>Branta_canadensis_Whitewater_Township_near__Ha...</td>\n",
       "    </tr>\n",
       "    <tr>\n",
       "      <th>0</th>\n",
       "      <td>Branta</td>\n",
       "      <td>canadensis</td>\n",
       "      <td>39.2095</td>\n",
       "      <td>-84.7821</td>\n",
       "      <td>A</td>\n",
       "      <td>Branta_canadensis_Whitewater_Township_near__Ha...</td>\n",
       "      <td>Call</td>\n",
       "      <td>Spring</td>\n",
       "      <td>Morning</td>\n",
       "      <td>14</td>\n",
       "      <td>Branta_canadensis_Whitewater_Township_near__Ha...</td>\n",
       "    </tr>\n",
       "  </tbody>\n",
       "</table>\n",
       "</div>"
      ],
      "text/plain": [
       "    genus     species  latitude  longitude quality  \\\n",
       "0  Branta  canadensis   39.2095   -84.7821       A   \n",
       "0  Branta  canadensis   39.2095   -84.7821       A   \n",
       "0  Branta  canadensis   39.2095   -84.7821       A   \n",
       "0  Branta  canadensis   39.2095   -84.7821       A   \n",
       "0  Branta  canadensis   39.2095   -84.7821       A   \n",
       "\n",
       "                                           file_name simplified_type  season  \\\n",
       "0  Branta_canadensis_Whitewater_Township_near__Ha...            Call  Spring   \n",
       "0  Branta_canadensis_Whitewater_Township_near__Ha...            Call  Spring   \n",
       "0  Branta_canadensis_Whitewater_Township_near__Ha...            Call  Spring   \n",
       "0  Branta_canadensis_Whitewater_Township_near__Ha...            Call  Spring   \n",
       "0  Branta_canadensis_Whitewater_Township_near__Ha...            Call  Spring   \n",
       "\n",
       "  time_of_day  length_seconds  \\\n",
       "0     Morning              14   \n",
       "0     Morning              14   \n",
       "0     Morning              14   \n",
       "0     Morning              14   \n",
       "0     Morning              14   \n",
       "\n",
       "                                      processed_file  \n",
       "0  Branta_canadensis_Whitewater_Township_near__Ha...  \n",
       "0  Branta_canadensis_Whitewater_Township_near__Ha...  \n",
       "0  Branta_canadensis_Whitewater_Township_near__Ha...  \n",
       "0  Branta_canadensis_Whitewater_Township_near__Ha...  \n",
       "0  Branta_canadensis_Whitewater_Township_near__Ha...  "
      ]
     },
     "execution_count": 22,
     "metadata": {},
     "output_type": "execute_result"
    }
   ],
   "source": [
    "print(processed_data.info())\n",
    "processed_data.head()"
   ]
  },
  {
   "cell_type": "markdown",
   "metadata": {},
   "source": [
    "### Data Augmentation\n",
    "### Augment the processed audio files.\n",
    "- Pitch Shift\n",
    "- Time Stretch\n",
    "- add_noise\n",
    "- change_speed\n",
    "- apply_filter\n",
    "- add_background\n",
    "- time_shift\n",
    "- augment_audio\n",
    "- "
   ]
  },
  {
   "cell_type": "code",
   "execution_count": 23,
   "metadata": {},
   "outputs": [],
   "source": [
    "\n",
    "def generate_wind_sound(duration, sr):\n",
    "    t = np.linspace(0, duration, int(sr * duration), False)\n",
    "    wind = np.random.normal(0, 0.1, int(sr * duration))\n",
    "    wind_filtered = np.convolve(wind, np.ones(1000)/1000, mode='same')\n",
    "    return wind_filtered / np.max(np.abs(wind_filtered))\n",
    "\n",
    "def generate_leaf_rustle(duration, sr):\n",
    "    t = np.linspace(0, duration, int(sr * duration), False)\n",
    "    leaf = np.random.normal(0, 0.1, int(sr * duration))\n",
    "    envelope = np.exp(-t * 10) * np.sin(2 * np.pi * 2 * t)**2\n",
    "    return leaf * envelope / np.max(np.abs(leaf * envelope))\n",
    "\n",
    "def generate_water_sound(duration, sr):\n",
    "    t = np.linspace(0, duration, int(sr * duration), False)\n",
    "    water = np.random.normal(0, 0.1, int(sr * duration))\n",
    "    water_filtered = np.convolve(water, np.ones(500)/500, mode='same')\n",
    "    ripple = np.sin(2 * np.pi * 2 * t) * np.exp(-t * 2)\n",
    "    return (water_filtered + ripple) / np.max(np.abs(water_filtered + ripple))\n",
    "\n",
    "def mix_nature_sounds(duration, sr):\n",
    "    wind = generate_wind_sound(duration, sr)\n",
    "    leaf = generate_leaf_rustle(duration, sr)\n",
    "    water = generate_water_sound(duration, sr)\n",
    "    \n",
    "    mix = wind * 0.7 + leaf * 0.2 + water * 0.1\n",
    "    return mix / np.max(np.abs(mix))\n",
    "\n",
    "# Generate a 5-second mix of nature-like sounds\n",
    "sr = 44100\n",
    "duration = 5\n",
    "nature_background = mix_nature_sounds(duration, sr)"
   ]
  },
  {
   "cell_type": "code",
   "execution_count": 24,
   "metadata": {},
   "outputs": [],
   "source": [
    "\n",
    "def pitch_shift(audio, sr, n_steps):\n",
    "    n_fft = min(2048, len(audio))\n",
    "    return librosa.effects.pitch_shift(audio, sr=sr, n_steps=n_steps, n_fft=n_fft)\n",
    "\n",
    "def time_stretch(audio, rate):\n",
    "    return librosa.effects.time_stretch(audio, rate=rate)\n",
    "\n",
    "def add_noise(audio, noise_factor):\n",
    "    noise = np.random.randn(len(audio))\n",
    "    augmented_audio = audio + noise_factor * noise\n",
    "    return np.clip(augmented_audio, -1, 1)\n",
    "\n",
    "def change_speed(audio, speed_factor):\n",
    "    return librosa.effects.time_stretch(audio, rate=1/speed_factor)\n",
    "\n",
    "def apply_filter(audio, sr, filter_type='lowpass', cutoff=1000):\n",
    "    nyquist = 0.5 * sr\n",
    "    normal_cutoff = cutoff / nyquist\n",
    "    b, a = butter(4, normal_cutoff, btype=filter_type, analog=False)\n",
    "    return lfilter(b, a, audio)\n",
    "\n",
    "def add_background(audio, background, ratio=0.1):\n",
    "    if len(background) != len(audio):\n",
    "        if len(background) > len(audio):\n",
    "            start = np.random.randint(0, len(background) - len(audio))\n",
    "            background = background[start:start+len(audio)]\n",
    "        else:\n",
    "            background = np.pad(background, (0, len(audio) - len(background)))\n",
    "    \n",
    "    if len(audio) != len(background):\n",
    "        print(f\"Shape mismatch in add_background: audio {len(audio)}, background {len(background)}\")\n",
    "        return audio  # Return original audio if shapes don't match\n",
    "    \n",
    "    return audio + ratio * background\n",
    "\n",
    "def time_shift(audio, shift_max, roll_prob=0.5):\n",
    "    shift = np.random.randint(-shift_max, shift_max)\n",
    "    if random.random() < roll_prob:\n",
    "        return np.roll(audio, shift)\n",
    "    else:\n",
    "        if shift > 0:\n",
    "            return np.pad(audio, (shift, 0))[:len(audio)]\n",
    "        else:\n",
    "            return np.pad(audio, (0, -shift))[:-shift]\n",
    "\n",
    "def augment_audio(audio, sr):\n",
    "    augmentations = [\n",
    "        (pitch_shift, {'n_steps': random.uniform(-2, 2)}),\n",
    "        (time_stretch, {'rate': random.uniform(0.8, 1.2)}),\n",
    "        (add_noise, {'noise_factor': random.uniform(0.001, 0.015)}),\n",
    "        (change_speed, {'speed_factor': random.uniform(0.9, 1.1)}),\n",
    "        (apply_filter, {'filter_type': random.choice(['lowpass', 'highpass']),\n",
    "                        'cutoff': random.uniform(1000, 4000)}),\n",
    "        (time_shift, {'shift_max': int(sr * 0.5)})\n",
    "    ]\n",
    "    \n",
    "    num_augments = random.randint(2, 4)\n",
    "    selected_augments = random.sample(augmentations, num_augments)\n",
    "    \n",
    "    applied_augmentations = []\n",
    "    \n",
    "    for augment_func, params in selected_augments:\n",
    "        if augment_func.__name__ in ['pitch_shift', 'apply_filter']:\n",
    "            audio = augment_func(audio, sr, **params)\n",
    "        else:\n",
    "            audio = augment_func(audio, **params)\n",
    "        applied_augmentations.append(f\"{augment_func.__name__}:{','.join(f'{k}={v}' for k, v in params.items())}\")\n",
    "    \n",
    "    if random.random() < 0.5:\n",
    "        nature_background = mix_nature_sounds(len(audio) / sr, sr)\n",
    "        ratio = random.uniform(0.1, 0.3)\n",
    "        audio = add_background(audio, nature_background, ratio=ratio)\n",
    "        applied_augmentations.append(f\"add_background:ratio={ratio:.2f}\")\n",
    "    \n",
    "    return audio, applied_augmentations\n",
    "\n"
   ]
  },
  {
   "cell_type": "code",
   "execution_count": 25,
   "metadata": {},
   "outputs": [],
   "source": [
    "\n",
    "def augment_and_save(input_file, output_dir, num_augmentations=3):\n",
    "    try:\n",
    "        # Load the audio file\n",
    "        audio, sr = librosa.load(input_file, sr=None)\n",
    "        \n",
    "        augmented_files = []\n",
    "        all_applied_augmentations = []\n",
    "        \n",
    "        for i in range(num_augmentations):\n",
    "            # Apply augmentation\n",
    "            augmented_audio, applied_augmentations = augment_audio(audio, sr)\n",
    "            \n",
    "            # Generate new filename\n",
    "            base_name = os.path.basename(input_file)\n",
    "            name, ext = os.path.splitext(base_name)\n",
    "            new_name = f\"{name}_aug_{i+1}{ext}\"\n",
    "            output_path = os.path.join(output_dir, new_name)\n",
    "            \n",
    "            # Save augmented audio\n",
    "            sf.write(output_path, augmented_audio, sr)\n",
    "            \n",
    "            augmented_files.append(output_path)\n",
    "            all_applied_augmentations.append(';'.join(applied_augmentations))\n",
    "        \n",
    "        return augmented_files, all_applied_augmentations\n",
    "    \n",
    "    except Exception as e:\n",
    "        print(f\"Error processing {input_file}: {str(e)}\")\n",
    "        return [], []\n",
    "\n",
    "\n",
    "def process_dataframe(df, input_dir, output_dir, num_augmentations=3):\n",
    "    new_rows = []\n",
    "    \n",
    "    for _, row in tqdm(df.iterrows(), total=len(df), desc=\"Processing files\"):\n",
    "        input_file = os.path.join(input_dir, row['processed_file'])\n",
    "        augmented_files, augmentations = augment_and_save(input_file, output_dir, num_augmentations)\n",
    "        \n",
    "        for aug_file, aug_details in zip(augmented_files, augmentations):\n",
    "            new_row = row.copy()\n",
    "            new_row['processed_file'] = os.path.relpath(aug_file, output_dir)\n",
    "            new_row['augmentations'] = aug_details\n",
    "            new_rows.append(new_row)\n",
    "    \n",
    "    augmented_df = pd.concat([df, pd.DataFrame(new_rows)], ignore_index=True)\n",
    "    return augmented_df\n"
   ]
  },
  {
   "cell_type": "code",
   "execution_count": 26,
   "metadata": {},
   "outputs": [
    {
     "name": "stdout",
     "output_type": "stream",
     "text": [
      "Testing augmentations on file: Poecile_atricapillus_Magee_Marsh_-_boardwalk_Lucas_County_Ohio_814911_segment_48.wav\n",
      "Saved Poecile_atricapillus_Magee_Marsh_-_boardwalk_Lucas_County_Ohio_814911_segment_48_pitch_shift.wav\n",
      "Saved Poecile_atricapillus_Magee_Marsh_-_boardwalk_Lucas_County_Ohio_814911_segment_48_time_stretch.wav\n",
      "Saved Poecile_atricapillus_Magee_Marsh_-_boardwalk_Lucas_County_Ohio_814911_segment_48_add_noise.wav\n",
      "Saved Poecile_atricapillus_Magee_Marsh_-_boardwalk_Lucas_County_Ohio_814911_segment_48_change_speed.wav\n",
      "Saved Poecile_atricapillus_Magee_Marsh_-_boardwalk_Lucas_County_Ohio_814911_segment_48_apply_filter.wav\n",
      "Saved Poecile_atricapillus_Magee_Marsh_-_boardwalk_Lucas_County_Ohio_814911_segment_48_time_shift.wav\n",
      "Saved Poecile_atricapillus_Magee_Marsh_-_boardwalk_Lucas_County_Ohio_814911_segment_48_mix_nature_sounds.wav\n",
      "Augmentation test complete.\n"
     ]
    }
   ],
   "source": [
    "# Test Augmentation functions\n",
    "# Filter processed_data to only include files with \"segment\" in the file name\n",
    "processed_data = processed_data[processed_data['processed_file'].str.contains('_segment_')]\n",
    "\n",
    "# Convert 'file_name' column to a list\n",
    "file_names = processed_data['processed_file'].tolist()\n",
    "\n",
    "# Select a random file\n",
    "random_file = random.choice(file_names)\n",
    "file_path = os.path.join('Processed Recordings', random_file)\n",
    "\n",
    "# Load the audio file\n",
    "audio, sr = librosa.load(file_path, sr=None)\n",
    "\n",
    "# Create 'Test' directory if it doesn't exist\n",
    "os.makedirs('Test', exist_ok=True)\n",
    "\n",
    "# List of augmentation functions to test\n",
    "augmentation_functions = [\n",
    "    (pitch_shift, {'n_steps': 2}),\n",
    "    (time_stretch, {'rate': 1.2}),\n",
    "    (add_noise, {'noise_factor': 0.01}),\n",
    "    (change_speed, {'speed_factor': 1.1}),\n",
    "    (apply_filter, {'filter_type': 'lowpass', 'cutoff': 2000}),\n",
    "    (time_shift, {'shift_max': int(sr * 0.5)}),\n",
    "    (mix_nature_sounds, {'duration': len(audio) / sr, 'sr': sr})\n",
    "]\n",
    "\n",
    "print(f\"Testing augmentations on file: {random_file}\")\n",
    "\n",
    "# Apply each augmentation function and save the result\n",
    "for i, (func, params) in enumerate(augmentation_functions):\n",
    "    if func.__name__ == 'mix_nature_sounds':\n",
    "        # For mix_nature_sounds, handle it differently as it needs a background\n",
    "        background = func(**params)\n",
    "        augmented = add_background(audio, background, ratio=0.2)\n",
    "    elif func.__name__ in ['time_stretch', 'change_speed', 'add_noise', 'time_shift']:\n",
    "        # These functions don't need sr\n",
    "        augmented = func(audio, **params)\n",
    "    else:\n",
    "        # For pitch_shift and apply_filter, which need sr, pass audio, sr, and params\n",
    "        augmented = func(audio, sr, **params)\n",
    "    \n",
    "    # Generate output filename\n",
    "    output_filename = f\"{os.path.splitext(random_file)[0]}_{func.__name__}.wav\"\n",
    "    output_path = os.path.join('Test', output_filename)\n",
    "    \n",
    "    # Save the augmented audio\n",
    "    sf.write(output_path, augmented, sr)\n",
    "    \n",
    "    print(f\"Saved {output_filename}\")\n",
    "\n",
    "print(\"Augmentation test complete.\")"
   ]
  },
  {
   "cell_type": "code",
   "execution_count": 27,
   "metadata": {},
   "outputs": [
    {
     "name": "stderr",
     "output_type": "stream",
     "text": [
      "Processing files:   0%|          | 7/12120 [00:02<54:49,  3.68it/s]  "
     ]
    },
    {
     "name": "stdout",
     "output_type": "stream",
     "text": [
      "Error processing Processed Recordings\\Branta_canadensis_Whitewater_Township_near__Harrison_Hamilton_County_Ohio_726750_segment_5.wav: operands could not be broadcast together with shapes (500,) (406,) \n"
     ]
    },
    {
     "name": "stderr",
     "output_type": "stream",
     "text": [
      "Processing files:   1%|          | 146/12120 [00:52<59:03,  3.38it/s]  c:\\Users\\16148\\anaconda3\\envs\\dev\\lib\\site-packages\\librosa\\core\\spectrum.py:266: UserWarning: n_fft=2048 is too large for input signal of length=1886\n",
      "  warnings.warn(\n",
      "Processing files:   1%|▏         | 178/12120 [01:04<53:10,  3.74it/s]  "
     ]
    },
    {
     "name": "stdout",
     "output_type": "stream",
     "text": [
      "Error processing Processed Recordings\\Antrostomus_carolinensis_Hamilton_Rd_Adams_Cty_Ohio_939171_segment_9.wav: operands could not be broadcast together with shapes (1000,) (865,) \n"
     ]
    },
    {
     "name": "stderr",
     "output_type": "stream",
     "text": [
      "Processing files:   2%|▏         | 212/12120 [01:15<1:16:18,  2.60it/s]"
     ]
    },
    {
     "name": "stdout",
     "output_type": "stream",
     "text": [
      "Error processing Processed Recordings\\Antrostomus_carolinensis_Brush_Creek_near__West_Union_Adams_County_Ohio_178533_segment_3.wav: operands could not be broadcast together with shapes (1000,) (644,) \n"
     ]
    },
    {
     "name": "stderr",
     "output_type": "stream",
     "text": [
      "Processing files:   3%|▎         | 314/12120 [01:54<1:01:25,  3.20it/s]"
     ]
    },
    {
     "name": "stdout",
     "output_type": "stream",
     "text": [
      "Error processing Processed Recordings\\Antigone_canadensis_Troy_Township_near__Delaware_Delaware_County_Ohio_625913_segment_8.wav: operands could not be broadcast together with shapes (1000,) (614,) \n"
     ]
    },
    {
     "name": "stderr",
     "output_type": "stream",
     "text": [
      "Processing files:   4%|▍         | 522/12120 [03:09<59:24,  3.25it/s]  c:\\Users\\16148\\anaconda3\\envs\\dev\\lib\\site-packages\\librosa\\core\\spectrum.py:266: UserWarning: n_fft=2048 is too large for input signal of length=1601\n",
      "  warnings.warn(\n",
      "Processing files:   5%|▍         | 576/12120 [03:29<1:03:33,  3.03it/s]c:\\Users\\16148\\anaconda3\\envs\\dev\\lib\\site-packages\\librosa\\core\\spectrum.py:266: UserWarning: n_fft=2048 is too large for input signal of length=1098\n",
      "  warnings.warn(\n",
      "Processing files:   5%|▍         | 588/12120 [03:33<54:56,  3.50it/s]  c:\\Users\\16148\\anaconda3\\envs\\dev\\lib\\site-packages\\librosa\\core\\spectrum.py:266: UserWarning: n_fft=2048 is too large for input signal of length=802\n",
      "  warnings.warn(\n",
      "Processing files:   5%|▌         | 608/12120 [03:39<54:34,  3.52it/s]  "
     ]
    },
    {
     "name": "stdout",
     "output_type": "stream",
     "text": [
      "Error processing Processed Recordings\\Scolopax_minor_Columbus_Franklin_County_Ohio_171997_segment_35.wav: operands could not be broadcast together with shapes (1000,) (778,) \n"
     ]
    },
    {
     "name": "stderr",
     "output_type": "stream",
     "text": [
      "Processing files:   5%|▌         | 659/12120 [03:58<1:07:19,  2.84it/s]c:\\Users\\16148\\anaconda3\\envs\\dev\\lib\\site-packages\\librosa\\core\\spectrum.py:266: UserWarning: n_fft=2048 is too large for input signal of length=1382\n",
      "  warnings.warn(\n",
      "Processing files:   5%|▌         | 666/12120 [04:00<53:15,  3.58it/s]  "
     ]
    },
    {
     "name": "stdout",
     "output_type": "stream",
     "text": [
      "Error processing Processed Recordings\\Scolopax_minor_Columbus_Franklin_County_Ohio_171991_segment_27.wav: operands could not be broadcast together with shapes (1000,) (727,) \n"
     ]
    },
    {
     "name": "stderr",
     "output_type": "stream",
     "text": [
      "Processing files:   6%|▌         | 677/12120 [04:03<59:18,  3.22it/s]  c:\\Users\\16148\\anaconda3\\envs\\dev\\lib\\site-packages\\librosa\\core\\spectrum.py:266: UserWarning: n_fft=2048 is too large for input signal of length=972\n",
      "  warnings.warn(\n"
     ]
    },
    {
     "name": "stdout",
     "output_type": "stream",
     "text": [
      "Error processing Processed Recordings\\Scolopax_minor_Columbus_Franklin_County_Ohio_171991_segment_38.wav: operands could not be broadcast together with shapes (1000,) (978,) \n"
     ]
    },
    {
     "name": "stderr",
     "output_type": "stream",
     "text": [
      "Processing files:   6%|▌         | 680/12120 [04:04<59:29,  3.21it/s]c:\\Users\\16148\\anaconda3\\envs\\dev\\lib\\site-packages\\librosa\\core\\spectrum.py:266: UserWarning: n_fft=2048 is too large for input signal of length=617\n",
      "  warnings.warn(\n",
      "Processing files:   6%|▌         | 709/12120 [04:15<1:10:50,  2.68it/s]c:\\Users\\16148\\anaconda3\\envs\\dev\\lib\\site-packages\\librosa\\core\\spectrum.py:266: UserWarning: n_fft=2048 is too large for input signal of length=31\n",
      "  warnings.warn(\n",
      "Processing files:   6%|▋         | 765/12120 [04:35<1:05:12,  2.90it/s]c:\\Users\\16148\\anaconda3\\envs\\dev\\lib\\site-packages\\librosa\\core\\spectrum.py:266: UserWarning: n_fft=2048 is too large for input signal of length=168\n",
      "  warnings.warn(\n",
      "Processing files:   6%|▋         | 772/12120 [04:37<1:01:50,  3.06it/s]"
     ]
    },
    {
     "name": "stdout",
     "output_type": "stream",
     "text": [
      "Error processing Processed Recordings\\Botaurus_lentiginosus_Battelle_Darby_Metro_Park_-_Wetlands_417864_segment_0.wav: operands could not be broadcast together with shapes (500,) (56,) \n"
     ]
    },
    {
     "name": "stderr",
     "output_type": "stream",
     "text": [
      "Processing files:   6%|▋         | 777/12120 [04:39<1:06:16,  2.85it/s]c:\\Users\\16148\\anaconda3\\envs\\dev\\lib\\site-packages\\librosa\\core\\spectrum.py:266: UserWarning: n_fft=2048 is too large for input signal of length=1256\n",
      "  warnings.warn(\n",
      "c:\\Users\\16148\\anaconda3\\envs\\dev\\lib\\site-packages\\librosa\\core\\spectrum.py:266: UserWarning: n_fft=2048 is too large for input signal of length=1333\n",
      "  warnings.warn(\n",
      "Processing files:   7%|▋         | 867/12120 [05:11<1:17:35,  2.42it/s]c:\\Users\\16148\\anaconda3\\envs\\dev\\lib\\site-packages\\librosa\\core\\spectrum.py:266: UserWarning: n_fft=2048 is too large for input signal of length=1926\n",
      "  warnings.warn(\n",
      "Processing files:   7%|▋         | 885/12120 [05:17<1:11:16,  2.63it/s]"
     ]
    },
    {
     "name": "stdout",
     "output_type": "stream",
     "text": [
      "Error processing Processed Recordings\\Bubo_virginianus_Green_Township_near__Mount_Orab_Brown_County_Ohio_760069_segment_9.wav: operands could not be broadcast together with shapes (500,) (474,) \n"
     ]
    },
    {
     "name": "stderr",
     "output_type": "stream",
     "text": [
      "Processing files:   7%|▋         | 904/12120 [05:24<1:02:50,  2.97it/s]c:\\Users\\16148\\anaconda3\\envs\\dev\\lib\\site-packages\\librosa\\core\\spectrum.py:266: UserWarning: n_fft=2048 is too large for input signal of length=953\n",
      "  warnings.warn(\n",
      "Processing files:   8%|▊         | 921/12120 [05:29<1:10:29,  2.65it/s]c:\\Users\\16148\\anaconda3\\envs\\dev\\lib\\site-packages\\librosa\\core\\spectrum.py:266: UserWarning: n_fft=2048 is too large for input signal of length=1374\n",
      "  warnings.warn(\n",
      "Processing files:   8%|▊         | 945/12120 [05:37<1:02:36,  2.97it/s]"
     ]
    },
    {
     "name": "stdout",
     "output_type": "stream",
     "text": [
      "Error processing Processed Recordings\\Bubo_virginianus_mount_orab_ohio_760068_segment_42.wav: operands could not be broadcast together with shapes (1000,) (690,) \n"
     ]
    },
    {
     "name": "stderr",
     "output_type": "stream",
     "text": [
      "Processing files:   8%|▊         | 954/12120 [05:40<1:05:46,  2.83it/s]c:\\Users\\16148\\anaconda3\\envs\\dev\\lib\\site-packages\\librosa\\core\\spectrum.py:266: UserWarning: n_fft=2048 is too large for input signal of length=33\n",
      "  warnings.warn(\n",
      "c:\\Users\\16148\\anaconda3\\envs\\dev\\lib\\site-packages\\librosa\\core\\spectrum.py:266: UserWarning: n_fft=2048 is too large for input signal of length=34\n",
      "  warnings.warn(\n",
      "Processing files:  10%|▉         | 1155/12120 [06:51<55:40,  3.28it/s]  "
     ]
    },
    {
     "name": "stdout",
     "output_type": "stream",
     "text": [
      "Error processing Processed Recordings\\Megascops_asio_mount_orab_ohio_669305_segment_7.wav: operands could not be broadcast together with shapes (500,) (386,) \n"
     ]
    },
    {
     "name": "stderr",
     "output_type": "stream",
     "text": [
      "Processing files:  10%|▉         | 1175/12120 [06:59<51:26,  3.55it/s]  c:\\Users\\16148\\anaconda3\\envs\\dev\\lib\\site-packages\\librosa\\core\\spectrum.py:266: UserWarning: n_fft=2048 is too large for input signal of length=1809\n",
      "  warnings.warn(\n",
      "Processing files:  10%|▉         | 1196/12120 [07:07<1:03:25,  2.87it/s]c:\\Users\\16148\\anaconda3\\envs\\dev\\lib\\site-packages\\librosa\\core\\spectrum.py:266: UserWarning: n_fft=2048 is too large for input signal of length=1665\n",
      "  warnings.warn(\n",
      "Processing files:  10%|▉         | 1205/12120 [07:10<1:08:47,  2.64it/s]c:\\Users\\16148\\anaconda3\\envs\\dev\\lib\\site-packages\\librosa\\core\\spectrum.py:266: UserWarning: n_fft=2048 is too large for input signal of length=1785\n",
      "  warnings.warn(\n",
      "Processing files:  10%|█         | 1260/12120 [07:29<1:12:38,  2.49it/s]c:\\Users\\16148\\anaconda3\\envs\\dev\\lib\\site-packages\\librosa\\core\\spectrum.py:266: UserWarning: n_fft=2048 is too large for input signal of length=1570\n",
      "  warnings.warn(\n",
      "c:\\Users\\16148\\anaconda3\\envs\\dev\\lib\\site-packages\\librosa\\core\\spectrum.py:266: UserWarning: n_fft=2048 is too large for input signal of length=1645\n",
      "  warnings.warn(\n",
      "Processing files:  11%|█▏        | 1365/12120 [08:08<1:13:11,  2.45it/s]c:\\Users\\16148\\anaconda3\\envs\\dev\\lib\\site-packages\\librosa\\core\\spectrum.py:266: UserWarning: n_fft=2048 is too large for input signal of length=1274\n",
      "  warnings.warn(\n",
      "Processing files:  11%|█▏        | 1381/12120 [08:13<42:36,  4.20it/s]  "
     ]
    },
    {
     "name": "stdout",
     "output_type": "stream",
     "text": [
      "Error processing Processed Recordings\\Melanerpes_carolinus_Green_Township_near__Cincinnati_Hamilton_County_Ohio_726629_segment_3.wav: operands could not be broadcast together with shapes (500,) (221,) \n"
     ]
    },
    {
     "name": "stderr",
     "output_type": "stream",
     "text": [
      "Processing files:  12%|█▏        | 1434/12120 [08:31<1:01:08,  2.91it/s]c:\\Users\\16148\\anaconda3\\envs\\dev\\lib\\site-packages\\librosa\\core\\spectrum.py:266: UserWarning: n_fft=2048 is too large for input signal of length=625\n",
      "  warnings.warn(\n",
      "Processing files:  12%|█▏        | 1435/12120 [08:31<53:04,  3.36it/s]  "
     ]
    },
    {
     "name": "stdout",
     "output_type": "stream",
     "text": [
      "Error processing Processed Recordings\\Melanerpes_carolinus_Green_Township_near__Cincinnati_Hamilton_County_Ohio_672994_segment_8.wav: operands could not be broadcast together with shapes (1000,) (705,) \n"
     ]
    },
    {
     "name": "stderr",
     "output_type": "stream",
     "text": [
      "Processing files:  12%|█▏        | 1507/12120 [08:57<58:53,  3.00it/s]  "
     ]
    },
    {
     "name": "stdout",
     "output_type": "stream",
     "text": [
      "Error processing Processed Recordings\\Dryobates_pubescens_Pelee_near__Leamington_Essex_County_Ontario_476564_segment_0.wav: operands could not be broadcast together with shapes (1000,) (656,) \n"
     ]
    },
    {
     "name": "stderr",
     "output_type": "stream",
     "text": [
      "Processing files:  13%|█▎        | 1535/12120 [09:07<1:12:08,  2.45it/s]c:\\Users\\16148\\anaconda3\\envs\\dev\\lib\\site-packages\\librosa\\core\\spectrum.py:266: UserWarning: n_fft=2048 is too large for input signal of length=901\n",
      "  warnings.warn(\n",
      "Processing files:  13%|█▎        | 1585/12120 [09:25<58:07,  3.02it/s]  c:\\Users\\16148\\anaconda3\\envs\\dev\\lib\\site-packages\\librosa\\core\\spectrum.py:266: UserWarning: n_fft=2048 is too large for input signal of length=957\n",
      "  warnings.warn(\n",
      "Processing files:  13%|█▎        | 1586/12120 [09:25<1:00:38,  2.90it/s]"
     ]
    },
    {
     "name": "stdout",
     "output_type": "stream",
     "text": [
      "Error processing Processed Recordings\\Colaptes_auratus_Anderson_Township_near__Cincinnati_Hamilton_County_Ohio_542520_segment_21.wav: operands could not be broadcast together with shapes (1000,) (955,) \n"
     ]
    },
    {
     "name": "stderr",
     "output_type": "stream",
     "text": [
      "Processing files:  13%|█▎        | 1626/12120 [09:39<1:02:32,  2.80it/s]"
     ]
    },
    {
     "name": "stdout",
     "output_type": "stream",
     "text": [
      "Error processing Processed Recordings\\Dryocopus_pileatus_Harrison_Township_near__Harrison_Hamilton_County_Ohio_691470_segment_38.wav: operands could not be broadcast together with shapes (1000,) (865,) \n"
     ]
    },
    {
     "name": "stderr",
     "output_type": "stream",
     "text": [
      "Processing files:  14%|█▎        | 1647/12120 [09:46<47:32,  3.67it/s]  c:\\Users\\16148\\anaconda3\\envs\\dev\\lib\\site-packages\\librosa\\core\\spectrum.py:266: UserWarning: n_fft=2048 is too large for input signal of length=1250\n",
      "  warnings.warn(\n",
      "Processing files:  14%|█▎        | 1653/12120 [09:48<58:27,  2.98it/s]  c:\\Users\\16148\\anaconda3\\envs\\dev\\lib\\site-packages\\librosa\\core\\spectrum.py:266: UserWarning: n_fft=2048 is too large for input signal of length=1899\n",
      "  warnings.warn(\n",
      "Processing files:  15%|█▌        | 1841/12120 [10:59<55:42,  3.07it/s]  c:\\Users\\16148\\anaconda3\\envs\\dev\\lib\\site-packages\\librosa\\core\\spectrum.py:266: UserWarning: n_fft=2048 is too large for input signal of length=1072\n",
      "  warnings.warn(\n",
      "Processing files:  16%|█▌        | 1886/12120 [11:15<57:07,  2.99it/s]  c:\\Users\\16148\\anaconda3\\envs\\dev\\lib\\site-packages\\librosa\\core\\spectrum.py:266: UserWarning: n_fft=2048 is too large for input signal of length=1853\n",
      "  warnings.warn(\n",
      "Processing files:  16%|█▌        | 1889/12120 [11:16<58:42,  2.90it/s]c:\\Users\\16148\\anaconda3\\envs\\dev\\lib\\site-packages\\librosa\\core\\spectrum.py:266: UserWarning: n_fft=2048 is too large for input signal of length=605\n",
      "  warnings.warn(\n",
      "Processing files:  16%|█▌        | 1890/12120 [11:16<50:55,  3.35it/s]"
     ]
    },
    {
     "name": "stdout",
     "output_type": "stream",
     "text": [
      "Error processing Processed Recordings\\Empidonax_virescens_Harrison_Township_near__Harrison_Hamilton_County_Ohio_728279_segment_7.wav: operands could not be broadcast together with shapes (1000,) (648,) \n"
     ]
    },
    {
     "name": "stderr",
     "output_type": "stream",
     "text": [
      "Processing files:  16%|█▌        | 1898/12120 [11:18<52:22,  3.25it/s]c:\\Users\\16148\\anaconda3\\envs\\dev\\lib\\site-packages\\librosa\\core\\spectrum.py:266: UserWarning: n_fft=2048 is too large for input signal of length=1302\n",
      "  warnings.warn(\n",
      "Processing files:  16%|█▌        | 1933/12120 [11:31<54:44,  3.10it/s]  "
     ]
    },
    {
     "name": "stdout",
     "output_type": "stream",
     "text": [
      "Error processing Processed Recordings\\Empidonax_virescens_Harrison_Township_near__Harrison_Hamilton_County_Ohio_728272_segment_1.wav: operands could not be broadcast together with shapes (500,) (428,) \n"
     ]
    },
    {
     "name": "stderr",
     "output_type": "stream",
     "text": [
      "Processing files:  16%|█▌        | 1964/12120 [11:42<1:13:43,  2.30it/s]"
     ]
    },
    {
     "name": "stdout",
     "output_type": "stream",
     "text": [
      "Error processing Processed Recordings\\Empidonax_virescens_Miami_Township_near__North_Bend_Hamilton_County_Ohio_670407_segment_25.wav: operands could not be broadcast together with shapes (1000,) (913,) \n"
     ]
    },
    {
     "name": "stderr",
     "output_type": "stream",
     "text": [
      "Processing files:  16%|█▋        | 1999/12120 [11:55<58:14,  2.90it/s]  c:\\Users\\16148\\anaconda3\\envs\\dev\\lib\\site-packages\\librosa\\core\\spectrum.py:266: UserWarning: n_fft=2048 is too large for input signal of length=1939\n",
      "  warnings.warn(\n",
      "Processing files:  17%|█▋        | 2028/12120 [12:06<1:01:58,  2.71it/s]c:\\Users\\16148\\anaconda3\\envs\\dev\\lib\\site-packages\\librosa\\core\\spectrum.py:266: UserWarning: n_fft=2048 is too large for input signal of length=1955\n",
      "  warnings.warn(\n",
      "Processing files:  17%|█▋        | 2075/12120 [12:23<1:04:10,  2.61it/s]c:\\Users\\16148\\anaconda3\\envs\\dev\\lib\\site-packages\\librosa\\core\\spectrum.py:266: UserWarning: n_fft=2048 is too large for input signal of length=1264\n",
      "  warnings.warn(\n",
      "Processing files:  17%|█▋        | 2105/12120 [12:33<1:02:49,  2.66it/s]"
     ]
    },
    {
     "name": "stdout",
     "output_type": "stream",
     "text": [
      "Error processing Processed Recordings\\Tyrannus_tyrannus_Point_Pelee_National_Park_near__Wheatley_Essex_County_Ontario_805523_segment_12.wav: operands could not be broadcast together with shapes (500,) (300,) \n"
     ]
    },
    {
     "name": "stderr",
     "output_type": "stream",
     "text": [
      "Processing files:  18%|█▊        | 2140/12120 [12:45<1:07:00,  2.48it/s]c:\\Users\\16148\\anaconda3\\envs\\dev\\lib\\site-packages\\librosa\\core\\spectrum.py:266: UserWarning: n_fft=2048 is too large for input signal of length=365\n",
      "  warnings.warn(\n",
      "Processing files:  18%|█▊        | 2170/12120 [12:56<56:04,  2.96it/s]  c:\\Users\\16148\\anaconda3\\envs\\dev\\lib\\site-packages\\librosa\\core\\spectrum.py:266: UserWarning: n_fft=2048 is too large for input signal of length=1496\n",
      "  warnings.warn(\n",
      "Processing files:  18%|█▊        | 2212/12120 [13:09<58:38,  2.82it/s]  c:\\Users\\16148\\anaconda3\\envs\\dev\\lib\\site-packages\\librosa\\core\\spectrum.py:266: UserWarning: n_fft=2048 is too large for input signal of length=1493\n",
      "  warnings.warn(\n",
      "Processing files:  18%|█▊        | 2215/12120 [13:10<52:27,  3.15it/s]c:\\Users\\16148\\anaconda3\\envs\\dev\\lib\\site-packages\\librosa\\core\\spectrum.py:266: UserWarning: n_fft=2048 is too large for input signal of length=1293\n",
      "  warnings.warn(\n",
      "c:\\Users\\16148\\anaconda3\\envs\\dev\\lib\\site-packages\\librosa\\core\\spectrum.py:266: UserWarning: n_fft=2048 is too large for input signal of length=1230\n",
      "  warnings.warn(\n",
      "Processing files:  18%|█▊        | 2228/12120 [13:16<1:21:24,  2.03it/s]c:\\Users\\16148\\anaconda3\\envs\\dev\\lib\\site-packages\\librosa\\core\\spectrum.py:266: UserWarning: n_fft=2048 is too large for input signal of length=1325\n",
      "  warnings.warn(\n",
      "Processing files:  19%|█▊        | 2247/12120 [13:23<1:04:54,  2.54it/s]c:\\Users\\16148\\anaconda3\\envs\\dev\\lib\\site-packages\\librosa\\core\\spectrum.py:266: UserWarning: n_fft=2048 is too large for input signal of length=1832\n",
      "  warnings.warn(\n",
      "c:\\Users\\16148\\anaconda3\\envs\\dev\\lib\\site-packages\\librosa\\core\\spectrum.py:266: UserWarning: n_fft=2048 is too large for input signal of length=1626\n",
      "  warnings.warn(\n",
      "Processing files:  19%|█▊        | 2251/12120 [13:25<50:36,  3.25it/s]  c:\\Users\\16148\\anaconda3\\envs\\dev\\lib\\site-packages\\librosa\\core\\spectrum.py:266: UserWarning: n_fft=2048 is too large for input signal of length=1684\n",
      "  warnings.warn(\n",
      "c:\\Users\\16148\\anaconda3\\envs\\dev\\lib\\site-packages\\librosa\\core\\spectrum.py:266: UserWarning: n_fft=2048 is too large for input signal of length=1775\n",
      "  warnings.warn(\n",
      "Processing files:  19%|█▉        | 2288/12120 [13:38<57:47,  2.84it/s]  "
     ]
    },
    {
     "name": "stdout",
     "output_type": "stream",
     "text": [
      "Error processing Processed Recordings\\Vireo_gilvus_Magee_Marsh_-_boardwalk_Lucas_County_Ohio_827590_segment_11.wav: operands could not be broadcast together with shapes (1000,) (823,) \n"
     ]
    },
    {
     "name": "stderr",
     "output_type": "stream",
     "text": [
      "Processing files:  19%|█▉        | 2290/12120 [13:39<55:36,  2.95it/s]c:\\Users\\16148\\anaconda3\\envs\\dev\\lib\\site-packages\\librosa\\core\\spectrum.py:266: UserWarning: n_fft=2048 is too large for input signal of length=1538\n",
      "  warnings.warn(\n",
      "Processing files:  19%|█▉        | 2323/12120 [13:50<58:10,  2.81it/s]  "
     ]
    },
    {
     "name": "stdout",
     "output_type": "stream",
     "text": [
      "Error processing Processed Recordings\\Vireo_gilvus_Magee_Marsh_-_boardwalk_Lucas_County_Ohio_827590_segment_46.wav: operands could not be broadcast together with shapes (1000,) (913,) \n"
     ]
    },
    {
     "name": "stderr",
     "output_type": "stream",
     "text": [
      "Processing files:  19%|█▉        | 2345/12120 [13:57<49:54,  3.26it/s]  c:\\Users\\16148\\anaconda3\\envs\\dev\\lib\\site-packages\\librosa\\core\\spectrum.py:266: UserWarning: n_fft=2048 is too large for input signal of length=2000\n",
      "  warnings.warn(\n",
      "c:\\Users\\16148\\anaconda3\\envs\\dev\\lib\\site-packages\\librosa\\core\\spectrum.py:266: UserWarning: n_fft=2048 is too large for input signal of length=1677\n",
      "  warnings.warn(\n",
      "Processing files:  19%|█▉        | 2349/12120 [13:59<51:47,  3.14it/s]"
     ]
    },
    {
     "name": "stdout",
     "output_type": "stream",
     "text": [
      "Error processing Processed Recordings\\Vireo_gilvus_Point_Pelee_National_Park_near__Wheatley_Essex_County_Ontario_806076_segment_1.wav: operands could not be broadcast together with shapes (500,) (14,) \n"
     ]
    },
    {
     "name": "stderr",
     "output_type": "stream",
     "text": [
      "Processing files:  20%|█▉        | 2380/12120 [14:10<1:05:17,  2.49it/s]c:\\Users\\16148\\anaconda3\\envs\\dev\\lib\\site-packages\\librosa\\core\\spectrum.py:266: UserWarning: n_fft=2048 is too large for input signal of length=94\n",
      "  warnings.warn(\n",
      "Processing files:  20%|█▉        | 2381/12120 [14:10<56:03,  2.90it/s]  "
     ]
    },
    {
     "name": "stdout",
     "output_type": "stream",
     "text": [
      "Error processing Processed Recordings\\Vireo_gilvus_Whitewater_Township_near__Harrison_Hamilton_County_Ohio_726753_segment_12.wav: operands could not be broadcast together with shapes (500,) (97,) \n"
     ]
    },
    {
     "name": "stderr",
     "output_type": "stream",
     "text": [
      "Processing files:  20%|█▉        | 2412/12120 [14:22<1:12:18,  2.24it/s]c:\\Users\\16148\\anaconda3\\envs\\dev\\lib\\site-packages\\librosa\\core\\spectrum.py:266: UserWarning: n_fft=2048 is too large for input signal of length=689\n",
      "  warnings.warn(\n",
      "Processing files:  20%|██        | 2480/12120 [14:47<48:39,  3.30it/s]  "
     ]
    },
    {
     "name": "stdout",
     "output_type": "stream",
     "text": [
      "Error processing Processed Recordings\\Vireo_gilvus_Magee_Marsh_-_boardwalk_Lucas_County_Ohio_827589_segment_3.wav: operands could not be broadcast together with shapes (500,) (360,) \n"
     ]
    },
    {
     "name": "stderr",
     "output_type": "stream",
     "text": [
      "Processing files:  20%|██        | 2481/12120 [14:47<51:35,  3.11it/s]c:\\Users\\16148\\anaconda3\\envs\\dev\\lib\\site-packages\\librosa\\core\\spectrum.py:266: UserWarning: n_fft=2048 is too large for input signal of length=1001\n",
      "  warnings.warn(\n"
     ]
    },
    {
     "name": "stdout",
     "output_type": "stream",
     "text": [
      "Error processing Processed Recordings\\Vireo_gilvus_Magee_Marsh_-_boardwalk_Lucas_County_Ohio_827589_segment_5.wav: operands could not be broadcast together with shapes (1000,) (884,) \n"
     ]
    },
    {
     "name": "stderr",
     "output_type": "stream",
     "text": [
      "Processing files:  21%|██▏       | 2598/12120 [15:30<52:49,  3.00it/s]  c:\\Users\\16148\\anaconda3\\envs\\dev\\lib\\site-packages\\librosa\\core\\spectrum.py:266: UserWarning: n_fft=2048 is too large for input signal of length=1995\n",
      "  warnings.warn(\n",
      "Processing files:  22%|██▏       | 2670/12120 [15:55<56:49,  2.77it/s]  c:\\Users\\16148\\anaconda3\\envs\\dev\\lib\\site-packages\\librosa\\core\\spectrum.py:266: UserWarning: n_fft=2048 is too large for input signal of length=1792\n",
      "  warnings.warn(\n",
      "Processing files:  22%|██▏       | 2681/12120 [15:59<56:03,  2.81it/s]  "
     ]
    },
    {
     "name": "stdout",
     "output_type": "stream",
     "text": [
      "Error processing Processed Recordings\\Vireo_flavifrons_Shawnee_State_Forest_Scioto_County_Ohio_417452_segment_2.wav: operands could not be broadcast together with shapes (500,) (314,) \n"
     ]
    },
    {
     "name": "stderr",
     "output_type": "stream",
     "text": [
      "Processing files:  22%|██▏       | 2690/12120 [16:02<54:24,  2.89it/s]  c:\\Users\\16148\\anaconda3\\envs\\dev\\lib\\site-packages\\librosa\\core\\spectrum.py:266: UserWarning: n_fft=2048 is too large for input signal of length=1840\n",
      "  warnings.warn(\n",
      "Processing files:  22%|██▏       | 2700/12120 [16:06<1:00:09,  2.61it/s]"
     ]
    },
    {
     "name": "stdout",
     "output_type": "stream",
     "text": [
      "Error processing Processed Recordings\\Vireo_flavifrons_Miami_Township_near__North_Bend_Hamilton_County_Ohio_645966_segment_4.wav: operands could not be broadcast together with shapes (500,) (258,) \n"
     ]
    },
    {
     "name": "stderr",
     "output_type": "stream",
     "text": [
      "Processing files:  23%|██▎       | 2735/12120 [16:19<50:35,  3.09it/s]  c:\\Users\\16148\\anaconda3\\envs\\dev\\lib\\site-packages\\librosa\\core\\spectrum.py:266: UserWarning: n_fft=2048 is too large for input signal of length=1728\n",
      "  warnings.warn(\n",
      "Processing files:  24%|██▍       | 2951/12120 [17:36<54:39,  2.80it/s]  c:\\Users\\16148\\anaconda3\\envs\\dev\\lib\\site-packages\\librosa\\core\\spectrum.py:266: UserWarning: n_fft=2048 is too large for input signal of length=362\n",
      "  warnings.warn(\n"
     ]
    },
    {
     "name": "stdout",
     "output_type": "stream",
     "text": [
      "Error processing Processed Recordings\\Vireo_bellii_Heritage_Rail-Trail_south_of_Hayden_Run_Rd_near_mowed_path_BEVI_#1_103569_segment_5.wav: operands could not be broadcast together with shapes (500,) (432,) \n"
     ]
    },
    {
     "name": "stderr",
     "output_type": "stream",
     "text": [
      "Processing files:  25%|██▍       | 3000/12120 [17:52<34:02,  4.46it/s]  c:\\Users\\16148\\anaconda3\\envs\\dev\\lib\\site-packages\\librosa\\core\\spectrum.py:266: UserWarning: n_fft=2048 is too large for input signal of length=1539\n",
      "  warnings.warn(\n",
      "Processing files:  26%|██▌       | 3145/12120 [18:44<55:57,  2.67it/s]  c:\\Users\\16148\\anaconda3\\envs\\dev\\lib\\site-packages\\librosa\\core\\spectrum.py:266: UserWarning: n_fft=2048 is too large for input signal of length=340\n",
      "  warnings.warn(\n",
      "Processing files:  26%|██▋       | 3199/12120 [19:03<38:28,  3.86it/s]  "
     ]
    },
    {
     "name": "stdout",
     "output_type": "stream",
     "text": [
      "Error processing Processed Recordings\\Baeolophus_bicolor_Green_Township_near__Cincinnati_Hamilton_County_Ohio_673001_segment_5.wav: operands could not be broadcast together with shapes (1000,) (985,) \n"
     ]
    },
    {
     "name": "stderr",
     "output_type": "stream",
     "text": [
      "Processing files:  26%|██▋       | 3208/12120 [19:07<54:00,  2.75it/s]  c:\\Users\\16148\\anaconda3\\envs\\dev\\lib\\site-packages\\librosa\\core\\spectrum.py:266: UserWarning: n_fft=2048 is too large for input signal of length=24\n",
      "  warnings.warn(\n",
      "Processing files:  26%|██▋       | 3209/12120 [19:07<46:08,  3.22it/s]"
     ]
    },
    {
     "name": "stdout",
     "output_type": "stream",
     "text": [
      "Error processing Processed Recordings\\Baeolophus_bicolor_Miami_Township_near__Cleves_Hamilton_County_Ohio_645567_segment_6.wav: operands could not be broadcast together with shapes (500,) (22,) \n"
     ]
    },
    {
     "name": "stderr",
     "output_type": "stream",
     "text": [
      "Processing files:  27%|██▋       | 3220/12120 [19:11<57:06,  2.60it/s]"
     ]
    },
    {
     "name": "stdout",
     "output_type": "stream",
     "text": [
      "Error processing Processed Recordings\\Baeolophus_bicolor_Miami_Township_near__Cleves_Hamilton_County_Ohio_645567_segment_18.wav: operands could not be broadcast together with shapes (500,) (4,) \n"
     ]
    },
    {
     "name": "stderr",
     "output_type": "stream",
     "text": [
      "Processing files:  27%|██▋       | 3232/12120 [19:15<53:17,  2.78it/s]  c:\\Users\\16148\\anaconda3\\envs\\dev\\lib\\site-packages\\librosa\\core\\spectrum.py:266: UserWarning: n_fft=2048 is too large for input signal of length=82\n",
      "  warnings.warn(\n",
      "Processing files:  27%|██▋       | 3246/12120 [19:20<46:04,  3.21it/s]  "
     ]
    },
    {
     "name": "stdout",
     "output_type": "stream",
     "text": [
      "Error processing Processed Recordings\\Baeolophus_bicolor_Beachwood_Cuyahoga_County_Ohio_287347_segment_9.wav: operands could not be broadcast together with shapes (1000,) (588,) \n"
     ]
    },
    {
     "name": "stderr",
     "output_type": "stream",
     "text": [
      "Processing files:  27%|██▋       | 3303/12120 [19:41<51:32,  2.85it/s]  c:\\Users\\16148\\anaconda3\\envs\\dev\\lib\\site-packages\\librosa\\core\\spectrum.py:266: UserWarning: n_fft=2048 is too large for input signal of length=372\n",
      "  warnings.warn(\n"
     ]
    },
    {
     "name": "stdout",
     "output_type": "stream",
     "text": [
      "Error processing Processed Recordings\\Poecile_carolinensis_Green_Township_near__Cincinnati_Hamilton_County_Ohio_779380_segment_13.wav: operands could not be broadcast together with shapes (500,) (316,) \n"
     ]
    },
    {
     "name": "stderr",
     "output_type": "stream",
     "text": [
      "Processing files:  28%|██▊       | 3419/12120 [20:23<1:03:14,  2.29it/s]c:\\Users\\16148\\anaconda3\\envs\\dev\\lib\\site-packages\\librosa\\core\\spectrum.py:266: UserWarning: n_fft=2048 is too large for input signal of length=1974\n",
      "  warnings.warn(\n",
      "Processing files:  28%|██▊       | 3440/12120 [20:30<38:01,  3.80it/s]  c:\\Users\\16148\\anaconda3\\envs\\dev\\lib\\site-packages\\librosa\\core\\spectrum.py:266: UserWarning: n_fft=2048 is too large for input signal of length=851\n",
      "  warnings.warn(\n",
      "Processing files:  29%|██▉       | 3497/12120 [20:51<52:04,  2.76it/s]  "
     ]
    },
    {
     "name": "stdout",
     "output_type": "stream",
     "text": [
      "Error processing Processed Recordings\\Poecile_atricapillus_Point_Pelee_National_Park_near__Wheatley_Essex_County_Ontario_803377_segment_4.wav: operands could not be broadcast together with shapes (500,) (320,) \n"
     ]
    },
    {
     "name": "stderr",
     "output_type": "stream",
     "text": [
      "Processing files:  29%|██▉       | 3551/12120 [21:11<58:12,  2.45it/s]  c:\\Users\\16148\\anaconda3\\envs\\dev\\lib\\site-packages\\librosa\\core\\spectrum.py:266: UserWarning: n_fft=2048 is too large for input signal of length=12\n",
      "  warnings.warn(\n"
     ]
    },
    {
     "name": "stdout",
     "output_type": "stream",
     "text": [
      "Error processing Processed Recordings\\Eremophila_alpestris_Michigan_Monroe_County_16969_segment_3.wav: operands could not be broadcast together with shapes (500,) (12,) \n"
     ]
    },
    {
     "name": "stderr",
     "output_type": "stream",
     "text": [
      "Processing files:  30%|██▉       | 3579/12120 [21:21<59:46,  2.38it/s]  c:\\Users\\16148\\anaconda3\\envs\\dev\\lib\\site-packages\\librosa\\core\\spectrum.py:266: UserWarning: n_fft=2048 is too large for input signal of length=2003\n",
      "  warnings.warn(\n",
      "Processing files:  30%|██▉       | 3584/12120 [21:23<1:00:04,  2.37it/s]"
     ]
    },
    {
     "name": "stdout",
     "output_type": "stream",
     "text": [
      "Error processing Processed Recordings\\Tachycineta_bicolor_Point_Pelee_National_Park_near__Wheatley_Essex_County_Ontario_839333_segment_4.wav: operands could not be broadcast together with shapes (500,) (91,) \n"
     ]
    },
    {
     "name": "stderr",
     "output_type": "stream",
     "text": [
      "Processing files:  30%|██▉       | 3616/12120 [21:34<53:40,  2.64it/s]  c:\\Users\\16148\\anaconda3\\envs\\dev\\lib\\site-packages\\librosa\\core\\spectrum.py:266: UserWarning: n_fft=2048 is too large for input signal of length=1932\n",
      "  warnings.warn(\n",
      "c:\\Users\\16148\\anaconda3\\envs\\dev\\lib\\site-packages\\librosa\\core\\spectrum.py:266: UserWarning: n_fft=2048 is too large for input signal of length=1688\n",
      "  warnings.warn(\n",
      "Processing files:  30%|██▉       | 3632/12120 [21:40<45:32,  3.11it/s]c:\\Users\\16148\\anaconda3\\envs\\dev\\lib\\site-packages\\librosa\\core\\spectrum.py:266: UserWarning: n_fft=2048 is too large for input signal of length=704\n",
      "  warnings.warn(\n",
      "Processing files:  30%|███       | 3640/12120 [21:42<57:00,  2.48it/s]c:\\Users\\16148\\anaconda3\\envs\\dev\\lib\\site-packages\\librosa\\core\\spectrum.py:266: UserWarning: n_fft=2048 is too large for input signal of length=349\n",
      "  warnings.warn(\n",
      "Processing files:  30%|███       | 3652/12120 [21:46<42:39,  3.31it/s]"
     ]
    },
    {
     "name": "stdout",
     "output_type": "stream",
     "text": [
      "Error processing Processed Recordings\\Tachycineta_bicolor_Magee_Marsh_-_boardwalk_Lucas_County_Ohio_827054_segment_64.wav: operands could not be broadcast together with shapes (1000,) (641,) \n"
     ]
    },
    {
     "name": "stderr",
     "output_type": "stream",
     "text": [
      "Processing files:  31%|███       | 3715/12120 [22:09<41:16,  3.39it/s]  c:\\Users\\16148\\anaconda3\\envs\\dev\\lib\\site-packages\\librosa\\core\\spectrum.py:266: UserWarning: n_fft=2048 is too large for input signal of length=1548\n",
      "  warnings.warn(\n",
      "Processing files:  31%|███▏      | 3796/12120 [22:37<40:27,  3.43it/s]  c:\\Users\\16148\\anaconda3\\envs\\dev\\lib\\site-packages\\librosa\\core\\spectrum.py:266: UserWarning: n_fft=2048 is too large for input signal of length=713\n",
      "  warnings.warn(\n",
      "Processing files:  32%|███▏      | 3829/12120 [22:49<40:25,  3.42it/s]  "
     ]
    },
    {
     "name": "stdout",
     "output_type": "stream",
     "text": [
      "Error processing Processed Recordings\\Progne_subis_Magee_Marsh_Ohio_164748_segment_19.wav: operands could not be broadcast together with shapes (500,) (449,) \n"
     ]
    },
    {
     "name": "stderr",
     "output_type": "stream",
     "text": [
      "Processing files:  32%|███▏      | 3889/12120 [23:11<39:13,  3.50it/s]  "
     ]
    },
    {
     "name": "stdout",
     "output_type": "stream",
     "text": [
      "Error processing Processed Recordings\\Cistothorus_stellaris_Battelle_Darby_Metro_Park--Cutoff_trail_from_Darby_Creek_Trail_past_barn_to_Darby_Creek_Rd._105741_segment_17.wav: operands could not be broadcast together with shapes (1000,) (545,) \n"
     ]
    },
    {
     "name": "stderr",
     "output_type": "stream",
     "text": [
      "Processing files:  32%|███▏      | 3933/12120 [23:26<55:36,  2.45it/s]  c:\\Users\\16148\\anaconda3\\envs\\dev\\lib\\site-packages\\librosa\\core\\spectrum.py:266: UserWarning: n_fft=2048 is too large for input signal of length=442\n",
      "  warnings.warn(\n",
      "Processing files:  33%|███▎      | 3966/12120 [23:40<46:36,  2.92it/s]  c:\\Users\\16148\\anaconda3\\envs\\dev\\lib\\site-packages\\librosa\\core\\spectrum.py:266: UserWarning: n_fft=2048 is too large for input signal of length=1807\n",
      "  warnings.warn(\n",
      "Processing files:  33%|███▎      | 4000/12120 [23:54<1:01:24,  2.20it/s]c:\\Users\\16148\\anaconda3\\envs\\dev\\lib\\site-packages\\librosa\\core\\spectrum.py:266: UserWarning: n_fft=2048 is too large for input signal of length=468\n",
      "  warnings.warn(\n",
      "Processing files:  33%|███▎      | 4001/12120 [23:54<53:08,  2.55it/s]  "
     ]
    },
    {
     "name": "stdout",
     "output_type": "stream",
     "text": [
      "Error processing Processed Recordings\\Thryothorus_ludovicianus_Whitewater_Township_near__Cleves_Hamilton_County_Ohio_896572_segment_5.wav: operands could not be broadcast together with shapes (500,) (496,) \n"
     ]
    },
    {
     "name": "stderr",
     "output_type": "stream",
     "text": [
      "Processing files:  33%|███▎      | 4048/12120 [24:13<43:05,  3.12it/s]  "
     ]
    },
    {
     "name": "stdout",
     "output_type": "stream",
     "text": [
      "Error processing Processed Recordings\\Thryothorus_ludovicianus_Spring_Valley_near__Waynesville_Greene_Cty_Ohio_477595_segment_6.wav: operands could not be broadcast together with shapes (500,) (378,) \n"
     ]
    },
    {
     "name": "stderr",
     "output_type": "stream",
     "text": [
      "Processing files:  35%|███▌      | 4271/12120 [25:38<48:36,  2.69it/s]  c:\\Users\\16148\\anaconda3\\envs\\dev\\lib\\site-packages\\librosa\\core\\spectrum.py:266: UserWarning: n_fft=2048 is too large for input signal of length=1944\n",
      "  warnings.warn(\n",
      "Processing files:  35%|███▌      | 4291/12120 [25:45<46:00,  2.84it/s]  "
     ]
    },
    {
     "name": "stdout",
     "output_type": "stream",
     "text": [
      "Error processing Processed Recordings\\Troglodytes_aedon_Cleveland_Heights_Ohio_67466_segment_16.wav: operands could not be broadcast together with shapes (1000,) (794,) \n"
     ]
    },
    {
     "name": "stderr",
     "output_type": "stream",
     "text": [
      "Processing files:  36%|███▋      | 4403/12120 [26:28<47:13,  2.72it/s]  "
     ]
    },
    {
     "name": "stdout",
     "output_type": "stream",
     "text": [
      "Error processing Processed Recordings\\Troglodytes_aedon_Ohio_Crane_Creek_SP_17053_segment_5.wav: operands could not be broadcast together with shapes (500,) (312,) \n"
     ]
    },
    {
     "name": "stderr",
     "output_type": "stream",
     "text": [
      "Processing files:  36%|███▋      | 4407/12120 [26:29<40:43,  3.16it/s]c:\\Users\\16148\\anaconda3\\envs\\dev\\lib\\site-packages\\librosa\\core\\spectrum.py:266: UserWarning: n_fft=2048 is too large for input signal of length=555\n",
      "  warnings.warn(\n",
      "c:\\Users\\16148\\anaconda3\\envs\\dev\\lib\\site-packages\\librosa\\core\\spectrum.py:266: UserWarning: n_fft=2048 is too large for input signal of length=556\n",
      "  warnings.warn(\n"
     ]
    },
    {
     "name": "stdout",
     "output_type": "stream",
     "text": [
      "Error processing Processed Recordings\\Troglodytes_aedon_Ohio_Crane_Creek_SP_17053_segment_9.wav: operands could not be broadcast together with shapes (1000,) (689,) \n"
     ]
    },
    {
     "name": "stderr",
     "output_type": "stream",
     "text": [
      "Processing files:  37%|███▋      | 4454/12120 [26:45<42:10,  3.03it/s]c:\\Users\\16148\\anaconda3\\envs\\dev\\lib\\site-packages\\librosa\\core\\spectrum.py:266: UserWarning: n_fft=2048 is too large for input signal of length=994\n",
      "  warnings.warn(\n",
      "Processing files:  37%|███▋      | 4478/12120 [26:54<43:16,  2.94it/s]c:\\Users\\16148\\anaconda3\\envs\\dev\\lib\\site-packages\\librosa\\core\\spectrum.py:266: UserWarning: n_fft=2048 is too large for input signal of length=68\n",
      "  warnings.warn(\n",
      "Processing files:  37%|███▋      | 4502/12120 [27:02<49:37,  2.56it/s]c:\\Users\\16148\\anaconda3\\envs\\dev\\lib\\site-packages\\librosa\\core\\spectrum.py:266: UserWarning: n_fft=2048 is too large for input signal of length=1208\n",
      "  warnings.warn(\n",
      "Processing files:  37%|███▋      | 4518/12120 [27:08<43:53,  2.89it/s]  c:\\Users\\16148\\anaconda3\\envs\\dev\\lib\\site-packages\\librosa\\core\\spectrum.py:266: UserWarning: n_fft=2048 is too large for input signal of length=1437\n",
      "  warnings.warn(\n",
      "Processing files:  38%|███▊      | 4597/12120 [27:37<41:52,  2.99it/s]  "
     ]
    },
    {
     "name": "stdout",
     "output_type": "stream",
     "text": [
      "Error processing Processed Recordings\\Polioptila_caerulea_Magee_Marsh_-_boardwalk_Lucas_County_Ohio_816236_segment_4.wav: operands could not be broadcast together with shapes (500,) (208,) \n"
     ]
    },
    {
     "name": "stderr",
     "output_type": "stream",
     "text": [
      "Processing files:  39%|███▊      | 4696/12120 [28:13<1:20:48,  1.53it/s]"
     ]
    },
    {
     "name": "stdout",
     "output_type": "stream",
     "text": [
      "Error processing Processed Recordings\\Polioptila_caerulea_Anderson_Township_near__Cincinnati_Hamilton_County_Ohio_552557_segment_12.wav: operands could not be broadcast together with shapes (1000,) (972,) \n"
     ]
    },
    {
     "name": "stderr",
     "output_type": "stream",
     "text": [
      "Processing files:  39%|███▉      | 4719/12120 [28:21<38:23,  3.21it/s]  c:\\Users\\16148\\anaconda3\\envs\\dev\\lib\\site-packages\\librosa\\core\\spectrum.py:266: UserWarning: n_fft=2048 is too large for input signal of length=1585\n",
      "  warnings.warn(\n",
      "Processing files:  39%|███▉      | 4729/12120 [28:25<40:26,  3.05it/s]c:\\Users\\16148\\anaconda3\\envs\\dev\\lib\\site-packages\\librosa\\core\\spectrum.py:266: UserWarning: n_fft=2048 is too large for input signal of length=1331\n",
      "  warnings.warn(\n",
      "Processing files:  41%|████      | 4987/12120 [29:56<39:51,  2.98it/s]  c:\\Users\\16148\\anaconda3\\envs\\dev\\lib\\site-packages\\librosa\\core\\spectrum.py:266: UserWarning: n_fft=2048 is too large for input signal of length=831\n",
      "  warnings.warn(\n"
     ]
    },
    {
     "name": "stdout",
     "output_type": "stream",
     "text": [
      "Error processing Processed Recordings\\Dumetella_carolinensis_Magee_Marsh_-_boardwalk_Lucas_County_Ohio_814891_segment_48.wav: operands could not be broadcast together with shapes (1000,) (865,) \n"
     ]
    },
    {
     "name": "stderr",
     "output_type": "stream",
     "text": [
      "Processing files:  41%|████▏     | 5019/12120 [30:08<45:20,  2.61it/s]c:\\Users\\16148\\anaconda3\\envs\\dev\\lib\\site-packages\\librosa\\core\\spectrum.py:266: UserWarning: n_fft=2048 is too large for input signal of length=704\n",
      "  warnings.warn(\n",
      "Processing files:  41%|████▏     | 5020/12120 [30:08<37:42,  3.14it/s]"
     ]
    },
    {
     "name": "stdout",
     "output_type": "stream",
     "text": [
      "Error processing Processed Recordings\\Dumetella_carolinensis_Magee_Marsh_-_boardwalk_Lucas_County_Ohio_814888_segment_11.wav: operands could not be broadcast together with shapes (1000,) (694,) \n"
     ]
    },
    {
     "name": "stderr",
     "output_type": "stream",
     "text": [
      "Processing files:  41%|████▏     | 5026/12120 [30:11<48:57,  2.42it/s]"
     ]
    },
    {
     "name": "stdout",
     "output_type": "stream",
     "text": [
      "Error processing Processed Recordings\\Dumetella_carolinensis_Magee_Marsh_-_boardwalk_Lucas_County_Ohio_814888_segment_18.wav: operands could not be broadcast together with shapes (1000,) (554,) \n"
     ]
    },
    {
     "name": "stderr",
     "output_type": "stream",
     "text": [
      "Processing files:  42%|████▏     | 5067/12120 [30:25<42:21,  2.77it/s]c:\\Users\\16148\\anaconda3\\envs\\dev\\lib\\site-packages\\librosa\\core\\spectrum.py:266: UserWarning: n_fft=2048 is too large for input signal of length=537\n",
      "  warnings.warn(\n",
      "Processing files:  42%|████▏     | 5068/12120 [30:25<35:10,  3.34it/s]"
     ]
    },
    {
     "name": "stdout",
     "output_type": "stream",
     "text": [
      "Error processing Processed Recordings\\Dumetella_carolinensis_Magee_Marsh_-_boardwalk_Lucas_County_Ohio_814888_segment_59.wav: operands could not be broadcast together with shapes (1000,) (601,) \n"
     ]
    },
    {
     "name": "stderr",
     "output_type": "stream",
     "text": [
      "Processing files:  42%|████▏     | 5133/12120 [30:48<38:10,  3.05it/s]c:\\Users\\16148\\anaconda3\\envs\\dev\\lib\\site-packages\\librosa\\core\\spectrum.py:266: UserWarning: n_fft=2048 is too large for input signal of length=364\n",
      "  warnings.warn(\n"
     ]
    },
    {
     "name": "stdout",
     "output_type": "stream",
     "text": [
      "Error processing Processed Recordings\\Dumetella_carolinensis_Magee_Marsh_-_boardwalk_Lucas_County_Ohio_814889_segment_2.wav: operands could not be broadcast together with shapes (500,) (348,) \n"
     ]
    },
    {
     "name": "stderr",
     "output_type": "stream",
     "text": [
      "Processing files:  43%|████▎     | 5227/12120 [31:22<37:02,  3.10it/s]  "
     ]
    },
    {
     "name": "stdout",
     "output_type": "stream",
     "text": [
      "Error processing Processed Recordings\\Dumetella_carolinensis_Magee_Marsh_boardwalk_west_end_262807_segment_39.wav: operands could not be broadcast together with shapes (1000,) (897,) \n"
     ]
    },
    {
     "name": "stderr",
     "output_type": "stream",
     "text": [
      "Processing files:  43%|████▎     | 5253/12120 [31:31<31:04,  3.68it/s]"
     ]
    },
    {
     "name": "stdout",
     "output_type": "stream",
     "text": [
      "Error processing Processed Recordings\\Dumetella_carolinensis_Magee_Marsh_boardwalk_west_end_262806_segment_17.wav: operands could not be broadcast together with shapes (1000,) (806,) \n"
     ]
    },
    {
     "name": "stderr",
     "output_type": "stream",
     "text": [
      "Processing files:  44%|████▍     | 5356/12120 [32:07<36:21,  3.10it/s]c:\\Users\\16148\\anaconda3\\envs\\dev\\lib\\site-packages\\librosa\\core\\spectrum.py:266: UserWarning: n_fft=2048 is too large for input signal of length=1985\n",
      "  warnings.warn(\n",
      "Processing files:  44%|████▍     | 5360/12120 [32:08<32:03,  3.51it/s]c:\\Users\\16148\\anaconda3\\envs\\dev\\lib\\site-packages\\librosa\\core\\spectrum.py:266: UserWarning: n_fft=2048 is too large for input signal of length=1306\n",
      "  warnings.warn(\n",
      "Processing files:  46%|████▌     | 5540/12120 [33:12<38:39,  2.84it/s]c:\\Users\\16148\\anaconda3\\envs\\dev\\lib\\site-packages\\librosa\\core\\spectrum.py:266: UserWarning: n_fft=2048 is too large for input signal of length=1277\n",
      "  warnings.warn(\n",
      "Processing files:  47%|████▋     | 5656/12120 [33:52<34:22,  3.13it/s]c:\\Users\\16148\\anaconda3\\envs\\dev\\lib\\site-packages\\librosa\\core\\spectrum.py:266: UserWarning: n_fft=2048 is too large for input signal of length=2046\n",
      "  warnings.warn(\n",
      "Processing files:  47%|████▋     | 5698/12120 [34:08<37:29,  2.86it/s]  c:\\Users\\16148\\anaconda3\\envs\\dev\\lib\\site-packages\\librosa\\core\\spectrum.py:266: UserWarning: n_fft=2048 is too large for input signal of length=1326\n",
      "  warnings.warn(\n",
      "c:\\Users\\16148\\anaconda3\\envs\\dev\\lib\\site-packages\\librosa\\core\\spectrum.py:266: UserWarning: n_fft=2048 is too large for input signal of length=1414\n",
      "  warnings.warn(\n",
      "Processing files:  47%|████▋     | 5734/12120 [34:22<38:38,  2.75it/s]c:\\Users\\16148\\anaconda3\\envs\\dev\\lib\\site-packages\\librosa\\core\\spectrum.py:266: UserWarning: n_fft=2048 is too large for input signal of length=1826\n",
      "  warnings.warn(\n",
      "Processing files:  48%|████▊     | 5773/12120 [34:35<33:18,  3.18it/s]  "
     ]
    },
    {
     "name": "stdout",
     "output_type": "stream",
     "text": [
      "Error processing Processed Recordings\\Toxostoma_rufum_Virginia_Kendall_Lake_Peninsula_Summit_County_Ohio_412205_segment_17.wav: operands could not be broadcast together with shapes (1000,) (505,) \n"
     ]
    },
    {
     "name": "stderr",
     "output_type": "stream",
     "text": [
      "Processing files:  48%|████▊     | 5797/12120 [34:44<37:27,  2.81it/s]"
     ]
    },
    {
     "name": "stdout",
     "output_type": "stream",
     "text": [
      "Error processing Processed Recordings\\Hylocichla_mustelina_Whitewater_Township_near__Cleves_Hamilton_County_Ohio_817713_segment_5.wav: operands could not be broadcast together with shapes (500,) (164,) \n"
     ]
    },
    {
     "name": "stderr",
     "output_type": "stream",
     "text": [
      "Processing files:  48%|████▊     | 5842/12120 [35:00<41:05,  2.55it/s]c:\\Users\\16148\\anaconda3\\envs\\dev\\lib\\site-packages\\librosa\\core\\spectrum.py:266: UserWarning: n_fft=2048 is too large for input signal of length=114\n",
      "  warnings.warn(\n",
      "Processing files:  48%|████▊     | 5843/12120 [35:00<40:19,  2.59it/s]"
     ]
    },
    {
     "name": "stdout",
     "output_type": "stream",
     "text": [
      "Error processing Processed Recordings\\Hylocichla_mustelina_Packer-Hammersmith_Center_near__Oregon_Lucas_County_Ohio_784058_segment_34.wav: operands could not be broadcast together with shapes (500,) (131,) \n"
     ]
    },
    {
     "name": "stderr",
     "output_type": "stream",
     "text": [
      "Processing files:  48%|████▊     | 5846/12120 [35:02<42:46,  2.44it/s]c:\\Users\\16148\\anaconda3\\envs\\dev\\lib\\site-packages\\librosa\\core\\spectrum.py:266: UserWarning: n_fft=2048 is too large for input signal of length=1610\n",
      "  warnings.warn(\n",
      "Processing files:  48%|████▊     | 5866/12120 [35:10<45:43,  2.28it/s]c:\\Users\\16148\\anaconda3\\envs\\dev\\lib\\site-packages\\librosa\\core\\spectrum.py:266: UserWarning: n_fft=2048 is too large for input signal of length=1216\n",
      "  warnings.warn(\n",
      "Processing files:  49%|████▊     | 5899/12120 [35:21<25:50,  4.01it/s]c:\\Users\\16148\\anaconda3\\envs\\dev\\lib\\site-packages\\librosa\\core\\spectrum.py:266: UserWarning: n_fft=2048 is too large for input signal of length=1512\n",
      "  warnings.warn(\n",
      "Processing files:  49%|████▉     | 5964/12120 [35:45<37:01,  2.77it/s]c:\\Users\\16148\\anaconda3\\envs\\dev\\lib\\site-packages\\librosa\\core\\spectrum.py:266: UserWarning: n_fft=2048 is too large for input signal of length=1445\n",
      "  warnings.warn(\n",
      "Processing files:  49%|████▉     | 5996/12120 [35:58<41:50,  2.44it/s]  c:\\Users\\16148\\anaconda3\\envs\\dev\\lib\\site-packages\\librosa\\core\\spectrum.py:266: UserWarning: n_fft=2048 is too large for input signal of length=1225\n",
      "  warnings.warn(\n",
      "c:\\Users\\16148\\anaconda3\\envs\\dev\\lib\\site-packages\\librosa\\core\\spectrum.py:266: UserWarning: n_fft=2048 is too large for input signal of length=1123\n",
      "  warnings.warn(\n",
      "Processing files:  50%|████▉     | 6003/12120 [36:00<18:24,  5.54it/s]"
     ]
    },
    {
     "name": "stdout",
     "output_type": "stream",
     "text": [
      "Error processing Processed Recordings\\Hylocichla_mustelina_Michigan_Monroe_County_16970_segment_6.wav: operands could not be broadcast together with shapes (500,) (178,) \n"
     ]
    },
    {
     "name": "stderr",
     "output_type": "stream",
     "text": [
      "Processing files:  50%|█████     | 6070/12120 [36:24<32:42,  3.08it/s]c:\\Users\\16148\\anaconda3\\envs\\dev\\lib\\site-packages\\librosa\\core\\spectrum.py:266: UserWarning: n_fft=2048 is too large for input signal of length=1043\n",
      "  warnings.warn(\n"
     ]
    },
    {
     "name": "stdout",
     "output_type": "stream",
     "text": [
      "Error processing Processed Recordings\\Catharus_fuscescens_Oak_Openings_Lucas_County_Ohio_803619_segment_12.wav: operands could not be broadcast together with shapes (1000,) (998,) \n"
     ]
    },
    {
     "name": "stderr",
     "output_type": "stream",
     "text": [
      "Processing files:  50%|█████     | 6074/12120 [36:25<34:17,  2.94it/s]c:\\Users\\16148\\anaconda3\\envs\\dev\\lib\\site-packages\\librosa\\core\\spectrum.py:266: UserWarning: n_fft=2048 is too large for input signal of length=1910\n",
      "  warnings.warn(\n",
      "Processing files:  50%|█████     | 6116/12120 [36:42<33:38,  2.97it/s]c:\\Users\\16148\\anaconda3\\envs\\dev\\lib\\site-packages\\librosa\\core\\spectrum.py:266: UserWarning: n_fft=2048 is too large for input signal of length=1128\n",
      "  warnings.warn(\n",
      "c:\\Users\\16148\\anaconda3\\envs\\dev\\lib\\site-packages\\librosa\\core\\spectrum.py:266: UserWarning: n_fft=2048 is too large for input signal of length=1273\n",
      "  warnings.warn(\n",
      "Processing files:  51%|█████     | 6184/12120 [37:07<31:57,  3.10it/s]  c:\\Users\\16148\\anaconda3\\envs\\dev\\lib\\site-packages\\librosa\\core\\spectrum.py:266: UserWarning: n_fft=2048 is too large for input signal of length=215\n",
      "  warnings.warn(\n",
      "c:\\Users\\16148\\anaconda3\\envs\\dev\\lib\\site-packages\\librosa\\core\\spectrum.py:266: UserWarning: n_fft=2048 is too large for input signal of length=209\n",
      "  warnings.warn(\n",
      "Processing files:  51%|█████     | 6196/12120 [37:11<28:44,  3.44it/s]c:\\Users\\16148\\anaconda3\\envs\\dev\\lib\\site-packages\\librosa\\core\\spectrum.py:266: UserWarning: n_fft=2048 is too large for input signal of length=1754\n",
      "  warnings.warn(\n",
      "Processing files:  52%|█████▏    | 6263/12120 [37:34<35:44,  2.73it/s]c:\\Users\\16148\\anaconda3\\envs\\dev\\lib\\site-packages\\librosa\\core\\spectrum.py:266: UserWarning: n_fft=2048 is too large for input signal of length=547\n",
      "  warnings.warn(\n",
      "Processing files:  52%|█████▏    | 6270/12120 [37:36<30:02,  3.25it/s]c:\\Users\\16148\\anaconda3\\envs\\dev\\lib\\site-packages\\librosa\\core\\spectrum.py:266: UserWarning: n_fft=2048 is too large for input signal of length=1751\n",
      "  warnings.warn(\n",
      "Processing files:  53%|█████▎    | 6431/12120 [38:32<33:54,  2.80it/s]"
     ]
    },
    {
     "name": "stdout",
     "output_type": "stream",
     "text": [
      "Error processing Processed Recordings\\Spizella_passerina_Michigan_Monroe_County_16984_segment_5.wav: operands could not be broadcast together with shapes (500,) (367,) \n"
     ]
    },
    {
     "name": "stderr",
     "output_type": "stream",
     "text": [
      "Processing files:  53%|█████▎    | 6466/12120 [38:45<36:50,  2.56it/s]c:\\Users\\16148\\anaconda3\\envs\\dev\\lib\\site-packages\\librosa\\core\\spectrum.py:266: UserWarning: n_fft=2048 is too large for input signal of length=435\n",
      "  warnings.warn(\n"
     ]
    },
    {
     "name": "stdout",
     "output_type": "stream",
     "text": [
      "Error processing Processed Recordings\\Spizella_passerina_Michigan_Monroe_County_16981_segment_3.wav: operands could not be broadcast together with shapes (1000,) (877,) \n"
     ]
    },
    {
     "name": "stderr",
     "output_type": "stream",
     "text": [
      "Processing files:  54%|█████▎    | 6497/12120 [38:55<30:22,  3.09it/s]c:\\Users\\16148\\anaconda3\\envs\\dev\\lib\\site-packages\\librosa\\core\\spectrum.py:266: UserWarning: n_fft=2048 is too large for input signal of length=1125\n",
      "  warnings.warn(\n",
      "Processing files:  54%|█████▎    | 6503/12120 [38:57<32:20,  2.89it/s]c:\\Users\\16148\\anaconda3\\envs\\dev\\lib\\site-packages\\librosa\\core\\spectrum.py:266: UserWarning: n_fft=2048 is too large for input signal of length=1593\n",
      "  warnings.warn(\n",
      "Processing files:  55%|█████▍    | 6636/12120 [39:46<33:47,  2.70it/s]c:\\Users\\16148\\anaconda3\\envs\\dev\\lib\\site-packages\\librosa\\core\\spectrum.py:266: UserWarning: n_fft=2048 is too large for input signal of length=1693\n",
      "  warnings.warn(\n",
      "Processing files:  55%|█████▍    | 6664/12120 [39:56<34:37,  2.63it/s]"
     ]
    },
    {
     "name": "stdout",
     "output_type": "stream",
     "text": [
      "Error processing Processed Recordings\\Junco_hyemalis_Pebblebrook_Lane_Moreland_Hills_Ohio_79986_segment_23.wav: operands could not be broadcast together with shapes (1000,) (620,) \n"
     ]
    },
    {
     "name": "stderr",
     "output_type": "stream",
     "text": [
      "Processing files:  56%|█████▌    | 6732/12120 [40:19<29:05,  3.09it/s]c:\\Users\\16148\\anaconda3\\envs\\dev\\lib\\site-packages\\librosa\\core\\spectrum.py:266: UserWarning: n_fft=2048 is too large for input signal of length=1834\n",
      "  warnings.warn(\n",
      "Processing files:  56%|█████▌    | 6778/12120 [40:35<26:44,  3.33it/s]c:\\Users\\16148\\anaconda3\\envs\\dev\\lib\\site-packages\\librosa\\core\\spectrum.py:266: UserWarning: n_fft=2048 is too large for input signal of length=1515\n",
      "  warnings.warn(\n",
      "Processing files:  56%|█████▌    | 6779/12120 [40:36<28:10,  3.16it/s]c:\\Users\\16148\\anaconda3\\envs\\dev\\lib\\site-packages\\librosa\\core\\spectrum.py:266: UserWarning: n_fft=2048 is too large for input signal of length=1525\n",
      "  warnings.warn(\n",
      "Processing files:  56%|█████▌    | 6782/12120 [40:36<24:55,  3.57it/s]c:\\Users\\16148\\anaconda3\\envs\\dev\\lib\\site-packages\\librosa\\core\\spectrum.py:266: UserWarning: n_fft=2048 is too large for input signal of length=539\n",
      "  warnings.warn(\n",
      "c:\\Users\\16148\\anaconda3\\envs\\dev\\lib\\site-packages\\librosa\\core\\spectrum.py:266: UserWarning: n_fft=2048 is too large for input signal of length=492\n",
      "  warnings.warn(\n"
     ]
    },
    {
     "name": "stdout",
     "output_type": "stream",
     "text": [
      "Error processing Processed Recordings\\Melospiza_melodia_Magee_Marsh_-_boardwalk_Lucas_County_Ohio_826141_segment_7.wav: operands could not be broadcast together with shapes (1000,) (517,) \n"
     ]
    },
    {
     "name": "stderr",
     "output_type": "stream",
     "text": [
      "Processing files:  56%|█████▌    | 6811/12120 [40:47<34:17,  2.58it/s]"
     ]
    },
    {
     "name": "stdout",
     "output_type": "stream",
     "text": [
      "Error processing Processed Recordings\\Melospiza_melodia_Green_Township_near__Cincinnati_Hamilton_County_Ohio_807468_segment_10.wav: operands could not be broadcast together with shapes (1000,) (582,) \n"
     ]
    },
    {
     "name": "stderr",
     "output_type": "stream",
     "text": [
      "Processing files:  56%|█████▌    | 6816/12120 [40:49<31:12,  2.83it/s]c:\\Users\\16148\\anaconda3\\envs\\dev\\lib\\site-packages\\librosa\\core\\spectrum.py:266: UserWarning: n_fft=2048 is too large for input signal of length=833\n",
      "  warnings.warn(\n",
      "c:\\Users\\16148\\anaconda3\\envs\\dev\\lib\\site-packages\\librosa\\core\\spectrum.py:266: UserWarning: n_fft=2048 is too large for input signal of length=743\n",
      "  warnings.warn(\n",
      "Processing files:  57%|█████▋    | 6855/12120 [41:02<29:23,  2.99it/s]c:\\Users\\16148\\anaconda3\\envs\\dev\\lib\\site-packages\\librosa\\core\\spectrum.py:266: UserWarning: n_fft=2048 is too large for input signal of length=466\n",
      "  warnings.warn(\n",
      "Processing files:  57%|█████▋    | 6856/12120 [41:02<25:20,  3.46it/s]"
     ]
    },
    {
     "name": "stdout",
     "output_type": "stream",
     "text": [
      "Error processing Processed Recordings\\Melospiza_melodia_Miami_Whitewater_Forest_Park_wetlands_Crosby_Township_near__Harrison_Hamilton_County_Ohio_687157_segment_2.wav: operands could not be broadcast together with shapes (1000,) (548,) \n"
     ]
    },
    {
     "name": "stderr",
     "output_type": "stream",
     "text": [
      "Processing files:  57%|█████▋    | 6883/12120 [41:12<29:40,  2.94it/s]c:\\Users\\16148\\anaconda3\\envs\\dev\\lib\\site-packages\\librosa\\core\\spectrum.py:266: UserWarning: n_fft=2048 is too large for input signal of length=1114\n",
      "  warnings.warn(\n",
      "Processing files:  57%|█████▋    | 6926/12120 [41:29<28:05,  3.08it/s]"
     ]
    },
    {
     "name": "stdout",
     "output_type": "stream",
     "text": [
      "Error processing Processed Recordings\\Pipilo_erythrophthalmus_Point_Pelee_National_Park_near__Wheatley_Essex_County_Ontario_805531_segment_8.wav: operands could not be broadcast together with shapes (1000,) (623,) \n"
     ]
    },
    {
     "name": "stderr",
     "output_type": "stream",
     "text": [
      "Processing files:  57%|█████▋    | 6930/12120 [41:31<34:58,  2.47it/s]c:\\Users\\16148\\anaconda3\\envs\\dev\\lib\\site-packages\\librosa\\core\\spectrum.py:266: UserWarning: n_fft=2048 is too large for input signal of length=1124\n",
      "  warnings.warn(\n",
      "Processing files:  58%|█████▊    | 6993/12120 [41:53<26:22,  3.24it/s]"
     ]
    },
    {
     "name": "stdout",
     "output_type": "stream",
     "text": [
      "Error processing Processed Recordings\\Pipilo_erythrophthalmus_Ross_Township_near__Hamilton_Butler_County_Ohio_533333_segment_9.wav: operands could not be broadcast together with shapes (1000,) (652,) \n"
     ]
    },
    {
     "name": "stderr",
     "output_type": "stream",
     "text": [
      "Processing files:  59%|█████▉    | 7190/12120 [43:06<29:11,  2.82it/s]c:\\Users\\16148\\anaconda3\\envs\\dev\\lib\\site-packages\\librosa\\core\\spectrum.py:266: UserWarning: n_fft=2048 is too large for input signal of length=759\n",
      "  warnings.warn(\n",
      "Processing files:  60%|█████▉    | 7259/12120 [44:48<8:45:21,  6.48s/it]c:\\Users\\16148\\anaconda3\\envs\\dev\\lib\\site-packages\\librosa\\core\\spectrum.py:266: UserWarning: n_fft=2048 is too large for input signal of length=698\n",
      "  warnings.warn(\n"
     ]
    },
    {
     "name": "stdout",
     "output_type": "stream",
     "text": [
      "Error processing Processed Recordings\\Icterus_galbula_Kiser_Lake_SP_Champaign_County_Ohio_938239_segment_0.wav: operands could not be broadcast together with shapes (1000,) (843,) \n"
     ]
    },
    {
     "name": "stderr",
     "output_type": "stream",
     "text": [
      "Processing files:  61%|██████    | 7350/12120 [47:02<1:30:47,  1.14s/it]"
     ]
    },
    {
     "name": "stdout",
     "output_type": "stream",
     "text": [
      "Error processing Processed Recordings\\Icterus_galbula_Magee_Marsh_-_boardwalk_Lucas_County_Ohio_820109_segment_66.wav: operands could not be broadcast together with shapes (1000,) (847,) \n"
     ]
    },
    {
     "name": "stderr",
     "output_type": "stream",
     "text": [
      "Processing files:  61%|██████▏   | 7431/12120 [48:54<1:41:56,  1.30s/it]"
     ]
    },
    {
     "name": "stdout",
     "output_type": "stream",
     "text": [
      "Error processing Processed Recordings\\Icterus_galbula_Magee_Marsh_-_boardwalk_Lucas_County_Ohio_818926_segment_68.wav: operands could not be broadcast together with shapes (500,) (295,) \n"
     ]
    },
    {
     "name": "stderr",
     "output_type": "stream",
     "text": [
      "Processing files:  62%|██████▏   | 7467/12120 [49:49<1:31:33,  1.18s/it]c:\\Users\\16148\\anaconda3\\envs\\dev\\lib\\site-packages\\librosa\\core\\spectrum.py:266: UserWarning: n_fft=2048 is too large for input signal of length=1939\n",
      "  warnings.warn(\n",
      "Processing files:  62%|██████▏   | 7488/12120 [50:24<37:01,  2.09it/s]  "
     ]
    },
    {
     "name": "stdout",
     "output_type": "stream",
     "text": [
      "Error processing Processed Recordings\\Icterus_galbula_Park_End_Dr_Montgomery_County_Ohio_477390_segment_2.wav: operands could not be broadcast together with shapes (500,) (499,) \n"
     ]
    },
    {
     "name": "stderr",
     "output_type": "stream",
     "text": [
      "Processing files:  62%|██████▏   | 7566/12120 [50:56<20:28,  3.71it/s]  "
     ]
    },
    {
     "name": "stdout",
     "output_type": "stream",
     "text": [
      "Error processing Processed Recordings\\Icterus_galbula_Magee_Marsh_-_boardwalk_Lucas_County_Ohio_820106_segment_23.wav: operands could not be broadcast together with shapes (500,) (270,) \n"
     ]
    },
    {
     "name": "stderr",
     "output_type": "stream",
     "text": [
      "Processing files:  63%|██████▎   | 7623/12120 [51:17<22:09,  3.38it/s]c:\\Users\\16148\\anaconda3\\envs\\dev\\lib\\site-packages\\librosa\\core\\spectrum.py:266: UserWarning: n_fft=2048 is too large for input signal of length=1625\n",
      "  warnings.warn(\n",
      "Processing files:  63%|██████▎   | 7649/12120 [51:25<25:30,  2.92it/s]c:\\Users\\16148\\anaconda3\\envs\\dev\\lib\\site-packages\\librosa\\core\\spectrum.py:266: UserWarning: n_fft=2048 is too large for input signal of length=613\n",
      "  warnings.warn(\n",
      "Processing files:  63%|██████▎   | 7650/12120 [51:26<23:19,  3.19it/s]"
     ]
    },
    {
     "name": "stdout",
     "output_type": "stream",
     "text": [
      "Error processing Processed Recordings\\Icterus_spurius_Ohio_Ottawa_NWR_178296_segment_32.wav: operands could not be broadcast together with shapes (1000,) (574,) \n"
     ]
    },
    {
     "name": "stderr",
     "output_type": "stream",
     "text": [
      "Processing files:  63%|██████▎   | 7666/12120 [51:32<34:39,  2.14it/s]c:\\Users\\16148\\anaconda3\\envs\\dev\\lib\\site-packages\\librosa\\core\\spectrum.py:266: UserWarning: n_fft=2048 is too large for input signal of length=51\n",
      "  warnings.warn(\n",
      "Processing files:  63%|██████▎   | 7667/12120 [51:32<31:56,  2.32it/s]"
     ]
    },
    {
     "name": "stdout",
     "output_type": "stream",
     "text": [
      "Error processing Processed Recordings\\Icterus_spurius_Heritage_Trail_Metro_Park_Hayden_Run_Rd_parking_area_103503_segment_15.wav: operands could not be broadcast together with shapes (500,) (48,) \n"
     ]
    },
    {
     "name": "stderr",
     "output_type": "stream",
     "text": [
      "Processing files:  63%|██████▎   | 7671/12120 [51:33<25:07,  2.95it/s]c:\\Users\\16148\\anaconda3\\envs\\dev\\lib\\site-packages\\librosa\\core\\spectrum.py:266: UserWarning: n_fft=2048 is too large for input signal of length=1981\n",
      "  warnings.warn(\n",
      "Processing files:  63%|██████▎   | 7692/12120 [51:44<38:12,  1.93it/s]"
     ]
    },
    {
     "name": "stdout",
     "output_type": "stream",
     "text": [
      "Error processing Processed Recordings\\Icterus_spurius_Heritage_Trail_Metro_Park_Hayden_Run_Rd_parking_area_103502_segment_9.wav: operands could not be broadcast together with shapes (500,) (105,) \n"
     ]
    },
    {
     "name": "stderr",
     "output_type": "stream",
     "text": [
      "Processing files:  63%|██████▎   | 7695/12120 [51:45<29:45,  2.48it/s]\n"
     ]
    },
    {
     "ename": "KeyboardInterrupt",
     "evalue": "",
     "output_type": "error",
     "traceback": [
      "\u001b[1;31m---------------------------------------------------------------------------\u001b[0m",
      "\u001b[1;31mKeyboardInterrupt\u001b[0m                         Traceback (most recent call last)",
      "Cell \u001b[1;32mIn[27], line 8\u001b[0m\n\u001b[0;32m      4\u001b[0m num_augmentations \u001b[38;5;241m=\u001b[39m \u001b[38;5;241m3\u001b[39m\n\u001b[0;32m      7\u001b[0m \u001b[38;5;66;03m# Process the dataframe\u001b[39;00m\n\u001b[1;32m----> 8\u001b[0m augmented_data \u001b[38;5;241m=\u001b[39m \u001b[43mprocess_dataframe\u001b[49m\u001b[43m(\u001b[49m\u001b[43mprocessed_data\u001b[49m\u001b[43m,\u001b[49m\u001b[43m \u001b[49m\u001b[43minput_dir\u001b[49m\u001b[43m,\u001b[49m\u001b[43m \u001b[49m\u001b[43moutput_dir\u001b[49m\u001b[43m,\u001b[49m\u001b[43m \u001b[49m\u001b[43mnum_augmentations\u001b[49m\u001b[43m)\u001b[49m\n\u001b[0;32m     10\u001b[0m \u001b[38;5;28mprint\u001b[39m(\u001b[38;5;124mf\u001b[39m\u001b[38;5;124m\"\u001b[39m\u001b[38;5;124mAugmentation complete. \u001b[39m\u001b[38;5;132;01m{\u001b[39;00m\u001b[38;5;28mlen\u001b[39m(augmented_data)\u001b[38;5;250m \u001b[39m\u001b[38;5;241m-\u001b[39m\u001b[38;5;250m \u001b[39m\u001b[38;5;28mlen\u001b[39m(processed_data)\u001b[38;5;132;01m}\u001b[39;00m\u001b[38;5;124m new samples created.\u001b[39m\u001b[38;5;124m\"\u001b[39m)\n",
      "Cell \u001b[1;32mIn[25], line 37\u001b[0m, in \u001b[0;36mprocess_dataframe\u001b[1;34m(df, input_dir, output_dir, num_augmentations)\u001b[0m\n\u001b[0;32m     35\u001b[0m \u001b[38;5;28;01mfor\u001b[39;00m _, row \u001b[38;5;129;01min\u001b[39;00m tqdm(df\u001b[38;5;241m.\u001b[39miterrows(), total\u001b[38;5;241m=\u001b[39m\u001b[38;5;28mlen\u001b[39m(df), desc\u001b[38;5;241m=\u001b[39m\u001b[38;5;124m\"\u001b[39m\u001b[38;5;124mProcessing files\u001b[39m\u001b[38;5;124m\"\u001b[39m):\n\u001b[0;32m     36\u001b[0m     input_file \u001b[38;5;241m=\u001b[39m os\u001b[38;5;241m.\u001b[39mpath\u001b[38;5;241m.\u001b[39mjoin(input_dir, row[\u001b[38;5;124m'\u001b[39m\u001b[38;5;124mprocessed_file\u001b[39m\u001b[38;5;124m'\u001b[39m])\n\u001b[1;32m---> 37\u001b[0m     augmented_files, augmentations \u001b[38;5;241m=\u001b[39m \u001b[43maugment_and_save\u001b[49m\u001b[43m(\u001b[49m\u001b[43minput_file\u001b[49m\u001b[43m,\u001b[49m\u001b[43m \u001b[49m\u001b[43moutput_dir\u001b[49m\u001b[43m,\u001b[49m\u001b[43m \u001b[49m\u001b[43mnum_augmentations\u001b[49m\u001b[43m)\u001b[49m\n\u001b[0;32m     39\u001b[0m     \u001b[38;5;28;01mfor\u001b[39;00m aug_file, aug_details \u001b[38;5;129;01min\u001b[39;00m \u001b[38;5;28mzip\u001b[39m(augmented_files, augmentations):\n\u001b[0;32m     40\u001b[0m         new_row \u001b[38;5;241m=\u001b[39m row\u001b[38;5;241m.\u001b[39mcopy()\n",
      "Cell \u001b[1;32mIn[25], line 11\u001b[0m, in \u001b[0;36maugment_and_save\u001b[1;34m(input_file, output_dir, num_augmentations)\u001b[0m\n\u001b[0;32m      7\u001b[0m all_applied_augmentations \u001b[38;5;241m=\u001b[39m []\n\u001b[0;32m      9\u001b[0m \u001b[38;5;28;01mfor\u001b[39;00m i \u001b[38;5;129;01min\u001b[39;00m \u001b[38;5;28mrange\u001b[39m(num_augmentations):\n\u001b[0;32m     10\u001b[0m     \u001b[38;5;66;03m# Apply augmentation\u001b[39;00m\n\u001b[1;32m---> 11\u001b[0m     augmented_audio, applied_augmentations \u001b[38;5;241m=\u001b[39m \u001b[43maugment_audio\u001b[49m\u001b[43m(\u001b[49m\u001b[43maudio\u001b[49m\u001b[43m,\u001b[49m\u001b[43m \u001b[49m\u001b[43msr\u001b[49m\u001b[43m)\u001b[49m\n\u001b[0;32m     13\u001b[0m     \u001b[38;5;66;03m# Generate new filename\u001b[39;00m\n\u001b[0;32m     14\u001b[0m     base_name \u001b[38;5;241m=\u001b[39m os\u001b[38;5;241m.\u001b[39mpath\u001b[38;5;241m.\u001b[39mbasename(input_file)\n",
      "Cell \u001b[1;32mIn[24], line 66\u001b[0m, in \u001b[0;36maugment_audio\u001b[1;34m(audio, sr)\u001b[0m\n\u001b[0;32m     64\u001b[0m         audio \u001b[38;5;241m=\u001b[39m augment_func(audio, sr, \u001b[38;5;241m*\u001b[39m\u001b[38;5;241m*\u001b[39mparams)\n\u001b[0;32m     65\u001b[0m     \u001b[38;5;28;01melse\u001b[39;00m:\n\u001b[1;32m---> 66\u001b[0m         audio \u001b[38;5;241m=\u001b[39m augment_func(audio, \u001b[38;5;241m*\u001b[39m\u001b[38;5;241m*\u001b[39mparams)\n\u001b[0;32m     67\u001b[0m     applied_augmentations\u001b[38;5;241m.\u001b[39mappend(\u001b[38;5;124mf\u001b[39m\u001b[38;5;124m\"\u001b[39m\u001b[38;5;132;01m{\u001b[39;00maugment_func\u001b[38;5;241m.\u001b[39m\u001b[38;5;18m__name__\u001b[39m\u001b[38;5;132;01m}\u001b[39;00m\u001b[38;5;124m:\u001b[39m\u001b[38;5;132;01m{\u001b[39;00m\u001b[38;5;124m'\u001b[39m\u001b[38;5;124m,\u001b[39m\u001b[38;5;124m'\u001b[39m\u001b[38;5;241m.\u001b[39mjoin(\u001b[38;5;124mf\u001b[39m\u001b[38;5;124m'\u001b[39m\u001b[38;5;132;01m{\u001b[39;00mk\u001b[38;5;132;01m}\u001b[39;00m\u001b[38;5;124m=\u001b[39m\u001b[38;5;132;01m{\u001b[39;00mv\u001b[38;5;132;01m}\u001b[39;00m\u001b[38;5;124m'\u001b[39m\u001b[38;5;250m \u001b[39m\u001b[38;5;28;01mfor\u001b[39;00m\u001b[38;5;250m \u001b[39mk,\u001b[38;5;250m \u001b[39mv\u001b[38;5;250m \u001b[39m\u001b[38;5;129;01min\u001b[39;00m\u001b[38;5;250m \u001b[39mparams\u001b[38;5;241m.\u001b[39mitems())\u001b[38;5;132;01m}\u001b[39;00m\u001b[38;5;124m\"\u001b[39m)\n\u001b[0;32m     69\u001b[0m \u001b[38;5;28;01mif\u001b[39;00m random\u001b[38;5;241m.\u001b[39mrandom() \u001b[38;5;241m<\u001b[39m \u001b[38;5;241m0.5\u001b[39m:\n",
      "Cell \u001b[1;32mIn[24], line 9\u001b[0m, in \u001b[0;36madd_noise\u001b[1;34m(audio, noise_factor)\u001b[0m\n\u001b[0;32m      8\u001b[0m \u001b[38;5;28;01mdef\u001b[39;00m \u001b[38;5;21madd_noise\u001b[39m(audio, noise_factor):\n\u001b[1;32m----> 9\u001b[0m     noise \u001b[38;5;241m=\u001b[39m \u001b[43mnp\u001b[49m\u001b[38;5;241;43m.\u001b[39;49m\u001b[43mrandom\u001b[49m\u001b[38;5;241;43m.\u001b[39;49m\u001b[43mrandn\u001b[49m\u001b[43m(\u001b[49m\u001b[38;5;28;43mlen\u001b[39;49m\u001b[43m(\u001b[49m\u001b[43maudio\u001b[49m\u001b[43m)\u001b[49m\u001b[43m)\u001b[49m\n\u001b[0;32m     10\u001b[0m     augmented_audio \u001b[38;5;241m=\u001b[39m audio \u001b[38;5;241m+\u001b[39m noise_factor \u001b[38;5;241m*\u001b[39m noise\n\u001b[0;32m     11\u001b[0m     \u001b[38;5;28;01mreturn\u001b[39;00m np\u001b[38;5;241m.\u001b[39mclip(augmented_audio, \u001b[38;5;241m-\u001b[39m\u001b[38;5;241m1\u001b[39m, \u001b[38;5;241m1\u001b[39m)\n",
      "\u001b[1;31mKeyboardInterrupt\u001b[0m: "
     ]
    }
   ],
   "source": [
    "\n",
    "# Apply augmentation to every file\n",
    "input_dir = 'Processed Recordings'\n",
    "output_dir = 'Augmented Recordings'\n",
    "num_augmentations = 3\n",
    "\n",
    "\n",
    "# Process the dataframe\n",
    "augmented_data = process_dataframe(processed_data, input_dir, output_dir, num_augmentations)\n",
    "\n",
    "print(f\"Augmentation complete. {len(augmented_data) - len(processed_data)} new samples created.\")"
   ]
  },
  {
   "cell_type": "code",
   "execution_count": null,
   "metadata": {},
   "outputs": [],
   "source": [
    "# Fill the newly created column's missing values\n",
    "augmented_data = augmented_data.fillna(\"None\")\n",
    "# Review the updated dataframe\n",
    "augmented_data.info()"
   ]
  },
  {
   "cell_type": "code",
   "execution_count": null,
   "metadata": {},
   "outputs": [],
   "source": [
    "# Save the to csv\n",
    "augmented_data.to_csv(\"augmented_data.csv\", index=False)"
   ]
  },
  {
   "cell_type": "code",
   "execution_count": 28,
   "metadata": {},
   "outputs": [
    {
     "name": "stdout",
     "output_type": "stream",
     "text": [
      "<class 'pandas.core.frame.DataFrame'>\n",
      "RangeIndex: 48207 entries, 0 to 48206\n",
      "Data columns (total 12 columns):\n",
      " #   Column           Non-Null Count  Dtype  \n",
      "---  ------           --------------  -----  \n",
      " 0   genus            48207 non-null  object \n",
      " 1   species          48207 non-null  object \n",
      " 2   latitude         48207 non-null  float64\n",
      " 3   longitude        48207 non-null  float64\n",
      " 4   quality          48207 non-null  object \n",
      " 5   file_name        48207 non-null  object \n",
      " 6   simplified_type  48207 non-null  object \n",
      " 7   season           48207 non-null  object \n",
      " 8   time_of_day      48207 non-null  object \n",
      " 9   length_seconds   48207 non-null  int64  \n",
      " 10  processed_file   48207 non-null  object \n",
      " 11  augmentations    36087 non-null  object \n",
      "dtypes: float64(2), int64(1), object(9)\n",
      "memory usage: 4.4+ MB\n"
     ]
    }
   ],
   "source": []
  },
  {
   "cell_type": "code",
   "execution_count": 31,
   "metadata": {},
   "outputs": [],
   "source": []
  },
  {
   "cell_type": "code",
   "execution_count": 32,
   "metadata": {},
   "outputs": [
    {
     "name": "stdout",
     "output_type": "stream",
     "text": [
      "Testing feature extraction on file: Processed Recordings\\Vermivora_cyanoptera_Irwin_Prairie_SNP_Ohio_418085_segment_2.wav\n",
      "mel_spectrogram_db shape: (128, 431)\n",
      "mfccs shape: (13, 431), mean: -23.3198, std: 85.8184\n",
      "spectral_centroids shape: (431,), mean: 3577.4505, std: 260.1879\n",
      "chroma shape: (12, 431), mean: 0.5359, std: 0.2494\n",
      "zero_crossing_rate shape: (431,), mean: 0.0754, std: 0.0118\n",
      "spectral_rolloff shape: (431,), mean: 7900.2874, std: 1548.7024\n",
      "\n",
      "Summarized Features:\n",
      "mfccs_summary type: numpy.ndarray, shape: (39,), mean: -6.2637, std: 70.0940\n",
      "spectral_centroids_summary type: numpy.ndarray, shape: (3,), mean: 2709.8262, std: 1756.5371\n",
      "chroma_summary type: numpy.ndarray, shape: (36,), mean: 0.5917, std: 0.3158\n",
      "zero_crossing_rate_summary type: numpy.ndarray, shape: (3,), mean: 0.0748, std: 0.0512\n",
      "spectral_rolloff_summary type: numpy.ndarray, shape: (3,), mean: 6774.4191, std: 3889.4924\n",
      "\n",
      "Final feature vector shape: (84,)\n",
      "Mel-spectrogram saved as: Vermivora_cyanoptera_Irwin_Prairie_SNP_Ohio_418085_segment_2_mel_spectrogram.png in Test\n",
      "Feature extraction test complete.\n"
     ]
    }
   ],
   "source": []
  },
  {
   "cell_type": "code",
   "execution_count": 71,
   "metadata": {},
   "outputs": [
    {
     "name": "stdout",
     "output_type": "stream",
     "text": [
      "Current directory (base_dir): c:\\Users\\16148\\Desktop\\Projects\\bird_call_project\n",
      "Output directory: mel-spectrograms\n"
     ]
    },
    {
     "name": "stderr",
     "output_type": "stream",
     "text": [
      "  0%|          | 26/48207 [00:07<3:45:58,  3.55it/s]"
     ]
    },
    {
     "name": "stdout",
     "output_type": "stream",
     "text": [
      "Warning: Audio file c:\\Users\\16148\\Desktop\\Projects\\bird_call_project\\Processed Recordings\\Branta_canadensis_Miami_Whitewater_Forest_Park_wetlands_Crosby_Township_near__Harrison_Hamilton_County_Ohio_691528_segment_7.wav is too short or silent. Skipping.\n"
     ]
    },
    {
     "name": "stderr",
     "output_type": "stream",
     "text": [
      "  0%|          | 111/48207 [00:30<3:37:33,  3.68it/s]"
     ]
    },
    {
     "name": "stdout",
     "output_type": "stream",
     "text": [
      "Warning: Audio file c:\\Users\\16148\\Desktop\\Projects\\bird_call_project\\Processed Recordings\\Colinus_virginianus_New_Market_Township_near__Hoagland_Highland_County_Ohio_805814_segment_23.wav is too short or silent. Skipping.\n"
     ]
    },
    {
     "name": "stderr",
     "output_type": "stream",
     "text": [
      "  0%|          | 120/48207 [00:33<3:37:21,  3.69it/s]"
     ]
    },
    {
     "name": "stdout",
     "output_type": "stream",
     "text": [
      "Warning: Audio file c:\\Users\\16148\\Desktop\\Projects\\bird_call_project\\Processed Recordings\\Colinus_virginianus_Michigan_Monroe_County_17130_segment_8.wav is too short or silent. Skipping.\n"
     ]
    },
    {
     "name": "stderr",
     "output_type": "stream",
     "text": [
      "  0%|          | 147/48207 [00:40<3:36:32,  3.70it/s]"
     ]
    },
    {
     "name": "stdout",
     "output_type": "stream",
     "text": [
      "Warning: Audio file c:\\Users\\16148\\Desktop\\Projects\\bird_call_project\\Processed Recordings\\Chordeiles_minor_Green_Township_near__Cincinnati_Hamilton_County_Ohio_647199_segment_26.wav is too short or silent. Skipping.\n"
     ]
    },
    {
     "name": "stderr",
     "output_type": "stream",
     "text": [
      "  0%|          | 167/48207 [00:45<3:38:15,  3.67it/s]"
     ]
    },
    {
     "name": "stdout",
     "output_type": "stream",
     "text": [
      "Warning: Audio file c:\\Users\\16148\\Desktop\\Projects\\bird_call_project\\Processed Recordings\\Antrostomus_carolinensis_Brush_Creek_Township_near__West_Union_Adams_County_Ohio_939173_segment_19.wav is too short or silent. Skipping.\n"
     ]
    },
    {
     "name": "stderr",
     "output_type": "stream",
     "text": [
      "  0%|          | 188/48207 [00:51<3:38:55,  3.66it/s]"
     ]
    },
    {
     "name": "stdout",
     "output_type": "stream",
     "text": [
      "Warning: Audio file c:\\Users\\16148\\Desktop\\Projects\\bird_call_project\\Processed Recordings\\Antrostomus_carolinensis_Hamilton_Rd_Adams_Cty_Ohio_939171_segment_20.wav is too short or silent. Skipping.\n"
     ]
    },
    {
     "name": "stderr",
     "output_type": "stream",
     "text": [
      "  1%|          | 246/48207 [01:07<3:39:45,  3.64it/s]"
     ]
    },
    {
     "name": "stdout",
     "output_type": "stream",
     "text": [
      "Warning: Audio file c:\\Users\\16148\\Desktop\\Projects\\bird_call_project\\Processed Recordings\\Antrostomus_vociferus_Sutton_Braxton_County_West_Virginia_929758_segment_29.wav is too short or silent. Skipping.\n"
     ]
    },
    {
     "name": "stderr",
     "output_type": "stream",
     "text": [
      "  1%|          | 279/48207 [01:17<3:46:09,  3.53it/s]"
     ]
    },
    {
     "name": "stdout",
     "output_type": "stream",
     "text": [
      "Warning: Audio file c:\\Users\\16148\\Desktop\\Projects\\bird_call_project\\Processed Recordings\\Coccyzus_americanus_Magee_Marsh_boardwalk_west_end_262809_segment_26.wav is too short or silent. Skipping.\n"
     ]
    },
    {
     "name": "stderr",
     "output_type": "stream",
     "text": [
      "  1%|          | 282/48207 [01:17<3:04:42,  4.32it/s]"
     ]
    },
    {
     "name": "stdout",
     "output_type": "stream",
     "text": [
      "Warning: Audio file c:\\Users\\16148\\Desktop\\Projects\\bird_call_project\\Processed Recordings\\Coccyzus_erythropthalmus_Point_Pelee_National_Park_Essex_County_Ontario_910739_segment_2.wav is too short or silent. Skipping.\n"
     ]
    },
    {
     "name": "stderr",
     "output_type": "stream",
     "text": [
      "  1%|          | 286/48207 [01:18<3:01:53,  4.39it/s]"
     ]
    },
    {
     "name": "stdout",
     "output_type": "stream",
     "text": [
      "Warning: Audio file c:\\Users\\16148\\Desktop\\Projects\\bird_call_project\\Processed Recordings\\Coccyzus_erythropthalmus_Thursby_Rd_near_Singer_Lake_Green_Summit_County_Ohio_376138_segment_3.wav is too short or silent. Skipping.\n"
     ]
    },
    {
     "name": "stderr",
     "output_type": "stream",
     "text": [
      "  1%|          | 295/48207 [01:20<3:35:46,  3.70it/s]"
     ]
    },
    {
     "name": "stdout",
     "output_type": "stream",
     "text": [
      "Warning: Audio file c:\\Users\\16148\\Desktop\\Projects\\bird_call_project\\Processed Recordings\\Rallus_elegans_Glacier_Ridge_Metro_Park--Honda_Wetlands_103499_segment_4.wav is too short or silent. Skipping.\n"
     ]
    },
    {
     "name": "stderr",
     "output_type": "stream",
     "text": [
      "  1%|          | 301/48207 [01:22<3:23:19,  3.93it/s]"
     ]
    },
    {
     "name": "stdout",
     "output_type": "stream",
     "text": [
      "Warning: Audio file c:\\Users\\16148\\Desktop\\Projects\\bird_call_project\\Processed Recordings\\Porzana_carolina_Battelle_Darby_Metro_Park_-_Wetlands_417847_segment_2.wav is too short or silent. Skipping.\n"
     ]
    },
    {
     "name": "stderr",
     "output_type": "stream",
     "text": [
      "  1%|          | 342/48207 [01:32<3:34:02,  3.73it/s]"
     ]
    },
    {
     "name": "stdout",
     "output_type": "stream",
     "text": [
      "Warning: Audio file c:\\Users\\16148\\Desktop\\Projects\\bird_call_project\\Processed Recordings\\Charadrius_vociferus_Ross_Township_near__Hamilton_Butler_County_Ohio_533371_segment_6.wav is too short or silent. Skipping.\n"
     ]
    },
    {
     "name": "stderr",
     "output_type": "stream",
     "text": [
      "  1%|          | 346/48207 [01:33<3:11:38,  4.16it/s]"
     ]
    },
    {
     "name": "stdout",
     "output_type": "stream",
     "text": [
      "Warning: Audio file c:\\Users\\16148\\Desktop\\Projects\\bird_call_project\\Processed Recordings\\Calidris_alpina_Ohio_Magee_Marsh_17027_segment_3.wav is too short or silent. Skipping.\n"
     ]
    },
    {
     "name": "stderr",
     "output_type": "stream",
     "text": [
      "  1%|          | 350/48207 [01:34<3:02:56,  4.36it/s]"
     ]
    },
    {
     "name": "stdout",
     "output_type": "stream",
     "text": [
      "Warning: Audio file c:\\Users\\16148\\Desktop\\Projects\\bird_call_project\\Processed Recordings\\Scolopax_minor_Brush_Creek_Township_near__West_Union_Adams_County_Ohio_939172_segment_3.wav is too short or silent. Skipping.\n"
     ]
    },
    {
     "name": "stderr",
     "output_type": "stream",
     "text": [
      "  1%|          | 501/48207 [02:17<3:56:10,  3.37it/s]"
     ]
    },
    {
     "name": "stdout",
     "output_type": "stream",
     "text": [
      "Warning: Audio file c:\\Users\\16148\\Desktop\\Projects\\bird_call_project\\Processed Recordings\\Scolopax_minor_Maumee_Bay_SP_Ohio_418103_segment_56.wav is too short or silent. Skipping.\n"
     ]
    },
    {
     "name": "stderr",
     "output_type": "stream",
     "text": [
      "  1%|▏         | 710/48207 [03:18<3:38:34,  3.62it/s]"
     ]
    },
    {
     "name": "stdout",
     "output_type": "stream",
     "text": [
      "Warning: Audio file c:\\Users\\16148\\Desktop\\Projects\\bird_call_project\\Processed Recordings\\Tringa_flavipes_Ohio_Magee_Marsh_17051_segment_2.wav is too short or silent. Skipping.\n"
     ]
    },
    {
     "name": "stderr",
     "output_type": "stream",
     "text": [
      "  1%|▏         | 714/48207 [03:19<3:13:34,  4.09it/s]"
     ]
    },
    {
     "name": "stdout",
     "output_type": "stream",
     "text": [
      "Warning: Audio file c:\\Users\\16148\\Desktop\\Projects\\bird_call_project\\Processed Recordings\\Tringa_flavipes_Ohio_Magee_Marsh_17050_segment_3.wav is too short or silent. Skipping.\n"
     ]
    },
    {
     "name": "stderr",
     "output_type": "stream",
     "text": [
      "  1%|▏         | 719/48207 [03:20<3:20:33,  3.95it/s]"
     ]
    },
    {
     "name": "stdout",
     "output_type": "stream",
     "text": [
      "Warning: Audio file c:\\Users\\16148\\Desktop\\Projects\\bird_call_project\\Processed Recordings\\Tringa_flavipes_Ohio_Magee_Marsh_17049_segment_4.wav is too short or silent. Skipping.\n"
     ]
    },
    {
     "name": "stderr",
     "output_type": "stream",
     "text": [
      "  2%|▏         | 780/48207 [03:38<3:37:48,  3.63it/s]"
     ]
    },
    {
     "name": "stdout",
     "output_type": "stream",
     "text": [
      "Warning: Audio file c:\\Users\\16148\\Desktop\\Projects\\bird_call_project\\Processed Recordings\\Ardea_alba_Ohio_Ottawa_NWR_17012_segment_2.wav is too short or silent. Skipping.\n"
     ]
    },
    {
     "name": "stderr",
     "output_type": "stream",
     "text": [
      "  2%|▏         | 791/48207 [03:41<3:37:34,  3.63it/s]"
     ]
    },
    {
     "name": "stdout",
     "output_type": "stream",
     "text": [
      "Warning: Audio file c:\\Users\\16148\\Desktop\\Projects\\bird_call_project\\Processed Recordings\\Accipiter_cooperii_Michigan_Monroe_County_17115_segment_10.wav is too short or silent. Skipping.\n"
     ]
    },
    {
     "name": "stderr",
     "output_type": "stream",
     "text": [
      "  2%|▏         | 813/48207 [03:47<3:39:49,  3.59it/s]"
     ]
    },
    {
     "name": "stdout",
     "output_type": "stream",
     "text": [
      "Warning: Audio file c:\\Users\\16148\\Desktop\\Projects\\bird_call_project\\Processed Recordings\\Buteo_lineatus_Green_Township_near__Cincinnati_Hamilton_County_Ohio_809281_segment_21.wav is too short or silent. Skipping.\n"
     ]
    },
    {
     "name": "stderr",
     "output_type": "stream",
     "text": [
      "  2%|▏         | 823/48207 [03:50<7:46:52,  1.69it/s]"
     ]
    },
    {
     "name": "stdout",
     "output_type": "stream",
     "text": [
      "Warning: Audio file c:\\Users\\16148\\Desktop\\Projects\\bird_call_project\\Processed Recordings\\Buteo_lineatus_Miami_Whitewater_Forest_Park_wetlands_Crosby_Township_near__Harrison_Hamilton_County_Ohio_691446_segment_9.wav is too short or silent. Skipping.\n"
     ]
    },
    {
     "name": "stderr",
     "output_type": "stream",
     "text": [
      "  2%|▏         | 861/48207 [04:01<3:40:04,  3.59it/s]"
     ]
    },
    {
     "name": "stdout",
     "output_type": "stream",
     "text": [
      "Warning: Audio file c:\\Users\\16148\\Desktop\\Projects\\bird_call_project\\Processed Recordings\\Buteo_jamaicensis_Michigan_Monroe_County_17117_segment_10.wav is too short or silent. Skipping.\n"
     ]
    },
    {
     "name": "stderr",
     "output_type": "stream",
     "text": [
      "  2%|▏         | 1031/48207 [04:50<3:40:52,  3.56it/s]"
     ]
    },
    {
     "name": "stdout",
     "output_type": "stream",
     "text": [
      "Warning: Audio file c:\\Users\\16148\\Desktop\\Projects\\bird_call_project\\Processed Recordings\\Bubo_virginianus_mount_orab_ohio_664390_segment_29.wav is too short or silent. Skipping.\n"
     ]
    },
    {
     "name": "stderr",
     "output_type": "stream",
     "text": [
      "  2%|▏         | 1146/48207 [05:29<4:46:07,  2.74it/s] "
     ]
    },
    {
     "name": "stdout",
     "output_type": "stream",
     "text": [
      "Warning: Audio file c:\\Users\\16148\\Desktop\\Projects\\bird_call_project\\Processed Recordings\\Megascops_asio_mount_orab_ohio_624995_segment_47.wav is too short or silent. Skipping.\n"
     ]
    },
    {
     "name": "stderr",
     "output_type": "stream",
     "text": [
      "  2%|▏         | 1185/48207 [05:40<3:39:07,  3.58it/s]"
     ]
    },
    {
     "name": "stdout",
     "output_type": "stream",
     "text": [
      "Warning: Audio file c:\\Users\\16148\\Desktop\\Projects\\bird_call_project\\Processed Recordings\\Megascops_asio_mount_orab_ohio_624576_segment_11.wav is too short or silent. Skipping.\n"
     ]
    },
    {
     "name": "stderr",
     "output_type": "stream",
     "text": [
      "  3%|▎         | 1215/48207 [05:48<3:40:41,  3.55it/s]"
     ]
    },
    {
     "name": "stdout",
     "output_type": "stream",
     "text": [
      "Warning: Audio file c:\\Users\\16148\\Desktop\\Projects\\bird_call_project\\Processed Recordings\\Strix_varia_mount_orab_ohio_494579_segment_5.wav is too short or silent. Skipping.\n"
     ]
    },
    {
     "name": "stderr",
     "output_type": "stream",
     "text": [
      "  3%|▎         | 1220/48207 [05:49<3:22:40,  3.86it/s]"
     ]
    },
    {
     "name": "stdout",
     "output_type": "stream",
     "text": [
      "Warning: Audio file c:\\Users\\16148\\Desktop\\Projects\\bird_call_project\\Processed Recordings\\Strix_varia_mount_orab_ohio_494421_segment_4.wav is too short or silent. Skipping.\n"
     ]
    },
    {
     "name": "stderr",
     "output_type": "stream",
     "text": [
      "  3%|▎         | 1262/48207 [06:01<3:41:49,  3.53it/s]"
     ]
    },
    {
     "name": "stdout",
     "output_type": "stream",
     "text": [
      "Warning: Audio file c:\\Users\\16148\\Desktop\\Projects\\bird_call_project\\Processed Recordings\\Melanerpes_erythrocephalus_Crosby_Township_near__Harrison_Hamilton_County_Ohio_774908_segment_24.wav is too short or silent. Skipping.\n"
     ]
    },
    {
     "name": "stderr",
     "output_type": "stream",
     "text": [
      "  3%|▎         | 1292/48207 [06:09<3:44:07,  3.49it/s]"
     ]
    },
    {
     "name": "stdout",
     "output_type": "stream",
     "text": [
      "Warning: Audio file c:\\Users\\16148\\Desktop\\Projects\\bird_call_project\\Processed Recordings\\Melanerpes_erythrocephalus_Kendrick_Woods_State_Nature_Preserve_Allen_County_Ohio_698853_segment_29.wav is too short or silent. Skipping.\n",
      "Warning: Audio file c:\\Users\\16148\\Desktop\\Projects\\bird_call_project\\Processed Recordings\\Melanerpes_erythrocephalus_Kendrick_Woods_State_Nature_Preserve_Allen_County_Ohio_698853_segment_30.wav is too short or silent. Skipping.\n"
     ]
    },
    {
     "name": "stderr",
     "output_type": "stream",
     "text": [
      "  3%|▎         | 1298/48207 [06:11<3:04:16,  4.24it/s]"
     ]
    },
    {
     "name": "stdout",
     "output_type": "stream",
     "text": [
      "Warning: Audio file c:\\Users\\16148\\Desktop\\Projects\\bird_call_project\\Processed Recordings\\Melanerpes_erythrocephalus_Lawrence_Woods_SNP_477578_segment_4.wav is too short or silent. Skipping.\n"
     ]
    },
    {
     "name": "stderr",
     "output_type": "stream",
     "text": [
      "  3%|▎         | 1312/48207 [06:14<4:09:00,  3.14it/s]"
     ]
    },
    {
     "name": "stdout",
     "output_type": "stream",
     "text": [
      "Warning: Audio file c:\\Users\\16148\\Desktop\\Projects\\bird_call_project\\Processed Recordings\\Melanerpes_erythrocephalus_Pelee_near__Leamington_Essex_County_Ontario_477003_segment_13.wav is too short or silent. Skipping.\n"
     ]
    },
    {
     "name": "stderr",
     "output_type": "stream",
     "text": [
      "  3%|▎         | 1316/48207 [06:15<3:33:37,  3.66it/s]"
     ]
    },
    {
     "name": "stdout",
     "output_type": "stream",
     "text": [
      "Warning: Audio file c:\\Users\\16148\\Desktop\\Projects\\bird_call_project\\Processed Recordings\\Melanerpes_erythrocephalus_Crosby_Township_near__Harrison_Hamilton_County_Ohio_774907_segment_3.wav is too short or silent. Skipping.\n"
     ]
    },
    {
     "name": "stderr",
     "output_type": "stream",
     "text": [
      "  3%|▎         | 1325/48207 [06:18<3:39:47,  3.55it/s]"
     ]
    },
    {
     "name": "stdout",
     "output_type": "stream",
     "text": [
      "Warning: Audio file c:\\Users\\16148\\Desktop\\Projects\\bird_call_project\\Processed Recordings\\Melanerpes_carolinus_Miami_Whitewater_Forest_Park_wetlands_Crosby_Township_near__Harrison_Hamilton_County_Ohio_687174_segment_8.wav is too short or silent. Skipping.\n"
     ]
    },
    {
     "name": "stderr",
     "output_type": "stream",
     "text": [
      "  3%|▎         | 1330/48207 [06:19<3:20:16,  3.90it/s]"
     ]
    },
    {
     "name": "stdout",
     "output_type": "stream",
     "text": [
      "Warning: Audio file c:\\Users\\16148\\Desktop\\Projects\\bird_call_project\\Processed Recordings\\Melanerpes_carolinus_Tanglewood_Lane_Cincinnati_Ohio_302917_segment_4.wav is too short or silent. Skipping.\n"
     ]
    },
    {
     "name": "stderr",
     "output_type": "stream",
     "text": [
      "  3%|▎         | 1457/48207 [06:58<3:40:56,  3.53it/s] "
     ]
    },
    {
     "name": "stdout",
     "output_type": "stream",
     "text": [
      "Warning: Audio file c:\\Users\\16148\\Desktop\\Projects\\bird_call_project\\Processed Recordings\\Melanerpes_carolinus_Westlake_Cuyahoga_Ohio_115025_segment_12.wav is too short or silent. Skipping.\n"
     ]
    },
    {
     "name": "stderr",
     "output_type": "stream",
     "text": [
      "  3%|▎         | 1460/48207 [06:58<3:04:13,  4.23it/s]"
     ]
    },
    {
     "name": "stdout",
     "output_type": "stream",
     "text": [
      "Warning: Audio file c:\\Users\\16148\\Desktop\\Projects\\bird_call_project\\Processed Recordings\\Melanerpes_carolinus_Lawrence_Woods_SNP_417981_segment_2.wav is too short or silent. Skipping.\n"
     ]
    },
    {
     "name": "stderr",
     "output_type": "stream",
     "text": [
      "  3%|▎         | 1472/48207 [07:02<3:39:49,  3.54it/s]"
     ]
    },
    {
     "name": "stdout",
     "output_type": "stream",
     "text": [
      "Warning: Audio file c:\\Users\\16148\\Desktop\\Projects\\bird_call_project\\Processed Recordings\\Sphyrapicus_varius_Tanglewood_Lane_Cincinnati_Ohio_302918_segment_11.wav is too short or silent. Skipping.\n"
     ]
    },
    {
     "name": "stderr",
     "output_type": "stream",
     "text": [
      "  3%|▎         | 1506/48207 [07:11<3:44:04,  3.47it/s]"
     ]
    },
    {
     "name": "stdout",
     "output_type": "stream",
     "text": [
      "Warning: Audio file c:\\Users\\16148\\Desktop\\Projects\\bird_call_project\\Processed Recordings\\Dryobates_pubescens_Green_Township_near__Cincinnati_Hamilton_County_Ohio_676924_segment_7.wav is too short or silent. Skipping.\n"
     ]
    },
    {
     "name": "stderr",
     "output_type": "stream",
     "text": [
      "  3%|▎         | 1509/48207 [07:12<3:04:44,  4.21it/s]"
     ]
    },
    {
     "name": "stdout",
     "output_type": "stream",
     "text": [
      "Warning: Audio file c:\\Users\\16148\\Desktop\\Projects\\bird_call_project\\Processed Recordings\\Dryobates_pubescens_Pelee_near__Leamington_Essex_County_Ontario_476564_segment_2.wav is too short or silent. Skipping.\n"
     ]
    },
    {
     "name": "stderr",
     "output_type": "stream",
     "text": [
      "  3%|▎         | 1517/48207 [07:14<3:32:26,  3.66it/s]"
     ]
    },
    {
     "name": "stdout",
     "output_type": "stream",
     "text": [
      "Warning: Audio file c:\\Users\\16148\\Desktop\\Projects\\bird_call_project\\Processed Recordings\\Dryobates_pubescens_Wegerzyn_garden_near__Dayton_Montgomery_County_Ohio_807220_segment_7.wav is too short or silent. Skipping.\n"
     ]
    },
    {
     "name": "stderr",
     "output_type": "stream",
     "text": [
      "  3%|▎         | 1526/48207 [07:16<3:36:10,  3.60it/s]"
     ]
    },
    {
     "name": "stdout",
     "output_type": "stream",
     "text": [
      "Warning: Audio file c:\\Users\\16148\\Desktop\\Projects\\bird_call_project\\Processed Recordings\\Leuconotopicus_villosus_Green_Township_near__Lynx_Adams_County_Ohio_302925_segment_8.wav is too short or silent. Skipping.\n"
     ]
    },
    {
     "name": "stderr",
     "output_type": "stream",
     "text": [
      "  3%|▎         | 1540/48207 [07:20<3:42:57,  3.49it/s]"
     ]
    },
    {
     "name": "stdout",
     "output_type": "stream",
     "text": [
      "Warning: Audio file c:\\Users\\16148\\Desktop\\Projects\\bird_call_project\\Processed Recordings\\Leuconotopicus_villosus_Miami_Township_near__Cleves_Hamilton_County_Ohio_775844_segment_13.wav is too short or silent. Skipping.\n"
     ]
    },
    {
     "name": "stderr",
     "output_type": "stream",
     "text": [
      "  3%|▎         | 1563/48207 [07:26<3:46:01,  3.44it/s]"
     ]
    },
    {
     "name": "stdout",
     "output_type": "stream",
     "text": [
      "Warning: Audio file c:\\Users\\16148\\Desktop\\Projects\\bird_call_project\\Processed Recordings\\Colaptes_auratus_Green_Township_near__Cincinnati_Hamilton_County_Ohio_807485_segment_22.wav is too short or silent. Skipping.\n"
     ]
    },
    {
     "name": "stderr",
     "output_type": "stream",
     "text": [
      "  3%|▎         | 1586/48207 [07:32<3:37:57,  3.56it/s]"
     ]
    },
    {
     "name": "stdout",
     "output_type": "stream",
     "text": [
      "Warning: Audio file c:\\Users\\16148\\Desktop\\Projects\\bird_call_project\\Processed Recordings\\Colaptes_auratus_Anderson_Township_near__Cincinnati_Hamilton_County_Ohio_542520_segment_22.wav is too short or silent. Skipping.\n"
     ]
    },
    {
     "name": "stderr",
     "output_type": "stream",
     "text": [
      "  3%|▎         | 1663/48207 [07:55<3:41:28,  3.50it/s]"
     ]
    },
    {
     "name": "stdout",
     "output_type": "stream",
     "text": [
      "Warning: Audio file c:\\Users\\16148\\Desktop\\Projects\\bird_call_project\\Processed Recordings\\Dryocopus_pileatus_Harrison_Township_near__Harrison_Hamilton_County_Ohio_691470_segment_76.wav is too short or silent. Skipping.\n"
     ]
    },
    {
     "name": "stderr",
     "output_type": "stream",
     "text": [
      "  3%|▎         | 1669/48207 [07:56<3:26:08,  3.76it/s]"
     ]
    },
    {
     "name": "stdout",
     "output_type": "stream",
     "text": [
      "Warning: Audio file c:\\Users\\16148\\Desktop\\Projects\\bird_call_project\\Processed Recordings\\Dryocopus_pileatus_Harrison_Township_near__Harrison_Hamilton_County_Ohio_728222_segment_5.wav is too short or silent. Skipping.\n"
     ]
    },
    {
     "name": "stderr",
     "output_type": "stream",
     "text": [
      "  4%|▎         | 1699/48207 [08:05<3:42:30,  3.48it/s]"
     ]
    },
    {
     "name": "stdout",
     "output_type": "stream",
     "text": [
      "Warning: Audio file c:\\Users\\16148\\Desktop\\Projects\\bird_call_project\\Processed Recordings\\Sayornis_phoebe_Harrison_Township_near__Harrison_Hamilton_County_Ohio_713589_segment_8.wav is too short or silent. Skipping.\n"
     ]
    },
    {
     "name": "stderr",
     "output_type": "stream",
     "text": [
      "  4%|▎         | 1712/48207 [08:09<3:39:12,  3.53it/s]"
     ]
    },
    {
     "name": "stdout",
     "output_type": "stream",
     "text": [
      "Warning: Audio file c:\\Users\\16148\\Desktop\\Projects\\bird_call_project\\Processed Recordings\\Sayornis_phoebe_Pelee_near__Leamington_Essex_County_Ontario_476566_segment_12.wav is too short or silent. Skipping.\n"
     ]
    },
    {
     "name": "stderr",
     "output_type": "stream",
     "text": [
      "  4%|▎         | 1722/48207 [08:11<3:37:02,  3.57it/s]"
     ]
    },
    {
     "name": "stdout",
     "output_type": "stream",
     "text": [
      "Warning: Audio file c:\\Users\\16148\\Desktop\\Projects\\bird_call_project\\Processed Recordings\\Contopus_virens_Pelee_near__Leamington_Essex_County_Ontario_476568_segment_9.wav is too short or silent. Skipping.\n"
     ]
    },
    {
     "name": "stderr",
     "output_type": "stream",
     "text": [
      "  4%|▎         | 1735/48207 [08:15<3:44:31,  3.45it/s]"
     ]
    },
    {
     "name": "stdout",
     "output_type": "stream",
     "text": [
      "Warning: Audio file c:\\Users\\16148\\Desktop\\Projects\\bird_call_project\\Processed Recordings\\Contopus_virens_Whitewater_Township_near__Cleves_Hamilton_County_Ohio_928713_segment_12.wav is too short or silent. Skipping.\n"
     ]
    },
    {
     "name": "stderr",
     "output_type": "stream",
     "text": [
      "  4%|▎         | 1768/48207 [08:25<3:42:39,  3.48it/s]"
     ]
    },
    {
     "name": "stdout",
     "output_type": "stream",
     "text": [
      "Warning: Audio file c:\\Users\\16148\\Desktop\\Projects\\bird_call_project\\Processed Recordings\\Contopus_virens_Whitewater_Township_near__Cleves_Hamilton_County_Ohio_817712_segment_32.wav is too short or silent. Skipping.\n"
     ]
    },
    {
     "name": "stderr",
     "output_type": "stream",
     "text": [
      "  4%|▎         | 1782/48207 [08:28<3:45:00,  3.44it/s]"
     ]
    },
    {
     "name": "stdout",
     "output_type": "stream",
     "text": [
      "Warning: Audio file c:\\Users\\16148\\Desktop\\Projects\\bird_call_project\\Processed Recordings\\Contopus_virens_Harrison_Township_near__Harrison_Hamilton_County_Ohio_726814_segment_13.wav is too short or silent. Skipping.\n"
     ]
    },
    {
     "name": "stderr",
     "output_type": "stream",
     "text": [
      "  4%|▍         | 1903/48207 [09:17<3:43:54,  3.45it/s] "
     ]
    },
    {
     "name": "stdout",
     "output_type": "stream",
     "text": [
      "Warning: Audio file c:\\Users\\16148\\Desktop\\Projects\\bird_call_project\\Processed Recordings\\Empidonax_virescens_Harrison_Township_near__Harrison_Hamilton_County_Ohio_728279_segment_21.wav is too short or silent. Skipping.\n"
     ]
    },
    {
     "name": "stderr",
     "output_type": "stream",
     "text": [
      "  4%|▍         | 1909/48207 [09:19<3:33:49,  3.61it/s]"
     ]
    },
    {
     "name": "stdout",
     "output_type": "stream",
     "text": [
      "Warning: Audio file c:\\Users\\16148\\Desktop\\Projects\\bird_call_project\\Processed Recordings\\Empidonax_virescens_Harrison_Township_near__Harrison_Hamilton_County_Ohio_728275_segment_5.wav is too short or silent. Skipping.\n"
     ]
    },
    {
     "name": "stderr",
     "output_type": "stream",
     "text": [
      "  4%|▍         | 1982/48207 [09:40<3:44:27,  3.43it/s]"
     ]
    },
    {
     "name": "stdout",
     "output_type": "stream",
     "text": [
      "Warning: Audio file c:\\Users\\16148\\Desktop\\Projects\\bird_call_project\\Processed Recordings\\Empidonax_traillii_Magee_Marsh_Ohio_298581_segment_3.wav is too short or silent. Skipping.\n"
     ]
    },
    {
     "name": "stderr",
     "output_type": "stream",
     "text": [
      "  4%|▍         | 1997/48207 [09:44<3:45:17,  3.42it/s]"
     ]
    },
    {
     "name": "stdout",
     "output_type": "stream",
     "text": [
      "Warning: Audio file c:\\Users\\16148\\Desktop\\Projects\\bird_call_project\\Processed Recordings\\Empidonax_traillii_Magee_Marsh_Ohio_298355_segment_13.wav is too short or silent. Skipping.\n"
     ]
    },
    {
     "name": "stderr",
     "output_type": "stream",
     "text": [
      "  4%|▍         | 2014/48207 [09:49<3:42:26,  3.46it/s]"
     ]
    },
    {
     "name": "stdout",
     "output_type": "stream",
     "text": [
      "Warning: Audio file c:\\Users\\16148\\Desktop\\Projects\\bird_call_project\\Processed Recordings\\Empidonax_traillii_Whitewater_Township_near__Harrison_Hamilton_County_Ohio_726752_segment_16.wav is too short or silent. Skipping.\n"
     ]
    },
    {
     "name": "stderr",
     "output_type": "stream",
     "text": [
      "  4%|▍         | 2029/48207 [09:53<3:43:40,  3.44it/s]"
     ]
    },
    {
     "name": "stdout",
     "output_type": "stream",
     "text": [
      "Warning: Audio file c:\\Users\\16148\\Desktop\\Projects\\bird_call_project\\Processed Recordings\\Empidonax_traillii_Franklin_Township_near__Wooster_Wayne_County_Ohio_418568_segment_14.wav is too short or silent. Skipping.\n"
     ]
    },
    {
     "name": "stderr",
     "output_type": "stream",
     "text": [
      "  4%|▍         | 2068/48207 [10:04<3:45:25,  3.41it/s]"
     ]
    },
    {
     "name": "stdout",
     "output_type": "stream",
     "text": [
      "Warning: Audio file c:\\Users\\16148\\Desktop\\Projects\\bird_call_project\\Processed Recordings\\Empidonax_traillii_Magee_Marsh_Ohio_298575_segment_38.wav is too short or silent. Skipping.\n"
     ]
    },
    {
     "name": "stderr",
     "output_type": "stream",
     "text": [
      "  4%|▍         | 2079/48207 [10:07<3:40:52,  3.48it/s]"
     ]
    },
    {
     "name": "stdout",
     "output_type": "stream",
     "text": [
      "Warning: Audio file c:\\Users\\16148\\Desktop\\Projects\\bird_call_project\\Processed Recordings\\Empidonax_traillii_Spring_Valley_near__Waynesville_Greene_Cty_Ohio_477603_segment_10.wav is too short or silent. Skipping.\n"
     ]
    },
    {
     "name": "stderr",
     "output_type": "stream",
     "text": [
      "  4%|▍         | 2089/48207 [10:10<3:36:39,  3.55it/s]"
     ]
    },
    {
     "name": "stdout",
     "output_type": "stream",
     "text": [
      "Warning: Audio file c:\\Users\\16148\\Desktop\\Projects\\bird_call_project\\Processed Recordings\\Empidonax_traillii_Cleveland_Cuyahoga_County_Ohio_256648_segment_9.wav is too short or silent. Skipping.\n"
     ]
    },
    {
     "name": "stderr",
     "output_type": "stream",
     "text": [
      "  4%|▍         | 2113/48207 [10:16<3:36:44,  3.54it/s]"
     ]
    },
    {
     "name": "stdout",
     "output_type": "stream",
     "text": [
      "Warning: Audio file c:\\Users\\16148\\Desktop\\Projects\\bird_call_project\\Processed Recordings\\Tyrannus_tyrannus_Dunham_Recreation_Complex_near__Cincinnati_Hamilton_County_Ohio_646450_segment_4.wav is too short or silent. Skipping.\n"
     ]
    },
    {
     "name": "stderr",
     "output_type": "stream",
     "text": [
      "  4%|▍         | 2154/48207 [10:28<3:42:44,  3.45it/s]"
     ]
    },
    {
     "name": "stdout",
     "output_type": "stream",
     "text": [
      "Warning: Audio file c:\\Users\\16148\\Desktop\\Projects\\bird_call_project\\Processed Recordings\\Myiarchus_crinitus_Miami_Township_near__North_Bend_Hamilton_County_Ohio_646113_segment_40.wav is too short or silent. Skipping.\n"
     ]
    },
    {
     "name": "stderr",
     "output_type": "stream",
     "text": [
      "  5%|▍         | 2221/48207 [10:47<3:40:21,  3.48it/s]"
     ]
    },
    {
     "name": "stdout",
     "output_type": "stream",
     "text": [
      "Warning: Audio file c:\\Users\\16148\\Desktop\\Projects\\bird_call_project\\Processed Recordings\\Myiarchus_crinitus_Berkshire_near__Galena_Delaware_Ohio_124159_segment_13.wav is too short or silent. Skipping.\n"
     ]
    },
    {
     "name": "stderr",
     "output_type": "stream",
     "text": [
      "  5%|▍         | 2225/48207 [10:48<3:16:20,  3.90it/s]"
     ]
    },
    {
     "name": "stdout",
     "output_type": "stream",
     "text": [
      "Warning: Audio file c:\\Users\\16148\\Desktop\\Projects\\bird_call_project\\Processed Recordings\\Vireo_olivaceus_Lawrence_Woods_SNP_417986_segment_3.wav is too short or silent. Skipping.\n"
     ]
    },
    {
     "name": "stderr",
     "output_type": "stream",
     "text": [
      "  5%|▍         | 2323/48207 [11:34<3:49:02,  3.34it/s] "
     ]
    },
    {
     "name": "stdout",
     "output_type": "stream",
     "text": [
      "Warning: Audio file c:\\Users\\16148\\Desktop\\Projects\\bird_call_project\\Processed Recordings\\Vireo_gilvus_Magee_Marsh_-_boardwalk_Lucas_County_Ohio_827590_segment_47.wav is too short or silent. Skipping.\n"
     ]
    },
    {
     "name": "stderr",
     "output_type": "stream",
     "text": [
      "  5%|▍         | 2347/48207 [11:41<3:49:03,  3.34it/s]"
     ]
    },
    {
     "name": "stdout",
     "output_type": "stream",
     "text": [
      "Warning: Audio file c:\\Users\\16148\\Desktop\\Projects\\bird_call_project\\Processed Recordings\\Vireo_gilvus_Ross_Township_near__Ross_Butler_County_Ohio_807514_segment_23.wav is too short or silent. Skipping.\n"
     ]
    },
    {
     "name": "stderr",
     "output_type": "stream",
     "text": [
      "  5%|▍         | 2384/48207 [11:52<3:48:18,  3.35it/s]"
     ]
    },
    {
     "name": "stdout",
     "output_type": "stream",
     "text": [
      "Warning: Audio file c:\\Users\\16148\\Desktop\\Projects\\bird_call_project\\Processed Recordings\\Vireo_gilvus_Whitewater_Township_near__Harrison_Hamilton_County_Ohio_726753_segment_16.wav is too short or silent. Skipping.\n"
     ]
    },
    {
     "name": "stderr",
     "output_type": "stream",
     "text": [
      "  5%|▍         | 2394/48207 [11:54<3:49:05,  3.33it/s]"
     ]
    },
    {
     "name": "stdout",
     "output_type": "stream",
     "text": [
      "Warning: Audio file c:\\Users\\16148\\Desktop\\Projects\\bird_call_project\\Processed Recordings\\Vireo_gilvus_Pelee_near__Leamington_Essex_County_Ontario_477046_segment_6.wav is too short or silent. Skipping.\n"
     ]
    },
    {
     "name": "stderr",
     "output_type": "stream",
     "text": [
      "  5%|▌         | 2421/48207 [12:03<3:56:14,  3.23it/s]"
     ]
    },
    {
     "name": "stdout",
     "output_type": "stream",
     "text": [
      "Warning: Audio file c:\\Users\\16148\\Desktop\\Projects\\bird_call_project\\Processed Recordings\\Vireo_gilvus_Magee_Marsh_Ohio_939386_segment_15.wav is too short or silent. Skipping.\n"
     ]
    },
    {
     "name": "stderr",
     "output_type": "stream",
     "text": [
      "  5%|▌         | 2427/48207 [12:04<3:39:29,  3.48it/s]"
     ]
    },
    {
     "name": "stdout",
     "output_type": "stream",
     "text": [
      "Warning: Audio file c:\\Users\\16148\\Desktop\\Projects\\bird_call_project\\Processed Recordings\\Vireo_gilvus_Benton_Township_near__Rocky_Ridge_Ottawa_County_Ohio_902984_segment_5.wav is too short or silent. Skipping.\n"
     ]
    },
    {
     "name": "stderr",
     "output_type": "stream",
     "text": [
      "  5%|▌         | 2435/48207 [12:06<3:45:07,  3.39it/s]"
     ]
    },
    {
     "name": "stdout",
     "output_type": "stream",
     "text": [
      "Warning: Audio file c:\\Users\\16148\\Desktop\\Projects\\bird_call_project\\Processed Recordings\\Vireo_gilvus_Benton_Township_near__Rocky_Ridge_Ottawa_County_Ohio_902983_segment_7.wav is too short or silent. Skipping.\n"
     ]
    },
    {
     "name": "stderr",
     "output_type": "stream",
     "text": [
      "  5%|▌         | 2484/48207 [12:21<3:51:22,  3.29it/s]"
     ]
    },
    {
     "name": "stdout",
     "output_type": "stream",
     "text": [
      "Warning: Audio file c:\\Users\\16148\\Desktop\\Projects\\bird_call_project\\Processed Recordings\\Vireo_gilvus_Magee_Marsh_-_boardwalk_Lucas_County_Ohio_827589_segment_8.wav is too short or silent. Skipping.\n"
     ]
    },
    {
     "name": "stderr",
     "output_type": "stream",
     "text": [
      "  5%|▌         | 2494/48207 [12:24<3:42:41,  3.42it/s]"
     ]
    },
    {
     "name": "stdout",
     "output_type": "stream",
     "text": [
      "Warning: Audio file c:\\Users\\16148\\Desktop\\Projects\\bird_call_project\\Processed Recordings\\Vireo_gilvus_Tanager_Meadow_Reservable_Shelter_near__Harrison_Hamilton_County_Ohio_807452_segment_9.wav is too short or silent. Skipping.\n"
     ]
    },
    {
     "name": "stderr",
     "output_type": "stream",
     "text": [
      "  5%|▌         | 2578/48207 [12:49<3:47:12,  3.35it/s]"
     ]
    },
    {
     "name": "stdout",
     "output_type": "stream",
     "text": [
      "Warning: Audio file c:\\Users\\16148\\Desktop\\Projects\\bird_call_project\\Processed Recordings\\Vireo_gilvus_Magee_Marsh_-_boardwalk_Lucas_County_Ohio_827586_segment_58.wav is too short or silent. Skipping.\n"
     ]
    },
    {
     "name": "stderr",
     "output_type": "stream",
     "text": [
      "  5%|▌         | 2606/48207 [12:57<3:49:27,  3.31it/s]"
     ]
    },
    {
     "name": "stdout",
     "output_type": "stream",
     "text": [
      "Warning: Audio file c:\\Users\\16148\\Desktop\\Projects\\bird_call_project\\Processed Recordings\\Vireo_flavifrons_Harrison_Township_near__Harrison_Hamilton_County_Ohio_719923_segment_27.wav is too short or silent. Skipping.\n"
     ]
    },
    {
     "name": "stderr",
     "output_type": "stream",
     "text": [
      "  5%|▌         | 2618/48207 [13:00<3:45:22,  3.37it/s]"
     ]
    },
    {
     "name": "stdout",
     "output_type": "stream",
     "text": [
      "Warning: Audio file c:\\Users\\16148\\Desktop\\Projects\\bird_call_project\\Processed Recordings\\Vireo_flavifrons_Spring_Valley_near__Waynesville_Greene_Cty_Ohio_477608_segment_11.wav is too short or silent. Skipping.\n"
     ]
    },
    {
     "name": "stderr",
     "output_type": "stream",
     "text": [
      "  5%|▌         | 2625/48207 [13:02<4:42:38,  2.69it/s]"
     ]
    },
    {
     "name": "stdout",
     "output_type": "stream",
     "text": [
      "Warning: Audio file c:\\Users\\16148\\Desktop\\Projects\\bird_call_project\\Processed Recordings\\Vireo_flavifrons_Oak_Openings_Metropark_Ohio_418068_segment_6.wav is too short or silent. Skipping.\n"
     ]
    },
    {
     "name": "stderr",
     "output_type": "stream",
     "text": [
      "  6%|▌         | 2656/48207 [13:11<3:46:19,  3.35it/s]"
     ]
    },
    {
     "name": "stdout",
     "output_type": "stream",
     "text": [
      "Warning: Audio file c:\\Users\\16148\\Desktop\\Projects\\bird_call_project\\Processed Recordings\\Vireo_flavifrons_Lawrence_Woods_SNP_417990_segment_27.wav is too short or silent. Skipping.\n"
     ]
    },
    {
     "name": "stderr",
     "output_type": "stream",
     "text": [
      "  6%|▌         | 2678/48207 [13:18<3:51:52,  3.27it/s]"
     ]
    },
    {
     "name": "stdout",
     "output_type": "stream",
     "text": [
      "Warning: Audio file c:\\Users\\16148\\Desktop\\Projects\\bird_call_project\\Processed Recordings\\Vireo_flavifrons_Lawrence_Woods_SNP_417989_segment_21.wav is too short or silent. Skipping.\n"
     ]
    },
    {
     "name": "stderr",
     "output_type": "stream",
     "text": [
      "  6%|▌         | 2695/48207 [13:23<3:50:19,  3.29it/s]"
     ]
    },
    {
     "name": "stdout",
     "output_type": "stream",
     "text": [
      "Warning: Audio file c:\\Users\\16148\\Desktop\\Projects\\bird_call_project\\Processed Recordings\\Vireo_flavifrons_Shawnee_State_Forest_Scioto_County_Ohio_417452_segment_16.wav is too short or silent. Skipping.\n"
     ]
    },
    {
     "name": "stderr",
     "output_type": "stream",
     "text": [
      "  6%|▌         | 2774/48207 [13:46<3:46:48,  3.34it/s]"
     ]
    },
    {
     "name": "stdout",
     "output_type": "stream",
     "text": [
      "Warning: Audio file c:\\Users\\16148\\Desktop\\Projects\\bird_call_project\\Processed Recordings\\Vireo_griseus_Crosby_Township_near__New_Haven_Hamilton_County_Ohio_833700_segment_25.wav is too short or silent. Skipping.\n"
     ]
    },
    {
     "name": "stderr",
     "output_type": "stream",
     "text": [
      "  6%|▌         | 2789/48207 [13:51<3:53:50,  3.24it/s]"
     ]
    },
    {
     "name": "stdout",
     "output_type": "stream",
     "text": [
      "Warning: Audio file c:\\Users\\16148\\Desktop\\Projects\\bird_call_project\\Processed Recordings\\Vireo_griseus_Shawnee_State_Forest_Scioto_County_Ohio_417441_segment_14.wav is too short or silent. Skipping.\n"
     ]
    },
    {
     "name": "stderr",
     "output_type": "stream",
     "text": [
      "  6%|▌         | 2797/48207 [14:12<21:01:34,  1.67s/it]"
     ]
    },
    {
     "name": "stdout",
     "output_type": "stream",
     "text": [
      "Warning: Audio file c:\\Users\\16148\\Desktop\\Projects\\bird_call_project\\Processed Recordings\\Vireo_griseus_Point_Pelee_ON_83535_segment_7.wav is too short or silent. Skipping.\n"
     ]
    },
    {
     "name": "stderr",
     "output_type": "stream",
     "text": [
      "  6%|▌         | 2830/48207 [14:22<3:48:17,  3.31it/s] "
     ]
    },
    {
     "name": "stdout",
     "output_type": "stream",
     "text": [
      "Warning: Audio file c:\\Users\\16148\\Desktop\\Projects\\bird_call_project\\Processed Recordings\\Vireo_griseus_Miami_Township_near__North_Bend_Hamilton_County_Ohio_645855_segment_31.wav is too short or silent. Skipping.\n"
     ]
    },
    {
     "name": "stderr",
     "output_type": "stream",
     "text": [
      "  6%|▌         | 2845/48207 [14:26<3:48:26,  3.31it/s]"
     ]
    },
    {
     "name": "stdout",
     "output_type": "stream",
     "text": [
      "Warning: Audio file c:\\Users\\16148\\Desktop\\Projects\\bird_call_project\\Processed Recordings\\Vireo_griseus_Miami_Township_near__North_Bend_Hamilton_County_Ohio_645853_segment_13.wav is too short or silent. Skipping.\n"
     ]
    },
    {
     "name": "stderr",
     "output_type": "stream",
     "text": [
      "  6%|▌         | 2857/48207 [14:30<3:48:38,  3.31it/s]"
     ]
    },
    {
     "name": "stdout",
     "output_type": "stream",
     "text": [
      "Warning: Audio file c:\\Users\\16148\\Desktop\\Projects\\bird_call_project\\Processed Recordings\\Vireo_griseus_Three_Creeks_Metro_Park--Confluence_Area_playground_Franklin_County_Ohio_186555_segment_11.wav is too short or silent. Skipping.\n"
     ]
    },
    {
     "name": "stderr",
     "output_type": "stream",
     "text": [
      "  6%|▌         | 2945/48207 [14:56<3:51:04,  3.26it/s]"
     ]
    },
    {
     "name": "stdout",
     "output_type": "stream",
     "text": [
      "Warning: Audio file c:\\Users\\16148\\Desktop\\Projects\\bird_call_project\\Processed Recordings\\Vireo_bellii_Heritage_Rail-Trail_South_of_Hayden_Run_Rd_~200m_south_of_mile_marker_2_across_from_nest_box_#10_103570_segment_70.wav is too short or silent. Skipping.\n"
     ]
    },
    {
     "name": "stderr",
     "output_type": "stream",
     "text": [
      "  6%|▌         | 2958/48207 [15:00<3:43:34,  3.37it/s]"
     ]
    },
    {
     "name": "stdout",
     "output_type": "stream",
     "text": [
      "Warning: Audio file c:\\Users\\16148\\Desktop\\Projects\\bird_call_project\\Processed Recordings\\Cyanocitta_cristata_Pelee_near__Leamington_Essex_County_Ontario_476525_segment_5.wav is too short or silent. Skipping.\n"
     ]
    },
    {
     "name": "stderr",
     "output_type": "stream",
     "text": [
      "  6%|▌         | 2997/48207 [15:12<3:49:04,  3.29it/s]"
     ]
    },
    {
     "name": "stdout",
     "output_type": "stream",
     "text": [
      "Warning: Audio file c:\\Users\\16148\\Desktop\\Projects\\bird_call_project\\Processed Recordings\\Cyanocitta_cristata_Cincinnati_Hamilton_County_Ohio_677298_segment_38.wav is too short or silent. Skipping.\n"
     ]
    },
    {
     "name": "stderr",
     "output_type": "stream",
     "text": [
      "  6%|▌         | 3003/48207 [15:13<3:30:58,  3.57it/s]"
     ]
    },
    {
     "name": "stdout",
     "output_type": "stream",
     "text": [
      "Warning: Audio file c:\\Users\\16148\\Desktop\\Projects\\bird_call_project\\Processed Recordings\\Cyanocitta_cristata_Green_Township_near__Cincinnati_Hamilton_County_Ohio_672969_segment_5.wav is too short or silent. Skipping.\n"
     ]
    },
    {
     "name": "stderr",
     "output_type": "stream",
     "text": [
      "  6%|▌         | 3011/48207 [15:15<3:41:02,  3.41it/s]"
     ]
    },
    {
     "name": "stdout",
     "output_type": "stream",
     "text": [
      "Warning: Audio file c:\\Users\\16148\\Desktop\\Projects\\bird_call_project\\Processed Recordings\\Cyanocitta_cristata_Miami_near__North_Bend_Hamilton_County_Ohio_542143_segment_7.wav is too short or silent. Skipping.\n"
     ]
    },
    {
     "name": "stderr",
     "output_type": "stream",
     "text": [
      "  6%|▋         | 3017/48207 [15:17<3:28:14,  3.62it/s]"
     ]
    },
    {
     "name": "stdout",
     "output_type": "stream",
     "text": [
      "Warning: Audio file c:\\Users\\16148\\Desktop\\Projects\\bird_call_project\\Processed Recordings\\Cyanocitta_cristata_Crosby_Township_near__Harrison_Hamilton_County_Ohio_807193_segment_5.wav is too short or silent. Skipping.\n"
     ]
    },
    {
     "name": "stderr",
     "output_type": "stream",
     "text": [
      "  6%|▋         | 3030/48207 [15:20<3:40:37,  3.41it/s]"
     ]
    },
    {
     "name": "stdout",
     "output_type": "stream",
     "text": [
      "Warning: Audio file c:\\Users\\16148\\Desktop\\Projects\\bird_call_project\\Processed Recordings\\Cyanocitta_cristata_Green_Township_near__Cincinnati_Hamilton_County_Ohio_672963_segment_12.wav is too short or silent. Skipping.\n"
     ]
    },
    {
     "name": "stderr",
     "output_type": "stream",
     "text": [
      "  6%|▋         | 3106/48207 [15:43<3:42:31,  3.38it/s]"
     ]
    },
    {
     "name": "stdout",
     "output_type": "stream",
     "text": [
      "Warning: Audio file c:\\Users\\16148\\Desktop\\Projects\\bird_call_project\\Processed Recordings\\Corvus_ossifragus_Leamington_Essex_County_Ontario_320736_segment_8.wav is too short or silent. Skipping.\n"
     ]
    },
    {
     "name": "stderr",
     "output_type": "stream",
     "text": [
      "  6%|▋         | 3116/48207 [15:45<3:39:08,  3.43it/s]"
     ]
    },
    {
     "name": "stdout",
     "output_type": "stream",
     "text": [
      "Warning: Audio file c:\\Users\\16148\\Desktop\\Projects\\bird_call_project\\Processed Recordings\\Corvus_ossifragus_Chapel_Hill_Plaza_Cuyahoga_Falls_Summit_County_Ohio_393849_segment_9.wav is too short or silent. Skipping.\n"
     ]
    },
    {
     "name": "stderr",
     "output_type": "stream",
     "text": [
      "  7%|▋         | 3141/48207 [15:53<3:42:21,  3.38it/s]"
     ]
    },
    {
     "name": "stdout",
     "output_type": "stream",
     "text": [
      "Warning: Audio file c:\\Users\\16148\\Desktop\\Projects\\bird_call_project\\Processed Recordings\\Corvus_ossifragus_Howe_Ave_@_Jared__Cuyahoga_Falls_Summit_County_Ohio_398409_segment_2.wav is too short or silent. Skipping.\n"
     ]
    },
    {
     "name": "stderr",
     "output_type": "stream",
     "text": [
      "  7%|▋         | 3148/48207 [15:54<3:31:21,  3.55it/s]"
     ]
    },
    {
     "name": "stdout",
     "output_type": "stream",
     "text": [
      "Warning: Audio file c:\\Users\\16148\\Desktop\\Projects\\bird_call_project\\Processed Recordings\\Baeolophus_bicolor_Ohio_near__Akron_Summit_County_Ohio_376462_segment_6.wav is too short or silent. Skipping.\n"
     ]
    },
    {
     "name": "stderr",
     "output_type": "stream",
     "text": [
      "  7%|▋         | 3158/48207 [15:57<3:38:18,  3.44it/s]"
     ]
    },
    {
     "name": "stdout",
     "output_type": "stream",
     "text": [
      "Warning: Audio file c:\\Users\\16148\\Desktop\\Projects\\bird_call_project\\Processed Recordings\\Baeolophus_bicolor_Harrison_Township_near__Harrison_Hamilton_County_Ohio_807495_segment_9.wav is too short or silent. Skipping.\n"
     ]
    },
    {
     "name": "stderr",
     "output_type": "stream",
     "text": [
      "  7%|▋         | 3177/48207 [16:03<3:44:59,  3.34it/s]"
     ]
    },
    {
     "name": "stdout",
     "output_type": "stream",
     "text": [
      "Warning: Audio file c:\\Users\\16148\\Desktop\\Projects\\bird_call_project\\Processed Recordings\\Baeolophus_bicolor_Miami_Township_near__Cleves_Hamilton_County_Ohio_713584_segment_18.wav is too short or silent. Skipping.\n",
      "Warning: Audio file c:\\Users\\16148\\Desktop\\Projects\\bird_call_project\\Processed Recordings\\Baeolophus_bicolor_Miami_Township_near__Cleves_Hamilton_County_Ohio_713584_segment_19.wav is too short or silent. Skipping.\n"
     ]
    },
    {
     "name": "stderr",
     "output_type": "stream",
     "text": [
      "  7%|▋         | 3201/48207 [16:09<3:42:01,  3.38it/s]"
     ]
    },
    {
     "name": "stdout",
     "output_type": "stream",
     "text": [
      "Warning: Audio file c:\\Users\\16148\\Desktop\\Projects\\bird_call_project\\Processed Recordings\\Baeolophus_bicolor_Green_Township_near__Cincinnati_Hamilton_County_Ohio_673001_segment_8.wav is too short or silent. Skipping.\n"
     ]
    },
    {
     "name": "stderr",
     "output_type": "stream",
     "text": [
      "  7%|▋         | 3225/48207 [16:16<3:45:32,  3.32it/s]"
     ]
    },
    {
     "name": "stdout",
     "output_type": "stream",
     "text": [
      "Warning: Audio file c:\\Users\\16148\\Desktop\\Projects\\bird_call_project\\Processed Recordings\\Baeolophus_bicolor_Miami_Township_near__Cleves_Hamilton_County_Ohio_645567_segment_23.wav is too short or silent. Skipping.\n"
     ]
    },
    {
     "name": "stderr",
     "output_type": "stream",
     "text": [
      "  7%|▋         | 3236/48207 [16:19<3:44:53,  3.33it/s]"
     ]
    },
    {
     "name": "stdout",
     "output_type": "stream",
     "text": [
      "Warning: Audio file c:\\Users\\16148\\Desktop\\Projects\\bird_call_project\\Processed Recordings\\Baeolophus_bicolor_East_Fork_Lake_SP_Clermont_County_Ohio_416551_segment_7.wav is too short or silent. Skipping.\n"
     ]
    },
    {
     "name": "stderr",
     "output_type": "stream",
     "text": [
      "  7%|▋         | 3250/48207 [16:23<3:48:23,  3.28it/s]"
     ]
    },
    {
     "name": "stdout",
     "output_type": "stream",
     "text": [
      "Warning: Audio file c:\\Users\\16148\\Desktop\\Projects\\bird_call_project\\Processed Recordings\\Baeolophus_bicolor_Beachwood_Cuyahoga_County_Ohio_287347_segment_13.wav is too short or silent. Skipping.\n"
     ]
    },
    {
     "name": "stderr",
     "output_type": "stream",
     "text": [
      "  7%|▋         | 3271/48207 [16:29<3:51:08,  3.24it/s]"
     ]
    },
    {
     "name": "stdout",
     "output_type": "stream",
     "text": [
      "Warning: Audio file c:\\Users\\16148\\Desktop\\Projects\\bird_call_project\\Processed Recordings\\Baeolophus_bicolor_Miami_near__North_Bend_Hamilton_County_Ohio_542144_segment_20.wav is too short or silent. Skipping.\n"
     ]
    },
    {
     "name": "stderr",
     "output_type": "stream",
     "text": [
      "  7%|▋         | 3277/48207 [16:31<3:33:12,  3.51it/s]"
     ]
    },
    {
     "name": "stdout",
     "output_type": "stream",
     "text": [
      "Warning: Audio file c:\\Users\\16148\\Desktop\\Projects\\bird_call_project\\Processed Recordings\\Baeolophus_bicolor_Painesville_Lake_Ohio_138137_segment_5.wav is too short or silent. Skipping.\n"
     ]
    },
    {
     "name": "stderr",
     "output_type": "stream",
     "text": [
      "  7%|▋         | 3289/48207 [16:34<3:45:35,  3.32it/s]"
     ]
    },
    {
     "name": "stdout",
     "output_type": "stream",
     "text": [
      "Warning: Audio file c:\\Users\\16148\\Desktop\\Projects\\bird_call_project\\Processed Recordings\\Poecile_carolinensis_Harrison_Township_near__Harrison_Hamilton_County_Ohio_807462_segment_11.wav is too short or silent. Skipping.\n"
     ]
    },
    {
     "name": "stderr",
     "output_type": "stream",
     "text": [
      "  7%|▋         | 3309/48207 [16:40<3:44:20,  3.34it/s]"
     ]
    },
    {
     "name": "stdout",
     "output_type": "stream",
     "text": [
      "Warning: Audio file c:\\Users\\16148\\Desktop\\Projects\\bird_call_project\\Processed Recordings\\Poecile_carolinensis_Green_Township_near__Cincinnati_Hamilton_County_Ohio_779380_segment_19.wav is too short or silent. Skipping.\n"
     ]
    },
    {
     "name": "stderr",
     "output_type": "stream",
     "text": [
      "  7%|▋         | 3324/48207 [16:45<3:48:46,  3.27it/s]"
     ]
    },
    {
     "name": "stdout",
     "output_type": "stream",
     "text": [
      "Warning: Audio file c:\\Users\\16148\\Desktop\\Projects\\bird_call_project\\Processed Recordings\\Poecile_carolinensis_Lawrence_Woods_SNP_417998_segment_14.wav is too short or silent. Skipping.\n"
     ]
    },
    {
     "name": "stderr",
     "output_type": "stream",
     "text": [
      "  7%|▋         | 3331/48207 [16:47<3:40:19,  3.39it/s]"
     ]
    },
    {
     "name": "stdout",
     "output_type": "stream",
     "text": [
      "Warning: Audio file c:\\Users\\16148\\Desktop\\Projects\\bird_call_project\\Processed Recordings\\Poecile_carolinensis_Green_Township_near__Cincinnati_Hamilton_County_Ohio_726700_segment_6.wav is too short or silent. Skipping.\n"
     ]
    },
    {
     "name": "stderr",
     "output_type": "stream",
     "text": [
      "  7%|▋         | 3382/48207 [17:02<3:51:37,  3.23it/s]"
     ]
    },
    {
     "name": "stdout",
     "output_type": "stream",
     "text": [
      "Warning: Audio file c:\\Users\\16148\\Desktop\\Projects\\bird_call_project\\Processed Recordings\\Poecile_carolinensis_Miami_Township_near__North_Bend_Hamilton_County_Ohio_713595_segment_50.wav is too short or silent. Skipping.\n"
     ]
    },
    {
     "name": "stderr",
     "output_type": "stream",
     "text": [
      "  7%|▋         | 3387/48207 [17:04<3:28:52,  3.58it/s]"
     ]
    },
    {
     "name": "stdout",
     "output_type": "stream",
     "text": [
      "Warning: Audio file c:\\Users\\16148\\Desktop\\Projects\\bird_call_project\\Processed Recordings\\Poecile_carolinensis_Green_Township_near__Cincinnati_Hamilton_County_Ohio_673007_segment_4.wav is too short or silent. Skipping.\n"
     ]
    },
    {
     "name": "stderr",
     "output_type": "stream",
     "text": [
      "  7%|▋         | 3410/48207 [17:10<3:44:07,  3.33it/s]"
     ]
    },
    {
     "name": "stdout",
     "output_type": "stream",
     "text": [
      "Warning: Audio file c:\\Users\\16148\\Desktop\\Projects\\bird_call_project\\Processed Recordings\\Poecile_atricapillus_Swanton_Township_near__Swanton_Lucas_County_Ohio_939388_segment_7.wav is too short or silent. Skipping.\n"
     ]
    },
    {
     "name": "stderr",
     "output_type": "stream",
     "text": [
      "  7%|▋         | 3488/48207 [17:34<3:48:33,  3.26it/s]"
     ]
    }
   ],
   "source": []
  }
 ],
 "metadata": {
  "kernelspec": {
   "display_name": "dev",
   "language": "python",
   "name": "python3"
  },
  "language_info": {
   "codemirror_mode": {
    "name": "ipython",
    "version": 3
   },
   "file_extension": ".py",
   "mimetype": "text/x-python",
   "name": "python",
   "nbconvert_exporter": "python",
   "pygments_lexer": "ipython3",
   "version": "3.10.14"
  }
 },
 "nbformat": 4,
 "nbformat_minor": 2
}
