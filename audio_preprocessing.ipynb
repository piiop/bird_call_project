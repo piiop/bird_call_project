{
 "cells": [
  {
   "cell_type": "code",
   "execution_count": 28,
   "metadata": {},
   "outputs": [],
   "source": [
    "# Imports\n",
    "import os\n",
    "import random\n",
    "import logging\n",
    "import warnings\n",
    "import gc\n",
    "\n",
    "import numpy as np\n",
    "import pandas as pd\n",
    "from tqdm import tqdm\n",
    "\n",
    "\n",
    "# Data processing and scientific computing\n",
    "from scipy.io import wavfile\n",
    "from scipy.signal import butter, lfilter\n",
    "from scipy.spatial.distance import cosine\n",
    "\n",
    "# Audio processing\n",
    "import librosa\n",
    "import soundfile as sf\n",
    "\n",
    "# Visualization\n",
    "import matplotlib.pyplot as plt\n",
    "import plotly.express as px\n",
    "\n",
    "# Set up logging\n",
    "logging.basicConfig(level=logging.INFO)"
   ]
  },
  {
   "cell_type": "markdown",
   "metadata": {},
   "source": [
    "### Data Cleansing\n",
    "    - Remove low-quality or noisy recordings based on metadata if available, or by manually inspecting a few samples.\n",
    "\t    - It's a good idea to manually inspect some of the longer clips, especially outliers.\n",
    "\t    - - Listen for: a) Consistency of the bird call throughout the clip b) Presence of long periods of silence c) Sudden changes in background noise or environment\n",
    "\t\t- If you find issues, you might consider trimming these clips to the most relevant sections before segmenting.\n",
    "\t\t- - Definitely inspect a sample of low-rated files.\n",
    "\t\t- Listen for: a) Clarity of the bird call b) Signal-to-noise ratio (how clear the bird call is compared to background noise) c) Presence of distortions or artifacts\n",
    "\t\t- Consider setting a threshold for the quality rating, below which you might exclude files from your dataset.\n",
    "\t\t- Determining if a file is too \"noisy\":\n",
    "\n",
    "\t\t- This can be subjective, but here are some approaches: a) Signal-to-Noise Ratio (SNR): Calculate the SNR for each file. Files below a certain threshold could be considered too noisy. b) Spectral analysis: Look at the spectrogram. A very noisy file will have a lot of energy spread across all frequencies. c) Perceptual evaluation: Listen to a sample and rate them yourself. This can help you calibrate your automatic methods."
   ]
  },
  {
   "cell_type": "code",
   "execution_count": 29,
   "metadata": {},
   "outputs": [],
   "source": [
    "data = pd.read_csv('preprocessed_data.csv')"
   ]
  },
  {
   "cell_type": "code",
   "execution_count": 30,
   "metadata": {},
   "outputs": [
    {
     "data": {
      "text/plain": [
       "Index(['genus', 'species', 'latitude', 'longitude', 'quality', 'file_name',\n",
       "       'simplified_type', 'season', 'time_of_day', 'length_seconds'],\n",
       "      dtype='object')"
      ]
     },
     "execution_count": 30,
     "metadata": {},
     "output_type": "execute_result"
    }
   ],
   "source": [
    "data.columns"
   ]
  },
  {
   "cell_type": "code",
   "execution_count": 31,
   "metadata": {},
   "outputs": [
    {
     "data": {
      "text/plain": [
       "file_name\n",
       "Branta_canadensis_Whitewater_Township_near__Harrison_Hamilton_County_Ohio_726750.mp3                 1\n",
       "Molothrus_ater_Lawrence_Woods_SNP_417996.mp3                                                         1\n",
       "Agelaius_phoeniceus_Crosby_Township_near__Harrison_Hamilton_County_Ohio_482675.mp3                   1\n",
       "Agelaius_phoeniceus_Case_Farm_Gates_Mills_Ohio_98722.mp3                                             1\n",
       "Agelaius_phoeniceus_Ohio_Crane_Creek_SP_17011.mp3                                                    1\n",
       "                                                                                                    ..\n",
       "Tachycineta_bicolor_Pelee_Shuttle_Stop_near__Leamington_Essex_County_Ontario_477045.mp3              1\n",
       "Tachycineta_bicolor_Ohio_Crane_Creek_SP_17046.mp3                                                    1\n",
       "Progne_subis_Vermilion_River_Reservation:_Mill_Hollow_near__Vermilion_Erie_County_Ohio_784046.mp3    1\n",
       "Progne_subis_Ottawa_NWR_Lucas_County_Ohio_803616.mp3                                                 1\n",
       "Sonus_naturalis_Maumee_Bay_State_Park_Lucas_County_Ohio_821133.mp3                                   1\n",
       "Name: count, Length: 692, dtype: int64"
      ]
     },
     "execution_count": 31,
     "metadata": {},
     "output_type": "execute_result"
    }
   ],
   "source": [
    "data['file_name'].value_counts()"
   ]
  },
  {
   "cell_type": "markdown",
   "metadata": {},
   "source": [
    "### The metadata contains a column with a 'quality' rating. I'll manually examine those entries."
   ]
  },
  {
   "cell_type": "code",
   "execution_count": 32,
   "metadata": {},
   "outputs": [
    {
     "data": {
      "text/plain": [
       "quality\n",
       "A           274\n",
       "B           262\n",
       "C           116\n",
       "D            32\n",
       "E             4\n",
       "no score      4\n",
       "Name: count, dtype: int64"
      ]
     },
     "execution_count": 32,
     "metadata": {},
     "output_type": "execute_result"
    }
   ],
   "source": [
    "data['quality'].value_counts()"
   ]
  },
  {
   "cell_type": "code",
   "execution_count": 33,
   "metadata": {},
   "outputs": [
    {
     "data": {
      "text/html": [
       "<div>\n",
       "<style scoped>\n",
       "    .dataframe tbody tr th:only-of-type {\n",
       "        vertical-align: middle;\n",
       "    }\n",
       "\n",
       "    .dataframe tbody tr th {\n",
       "        vertical-align: top;\n",
       "    }\n",
       "\n",
       "    .dataframe thead th {\n",
       "        text-align: right;\n",
       "    }\n",
       "</style>\n",
       "<table border=\"1\" class=\"dataframe\">\n",
       "  <thead>\n",
       "    <tr style=\"text-align: right;\">\n",
       "      <th></th>\n",
       "      <th>genus</th>\n",
       "      <th>species</th>\n",
       "      <th>latitude</th>\n",
       "      <th>longitude</th>\n",
       "      <th>quality</th>\n",
       "      <th>file_name</th>\n",
       "      <th>simplified_type</th>\n",
       "      <th>season</th>\n",
       "      <th>time_of_day</th>\n",
       "      <th>length_seconds</th>\n",
       "    </tr>\n",
       "  </thead>\n",
       "  <tbody>\n",
       "    <tr>\n",
       "      <th>182</th>\n",
       "      <td>Vireo</td>\n",
       "      <td>bellii</td>\n",
       "      <td>39.20950</td>\n",
       "      <td>-84.78210</td>\n",
       "      <td>E</td>\n",
       "      <td>Vireo_bellii_Whitewater_Township_near__Harriso...</td>\n",
       "      <td>Song</td>\n",
       "      <td>Summer</td>\n",
       "      <td>Evening</td>\n",
       "      <td>3</td>\n",
       "    </tr>\n",
       "    <tr>\n",
       "      <th>197</th>\n",
       "      <td>Baeolophus</td>\n",
       "      <td>bicolor</td>\n",
       "      <td>40.94200</td>\n",
       "      <td>-81.52360</td>\n",
       "      <td>no score</td>\n",
       "      <td>Baeolophus_bicolor_Ohio_near__Akron_Summit_Cou...</td>\n",
       "      <td>Call</td>\n",
       "      <td>Summer</td>\n",
       "      <td>Morning</td>\n",
       "      <td>15</td>\n",
       "    </tr>\n",
       "    <tr>\n",
       "      <th>227</th>\n",
       "      <td>Tachycineta</td>\n",
       "      <td>bicolor</td>\n",
       "      <td>41.96820</td>\n",
       "      <td>-82.53050</td>\n",
       "      <td>no score</td>\n",
       "      <td>Tachycineta_bicolor_Pelee_near__Leamington_Ess...</td>\n",
       "      <td>Call</td>\n",
       "      <td>Spring</td>\n",
       "      <td>Morning</td>\n",
       "      <td>2</td>\n",
       "    </tr>\n",
       "    <tr>\n",
       "      <th>364</th>\n",
       "      <td>Spizella</td>\n",
       "      <td>passerina</td>\n",
       "      <td>41.93338</td>\n",
       "      <td>-83.54994</td>\n",
       "      <td>E</td>\n",
       "      <td>Spizella_passerina_Michigan_Monroe_County_1717...</td>\n",
       "      <td>Song</td>\n",
       "      <td>Summer</td>\n",
       "      <td>Unknown</td>\n",
       "      <td>28</td>\n",
       "    </tr>\n",
       "    <tr>\n",
       "      <th>365</th>\n",
       "      <td>Spizella</td>\n",
       "      <td>pusilla</td>\n",
       "      <td>39.88880</td>\n",
       "      <td>-82.79780</td>\n",
       "      <td>no score</td>\n",
       "      <td>Spizella_pusilla_Madison_Township_near__Canal_...</td>\n",
       "      <td>Song</td>\n",
       "      <td>Spring</td>\n",
       "      <td>Afternoon</td>\n",
       "      <td>20</td>\n",
       "    </tr>\n",
       "    <tr>\n",
       "      <th>395</th>\n",
       "      <td>Melospiza</td>\n",
       "      <td>melodia</td>\n",
       "      <td>41.93338</td>\n",
       "      <td>-83.54994</td>\n",
       "      <td>E</td>\n",
       "      <td>Melospiza_melodia_Michigan_Monroe_County_17143...</td>\n",
       "      <td>Song</td>\n",
       "      <td>Summer</td>\n",
       "      <td>Unknown</td>\n",
       "      <td>34</td>\n",
       "    </tr>\n",
       "    <tr>\n",
       "      <th>563</th>\n",
       "      <td>Geothlypis</td>\n",
       "      <td>trichas</td>\n",
       "      <td>41.18950</td>\n",
       "      <td>-81.57810</td>\n",
       "      <td>E</td>\n",
       "      <td>Geothlypis_trichas_Ohio_near__Peninsula_Summit...</td>\n",
       "      <td>Song</td>\n",
       "      <td>Summer</td>\n",
       "      <td>Morning</td>\n",
       "      <td>30</td>\n",
       "    </tr>\n",
       "    <tr>\n",
       "      <th>687</th>\n",
       "      <td>Sonus</td>\n",
       "      <td>naturalis</td>\n",
       "      <td>41.43300</td>\n",
       "      <td>-81.41800</td>\n",
       "      <td>no score</td>\n",
       "      <td>Sonus_naturalis_Chagrin_Falls_Township_near__M...</td>\n",
       "      <td>Song</td>\n",
       "      <td>Spring</td>\n",
       "      <td>Afternoon</td>\n",
       "      <td>28</td>\n",
       "    </tr>\n",
       "  </tbody>\n",
       "</table>\n",
       "</div>"
      ],
      "text/plain": [
       "           genus    species  latitude  longitude   quality  \\\n",
       "182        Vireo     bellii  39.20950  -84.78210         E   \n",
       "197   Baeolophus    bicolor  40.94200  -81.52360  no score   \n",
       "227  Tachycineta    bicolor  41.96820  -82.53050  no score   \n",
       "364     Spizella  passerina  41.93338  -83.54994         E   \n",
       "365     Spizella    pusilla  39.88880  -82.79780  no score   \n",
       "395    Melospiza    melodia  41.93338  -83.54994         E   \n",
       "563   Geothlypis    trichas  41.18950  -81.57810         E   \n",
       "687        Sonus  naturalis  41.43300  -81.41800  no score   \n",
       "\n",
       "                                             file_name simplified_type  \\\n",
       "182  Vireo_bellii_Whitewater_Township_near__Harriso...            Song   \n",
       "197  Baeolophus_bicolor_Ohio_near__Akron_Summit_Cou...            Call   \n",
       "227  Tachycineta_bicolor_Pelee_near__Leamington_Ess...            Call   \n",
       "364  Spizella_passerina_Michigan_Monroe_County_1717...            Song   \n",
       "365  Spizella_pusilla_Madison_Township_near__Canal_...            Song   \n",
       "395  Melospiza_melodia_Michigan_Monroe_County_17143...            Song   \n",
       "563  Geothlypis_trichas_Ohio_near__Peninsula_Summit...            Song   \n",
       "687  Sonus_naturalis_Chagrin_Falls_Township_near__M...            Song   \n",
       "\n",
       "     season time_of_day  length_seconds  \n",
       "182  Summer     Evening               3  \n",
       "197  Summer     Morning              15  \n",
       "227  Spring     Morning               2  \n",
       "364  Summer     Unknown              28  \n",
       "365  Spring   Afternoon              20  \n",
       "395  Summer     Unknown              34  \n",
       "563  Summer     Morning              30  \n",
       "687  Spring   Afternoon              28  "
      ]
     },
     "metadata": {},
     "output_type": "display_data"
    }
   ],
   "source": [
    "\n",
    "low_quality_files = data[(data['quality'] == 'E') | (data['quality'] == 'no score')]\n",
    "display(low_quality_files)"
   ]
  },
  {
   "cell_type": "markdown",
   "metadata": {},
   "source": [
    "### Convert mp3 to wav"
   ]
  },
  {
   "cell_type": "code",
   "execution_count": 34,
   "metadata": {},
   "outputs": [],
   "source": [
    "def convert_mp3_to_wav(mp3_path, wav_path):\n",
    "    \"\"\"\n",
    "    Convert an MP3 file to WAV format using librosa and soundfile.\n",
    "    \n",
    "    Args:\n",
    "    mp3_path (str): Path to the input MP3 file\n",
    "    wav_path (str): Path to save the output WAV file\n",
    "    \n",
    "    Returns:\n",
    "    str: Path to the created WAV file\n",
    "    \n",
    "    Raises:\n",
    "    FileNotFoundError: If the input MP3 file is not found\n",
    "    \"\"\"\n",
    "    if not os.path.exists(mp3_path):\n",
    "        raise FileNotFoundError(f\"MP3 file not found: {mp3_path}\")\n",
    "    \n",
    "    # Load the mp3 file\n",
    "    audio, sr = librosa.load(mp3_path, sr=None, mono=False)\n",
    "    \n",
    "    # Save as wav\n",
    "    sf.write(wav_path, audio.T, sr)\n",
    "    \n",
    "    return wav_path\n",
    "\n",
    "def batch_convert_to_wav(data, input_dir, output_dir):\n",
    "    \"\"\"\n",
    "    Convert all MP3 files in the dataset to WAV format.\n",
    "    \n",
    "    Args:\n",
    "    data (pd.DataFrame): DataFrame containing file information\n",
    "    input_dir (str): Directory containing the input MP3 files\n",
    "    output_dir (str): Directory to save the output WAV files\n",
    "    \n",
    "    Returns:\n",
    "    tuple: (pd.DataFrame, list) Updated DataFrame with new file paths and list of files not found\n",
    "    \"\"\"\n",
    "    os.makedirs(output_dir, exist_ok=True)\n",
    "    \n",
    "    new_data = data.copy()\n",
    "    files_not_found = []\n",
    "    \n",
    "    for index, row in new_data.iterrows():\n",
    "        mp3_path = os.path.join(input_dir, row['file_name'])\n",
    "        wav_filename = os.path.splitext(row['file_name'])[0] + '.wav'\n",
    "        wav_path = os.path.join(output_dir, wav_filename)\n",
    "        \n",
    "        try:\n",
    "            convert_mp3_to_wav(mp3_path, wav_path)\n",
    "            new_data.at[index, 'file_name'] = wav_filename\n",
    "        except FileNotFoundError:\n",
    "            files_not_found.append(row['file_name'])\n",
    "            new_data = new_data.drop(index)\n",
    "    \n",
    "    return new_data.reset_index(drop=True), files_not_found"
   ]
  },
  {
   "cell_type": "code",
   "execution_count": 35,
   "metadata": {},
   "outputs": [
    {
     "name": "stdout",
     "output_type": "stream",
     "text": [
      "Converting MP3 files to WAV...\n",
      "Conversion complete. 691 files converted.\n",
      "WAV files saved in: Converted Recordings\n",
      "Number of files not found: 1\n",
      "List of files not found:\n",
      "['Colaptes_auratus_Miami_Township_near__North_Bend_Hamilton_County_Ohio_713588.mp3']\n"
     ]
    }
   ],
   "source": [
    "original_dir = 'Original Recordings'\n",
    "converted_dir = 'Converted Recordings'\n",
    "\n",
    "# Convert the MP3 files to WAV\n",
    "print(\"Converting MP3 files to WAV...\")\n",
    "converted_data, missing_files = batch_convert_to_wav(data, original_dir, converted_dir)\n",
    "\n",
    "# Print summary\n",
    "print(f\"Conversion complete. {len(converted_data)} files converted.\")\n",
    "print(f\"WAV files saved in: {converted_dir}\")\n",
    "print(f\"Number of files not found: {len(missing_files)}\")\n",
    "\n",
    "# If you want to examine the list of missing files\n",
    "print(\"List of files not found:\")\n",
    "print(missing_files)"
   ]
  },
  {
   "cell_type": "code",
   "execution_count": 36,
   "metadata": {},
   "outputs": [
    {
     "data": {
      "text/plain": [
       "file_name\n",
       "Branta_canadensis_Whitewater_Township_near__Harrison_Hamilton_County_Ohio_726750.wav                 1\n",
       "Molothrus_ater_Lawrence_Woods_SNP_417996.wav                                                         1\n",
       "Agelaius_phoeniceus_Crosby_Township_near__Harrison_Hamilton_County_Ohio_482675.wav                   1\n",
       "Agelaius_phoeniceus_Case_Farm_Gates_Mills_Ohio_98722.wav                                             1\n",
       "Agelaius_phoeniceus_Ohio_Crane_Creek_SP_17011.wav                                                    1\n",
       "                                                                                                    ..\n",
       "Tachycineta_bicolor_Ohio_Crane_Creek_SP_17046.wav                                                    1\n",
       "Progne_subis_Vermilion_River_Reservation:_Mill_Hollow_near__Vermilion_Erie_County_Ohio_784046.wav    1\n",
       "Progne_subis_Ottawa_NWR_Lucas_County_Ohio_803616.wav                                                 1\n",
       "Progne_subis_Magee_Marsh_Ohio_164751.wav                                                             1\n",
       "Sonus_naturalis_Maumee_Bay_State_Park_Lucas_County_Ohio_821133.wav                                   1\n",
       "Name: count, Length: 691, dtype: int64"
      ]
     },
     "execution_count": 36,
     "metadata": {},
     "output_type": "execute_result"
    }
   ],
   "source": [
    "converted_data['file_name'].value_counts()"
   ]
  },
  {
   "cell_type": "markdown",
   "metadata": {},
   "source": [
    "\"\"\"\n",
    "Audio Cleaning Functions\n",
    "\n",
    "These functions collectively clean an audio file by:\n",
    "1. Calculating its signal-to-noise ratio (SNR) and filtering out audio that is too noisy.\n",
    "2. Detecting and trimming long silences from the audio.\n",
    "3. Checking for spectral spread, which is an indicator of unwanted noise or anomalies.\n",
    "\n",
    "Main function:\n",
    "- `clean_audio`: Uses `is_too_noisy`, `has_long_silence`, and `check_spectral_spread` to decide if an audio file is suitable for further processing.\n",
    "\"\"\"\n",
    "\n",
    "- **Feature Extraction with Librosa**:\n",
    "    - Extract features like **Mel-spectrograms** and **MFCCs** from each audio file. These features are effective for audio classification tasks.\n",
    "    - Store these features as images (for CNN input) or numerical arrays (for models like Random Forest or RNNs).\n",
    "\n",
    "    - **Audio Standardization**:\n",
    "    - Convert all files to a consistent format (e.g., 16-bit WAV, mono-channel, and a sampling rate like 16 kHz).\n",
    "- **Clip Standardization**:\n",
    "    - Trim or pad each audio clip to a standard duration (e.g., 5 seconds), so all inputs have the same shape."
   ]
  },
  {
   "cell_type": "markdown",
   "metadata": {},
   "source": [
    "### Start with resampling so every file has the same sample rate"
   ]
  },
  {
   "cell_type": "code",
   "execution_count": 37,
   "metadata": {},
   "outputs": [],
   "source": [
    "# Define global variable\n",
    "# Define sample rate\n",
    "sr = 44100"
   ]
  },
  {
   "cell_type": "code",
   "execution_count": 38,
   "metadata": {},
   "outputs": [
    {
     "name": "stdout",
     "output_type": "stream",
     "text": [
      "Resampling process complete.\n",
      "Total files checked: 690\n",
      "Files resampled: 311\n"
     ]
    }
   ],
   "source": [
    "\n",
    "def resample_audio(file_path, target_sr=sr):\n",
    "    try:\n",
    "        # Load the audio file\n",
    "        audio, sr = librosa.load(file_path, sr=None)\n",
    "        \n",
    "        # Resample if necessary\n",
    "        if sr != target_sr:\n",
    "            audio = librosa.resample(y=audio, orig_sr=sr, target_sr=target_sr)\n",
    "            \n",
    "            # Overwrite the original file\n",
    "            sf.write(file_path, audio, target_sr)\n",
    "            \n",
    "            return True  # Indicate that resampling was performed\n",
    "        else:\n",
    "            return False  # Indicate that no resampling was needed\n",
    "    except Exception as e:\n",
    "        logging.error(f\"Error processing {file_path}: {str(e)}\")\n",
    "        return None\n",
    "\n",
    "def resample_all_files(directory='Converted Recordings', target_sr=44100):\n",
    "    total_files = 0\n",
    "    resampled_files = 0\n",
    "    error_files = 0\n",
    "    \n",
    "    # Iterate through all files in the directory\n",
    "    for filename in os.listdir(directory):\n",
    "        if filename.endswith('.wav'):  # Assuming we're only processing .wav files\n",
    "            total_files += 1\n",
    "            file_path = os.path.join(directory, filename)\n",
    "            result = resample_audio(file_path, target_sr)\n",
    "            if result is True:\n",
    "                resampled_files += 1\n",
    "            elif result is None:\n",
    "                error_files += 1\n",
    "    \n",
    "    print(f\"Resampling process complete.\")\n",
    "    print(f\"Total files checked: {total_files}\")\n",
    "    print(f\"Files resampled: {resampled_files}\")\n",
    "    if error_files > 0:\n",
    "        print(f\"Files with errors: {error_files}\")\n",
    "\n",
    "# Usage\n",
    "logging.basicConfig(level=logging.ERROR)  # Only log errors\n",
    "resample_all_files('Converted Recordings')"
   ]
  },
  {
   "cell_type": "code",
   "execution_count": 39,
   "metadata": {},
   "outputs": [],
   "source": [
    "def calculate_snr(audio):\n",
    "    \"\"\"Calculate the signal-to-noise ratio of an audio clip.\"\"\"\n",
    "    signal = np.mean(audio**2)\n",
    "    noise = np.mean((audio - np.mean(audio))**2)\n",
    "    snr = 10 * np.log10(signal / noise)\n",
    "    return snr\n",
    "\n",
    "def is_too_noisy(audio, sr, threshold=-20):\n",
    "    \"\"\"Check if audio is too noisy based on its SNR.\"\"\"\n",
    "    snr = calculate_snr(audio)\n",
    "    return snr < threshold\n",
    "\n",
    "def has_long_silence(audio, sr, silence_threshold=-60, min_silence_duration=1.0):\n",
    "    \"\"\"Detects long silences within the audio clip.\"\"\"\n",
    "    intervals = librosa.effects.split(audio, top_db=-silence_threshold)\n",
    "    if len(intervals) > 1:\n",
    "        silence_durations = np.diff(intervals.ravel())[1::2] / sr\n",
    "        return np.any(silence_durations >= min_silence_duration)\n",
    "    return False\n",
    "\n",
    "def check_spectral_spread(audio, sr, threshold=0.8):\n",
    "    \"\"\"Check if the spectral spread exceeds the specified threshold.\"\"\"\n",
    "    spec = np.abs(librosa.stft(audio))\n",
    "    spectral_spread = np.sum(spec > np.mean(spec)) / spec.size\n",
    "    return spectral_spread > threshold\n",
    "\n",
    "def clean_audio(audio, sr, file_path, shared_discarded_files):\n",
    "    \"\"\"Cleans an audio file by removing noise, silence, and checking for spectral spread.\"\"\"\n",
    "    # Get file name for logging\n",
    "    file_name = os.path.basename(file_path)\n",
    "\n",
    "    # Check noise level\n",
    "    if is_too_noisy(audio, sr):\n",
    "        shared_discarded_files.append({'file_path': file_path, 'reason': 'too_noisy', 'snr': calculate_snr(audio)})\n",
    "        return None\n",
    "    \n",
    "    # Check for long silences\n",
    "    if has_long_silence(audio, sr):\n",
    "        audio = librosa.effects.trim(audio, top_db=20)[0]\n",
    "    \n",
    "    # Check spectral spread\n",
    "    if check_spectral_spread(audio, sr):\n",
    "        shared_discarded_files.append({'file_path': file_path, 'reason': 'bad_spectral_spread'})\n",
    "        return None\n",
    "    \n",
    "    return audio"
   ]
  },
  {
   "cell_type": "markdown",
   "metadata": {},
   "source": [
    "### Testing the functions on a single file"
   ]
  },
  {
   "cell_type": "code",
   "execution_count": 40,
   "metadata": {},
   "outputs": [
    {
     "name": "stdout",
     "output_type": "stream",
     "text": [
      "calculate_snr completed. SNR: 3.106315205059218e-06\n",
      "is_too_noisy completed. Result: False\n",
      "has_long_silence completed. Result: False\n",
      "check_spectral_spread completed. Result: False\n",
      "clean_audio completed. Cleaned audio returned: Yes\n",
      "\n",
      "Tested file: Converted Recordings\\Seiurus_aurocapilla_Harrison_Township_near__Harrison_Hamilton_County_Ohio_726815.wav\n"
     ]
    }
   ],
   "source": [
    "\n",
    "\n",
    "# Choose a random file\n",
    "random_file = random.choice(converted_data['file_name'].tolist())\n",
    "file_path = os.path.join('Converted Recordings', random_file)\n",
    "\n",
    "# Load the audio file\n",
    "audio, _ = librosa.load(file_path, sr=sr)\n",
    "\n",
    "# Test calculate_snr function\n",
    "snr = calculate_snr(audio)\n",
    "print(f\"calculate_snr completed. SNR: {snr}\")\n",
    "\n",
    "# Test is_too_noisy function\n",
    "too_noisy = is_too_noisy(audio, sr)\n",
    "print(f\"is_too_noisy completed. Result: {too_noisy}\")\n",
    "\n",
    "# Test has_long_silence function\n",
    "long_silence = has_long_silence(audio, sr)\n",
    "print(f\"has_long_silence completed. Result: {long_silence}\")\n",
    "\n",
    "# Test check_spectral_spread function\n",
    "spectral_spread = check_spectral_spread(audio, sr)\n",
    "print(f\"check_spectral_spread completed. Result: {spectral_spread}\")\n",
    "\n",
    "# Test clean_audio function\n",
    "shared_discarded_files = []\n",
    "cleaned_audio = clean_audio(audio, sr, file_path, shared_discarded_files)\n",
    "print(f\"clean_audio completed. Cleaned audio returned: {'Yes' if cleaned_audio is not None else 'No'}\")\n",
    "if shared_discarded_files:\n",
    "    print(f\"File discarded. Reason: {shared_discarded_files[0]['reason']}\")\n",
    "\n",
    "print(f\"\\nTested file: {file_path}\")"
   ]
  },
  {
   "cell_type": "markdown",
   "metadata": {},
   "source": [
    "### Test duplication functions two files"
   ]
  },
  {
   "cell_type": "code",
   "execution_count": 41,
   "metadata": {},
   "outputs": [],
   "source": [
    "def get_audio_fingerprint(audio, sr):\n",
    "    n_fft = min(2048, len(audio))\n",
    "    mfccs = librosa.feature.mfcc(y=audio, sr=sr, n_mfcc=13, n_fft=n_fft)\n",
    "    return np.mean(mfccs, axis=1)\n",
    "\n",
    "def are_near_duplicates(audio1, sr1, audio2, sr2, threshold=0.99):\n",
    "    if len(audio1) == 0 or len(audio2) == 0:\n",
    "        raise ValueError(\"One or both audio files are empty\")\n",
    "    \n",
    "    if sr1 != sr2:\n",
    "        print(f\"Warning: Sample rates differ ({sr1} vs {sr2}). Resampling may be necessary.\")\n",
    "    \n",
    "    fp1 = get_audio_fingerprint(audio1, sr1)\n",
    "    fp2 = get_audio_fingerprint(audio2, sr2)\n",
    "    \n",
    "    if len(fp1) != len(fp2):\n",
    "        raise ValueError(\"Fingerprints have different lengths\")\n",
    "    \n",
    "    similarity = 1 - cosine(fp1, fp2)\n",
    "    return similarity > threshold\n",
    "\n",
    "def check_audio_duplicates(file_path, shared_duplicates, shared_discarded_files):\n",
    "    try:\n",
    "        # Load the audio\n",
    "        audio, sr = librosa.load(file_path, sr=None)\n",
    "        \n",
    "        # Check for duplicates\n",
    "        for existing_audio, existing_sr, existing_path in shared_duplicates:\n",
    "            if are_near_duplicates(audio, sr, existing_audio, existing_sr):\n",
    "                shared_discarded_files.append((file_path, 'duplicate'))\n",
    "                return True  # It's a duplicate\n",
    "\n",
    "        # If not a duplicate, store the audio and path\n",
    "        shared_duplicates.append((audio, sr, file_path))\n",
    "        return False  # It's not a duplicate\n",
    "    except Exception as e:\n",
    "        logging.error(f\"Error checking duplicates for {file_path}: {str(e)}\")\n",
    "        shared_discarded_files.append((file_path, f'error: {str(e)}'))\n",
    "        return None  # Error occurred\n",
    "\n",
    "def check_and_remove_duplicates(directory='Converted Recordings'):\n",
    "    shared_duplicates = []\n",
    "    shared_discarded_files = []\n",
    "    duplicate_files = []\n",
    "    total_files = 0\n",
    "\n",
    "    # Check each file in the directory for duplicates\n",
    "    for filename in os.listdir(directory):\n",
    "        if filename.endswith('.wav'):  # We're only processing .wav files\n",
    "            total_files += 1\n",
    "            file_path = os.path.join(directory, filename)\n",
    "            is_duplicate = check_audio_duplicates(file_path, shared_duplicates, shared_discarded_files)\n",
    "            if is_duplicate:\n",
    "                duplicate_files.append(file_path)\n",
    "\n",
    "    # Log the results\n",
    "    print(f\"Total files checked: {total_files}\")\n",
    "    print(f\"Duplicate files found: {len(duplicate_files)}\")\n",
    "\n",
    "    return duplicate_files, shared_discarded_files"
   ]
  },
  {
   "cell_type": "code",
   "execution_count": 42,
   "metadata": {},
   "outputs": [
    {
     "name": "stdout",
     "output_type": "stream",
     "text": [
      "Testing get_audio_fingerprint function:\n",
      "get_audio_fingerprint completed for file 1.\n",
      "Fingerprint shape: (13,)\n",
      "Fingerprint: [-194.76187     25.622248   -87.731834    -7.9267206  -63.76198\n",
      "    8.275128   -33.10199      0.3410505  -13.293927     7.948691\n",
      "  -19.451895    11.750947   -15.6804   ]\n",
      "get_audio_fingerprint completed for file 2.\n",
      "Fingerprint shape: (13,)\n",
      "Fingerprint: [-452.56787     27.380762   -39.31577     29.709993   -30.696817\n",
      "   14.658574   -14.498728    24.686388   -19.306725    13.313702\n",
      "  -16.165934     3.8901782  -13.098337 ]\n",
      "\n",
      "Testing are_near_duplicates function:\n",
      "Threshold: 0.95\n",
      "Similarity score: 0.9072393741953134\n",
      "Result: The two files are not near duplicates.\n",
      "Threshold: 0.99\n",
      "Similarity score: 0.9072393741953134\n",
      "Result: The two files are not near duplicates.\n",
      "Threshold: 0.999\n",
      "Similarity score: 0.9072393741953134\n",
      "Result: The two files are not near duplicates.\n",
      "\n",
      "Tested files:\n",
      "File 1: Converted Recordings\\Baeolophus_bicolor_Beachwood_Cuyahoga_County_Ohio_287345.wav\n",
      "File 2: Converted Recordings\\Spiza_americana_Battelle_Darby_Metro_Park--Grain_Elevator_Wetlands_near_parking_area_105816.wav\n"
     ]
    }
   ],
   "source": [
    "### Check duplicate checking functions on two files\n",
    "\n",
    "# Define sample rate\n",
    "sr = 44100\n",
    "\n",
    "# Choose two random files\n",
    "random_files = random.sample(converted_data['file_name'].tolist(), 2)\n",
    "file_paths = [os.path.join('Converted Recordings', file) for file in random_files]\n",
    "\n",
    "# Load the audio files\n",
    "audio1, _ = librosa.load(file_paths[0], sr=sr)\n",
    "audio2, _ = librosa.load(file_paths[1], sr=sr)\n",
    "\n",
    "# Test get_audio_fingerprint function\n",
    "print(\"Testing get_audio_fingerprint function:\")\n",
    "fingerprint1 = get_audio_fingerprint(audio1, sr)\n",
    "print(f\"get_audio_fingerprint completed for file 1.\")\n",
    "print(f\"Fingerprint shape: {fingerprint1.shape}\")\n",
    "print(f\"Fingerprint: {fingerprint1}\")\n",
    "\n",
    "fingerprint2 = get_audio_fingerprint(audio2, sr)\n",
    "print(f\"get_audio_fingerprint completed for file 2.\")\n",
    "print(f\"Fingerprint shape: {fingerprint2.shape}\")\n",
    "print(f\"Fingerprint: {fingerprint2}\")\n",
    "\n",
    "# Test are_near_duplicates function with different thresholds\n",
    "print(\"\\nTesting are_near_duplicates function:\")\n",
    "thresholds = [0.95, 0.99, 0.999]\n",
    "for threshold in thresholds:\n",
    "    try:\n",
    "        similarity = 1 - cosine(fingerprint1, fingerprint2)\n",
    "        are_duplicates = similarity > threshold\n",
    "        print(f\"Threshold: {threshold}\")\n",
    "        print(f\"Similarity score: {similarity}\")\n",
    "        print(f\"Result: The two files are {'near duplicates' if are_duplicates else 'not near duplicates'}.\")\n",
    "    except ValueError as e:\n",
    "        print(f\"Error occurred: {str(e)}\")\n",
    "\n",
    "print(f\"\\nTested files:\")\n",
    "print(f\"File 1: {file_paths[0]}\")\n",
    "print(f\"File 2: {file_paths[1]}\")"
   ]
  },
  {
   "cell_type": "code",
   "execution_count": 43,
   "metadata": {},
   "outputs": [],
   "source": [
    "# # Apply duplicate checking to all files\n",
    "# logging.basicConfig(level=logging.INFO)\n",
    "# duplicates, discarded_files = check_and_remove_duplicates('Converted Recordings')\n",
    "\n",
    "# print(f\"Duplicate files found: {len(duplicates)}\")\n",
    "# print(\"List of duplicate files:\")\n",
    "# for file in duplicates:\n",
    "#     print(file)\n",
    "\n",
    "# print(f\"\\nTotal discarded files: {len(discarded_files)}\")\n",
    "# print(\"List of discarded files and reasons:\")\n",
    "# for file, reason in discarded_files:\n",
    "#     print(f\"{file}: {reason}\")"
   ]
  },
  {
   "cell_type": "code",
   "execution_count": 44,
   "metadata": {},
   "outputs": [],
   "source": [
    "def process_audio(file_path, shared_discarded_files, target_length=5, overlap=0.5, target_sr=44100):\n",
    "    print(f\"Processing file: {file_path}\")  # For process_audio\n",
    "    try:\n",
    "        # Load and clean the audio\n",
    "        audio, sr = librosa.load(file_path, sr=None)\n",
    "        audio = clean_audio(audio, sr, file_path, shared_discarded_files)\n",
    "        if audio is None:\n",
    "            return None, None\n",
    "        \n",
    "        # Check if audio is shorter than 4410 samples (100ms at 44.1kHz)\n",
    "        if len(audio) < 4410:\n",
    "            shared_discarded_files.append((file_path, 'too_short'))\n",
    "            return None, None\n",
    "            \n",
    "        # Convert target_length to samples\n",
    "        target_samples = int(sr * target_length)\n",
    "        \n",
    "        # If audio is shorter than target length, pad with zeros\n",
    "        if len(audio) < target_samples:\n",
    "            audio = np.pad(audio, (0, target_samples - len(audio)))\n",
    "        \n",
    "        # If audio is longer than target length, segment with overlap\n",
    "        else:\n",
    "            segments = []\n",
    "            for start in range(0, len(audio), int(target_samples * (1 - overlap))):\n",
    "                segment = audio[start:start + target_samples]\n",
    "                if len(segment) == target_samples:\n",
    "                    segments.append(segment)\n",
    "                elif len(segment) > 0:\n",
    "                    segment = np.pad(segment, (0, target_samples - len(segment)))\n",
    "                    segments.append(segment)\n",
    "            audio = np.array(segments)\n",
    "\n",
    "            # Final check and padding for all segments\n",
    "        if len(audio.shape) == 1:  # Single segment\n",
    "            if len(audio) < target_samples:\n",
    "                audio = np.pad(audio, (0, target_samples - len(audio)))\n",
    "            elif len(audio) > target_samples:\n",
    "                audio = audio[:target_samples]\n",
    "        else:  # Multiple segments\n",
    "            padded_segments = []\n",
    "            for segment in audio:\n",
    "                if len(segment) < target_samples:\n",
    "                    segment = np.pad(segment, (0, target_samples - len(segment)))\n",
    "                elif len(segment) > target_samples:\n",
    "                    segment = segment[:target_samples]\n",
    "                padded_segments.append(segment)\n",
    "            audio = np.array(padded_segments)\n",
    "\n",
    "        return audio, sr\n",
    "    except Exception as e:\n",
    "        logging.error(f\"Error processing {file_path}: {str(e)}\")\n",
    "        shared_discarded_files.append((file_path, f'error: {str(e)}'))\n",
    "        return None, None\n"
   ]
  },
  {
   "cell_type": "code",
   "execution_count": 45,
   "metadata": {},
   "outputs": [],
   "source": [
    "def process_file(args):\n",
    "    row, audio_dir, output_dir, shared_discarded_files = args\n",
    "    file_path = os.path.join(audio_dir, row['file_name'])\n",
    "    \n",
    "    if not os.path.exists(file_path):\n",
    "        logging.warning(f\"File not found: {file_path}\")\n",
    "        return None\n",
    "    \n",
    "    processed_audio, sr = process_audio(file_path, shared_discarded_files)\n",
    "    if processed_audio is None:\n",
    "        return None\n",
    "    \n",
    "    processed_data = []\n",
    "    if processed_audio.ndim == 2:\n",
    "        for i, segment in enumerate(processed_audio):\n",
    "            new_row = row.copy()\n",
    "            base_filename = f\"{os.path.splitext(row['file_name'])[0]}_segment_{i}\"\n",
    "            new_row['processed_file'] = f\"{base_filename}.wav\"\n",
    "            wavfile.write(os.path.join(output_dir, new_row['processed_file']), sr, segment)\n",
    "            processed_data.append(new_row)\n",
    "    else:\n",
    "        base_filename = f\"{os.path.splitext(row['file_name'])[0]}_processed\"\n",
    "        row['processed_file'] = f\"{base_filename}.wav\"\n",
    "        wavfile.write(os.path.join(output_dir, row['processed_file']), sr, processed_audio)\n",
    "        processed_data.append(row)\n",
    "    \n",
    "    return processed_data\n"
   ]
  },
  {
   "cell_type": "code",
   "execution_count": 46,
   "metadata": {},
   "outputs": [],
   "source": [
    "def process_dataset(converted_data, audio_dir, output_dir):\n",
    "    manager = multiprocessing.Manager()\n",
    "    shared_discarded_files = manager.list()\n",
    "    \n",
    "    print(f\"Audio directory: {audio_dir}, Output directory: {output_dir}\")\n",
    "    results = []\n",
    "    \n",
    "    for _, row in converted_data.iterrows():\n",
    "        results.append(process_file((row, audio_dir, output_dir, shared_discarded_files)))\n",
    "    \n",
    "    processed_data = [item for sublist in results if sublist is not None for item in sublist]\n",
    "\n",
    "    # Save discarded files to a DataFrame and export as CSV\n",
    "    discard_log_df = pd.DataFrame(list(shared_discarded_files), columns=['file_path', 'reason'])\n",
    "    discard_log_df.to_csv('discarded_audio_log.csv', index=False)\n",
    "\n",
    "    return pd.DataFrame(processed_data)"
   ]
  },
  {
   "cell_type": "code",
   "execution_count": 47,
   "metadata": {},
   "outputs": [
    {
     "name": "stdout",
     "output_type": "stream",
     "text": [
      "Testing audio processing on file: Pooecetes_gramineus_Michigan_Monroe_County_17154.wav\n",
      "Processing file: Converted Recordings\\Pooecetes_gramineus_Michigan_Monroe_County_17154.wav\n",
      "Audio processed successfully.\n",
      "Processed audio shape: (7, 220500)\n",
      "Sample rate: 44100\n",
      "Processing file: Converted Recordings\\Pooecetes_gramineus_Michigan_Monroe_County_17154.wav\n",
      "\n",
      "Processed data:\n",
      "Processed file: Pooecetes_gramineus_Michigan_Monroe_County_17154_segment_0.wav\n",
      "Processed file: Pooecetes_gramineus_Michigan_Monroe_County_17154_segment_1.wav\n",
      "Processed file: Pooecetes_gramineus_Michigan_Monroe_County_17154_segment_2.wav\n",
      "Processed file: Pooecetes_gramineus_Michigan_Monroe_County_17154_segment_3.wav\n",
      "Processed file: Pooecetes_gramineus_Michigan_Monroe_County_17154_segment_4.wav\n",
      "Processed file: Pooecetes_gramineus_Michigan_Monroe_County_17154_segment_5.wav\n",
      "Processed file: Pooecetes_gramineus_Michigan_Monroe_County_17154_segment_6.wav\n",
      "Number of segments: 7\n",
      "Output file created: Test\\Pooecetes_gramineus_Michigan_Monroe_County_17154_segment_0.wav\n",
      "Output audio duration: 5.00 seconds\n",
      "Output file created: Test\\Pooecetes_gramineus_Michigan_Monroe_County_17154_segment_1.wav\n",
      "Output audio duration: 5.00 seconds\n",
      "Output file created: Test\\Pooecetes_gramineus_Michigan_Monroe_County_17154_segment_2.wav\n",
      "Output audio duration: 5.00 seconds\n",
      "Output file created: Test\\Pooecetes_gramineus_Michigan_Monroe_County_17154_segment_3.wav\n",
      "Output audio duration: 5.00 seconds\n",
      "Output file created: Test\\Pooecetes_gramineus_Michigan_Monroe_County_17154_segment_4.wav\n",
      "Output audio duration: 5.00 seconds\n",
      "Output file created: Test\\Pooecetes_gramineus_Michigan_Monroe_County_17154_segment_5.wav\n",
      "Output audio duration: 5.00 seconds\n",
      "Output file created: Test\\Pooecetes_gramineus_Michigan_Monroe_County_17154_segment_6.wav\n",
      "Output audio duration: 5.00 seconds\n",
      "\n",
      "Audio processing test complete.\n",
      "\n",
      "No files were discarded.\n"
     ]
    }
   ],
   "source": [
    "## Testing audio processing functions on a single file\n",
    "\n",
    "# Select a random file\n",
    "random_file = random.choice(converted_data['file_name'])\n",
    "file_path = os.path.join('Converted Recordings', random_file)\n",
    "\n",
    "print(f\"Testing audio processing on file: {random_file}\")\n",
    "\n",
    "# Create a dummy row for testing\n",
    "test_row = pd.Series({'file_name': random_file})\n",
    "\n",
    "# Create necessary directories\n",
    "output_dir = 'Test'\n",
    "os.makedirs(output_dir, exist_ok=True)\n",
    "\n",
    "# Create a dummy shared_discarded_files list\n",
    "shared_discarded_files = []\n",
    "\n",
    "# Process the audio file\n",
    "processed_audio, sr = process_audio(file_path, shared_discarded_files)\n",
    "\n",
    "if processed_audio is not None:\n",
    "    print(f\"Audio processed successfully.\")\n",
    "    print(f\"Processed audio shape: {processed_audio.shape}\")\n",
    "    print(f\"Sample rate: {sr}\")\n",
    "\n",
    "    # Simulate the process_file function\n",
    "    args = (test_row, 'Converted Recordings', output_dir, shared_discarded_files)\n",
    "    processed_data = process_file(args)\n",
    "\n",
    "    if processed_data is not None:\n",
    "        print(\"\\nProcessed data:\")\n",
    "        for item in processed_data:\n",
    "            print(f\"Processed file: {item['processed_file']}\")\n",
    "        print(f\"Number of segments: {len(processed_data)}\")\n",
    "\n",
    "        # Verify the output files\n",
    "        for item in processed_data:\n",
    "            output_file = os.path.join(output_dir, item['processed_file'])\n",
    "            if os.path.exists(output_file):\n",
    "                print(f\"Output file created: {output_file}\")\n",
    "                # Load and print some information about the output file\n",
    "                audio, sr = librosa.load(output_file, sr=None)\n",
    "                print(f\"Output audio duration: {librosa.get_duration(y=audio, sr=sr):.2f} seconds\")\n",
    "            else:\n",
    "                print(f\"Error: Output file not created: {output_file}\")\n",
    "    else:\n",
    "        print(\"Error: process_file returned None\")\n",
    "else:\n",
    "    print(\"Error: Audio processing failed\")\n",
    "\n",
    "print(\"\\nAudio processing test complete.\")\n",
    "\n",
    "# Print discarded files, if any\n",
    "if shared_discarded_files:\n",
    "    print(\"\\nDiscarded files:\")\n",
    "    for file, reason in shared_discarded_files:\n",
    "        print(f\"{file}: {reason}\")\n",
    "else:\n",
    "    print(\"\\nNo files were discarded.\")"
   ]
  },
  {
   "cell_type": "code",
   "execution_count": 48,
   "metadata": {},
   "outputs": [
    {
     "name": "stdout",
     "output_type": "stream",
     "text": [
      "Audio directory: Converted Recordings, Output directory: Processed Recordings\n",
      "Processing file: Converted Recordings\\Branta_canadensis_Whitewater_Township_near__Harrison_Hamilton_County_Ohio_726750.wav\n",
      "Processing file: Converted Recordings\\Branta_canadensis_Lawrence_Woods_SNP_418000.wav\n",
      "Processing file: Converted Recordings\\Branta_canadensis_Miami_Whitewater_Forest_Park_wetlands_Crosby_Township_near__Harrison_Hamilton_County_Ohio_691528.wav\n",
      "Processing file: Converted Recordings\\Cygnus_buccinator_Killdeer_Plains_Wildlife_Management_Area_Wyandot_County_Ohio_713788.wav\n",
      "Processing file: Converted Recordings\\Aix_sponsa_Magee_Marsh_-_boardwalk_Lucas_County_Ohio_815809.wav\n",
      "Processing file: Converted Recordings\\Anas_acuta_Cincinnati_Hamilton_County_Ohio_855312.wav\n",
      "Processing file: Converted Recordings\\Colinus_virginianus_New_Market_Township_near__Hoagland_Highland_County_Ohio_805814.wav\n",
      "Processing file: Converted Recordings\\Colinus_virginianus_Michigan_Monroe_County_17130.wav\n",
      "Processing file: Converted Recordings\\Colinus_virginianus_Michigan_Monroe_County_17061.wav\n",
      "Processing file: Converted Recordings\\Colinus_virginianus_Michigan_Monroe_County_17060.wav\n",
      "Processing file: Converted Recordings\\Phasianus_colchicus_Michigan_Monroe_County_16976.wav\n",
      "Processing file: Converted Recordings\\Chordeiles_minor_Green_Township_near__Cincinnati_Hamilton_County_Ohio_647199.wav\n",
      "Processing file: Converted Recordings\\Antrostomus_carolinensis_Brush_Creek_Township_near__West_Union_Adams_County_Ohio_939173.wav\n",
      "Processing file: Converted Recordings\\Antrostomus_carolinensis_Hamilton_Rd_Adams_Cty_Ohio_939171.wav\n",
      "Processing file: Converted Recordings\\Antrostomus_carolinensis_Brush_Creek_Township_near__West_Union_Adams_County_Ohio_804643.wav\n",
      "Processing file: Converted Recordings\\Antrostomus_carolinensis_Brush_Creek_near__West_Union_Adams_County_Ohio_178533.wav\n",
      "Processing file: Converted Recordings\\Antrostomus_vociferus_Sutton_Braxton_County_West_Virginia_929758.wav\n",
      "Processing file: Converted Recordings\\Chaetura_pelagica_Green_Township_near__Cincinnati_Hamilton_County_Ohio_676768.wav\n",
      "Processing file: Converted Recordings\\Chaetura_pelagica_Michigan_Monroe_County_17058.wav\n",
      "Processing file: Converted Recordings\\Coccyzus_americanus_Magee_Marsh_boardwalk_west_end_262809.wav\n",
      "Processing file: Converted Recordings\\Coccyzus_erythropthalmus_Point_Pelee_National_Park_Essex_County_Ontario_910739.wav\n",
      "Processing file: Converted Recordings\\Coccyzus_erythropthalmus_Thursby_Rd_near_Singer_Lake_Green_Summit_County_Ohio_376138.wav\n",
      "Processing file: Converted Recordings\\Zenaida_macroura_Pelee_near__Leamington_Essex_County_Ontario_476933.wav\n",
      "Processing file: Converted Recordings\\Rallus_elegans_Battelle_Darby_Metro_Park_-_Wetlands_417850.wav\n",
      "Processing file: Converted Recordings\\Rallus_elegans_Glacier_Ridge_Metro_Park--Honda_Wetlands_103499.wav\n",
      "Processing file: Converted Recordings\\Porzana_carolina_Ross_Township_near__Ross_Butler_County_Ohio_807518.wav\n",
      "Processing file: Converted Recordings\\Porzana_carolina_Battelle_Darby_Metro_Park_-_Wetlands_417847.wav\n",
      "Processing file: Converted Recordings\\Porzana_carolina_Battelle_Darby_Metro_Park_-_Wetlands_417849.wav\n",
      "Processing file: Converted Recordings\\Antigone_canadensis_Troy_Township_near__Delaware_Delaware_County_Ohio_625913.wav\n",
      "Processing file: Converted Recordings\\Charadrius_vociferus_Magee_Marsh_-_boardwalk_Lucas_County_Ohio_817568.wav\n",
      "Processing file: Converted Recordings\\Charadrius_vociferus_Ross_Township_near__Hamilton_Butler_County_Ohio_533371.wav\n",
      "Processing file: Converted Recordings\\Calidris_alpina_Ohio_Magee_Marsh_17027.wav\n",
      "Processing file: Converted Recordings\\Scolopax_minor_Brush_Creek_Township_near__West_Union_Adams_County_Ohio_939172.wav\n",
      "Processing file: Converted Recordings\\Scolopax_minor_Point_Pelee_National_Park_near__Wheatley_Essex_County_Ontario_837811.wav\n",
      "Processing file: Converted Recordings\\Scolopax_minor_Pelee_near__Leamington_Essex_County_Ontario_476517.wav\n",
      "Processing file: Converted Recordings\\Scolopax_minor_Maumee_Bay_SP_Ohio_418105.wav\n",
      "Processing file: Converted Recordings\\Scolopax_minor_Maumee_Bay_SP_Ohio_418103.wav\n",
      "Processing file: Converted Recordings\\Scolopax_minor_Maumee_Bay_SP_Ohio_418101.wav\n",
      "Processing file: Converted Recordings\\Scolopax_minor_Maumee_Bay_SP_Ohio_418099.wav\n",
      "Processing file: Converted Recordings\\Scolopax_minor_Columbus_Franklin_County_Ohio_171997.wav\n",
      "Processing file: Converted Recordings\\Scolopax_minor_Columbus_Franklin_County_Ohio_171994.wav\n",
      "Processing file: Converted Recordings\\Scolopax_minor_Columbus_Franklin_County_Ohio_171991.wav\n",
      "Processing file: Converted Recordings\\Scolopax_minor_Pelee_near__Leamington_Essex_County_Ontario_473284.wav\n",
      "Processing file: Converted Recordings\\Scolopax_minor_Columbus_Ohio_flight_call_recording_station_55153.wav\n",
      "Processing file: Converted Recordings\\Tringa_solitaria_Ohio_Crane_Creek_SP_17025.wav\n",
      "Processing file: Converted Recordings\\Tringa_flavipes_Ohio_Magee_Marsh_17051.wav\n",
      "Processing file: Converted Recordings\\Tringa_flavipes_Ohio_Magee_Marsh_17050.wav\n",
      "Processing file: Converted Recordings\\Tringa_flavipes_Ohio_Magee_Marsh_17049.wav\n",
      "Processing file: Converted Recordings\\Tringa_flavipes_Ohio_Magee_Marsh_17048.wav\n",
      "Processing file: Converted Recordings\\Tringa_flavipes_Ohio_Magee_Marsh_17047.wav\n",
      "Processing file: Converted Recordings\\Chroicocephalus_philadelphia_Point_Pelee_National_Park_near__Wheatley_Essex_County_Ontario_839507.wav\n",
      "Processing file: Converted Recordings\\Larus_delawarensis_Michigan_Sterling_SP_11860.wav\n",
      "Processing file: Converted Recordings\\Chlidonias_niger_Pelee_near__Leamington_Essex_County_Ontario_476265.wav\n",
      "Processing file: Converted Recordings\\Botaurus_lentiginosus_Battelle_Darby_Metro_Park_-_Wetlands_417864.wav\n",
      "Processing file: Converted Recordings\\Botaurus_lentiginosus_Battelle_Darby_Metro_Park_-_Wetlands_417863.wav\n",
      "Processing file: Converted Recordings\\Botaurus_lentiginosus_Battelle_Darby_Metro_Park_-_Wetlands_417855.wav\n",
      "Processing file: Converted Recordings\\Ardea_alba_Ohio_Ottawa_NWR_17012.wav\n",
      "Processing file: Converted Recordings\\Accipiter_cooperii_Michigan_Monroe_County_17115.wav\n",
      "Processing file: Converted Recordings\\Buteo_lineatus_Green_Township_near__Cincinnati_Hamilton_County_Ohio_809281.wav\n",
      "Processing file: Converted Recordings\\Buteo_lineatus_Miami_Whitewater_Forest_Park_wetlands_Crosby_Township_near__Harrison_Hamilton_County_Ohio_691446.wav\n",
      "Processing file: Converted Recordings\\Buteo_lineatus_Green_Township_near__Cincinnati_Hamilton_County_Ohio_673003.wav\n",
      "Processing file: Converted Recordings\\Buteo_lineatus_Tanglewood_Lane_Cincinnati_Ohio_44321.wav\n",
      "Processing file: Converted Recordings\\Buteo_lineatus_Spring_Valley_near__Waynesville_Greene_Cty_Ohio_477606.wav\n",
      "Processing file: Converted Recordings\\Buteo_lineatus_Michigan_Monroe_County_17118.wav\n",
      "Processing file: Converted Recordings\\Buteo_jamaicensis_Michigan_Monroe_County_17117.wav\n",
      "Processing file: Converted Recordings\\Buteo_jamaicensis_Michigan_Monroe_County_17116.wav\n",
      "Processing file: Converted Recordings\\Tyto_furcata_Cuyahoga_Falls_Summit_County_Ohio_580333.wav\n",
      "Processing file: Converted Recordings\\Bubo_virginianus_Green_Township_near__Mount_Orab_Brown_County_Ohio_760069.wav\n",
      "Processing file: Converted Recordings\\Bubo_virginianus_mount_orab_ohio_760068.wav\n",
      "Processing file: Converted Recordings\\Bubo_virginianus_Pelee_Shuttle_Stop_near__Leamington_Essex_County_Ontario_476571.wav\n",
      "Processing file: Converted Recordings\\Bubo_virginianus_Anderson_Township_near__Cincinnati_Hamilton_County_Ohio_450919.wav\n",
      "Processing file: Converted Recordings\\Bubo_virginianus_mount_orab_ohio_664390.wav\n",
      "Processing file: Converted Recordings\\Bubo_virginianus_Battelle_Darby_Creek_Metro_Park--South_of_Darby_Dan_Loop_107584.wav\n",
      "Processing file: Converted Recordings\\Bubo_virginianus_Wooster_PK_&_Beech_St_near__Mariemont_Hamilton_County_Ohio_757171.wav\n",
      "Processing file: Converted Recordings\\Megascops_asio_mount_orab_ohio_624995.wav\n",
      "Processing file: Converted Recordings\\Megascops_asio_mount_orab_ohio_669305.wav\n",
      "Processing file: Converted Recordings\\Megascops_asio_mount_orab_ohio_624576.wav\n",
      "Processing file: Converted Recordings\\Megascops_asio_mount_orab_ohio_544849.wav\n",
      "Processing file: Converted Recordings\\Strix_varia_mount_orab_ohio_494579.wav\n",
      "Processing file: Converted Recordings\\Strix_varia_mount_orab_ohio_494421.wav\n",
      "Processing file: Converted Recordings\\Strix_varia_Wayne_Township_near__Pleasant_Plain_Clermont_County_Ohio_446964.wav\n",
      "Processing file: Converted Recordings\\Melanerpes_erythrocephalus_Crosby_Township_near__Harrison_Hamilton_County_Ohio_774908.wav\n",
      "Processing file: Converted Recordings\\Melanerpes_erythrocephalus_Kendrick_Woods_State_Nature_Preserve_Allen_County_Ohio_698853.wav\n",
      "Processing file: Converted Recordings\\Melanerpes_erythrocephalus_Lawrence_Woods_SNP_477578.wav\n",
      "Processing file: Converted Recordings\\Melanerpes_erythrocephalus_Pelee_near__Leamington_Essex_County_Ontario_477003.wav\n",
      "Processing file: Converted Recordings\\Melanerpes_erythrocephalus_Crosby_Township_near__Harrison_Hamilton_County_Ohio_774907.wav\n",
      "Processing file: Converted Recordings\\Melanerpes_carolinus_Miami_Whitewater_Forest_Park_wetlands_Crosby_Township_near__Harrison_Hamilton_County_Ohio_687174.wav\n",
      "Processing file: Converted Recordings\\Melanerpes_carolinus_Tanglewood_Lane_Cincinnati_Ohio_302917.wav\n",
      "Processing file: Converted Recordings\\Melanerpes_carolinus_Wegerzyn_garden_near__Dayton_Montgomery_County_Ohio_807218.wav\n",
      "Processing file: Converted Recordings\\Melanerpes_carolinus_Harrison_Township_near__Harrison_Hamilton_County_Ohio_728264.wav\n",
      "Processing file: Converted Recordings\\Melanerpes_carolinus_Green_Township_near__Cincinnati_Hamilton_County_Ohio_726629.wav\n",
      "Processing file: Converted Recordings\\Melanerpes_carolinus_Harrison_Township_near__Harrison_Hamilton_County_Ohio_691526.wav\n",
      "Processing file: Converted Recordings\\Melanerpes_carolinus_Green_Township_near__Cincinnati_Hamilton_County_Ohio_672994.wav\n",
      "Processing file: Converted Recordings\\Melanerpes_carolinus_Anderson_Township_near__Cincinnati_Hamilton_County_Ohio_542523.wav\n",
      "Processing file: Converted Recordings\\Melanerpes_carolinus_Westlake_Cuyahoga_Ohio_115025.wav\n",
      "Processing file: Converted Recordings\\Melanerpes_carolinus_Lawrence_Woods_SNP_417981.wav\n",
      "Processing file: Converted Recordings\\Sphyrapicus_varius_Tanglewood_Lane_Cincinnati_Ohio_302918.wav\n",
      "Processing file: Converted Recordings\\Sphyrapicus_varius_Cincinnati_Hamilton_County_Ohio_871471.wav\n",
      "Processing file: Converted Recordings\\Dryobates_pubescens_Point_Pelee_National_Park_near__Wheatley_Essex_County_Ontario_803584.wav\n",
      "Processing file: Converted Recordings\\Dryobates_pubescens_Green_Township_near__Cincinnati_Hamilton_County_Ohio_676924.wav\n",
      "Processing file: Converted Recordings\\Dryobates_pubescens_Pelee_near__Leamington_Essex_County_Ontario_476564.wav\n",
      "Processing file: Converted Recordings\\Dryobates_pubescens_Wegerzyn_garden_near__Dayton_Montgomery_County_Ohio_807220.wav\n",
      "Processing file: Converted Recordings\\Leuconotopicus_villosus_Green_Township_near__Lynx_Adams_County_Ohio_302925.wav\n",
      "Processing file: Converted Recordings\\Leuconotopicus_villosus_Miami_Township_near__Cleves_Hamilton_County_Ohio_775844.wav\n",
      "Processing file: Converted Recordings\\Colaptes_auratus_Green_Township_near__Cincinnati_Hamilton_County_Ohio_807485.wav\n",
      "Processing file: Converted Recordings\\Colaptes_auratus_Anderson_Township_near__Cincinnati_Hamilton_County_Ohio_542520.wav\n",
      "Processing file: Converted Recordings\\Dryocopus_pileatus_Harrison_Township_near__Harrison_Hamilton_County_Ohio_691470.wav\n",
      "Processing file: Converted Recordings\\Dryocopus_pileatus_Harrison_Township_near__Harrison_Hamilton_County_Ohio_728222.wav\n",
      "Processing file: Converted Recordings\\Sayornis_phoebe_Harrison_Township_near__Harrison_Hamilton_County_Ohio_713591.wav\n",
      "Processing file: Converted Recordings\\Sayornis_phoebe_Harrison_Township_near__Harrison_Hamilton_County_Ohio_713589.wav\n",
      "Processing file: Converted Recordings\\Sayornis_phoebe_Pelee_near__Leamington_Essex_County_Ontario_476566.wav\n",
      "Processing file: Converted Recordings\\Contopus_virens_Pelee_near__Leamington_Essex_County_Ontario_476568.wav\n",
      "Processing file: Converted Recordings\\Contopus_virens_Whitewater_Township_near__Cleves_Hamilton_County_Ohio_928713.wav\n",
      "Processing file: Converted Recordings\\Contopus_virens_Whitewater_Township_near__Cleves_Hamilton_County_Ohio_817712.wav\n",
      "Processing file: Converted Recordings\\Contopus_virens_Harrison_Township_near__Harrison_Hamilton_County_Ohio_726814.wav\n",
      "Processing file: Converted Recordings\\Contopus_virens_Spring_Valley_near__Waynesville_Greene_Cty_Ohio_477597.wav\n",
      "Processing file: Converted Recordings\\Contopus_virens_Magee_Marsh_boardwalk_west_end_103501.wav\n",
      "Processing file: Converted Recordings\\Contopus_virens_Tuttle_Park_Columbus_Ohio_89366.wav\n",
      "Processing file: Converted Recordings\\Contopus_virens_Whitewater_Township_near__Cleves_Hamilton_County_Ohio_928711.wav\n",
      "Processing file: Converted Recordings\\Empidonax_virescens_Miami_Township_near__Cleves_Hamilton_County_Ohio_807573.wav\n",
      "Processing file: Converted Recordings\\Empidonax_virescens_Harrison_Township_near__Harrison_Hamilton_County_Ohio_728279.wav\n",
      "Processing file: Converted Recordings\\Empidonax_virescens_Harrison_Township_near__Harrison_Hamilton_County_Ohio_728275.wav\n",
      "Processing file: Converted Recordings\\Empidonax_virescens_Clifton_Gorge_NP_near__Clifton_Greene_County_Ohio_775046.wav\n",
      "Processing file: Converted Recordings\\Empidonax_virescens_Harrison_Township_near__Harrison_Hamilton_County_Ohio_728272.wav\n",
      "Processing file: Converted Recordings\\Empidonax_virescens_Miami_Township_near__North_Bend_Hamilton_County_Ohio_670407.wav\n",
      "Processing file: Converted Recordings\\Empidonax_traillii_Whitewater_Township_near__White_Water_Park_Hamilton_County_Ohio_807543.wav\n",
      "Processing file: Converted Recordings\\Empidonax_traillii_Magee_Marsh_Ohio_298581.wav\n",
      "Processing file: Converted Recordings\\Empidonax_traillii_Magee_Marsh_Ohio_298355.wav\n",
      "Processing file: Converted Recordings\\Empidonax_traillii_Point_Pelee_National_Park_near__Wheatley_Essex_County_Ontario_806079.wav\n",
      "Processing file: Converted Recordings\\Empidonax_traillii_Whitewater_Township_near__Harrison_Hamilton_County_Ohio_726752.wav\n",
      "Processing file: Converted Recordings\\Empidonax_traillii_Franklin_Township_near__Wooster_Wayne_County_Ohio_418568.wav\n",
      "Processing file: Converted Recordings\\Empidonax_traillii_Magee_Marsh_Ohio_298575.wav\n",
      "Processing file: Converted Recordings\\Empidonax_traillii_Spring_Valley_near__Waynesville_Greene_Cty_Ohio_477603.wav\n",
      "Processing file: Converted Recordings\\Empidonax_traillii_Cleveland_Cuyahoga_County_Ohio_256648.wav\n",
      "Processing file: Converted Recordings\\Empidonax_traillii_Michigan_Monroe_County_16968.wav\n",
      "Processing file: Converted Recordings\\Tyrannus_tyrannus_Point_Pelee_National_Park_near__Wheatley_Essex_County_Ontario_805523.wav\n",
      "Processing file: Converted Recordings\\Tyrannus_tyrannus_Dunham_Recreation_Complex_near__Cincinnati_Hamilton_County_Ohio_646450.wav\n",
      "Processing file: Converted Recordings\\Myiarchus_crinitus_Miami_Township_near__North_Bend_Hamilton_County_Ohio_646113.wav\n",
      "Processing file: Converted Recordings\\Myiarchus_crinitus_Spring_Valley_near__Waynesville_Greene_Cty_Ohio_477599.wav\n",
      "Processing file: Converted Recordings\\Myiarchus_crinitus_Berkshire_near__Galena_Delaware_Ohio_124160.wav\n",
      "Processing file: Converted Recordings\\Myiarchus_crinitus_Berkshire_near__Galena_Delaware_Ohio_124159.wav\n",
      "Processing file: Converted Recordings\\Vireo_olivaceus_Lawrence_Woods_SNP_417986.wav\n",
      "Processing file: Converted Recordings\\Vireo_olivaceus_Magee_Marsh_-_boardwalk_Lucas_County_Ohio_827607.wav\n",
      "Processing file: Converted Recordings\\Vireo_gilvus_Magee_Marsh_-_boardwalk_Lucas_County_Ohio_827591.wav\n",
      "Processing file: Converted Recordings\\Vireo_gilvus_Magee_Marsh_-_boardwalk_Lucas_County_Ohio_827590.wav\n",
      "Processing file: Converted Recordings\\Vireo_gilvus_Ross_Township_near__Ross_Butler_County_Ohio_807514.wav\n",
      "Processing file: Converted Recordings\\Vireo_gilvus_Point_Pelee_National_Park_near__Wheatley_Essex_County_Ontario_806076.wav\n",
      "Processing file: Converted Recordings\\Vireo_gilvus_Whitewater_Township_near__Harrison_Hamilton_County_Ohio_726753.wav\n",
      "Processing file: Converted Recordings\\Vireo_gilvus_Spring_Valley_near__Waynesville_Greene_Cty_Ohio_477609.wav\n",
      "Processing file: Converted Recordings\\Vireo_gilvus_Pelee_near__Leamington_Essex_County_Ontario_477046.wav\n",
      "Processing file: Converted Recordings\\Vireo_gilvus_Magee_Marsh_Ohio_939387.wav\n",
      "Processing file: Converted Recordings\\Vireo_gilvus_Magee_Marsh_Ohio_939386.wav\n",
      "Processing file: Converted Recordings\\Vireo_gilvus_Benton_Township_near__Rocky_Ridge_Ottawa_County_Ohio_902984.wav\n",
      "Processing file: Converted Recordings\\Vireo_gilvus_Benton_Township_near__Rocky_Ridge_Ottawa_County_Ohio_902983.wav\n",
      "Processing file: Converted Recordings\\Vireo_gilvus_Magee_Marsh_-_boardwalk_Lucas_County_Ohio_827594.wav\n",
      "Processing file: Converted Recordings\\Vireo_gilvus_Magee_Marsh_-_boardwalk_Lucas_County_Ohio_827593.wav\n",
      "Processing file: Converted Recordings\\Vireo_gilvus_Magee_Marsh_-_boardwalk_Lucas_County_Ohio_827592.wav\n",
      "Processing file: Converted Recordings\\Vireo_gilvus_Magee_Marsh_-_boardwalk_Lucas_County_Ohio_827589.wav\n",
      "Processing file: Converted Recordings\\Vireo_gilvus_Tanager_Meadow_Reservable_Shelter_near__Harrison_Hamilton_County_Ohio_807452.wav\n",
      "Processing file: Converted Recordings\\Vireo_gilvus_Magee_Marsh_-_boardwalk_Lucas_County_Ohio_827588.wav\n",
      "Processing file: Converted Recordings\\Vireo_gilvus_Magee_Marsh_-_boardwalk_Lucas_County_Ohio_827586.wav\n",
      "Processing file: Converted Recordings\\Vireo_gilvus_Magee_Marsh_Ohio_418005.wav\n",
      "Processing file: Converted Recordings\\Vireo_flavifrons_Harrison_Township_near__Harrison_Hamilton_County_Ohio_719923.wav\n",
      "Processing file: Converted Recordings\\Vireo_flavifrons_Spring_Valley_near__Waynesville_Greene_Cty_Ohio_477608.wav\n",
      "Processing file: Converted Recordings\\Vireo_flavifrons_Oak_Openings_Metropark_Ohio_418068.wav\n",
      "Processing file: Converted Recordings\\Vireo_flavifrons_Lawrence_Woods_SNP_417991.wav\n",
      "Processing file: Converted Recordings\\Vireo_flavifrons_Lawrence_Woods_SNP_417990.wav\n",
      "Processing file: Converted Recordings\\Vireo_flavifrons_Lawrence_Woods_SNP_417989.wav\n",
      "Processing file: Converted Recordings\\Vireo_flavifrons_Shawnee_State_Forest_Scioto_County_Ohio_417452.wav\n",
      "Processing file: Converted Recordings\\Vireo_flavifrons_Miami_Township_near__North_Bend_Hamilton_County_Ohio_645966.wav\n",
      "Processing file: Converted Recordings\\Vireo_flavifrons_East_Fork_Lake_SP_Clermont_County_Ohio_477410.wav\n",
      "Processing file: Converted Recordings\\Vireo_flavifrons_Prairie_Oaks_Metro_Park--Sycamore_Plains_Area_182007.wav\n",
      "Processing file: Converted Recordings\\Vireo_griseus_Crosby_Township_near__New_Haven_Hamilton_County_Ohio_833700.wav\n",
      "Processing file: Converted Recordings\\Vireo_griseus_Shawnee_State_Forest_Scioto_County_Ohio_417441.wav\n",
      "Processing file: Converted Recordings\\Vireo_griseus_Point_Pelee_ON_83535.wav\n",
      "Processing file: Converted Recordings\\Vireo_griseus_Miami_Township_near__North_Bend_Hamilton_County_Ohio_645855.wav\n",
      "Processing file: Converted Recordings\\Vireo_griseus_Miami_Township_near__North_Bend_Hamilton_County_Ohio_645853.wav\n",
      "Processing file: Converted Recordings\\Vireo_griseus_Three_Creeks_Metro_Park--Confluence_Area_playground_Franklin_County_Ohio_186555.wav\n",
      "Processing file: Converted Recordings\\Vireo_griseus_Ohio_Crane_Creek_SP_17026.wav\n",
      "Processing file: Converted Recordings\\Vireo_bellii_Heritage_Rail-Trail_South_of_Hayden_Run_Rd_~200m_south_of_mile_marker_2_across_from_nest_box_#10_103570.wav\n",
      "Processing file: Converted Recordings\\Vireo_bellii_Heritage_Rail-Trail_south_of_Hayden_Run_Rd_near_mowed_path_BEVI_#1_103569.wav\n",
      "Processing file: Converted Recordings\\Vireo_bellii_Whitewater_Township_near__Harrison_Hamilton_County_Ohio_678953.wav\n",
      "Processing file: Converted Recordings\\Cyanocitta_cristata_Pelee_near__Leamington_Essex_County_Ontario_476525.wav\n",
      "Processing file: Converted Recordings\\Cyanocitta_cristata_Cincinnati_Hamilton_County_Ohio_677298.wav\n",
      "Processing file: Converted Recordings\\Cyanocitta_cristata_Green_Township_near__Cincinnati_Hamilton_County_Ohio_672969.wav\n",
      "Processing file: Converted Recordings\\Cyanocitta_cristata_Miami_near__North_Bend_Hamilton_County_Ohio_542143.wav\n",
      "Processing file: Converted Recordings\\Cyanocitta_cristata_Crosby_Township_near__Harrison_Hamilton_County_Ohio_807193.wav\n",
      "Processing file: Converted Recordings\\Cyanocitta_cristata_Green_Township_near__Cincinnati_Hamilton_County_Ohio_672963.wav\n",
      "Processing file: Converted Recordings\\Cyanocitta_cristata_Ohio_near__Cleveland_Heights_Cuyahoga_County_Ohio_418322.wav\n",
      "Processing file: Converted Recordings\\Corvus_brachyrhynchos_Harrison_Township_near__Harrison_Hamilton_County_Ohio_691531.wav\n",
      "Processing file: Converted Recordings\\Corvus_brachyrhynchos_mount_orab_ohio_691189.wav\n",
      "Processing file: Converted Recordings\\Corvus_brachyrhynchos_Ross_Township_near__Hamilton_Butler_County_Ohio_533366.wav\n",
      "Processing file: Converted Recordings\\Corvus_ossifragus_Leamington_Essex_County_Ontario_320736.wav\n",
      "Processing file: Converted Recordings\\Corvus_ossifragus_Chapel_Hill_Plaza_Cuyahoga_Falls_Summit_County_Ohio_393849.wav\n",
      "Processing file: Converted Recordings\\Corvus_ossifragus_S_Green_Rd_&_Cedar_Rd_near__University_Heights_Cuyahoga_County_Ohio_268223.wav\n",
      "Processing file: Converted Recordings\\Corvus_ossifragus_Howe_Ave_@_Jared__Cuyahoga_Falls_Summit_County_Ohio_398409.wav\n",
      "Processing file: Converted Recordings\\Baeolophus_bicolor_Ohio_near__Akron_Summit_County_Ohio_376462.wav\n",
      "Processing file: Converted Recordings\\Baeolophus_bicolor_Harrison_Township_near__Harrison_Hamilton_County_Ohio_807495.wav\n",
      "Processing file: Converted Recordings\\Baeolophus_bicolor_Miami_Township_near__Cleves_Hamilton_County_Ohio_713584.wav\n",
      "Processing file: Converted Recordings\\Baeolophus_bicolor_Miami_Whitewater_Forest_Park_wetlands_Crosby_Township_near__Harrison_Hamilton_County_Ohio_691529.wav\n",
      "Processing file: Converted Recordings\\Baeolophus_bicolor_Westlake_Cuyahoga_County_Ohio_726688.wav\n",
      "Processing file: Converted Recordings\\Baeolophus_bicolor_Green_Township_near__Cincinnati_Hamilton_County_Ohio_673001.wav\n",
      "Processing file: Converted Recordings\\Baeolophus_bicolor_Miami_Township_near__Cleves_Hamilton_County_Ohio_645567.wav\n",
      "Processing file: Converted Recordings\\Baeolophus_bicolor_515_Park_End_Dr_Montgomery_Cty_OH_493455.wav\n",
      "Processing file: Converted Recordings\\Baeolophus_bicolor_East_Fork_Lake_SP_Clermont_County_Ohio_416551.wav\n",
      "Processing file: Converted Recordings\\Baeolophus_bicolor_Beachwood_Cuyahoga_County_Ohio_287347.wav\n",
      "Processing file: Converted Recordings\\Baeolophus_bicolor_Beachwood_Cuyahoga_County_Ohio_287345.wav\n",
      "Processing file: Converted Recordings\\Baeolophus_bicolor_Miami_near__North_Bend_Hamilton_County_Ohio_542144.wav\n",
      "Processing file: Converted Recordings\\Baeolophus_bicolor_Painesville_Lake_Ohio_138137.wav\n",
      "Processing file: Converted Recordings\\Poecile_carolinensis_Harrison_Township_near__Harrison_Hamilton_County_Ohio_807462.wav\n",
      "Processing file: Converted Recordings\\Poecile_carolinensis_Green_Township_near__Cincinnati_Hamilton_County_Ohio_779380.wav\n",
      "Processing file: Converted Recordings\\Poecile_carolinensis_Lawrence_Woods_SNP_417998.wav\n",
      "Processing file: Converted Recordings\\Poecile_carolinensis_Green_Township_near__Cincinnati_Hamilton_County_Ohio_726700.wav\n",
      "Processing file: Converted Recordings\\Poecile_carolinensis_Miami_Township_near__North_Bend_Hamilton_County_Ohio_713595.wav\n",
      "Processing file: Converted Recordings\\Poecile_carolinensis_Green_Township_near__Cincinnati_Hamilton_County_Ohio_673007.wav\n",
      "Processing file: Converted Recordings\\Poecile_carolinensis_Miami_Township_near__North_Bend_Hamilton_County_Ohio_645975.wav\n",
      "Processing file: Converted Recordings\\Poecile_carolinensis_Lawrence_Woods_SNP_417997.wav\n",
      "Processing file: Converted Recordings\\Poecile_atricapillus_Swanton_Township_near__Swanton_Lucas_County_Ohio_939388.wav\n",
      "Processing file: Converted Recordings\\Poecile_atricapillus_Magee_Marsh_-_boardwalk_Lucas_County_Ohio_814911.wav\n",
      "Processing file: Converted Recordings\\Poecile_atricapillus_Point_Pelee_National_Park_near__Wheatley_Essex_County_Ontario_803377.wav\n",
      "Processing file: Converted Recordings\\Poecile_atricapillus_Westlake_Cuyahoga_County_Ohio_726692.wav\n",
      "Processing file: Converted Recordings\\Poecile_atricapillus_Magee_Marsh_boardwalk_west_end_262804.wav\n",
      "Processing file: Converted Recordings\\Eremophila_alpestris_Dublin_Township_near__Rockford_Mercer_County_Ohio_716604.wav\n",
      "Processing file: Converted Recordings\\Eremophila_alpestris_Michigan_Monroe_County_16969.wav\n",
      "Processing file: Converted Recordings\\Eremophila_alpestris_Michigan_Deerfield_11506.wav\n",
      "Processing file: Converted Recordings\\Eremophila_alpestris_Michigan_Deerfield_11505.wav\n",
      "Processing file: Converted Recordings\\Tachycineta_bicolor_Pelee_near__Leamington_Essex_County_Ontario_475639.wav\n",
      "Processing file: Converted Recordings\\Tachycineta_bicolor_Point_Pelee_National_Park_near__Wheatley_Essex_County_Ontario_839333.wav\n",
      "Processing file: Converted Recordings\\Tachycineta_bicolor_Magee_Marsh_-_boardwalk_Lucas_County_Ohio_827054.wav\n",
      "Processing file: Converted Recordings\\Tachycineta_bicolor_Big_Island_WA_Marion_County_Ohio_737242.wav\n",
      "Processing file: Converted Recordings\\Tachycineta_bicolor_Pelee_Shuttle_Stop_near__Leamington_Essex_County_Ontario_477045.wav\n",
      "Processing file: Converted Recordings\\Tachycineta_bicolor_Ohio_Crane_Creek_SP_17046.wav\n",
      "Processing file: Converted Recordings\\Progne_subis_Vermilion_River_Reservation:_Mill_Hollow_near__Vermilion_Erie_County_Ohio_784046.wav\n",
      "Processing file: Converted Recordings\\Progne_subis_Ottawa_NWR_Lucas_County_Ohio_803616.wav\n",
      "Processing file: Converted Recordings\\Progne_subis_Magee_Marsh_Ohio_164751.wav\n",
      "Processing file: Converted Recordings\\Progne_subis_Magee_Marsh_Ohio_164748.wav\n",
      "Processing file: Converted Recordings\\Progne_subis_Whitewater_Township_near__Cleves_Hamilton_County_Ohio_817716.wav\n",
      "Processing file: Converted Recordings\\Hirundo_rustica_Green_Township_near__Cincinnati_Hamilton_County_Ohio_833706.wav\n",
      "Processing file: Converted Recordings\\Corthylio_calendula_Ohio_Crane_Creek_SP_17045.wav\n",
      "Processing file: Converted Recordings\\Cistothorus_stellaris_Battelle_Darby_Metro_Park--Cutoff_trail_from_Darby_Creek_Trail_past_barn_to_Darby_Creek_Rd._105741.wav\n",
      "Processing file: Converted Recordings\\Cistothorus_palustris_Jerusalem_Township_near__Bono_Lucas_County_Ohio_784047.wav\n",
      "Processing file: Converted Recordings\\Cistothorus_palustris_Battelle_Darby_Metro_Park_-_Wetlands_417866.wav\n",
      "Processing file: Converted Recordings\\Cistothorus_palustris_Battelle_Darby_Metro_Park_-_Wetlands_417865.wav\n",
      "Processing file: Converted Recordings\\Cistothorus_palustris_Ohio_Ottawa_NWR_316630.wav\n",
      "Processing file: Converted Recordings\\Cistothorus_palustris_Ohio_Ottawa_NWR_178295.wav\n",
      "Processing file: Converted Recordings\\Thryothorus_ludovicianus_Whitewater_Township_near__Cleves_Hamilton_County_Ohio_896572.wav\n",
      "Processing file: Converted Recordings\\Thryothorus_ludovicianus_Camp_Henry_near__Wheatley_Essex_County_Ontario_840733.wav\n",
      "Processing file: Converted Recordings\\Thryothorus_ludovicianus_Point_Pelee_National_Park_near__Wheatley_Essex_County_Ontario_803581.wav\n",
      "Processing file: Converted Recordings\\Thryothorus_ludovicianus_Green_Township_near__Cincinnati_Hamilton_County_Ohio_726631.wav\n",
      "Processing file: Converted Recordings\\Thryothorus_ludovicianus_Spring_Valley_near__Waynesville_Greene_Cty_Ohio_477595.wav\n",
      "Processing file: Converted Recordings\\Thryothorus_ludovicianus_East_Fork_Lake_SP_Clermont_County_Ohio_416559.wav\n",
      "Processing file: Converted Recordings\\Thryothorus_ludovicianus_Indian_Lake_Logan_County_Ohio_775052.wav\n",
      "Processing file: Converted Recordings\\Thryothorus_ludovicianus_Indian_Lake_Logan_County_Ohio_775050.wav\n",
      "Processing file: Converted Recordings\\Thryothorus_ludovicianus_Anderson_Township_near__Cincinnati_Hamilton_County_Ohio_542519.wav\n",
      "Processing file: Converted Recordings\\Thryothorus_ludovicianus_Park_End_Dr_Montgomery_County_Ohio_477391.wav\n",
      "Processing file: Converted Recordings\\Thryothorus_ludovicianus_Wegerzyn_garden_near__Dayton_Montgomery_County_Ohio_807207.wav\n",
      "Processing file: Converted Recordings\\Thryothorus_ludovicianus_Oak_Openings_Lucas_County_Ohio_804996.wav\n",
      "Processing file: Converted Recordings\\Thryothorus_ludovicianus_Miami_near__North_Bend_Hamilton_County_Ohio_542146.wav\n",
      "Processing file: Converted Recordings\\Thryothorus_ludovicianus_Michigan_Whiteford_Township_17104.wav\n",
      "Processing file: Converted Recordings\\Troglodytes_hiemalis_Miami_Township_near__North_Bend_Hamilton_County_Ohio_713587.wav\n",
      "Processing file: Converted Recordings\\Troglodytes_hiemalis_Boston_Township_near__Peninsula_Summit_County_Ohio_646091.wav\n",
      "Processing file: Converted Recordings\\Troglodytes_aedon_Green_Township_near__Cincinnati_Hamilton_County_Ohio_726630.wav\n",
      "Processing file: Converted Recordings\\Troglodytes_aedon_Miami_Township_near__Cleves_Hamilton_County_Ohio_645572.wav\n",
      "Processing file: Converted Recordings\\Troglodytes_aedon_Cleveland_Heights_Ohio_67466.wav\n",
      "Processing file: Converted Recordings\\Troglodytes_aedon_Magee_Marsh_-_boardwalk_Lucas_County_Ohio_828461.wav\n",
      "Processing file: Converted Recordings\\Troglodytes_aedon_Magee_Marsh_-_boardwalk_Lucas_County_Ohio_828458.wav\n",
      "Processing file: Converted Recordings\\Troglodytes_aedon_Pelee_near__Leamington_Essex_County_Ontario_476573.wav\n",
      "Processing file: Converted Recordings\\Troglodytes_aedon_Pelee_near__Leamington_Essex_County_Ontario_473225.wav\n",
      "Processing file: Converted Recordings\\Troglodytes_aedon_Orrville_Ohio_53922.wav\n",
      "Processing file: Converted Recordings\\Troglodytes_aedon_Anderson_Township_near__Cincinnati_Hamilton_County_Ohio_552558.wav\n",
      "Processing file: Converted Recordings\\Troglodytes_aedon_Cleveland_Cuyahoga_County_Ohio_256649.wav\n",
      "Processing file: Converted Recordings\\Troglodytes_aedon_Ohio_Crane_Creek_SP_17053.wav\n",
      "Processing file: Converted Recordings\\Troglodytes_aedon_Ohio_Crane_Creek_SP_17052.wav\n",
      "Processing file: Converted Recordings\\Troglodytes_aedon_Kendrick_Woods_State_Nature_Preserve_Allen_County_Ohio_775486.wav\n",
      "Processing file: Converted Recordings\\Polioptila_caerulea_Point_Pelee_National_Park_near__Wheatley_Essex_County_Ontario_803379.wav\n",
      "Processing file: Converted Recordings\\Polioptila_caerulea_Point_Pelee_National_Park_near__Wheatley_Essex_County_Ontario_803378.wav\n",
      "Processing file: Converted Recordings\\Polioptila_caerulea_Pelee_near__Leamington_Essex_County_Ontario_476524.wav\n",
      "Processing file: Converted Recordings\\Polioptila_caerulea_Lawrence_Woods_SNP_417993.wav\n",
      "Processing file: Converted Recordings\\Polioptila_caerulea_Lawrence_Woods_SNP_417992.wav\n",
      "Processing file: Converted Recordings\\Polioptila_caerulea_East_Fork_Lake_SP_Clermont_County_Ohio_416548.wav\n",
      "Processing file: Converted Recordings\\Polioptila_caerulea_Magee_Marsh_-_boardwalk_Lucas_County_Ohio_816237.wav\n",
      "Processing file: Converted Recordings\\Polioptila_caerulea_Magee_Marsh_-_boardwalk_Lucas_County_Ohio_816236.wav\n",
      "Processing file: Converted Recordings\\Polioptila_caerulea_Dunham_Recreation_Complex_near__Cincinnati_Hamilton_County_Ohio_646424.wav\n",
      "Processing file: Converted Recordings\\Polioptila_caerulea_Miami_Township_near__Cleves_Hamilton_County_Ohio_645807.wav\n",
      "Processing file: Converted Recordings\\Polioptila_caerulea_Anderson_Township_near__Cincinnati_Hamilton_County_Ohio_552557.wav\n",
      "Processing file: Converted Recordings\\Polioptila_caerulea_Ohio_Crane_Creek_SP_17017.wav\n",
      "Processing file: Converted Recordings\\Sitta_carolinensis_Harrison_Township_near__Harrison_Hamilton_County_Ohio_714979.wav\n",
      "Processing file: Converted Recordings\\Sitta_carolinensis_Fort_Mitchell_Kenton_County_Kentucky_687224.wav\n",
      "Processing file: Converted Recordings\\Sitta_carolinensis_Lawrence_Woods_SNP_417999.wav\n",
      "Processing file: Converted Recordings\\Sitta_carolinensis_Green_Township_near__Cincinnati_Hamilton_County_Ohio_673000.wav\n",
      "Processing file: Converted Recordings\\Sitta_carolinensis_Harrison_Township_near__Harrison_Hamilton_County_Ohio_807181.wav\n",
      "Processing file: Converted Recordings\\Sitta_canadensis_Cincinnati_Hamilton_County_Ohio_677294.wav\n",
      "Processing file: Converted Recordings\\Sitta_canadensis_Cincinnati_Hamilton_County_Ohio_677292.wav\n",
      "Processing file: Converted Recordings\\Sitta_canadensis_Cincinnati_Hamilton_County_Ohio_677293.wav\n",
      "Processing file: Converted Recordings\\Certhia_americana_Point_Pelee_National_Park_near__Wheatley_Essex_County_Ontario_839192.wav\n",
      "Processing file: Converted Recordings\\Certhia_americana_Fort_Mitchell_Kenton_County_Kentucky_687202.wav\n",
      "Processing file: Converted Recordings\\Dumetella_carolinensis_Magee_Marsh_-_boardwalk_Lucas_County_Ohio_814891.wav\n",
      "Processing file: Converted Recordings\\Dumetella_carolinensis_Magee_Marsh_-_boardwalk_Lucas_County_Ohio_814888.wav\n",
      "Processing file: Converted Recordings\\Dumetella_carolinensis_Point_Pelee_National_Park_near__Wheatley_Essex_County_Ontario_805532.wav\n",
      "Processing file: Converted Recordings\\Dumetella_carolinensis_Lawrence_Woods_SNP_477577.wav\n",
      "Processing file: Converted Recordings\\Dumetella_carolinensis_Pelee_near__Leamington_Essex_County_Ontario_476572.wav\n",
      "Processing file: Converted Recordings\\Dumetella_carolinensis_Magee_Marsh_-_boardwalk_Lucas_County_Ohio_814890.wav\n",
      "Processing file: Converted Recordings\\Dumetella_carolinensis_Magee_Marsh_-_boardwalk_Lucas_County_Ohio_814889.wav\n",
      "Processing file: Converted Recordings\\Dumetella_carolinensis_Whitewater_Township_near__White_Water_Park_Hamilton_County_Ohio_807552.wav\n",
      "Processing file: Converted Recordings\\Dumetella_carolinensis_Sheldon_Marsh_State_Nature_Preserve_723020.wav\n",
      "Processing file: Converted Recordings\\Dumetella_carolinensis_Michigan_Petersburg_SGA__31053.wav\n",
      "Processing file: Converted Recordings\\Dumetella_carolinensis_Ohio_Crane_Creek_SP_17041.wav\n",
      "Processing file: Converted Recordings\\Dumetella_carolinensis_Magee_Marsh_boardwalk_west_end_262807.wav\n",
      "Processing file: Converted Recordings\\Dumetella_carolinensis_Magee_Marsh_boardwalk_west_end_262806.wav\n",
      "Processing file: Converted Recordings\\Mimus_polyglottos_Green_Township_near__Cincinnati_Hamilton_County_Ohio_807536.wav\n",
      "Processing file: Converted Recordings\\Mimus_polyglottos_Green_Township_near__Cincinnati_Hamilton_County_Ohio_807449.wav\n",
      "Processing file: Converted Recordings\\Mimus_polyglottos_Cincinnati_Hamilton_County_Ohio_677297.wav\n",
      "Processing file: Converted Recordings\\Mimus_polyglottos_Cincinnati_Hamilton_County_Ohio_677295.wav\n",
      "Processing file: Converted Recordings\\Mimus_polyglottos_Dunham_Recreation_Complex_near__Cincinnati_Hamilton_County_Ohio_646400.wav\n",
      "Processing file: Converted Recordings\\Toxostoma_rufum_Hanover_Township_Licking_County_Ohio_893646.wav\n",
      "Processing file: Converted Recordings\\Toxostoma_rufum_Point_Pelee_National_Park_near__Wheatley_Essex_County_Ontario_803578.wav\n",
      "Processing file: Converted Recordings\\Toxostoma_rufum_Green_Township_near__Cincinnati_Hamilton_County_Ohio_807480.wav\n",
      "Processing file: Converted Recordings\\Toxostoma_rufum_Dunham_Recreation_Complex_near__Cincinnati_Hamilton_County_Ohio_646427.wav\n",
      "Processing file: Converted Recordings\\Toxostoma_rufum_Miami_Township_near__Cleves_Hamilton_County_Ohio_645811.wav\n",
      "Processing file: Converted Recordings\\Toxostoma_rufum_Franklin_Township_near__Saint_Marys_Mercer_County_Ohio_637650.wav\n",
      "Processing file: Converted Recordings\\Toxostoma_rufum_Ross_Township_near__Hamilton_Butler_County_Ohio_632519.wav\n",
      "Processing file: Converted Recordings\\Toxostoma_rufum_Pelee_near__Leamington_Essex_County_Ontario_476526.wav\n",
      "Processing file: Converted Recordings\\Toxostoma_rufum_Virginia_Kendall_Lake_Peninsula_Summit_County_Ohio_412205.wav\n",
      "Processing file: Converted Recordings\\Sturnus_vulgaris_Michigan_Monroe_County_17173.wav\n",
      "Processing file: Converted Recordings\\Sialia_sialis_Cincinnati_Hamilton_County_Ohio_677299.wav\n",
      "Processing file: Converted Recordings\\Sialia_sialis_Michigan_Monroe_County_17169.wav\n",
      "Processing file: Converted Recordings\\Hylocichla_mustelina_Whitewater_Township_near__Cleves_Hamilton_County_Ohio_817713.wav\n",
      "Processing file: Converted Recordings\\Hylocichla_mustelina_Packer-Hammersmith_Center_near__Oregon_Lucas_County_Ohio_784058.wav\n",
      "Processing file: Converted Recordings\\Hylocichla_mustelina_Magee_Marsh_-_boardwalk_Lucas_County_Ohio_827229.wav\n",
      "Processing file: Converted Recordings\\Hylocichla_mustelina_Miami_Township_near__North_Bend_Hamilton_County_Ohio_646004.wav\n",
      "Processing file: Converted Recordings\\Hylocichla_mustelina_Miami_Township_near__North_Bend_Hamilton_County_Ohio_552552.wav\n",
      "Processing file: Converted Recordings\\Hylocichla_mustelina_Sharon_Woods_near__Cincinnati_Hamilton_County_Ohio_483768.wav\n",
      "Processing file: Converted Recordings\\Hylocichla_mustelina_Prairie_Oaks_Metro_Park--Sycamore_Plains_Area_182009.wav\n",
      "Processing file: Converted Recordings\\Hylocichla_mustelina_Ohio_Crane_Creek_SP_17042.wav\n",
      "Processing file: Converted Recordings\\Hylocichla_mustelina_Michigan_Monroe_County_16970.wav\n",
      "Processing file: Converted Recordings\\Catharus_ustulatus_Oak_Openings_Metropark_Ohio_418075.wav\n",
      "Processing file: Converted Recordings\\Catharus_ustulatus_Firestone_Metropark_Summit_County_Ohio_368004.wav\n",
      "Processing file: Converted Recordings\\Catharus_ustulatus_Bricker_Blvd_near_Cranbrook_Elementary_Columbus_OH_127737.wav\n",
      "Processing file: Converted Recordings\\Catharus_ustulatus_Columbus_Ohio_flight_call_recording_station_55203.wav\n",
      "Processing file: Converted Recordings\\Catharus_minimus_Bricker_Blvd_near_Cranbrook_Elementary_Columbus_OH_127734.wav\n",
      "Processing file: Converted Recordings\\Catharus_fuscescens_Oak_Openings_Lucas_County_Ohio_803619.wav\n",
      "Processing file: Converted Recordings\\Turdus_migratorius_Harrison_Township_near__Harrison_Hamilton_County_Ohio_728269.wav\n",
      "Processing file: Converted Recordings\\Turdus_migratorius_Pelee_near__Leamington_Essex_County_Ontario_476496.wav\n",
      "Processing file: Converted Recordings\\Turdus_migratorius_Pelee_near__Leamington_Essex_County_Ontario_476494.wav\n",
      "Processing file: Converted Recordings\\Turdus_migratorius_Green_Township_near__Cincinnati_Hamilton_County_Ohio_807538.wav\n",
      "Processing file: Converted Recordings\\Turdus_migratorius_Rossford_Wood_County_Ohio_803608.wav\n",
      "Processing file: Converted Recordings\\Turdus_migratorius_Bricker_Blvd_near_Cranbrook_Elementary_Columbus_OH_103571.wav\n",
      "Processing file: Converted Recordings\\Spinus_tristis_Miami_Township_near__Yellow_Springs_Greene_County_Ohio_756999.wav\n",
      "Processing file: Converted Recordings\\Spinus_tristis_Michigan_Petersburg_SGA_31023.wav\n",
      "Processing file: Converted Recordings\\Spinus_tristis_Pelee_near__Leamington_Essex_County_Ontario_476269.wav\n",
      "Processing file: Converted Recordings\\Spinus_tristis_Miami_Township_near__North_Bend_Hamilton_County_Ohio_646115.wav\n",
      "Processing file: Converted Recordings\\Ammodramus_savannarum_Michigan_Monroe_County_16953.wav\n",
      "Processing file: Converted Recordings\\Chondestes_grammacus_Ives_Road_Fen_Raisin_Charter_Township_near__Tecumseh_Lenawee_County_Michigan_734597.wav\n",
      "Processing file: Converted Recordings\\Chondestes_grammacus_Ives_Road_Fen_Raisin_Charter_Township_near__Tecumseh_Lenawee_County_Michigan_734596.wav\n",
      "Processing file: Converted Recordings\\Chondestes_grammacus_Michigan_Petersburg_SGA__31027.wav\n",
      "Processing file: Converted Recordings\\Spizella_passerina_Miami_Township_near__Cleves_Hamilton_County_Ohio_645554.wav\n",
      "Processing file: Converted Recordings\\Spizella_passerina_Pelee_near__Leamington_Essex_County_Ontario_476560.wav\n",
      "Processing file: Converted Recordings\\Spizella_passerina_Michigan_Monroe_County_16985.wav\n",
      "Processing file: Converted Recordings\\Spizella_passerina_Miami_near__North_Bend_Hamilton_County_Ohio_542142.wav\n",
      "Processing file: Converted Recordings\\Spizella_passerina_Michigan_Monroe_County_16984.wav\n",
      "Processing file: Converted Recordings\\Spizella_passerina_Michigan_Monroe_County_16983.wav\n",
      "Processing file: Converted Recordings\\Spizella_passerina_Michigan_Monroe_County_16982.wav\n",
      "Processing file: Converted Recordings\\Spizella_passerina_Michigan_Monroe_County_16981.wav\n",
      "Processing file: Converted Recordings\\Spizella_passerina_Michigan_Monroe_County_17172.wav\n",
      "Processing file: Converted Recordings\\Spizella_pusilla_Madison_Township_near__Canal_Winchester_Franklin_County_Ohio_554398.wav\n",
      "Processing file: Converted Recordings\\Spizella_pusilla_Miami_Township_near__Cleves_Hamilton_County_Ohio_807577.wav\n",
      "Processing file: Converted Recordings\\Spizella_pusilla_Oak_Openings_Metropark_Ohio_418069.wav\n",
      "Processing file: Converted Recordings\\Spizella_pusilla_Lawrence_Woods_SNP_417977.wav\n",
      "Processing file: Converted Recordings\\Spizella_pusilla_Lawrence_Woods_SNP_417975.wav\n",
      "Processing file: Converted Recordings\\Spizella_pusilla_Oak_Openings_Lucas_County_Ohio_803618.wav\n",
      "Processing file: Converted Recordings\\Spizella_pusilla_Whitewater_Township_near__Harrison_Hamilton_County_Ohio_726763.wav\n",
      "Processing file: Converted Recordings\\Spizella_pusilla_Marseilles_Township_near__Upper_Sandusky_Wyandot_County_Ohio_637645.wav\n",
      "Processing file: Converted Recordings\\Spizella_pusilla_East_Fork_Lake_SP_Clermont_County_Ohio_416557.wav\n",
      "Processing file: Converted Recordings\\Spizella_pusilla_Crosby_Township_near__Harrison_Hamilton_County_Ohio_632520.wav\n",
      "Processing file: Converted Recordings\\Spizella_pusilla_Michigan_Monroe_County_16986.wav\n",
      "Processing file: Converted Recordings\\Passerella_iliaca_Firestone_Metropark_Summit_County_Ohio_407934.wav\n",
      "Processing file: Converted Recordings\\Junco_hyemalis_Pebblebrook_Lane_Moreland_Hills_Ohio_79986.wav\n",
      "Processing file: Converted Recordings\\Zonotrichia_albicollis_Cuyahoga_Falls_Summit_County_Ohio_475087.wav\n",
      "Processing file: Converted Recordings\\Pooecetes_gramineus_Michigan_Monroe_County_17154.wav\n",
      "Processing file: Converted Recordings\\Pooecetes_gramineus_Michigan_Monroe_County_17095.wav\n",
      "Processing file: Converted Recordings\\Pooecetes_gramineus_Michigan_Monroe_County_16978.wav\n",
      "Processing file: Converted Recordings\\Centronyx_henslowii_Ross_Township_near__Ross_Butler_County_Ohio_807504.wav\n",
      "Processing file: Converted Recordings\\Centronyx_henslowii_Battelle_Darby_Metro_Park_-_Wetlands_417868.wav\n",
      "Processing file: Converted Recordings\\Centronyx_henslowii_Battelle_Darby_Metro_Park_-_Wetlands_417867.wav\n",
      "Processing file: Converted Recordings\\Centronyx_henslowii_Miami_Whitewater_Forest_Park_wetlands_Crosby_Township_near__Harrison_Hamilton_County_Ohio_302926.wav\n",
      "Processing file: Converted Recordings\\Centronyx_henslowii_Battelle_Darby_Metro_Park--Grain_Elevator_Wetlands_106752.wav\n",
      "Processing file: Converted Recordings\\Melospiza_melodia_Magee_Marsh_-_boardwalk_Lucas_County_Ohio_826141.wav\n",
      "Processing file: Converted Recordings\\Melospiza_melodia_Magee_Marsh_-_boardwalk_Lucas_County_Ohio_826140.wav\n",
      "Processing file: Converted Recordings\\Melospiza_melodia_Green_Township_near__Cincinnati_Hamilton_County_Ohio_807468.wav\n",
      "Processing file: Converted Recordings\\Melospiza_melodia_Point_Pelee_National_Park_near__Wheatley_Essex_County_Ontario_806074.wav\n",
      "Processing file: Converted Recordings\\Melospiza_melodia_Battelle_Darby_Metro_Park--Darby_Dan_Training_Loop_trail_SW_corner_105818.wav\n",
      "Processing file: Converted Recordings\\Melospiza_melodia_Miami_Whitewater_Forest_Park_wetlands_Crosby_Township_near__Harrison_Hamilton_County_Ohio_687157.wav\n",
      "Processing file: Converted Recordings\\Melospiza_melodia_Oak_Openings_Metropark_Ohio_418071.wav\n",
      "Processing file: Converted Recordings\\Melospiza_melodia_Michigan_Monroe_County_16972.wav\n",
      "Processing file: Converted Recordings\\Melospiza_melodia_Michigan_Monroe_County_17143.wav\n",
      "Processing file: Converted Recordings\\Melospiza_georgiana_Miami_Whitewater_Forest_Park_wetlands_Crosby_Township_near__Harrison_Hamilton_County_Ohio_687137.wav\n",
      "Processing file: Converted Recordings\\Melospiza_georgiana_Battelle_Darby_Metro_Park_-_Wetlands_417851.wav\n",
      "Processing file: Converted Recordings\\Melospiza_georgiana_Pelee_near__Leamington_Essex_County_Ontario_475341.wav\n",
      "Processing file: Converted Recordings\\Melospiza_georgiana_Cuyhaoga_National_Forest_57835.wav\n",
      "Processing file: Converted Recordings\\Pipilo_erythrophthalmus_Edge_of_Appalachia_Preserve_Adams_Cty_Ohio_939170.wav\n",
      "Processing file: Converted Recordings\\Pipilo_erythrophthalmus_Point_Pelee_National_Park_near__Wheatley_Essex_County_Ontario_805531.wav\n",
      "Processing file: Converted Recordings\\Pipilo_erythrophthalmus_Green_Township_near__Cincinnati_Hamilton_County_Ohio_779377.wav\n",
      "Processing file: Converted Recordings\\Pipilo_erythrophthalmus_Miami_Township_near__Cleves_Hamilton_County_Ohio_645749.wav\n",
      "Processing file: Converted Recordings\\Pipilo_erythrophthalmus_Pelee_near__Leamington_Essex_County_Ontario_476567.wav\n",
      "Processing file: Converted Recordings\\Pipilo_erythrophthalmus_Brush_Creek_near__West_Union_Adams_County_Ohio_178534.wav\n",
      "Processing file: Converted Recordings\\Pipilo_erythrophthalmus_Ross_Township_near__Hamilton_Butler_County_Ohio_533333.wav\n",
      "Processing file: Converted Recordings\\Pipilo_erythrophthalmus_Upper_Twin_Creek_Rd_Scioto_County_Ohio_417606.wav\n",
      "Processing file: Converted Recordings\\Pipilo_erythrophthalmus_East_Fork_Lake_SP_Clermont_County_Ohio_416553.wav\n",
      "Processing file: Converted Recordings\\Pipilo_erythrophthalmus_Michigan_Petersburg_SGA__31106.wav\n",
      "Processing file: Converted Recordings\\Pipilo_erythrophthalmus_Michigan_Monroe_County_17150.wav\n",
      "Processing file: Converted Recordings\\Pipilo_erythrophthalmus_East_Fork_Lake_SP_Clermont_County_Ohio_416552.wav\n",
      "Processing file: Converted Recordings\\Pipilo_erythrophthalmus_Michigan_Petersburg_SGA__31105.wav\n",
      "Processing file: Converted Recordings\\Pipilo_erythrophthalmus_Michigan_Monroe_County_17151.wav\n",
      "Processing file: Converted Recordings\\Pipilo_erythrophthalmus_Oak_Openings_Lucas_County_Ohio_804997.wav\n",
      "Processing file: Converted Recordings\\Icteria_virens_Miami_Township_near__Cleves_Hamilton_County_Ohio_807580.wav\n",
      "Processing file: Converted Recordings\\Icteria_virens_Miami_Township_near__North_Bend_Hamilton_County_Ohio_646037.wav\n",
      "Processing file: Converted Recordings\\Dolichonyx_oryzivorus_Case_Farm_Gates_Mills_Ohio_67480.wav\n",
      "Processing file: Converted Recordings\\Sturnella_neglecta_Riga_Township_near__Ottawa_Lake_Lenawee_County_Michigan_332656.wav\n",
      "Processing file: Converted Recordings\\Sturnella_magna_Voice_of_America_MetroPark_near__Middletown_Butler_County_Ohio_645577.wav\n",
      "Processing file: Converted Recordings\\Sturnella_magna_Voice_of_America_MetroPark_near__Middletown_Butler_County_Ohio_643650.wav\n",
      "Processing file: Converted Recordings\\Icterus_galbula_Magee_Marsh_-_boardwalk_Lucas_County_Ohio_820108.wav\n",
      "Processing file: Converted Recordings\\Icterus_galbula_Magee_Marsh_-_boardwalk_Lucas_County_Ohio_818924.wav\n",
      "Processing file: Converted Recordings\\Icterus_galbula_Point_Pelee_National_Park_near__Wheatley_Essex_County_Ontario_803372.wav\n",
      "Processing file: Converted Recordings\\Icterus_galbula_Whitewater_Township_near__Harrison_Hamilton_County_Ohio_726803.wav\n",
      "Processing file: Converted Recordings\\Icterus_galbula_Dunham_Recreation_Complex_near__Cincinnati_Hamilton_County_Ohio_646455.wav\n",
      "Processing file: Converted Recordings\\Icterus_galbula_Pelee_near__Leamington_Essex_County_Ontario_476519.wav\n",
      "Processing file: Converted Recordings\\Icterus_galbula_Kiser_Lake_SP_Champaign_County_Ohio_938239.wav\n",
      "Processing file: Converted Recordings\\Icterus_galbula_Kiser_Lake_SP_Champaign_County_Ohio_938235.wav\n",
      "Processing file: Converted Recordings\\Icterus_galbula_Magee_Marsh_-_boardwalk_Lucas_County_Ohio_820109.wav\n",
      "Processing file: Converted Recordings\\Icterus_galbula_Magee_Marsh_-_boardwalk_Lucas_County_Ohio_818926.wav\n",
      "Processing file: Converted Recordings\\Icterus_galbula_Magee_Marsh_-_boardwalk_Lucas_County_Ohio_818925.wav\n",
      "Processing file: Converted Recordings\\Icterus_galbula_Tanager_Meadow_Reservable_Shelter_near__Harrison_Hamilton_County_Ohio_807350.wav\n",
      "Processing file: Converted Recordings\\Icterus_galbula_Tanager_Meadow_Reservable_Shelter_near__Harrison_Hamilton_County_Ohio_807347.wav\n",
      "Processing file: Converted Recordings\\Icterus_galbula_Park_End_Dr_Montgomery_County_Ohio_477390.wav\n",
      "Processing file: Converted Recordings\\Icterus_galbula_Magee_Marsh_Ohio_418002.wav\n",
      "Processing file: Converted Recordings\\Icterus_galbula_Resthaven_Wildlife_Area_Erie_County_Ohio_217786.wav\n",
      "Processing file: Converted Recordings\\Icterus_galbula_Michigan_Monroe_County_16971.wav\n",
      "Processing file: Converted Recordings\\Icterus_galbula_Magee_Marsh_-_boardwalk_Lucas_County_Ohio_820106.wav\n",
      "Processing file: Converted Recordings\\Icterus_spurius_Maumee_Bay_SP_Ohio_806260.wav\n",
      "Processing file: Converted Recordings\\Icterus_spurius_Ohio_Ottawa_NWR_178296.wav\n",
      "Processing file: Converted Recordings\\Icterus_spurius_Heritage_Trail_Metro_Park_Hayden_Run_Rd_parking_area_103503.wav\n",
      "Processing file: Converted Recordings\\Icterus_spurius_Heritage_Trail_Metro_Park_Hayden_Run_Rd_parking_area_103502.wav\n",
      "Processing file: Converted Recordings\\Icterus_spurius_Michigan_Whiteford_Township_17091.wav\n",
      "Processing file: Converted Recordings\\Icterus_spurius_Michigan_Whiteford_Township_17090.wav\n",
      "Processing file: Converted Recordings\\Agelaius_phoeniceus_Kiser_Lake_SP_Champaign_County_Ohio_938242.wav\n",
      "Processing file: Converted Recordings\\Agelaius_phoeniceus_Magee_Marsh_-_boardwalk_Lucas_County_Ohio_814755.wav\n",
      "Processing file: Converted Recordings\\Agelaius_phoeniceus_Magee_Marsh_-_boardwalk_Lucas_County_Ohio_814751.wav\n",
      "Processing file: Converted Recordings\\Agelaius_phoeniceus_Wegerzyn_garden_near__Dayton_Montgomery_County_Ohio_807222.wav\n",
      "Processing file: Converted Recordings\\Agelaius_phoeniceus_Dunham_Recreation_Complex_near__Cincinnati_Hamilton_County_Ohio_646125.wav\n",
      "Processing file: Converted Recordings\\Agelaius_phoeniceus_Franklin_Township_near__Saint_Marys_Mercer_County_Ohio_637652.wav\n",
      "Processing file: Converted Recordings\\Agelaius_phoeniceus_Pelee_near__Leamington_Essex_County_Ontario_477032.wav\n",
      "Processing file: Converted Recordings\\Agelaius_phoeniceus_Battelle_Darby_Metro_Park_-_Wetlands_417853.wav\n",
      "Processing file: Converted Recordings\\Agelaius_phoeniceus_Battelle_Darby_Metro_Park_-_Wetlands_417845.wav\n",
      "Processing file: Converted Recordings\\Agelaius_phoeniceus_Pipe_Creek_Wildlife_Area_Erie_County_Ohio_803614.wav\n",
      "Processing file: Converted Recordings\\Agelaius_phoeniceus_Battelle_Darby_Metro_Park_-_Wetlands_737241.wav\n",
      "Processing file: Converted Recordings\\Agelaius_phoeniceus_Ross_Township_near__Hamilton_Butler_County_Ohio_533370.wav\n",
      "Processing file: Converted Recordings\\Agelaius_phoeniceus_Crosby_Township_near__Harrison_Hamilton_County_Ohio_482675.wav\n",
      "Processing file: Converted Recordings\\Agelaius_phoeniceus_Case_Farm_Gates_Mills_Ohio_98722.wav\n",
      "Processing file: Converted Recordings\\Agelaius_phoeniceus_Ohio_Crane_Creek_SP_17011.wav\n",
      "Processing file: Converted Recordings\\Agelaius_phoeniceus_Maumee_Bay_State_Park_Lucas_County_Ohio_821130.wav\n",
      "Processing file: Converted Recordings\\Agelaius_phoeniceus_Maumee_Bay_State_Park_Lucas_County_Ohio_821123.wav\n",
      "Processing file: Converted Recordings\\Agelaius_phoeniceus_UC_Center_for_Field_Studies_482986.wav\n",
      "Processing file: Converted Recordings\\Molothrus_ater_Miami_Township_near__Cleves_Hamilton_County_Ohio_645734.wav\n",
      "Processing file: Converted Recordings\\Molothrus_ater_Pelee_near__Leamington_Essex_County_Ontario_476558.wav\n",
      "Processing file: Converted Recordings\\Molothrus_ater_Lawrence_Woods_SNP_417996.wav\n",
      "Processing file: Converted Recordings\\Euphagus_carolinus_Michigan_Deerfield_11853.wav\n",
      "Processing file: Converted Recordings\\Euphagus_carolinus_Firestone_Metropark_Summit_County_Ohio_401462.wav\n",
      "Processing file: Converted Recordings\\Euphagus_carolinus_Ohio_Crane_Creek_SP_17013.wav\n",
      "Processing file: Converted Recordings\\Quiscalus_quiscula_Pelee_near__Leamington_Essex_County_Ontario_476561.wav\n",
      "Processing file: Converted Recordings\\Quiscalus_quiscula_Wegerzyn_garden_near__Dayton_Montgomery_County_Ohio_807216.wav\n",
      "Processing file: Converted Recordings\\Seiurus_aurocapilla_Swanton_Township_near__Swanton_Lucas_County_Ohio_784050.wav\n",
      "Processing file: Converted Recordings\\Seiurus_aurocapilla_Harrison_Township_near__Harrison_Hamilton_County_Ohio_726815.wav\n",
      "Processing file: Converted Recordings\\Seiurus_aurocapilla_Shawnee_State_Forest_Scioto_County_Ohio_417447.wav\n",
      "Processing file: Converted Recordings\\Seiurus_aurocapilla_Burlington_Boone_County_Kentucky_552553.wav\n",
      "Processing file: Converted Recordings\\Seiurus_aurocapilla_Ohio_Crane_Creek_SP_17021.wav\n",
      "Processing file: Converted Recordings\\Seiurus_aurocapilla_Ohio_Crane_Creek_SP_17019.wav\n",
      "Processing file: Converted Recordings\\Seiurus_aurocapilla_Ohio_Crane_Creek_SP_17023.wav\n",
      "Processing file: Converted Recordings\\Seiurus_aurocapilla_Ohio_Crane_Creek_SP_17022.wav\n",
      "Processing file: Converted Recordings\\Seiurus_aurocapilla_Ohio_Crane_Creek_SP_17020.wav\n",
      "Processing file: Converted Recordings\\Parkesia_motacilla_Harrison_Township_near__Harrison_Hamilton_County_Ohio_805820.wav\n",
      "Processing file: Converted Recordings\\Parkesia_motacilla_Harrison_Township_near__Harrison_Hamilton_County_Ohio_714922.wav\n",
      "Processing file: Converted Recordings\\Parkesia_motacilla_Upper_Twin_Creek_Rd_Scioto_County_Ohio_417605.wav\n",
      "Processing file: Converted Recordings\\Parkesia_motacilla_Anderson_Township_near__Cincinnati_Hamilton_County_Ohio_542524.wav\n",
      "Processing file: Converted Recordings\\Parkesia_noveboracensis_Magee_Marsh_-_boardwalk_Lucas_County_Ohio_828221.wav\n",
      "Processing file: Converted Recordings\\Parkesia_noveboracensis_Point_Pelee_National_Park_near__Wheatley_Essex_County_Ontario_804668.wav\n",
      "Processing file: Converted Recordings\\Parkesia_noveboracensis_Benton_Township_near__Rocky_Ridge_Ottawa_County_Ohio_902985.wav\n",
      "Processing file: Converted Recordings\\Parkesia_noveboracensis_Benton_Township_near__Rocky_Ridge_Ottawa_County_Ohio_902982.wav\n",
      "Processing file: Converted Recordings\\Parkesia_noveboracensis_Benton_Township_near__Rocky_Ridge_Ottawa_County_Ohio_902981.wav\n",
      "Processing file: Converted Recordings\\Parkesia_noveboracensis_Virginia_Kendall_Lake_Park_Summit_County_Ohio_367525.wav\n",
      "Processing file: Converted Recordings\\Parkesia_noveboracensis_Ohio_Crane_Creek_SP_17024.wav\n",
      "Processing file: Converted Recordings\\Vermivora_chrysoptera_Magee_Marsh_-_boardwalk_Lucas_County_Ohio_939868.wav\n",
      "Processing file: Converted Recordings\\Vermivora_chrysoptera_Delaware_Count_OH_99394.wav\n",
      "Processing file: Converted Recordings\\Vermivora_chrysoptera_Prairie_Oaks_Metro_Park_99391.wav\n",
      "Processing file: Converted Recordings\\Vermivora_chrysoptera_Prairie_Oaks_Metro_Park_99393.wav\n",
      "Processing file: Converted Recordings\\Vermivora_chrysoptera_Prairie_Oaks_Metro_Park_99390.wav\n",
      "Processing file: Converted Recordings\\Vermivora_cyanoptera_Irwin_Prairie_SNP_Ohio_418085.wav\n",
      "Processing file: Converted Recordings\\Vermivora_cyanoptera_Irwin_Prairie_SNP_Ohio_418083.wav\n",
      "Processing file: Converted Recordings\\Vermivora_cyanoptera_Irwin_Prairie_SNP_Ohio_418082.wav\n",
      "Processing file: Converted Recordings\\Vermivora_cyanoptera_Oak_Openings_Metropark_Ohio_418074.wav\n",
      "Processing file: Converted Recordings\\Vermivora_cyanoptera_Shawnee_State_Forest_Scioto_County_Ohio_417455.wav\n",
      "Processing file: Converted Recordings\\Vermivora_cyanoptera_Miami_Whitewater_Forest_Hamilton_County_Ohio_Strimple_Rd._44416.wav\n",
      "Processing file: Converted Recordings\\Vermivora_cyanoptera_Oak_Openings_Lucas_County_Ohio_803617.wav\n",
      "Processing file: Converted Recordings\\Vermivora_cyanoptera_Michigan_Petersburg_SGA__31125.wav\n",
      "Processing file: Converted Recordings\\Vermivora_cyanoptera_Michigan_Petersburg_SGA__31124.wav\n",
      "Processing file: Converted Recordings\\Vermivora_cyanoptera_Michigan_Petersburg_SGA__31123.wav\n",
      "Processing file: Converted Recordings\\Mniotilta_varia_Shawnee_State_Forest_Scioto_County_Ohio_939168.wav\n",
      "Processing file: Converted Recordings\\Mniotilta_varia_Magee_Marsh_Ohio_418093.wav\n",
      "Processing file: Converted Recordings\\Mniotilta_varia_Magee_Marsh_Ohio_418092.wav\n",
      "Processing file: Converted Recordings\\Mniotilta_varia_Magee_Marsh_-_boardwalk_Lucas_County_Ohio_827727.wav\n",
      "Processing file: Converted Recordings\\Mniotilta_varia_Benton_Township_near__Rocky_Ridge_Ottawa_County_Ohio_902974.wav\n",
      "Processing file: Converted Recordings\\Mniotilta_varia_Ohio_Crane_Creek_SP_17043.wav\n",
      "Processing file: Converted Recordings\\Mniotilta_varia_Ohio_Crane_Creek_SP_17015.wav\n",
      "Processing file: Converted Recordings\\Mniotilta_varia_Ohio_Crane_Creek_SP_17014.wav\n",
      "Processing file: Converted Recordings\\Protonotaria_citrea_Point_Pelee_National_Park_near__Wheatley_Essex_County_Ontario_839864.wav\n",
      "Processing file: Converted Recordings\\Protonotaria_citrea_Magee_Marsh_-_boardwalk_Lucas_County_Ohio_828067.wav\n",
      "Processing file: Converted Recordings\\Protonotaria_citrea_Magee_Marsh_-_boardwalk_Lucas_County_Ohio_828064.wav\n",
      "Processing file: Converted Recordings\\Protonotaria_citrea_Miami_Township_near__North_Bend_Hamilton_County_Ohio_645989.wav\n",
      "Processing file: Converted Recordings\\Protonotaria_citrea_Pelee_near__Leamington_Essex_County_Ontario_476998.wav\n",
      "Processing file: Converted Recordings\\Protonotaria_citrea_Magee_Marsh_-_boardwalk_Lucas_County_Ohio_828063.wav\n",
      "Processing file: Converted Recordings\\Protonotaria_citrea_Magee_Marsh_-_boardwalk_Lucas_County_Ohio_828061.wav\n",
      "Processing file: Converted Recordings\\Protonotaria_citrea_Cuyahoga_Valley_National_Park_Station_Road_area_662929.wav\n",
      "Processing file: Converted Recordings\\Protonotaria_citrea_Anderson_Township_near__Cincinnati_Hamilton_County_Ohio_552556.wav\n",
      "Processing file: Converted Recordings\\Leiothlypis_peregrina_Harrison_Township_near__Harrison_Hamilton_County_Ohio_726818.wav\n",
      "Processing file: Converted Recordings\\Leiothlypis_peregrina_Magee_Marsh_-_Crane_Creek_Ohio_418091.wav\n",
      "Processing file: Converted Recordings\\Leiothlypis_peregrina_Tanglewood_Lane_Cincinnati_Ohio_44328.wav\n",
      "Processing file: Converted Recordings\\Leiothlypis_peregrina_Pipe_Creek_Wildlife_Area_Erie_County_Ohio_803615.wav\n",
      "Processing file: Converted Recordings\\Leiothlypis_peregrina_Magee_Marsh_Ohio_418302.wav\n",
      "Processing file: Converted Recordings\\Leiothlypis_peregrina_Magee_Marsh_Ohio_418006.wav\n",
      "Processing file: Converted Recordings\\Leiothlypis_peregrina_Benton_Township_near__Rocky_Ridge_Ottawa_County_Ohio_902978.wav\n",
      "Processing file: Converted Recordings\\Leiothlypis_peregrina_Magee_Marsh_-_boardwalk_Lucas_County_Ohio_477404.wav\n",
      "Processing file: Converted Recordings\\Leiothlypis_peregrina_Magee_Marsh_Ohio_174389.wav\n",
      "Processing file: Converted Recordings\\Leiothlypis_peregrina_Magee_Marsh_-_Crane_Creek_Ohio_418090.wav\n",
      "Processing file: Converted Recordings\\Leiothlypis_celata_Tanglewood_Lane_Cincinnati_Ohio_44329.wav\n",
      "Processing file: Converted Recordings\\Leiothlypis_ruficapilla_Green_Township_near__Cincinnati_Hamilton_County_Ohio_723591.wav\n",
      "Processing file: Converted Recordings\\Leiothlypis_ruficapilla_Tanglewood_Lane_Cincinnati_Ohio_44428.wav\n",
      "Processing file: Converted Recordings\\Oporornis_agilis_Mansfield_Richland_County_Ohio_804330.wav\n",
      "Processing file: Converted Recordings\\Oporornis_agilis_Point_Pelee_National_Park_Essex_County_Ontario_802580.wav\n",
      "Processing file: Converted Recordings\\Oporornis_agilis_Blendon_Woods_Metro_Park--Brookside_Trail_near_Hickory_Ridge_Trail_Columbus_Franklin_County_Ohio_179835.wav\n",
      "Processing file: Converted Recordings\\Geothlypis_philadelphia_OSU's_Waterman_Farm_wood_lot_Columbus_Franklin_County_Ohio_179681.wav\n",
      "Processing file: Converted Recordings\\Geothlypis_philadelphia_Green_Township_near__Cincinnati_Hamilton_County_Ohio_723382.wav\n",
      "Processing file: Converted Recordings\\Geothlypis_philadelphia_Ohio_near__Akron_Summit_County_Ohio_369829.wav\n",
      "Processing file: Converted Recordings\\Geothlypis_philadelphia_Point_Pelee_National_Park_Essex_County_Ontario_725314.wav\n",
      "Processing file: Converted Recordings\\Geothlypis_formosa_Shawnee_State_Park_Scioto_County_Ohio_417604.wav\n",
      "Processing file: Converted Recordings\\Geothlypis_formosa_Shawnee_State_Forest_Scioto_County_Ohio_417461.wav\n",
      "Processing file: Converted Recordings\\Geothlypis_formosa_Shawnee_State_Forest_Scioto_County_Ohio_417459.wav\n",
      "Processing file: Converted Recordings\\Geothlypis_formosa_Shawnee_State_Forest_Scioto_County_Ohio_417458.wav\n",
      "Processing file: Converted Recordings\\Geothlypis_formosa_Shawnee_State_Forest_Scioto_County_Ohio_939167.wav\n",
      "Processing file: Converted Recordings\\Geothlypis_formosa_Whitewater_Township_near__Cleves_Hamilton_County_Ohio_910509.wav\n",
      "Processing file: Converted Recordings\\Geothlypis_formosa_Whitewater_Township_near__Cleves_Hamilton_County_Ohio_817715.wav\n",
      "Processing file: Converted Recordings\\Geothlypis_formosa_Whitewater_Township_near__Cleves_Hamilton_County_Ohio_817714.wav\n",
      "Processing file: Converted Recordings\\Geothlypis_formosa_Oak_Openings_Lucas_County_Ohio_803620.wav\n",
      "Processing file: Converted Recordings\\Geothlypis_formosa_Harrison_Township_near__Harrison_Hamilton_County_Ohio_726820.wav\n",
      "Processing file: Converted Recordings\\Geothlypis_formosa_Columbus_OH--Blendon_Woods_Metro_Park--Hickory_Ridge_Trail_between_Brookside_and_Overlook_Trails_103881.wav\n",
      "Processing file: Converted Recordings\\Geothlypis_formosa_Michigan_Petersburg_SGA__31280.wav\n",
      "Processing file: Converted Recordings\\Geothlypis_formosa_Harrison_Township_near__Harrison_Hamilton_County_Ohio_728265.wav\n",
      "Processing file: Converted Recordings\\Geothlypis_trichas_Magee_Marsh_-_boardwalk_Lucas_County_Ohio_828478.wav\n",
      "Processing file: Converted Recordings\\Geothlypis_trichas_Point_Pelee_National_Park_near__Wheatley_Essex_County_Ontario_803583.wav\n",
      "Processing file: Converted Recordings\\Geothlypis_trichas_Whitewater_Township_near__Harrison_Hamilton_County_Ohio_726806.wav\n",
      "Processing file: Converted Recordings\\Geothlypis_trichas_Miami_Township_near__North_Bend_Hamilton_County_Ohio_646029.wav\n",
      "Processing file: Converted Recordings\\Geothlypis_trichas_Lawrence_Woods_SNP_417980.wav\n",
      "Processing file: Converted Recordings\\Geothlypis_trichas_East_Fork_Lake_SP_Clermont_County_Ohio_416558.wav\n",
      "Processing file: Converted Recordings\\Geothlypis_trichas_Battelle_Darby_Metro_Park_-_Wetlands_737240.wav\n",
      "Processing file: Converted Recordings\\Geothlypis_trichas_Ohio_near__Peninsula_Summit_County_Ohio_374227.wav\n",
      "Processing file: Converted Recordings\\Setophaga_citrina_Whitewater_Township_near__Cleves_Hamilton_County_Ohio_910499.wav\n",
      "Processing file: Converted Recordings\\Setophaga_citrina_Harrison_Township_near__Harrison_Hamilton_County_Ohio_726821.wav\n",
      "Processing file: Converted Recordings\\Setophaga_citrina_Brecksville_Cuyahoga_County_Ohio_652287.wav\n",
      "Processing file: Converted Recordings\\Setophaga_ruticilla_Magee_Marsh_-_boardwalk_Lucas_County_Ohio_825241.wav\n",
      "Processing file: Converted Recordings\\Setophaga_ruticilla_Miami_Township_near__North_Bend_Hamilton_County_Ohio_645905.wav\n",
      "Processing file: Converted Recordings\\Setophaga_ruticilla_Pelee_near__Leamington_Essex_County_Ontario_476493.wav\n",
      "Processing file: Converted Recordings\\Setophaga_ruticilla_Paris_near__Ravenna_Portage_County_Ohio_178310.wav\n",
      "Processing file: Converted Recordings\\Setophaga_ruticilla_Point_Pelee_ON_83534.wav\n",
      "Processing file: Converted Recordings\\Setophaga_ruticilla_Magee_Marsh_-_boardwalk_Lucas_County_Ohio_825242.wav\n",
      "Processing file: Converted Recordings\\Setophaga_ruticilla_Magee_Marsh_-_boardwalk_Lucas_County_Ohio_825240.wav\n",
      "Processing file: Converted Recordings\\Setophaga_ruticilla_Magee_Marsh_Ohio_418300.wav\n",
      "Processing file: Converted Recordings\\Setophaga_ruticilla_Magee_Marsh_Ohio_418298.wav\n",
      "Processing file: Converted Recordings\\Setophaga_ruticilla_Shawnee_State_Forest_Scioto_County_Ohio_417456.wav\n",
      "Processing file: Converted Recordings\\Setophaga_ruticilla_Shawnee_State_Forest_Scioto_County_Ohio_417443.wav\n",
      "Processing file: Converted Recordings\\Setophaga_kirtlandii_Kinnear_Rd_&_Hess_Blvd_Columbus_OH_103387.wav\n",
      "Processing file: Converted Recordings\\Setophaga_kirtlandii_Kinnear_Rd_&_Hess_Blvd_Columbus_OH_103394.wav\n",
      "Processing file: Converted Recordings\\Setophaga_tigrina_Magee_Marsh_Ohio_418096.wav\n",
      "Processing file: Converted Recordings\\Setophaga_tigrina_Magee_Marsh_Ohio_418094.wav\n",
      "Processing file: Converted Recordings\\Setophaga_tigrina_Tanglewood_Lane_Cincinnati_Ohio_44424.wav\n",
      "Processing file: Converted Recordings\\Setophaga_tigrina_Tanglewood_Lane_Cincinnati_Ohio_44423.wav\n",
      "Processing file: Converted Recordings\\Setophaga_tigrina_Ohio_Crane_Creek_SP_17040.wav\n",
      "Processing file: Converted Recordings\\Setophaga_cerulea_Shawnee_State_Forest_Scioto_County_Ohio_417450.wav\n",
      "Processing file: Converted Recordings\\Setophaga_cerulea_Shawnee_State_Forest_Scioto_County_Ohio_417448.wav\n",
      "Processing file: Converted Recordings\\Setophaga_cerulea_Miami_Township_near__North_Bend_Hamilton_County_Ohio_646112.wav\n",
      "Processing file: Converted Recordings\\Setophaga_cerulea_Shawnee_State_Forest_Scioto_County_Ohio_417453.wav\n",
      "Processing file: Converted Recordings\\Setophaga_cerulea_Lawrence_Woods_SNP_417983.wav\n",
      "Processing file: Converted Recordings\\Setophaga_americana_Point_Pelee_National_Park_near__Wheatley_Essex_County_Ontario_839515.wav\n",
      "Processing file: Converted Recordings\\Setophaga_americana_Magee_Marsh_-_boardwalk_Lucas_County_Ohio_825110.wav\n",
      "Processing file: Converted Recordings\\Setophaga_americana_Tanager_Meadow_Reservable_Shelter_near__Harrison_Hamilton_County_Ohio_807351.wav\n",
      "Processing file: Converted Recordings\\Setophaga_americana_Miami_Township_near__Cleves_Hamilton_County_Ohio_645550.wav\n",
      "Processing file: Converted Recordings\\Setophaga_americana_Pelee_near__Leamington_Essex_County_Ontario_476949.wav\n",
      "Processing file: Converted Recordings\\Setophaga_americana_Magee_Marsh_Ohio_418297.wav\n",
      "Processing file: Converted Recordings\\Setophaga_americana_Miami_near__North_Bend_Hamilton_County_Ohio_545784.wav\n",
      "Processing file: Converted Recordings\\Setophaga_americana_Magee_Marsh_Ohio_418004.wav\n",
      "Processing file: Converted Recordings\\Setophaga_americana_Ohio_near__Cleveland_Heights_Cuyahoga_County_Ohio_372023.wav\n",
      "Processing file: Converted Recordings\\Setophaga_americana_Prairie_Oaks_Metro_Park--Sycamore_Plains_Area_182008.wav\n",
      "Processing file: Converted Recordings\\Setophaga_magnolia_Magee_Marsh_-_boardwalk_Lucas_County_Ohio_828025.wav\n",
      "Processing file: Converted Recordings\\Setophaga_magnolia_Magee_Marsh_-_boardwalk_Lucas_County_Ohio_828022.wav\n",
      "Processing file: Converted Recordings\\Setophaga_magnolia_Magee_Marsh_-_boardwalk_Lucas_County_Ohio_828020.wav\n",
      "Processing file: Converted Recordings\\Setophaga_magnolia_Ohio_near__Cleveland_Heights_Cuyahoga_County_Ohio_418323.wav\n",
      "Processing file: Converted Recordings\\Setophaga_magnolia_Michigan_Petersburg_SGA__31032.wav\n",
      "Processing file: Converted Recordings\\Setophaga_castanea_Park_End_Dr_Montgomery_County_Ohio_477392.wav\n",
      "Processing file: Converted Recordings\\Setophaga_castanea_Pelee_near__Leamington_Essex_County_Ontario_476520.wav\n",
      "Processing file: Converted Recordings\\Setophaga_castanea_Park_End_Dr_Montgomery_County_Ohio_477393.wav\n",
      "Processing file: Converted Recordings\\Setophaga_fusca_Shawnee_State_Forest_Scioto_County_Ohio_417442.wav\n",
      "Processing file: Converted Recordings\\Setophaga_fusca_Pelee_near__Leamington_Essex_County_Ontario_476522.wav\n",
      "Processing file: Converted Recordings\\Setophaga_aestiva_Magee_Marsh_-_boardwalk_Lucas_County_Ohio_939866.wav\n",
      "Processing file: Converted Recordings\\Setophaga_aestiva_Camp_Henry_near__Wheatley_Essex_County_Ontario_839855.wav\n",
      "Processing file: Converted Recordings\\Setophaga_aestiva_Magee_Marsh_-_boardwalk_Lucas_County_Ohio_828200.wav\n",
      "Processing file: Converted Recordings\\Setophaga_aestiva_Magee_Marsh_-_boardwalk_Lucas_County_Ohio_828199.wav\n",
      "Processing file: Converted Recordings\\Setophaga_aestiva_Magee_Marsh_-_boardwalk_Lucas_County_Ohio_828198.wav\n",
      "Processing file: Converted Recordings\\Setophaga_aestiva_Magee_Marsh_-_boardwalk_Lucas_County_Ohio_828197.wav\n",
      "Processing file: Converted Recordings\\Setophaga_aestiva_Magee_Marsh_-_boardwalk_Lucas_County_Ohio_828196.wav\n",
      "Processing file: Converted Recordings\\Setophaga_aestiva_Whitewater_Township_near__Harrison_Hamilton_County_Ohio_726808.wav\n",
      "Processing file: Converted Recordings\\Setophaga_aestiva_Pelee_near__Leamington_Essex_County_Ontario_495792.wav\n",
      "Processing file: Converted Recordings\\Setophaga_aestiva_Magee_Marsh_-_Crane_Creek_Ohio_418088.wav\n",
      "Processing file: Converted Recordings\\Setophaga_aestiva_Maumee_Bay_State_Park_Lucas_County_Ohio_803613.wav\n",
      "Processing file: Converted Recordings\\Setophaga_aestiva_Ohio_Crane_Creek_SP_17039.wav\n",
      "Processing file: Converted Recordings\\Setophaga_aestiva_Ohio_Crane_Creek_SP_17038.wav\n",
      "Processing file: Converted Recordings\\Setophaga_aestiva_Ohio_Crane_Creek_SP_17037.wav\n",
      "Processing file: Converted Recordings\\Setophaga_pensylvanica_Pelee_near__Leamington_Essex_County_Ontario_476559.wav\n",
      "Processing file: Converted Recordings\\Setophaga_pensylvanica_Lawrence_Woods_SNP_417994.wav\n",
      "Processing file: Converted Recordings\\Setophaga_pensylvanica_Magee_Marsh_-_boardwalk_Lucas_County_Ohio_827845.wav\n",
      "Processing file: Converted Recordings\\Setophaga_pensylvanica_Magee_Marsh_-_boardwalk_Lucas_County_Ohio_827843.wav\n",
      "Processing file: Converted Recordings\\Setophaga_striata_Whitewater_Township_near__Harrison_Hamilton_County_Ohio_726810.wav\n",
      "Processing file: Converted Recordings\\Setophaga_striata_Benton_Township_near__Rocky_Ridge_Ottawa_County_Ohio_902977.wav\n",
      "Processing file: Converted Recordings\\Setophaga_striata_Benton_Township_near__Rocky_Ridge_Ottawa_County_Ohio_902976.wav\n",
      "Processing file: Converted Recordings\\Setophaga_caerulescens_Magee_Marsh_-_boardwalk_Lucas_County_Ohio_827750.wav\n",
      "Processing file: Converted Recordings\\Setophaga_palmarum_Ohio_Crane_Creek_SP_17032.wav\n",
      "Processing file: Converted Recordings\\Setophaga_palmarum_Ohio_Crane_Creek_SP_17031.wav\n",
      "Processing file: Converted Recordings\\Setophaga_palmarum_Ohio_Crane_Creek_SP_17030.wav\n",
      "Processing file: Converted Recordings\\Setophaga_palmarum_Ohio_Crane_Creek_SP_17029.wav\n",
      "Processing file: Converted Recordings\\Setophaga_pinus_Cuyahoga_Valley_National_Park_Wetmore_Trail_662930.wav\n",
      "Processing file: Converted Recordings\\Setophaga_pinus_Miami_Township_near__Cleves_Hamilton_County_Ohio_548088.wav\n",
      "Processing file: Converted Recordings\\Setophaga_pinus_Miami_Township_near__Cleves_Hamilton_County_Ohio_548084.wav\n",
      "Processing file: Converted Recordings\\Setophaga_coronata_Ohio_Crane_Creek_Sp_17028.wav\n",
      "Processing file: Converted Recordings\\Setophaga_coronata_Anderson_near__Cincinnati_Hamilton_County_Ohio_237811.wav\n",
      "Processing file: Converted Recordings\\Setophaga_dominica_Pater_Wildlife_Area_Butler_County_Ohio_44434.wav\n",
      "Processing file: Converted Recordings\\Setophaga_dominica_Miami_Township_near__Cleves_Hamilton_County_Ohio_548090.wav\n",
      "Processing file: Converted Recordings\\Setophaga_discolor_Burlington_Boone_County_Kentucky_552554.wav\n",
      "Processing file: Converted Recordings\\Setophaga_discolor_Pelee_near__Leamington_Essex_County_Ontario_476996.wav\n",
      "Processing file: Converted Recordings\\Setophaga_discolor_Pelee_near__Leamington_Essex_County_Ontario_476995.wav\n",
      "Processing file: Converted Recordings\\Setophaga_virens_Harrison_Township_near__Harrison_Hamilton_County_Ohio_719921.wav\n",
      "Processing file: Converted Recordings\\Cardellina_canadensis_Magee_Marsh_-_boardwalk_Lucas_County_Ohio_827828.wav\n",
      "Processing file: Converted Recordings\\Cardellina_canadensis_OSU's_Waterman_Farm_wood_lot_Columbus_Franklin_County_Ohio_179691.wav\n",
      "Processing file: Converted Recordings\\Cardellina_canadensis_OSU's_Waterman_Farm_wood_lot_Columbus_Franklin_County_Ohio_179679.wav\n",
      "Processing file: Converted Recordings\\Cardellina_canadensis_OSU's_Waterman_Farm_wood_lot_Columbus_Franklin_County_Ohio_179676.wav\n",
      "Processing file: Converted Recordings\\Cardellina_canadensis_Michigan_Petersburg_SGA__31133.wav\n",
      "Processing file: Converted Recordings\\Cardellina_pusilla_Magee_Marsh_-_boardwalk_Lucas_County_Ohio_828187.wav\n",
      "Processing file: Converted Recordings\\Piranga_rubra_Kitty_Todd_Nature_Preserve_Spencer_Township_Lucas_County_Ohio_923981.wav\n",
      "Processing file: Converted Recordings\\Piranga_olivacea_Whitewater_Township_near__Cleves_Hamilton_County_Ohio_896571.wav\n",
      "Processing file: Converted Recordings\\Piranga_olivacea_Brown_Township_near__Allensville_Vinton_County_Ohio_476090.wav\n",
      "Processing file: Converted Recordings\\Piranga_olivacea_Shawnee_State_Forest_Scioto_County_Ohio_417444.wav\n",
      "Processing file: Converted Recordings\\Piranga_olivacea_East_Fork_Lake_SP_Clermont_County_Ohio_416550.wav\n",
      "Processing file: Converted Recordings\\Pheucticus_ludovicianus_Harrison_Township_near__Harrison_Hamilton_County_Ohio_726850.wav\n",
      "Processing file: Converted Recordings\\Pheucticus_ludovicianus_Pelee_near__Leamington_Essex_County_Ontario_495791.wav\n",
      "Processing file: Converted Recordings\\Pheucticus_ludovicianus_Pelee_near__Leamington_Essex_County_Ontario_477036.wav\n",
      "Processing file: Converted Recordings\\Pheucticus_ludovicianus_Oak_Openings_Metropark_Ohio_418070.wav\n",
      "Processing file: Converted Recordings\\Pheucticus_ludovicianus_Shawnee_State_Forest_Scioto_County_Ohio_417454.wav\n",
      "Processing file: Converted Recordings\\Pheucticus_ludovicianus_Point_Pelee_National_Park_Essex_County_Ontario_910738.wav\n",
      "Processing file: Converted Recordings\\Pheucticus_ludovicianus_Maumee_Bay_State_Park_Lucas_County_Ohio_803611.wav\n",
      "Processing file: Converted Recordings\\Pheucticus_ludovicianus_Ohio_Crane_Creek_SP_17044.wav\n",
      "Processing file: Converted Recordings\\Cardinalis_cardinalis_Union_Township_near__Cincinnati_Clermont_County_Ohio_727761.wav\n",
      "Processing file: Converted Recordings\\Cardinalis_cardinalis_Green_Township_near__Cincinnati_Hamilton_County_Ohio_716618.wav\n",
      "Processing file: Converted Recordings\\Cardinalis_cardinalis_Miami_Township_near__Cleves_Hamilton_County_Ohio_713583.wav\n",
      "Processing file: Converted Recordings\\Cardinalis_cardinalis_Cincinnati_Hamilton_County_Ohio_677300.wav\n",
      "Processing file: Converted Recordings\\Cardinalis_cardinalis_Miami_Township_near__Cleves_Hamilton_County_Ohio_645816.wav\n",
      "Processing file: Converted Recordings\\Cardinalis_cardinalis_Tanglewood_Lane_Cincinnati_Ohio_302932.wav\n",
      "Processing file: Converted Recordings\\Cardinalis_cardinalis_Green_Township_near__Cincinnati_Hamilton_County_Ohio_817703.wav\n",
      "Processing file: Converted Recordings\\Cardinalis_cardinalis_Magee_Marsh_-_boardwalk_Lucas_County_Ohio_814887.wav\n",
      "Processing file: Converted Recordings\\Cardinalis_cardinalis_Green_Township_near__Cincinnati_Hamilton_County_Ohio_676765.wav\n",
      "Processing file: Converted Recordings\\Cardinalis_cardinalis_Green_Township_near__Cincinnati_Hamilton_County_Ohio_673006.wav\n",
      "Processing file: Converted Recordings\\Cardinalis_cardinalis_Spring_Valley_near__Waynesville_Greene_Cty_Ohio_477596.wav\n",
      "Processing file: Converted Recordings\\Cardinalis_cardinalis_East_Fork_Lake_SP_Clermont_County_Ohio_416549.wav\n",
      "Processing file: Converted Recordings\\Spiza_americana_Ohio_near__New_Franklin_Summit_County_Ohio_378358.wav\n",
      "Processing file: Converted Recordings\\Spiza_americana_Battelle_Darby_Metro_Park--Grain_Elevator_Wetlands_near_parking_area_105816.wav\n",
      "Processing file: Converted Recordings\\Spiza_americana_Michigan_Whiteford_Township_17103.wav\n",
      "Processing file: Converted Recordings\\Passerina_cyanea_Miami_Township_near__North_Bend_Hamilton_County_Ohio_817717.wav\n",
      "Processing file: Converted Recordings\\Passerina_cyanea_East_Fork_Lake_SP_Clermont_County_Ohio_416556.wav\n",
      "Processing file: Converted Recordings\\Passerina_cyanea_East_Fork_Lake_SP_Clermont_County_Ohio_416554.wav\n",
      "Processing file: Converted Recordings\\Passerina_cyanea_East_Fork_Lake_SP_Clermont_County_Ohio_416555.wav\n",
      "Processing file: Converted Recordings\\Passerina_cyanea_Michigan_Petersburg_SGA__31102.wav\n",
      "Processing file: Converted Recordings\\Passerina_cyanea_Michigan_Monroe_County_17148.wav\n",
      "Processing file: Converted Recordings\\Sonus_naturalis_Chagrin_Falls_Township_near__Moreland_Hills_Cuyahoga_County_Ohio_560021.wav\n",
      "Processing file: Converted Recordings\\Sonus_naturalis_Jerusalem_Township_near__Bono_Lucas_County_Ohio_784063.wav\n",
      "Processing file: Converted Recordings\\Sonus_naturalis_Lawrence_Woods_SNP_417979.wav\n",
      "Processing file: Converted Recordings\\Sonus_naturalis_Buhl-Morton_Road_462269.wav\n",
      "Processing file: Converted Recordings\\Sonus_naturalis_Maumee_Bay_State_Park_Lucas_County_Ohio_821133.wav\n",
      "Audio Processing Complete\n",
      "\n",
      "Audio processing is complete. There are now 12173 files in the 'Processed Recordings' directory.\n",
      "\n",
      "No files were discarded.\n"
     ]
    }
   ],
   "source": [
    "# Main execution\n",
    "converted_dir = 'Converted Recordings'\n",
    "processed_dir = 'Processed Recordings'\n",
    "\n",
    "# Ensure output directory exists\n",
    "if not os.path.exists(processed_dir):\n",
    "    os.makedirs(processed_dir)\n",
    "\n",
    "processed_data = process_dataset(converted_data, converted_dir, processed_dir)\n",
    "print('Audio Processing Complete')\n",
    "\n",
    "# Filter processed_data to only include files with \"segment\" in the file name\n",
    "processed_data = processed_data[processed_data['processed_file'].str.contains('_segment_')]\n",
    "\n",
    "# Print completion message and count files in Processed Recordings directory\n",
    "processed_file_count = len([f for f in os.listdir(processed_dir) if f.endswith('.wav')])\n",
    "print(f\"\\nAudio processing is complete. There are now {processed_file_count} files in the '{processed_dir}' directory.\")\n",
    "\n",
    "# Output discarded files\n",
    "discard_log_df = pd.read_csv('discarded_audio_log.csv')\n",
    "if not discard_log_df.empty:\n",
    "    print(\"\\nThe following files were discarded:\")\n",
    "    for _, row in discard_log_df.iterrows():\n",
    "        print(f\"{row['file_path']}: {row['reason']}\")\n",
    "else:\n",
    "    print(\"\\nNo files were discarded.\")"
   ]
  },
  {
   "cell_type": "code",
   "execution_count": 49,
   "metadata": {},
   "outputs": [
    {
     "name": "stdout",
     "output_type": "stream",
     "text": [
      "<class 'pandas.core.frame.DataFrame'>\n",
      "Index: 12120 entries, 0 to 690\n",
      "Data columns (total 11 columns):\n",
      " #   Column           Non-Null Count  Dtype  \n",
      "---  ------           --------------  -----  \n",
      " 0   genus            12120 non-null  object \n",
      " 1   species          12120 non-null  object \n",
      " 2   latitude         12120 non-null  float64\n",
      " 3   longitude        12120 non-null  float64\n",
      " 4   quality          12120 non-null  object \n",
      " 5   file_name        12120 non-null  object \n",
      " 6   simplified_type  12120 non-null  object \n",
      " 7   season           12120 non-null  object \n",
      " 8   time_of_day      12120 non-null  object \n",
      " 9   length_seconds   12120 non-null  int64  \n",
      " 10  processed_file   12120 non-null  object \n",
      "dtypes: float64(2), int64(1), object(8)\n",
      "memory usage: 1.1+ MB\n",
      "None\n"
     ]
    },
    {
     "data": {
      "text/html": [
       "<div>\n",
       "<style scoped>\n",
       "    .dataframe tbody tr th:only-of-type {\n",
       "        vertical-align: middle;\n",
       "    }\n",
       "\n",
       "    .dataframe tbody tr th {\n",
       "        vertical-align: top;\n",
       "    }\n",
       "\n",
       "    .dataframe thead th {\n",
       "        text-align: right;\n",
       "    }\n",
       "</style>\n",
       "<table border=\"1\" class=\"dataframe\">\n",
       "  <thead>\n",
       "    <tr style=\"text-align: right;\">\n",
       "      <th></th>\n",
       "      <th>genus</th>\n",
       "      <th>species</th>\n",
       "      <th>latitude</th>\n",
       "      <th>longitude</th>\n",
       "      <th>quality</th>\n",
       "      <th>file_name</th>\n",
       "      <th>simplified_type</th>\n",
       "      <th>season</th>\n",
       "      <th>time_of_day</th>\n",
       "      <th>length_seconds</th>\n",
       "      <th>processed_file</th>\n",
       "    </tr>\n",
       "  </thead>\n",
       "  <tbody>\n",
       "    <tr>\n",
       "      <th>0</th>\n",
       "      <td>Branta</td>\n",
       "      <td>canadensis</td>\n",
       "      <td>39.2095</td>\n",
       "      <td>-84.7821</td>\n",
       "      <td>A</td>\n",
       "      <td>Branta_canadensis_Whitewater_Township_near__Ha...</td>\n",
       "      <td>Call</td>\n",
       "      <td>Spring</td>\n",
       "      <td>Morning</td>\n",
       "      <td>14</td>\n",
       "      <td>Branta_canadensis_Whitewater_Township_near__Ha...</td>\n",
       "    </tr>\n",
       "    <tr>\n",
       "      <th>0</th>\n",
       "      <td>Branta</td>\n",
       "      <td>canadensis</td>\n",
       "      <td>39.2095</td>\n",
       "      <td>-84.7821</td>\n",
       "      <td>A</td>\n",
       "      <td>Branta_canadensis_Whitewater_Township_near__Ha...</td>\n",
       "      <td>Call</td>\n",
       "      <td>Spring</td>\n",
       "      <td>Morning</td>\n",
       "      <td>14</td>\n",
       "      <td>Branta_canadensis_Whitewater_Township_near__Ha...</td>\n",
       "    </tr>\n",
       "    <tr>\n",
       "      <th>0</th>\n",
       "      <td>Branta</td>\n",
       "      <td>canadensis</td>\n",
       "      <td>39.2095</td>\n",
       "      <td>-84.7821</td>\n",
       "      <td>A</td>\n",
       "      <td>Branta_canadensis_Whitewater_Township_near__Ha...</td>\n",
       "      <td>Call</td>\n",
       "      <td>Spring</td>\n",
       "      <td>Morning</td>\n",
       "      <td>14</td>\n",
       "      <td>Branta_canadensis_Whitewater_Township_near__Ha...</td>\n",
       "    </tr>\n",
       "    <tr>\n",
       "      <th>0</th>\n",
       "      <td>Branta</td>\n",
       "      <td>canadensis</td>\n",
       "      <td>39.2095</td>\n",
       "      <td>-84.7821</td>\n",
       "      <td>A</td>\n",
       "      <td>Branta_canadensis_Whitewater_Township_near__Ha...</td>\n",
       "      <td>Call</td>\n",
       "      <td>Spring</td>\n",
       "      <td>Morning</td>\n",
       "      <td>14</td>\n",
       "      <td>Branta_canadensis_Whitewater_Township_near__Ha...</td>\n",
       "    </tr>\n",
       "    <tr>\n",
       "      <th>0</th>\n",
       "      <td>Branta</td>\n",
       "      <td>canadensis</td>\n",
       "      <td>39.2095</td>\n",
       "      <td>-84.7821</td>\n",
       "      <td>A</td>\n",
       "      <td>Branta_canadensis_Whitewater_Township_near__Ha...</td>\n",
       "      <td>Call</td>\n",
       "      <td>Spring</td>\n",
       "      <td>Morning</td>\n",
       "      <td>14</td>\n",
       "      <td>Branta_canadensis_Whitewater_Township_near__Ha...</td>\n",
       "    </tr>\n",
       "  </tbody>\n",
       "</table>\n",
       "</div>"
      ],
      "text/plain": [
       "    genus     species  latitude  longitude quality  \\\n",
       "0  Branta  canadensis   39.2095   -84.7821       A   \n",
       "0  Branta  canadensis   39.2095   -84.7821       A   \n",
       "0  Branta  canadensis   39.2095   -84.7821       A   \n",
       "0  Branta  canadensis   39.2095   -84.7821       A   \n",
       "0  Branta  canadensis   39.2095   -84.7821       A   \n",
       "\n",
       "                                           file_name simplified_type  season  \\\n",
       "0  Branta_canadensis_Whitewater_Township_near__Ha...            Call  Spring   \n",
       "0  Branta_canadensis_Whitewater_Township_near__Ha...            Call  Spring   \n",
       "0  Branta_canadensis_Whitewater_Township_near__Ha...            Call  Spring   \n",
       "0  Branta_canadensis_Whitewater_Township_near__Ha...            Call  Spring   \n",
       "0  Branta_canadensis_Whitewater_Township_near__Ha...            Call  Spring   \n",
       "\n",
       "  time_of_day  length_seconds  \\\n",
       "0     Morning              14   \n",
       "0     Morning              14   \n",
       "0     Morning              14   \n",
       "0     Morning              14   \n",
       "0     Morning              14   \n",
       "\n",
       "                                      processed_file  \n",
       "0  Branta_canadensis_Whitewater_Township_near__Ha...  \n",
       "0  Branta_canadensis_Whitewater_Township_near__Ha...  \n",
       "0  Branta_canadensis_Whitewater_Township_near__Ha...  \n",
       "0  Branta_canadensis_Whitewater_Township_near__Ha...  \n",
       "0  Branta_canadensis_Whitewater_Township_near__Ha...  "
      ]
     },
     "execution_count": 49,
     "metadata": {},
     "output_type": "execute_result"
    }
   ],
   "source": [
    "print(processed_data.info())\n",
    "processed_data.head()"
   ]
  },
  {
   "cell_type": "markdown",
   "metadata": {},
   "source": [
    "### Data Augmentation\n",
    "### Augment the processed audio files.\n",
    "- Pitch Shift\n",
    "- Time Stretch\n",
    "- add_noise\n",
    "- change_speed\n",
    "- apply_filter\n",
    "- add_background\n",
    "- time_shift\n",
    "- augment_audio\n",
    "- "
   ]
  },
  {
   "cell_type": "code",
   "execution_count": 50,
   "metadata": {},
   "outputs": [],
   "source": [
    "\n",
    "def generate_wind_sound(duration, sr):\n",
    "    t = np.linspace(0, duration, int(sr * duration), False)\n",
    "    wind = np.random.normal(0, 0.1, int(sr * duration))\n",
    "    wind_filtered = np.convolve(wind, np.ones(1000)/1000, mode='same')\n",
    "    return wind_filtered / np.max(np.abs(wind_filtered))\n",
    "\n",
    "def generate_leaf_rustle(duration, sr):\n",
    "    t = np.linspace(0, duration, int(sr * duration), False)\n",
    "    leaf = np.random.normal(0, 0.1, int(sr * duration))\n",
    "    envelope = np.exp(-t * 10) * np.sin(2 * np.pi * 2 * t)**2\n",
    "    return leaf * envelope / np.max(np.abs(leaf * envelope))\n",
    "\n",
    "def generate_water_sound(duration, sr):\n",
    "    t = np.linspace(0, duration, int(sr * duration), False)\n",
    "    water = np.random.normal(0, 0.1, int(sr * duration))\n",
    "    water_filtered = np.convolve(water, np.ones(500)/500, mode='same')\n",
    "    ripple = np.sin(2 * np.pi * 2 * t) * np.exp(-t * 2)\n",
    "    return (water_filtered + ripple) / np.max(np.abs(water_filtered + ripple))\n",
    "\n",
    "def mix_nature_sounds(duration, sr):\n",
    "    wind = generate_wind_sound(duration, sr)\n",
    "    leaf = generate_leaf_rustle(duration, sr)\n",
    "    water = generate_water_sound(duration, sr)\n",
    "    \n",
    "    mix = wind * 0.7 + leaf * 0.2 + water * 0.1\n",
    "    return mix / np.max(np.abs(mix))\n",
    "\n",
    "# Generate a 5-second mix of nature-like sounds\n",
    "sr = 44100\n",
    "duration = 5\n",
    "nature_background = mix_nature_sounds(duration, sr)"
   ]
  },
  {
   "cell_type": "code",
   "execution_count": 51,
   "metadata": {},
   "outputs": [],
   "source": [
    "\n",
    "def pitch_shift(audio, sr, n_steps):\n",
    "    n_fft = min(2048, len(audio))\n",
    "    return librosa.effects.pitch_shift(audio, sr=sr, n_steps=n_steps, n_fft=n_fft)\n",
    "\n",
    "def time_stretch(audio, rate):\n",
    "    return librosa.effects.time_stretch(audio, rate=rate)\n",
    "\n",
    "def add_noise(audio, noise_factor):\n",
    "    noise = np.random.randn(len(audio))\n",
    "    augmented_audio = audio + noise_factor * noise\n",
    "    return np.clip(augmented_audio, -1, 1)\n",
    "\n",
    "def change_speed(audio, speed_factor):\n",
    "    return librosa.effects.time_stretch(audio, rate=1/speed_factor)\n",
    "\n",
    "def apply_filter(audio, sr, filter_type='lowpass', cutoff=1000):\n",
    "    nyquist = 0.5 * sr\n",
    "    normal_cutoff = cutoff / nyquist\n",
    "    b, a = butter(4, normal_cutoff, btype=filter_type, analog=False)\n",
    "    return lfilter(b, a, audio)\n",
    "\n",
    "def add_background(audio, background, ratio=0.1):\n",
    "    if len(background) != len(audio):\n",
    "        if len(background) > len(audio):\n",
    "            start = np.random.randint(0, len(background) - len(audio))\n",
    "            background = background[start:start+len(audio)]\n",
    "        else:\n",
    "            background = np.pad(background, (0, len(audio) - len(background)))\n",
    "    \n",
    "    if len(audio) != len(background):\n",
    "        print(f\"Shape mismatch in add_background: audio {len(audio)}, background {len(background)}\")\n",
    "        return audio  # Return original audio if shapes don't match\n",
    "    \n",
    "    return audio + ratio * background\n",
    "\n",
    "def time_shift(audio, shift_max, roll_prob=0.5):\n",
    "    shift = np.random.randint(-shift_max, shift_max)\n",
    "    if random.random() < roll_prob:\n",
    "        return np.roll(audio, shift)\n",
    "    else:\n",
    "        if shift > 0:\n",
    "            return np.pad(audio, (shift, 0))[:len(audio)]\n",
    "        else:\n",
    "            return np.pad(audio, (0, -shift))[:-shift]\n",
    "\n",
    "def augment_audio(audio, sr):\n",
    "    augmentations = [\n",
    "        (pitch_shift, {'n_steps': random.uniform(-2, 2)}),\n",
    "        (time_stretch, {'rate': random.uniform(0.8, 1.2)}),\n",
    "        (add_noise, {'noise_factor': random.uniform(0.001, 0.015)}),\n",
    "        (change_speed, {'speed_factor': random.uniform(0.9, 1.1)}),\n",
    "        (apply_filter, {'filter_type': random.choice(['lowpass', 'highpass']),\n",
    "                        'cutoff': random.uniform(1000, 4000)}),\n",
    "        (time_shift, {'shift_max': int(sr * 0.5)})\n",
    "    ]\n",
    "    \n",
    "    num_augments = random.randint(2, 4)\n",
    "    selected_augments = random.sample(augmentations, num_augments)\n",
    "    \n",
    "    applied_augmentations = []\n",
    "    \n",
    "    for augment_func, params in selected_augments:\n",
    "        if augment_func.__name__ in ['pitch_shift', 'apply_filter']:\n",
    "            audio = augment_func(audio, sr, **params)\n",
    "        else:\n",
    "            audio = augment_func(audio, **params)\n",
    "        applied_augmentations.append(f\"{augment_func.__name__}:{','.join(f'{k}={v}' for k, v in params.items())}\")\n",
    "    \n",
    "    if random.random() < 0.5:\n",
    "        nature_background = mix_nature_sounds(len(audio) / sr, sr)\n",
    "        ratio = random.uniform(0.1, 0.3)\n",
    "        audio = add_background(audio, nature_background, ratio=ratio)\n",
    "        applied_augmentations.append(f\"add_background:ratio={ratio:.2f}\")\n",
    "    \n",
    "    return audio, applied_augmentations\n",
    "\n"
   ]
  },
  {
   "cell_type": "code",
   "execution_count": 52,
   "metadata": {},
   "outputs": [],
   "source": [
    "\n",
    "def augment_and_save(input_file, output_dir, num_augmentations=3):\n",
    "    try:\n",
    "        # Load the audio file\n",
    "        audio, sr = librosa.load(input_file, sr=None)\n",
    "        \n",
    "        augmented_files = []\n",
    "        all_applied_augmentations = []\n",
    "        \n",
    "        for i in range(num_augmentations):\n",
    "            # Apply augmentation\n",
    "            augmented_audio, applied_augmentations = augment_audio(audio, sr)\n",
    "            \n",
    "            # Generate new filename\n",
    "            base_name = os.path.basename(input_file)\n",
    "            name, ext = os.path.splitext(base_name)\n",
    "            new_name = f\"{name}_aug_{i+1}{ext}\"\n",
    "            output_path = os.path.join(output_dir, new_name)\n",
    "            \n",
    "            # Save augmented audio\n",
    "            sf.write(output_path, augmented_audio, sr)\n",
    "            \n",
    "            augmented_files.append(output_path)\n",
    "            all_applied_augmentations.append(';'.join(applied_augmentations))\n",
    "        \n",
    "        return augmented_files, all_applied_augmentations\n",
    "    \n",
    "    except Exception as e:\n",
    "        print(f\"Error processing {input_file}: {str(e)}\")\n",
    "        return [], []\n",
    "\n",
    "\n",
    "def process_dataframe(df, input_dir, output_dir, num_augmentations=3):\n",
    "    new_rows = []\n",
    "    \n",
    "    for _, row in tqdm(df.iterrows(), total=len(df), desc=\"Processing files\"):\n",
    "        input_file = os.path.join(input_dir, row['processed_file'])\n",
    "        augmented_files, augmentations = augment_and_save(input_file, output_dir, num_augmentations)\n",
    "        \n",
    "        for aug_file, aug_details in zip(augmented_files, augmentations):\n",
    "            new_row = row.copy()\n",
    "            new_row['processed_file'] = os.path.relpath(aug_file, output_dir)\n",
    "            new_row['augmentations'] = aug_details\n",
    "            new_rows.append(new_row)\n",
    "    \n",
    "    augmented_df = pd.concat([df, pd.DataFrame(new_rows)], ignore_index=True)\n",
    "    return augmented_df\n"
   ]
  },
  {
   "cell_type": "code",
   "execution_count": 53,
   "metadata": {},
   "outputs": [
    {
     "name": "stdout",
     "output_type": "stream",
     "text": [
      "Testing augmentations on file: Contopus_virens_Whitewater_Township_near__Cleves_Hamilton_County_Ohio_817712_segment_19.wav\n",
      "Saved Contopus_virens_Whitewater_Township_near__Cleves_Hamilton_County_Ohio_817712_segment_19_pitch_shift.wav\n",
      "Saved Contopus_virens_Whitewater_Township_near__Cleves_Hamilton_County_Ohio_817712_segment_19_time_stretch.wav\n",
      "Saved Contopus_virens_Whitewater_Township_near__Cleves_Hamilton_County_Ohio_817712_segment_19_add_noise.wav\n",
      "Saved Contopus_virens_Whitewater_Township_near__Cleves_Hamilton_County_Ohio_817712_segment_19_change_speed.wav\n",
      "Saved Contopus_virens_Whitewater_Township_near__Cleves_Hamilton_County_Ohio_817712_segment_19_apply_filter.wav\n",
      "Saved Contopus_virens_Whitewater_Township_near__Cleves_Hamilton_County_Ohio_817712_segment_19_time_shift.wav\n",
      "Saved Contopus_virens_Whitewater_Township_near__Cleves_Hamilton_County_Ohio_817712_segment_19_mix_nature_sounds.wav\n",
      "Augmentation test complete.\n"
     ]
    }
   ],
   "source": [
    "# Test Augmentation functions\n",
    "# Filter processed_data to only include files with \"segment\" in the file name\n",
    "processed_data = processed_data[processed_data['processed_file'].str.contains('_segment_')]\n",
    "\n",
    "# Convert 'file_name' column to a list\n",
    "file_names = processed_data['processed_file'].tolist()\n",
    "\n",
    "# Select a random file\n",
    "random_file = random.choice(file_names)\n",
    "file_path = os.path.join('Processed Recordings', random_file)\n",
    "\n",
    "# Load the audio file\n",
    "audio, sr = librosa.load(file_path, sr=None)\n",
    "\n",
    "# Create 'Test' directory if it doesn't exist\n",
    "os.makedirs('Test', exist_ok=True)\n",
    "\n",
    "# List of augmentation functions to test\n",
    "augmentation_functions = [\n",
    "    (pitch_shift, {'n_steps': 2}),\n",
    "    (time_stretch, {'rate': 1.2}),\n",
    "    (add_noise, {'noise_factor': 0.01}),\n",
    "    (change_speed, {'speed_factor': 1.1}),\n",
    "    (apply_filter, {'filter_type': 'lowpass', 'cutoff': 2000}),\n",
    "    (time_shift, {'shift_max': int(sr * 0.5)}),\n",
    "    (mix_nature_sounds, {'duration': len(audio) / sr, 'sr': sr})\n",
    "]\n",
    "\n",
    "print(f\"Testing augmentations on file: {random_file}\")\n",
    "\n",
    "# Apply each augmentation function and save the result\n",
    "for i, (func, params) in enumerate(augmentation_functions):\n",
    "    if func.__name__ == 'mix_nature_sounds':\n",
    "        # For mix_nature_sounds, handle it differently as it needs a background\n",
    "        background = func(**params)\n",
    "        augmented = add_background(audio, background, ratio=0.2)\n",
    "    elif func.__name__ in ['time_stretch', 'change_speed', 'add_noise', 'time_shift']:\n",
    "        # These functions don't need sr\n",
    "        augmented = func(audio, **params)\n",
    "    else:\n",
    "        # For pitch_shift and apply_filter, which need sr, pass audio, sr, and params\n",
    "        augmented = func(audio, sr, **params)\n",
    "    \n",
    "    # Generate output filename\n",
    "    output_filename = f\"{os.path.splitext(random_file)[0]}_{func.__name__}.wav\"\n",
    "    output_path = os.path.join('Test', output_filename)\n",
    "    \n",
    "    # Save the augmented audio\n",
    "    sf.write(output_path, augmented, sr)\n",
    "    \n",
    "    print(f\"Saved {output_filename}\")\n",
    "\n",
    "print(\"Augmentation test complete.\")"
   ]
  },
  {
   "cell_type": "code",
   "execution_count": 54,
   "metadata": {},
   "outputs": [
    {
     "name": "stderr",
     "output_type": "stream",
     "text": [
      "Processing files:   0%|          | 6/12120 [00:02<1:05:32,  3.08it/s]c:\\Users\\16148\\anaconda3\\envs\\dev\\lib\\site-packages\\librosa\\core\\spectrum.py:266: UserWarning: n_fft=2048 is too large for input signal of length=297\n",
      "  warnings.warn(\n",
      "Processing files:   0%|          | 50/12120 [00:16<1:00:56,  3.30it/s]c:\\Users\\16148\\anaconda3\\envs\\dev\\lib\\site-packages\\librosa\\core\\spectrum.py:266: UserWarning: n_fft=2048 is too large for input signal of length=144\n",
      "  warnings.warn(\n",
      "Processing files:   0%|          | 51/12120 [00:17<56:33,  3.56it/s]  "
     ]
    },
    {
     "name": "stdout",
     "output_type": "stream",
     "text": [
      "Error processing Processed Recordings\\Cygnus_buccinator_Killdeer_Plains_Wildlife_Management_Area_Wyandot_County_Ohio_713788_segment_23.wav: operands could not be broadcast together with shapes (500,) (131,) \n"
     ]
    },
    {
     "name": "stderr",
     "output_type": "stream",
     "text": [
      "Processing files:   1%|          | 116/12120 [00:41<1:12:32,  2.76it/s]c:\\Users\\16148\\anaconda3\\envs\\dev\\lib\\site-packages\\librosa\\core\\spectrum.py:266: UserWarning: n_fft=2048 is too large for input signal of length=276\n",
      "  warnings.warn(\n",
      "Processing files:   1%|          | 117/12120 [00:41<1:05:15,  3.07it/s]"
     ]
    },
    {
     "name": "stdout",
     "output_type": "stream",
     "text": [
      "Error processing Processed Recordings\\Colinus_virginianus_Michigan_Monroe_County_17130_segment_4.wav: operands could not be broadcast together with shapes (500,) (265,) \n"
     ]
    },
    {
     "name": "stderr",
     "output_type": "stream",
     "text": [
      "Processing files:   1%|▏         | 166/12120 [00:59<1:08:16,  2.92it/s]c:\\Users\\16148\\anaconda3\\envs\\dev\\lib\\site-packages\\librosa\\core\\spectrum.py:266: UserWarning: n_fft=2048 is too large for input signal of length=604\n",
      "  warnings.warn(\n",
      "Processing files:   2%|▏         | 199/12120 [01:10<1:20:56,  2.45it/s]c:\\Users\\16148\\anaconda3\\envs\\dev\\lib\\site-packages\\librosa\\core\\spectrum.py:266: UserWarning: n_fft=2048 is too large for input signal of length=1965\n",
      "  warnings.warn(\n",
      "Processing files:   3%|▎         | 363/12120 [02:09<1:28:48,  2.21it/s]c:\\Users\\16148\\anaconda3\\envs\\dev\\lib\\site-packages\\librosa\\core\\spectrum.py:266: UserWarning: n_fft=2048 is too large for input signal of length=897\n",
      "  warnings.warn(\n",
      "Processing files:   3%|▎         | 365/12120 [02:09<1:07:21,  2.91it/s]"
     ]
    },
    {
     "name": "stdout",
     "output_type": "stream",
     "text": [
      "Error processing Processed Recordings\\Scolopax_minor_Point_Pelee_National_Park_near__Wheatley_Essex_County_Ontario_837811_segment_12.wav: operands could not be broadcast together with shapes (1000,) (943,) \n"
     ]
    },
    {
     "name": "stderr",
     "output_type": "stream",
     "text": [
      "Processing files:   3%|▎         | 397/12120 [02:21<1:09:17,  2.82it/s]c:\\Users\\16148\\anaconda3\\envs\\dev\\lib\\site-packages\\librosa\\core\\spectrum.py:266: UserWarning: n_fft=2048 is too large for input signal of length=1424\n",
      "  warnings.warn(\n",
      "Processing files:   4%|▍         | 504/12120 [02:57<1:05:58,  2.93it/s]c:\\Users\\16148\\anaconda3\\envs\\dev\\lib\\site-packages\\librosa\\core\\spectrum.py:266: UserWarning: n_fft=2048 is too large for input signal of length=1441\n",
      "  warnings.warn(\n",
      "Processing files:   6%|▌         | 690/12120 [04:04<1:01:47,  3.08it/s]c:\\Users\\16148\\anaconda3\\envs\\dev\\lib\\site-packages\\librosa\\core\\spectrum.py:266: UserWarning: n_fft=2048 is too large for input signal of length=361\n",
      "  warnings.warn(\n",
      "Processing files:   7%|▋         | 829/12120 [04:57<1:22:16,  2.29it/s]c:\\Users\\16148\\anaconda3\\envs\\dev\\lib\\site-packages\\librosa\\core\\spectrum.py:266: UserWarning: n_fft=2048 is too large for input signal of length=1258\n",
      "  warnings.warn(\n",
      "c:\\Users\\16148\\anaconda3\\envs\\dev\\lib\\site-packages\\librosa\\core\\spectrum.py:266: UserWarning: n_fft=2048 is too large for input signal of length=1079\n",
      "  warnings.warn(\n",
      "Processing files:   7%|▋         | 868/12120 [05:10<1:03:03,  2.97it/s]"
     ]
    },
    {
     "name": "stdout",
     "output_type": "stream",
     "text": [
      "Error processing Processed Recordings\\Buteo_jamaicensis_Michigan_Monroe_County_17116_segment_6.wav: operands could not be broadcast together with shapes (1000,) (525,) \n"
     ]
    },
    {
     "name": "stderr",
     "output_type": "stream",
     "text": [
      "Processing files:   8%|▊         | 917/12120 [05:28<1:05:50,  2.84it/s]c:\\Users\\16148\\anaconda3\\envs\\dev\\lib\\site-packages\\librosa\\core\\spectrum.py:266: UserWarning: n_fft=2048 is too large for input signal of length=1715\n",
      "  warnings.warn(\n",
      "Processing files:   8%|▊         | 998/12120 [05:57<1:03:39,  2.91it/s]c:\\Users\\16148\\anaconda3\\envs\\dev\\lib\\site-packages\\librosa\\core\\spectrum.py:266: UserWarning: n_fft=2048 is too large for input signal of length=1690\n",
      "  warnings.warn(\n",
      "Processing files:  10%|▉         | 1162/12120 [06:54<57:21,  3.18it/s]  "
     ]
    },
    {
     "name": "stdout",
     "output_type": "stream",
     "text": [
      "Error processing Processed Recordings\\Megascops_asio_mount_orab_ohio_669305_segment_14.wav: operands could not be broadcast together with shapes (500,) (210,) \n"
     ]
    },
    {
     "name": "stderr",
     "output_type": "stream",
     "text": [
      "Processing files:  10%|▉         | 1208/12120 [07:11<1:18:29,  2.32it/s]c:\\Users\\16148\\anaconda3\\envs\\dev\\lib\\site-packages\\librosa\\core\\spectrum.py:266: UserWarning: n_fft=2048 is too large for input signal of length=600\n",
      "  warnings.warn(\n",
      "Processing files:  10%|▉         | 1209/12120 [07:11<1:00:34,  3.00it/s]"
     ]
    },
    {
     "name": "stdout",
     "output_type": "stream",
     "text": [
      "Error processing Processed Recordings\\Megascops_asio_mount_orab_ohio_544849_segment_22.wav: operands could not be broadcast together with shapes (1000,) (607,) \n"
     ]
    },
    {
     "name": "stderr",
     "output_type": "stream",
     "text": [
      "Processing files:  10%|█         | 1268/12120 [07:33<58:57,  3.07it/s]  c:\\Users\\16148\\anaconda3\\envs\\dev\\lib\\site-packages\\librosa\\core\\spectrum.py:266: UserWarning: n_fft=2048 is too large for input signal of length=1693\n",
      "  warnings.warn(\n",
      "Processing files:  11%|█         | 1312/12120 [07:47<48:08,  3.74it/s]  c:\\Users\\16148\\anaconda3\\envs\\dev\\lib\\site-packages\\librosa\\core\\spectrum.py:266: UserWarning: n_fft=2048 is too large for input signal of length=1036\n",
      "  warnings.warn(\n",
      "c:\\Users\\16148\\anaconda3\\envs\\dev\\lib\\site-packages\\librosa\\core\\spectrum.py:266: UserWarning: n_fft=2048 is too large for input signal of length=1017\n",
      "  warnings.warn(\n",
      "Processing files:  11%|█▏        | 1364/12120 [08:04<52:37,  3.41it/s]  c:\\Users\\16148\\anaconda3\\envs\\dev\\lib\\site-packages\\librosa\\core\\spectrum.py:266: UserWarning: n_fft=2048 is too large for input signal of length=940\n",
      "  warnings.warn(\n",
      "Processing files:  11%|█▏        | 1376/12120 [08:09<1:02:09,  2.88it/s]c:\\Users\\16148\\anaconda3\\envs\\dev\\lib\\site-packages\\librosa\\core\\spectrum.py:266: UserWarning: n_fft=2048 is too large for input signal of length=1234\n",
      "  warnings.warn(\n",
      "Processing files:  11%|█▏        | 1390/12120 [08:14<59:23,  3.01it/s]  c:\\Users\\16148\\anaconda3\\envs\\dev\\lib\\site-packages\\librosa\\core\\spectrum.py:266: UserWarning: n_fft=2048 is too large for input signal of length=1354\n",
      "  warnings.warn(\n",
      "Processing files:  12%|█▏        | 1405/12120 [08:18<1:01:57,  2.88it/s]c:\\Users\\16148\\anaconda3\\envs\\dev\\lib\\site-packages\\librosa\\core\\spectrum.py:266: UserWarning: n_fft=2048 is too large for input signal of length=1859\n",
      "  warnings.warn(\n",
      "Processing files:  13%|█▎        | 1619/12120 [09:39<1:12:59,  2.40it/s]c:\\Users\\16148\\anaconda3\\envs\\dev\\lib\\site-packages\\librosa\\core\\spectrum.py:266: UserWarning: n_fft=2048 is too large for input signal of length=1496\n",
      "  warnings.warn(\n",
      "c:\\Users\\16148\\anaconda3\\envs\\dev\\lib\\site-packages\\librosa\\core\\spectrum.py:266: UserWarning: n_fft=2048 is too large for input signal of length=1497\n",
      "  warnings.warn(\n",
      "Processing files:  14%|█▎        | 1650/12120 [09:50<1:00:49,  2.87it/s]c:\\Users\\16148\\anaconda3\\envs\\dev\\lib\\site-packages\\librosa\\core\\spectrum.py:266: UserWarning: n_fft=2048 is too large for input signal of length=1095\n",
      "  warnings.warn(\n",
      "Processing files:  14%|█▎        | 1654/12120 [09:51<57:38,  3.03it/s]  "
     ]
    },
    {
     "name": "stdout",
     "output_type": "stream",
     "text": [
      "Error processing Processed Recordings\\Dryocopus_pileatus_Harrison_Township_near__Harrison_Hamilton_County_Ohio_691470_segment_66.wav: operands could not be broadcast together with shapes (1000,) (538,) \n"
     ]
    },
    {
     "name": "stderr",
     "output_type": "stream",
     "text": [
      "c:\\Users\\16148\\anaconda3\\envs\\dev\\lib\\site-packages\\librosa\\core\\spectrum.py:266: UserWarning: n_fft=2048 is too large for input signal of length=1016\n",
      "  warnings.warn(\n",
      "Processing files:  14%|█▍        | 1681/12120 [10:01<58:55,  2.95it/s]  c:\\Users\\16148\\anaconda3\\envs\\dev\\lib\\site-packages\\librosa\\core\\spectrum.py:266: UserWarning: n_fft=2048 is too large for input signal of length=1381\n",
      "  warnings.warn(\n",
      "Processing files:  14%|█▍        | 1734/12120 [10:20<59:15,  2.92it/s]  c:\\Users\\16148\\anaconda3\\envs\\dev\\lib\\site-packages\\librosa\\core\\spectrum.py:266: UserWarning: n_fft=2048 is too large for input signal of length=1948\n",
      "  warnings.warn(\n",
      "Processing files:  15%|█▌        | 1820/12120 [10:49<59:36,  2.88it/s]  c:\\Users\\16148\\anaconda3\\envs\\dev\\lib\\site-packages\\librosa\\core\\spectrum.py:266: UserWarning: n_fft=2048 is too large for input signal of length=194\n",
      "  warnings.warn(\n",
      "Processing files:  15%|█▌        | 1821/12120 [10:49<50:21,  3.41it/s]"
     ]
    },
    {
     "name": "stdout",
     "output_type": "stream",
     "text": [
      "Error processing Processed Recordings\\Contopus_virens_Magee_Marsh_boardwalk_west_end_103501_segment_37.wav: operands could not be broadcast together with shapes (500,) (213,) \n"
     ]
    },
    {
     "name": "stderr",
     "output_type": "stream",
     "text": [
      "Processing files:  16%|█▌        | 1932/12120 [11:26<1:08:05,  2.49it/s]c:\\Users\\16148\\anaconda3\\envs\\dev\\lib\\site-packages\\librosa\\core\\spectrum.py:266: UserWarning: n_fft=2048 is too large for input signal of length=962\n",
      "  warnings.warn(\n",
      "Processing files:  17%|█▋        | 2009/12120 [11:53<1:06:12,  2.55it/s]c:\\Users\\16148\\anaconda3\\envs\\dev\\lib\\site-packages\\librosa\\core\\spectrum.py:266: UserWarning: n_fft=2048 is too large for input signal of length=1513\n",
      "  warnings.warn(\n",
      "Processing files:  17%|█▋        | 2065/12120 [12:14<52:35,  3.19it/s]  "
     ]
    },
    {
     "name": "stdout",
     "output_type": "stream",
     "text": [
      "Error processing Processed Recordings\\Empidonax_traillii_Magee_Marsh_Ohio_298575_segment_33.wav: operands could not be broadcast together with shapes (500,) (267,) \n"
     ]
    },
    {
     "name": "stderr",
     "output_type": "stream",
     "text": [
      "Processing files:  17%|█▋        | 2075/12120 [12:18<1:12:09,  2.32it/s]c:\\Users\\16148\\anaconda3\\envs\\dev\\lib\\site-packages\\librosa\\core\\spectrum.py:266: UserWarning: n_fft=2048 is too large for input signal of length=990\n",
      "  warnings.warn(\n",
      "Processing files:  18%|█▊        | 2166/12120 [12:52<53:23,  3.11it/s]  c:\\Users\\16148\\anaconda3\\envs\\dev\\lib\\site-packages\\librosa\\core\\spectrum.py:266: UserWarning: n_fft=2048 is too large for input signal of length=645\n",
      "  warnings.warn(\n",
      "c:\\Users\\16148\\anaconda3\\envs\\dev\\lib\\site-packages\\librosa\\core\\spectrum.py:266: UserWarning: n_fft=2048 is too large for input signal of length=693\n",
      "  warnings.warn(\n",
      "Processing files:  18%|█▊        | 2206/12120 [13:05<57:33,  2.87it/s]  c:\\Users\\16148\\anaconda3\\envs\\dev\\lib\\site-packages\\librosa\\core\\spectrum.py:266: UserWarning: n_fft=2048 is too large for input signal of length=14\n",
      "  warnings.warn(\n"
     ]
    },
    {
     "name": "stdout",
     "output_type": "stream",
     "text": [
      "Error processing Processed Recordings\\Myiarchus_crinitus_Berkshire_near__Galena_Delaware_Ohio_124160_segment_11.wav: operands could not be broadcast together with shapes (500,) (14,) \n"
     ]
    },
    {
     "name": "stderr",
     "output_type": "stream",
     "text": [
      "Processing files:  19%|█▊        | 2261/12120 [13:25<1:06:36,  2.47it/s]c:\\Users\\16148\\anaconda3\\envs\\dev\\lib\\site-packages\\librosa\\core\\spectrum.py:266: UserWarning: n_fft=2048 is too large for input signal of length=1509\n",
      "  warnings.warn(\n",
      "Processing files:  19%|█▉        | 2350/12120 [13:56<47:29,  3.43it/s]  "
     ]
    },
    {
     "name": "stdout",
     "output_type": "stream",
     "text": [
      "Error processing Processed Recordings\\Vireo_gilvus_Point_Pelee_National_Park_near__Wheatley_Essex_County_Ontario_806076_segment_1.wav: operands could not be broadcast together with shapes (500,) (373,) \n"
     ]
    },
    {
     "name": "stderr",
     "output_type": "stream",
     "text": [
      "Processing files:  20%|█▉        | 2373/12120 [14:05<1:06:33,  2.44it/s]c:\\Users\\16148\\anaconda3\\envs\\dev\\lib\\site-packages\\librosa\\core\\spectrum.py:266: UserWarning: n_fft=2048 is too large for input signal of length=1727\n",
      "  warnings.warn(\n",
      "Processing files:  20%|█▉        | 2388/12120 [14:12<1:49:56,  1.48it/s]c:\\Users\\16148\\anaconda3\\envs\\dev\\lib\\site-packages\\librosa\\core\\spectrum.py:266: UserWarning: n_fft=2048 is too large for input signal of length=854\n",
      "  warnings.warn(\n",
      "Processing files:  20%|█▉        | 2423/12120 [14:24<53:51,  3.00it/s]  c:\\Users\\16148\\anaconda3\\envs\\dev\\lib\\site-packages\\librosa\\core\\spectrum.py:266: UserWarning: n_fft=2048 is too large for input signal of length=1556\n",
      "  warnings.warn(\n",
      "Processing files:  20%|██        | 2428/12120 [14:26<51:09,  3.16it/s]"
     ]
    },
    {
     "name": "stdout",
     "output_type": "stream",
     "text": [
      "Error processing Processed Recordings\\Vireo_gilvus_Benton_Township_near__Rocky_Ridge_Ottawa_County_Ohio_902984_segment_5.wav: operands could not be broadcast together with shapes (500,) (347,) \n"
     ]
    },
    {
     "name": "stderr",
     "output_type": "stream",
     "text": [
      "Processing files:  20%|██        | 2450/12120 [14:35<1:01:26,  2.62it/s]c:\\Users\\16148\\anaconda3\\envs\\dev\\lib\\site-packages\\librosa\\core\\spectrum.py:266: UserWarning: n_fft=2048 is too large for input signal of length=1300\n",
      "  warnings.warn(\n",
      "Processing files:  21%|██        | 2500/12120 [14:53<1:07:26,  2.38it/s]c:\\Users\\16148\\anaconda3\\envs\\dev\\lib\\site-packages\\librosa\\core\\spectrum.py:266: UserWarning: n_fft=2048 is too large for input signal of length=645\n",
      "  warnings.warn(\n",
      "Processing files:  21%|██        | 2572/12120 [15:18<45:23,  3.51it/s]  c:\\Users\\16148\\anaconda3\\envs\\dev\\lib\\site-packages\\librosa\\core\\spectrum.py:266: UserWarning: n_fft=2048 is too large for input signal of length=2006\n",
      "  warnings.warn(\n",
      "Processing files:  21%|██▏       | 2594/12120 [15:25<52:26,  3.03it/s]  "
     ]
    },
    {
     "name": "stdout",
     "output_type": "stream",
     "text": [
      "Error processing Processed Recordings\\Vireo_flavifrons_Harrison_Township_near__Harrison_Hamilton_County_Ohio_719923_segment_14.wav: operands could not be broadcast together with shapes (500,) (58,) \n"
     ]
    },
    {
     "name": "stderr",
     "output_type": "stream",
     "text": [
      "Processing files:  22%|██▏       | 2691/12120 [15:58<48:39,  3.23it/s]  "
     ]
    },
    {
     "name": "stdout",
     "output_type": "stream",
     "text": [
      "Error processing Processed Recordings\\Vireo_flavifrons_Shawnee_State_Forest_Scioto_County_Ohio_417452_segment_12.wav: operands could not be broadcast together with shapes (1000,) (554,) \n"
     ]
    },
    {
     "name": "stderr",
     "output_type": "stream",
     "text": [
      "Processing files:  23%|██▎       | 2743/12120 [16:16<50:27,  3.10it/s]  c:\\Users\\16148\\anaconda3\\envs\\dev\\lib\\site-packages\\librosa\\core\\spectrum.py:266: UserWarning: n_fft=2048 is too large for input signal of length=553\n",
      "  warnings.warn(\n",
      "Processing files:  23%|██▎       | 2785/12120 [16:32<50:37,  3.07it/s]  "
     ]
    },
    {
     "name": "stdout",
     "output_type": "stream",
     "text": [
      "Error processing Processed Recordings\\Vireo_griseus_Shawnee_State_Forest_Scioto_County_Ohio_417441_segment_9.wav: operands could not be broadcast together with shapes (1000,) (780,) \n"
     ]
    },
    {
     "name": "stderr",
     "output_type": "stream",
     "text": [
      "Processing files:  23%|██▎       | 2789/12120 [16:33<51:46,  3.00it/s]c:\\Users\\16148\\anaconda3\\envs\\dev\\lib\\site-packages\\librosa\\core\\spectrum.py:266: UserWarning: n_fft=2048 is too large for input signal of length=1265\n",
      "  warnings.warn(\n",
      "Processing files:  24%|██▍       | 2947/12120 [17:32<1:14:11,  2.06it/s]c:\\Users\\16148\\anaconda3\\envs\\dev\\lib\\site-packages\\librosa\\core\\spectrum.py:266: UserWarning: n_fft=2048 is too large for input signal of length=1150\n",
      "  warnings.warn(\n",
      "Processing files:  24%|██▍       | 2964/12120 [17:37<50:31,  3.02it/s]  c:\\Users\\16148\\anaconda3\\envs\\dev\\lib\\site-packages\\librosa\\core\\spectrum.py:266: UserWarning: n_fft=2048 is too large for input signal of length=1347\n",
      "  warnings.warn(\n",
      "Processing files:  25%|██▍       | 2971/12120 [17:40<53:57,  2.83it/s]c:\\Users\\16148\\anaconda3\\envs\\dev\\lib\\site-packages\\librosa\\core\\spectrum.py:266: UserWarning: n_fft=2048 is too large for input signal of length=408\n",
      "  warnings.warn(\n"
     ]
    },
    {
     "name": "stdout",
     "output_type": "stream",
     "text": [
      "Error processing Processed Recordings\\Cyanocitta_cristata_Cincinnati_Hamilton_County_Ohio_677298_segment_12.wav: operands could not be broadcast together with shapes (500,) (373,) \n"
     ]
    },
    {
     "name": "stderr",
     "output_type": "stream",
     "text": [
      "Processing files:  25%|██▍       | 2992/12120 [17:47<55:52,  2.72it/s]c:\\Users\\16148\\anaconda3\\envs\\dev\\lib\\site-packages\\librosa\\core\\spectrum.py:266: UserWarning: n_fft=2048 is too large for input signal of length=666\n",
      "  warnings.warn(\n"
     ]
    },
    {
     "name": "stdout",
     "output_type": "stream",
     "text": [
      "Error processing Processed Recordings\\Cyanocitta_cristata_Cincinnati_Hamilton_County_Ohio_677298_segment_33.wav: operands could not be broadcast together with shapes (1000,) (649,) \n"
     ]
    },
    {
     "name": "stderr",
     "output_type": "stream",
     "text": [
      "Processing files:  25%|██▌       | 3051/12120 [18:07<57:24,  2.63it/s]  c:\\Users\\16148\\anaconda3\\envs\\dev\\lib\\site-packages\\librosa\\core\\spectrum.py:266: UserWarning: n_fft=2048 is too large for input signal of length=1755\n",
      "  warnings.warn(\n",
      "Processing files:  25%|██▌       | 3079/12120 [18:18<1:16:50,  1.96it/s]c:\\Users\\16148\\anaconda3\\envs\\dev\\lib\\site-packages\\librosa\\core\\spectrum.py:266: UserWarning: n_fft=2048 is too large for input signal of length=776\n",
      "  warnings.warn(\n",
      "Processing files:  28%|██▊       | 3372/12120 [20:03<1:04:41,  2.25it/s]c:\\Users\\16148\\anaconda3\\envs\\dev\\lib\\site-packages\\librosa\\core\\spectrum.py:266: UserWarning: n_fft=2048 is too large for input signal of length=832\n",
      "  warnings.warn(\n",
      "Processing files:  28%|██▊       | 3373/12120 [20:03<52:25,  2.78it/s]  "
     ]
    },
    {
     "name": "stdout",
     "output_type": "stream",
     "text": [
      "Error processing Processed Recordings\\Poecile_carolinensis_Miami_Township_near__North_Bend_Hamilton_County_Ohio_713595_segment_40.wav: operands could not be broadcast together with shapes (1000,) (844,) \n"
     ]
    },
    {
     "name": "stderr",
     "output_type": "stream",
     "text": [
      "Processing files:  29%|██▊       | 3482/12120 [20:42<44:17,  3.25it/s]  c:\\Users\\16148\\anaconda3\\envs\\dev\\lib\\site-packages\\librosa\\core\\spectrum.py:266: UserWarning: n_fft=2048 is too large for input signal of length=271\n",
      "  warnings.warn(\n",
      "Processing files:  29%|██▊       | 3483/12120 [20:42<45:56,  3.13it/s]"
     ]
    },
    {
     "name": "stdout",
     "output_type": "stream",
     "text": [
      "Error processing Processed Recordings\\Poecile_atricapillus_Magee_Marsh_-_boardwalk_Lucas_County_Ohio_814911_segment_71.wav: operands could not be broadcast together with shapes (500,) (323,) \n"
     ]
    },
    {
     "name": "stderr",
     "output_type": "stream",
     "text": [
      "Processing files:  29%|██▉       | 3538/12120 [21:01<59:55,  2.39it/s]  c:\\Users\\16148\\anaconda3\\envs\\dev\\lib\\site-packages\\librosa\\core\\spectrum.py:266: UserWarning: n_fft=2048 is too large for input signal of length=529\n",
      "  warnings.warn(\n",
      "Processing files:  29%|██▉       | 3544/12120 [21:03<47:42,  3.00it/s]c:\\Users\\16148\\anaconda3\\envs\\dev\\lib\\site-packages\\librosa\\core\\spectrum.py:266: UserWarning: n_fft=2048 is too large for input signal of length=1691\n",
      "  warnings.warn(\n",
      "c:\\Users\\16148\\anaconda3\\envs\\dev\\lib\\site-packages\\librosa\\core\\spectrum.py:266: UserWarning: n_fft=2048 is too large for input signal of length=1710\n",
      "  warnings.warn(\n",
      "Processing files:  30%|███       | 3678/12120 [21:50<48:37,  2.89it/s]  c:\\Users\\16148\\anaconda3\\envs\\dev\\lib\\site-packages\\librosa\\core\\spectrum.py:266: UserWarning: n_fft=2048 is too large for input signal of length=885\n",
      "  warnings.warn(\n",
      "Processing files:  30%|███       | 3679/12120 [21:50<40:34,  3.47it/s]"
     ]
    },
    {
     "name": "stdout",
     "output_type": "stream",
     "text": [
      "Error processing Processed Recordings\\Tachycineta_bicolor_Magee_Marsh_-_boardwalk_Lucas_County_Ohio_827054_segment_91.wav: operands could not be broadcast together with shapes (1000,) (806,) \n"
     ]
    },
    {
     "name": "stderr",
     "output_type": "stream",
     "text": [
      "Processing files:  31%|███       | 3713/12120 [22:03<45:34,  3.07it/s]  c:\\Users\\16148\\anaconda3\\envs\\dev\\lib\\site-packages\\librosa\\core\\spectrum.py:266: UserWarning: n_fft=2048 is too large for input signal of length=107\n",
      "  warnings.warn(\n",
      "c:\\Users\\16148\\anaconda3\\envs\\dev\\lib\\site-packages\\librosa\\core\\spectrum.py:266: UserWarning: n_fft=2048 is too large for input signal of length=91\n",
      "  warnings.warn(\n",
      "Processing files:  31%|███       | 3714/12120 [22:03<44:01,  3.18it/s]"
     ]
    },
    {
     "name": "stdout",
     "output_type": "stream",
     "text": [
      "Error processing Processed Recordings\\Progne_subis_Ottawa_NWR_Lucas_County_Ohio_803616_segment_3.wav: operands could not be broadcast together with shapes (500,) (98,) \n"
     ]
    },
    {
     "name": "stderr",
     "output_type": "stream",
     "text": [
      "Processing files:  31%|███       | 3729/12120 [22:08<51:25,  2.72it/s]c:\\Users\\16148\\anaconda3\\envs\\dev\\lib\\site-packages\\librosa\\core\\spectrum.py:266: UserWarning: n_fft=2048 is too large for input signal of length=1262\n",
      "  warnings.warn(\n",
      "c:\\Users\\16148\\anaconda3\\envs\\dev\\lib\\site-packages\\librosa\\core\\spectrum.py:266: UserWarning: n_fft=2048 is too large for input signal of length=1280\n",
      "  warnings.warn(\n",
      "Processing files:  31%|███       | 3737/12120 [22:11<49:44,  2.81it/s]c:\\Users\\16148\\anaconda3\\envs\\dev\\lib\\site-packages\\librosa\\core\\spectrum.py:266: UserWarning: n_fft=2048 is too large for input signal of length=863\n",
      "  warnings.warn(\n",
      "c:\\Users\\16148\\anaconda3\\envs\\dev\\lib\\site-packages\\librosa\\core\\spectrum.py:266: UserWarning: n_fft=2048 is too large for input signal of length=883\n",
      "  warnings.warn(\n",
      "Processing files:  31%|███       | 3738/12120 [22:11<42:51,  3.26it/s]c:\\Users\\16148\\anaconda3\\envs\\dev\\lib\\site-packages\\librosa\\core\\spectrum.py:266: UserWarning: n_fft=2048 is too large for input signal of length=634\n",
      "  warnings.warn(\n",
      "c:\\Users\\16148\\anaconda3\\envs\\dev\\lib\\site-packages\\librosa\\core\\spectrum.py:266: UserWarning: n_fft=2048 is too large for input signal of length=684\n",
      "  warnings.warn(\n"
     ]
    },
    {
     "name": "stdout",
     "output_type": "stream",
     "text": [
      "Error processing Processed Recordings\\Progne_subis_Magee_Marsh_Ohio_164751_segment_4.wav: operands could not be broadcast together with shapes (1000,) (876,) \n",
      "Error processing Processed Recordings\\Progne_subis_Magee_Marsh_Ohio_164751_segment_5.wav: operands could not be broadcast together with shapes (1000,) (666,) \n"
     ]
    },
    {
     "name": "stderr",
     "output_type": "stream",
     "text": [
      "Processing files:  31%|███       | 3751/12120 [22:15<47:09,  2.96it/s]"
     ]
    },
    {
     "name": "stdout",
     "output_type": "stream",
     "text": [
      "Error processing Processed Recordings\\Progne_subis_Magee_Marsh_Ohio_164751_segment_17.wav: operands could not be broadcast together with shapes (1000,) (503,) \n"
     ]
    },
    {
     "name": "stderr",
     "output_type": "stream",
     "text": [
      "Processing files:  31%|███▏      | 3807/12120 [22:36<48:03,  2.88it/s]  c:\\Users\\16148\\anaconda3\\envs\\dev\\lib\\site-packages\\librosa\\core\\spectrum.py:266: UserWarning: n_fft=2048 is too large for input signal of length=990\n",
      "  warnings.warn(\n",
      "Processing files:  32%|███▏      | 3822/12120 [22:41<50:16,  2.75it/s]  c:\\Users\\16148\\anaconda3\\envs\\dev\\lib\\site-packages\\librosa\\core\\spectrum.py:266: UserWarning: n_fft=2048 is too large for input signal of length=1024\n",
      "  warnings.warn(\n",
      "Processing files:  33%|███▎      | 3991/12120 [23:42<47:18,  2.86it/s]  c:\\Users\\16148\\anaconda3\\envs\\dev\\lib\\site-packages\\librosa\\core\\spectrum.py:266: UserWarning: n_fft=2048 is too large for input signal of length=1929\n",
      "  warnings.warn(\n",
      "Processing files:  33%|███▎      | 4008/12120 [23:48<1:06:20,  2.04it/s]c:\\Users\\16148\\anaconda3\\envs\\dev\\lib\\site-packages\\librosa\\core\\spectrum.py:266: UserWarning: n_fft=2048 is too large for input signal of length=1436\n",
      "  warnings.warn(\n",
      "Processing files:  33%|███▎      | 4009/12120 [23:48<56:24,  2.40it/s]  c:\\Users\\16148\\anaconda3\\envs\\dev\\lib\\site-packages\\librosa\\core\\spectrum.py:266: UserWarning: n_fft=2048 is too large for input signal of length=381\n",
      "  warnings.warn(\n"
     ]
    },
    {
     "name": "stdout",
     "output_type": "stream",
     "text": [
      "Error processing Processed Recordings\\Thryothorus_ludovicianus_Camp_Henry_near__Wheatley_Essex_County_Ontario_840733_segment_3.wav: operands could not be broadcast together with shapes (500,) (325,) \n"
     ]
    },
    {
     "name": "stderr",
     "output_type": "stream",
     "text": [
      "Processing files:  33%|███▎      | 4013/12120 [23:49<34:08,  3.96it/s]"
     ]
    },
    {
     "name": "stdout",
     "output_type": "stream",
     "text": [
      "Error processing Processed Recordings\\Thryothorus_ludovicianus_Camp_Henry_near__Wheatley_Essex_County_Ontario_840733_segment_5.wav: operands could not be broadcast together with shapes (500,) (119,) \n"
     ]
    },
    {
     "name": "stderr",
     "output_type": "stream",
     "text": [
      "Processing files:  34%|███▎      | 4068/12120 [24:09<51:54,  2.59it/s]  c:\\Users\\16148\\anaconda3\\envs\\dev\\lib\\site-packages\\librosa\\core\\spectrum.py:266: UserWarning: n_fft=2048 is too large for input signal of length=154\n",
      "  warnings.warn(\n",
      "Processing files:  34%|███▎      | 4069/12120 [24:09<43:45,  3.07it/s]"
     ]
    },
    {
     "name": "stdout",
     "output_type": "stream",
     "text": [
      "Error processing Processed Recordings\\Thryothorus_ludovicianus_East_Fork_Lake_SP_Clermont_County_Ohio_416559_segment_5.wav: operands could not be broadcast together with shapes (500,) (133,) \n"
     ]
    },
    {
     "name": "stderr",
     "output_type": "stream",
     "text": [
      "Processing files:  34%|███▎      | 4079/12120 [24:13<47:42,  2.81it/s]c:\\Users\\16148\\anaconda3\\envs\\dev\\lib\\site-packages\\librosa\\core\\spectrum.py:266: UserWarning: n_fft=2048 is too large for input signal of length=1951\n",
      "  warnings.warn(\n",
      "Processing files:  34%|███▎      | 4080/12120 [24:13<43:44,  3.06it/s]"
     ]
    },
    {
     "name": "stdout",
     "output_type": "stream",
     "text": [
      "Error processing Processed Recordings\\Thryothorus_ludovicianus_East_Fork_Lake_SP_Clermont_County_Ohio_416559_segment_16.wav: operands could not be broadcast together with shapes (1000,) (635,) \n"
     ]
    },
    {
     "name": "stderr",
     "output_type": "stream",
     "text": [
      "Processing files:  35%|███▍      | 4218/12120 [25:05<53:37,  2.46it/s]  c:\\Users\\16148\\anaconda3\\envs\\dev\\lib\\site-packages\\librosa\\core\\spectrum.py:266: UserWarning: n_fft=2048 is too large for input signal of length=479\n",
      "  warnings.warn(\n",
      "Processing files:  35%|███▍      | 4219/12120 [25:05<44:07,  2.98it/s]"
     ]
    },
    {
     "name": "stdout",
     "output_type": "stream",
     "text": [
      "Error processing Processed Recordings\\Thryothorus_ludovicianus_Michigan_Whiteford_Township_17104_segment_6.wav: operands could not be broadcast together with shapes (500,) (444,) \n"
     ]
    },
    {
     "name": "stderr",
     "output_type": "stream",
     "text": [
      "Processing files:  35%|███▌      | 4290/12120 [25:29<39:17,  3.32it/s]"
     ]
    },
    {
     "name": "stdout",
     "output_type": "stream",
     "text": [
      "Error processing Processed Recordings\\Troglodytes_aedon_Cleveland_Heights_Ohio_67466_segment_15.wav: operands could not be broadcast together with shapes (500,) (237,) \n"
     ]
    },
    {
     "name": "stderr",
     "output_type": "stream",
     "text": [
      "Processing files:  36%|███▌      | 4385/12120 [26:04<39:20,  3.28it/s]  c:\\Users\\16148\\anaconda3\\envs\\dev\\lib\\site-packages\\librosa\\core\\spectrum.py:266: UserWarning: n_fft=2048 is too large for input signal of length=1640\n",
      "  warnings.warn(\n",
      "Processing files:  37%|███▋      | 4543/12120 [27:03<56:05,  2.25it/s]  c:\\Users\\16148\\anaconda3\\envs\\dev\\lib\\site-packages\\librosa\\core\\spectrum.py:266: UserWarning: n_fft=2048 is too large for input signal of length=69\n",
      "  warnings.warn(\n",
      "c:\\Users\\16148\\anaconda3\\envs\\dev\\lib\\site-packages\\librosa\\core\\spectrum.py:266: UserWarning: n_fft=2048 is too large for input signal of length=84\n",
      "  warnings.warn(\n"
     ]
    },
    {
     "name": "stdout",
     "output_type": "stream",
     "text": [
      "Error processing Processed Recordings\\Polioptila_caerulea_Magee_Marsh_-_boardwalk_Lucas_County_Ohio_816237_segment_2.wav: operands could not be broadcast together with shapes (500,) (85,) \n"
     ]
    },
    {
     "name": "stderr",
     "output_type": "stream",
     "text": [
      "Processing files:  38%|███▊      | 4582/12120 [27:15<42:51,  2.93it/s]c:\\Users\\16148\\anaconda3\\envs\\dev\\lib\\site-packages\\librosa\\core\\spectrum.py:266: UserWarning: n_fft=2048 is too large for input signal of length=1939\n",
      "  warnings.warn(\n",
      "Processing files:  38%|███▊      | 4638/12120 [27:34<43:25,  2.87it/s]c:\\Users\\16148\\anaconda3\\envs\\dev\\lib\\site-packages\\librosa\\core\\spectrum.py:266: UserWarning: n_fft=2048 is too large for input signal of length=262\n",
      "  warnings.warn(\n",
      "Processing files:  38%|███▊      | 4640/12120 [27:35<42:02,  2.96it/s]c:\\Users\\16148\\anaconda3\\envs\\dev\\lib\\site-packages\\librosa\\core\\spectrum.py:266: UserWarning: n_fft=2048 is too large for input signal of length=1895\n",
      "  warnings.warn(\n",
      "Processing files:  38%|███▊      | 4643/12120 [27:36<37:30,  3.32it/s]c:\\Users\\16148\\anaconda3\\envs\\dev\\lib\\site-packages\\librosa\\core\\spectrum.py:266: UserWarning: n_fft=2048 is too large for input signal of length=1353\n",
      "  warnings.warn(\n",
      "Processing files:  39%|███▉      | 4726/12120 [28:06<52:08,  2.36it/s]"
     ]
    },
    {
     "name": "stdout",
     "output_type": "stream",
     "text": [
      "Error processing Processed Recordings\\Sitta_carolinensis_Harrison_Township_near__Harrison_Hamilton_County_Ohio_714979_segment_16.wav: operands could not be broadcast together with shapes (500,) (338,) \n"
     ]
    },
    {
     "name": "stderr",
     "output_type": "stream",
     "text": [
      "Processing files:  39%|███▉      | 4738/12120 [28:09<34:39,  3.55it/s]"
     ]
    },
    {
     "name": "stdout",
     "output_type": "stream",
     "text": [
      "Error processing Processed Recordings\\Sitta_carolinensis_Harrison_Township_near__Harrison_Hamilton_County_Ohio_714979_segment_27.wav: operands could not be broadcast together with shapes (1000,) (659,) \n"
     ]
    },
    {
     "name": "stderr",
     "output_type": "stream",
     "text": [
      "Processing files:  40%|███▉      | 4809/12120 [28:35<38:57,  3.13it/s]"
     ]
    },
    {
     "name": "stdout",
     "output_type": "stream",
     "text": [
      "Error processing Processed Recordings\\Sitta_carolinensis_Harrison_Township_near__Harrison_Hamilton_County_Ohio_807181_segment_4.wav: operands could not be broadcast together with shapes (500,) (319,) \n"
     ]
    },
    {
     "name": "stderr",
     "output_type": "stream",
     "text": [
      "Processing files:  41%|████      | 4911/12120 [29:11<42:52,  2.80it/s]  "
     ]
    },
    {
     "name": "stdout",
     "output_type": "stream",
     "text": [
      "Error processing Processed Recordings\\Sitta_canadensis_Cincinnati_Hamilton_County_Ohio_677293_segment_20.wav: operands could not be broadcast together with shapes (1000,) (718,) \n"
     ]
    },
    {
     "name": "stderr",
     "output_type": "stream",
     "text": [
      "Processing files:  41%|████      | 4925/12120 [29:16<45:49,  2.62it/s]c:\\Users\\16148\\anaconda3\\envs\\dev\\lib\\site-packages\\librosa\\core\\spectrum.py:266: UserWarning: n_fft=2048 is too large for input signal of length=152\n",
      "  warnings.warn(\n",
      "Processing files:  41%|████      | 4926/12120 [29:16<41:11,  2.91it/s]"
     ]
    },
    {
     "name": "stdout",
     "output_type": "stream",
     "text": [
      "Error processing Processed Recordings\\Sitta_canadensis_Cincinnati_Hamilton_County_Ohio_677293_segment_35.wav: operands could not be broadcast together with shapes (500,) (155,) \n"
     ]
    },
    {
     "name": "stderr",
     "output_type": "stream",
     "text": [
      "Processing files:  41%|████      | 4961/12120 [29:29<32:50,  3.63it/s]  c:\\Users\\16148\\anaconda3\\envs\\dev\\lib\\site-packages\\librosa\\core\\spectrum.py:266: UserWarning: n_fft=2048 is too large for input signal of length=0\n",
      "  warnings.warn(\n",
      "Processing files:  41%|████▏     | 5023/12120 [29:51<40:26,  2.92it/s]c:\\Users\\16148\\anaconda3\\envs\\dev\\lib\\site-packages\\librosa\\core\\spectrum.py:266: UserWarning: n_fft=2048 is too large for input signal of length=826\n",
      "  warnings.warn(\n",
      "c:\\Users\\16148\\anaconda3\\envs\\dev\\lib\\site-packages\\librosa\\core\\spectrum.py:266: UserWarning: n_fft=2048 is too large for input signal of length=938\n",
      "  warnings.warn(\n",
      "Processing files:  41%|████▏     | 5024/12120 [29:52<31:54,  3.71it/s]"
     ]
    },
    {
     "name": "stdout",
     "output_type": "stream",
     "text": [
      "Error processing Processed Recordings\\Dumetella_carolinensis_Magee_Marsh_-_boardwalk_Lucas_County_Ohio_814888_segment_15.wav: operands could not be broadcast together with shapes (1000,) (925,) \n"
     ]
    },
    {
     "name": "stderr",
     "output_type": "stream",
     "text": [
      "Processing files:  42%|████▏     | 5100/12120 [30:17<46:23,  2.52it/s]c:\\Users\\16148\\anaconda3\\envs\\dev\\lib\\site-packages\\librosa\\core\\spectrum.py:266: UserWarning: n_fft=2048 is too large for input signal of length=826\n",
      "  warnings.warn(\n",
      "Processing files:  42%|████▏     | 5134/12120 [30:29<50:02,  2.33it/s]c:\\Users\\16148\\anaconda3\\envs\\dev\\lib\\site-packages\\librosa\\core\\spectrum.py:266: UserWarning: n_fft=2048 is too large for input signal of length=1150\n",
      "  warnings.warn(\n",
      "Processing files:  42%|████▏     | 5140/12120 [30:31<42:35,  2.73it/s]c:\\Users\\16148\\anaconda3\\envs\\dev\\lib\\site-packages\\librosa\\core\\spectrum.py:266: UserWarning: n_fft=2048 is too large for input signal of length=139\n",
      "  warnings.warn(\n"
     ]
    },
    {
     "name": "stdout",
     "output_type": "stream",
     "text": [
      "Error processing Processed Recordings\\Dumetella_carolinensis_Magee_Marsh_-_boardwalk_Lucas_County_Ohio_814889_segment_9.wav: operands could not be broadcast together with shapes (500,) (127,) \n"
     ]
    },
    {
     "name": "stderr",
     "output_type": "stream",
     "text": [
      "Processing files:  43%|████▎     | 5168/12120 [30:40<27:53,  4.16it/s]c:\\Users\\16148\\anaconda3\\envs\\dev\\lib\\site-packages\\librosa\\core\\spectrum.py:266: UserWarning: n_fft=2048 is too large for input signal of length=483\n",
      "  warnings.warn(\n",
      "Processing files:  44%|████▍     | 5315/12120 [31:31<35:42,  3.18it/s]  "
     ]
    },
    {
     "name": "stdout",
     "output_type": "stream",
     "text": [
      "Error processing Processed Recordings\\Mimus_polyglottos_Green_Township_near__Cincinnati_Hamilton_County_Ohio_807536_segment_27.wav: operands could not be broadcast together with shapes (1000,) (937,) \n"
     ]
    },
    {
     "name": "stderr",
     "output_type": "stream",
     "text": [
      "Processing files:  44%|████▍     | 5346/12120 [31:43<45:11,  2.50it/s]c:\\Users\\16148\\anaconda3\\envs\\dev\\lib\\site-packages\\librosa\\core\\spectrum.py:266: UserWarning: n_fft=2048 is too large for input signal of length=1558\n",
      "  warnings.warn(\n",
      "Processing files:  44%|████▍     | 5357/12120 [31:47<46:08,  2.44it/s]"
     ]
    },
    {
     "name": "stdout",
     "output_type": "stream",
     "text": [
      "Error processing Processed Recordings\\Mimus_polyglottos_Cincinnati_Hamilton_County_Ohio_677295_segment_8.wav: operands could not be broadcast together with shapes (1000,) (975,) \n"
     ]
    },
    {
     "name": "stderr",
     "output_type": "stream",
     "text": [
      "Processing files:  44%|████▍     | 5366/12120 [31:49<34:33,  3.26it/s]c:\\Users\\16148\\anaconda3\\envs\\dev\\lib\\site-packages\\librosa\\core\\spectrum.py:266: UserWarning: n_fft=2048 is too large for input signal of length=1016\n",
      "  warnings.warn(\n",
      "Processing files:  44%|████▍     | 5369/12120 [31:50<33:47,  3.33it/s]c:\\Users\\16148\\anaconda3\\envs\\dev\\lib\\site-packages\\librosa\\core\\spectrum.py:266: UserWarning: n_fft=2048 is too large for input signal of length=798\n",
      "  warnings.warn(\n"
     ]
    },
    {
     "name": "stdout",
     "output_type": "stream",
     "text": [
      "Error processing Processed Recordings\\Mimus_polyglottos_Cincinnati_Hamilton_County_Ohio_677295_segment_20.wav: operands could not be broadcast together with shapes (1000,) (773,) \n"
     ]
    },
    {
     "name": "stderr",
     "output_type": "stream",
     "text": [
      "Processing files:  45%|████▍     | 5394/12120 [32:00<46:23,  2.42it/s]c:\\Users\\16148\\anaconda3\\envs\\dev\\lib\\site-packages\\librosa\\core\\spectrum.py:266: UserWarning: n_fft=2048 is too large for input signal of length=1993\n",
      "  warnings.warn(\n",
      "Processing files:  46%|████▋     | 5612/12120 [33:14<43:41,  2.48it/s]c:\\Users\\16148\\anaconda3\\envs\\dev\\lib\\site-packages\\librosa\\core\\spectrum.py:266: UserWarning: n_fft=2048 is too large for input signal of length=1956\n",
      "  warnings.warn(\n",
      "Processing files:  46%|████▋     | 5628/12120 [33:20<41:17,  2.62it/s]"
     ]
    },
    {
     "name": "stdout",
     "output_type": "stream",
     "text": [
      "Error processing Processed Recordings\\Toxostoma_rufum_Green_Township_near__Cincinnati_Hamilton_County_Ohio_807480_segment_3.wav: operands could not be broadcast together with shapes (1000,) (896,) \n"
     ]
    },
    {
     "name": "stderr",
     "output_type": "stream",
     "text": [
      "Processing files:  47%|████▋     | 5667/12120 [33:33<35:26,  3.03it/s]  c:\\Users\\16148\\anaconda3\\envs\\dev\\lib\\site-packages\\librosa\\core\\spectrum.py:266: UserWarning: n_fft=2048 is too large for input signal of length=49\n",
      "  warnings.warn(\n",
      "c:\\Users\\16148\\anaconda3\\envs\\dev\\lib\\site-packages\\librosa\\core\\spectrum.py:266: UserWarning: n_fft=2048 is too large for input signal of length=52\n",
      "  warnings.warn(\n",
      "Processing files:  48%|████▊     | 5797/12120 [34:21<41:30,  2.54it/s]  c:\\Users\\16148\\anaconda3\\envs\\dev\\lib\\site-packages\\librosa\\core\\spectrum.py:266: UserWarning: n_fft=2048 is too large for input signal of length=349\n",
      "  warnings.warn(\n",
      "Processing files:  48%|████▊     | 5817/12120 [34:29<35:07,  2.99it/s]c:\\Users\\16148\\anaconda3\\envs\\dev\\lib\\site-packages\\librosa\\core\\spectrum.py:266: UserWarning: n_fft=2048 is too large for input signal of length=1411\n",
      "  warnings.warn(\n",
      "Processing files:  49%|████▊     | 5902/12120 [35:00<37:29,  2.76it/s]c:\\Users\\16148\\anaconda3\\envs\\dev\\lib\\site-packages\\librosa\\core\\spectrum.py:266: UserWarning: n_fft=2048 is too large for input signal of length=1347\n",
      "  warnings.warn(\n",
      "Processing files:  49%|████▉     | 5966/12120 [35:22<27:27,  3.74it/s]c:\\Users\\16148\\anaconda3\\envs\\dev\\lib\\site-packages\\librosa\\core\\spectrum.py:266: UserWarning: n_fft=2048 is too large for input signal of length=931\n",
      "  warnings.warn(\n",
      "Processing files:  49%|████▉     | 5967/12120 [35:22<24:19,  4.22it/s]"
     ]
    },
    {
     "name": "stdout",
     "output_type": "stream",
     "text": [
      "Error processing Processed Recordings\\Hylocichla_mustelina_Sharon_Woods_near__Cincinnati_Hamilton_County_Ohio_483768_segment_14.wav: operands could not be broadcast together with shapes (1000,) (910,) \n"
     ]
    },
    {
     "name": "stderr",
     "output_type": "stream",
     "text": [
      "Processing files:  49%|████▉     | 5998/12120 [35:33<37:27,  2.72it/s]c:\\Users\\16148\\anaconda3\\envs\\dev\\lib\\site-packages\\librosa\\core\\spectrum.py:266: UserWarning: n_fft=2048 is too large for input signal of length=1860\n",
      "  warnings.warn(\n",
      "Processing files:  50%|████▉     | 6012/12120 [35:38<28:57,  3.52it/s]"
     ]
    },
    {
     "name": "stdout",
     "output_type": "stream",
     "text": [
      "Error processing Processed Recordings\\Hylocichla_mustelina_Michigan_Monroe_County_16970_segment_15.wav: operands could not be broadcast together with shapes (1000,) (822,) \n"
     ]
    },
    {
     "name": "stderr",
     "output_type": "stream",
     "text": [
      "Processing files:  50%|█████     | 6063/12120 [35:57<35:16,  2.86it/s]"
     ]
    },
    {
     "name": "stdout",
     "output_type": "stream",
     "text": [
      "Error processing Processed Recordings\\Catharus_fuscescens_Oak_Openings_Lucas_County_Ohio_803619_segment_5.wav: operands could not be broadcast together with shapes (500,) (453,) \n"
     ]
    },
    {
     "name": "stderr",
     "output_type": "stream",
     "text": [
      "Processing files:  51%|█████     | 6164/12120 [36:34<30:19,  3.27it/s]"
     ]
    },
    {
     "name": "stdout",
     "output_type": "stream",
     "text": [
      "Error processing Processed Recordings\\Turdus_migratorius_Bricker_Blvd_near_Cranbrook_Elementary_Columbus_OH_103571_segment_18.wav: operands could not be broadcast together with shapes (1000,) (946,) \n"
     ]
    },
    {
     "name": "stderr",
     "output_type": "stream",
     "text": [
      "Processing files:  52%|█████▏    | 6276/12120 [37:15<34:52,  2.79it/s]c:\\Users\\16148\\anaconda3\\envs\\dev\\lib\\site-packages\\librosa\\core\\spectrum.py:266: UserWarning: n_fft=2048 is too large for input signal of length=1980\n",
      "  warnings.warn(\n",
      "Processing files:  52%|█████▏    | 6360/12120 [37:43<30:19,  3.17it/s]c:\\Users\\16148\\anaconda3\\envs\\dev\\lib\\site-packages\\librosa\\core\\spectrum.py:266: UserWarning: n_fft=2048 is too large for input signal of length=1060\n",
      "  warnings.warn(\n"
     ]
    },
    {
     "name": "stdout",
     "output_type": "stream",
     "text": [
      "Error processing Processed Recordings\\Spizella_passerina_Miami_Township_near__Cleves_Hamilton_County_Ohio_645554_segment_20.wav: operands could not be broadcast together with shapes (1000,) (969,) \n"
     ]
    },
    {
     "name": "stderr",
     "output_type": "stream",
     "text": [
      "c:\\Users\\16148\\anaconda3\\envs\\dev\\lib\\site-packages\\librosa\\core\\spectrum.py:266: UserWarning: n_fft=2048 is too large for input signal of length=1813\n",
      "  warnings.warn(\n",
      "Processing files:  53%|█████▎    | 6369/12120 [37:46<33:00,  2.90it/s]c:\\Users\\16148\\anaconda3\\envs\\dev\\lib\\site-packages\\librosa\\core\\spectrum.py:266: UserWarning: n_fft=2048 is too large for input signal of length=1818\n",
      "  warnings.warn(\n",
      "Processing files:  54%|█████▍    | 6605/12120 [39:13<29:48,  3.08it/s]  c:\\Users\\16148\\anaconda3\\envs\\dev\\lib\\site-packages\\librosa\\core\\spectrum.py:266: UserWarning: n_fft=2048 is too large for input signal of length=564\n",
      "  warnings.warn(\n",
      "Processing files:  55%|█████▌    | 6687/12120 [39:41<29:34,  3.06it/s]c:\\Users\\16148\\anaconda3\\envs\\dev\\lib\\site-packages\\librosa\\core\\spectrum.py:266: UserWarning: n_fft=2048 is too large for input signal of length=1094\n",
      "  warnings.warn(\n",
      "Processing files:  56%|█████▌    | 6728/12120 [39:56<27:51,  3.23it/s]"
     ]
    },
    {
     "name": "stdout",
     "output_type": "stream",
     "text": [
      "Error processing Processed Recordings\\Centronyx_henslowii_Battelle_Darby_Metro_Park_-_Wetlands_417867_segment_4.wav: operands could not be broadcast together with shapes (1000,) (609,) \n"
     ]
    },
    {
     "name": "stderr",
     "output_type": "stream",
     "text": [
      "Processing files:  56%|█████▌    | 6735/12120 [39:58<33:58,  2.64it/s]c:\\Users\\16148\\anaconda3\\envs\\dev\\lib\\site-packages\\librosa\\core\\spectrum.py:266: UserWarning: n_fft=2048 is too large for input signal of length=407\n",
      "  warnings.warn(\n",
      "Processing files:  57%|█████▋    | 6874/12120 [40:49<27:52,  3.14it/s]c:\\Users\\16148\\anaconda3\\envs\\dev\\lib\\site-packages\\librosa\\core\\spectrum.py:266: UserWarning: n_fft=2048 is too large for input signal of length=170\n",
      "  warnings.warn(\n",
      "Processing files:  57%|█████▋    | 6943/12120 [41:14<28:15,  3.05it/s]c:\\Users\\16148\\anaconda3\\envs\\dev\\lib\\site-packages\\librosa\\core\\spectrum.py:266: UserWarning: n_fft=2048 is too large for input signal of length=1079\n",
      "  warnings.warn(\n",
      "c:\\Users\\16148\\anaconda3\\envs\\dev\\lib\\site-packages\\librosa\\core\\spectrum.py:266: UserWarning: n_fft=2048 is too large for input signal of length=908\n",
      "  warnings.warn(\n"
     ]
    },
    {
     "name": "stdout",
     "output_type": "stream",
     "text": [
      "Error processing Processed Recordings\\Pipilo_erythrophthalmus_Green_Township_near__Cincinnati_Hamilton_County_Ohio_779377_segment_8.wav: operands could not be broadcast together with shapes (1000,) (996,) \n"
     ]
    },
    {
     "name": "stderr",
     "output_type": "stream",
     "text": [
      "Processing files:  58%|█████▊    | 6985/12120 [41:28<28:04,  3.05it/s]c:\\Users\\16148\\anaconda3\\envs\\dev\\lib\\site-packages\\librosa\\core\\spectrum.py:266: UserWarning: n_fft=2048 is too large for input signal of length=627\n",
      "  warnings.warn(\n",
      "Processing files:  58%|█████▊    | 7006/12120 [41:34<22:39,  3.76it/s]c:\\Users\\16148\\anaconda3\\envs\\dev\\lib\\site-packages\\librosa\\core\\spectrum.py:266: UserWarning: n_fft=2048 is too large for input signal of length=1969\n",
      "  warnings.warn(\n",
      "Processing files:  58%|█████▊    | 7037/12120 [41:46<37:26,  2.26it/s]c:\\Users\\16148\\anaconda3\\envs\\dev\\lib\\site-packages\\librosa\\core\\spectrum.py:266: UserWarning: n_fft=2048 is too large for input signal of length=952\n",
      "  warnings.warn(\n",
      "Processing files:  58%|█████▊    | 7038/12120 [41:46<29:39,  2.86it/s]"
     ]
    },
    {
     "name": "stdout",
     "output_type": "stream",
     "text": [
      "Error processing Processed Recordings\\Pipilo_erythrophthalmus_Michigan_Petersburg_SGA__31106_segment_0.wav: operands could not be broadcast together with shapes (1000,) (996,) \n"
     ]
    },
    {
     "name": "stderr",
     "output_type": "stream",
     "text": [
      "Processing files:  59%|█████▊    | 7091/12120 [42:07<31:05,  2.70it/s]c:\\Users\\16148\\anaconda3\\envs\\dev\\lib\\site-packages\\librosa\\core\\spectrum.py:266: UserWarning: n_fft=2048 is too large for input signal of length=624\n",
      "  warnings.warn(\n"
     ]
    },
    {
     "name": "stdout",
     "output_type": "stream",
     "text": [
      "Error processing Processed Recordings\\Icteria_virens_Miami_Township_near__Cleves_Hamilton_County_Ohio_807580_segment_13.wav: operands could not be broadcast together with shapes (1000,) (562,) \n"
     ]
    },
    {
     "name": "stderr",
     "output_type": "stream",
     "text": [
      "Processing files:  59%|█████▉    | 7152/12120 [42:27<26:44,  3.10it/s]c:\\Users\\16148\\anaconda3\\envs\\dev\\lib\\site-packages\\librosa\\core\\spectrum.py:266: UserWarning: n_fft=2048 is too large for input signal of length=696\n",
      "  warnings.warn(\n",
      "c:\\Users\\16148\\anaconda3\\envs\\dev\\lib\\site-packages\\librosa\\core\\spectrum.py:266: UserWarning: n_fft=2048 is too large for input signal of length=648\n",
      "  warnings.warn(\n",
      "Processing files:  61%|██████    | 7356/12120 [43:39<19:39,  4.04it/s]c:\\Users\\16148\\anaconda3\\envs\\dev\\lib\\site-packages\\librosa\\core\\spectrum.py:266: UserWarning: n_fft=2048 is too large for input signal of length=1444\n",
      "  warnings.warn(\n",
      "Processing files:  61%|██████    | 7368/12120 [43:43<27:52,  2.84it/s]c:\\Users\\16148\\anaconda3\\envs\\dev\\lib\\site-packages\\librosa\\core\\spectrum.py:266: UserWarning: n_fft=2048 is too large for input signal of length=22\n",
      "  warnings.warn(\n",
      "c:\\Users\\16148\\anaconda3\\envs\\dev\\lib\\site-packages\\librosa\\core\\spectrum.py:266: UserWarning: n_fft=2048 is too large for input signal of length=27\n",
      "  warnings.warn(\n",
      "Processing files:  61%|██████    | 7369/12120 [43:43<23:04,  3.43it/s]"
     ]
    },
    {
     "name": "stdout",
     "output_type": "stream",
     "text": [
      "Error processing Processed Recordings\\Icterus_galbula_Magee_Marsh_-_boardwalk_Lucas_County_Ohio_818926_segment_6.wav: operands could not be broadcast together with shapes (500,) (28,) \n"
     ]
    },
    {
     "name": "stderr",
     "output_type": "stream",
     "text": [
      "Processing files:  61%|██████    | 7395/12120 [43:52<24:56,  3.16it/s]"
     ]
    },
    {
     "name": "stdout",
     "output_type": "stream",
     "text": [
      "Error processing Processed Recordings\\Icterus_galbula_Magee_Marsh_-_boardwalk_Lucas_County_Ohio_818926_segment_32.wav: operands could not be broadcast together with shapes (1000,) (737,) \n"
     ]
    },
    {
     "name": "stderr",
     "output_type": "stream",
     "text": [
      "Processing files:  61%|██████    | 7399/12120 [43:54<30:18,  2.60it/s]c:\\Users\\16148\\anaconda3\\envs\\dev\\lib\\site-packages\\librosa\\core\\spectrum.py:266: UserWarning: n_fft=2048 is too large for input signal of length=1031\n",
      "  warnings.warn(\n",
      "Processing files:  61%|██████    | 7413/12120 [43:59<31:06,  2.52it/s]c:\\Users\\16148\\anaconda3\\envs\\dev\\lib\\site-packages\\librosa\\core\\spectrum.py:266: UserWarning: n_fft=2048 is too large for input signal of length=1524\n",
      "  warnings.warn(\n",
      "Processing files:  62%|██████▏   | 7464/12120 [44:17<28:54,  2.68it/s]c:\\Users\\16148\\anaconda3\\envs\\dev\\lib\\site-packages\\librosa\\core\\spectrum.py:266: UserWarning: n_fft=2048 is too large for input signal of length=481\n",
      "  warnings.warn(\n",
      "Processing files:  62%|██████▏   | 7465/12120 [44:18<23:15,  3.33it/s]"
     ]
    },
    {
     "name": "stdout",
     "output_type": "stream",
     "text": [
      "Error processing Processed Recordings\\Icterus_galbula_Magee_Marsh_-_boardwalk_Lucas_County_Ohio_818925_segment_11.wav: operands could not be broadcast together with shapes (1000,) (567,) \n"
     ]
    },
    {
     "name": "stderr",
     "output_type": "stream",
     "text": [
      "Processing files:  62%|██████▏   | 7501/12120 [44:31<28:25,  2.71it/s]c:\\Users\\16148\\anaconda3\\envs\\dev\\lib\\site-packages\\librosa\\core\\spectrum.py:266: UserWarning: n_fft=2048 is too large for input signal of length=235\n",
      "  warnings.warn(\n",
      "c:\\Users\\16148\\anaconda3\\envs\\dev\\lib\\site-packages\\librosa\\core\\spectrum.py:266: UserWarning: n_fft=2048 is too large for input signal of length=248\n",
      "  warnings.warn(\n"
     ]
    },
    {
     "name": "stdout",
     "output_type": "stream",
     "text": [
      "Error processing Processed Recordings\\Icterus_galbula_Park_End_Dr_Montgomery_County_Ohio_477390_segment_16.wav: operands could not be broadcast together with shapes (500,) (241,) \n"
     ]
    },
    {
     "name": "stderr",
     "output_type": "stream",
     "text": [
      "Processing files:  62%|██████▏   | 7556/12120 [44:54<28:11,  2.70it/s]c:\\Users\\16148\\anaconda3\\envs\\dev\\lib\\site-packages\\librosa\\core\\spectrum.py:266: UserWarning: n_fft=2048 is too large for input signal of length=74\n",
      "  warnings.warn(\n",
      "Processing files:  62%|██████▏   | 7571/12120 [44:59<26:00,  2.92it/s]c:\\Users\\16148\\anaconda3\\envs\\dev\\lib\\site-packages\\librosa\\core\\spectrum.py:266: UserWarning: n_fft=2048 is too large for input signal of length=916\n",
      "  warnings.warn(\n",
      "Processing files:  62%|██████▏   | 7574/12120 [45:00<23:31,  3.22it/s]c:\\Users\\16148\\anaconda3\\envs\\dev\\lib\\site-packages\\librosa\\core\\spectrum.py:266: UserWarning: n_fft=2048 is too large for input signal of length=428\n",
      "  warnings.warn(\n",
      "c:\\Users\\16148\\anaconda3\\envs\\dev\\lib\\site-packages\\librosa\\core\\spectrum.py:266: UserWarning: n_fft=2048 is too large for input signal of length=447\n",
      "  warnings.warn(\n",
      "Processing files:  63%|██████▎   | 7576/12120 [45:00<15:13,  4.97it/s]"
     ]
    },
    {
     "name": "stdout",
     "output_type": "stream",
     "text": [
      "Error processing Processed Recordings\\Icterus_galbula_Magee_Marsh_-_boardwalk_Lucas_County_Ohio_820106_segment_32.wav: operands could not be broadcast together with shapes (500,) (467,) \n"
     ]
    },
    {
     "name": "stderr",
     "output_type": "stream",
     "text": [
      "Processing files:  63%|██████▎   | 7622/12120 [45:16<31:05,  2.41it/s]c:\\Users\\16148\\anaconda3\\envs\\dev\\lib\\site-packages\\librosa\\core\\spectrum.py:266: UserWarning: n_fft=2048 is too large for input signal of length=25\n",
      "  warnings.warn(\n",
      "Processing files:  63%|██████▎   | 7623/12120 [45:16<26:03,  2.88it/s]"
     ]
    },
    {
     "name": "stdout",
     "output_type": "stream",
     "text": [
      "Error processing Processed Recordings\\Icterus_spurius_Ohio_Ottawa_NWR_178296_segment_5.wav: operands could not be broadcast together with shapes (500,) (21,) \n"
     ]
    },
    {
     "name": "stderr",
     "output_type": "stream",
     "text": [
      "Processing files:  63%|██████▎   | 7680/12120 [45:36<25:02,  2.96it/s]c:\\Users\\16148\\anaconda3\\envs\\dev\\lib\\site-packages\\librosa\\core\\spectrum.py:266: UserWarning: n_fft=2048 is too large for input signal of length=1318\n",
      "  warnings.warn(\n",
      "Processing files:  64%|██████▎   | 7697/12120 [45:42<27:57,  2.64it/s]"
     ]
    },
    {
     "name": "stdout",
     "output_type": "stream",
     "text": [
      "Error processing Processed Recordings\\Icterus_spurius_Heritage_Trail_Metro_Park_Hayden_Run_Rd_parking_area_103502_segment_13.wav: operands could not be broadcast together with shapes (1000,) (521,) \n"
     ]
    },
    {
     "name": "stderr",
     "output_type": "stream",
     "text": [
      "Processing files:  64%|██████▍   | 7754/12120 [46:02<29:11,  2.49it/s]c:\\Users\\16148\\anaconda3\\envs\\dev\\lib\\site-packages\\librosa\\core\\spectrum.py:266: UserWarning: n_fft=2048 is too large for input signal of length=392\n",
      "  warnings.warn(\n",
      "Processing files:  65%|██████▌   | 7879/12120 [46:46<23:00,  3.07it/s]c:\\Users\\16148\\anaconda3\\envs\\dev\\lib\\site-packages\\librosa\\core\\spectrum.py:266: UserWarning: n_fft=2048 is too large for input signal of length=1967\n",
      "  warnings.warn(\n",
      "Processing files:  65%|██████▌   | 7906/12120 [46:55<16:50,  4.17it/s]c:\\Users\\16148\\anaconda3\\envs\\dev\\lib\\site-packages\\librosa\\core\\spectrum.py:266: UserWarning: n_fft=2048 is too large for input signal of length=306\n",
      "  warnings.warn(\n",
      "Processing files:  65%|██████▌   | 7918/12120 [46:59<23:49,  2.94it/s]c:\\Users\\16148\\anaconda3\\envs\\dev\\lib\\site-packages\\librosa\\core\\spectrum.py:266: UserWarning: n_fft=2048 is too large for input signal of length=1883\n",
      "  warnings.warn(\n",
      "Processing files:  66%|██████▌   | 8006/12120 [47:28<13:59,  4.90it/s]"
     ]
    },
    {
     "name": "stdout",
     "output_type": "stream",
     "text": [
      "Error processing Processed Recordings\\Agelaius_phoeniceus_Magee_Marsh_-_boardwalk_Lucas_County_Ohio_814751_segment_61.wav: operands could not be broadcast together with shapes (1000,) (602,) \n"
     ]
    },
    {
     "name": "stderr",
     "output_type": "stream",
     "text": [
      "Processing files:  66%|██████▋   | 8030/12120 [47:37<24:36,  2.77it/s]c:\\Users\\16148\\anaconda3\\envs\\dev\\lib\\site-packages\\librosa\\core\\spectrum.py:266: UserWarning: n_fft=2048 is too large for input signal of length=1946\n",
      "  warnings.warn(\n",
      "Processing files:  68%|██████▊   | 8253/12120 [48:57<22:07,  2.91it/s]c:\\Users\\16148\\anaconda3\\envs\\dev\\lib\\site-packages\\librosa\\core\\spectrum.py:266: UserWarning: n_fft=2048 is too large for input signal of length=1683\n",
      "  warnings.warn(\n",
      "Processing files:  68%|██████▊   | 8276/12120 [49:05<18:56,  3.38it/s]c:\\Users\\16148\\anaconda3\\envs\\dev\\lib\\site-packages\\librosa\\core\\spectrum.py:266: UserWarning: n_fft=2048 is too large for input signal of length=1691\n",
      "  warnings.warn(\n",
      "Processing files:  68%|██████▊   | 8284/12120 [49:07<22:11,  2.88it/s]c:\\Users\\16148\\anaconda3\\envs\\dev\\lib\\site-packages\\librosa\\core\\spectrum.py:266: UserWarning: n_fft=2048 is too large for input signal of length=161\n",
      "  warnings.warn(\n",
      "Processing files:  70%|██████▉   | 8433/12120 [50:01<19:44,  3.11it/s]c:\\Users\\16148\\anaconda3\\envs\\dev\\lib\\site-packages\\librosa\\core\\spectrum.py:266: UserWarning: n_fft=2048 is too large for input signal of length=1360\n",
      "  warnings.warn(\n",
      "Processing files:  70%|██████▉   | 8450/12120 [50:07<16:52,  3.62it/s]"
     ]
    },
    {
     "name": "stdout",
     "output_type": "stream",
     "text": [
      "Error processing Processed Recordings\\Parkesia_motacilla_Harrison_Township_near__Harrison_Hamilton_County_Ohio_805820_segment_13.wav: operands could not be broadcast together with shapes (1000,) (728,) \n"
     ]
    },
    {
     "name": "stderr",
     "output_type": "stream",
     "text": [
      "Processing files:  70%|██████▉   | 8478/12120 [50:15<21:05,  2.88it/s]c:\\Users\\16148\\anaconda3\\envs\\dev\\lib\\site-packages\\librosa\\core\\spectrum.py:266: UserWarning: n_fft=2048 is too large for input signal of length=520\n",
      "  warnings.warn(\n",
      "Processing files:  71%|███████   | 8616/12120 [51:05<24:45,  2.36it/s]"
     ]
    },
    {
     "name": "stdout",
     "output_type": "stream",
     "text": [
      "Error processing Processed Recordings\\Vermivora_chrysoptera_Prairie_Oaks_Metro_Park_99391_segment_2.wav: operands could not be broadcast together with shapes (500,) (335,) \n"
     ]
    },
    {
     "name": "stderr",
     "output_type": "stream",
     "text": [
      "Processing files:  71%|███████   | 8633/12120 [51:10<17:28,  3.33it/s]c:\\Users\\16148\\anaconda3\\envs\\dev\\lib\\site-packages\\librosa\\core\\spectrum.py:266: UserWarning: n_fft=2048 is too large for input signal of length=760\n",
      "  warnings.warn(\n",
      "Processing files:  71%|███████   | 8634/12120 [51:11<25:32,  2.27it/s]"
     ]
    },
    {
     "name": "stdout",
     "output_type": "stream",
     "text": [
      "Error processing Processed Recordings\\Vermivora_chrysoptera_Prairie_Oaks_Metro_Park_99390_segment_2.wav: operands could not be broadcast together with shapes (1000,) (798,) \n"
     ]
    },
    {
     "name": "stderr",
     "output_type": "stream",
     "text": [
      "Processing files:  71%|███████▏  | 8664/12120 [51:21<18:49,  3.06it/s]c:\\Users\\16148\\anaconda3\\envs\\dev\\lib\\site-packages\\librosa\\core\\spectrum.py:266: UserWarning: n_fft=2048 is too large for input signal of length=875\n",
      "  warnings.warn(\n",
      "Processing files:  72%|███████▏  | 8747/12120 [51:51<17:58,  3.13it/s]c:\\Users\\16148\\anaconda3\\envs\\dev\\lib\\site-packages\\librosa\\core\\spectrum.py:266: UserWarning: n_fft=2048 is too large for input signal of length=701\n",
      "  warnings.warn(\n",
      "Processing files:  72%|███████▏  | 8748/12120 [51:51<15:30,  3.62it/s]"
     ]
    },
    {
     "name": "stdout",
     "output_type": "stream",
     "text": [
      "Error processing Processed Recordings\\Vermivora_cyanoptera_Oak_Openings_Lucas_County_Ohio_803617_segment_20.wav: operands could not be broadcast together with shapes (1000,) (597,) \n"
     ]
    },
    {
     "name": "stderr",
     "output_type": "stream",
     "text": [
      "Processing files:  72%|███████▏  | 8773/12120 [52:00<16:52,  3.31it/s]c:\\Users\\16148\\anaconda3\\envs\\dev\\lib\\site-packages\\librosa\\core\\spectrum.py:266: UserWarning: n_fft=2048 is too large for input signal of length=2034\n",
      "  warnings.warn(\n",
      "Processing files:  72%|███████▏  | 8785/12120 [52:04<17:20,  3.21it/s]c:\\Users\\16148\\anaconda3\\envs\\dev\\lib\\site-packages\\librosa\\core\\spectrum.py:266: UserWarning: n_fft=2048 is too large for input signal of length=1961\n",
      "  warnings.warn(\n",
      "Processing files:  73%|███████▎  | 8803/12120 [52:10<19:22,  2.85it/s]c:\\Users\\16148\\anaconda3\\envs\\dev\\lib\\site-packages\\librosa\\core\\spectrum.py:266: UserWarning: n_fft=2048 is too large for input signal of length=1282\n",
      "  warnings.warn(\n",
      "Processing files:  73%|███████▎  | 8818/12120 [52:15<19:02,  2.89it/s]c:\\Users\\16148\\anaconda3\\envs\\dev\\lib\\site-packages\\librosa\\core\\spectrum.py:266: UserWarning: n_fft=2048 is too large for input signal of length=1704\n",
      "  warnings.warn(\n",
      "Processing files:  73%|███████▎  | 8843/12120 [52:24<21:45,  2.51it/s]c:\\Users\\16148\\anaconda3\\envs\\dev\\lib\\site-packages\\librosa\\core\\spectrum.py:266: UserWarning: n_fft=2048 is too large for input signal of length=65\n",
      "  warnings.warn(\n",
      "Processing files:  73%|███████▎  | 8890/12120 [52:41<16:05,  3.35it/s]"
     ]
    },
    {
     "name": "stdout",
     "output_type": "stream",
     "text": [
      "Error processing Processed Recordings\\Mniotilta_varia_Ohio_Crane_Creek_SP_17015_segment_7.wav: operands could not be broadcast together with shapes (1000,) (584,) \n"
     ]
    },
    {
     "name": "stderr",
     "output_type": "stream",
     "text": [
      "Processing files:  74%|███████▍  | 8945/12120 [52:59<10:50,  4.88it/s]c:\\Users\\16148\\anaconda3\\envs\\dev\\lib\\site-packages\\librosa\\core\\spectrum.py:266: UserWarning: n_fft=2048 is too large for input signal of length=490\n",
      "  warnings.warn(\n",
      "Processing files:  74%|███████▍  | 8946/12120 [52:59<10:55,  4.84it/s]"
     ]
    },
    {
     "name": "stdout",
     "output_type": "stream",
     "text": [
      "Error processing Processed Recordings\\Protonotaria_citrea_Magee_Marsh_-_boardwalk_Lucas_County_Ohio_828067_segment_11.wav: operands could not be broadcast together with shapes (500,) (496,) \n"
     ]
    },
    {
     "name": "stderr",
     "output_type": "stream",
     "text": [
      "Processing files:  74%|███████▍  | 8976/12120 [53:10<22:26,  2.34it/s]"
     ]
    },
    {
     "name": "stdout",
     "output_type": "stream",
     "text": [
      "Error processing Processed Recordings\\Protonotaria_citrea_Magee_Marsh_-_boardwalk_Lucas_County_Ohio_828067_segment_42.wav: operands could not be broadcast together with shapes (500,) (288,) \n"
     ]
    },
    {
     "name": "stderr",
     "output_type": "stream",
     "text": [
      "Processing files:  76%|███████▌  | 9198/12120 [54:30<16:20,  2.98it/s]c:\\Users\\16148\\anaconda3\\envs\\dev\\lib\\site-packages\\librosa\\core\\spectrum.py:266: UserWarning: n_fft=2048 is too large for input signal of length=464\n",
      "  warnings.warn(\n",
      "Processing files:  76%|███████▌  | 9204/12120 [54:32<14:19,  3.39it/s]c:\\Users\\16148\\anaconda3\\envs\\dev\\lib\\site-packages\\librosa\\core\\spectrum.py:266: UserWarning: n_fft=2048 is too large for input signal of length=850\n",
      "  warnings.warn(\n",
      "c:\\Users\\16148\\anaconda3\\envs\\dev\\lib\\site-packages\\librosa\\core\\spectrum.py:266: UserWarning: n_fft=2048 is too large for input signal of length=856\n",
      "  warnings.warn(\n",
      "Processing files:  76%|███████▋  | 9248/12120 [54:46<14:54,  3.21it/s]"
     ]
    },
    {
     "name": "stdout",
     "output_type": "stream",
     "text": [
      "Error processing Processed Recordings\\Oporornis_agilis_Point_Pelee_National_Park_Essex_County_Ontario_802580_segment_10.wav: operands could not be broadcast together with shapes (500,) (367,) \n"
     ]
    },
    {
     "name": "stderr",
     "output_type": "stream",
     "text": [
      "Processing files:  76%|███████▋  | 9266/12120 [54:53<18:32,  2.57it/s]c:\\Users\\16148\\anaconda3\\envs\\dev\\lib\\site-packages\\librosa\\core\\spectrum.py:266: UserWarning: n_fft=2048 is too large for input signal of length=698\n",
      "  warnings.warn(\n",
      "Processing files:  77%|███████▋  | 9297/12120 [55:05<19:09,  2.46it/s]"
     ]
    },
    {
     "name": "stdout",
     "output_type": "stream",
     "text": [
      "Error processing Processed Recordings\\Oporornis_agilis_Blendon_Woods_Metro_Park--Brookside_Trail_near_Hickory_Ridge_Trail_Columbus_Franklin_County_Ohio_179835_segment_37.wav: operands could not be broadcast together with shapes (1000,) (891,) \n"
     ]
    },
    {
     "name": "stderr",
     "output_type": "stream",
     "text": [
      "Processing files:  78%|███████▊  | 9435/12120 [55:55<16:55,  2.64it/s]c:\\Users\\16148\\anaconda3\\envs\\dev\\lib\\site-packages\\librosa\\core\\spectrum.py:266: UserWarning: n_fft=2048 is too large for input signal of length=920\n",
      "  warnings.warn(\n",
      "c:\\Users\\16148\\anaconda3\\envs\\dev\\lib\\site-packages\\librosa\\core\\spectrum.py:266: UserWarning: n_fft=2048 is too large for input signal of length=859\n",
      "  warnings.warn(\n"
     ]
    },
    {
     "name": "stdout",
     "output_type": "stream",
     "text": [
      "Error processing Processed Recordings\\Geothlypis_formosa_Whitewater_Township_near__Cleves_Hamilton_County_Ohio_817714_segment_10.wav: operands could not be broadcast together with shapes (1000,) (825,) \n"
     ]
    },
    {
     "name": "stderr",
     "output_type": "stream",
     "text": [
      "Processing files:  79%|███████▊  | 9525/12120 [56:25<13:18,  3.25it/s]c:\\Users\\16148\\anaconda3\\envs\\dev\\lib\\site-packages\\librosa\\core\\spectrum.py:266: UserWarning: n_fft=2048 is too large for input signal of length=1853\n",
      "  warnings.warn(\n",
      "Processing files:  79%|███████▊  | 9532/12120 [56:27<13:04,  3.30it/s]c:\\Users\\16148\\anaconda3\\envs\\dev\\lib\\site-packages\\librosa\\core\\spectrum.py:266: UserWarning: n_fft=2048 is too large for input signal of length=1743\n",
      "  warnings.warn(\n",
      "Processing files:  80%|███████▉  | 9675/12120 [57:19<16:06,  2.53it/s]c:\\Users\\16148\\anaconda3\\envs\\dev\\lib\\site-packages\\librosa\\core\\spectrum.py:266: UserWarning: n_fft=2048 is too large for input signal of length=1855\n",
      "  warnings.warn(\n",
      "Processing files:  80%|███████▉  | 9684/12120 [57:22<16:17,  2.49it/s]c:\\Users\\16148\\anaconda3\\envs\\dev\\lib\\site-packages\\librosa\\core\\spectrum.py:266: UserWarning: n_fft=2048 is too large for input signal of length=293\n",
      "  warnings.warn(\n",
      "Processing files:  80%|████████  | 9725/12120 [57:37<12:26,  3.21it/s]c:\\Users\\16148\\anaconda3\\envs\\dev\\lib\\site-packages\\librosa\\core\\spectrum.py:266: UserWarning: n_fft=2048 is too large for input signal of length=1988\n",
      "  warnings.warn(\n",
      "Processing files:  80%|████████  | 9728/12120 [57:38<13:09,  3.03it/s]"
     ]
    },
    {
     "name": "stdout",
     "output_type": "stream",
     "text": [
      "Error processing Processed Recordings\\Setophaga_citrina_Brecksville_Cuyahoga_County_Ohio_652287_segment_22.wav: operands could not be broadcast together with shapes (500,) (411,) \n"
     ]
    },
    {
     "name": "stderr",
     "output_type": "stream",
     "text": [
      "Processing files:  81%|████████  | 9785/12120 [57:58<12:00,  3.24it/s]c:\\Users\\16148\\anaconda3\\envs\\dev\\lib\\site-packages\\librosa\\core\\spectrum.py:266: UserWarning: n_fft=2048 is too large for input signal of length=1845\n",
      "  warnings.warn(\n",
      "Processing files:  81%|████████  | 9786/12120 [57:58<10:39,  3.65it/s]"
     ]
    },
    {
     "name": "stdout",
     "output_type": "stream",
     "text": [
      "Error processing Processed Recordings\\Setophaga_ruticilla_Magee_Marsh_-_boardwalk_Lucas_County_Ohio_825241_segment_50.wav: operands could not be broadcast together with shapes (500,) (148,) \n"
     ]
    },
    {
     "name": "stderr",
     "output_type": "stream",
     "text": [
      "Processing files:  81%|████████  | 9791/12120 [57:59<10:37,  3.65it/s]"
     ]
    },
    {
     "name": "stdout",
     "output_type": "stream",
     "text": [
      "Error processing Processed Recordings\\Setophaga_ruticilla_Magee_Marsh_-_boardwalk_Lucas_County_Ohio_825241_segment_54.wav: operands could not be broadcast together with shapes (500,) (167,) \n"
     ]
    },
    {
     "name": "stderr",
     "output_type": "stream",
     "text": [
      "Processing files:  81%|████████▏ | 9855/12120 [58:22<15:38,  2.41it/s]c:\\Users\\16148\\anaconda3\\envs\\dev\\lib\\site-packages\\librosa\\core\\spectrum.py:266: UserWarning: n_fft=2048 is too large for input signal of length=1144\n",
      "  warnings.warn(\n",
      "Processing files:  82%|████████▏ | 9883/12120 [58:33<16:38,  2.24it/s]c:\\Users\\16148\\anaconda3\\envs\\dev\\lib\\site-packages\\librosa\\core\\spectrum.py:266: UserWarning: n_fft=2048 is too large for input signal of length=266\n",
      "  warnings.warn(\n",
      "c:\\Users\\16148\\anaconda3\\envs\\dev\\lib\\site-packages\\librosa\\core\\spectrum.py:266: UserWarning: n_fft=2048 is too large for input signal of length=260\n",
      "  warnings.warn(\n",
      "Processing files:  82%|████████▏ | 9884/12120 [58:34<14:52,  2.51it/s]"
     ]
    },
    {
     "name": "stdout",
     "output_type": "stream",
     "text": [
      "Error processing Processed Recordings\\Setophaga_ruticilla_Paris_near__Ravenna_Portage_County_Ohio_178310_segment_2.wav: operands could not be broadcast together with shapes (500,) (250,) \n"
     ]
    },
    {
     "name": "stderr",
     "output_type": "stream",
     "text": [
      "Processing files:  83%|████████▎ | 10003/12120 [59:14<08:04,  4.37it/s]"
     ]
    },
    {
     "name": "stdout",
     "output_type": "stream",
     "text": [
      "Error processing Processed Recordings\\Setophaga_ruticilla_Magee_Marsh_-_boardwalk_Lucas_County_Ohio_825240_segment_29.wav: operands could not be broadcast together with shapes (1000,) (635,) \n"
     ]
    },
    {
     "name": "stderr",
     "output_type": "stream",
     "text": [
      "Processing files:  83%|████████▎ | 10040/12120 [59:28<10:52,  3.19it/s]c:\\Users\\16148\\anaconda3\\envs\\dev\\lib\\site-packages\\librosa\\core\\spectrum.py:266: UserWarning: n_fft=2048 is too large for input signal of length=210\n",
      "  warnings.warn(\n",
      "Processing files:  83%|████████▎ | 10058/12120 [59:35<14:23,  2.39it/s]c:\\Users\\16148\\anaconda3\\envs\\dev\\lib\\site-packages\\librosa\\core\\spectrum.py:266: UserWarning: n_fft=2048 is too large for input signal of length=586\n",
      "  warnings.warn(\n"
     ]
    },
    {
     "name": "stdout",
     "output_type": "stream",
     "text": [
      "Error processing Processed Recordings\\Setophaga_ruticilla_Magee_Marsh_-_boardwalk_Lucas_County_Ohio_825240_segment_86.wav: operands could not be broadcast together with shapes (1000,) (530,) \n"
     ]
    },
    {
     "name": "stderr",
     "output_type": "stream",
     "text": [
      "Processing files:  83%|████████▎ | 10084/12120 [59:43<09:57,  3.41it/s]"
     ]
    },
    {
     "name": "stdout",
     "output_type": "stream",
     "text": [
      "Error processing Processed Recordings\\Setophaga_ruticilla_Shawnee_State_Forest_Scioto_County_Ohio_417456_segment_4.wav: operands could not be broadcast together with shapes (1000,) (682,) \n"
     ]
    },
    {
     "name": "stderr",
     "output_type": "stream",
     "text": [
      "Processing files:  83%|████████▎ | 10096/12120 [59:48<13:32,  2.49it/s]c:\\Users\\16148\\anaconda3\\envs\\dev\\lib\\site-packages\\librosa\\core\\spectrum.py:266: UserWarning: n_fft=2048 is too large for input signal of length=615\n",
      "  warnings.warn(\n",
      "Processing files:  84%|████████▍ | 10159/12120 [1:00:10<10:49,  3.02it/s]"
     ]
    },
    {
     "name": "stdout",
     "output_type": "stream",
     "text": [
      "Error processing Processed Recordings\\Setophaga_kirtlandii_Kinnear_Rd_&_Hess_Blvd_Columbus_OH_103394_segment_58.wav: operands could not be broadcast together with shapes (500,) (221,) \n"
     ]
    },
    {
     "name": "stderr",
     "output_type": "stream",
     "text": [
      "Processing files:  84%|████████▍ | 10200/12120 [1:00:26<11:31,  2.78it/s]c:\\Users\\16148\\anaconda3\\envs\\dev\\lib\\site-packages\\librosa\\core\\spectrum.py:266: UserWarning: n_fft=2048 is too large for input signal of length=651\n",
      "  warnings.warn(\n",
      "Processing files:  84%|████████▍ | 10226/12120 [1:00:34<08:47,  3.59it/s]c:\\Users\\16148\\anaconda3\\envs\\dev\\lib\\site-packages\\librosa\\core\\spectrum.py:266: UserWarning: n_fft=2048 is too large for input signal of length=159\n",
      "  warnings.warn(\n",
      "Processing files:  85%|████████▍ | 10298/12120 [1:01:02<13:01,  2.33it/s]c:\\Users\\16148\\anaconda3\\envs\\dev\\lib\\site-packages\\librosa\\core\\spectrum.py:266: UserWarning: n_fft=2048 is too large for input signal of length=1494\n",
      "  warnings.warn(\n",
      "Processing files:  86%|████████▌ | 10421/12120 [1:01:46<10:53,  2.60it/s]"
     ]
    },
    {
     "name": "stdout",
     "output_type": "stream",
     "text": [
      "Error processing Processed Recordings\\Setophaga_magnolia_Ohio_near__Cleveland_Heights_Cuyahoga_County_Ohio_418323_segment_0.wav: operands could not be broadcast together with shapes (1000,) (566,) \n"
     ]
    },
    {
     "name": "stderr",
     "output_type": "stream",
     "text": [
      "Processing files:  86%|████████▋ | 10464/12120 [1:02:01<08:06,  3.40it/s]c:\\Users\\16148\\anaconda3\\envs\\dev\\lib\\site-packages\\librosa\\core\\spectrum.py:266: UserWarning: n_fft=2048 is too large for input signal of length=1226\n",
      "  warnings.warn(\n",
      "Processing files:  87%|████████▋ | 10517/12120 [1:02:20<11:30,  2.32it/s]"
     ]
    },
    {
     "name": "stdout",
     "output_type": "stream",
     "text": [
      "Error processing Processed Recordings\\Setophaga_fusca_Pelee_near__Leamington_Essex_County_Ontario_476522_segment_2.wav: operands could not be broadcast together with shapes (500,) (52,) \n"
     ]
    },
    {
     "name": "stderr",
     "output_type": "stream",
     "text": [
      "Processing files:  87%|████████▋ | 10566/12120 [1:02:36<10:05,  2.57it/s]c:\\Users\\16148\\anaconda3\\envs\\dev\\lib\\site-packages\\librosa\\core\\spectrum.py:266: UserWarning: n_fft=2048 is too large for input signal of length=505\n",
      "  warnings.warn(\n",
      "Processing files:  88%|████████▊ | 10606/12120 [1:02:50<08:33,  2.95it/s]c:\\Users\\16148\\anaconda3\\envs\\dev\\lib\\site-packages\\librosa\\core\\spectrum.py:266: UserWarning: n_fft=2048 is too large for input signal of length=254\n",
      "  warnings.warn(\n",
      "c:\\Users\\16148\\anaconda3\\envs\\dev\\lib\\site-packages\\librosa\\core\\spectrum.py:266: UserWarning: n_fft=2048 is too large for input signal of length=277\n",
      "  warnings.warn(\n",
      "Processing files:  88%|████████▊ | 10608/12120 [1:02:50<08:11,  3.07it/s]"
     ]
    },
    {
     "name": "stdout",
     "output_type": "stream",
     "text": [
      "Error processing Processed Recordings\\Setophaga_aestiva_Magee_Marsh_-_boardwalk_Lucas_County_Ohio_828197_segment_11.wav: operands could not be broadcast together with shapes (500,) (251,) \n"
     ]
    },
    {
     "name": "stderr",
     "output_type": "stream",
     "text": [
      "Processing files:  88%|████████▊ | 10630/12120 [1:02:58<07:00,  3.54it/s]"
     ]
    },
    {
     "name": "stdout",
     "output_type": "stream",
     "text": [
      "Error processing Processed Recordings\\Setophaga_aestiva_Magee_Marsh_-_boardwalk_Lucas_County_Ohio_828196_segment_1.wav: operands could not be broadcast together with shapes (500,) (429,) \n"
     ]
    },
    {
     "name": "stderr",
     "output_type": "stream",
     "text": [
      "Processing files:  88%|████████▊ | 10643/12120 [1:03:03<06:31,  3.77it/s]"
     ]
    },
    {
     "name": "stdout",
     "output_type": "stream",
     "text": [
      "Error processing Processed Recordings\\Setophaga_aestiva_Magee_Marsh_-_boardwalk_Lucas_County_Ohio_828196_segment_13.wav: operands could not be broadcast together with shapes (500,) (219,) \n"
     ]
    },
    {
     "name": "stderr",
     "output_type": "stream",
     "text": [
      "Processing files:  88%|████████▊ | 10666/12120 [1:03:12<08:19,  2.91it/s]"
     ]
    },
    {
     "name": "stdout",
     "output_type": "stream",
     "text": [
      "Error processing Processed Recordings\\Setophaga_aestiva_Maumee_Bay_State_Park_Lucas_County_Ohio_803613_segment_0.wav: operands could not be broadcast together with shapes (1000,) (729,) \n"
     ]
    },
    {
     "name": "stderr",
     "output_type": "stream",
     "text": [
      "Processing files:  88%|████████▊ | 10669/12120 [1:03:13<07:40,  3.15it/s]c:\\Users\\16148\\anaconda3\\envs\\dev\\lib\\site-packages\\librosa\\core\\spectrum.py:266: UserWarning: n_fft=2048 is too large for input signal of length=1911\n",
      "  warnings.warn(\n",
      "Processing files:  88%|████████▊ | 10709/12120 [1:03:28<09:52,  2.38it/s]c:\\Users\\16148\\anaconda3\\envs\\dev\\lib\\site-packages\\librosa\\core\\spectrum.py:266: UserWarning: n_fft=2048 is too large for input signal of length=1857\n",
      "  warnings.warn(\n",
      "Processing files:  89%|████████▊ | 10727/12120 [1:03:34<09:10,  2.53it/s]c:\\Users\\16148\\anaconda3\\envs\\dev\\lib\\site-packages\\librosa\\core\\spectrum.py:266: UserWarning: n_fft=2048 is too large for input signal of length=204\n",
      "  warnings.warn(\n"
     ]
    },
    {
     "name": "stdout",
     "output_type": "stream",
     "text": [
      "Error processing Processed Recordings\\Setophaga_pensylvanica_Magee_Marsh_-_boardwalk_Lucas_County_Ohio_827845_segment_2.wav: operands could not be broadcast together with shapes (500,) (192,) \n"
     ]
    },
    {
     "name": "stderr",
     "output_type": "stream",
     "text": [
      "Processing files:  89%|████████▊ | 10736/12120 [1:03:37<07:41,  3.00it/s]c:\\Users\\16148\\anaconda3\\envs\\dev\\lib\\site-packages\\librosa\\core\\spectrum.py:266: UserWarning: n_fft=2048 is too large for input signal of length=1940\n",
      "  warnings.warn(\n",
      "Processing files:  89%|████████▊ | 10753/12120 [1:03:43<07:21,  3.09it/s]"
     ]
    },
    {
     "name": "stdout",
     "output_type": "stream",
     "text": [
      "Error processing Processed Recordings\\Setophaga_pensylvanica_Magee_Marsh_-_boardwalk_Lucas_County_Ohio_827845_segment_28.wav: operands could not be broadcast together with shapes (1000,) (865,) \n"
     ]
    },
    {
     "name": "stderr",
     "output_type": "stream",
     "text": [
      "Processing files:  89%|████████▉ | 10792/12120 [1:03:55<06:48,  3.25it/s]c:\\Users\\16148\\anaconda3\\envs\\dev\\lib\\site-packages\\librosa\\core\\spectrum.py:266: UserWarning: n_fft=2048 is too large for input signal of length=666\n",
      "  warnings.warn(\n",
      "Processing files:  89%|████████▉ | 10793/12120 [1:03:55<05:47,  3.82it/s]"
     ]
    },
    {
     "name": "stdout",
     "output_type": "stream",
     "text": [
      "Error processing Processed Recordings\\Setophaga_pensylvanica_Magee_Marsh_-_boardwalk_Lucas_County_Ohio_827845_segment_67.wav: operands could not be broadcast together with shapes (1000,) (657,) \n"
     ]
    },
    {
     "name": "stderr",
     "output_type": "stream",
     "text": [
      "Processing files:  89%|████████▉ | 10810/12120 [1:04:02<08:02,  2.71it/s]c:\\Users\\16148\\anaconda3\\envs\\dev\\lib\\site-packages\\librosa\\core\\spectrum.py:266: UserWarning: n_fft=2048 is too large for input signal of length=936\n",
      "  warnings.warn(\n",
      "Processing files:  90%|████████▉ | 10852/12120 [1:04:17<06:40,  3.17it/s]"
     ]
    },
    {
     "name": "stdout",
     "output_type": "stream",
     "text": [
      "Error processing Processed Recordings\\Setophaga_caerulescens_Magee_Marsh_-_boardwalk_Lucas_County_Ohio_827750_segment_2.wav: operands could not be broadcast together with shapes (1000,) (564,) \n"
     ]
    },
    {
     "name": "stderr",
     "output_type": "stream",
     "text": [
      "Processing files:  90%|████████▉ | 10872/12120 [1:04:24<06:32,  3.18it/s]c:\\Users\\16148\\anaconda3\\envs\\dev\\lib\\site-packages\\librosa\\core\\spectrum.py:266: UserWarning: n_fft=2048 is too large for input signal of length=1774\n",
      "  warnings.warn(\n",
      "Processing files:  90%|█████████ | 10943/12120 [1:04:49<06:37,  2.96it/s]c:\\Users\\16148\\anaconda3\\envs\\dev\\lib\\site-packages\\librosa\\core\\spectrum.py:266: UserWarning: n_fft=2048 is too large for input signal of length=464\n",
      "  warnings.warn(\n",
      "Processing files:  90%|█████████ | 10945/12120 [1:04:49<04:56,  3.96it/s]"
     ]
    },
    {
     "name": "stdout",
     "output_type": "stream",
     "text": [
      "Error processing Processed Recordings\\Setophaga_pinus_Miami_Township_near__Cleves_Hamilton_County_Ohio_548084_segment_13.wav: operands could not be broadcast together with shapes (500,) (485,) \n"
     ]
    },
    {
     "name": "stderr",
     "output_type": "stream",
     "text": [
      "Processing files:  90%|█████████ | 10965/12120 [1:04:56<07:44,  2.49it/s]"
     ]
    },
    {
     "name": "stdout",
     "output_type": "stream",
     "text": [
      "Error processing Processed Recordings\\Setophaga_coronata_Ohio_Crane_Creek_Sp_17028_segment_9.wav: operands could not be broadcast together with shapes (500,) (355,) \n"
     ]
    },
    {
     "name": "stderr",
     "output_type": "stream",
     "text": [
      "Processing files:  91%|█████████ | 11015/12120 [1:05:14<07:09,  2.57it/s]c:\\Users\\16148\\anaconda3\\envs\\dev\\lib\\site-packages\\librosa\\core\\spectrum.py:266: UserWarning: n_fft=2048 is too large for input signal of length=35\n",
      "  warnings.warn(\n"
     ]
    },
    {
     "name": "stdout",
     "output_type": "stream",
     "text": [
      "Error processing Processed Recordings\\Setophaga_virens_Harrison_Township_near__Harrison_Hamilton_County_Ohio_719921_segment_5.wav: operands could not be broadcast together with shapes (500,) (36,) \n"
     ]
    },
    {
     "name": "stderr",
     "output_type": "stream",
     "text": [
      "Processing files:  92%|█████████▏| 11151/12120 [1:06:03<05:19,  3.03it/s]c:\\Users\\16148\\anaconda3\\envs\\dev\\lib\\site-packages\\librosa\\core\\spectrum.py:266: UserWarning: n_fft=2048 is too large for input signal of length=951\n",
      "  warnings.warn(\n",
      "c:\\Users\\16148\\anaconda3\\envs\\dev\\lib\\site-packages\\librosa\\core\\spectrum.py:266: UserWarning: n_fft=2048 is too large for input signal of length=875\n",
      "  warnings.warn(\n",
      "Processing files:  92%|█████████▏| 11154/12120 [1:06:04<04:25,  3.64it/s]"
     ]
    },
    {
     "name": "stdout",
     "output_type": "stream",
     "text": [
      "Error processing Processed Recordings\\Cardellina_canadensis_OSU's_Waterman_Farm_wood_lot_Columbus_Franklin_County_Ohio_179676_segment_0.wav: operands could not be broadcast together with shapes (1000,) (757,) \n"
     ]
    },
    {
     "name": "stderr",
     "output_type": "stream",
     "text": [
      "Processing files:  93%|█████████▎| 11258/12120 [1:06:39<05:06,  2.81it/s]c:\\Users\\16148\\anaconda3\\envs\\dev\\lib\\site-packages\\librosa\\core\\spectrum.py:266: UserWarning: n_fft=2048 is too large for input signal of length=631\n",
      "  warnings.warn(\n",
      "Processing files:  93%|█████████▎| 11259/12120 [1:06:39<04:08,  3.47it/s]"
     ]
    },
    {
     "name": "stdout",
     "output_type": "stream",
     "text": [
      "Error processing Processed Recordings\\Cardellina_pusilla_Magee_Marsh_-_boardwalk_Lucas_County_Ohio_828187_segment_3.wav: operands could not be broadcast together with shapes (1000,) (601,) \n"
     ]
    },
    {
     "name": "stderr",
     "output_type": "stream",
     "text": [
      "Processing files:  93%|█████████▎| 11274/12120 [1:06:45<05:03,  2.79it/s]"
     ]
    },
    {
     "name": "stdout",
     "output_type": "stream",
     "text": [
      "Error processing Processed Recordings\\Cardellina_pusilla_Magee_Marsh_-_boardwalk_Lucas_County_Ohio_828187_segment_18.wav: operands could not be broadcast together with shapes (500,) (414,) \n"
     ]
    },
    {
     "name": "stderr",
     "output_type": "stream",
     "text": [
      "Processing files:  94%|█████████▎| 11336/12120 [1:07:07<04:18,  3.03it/s]c:\\Users\\16148\\anaconda3\\envs\\dev\\lib\\site-packages\\librosa\\core\\spectrum.py:266: UserWarning: n_fft=2048 is too large for input signal of length=101\n",
      "  warnings.warn(\n",
      "Processing files:  94%|█████████▎| 11337/12120 [1:07:07<03:44,  3.49it/s]"
     ]
    },
    {
     "name": "stdout",
     "output_type": "stream",
     "text": [
      "Error processing Processed Recordings\\Piranga_rubra_Kitty_Todd_Nature_Preserve_Spencer_Township_Lucas_County_Ohio_923981_segment_18.wav: operands could not be broadcast together with shapes (500,) (93,) \n"
     ]
    },
    {
     "name": "stderr",
     "output_type": "stream",
     "text": [
      "Processing files:  94%|█████████▍| 11370/12120 [1:07:21<04:06,  3.04it/s]c:\\Users\\16148\\anaconda3\\envs\\dev\\lib\\site-packages\\librosa\\core\\spectrum.py:266: UserWarning: n_fft=2048 is too large for input signal of length=1358\n",
      "  warnings.warn(\n",
      "Processing files:  94%|█████████▍| 11413/12120 [1:07:36<03:25,  3.44it/s]"
     ]
    },
    {
     "name": "stdout",
     "output_type": "stream",
     "text": [
      "Error processing Processed Recordings\\Pheucticus_ludovicianus_Oak_Openings_Metropark_Ohio_418070_segment_1.wav: operands could not be broadcast together with shapes (500,) (186,) \n"
     ]
    },
    {
     "name": "stderr",
     "output_type": "stream",
     "text": [
      "Processing files:  94%|█████████▍| 11428/12120 [1:07:42<04:53,  2.36it/s]c:\\Users\\16148\\anaconda3\\envs\\dev\\lib\\site-packages\\librosa\\core\\spectrum.py:266: UserWarning: n_fft=2048 is too large for input signal of length=255\n",
      "  warnings.warn(\n"
     ]
    },
    {
     "name": "stdout",
     "output_type": "stream",
     "text": [
      "Error processing Processed Recordings\\Pheucticus_ludovicianus_Oak_Openings_Metropark_Ohio_418070_segment_17.wav: operands could not be broadcast together with shapes (500,) (268,) \n"
     ]
    },
    {
     "name": "stderr",
     "output_type": "stream",
     "text": [
      "Processing files:  95%|█████████▌| 11563/12120 [1:08:29<03:21,  2.76it/s]c:\\Users\\16148\\anaconda3\\envs\\dev\\lib\\site-packages\\librosa\\core\\spectrum.py:266: UserWarning: n_fft=2048 is too large for input signal of length=1433\n",
      "  warnings.warn(\n",
      "Processing files:  96%|█████████▌| 11589/12120 [1:08:38<03:17,  2.68it/s]"
     ]
    },
    {
     "name": "stdout",
     "output_type": "stream",
     "text": [
      "Error processing Processed Recordings\\Cardinalis_cardinalis_Tanglewood_Lane_Cincinnati_Ohio_302932_segment_3.wav: operands could not be broadcast together with shapes (500,) (226,) \n"
     ]
    },
    {
     "name": "stderr",
     "output_type": "stream",
     "text": [
      "Processing files:  96%|█████████▌| 11618/12120 [1:08:49<02:55,  2.85it/s]c:\\Users\\16148\\anaconda3\\envs\\dev\\lib\\site-packages\\librosa\\core\\spectrum.py:266: UserWarning: n_fft=2048 is too large for input signal of length=1949\n",
      "  warnings.warn(\n",
      "Processing files:  96%|█████████▋| 11671/12120 [1:09:07<02:40,  2.80it/s]"
     ]
    },
    {
     "name": "stdout",
     "output_type": "stream",
     "text": [
      "Error processing Processed Recordings\\Cardinalis_cardinalis_Tanglewood_Lane_Cincinnati_Ohio_302932_segment_85.wav: operands could not be broadcast together with shapes (1000,) (828,) \n"
     ]
    },
    {
     "name": "stderr",
     "output_type": "stream",
     "text": [
      "Processing files:  96%|█████████▋| 11681/12120 [1:09:10<02:12,  3.31it/s]c:\\Users\\16148\\anaconda3\\envs\\dev\\lib\\site-packages\\librosa\\core\\spectrum.py:266: UserWarning: n_fft=2048 is too large for input signal of length=1285\n",
      "  warnings.warn(\n",
      "c:\\Users\\16148\\anaconda3\\envs\\dev\\lib\\site-packages\\librosa\\core\\spectrum.py:266: UserWarning: n_fft=2048 is too large for input signal of length=1258\n",
      "  warnings.warn(\n",
      "Processing files:  97%|█████████▋| 11721/12120 [1:09:24<02:16,  2.92it/s]c:\\Users\\16148\\anaconda3\\envs\\dev\\lib\\site-packages\\librosa\\core\\spectrum.py:266: UserWarning: n_fft=2048 is too large for input signal of length=1880\n",
      "  warnings.warn(\n",
      "Processing files:  97%|█████████▋| 11757/12120 [1:09:37<02:01,  3.00it/s]"
     ]
    },
    {
     "name": "stdout",
     "output_type": "stream",
     "text": [
      "Error processing Processed Recordings\\Cardinalis_cardinalis_Tanglewood_Lane_Cincinnati_Ohio_302932_segment_171.wav: operands could not be broadcast together with shapes (500,) (116,) \n"
     ]
    },
    {
     "name": "stderr",
     "output_type": "stream",
     "text": [
      "Processing files:  97%|█████████▋| 11782/12120 [1:09:46<01:22,  4.10it/s]"
     ]
    },
    {
     "name": "stdout",
     "output_type": "stream",
     "text": [
      "Error processing Processed Recordings\\Cardinalis_cardinalis_Tanglewood_Lane_Cincinnati_Ohio_302932_segment_195.wav: operands could not be broadcast together with shapes (500,) (56,) \n"
     ]
    },
    {
     "name": "stderr",
     "output_type": "stream",
     "text": [
      "Processing files:  99%|█████████▊| 11944/12120 [1:10:47<00:53,  3.30it/s]"
     ]
    },
    {
     "name": "stdout",
     "output_type": "stream",
     "text": [
      "Error processing Processed Recordings\\Passerina_cyanea_Miami_Township_near__North_Bend_Hamilton_County_Ohio_817717_segment_5.wav: operands could not be broadcast together with shapes (1000,) (697,) \n"
     ]
    },
    {
     "name": "stderr",
     "output_type": "stream",
     "text": [
      "Processing files:  99%|█████████▉| 12029/12120 [1:11:19<00:27,  3.28it/s]"
     ]
    },
    {
     "name": "stdout",
     "output_type": "stream",
     "text": [
      "Error processing Processed Recordings\\Sonus_naturalis_Jerusalem_Township_near__Bono_Lucas_County_Ohio_784063_segment_25.wav: operands could not be broadcast together with shapes (500,) (401,) \n"
     ]
    },
    {
     "name": "stderr",
     "output_type": "stream",
     "text": [
      "Processing files:  99%|█████████▉| 12036/12120 [1:11:21<00:29,  2.90it/s]c:\\Users\\16148\\anaconda3\\envs\\dev\\lib\\site-packages\\librosa\\core\\spectrum.py:266: UserWarning: n_fft=2048 is too large for input signal of length=1810\n",
      "  warnings.warn(\n",
      "Processing files: 100%|██████████| 12120/12120 [1:11:50<00:00,  2.81it/s]\n"
     ]
    },
    {
     "name": "stdout",
     "output_type": "stream",
     "text": [
      "Augmentation complete. 36054 new samples created.\n"
     ]
    }
   ],
   "source": [
    "\n",
    "# Apply augmentation to every file\n",
    "input_dir = 'Processed Recordings'\n",
    "output_dir = 'Augmented Recordings'\n",
    "num_augmentations = 3\n",
    "\n",
    "\n",
    "# Process the dataframe\n",
    "augmented_data = process_dataframe(processed_data, input_dir, output_dir, num_augmentations)\n",
    "\n",
    "print(f\"Augmentation complete. {len(augmented_data) - len(processed_data)} new samples created.\")"
   ]
  },
  {
   "cell_type": "code",
   "execution_count": 55,
   "metadata": {},
   "outputs": [
    {
     "name": "stdout",
     "output_type": "stream",
     "text": [
      "<class 'pandas.core.frame.DataFrame'>\n",
      "RangeIndex: 48174 entries, 0 to 48173\n",
      "Data columns (total 12 columns):\n",
      " #   Column           Non-Null Count  Dtype  \n",
      "---  ------           --------------  -----  \n",
      " 0   genus            48174 non-null  object \n",
      " 1   species          48174 non-null  object \n",
      " 2   latitude         48174 non-null  float64\n",
      " 3   longitude        48174 non-null  float64\n",
      " 4   quality          48174 non-null  object \n",
      " 5   file_name        48174 non-null  object \n",
      " 6   simplified_type  48174 non-null  object \n",
      " 7   season           48174 non-null  object \n",
      " 8   time_of_day      48174 non-null  object \n",
      " 9   length_seconds   48174 non-null  int64  \n",
      " 10  processed_file   48174 non-null  object \n",
      " 11  augmentations    48174 non-null  object \n",
      "dtypes: float64(2), int64(1), object(9)\n",
      "memory usage: 4.4+ MB\n"
     ]
    }
   ],
   "source": [
    "# Fill the newly created column's missing values\n",
    "augmented_data = augmented_data.fillna(\"None\")\n",
    "# Review the updated dataframe\n",
    "augmented_data.info()"
   ]
  },
  {
   "cell_type": "code",
   "execution_count": 56,
   "metadata": {},
   "outputs": [],
   "source": [
    "# Save the to csv\n",
    "augmented_data.to_csv(\"augmented_data.csv\", index=False)"
   ]
  },
  {
   "cell_type": "code",
   "execution_count": null,
   "metadata": {},
   "outputs": [],
   "source": []
  },
  {
   "cell_type": "code",
   "execution_count": 31,
   "metadata": {},
   "outputs": [],
   "source": []
  },
  {
   "cell_type": "code",
   "execution_count": null,
   "metadata": {},
   "outputs": [],
   "source": []
  },
  {
   "cell_type": "code",
   "execution_count": null,
   "metadata": {},
   "outputs": [],
   "source": []
  }
 ],
 "metadata": {
  "kernelspec": {
   "display_name": "dev",
   "language": "python",
   "name": "python3"
  },
  "language_info": {
   "codemirror_mode": {
    "name": "ipython",
    "version": 3
   },
   "file_extension": ".py",
   "mimetype": "text/x-python",
   "name": "python",
   "nbconvert_exporter": "python",
   "pygments_lexer": "ipython3",
   "version": "3.10.14"
  }
 },
 "nbformat": 4,
 "nbformat_minor": 2
}
