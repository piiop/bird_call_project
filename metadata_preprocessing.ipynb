{
 "cells": [
  {
   "cell_type": "code",
   "execution_count": 2,
   "metadata": {},
   "outputs": [],
   "source": [
    "# Imports\n",
    "import os\n",
    "import random\n",
    "import logging\n",
    "\n",
    "\n",
    "import numpy as np\n",
    "import pandas as pd\n",
    "from tqdm import tqdm\n",
    "from multiprocessing import Pool\n",
    "\n",
    "# Data processing and scientific computing\n",
    "from scipy.io import wavfile\n",
    "from scipy.signal import butter, lfilter\n",
    "from scipy.spatial.distance import cosine\n",
    "\n",
    "# Audio processing\n",
    "import librosa\n",
    "\n",
    "# Visualization\n",
    "import matplotlib.pyplot as plt\n",
    "import plotly.express as px\n",
    "\n",
    "# Set up logging\n",
    "logging.basicConfig(level=logging.INFO)\n",
    "\n",
    "import torch\n",
    "from transformers import BertTokenizer, BertModel\n",
    "from sklearn.decomposition import PCA"
   ]
  },
  {
   "cell_type": "code",
   "execution_count": 3,
   "metadata": {},
   "outputs": [],
   "source": [
    "data = pd.read_csv('ohio_bird_recordings_metadata.csv')"
   ]
  },
  {
   "cell_type": "markdown",
   "metadata": {},
   "source": [
    "## Data Cleaning"
   ]
  },
  {
   "cell_type": "code",
   "execution_count": 4,
   "metadata": {},
   "outputs": [
    {
     "name": "stdout",
     "output_type": "stream",
     "text": [
      "<class 'pandas.core.frame.DataFrame'>\n",
      "RangeIndex: 756 entries, 0 to 755\n",
      "Data columns (total 16 columns):\n",
      " #   Column       Non-Null Count  Dtype  \n",
      "---  ------       --------------  -----  \n",
      " 0   id           756 non-null    int64  \n",
      " 1   genus        756 non-null    object \n",
      " 2   species      756 non-null    object \n",
      " 3   common_name  756 non-null    object \n",
      " 4   latitude     756 non-null    float64\n",
      " 5   longitude    756 non-null    float64\n",
      " 6   type         749 non-null    object \n",
      " 7   date         756 non-null    object \n",
      " 8   time         756 non-null    object \n",
      " 9   length       756 non-null    object \n",
      " 10  quality      756 non-null    object \n",
      " 11  remarks      518 non-null    object \n",
      " 12  sex          329 non-null    object \n",
      " 13  stage        315 non-null    object \n",
      " 14  also         428 non-null    object \n",
      " 15  file_name    756 non-null    object \n",
      "dtypes: float64(2), int64(1), object(13)\n",
      "memory usage: 94.6+ KB\n"
     ]
    }
   ],
   "source": [
    "data.info()"
   ]
  },
  {
   "cell_type": "code",
   "execution_count": 5,
   "metadata": {},
   "outputs": [
    {
     "data": {
      "text/html": [
       "<div>\n",
       "<style scoped>\n",
       "    .dataframe tbody tr th:only-of-type {\n",
       "        vertical-align: middle;\n",
       "    }\n",
       "\n",
       "    .dataframe tbody tr th {\n",
       "        vertical-align: top;\n",
       "    }\n",
       "\n",
       "    .dataframe thead th {\n",
       "        text-align: right;\n",
       "    }\n",
       "</style>\n",
       "<table border=\"1\" class=\"dataframe\">\n",
       "  <thead>\n",
       "    <tr style=\"text-align: right;\">\n",
       "      <th></th>\n",
       "      <th>id</th>\n",
       "      <th>genus</th>\n",
       "      <th>species</th>\n",
       "      <th>common_name</th>\n",
       "      <th>latitude</th>\n",
       "      <th>longitude</th>\n",
       "      <th>type</th>\n",
       "      <th>date</th>\n",
       "      <th>time</th>\n",
       "      <th>length</th>\n",
       "      <th>quality</th>\n",
       "      <th>remarks</th>\n",
       "      <th>sex</th>\n",
       "      <th>stage</th>\n",
       "      <th>also</th>\n",
       "      <th>file_name</th>\n",
       "    </tr>\n",
       "  </thead>\n",
       "  <tbody>\n",
       "    <tr>\n",
       "      <th>0</th>\n",
       "      <td>726750</td>\n",
       "      <td>Branta</td>\n",
       "      <td>canadensis</td>\n",
       "      <td>Canada Goose</td>\n",
       "      <td>39.20950</td>\n",
       "      <td>-84.78210</td>\n",
       "      <td>flight call</td>\n",
       "      <td>2022-05-11</td>\n",
       "      <td>11:22</td>\n",
       "      <td>0:14</td>\n",
       "      <td>A</td>\n",
       "      <td>Flock of 5 landing on lake.</td>\n",
       "      <td>uncertain</td>\n",
       "      <td>adult</td>\n",
       "      <td>Agelaius phoeniceus, Melospiza melodia, Cardin...</td>\n",
       "      <td>Branta_canadensis_Whitewater_Township_near__Ha...</td>\n",
       "    </tr>\n",
       "    <tr>\n",
       "      <th>1</th>\n",
       "      <td>418000</td>\n",
       "      <td>Branta</td>\n",
       "      <td>canadensis</td>\n",
       "      <td>Canada Goose</td>\n",
       "      <td>40.56520</td>\n",
       "      <td>-83.62550</td>\n",
       "      <td>flight call</td>\n",
       "      <td>2018-05-06</td>\n",
       "      <td>13:10</td>\n",
       "      <td>0:31</td>\n",
       "      <td>A</td>\n",
       "      <td>Natural vocalizations as the birds flew overhe...</td>\n",
       "      <td>NaN</td>\n",
       "      <td>NaN</td>\n",
       "      <td>Myiarchus crinitus, Quiscalus quiscula</td>\n",
       "      <td>Branta_canadensis_Lawrence_Woods_SNP_418000.mp3</td>\n",
       "    </tr>\n",
       "    <tr>\n",
       "      <th>2</th>\n",
       "      <td>691528</td>\n",
       "      <td>Branta</td>\n",
       "      <td>canadensis</td>\n",
       "      <td>Canada Goose</td>\n",
       "      <td>39.28300</td>\n",
       "      <td>-84.74590</td>\n",
       "      <td>flight call</td>\n",
       "      <td>2021-12-14</td>\n",
       "      <td>07:48</td>\n",
       "      <td>0:19</td>\n",
       "      <td>B</td>\n",
       "      <td>Part of large flock (total count 124 birds) ta...</td>\n",
       "      <td>NaN</td>\n",
       "      <td>NaN</td>\n",
       "      <td>NaN</td>\n",
       "      <td>Branta_canadensis_Miami_Whitewater_Forest_Park...</td>\n",
       "    </tr>\n",
       "    <tr>\n",
       "      <th>3</th>\n",
       "      <td>713788</td>\n",
       "      <td>Cygnus</td>\n",
       "      <td>buccinator</td>\n",
       "      <td>Trumpeter Swan</td>\n",
       "      <td>40.70950</td>\n",
       "      <td>-83.30320</td>\n",
       "      <td>call</td>\n",
       "      <td>2021-12-03</td>\n",
       "      <td>09:00</td>\n",
       "      <td>2:12</td>\n",
       "      <td>B</td>\n",
       "      <td>About 100m away in marshy pond. Numerous indiv...</td>\n",
       "      <td>NaN</td>\n",
       "      <td>NaN</td>\n",
       "      <td>NaN</td>\n",
       "      <td>Cygnus_buccinator_Killdeer_Plains_Wildlife_Man...</td>\n",
       "    </tr>\n",
       "    <tr>\n",
       "      <th>4</th>\n",
       "      <td>815809</td>\n",
       "      <td>Aix</td>\n",
       "      <td>sponsa</td>\n",
       "      <td>Wood Duck</td>\n",
       "      <td>41.62750</td>\n",
       "      <td>-83.18970</td>\n",
       "      <td>call</td>\n",
       "      <td>2023-05-16</td>\n",
       "      <td>08:29</td>\n",
       "      <td>0:04</td>\n",
       "      <td>C</td>\n",
       "      <td>calls from two birds in flight;</td>\n",
       "      <td>uncertain</td>\n",
       "      <td>adult</td>\n",
       "      <td>NaN</td>\n",
       "      <td>Aix_sponsa_Magee_Marsh_-_boardwalk_Lucas_Count...</td>\n",
       "    </tr>\n",
       "    <tr>\n",
       "      <th>5</th>\n",
       "      <td>855312</td>\n",
       "      <td>Anas</td>\n",
       "      <td>acuta</td>\n",
       "      <td>Northern Pintail</td>\n",
       "      <td>39.17600</td>\n",
       "      <td>-84.52800</td>\n",
       "      <td>call</td>\n",
       "      <td>2023-12-13</td>\n",
       "      <td>16:45</td>\n",
       "      <td>0:17</td>\n",
       "      <td>B</td>\n",
       "      <td>Bird feeding and calling among Mallards (Anas ...</td>\n",
       "      <td>male</td>\n",
       "      <td>adult</td>\n",
       "      <td>Cyanocitta cristata</td>\n",
       "      <td>Anas_acuta_Cincinnati_Hamilton_County_Ohio_855...</td>\n",
       "    </tr>\n",
       "    <tr>\n",
       "      <th>6</th>\n",
       "      <td>805814</td>\n",
       "      <td>Colinus</td>\n",
       "      <td>virginianus</td>\n",
       "      <td>Northern Bobwhite</td>\n",
       "      <td>39.18330</td>\n",
       "      <td>-83.71770</td>\n",
       "      <td>song, crickets</td>\n",
       "      <td>2023-05-27</td>\n",
       "      <td>17:34</td>\n",
       "      <td>0:59</td>\n",
       "      <td>A</td>\n",
       "      <td>Bird singing from cover in a short grass field...</td>\n",
       "      <td>male</td>\n",
       "      <td>adult</td>\n",
       "      <td>Agelaius phoeniceus, Turdus migratorius, Quisc...</td>\n",
       "      <td>Colinus_virginianus_New_Market_Township_near__...</td>\n",
       "    </tr>\n",
       "    <tr>\n",
       "      <th>7</th>\n",
       "      <td>17130</td>\n",
       "      <td>Colinus</td>\n",
       "      <td>virginianus</td>\n",
       "      <td>Northern Bobwhite</td>\n",
       "      <td>41.93338</td>\n",
       "      <td>-83.54994</td>\n",
       "      <td>song</td>\n",
       "      <td>2007-07-18</td>\n",
       "      <td>?</td>\n",
       "      <td>0:20</td>\n",
       "      <td>B</td>\n",
       "      <td>NaN</td>\n",
       "      <td>NaN</td>\n",
       "      <td>NaN</td>\n",
       "      <td>Spinus tristis, Passerina cyanea, Turdus migra...</td>\n",
       "      <td>Colinus_virginianus_Michigan_Monroe_County_171...</td>\n",
       "    </tr>\n",
       "    <tr>\n",
       "      <th>8</th>\n",
       "      <td>17061</td>\n",
       "      <td>Colinus</td>\n",
       "      <td>virginianus</td>\n",
       "      <td>Northern Bobwhite</td>\n",
       "      <td>41.93338</td>\n",
       "      <td>-83.54994</td>\n",
       "      <td>song</td>\n",
       "      <td>2007-06-05</td>\n",
       "      <td>?</td>\n",
       "      <td>0:03</td>\n",
       "      <td>C</td>\n",
       "      <td>NaN</td>\n",
       "      <td>NaN</td>\n",
       "      <td>NaN</td>\n",
       "      <td>NaN</td>\n",
       "      <td>Colinus_virginianus_Michigan_Monroe_County_170...</td>\n",
       "    </tr>\n",
       "    <tr>\n",
       "      <th>9</th>\n",
       "      <td>17060</td>\n",
       "      <td>Colinus</td>\n",
       "      <td>virginianus</td>\n",
       "      <td>Northern Bobwhite</td>\n",
       "      <td>41.93338</td>\n",
       "      <td>-83.54994</td>\n",
       "      <td>song</td>\n",
       "      <td>2007-06-05</td>\n",
       "      <td>?</td>\n",
       "      <td>0:02</td>\n",
       "      <td>C</td>\n",
       "      <td>NaN</td>\n",
       "      <td>NaN</td>\n",
       "      <td>NaN</td>\n",
       "      <td>NaN</td>\n",
       "      <td>Colinus_virginianus_Michigan_Monroe_County_170...</td>\n",
       "    </tr>\n",
       "  </tbody>\n",
       "</table>\n",
       "</div>"
      ],
      "text/plain": [
       "       id    genus      species        common_name  latitude  longitude  \\\n",
       "0  726750   Branta   canadensis       Canada Goose  39.20950  -84.78210   \n",
       "1  418000   Branta   canadensis       Canada Goose  40.56520  -83.62550   \n",
       "2  691528   Branta   canadensis       Canada Goose  39.28300  -84.74590   \n",
       "3  713788   Cygnus   buccinator     Trumpeter Swan  40.70950  -83.30320   \n",
       "4  815809      Aix       sponsa          Wood Duck  41.62750  -83.18970   \n",
       "5  855312     Anas        acuta   Northern Pintail  39.17600  -84.52800   \n",
       "6  805814  Colinus  virginianus  Northern Bobwhite  39.18330  -83.71770   \n",
       "7   17130  Colinus  virginianus  Northern Bobwhite  41.93338  -83.54994   \n",
       "8   17061  Colinus  virginianus  Northern Bobwhite  41.93338  -83.54994   \n",
       "9   17060  Colinus  virginianus  Northern Bobwhite  41.93338  -83.54994   \n",
       "\n",
       "             type        date   time length quality  \\\n",
       "0     flight call  2022-05-11  11:22   0:14       A   \n",
       "1     flight call  2018-05-06  13:10   0:31       A   \n",
       "2     flight call  2021-12-14  07:48   0:19       B   \n",
       "3            call  2021-12-03  09:00   2:12       B   \n",
       "4            call  2023-05-16  08:29   0:04       C   \n",
       "5            call  2023-12-13  16:45   0:17       B   \n",
       "6  song, crickets  2023-05-27  17:34   0:59       A   \n",
       "7            song  2007-07-18      ?   0:20       B   \n",
       "8            song  2007-06-05      ?   0:03       C   \n",
       "9            song  2007-06-05      ?   0:02       C   \n",
       "\n",
       "                                             remarks        sex  stage  \\\n",
       "0                        Flock of 5 landing on lake.  uncertain  adult   \n",
       "1  Natural vocalizations as the birds flew overhe...        NaN    NaN   \n",
       "2  Part of large flock (total count 124 birds) ta...        NaN    NaN   \n",
       "3  About 100m away in marshy pond. Numerous indiv...        NaN    NaN   \n",
       "4                    calls from two birds in flight;  uncertain  adult   \n",
       "5  Bird feeding and calling among Mallards (Anas ...       male  adult   \n",
       "6  Bird singing from cover in a short grass field...       male  adult   \n",
       "7                                                NaN        NaN    NaN   \n",
       "8                                                NaN        NaN    NaN   \n",
       "9                                                NaN        NaN    NaN   \n",
       "\n",
       "                                                also  \\\n",
       "0  Agelaius phoeniceus, Melospiza melodia, Cardin...   \n",
       "1             Myiarchus crinitus, Quiscalus quiscula   \n",
       "2                                                NaN   \n",
       "3                                                NaN   \n",
       "4                                                NaN   \n",
       "5                                Cyanocitta cristata   \n",
       "6  Agelaius phoeniceus, Turdus migratorius, Quisc...   \n",
       "7  Spinus tristis, Passerina cyanea, Turdus migra...   \n",
       "8                                                NaN   \n",
       "9                                                NaN   \n",
       "\n",
       "                                           file_name  \n",
       "0  Branta_canadensis_Whitewater_Township_near__Ha...  \n",
       "1    Branta_canadensis_Lawrence_Woods_SNP_418000.mp3  \n",
       "2  Branta_canadensis_Miami_Whitewater_Forest_Park...  \n",
       "3  Cygnus_buccinator_Killdeer_Plains_Wildlife_Man...  \n",
       "4  Aix_sponsa_Magee_Marsh_-_boardwalk_Lucas_Count...  \n",
       "5  Anas_acuta_Cincinnati_Hamilton_County_Ohio_855...  \n",
       "6  Colinus_virginianus_New_Market_Township_near__...  \n",
       "7  Colinus_virginianus_Michigan_Monroe_County_171...  \n",
       "8  Colinus_virginianus_Michigan_Monroe_County_170...  \n",
       "9  Colinus_virginianus_Michigan_Monroe_County_170...  "
      ]
     },
     "execution_count": 5,
     "metadata": {},
     "output_type": "execute_result"
    }
   ],
   "source": [
    "data.head(10)"
   ]
  },
  {
   "cell_type": "code",
   "execution_count": 6,
   "metadata": {},
   "outputs": [
    {
     "name": "stdout",
     "output_type": "stream",
     "text": [
      "id             0\n",
      "genus          0\n",
      "species        0\n",
      "common_name    0\n",
      "latitude       0\n",
      "longitude      0\n",
      "type           0\n",
      "date           0\n",
      "time           0\n",
      "length         0\n",
      "quality        0\n",
      "remarks        0\n",
      "sex            0\n",
      "stage          0\n",
      "also           0\n",
      "file_name      0\n",
      "dtype: int64\n"
     ]
    }
   ],
   "source": [
    "# Fill all NA values with 'None'\n",
    "data = data.fillna('None')\n",
    "\n",
    "# Verify the change\n",
    "print(data.isnull().sum())"
   ]
  },
  {
   "cell_type": "markdown",
   "metadata": {},
   "source": [
    "### Checking for duplicates"
   ]
  },
  {
   "cell_type": "code",
   "execution_count": 7,
   "metadata": {},
   "outputs": [
    {
     "name": "stdout",
     "output_type": "stream",
     "text": [
      "Number of duplicate entries: 0\n",
      "No duplicate entries found.\n"
     ]
    }
   ],
   "source": [
    "duplicate_mask = data.duplicated(keep=False)\n",
    "duplicate_count = duplicate_mask.sum()\n",
    "\n",
    "print(f\"Number of duplicate entries: {duplicate_count}\")\n",
    "\n",
    "if duplicate_count > 0:\n",
    "    print(\"\\nDuplicate entries:\")\n",
    "    duplicate_entries = data[duplicate_mask].sort_values(by=data.columns.tolist())\n",
    "    print(duplicate_entries)\n",
    "else:\n",
    "    print(\"No duplicate entries found.\")"
   ]
  },
  {
   "cell_type": "markdown",
   "metadata": {},
   "source": [
    "### Analyze 'genus' column\n"
   ]
  },
  {
   "cell_type": "code",
   "execution_count": 8,
   "metadata": {},
   "outputs": [
    {
     "data": {
      "text/plain": [
       "100"
      ]
     },
     "execution_count": 8,
     "metadata": {},
     "output_type": "execute_result"
    }
   ],
   "source": [
    "data['genus'].nunique()"
   ]
  },
  {
   "cell_type": "markdown",
   "metadata": {},
   "source": [
    "### Analyze the 'type' column\n",
    "Group into few categories"
   ]
  },
  {
   "cell_type": "code",
   "execution_count": 9,
   "metadata": {},
   "outputs": [
    {
     "data": {
      "text/plain": [
       "type\n",
       "song                                                                                       430\n",
       "call                                                                                       166\n",
       "call, song                                                                                  52\n",
       "flight call                                                                                 26\n",
       "alarm call                                                                                   8\n",
       "None                                                                                         7\n",
       "song, atypical                                                                               6\n",
       "duet, song                                                                                   5\n",
       "uncertain                                                                                    4\n",
       "subsong                                                                                      4\n",
       "drumming                                                                                     3\n",
       "imitation, song                                                                              3\n",
       "flight call, song                                                                            3\n",
       "call, calls                                                                                  3\n",
       "call, flight call                                                                            3\n",
       "song, subsong                                                                                2\n",
       "alarm call, call                                                                             2\n",
       "call, keer                                                                                   1\n",
       "call, flight call, imitation, song                                                           1\n",
       "begging call                                                                                 1\n",
       "song, several different song types appear in this recording of part of a single bout.,       1\n",
       "song, crickets                                                                               1\n",
       "call, flight call, chase calls                                                               1\n",
       "drumming, song                                                                               1\n",
       "song, flowing river                                                                          1\n",
       "song, alternate song                                                                         1\n",
       "wings                                                                                        1\n",
       "call, flock                                                                                  1\n",
       "call, flight call, song                                                                      1\n",
       "imitation, song, mimicry/imitation                                                           1\n",
       "song, display flight                                                                         1\n",
       "scold                                                                                        1\n",
       "call, yuck-a yuck-a conflict calls                                                           1\n",
       "song, Eastern Chipmunk                                                                       1\n",
       "call, song, melodic                                                                          1\n",
       "wing sound                                                                                   1\n",
       "flight call, nocturnal flight call                                                           1\n",
       "imitation, mimicry/imitation                                                                 1\n",
       "call, duet, song                                                                             1\n",
       "call, duet                                                                                   1\n",
       "song, trill / tremolo                                                                        1\n",
       "call, song, fitz bew, reep                                                                   1\n",
       "begging call, call, begging, rattle, usual call                                              1\n",
       "call, \"wicka\" intraspecific interaction calls, usual calls                                   1\n",
       "alarm call, flight call                                                                      1\n",
       "call, reep                                                                                   1\n",
       "Name: count, dtype: int64"
      ]
     },
     "execution_count": 9,
     "metadata": {},
     "output_type": "execute_result"
    }
   ],
   "source": [
    "data['type'].value_counts()"
   ]
  },
  {
   "cell_type": "code",
   "execution_count": 10,
   "metadata": {},
   "outputs": [
    {
     "name": "stdout",
     "output_type": "stream",
     "text": [
      "simplified_type\n",
      "Song       519\n",
      "Call       219\n",
      "Unknown     11\n",
      "Other        7\n",
      "Name: count, dtype: int64\n"
     ]
    }
   ],
   "source": [
    "def simplify_type(type_str):\n",
    "    if pd.isna(type_str) or type_str == 'None' or type_str == 'uncertain':\n",
    "        return 'Unknown'\n",
    "    if 'song' in type_str.lower():\n",
    "        return 'Song'\n",
    "    if 'call' in type_str.lower():\n",
    "        return 'Call'\n",
    "    return 'Other'\n",
    "\n",
    "data['simplified_type'] = data['type'].apply(simplify_type)\n",
    "\n",
    "# Check the new distribution\n",
    "print(data['simplified_type'].value_counts())"
   ]
  },
  {
   "cell_type": "markdown",
   "metadata": {},
   "source": [
    "### Date and Time\n",
    "- Convert the date column to seasons\n",
    "- Convert the time to time of day categories"
   ]
  },
  {
   "cell_type": "code",
   "execution_count": 11,
   "metadata": {},
   "outputs": [
    {
     "data": {
      "text/plain": [
       "date\n",
       "2023-05-15    49\n",
       "2018-05-06    34\n",
       "2023-05-16    24\n",
       "2007-05-02    23\n",
       "2018-05-05    15\n",
       "              ..\n",
       "2020-05-03     1\n",
       "2021-04-04     1\n",
       "2018-03-29     1\n",
       "2011-06-06     1\n",
       "2014-10-27     1\n",
       "Name: count, Length: 261, dtype: int64"
      ]
     },
     "execution_count": 11,
     "metadata": {},
     "output_type": "execute_result"
    }
   ],
   "source": [
    "data['date'].value_counts()"
   ]
  },
  {
   "cell_type": "code",
   "execution_count": 12,
   "metadata": {},
   "outputs": [
    {
     "name": "stdout",
     "output_type": "stream",
     "text": [
      "season\n",
      "Spring    572\n",
      "Summer    110\n",
      "Fall       41\n",
      "Winter     33\n",
      "Name: count, dtype: int64\n"
     ]
    }
   ],
   "source": [
    "# First, let's convert the 'date' column to datetime if it's not already\n",
    "data['date'] = pd.to_datetime(data['date'])\n",
    "\n",
    "# Now, let's define a function to convert date to season\n",
    "def get_season(date):\n",
    "    month = date.month\n",
    "    if 3 <= month <= 5:\n",
    "        return 'Spring'\n",
    "    elif 6 <= month <= 8:\n",
    "        return 'Summer'\n",
    "    elif 9 <= month <= 11:\n",
    "        return 'Fall'\n",
    "    else:\n",
    "        return 'Winter'\n",
    "\n",
    "# Apply the function to create a new 'season' column\n",
    "data['season'] = data['date'].apply(get_season)\n",
    "\n",
    "# Let's check the distribution of seasons\n",
    "print(data['season'].value_counts())"
   ]
  },
  {
   "cell_type": "code",
   "execution_count": 13,
   "metadata": {},
   "outputs": [
    {
     "data": {
      "text/plain": [
       "time\n",
       "?        88\n",
       "10:00    33\n",
       "09:00    20\n",
       "11:00    20\n",
       "12:00    16\n",
       "         ..\n",
       "06:36     1\n",
       "09:50     1\n",
       "11:54     1\n",
       "10:45     1\n",
       "06:10     1\n",
       "Name: count, Length: 272, dtype: int64"
      ]
     },
     "execution_count": 13,
     "metadata": {},
     "output_type": "execute_result"
    }
   ],
   "source": [
    "data['time'].value_counts()"
   ]
  },
  {
   "cell_type": "code",
   "execution_count": 14,
   "metadata": {},
   "outputs": [
    {
     "name": "stdout",
     "output_type": "stream",
     "text": [
      "time_of_day\n",
      "Morning      418\n",
      "Afternoon    173\n",
      "Unknown       88\n",
      "Night         46\n",
      "Evening       31\n",
      "Name: count, dtype: int64\n"
     ]
    }
   ],
   "source": [
    "def categorize_time(time_str):\n",
    "    if time_str == '?' or pd.isna(time_str):\n",
    "        return 'Unknown'\n",
    "    \n",
    "    try:\n",
    "        time = pd.to_datetime(time_str).time()\n",
    "        hour = time.hour\n",
    "        \n",
    "        if 5 <= hour < 12:\n",
    "            return 'Morning'\n",
    "        elif 12 <= hour < 17:\n",
    "            return 'Afternoon'\n",
    "        elif 17 <= hour < 21:\n",
    "            return 'Evening'\n",
    "        else:\n",
    "            return 'Night'\n",
    "    except:\n",
    "        return 'Unknown'\n",
    "\n",
    "# Apply the function to create a new 'time_of_day' column\n",
    "data['time_of_day'] = data['time'].apply(categorize_time)\n",
    "\n",
    "# Check the distribution of time categories\n",
    "print(data['time_of_day'].value_counts())"
   ]
  },
  {
   "cell_type": "code",
   "execution_count": 15,
   "metadata": {},
   "outputs": [
    {
     "name": "stdout",
     "output_type": "stream",
     "text": [
      "  length  length_seconds\n",
      "0   0:14              14\n",
      "1   0:31              31\n",
      "2   0:19              19\n",
      "3   2:12             132\n",
      "4   0:04               4\n"
     ]
    }
   ],
   "source": [
    "# Convert 'length' from mm:ss to seconds\n",
    "\n",
    "def time_to_seconds(time_str):\n",
    "    minutes, seconds = map(int, time_str.split(':'))\n",
    "    return minutes * 60 + seconds\n",
    "\n",
    "# Apply the function to the 'length' column\n",
    "data['length_seconds'] = data['length'].apply(time_to_seconds)\n",
    "\n",
    "# Display the first few rows to verify the conversion\n",
    "print(data[['length', 'length_seconds']].head())"
   ]
  },
  {
   "cell_type": "markdown",
   "metadata": {},
   "source": [
    "Apply NLP to 'remarks' column to attempt to extract valuable info"
   ]
  },
  {
   "cell_type": "markdown",
   "metadata": {},
   "source": [
    "### Analyze 'sex'\n",
    "Too many missing\n",
    "too few females\n",
    "dropping this column"
   ]
  },
  {
   "cell_type": "code",
   "execution_count": 16,
   "metadata": {},
   "outputs": [
    {
     "data": {
      "text/plain": [
       "sex\n",
       "None            427\n",
       "male            178\n",
       "uncertain       127\n",
       "female, male     17\n",
       "female            7\n",
       "Name: count, dtype: int64"
      ]
     },
     "execution_count": 16,
     "metadata": {},
     "output_type": "execute_result"
    }
   ],
   "source": [
    "data['sex'].value_counts()"
   ]
  },
  {
   "cell_type": "markdown",
   "metadata": {},
   "source": [
    "### Analyze 'stage' \n",
    "too many missing\n",
    "imbalanced to adults\n",
    "drop this"
   ]
  },
  {
   "cell_type": "code",
   "execution_count": 17,
   "metadata": {},
   "outputs": [
    {
     "data": {
      "text/plain": [
       "stage\n",
       "None               441\n",
       "adult              267\n",
       "uncertain           40\n",
       "juvenile             7\n",
       "adult, juvenile      1\n",
       "Name: count, dtype: int64"
      ]
     },
     "execution_count": 17,
     "metadata": {},
     "output_type": "execute_result"
    }
   ],
   "source": [
    "data['stage'].value_counts()"
   ]
  },
  {
   "cell_type": "markdown",
   "metadata": {},
   "source": [
    "### Analyze 'also' \n",
    "This column contains data that indicates what other species' noises are present in the recording"
   ]
  },
  {
   "cell_type": "markdown",
   "metadata": {},
   "source": [
    "### Leave the 'also' column to be handled with the audio segmentation"
   ]
  },
  {
   "cell_type": "code",
   "execution_count": 18,
   "metadata": {},
   "outputs": [
    {
     "data": {
      "text/plain": [
       "324"
      ]
     },
     "execution_count": 18,
     "metadata": {},
     "output_type": "execute_result"
    }
   ],
   "source": [
    "data['also'].nunique()"
   ]
  },
  {
   "cell_type": "code",
   "execution_count": 19,
   "metadata": {},
   "outputs": [
    {
     "data": {
      "text/plain": [
       "also\n",
       "None                                                                                                                                                                    328\n",
       "Agelaius phoeniceus                                                                                                                                                      29\n",
       "Turdus migratorius                                                                                                                                                       11\n",
       "Agelaius phoeniceus, Setophaga aestiva                                                                                                                                    7\n",
       "Agelaius phoeniceus, Branta canadensis                                                                                                                                    6\n",
       "                                                                                                                                                                       ... \n",
       "Agelaius phoeniceus, Setophaga aestiva, Thryothorus ludovicianus, Vireo gilvus, Cardinalis cardinalis, Dumetella carolinensis, Icterus galbula, Charadrius vociferus      1\n",
       "Melanerpes carolinus, Baeolophus bicolor                                                                                                                                  1\n",
       "Melanerpes carolinus, Passerina cyanea, Hylocichla mustelina                                                                                                              1\n",
       "Agelaius phoeniceus, Setophaga aestiva, Branta canadensis, Vireo gilvus, Colaptes auratus                                                                                 1\n",
       "Passerina cyanea, Spizella pusilla                                                                                                                                        1\n",
       "Name: count, Length: 324, dtype: int64"
      ]
     },
     "execution_count": 19,
     "metadata": {},
     "output_type": "execute_result"
    }
   ],
   "source": [
    "data['also'].value_counts()"
   ]
  },
  {
   "cell_type": "markdown",
   "metadata": {},
   "source": [
    "There is 'Identity unknown' in common_name and 'mystery' in species. Let's remove these as we won't be able to use them without labels. However we can use this unidentified files to make predictions on with our final model."
   ]
  },
  {
   "cell_type": "code",
   "execution_count": 20,
   "metadata": {},
   "outputs": [
    {
     "name": "stdout",
     "output_type": "stream",
     "text": [
      "Entries with 'Identity unknown' common name: 0\n",
      "Entries with 'mystery' species: 0\n",
      "Number of unidentified entries saved to CSV: 64\n"
     ]
    }
   ],
   "source": [
    "# Create a boolean mask for unidentified entries\n",
    "unidentified_mask = (data['common_name'] == 'Identity unknown') & (data['species'] == 'mystery')\n",
    "\n",
    "# Save the unidentified entries to a CSV file\n",
    "unidentified_data = data[unidentified_mask]\n",
    "unidentified_data.to_csv('unidentified_data.csv', index=False)\n",
    "\n",
    "# Remove the unidentified entries from the main dataframe\n",
    "data = data[~unidentified_mask]\n",
    "\n",
    "# Check for remaining 'Identity unknown' or 'mystery' entries\n",
    "unknown_common = data['common_name'] == 'Identity unknown'\n",
    "mystery_species = data['species'] == 'mystery'\n",
    "\n",
    "# Count the occurrences\n",
    "unknown_common_count = unknown_common.sum()\n",
    "mystery_species_count = mystery_species.sum()\n",
    "\n",
    "print(f\"Entries with 'Identity unknown' common name: {unknown_common_count}\")\n",
    "print(f\"Entries with 'mystery' species: {mystery_species_count}\")\n",
    "print(f\"Number of unidentified entries saved to CSV: {len(unidentified_data)}\")"
   ]
  },
  {
   "cell_type": "code",
   "execution_count": 21,
   "metadata": {},
   "outputs": [
    {
     "data": {
      "application/vnd.plotly.v1+json": {
       "config": {
        "plotlyServerURL": "https://plot.ly"
       },
       "data": [
        {
         "alignmentgroup": "True",
         "hovertemplate": "Bird Species=%{x}<br>Frequency=%{y}<br>color=%{marker.color}<extra></extra>",
         "legendgroup": "",
         "marker": {
          "color": [
           19,
           18,
           18,
           15,
           14,
           14,
           13,
           13,
           13,
           13,
           12,
           12,
           12,
           11,
           11,
           10,
           10,
           10,
           10,
           10,
           10,
           9,
           9,
           9,
           9
          ],
          "coloraxis": "coloraxis",
          "pattern": {
           "shape": ""
          }
         },
         "name": "",
         "offsetgroup": "",
         "orientation": "v",
         "showlegend": false,
         "textposition": "auto",
         "type": "bar",
         "x": [
          "Warbling Vireo",
          "Red-winged Blackbird",
          "Baltimore Oriole",
          "Eastern Towhee",
          "American Yellow Warbler",
          "Carolina Wren",
          "House Wren",
          "Tufted Titmouse",
          "Kentucky Warbler",
          "Grey Catbird",
          "Blue-grey Gnatcatcher",
          "American Woodcock",
          "Northern Cardinal",
          "American Redstart",
          "Field Sparrow",
          "Northern Parula",
          "Willow Flycatcher",
          "Tennessee Warbler",
          "Red-bellied Woodpecker",
          "Blue-winged Warbler",
          "Yellow-throated Vireo",
          "Wood Thrush",
          "Chipping Sparrow",
          "Brown Thrasher",
          "Song Sparrow"
         ],
         "xaxis": "x",
         "y": [
          19,
          18,
          18,
          15,
          14,
          14,
          13,
          13,
          13,
          13,
          12,
          12,
          12,
          11,
          11,
          10,
          10,
          10,
          10,
          10,
          10,
          9,
          9,
          9,
          9
         ],
         "yaxis": "y"
        }
       ],
       "layout": {
        "barmode": "relative",
        "coloraxis": {
         "colorbar": {
          "title": {
           "text": "Frequency"
          }
         },
         "colorscale": [
          [
           0,
           "#440154"
          ],
          [
           0.1111111111111111,
           "#482878"
          ],
          [
           0.2222222222222222,
           "#3e4989"
          ],
          [
           0.3333333333333333,
           "#31688e"
          ],
          [
           0.4444444444444444,
           "#26828e"
          ],
          [
           0.5555555555555556,
           "#1f9e89"
          ],
          [
           0.6666666666666666,
           "#35b779"
          ],
          [
           0.7777777777777778,
           "#6ece58"
          ],
          [
           0.8888888888888888,
           "#b5de2b"
          ],
          [
           1,
           "#fde725"
          ]
         ]
        },
        "font": {
         "family": "Arial",
         "size": 14
        },
        "height": 800,
        "legend": {
         "tracegroupgap": 0
        },
        "plot_bgcolor": "white",
        "template": {
         "data": {
          "bar": [
           {
            "error_x": {
             "color": "#2a3f5f"
            },
            "error_y": {
             "color": "#2a3f5f"
            },
            "marker": {
             "line": {
              "color": "#E5ECF6",
              "width": 0.5
             },
             "pattern": {
              "fillmode": "overlay",
              "size": 10,
              "solidity": 0.2
             }
            },
            "type": "bar"
           }
          ],
          "barpolar": [
           {
            "marker": {
             "line": {
              "color": "#E5ECF6",
              "width": 0.5
             },
             "pattern": {
              "fillmode": "overlay",
              "size": 10,
              "solidity": 0.2
             }
            },
            "type": "barpolar"
           }
          ],
          "carpet": [
           {
            "aaxis": {
             "endlinecolor": "#2a3f5f",
             "gridcolor": "white",
             "linecolor": "white",
             "minorgridcolor": "white",
             "startlinecolor": "#2a3f5f"
            },
            "baxis": {
             "endlinecolor": "#2a3f5f",
             "gridcolor": "white",
             "linecolor": "white",
             "minorgridcolor": "white",
             "startlinecolor": "#2a3f5f"
            },
            "type": "carpet"
           }
          ],
          "choropleth": [
           {
            "colorbar": {
             "outlinewidth": 0,
             "ticks": ""
            },
            "type": "choropleth"
           }
          ],
          "contour": [
           {
            "colorbar": {
             "outlinewidth": 0,
             "ticks": ""
            },
            "colorscale": [
             [
              0,
              "#0d0887"
             ],
             [
              0.1111111111111111,
              "#46039f"
             ],
             [
              0.2222222222222222,
              "#7201a8"
             ],
             [
              0.3333333333333333,
              "#9c179e"
             ],
             [
              0.4444444444444444,
              "#bd3786"
             ],
             [
              0.5555555555555556,
              "#d8576b"
             ],
             [
              0.6666666666666666,
              "#ed7953"
             ],
             [
              0.7777777777777778,
              "#fb9f3a"
             ],
             [
              0.8888888888888888,
              "#fdca26"
             ],
             [
              1,
              "#f0f921"
             ]
            ],
            "type": "contour"
           }
          ],
          "contourcarpet": [
           {
            "colorbar": {
             "outlinewidth": 0,
             "ticks": ""
            },
            "type": "contourcarpet"
           }
          ],
          "heatmap": [
           {
            "colorbar": {
             "outlinewidth": 0,
             "ticks": ""
            },
            "colorscale": [
             [
              0,
              "#0d0887"
             ],
             [
              0.1111111111111111,
              "#46039f"
             ],
             [
              0.2222222222222222,
              "#7201a8"
             ],
             [
              0.3333333333333333,
              "#9c179e"
             ],
             [
              0.4444444444444444,
              "#bd3786"
             ],
             [
              0.5555555555555556,
              "#d8576b"
             ],
             [
              0.6666666666666666,
              "#ed7953"
             ],
             [
              0.7777777777777778,
              "#fb9f3a"
             ],
             [
              0.8888888888888888,
              "#fdca26"
             ],
             [
              1,
              "#f0f921"
             ]
            ],
            "type": "heatmap"
           }
          ],
          "heatmapgl": [
           {
            "colorbar": {
             "outlinewidth": 0,
             "ticks": ""
            },
            "colorscale": [
             [
              0,
              "#0d0887"
             ],
             [
              0.1111111111111111,
              "#46039f"
             ],
             [
              0.2222222222222222,
              "#7201a8"
             ],
             [
              0.3333333333333333,
              "#9c179e"
             ],
             [
              0.4444444444444444,
              "#bd3786"
             ],
             [
              0.5555555555555556,
              "#d8576b"
             ],
             [
              0.6666666666666666,
              "#ed7953"
             ],
             [
              0.7777777777777778,
              "#fb9f3a"
             ],
             [
              0.8888888888888888,
              "#fdca26"
             ],
             [
              1,
              "#f0f921"
             ]
            ],
            "type": "heatmapgl"
           }
          ],
          "histogram": [
           {
            "marker": {
             "pattern": {
              "fillmode": "overlay",
              "size": 10,
              "solidity": 0.2
             }
            },
            "type": "histogram"
           }
          ],
          "histogram2d": [
           {
            "colorbar": {
             "outlinewidth": 0,
             "ticks": ""
            },
            "colorscale": [
             [
              0,
              "#0d0887"
             ],
             [
              0.1111111111111111,
              "#46039f"
             ],
             [
              0.2222222222222222,
              "#7201a8"
             ],
             [
              0.3333333333333333,
              "#9c179e"
             ],
             [
              0.4444444444444444,
              "#bd3786"
             ],
             [
              0.5555555555555556,
              "#d8576b"
             ],
             [
              0.6666666666666666,
              "#ed7953"
             ],
             [
              0.7777777777777778,
              "#fb9f3a"
             ],
             [
              0.8888888888888888,
              "#fdca26"
             ],
             [
              1,
              "#f0f921"
             ]
            ],
            "type": "histogram2d"
           }
          ],
          "histogram2dcontour": [
           {
            "colorbar": {
             "outlinewidth": 0,
             "ticks": ""
            },
            "colorscale": [
             [
              0,
              "#0d0887"
             ],
             [
              0.1111111111111111,
              "#46039f"
             ],
             [
              0.2222222222222222,
              "#7201a8"
             ],
             [
              0.3333333333333333,
              "#9c179e"
             ],
             [
              0.4444444444444444,
              "#bd3786"
             ],
             [
              0.5555555555555556,
              "#d8576b"
             ],
             [
              0.6666666666666666,
              "#ed7953"
             ],
             [
              0.7777777777777778,
              "#fb9f3a"
             ],
             [
              0.8888888888888888,
              "#fdca26"
             ],
             [
              1,
              "#f0f921"
             ]
            ],
            "type": "histogram2dcontour"
           }
          ],
          "mesh3d": [
           {
            "colorbar": {
             "outlinewidth": 0,
             "ticks": ""
            },
            "type": "mesh3d"
           }
          ],
          "parcoords": [
           {
            "line": {
             "colorbar": {
              "outlinewidth": 0,
              "ticks": ""
             }
            },
            "type": "parcoords"
           }
          ],
          "pie": [
           {
            "automargin": true,
            "type": "pie"
           }
          ],
          "scatter": [
           {
            "fillpattern": {
             "fillmode": "overlay",
             "size": 10,
             "solidity": 0.2
            },
            "type": "scatter"
           }
          ],
          "scatter3d": [
           {
            "line": {
             "colorbar": {
              "outlinewidth": 0,
              "ticks": ""
             }
            },
            "marker": {
             "colorbar": {
              "outlinewidth": 0,
              "ticks": ""
             }
            },
            "type": "scatter3d"
           }
          ],
          "scattercarpet": [
           {
            "marker": {
             "colorbar": {
              "outlinewidth": 0,
              "ticks": ""
             }
            },
            "type": "scattercarpet"
           }
          ],
          "scattergeo": [
           {
            "marker": {
             "colorbar": {
              "outlinewidth": 0,
              "ticks": ""
             }
            },
            "type": "scattergeo"
           }
          ],
          "scattergl": [
           {
            "marker": {
             "colorbar": {
              "outlinewidth": 0,
              "ticks": ""
             }
            },
            "type": "scattergl"
           }
          ],
          "scattermapbox": [
           {
            "marker": {
             "colorbar": {
              "outlinewidth": 0,
              "ticks": ""
             }
            },
            "type": "scattermapbox"
           }
          ],
          "scatterpolar": [
           {
            "marker": {
             "colorbar": {
              "outlinewidth": 0,
              "ticks": ""
             }
            },
            "type": "scatterpolar"
           }
          ],
          "scatterpolargl": [
           {
            "marker": {
             "colorbar": {
              "outlinewidth": 0,
              "ticks": ""
             }
            },
            "type": "scatterpolargl"
           }
          ],
          "scatterternary": [
           {
            "marker": {
             "colorbar": {
              "outlinewidth": 0,
              "ticks": ""
             }
            },
            "type": "scatterternary"
           }
          ],
          "surface": [
           {
            "colorbar": {
             "outlinewidth": 0,
             "ticks": ""
            },
            "colorscale": [
             [
              0,
              "#0d0887"
             ],
             [
              0.1111111111111111,
              "#46039f"
             ],
             [
              0.2222222222222222,
              "#7201a8"
             ],
             [
              0.3333333333333333,
              "#9c179e"
             ],
             [
              0.4444444444444444,
              "#bd3786"
             ],
             [
              0.5555555555555556,
              "#d8576b"
             ],
             [
              0.6666666666666666,
              "#ed7953"
             ],
             [
              0.7777777777777778,
              "#fb9f3a"
             ],
             [
              0.8888888888888888,
              "#fdca26"
             ],
             [
              1,
              "#f0f921"
             ]
            ],
            "type": "surface"
           }
          ],
          "table": [
           {
            "cells": {
             "fill": {
              "color": "#EBF0F8"
             },
             "line": {
              "color": "white"
             }
            },
            "header": {
             "fill": {
              "color": "#C8D4E3"
             },
             "line": {
              "color": "white"
             }
            },
            "type": "table"
           }
          ]
         },
         "layout": {
          "annotationdefaults": {
           "arrowcolor": "#2a3f5f",
           "arrowhead": 0,
           "arrowwidth": 1
          },
          "autotypenumbers": "strict",
          "coloraxis": {
           "colorbar": {
            "outlinewidth": 0,
            "ticks": ""
           }
          },
          "colorscale": {
           "diverging": [
            [
             0,
             "#8e0152"
            ],
            [
             0.1,
             "#c51b7d"
            ],
            [
             0.2,
             "#de77ae"
            ],
            [
             0.3,
             "#f1b6da"
            ],
            [
             0.4,
             "#fde0ef"
            ],
            [
             0.5,
             "#f7f7f7"
            ],
            [
             0.6,
             "#e6f5d0"
            ],
            [
             0.7,
             "#b8e186"
            ],
            [
             0.8,
             "#7fbc41"
            ],
            [
             0.9,
             "#4d9221"
            ],
            [
             1,
             "#276419"
            ]
           ],
           "sequential": [
            [
             0,
             "#0d0887"
            ],
            [
             0.1111111111111111,
             "#46039f"
            ],
            [
             0.2222222222222222,
             "#7201a8"
            ],
            [
             0.3333333333333333,
             "#9c179e"
            ],
            [
             0.4444444444444444,
             "#bd3786"
            ],
            [
             0.5555555555555556,
             "#d8576b"
            ],
            [
             0.6666666666666666,
             "#ed7953"
            ],
            [
             0.7777777777777778,
             "#fb9f3a"
            ],
            [
             0.8888888888888888,
             "#fdca26"
            ],
            [
             1,
             "#f0f921"
            ]
           ],
           "sequentialminus": [
            [
             0,
             "#0d0887"
            ],
            [
             0.1111111111111111,
             "#46039f"
            ],
            [
             0.2222222222222222,
             "#7201a8"
            ],
            [
             0.3333333333333333,
             "#9c179e"
            ],
            [
             0.4444444444444444,
             "#bd3786"
            ],
            [
             0.5555555555555556,
             "#d8576b"
            ],
            [
             0.6666666666666666,
             "#ed7953"
            ],
            [
             0.7777777777777778,
             "#fb9f3a"
            ],
            [
             0.8888888888888888,
             "#fdca26"
            ],
            [
             1,
             "#f0f921"
            ]
           ]
          },
          "colorway": [
           "#636efa",
           "#EF553B",
           "#00cc96",
           "#ab63fa",
           "#FFA15A",
           "#19d3f3",
           "#FF6692",
           "#B6E880",
           "#FF97FF",
           "#FECB52"
          ],
          "font": {
           "color": "#2a3f5f"
          },
          "geo": {
           "bgcolor": "white",
           "lakecolor": "white",
           "landcolor": "#E5ECF6",
           "showlakes": true,
           "showland": true,
           "subunitcolor": "white"
          },
          "hoverlabel": {
           "align": "left"
          },
          "hovermode": "closest",
          "mapbox": {
           "style": "light"
          },
          "paper_bgcolor": "white",
          "plot_bgcolor": "#E5ECF6",
          "polar": {
           "angularaxis": {
            "gridcolor": "white",
            "linecolor": "white",
            "ticks": ""
           },
           "bgcolor": "#E5ECF6",
           "radialaxis": {
            "gridcolor": "white",
            "linecolor": "white",
            "ticks": ""
           }
          },
          "scene": {
           "xaxis": {
            "backgroundcolor": "#E5ECF6",
            "gridcolor": "white",
            "gridwidth": 2,
            "linecolor": "white",
            "showbackground": true,
            "ticks": "",
            "zerolinecolor": "white"
           },
           "yaxis": {
            "backgroundcolor": "#E5ECF6",
            "gridcolor": "white",
            "gridwidth": 2,
            "linecolor": "white",
            "showbackground": true,
            "ticks": "",
            "zerolinecolor": "white"
           },
           "zaxis": {
            "backgroundcolor": "#E5ECF6",
            "gridcolor": "white",
            "gridwidth": 2,
            "linecolor": "white",
            "showbackground": true,
            "ticks": "",
            "zerolinecolor": "white"
           }
          },
          "shapedefaults": {
           "line": {
            "color": "#2a3f5f"
           }
          },
          "ternary": {
           "aaxis": {
            "gridcolor": "white",
            "linecolor": "white",
            "ticks": ""
           },
           "baxis": {
            "gridcolor": "white",
            "linecolor": "white",
            "ticks": ""
           },
           "bgcolor": "#E5ECF6",
           "caxis": {
            "gridcolor": "white",
            "linecolor": "white",
            "ticks": ""
           }
          },
          "title": {
           "x": 0.05
          },
          "xaxis": {
           "automargin": true,
           "gridcolor": "white",
           "linecolor": "white",
           "ticks": "",
           "title": {
            "standoff": 15
           },
           "zerolinecolor": "white",
           "zerolinewidth": 2
          },
          "yaxis": {
           "automargin": true,
           "gridcolor": "white",
           "linecolor": "white",
           "ticks": "",
           "title": {
            "standoff": 15
           },
           "zerolinecolor": "white",
           "zerolinewidth": 2
          }
         }
        },
        "title": {
         "font": {
          "size": 24
         },
         "text": "Top 25 Most Frequent Bird Species"
        },
        "width": 1200,
        "xaxis": {
         "anchor": "y",
         "domain": [
          0,
          1
         ],
         "gridcolor": "lightgray",
         "tickangle": 45,
         "tickfont": {
          "size": 12
         },
         "title": {
          "font": {
           "size": 16
          },
          "text": "Bird Species"
         }
        },
        "yaxis": {
         "anchor": "x",
         "domain": [
          0,
          1
         ],
         "gridcolor": "lightgray",
         "tickfont": {
          "size": 12
         },
         "title": {
          "font": {
           "size": 16
          },
          "text": "Frequency"
         }
        }
       }
      }
     },
     "metadata": {},
     "output_type": "display_data"
    }
   ],
   "source": [
    "\n",
    "\n",
    "# Assuming 'data' is your DataFrame\n",
    "top_25_birds = data['common_name'].value_counts().nlargest(25)\n",
    "\n",
    "fig = px.bar(\n",
    "    x=top_25_birds.index,\n",
    "    y=top_25_birds.values,\n",
    "    labels={'x': 'Bird Species', 'y': 'Frequency'},\n",
    "    title='Top 25 Most Frequent Bird Species',\n",
    "    color=top_25_birds.values,\n",
    "    color_continuous_scale='viridis'\n",
    ")\n",
    "\n",
    "fig.update_layout(\n",
    "    font=dict(family=\"Arial\", size=14),\n",
    "    plot_bgcolor='white',\n",
    "    xaxis=dict(\n",
    "        tickangle=45,\n",
    "        title_font=dict(size=16),\n",
    "        tickfont=dict(size=12),\n",
    "        gridcolor='lightgray'\n",
    "    ),\n",
    "    yaxis=dict(\n",
    "        title_font=dict(size=16),\n",
    "        tickfont=dict(size=12),\n",
    "        gridcolor='lightgray'\n",
    "    ),\n",
    "    coloraxis_colorbar=dict(title='Frequency'),\n",
    "    title=dict(font=dict(size=24)),\n",
    "    height=800,\n",
    "    width=1200\n",
    ")\n",
    "\n",
    "fig.show()"
   ]
  },
  {
   "cell_type": "code",
   "execution_count": 22,
   "metadata": {},
   "outputs": [
    {
     "data": {
      "application/vnd.plotly.v1+json": {
       "config": {
        "plotlyServerURL": "https://plot.ly"
       },
       "data": [
        {
         "customdata": [
          [
           14
          ],
          [
           31
          ],
          [
           19
          ]
         ],
         "hovertemplate": "<b>%{hovertext}</b><br><br>common_name=Canada Goose<br>latitude=%{lat}<br>longitude=%{lon}<br>length_seconds=%{customdata[0]}<extra></extra>",
         "hovertext": [
          "Canada Goose",
          "Canada Goose",
          "Canada Goose"
         ],
         "lat": [
          39.2095,
          40.5652,
          39.283
         ],
         "legendgroup": "Canada Goose",
         "lon": [
          -84.7821,
          -83.6255,
          -84.7459
         ],
         "marker": {
          "color": "#636efa"
         },
         "mode": "markers",
         "name": "Canada Goose",
         "showlegend": true,
         "subplot": "mapbox",
         "type": "scattermapbox"
        },
        {
         "customdata": [
          [
           132
          ]
         ],
         "hovertemplate": "<b>%{hovertext}</b><br><br>common_name=Trumpeter Swan<br>latitude=%{lat}<br>longitude=%{lon}<br>length_seconds=%{customdata[0]}<extra></extra>",
         "hovertext": [
          "Trumpeter Swan"
         ],
         "lat": [
          40.7095
         ],
         "legendgroup": "Trumpeter Swan",
         "lon": [
          -83.3032
         ],
         "marker": {
          "color": "#EF553B"
         },
         "mode": "markers",
         "name": "Trumpeter Swan",
         "showlegend": true,
         "subplot": "mapbox",
         "type": "scattermapbox"
        },
        {
         "customdata": [
          [
           4
          ]
         ],
         "hovertemplate": "<b>%{hovertext}</b><br><br>common_name=Wood Duck<br>latitude=%{lat}<br>longitude=%{lon}<br>length_seconds=%{customdata[0]}<extra></extra>",
         "hovertext": [
          "Wood Duck"
         ],
         "lat": [
          41.6275
         ],
         "legendgroup": "Wood Duck",
         "lon": [
          -83.1897
         ],
         "marker": {
          "color": "#00cc96"
         },
         "mode": "markers",
         "name": "Wood Duck",
         "showlegend": true,
         "subplot": "mapbox",
         "type": "scattermapbox"
        },
        {
         "customdata": [
          [
           17
          ]
         ],
         "hovertemplate": "<b>%{hovertext}</b><br><br>common_name=Northern Pintail<br>latitude=%{lat}<br>longitude=%{lon}<br>length_seconds=%{customdata[0]}<extra></extra>",
         "hovertext": [
          "Northern Pintail"
         ],
         "lat": [
          39.176
         ],
         "legendgroup": "Northern Pintail",
         "lon": [
          -84.528
         ],
         "marker": {
          "color": "#ab63fa"
         },
         "mode": "markers",
         "name": "Northern Pintail",
         "showlegend": true,
         "subplot": "mapbox",
         "type": "scattermapbox"
        },
        {
         "customdata": [
          [
           59
          ],
          [
           20
          ],
          [
           3
          ],
          [
           2
          ]
         ],
         "hovertemplate": "<b>%{hovertext}</b><br><br>common_name=Northern Bobwhite<br>latitude=%{lat}<br>longitude=%{lon}<br>length_seconds=%{customdata[0]}<extra></extra>",
         "hovertext": [
          "Northern Bobwhite",
          "Northern Bobwhite",
          "Northern Bobwhite",
          "Northern Bobwhite"
         ],
         "lat": [
          39.1833,
          41.93338,
          41.93338,
          41.93338
         ],
         "legendgroup": "Northern Bobwhite",
         "lon": [
          -83.7177,
          -83.54994,
          -83.54994,
          -83.54994
         ],
         "marker": {
          "color": "#FFA15A"
         },
         "mode": "markers",
         "name": "Northern Bobwhite",
         "showlegend": true,
         "subplot": "mapbox",
         "type": "scattermapbox"
        },
        {
         "customdata": [
          [
           3
          ]
         ],
         "hovertemplate": "<b>%{hovertext}</b><br><br>common_name=Common Pheasant<br>latitude=%{lat}<br>longitude=%{lon}<br>length_seconds=%{customdata[0]}<extra></extra>",
         "hovertext": [
          "Common Pheasant"
         ],
         "lat": [
          41.93338
         ],
         "legendgroup": "Common Pheasant",
         "lon": [
          -83.54994
         ],
         "marker": {
          "color": "#19d3f3"
         },
         "mode": "markers",
         "name": "Common Pheasant",
         "showlegend": true,
         "subplot": "mapbox",
         "type": "scattermapbox"
        },
        {
         "customdata": [
          [
           66
          ]
         ],
         "hovertemplate": "<b>%{hovertext}</b><br><br>common_name=Common Nighthawk<br>latitude=%{lat}<br>longitude=%{lon}<br>length_seconds=%{customdata[0]}<extra></extra>",
         "hovertext": [
          "Common Nighthawk"
         ],
         "lat": [
          39.1196
         ],
         "legendgroup": "Common Nighthawk",
         "lon": [
          -84.5989
         ],
         "marker": {
          "color": "#FF6692"
         },
         "mode": "markers",
         "name": "Common Nighthawk",
         "showlegend": true,
         "subplot": "mapbox",
         "type": "scattermapbox"
        },
        {
         "customdata": [
          [
           47
          ],
          [
           50
          ],
          [
           47
          ],
          [
           20
          ]
         ],
         "hovertemplate": "<b>%{hovertext}</b><br><br>common_name=Chuck-will's-widow<br>latitude=%{lat}<br>longitude=%{lon}<br>length_seconds=%{customdata[0]}<extra></extra>",
         "hovertext": [
          "Chuck-will's-widow",
          "Chuck-will's-widow",
          "Chuck-will's-widow",
          "Chuck-will's-widow"
         ],
         "lat": [
          38.7556,
          38.7642,
          38.7484,
          38.7638
         ],
         "legendgroup": "Chuck-will's-widow",
         "lon": [
          -83.3916,
          -83.3874,
          -83.4636,
          -83.463
         ],
         "marker": {
          "color": "#B6E880"
         },
         "mode": "markers",
         "name": "Chuck-will's-widow",
         "showlegend": true,
         "subplot": "mapbox",
         "type": "scattermapbox"
        },
        {
         "customdata": [
          [
           73
          ]
         ],
         "hovertemplate": "<b>%{hovertext}</b><br><br>common_name=Eastern Whip-poor-will<br>latitude=%{lat}<br>longitude=%{lon}<br>length_seconds=%{customdata[0]}<extra></extra>",
         "hovertext": [
          "Eastern Whip-poor-will"
         ],
         "lat": [
          38.6348
         ],
         "legendgroup": "Eastern Whip-poor-will",
         "lon": [
          -80.5746
         ],
         "marker": {
          "color": "#FF97FF"
         },
         "mode": "markers",
         "name": "Eastern Whip-poor-will",
         "showlegend": true,
         "subplot": "mapbox",
         "type": "scattermapbox"
        },
        {
         "customdata": [
          [
           6
          ],
          [
           7
          ]
         ],
         "hovertemplate": "<b>%{hovertext}</b><br><br>common_name=Chimney Swift<br>latitude=%{lat}<br>longitude=%{lon}<br>length_seconds=%{customdata[0]}<extra></extra>",
         "hovertext": [
          "Chimney Swift",
          "Chimney Swift"
         ],
         "lat": [
          39.1196,
          41.93338
         ],
         "legendgroup": "Chimney Swift",
         "lon": [
          -84.5989,
          -83.54994
         ],
         "marker": {
          "color": "#FECB52"
         },
         "mode": "markers",
         "name": "Chimney Swift",
         "showlegend": true,
         "subplot": "mapbox",
         "type": "scattermapbox"
        },
        {
         "customdata": [
          [
           69
          ]
         ],
         "hovertemplate": "<b>%{hovertext}</b><br><br>common_name=Yellow-billed Cuckoo<br>latitude=%{lat}<br>longitude=%{lon}<br>length_seconds=%{customdata[0]}<extra></extra>",
         "hovertext": [
          "Yellow-billed Cuckoo"
         ],
         "lat": [
          41.629
         ],
         "legendgroup": "Yellow-billed Cuckoo",
         "lon": [
          -83.194
         ],
         "marker": {
          "color": "#636efa"
         },
         "mode": "markers",
         "name": "Yellow-billed Cuckoo",
         "showlegend": true,
         "subplot": "mapbox",
         "type": "scattermapbox"
        },
        {
         "customdata": [
          [
           7
          ],
          [
           9
          ]
         ],
         "hovertemplate": "<b>%{hovertext}</b><br><br>common_name=Black-billed Cuckoo<br>latitude=%{lat}<br>longitude=%{lon}<br>length_seconds=%{customdata[0]}<extra></extra>",
         "hovertext": [
          "Black-billed Cuckoo",
          "Black-billed Cuckoo"
         ],
         "lat": [
          41.9628,
          40.9133
         ],
         "legendgroup": "Black-billed Cuckoo",
         "lon": [
          -82.5184,
          -81.4785
         ],
         "marker": {
          "color": "#EF553B"
         },
         "mode": "markers",
         "name": "Black-billed Cuckoo",
         "showlegend": true,
         "subplot": "mapbox",
         "type": "scattermapbox"
        },
        {
         "customdata": [
          [
           9
          ]
         ],
         "hovertemplate": "<b>%{hovertext}</b><br><br>common_name=Mourning Dove<br>latitude=%{lat}<br>longitude=%{lon}<br>length_seconds=%{customdata[0]}<extra></extra>",
         "hovertext": [
          "Mourning Dove"
         ],
         "lat": [
          41.9296
         ],
         "legendgroup": "Mourning Dove",
         "lon": [
          -82.5092
         ],
         "marker": {
          "color": "#00cc96"
         },
         "mode": "markers",
         "name": "Mourning Dove",
         "showlegend": true,
         "subplot": "mapbox",
         "type": "scattermapbox"
        },
        {
         "customdata": [
          [
           2
          ],
          [
           10
          ]
         ],
         "hovertemplate": "<b>%{hovertext}</b><br><br>common_name=King Rail<br>latitude=%{lat}<br>longitude=%{lon}<br>length_seconds=%{customdata[0]}<extra></extra>",
         "hovertext": [
          "King Rail",
          "King Rail"
         ],
         "lat": [
          39.919,
          40.125
         ],
         "legendgroup": "King Rail",
         "lon": [
          -83.2065,
          -83.183
         ],
         "marker": {
          "color": "#ab63fa"
         },
         "mode": "markers",
         "name": "King Rail",
         "showlegend": true,
         "subplot": "mapbox",
         "type": "scattermapbox"
        },
        {
         "customdata": [
          [
           7
          ],
          [
           6
          ],
          [
           6
          ]
         ],
         "hovertemplate": "<b>%{hovertext}</b><br><br>common_name=Sora<br>latitude=%{lat}<br>longitude=%{lon}<br>length_seconds=%{customdata[0]}<extra></extra>",
         "hovertext": [
          "Sora",
          "Sora",
          "Sora"
         ],
         "lat": [
          39.2976,
          39.919,
          39.919
         ],
         "legendgroup": "Sora",
         "lon": [
          -84.6927,
          -83.2065,
          -83.2065
         ],
         "marker": {
          "color": "#FFA15A"
         },
         "mode": "markers",
         "name": "Sora",
         "showlegend": true,
         "subplot": "mapbox",
         "type": "scattermapbox"
        },
        {
         "customdata": [
          [
           32
          ]
         ],
         "hovertemplate": "<b>%{hovertext}</b><br><br>common_name=Sandhill Crane<br>latitude=%{lat}<br>longitude=%{lon}<br>length_seconds=%{customdata[0]}<extra></extra>",
         "hovertext": [
          "Sandhill Crane"
         ],
         "lat": [
          40.3695
         ],
         "legendgroup": "Sandhill Crane",
         "lon": [
          -83.0483
         ],
         "marker": {
          "color": "#19d3f3"
         },
         "mode": "markers",
         "name": "Sandhill Crane",
         "showlegend": true,
         "subplot": "mapbox",
         "type": "scattermapbox"
        },
        {
         "customdata": [
          [
           42
          ],
          [
           15
          ]
         ],
         "hovertemplate": "<b>%{hovertext}</b><br><br>common_name=Killdeer<br>latitude=%{lat}<br>longitude=%{lon}<br>length_seconds=%{customdata[0]}<extra></extra>",
         "hovertext": [
          "Killdeer",
          "Killdeer"
         ],
         "lat": [
          41.6275,
          39.3439
         ],
         "legendgroup": "Killdeer",
         "lon": [
          -83.1897,
          -84.6688
         ],
         "marker": {
          "color": "#FF6692"
         },
         "mode": "markers",
         "name": "Killdeer",
         "showlegend": true,
         "subplot": "mapbox",
         "type": "scattermapbox"
        },
        {
         "customdata": [
          [
           9
          ]
         ],
         "hovertemplate": "<b>%{hovertext}</b><br><br>common_name=Dunlin<br>latitude=%{lat}<br>longitude=%{lon}<br>length_seconds=%{customdata[0]}<extra></extra>",
         "hovertext": [
          "Dunlin"
         ],
         "lat": [
          41.61422
         ],
         "legendgroup": "Dunlin",
         "lon": [
          -83.17215
         ],
         "marker": {
          "color": "#B6E880"
         },
         "mode": "markers",
         "name": "Dunlin",
         "showlegend": true,
         "subplot": "mapbox",
         "type": "scattermapbox"
        },
        {
         "customdata": [
          [
           8
          ],
          [
           108
          ],
          [
           61
          ],
          [
           60
          ],
          [
           140
          ],
          [
           4
          ],
          [
           175
          ],
          [
           112
          ],
          [
           52
          ],
          [
           161
          ],
          [
           2
          ],
          [
           10
          ]
         ],
         "hovertemplate": "<b>%{hovertext}</b><br><br>common_name=American Woodcock<br>latitude=%{lat}<br>longitude=%{lon}<br>length_seconds=%{customdata[0]}<extra></extra>",
         "hovertext": [
          "American Woodcock",
          "American Woodcock",
          "American Woodcock",
          "American Woodcock",
          "American Woodcock",
          "American Woodcock",
          "American Woodcock",
          "American Woodcock",
          "American Woodcock",
          "American Woodcock",
          "American Woodcock",
          "American Woodcock"
         ],
         "lat": [
          38.7556,
          41.9487,
          41.9457,
          41.6847,
          41.6847,
          41.6847,
          41.6847,
          40.0845,
          40.0845,
          40.0845,
          41.949,
          39.986
         ],
         "legendgroup": "American Woodcock",
         "lon": [
          -83.3916,
          -82.5194,
          -82.5143,
          -83.395,
          -83.395,
          -83.395,
          -83.395,
          -83.0526,
          -83.0526,
          -83.0526,
          -82.5193,
          -83.02
         ],
         "marker": {
          "color": "#FF97FF"
         },
         "mode": "markers",
         "name": "American Woodcock",
         "showlegend": true,
         "subplot": "mapbox",
         "type": "scattermapbox"
        },
        {
         "customdata": [
          [
           3
          ]
         ],
         "hovertemplate": "<b>%{hovertext}</b><br><br>common_name=Solitary Sandpiper<br>latitude=%{lat}<br>longitude=%{lon}<br>length_seconds=%{customdata[0]}<extra></extra>",
         "hovertext": [
          "Solitary Sandpiper"
         ],
         "lat": [
          41.62116
         ],
         "legendgroup": "Solitary Sandpiper",
         "lon": [
          -83.16103
         ],
         "marker": {
          "color": "#FECB52"
         },
         "mode": "markers",
         "name": "Solitary Sandpiper",
         "showlegend": true,
         "subplot": "mapbox",
         "type": "scattermapbox"
        },
        {
         "customdata": [
          [
           5
          ],
          [
           8
          ],
          [
           10
          ],
          [
           3
          ],
          [
           17
          ]
         ],
         "hovertemplate": "<b>%{hovertext}</b><br><br>common_name=Lesser Yellowlegs<br>latitude=%{lat}<br>longitude=%{lon}<br>length_seconds=%{customdata[0]}<extra></extra>",
         "hovertext": [
          "Lesser Yellowlegs",
          "Lesser Yellowlegs",
          "Lesser Yellowlegs",
          "Lesser Yellowlegs",
          "Lesser Yellowlegs"
         ],
         "lat": [
          41.61422,
          41.61422,
          41.61422,
          41.61422,
          41.61422
         ],
         "legendgroup": "Lesser Yellowlegs",
         "lon": [
          -83.17215,
          -83.17215,
          -83.17215,
          -83.17215,
          -83.17215
         ],
         "marker": {
          "color": "#636efa"
         },
         "mode": "markers",
         "name": "Lesser Yellowlegs",
         "showlegend": true,
         "subplot": "mapbox",
         "type": "scattermapbox"
        },
        {
         "customdata": [
          [
           59
          ]
         ],
         "hovertemplate": "<b>%{hovertext}</b><br><br>common_name=Bonaparte's Gull<br>latitude=%{lat}<br>longitude=%{lon}<br>length_seconds=%{customdata[0]}<extra></extra>",
         "hovertext": [
          "Bonaparte's Gull"
         ],
         "lat": [
          41.9088
         ],
         "legendgroup": "Bonaparte's Gull",
         "lon": [
          -82.509
         ],
         "marker": {
          "color": "#EF553B"
         },
         "mode": "markers",
         "name": "Bonaparte's Gull",
         "showlegend": true,
         "subplot": "mapbox",
         "type": "scattermapbox"
        },
        {
         "customdata": [
          [
           37
          ]
         ],
         "hovertemplate": "<b>%{hovertext}</b><br><br>common_name=Ring-billed Gull<br>latitude=%{lat}<br>longitude=%{lon}<br>length_seconds=%{customdata[0]}<extra></extra>",
         "hovertext": [
          "Ring-billed Gull"
         ],
         "lat": [
          41.9162
         ],
         "legendgroup": "Ring-billed Gull",
         "lon": [
          -83.3387
         ],
         "marker": {
          "color": "#00cc96"
         },
         "mode": "markers",
         "name": "Ring-billed Gull",
         "showlegend": true,
         "subplot": "mapbox",
         "type": "scattermapbox"
        },
        {
         "customdata": [
          [
           11
          ]
         ],
         "hovertemplate": "<b>%{hovertext}</b><br><br>common_name=Black Tern<br>latitude=%{lat}<br>longitude=%{lon}<br>length_seconds=%{customdata[0]}<extra></extra>",
         "hovertext": [
          "Black Tern"
         ],
         "lat": [
          41.9628
         ],
         "legendgroup": "Black Tern",
         "lon": [
          -82.5184
         ],
         "marker": {
          "color": "#ab63fa"
         },
         "mode": "markers",
         "name": "Black Tern",
         "showlegend": true,
         "subplot": "mapbox",
         "type": "scattermapbox"
        },
        {
         "customdata": [
          [
           9
          ],
          [
           4
          ],
          [
           7
          ]
         ],
         "hovertemplate": "<b>%{hovertext}</b><br><br>common_name=American Bittern<br>latitude=%{lat}<br>longitude=%{lon}<br>length_seconds=%{customdata[0]}<extra></extra>",
         "hovertext": [
          "American Bittern",
          "American Bittern",
          "American Bittern"
         ],
         "lat": [
          39.919,
          39.919,
          39.919
         ],
         "legendgroup": "American Bittern",
         "lon": [
          -83.2065,
          -83.2065,
          -83.2065
         ],
         "marker": {
          "color": "#FFA15A"
         },
         "mode": "markers",
         "name": "American Bittern",
         "showlegend": true,
         "subplot": "mapbox",
         "type": "scattermapbox"
        },
        {
         "customdata": [
          [
           6
          ]
         ],
         "hovertemplate": "<b>%{hovertext}</b><br><br>common_name=Great Egret<br>latitude=%{lat}<br>longitude=%{lon}<br>length_seconds=%{customdata[0]}<extra></extra>",
         "hovertext": [
          "Great Egret"
         ],
         "lat": [
          41.6156
         ],
         "legendgroup": "Great Egret",
         "lon": [
          -83.21604
         ],
         "marker": {
          "color": "#19d3f3"
         },
         "mode": "markers",
         "name": "Great Egret",
         "showlegend": true,
         "subplot": "mapbox",
         "type": "scattermapbox"
        },
        {
         "customdata": [
          [
           25
          ]
         ],
         "hovertemplate": "<b>%{hovertext}</b><br><br>common_name=Cooper's Hawk<br>latitude=%{lat}<br>longitude=%{lon}<br>length_seconds=%{customdata[0]}<extra></extra>",
         "hovertext": [
          "Cooper's Hawk"
         ],
         "lat": [
          41.93338
         ],
         "legendgroup": "Cooper's Hawk",
         "lon": [
          -83.54994
         ],
         "marker": {
          "color": "#FF6692"
         },
         "mode": "markers",
         "name": "Cooper's Hawk",
         "showlegend": true,
         "subplot": "mapbox",
         "type": "scattermapbox"
        },
        {
         "customdata": [
          [
           54
          ],
          [
           23
          ],
          [
           9
          ],
          [
           13
          ],
          [
           7
          ],
          [
           34
          ]
         ],
         "hovertemplate": "<b>%{hovertext}</b><br><br>common_name=Red-shouldered Hawk<br>latitude=%{lat}<br>longitude=%{lon}<br>length_seconds=%{customdata[0]}<extra></extra>",
         "hovertext": [
          "Red-shouldered Hawk",
          "Red-shouldered Hawk",
          "Red-shouldered Hawk",
          "Red-shouldered Hawk",
          "Red-shouldered Hawk",
          "Red-shouldered Hawk"
         ],
         "lat": [
          39.1767,
          39.283,
          39.1722,
          39.192,
          39.5734,
          41.93338
         ],
         "legendgroup": "Red-shouldered Hawk",
         "lon": [
          -84.6557,
          -84.7459,
          -84.643,
          -84.555,
          -84.0131,
          -83.54994
         ],
         "marker": {
          "color": "#B6E880"
         },
         "mode": "markers",
         "name": "Red-shouldered Hawk",
         "showlegend": true,
         "subplot": "mapbox",
         "type": "scattermapbox"
        },
        {
         "customdata": [
          [
           26
          ],
          [
           35
          ]
         ],
         "hovertemplate": "<b>%{hovertext}</b><br><br>common_name=Red-tailed Hawk<br>latitude=%{lat}<br>longitude=%{lon}<br>length_seconds=%{customdata[0]}<extra></extra>",
         "hovertext": [
          "Red-tailed Hawk",
          "Red-tailed Hawk"
         ],
         "lat": [
          41.93338,
          41.93338
         ],
         "legendgroup": "Red-tailed Hawk",
         "lon": [
          -83.54994,
          -83.54994
         ],
         "marker": {
          "color": "#FF97FF"
         },
         "mode": "markers",
         "name": "Red-tailed Hawk",
         "showlegend": true,
         "subplot": "mapbox",
         "type": "scattermapbox"
        },
        {
         "customdata": [
          [
           3
          ]
         ],
         "hovertemplate": "<b>%{hovertext}</b><br><br>common_name=American Barn Owl<br>latitude=%{lat}<br>longitude=%{lon}<br>length_seconds=%{customdata[0]}<extra></extra>",
         "hovertext": [
          "American Barn Owl"
         ],
         "lat": [
          41.1339
         ],
         "legendgroup": "American Barn Owl",
         "lon": [
          -81.4846
         ],
         "marker": {
          "color": "#FECB52"
         },
         "mode": "markers",
         "name": "American Barn Owl",
         "showlegend": true,
         "subplot": "mapbox",
         "type": "scattermapbox"
        },
        {
         "customdata": [
          [
           65
          ],
          [
           181
          ],
          [
           45
          ],
          [
           15
          ],
          [
           73
          ],
          [
           52
          ],
          [
           114
          ]
         ],
         "hovertemplate": "<b>%{hovertext}</b><br><br>common_name=Great Horned Owl<br>latitude=%{lat}<br>longitude=%{lon}<br>length_seconds=%{customdata[0]}<extra></extra>",
         "hovertext": [
          "Great Horned Owl",
          "Great Horned Owl",
          "Great Horned Owl",
          "Great Horned Owl",
          "Great Horned Owl",
          "Great Horned Owl",
          "Great Horned Owl"
         ],
         "lat": [
          39.0276,
          39.0078,
          41.932,
          39.0764,
          39.0078,
          39.938,
          39.1447
         ],
         "legendgroup": "Great Horned Owl",
         "lon": [
          -83.9197,
          -83.8085,
          -82.5133,
          -84.336,
          -83.8085,
          -83.222,
          -84.3837
         ],
         "marker": {
          "color": "#636efa"
         },
         "mode": "markers",
         "name": "Great Horned Owl",
         "showlegend": true,
         "subplot": "mapbox",
         "type": "scattermapbox"
        },
        {
         "customdata": [
          [
           118
          ],
          [
           67
          ],
          [
           28
          ],
          [
           59
          ]
         ],
         "hovertemplate": "<b>%{hovertext}</b><br><br>common_name=Eastern Screech Owl<br>latitude=%{lat}<br>longitude=%{lon}<br>length_seconds=%{customdata[0]}<extra></extra>",
         "hovertext": [
          "Eastern Screech Owl",
          "Eastern Screech Owl",
          "Eastern Screech Owl",
          "Eastern Screech Owl"
         ],
         "lat": [
          39.0078,
          39.0078,
          39.0078,
          39.0078
         ],
         "legendgroup": "Eastern Screech Owl",
         "lon": [
          -83.8085,
          -83.8085,
          -83.8085,
          -83.8085
         ],
         "marker": {
          "color": "#EF553B"
         },
         "mode": "markers",
         "name": "Eastern Screech Owl",
         "showlegend": true,
         "subplot": "mapbox",
         "type": "scattermapbox"
        },
        {
         "customdata": [
          [
           12
          ],
          [
           11
          ],
          [
           41
          ]
         ],
         "hovertemplate": "<b>%{hovertext}</b><br><br>common_name=Barred Owl<br>latitude=%{lat}<br>longitude=%{lon}<br>length_seconds=%{customdata[0]}<extra></extra>",
         "hovertext": [
          "Barred Owl",
          "Barred Owl",
          "Barred Owl"
         ],
         "lat": [
          39.0078,
          39.0078,
          39.2168
         ],
         "legendgroup": "Barred Owl",
         "lon": [
          -83.8085,
          -83.8085,
          -84.0779
         ],
         "marker": {
          "color": "#00cc96"
         },
         "mode": "markers",
         "name": "Barred Owl",
         "showlegend": true,
         "subplot": "mapbox",
         "type": "scattermapbox"
        },
        {
         "customdata": [
          [
           60
          ],
          [
           75
          ],
          [
           11
          ],
          [
           32
          ],
          [
           7
          ]
         ],
         "hovertemplate": "<b>%{hovertext}</b><br><br>common_name=Red-headed Woodpecker<br>latitude=%{lat}<br>longitude=%{lon}<br>length_seconds=%{customdata[0]}<extra></extra>",
         "hovertext": [
          "Red-headed Woodpecker",
          "Red-headed Woodpecker",
          "Red-headed Woodpecker",
          "Red-headed Woodpecker",
          "Red-headed Woodpecker"
         ],
         "lat": [
          39.2505,
          40.7506,
          40.567,
          41.9669,
          39.2505
         ],
         "legendgroup": "Red-headed Woodpecker",
         "lon": [
          -84.7484,
          -84.3211,
          -83.6182,
          -82.5324,
          -84.7484
         ],
         "marker": {
          "color": "#ab63fa"
         },
         "mode": "markers",
         "name": "Red-headed Woodpecker",
         "showlegend": true,
         "subplot": "mapbox",
         "type": "scattermapbox"
        },
        {
         "customdata": [
          [
           20
          ],
          [
           11
          ],
          [
           96
          ],
          [
           17
          ],
          [
           62
          ],
          [
           58
          ],
          [
           32
          ],
          [
           14
          ],
          [
           30
          ],
          [
           5
          ]
         ],
         "hovertemplate": "<b>%{hovertext}</b><br><br>common_name=Red-bellied Woodpecker<br>latitude=%{lat}<br>longitude=%{lon}<br>length_seconds=%{customdata[0]}<extra></extra>",
         "hovertext": [
          "Red-bellied Woodpecker",
          "Red-bellied Woodpecker",
          "Red-bellied Woodpecker",
          "Red-bellied Woodpecker",
          "Red-bellied Woodpecker",
          "Red-bellied Woodpecker",
          "Red-bellied Woodpecker",
          "Red-bellied Woodpecker",
          "Red-bellied Woodpecker",
          "Red-bellied Woodpecker"
         ],
         "lat": [
          39.283,
          39.192,
          39.8031,
          39.2453,
          39.1722,
          39.2542,
          39.1722,
          39.0767,
          41.4553,
          40.5652
         ],
         "legendgroup": "Red-bellied Woodpecker",
         "lon": [
          -84.7459,
          -84.555,
          -84.2047,
          -84.7581,
          -84.643,
          -84.7499,
          -84.643,
          -84.4156,
          -81.9179,
          -83.6255
         ],
         "marker": {
          "color": "#FFA15A"
         },
         "mode": "markers",
         "name": "Red-bellied Woodpecker",
         "showlegend": true,
         "subplot": "mapbox",
         "type": "scattermapbox"
        },
        {
         "customdata": [
          [
           27
          ],
          [
           15
          ]
         ],
         "hovertemplate": "<b>%{hovertext}</b><br><br>common_name=Yellow-bellied Sapsucker<br>latitude=%{lat}<br>longitude=%{lon}<br>length_seconds=%{customdata[0]}<extra></extra>",
         "hovertext": [
          "Yellow-bellied Sapsucker",
          "Yellow-bellied Sapsucker"
         ],
         "lat": [
          39.192,
          39.1752
         ],
         "legendgroup": "Yellow-bellied Sapsucker",
         "lon": [
          -84.555,
          -84.5272
         ],
         "marker": {
          "color": "#19d3f3"
         },
         "mode": "markers",
         "name": "Yellow-bellied Sapsucker",
         "showlegend": true,
         "subplot": "mapbox",
         "type": "scattermapbox"
        },
        {
         "customdata": [
          [
           49
          ],
          [
           17
          ],
          [
           6
          ],
          [
           19
          ]
         ],
         "hovertemplate": "<b>%{hovertext}</b><br><br>common_name=Downy Woodpecker<br>latitude=%{lat}<br>longitude=%{lon}<br>length_seconds=%{customdata[0]}<extra></extra>",
         "hovertext": [
          "Downy Woodpecker",
          "Downy Woodpecker",
          "Downy Woodpecker",
          "Downy Woodpecker"
         ],
         "lat": [
          41.9501,
          39.1196,
          41.9563,
          39.8031
         ],
         "legendgroup": "Downy Woodpecker",
         "lon": [
          -82.5237,
          -84.5989,
          -82.5268,
          -84.2047
         ],
         "marker": {
          "color": "#FF6692"
         },
         "mode": "markers",
         "name": "Downy Woodpecker",
         "showlegend": true,
         "subplot": "mapbox",
         "type": "scattermapbox"
        },
        {
         "customdata": [
          [
           20
          ],
          [
           33
          ]
         ],
         "hovertemplate": "<b>%{hovertext}</b><br><br>common_name=Hairy Woodpecker<br>latitude=%{lat}<br>longitude=%{lon}<br>length_seconds=%{customdata[0]}<extra></extra>",
         "hovertext": [
          "Hairy Woodpecker",
          "Hairy Woodpecker"
         ],
         "lat": [
          38.6931,
          39.1915
         ],
         "legendgroup": "Hairy Woodpecker",
         "lon": [
          -83.4398,
          -84.7179
         ],
         "marker": {
          "color": "#B6E880"
         },
         "mode": "markers",
         "name": "Hairy Woodpecker",
         "showlegend": true,
         "subplot": "mapbox",
         "type": "scattermapbox"
        },
        {
         "customdata": [
          [
           55
          ],
          [
           102
          ],
          [
           55
          ]
         ],
         "hovertemplate": "<b>%{hovertext}</b><br><br>common_name=Northern Flicker<br>latitude=%{lat}<br>longitude=%{lon}<br>length_seconds=%{customdata[0]}<extra></extra>",
         "hovertext": [
          "Northern Flicker",
          "Northern Flicker",
          "Northern Flicker"
         ],
         "lat": [
          39.1767,
          39.1317,
          39.0767
         ],
         "legendgroup": "Northern Flicker",
         "lon": [
          -84.6557,
          -84.7973,
          -84.4156
         ],
         "marker": {
          "color": "#FF97FF"
         },
         "mode": "markers",
         "name": "Northern Flicker",
         "showlegend": true,
         "subplot": "mapbox",
         "type": "scattermapbox"
        },
        {
         "customdata": [
          [
           190
          ],
          [
           13
          ]
         ],
         "hovertemplate": "<b>%{hovertext}</b><br><br>common_name=Pileated Woodpecker<br>latitude=%{lat}<br>longitude=%{lon}<br>length_seconds=%{customdata[0]}<extra></extra>",
         "hovertext": [
          "Pileated Woodpecker",
          "Pileated Woodpecker"
         ],
         "lat": [
          39.2542,
          39.2453
         ],
         "legendgroup": "Pileated Woodpecker",
         "lon": [
          -84.7499,
          -84.7581
         ],
         "marker": {
          "color": "#FECB52"
         },
         "mode": "markers",
         "name": "Pileated Woodpecker",
         "showlegend": true,
         "subplot": "mapbox",
         "type": "scattermapbox"
        },
        {
         "customdata": [
          [
           50
          ],
          [
           20
          ],
          [
           30
          ]
         ],
         "hovertemplate": "<b>%{hovertext}</b><br><br>common_name=Eastern Phoebe<br>latitude=%{lat}<br>longitude=%{lon}<br>length_seconds=%{customdata[0]}<extra></extra>",
         "hovertext": [
          "Eastern Phoebe",
          "Eastern Phoebe",
          "Eastern Phoebe"
         ],
         "lat": [
          39.2542,
          39.2542,
          41.9563
         ],
         "legendgroup": "Eastern Phoebe",
         "lon": [
          -84.7499,
          -84.7499,
          -82.5268
         ],
         "marker": {
          "color": "#636efa"
         },
         "mode": "markers",
         "name": "Eastern Phoebe",
         "showlegend": true,
         "subplot": "mapbox",
         "type": "scattermapbox"
        },
        {
         "customdata": [
          [
           22
          ],
          [
           30
          ],
          [
           81
          ],
          [
           33
          ],
          [
           4
          ],
          [
           114
          ],
          [
           3
          ],
          [
           64
          ]
         ],
         "hovertemplate": "<b>%{hovertext}</b><br><br>common_name=Eastern Wood Pewee<br>latitude=%{lat}<br>longitude=%{lon}<br>length_seconds=%{customdata[0]}<extra></extra>",
         "hovertext": [
          "Eastern Wood Pewee",
          "Eastern Wood Pewee",
          "Eastern Wood Pewee",
          "Eastern Wood Pewee",
          "Eastern Wood Pewee",
          "Eastern Wood Pewee",
          "Eastern Wood Pewee",
          "Eastern Wood Pewee"
         ],
         "lat": [
          41.9563,
          39.2432,
          39.2432,
          39.2453,
          39.5734,
          41.629,
          40.012,
          39.2432
         ],
         "legendgroup": "Eastern Wood Pewee",
         "lon": [
          -82.5268,
          -84.7609,
          -84.7609,
          -84.7581,
          -84.0131,
          -83.194,
          -83.016,
          -84.7609
         ],
         "marker": {
          "color": "#EF553B"
         },
         "mode": "markers",
         "name": "Eastern Wood Pewee",
         "showlegend": true,
         "subplot": "mapbox",
         "type": "scattermapbox"
        },
        {
         "customdata": [
          [
           66
          ],
          [
           54
          ],
          [
           14
          ],
          [
           52
          ],
          [
           17
          ],
          [
           64
          ]
         ],
         "hovertemplate": "<b>%{hovertext}</b><br><br>common_name=Acadian Flycatcher<br>latitude=%{lat}<br>longitude=%{lon}<br>length_seconds=%{customdata[0]}<extra></extra>",
         "hovertext": [
          "Acadian Flycatcher",
          "Acadian Flycatcher",
          "Acadian Flycatcher",
          "Acadian Flycatcher",
          "Acadian Flycatcher",
          "Acadian Flycatcher"
         ],
         "lat": [
          39.1915,
          39.2453,
          39.2453,
          39.7945,
          39.2453,
          39.1317
         ],
         "legendgroup": "Acadian Flycatcher",
         "lon": [
          -84.7179,
          -84.7581,
          -84.7581,
          -83.8317,
          -84.7581,
          -84.7973
         ],
         "marker": {
          "color": "#00cc96"
         },
         "mode": "markers",
         "name": "Acadian Flycatcher",
         "showlegend": true,
         "subplot": "mapbox",
         "type": "scattermapbox"
        },
        {
         "customdata": [
          [
           37
          ],
          [
           10
          ],
          [
           34
          ],
          [
           4
          ],
          [
           41
          ],
          [
           36
          ],
          [
           96
          ],
          [
           26
          ],
          [
           24
          ],
          [
           7
          ]
         ],
         "hovertemplate": "<b>%{hovertext}</b><br><br>common_name=Willow Flycatcher<br>latitude=%{lat}<br>longitude=%{lon}<br>length_seconds=%{customdata[0]}<extra></extra>",
         "hovertext": [
          "Willow Flycatcher",
          "Willow Flycatcher",
          "Willow Flycatcher",
          "Willow Flycatcher",
          "Willow Flycatcher",
          "Willow Flycatcher",
          "Willow Flycatcher",
          "Willow Flycatcher",
          "Willow Flycatcher",
          "Willow Flycatcher"
         ],
         "lat": [
          39.2058,
          41.6122,
          41.6122,
          41.9501,
          39.2095,
          40.7183,
          41.6122,
          39.5734,
          41.5421,
          41.93338
         ],
         "legendgroup": "Willow Flycatcher",
         "lon": [
          -84.7876,
          -83.1723,
          -83.1723,
          -82.5237,
          -84.7821,
          -81.991,
          -83.1723,
          -84.0131,
          -81.6307,
          -83.54994
         ],
         "marker": {
          "color": "#ab63fa"
         },
         "mode": "markers",
         "name": "Willow Flycatcher",
         "showlegend": true,
         "subplot": "mapbox",
         "type": "scattermapbox"
        },
        {
         "customdata": [
          [
           39
          ],
          [
           10
          ]
         ],
         "hovertemplate": "<b>%{hovertext}</b><br><br>common_name=Eastern Kingbird<br>latitude=%{lat}<br>longitude=%{lon}<br>length_seconds=%{customdata[0]}<extra></extra>",
         "hovertext": [
          "Eastern Kingbird",
          "Eastern Kingbird"
         ],
         "lat": [
          41.9501,
          39.1237
         ],
         "legendgroup": "Eastern Kingbird",
         "lon": [
          -82.5237,
          -84.5904
         ],
         "marker": {
          "color": "#FFA15A"
         },
         "mode": "markers",
         "name": "Eastern Kingbird",
         "showlegend": true,
         "subplot": "mapbox",
         "type": "scattermapbox"
        },
        {
         "customdata": [
          [
           101
          ],
          [
           97
          ],
          [
           30
          ],
          [
           33
          ]
         ],
         "hovertemplate": "<b>%{hovertext}</b><br><br>common_name=Great Crested Flycatcher<br>latitude=%{lat}<br>longitude=%{lon}<br>length_seconds=%{customdata[0]}<extra></extra>",
         "hovertext": [
          "Great Crested Flycatcher",
          "Great Crested Flycatcher",
          "Great Crested Flycatcher",
          "Great Crested Flycatcher"
         ],
         "lat": [
          39.1317,
          39.5734,
          40.2377,
          40.2377
         ],
         "legendgroup": "Great Crested Flycatcher",
         "lon": [
          -84.7973,
          -84.0131,
          -82.8937,
          -82.8937
         ],
         "marker": {
          "color": "#19d3f3"
         },
         "mode": "markers",
         "name": "Great Crested Flycatcher",
         "showlegend": true,
         "subplot": "mapbox",
         "type": "scattermapbox"
        },
        {
         "customdata": [
          [
           7
          ],
          [
           72
          ]
         ],
         "hovertemplate": "<b>%{hovertext}</b><br><br>common_name=Red-eyed Vireo<br>latitude=%{lat}<br>longitude=%{lon}<br>length_seconds=%{customdata[0]}<extra></extra>",
         "hovertext": [
          "Red-eyed Vireo",
          "Red-eyed Vireo"
         ],
         "lat": [
          40.5652,
          41.6275
         ],
         "legendgroup": "Red-eyed Vireo",
         "lon": [
          -83.6255,
          -83.1897
         ],
         "marker": {
          "color": "#FF6692"
         },
         "mode": "markers",
         "name": "Red-eyed Vireo",
         "showlegend": true,
         "subplot": "mapbox",
         "type": "scattermapbox"
        },
        {
         "customdata": [
          [
           50
          ],
          [
           118
          ],
          [
           58
          ],
          [
           49
          ],
          [
           40
          ],
          [
           5
          ],
          [
           15
          ],
          [
           25
          ],
          [
           38
          ],
          [
           13
          ],
          [
           18
          ],
          [
           32
          ],
          [
           40
          ],
          [
           24
          ],
          [
           21
          ],
          [
           22
          ],
          [
           62
          ],
          [
           145
          ],
          [
           4
          ]
         ],
         "hovertemplate": "<b>%{hovertext}</b><br><br>common_name=Warbling Vireo<br>latitude=%{lat}<br>longitude=%{lon}<br>length_seconds=%{customdata[0]}<extra></extra>",
         "hovertext": [
          "Warbling Vireo",
          "Warbling Vireo",
          "Warbling Vireo",
          "Warbling Vireo",
          "Warbling Vireo",
          "Warbling Vireo",
          "Warbling Vireo",
          "Warbling Vireo",
          "Warbling Vireo",
          "Warbling Vireo",
          "Warbling Vireo",
          "Warbling Vireo",
          "Warbling Vireo",
          "Warbling Vireo",
          "Warbling Vireo",
          "Warbling Vireo",
          "Warbling Vireo",
          "Warbling Vireo",
          "Warbling Vireo"
         ],
         "lat": [
          41.6275,
          41.6275,
          39.2976,
          41.9501,
          39.2095,
          39.5734,
          41.9292,
          41.6122,
          41.6122,
          41.6122,
          41.6122,
          41.6275,
          41.6275,
          41.6275,
          41.6275,
          39.2535,
          41.6275,
          41.6275,
          41.6122
         ],
         "legendgroup": "Warbling Vireo",
         "lon": [
          -83.1897,
          -83.1897,
          -84.6927,
          -82.5237,
          -84.7821,
          -84.0131,
          -82.5103,
          -83.1723,
          -83.1723,
          -83.1723,
          -83.1723,
          -83.1897,
          -83.1897,
          -83.1897,
          -83.1897,
          -84.763,
          -83.1897,
          -83.1897,
          -83.1723
         ],
         "marker": {
          "color": "#B6E880"
         },
         "mode": "markers",
         "name": "Warbling Vireo",
         "showlegend": true,
         "subplot": "mapbox",
         "type": "scattermapbox"
        },
        {
         "customdata": [
          [
           69
          ],
          [
           28
          ],
          [
           15
          ],
          [
           7
          ],
          [
           68
          ],
          [
           52
          ],
          [
           40
          ],
          [
           22
          ],
          [
           40
          ],
          [
           63
          ]
         ],
         "hovertemplate": "<b>%{hovertext}</b><br><br>common_name=Yellow-throated Vireo<br>latitude=%{lat}<br>longitude=%{lon}<br>length_seconds=%{customdata[0]}<extra></extra>",
         "hovertext": [
          "Yellow-throated Vireo",
          "Yellow-throated Vireo",
          "Yellow-throated Vireo",
          "Yellow-throated Vireo",
          "Yellow-throated Vireo",
          "Yellow-throated Vireo",
          "Yellow-throated Vireo",
          "Yellow-throated Vireo",
          "Yellow-throated Vireo",
          "Yellow-throated Vireo"
         ],
         "lat": [
          39.2542,
          39.5734,
          41.5445,
          40.5652,
          40.5652,
          40.5652,
          38.7047,
          39.1317,
          39.017,
          39.9871
         ],
         "legendgroup": "Yellow-throated Vireo",
         "lon": [
          -84.7499,
          -84.0131,
          -83.8462,
          -83.6255,
          -83.6255,
          -83.6255,
          -83.1429,
          -84.7973,
          -84.1259,
          -83.244
         ],
         "marker": {
          "color": "#FF97FF"
         },
         "mode": "markers",
         "name": "Yellow-throated Vireo",
         "showlegend": true,
         "subplot": "mapbox",
         "type": "scattermapbox"
        },
        {
         "customdata": [
          [
           64
          ],
          [
           36
          ],
          [
           20
          ],
          [
           80
          ],
          [
           35
          ],
          [
           29
          ],
          [
           41
          ]
         ],
         "hovertemplate": "<b>%{hovertext}</b><br><br>common_name=White-eyed Vireo<br>latitude=%{lat}<br>longitude=%{lon}<br>length_seconds=%{customdata[0]}<extra></extra>",
         "hovertext": [
          "White-eyed Vireo",
          "White-eyed Vireo",
          "White-eyed Vireo",
          "White-eyed Vireo",
          "White-eyed Vireo",
          "White-eyed Vireo",
          "White-eyed Vireo"
         ],
         "lat": [
          39.2783,
          38.7047,
          41.937,
          39.1317,
          39.1317,
          39.8788,
          41.62116
         ],
         "legendgroup": "White-eyed Vireo",
         "lon": [
          -84.7495,
          -83.1429,
          -82.51,
          -84.7973,
          -84.7973,
          -82.903,
          -83.16103
         ],
         "marker": {
          "color": "#FECB52"
         },
         "mode": "markers",
         "name": "White-eyed Vireo",
         "showlegend": true,
         "subplot": "mapbox",
         "type": "scattermapbox"
        },
        {
         "customdata": [
          [
           176
          ],
          [
           17
          ],
          [
           3
          ]
         ],
         "hovertemplate": "<b>%{hovertext}</b><br><br>common_name=Bell's Vireo<br>latitude=%{lat}<br>longitude=%{lon}<br>length_seconds=%{customdata[0]}<extra></extra>",
         "hovertext": [
          "Bell's Vireo",
          "Bell's Vireo",
          "Bell's Vireo"
         ],
         "lat": [
          40.054,
          40.056,
          39.2095
         ],
         "legendgroup": "Bell's Vireo",
         "lon": [
          -83.189,
          -83.191,
          -84.7821
         ],
         "marker": {
          "color": "#636efa"
         },
         "mode": "markers",
         "name": "Bell's Vireo",
         "showlegend": true,
         "subplot": "mapbox",
         "type": "scattermapbox"
        },
        {
         "customdata": [
          [
           14
          ],
          [
           95
          ],
          [
           13
          ],
          [
           18
          ],
          [
           13
          ],
          [
           30
          ],
          [
           11
          ]
         ],
         "hovertemplate": "<b>%{hovertext}</b><br><br>common_name=Blue Jay<br>latitude=%{lat}<br>longitude=%{lon}<br>length_seconds=%{customdata[0]}<extra></extra>",
         "hovertext": [
          "Blue Jay",
          "Blue Jay",
          "Blue Jay",
          "Blue Jay",
          "Blue Jay",
          "Blue Jay",
          "Blue Jay"
         ],
         "lat": [
          41.9499,
          39.1756,
          39.1722,
          39.1278,
          39.2621,
          39.1722,
          41.4885
         ],
         "legendgroup": "Blue Jay",
         "lon": [
          -82.5173,
          -84.5274,
          -84.643,
          -84.7987,
          -84.751,
          -84.643,
          -81.5787
         ],
         "marker": {
          "color": "#EF553B"
         },
         "mode": "markers",
         "name": "Blue Jay",
         "showlegend": true,
         "subplot": "mapbox",
         "type": "scattermapbox"
        },
        {
         "customdata": [
          [
           101
          ],
          [
           30
          ],
          [
           19
          ]
         ],
         "hovertemplate": "<b>%{hovertext}</b><br><br>common_name=American Crow<br>latitude=%{lat}<br>longitude=%{lon}<br>length_seconds=%{customdata[0]}<extra></extra>",
         "hovertext": [
          "American Crow",
          "American Crow",
          "American Crow"
         ],
         "lat": [
          39.2542,
          39.0078,
          39.3439
         ],
         "legendgroup": "American Crow",
         "lon": [
          -84.7499,
          -83.8085,
          -84.6688
         ],
         "marker": {
          "color": "#00cc96"
         },
         "mode": "markers",
         "name": "American Crow",
         "showlegend": true,
         "subplot": "mapbox",
         "type": "scattermapbox"
        },
        {
         "customdata": [
          [
           21
          ],
          [
           22
          ],
          [
           54
          ],
          [
           5
          ]
         ],
         "hovertemplate": "<b>%{hovertext}</b><br><br>common_name=Fish Crow<br>latitude=%{lat}<br>longitude=%{lon}<br>length_seconds=%{customdata[0]}<extra></extra>",
         "hovertext": [
          "Fish Crow",
          "Fish Crow",
          "Fish Crow",
          "Fish Crow"
         ],
         "lat": [
          41.9167,
          41.1178,
          41.5003,
          41.1188
         ],
         "legendgroup": "Fish Crow",
         "lon": [
          -82.5094,
          -81.4811,
          -81.5189,
          -81.4804
         ],
         "marker": {
          "color": "#ab63fa"
         },
         "mode": "markers",
         "name": "Fish Crow",
         "showlegend": true,
         "subplot": "mapbox",
         "type": "scattermapbox"
        },
        {
         "customdata": [
          [
           15
          ],
          [
           24
          ],
          [
           48
          ],
          [
           22
          ],
          [
           21
          ],
          [
           20
          ],
          [
           58
          ],
          [
           7
          ],
          [
           18
          ],
          [
           33
          ],
          [
           3
          ],
          [
           50
          ],
          [
           13
          ]
         ],
         "hovertemplate": "<b>%{hovertext}</b><br><br>common_name=Tufted Titmouse<br>latitude=%{lat}<br>longitude=%{lon}<br>length_seconds=%{customdata[0]}<extra></extra>",
         "hovertext": [
          "Tufted Titmouse",
          "Tufted Titmouse",
          "Tufted Titmouse",
          "Tufted Titmouse",
          "Tufted Titmouse",
          "Tufted Titmouse",
          "Tufted Titmouse",
          "Tufted Titmouse",
          "Tufted Titmouse",
          "Tufted Titmouse",
          "Tufted Titmouse",
          "Tufted Titmouse",
          "Tufted Titmouse"
         ],
         "lat": [
          40.942,
          39.2432,
          39.1914,
          39.283,
          41.4517,
          39.1722,
          39.1914,
          39.8165,
          39.017,
          41.5,
          41.5,
          39.1278,
          41.7135
         ],
         "legendgroup": "Tufted Titmouse",
         "lon": [
          -81.5236,
          -84.7609,
          -84.7174,
          -84.7459,
          -81.9473,
          -84.643,
          -84.7174,
          -84.2213,
          -84.1259,
          -81.5032,
          -81.5032,
          -84.7987,
          -81.1984
         ],
         "marker": {
          "color": "#FFA15A"
         },
         "mode": "markers",
         "name": "Tufted Titmouse",
         "showlegend": true,
         "subplot": "mapbox",
         "type": "scattermapbox"
        },
        {
         "customdata": [
          [
           28
          ],
          [
           48
          ],
          [
           36
          ],
          [
           16
          ],
          [
           126
          ],
          [
           11
          ],
          [
           20
          ],
          [
           14
          ]
         ],
         "hovertemplate": "<b>%{hovertext}</b><br><br>common_name=Carolina Chickadee<br>latitude=%{lat}<br>longitude=%{lon}<br>length_seconds=%{customdata[0]}<extra></extra>",
         "hovertext": [
          "Carolina Chickadee",
          "Carolina Chickadee",
          "Carolina Chickadee",
          "Carolina Chickadee",
          "Carolina Chickadee",
          "Carolina Chickadee",
          "Carolina Chickadee",
          "Carolina Chickadee"
         ],
         "lat": [
          39.2432,
          39.1723,
          40.5652,
          39.1722,
          39.1317,
          39.1722,
          39.1317,
          40.5652
         ],
         "legendgroup": "Carolina Chickadee",
         "lon": [
          -84.7609,
          -84.6432,
          -83.6255,
          -84.643,
          -84.7973,
          -84.643,
          -84.7973,
          -83.6255
         ],
         "marker": {
          "color": "#19d3f3"
         },
         "mode": "markers",
         "name": "Carolina Chickadee",
         "showlegend": true,
         "subplot": "mapbox",
         "type": "scattermapbox"
        },
        {
         "customdata": [
          [
           17
          ],
          [
           201
          ],
          [
           29
          ],
          [
           23
          ],
          [
           69
          ]
         ],
         "hovertemplate": "<b>%{hovertext}</b><br><br>common_name=Black-capped Chickadee<br>latitude=%{lat}<br>longitude=%{lon}<br>length_seconds=%{customdata[0]}<extra></extra>",
         "hovertext": [
          "Black-capped Chickadee",
          "Black-capped Chickadee",
          "Black-capped Chickadee",
          "Black-capped Chickadee",
          "Black-capped Chickadee"
         ],
         "lat": [
          41.556,
          41.6275,
          41.9501,
          41.4517,
          41.629
         ],
         "legendgroup": "Black-capped Chickadee",
         "lon": [
          -83.8548,
          -83.1897,
          -82.5237,
          -81.9473,
          -83.194
         ],
         "marker": {
          "color": "#FF6692"
         },
         "mode": "markers",
         "name": "Black-capped Chickadee",
         "showlegend": true,
         "subplot": "mapbox",
         "type": "scattermapbox"
        },
        {
         "customdata": [
          [
           27
          ],
          [
           11
          ],
          [
           53
          ],
          [
           12
          ]
         ],
         "hovertemplate": "<b>%{hovertext}</b><br><br>common_name=Horned Lark<br>latitude=%{lat}<br>longitude=%{lon}<br>length_seconds=%{customdata[0]}<extra></extra>",
         "hovertext": [
          "Horned Lark",
          "Horned Lark",
          "Horned Lark",
          "Horned Lark"
         ],
         "lat": [
          40.6843,
          41.93338,
          41.9017,
          41.9017
         ],
         "legendgroup": "Horned Lark",
         "lon": [
          -84.7217,
          -83.54994,
          -83.7812,
          -83.7812
         ],
         "marker": {
          "color": "#B6E880"
         },
         "mode": "markers",
         "name": "Horned Lark",
         "showlegend": true,
         "subplot": "mapbox",
         "type": "scattermapbox"
        },
        {
         "customdata": [
          [
           2
          ],
          [
           17
          ],
          [
           234
          ],
          [
           12
          ],
          [
           18
          ],
          [
           7
          ]
         ],
         "hovertemplate": "<b>%{hovertext}</b><br><br>common_name=Tree Swallow<br>latitude=%{lat}<br>longitude=%{lon}<br>length_seconds=%{customdata[0]}<extra></extra>",
         "hovertext": [
          "Tree Swallow",
          "Tree Swallow",
          "Tree Swallow",
          "Tree Swallow",
          "Tree Swallow",
          "Tree Swallow"
         ],
         "lat": [
          41.9682,
          41.928,
          41.6275,
          40.5681,
          41.913,
          41.62116
         ],
         "legendgroup": "Tree Swallow",
         "lon": [
          -82.5305,
          -82.5083,
          -83.1897,
          -83.2743,
          -82.5093,
          -83.16103
         ],
         "marker": {
          "color": "#FF97FF"
         },
         "mode": "markers",
         "name": "Tree Swallow",
         "showlegend": true,
         "subplot": "mapbox",
         "type": "scattermapbox"
        },
        {
         "customdata": [
          [
           27
          ],
          [
           55
          ],
          [
           191
          ],
          [
           53
          ],
          [
           36
          ]
         ],
         "hovertemplate": "<b>%{hovertext}</b><br><br>common_name=Purple Martin<br>latitude=%{lat}<br>longitude=%{lon}<br>length_seconds=%{customdata[0]}<extra></extra>",
         "hovertext": [
          "Purple Martin",
          "Purple Martin",
          "Purple Martin",
          "Purple Martin",
          "Purple Martin"
         ],
         "lat": [
          41.3832,
          41.6075,
          41.6122,
          41.6122,
          39.2432
         ],
         "legendgroup": "Purple Martin",
         "lon": [
          -82.3215,
          -83.2096,
          -83.1723,
          -83.1723,
          -84.7609
         ],
         "marker": {
          "color": "#FECB52"
         },
         "mode": "markers",
         "name": "Purple Martin",
         "showlegend": true,
         "subplot": "mapbox",
         "type": "scattermapbox"
        },
        {
         "customdata": [
          [
           30
          ]
         ],
         "hovertemplate": "<b>%{hovertext}</b><br><br>common_name=Barn Swallow<br>latitude=%{lat}<br>longitude=%{lon}<br>length_seconds=%{customdata[0]}<extra></extra>",
         "hovertext": [
          "Barn Swallow"
         ],
         "lat": [
          39.1767
         ],
         "legendgroup": "Barn Swallow",
         "lon": [
          -84.6557
         ],
         "marker": {
          "color": "#636efa"
         },
         "mode": "markers",
         "name": "Barn Swallow",
         "showlegend": true,
         "subplot": "mapbox",
         "type": "scattermapbox"
        },
        {
         "customdata": [
          [
           26
          ]
         ],
         "hovertemplate": "<b>%{hovertext}</b><br><br>common_name=Ruby-crowned Kinglet<br>latitude=%{lat}<br>longitude=%{lon}<br>length_seconds=%{customdata[0]}<extra></extra>",
         "hovertext": [
          "Ruby-crowned Kinglet"
         ],
         "lat": [
          41.62116
         ],
         "legendgroup": "Ruby-crowned Kinglet",
         "lon": [
          -83.16103
         ],
         "marker": {
          "color": "#EF553B"
         },
         "mode": "markers",
         "name": "Ruby-crowned Kinglet",
         "showlegend": true,
         "subplot": "mapbox",
         "type": "scattermapbox"
        },
        {
         "customdata": [
          [
           72
          ]
         ],
         "hovertemplate": "<b>%{hovertext}</b><br><br>common_name=Sedge Wren<br>latitude=%{lat}<br>longitude=%{lon}<br>length_seconds=%{customdata[0]}<extra></extra>",
         "hovertext": [
          "Sedge Wren"
         ],
         "lat": [
          39.941
         ],
         "legendgroup": "Sedge Wren",
         "lon": [
          -83.22
         ],
         "marker": {
          "color": "#00cc96"
         },
         "mode": "markers",
         "name": "Sedge Wren",
         "showlegend": true,
         "subplot": "mapbox",
         "type": "scattermapbox"
        },
        {
         "customdata": [
          [
           51
          ],
          [
           30
          ],
          [
           5
          ],
          [
           62
          ],
          [
           84
          ]
         ],
         "hovertemplate": "<b>%{hovertext}</b><br><br>common_name=Marsh Wren<br>latitude=%{lat}<br>longitude=%{lon}<br>length_seconds=%{customdata[0]}<extra></extra>",
         "hovertext": [
          "Marsh Wren",
          "Marsh Wren",
          "Marsh Wren",
          "Marsh Wren",
          "Marsh Wren"
         ],
         "lat": [
          41.6075,
          39.919,
          39.919,
          41.6156,
          41.6156
         ],
         "legendgroup": "Marsh Wren",
         "lon": [
          -83.2096,
          -83.2065,
          -83.2065,
          -83.216,
          -83.216
         ],
         "marker": {
          "color": "#ab63fa"
         },
         "mode": "markers",
         "name": "Marsh Wren",
         "showlegend": true,
         "subplot": "mapbox",
         "type": "scattermapbox"
        },
        {
         "customdata": [
          [
           28
          ],
          [
           50
          ],
          [
           9
          ],
          [
           20
          ],
          [
           54
          ],
          [
           72
          ],
          [
           44
          ],
          [
           27
          ],
          [
           93
          ],
          [
           19
          ],
          [
           31
          ],
          [
           15
          ],
          [
           59
          ],
          [
           17
          ]
         ],
         "hovertemplate": "<b>%{hovertext}</b><br><br>common_name=Carolina Wren<br>latitude=%{lat}<br>longitude=%{lon}<br>length_seconds=%{customdata[0]}<extra></extra>",
         "hovertext": [
          "Carolina Wren",
          "Carolina Wren",
          "Carolina Wren",
          "Carolina Wren",
          "Carolina Wren",
          "Carolina Wren",
          "Carolina Wren",
          "Carolina Wren",
          "Carolina Wren",
          "Carolina Wren",
          "Carolina Wren",
          "Carolina Wren",
          "Carolina Wren",
          "Carolina Wren"
         ],
         "lat": [
          39.2432,
          41.9375,
          41.9501,
          39.1722,
          39.5734,
          39.017,
          40.5104,
          40.5104,
          39.0767,
          39.8161,
          39.8031,
          41.5434,
          39.1278,
          41.77227
         ],
         "legendgroup": "Carolina Wren",
         "lon": [
          -84.7609,
          -82.5119,
          -82.5237,
          -84.643,
          -84.0131,
          -84.1259,
          -83.8524,
          -83.8524,
          -84.4156,
          -84.2254,
          -84.2047,
          -83.8394,
          -84.7987,
          -83.70994
         ],
         "marker": {
          "color": "#FFA15A"
         },
         "mode": "markers",
         "name": "Carolina Wren",
         "showlegend": true,
         "subplot": "mapbox",
         "type": "scattermapbox"
        },
        {
         "customdata": [
          [
           42
          ],
          [
           27
          ]
         ],
         "hovertemplate": "<b>%{hovertext}</b><br><br>common_name=Winter Wren<br>latitude=%{lat}<br>longitude=%{lon}<br>length_seconds=%{customdata[0]}<extra></extra>",
         "hovertext": [
          "Winter Wren",
          "Winter Wren"
         ],
         "lat": [
          39.1317,
          41.2239
         ],
         "legendgroup": "Winter Wren",
         "lon": [
          -84.7973,
          -81.5111
         ],
         "marker": {
          "color": "#19d3f3"
         },
         "mode": "markers",
         "name": "Winter Wren",
         "showlegend": true,
         "subplot": "mapbox",
         "type": "scattermapbox"
        },
        {
         "customdata": [
          [
           38
          ],
          [
           25
          ],
          [
           98
          ],
          [
           20
          ],
          [
           74
          ],
          [
           9
          ],
          [
           8
          ],
          [
           16
          ],
          [
           23
          ],
          [
           58
          ],
          [
           53
          ],
          [
           13
          ],
          [
           152
          ]
         ],
         "hovertemplate": "<b>%{hovertext}</b><br><br>common_name=House Wren<br>latitude=%{lat}<br>longitude=%{lon}<br>length_seconds=%{customdata[0]}<extra></extra>",
         "hovertext": [
          "House Wren",
          "House Wren",
          "House Wren",
          "House Wren",
          "House Wren",
          "House Wren",
          "House Wren",
          "House Wren",
          "House Wren",
          "House Wren",
          "House Wren",
          "House Wren",
          "House Wren"
         ],
         "lat": [
          39.1722,
          39.1914,
          41.494,
          41.6275,
          41.6275,
          41.9269,
          41.9669,
          40.822,
          39.0767,
          41.5469,
          41.62116,
          41.62116,
          40.7506
         ],
         "legendgroup": "House Wren",
         "lon": [
          -84.643,
          -84.7174,
          -81.577,
          -83.1897,
          -83.1897,
          -82.5092,
          -82.5324,
          -81.755,
          -84.4156,
          -81.6347,
          -83.16103,
          -83.16103,
          -84.3211
         ],
         "marker": {
          "color": "#FF6692"
         },
         "mode": "markers",
         "name": "House Wren",
         "showlegend": true,
         "subplot": "mapbox",
         "type": "scattermapbox"
        },
        {
         "customdata": [
          [
           13
          ],
          [
           31
          ],
          [
           5
          ],
          [
           9
          ],
          [
           54
          ],
          [
           14
          ],
          [
           126
          ],
          [
           46
          ],
          [
           33
          ],
          [
           143
          ],
          [
           30
          ],
          [
           34
          ]
         ],
         "hovertemplate": "<b>%{hovertext}</b><br><br>common_name=Blue-grey Gnatcatcher<br>latitude=%{lat}<br>longitude=%{lon}<br>length_seconds=%{customdata[0]}<extra></extra>",
         "hovertext": [
          "Blue-grey Gnatcatcher",
          "Blue-grey Gnatcatcher",
          "Blue-grey Gnatcatcher",
          "Blue-grey Gnatcatcher",
          "Blue-grey Gnatcatcher",
          "Blue-grey Gnatcatcher",
          "Blue-grey Gnatcatcher",
          "Blue-grey Gnatcatcher",
          "Blue-grey Gnatcatcher",
          "Blue-grey Gnatcatcher",
          "Blue-grey Gnatcatcher",
          "Blue-grey Gnatcatcher"
         ],
         "lat": [
          41.9501,
          41.9501,
          41.9487,
          40.5652,
          40.5652,
          39.017,
          41.6275,
          41.6275,
          39.1237,
          39.1914,
          39.0767,
          41.62116
         ],
         "legendgroup": "Blue-grey Gnatcatcher",
         "lon": [
          -82.5237,
          -82.5237,
          -82.5174,
          -83.6255,
          -83.6255,
          -84.1259,
          -83.1897,
          -83.1897,
          -84.5904,
          -84.7174,
          -84.4156,
          -83.16103
         ],
         "marker": {
          "color": "#B6E880"
         },
         "mode": "markers",
         "name": "Blue-grey Gnatcatcher",
         "showlegend": true,
         "subplot": "mapbox",
         "type": "scattermapbox"
        },
        {
         "customdata": [
          [
           179
          ],
          [
           26
          ],
          [
           9
          ],
          [
           16
          ],
          [
           121
          ]
         ],
         "hovertemplate": "<b>%{hovertext}</b><br><br>common_name=White-breasted Nuthatch<br>latitude=%{lat}<br>longitude=%{lon}<br>length_seconds=%{customdata[0]}<extra></extra>",
         "hovertext": [
          "White-breasted Nuthatch",
          "White-breasted Nuthatch",
          "White-breasted Nuthatch",
          "White-breasted Nuthatch",
          "White-breasted Nuthatch"
         ],
         "lat": [
          39.2542,
          39.0423,
          40.5652,
          39.1722,
          39.2492
         ],
         "legendgroup": "White-breasted Nuthatch",
         "lon": [
          -84.7499,
          -84.5459,
          -83.6255,
          -84.643,
          -84.7579
         ],
         "marker": {
          "color": "#FF97FF"
         },
         "mode": "markers",
         "name": "White-breasted Nuthatch",
         "showlegend": true,
         "subplot": "mapbox",
         "type": "scattermapbox"
        },
        {
         "customdata": [
          [
           45
          ],
          [
           43
          ],
          [
           98
          ]
         ],
         "hovertemplate": "<b>%{hovertext}</b><br><br>common_name=Red-breasted Nuthatch<br>latitude=%{lat}<br>longitude=%{lon}<br>length_seconds=%{customdata[0]}<extra></extra>",
         "hovertext": [
          "Red-breasted Nuthatch",
          "Red-breasted Nuthatch",
          "Red-breasted Nuthatch"
         ],
         "lat": [
          39.1756,
          39.1756,
          39.1756
         ],
         "legendgroup": "Red-breasted Nuthatch",
         "lon": [
          -84.5274,
          -84.5274,
          -84.5274
         ],
         "marker": {
          "color": "#FECB52"
         },
         "mode": "markers",
         "name": "Red-breasted Nuthatch",
         "showlegend": true,
         "subplot": "mapbox",
         "type": "scattermapbox"
        },
        {
         "customdata": [
          [
           14
          ],
          [
           6
          ]
         ],
         "hovertemplate": "<b>%{hovertext}</b><br><br>common_name=Brown Creeper<br>latitude=%{lat}<br>longitude=%{lon}<br>length_seconds=%{customdata[0]}<extra></extra>",
         "hovertext": [
          "Brown Creeper",
          "Brown Creeper"
         ],
         "lat": [
          41.9262,
          39.0423
         ],
         "legendgroup": "Brown Creeper",
         "lon": [
          -82.5081,
          -84.5459
         ],
         "marker": {
          "color": "#636efa"
         },
         "mode": "markers",
         "name": "Brown Creeper",
         "showlegend": true,
         "subplot": "mapbox",
         "type": "scattermapbox"
        },
        {
         "customdata": [
          [
           171
          ],
          [
           214
          ],
          [
           20
          ],
          [
           22
          ],
          [
           27
          ],
          [
           18
          ],
          [
           24
          ],
          [
           35
          ],
          [
           30
          ],
          [
           12
          ],
          [
           28
          ],
          [
           127
          ],
          [
           136
          ]
         ],
         "hovertemplate": "<b>%{hovertext}</b><br><br>common_name=Grey Catbird<br>latitude=%{lat}<br>longitude=%{lon}<br>length_seconds=%{customdata[0]}<extra></extra>",
         "hovertext": [
          "Grey Catbird",
          "Grey Catbird",
          "Grey Catbird",
          "Grey Catbird",
          "Grey Catbird",
          "Grey Catbird",
          "Grey Catbird",
          "Grey Catbird",
          "Grey Catbird",
          "Grey Catbird",
          "Grey Catbird",
          "Grey Catbird",
          "Grey Catbird"
         ],
         "lat": [
          41.6275,
          41.6275,
          41.9501,
          40.567,
          41.9269,
          41.6275,
          41.6275,
          39.2058,
          41.4102,
          41.8778,
          41.62116,
          41.629,
          41.629
         ],
         "legendgroup": "Grey Catbird",
         "lon": [
          -83.1897,
          -83.1897,
          -82.5237,
          -83.6182,
          -82.5092,
          -83.1897,
          -83.1897,
          -84.7876,
          -82.6028,
          -83.6853,
          -83.16103,
          -83.194,
          -83.194
         ],
         "marker": {
          "color": "#EF553B"
         },
         "mode": "markers",
         "name": "Grey Catbird",
         "showlegend": true,
         "subplot": "mapbox",
         "type": "scattermapbox"
        },
        {
         "customdata": [
          [
           89
          ],
          [
           41
          ],
          [
           18
          ],
          [
           201
          ],
          [
           272
          ]
         ],
         "hovertemplate": "<b>%{hovertext}</b><br><br>common_name=Northern Mockingbird<br>latitude=%{lat}<br>longitude=%{lon}<br>length_seconds=%{customdata[0]}<extra></extra>",
         "hovertext": [
          "Northern Mockingbird",
          "Northern Mockingbird",
          "Northern Mockingbird",
          "Northern Mockingbird",
          "Northern Mockingbird"
         ],
         "lat": [
          39.1767,
          39.1767,
          39.1756,
          39.1756,
          39.1237
         ],
         "legendgroup": "Northern Mockingbird",
         "lon": [
          -84.6557,
          -84.6557,
          -84.5274,
          -84.5274,
          -84.5904
         ],
         "marker": {
          "color": "#00cc96"
         },
         "mode": "markers",
         "name": "Northern Mockingbird",
         "showlegend": true,
         "subplot": "mapbox",
         "type": "scattermapbox"
        },
        {
         "customdata": [
          [
           168
          ],
          [
           45
          ],
          [
           24
          ],
          [
           28
          ],
          [
           52
          ],
          [
           73
          ],
          [
           125
          ],
          [
           13
          ],
          [
           59
          ]
         ],
         "hovertemplate": "<b>%{hovertext}</b><br><br>common_name=Brown Thrasher<br>latitude=%{lat}<br>longitude=%{lon}<br>length_seconds=%{customdata[0]}<extra></extra>",
         "hovertext": [
          "Brown Thrasher",
          "Brown Thrasher",
          "Brown Thrasher",
          "Brown Thrasher",
          "Brown Thrasher",
          "Brown Thrasher",
          "Brown Thrasher",
          "Brown Thrasher",
          "Brown Thrasher"
         ],
         "lat": [
          40.0357,
          41.9501,
          39.1767,
          39.1237,
          39.1914,
          40.503,
          39.308,
          41.9499,
          41.2152
         ],
         "legendgroup": "Brown Thrasher",
         "lon": [
          -82.1959,
          -82.5237,
          -84.6557,
          -84.5904,
          -84.7174,
          -84.4574,
          -84.6955,
          -82.5173,
          -81.5261
         ],
         "marker": {
          "color": "#ab63fa"
         },
         "mode": "markers",
         "name": "Brown Thrasher",
         "showlegend": true,
         "subplot": "mapbox",
         "type": "scattermapbox"
        },
        {
         "customdata": [
          [
           1
          ]
         ],
         "hovertemplate": "<b>%{hovertext}</b><br><br>common_name=Common Starling<br>latitude=%{lat}<br>longitude=%{lon}<br>length_seconds=%{customdata[0]}<extra></extra>",
         "hovertext": [
          "Common Starling"
         ],
         "lat": [
          41.93338
         ],
         "legendgroup": "Common Starling",
         "lon": [
          -83.54994
         ],
         "marker": {
          "color": "#FFA15A"
         },
         "mode": "markers",
         "name": "Common Starling",
         "showlegend": true,
         "subplot": "mapbox",
         "type": "scattermapbox"
        },
        {
         "customdata": [
          [
           11
          ],
          [
           13
          ]
         ],
         "hovertemplate": "<b>%{hovertext}</b><br><br>common_name=Eastern Bluebird<br>latitude=%{lat}<br>longitude=%{lon}<br>length_seconds=%{customdata[0]}<extra></extra>",
         "hovertext": [
          "Eastern Bluebird",
          "Eastern Bluebird"
         ],
         "lat": [
          39.1756,
          41.93338
         ],
         "legendgroup": "Eastern Bluebird",
         "lon": [
          -84.5274,
          -83.54994
         ],
         "marker": {
          "color": "#19d3f3"
         },
         "mode": "markers",
         "name": "Eastern Bluebird",
         "showlegend": true,
         "subplot": "mapbox",
         "type": "scattermapbox"
        },
        {
         "customdata": [
          [
           41
          ],
          [
           168
          ],
          [
           87
          ],
          [
           82
          ],
          [
           15
          ],
          [
           53
          ],
          [
           27
          ],
          [
           24
          ],
          [
           60
          ]
         ],
         "hovertemplate": "<b>%{hovertext}</b><br><br>common_name=Wood Thrush<br>latitude=%{lat}<br>longitude=%{lon}<br>length_seconds=%{customdata[0]}<extra></extra>",
         "hovertext": [
          "Wood Thrush",
          "Wood Thrush",
          "Wood Thrush",
          "Wood Thrush",
          "Wood Thrush",
          "Wood Thrush",
          "Wood Thrush",
          "Wood Thrush",
          "Wood Thrush"
         ],
         "lat": [
          39.2432,
          41.6418,
          41.6275,
          39.1317,
          39.1225,
          39.2769,
          39.9871,
          41.62116,
          41.93338
         ],
         "legendgroup": "Wood Thrush",
         "lon": [
          -84.7609,
          -83.439,
          -83.1897,
          -84.7973,
          -84.8099,
          -84.4005,
          -83.244,
          -83.16103,
          -83.54994
         ],
         "marker": {
          "color": "#FF6692"
         },
         "mode": "markers",
         "name": "Wood Thrush",
         "showlegend": true,
         "subplot": "mapbox",
         "type": "scattermapbox"
        },
        {
         "customdata": [
          [
           11
          ],
          [
           10
          ],
          [
           2
          ],
          [
           60
          ]
         ],
         "hovertemplate": "<b>%{hovertext}</b><br><br>common_name=Swainson's Thrush<br>latitude=%{lat}<br>longitude=%{lon}<br>length_seconds=%{customdata[0]}<extra></extra>",
         "hovertext": [
          "Swainson's Thrush",
          "Swainson's Thrush",
          "Swainson's Thrush",
          "Swainson's Thrush"
         ],
         "lat": [
          41.5445,
          41.0111,
          40.024,
          39.986
         ],
         "legendgroup": "Swainson's Thrush",
         "lon": [
          -83.8462,
          -81.514,
          -83.039,
          -83.02
         ],
         "marker": {
          "color": "#B6E880"
         },
         "mode": "markers",
         "name": "Swainson's Thrush",
         "showlegend": true,
         "subplot": "mapbox",
         "type": "scattermapbox"
        },
        {
         "customdata": [
          [
           5
          ]
         ],
         "hovertemplate": "<b>%{hovertext}</b><br><br>common_name=Grey-cheeked Thrush<br>latitude=%{lat}<br>longitude=%{lon}<br>length_seconds=%{customdata[0]}<extra></extra>",
         "hovertext": [
          "Grey-cheeked Thrush"
         ],
         "lat": [
          40.024
         ],
         "legendgroup": "Grey-cheeked Thrush",
         "lon": [
          -83.039
         ],
         "marker": {
          "color": "#FF97FF"
         },
         "mode": "markers",
         "name": "Grey-cheeked Thrush",
         "showlegend": true,
         "subplot": "mapbox",
         "type": "scattermapbox"
        },
        {
         "customdata": [
          [
           48
          ]
         ],
         "hovertemplate": "<b>%{hovertext}</b><br><br>common_name=Veery<br>latitude=%{lat}<br>longitude=%{lon}<br>length_seconds=%{customdata[0]}<extra></extra>",
         "hovertext": [
          "Veery"
         ],
         "lat": [
          41.5434
         ],
         "legendgroup": "Veery",
         "lon": [
          -83.8394
         ],
         "marker": {
          "color": "#FECB52"
         },
         "mode": "markers",
         "name": "Veery",
         "showlegend": true,
         "subplot": "mapbox",
         "type": "scattermapbox"
        },
        {
         "customdata": [
          [
           37
          ],
          [
           40
          ],
          [
           24
          ],
          [
           18
          ],
          [
           42
          ],
          [
           147
          ]
         ],
         "hovertemplate": "<b>%{hovertext}</b><br><br>common_name=American Robin<br>latitude=%{lat}<br>longitude=%{lon}<br>length_seconds=%{customdata[0]}<extra></extra>",
         "hovertext": [
          "American Robin",
          "American Robin",
          "American Robin",
          "American Robin",
          "American Robin",
          "American Robin"
         ],
         "lat": [
          39.2453,
          41.9391,
          41.9446,
          39.1767,
          41.5662,
          40.024
         ],
         "legendgroup": "American Robin",
         "lon": [
          -84.7581,
          -82.5143,
          -82.5172,
          -84.6557,
          -83.5796,
          -83.039
         ],
         "marker": {
          "color": "#636efa"
         },
         "mode": "markers",
         "name": "American Robin",
         "showlegend": true,
         "subplot": "mapbox",
         "type": "scattermapbox"
        },
        {
         "customdata": [
          [
           35
          ],
          [
           22
          ],
          [
           35
          ],
          [
           64
          ]
         ],
         "hovertemplate": "<b>%{hovertext}</b><br><br>common_name=American Goldfinch<br>latitude=%{lat}<br>longitude=%{lon}<br>length_seconds=%{customdata[0]}<extra></extra>",
         "hovertext": [
          "American Goldfinch",
          "American Goldfinch",
          "American Goldfinch",
          "American Goldfinch"
         ],
         "lat": [
          39.7907,
          41.8778,
          41.9203,
          39.1317
         ],
         "legendgroup": "American Goldfinch",
         "lon": [
          -83.8681,
          -83.6853,
          -82.5094,
          -84.7973
         ],
         "marker": {
          "color": "#EF553B"
         },
         "mode": "markers",
         "name": "American Goldfinch",
         "showlegend": true,
         "subplot": "mapbox",
         "type": "scattermapbox"
        },
        {
         "customdata": [
          [
           44
          ]
         ],
         "hovertemplate": "<b>%{hovertext}</b><br><br>common_name=Grasshopper Sparrow<br>latitude=%{lat}<br>longitude=%{lon}<br>length_seconds=%{customdata[0]}<extra></extra>",
         "hovertext": [
          "Grasshopper Sparrow"
         ],
         "lat": [
          41.93338
         ],
         "legendgroup": "Grasshopper Sparrow",
         "lon": [
          -83.54994
         ],
         "marker": {
          "color": "#00cc96"
         },
         "mode": "markers",
         "name": "Grasshopper Sparrow",
         "showlegend": true,
         "subplot": "mapbox",
         "type": "scattermapbox"
        },
        {
         "customdata": [
          [
           41
          ],
          [
           28
          ],
          [
           56
          ]
         ],
         "hovertemplate": "<b>%{hovertext}</b><br><br>common_name=Lark Sparrow<br>latitude=%{lat}<br>longitude=%{lon}<br>length_seconds=%{customdata[0]}<extra></extra>",
         "hovertext": [
          "Lark Sparrow",
          "Lark Sparrow",
          "Lark Sparrow"
         ],
         "lat": [
          41.9573,
          41.9573,
          41.8778
         ],
         "legendgroup": "Lark Sparrow",
         "lon": [
          -83.9437,
          -83.9437,
          -83.6853
         ],
         "marker": {
          "color": "#ab63fa"
         },
         "mode": "markers",
         "name": "Lark Sparrow",
         "showlegend": true,
         "subplot": "mapbox",
         "type": "scattermapbox"
        },
        {
         "customdata": [
          [
           71
          ],
          [
           13
          ],
          [
           46
          ],
          [
           77
          ],
          [
           61
          ],
          [
           28
          ],
          [
           2
          ],
          [
           18
          ],
          [
           28
          ]
         ],
         "hovertemplate": "<b>%{hovertext}</b><br><br>common_name=Chipping Sparrow<br>latitude=%{lat}<br>longitude=%{lon}<br>length_seconds=%{customdata[0]}<extra></extra>",
         "hovertext": [
          "Chipping Sparrow",
          "Chipping Sparrow",
          "Chipping Sparrow",
          "Chipping Sparrow",
          "Chipping Sparrow",
          "Chipping Sparrow",
          "Chipping Sparrow",
          "Chipping Sparrow",
          "Chipping Sparrow"
         ],
         "lat": [
          39.1914,
          41.9326,
          41.93338,
          39.1278,
          41.93338,
          41.93338,
          41.93338,
          41.93338,
          41.93338
         ],
         "legendgroup": "Chipping Sparrow",
         "lon": [
          -84.7174,
          -82.5108,
          -83.54994,
          -84.7987,
          -83.54994,
          -83.54994,
          -83.54994,
          -83.54994,
          -83.54994
         ],
         "marker": {
          "color": "#FFA15A"
         },
         "mode": "markers",
         "name": "Chipping Sparrow",
         "showlegend": true,
         "subplot": "mapbox",
         "type": "scattermapbox"
        },
        {
         "customdata": [
          [
           20
          ],
          [
           71
          ],
          [
           18
          ],
          [
           4
          ],
          [
           56
          ],
          [
           26
          ],
          [
           5
          ],
          [
           52
          ],
          [
           4
          ],
          [
           42
          ],
          [
           61
          ]
         ],
         "hovertemplate": "<b>%{hovertext}</b><br><br>common_name=Field Sparrow<br>latitude=%{lat}<br>longitude=%{lon}<br>length_seconds=%{customdata[0]}<extra></extra>",
         "hovertext": [
          "Field Sparrow",
          "Field Sparrow",
          "Field Sparrow",
          "Field Sparrow",
          "Field Sparrow",
          "Field Sparrow",
          "Field Sparrow",
          "Field Sparrow",
          "Field Sparrow",
          "Field Sparrow",
          "Field Sparrow"
         ],
         "lat": [
          39.8888,
          39.1915,
          41.5445,
          40.5652,
          40.5652,
          41.5434,
          39.2095,
          40.7091,
          39.017,
          39.2962,
          41.93338
         ],
         "legendgroup": "Field Sparrow",
         "lon": [
          -82.7978,
          -84.7179,
          -83.8462,
          -83.6255,
          -83.6255,
          -83.8394,
          -84.7821,
          -83.3685,
          -84.1259,
          -84.6947,
          -83.54994
         ],
         "marker": {
          "color": "#19d3f3"
         },
         "mode": "markers",
         "name": "Field Sparrow",
         "showlegend": true,
         "subplot": "mapbox",
         "type": "scattermapbox"
        },
        {
         "customdata": [
          [
           26
          ]
         ],
         "hovertemplate": "<b>%{hovertext}</b><br><br>common_name=Red Fox Sparrow<br>latitude=%{lat}<br>longitude=%{lon}<br>length_seconds=%{customdata[0]}<extra></extra>",
         "hovertext": [
          "Red Fox Sparrow"
         ],
         "lat": [
          41.0165
         ],
         "legendgroup": "Red Fox Sparrow",
         "lon": [
          -81.5214
         ],
         "marker": {
          "color": "#FF6692"
         },
         "mode": "markers",
         "name": "Red Fox Sparrow",
         "showlegend": true,
         "subplot": "mapbox",
         "type": "scattermapbox"
        },
        {
         "customdata": [
          [
           63
          ]
         ],
         "hovertemplate": "<b>%{hovertext}</b><br><br>common_name=Dark-eyed Junco<br>latitude=%{lat}<br>longitude=%{lon}<br>length_seconds=%{customdata[0]}<extra></extra>",
         "hovertext": [
          "Dark-eyed Junco"
         ],
         "lat": [
          41.433
         ],
         "legendgroup": "Dark-eyed Junco",
         "lon": [
          -81.438
         ],
         "marker": {
          "color": "#B6E880"
         },
         "mode": "markers",
         "name": "Dark-eyed Junco",
         "showlegend": true,
         "subplot": "mapbox",
         "type": "scattermapbox"
        },
        {
         "customdata": [
          [
           17
          ]
         ],
         "hovertemplate": "<b>%{hovertext}</b><br><br>common_name=White-throated Sparrow<br>latitude=%{lat}<br>longitude=%{lon}<br>length_seconds=%{customdata[0]}<extra></extra>",
         "hovertext": [
          "White-throated Sparrow"
         ],
         "lat": [
          41.1339
         ],
         "legendgroup": "White-throated Sparrow",
         "lon": [
          -81.4846
         ],
         "marker": {
          "color": "#FF97FF"
         },
         "mode": "markers",
         "name": "White-throated Sparrow",
         "showlegend": true,
         "subplot": "mapbox",
         "type": "scattermapbox"
        },
        {
         "customdata": [
          [
           16
          ],
          [
           20
          ],
          [
           49
          ]
         ],
         "hovertemplate": "<b>%{hovertext}</b><br><br>common_name=Vesper Sparrow<br>latitude=%{lat}<br>longitude=%{lon}<br>length_seconds=%{customdata[0]}<extra></extra>",
         "hovertext": [
          "Vesper Sparrow",
          "Vesper Sparrow",
          "Vesper Sparrow"
         ],
         "lat": [
          41.93338,
          41.93338,
          41.93338
         ],
         "legendgroup": "Vesper Sparrow",
         "lon": [
          -83.54994,
          -83.54994,
          -83.54994
         ],
         "marker": {
          "color": "#FECB52"
         },
         "mode": "markers",
         "name": "Vesper Sparrow",
         "showlegend": true,
         "subplot": "mapbox",
         "type": "scattermapbox"
        },
        {
         "customdata": [
          [
           19
          ],
          [
           12
          ],
          [
           71
          ],
          [
           31
          ],
          [
           22
          ]
         ],
         "hovertemplate": "<b>%{hovertext}</b><br><br>common_name=Henslow's Sparrow<br>latitude=%{lat}<br>longitude=%{lon}<br>length_seconds=%{customdata[0]}<extra></extra>",
         "hovertext": [
          "Henslow's Sparrow",
          "Henslow's Sparrow",
          "Henslow's Sparrow",
          "Henslow's Sparrow",
          "Henslow's Sparrow"
         ],
         "lat": [
          39.2976,
          39.919,
          39.919,
          39.283,
          39.917
         ],
         "legendgroup": "Henslow's Sparrow",
         "lon": [
          -84.6927,
          -83.2065,
          -83.2065,
          -84.7459,
          -83.207
         ],
         "marker": {
          "color": "#636efa"
         },
         "mode": "markers",
         "name": "Henslow's Sparrow",
         "showlegend": true,
         "subplot": "mapbox",
         "type": "scattermapbox"
        },
        {
         "customdata": [
          [
           25
          ],
          [
           36
          ],
          [
           43
          ],
          [
           23
          ],
          [
           59
          ],
          [
           28
          ],
          [
           16
          ],
          [
           3
          ],
          [
           34
          ]
         ],
         "hovertemplate": "<b>%{hovertext}</b><br><br>common_name=Song Sparrow<br>latitude=%{lat}<br>longitude=%{lon}<br>length_seconds=%{customdata[0]}<extra></extra>",
         "hovertext": [
          "Song Sparrow",
          "Song Sparrow",
          "Song Sparrow",
          "Song Sparrow",
          "Song Sparrow",
          "Song Sparrow",
          "Song Sparrow",
          "Song Sparrow",
          "Song Sparrow"
         ],
         "lat": [
          41.6275,
          41.6275,
          39.1767,
          41.9501,
          39.941,
          39.283,
          41.5445,
          41.93338,
          41.93338
         ],
         "legendgroup": "Song Sparrow",
         "lon": [
          -83.1897,
          -83.1897,
          -84.6557,
          -82.5237,
          -83.225,
          -84.7459,
          -83.8462,
          -83.54994,
          -83.54994
         ],
         "marker": {
          "color": "#EF553B"
         },
         "mode": "markers",
         "name": "Song Sparrow",
         "showlegend": true,
         "subplot": "mapbox",
         "type": "scattermapbox"
        },
        {
         "customdata": [
          [
           10
          ],
          [
           6
          ],
          [
           1
          ],
          [
           21
          ]
         ],
         "hovertemplate": "<b>%{hovertext}</b><br><br>common_name=Swamp Sparrow<br>latitude=%{lat}<br>longitude=%{lon}<br>length_seconds=%{customdata[0]}<extra></extra>",
         "hovertext": [
          "Swamp Sparrow",
          "Swamp Sparrow",
          "Swamp Sparrow",
          "Swamp Sparrow"
         ],
         "lat": [
          39.283,
          39.919,
          41.9681,
          41.169
         ],
         "legendgroup": "Swamp Sparrow",
         "lon": [
          -84.7459,
          -83.2065,
          -82.531,
          -81.572
         ],
         "marker": {
          "color": "#00cc96"
         },
         "mode": "markers",
         "name": "Swamp Sparrow",
         "showlegend": true,
         "subplot": "mapbox",
         "type": "scattermapbox"
        },
        {
         "customdata": [
          [
           37
          ],
          [
           43
          ],
          [
           22
          ],
          [
           44
          ],
          [
           18
          ],
          [
           31
          ],
          [
           59
          ],
          [
           22
          ],
          [
           50
          ],
          [
           43
          ],
          [
           20
          ],
          [
           14
          ],
          [
           4
          ],
          [
           11
          ],
          [
           5
          ]
         ],
         "hovertemplate": "<b>%{hovertext}</b><br><br>common_name=Eastern Towhee<br>latitude=%{lat}<br>longitude=%{lon}<br>length_seconds=%{customdata[0]}<extra></extra>",
         "hovertext": [
          "Eastern Towhee",
          "Eastern Towhee",
          "Eastern Towhee",
          "Eastern Towhee",
          "Eastern Towhee",
          "Eastern Towhee",
          "Eastern Towhee",
          "Eastern Towhee",
          "Eastern Towhee",
          "Eastern Towhee",
          "Eastern Towhee",
          "Eastern Towhee",
          "Eastern Towhee",
          "Eastern Towhee",
          "Eastern Towhee"
         ],
         "lat": [
          38.7592,
          41.9501,
          39.1723,
          39.1914,
          41.9563,
          38.7638,
          39.3439,
          38.7421,
          39.017,
          41.8778,
          41.93338,
          39.017,
          41.8778,
          41.93338,
          41.5434
         ],
         "legendgroup": "Eastern Towhee",
         "lon": [
          -83.4072,
          -82.5237,
          -84.6432,
          -84.7174,
          -82.5268,
          -83.463,
          -84.6688,
          -83.2649,
          -84.1259,
          -83.6853,
          -83.54994,
          -84.1259,
          -83.6853,
          -83.54994,
          -83.8394
         ],
         "marker": {
          "color": "#ab63fa"
         },
         "mode": "markers",
         "name": "Eastern Towhee",
         "showlegend": true,
         "subplot": "mapbox",
         "type": "scattermapbox"
        },
        {
         "customdata": [
          [
           88
          ],
          [
           24
          ]
         ],
         "hovertemplate": "<b>%{hovertext}</b><br><br>common_name=Yellow-breasted Chat<br>latitude=%{lat}<br>longitude=%{lon}<br>length_seconds=%{customdata[0]}<extra></extra>",
         "hovertext": [
          "Yellow-breasted Chat",
          "Yellow-breasted Chat"
         ],
         "lat": [
          39.1915,
          39.1317
         ],
         "legendgroup": "Yellow-breasted Chat",
         "lon": [
          -84.7179,
          -84.7973
         ],
         "marker": {
          "color": "#FFA15A"
         },
         "mode": "markers",
         "name": "Yellow-breasted Chat",
         "showlegend": true,
         "subplot": "mapbox",
         "type": "scattermapbox"
        },
        {
         "customdata": [
          [
           60
          ]
         ],
         "hovertemplate": "<b>%{hovertext}</b><br><br>common_name=Bobolink<br>latitude=%{lat}<br>longitude=%{lon}<br>length_seconds=%{customdata[0]}<extra></extra>",
         "hovertext": [
          "Bobolink"
         ],
         "lat": [
          41.496
         ],
         "legendgroup": "Bobolink",
         "lon": [
          -81.423
         ],
         "marker": {
          "color": "#19d3f3"
         },
         "mode": "markers",
         "name": "Bobolink",
         "showlegend": true,
         "subplot": "mapbox",
         "type": "scattermapbox"
        },
        {
         "customdata": [
          [
           3
          ]
         ],
         "hovertemplate": "<b>%{hovertext}</b><br><br>common_name=Western Meadowlark<br>latitude=%{lat}<br>longitude=%{lon}<br>length_seconds=%{customdata[0]}<extra></extra>",
         "hovertext": [
          "Western Meadowlark"
         ],
         "lat": [
          41.7453
         ],
         "legendgroup": "Western Meadowlark",
         "lon": [
          -83.8003
         ],
         "marker": {
          "color": "#FF6692"
         },
         "mode": "markers",
         "name": "Western Meadowlark",
         "showlegend": true,
         "subplot": "mapbox",
         "type": "scattermapbox"
        },
        {
         "customdata": [
          [
           30
          ],
          [
           29
          ]
         ],
         "hovertemplate": "<b>%{hovertext}</b><br><br>common_name=Eastern Meadowlark<br>latitude=%{lat}<br>longitude=%{lon}<br>length_seconds=%{customdata[0]}<extra></extra>",
         "hovertext": [
          "Eastern Meadowlark",
          "Eastern Meadowlark"
         ],
         "lat": [
          39.3594,
          39.3594
         ],
         "legendgroup": "Eastern Meadowlark",
         "lon": [
          -84.3552,
          -84.3552
         ],
         "marker": {
          "color": "#B6E880"
         },
         "mode": "markers",
         "name": "Eastern Meadowlark",
         "showlegend": true,
         "subplot": "mapbox",
         "type": "scattermapbox"
        },
        {
         "customdata": [
          [
           105
          ],
          [
           29
          ],
          [
           25
          ],
          [
           6
          ],
          [
           27
          ],
          [
           10
          ],
          [
           29
          ],
          [
           30
          ],
          [
           193
          ],
          [
           225
          ],
          [
           42
          ],
          [
           15
          ],
          [
           19
          ],
          [
           43
          ],
          [
           5
          ],
          [
           46
          ],
          [
           41
          ],
          [
           102
          ]
         ],
         "hovertemplate": "<b>%{hovertext}</b><br><br>common_name=Baltimore Oriole<br>latitude=%{lat}<br>longitude=%{lon}<br>length_seconds=%{customdata[0]}<extra></extra>",
         "hovertext": [
          "Baltimore Oriole",
          "Baltimore Oriole",
          "Baltimore Oriole",
          "Baltimore Oriole",
          "Baltimore Oriole",
          "Baltimore Oriole",
          "Baltimore Oriole",
          "Baltimore Oriole",
          "Baltimore Oriole",
          "Baltimore Oriole",
          "Baltimore Oriole",
          "Baltimore Oriole",
          "Baltimore Oriole",
          "Baltimore Oriole",
          "Baltimore Oriole",
          "Baltimore Oriole",
          "Baltimore Oriole",
          "Baltimore Oriole"
         ],
         "lat": [
          41.6275,
          41.6275,
          41.9501,
          39.2095,
          39.1237,
          41.9494,
          40.1842,
          40.1842,
          41.6275,
          41.6275,
          41.6275,
          39.2535,
          39.2535,
          39.8161,
          41.6122,
          41.4153,
          41.93338,
          41.6275
         ],
         "legendgroup": "Baltimore Oriole",
         "lon": [
          -83.1897,
          -83.1897,
          -82.5237,
          -84.7821,
          -84.5904,
          -82.5122,
          -83.9647,
          -83.9647,
          -83.1897,
          -83.1897,
          -83.1897,
          -84.763,
          -84.763,
          -84.2254,
          -83.1723,
          -82.8291,
          -83.54994,
          -83.1897
         ],
         "marker": {
          "color": "#FF97FF"
         },
         "mode": "markers",
         "name": "Baltimore Oriole",
         "showlegend": true,
         "subplot": "mapbox",
         "type": "scattermapbox"
        },
        {
         "customdata": [
          [
           80
          ],
          [
           83
          ],
          [
           78
          ],
          [
           85
          ],
          [
           44
          ],
          [
           43
          ]
         ],
         "hovertemplate": "<b>%{hovertext}</b><br><br>common_name=Orchard Oriole<br>latitude=%{lat}<br>longitude=%{lon}<br>length_seconds=%{customdata[0]}<extra></extra>",
         "hovertext": [
          "Orchard Oriole",
          "Orchard Oriole",
          "Orchard Oriole",
          "Orchard Oriole",
          "Orchard Oriole",
          "Orchard Oriole"
         ],
         "lat": [
          41.6847,
          41.6156,
          40.06,
          40.06,
          41.77227,
          41.77227
         ],
         "legendgroup": "Orchard Oriole",
         "lon": [
          -83.395,
          -83.216,
          -83.197,
          -83.197,
          -83.70994,
          -83.70994
         ],
         "marker": {
          "color": "#FECB52"
         },
         "mode": "markers",
         "name": "Orchard Oriole",
         "showlegend": true,
         "subplot": "mapbox",
         "type": "scattermapbox"
        },
        {
         "customdata": [
          [
           18
          ],
          [
           450
          ],
          [
           182
          ],
          [
           44
          ],
          [
           45
          ],
          [
           47
          ],
          [
           24
          ],
          [
           38
          ],
          [
           50
          ],
          [
           32
          ],
          [
           5
          ],
          [
           49
          ],
          [
           101
          ],
          [
           61
          ],
          [
           19
          ],
          [
           54
          ],
          [
           3
          ],
          [
           111
          ]
         ],
         "hovertemplate": "<b>%{hovertext}</b><br><br>common_name=Red-winged Blackbird<br>latitude=%{lat}<br>longitude=%{lon}<br>length_seconds=%{customdata[0]}<extra></extra>",
         "hovertext": [
          "Red-winged Blackbird",
          "Red-winged Blackbird",
          "Red-winged Blackbird",
          "Red-winged Blackbird",
          "Red-winged Blackbird",
          "Red-winged Blackbird",
          "Red-winged Blackbird",
          "Red-winged Blackbird",
          "Red-winged Blackbird",
          "Red-winged Blackbird",
          "Red-winged Blackbird",
          "Red-winged Blackbird",
          "Red-winged Blackbird",
          "Red-winged Blackbird",
          "Red-winged Blackbird",
          "Red-winged Blackbird",
          "Red-winged Blackbird",
          "Red-winged Blackbird"
         ],
         "lat": [
          40.1842,
          41.6275,
          41.6275,
          39.8031,
          39.1237,
          40.503,
          41.9628,
          39.919,
          39.919,
          41.4512,
          39.919,
          39.3439,
          39.2855,
          41.496,
          41.62116,
          41.6802,
          41.6802,
          39.2855
         ],
         "legendgroup": "Red-winged Blackbird",
         "lon": [
          -83.9647,
          -83.1897,
          -83.1897,
          -84.2047,
          -84.5904,
          -84.4574,
          -82.5184,
          -83.2065,
          -83.2065,
          -82.6645,
          -83.2065,
          -84.6688,
          -84.7424,
          -81.423,
          -83.16103,
          -83.3519,
          -83.3519,
          -84.7424
         ],
         "marker": {
          "color": "#636efa"
         },
         "mode": "markers",
         "name": "Red-winged Blackbird",
         "showlegend": true,
         "subplot": "mapbox",
         "type": "scattermapbox"
        },
        {
         "customdata": [
          [
           29
          ],
          [
           12
          ],
          [
           3
          ]
         ],
         "hovertemplate": "<b>%{hovertext}</b><br><br>common_name=Brown-headed Cowbird<br>latitude=%{lat}<br>longitude=%{lon}<br>length_seconds=%{customdata[0]}<extra></extra>",
         "hovertext": [
          "Brown-headed Cowbird",
          "Brown-headed Cowbird",
          "Brown-headed Cowbird"
         ],
         "lat": [
          39.1914,
          41.9278,
          40.5652
         ],
         "legendgroup": "Brown-headed Cowbird",
         "lon": [
          -84.7174,
          -82.5122,
          -83.6255
         ],
         "marker": {
          "color": "#EF553B"
         },
         "mode": "markers",
         "name": "Brown-headed Cowbird",
         "showlegend": true,
         "subplot": "mapbox",
         "type": "scattermapbox"
        },
        {
         "customdata": [
          [
           23
          ],
          [
           65
          ],
          [
           28
          ]
         ],
         "hovertemplate": "<b>%{hovertext}</b><br><br>common_name=Rusty Blackbird<br>latitude=%{lat}<br>longitude=%{lon}<br>length_seconds=%{customdata[0]}<extra></extra>",
         "hovertext": [
          "Rusty Blackbird",
          "Rusty Blackbird",
          "Rusty Blackbird"
         ],
         "lat": [
          41.9017,
          41.017,
          41.62116
         ],
         "legendgroup": "Rusty Blackbird",
         "lon": [
          -83.7812,
          -81.5203,
          -83.16103
         ],
         "marker": {
          "color": "#00cc96"
         },
         "mode": "markers",
         "name": "Rusty Blackbird",
         "showlegend": true,
         "subplot": "mapbox",
         "type": "scattermapbox"
        },
        {
         "customdata": [
          [
           5
          ],
          [
           37
          ]
         ],
         "hovertemplate": "<b>%{hovertext}</b><br><br>common_name=Common Grackle<br>latitude=%{lat}<br>longitude=%{lon}<br>length_seconds=%{customdata[0]}<extra></extra>",
         "hovertext": [
          "Common Grackle",
          "Common Grackle"
         ],
         "lat": [
          41.9298,
          39.8031
         ],
         "legendgroup": "Common Grackle",
         "lon": [
          -82.5077,
          -84.2047
         ],
         "marker": {
          "color": "#ab63fa"
         },
         "mode": "markers",
         "name": "Common Grackle",
         "showlegend": true,
         "subplot": "mapbox",
         "type": "scattermapbox"
        },
        {
         "customdata": [
          [
           41
          ],
          [
           36
          ],
          [
           4
          ],
          [
           47
          ],
          [
           3
          ],
          [
           2
          ],
          [
           2
          ],
          [
           2
          ],
          [
           3
          ]
         ],
         "hovertemplate": "<b>%{hovertext}</b><br><br>common_name=Ovenbird<br>latitude=%{lat}<br>longitude=%{lon}<br>length_seconds=%{customdata[0]}<extra></extra>",
         "hovertext": [
          "Ovenbird",
          "Ovenbird",
          "Ovenbird",
          "Ovenbird",
          "Ovenbird",
          "Ovenbird",
          "Ovenbird",
          "Ovenbird",
          "Ovenbird"
         ],
         "lat": [
          41.5495,
          39.2453,
          38.7047,
          38.9941,
          41.62116,
          41.62116,
          41.62116,
          41.62116,
          41.62116
         ],
         "legendgroup": "Ovenbird",
         "lon": [
          -83.8537,
          -84.7581,
          -83.1429,
          -84.7316,
          -83.16103,
          -83.16103,
          -83.16103,
          -83.16103,
          -83.16103
         ],
         "marker": {
          "color": "#FFA15A"
         },
         "mode": "markers",
         "name": "Ovenbird",
         "showlegend": true,
         "subplot": "mapbox",
         "type": "scattermapbox"
        },
        {
         "customdata": [
          [
           46
          ],
          [
           134
          ],
          [
           10
          ],
          [
           31
          ]
         ],
         "hovertemplate": "<b>%{hovertext}</b><br><br>common_name=Louisiana Waterthrush<br>latitude=%{lat}<br>longitude=%{lon}<br>length_seconds=%{customdata[0]}<extra></extra>",
         "hovertext": [
          "Louisiana Waterthrush",
          "Louisiana Waterthrush",
          "Louisiana Waterthrush",
          "Louisiana Waterthrush"
         ],
         "lat": [
          39.2432,
          39.2542,
          38.7421,
          39.0767
         ],
         "legendgroup": "Louisiana Waterthrush",
         "lon": [
          -84.7609,
          -84.7499,
          -83.2649,
          -84.4156
         ],
         "marker": {
          "color": "#19d3f3"
         },
         "mode": "markers",
         "name": "Louisiana Waterthrush",
         "showlegend": true,
         "subplot": "mapbox",
         "type": "scattermapbox"
        },
        {
         "customdata": [
          [
           34
          ],
          [
           15
          ],
          [
           32
          ],
          [
           40
          ],
          [
           27
          ],
          [
           3
          ],
          [
           24
          ]
         ],
         "hovertemplate": "<b>%{hovertext}</b><br><br>common_name=Northern Waterthrush<br>latitude=%{lat}<br>longitude=%{lon}<br>length_seconds=%{customdata[0]}<extra></extra>",
         "hovertext": [
          "Northern Waterthrush",
          "Northern Waterthrush",
          "Northern Waterthrush",
          "Northern Waterthrush",
          "Northern Waterthrush",
          "Northern Waterthrush",
          "Northern Waterthrush"
         ],
         "lat": [
          41.6275,
          41.9501,
          41.6122,
          41.6122,
          41.6122,
          41.2184,
          41.62116
         ],
         "legendgroup": "Northern Waterthrush",
         "lon": [
          -83.1897,
          -82.5237,
          -83.1723,
          -83.1723,
          -83.1723,
          -81.5249,
          -83.16103
         ],
         "marker": {
          "color": "#FF6692"
         },
         "mode": "markers",
         "name": "Northern Waterthrush",
         "showlegend": true,
         "subplot": "mapbox",
         "type": "scattermapbox"
        },
        {
         "customdata": [
          [
           7
          ],
          [
           21
          ],
          [
           5
          ],
          [
           35
          ],
          [
           5
          ]
         ],
         "hovertemplate": "<b>%{hovertext}</b><br><br>common_name=Golden-winged Warbler<br>latitude=%{lat}<br>longitude=%{lon}<br>length_seconds=%{customdata[0]}<extra></extra>",
         "hovertext": [
          "Golden-winged Warbler",
          "Golden-winged Warbler",
          "Golden-winged Warbler",
          "Golden-winged Warbler",
          "Golden-winged Warbler"
         ],
         "lat": [
          41.6275,
          40.355,
          39.993,
          39.993,
          39.993
         ],
         "legendgroup": "Golden-winged Warbler",
         "lon": [
          -83.1897,
          -82.924,
          -83.249,
          -83.249,
          -83.249
         ],
         "marker": {
          "color": "#B6E880"
         },
         "mode": "markers",
         "name": "Golden-winged Warbler",
         "showlegend": true,
         "subplot": "mapbox",
         "type": "scattermapbox"
        },
        {
         "customdata": [
          [
           68
          ],
          [
           4
          ],
          [
           48
          ],
          [
           55
          ],
          [
           11
          ],
          [
           41
          ],
          [
           60
          ],
          [
           32
          ],
          [
           14
          ],
          [
           68
          ]
         ],
         "hovertemplate": "<b>%{hovertext}</b><br><br>common_name=Blue-winged Warbler<br>latitude=%{lat}<br>longitude=%{lon}<br>length_seconds=%{customdata[0]}<extra></extra>",
         "hovertext": [
          "Blue-winged Warbler",
          "Blue-winged Warbler",
          "Blue-winged Warbler",
          "Blue-winged Warbler",
          "Blue-winged Warbler",
          "Blue-winged Warbler",
          "Blue-winged Warbler",
          "Blue-winged Warbler",
          "Blue-winged Warbler",
          "Blue-winged Warbler"
         ],
         "lat": [
          41.6529,
          41.6529,
          41.6529,
          41.5445,
          38.7047,
          39.245,
          41.5434,
          41.8778,
          41.8778,
          41.8778
         ],
         "legendgroup": "Blue-winged Warbler",
         "lon": [
          -83.779,
          -83.779,
          -83.779,
          -83.8462,
          -83.1429,
          -84.727,
          -83.8394,
          -83.6853,
          -83.6853,
          -83.6853
         ],
         "marker": {
          "color": "#FF97FF"
         },
         "mode": "markers",
         "name": "Blue-winged Warbler",
         "showlegend": true,
         "subplot": "mapbox",
         "type": "scattermapbox"
        },
        {
         "customdata": [
          [
           45
          ],
          [
           3
          ],
          [
           23
          ],
          [
           124
          ],
          [
           6
          ],
          [
           4
          ],
          [
           21
          ],
          [
           5
          ]
         ],
         "hovertemplate": "<b>%{hovertext}</b><br><br>common_name=Black-and-white Warbler<br>latitude=%{lat}<br>longitude=%{lon}<br>length_seconds=%{customdata[0]}<extra></extra>",
         "hovertext": [
          "Black-and-white Warbler",
          "Black-and-white Warbler",
          "Black-and-white Warbler",
          "Black-and-white Warbler",
          "Black-and-white Warbler",
          "Black-and-white Warbler",
          "Black-and-white Warbler",
          "Black-and-white Warbler"
         ],
         "lat": [
          38.7047,
          41.6122,
          41.6122,
          41.6275,
          41.6122,
          41.62116,
          41.62116,
          41.62116
         ],
         "legendgroup": "Black-and-white Warbler",
         "lon": [
          -83.1429,
          -83.1723,
          -83.1723,
          -83.1897,
          -83.1723,
          -83.16103,
          -83.16103,
          -83.16103
         ],
         "marker": {
          "color": "#FECB52"
         },
         "mode": "markers",
         "name": "Black-and-white Warbler",
         "showlegend": true,
         "subplot": "mapbox",
         "type": "scattermapbox"
        },
        {
         "customdata": [
          [
           99
          ],
          [
           138
          ],
          [
           80
          ],
          [
           35
          ],
          [
           19
          ],
          [
           24
          ],
          [
           29
          ],
          [
           33
          ],
          [
           60
          ]
         ],
         "hovertemplate": "<b>%{hovertext}</b><br><br>common_name=Prothonotary Warbler<br>latitude=%{lat}<br>longitude=%{lon}<br>length_seconds=%{customdata[0]}<extra></extra>",
         "hovertext": [
          "Prothonotary Warbler",
          "Prothonotary Warbler",
          "Prothonotary Warbler",
          "Prothonotary Warbler",
          "Prothonotary Warbler",
          "Prothonotary Warbler",
          "Prothonotary Warbler",
          "Prothonotary Warbler",
          "Prothonotary Warbler"
         ],
         "lat": [
          41.9338,
          41.6275,
          41.6275,
          39.1317,
          41.9255,
          41.6275,
          41.6275,
          41.3246,
          39.0767
         ],
         "legendgroup": "Prothonotary Warbler",
         "lon": [
          -82.5111,
          -83.1897,
          -83.1897,
          -84.7973,
          -82.5082,
          -83.1897,
          -83.1897,
          -81.5878,
          -84.4156
         ],
         "marker": {
          "color": "#636efa"
         },
         "mode": "markers",
         "name": "Prothonotary Warbler",
         "showlegend": true,
         "subplot": "mapbox",
         "type": "scattermapbox"
        },
        {
         "customdata": [
          [
           29
          ],
          [
           3
          ],
          [
           32
          ],
          [
           45
          ],
          [
           4
          ],
          [
           3
          ],
          [
           16
          ],
          [
           43
          ],
          [
           14
          ],
          [
           33
          ]
         ],
         "hovertemplate": "<b>%{hovertext}</b><br><br>common_name=Tennessee Warbler<br>latitude=%{lat}<br>longitude=%{lon}<br>length_seconds=%{customdata[0]}<extra></extra>",
         "hovertext": [
          "Tennessee Warbler",
          "Tennessee Warbler",
          "Tennessee Warbler",
          "Tennessee Warbler",
          "Tennessee Warbler",
          "Tennessee Warbler",
          "Tennessee Warbler",
          "Tennessee Warbler",
          "Tennessee Warbler",
          "Tennessee Warbler"
         ],
         "lat": [
          39.2453,
          41.6296,
          39.192,
          41.4512,
          41.6122,
          41.6122,
          41.6122,
          41.6275,
          41.6122,
          41.6296
         ],
         "legendgroup": "Tennessee Warbler",
         "lon": [
          -84.7581,
          -83.1993,
          -84.555,
          -82.6645,
          -83.1723,
          -83.1723,
          -83.1723,
          -83.1897,
          -83.1723,
          -83.1993
         ],
         "marker": {
          "color": "#EF553B"
         },
         "mode": "markers",
         "name": "Tennessee Warbler",
         "showlegend": true,
         "subplot": "mapbox",
         "type": "scattermapbox"
        },
        {
         "customdata": [
          [
           33
          ]
         ],
         "hovertemplate": "<b>%{hovertext}</b><br><br>common_name=Orange-crowned Warbler<br>latitude=%{lat}<br>longitude=%{lon}<br>length_seconds=%{customdata[0]}<extra></extra>",
         "hovertext": [
          "Orange-crowned Warbler"
         ],
         "lat": [
          39.192
         ],
         "legendgroup": "Orange-crowned Warbler",
         "lon": [
          -84.555
         ],
         "marker": {
          "color": "#00cc96"
         },
         "mode": "markers",
         "name": "Orange-crowned Warbler",
         "showlegend": true,
         "subplot": "mapbox",
         "type": "scattermapbox"
        },
        {
         "customdata": [
          [
           21
          ],
          [
           19
          ]
         ],
         "hovertemplate": "<b>%{hovertext}</b><br><br>common_name=Nashville Warbler<br>latitude=%{lat}<br>longitude=%{lon}<br>length_seconds=%{customdata[0]}<extra></extra>",
         "hovertext": [
          "Nashville Warbler",
          "Nashville Warbler"
         ],
         "lat": [
          39.1722,
          39.192
         ],
         "legendgroup": "Nashville Warbler",
         "lon": [
          -84.643,
          -84.555
         ],
         "marker": {
          "color": "#ab63fa"
         },
         "mode": "markers",
         "name": "Nashville Warbler",
         "showlegend": true,
         "subplot": "mapbox",
         "type": "scattermapbox"
        },
        {
         "customdata": [
          [
           39
          ],
          [
           54
          ],
          [
           201
          ]
         ],
         "hovertemplate": "<b>%{hovertext}</b><br><br>common_name=Connecticut Warbler<br>latitude=%{lat}<br>longitude=%{lon}<br>length_seconds=%{customdata[0]}<extra></extra>",
         "hovertext": [
          "Connecticut Warbler",
          "Connecticut Warbler",
          "Connecticut Warbler"
         ],
         "lat": [
          40.7167,
          41.9628,
          40.0723
         ],
         "legendgroup": "Connecticut Warbler",
         "lon": [
          -82.5434,
          -82.5184,
          -82.8736
         ],
         "marker": {
          "color": "#FFA15A"
         },
         "mode": "markers",
         "name": "Connecticut Warbler",
         "showlegend": true,
         "subplot": "mapbox",
         "type": "scattermapbox"
        },
        {
         "customdata": [
          [
           35
          ],
          [
           13
          ],
          [
           10
          ],
          [
           1
          ]
         ],
         "hovertemplate": "<b>%{hovertext}</b><br><br>common_name=Mourning Warbler<br>latitude=%{lat}<br>longitude=%{lon}<br>length_seconds=%{customdata[0]}<extra></extra>",
         "hovertext": [
          "Mourning Warbler",
          "Mourning Warbler",
          "Mourning Warbler",
          "Mourning Warbler"
         ],
         "lat": [
          40.0168,
          39.1722,
          41.0111,
          41.9628
         ],
         "legendgroup": "Mourning Warbler",
         "lon": [
          -83.0435,
          -84.643,
          -81.514,
          -82.5184
         ],
         "marker": {
          "color": "#19d3f3"
         },
         "mode": "markers",
         "name": "Mourning Warbler",
         "showlegend": true,
         "subplot": "mapbox",
         "type": "scattermapbox"
        },
        {
         "customdata": [
          [
           4
          ],
          [
           4
          ],
          [
           48
          ],
          [
           4
          ],
          [
           5
          ],
          [
           46
          ],
          [
           38
          ],
          [
           60
          ],
          [
           84
          ],
          [
           15
          ],
          [
           128
          ],
          [
           52
          ],
          [
           43
          ]
         ],
         "hovertemplate": "<b>%{hovertext}</b><br><br>common_name=Kentucky Warbler<br>latitude=%{lat}<br>longitude=%{lon}<br>length_seconds=%{customdata[0]}<extra></extra>",
         "hovertext": [
          "Kentucky Warbler",
          "Kentucky Warbler",
          "Kentucky Warbler",
          "Kentucky Warbler",
          "Kentucky Warbler",
          "Kentucky Warbler",
          "Kentucky Warbler",
          "Kentucky Warbler",
          "Kentucky Warbler",
          "Kentucky Warbler",
          "Kentucky Warbler",
          "Kentucky Warbler",
          "Kentucky Warbler"
         ],
         "lat": [
          38.7414,
          38.7047,
          38.7047,
          38.7047,
          38.7047,
          39.2432,
          39.2432,
          39.2432,
          41.5434,
          39.2453,
          40.073,
          41.8778,
          39.2453
         ],
         "legendgroup": "Kentucky Warbler",
         "lon": [
          -83.1977,
          -83.1429,
          -83.1429,
          -83.1429,
          -83.1429,
          -84.7609,
          -84.7609,
          -84.7609,
          -83.8394,
          -84.7581,
          -82.874,
          -83.6853,
          -84.7581
         ],
         "marker": {
          "color": "#FF6692"
         },
         "mode": "markers",
         "name": "Kentucky Warbler",
         "showlegend": true,
         "subplot": "mapbox",
         "type": "scattermapbox"
        },
        {
         "customdata": [
          [
           85
          ],
          [
           26
          ],
          [
           55
          ],
          [
           42
          ],
          [
           2
          ],
          [
           3
          ],
          [
           7
          ],
          [
           30
          ]
         ],
         "hovertemplate": "<b>%{hovertext}</b><br><br>common_name=Common Yellowthroat<br>latitude=%{lat}<br>longitude=%{lon}<br>length_seconds=%{customdata[0]}<extra></extra>",
         "hovertext": [
          "Common Yellowthroat",
          "Common Yellowthroat",
          "Common Yellowthroat",
          "Common Yellowthroat",
          "Common Yellowthroat",
          "Common Yellowthroat",
          "Common Yellowthroat",
          "Common Yellowthroat"
         ],
         "lat": [
          41.6275,
          41.9501,
          39.2095,
          39.1317,
          40.5652,
          39.017,
          39.919,
          41.1895
         ],
         "legendgroup": "Common Yellowthroat",
         "lon": [
          -83.1897,
          -82.5237,
          -84.7821,
          -84.7973,
          -83.6255,
          -84.1259,
          -83.2065,
          -81.5781
         ],
         "marker": {
          "color": "#B6E880"
         },
         "mode": "markers",
         "name": "Common Yellowthroat",
         "showlegend": true,
         "subplot": "mapbox",
         "type": "scattermapbox"
        },
        {
         "customdata": [
          [
           24
          ],
          [
           23
          ],
          [
           75
          ]
         ],
         "hovertemplate": "<b>%{hovertext}</b><br><br>common_name=Hooded Warbler<br>latitude=%{lat}<br>longitude=%{lon}<br>length_seconds=%{customdata[0]}<extra></extra>",
         "hovertext": [
          "Hooded Warbler",
          "Hooded Warbler",
          "Hooded Warbler"
         ],
         "lat": [
          39.2432,
          39.2453,
          41.3144
         ],
         "legendgroup": "Hooded Warbler",
         "lon": [
          -84.7609,
          -84.7581,
          -81.5996
         ],
         "marker": {
          "color": "#FF97FF"
         },
         "mode": "markers",
         "name": "Hooded Warbler",
         "showlegend": true,
         "subplot": "mapbox",
         "type": "scattermapbox"
        },
        {
         "customdata": [
          [
           285
          ],
          [
           40
          ],
          [
           30
          ],
          [
           49
          ],
          [
           32
          ],
          [
           144
          ],
          [
           228
          ],
          [
           8
          ],
          [
           29
          ],
          [
           48
          ],
          [
           4
          ]
         ],
         "hovertemplate": "<b>%{hovertext}</b><br><br>common_name=American Redstart<br>latitude=%{lat}<br>longitude=%{lon}<br>length_seconds=%{customdata[0]}<extra></extra>",
         "hovertext": [
          "American Redstart",
          "American Redstart",
          "American Redstart",
          "American Redstart",
          "American Redstart",
          "American Redstart",
          "American Redstart",
          "American Redstart",
          "American Redstart",
          "American Redstart",
          "American Redstart"
         ],
         "lat": [
          41.6275,
          39.1317,
          41.9112,
          41.1449,
          41.937,
          41.6275,
          41.6275,
          41.6122,
          41.6122,
          38.7047,
          38.7047
         ],
         "legendgroup": "American Redstart",
         "lon": [
          -83.1897,
          -84.7973,
          -82.5091,
          -81.0854,
          -82.51,
          -83.1897,
          -83.1897,
          -83.1723,
          -83.1723,
          -83.1429,
          -83.1429
         ],
         "marker": {
          "color": "#FECB52"
         },
         "mode": "markers",
         "name": "American Redstart",
         "showlegend": true,
         "subplot": "mapbox",
         "type": "scattermapbox"
        },
        {
         "customdata": [
          [
           1
          ],
          [
           150
          ]
         ],
         "hovertemplate": "<b>%{hovertext}</b><br><br>common_name=Kirtland's Warbler<br>latitude=%{lat}<br>longitude=%{lon}<br>length_seconds=%{customdata[0]}<extra></extra>",
         "hovertext": [
          "Kirtland's Warbler",
          "Kirtland's Warbler"
         ],
         "lat": [
          39.998,
          39.998
         ],
         "legendgroup": "Kirtland's Warbler",
         "lon": [
          -83.034,
          -83.034
         ],
         "marker": {
          "color": "#636efa"
         },
         "mode": "markers",
         "name": "Kirtland's Warbler",
         "showlegend": true,
         "subplot": "mapbox",
         "type": "scattermapbox"
        },
        {
         "customdata": [
          [
           2
          ],
          [
           25
          ],
          [
           16
          ],
          [
           21
          ],
          [
           7
          ]
         ],
         "hovertemplate": "<b>%{hovertext}</b><br><br>common_name=Cape May Warbler<br>latitude=%{lat}<br>longitude=%{lon}<br>length_seconds=%{customdata[0]}<extra></extra>",
         "hovertext": [
          "Cape May Warbler",
          "Cape May Warbler",
          "Cape May Warbler",
          "Cape May Warbler",
          "Cape May Warbler"
         ],
         "lat": [
          41.6122,
          41.6122,
          39.192,
          39.192,
          41.62116
         ],
         "legendgroup": "Cape May Warbler",
         "lon": [
          -83.1723,
          -83.1723,
          -84.555,
          -84.555,
          -83.16103
         ],
         "marker": {
          "color": "#EF553B"
         },
         "mode": "markers",
         "name": "Cape May Warbler",
         "showlegend": true,
         "subplot": "mapbox",
         "type": "scattermapbox"
        },
        {
         "customdata": [
          [
           4
          ],
          [
           52
          ],
          [
           17
          ],
          [
           20
          ],
          [
           3
          ]
         ],
         "hovertemplate": "<b>%{hovertext}</b><br><br>common_name=Cerulean Warbler<br>latitude=%{lat}<br>longitude=%{lon}<br>length_seconds=%{customdata[0]}<extra></extra>",
         "hovertext": [
          "Cerulean Warbler",
          "Cerulean Warbler",
          "Cerulean Warbler",
          "Cerulean Warbler",
          "Cerulean Warbler"
         ],
         "lat": [
          38.7047,
          38.7047,
          39.1317,
          38.7047,
          40.5652
         ],
         "legendgroup": "Cerulean Warbler",
         "lon": [
          -83.1429,
          -83.1429,
          -84.7973,
          -83.1429,
          -83.6255
         ],
         "marker": {
          "color": "#00cc96"
         },
         "mode": "markers",
         "name": "Cerulean Warbler",
         "showlegend": true,
         "subplot": "mapbox",
         "type": "scattermapbox"
        },
        {
         "customdata": [
          [
           8
          ],
          [
           7
          ],
          [
           50
          ],
          [
           38
          ],
          [
           9
          ],
          [
           4
          ],
          [
           47
          ],
          [
           4
          ],
          [
           11
          ],
          [
           19
          ]
         ],
         "hovertemplate": "<b>%{hovertext}</b><br><br>common_name=Northern Parula<br>latitude=%{lat}<br>longitude=%{lon}<br>length_seconds=%{customdata[0]}<extra></extra>",
         "hovertext": [
          "Northern Parula",
          "Northern Parula",
          "Northern Parula",
          "Northern Parula",
          "Northern Parula",
          "Northern Parula",
          "Northern Parula",
          "Northern Parula",
          "Northern Parula",
          "Northern Parula"
         ],
         "lat": [
          41.9355,
          41.6275,
          39.2535,
          39.1914,
          41.9669,
          41.6122,
          39.1278,
          41.6122,
          41.4885,
          39.9871
         ],
         "legendgroup": "Northern Parula",
         "lon": [
          -82.5109,
          -83.1897,
          -84.763,
          -84.7174,
          -82.5324,
          -83.1723,
          -84.7987,
          -83.1723,
          -81.5787,
          -83.244
         ],
         "marker": {
          "color": "#ab63fa"
         },
         "mode": "markers",
         "name": "Northern Parula",
         "showlegend": true,
         "subplot": "mapbox",
         "type": "scattermapbox"
        },
        {
         "customdata": [
          [
           90
          ],
          [
           83
          ],
          [
           95
          ],
          [
           28
          ],
          [
           32
          ]
         ],
         "hovertemplate": "<b>%{hovertext}</b><br><br>common_name=Magnolia Warbler<br>latitude=%{lat}<br>longitude=%{lon}<br>length_seconds=%{customdata[0]}<extra></extra>",
         "hovertext": [
          "Magnolia Warbler",
          "Magnolia Warbler",
          "Magnolia Warbler",
          "Magnolia Warbler",
          "Magnolia Warbler"
         ],
         "lat": [
          41.6275,
          41.6275,
          41.6275,
          41.4885,
          41.8778
         ],
         "legendgroup": "Magnolia Warbler",
         "lon": [
          -83.1897,
          -83.1897,
          -83.1897,
          -81.5787,
          -83.6853
         ],
         "marker": {
          "color": "#FFA15A"
         },
         "mode": "markers",
         "name": "Magnolia Warbler",
         "showlegend": true,
         "subplot": "mapbox",
         "type": "scattermapbox"
        },
        {
         "customdata": [
          [
           75
          ],
          [
           23
          ],
          [
           53
          ]
         ],
         "hovertemplate": "<b>%{hovertext}</b><br><br>common_name=Bay-breasted Warbler<br>latitude=%{lat}<br>longitude=%{lon}<br>length_seconds=%{customdata[0]}<extra></extra>",
         "hovertext": [
          "Bay-breasted Warbler",
          "Bay-breasted Warbler",
          "Bay-breasted Warbler"
         ],
         "lat": [
          39.8161,
          41.9494,
          39.8161
         ],
         "legendgroup": "Bay-breasted Warbler",
         "lon": [
          -84.2254,
          -82.5122,
          -84.2254
         ],
         "marker": {
          "color": "#19d3f3"
         },
         "mode": "markers",
         "name": "Bay-breasted Warbler",
         "showlegend": true,
         "subplot": "mapbox",
         "type": "scattermapbox"
        },
        {
         "customdata": [
          [
           11
          ],
          [
           5
          ]
         ],
         "hovertemplate": "<b>%{hovertext}</b><br><br>common_name=Blackburnian Warbler<br>latitude=%{lat}<br>longitude=%{lon}<br>length_seconds=%{customdata[0]}<extra></extra>",
         "hovertext": [
          "Blackburnian Warbler",
          "Blackburnian Warbler"
         ],
         "lat": [
          38.7047,
          41.9494
         ],
         "legendgroup": "Blackburnian Warbler",
         "lon": [
          -83.1429,
          -82.5122
         ],
         "marker": {
          "color": "#FF6692"
         },
         "mode": "markers",
         "name": "Blackburnian Warbler",
         "showlegend": true,
         "subplot": "mapbox",
         "type": "scattermapbox"
        },
        {
         "customdata": [
          [
           18
          ],
          [
           45
          ],
          [
           43
          ],
          [
           11
          ],
          [
           69
          ],
          [
           80
          ],
          [
           37
          ],
          [
           11
          ],
          [
           16
          ],
          [
           22
          ],
          [
           42
          ],
          [
           20
          ],
          [
           27
          ],
          [
           28
          ]
         ],
         "hovertemplate": "<b>%{hovertext}</b><br><br>common_name=American Yellow Warbler<br>latitude=%{lat}<br>longitude=%{lon}<br>length_seconds=%{customdata[0]}<extra></extra>",
         "hovertext": [
          "American Yellow Warbler",
          "American Yellow Warbler",
          "American Yellow Warbler",
          "American Yellow Warbler",
          "American Yellow Warbler",
          "American Yellow Warbler",
          "American Yellow Warbler",
          "American Yellow Warbler",
          "American Yellow Warbler",
          "American Yellow Warbler",
          "American Yellow Warbler",
          "American Yellow Warbler",
          "American Yellow Warbler",
          "American Yellow Warbler"
         ],
         "lat": [
          41.6275,
          41.9368,
          41.6275,
          41.6275,
          41.6275,
          41.6275,
          41.6275,
          39.2095,
          41.9628,
          41.6296,
          41.6802,
          41.62116,
          41.62116,
          41.62116
         ],
         "legendgroup": "American Yellow Warbler",
         "lon": [
          -83.1897,
          -82.5115,
          -83.1897,
          -83.1897,
          -83.1897,
          -83.1897,
          -83.1897,
          -84.7821,
          -82.5184,
          -83.1993,
          -83.3519,
          -83.16103,
          -83.16103,
          -83.16103
         ],
         "marker": {
          "color": "#B6E880"
         },
         "mode": "markers",
         "name": "American Yellow Warbler",
         "showlegend": true,
         "subplot": "mapbox",
         "type": "scattermapbox"
        },
        {
         "customdata": [
          [
           23
          ],
          [
           4
          ],
          [
           247
          ],
          [
           6
          ]
         ],
         "hovertemplate": "<b>%{hovertext}</b><br><br>common_name=Chestnut-sided Warbler<br>latitude=%{lat}<br>longitude=%{lon}<br>length_seconds=%{customdata[0]}<extra></extra>",
         "hovertext": [
          "Chestnut-sided Warbler",
          "Chestnut-sided Warbler",
          "Chestnut-sided Warbler",
          "Chestnut-sided Warbler"
         ],
         "lat": [
          41.9347,
          40.5652,
          41.6275,
          41.6275
         ],
         "legendgroup": "Chestnut-sided Warbler",
         "lon": [
          -82.5142,
          -83.6255,
          -83.1897,
          -83.1897
         ],
         "marker": {
          "color": "#FF97FF"
         },
         "mode": "markers",
         "name": "Chestnut-sided Warbler",
         "showlegend": true,
         "subplot": "mapbox",
         "type": "scattermapbox"
        },
        {
         "customdata": [
          [
           23
          ],
          [
           17
          ],
          [
           8
          ]
         ],
         "hovertemplate": "<b>%{hovertext}</b><br><br>common_name=Blackpoll Warbler<br>latitude=%{lat}<br>longitude=%{lon}<br>length_seconds=%{customdata[0]}<extra></extra>",
         "hovertext": [
          "Blackpoll Warbler",
          "Blackpoll Warbler",
          "Blackpoll Warbler"
         ],
         "lat": [
          39.2095,
          41.6122,
          41.6122
         ],
         "legendgroup": "Blackpoll Warbler",
         "lon": [
          -84.7821,
          -83.1723,
          -83.1723
         ],
         "marker": {
          "color": "#FECB52"
         },
         "mode": "markers",
         "name": "Blackpoll Warbler",
         "showlegend": true,
         "subplot": "mapbox",
         "type": "scattermapbox"
        },
        {
         "customdata": [
          [
           58
          ]
         ],
         "hovertemplate": "<b>%{hovertext}</b><br><br>common_name=Black-throated Blue Warbler<br>latitude=%{lat}<br>longitude=%{lon}<br>length_seconds=%{customdata[0]}<extra></extra>",
         "hovertext": [
          "Black-throated Blue Warbler"
         ],
         "lat": [
          41.6275
         ],
         "legendgroup": "Black-throated Blue Warbler",
         "lon": [
          -83.1897
         ],
         "marker": {
          "color": "#636efa"
         },
         "mode": "markers",
         "name": "Black-throated Blue Warbler",
         "showlegend": true,
         "subplot": "mapbox",
         "type": "scattermapbox"
        },
        {
         "customdata": [
          [
           3
          ],
          [
           4
          ],
          [
           59
          ],
          [
           19
          ]
         ],
         "hovertemplate": "<b>%{hovertext}</b><br><br>common_name=Palm Warbler<br>latitude=%{lat}<br>longitude=%{lon}<br>length_seconds=%{customdata[0]}<extra></extra>",
         "hovertext": [
          "Palm Warbler",
          "Palm Warbler",
          "Palm Warbler",
          "Palm Warbler"
         ],
         "lat": [
          41.62116,
          41.62116,
          41.62116,
          41.62116
         ],
         "legendgroup": "Palm Warbler",
         "lon": [
          -83.16103,
          -83.16103,
          -83.16103,
          -83.16103
         ],
         "marker": {
          "color": "#EF553B"
         },
         "mode": "markers",
         "name": "Palm Warbler",
         "showlegend": true,
         "subplot": "mapbox",
         "type": "scattermapbox"
        },
        {
         "customdata": [
          [
           39
          ],
          [
           21
          ],
          [
           63
          ]
         ],
         "hovertemplate": "<b>%{hovertext}</b><br><br>common_name=Pine Warbler<br>latitude=%{lat}<br>longitude=%{lon}<br>length_seconds=%{customdata[0]}<extra></extra>",
         "hovertext": [
          "Pine Warbler",
          "Pine Warbler",
          "Pine Warbler"
         ],
         "lat": [
          41.2134,
          39.1702,
          39.1702
         ],
         "legendgroup": "Pine Warbler",
         "lon": [
          -81.537,
          -84.7211,
          -84.7211
         ],
         "marker": {
          "color": "#00cc96"
         },
         "mode": "markers",
         "name": "Pine Warbler",
         "showlegend": true,
         "subplot": "mapbox",
         "type": "scattermapbox"
        },
        {
         "customdata": [
          [
           24
          ],
          [
           20
          ]
         ],
         "hovertemplate": "<b>%{hovertext}</b><br><br>common_name=Myrtle Warbler<br>latitude=%{lat}<br>longitude=%{lon}<br>length_seconds=%{customdata[0]}<extra></extra>",
         "hovertext": [
          "Myrtle Warbler",
          "Myrtle Warbler"
         ],
         "lat": [
          41.62116,
          39.1227
         ],
         "legendgroup": "Myrtle Warbler",
         "lon": [
          -83.16103,
          -84.3951
         ],
         "marker": {
          "color": "#ab63fa"
         },
         "mode": "markers",
         "name": "Myrtle Warbler",
         "showlegend": true,
         "subplot": "mapbox",
         "type": "scattermapbox"
        },
        {
         "customdata": [
          [
           32
          ],
          [
           42
          ]
         ],
         "hovertemplate": "<b>%{hovertext}</b><br><br>common_name=Yellow-throated Warbler<br>latitude=%{lat}<br>longitude=%{lon}<br>length_seconds=%{customdata[0]}<extra></extra>",
         "hovertext": [
          "Yellow-throated Warbler",
          "Yellow-throated Warbler"
         ],
         "lat": [
          39.419,
          39.1702
         ],
         "legendgroup": "Yellow-throated Warbler",
         "lon": [
          -84.735,
          -84.7211
         ],
         "marker": {
          "color": "#FFA15A"
         },
         "mode": "markers",
         "name": "Yellow-throated Warbler",
         "showlegend": true,
         "subplot": "mapbox",
         "type": "scattermapbox"
        },
        {
         "customdata": [
          [
           4
          ],
          [
           4
          ],
          [
           10
          ]
         ],
         "hovertemplate": "<b>%{hovertext}</b><br><br>common_name=Prairie Warbler<br>latitude=%{lat}<br>longitude=%{lon}<br>length_seconds=%{customdata[0]}<extra></extra>",
         "hovertext": [
          "Prairie Warbler",
          "Prairie Warbler",
          "Prairie Warbler"
         ],
         "lat": [
          38.9941,
          41.9493,
          41.9493
         ],
         "legendgroup": "Prairie Warbler",
         "lon": [
          -84.7316,
          -82.5165,
          -82.5165
         ],
         "marker": {
          "color": "#19d3f3"
         },
         "mode": "markers",
         "name": "Prairie Warbler",
         "showlegend": true,
         "subplot": "mapbox",
         "type": "scattermapbox"
        },
        {
         "customdata": [
          [
           31
          ]
         ],
         "hovertemplate": "<b>%{hovertext}</b><br><br>common_name=Black-throated Green Warbler<br>latitude=%{lat}<br>longitude=%{lon}<br>length_seconds=%{customdata[0]}<extra></extra>",
         "hovertext": [
          "Black-throated Green Warbler"
         ],
         "lat": [
          39.2542
         ],
         "legendgroup": "Black-throated Green Warbler",
         "lon": [
          -84.7499
         ],
         "marker": {
          "color": "#FF6692"
         },
         "mode": "markers",
         "name": "Black-throated Green Warbler",
         "showlegend": true,
         "subplot": "mapbox",
         "type": "scattermapbox"
        },
        {
         "customdata": [
          [
           53
          ],
          [
           41
          ],
          [
           225
          ],
          [
           238
          ],
          [
           12
          ]
         ],
         "hovertemplate": "<b>%{hovertext}</b><br><br>common_name=Canada Warbler<br>latitude=%{lat}<br>longitude=%{lon}<br>length_seconds=%{customdata[0]}<extra></extra>",
         "hovertext": [
          "Canada Warbler",
          "Canada Warbler",
          "Canada Warbler",
          "Canada Warbler",
          "Canada Warbler"
         ],
         "lat": [
          41.6275,
          40.0168,
          40.0168,
          40.0168,
          41.8778
         ],
         "legendgroup": "Canada Warbler",
         "lon": [
          -83.1897,
          -83.0435,
          -83.0435,
          -83.0435,
          -83.6853
         ],
         "marker": {
          "color": "#B6E880"
         },
         "mode": "markers",
         "name": "Canada Warbler",
         "showlegend": true,
         "subplot": "mapbox",
         "type": "scattermapbox"
        },
        {
         "customdata": [
          [
           155
          ]
         ],
         "hovertemplate": "<b>%{hovertext}</b><br><br>common_name=Wilson's Warbler<br>latitude=%{lat}<br>longitude=%{lon}<br>length_seconds=%{customdata[0]}<extra></extra>",
         "hovertext": [
          "Wilson's Warbler"
         ],
         "lat": [
          41.6275
         ],
         "legendgroup": "Wilson's Warbler",
         "lon": [
          -83.1897
         ],
         "marker": {
          "color": "#FF97FF"
         },
         "mode": "markers",
         "name": "Wilson's Warbler",
         "showlegend": true,
         "subplot": "mapbox",
         "type": "scattermapbox"
        },
        {
         "customdata": [
          [
           52
          ]
         ],
         "hovertemplate": "<b>%{hovertext}</b><br><br>common_name=Summer Tanager<br>latitude=%{lat}<br>longitude=%{lon}<br>length_seconds=%{customdata[0]}<extra></extra>",
         "hovertext": [
          "Summer Tanager"
         ],
         "lat": [
          41.6196
         ],
         "legendgroup": "Summer Tanager",
         "lon": [
          -83.7899
         ],
         "marker": {
          "color": "#FECB52"
         },
         "mode": "markers",
         "name": "Summer Tanager",
         "showlegend": true,
         "subplot": "mapbox",
         "type": "scattermapbox"
        },
        {
         "customdata": [
          [
           28
          ],
          [
           7
          ],
          [
           5
          ],
          [
           33
          ]
         ],
         "hovertemplate": "<b>%{hovertext}</b><br><br>common_name=Scarlet Tanager<br>latitude=%{lat}<br>longitude=%{lon}<br>length_seconds=%{customdata[0]}<extra></extra>",
         "hovertext": [
          "Scarlet Tanager",
          "Scarlet Tanager",
          "Scarlet Tanager",
          "Scarlet Tanager"
         ],
         "lat": [
          39.2432,
          39.3162,
          38.7047,
          39.017
         ],
         "legendgroup": "Scarlet Tanager",
         "lon": [
          -84.7609,
          -82.3121,
          -83.1429,
          -84.1259
         ],
         "marker": {
          "color": "#636efa"
         },
         "mode": "markers",
         "name": "Scarlet Tanager",
         "showlegend": true,
         "subplot": "mapbox",
         "type": "scattermapbox"
        },
        {
         "customdata": [
          [
           64
          ],
          [
           16
          ],
          [
           17
          ],
          [
           65
          ],
          [
           9
          ],
          [
           8
          ],
          [
           38
          ],
          [
           28
          ]
         ],
         "hovertemplate": "<b>%{hovertext}</b><br><br>common_name=Rose-breasted Grosbeak<br>latitude=%{lat}<br>longitude=%{lon}<br>length_seconds=%{customdata[0]}<extra></extra>",
         "hovertext": [
          "Rose-breasted Grosbeak",
          "Rose-breasted Grosbeak",
          "Rose-breasted Grosbeak",
          "Rose-breasted Grosbeak",
          "Rose-breasted Grosbeak",
          "Rose-breasted Grosbeak",
          "Rose-breasted Grosbeak",
          "Rose-breasted Grosbeak"
         ],
         "lat": [
          39.2453,
          41.9628,
          41.9414,
          41.5445,
          38.7047,
          41.9628,
          41.6802,
          41.62116
         ],
         "legendgroup": "Rose-breasted Grosbeak",
         "lon": [
          -84.7581,
          -82.5184,
          -82.518,
          -83.8462,
          -83.1429,
          -82.5184,
          -83.3519,
          -83.16103
         ],
         "marker": {
          "color": "#EF553B"
         },
         "mode": "markers",
         "name": "Rose-breasted Grosbeak",
         "showlegend": true,
         "subplot": "mapbox",
         "type": "scattermapbox"
        },
        {
         "customdata": [
          [
           6
          ],
          [
           138
          ],
          [
           60
          ],
          [
           65
          ],
          [
           4
          ],
          [
           576
          ],
          [
           15
          ],
          [
           61
          ],
          [
           43
          ],
          [
           8
          ],
          [
           5
          ],
          [
           16
          ]
         ],
         "hovertemplate": "<b>%{hovertext}</b><br><br>common_name=Northern Cardinal<br>latitude=%{lat}<br>longitude=%{lon}<br>length_seconds=%{customdata[0]}<extra></extra>",
         "hovertext": [
          "Northern Cardinal",
          "Northern Cardinal",
          "Northern Cardinal",
          "Northern Cardinal",
          "Northern Cardinal",
          "Northern Cardinal",
          "Northern Cardinal",
          "Northern Cardinal",
          "Northern Cardinal",
          "Northern Cardinal",
          "Northern Cardinal",
          "Northern Cardinal"
         ],
         "lat": [
          39.0664,
          39.1773,
          39.1914,
          39.1756,
          39.1914,
          39.192,
          39.1767,
          41.6275,
          39.1196,
          39.1722,
          39.5734,
          39.017
         ],
         "legendgroup": "Northern Cardinal",
         "lon": [
          -84.2805,
          -84.6556,
          -84.7174,
          -84.5274,
          -84.7174,
          -84.555,
          -84.6557,
          -83.1897,
          -84.5989,
          -84.643,
          -84.0131,
          -84.1259
         ],
         "marker": {
          "color": "#00cc96"
         },
         "mode": "markers",
         "name": "Northern Cardinal",
         "showlegend": true,
         "subplot": "mapbox",
         "type": "scattermapbox"
        },
        {
         "customdata": [
          [
           15
          ],
          [
           80
          ],
          [
           46
          ]
         ],
         "hovertemplate": "<b>%{hovertext}</b><br><br>common_name=Dickcissel<br>latitude=%{lat}<br>longitude=%{lon}<br>length_seconds=%{customdata[0]}<extra></extra>",
         "hovertext": [
          "Dickcissel",
          "Dickcissel",
          "Dickcissel"
         ],
         "lat": [
          40.9734,
          39.915,
          41.77227
         ],
         "legendgroup": "Dickcissel",
         "lon": [
          -81.6073,
          -83.21,
          -83.70994
         ],
         "marker": {
          "color": "#ab63fa"
         },
         "mode": "markers",
         "name": "Dickcissel",
         "showlegend": true,
         "subplot": "mapbox",
         "type": "scattermapbox"
        },
        {
         "customdata": [
          [
           41
          ],
          [
           34
          ],
          [
           33
          ],
          [
           4
          ],
          [
           3
          ],
          [
           16
          ]
         ],
         "hovertemplate": "<b>%{hovertext}</b><br><br>common_name=Indigo Bunting<br>latitude=%{lat}<br>longitude=%{lon}<br>length_seconds=%{customdata[0]}<extra></extra>",
         "hovertext": [
          "Indigo Bunting",
          "Indigo Bunting",
          "Indigo Bunting",
          "Indigo Bunting",
          "Indigo Bunting",
          "Indigo Bunting"
         ],
         "lat": [
          39.1318,
          39.017,
          39.017,
          39.017,
          41.8778,
          41.93338
         ],
         "legendgroup": "Indigo Bunting",
         "lon": [
          -84.7992,
          -84.1259,
          -84.1259,
          -84.1259,
          -83.6853,
          -83.54994
         ],
         "marker": {
          "color": "#FFA15A"
         },
         "mode": "markers",
         "name": "Indigo Bunting",
         "showlegend": true,
         "subplot": "mapbox",
         "type": "scattermapbox"
        },
        {
         "customdata": [
          [
           28
          ],
          [
           76
          ],
          [
           76
          ],
          [
           121
          ],
          [
           14
          ]
         ],
         "hovertemplate": "<b>%{hovertext}</b><br><br>common_name=Soundscape<br>latitude=%{lat}<br>longitude=%{lon}<br>length_seconds=%{customdata[0]}<extra></extra>",
         "hovertext": [
          "Soundscape",
          "Soundscape",
          "Soundscape",
          "Soundscape",
          "Soundscape"
         ],
         "lat": [
          41.433,
          41.63,
          40.5652,
          38.8349,
          41.6802
         ],
         "legendgroup": "Soundscape",
         "lon": [
          -81.418,
          -83.1942,
          -83.6255,
          -82.2605,
          -83.3519
         ],
         "marker": {
          "color": "#19d3f3"
         },
         "mode": "markers",
         "name": "Soundscape",
         "showlegend": true,
         "subplot": "mapbox",
         "type": "scattermapbox"
        }
       ],
       "layout": {
        "height": 800,
        "legend": {
         "title": {
          "text": "Bird Species"
         },
         "tracegroupgap": 0,
         "x": 0.01,
         "xanchor": "left",
         "y": 0.99,
         "yanchor": "top"
        },
        "mapbox": {
         "center": {
          "lat": 40.4173,
          "lon": -82.9071
         },
         "domain": {
          "x": [
           0,
           1
          ],
          "y": [
           0,
           1
          ]
         },
         "style": "open-street-map",
         "zoom": 7
        },
        "margin": {
         "b": 0,
         "l": 0,
         "r": 0,
         "t": 50
        },
        "template": {
         "data": {
          "bar": [
           {
            "error_x": {
             "color": "#2a3f5f"
            },
            "error_y": {
             "color": "#2a3f5f"
            },
            "marker": {
             "line": {
              "color": "#E5ECF6",
              "width": 0.5
             },
             "pattern": {
              "fillmode": "overlay",
              "size": 10,
              "solidity": 0.2
             }
            },
            "type": "bar"
           }
          ],
          "barpolar": [
           {
            "marker": {
             "line": {
              "color": "#E5ECF6",
              "width": 0.5
             },
             "pattern": {
              "fillmode": "overlay",
              "size": 10,
              "solidity": 0.2
             }
            },
            "type": "barpolar"
           }
          ],
          "carpet": [
           {
            "aaxis": {
             "endlinecolor": "#2a3f5f",
             "gridcolor": "white",
             "linecolor": "white",
             "minorgridcolor": "white",
             "startlinecolor": "#2a3f5f"
            },
            "baxis": {
             "endlinecolor": "#2a3f5f",
             "gridcolor": "white",
             "linecolor": "white",
             "minorgridcolor": "white",
             "startlinecolor": "#2a3f5f"
            },
            "type": "carpet"
           }
          ],
          "choropleth": [
           {
            "colorbar": {
             "outlinewidth": 0,
             "ticks": ""
            },
            "type": "choropleth"
           }
          ],
          "contour": [
           {
            "colorbar": {
             "outlinewidth": 0,
             "ticks": ""
            },
            "colorscale": [
             [
              0,
              "#0d0887"
             ],
             [
              0.1111111111111111,
              "#46039f"
             ],
             [
              0.2222222222222222,
              "#7201a8"
             ],
             [
              0.3333333333333333,
              "#9c179e"
             ],
             [
              0.4444444444444444,
              "#bd3786"
             ],
             [
              0.5555555555555556,
              "#d8576b"
             ],
             [
              0.6666666666666666,
              "#ed7953"
             ],
             [
              0.7777777777777778,
              "#fb9f3a"
             ],
             [
              0.8888888888888888,
              "#fdca26"
             ],
             [
              1,
              "#f0f921"
             ]
            ],
            "type": "contour"
           }
          ],
          "contourcarpet": [
           {
            "colorbar": {
             "outlinewidth": 0,
             "ticks": ""
            },
            "type": "contourcarpet"
           }
          ],
          "heatmap": [
           {
            "colorbar": {
             "outlinewidth": 0,
             "ticks": ""
            },
            "colorscale": [
             [
              0,
              "#0d0887"
             ],
             [
              0.1111111111111111,
              "#46039f"
             ],
             [
              0.2222222222222222,
              "#7201a8"
             ],
             [
              0.3333333333333333,
              "#9c179e"
             ],
             [
              0.4444444444444444,
              "#bd3786"
             ],
             [
              0.5555555555555556,
              "#d8576b"
             ],
             [
              0.6666666666666666,
              "#ed7953"
             ],
             [
              0.7777777777777778,
              "#fb9f3a"
             ],
             [
              0.8888888888888888,
              "#fdca26"
             ],
             [
              1,
              "#f0f921"
             ]
            ],
            "type": "heatmap"
           }
          ],
          "heatmapgl": [
           {
            "colorbar": {
             "outlinewidth": 0,
             "ticks": ""
            },
            "colorscale": [
             [
              0,
              "#0d0887"
             ],
             [
              0.1111111111111111,
              "#46039f"
             ],
             [
              0.2222222222222222,
              "#7201a8"
             ],
             [
              0.3333333333333333,
              "#9c179e"
             ],
             [
              0.4444444444444444,
              "#bd3786"
             ],
             [
              0.5555555555555556,
              "#d8576b"
             ],
             [
              0.6666666666666666,
              "#ed7953"
             ],
             [
              0.7777777777777778,
              "#fb9f3a"
             ],
             [
              0.8888888888888888,
              "#fdca26"
             ],
             [
              1,
              "#f0f921"
             ]
            ],
            "type": "heatmapgl"
           }
          ],
          "histogram": [
           {
            "marker": {
             "pattern": {
              "fillmode": "overlay",
              "size": 10,
              "solidity": 0.2
             }
            },
            "type": "histogram"
           }
          ],
          "histogram2d": [
           {
            "colorbar": {
             "outlinewidth": 0,
             "ticks": ""
            },
            "colorscale": [
             [
              0,
              "#0d0887"
             ],
             [
              0.1111111111111111,
              "#46039f"
             ],
             [
              0.2222222222222222,
              "#7201a8"
             ],
             [
              0.3333333333333333,
              "#9c179e"
             ],
             [
              0.4444444444444444,
              "#bd3786"
             ],
             [
              0.5555555555555556,
              "#d8576b"
             ],
             [
              0.6666666666666666,
              "#ed7953"
             ],
             [
              0.7777777777777778,
              "#fb9f3a"
             ],
             [
              0.8888888888888888,
              "#fdca26"
             ],
             [
              1,
              "#f0f921"
             ]
            ],
            "type": "histogram2d"
           }
          ],
          "histogram2dcontour": [
           {
            "colorbar": {
             "outlinewidth": 0,
             "ticks": ""
            },
            "colorscale": [
             [
              0,
              "#0d0887"
             ],
             [
              0.1111111111111111,
              "#46039f"
             ],
             [
              0.2222222222222222,
              "#7201a8"
             ],
             [
              0.3333333333333333,
              "#9c179e"
             ],
             [
              0.4444444444444444,
              "#bd3786"
             ],
             [
              0.5555555555555556,
              "#d8576b"
             ],
             [
              0.6666666666666666,
              "#ed7953"
             ],
             [
              0.7777777777777778,
              "#fb9f3a"
             ],
             [
              0.8888888888888888,
              "#fdca26"
             ],
             [
              1,
              "#f0f921"
             ]
            ],
            "type": "histogram2dcontour"
           }
          ],
          "mesh3d": [
           {
            "colorbar": {
             "outlinewidth": 0,
             "ticks": ""
            },
            "type": "mesh3d"
           }
          ],
          "parcoords": [
           {
            "line": {
             "colorbar": {
              "outlinewidth": 0,
              "ticks": ""
             }
            },
            "type": "parcoords"
           }
          ],
          "pie": [
           {
            "automargin": true,
            "type": "pie"
           }
          ],
          "scatter": [
           {
            "fillpattern": {
             "fillmode": "overlay",
             "size": 10,
             "solidity": 0.2
            },
            "type": "scatter"
           }
          ],
          "scatter3d": [
           {
            "line": {
             "colorbar": {
              "outlinewidth": 0,
              "ticks": ""
             }
            },
            "marker": {
             "colorbar": {
              "outlinewidth": 0,
              "ticks": ""
             }
            },
            "type": "scatter3d"
           }
          ],
          "scattercarpet": [
           {
            "marker": {
             "colorbar": {
              "outlinewidth": 0,
              "ticks": ""
             }
            },
            "type": "scattercarpet"
           }
          ],
          "scattergeo": [
           {
            "marker": {
             "colorbar": {
              "outlinewidth": 0,
              "ticks": ""
             }
            },
            "type": "scattergeo"
           }
          ],
          "scattergl": [
           {
            "marker": {
             "colorbar": {
              "outlinewidth": 0,
              "ticks": ""
             }
            },
            "type": "scattergl"
           }
          ],
          "scattermapbox": [
           {
            "marker": {
             "colorbar": {
              "outlinewidth": 0,
              "ticks": ""
             }
            },
            "type": "scattermapbox"
           }
          ],
          "scatterpolar": [
           {
            "marker": {
             "colorbar": {
              "outlinewidth": 0,
              "ticks": ""
             }
            },
            "type": "scatterpolar"
           }
          ],
          "scatterpolargl": [
           {
            "marker": {
             "colorbar": {
              "outlinewidth": 0,
              "ticks": ""
             }
            },
            "type": "scatterpolargl"
           }
          ],
          "scatterternary": [
           {
            "marker": {
             "colorbar": {
              "outlinewidth": 0,
              "ticks": ""
             }
            },
            "type": "scatterternary"
           }
          ],
          "surface": [
           {
            "colorbar": {
             "outlinewidth": 0,
             "ticks": ""
            },
            "colorscale": [
             [
              0,
              "#0d0887"
             ],
             [
              0.1111111111111111,
              "#46039f"
             ],
             [
              0.2222222222222222,
              "#7201a8"
             ],
             [
              0.3333333333333333,
              "#9c179e"
             ],
             [
              0.4444444444444444,
              "#bd3786"
             ],
             [
              0.5555555555555556,
              "#d8576b"
             ],
             [
              0.6666666666666666,
              "#ed7953"
             ],
             [
              0.7777777777777778,
              "#fb9f3a"
             ],
             [
              0.8888888888888888,
              "#fdca26"
             ],
             [
              1,
              "#f0f921"
             ]
            ],
            "type": "surface"
           }
          ],
          "table": [
           {
            "cells": {
             "fill": {
              "color": "#EBF0F8"
             },
             "line": {
              "color": "white"
             }
            },
            "header": {
             "fill": {
              "color": "#C8D4E3"
             },
             "line": {
              "color": "white"
             }
            },
            "type": "table"
           }
          ]
         },
         "layout": {
          "annotationdefaults": {
           "arrowcolor": "#2a3f5f",
           "arrowhead": 0,
           "arrowwidth": 1
          },
          "autotypenumbers": "strict",
          "coloraxis": {
           "colorbar": {
            "outlinewidth": 0,
            "ticks": ""
           }
          },
          "colorscale": {
           "diverging": [
            [
             0,
             "#8e0152"
            ],
            [
             0.1,
             "#c51b7d"
            ],
            [
             0.2,
             "#de77ae"
            ],
            [
             0.3,
             "#f1b6da"
            ],
            [
             0.4,
             "#fde0ef"
            ],
            [
             0.5,
             "#f7f7f7"
            ],
            [
             0.6,
             "#e6f5d0"
            ],
            [
             0.7,
             "#b8e186"
            ],
            [
             0.8,
             "#7fbc41"
            ],
            [
             0.9,
             "#4d9221"
            ],
            [
             1,
             "#276419"
            ]
           ],
           "sequential": [
            [
             0,
             "#0d0887"
            ],
            [
             0.1111111111111111,
             "#46039f"
            ],
            [
             0.2222222222222222,
             "#7201a8"
            ],
            [
             0.3333333333333333,
             "#9c179e"
            ],
            [
             0.4444444444444444,
             "#bd3786"
            ],
            [
             0.5555555555555556,
             "#d8576b"
            ],
            [
             0.6666666666666666,
             "#ed7953"
            ],
            [
             0.7777777777777778,
             "#fb9f3a"
            ],
            [
             0.8888888888888888,
             "#fdca26"
            ],
            [
             1,
             "#f0f921"
            ]
           ],
           "sequentialminus": [
            [
             0,
             "#0d0887"
            ],
            [
             0.1111111111111111,
             "#46039f"
            ],
            [
             0.2222222222222222,
             "#7201a8"
            ],
            [
             0.3333333333333333,
             "#9c179e"
            ],
            [
             0.4444444444444444,
             "#bd3786"
            ],
            [
             0.5555555555555556,
             "#d8576b"
            ],
            [
             0.6666666666666666,
             "#ed7953"
            ],
            [
             0.7777777777777778,
             "#fb9f3a"
            ],
            [
             0.8888888888888888,
             "#fdca26"
            ],
            [
             1,
             "#f0f921"
            ]
           ]
          },
          "colorway": [
           "#636efa",
           "#EF553B",
           "#00cc96",
           "#ab63fa",
           "#FFA15A",
           "#19d3f3",
           "#FF6692",
           "#B6E880",
           "#FF97FF",
           "#FECB52"
          ],
          "font": {
           "color": "#2a3f5f"
          },
          "geo": {
           "bgcolor": "white",
           "lakecolor": "white",
           "landcolor": "#E5ECF6",
           "showlakes": true,
           "showland": true,
           "subunitcolor": "white"
          },
          "hoverlabel": {
           "align": "left"
          },
          "hovermode": "closest",
          "mapbox": {
           "style": "light"
          },
          "paper_bgcolor": "white",
          "plot_bgcolor": "#E5ECF6",
          "polar": {
           "angularaxis": {
            "gridcolor": "white",
            "linecolor": "white",
            "ticks": ""
           },
           "bgcolor": "#E5ECF6",
           "radialaxis": {
            "gridcolor": "white",
            "linecolor": "white",
            "ticks": ""
           }
          },
          "scene": {
           "xaxis": {
            "backgroundcolor": "#E5ECF6",
            "gridcolor": "white",
            "gridwidth": 2,
            "linecolor": "white",
            "showbackground": true,
            "ticks": "",
            "zerolinecolor": "white"
           },
           "yaxis": {
            "backgroundcolor": "#E5ECF6",
            "gridcolor": "white",
            "gridwidth": 2,
            "linecolor": "white",
            "showbackground": true,
            "ticks": "",
            "zerolinecolor": "white"
           },
           "zaxis": {
            "backgroundcolor": "#E5ECF6",
            "gridcolor": "white",
            "gridwidth": 2,
            "linecolor": "white",
            "showbackground": true,
            "ticks": "",
            "zerolinecolor": "white"
           }
          },
          "shapedefaults": {
           "line": {
            "color": "#2a3f5f"
           }
          },
          "ternary": {
           "aaxis": {
            "gridcolor": "white",
            "linecolor": "white",
            "ticks": ""
           },
           "baxis": {
            "gridcolor": "white",
            "linecolor": "white",
            "ticks": ""
           },
           "bgcolor": "#E5ECF6",
           "caxis": {
            "gridcolor": "white",
            "linecolor": "white",
            "ticks": ""
           }
          },
          "title": {
           "x": 0.05
          },
          "xaxis": {
           "automargin": true,
           "gridcolor": "white",
           "linecolor": "white",
           "ticks": "",
           "title": {
            "standoff": 15
           },
           "zerolinecolor": "white",
           "zerolinewidth": 2
          },
          "yaxis": {
           "automargin": true,
           "gridcolor": "white",
           "linecolor": "white",
           "ticks": "",
           "title": {
            "standoff": 15
           },
           "zerolinecolor": "white",
           "zerolinewidth": 2
          }
         }
        },
        "title": {
         "font": {
          "size": 24
         },
         "text": "Bird Recording Locations in Ohio",
         "x": 0.5,
         "xanchor": "center",
         "y": 0.98,
         "yanchor": "top"
        },
        "width": 1000
       }
      }
     },
     "metadata": {},
     "output_type": "display_data"
    }
   ],
   "source": [
    "# Create the map\n",
    "fig = px.scatter_mapbox(data, \n",
    "                        lat='latitude', \n",
    "                        lon='longitude', \n",
    "                        hover_name='common_name', \n",
    "                        hover_data=['length_seconds'],  # Additional info for hover\n",
    "                        color='common_name',  # Color points by bird species\n",
    "                        zoom=7,  # Adjust zoom level to fit Ohio\n",
    "                        height=800,\n",
    "                        width=1000,\n",
    "                        title='Bird Recording Locations in Ohio')\n",
    "\n",
    "# Update the map layout\n",
    "fig.update_layout(\n",
    "    mapbox_style=\"open-street-map\",\n",
    "    mapbox_center={\"lat\": 40.4173, \"lon\": -82.9071},  # Center of Ohio\n",
    "    margin={\"r\":0,\"t\":50,\"l\":0,\"b\":0},\n",
    "    title={\n",
    "        'text': \"Bird Recording Locations in Ohio\",\n",
    "        'y':0.98,\n",
    "        'x':0.5,\n",
    "        'xanchor': 'center',\n",
    "        'yanchor': 'top',\n",
    "        'font': dict(size=24)\n",
    "    },\n",
    "    legend_title_text='Bird Species',\n",
    "    legend=dict(\n",
    "        yanchor=\"top\",\n",
    "        y=0.99,\n",
    "        xanchor=\"left\",\n",
    "        x=0.01\n",
    "    )\n",
    ")\n",
    "\n",
    "# Show the map\n",
    "\n",
    "fig.show()"
   ]
  },
  {
   "cell_type": "markdown",
   "metadata": {},
   "source": [
    "# Drop Uninformative columns and columns that have been processed"
   ]
  },
  {
   "cell_type": "code",
   "execution_count": 23,
   "metadata": {},
   "outputs": [
    {
     "name": "stdout",
     "output_type": "stream",
     "text": [
      "<class 'pandas.core.frame.DataFrame'>\n",
      "Index: 692 entries, 0 to 691\n",
      "Data columns (total 10 columns):\n",
      " #   Column           Non-Null Count  Dtype  \n",
      "---  ------           --------------  -----  \n",
      " 0   genus            692 non-null    object \n",
      " 1   species          692 non-null    object \n",
      " 2   latitude         692 non-null    float64\n",
      " 3   longitude        692 non-null    float64\n",
      " 4   quality          692 non-null    object \n",
      " 5   file_name        692 non-null    object \n",
      " 6   simplified_type  692 non-null    object \n",
      " 7   season           692 non-null    object \n",
      " 8   time_of_day      692 non-null    object \n",
      " 9   length_seconds   692 non-null    int64  \n",
      "dtypes: float64(2), int64(1), object(7)\n",
      "memory usage: 59.5+ KB\n"
     ]
    }
   ],
   "source": [
    "preprocessed_data = data.drop(columns=['id', 'common_name','sex', 'date','time','length','remarks','also','stage','type'])\n",
    "\n",
    "preprocessed_data.info()"
   ]
  },
  {
   "cell_type": "code",
   "execution_count": 24,
   "metadata": {},
   "outputs": [
    {
     "data": {
      "text/plain": [
       "file_name\n",
       "Branta_canadensis_Whitewater_Township_near__Harrison_Hamilton_County_Ohio_726750.mp3                 1\n",
       "Molothrus_ater_Lawrence_Woods_SNP_417996.mp3                                                         1\n",
       "Agelaius_phoeniceus_Crosby_Township_near__Harrison_Hamilton_County_Ohio_482675.mp3                   1\n",
       "Agelaius_phoeniceus_Case_Farm_Gates_Mills_Ohio_98722.mp3                                             1\n",
       "Agelaius_phoeniceus_Ohio_Crane_Creek_SP_17011.mp3                                                    1\n",
       "                                                                                                    ..\n",
       "Tachycineta_bicolor_Pelee_Shuttle_Stop_near__Leamington_Essex_County_Ontario_477045.mp3              1\n",
       "Tachycineta_bicolor_Ohio_Crane_Creek_SP_17046.mp3                                                    1\n",
       "Progne_subis_Vermilion_River_Reservation:_Mill_Hollow_near__Vermilion_Erie_County_Ohio_784046.mp3    1\n",
       "Progne_subis_Ottawa_NWR_Lucas_County_Ohio_803616.mp3                                                 1\n",
       "Sonus_naturalis_Maumee_Bay_State_Park_Lucas_County_Ohio_821133.mp3                                   1\n",
       "Name: count, Length: 692, dtype: int64"
      ]
     },
     "execution_count": 24,
     "metadata": {},
     "output_type": "execute_result"
    }
   ],
   "source": [
    "preprocessed_data['file_name'].value_counts()"
   ]
  },
  {
   "cell_type": "code",
   "execution_count": 25,
   "metadata": {},
   "outputs": [],
   "source": [
    "preprocessed_data.to_csv(\"preprocessed_data.csv\",index=False)"
   ]
  }
 ],
 "metadata": {
  "kernelspec": {
   "display_name": "dev",
   "language": "python",
   "name": "python3"
  },
  "language_info": {
   "codemirror_mode": {
    "name": "ipython",
    "version": 3
   },
   "file_extension": ".py",
   "mimetype": "text/x-python",
   "name": "python",
   "nbconvert_exporter": "python",
   "pygments_lexer": "ipython3",
   "version": "3.10.14"
  }
 },
 "nbformat": 4,
 "nbformat_minor": 2
}
